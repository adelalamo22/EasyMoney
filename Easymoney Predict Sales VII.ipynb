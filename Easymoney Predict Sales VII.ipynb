{
 "cells": [
  {
   "cell_type": "code",
   "execution_count": 1,
   "metadata": {
    "ExecuteTime": {
     "end_time": "2020-09-12T14:42:43.707185Z",
     "start_time": "2020-09-12T14:42:29.202490Z"
    }
   },
   "outputs": [],
   "source": [
    "import numpy as np \n",
    "import pandas as pd\n",
    "import calendar\n",
    "import matplotlib.pyplot as plt\n",
    "import seaborn as sns\n",
    "import squarify\n",
    "import gc\n",
    "import matplotlib\n",
    "import matplotlib.pyplot as plt\n",
    "import seaborn as sns\n",
    "import plotly.express as px\n",
    "\n",
    "import time\n",
    "import datetime\n",
    "from datetime import datetime\n",
    "import calendar\n",
    "\n",
    "from sklearn import model_selection # model assesment and model selection strategies\n",
    "from sklearn import metrics # model evaluation metrics\n",
    "from sklearn.tree import DecisionTreeClassifier, plot_tree\n",
    "from sklearn.tree import export_graphviz\n",
    "import graphviz\n",
    "from sklearn.preprocessing import LabelEncoder,MinMaxScaler, StandardScaler\n",
    "from sklearn.model_selection import train_test_split\n",
    "from sklearn import tree\n",
    "from sklearn.ensemble import RandomForestClassifier\n",
    "import xgboost as xgb\n",
    "from sklearn.metrics import confusion_matrix\n",
    "\n",
    "\n",
    "sns.set_style('white')\n",
    "\n",
    "pd.options.display.float_format = '{:,.2f}'.format"
   ]
  },
  {
   "cell_type": "code",
   "execution_count": 2,
   "metadata": {
    "ExecuteTime": {
     "end_time": "2020-09-12T14:42:43.728180Z",
     "start_time": "2020-09-12T14:42:43.714187Z"
    }
   },
   "outputs": [],
   "source": [
    "# reduces the memory of a dataframe\n",
    "def reduce_mem_usage(df, verbose = True):\n",
    "    \n",
    "    '''\n",
    "    Reduces the space that a DataFrame occupies in memory.\n",
    "\n",
    "    This function iterates over all columns in a df and downcasts them to lower type to save memory.\n",
    "    '''\n",
    "    \n",
    "    numerics = ['int16', 'int32', 'int64', 'float16', 'float32', 'float64']\n",
    "    start_mem = df.memory_usage().sum() / 1024**2    \n",
    "    for col in df.columns:\n",
    "        col_type = df[col].dtypes\n",
    "        if col_type in numerics:\n",
    "            c_min = df[col].min()\n",
    "            c_max = df[col].max()\n",
    "            if str(col_type)[:3] == 'int':\n",
    "                if c_min > np.iinfo(np.int8).min and c_max < np.iinfo(np.int8).max:\n",
    "                    df[col] = df[col].astype(np.int8)\n",
    "                elif c_min > np.iinfo(np.int16).min and c_max < np.iinfo(np.int16).max:\n",
    "                    df[col] = df[col].astype(np.int16)\n",
    "                elif c_min > np.iinfo(np.int32).min and c_max < np.iinfo(np.int32).max:\n",
    "                    df[col] = df[col].astype(np.int32)\n",
    "                elif c_min > np.iinfo(np.int64).min and c_max < np.iinfo(np.int64).max:\n",
    "                    df[col] = df[col].astype(np.int64)  \n",
    "            else:\n",
    "                if c_min > np.finfo(np.float16).min and c_max < np.finfo(np.float16).max:\n",
    "                    df[col] = df[col].astype(np.float16)\n",
    "                elif c_min > np.finfo(np.float32).min and c_max < np.finfo(np.float32).max:\n",
    "                    df[col] = df[col].astype(np.float32)\n",
    "                else:\n",
    "                    df[col] = df[col].astype(np.float64)    \n",
    "    end_mem = df.memory_usage().sum() / 1024**2\n",
    "    if verbose:\n",
    "        print('Mem. usage decreased to {:5.2f} Mb ({:.1f}% reduction)'\\\n",
    "              .format(end_mem, 100 * (start_mem - end_mem) / start_mem))"
   ]
  },
  {
   "cell_type": "markdown",
   "metadata": {},
   "source": [
    "# Cargamos el dataset Base:"
   ]
  },
  {
   "cell_type": "code",
   "execution_count": 3,
   "metadata": {
    "ExecuteTime": {
     "end_time": "2020-09-12T14:44:54.076619Z",
     "start_time": "2020-09-12T14:42:43.736174Z"
    }
   },
   "outputs": [],
   "source": [
    "df_sorted = pd.read_pickle('../Datos-Easymoney/EasyMoney_base.pkl',compression='zip')"
   ]
  },
  {
   "cell_type": "code",
   "execution_count": 4,
   "metadata": {
    "ExecuteTime": {
     "end_time": "2020-09-12T14:45:35.839795Z",
     "start_time": "2020-09-12T14:45:32.879503Z"
    }
   },
   "outputs": [
    {
     "data": {
      "text/plain": [
       "0"
      ]
     },
     "execution_count": 4,
     "metadata": {},
     "output_type": "execute_result"
    }
   ],
   "source": [
    "df_sorted.isnull().sum().sum()"
   ]
  },
  {
   "cell_type": "code",
   "execution_count": 5,
   "metadata": {
    "ExecuteTime": {
     "end_time": "2020-09-12T14:45:37.193030Z",
     "start_time": "2020-09-12T14:45:37.175027Z"
    }
   },
   "outputs": [
    {
     "name": "stdout",
     "output_type": "stream",
     "text": [
      "<class 'pandas.core.frame.DataFrame'>\n",
      "Int64Index: 5962924 entries, 0 to 5962923\n",
      "Data columns (total 59 columns):\n",
      " #   Column                  Dtype         \n",
      "---  ------                  -----         \n",
      " 0   pk_cid                  int32         \n",
      " 1   pk_partition            datetime64[ns]\n",
      " 2   short_term_deposit      int8          \n",
      " 3   loans                   int8          \n",
      " 4   mortgage                int8          \n",
      " 5   funds                   int8          \n",
      " 6   securities              int8          \n",
      " 7   long_term_deposit       int8          \n",
      " 8   em_account_pp           int8          \n",
      " 9   credit_card             int8          \n",
      " 10  payroll                 float16       \n",
      " 11  pension_plan            float16       \n",
      " 12  payroll_account         int8          \n",
      " 13  emc_account             int8          \n",
      " 14  debit_card              int8          \n",
      " 15  em_account_p            int8          \n",
      " 16  em_acount               int8          \n",
      " 17  entry_date              datetime64[ns]\n",
      " 18  entry_channel           object        \n",
      " 19  active_customer         float16       \n",
      " 20  segment                 object        \n",
      " 21  country_id              object        \n",
      " 22  region_code             float16       \n",
      " 23  gender                  object        \n",
      " 24  age                     int8          \n",
      " 25  deceased                object        \n",
      " 26  salary                  float32       \n",
      " 27  dif_debit_card          float16       \n",
      " 28  dif_em_account_p        float16       \n",
      " 29  dif_em_account_pp       float16       \n",
      " 30  dif_em_acount           float16       \n",
      " 31  dif_emc_account         float16       \n",
      " 32  dif_payroll             float16       \n",
      " 33  dif_payroll_account     float16       \n",
      " 34  dif_funds               float16       \n",
      " 35  dif_long_term_deposit   float16       \n",
      " 36  dif_mortgage            float16       \n",
      " 37  dif_pension_plan        float16       \n",
      " 38  dif_securities          float16       \n",
      " 39  dif_short_term_deposit  float16       \n",
      " 40  dif_loans               float16       \n",
      " 41  dif_credit_card         float16       \n",
      " 42  mesesAlta               float16       \n",
      " 43  isNewClient             int8          \n",
      " 44  isActive                int8          \n",
      " 45  Provincia               object        \n",
      " 46  SalaryQtil              object        \n",
      " 47  totalAssets             float16       \n",
      " 48  totalCuentas            float16       \n",
      " 49  totalAhorro             float16       \n",
      " 50  totalFinanciacion       int8          \n",
      " 51  totalIngresos           float64       \n",
      " 52  totalBeneficio          float64       \n",
      " 53  hayAlta                 int64         \n",
      " 54  diasDesdeUltimaAlta     object        \n",
      " 55  diasDesdeUltimaAltaInt  int64         \n",
      " 56  hayBaja                 int64         \n",
      " 57  diasDesdeUltimaBaja     object        \n",
      " 58  diasDesdeUltimaBajaInt  int64         \n",
      "dtypes: datetime64[ns](2), float16(23), float32(1), float64(2), int32(1), int64(4), int8(17), object(9)\n",
      "memory usage: 1.2+ GB\n"
     ]
    }
   ],
   "source": [
    "df_sorted.info()"
   ]
  },
  {
   "cell_type": "markdown",
   "metadata": {},
   "source": [
    "Vamos a generar 3 variables agurpando las latas por los tipos de productos que tenemos: "
   ]
  },
  {
   "cell_type": "markdown",
   "metadata": {},
   "source": [
    "# Variable dif_cuentaSimple:"
   ]
  },
  {
   "cell_type": "markdown",
   "metadata": {},
   "source": [
    "Si hay algun alta de alguno de los productos de cuenta simple, esta variable tendra un 1.Si no tendra un 0"
   ]
  },
  {
   "cell_type": "code",
   "execution_count": 6,
   "metadata": {
    "ExecuteTime": {
     "end_time": "2020-09-12T14:45:45.367420Z",
     "start_time": "2020-09-12T14:45:44.952660Z"
    }
   },
   "outputs": [],
   "source": [
    "df_sorted.loc[ (df_sorted['dif_debit_card']==1) | \n",
    "               (df_sorted['dif_em_account_p']==1) |\n",
    "               (df_sorted['dif_em_account_pp']==1) |\n",
    "               (df_sorted['dif_em_acount']==1) |\n",
    "               (df_sorted['dif_emc_account']==1) |\n",
    "               (df_sorted['dif_payroll']==1) |\n",
    "               (df_sorted['dif_payroll_account']==1), 'dif_cuentaSimple']=1"
   ]
  },
  {
   "cell_type": "markdown",
   "metadata": {},
   "source": [
    "# Variable dif_ahorroInversion:"
   ]
  },
  {
   "cell_type": "markdown",
   "metadata": {
    "ExecuteTime": {
     "end_time": "2020-09-12T14:46:05.048266Z",
     "start_time": "2020-09-12T14:46:05.043250Z"
    }
   },
   "source": [
    "Si hay algun alta de alguno de los productos de ahorro/inversion, esta variable tendra un 1.Si no tendra un 0"
   ]
  },
  {
   "cell_type": "code",
   "execution_count": 8,
   "metadata": {
    "ExecuteTime": {
     "end_time": "2020-09-12T14:46:13.802868Z",
     "start_time": "2020-09-12T14:46:13.380111Z"
    }
   },
   "outputs": [],
   "source": [
    "df_sorted.loc[ (df_sorted['dif_funds']==1) | \n",
    "               (df_sorted['dif_long_term_deposit']==1) |\n",
    "               (df_sorted['dif_mortgage']==1) |\n",
    "               (df_sorted['dif_pension_plan']==1) |\n",
    "               (df_sorted['dif_securities']==1) |\n",
    "               (df_sorted['short_term_deposit']==1) , 'dif_ahorroInversion']=1"
   ]
  },
  {
   "cell_type": "markdown",
   "metadata": {},
   "source": [
    "# Variable dif_financiacion:"
   ]
  },
  {
   "cell_type": "markdown",
   "metadata": {
    "ExecuteTime": {
     "end_time": "2020-09-12T14:46:32.929242Z",
     "start_time": "2020-09-12T14:46:32.925261Z"
    }
   },
   "source": [
    "Si hay algun alta de alguno de los productos de financiacion, esta variable tendra un 1.Si no tendra un 0"
   ]
  },
  {
   "cell_type": "code",
   "execution_count": 10,
   "metadata": {
    "ExecuteTime": {
     "end_time": "2020-09-12T14:46:41.258040Z",
     "start_time": "2020-09-12T14:46:40.884256Z"
    }
   },
   "outputs": [],
   "source": [
    "df_sorted.loc[ (df_sorted['loans']==1) | \n",
    "               (df_sorted['dif_credit_card']==1)  , 'dif_financiacion']=1"
   ]
  },
  {
   "cell_type": "markdown",
   "metadata": {},
   "source": [
    "# Fill nans"
   ]
  },
  {
   "cell_type": "markdown",
   "metadata": {},
   "source": [
    "Rellenamos los nulos que se nos han generado en las tres nueva variables y los reemplazamos por 0."
   ]
  },
  {
   "cell_type": "code",
   "execution_count": 11,
   "metadata": {
    "ExecuteTime": {
     "end_time": "2020-09-12T14:47:11.105402Z",
     "start_time": "2020-09-12T14:47:11.047432Z"
    }
   },
   "outputs": [],
   "source": [
    "df_sorted['dif_cuentaSimple'].fillna(0,inplace=True)\n",
    "df_sorted['dif_ahorroInversion'].fillna(0,inplace=True)\n",
    "df_sorted['dif_financiacion'].fillna(0,inplace=True)"
   ]
  },
  {
   "cell_type": "markdown",
   "metadata": {
    "ExecuteTime": {
     "end_time": "2020-09-12T14:48:05.620929Z",
     "start_time": "2020-09-12T14:48:05.615951Z"
    }
   },
   "source": [
    "Pintamos alguna de estas variables para ver si realmente estan funcionando bien:"
   ]
  },
  {
   "cell_type": "code",
   "execution_count": 13,
   "metadata": {
    "ExecuteTime": {
     "end_time": "2020-09-12T14:48:32.732902Z",
     "start_time": "2020-09-12T14:48:32.728905Z"
    }
   },
   "outputs": [],
   "source": [
    "#Para dif_cuentaSimple:\n",
    "cuentas_easymoney = ['dif_debit_card','dif_em_account_p','dif_em_account_pp',\n",
    "                     'dif_em_acount','dif_emc_account','dif_payroll','dif_payroll_account',\n",
    "                    'dif_cuentaSimple']"
   ]
  },
  {
   "cell_type": "code",
   "execution_count": 14,
   "metadata": {
    "ExecuteTime": {
     "end_time": "2020-09-12T14:48:34.256442Z",
     "start_time": "2020-09-12T14:48:34.229444Z"
    }
   },
   "outputs": [
    {
     "data": {
      "text/html": [
       "<div>\n",
       "<style scoped>\n",
       "    .dataframe tbody tr th:only-of-type {\n",
       "        vertical-align: middle;\n",
       "    }\n",
       "\n",
       "    .dataframe tbody tr th {\n",
       "        vertical-align: top;\n",
       "    }\n",
       "\n",
       "    .dataframe thead th {\n",
       "        text-align: right;\n",
       "    }\n",
       "</style>\n",
       "<table border=\"1\" class=\"dataframe\">\n",
       "  <thead>\n",
       "    <tr style=\"text-align: right;\">\n",
       "      <th></th>\n",
       "      <th>451204</th>\n",
       "      <th>451205</th>\n",
       "      <th>451206</th>\n",
       "      <th>451207</th>\n",
       "      <th>451208</th>\n",
       "      <th>451209</th>\n",
       "      <th>451210</th>\n",
       "      <th>451211</th>\n",
       "      <th>451212</th>\n",
       "      <th>451213</th>\n",
       "    </tr>\n",
       "  </thead>\n",
       "  <tbody>\n",
       "    <tr>\n",
       "      <th>dif_debit_card</th>\n",
       "      <td>0.00</td>\n",
       "      <td>0.00</td>\n",
       "      <td>0.00</td>\n",
       "      <td>0.00</td>\n",
       "      <td>-1.00</td>\n",
       "      <td>1.00</td>\n",
       "      <td>0.00</td>\n",
       "      <td>0.00</td>\n",
       "      <td>0.00</td>\n",
       "      <td>0.00</td>\n",
       "    </tr>\n",
       "    <tr>\n",
       "      <th>dif_em_account_p</th>\n",
       "      <td>0.00</td>\n",
       "      <td>0.00</td>\n",
       "      <td>0.00</td>\n",
       "      <td>0.00</td>\n",
       "      <td>0.00</td>\n",
       "      <td>0.00</td>\n",
       "      <td>0.00</td>\n",
       "      <td>0.00</td>\n",
       "      <td>0.00</td>\n",
       "      <td>0.00</td>\n",
       "    </tr>\n",
       "    <tr>\n",
       "      <th>dif_em_account_pp</th>\n",
       "      <td>0.00</td>\n",
       "      <td>0.00</td>\n",
       "      <td>0.00</td>\n",
       "      <td>0.00</td>\n",
       "      <td>0.00</td>\n",
       "      <td>0.00</td>\n",
       "      <td>0.00</td>\n",
       "      <td>0.00</td>\n",
       "      <td>0.00</td>\n",
       "      <td>0.00</td>\n",
       "    </tr>\n",
       "    <tr>\n",
       "      <th>dif_em_acount</th>\n",
       "      <td>0.00</td>\n",
       "      <td>-1.00</td>\n",
       "      <td>0.00</td>\n",
       "      <td>1.00</td>\n",
       "      <td>0.00</td>\n",
       "      <td>0.00</td>\n",
       "      <td>0.00</td>\n",
       "      <td>0.00</td>\n",
       "      <td>0.00</td>\n",
       "      <td>0.00</td>\n",
       "    </tr>\n",
       "    <tr>\n",
       "      <th>dif_emc_account</th>\n",
       "      <td>0.00</td>\n",
       "      <td>0.00</td>\n",
       "      <td>0.00</td>\n",
       "      <td>0.00</td>\n",
       "      <td>0.00</td>\n",
       "      <td>0.00</td>\n",
       "      <td>0.00</td>\n",
       "      <td>0.00</td>\n",
       "      <td>0.00</td>\n",
       "      <td>0.00</td>\n",
       "    </tr>\n",
       "    <tr>\n",
       "      <th>dif_payroll</th>\n",
       "      <td>0.00</td>\n",
       "      <td>0.00</td>\n",
       "      <td>0.00</td>\n",
       "      <td>0.00</td>\n",
       "      <td>0.00</td>\n",
       "      <td>0.00</td>\n",
       "      <td>0.00</td>\n",
       "      <td>0.00</td>\n",
       "      <td>0.00</td>\n",
       "      <td>0.00</td>\n",
       "    </tr>\n",
       "    <tr>\n",
       "      <th>dif_payroll_account</th>\n",
       "      <td>0.00</td>\n",
       "      <td>0.00</td>\n",
       "      <td>0.00</td>\n",
       "      <td>0.00</td>\n",
       "      <td>0.00</td>\n",
       "      <td>0.00</td>\n",
       "      <td>0.00</td>\n",
       "      <td>0.00</td>\n",
       "      <td>0.00</td>\n",
       "      <td>0.00</td>\n",
       "    </tr>\n",
       "    <tr>\n",
       "      <th>dif_cuentaSimple</th>\n",
       "      <td>0.00</td>\n",
       "      <td>0.00</td>\n",
       "      <td>0.00</td>\n",
       "      <td>1.00</td>\n",
       "      <td>0.00</td>\n",
       "      <td>1.00</td>\n",
       "      <td>0.00</td>\n",
       "      <td>0.00</td>\n",
       "      <td>0.00</td>\n",
       "      <td>0.00</td>\n",
       "    </tr>\n",
       "  </tbody>\n",
       "</table>\n",
       "</div>"
      ],
      "text/plain": [
       "                     451204  451205  451206  451207  451208  451209  451210  \\\n",
       "dif_debit_card         0.00    0.00    0.00    0.00   -1.00    1.00    0.00   \n",
       "dif_em_account_p       0.00    0.00    0.00    0.00    0.00    0.00    0.00   \n",
       "dif_em_account_pp      0.00    0.00    0.00    0.00    0.00    0.00    0.00   \n",
       "dif_em_acount          0.00   -1.00    0.00    1.00    0.00    0.00    0.00   \n",
       "dif_emc_account        0.00    0.00    0.00    0.00    0.00    0.00    0.00   \n",
       "dif_payroll            0.00    0.00    0.00    0.00    0.00    0.00    0.00   \n",
       "dif_payroll_account    0.00    0.00    0.00    0.00    0.00    0.00    0.00   \n",
       "dif_cuentaSimple       0.00    0.00    0.00    1.00    0.00    1.00    0.00   \n",
       "\n",
       "                     451211  451212  451213  \n",
       "dif_debit_card         0.00    0.00    0.00  \n",
       "dif_em_account_p       0.00    0.00    0.00  \n",
       "dif_em_account_pp      0.00    0.00    0.00  \n",
       "dif_em_acount          0.00    0.00    0.00  \n",
       "dif_emc_account        0.00    0.00    0.00  \n",
       "dif_payroll            0.00    0.00    0.00  \n",
       "dif_payroll_account    0.00    0.00    0.00  \n",
       "dif_cuentaSimple       0.00    0.00    0.00  "
      ]
     },
     "execution_count": 14,
     "metadata": {},
     "output_type": "execute_result"
    }
   ],
   "source": [
    "df_sorted[df_sorted['pk_cid']==1035440  ][cuentas_easymoney].head(10).T"
   ]
  },
  {
   "cell_type": "code",
   "execution_count": 15,
   "metadata": {
    "ExecuteTime": {
     "end_time": "2020-09-12T14:48:39.314607Z",
     "start_time": "2020-09-12T14:48:36.247368Z"
    }
   },
   "outputs": [
    {
     "data": {
      "text/plain": [
       "0"
      ]
     },
     "execution_count": 15,
     "metadata": {},
     "output_type": "execute_result"
    }
   ],
   "source": [
    "df_sorted.isnull().sum().sum()"
   ]
  },
  {
   "cell_type": "markdown",
   "metadata": {},
   "source": [
    "# Vamos a hacer el producto cartesiano para predecir\n",
    "Solo clientes activos(Con producto)"
   ]
  },
  {
   "cell_type": "code",
   "execution_count": 16,
   "metadata": {
    "ExecuteTime": {
     "end_time": "2020-09-12T14:48:40.716789Z",
     "start_time": "2020-09-12T14:48:40.711792Z"
    }
   },
   "outputs": [],
   "source": [
    "lista_fechas=['2018-01-28',\n",
    "'2018-02-28',\n",
    "'2018-03-28',\n",
    "'2018-04-28',\n",
    "'2018-05-28',\n",
    "'2018-06-28',\n",
    "'2018-07-28',\n",
    "'2018-08-28',\n",
    "'2018-09-28',\n",
    "'2018-10-28',\n",
    "'2018-11-28',\n",
    "'2018-12-28',\n",
    "'2019-01-28',\n",
    "'2019-02-28',\n",
    "'2019-03-28',\n",
    "'2019-04-28',\n",
    "'2019-05-28',             \n",
    "'2019-06-28']"
   ]
  },
  {
   "cell_type": "markdown",
   "metadata": {},
   "source": [
    "Solo vamos a predecir para los clientes activos el ultimo mes:"
   ]
  },
  {
   "cell_type": "code",
   "execution_count": 17,
   "metadata": {
    "ExecuteTime": {
     "end_time": "2020-09-12T14:49:14.404595Z",
     "start_time": "2020-09-12T14:49:14.094728Z"
    }
   },
   "outputs": [],
   "source": [
    "lista_clientes=df_sorted[(df_sorted['isActive']==1) & \n",
    "                        (df_sorted['pk_partition']=='2019-05-28')][\"pk_cid\"].unique().tolist()"
   ]
  },
  {
   "cell_type": "code",
   "execution_count": 19,
   "metadata": {
    "ExecuteTime": {
     "end_time": "2020-09-12T14:49:37.027957Z",
     "start_time": "2020-09-12T14:49:37.022960Z"
    }
   },
   "outputs": [
    {
     "data": {
      "text/plain": [
       "331588"
      ]
     },
     "execution_count": 19,
     "metadata": {},
     "output_type": "execute_result"
    }
   ],
   "source": [
    "# Tenemos 331588 clientes activos el ultimo mes:\n",
    "len(lista_clientes)"
   ]
  },
  {
   "cell_type": "code",
   "execution_count": 20,
   "metadata": {
    "ExecuteTime": {
     "end_time": "2020-09-12T14:49:40.991135Z",
     "start_time": "2020-09-12T14:49:40.748293Z"
    }
   },
   "outputs": [
    {
     "data": {
      "text/plain": [
       "5968584"
      ]
     },
     "execution_count": 20,
     "metadata": {},
     "output_type": "execute_result"
    }
   ],
   "source": [
    "cartesian_product = pd.MultiIndex.from_product([lista_fechas, lista_clientes ], names = [\"pk_partition\", \"pk_cid\"])\n",
    "len(cartesian_product)"
   ]
  },
  {
   "cell_type": "code",
   "execution_count": 21,
   "metadata": {
    "ExecuteTime": {
     "end_time": "2020-09-12T14:49:42.634190Z",
     "start_time": "2020-09-12T14:49:42.629189Z"
    }
   },
   "outputs": [
    {
     "data": {
      "text/plain": [
       "MultiIndex([('2018-01-28',   16203),\n",
       "            ('2018-01-28',   16502),\n",
       "            ('2018-01-28',   17457),\n",
       "            ('2018-01-28',   17799),\n",
       "            ('2018-01-28',   17970),\n",
       "            ('2018-01-28',   17980),\n",
       "            ('2018-01-28',   18146),\n",
       "            ('2018-01-28',   18704),\n",
       "            ('2018-01-28',   19021),\n",
       "            ('2018-01-28',   19268),\n",
       "            ...\n",
       "            ('2019-06-28', 1553390),\n",
       "            ('2019-06-28', 1553393),\n",
       "            ('2019-06-28', 1553415),\n",
       "            ('2019-06-28', 1553429),\n",
       "            ('2019-06-28', 1553436),\n",
       "            ('2019-06-28', 1553456),\n",
       "            ('2019-06-28', 1553541),\n",
       "            ('2019-06-28', 1553559),\n",
       "            ('2019-06-28', 1553565),\n",
       "            ('2019-06-28', 1553571)],\n",
       "           names=['pk_partition', 'pk_cid'], length=5968584)"
      ]
     },
     "execution_count": 21,
     "metadata": {},
     "output_type": "execute_result"
    }
   ],
   "source": [
    "cartesian_product"
   ]
  },
  {
   "cell_type": "code",
   "execution_count": 22,
   "metadata": {
    "ExecuteTime": {
     "end_time": "2020-09-12T14:49:45.731022Z",
     "start_time": "2020-09-12T14:49:45.510169Z"
    }
   },
   "outputs": [
    {
     "data": {
      "text/html": [
       "<div>\n",
       "<style scoped>\n",
       "    .dataframe tbody tr th:only-of-type {\n",
       "        vertical-align: middle;\n",
       "    }\n",
       "\n",
       "    .dataframe tbody tr th {\n",
       "        vertical-align: top;\n",
       "    }\n",
       "\n",
       "    .dataframe thead th {\n",
       "        text-align: right;\n",
       "    }\n",
       "</style>\n",
       "<table border=\"1\" class=\"dataframe\">\n",
       "  <thead>\n",
       "    <tr style=\"text-align: right;\">\n",
       "      <th></th>\n",
       "      <th>pk_partition</th>\n",
       "      <th>pk_cid</th>\n",
       "    </tr>\n",
       "  </thead>\n",
       "  <tbody>\n",
       "    <tr>\n",
       "      <th>5968579</th>\n",
       "      <td>2019-06-28</td>\n",
       "      <td>1553456</td>\n",
       "    </tr>\n",
       "    <tr>\n",
       "      <th>5968580</th>\n",
       "      <td>2019-06-28</td>\n",
       "      <td>1553541</td>\n",
       "    </tr>\n",
       "    <tr>\n",
       "      <th>5968581</th>\n",
       "      <td>2019-06-28</td>\n",
       "      <td>1553559</td>\n",
       "    </tr>\n",
       "    <tr>\n",
       "      <th>5968582</th>\n",
       "      <td>2019-06-28</td>\n",
       "      <td>1553565</td>\n",
       "    </tr>\n",
       "    <tr>\n",
       "      <th>5968583</th>\n",
       "      <td>2019-06-28</td>\n",
       "      <td>1553571</td>\n",
       "    </tr>\n",
       "  </tbody>\n",
       "</table>\n",
       "</div>"
      ],
      "text/plain": [
       "        pk_partition   pk_cid\n",
       "5968579   2019-06-28  1553456\n",
       "5968580   2019-06-28  1553541\n",
       "5968581   2019-06-28  1553559\n",
       "5968582   2019-06-28  1553565\n",
       "5968583   2019-06-28  1553571"
      ]
     },
     "execution_count": 22,
     "metadata": {},
     "output_type": "execute_result"
    }
   ],
   "source": [
    "full_df = pd.DataFrame(index = cartesian_product).reset_index()\n",
    "full_df.tail()"
   ]
  },
  {
   "cell_type": "markdown",
   "metadata": {},
   "source": [
    "Ponemos el campo pk_partition de este dataframe como de tipo fecha para poder hacer luego el Merge:"
   ]
  },
  {
   "cell_type": "code",
   "execution_count": 23,
   "metadata": {
    "ExecuteTime": {
     "end_time": "2020-09-12T14:50:24.936988Z",
     "start_time": "2020-09-12T14:50:24.352325Z"
    }
   },
   "outputs": [],
   "source": [
    "full_df['pk_partition']=pd.to_datetime(full_df['pk_partition'], format='%Y-%m-%d')"
   ]
  },
  {
   "cell_type": "code",
   "execution_count": 24,
   "metadata": {
    "ExecuteTime": {
     "end_time": "2020-09-12T14:50:26.577023Z",
     "start_time": "2020-09-12T14:50:26.403124Z"
    }
   },
   "outputs": [
    {
     "data": {
      "text/plain": [
       "pk_partition\n",
       "2018-01-28    331588\n",
       "2018-02-28    331588\n",
       "2018-03-28    331588\n",
       "2018-04-28    331588\n",
       "2018-05-28    331588\n",
       "2018-06-28    331588\n",
       "2018-07-28    331588\n",
       "2018-08-28    331588\n",
       "2018-09-28    331588\n",
       "2018-10-28    331588\n",
       "2018-11-28    331588\n",
       "2018-12-28    331588\n",
       "2019-01-28    331588\n",
       "2019-02-28    331588\n",
       "2019-03-28    331588\n",
       "2019-04-28    331588\n",
       "2019-05-28    331588\n",
       "2019-06-28    331588\n",
       "Name: pk_cid, dtype: int64"
      ]
     },
     "execution_count": 24,
     "metadata": {},
     "output_type": "execute_result"
    }
   ],
   "source": [
    "full_df.groupby('pk_partition')['pk_cid'].size()"
   ]
  },
  {
   "cell_type": "markdown",
   "metadata": {},
   "source": [
    "Hacemos el Merge de la estructura generada mediante el producto cartesiano y el dataset con los datasetos de EasyMoney"
   ]
  },
  {
   "cell_type": "code",
   "execution_count": 25,
   "metadata": {
    "ExecuteTime": {
     "end_time": "2020-09-12T14:51:32.237075Z",
     "start_time": "2020-09-12T14:51:05.984210Z"
    }
   },
   "outputs": [],
   "source": [
    "full_df = pd.merge(full_df,df_sorted , on = [\"pk_partition\", \"pk_cid\"], how = 'left')"
   ]
  },
  {
   "cell_type": "code",
   "execution_count": 26,
   "metadata": {
    "ExecuteTime": {
     "end_time": "2020-09-12T14:51:40.482332Z",
     "start_time": "2020-09-12T14:51:37.131256Z"
    }
   },
   "outputs": [
    {
     "data": {
      "text/plain": [
       "pk_partition\n",
       "2018-01-28    331588\n",
       "2018-02-28    331588\n",
       "2018-03-28    331588\n",
       "2018-04-28    331588\n",
       "2018-05-28    331588\n",
       "2018-06-28    331588\n",
       "2018-07-28    331588\n",
       "2018-08-28    331588\n",
       "2018-09-28    331588\n",
       "2018-10-28    331588\n",
       "2018-11-28    331588\n",
       "2018-12-28    331588\n",
       "2019-01-28    331588\n",
       "2019-02-28    331588\n",
       "2019-03-28    331588\n",
       "2019-04-28    331588\n",
       "2019-05-28    331588\n",
       "2019-06-28    331588\n",
       "Name: pk_cid, dtype: int64"
      ]
     },
     "execution_count": 26,
     "metadata": {},
     "output_type": "execute_result"
    }
   ],
   "source": [
    "# Vemos el dataset resultante:\n",
    "full_df.groupby('pk_partition')['pk_cid'].size()"
   ]
  },
  {
   "cell_type": "code",
   "execution_count": 27,
   "metadata": {
    "ExecuteTime": {
     "end_time": "2020-09-12T14:52:24.224264Z",
     "start_time": "2020-09-12T14:52:22.288399Z"
    }
   },
   "outputs": [
    {
     "data": {
      "text/plain": [
       "51047"
      ]
     },
     "execution_count": 27,
     "metadata": {},
     "output_type": "execute_result"
    }
   ],
   "source": [
    "# Liberamos espacio en memoria para minimizar la posibilidad de tener erroes por falta de memoria.\n",
    "del df_sorted\n",
    "gc.collect()"
   ]
  },
  {
   "cell_type": "code",
   "execution_count": 26,
   "metadata": {
    "ExecuteTime": {
     "end_time": "2020-09-09T21:47:08.594468Z",
     "start_time": "2020-09-09T21:47:08.584455Z"
    }
   },
   "outputs": [],
   "source": [
    "# Hacemos un pickel en este punto\n",
    "#full_df.to_pickle('fulldf_base.pkl',compression='zip')"
   ]
  },
  {
   "cell_type": "markdown",
   "metadata": {},
   "source": [
    "Debido al producto cartesiano se nos han generado nulos para los clientes modernos en las particiones mas antiguas.\n",
    "Podemos comprobar que en el ultimo mes con datos (2019-05-28) , no tenemos nulos ya que hay hemos cogido todos los clientes."
   ]
  },
  {
   "cell_type": "code",
   "execution_count": 29,
   "metadata": {
    "ExecuteTime": {
     "end_time": "2020-09-12T14:54:18.071340Z",
     "start_time": "2020-09-12T14:54:17.543644Z"
    }
   },
   "outputs": [
    {
     "data": {
      "text/plain": [
       "pk_partition\n",
       "2018-01-28    105082\n",
       "2018-02-28    102163\n",
       "2018-03-28     99439\n",
       "2018-04-28     97067\n",
       "2018-05-28     94559\n",
       "2018-06-28     92249\n",
       "2018-07-28     75495\n",
       "2018-08-28     64161\n",
       "2018-09-28     46426\n",
       "2018-10-28     29032\n",
       "2018-11-28     19458\n",
       "2018-12-28     15461\n",
       "2019-01-28     10911\n",
       "2019-02-28      7185\n",
       "2019-03-28      4038\n",
       "2019-04-28      1612\n",
       "2019-06-28    331588\n",
       "Name: pk_cid, dtype: int64"
      ]
     },
     "execution_count": 29,
     "metadata": {},
     "output_type": "execute_result"
    }
   ],
   "source": [
    "# Nulos debidos al producto cartesiano\n",
    "full_df[full_df['entry_date'].isnull()].groupby('pk_partition')['pk_cid'].size()"
   ]
  },
  {
   "cell_type": "code",
   "execution_count": 30,
   "metadata": {
    "ExecuteTime": {
     "end_time": "2020-09-12T14:54:45.576766Z",
     "start_time": "2020-09-12T14:54:41.350024Z"
    }
   },
   "outputs": [
    {
     "data": {
      "text/html": [
       "<div>\n",
       "<style scoped>\n",
       "    .dataframe tbody tr th:only-of-type {\n",
       "        vertical-align: middle;\n",
       "    }\n",
       "\n",
       "    .dataframe tbody tr th {\n",
       "        vertical-align: top;\n",
       "    }\n",
       "\n",
       "    .dataframe thead th {\n",
       "        text-align: right;\n",
       "    }\n",
       "</style>\n",
       "<table border=\"1\" class=\"dataframe\">\n",
       "  <thead>\n",
       "    <tr style=\"text-align: right;\">\n",
       "      <th></th>\n",
       "      <th>pk_partition</th>\n",
       "      <th>pk_cid</th>\n",
       "      <th>short_term_deposit</th>\n",
       "      <th>loans</th>\n",
       "      <th>mortgage</th>\n",
       "      <th>funds</th>\n",
       "      <th>securities</th>\n",
       "      <th>long_term_deposit</th>\n",
       "      <th>em_account_pp</th>\n",
       "      <th>credit_card</th>\n",
       "      <th>...</th>\n",
       "      <th>totalBeneficio</th>\n",
       "      <th>hayAlta</th>\n",
       "      <th>diasDesdeUltimaAlta</th>\n",
       "      <th>diasDesdeUltimaAltaInt</th>\n",
       "      <th>hayBaja</th>\n",
       "      <th>diasDesdeUltimaBaja</th>\n",
       "      <th>diasDesdeUltimaBajaInt</th>\n",
       "      <th>dif_cuentaSimple</th>\n",
       "      <th>dif_ahorroInversion</th>\n",
       "      <th>dif_financiacion</th>\n",
       "    </tr>\n",
       "  </thead>\n",
       "  <tbody>\n",
       "    <tr>\n",
       "      <th>0</th>\n",
       "      <td>2018-01-28</td>\n",
       "      <td>16203</td>\n",
       "      <td>nan</td>\n",
       "      <td>nan</td>\n",
       "      <td>nan</td>\n",
       "      <td>nan</td>\n",
       "      <td>nan</td>\n",
       "      <td>nan</td>\n",
       "      <td>nan</td>\n",
       "      <td>nan</td>\n",
       "      <td>...</td>\n",
       "      <td>nan</td>\n",
       "      <td>nan</td>\n",
       "      <td>NaN</td>\n",
       "      <td>nan</td>\n",
       "      <td>nan</td>\n",
       "      <td>NaN</td>\n",
       "      <td>nan</td>\n",
       "      <td>nan</td>\n",
       "      <td>nan</td>\n",
       "      <td>nan</td>\n",
       "    </tr>\n",
       "    <tr>\n",
       "      <th>1</th>\n",
       "      <td>2018-01-28</td>\n",
       "      <td>16502</td>\n",
       "      <td>nan</td>\n",
       "      <td>nan</td>\n",
       "      <td>nan</td>\n",
       "      <td>nan</td>\n",
       "      <td>nan</td>\n",
       "      <td>nan</td>\n",
       "      <td>nan</td>\n",
       "      <td>nan</td>\n",
       "      <td>...</td>\n",
       "      <td>nan</td>\n",
       "      <td>nan</td>\n",
       "      <td>NaN</td>\n",
       "      <td>nan</td>\n",
       "      <td>nan</td>\n",
       "      <td>NaN</td>\n",
       "      <td>nan</td>\n",
       "      <td>nan</td>\n",
       "      <td>nan</td>\n",
       "      <td>nan</td>\n",
       "    </tr>\n",
       "    <tr>\n",
       "      <th>2</th>\n",
       "      <td>2018-01-28</td>\n",
       "      <td>17457</td>\n",
       "      <td>0.00</td>\n",
       "      <td>0.00</td>\n",
       "      <td>0.00</td>\n",
       "      <td>0.00</td>\n",
       "      <td>0.00</td>\n",
       "      <td>1.00</td>\n",
       "      <td>0.00</td>\n",
       "      <td>0.00</td>\n",
       "      <td>...</td>\n",
       "      <td>90.00</td>\n",
       "      <td>0.00</td>\n",
       "      <td>1 days 00:00:00</td>\n",
       "      <td>1.00</td>\n",
       "      <td>0.00</td>\n",
       "      <td>1 days 00:00:00</td>\n",
       "      <td>1.00</td>\n",
       "      <td>0.00</td>\n",
       "      <td>0.00</td>\n",
       "      <td>0.00</td>\n",
       "    </tr>\n",
       "    <tr>\n",
       "      <th>3</th>\n",
       "      <td>2018-01-28</td>\n",
       "      <td>17799</td>\n",
       "      <td>0.00</td>\n",
       "      <td>0.00</td>\n",
       "      <td>0.00</td>\n",
       "      <td>0.00</td>\n",
       "      <td>0.00</td>\n",
       "      <td>0.00</td>\n",
       "      <td>0.00</td>\n",
       "      <td>0.00</td>\n",
       "      <td>...</td>\n",
       "      <td>10.00</td>\n",
       "      <td>1.00</td>\n",
       "      <td>0 days 00:00:00</td>\n",
       "      <td>0.00</td>\n",
       "      <td>0.00</td>\n",
       "      <td>1 days 00:00:00</td>\n",
       "      <td>1.00</td>\n",
       "      <td>1.00</td>\n",
       "      <td>0.00</td>\n",
       "      <td>0.00</td>\n",
       "    </tr>\n",
       "    <tr>\n",
       "      <th>4</th>\n",
       "      <td>2018-01-28</td>\n",
       "      <td>17970</td>\n",
       "      <td>0.00</td>\n",
       "      <td>0.00</td>\n",
       "      <td>0.00</td>\n",
       "      <td>0.00</td>\n",
       "      <td>0.00</td>\n",
       "      <td>0.00</td>\n",
       "      <td>0.00</td>\n",
       "      <td>0.00</td>\n",
       "      <td>...</td>\n",
       "      <td>50.00</td>\n",
       "      <td>0.00</td>\n",
       "      <td>1 days 00:00:00</td>\n",
       "      <td>1.00</td>\n",
       "      <td>0.00</td>\n",
       "      <td>1 days 00:00:00</td>\n",
       "      <td>1.00</td>\n",
       "      <td>0.00</td>\n",
       "      <td>0.00</td>\n",
       "      <td>0.00</td>\n",
       "    </tr>\n",
       "    <tr>\n",
       "      <th>...</th>\n",
       "      <td>...</td>\n",
       "      <td>...</td>\n",
       "      <td>...</td>\n",
       "      <td>...</td>\n",
       "      <td>...</td>\n",
       "      <td>...</td>\n",
       "      <td>...</td>\n",
       "      <td>...</td>\n",
       "      <td>...</td>\n",
       "      <td>...</td>\n",
       "      <td>...</td>\n",
       "      <td>...</td>\n",
       "      <td>...</td>\n",
       "      <td>...</td>\n",
       "      <td>...</td>\n",
       "      <td>...</td>\n",
       "      <td>...</td>\n",
       "      <td>...</td>\n",
       "      <td>...</td>\n",
       "      <td>...</td>\n",
       "      <td>...</td>\n",
       "    </tr>\n",
       "    <tr>\n",
       "      <th>5968579</th>\n",
       "      <td>2019-06-28</td>\n",
       "      <td>1553456</td>\n",
       "      <td>nan</td>\n",
       "      <td>nan</td>\n",
       "      <td>nan</td>\n",
       "      <td>nan</td>\n",
       "      <td>nan</td>\n",
       "      <td>nan</td>\n",
       "      <td>nan</td>\n",
       "      <td>nan</td>\n",
       "      <td>...</td>\n",
       "      <td>nan</td>\n",
       "      <td>nan</td>\n",
       "      <td>NaN</td>\n",
       "      <td>nan</td>\n",
       "      <td>nan</td>\n",
       "      <td>NaN</td>\n",
       "      <td>nan</td>\n",
       "      <td>nan</td>\n",
       "      <td>nan</td>\n",
       "      <td>nan</td>\n",
       "    </tr>\n",
       "    <tr>\n",
       "      <th>5968580</th>\n",
       "      <td>2019-06-28</td>\n",
       "      <td>1553541</td>\n",
       "      <td>nan</td>\n",
       "      <td>nan</td>\n",
       "      <td>nan</td>\n",
       "      <td>nan</td>\n",
       "      <td>nan</td>\n",
       "      <td>nan</td>\n",
       "      <td>nan</td>\n",
       "      <td>nan</td>\n",
       "      <td>...</td>\n",
       "      <td>nan</td>\n",
       "      <td>nan</td>\n",
       "      <td>NaN</td>\n",
       "      <td>nan</td>\n",
       "      <td>nan</td>\n",
       "      <td>NaN</td>\n",
       "      <td>nan</td>\n",
       "      <td>nan</td>\n",
       "      <td>nan</td>\n",
       "      <td>nan</td>\n",
       "    </tr>\n",
       "    <tr>\n",
       "      <th>5968581</th>\n",
       "      <td>2019-06-28</td>\n",
       "      <td>1553559</td>\n",
       "      <td>nan</td>\n",
       "      <td>nan</td>\n",
       "      <td>nan</td>\n",
       "      <td>nan</td>\n",
       "      <td>nan</td>\n",
       "      <td>nan</td>\n",
       "      <td>nan</td>\n",
       "      <td>nan</td>\n",
       "      <td>...</td>\n",
       "      <td>nan</td>\n",
       "      <td>nan</td>\n",
       "      <td>NaN</td>\n",
       "      <td>nan</td>\n",
       "      <td>nan</td>\n",
       "      <td>NaN</td>\n",
       "      <td>nan</td>\n",
       "      <td>nan</td>\n",
       "      <td>nan</td>\n",
       "      <td>nan</td>\n",
       "    </tr>\n",
       "    <tr>\n",
       "      <th>5968582</th>\n",
       "      <td>2019-06-28</td>\n",
       "      <td>1553565</td>\n",
       "      <td>nan</td>\n",
       "      <td>nan</td>\n",
       "      <td>nan</td>\n",
       "      <td>nan</td>\n",
       "      <td>nan</td>\n",
       "      <td>nan</td>\n",
       "      <td>nan</td>\n",
       "      <td>nan</td>\n",
       "      <td>...</td>\n",
       "      <td>nan</td>\n",
       "      <td>nan</td>\n",
       "      <td>NaN</td>\n",
       "      <td>nan</td>\n",
       "      <td>nan</td>\n",
       "      <td>NaN</td>\n",
       "      <td>nan</td>\n",
       "      <td>nan</td>\n",
       "      <td>nan</td>\n",
       "      <td>nan</td>\n",
       "    </tr>\n",
       "    <tr>\n",
       "      <th>5968583</th>\n",
       "      <td>2019-06-28</td>\n",
       "      <td>1553571</td>\n",
       "      <td>nan</td>\n",
       "      <td>nan</td>\n",
       "      <td>nan</td>\n",
       "      <td>nan</td>\n",
       "      <td>nan</td>\n",
       "      <td>nan</td>\n",
       "      <td>nan</td>\n",
       "      <td>nan</td>\n",
       "      <td>...</td>\n",
       "      <td>nan</td>\n",
       "      <td>nan</td>\n",
       "      <td>NaN</td>\n",
       "      <td>nan</td>\n",
       "      <td>nan</td>\n",
       "      <td>NaN</td>\n",
       "      <td>nan</td>\n",
       "      <td>nan</td>\n",
       "      <td>nan</td>\n",
       "      <td>nan</td>\n",
       "    </tr>\n",
       "  </tbody>\n",
       "</table>\n",
       "<p>5968584 rows × 62 columns</p>\n",
       "</div>"
      ],
      "text/plain": [
       "        pk_partition   pk_cid  short_term_deposit  loans  mortgage  funds  \\\n",
       "0         2018-01-28    16203                 nan    nan       nan    nan   \n",
       "1         2018-01-28    16502                 nan    nan       nan    nan   \n",
       "2         2018-01-28    17457                0.00   0.00      0.00   0.00   \n",
       "3         2018-01-28    17799                0.00   0.00      0.00   0.00   \n",
       "4         2018-01-28    17970                0.00   0.00      0.00   0.00   \n",
       "...              ...      ...                 ...    ...       ...    ...   \n",
       "5968579   2019-06-28  1553456                 nan    nan       nan    nan   \n",
       "5968580   2019-06-28  1553541                 nan    nan       nan    nan   \n",
       "5968581   2019-06-28  1553559                 nan    nan       nan    nan   \n",
       "5968582   2019-06-28  1553565                 nan    nan       nan    nan   \n",
       "5968583   2019-06-28  1553571                 nan    nan       nan    nan   \n",
       "\n",
       "         securities  long_term_deposit  em_account_pp  credit_card  ...  \\\n",
       "0               nan                nan            nan          nan  ...   \n",
       "1               nan                nan            nan          nan  ...   \n",
       "2              0.00               1.00           0.00         0.00  ...   \n",
       "3              0.00               0.00           0.00         0.00  ...   \n",
       "4              0.00               0.00           0.00         0.00  ...   \n",
       "...             ...                ...            ...          ...  ...   \n",
       "5968579         nan                nan            nan          nan  ...   \n",
       "5968580         nan                nan            nan          nan  ...   \n",
       "5968581         nan                nan            nan          nan  ...   \n",
       "5968582         nan                nan            nan          nan  ...   \n",
       "5968583         nan                nan            nan          nan  ...   \n",
       "\n",
       "         totalBeneficio  hayAlta  diasDesdeUltimaAlta  diasDesdeUltimaAltaInt  \\\n",
       "0                   nan      nan                  NaN                     nan   \n",
       "1                   nan      nan                  NaN                     nan   \n",
       "2                 90.00     0.00      1 days 00:00:00                    1.00   \n",
       "3                 10.00     1.00      0 days 00:00:00                    0.00   \n",
       "4                 50.00     0.00      1 days 00:00:00                    1.00   \n",
       "...                 ...      ...                  ...                     ...   \n",
       "5968579             nan      nan                  NaN                     nan   \n",
       "5968580             nan      nan                  NaN                     nan   \n",
       "5968581             nan      nan                  NaN                     nan   \n",
       "5968582             nan      nan                  NaN                     nan   \n",
       "5968583             nan      nan                  NaN                     nan   \n",
       "\n",
       "         hayBaja  diasDesdeUltimaBaja  diasDesdeUltimaBajaInt  \\\n",
       "0            nan                  NaN                     nan   \n",
       "1            nan                  NaN                     nan   \n",
       "2           0.00      1 days 00:00:00                    1.00   \n",
       "3           0.00      1 days 00:00:00                    1.00   \n",
       "4           0.00      1 days 00:00:00                    1.00   \n",
       "...          ...                  ...                     ...   \n",
       "5968579      nan                  NaN                     nan   \n",
       "5968580      nan                  NaN                     nan   \n",
       "5968581      nan                  NaN                     nan   \n",
       "5968582      nan                  NaN                     nan   \n",
       "5968583      nan                  NaN                     nan   \n",
       "\n",
       "        dif_cuentaSimple dif_ahorroInversion  dif_financiacion  \n",
       "0                    nan                 nan               nan  \n",
       "1                    nan                 nan               nan  \n",
       "2                   0.00                0.00              0.00  \n",
       "3                   1.00                0.00              0.00  \n",
       "4                   0.00                0.00              0.00  \n",
       "...                  ...                 ...               ...  \n",
       "5968579              nan                 nan               nan  \n",
       "5968580              nan                 nan               nan  \n",
       "5968581              nan                 nan               nan  \n",
       "5968582              nan                 nan               nan  \n",
       "5968583              nan                 nan               nan  \n",
       "\n",
       "[5968584 rows x 62 columns]"
      ]
     },
     "execution_count": 30,
     "metadata": {},
     "output_type": "execute_result"
    }
   ],
   "source": [
    "# Vemos los nulos en el dataset:\n",
    "full_df"
   ]
  },
  {
   "cell_type": "markdown",
   "metadata": {},
   "source": [
    "Borramos todos los nulos generados por el producto cartesiano, excepto en el mes futuro a predecir 2019-06-28"
   ]
  },
  {
   "cell_type": "code",
   "execution_count": 31,
   "metadata": {
    "ExecuteTime": {
     "end_time": "2020-09-12T14:55:16.744959Z",
     "start_time": "2020-09-12T14:55:13.506826Z"
    }
   },
   "outputs": [],
   "source": [
    "# Borramos todos los nulos que se generan por el producto cartesiano:\n",
    "full_df.drop (full_df[ (full_df['pk_partition']!='2019-06-28') &\n",
    "                       (full_df['entry_date'].isnull()) ].index, axis=0, inplace=True)"
   ]
  },
  {
   "cell_type": "markdown",
   "metadata": {},
   "source": [
    "Vemos que solo tenemos nulos en el mes futuro a predecir 2019-06-28:"
   ]
  },
  {
   "cell_type": "code",
   "execution_count": 32,
   "metadata": {
    "ExecuteTime": {
     "end_time": "2020-09-12T14:55:45.197766Z",
     "start_time": "2020-09-12T14:55:45.044874Z"
    }
   },
   "outputs": [
    {
     "data": {
      "text/plain": [
       "pk_partition\n",
       "2019-06-28    331588\n",
       "Name: pk_cid, dtype: int64"
      ]
     },
     "execution_count": 32,
     "metadata": {},
     "output_type": "execute_result"
    }
   ],
   "source": [
    "full_df[full_df['entry_date'].isnull()].groupby('pk_partition')['pk_cid'].size()"
   ]
  },
  {
   "cell_type": "markdown",
   "metadata": {},
   "source": [
    "Vemos como se nos distribuyen los clientes por los diversos meses:"
   ]
  },
  {
   "cell_type": "code",
   "execution_count": 33,
   "metadata": {
    "ExecuteTime": {
     "end_time": "2020-09-12T14:56:16.260760Z",
     "start_time": "2020-09-12T14:56:16.108848Z"
    }
   },
   "outputs": [
    {
     "data": {
      "text/plain": [
       "pk_partition\n",
       "2018-01-28    226506\n",
       "2018-02-28    229425\n",
       "2018-03-28    232149\n",
       "2018-04-28    234521\n",
       "2018-05-28    237029\n",
       "2018-06-28    239339\n",
       "2018-07-28    256093\n",
       "2018-08-28    267427\n",
       "2018-09-28    285162\n",
       "2018-10-28    302556\n",
       "2018-11-28    312130\n",
       "2018-12-28    316127\n",
       "2019-01-28    320677\n",
       "2019-02-28    324403\n",
       "2019-03-28    327550\n",
       "2019-04-28    329976\n",
       "2019-05-28    331588\n",
       "2019-06-28    331588\n",
       "Name: pk_cid, dtype: int64"
      ]
     },
     "execution_count": 33,
     "metadata": {},
     "output_type": "execute_result"
    }
   ],
   "source": [
    "full_df.groupby('pk_partition')['pk_cid'].size()"
   ]
  },
  {
   "cell_type": "markdown",
   "metadata": {},
   "source": [
    "Rellenamos los datos que si sabemos y podemos utilizar en el mes futuro a predecir:"
   ]
  },
  {
   "cell_type": "code",
   "execution_count": 34,
   "metadata": {
    "ExecuteTime": {
     "end_time": "2020-09-12T14:56:55.288885Z",
     "start_time": "2020-09-12T14:56:55.285906Z"
    }
   },
   "outputs": [],
   "source": [
    "# Actualizamos el mes a predecir:2019-06-28 con los valores de los clientes \n",
    "lista_actualizar=['entry_date',\n",
    " #'entry_channel',\n",
    " 'active_customer',\n",
    " #'segment',\n",
    " #'country_id',\n",
    " 'region_code',\n",
    " #'gender',\n",
    " 'age',\n",
    " #'deceased', \n",
    " #'mesesAlta',\n",
    "'salary']"
   ]
  },
  {
   "cell_type": "code",
   "execution_count": 35,
   "metadata": {
    "ExecuteTime": {
     "end_time": "2020-09-12T14:57:03.123451Z",
     "start_time": "2020-09-12T14:57:00.539940Z"
    }
   },
   "outputs": [
    {
     "name": "stdout",
     "output_type": "stream",
     "text": [
      "entry_date\n",
      "active_customer\n",
      "region_code\n",
      "age\n",
      "salary\n"
     ]
    }
   ],
   "source": [
    "# Rellenamos entry_date para el ultimo mes:\n",
    "for x in lista_actualizar:\n",
    "    print(x)\n",
    "    full_df.loc[(full_df['pk_partition']=='2019-06-28'),\n",
    "            x]=full_df[full_df['pk_partition']=='2019-06-28']['pk_cid'].map(full_df[['pk_cid',x]].groupby('pk_cid')[x].max())"
   ]
  },
  {
   "cell_type": "markdown",
   "metadata": {},
   "source": [
    "Comprobamos que solo tenemos nulos en el mes a predecir:"
   ]
  },
  {
   "cell_type": "code",
   "execution_count": 36,
   "metadata": {
    "ExecuteTime": {
     "end_time": "2020-09-12T14:57:32.864388Z",
     "start_time": "2020-09-12T14:57:29.607266Z"
    }
   },
   "outputs": [
    {
     "data": {
      "text/plain": [
       "pk_partition                   0\n",
       "pk_cid                         0\n",
       "short_term_deposit        331588\n",
       "loans                     331588\n",
       "mortgage                  331588\n",
       "                           ...  \n",
       "diasDesdeUltimaBaja       331588\n",
       "diasDesdeUltimaBajaInt    331588\n",
       "dif_cuentaSimple          331588\n",
       "dif_ahorroInversion       331588\n",
       "dif_financiacion          331588\n",
       "Length: 62, dtype: int64"
      ]
     },
     "execution_count": 36,
     "metadata": {},
     "output_type": "execute_result"
    }
   ],
   "source": [
    "# Solo tenemos nulos en el mes a predecir\n",
    "full_df.isnull().sum()"
   ]
  },
  {
   "cell_type": "markdown",
   "metadata": {},
   "source": [
    "Vemos que tenemos datos para clientes en los que no pasa nada, son todo ceros:"
   ]
  },
  {
   "cell_type": "code",
   "execution_count": 37,
   "metadata": {
    "ExecuteTime": {
     "end_time": "2020-09-12T14:58:18.653888Z",
     "start_time": "2020-09-12T14:58:16.673031Z"
    }
   },
   "outputs": [
    {
     "data": {
      "text/html": [
       "<div>\n",
       "<style scoped>\n",
       "    .dataframe tbody tr th:only-of-type {\n",
       "        vertical-align: middle;\n",
       "    }\n",
       "\n",
       "    .dataframe tbody tr th {\n",
       "        vertical-align: top;\n",
       "    }\n",
       "\n",
       "    .dataframe thead th {\n",
       "        text-align: right;\n",
       "    }\n",
       "</style>\n",
       "<table border=\"1\" class=\"dataframe\">\n",
       "  <thead>\n",
       "    <tr style=\"text-align: right;\">\n",
       "      <th></th>\n",
       "      <th>25</th>\n",
       "      <th>49</th>\n",
       "      <th>84</th>\n",
       "      <th>173</th>\n",
       "      <th>220</th>\n",
       "      <th>374</th>\n",
       "      <th>412</th>\n",
       "      <th>442</th>\n",
       "      <th>604</th>\n",
       "      <th>746</th>\n",
       "      <th>...</th>\n",
       "      <th>5303901</th>\n",
       "      <th>5303902</th>\n",
       "      <th>5303903</th>\n",
       "      <th>5303904</th>\n",
       "      <th>5303905</th>\n",
       "      <th>5303906</th>\n",
       "      <th>5303907</th>\n",
       "      <th>5303908</th>\n",
       "      <th>5303909</th>\n",
       "      <th>5303910</th>\n",
       "    </tr>\n",
       "  </thead>\n",
       "  <tbody>\n",
       "    <tr>\n",
       "      <th>pk_partition</th>\n",
       "      <td>2018-01-28 00:00:00</td>\n",
       "      <td>2018-01-28 00:00:00</td>\n",
       "      <td>2018-01-28 00:00:00</td>\n",
       "      <td>2018-01-28 00:00:00</td>\n",
       "      <td>2018-01-28 00:00:00</td>\n",
       "      <td>2018-01-28 00:00:00</td>\n",
       "      <td>2018-01-28 00:00:00</td>\n",
       "      <td>2018-01-28 00:00:00</td>\n",
       "      <td>2018-01-28 00:00:00</td>\n",
       "      <td>2018-01-28 00:00:00</td>\n",
       "      <td>...</td>\n",
       "      <td>2019-04-28 00:00:00</td>\n",
       "      <td>2019-04-28 00:00:00</td>\n",
       "      <td>2019-04-28 00:00:00</td>\n",
       "      <td>2019-04-28 00:00:00</td>\n",
       "      <td>2019-04-28 00:00:00</td>\n",
       "      <td>2019-04-28 00:00:00</td>\n",
       "      <td>2019-04-28 00:00:00</td>\n",
       "      <td>2019-04-28 00:00:00</td>\n",
       "      <td>2019-04-28 00:00:00</td>\n",
       "      <td>2019-04-28 00:00:00</td>\n",
       "    </tr>\n",
       "    <tr>\n",
       "      <th>pk_cid</th>\n",
       "      <td>25612</td>\n",
       "      <td>35849</td>\n",
       "      <td>46823</td>\n",
       "      <td>83660</td>\n",
       "      <td>102549</td>\n",
       "      <td>151516</td>\n",
       "      <td>162194</td>\n",
       "      <td>173207</td>\n",
       "      <td>220336</td>\n",
       "      <td>271773</td>\n",
       "      <td>...</td>\n",
       "      <td>1548181</td>\n",
       "      <td>1548182</td>\n",
       "      <td>1548186</td>\n",
       "      <td>1548188</td>\n",
       "      <td>1548189</td>\n",
       "      <td>1548196</td>\n",
       "      <td>1548197</td>\n",
       "      <td>1548201</td>\n",
       "      <td>1548202</td>\n",
       "      <td>1548203</td>\n",
       "    </tr>\n",
       "    <tr>\n",
       "      <th>short_term_deposit</th>\n",
       "      <td>0.00</td>\n",
       "      <td>0.00</td>\n",
       "      <td>0.00</td>\n",
       "      <td>0.00</td>\n",
       "      <td>0.00</td>\n",
       "      <td>0.00</td>\n",
       "      <td>0.00</td>\n",
       "      <td>0.00</td>\n",
       "      <td>0.00</td>\n",
       "      <td>0.00</td>\n",
       "      <td>...</td>\n",
       "      <td>0.00</td>\n",
       "      <td>0.00</td>\n",
       "      <td>0.00</td>\n",
       "      <td>0.00</td>\n",
       "      <td>0.00</td>\n",
       "      <td>0.00</td>\n",
       "      <td>0.00</td>\n",
       "      <td>0.00</td>\n",
       "      <td>0.00</td>\n",
       "      <td>0.00</td>\n",
       "    </tr>\n",
       "    <tr>\n",
       "      <th>loans</th>\n",
       "      <td>0.00</td>\n",
       "      <td>0.00</td>\n",
       "      <td>0.00</td>\n",
       "      <td>0.00</td>\n",
       "      <td>0.00</td>\n",
       "      <td>0.00</td>\n",
       "      <td>0.00</td>\n",
       "      <td>0.00</td>\n",
       "      <td>0.00</td>\n",
       "      <td>0.00</td>\n",
       "      <td>...</td>\n",
       "      <td>0.00</td>\n",
       "      <td>0.00</td>\n",
       "      <td>0.00</td>\n",
       "      <td>0.00</td>\n",
       "      <td>0.00</td>\n",
       "      <td>0.00</td>\n",
       "      <td>0.00</td>\n",
       "      <td>0.00</td>\n",
       "      <td>0.00</td>\n",
       "      <td>0.00</td>\n",
       "    </tr>\n",
       "    <tr>\n",
       "      <th>mortgage</th>\n",
       "      <td>0.00</td>\n",
       "      <td>0.00</td>\n",
       "      <td>0.00</td>\n",
       "      <td>0.00</td>\n",
       "      <td>0.00</td>\n",
       "      <td>0.00</td>\n",
       "      <td>0.00</td>\n",
       "      <td>0.00</td>\n",
       "      <td>0.00</td>\n",
       "      <td>0.00</td>\n",
       "      <td>...</td>\n",
       "      <td>0.00</td>\n",
       "      <td>0.00</td>\n",
       "      <td>0.00</td>\n",
       "      <td>0.00</td>\n",
       "      <td>0.00</td>\n",
       "      <td>0.00</td>\n",
       "      <td>0.00</td>\n",
       "      <td>0.00</td>\n",
       "      <td>0.00</td>\n",
       "      <td>0.00</td>\n",
       "    </tr>\n",
       "    <tr>\n",
       "      <th>...</th>\n",
       "      <td>...</td>\n",
       "      <td>...</td>\n",
       "      <td>...</td>\n",
       "      <td>...</td>\n",
       "      <td>...</td>\n",
       "      <td>...</td>\n",
       "      <td>...</td>\n",
       "      <td>...</td>\n",
       "      <td>...</td>\n",
       "      <td>...</td>\n",
       "      <td>...</td>\n",
       "      <td>...</td>\n",
       "      <td>...</td>\n",
       "      <td>...</td>\n",
       "      <td>...</td>\n",
       "      <td>...</td>\n",
       "      <td>...</td>\n",
       "      <td>...</td>\n",
       "      <td>...</td>\n",
       "      <td>...</td>\n",
       "      <td>...</td>\n",
       "    </tr>\n",
       "    <tr>\n",
       "      <th>diasDesdeUltimaBaja</th>\n",
       "      <td>1 days 00:00:00</td>\n",
       "      <td>1 days 00:00:00</td>\n",
       "      <td>1 days 00:00:00</td>\n",
       "      <td>1 days 00:00:00</td>\n",
       "      <td>1 days 00:00:00</td>\n",
       "      <td>1 days 00:00:00</td>\n",
       "      <td>1 days 00:00:00</td>\n",
       "      <td>1 days 00:00:00</td>\n",
       "      <td>1 days 00:00:00</td>\n",
       "      <td>1 days 00:00:00</td>\n",
       "      <td>...</td>\n",
       "      <td>1 days 00:00:00</td>\n",
       "      <td>1 days 00:00:00</td>\n",
       "      <td>1 days 00:00:00</td>\n",
       "      <td>1 days 00:00:00</td>\n",
       "      <td>1 days 00:00:00</td>\n",
       "      <td>1 days 00:00:00</td>\n",
       "      <td>1 days 00:00:00</td>\n",
       "      <td>1 days 00:00:00</td>\n",
       "      <td>1 days 00:00:00</td>\n",
       "      <td>1 days 00:00:00</td>\n",
       "    </tr>\n",
       "    <tr>\n",
       "      <th>diasDesdeUltimaBajaInt</th>\n",
       "      <td>1.00</td>\n",
       "      <td>1.00</td>\n",
       "      <td>1.00</td>\n",
       "      <td>1.00</td>\n",
       "      <td>1.00</td>\n",
       "      <td>1.00</td>\n",
       "      <td>1.00</td>\n",
       "      <td>1.00</td>\n",
       "      <td>1.00</td>\n",
       "      <td>1.00</td>\n",
       "      <td>...</td>\n",
       "      <td>1.00</td>\n",
       "      <td>1.00</td>\n",
       "      <td>1.00</td>\n",
       "      <td>1.00</td>\n",
       "      <td>1.00</td>\n",
       "      <td>1.00</td>\n",
       "      <td>1.00</td>\n",
       "      <td>1.00</td>\n",
       "      <td>1.00</td>\n",
       "      <td>1.00</td>\n",
       "    </tr>\n",
       "    <tr>\n",
       "      <th>dif_cuentaSimple</th>\n",
       "      <td>0.00</td>\n",
       "      <td>0.00</td>\n",
       "      <td>0.00</td>\n",
       "      <td>0.00</td>\n",
       "      <td>0.00</td>\n",
       "      <td>0.00</td>\n",
       "      <td>0.00</td>\n",
       "      <td>0.00</td>\n",
       "      <td>0.00</td>\n",
       "      <td>0.00</td>\n",
       "      <td>...</td>\n",
       "      <td>0.00</td>\n",
       "      <td>0.00</td>\n",
       "      <td>0.00</td>\n",
       "      <td>0.00</td>\n",
       "      <td>0.00</td>\n",
       "      <td>0.00</td>\n",
       "      <td>0.00</td>\n",
       "      <td>0.00</td>\n",
       "      <td>0.00</td>\n",
       "      <td>0.00</td>\n",
       "    </tr>\n",
       "    <tr>\n",
       "      <th>dif_ahorroInversion</th>\n",
       "      <td>0.00</td>\n",
       "      <td>0.00</td>\n",
       "      <td>0.00</td>\n",
       "      <td>0.00</td>\n",
       "      <td>0.00</td>\n",
       "      <td>0.00</td>\n",
       "      <td>0.00</td>\n",
       "      <td>0.00</td>\n",
       "      <td>0.00</td>\n",
       "      <td>0.00</td>\n",
       "      <td>...</td>\n",
       "      <td>0.00</td>\n",
       "      <td>0.00</td>\n",
       "      <td>0.00</td>\n",
       "      <td>0.00</td>\n",
       "      <td>0.00</td>\n",
       "      <td>0.00</td>\n",
       "      <td>0.00</td>\n",
       "      <td>0.00</td>\n",
       "      <td>0.00</td>\n",
       "      <td>0.00</td>\n",
       "    </tr>\n",
       "    <tr>\n",
       "      <th>dif_financiacion</th>\n",
       "      <td>0.00</td>\n",
       "      <td>0.00</td>\n",
       "      <td>0.00</td>\n",
       "      <td>0.00</td>\n",
       "      <td>0.00</td>\n",
       "      <td>0.00</td>\n",
       "      <td>0.00</td>\n",
       "      <td>0.00</td>\n",
       "      <td>0.00</td>\n",
       "      <td>0.00</td>\n",
       "      <td>...</td>\n",
       "      <td>0.00</td>\n",
       "      <td>0.00</td>\n",
       "      <td>0.00</td>\n",
       "      <td>0.00</td>\n",
       "      <td>0.00</td>\n",
       "      <td>0.00</td>\n",
       "      <td>0.00</td>\n",
       "      <td>0.00</td>\n",
       "      <td>0.00</td>\n",
       "      <td>0.00</td>\n",
       "    </tr>\n",
       "  </tbody>\n",
       "</table>\n",
       "<p>62 rows × 40276 columns</p>\n",
       "</div>"
      ],
      "text/plain": [
       "                                    25                   49       \\\n",
       "pk_partition            2018-01-28 00:00:00  2018-01-28 00:00:00   \n",
       "pk_cid                                25612                35849   \n",
       "short_term_deposit                     0.00                 0.00   \n",
       "loans                                  0.00                 0.00   \n",
       "mortgage                               0.00                 0.00   \n",
       "...                                     ...                  ...   \n",
       "diasDesdeUltimaBaja         1 days 00:00:00      1 days 00:00:00   \n",
       "diasDesdeUltimaBajaInt                 1.00                 1.00   \n",
       "dif_cuentaSimple                       0.00                 0.00   \n",
       "dif_ahorroInversion                    0.00                 0.00   \n",
       "dif_financiacion                       0.00                 0.00   \n",
       "\n",
       "                                    84                   173      \\\n",
       "pk_partition            2018-01-28 00:00:00  2018-01-28 00:00:00   \n",
       "pk_cid                                46823                83660   \n",
       "short_term_deposit                     0.00                 0.00   \n",
       "loans                                  0.00                 0.00   \n",
       "mortgage                               0.00                 0.00   \n",
       "...                                     ...                  ...   \n",
       "diasDesdeUltimaBaja         1 days 00:00:00      1 days 00:00:00   \n",
       "diasDesdeUltimaBajaInt                 1.00                 1.00   \n",
       "dif_cuentaSimple                       0.00                 0.00   \n",
       "dif_ahorroInversion                    0.00                 0.00   \n",
       "dif_financiacion                       0.00                 0.00   \n",
       "\n",
       "                                    220                  374      \\\n",
       "pk_partition            2018-01-28 00:00:00  2018-01-28 00:00:00   \n",
       "pk_cid                               102549               151516   \n",
       "short_term_deposit                     0.00                 0.00   \n",
       "loans                                  0.00                 0.00   \n",
       "mortgage                               0.00                 0.00   \n",
       "...                                     ...                  ...   \n",
       "diasDesdeUltimaBaja         1 days 00:00:00      1 days 00:00:00   \n",
       "diasDesdeUltimaBajaInt                 1.00                 1.00   \n",
       "dif_cuentaSimple                       0.00                 0.00   \n",
       "dif_ahorroInversion                    0.00                 0.00   \n",
       "dif_financiacion                       0.00                 0.00   \n",
       "\n",
       "                                    412                  442      \\\n",
       "pk_partition            2018-01-28 00:00:00  2018-01-28 00:00:00   \n",
       "pk_cid                               162194               173207   \n",
       "short_term_deposit                     0.00                 0.00   \n",
       "loans                                  0.00                 0.00   \n",
       "mortgage                               0.00                 0.00   \n",
       "...                                     ...                  ...   \n",
       "diasDesdeUltimaBaja         1 days 00:00:00      1 days 00:00:00   \n",
       "diasDesdeUltimaBajaInt                 1.00                 1.00   \n",
       "dif_cuentaSimple                       0.00                 0.00   \n",
       "dif_ahorroInversion                    0.00                 0.00   \n",
       "dif_financiacion                       0.00                 0.00   \n",
       "\n",
       "                                    604                  746      ...  \\\n",
       "pk_partition            2018-01-28 00:00:00  2018-01-28 00:00:00  ...   \n",
       "pk_cid                               220336               271773  ...   \n",
       "short_term_deposit                     0.00                 0.00  ...   \n",
       "loans                                  0.00                 0.00  ...   \n",
       "mortgage                               0.00                 0.00  ...   \n",
       "...                                     ...                  ...  ...   \n",
       "diasDesdeUltimaBaja         1 days 00:00:00      1 days 00:00:00  ...   \n",
       "diasDesdeUltimaBajaInt                 1.00                 1.00  ...   \n",
       "dif_cuentaSimple                       0.00                 0.00  ...   \n",
       "dif_ahorroInversion                    0.00                 0.00  ...   \n",
       "dif_financiacion                       0.00                 0.00  ...   \n",
       "\n",
       "                                    5303901              5303902  \\\n",
       "pk_partition            2019-04-28 00:00:00  2019-04-28 00:00:00   \n",
       "pk_cid                              1548181              1548182   \n",
       "short_term_deposit                     0.00                 0.00   \n",
       "loans                                  0.00                 0.00   \n",
       "mortgage                               0.00                 0.00   \n",
       "...                                     ...                  ...   \n",
       "diasDesdeUltimaBaja         1 days 00:00:00      1 days 00:00:00   \n",
       "diasDesdeUltimaBajaInt                 1.00                 1.00   \n",
       "dif_cuentaSimple                       0.00                 0.00   \n",
       "dif_ahorroInversion                    0.00                 0.00   \n",
       "dif_financiacion                       0.00                 0.00   \n",
       "\n",
       "                                    5303903              5303904  \\\n",
       "pk_partition            2019-04-28 00:00:00  2019-04-28 00:00:00   \n",
       "pk_cid                              1548186              1548188   \n",
       "short_term_deposit                     0.00                 0.00   \n",
       "loans                                  0.00                 0.00   \n",
       "mortgage                               0.00                 0.00   \n",
       "...                                     ...                  ...   \n",
       "diasDesdeUltimaBaja         1 days 00:00:00      1 days 00:00:00   \n",
       "diasDesdeUltimaBajaInt                 1.00                 1.00   \n",
       "dif_cuentaSimple                       0.00                 0.00   \n",
       "dif_ahorroInversion                    0.00                 0.00   \n",
       "dif_financiacion                       0.00                 0.00   \n",
       "\n",
       "                                    5303905              5303906  \\\n",
       "pk_partition            2019-04-28 00:00:00  2019-04-28 00:00:00   \n",
       "pk_cid                              1548189              1548196   \n",
       "short_term_deposit                     0.00                 0.00   \n",
       "loans                                  0.00                 0.00   \n",
       "mortgage                               0.00                 0.00   \n",
       "...                                     ...                  ...   \n",
       "diasDesdeUltimaBaja         1 days 00:00:00      1 days 00:00:00   \n",
       "diasDesdeUltimaBajaInt                 1.00                 1.00   \n",
       "dif_cuentaSimple                       0.00                 0.00   \n",
       "dif_ahorroInversion                    0.00                 0.00   \n",
       "dif_financiacion                       0.00                 0.00   \n",
       "\n",
       "                                    5303907              5303908  \\\n",
       "pk_partition            2019-04-28 00:00:00  2019-04-28 00:00:00   \n",
       "pk_cid                              1548197              1548201   \n",
       "short_term_deposit                     0.00                 0.00   \n",
       "loans                                  0.00                 0.00   \n",
       "mortgage                               0.00                 0.00   \n",
       "...                                     ...                  ...   \n",
       "diasDesdeUltimaBaja         1 days 00:00:00      1 days 00:00:00   \n",
       "diasDesdeUltimaBajaInt                 1.00                 1.00   \n",
       "dif_cuentaSimple                       0.00                 0.00   \n",
       "dif_ahorroInversion                    0.00                 0.00   \n",
       "dif_financiacion                       0.00                 0.00   \n",
       "\n",
       "                                    5303909              5303910  \n",
       "pk_partition            2019-04-28 00:00:00  2019-04-28 00:00:00  \n",
       "pk_cid                              1548202              1548203  \n",
       "short_term_deposit                     0.00                 0.00  \n",
       "loans                                  0.00                 0.00  \n",
       "mortgage                               0.00                 0.00  \n",
       "...                                     ...                  ...  \n",
       "diasDesdeUltimaBaja         1 days 00:00:00      1 days 00:00:00  \n",
       "diasDesdeUltimaBajaInt                 1.00                 1.00  \n",
       "dif_cuentaSimple                       0.00                 0.00  \n",
       "dif_ahorroInversion                    0.00                 0.00  \n",
       "dif_financiacion                       0.00                 0.00  \n",
       "\n",
       "[62 rows x 40276 columns]"
      ]
     },
     "execution_count": 37,
     "metadata": {},
     "output_type": "execute_result"
    }
   ],
   "source": [
    "full_df[(full_df['isNewClient']==0) &\n",
    "        (full_df['isActive']==0)].T"
   ]
  },
  {
   "cell_type": "markdown",
   "metadata": {},
   "source": [
    "Borramos los meses que no pasa nada para que el modelo aprenda a coger emjor los cambios.\n",
    "El rendimiento del modelo mejora con esto:"
   ]
  },
  {
   "cell_type": "code",
   "execution_count": 38,
   "metadata": {
    "ExecuteTime": {
     "end_time": "2020-09-12T14:58:52.150761Z",
     "start_time": "2020-09-12T14:58:49.374381Z"
    }
   },
   "outputs": [],
   "source": [
    "# Borramos los meses que no pasa nada para que el modelo aprenda a coger emjor los cambios.\n",
    "# El rendimiento del modelo mejora con esto:\n",
    "full_df.drop(full_df[(full_df['isNewClient']==0) &\n",
    "                     (full_df['isActive']==0)].index ,axis=0, inplace=True)"
   ]
  },
  {
   "cell_type": "markdown",
   "metadata": {},
   "source": [
    "Vemos la distribucion final de los clientes por los meses:"
   ]
  },
  {
   "cell_type": "code",
   "execution_count": 39,
   "metadata": {
    "ExecuteTime": {
     "end_time": "2020-09-12T14:59:12.032368Z",
     "start_time": "2020-09-12T14:59:11.882455Z"
    }
   },
   "outputs": [
    {
     "data": {
      "text/plain": [
       "pk_partition\n",
       "2018-01-28    225280\n",
       "2018-02-28    228190\n",
       "2018-03-28    231046\n",
       "2018-04-28    233515\n",
       "2018-05-28    236109\n",
       "2018-06-28    238471\n",
       "2018-07-28    250654\n",
       "2018-08-28    263897\n",
       "2018-09-28    280575\n",
       "2018-10-28    298855\n",
       "2018-11-28    308341\n",
       "2018-12-28    312624\n",
       "2019-01-28    317763\n",
       "2019-02-28    321798\n",
       "2019-03-28    325130\n",
       "2019-04-28    328546\n",
       "2019-05-28    331588\n",
       "2019-06-28    331588\n",
       "Name: pk_cid, dtype: int64"
      ]
     },
     "execution_count": 39,
     "metadata": {},
     "output_type": "execute_result"
    }
   ],
   "source": [
    "full_df.groupby('pk_partition')['pk_cid'].size()"
   ]
  },
  {
   "cell_type": "code",
   "execution_count": 40,
   "metadata": {
    "ExecuteTime": {
     "end_time": "2020-09-12T14:59:21.733272Z",
     "start_time": "2020-09-12T14:59:21.718285Z"
    }
   },
   "outputs": [
    {
     "name": "stdout",
     "output_type": "stream",
     "text": [
      "<class 'pandas.core.frame.DataFrame'>\n",
      "Int64Index: 5063970 entries, 2 to 5968583\n",
      "Data columns (total 62 columns):\n",
      " #   Column                  Dtype         \n",
      "---  ------                  -----         \n",
      " 0   pk_partition            datetime64[ns]\n",
      " 1   pk_cid                  int64         \n",
      " 2   short_term_deposit      float64       \n",
      " 3   loans                   float64       \n",
      " 4   mortgage                float64       \n",
      " 5   funds                   float64       \n",
      " 6   securities              float64       \n",
      " 7   long_term_deposit       float64       \n",
      " 8   em_account_pp           float64       \n",
      " 9   credit_card             float64       \n",
      " 10  payroll                 float16       \n",
      " 11  pension_plan            float16       \n",
      " 12  payroll_account         float64       \n",
      " 13  emc_account             float64       \n",
      " 14  debit_card              float64       \n",
      " 15  em_account_p            float64       \n",
      " 16  em_acount               float64       \n",
      " 17  entry_date              datetime64[ns]\n",
      " 18  entry_channel           object        \n",
      " 19  active_customer         float16       \n",
      " 20  segment                 object        \n",
      " 21  country_id              object        \n",
      " 22  region_code             float16       \n",
      " 23  gender                  object        \n",
      " 24  age                     float64       \n",
      " 25  deceased                object        \n",
      " 26  salary                  float32       \n",
      " 27  dif_debit_card          float16       \n",
      " 28  dif_em_account_p        float16       \n",
      " 29  dif_em_account_pp       float16       \n",
      " 30  dif_em_acount           float16       \n",
      " 31  dif_emc_account         float16       \n",
      " 32  dif_payroll             float16       \n",
      " 33  dif_payroll_account     float16       \n",
      " 34  dif_funds               float16       \n",
      " 35  dif_long_term_deposit   float16       \n",
      " 36  dif_mortgage            float16       \n",
      " 37  dif_pension_plan        float16       \n",
      " 38  dif_securities          float16       \n",
      " 39  dif_short_term_deposit  float16       \n",
      " 40  dif_loans               float16       \n",
      " 41  dif_credit_card         float16       \n",
      " 42  mesesAlta               float16       \n",
      " 43  isNewClient             float64       \n",
      " 44  isActive                float64       \n",
      " 45  Provincia               object        \n",
      " 46  SalaryQtil              object        \n",
      " 47  totalAssets             float16       \n",
      " 48  totalCuentas            float16       \n",
      " 49  totalAhorro             float16       \n",
      " 50  totalFinanciacion       float64       \n",
      " 51  totalIngresos           float64       \n",
      " 52  totalBeneficio          float64       \n",
      " 53  hayAlta                 float64       \n",
      " 54  diasDesdeUltimaAlta     object        \n",
      " 55  diasDesdeUltimaAltaInt  float64       \n",
      " 56  hayBaja                 float64       \n",
      " 57  diasDesdeUltimaBaja     object        \n",
      " 58  diasDesdeUltimaBajaInt  float64       \n",
      " 59  dif_cuentaSimple        float64       \n",
      " 60  dif_ahorroInversion     float64       \n",
      " 61  dif_financiacion        float64       \n",
      "dtypes: datetime64[ns](2), float16(23), float32(1), float64(26), int64(1), object(9)\n",
      "memory usage: 1.7+ GB\n"
     ]
    }
   ],
   "source": [
    "full_df.info(verbose=True)"
   ]
  },
  {
   "cell_type": "code",
   "execution_count": 41,
   "metadata": {
    "ExecuteTime": {
     "end_time": "2020-09-12T14:59:51.496626Z",
     "start_time": "2020-09-12T14:59:42.157011Z"
    }
   },
   "outputs": [
    {
     "name": "stdout",
     "output_type": "stream",
     "text": [
      "Mem. usage decreased to 975.53 Mb (44.2% reduction)\n"
     ]
    }
   ],
   "source": [
    "# Reducimos el tamaño del dataset para agilizar su manejo en memoria:\n",
    "reduce_mem_usage(full_df, verbose = True)"
   ]
  },
  {
   "cell_type": "code",
   "execution_count": 40,
   "metadata": {
    "ExecuteTime": {
     "end_time": "2020-09-09T21:48:25.231936Z",
     "start_time": "2020-09-09T21:48:25.217945Z"
    }
   },
   "outputs": [],
   "source": [
    "#full_df.to_pickle('fulldf_base_nandropped_VII.pkl',compression='zip')"
   ]
  },
  {
   "cell_type": "code",
   "execution_count": 42,
   "metadata": {
    "ExecuteTime": {
     "end_time": "2020-09-12T15:00:27.729133Z",
     "start_time": "2020-09-12T15:00:27.724136Z"
    }
   },
   "outputs": [],
   "source": [
    "# Lista de columnas que nos informan de las altas o bajas:\n",
    "delta_productos_easymoney=['dif_loans',\n",
    " 'dif_mortgage',\n",
    " 'dif_funds',\n",
    " 'dif_securities',\n",
    " 'dif_long_term_deposit',\n",
    " 'dif_short_term_deposit',                          \n",
    " 'dif_em_account_pp',\n",
    " 'dif_credit_card',\n",
    " 'dif_payroll',\n",
    " 'dif_pension_plan',\n",
    " 'dif_payroll_account',\n",
    " 'dif_emc_account',\n",
    " 'dif_debit_card',\n",
    " 'dif_em_acount',\n",
    " 'dif_em_account_p',\n",
    " 'dif_cuentaSimple',\n",
    " 'dif_ahorroInversion',                       \n",
    " 'dif_financiacion']"
   ]
  },
  {
   "cell_type": "code",
   "execution_count": 43,
   "metadata": {
    "ExecuteTime": {
     "end_time": "2020-09-12T15:00:44.662533Z",
     "start_time": "2020-09-12T15:00:44.657548Z"
    }
   },
   "outputs": [],
   "source": [
    "# Lista de columnas que nos informan del numero de productos Easymoney del cliente:\n",
    "productos_easymoney=['loans',\n",
    " 'mortgage',\n",
    " 'funds',\n",
    " 'securities',\n",
    " 'long_term_deposit',\n",
    " 'short_term_deposit',                    \n",
    " 'em_account_pp',\n",
    " 'credit_card',\n",
    " 'payroll',\n",
    " 'pension_plan',\n",
    " 'payroll_account',\n",
    " 'emc_account',\n",
    " 'debit_card',\n",
    " 'em_acount',\n",
    " 'em_account_p']"
   ]
  },
  {
   "cell_type": "markdown",
   "metadata": {
    "ExecuteTime": {
     "end_time": "2020-09-06T13:17:29.325475Z",
     "start_time": "2020-09-06T13:17:29.320497Z"
    }
   },
   "source": [
    "Ponemos a 0 las bajas para solo predecir altas:"
   ]
  },
  {
   "cell_type": "code",
   "execution_count": 44,
   "metadata": {
    "ExecuteTime": {
     "end_time": "2020-09-12T15:00:53.225058Z",
     "start_time": "2020-09-12T15:00:52.151659Z"
    }
   },
   "outputs": [],
   "source": [
    "for x in delta_productos_easymoney:\n",
    "      full_df.loc[full_df[x]==-1, x ]=0  "
   ]
  },
  {
   "cell_type": "code",
   "execution_count": 45,
   "metadata": {
    "ExecuteTime": {
     "end_time": "2020-09-12T15:00:56.683576Z",
     "start_time": "2020-09-12T15:00:56.586631Z"
    }
   },
   "outputs": [
    {
     "data": {
      "text/plain": [
       "0.00    4613569\n",
       "1.00     118813\n",
       "Name: dif_em_acount, dtype: int64"
      ]
     },
     "execution_count": 45,
     "metadata": {},
     "output_type": "execute_result"
    }
   ],
   "source": [
    "full_df['dif_em_acount'].value_counts()"
   ]
  },
  {
   "cell_type": "code",
   "execution_count": 46,
   "metadata": {
    "ExecuteTime": {
     "end_time": "2020-09-12T15:00:58.776133Z",
     "start_time": "2020-09-12T15:00:58.678208Z"
    }
   },
   "outputs": [
    {
     "data": {
      "text/plain": [
       "0.00    4721714\n",
       "1.00      10668\n",
       "Name: dif_credit_card, dtype: int64"
      ]
     },
     "execution_count": 46,
     "metadata": {},
     "output_type": "execute_result"
    }
   ],
   "source": [
    "full_df['dif_credit_card'].value_counts()"
   ]
  },
  {
   "cell_type": "code",
   "execution_count": 46,
   "metadata": {
    "ExecuteTime": {
     "end_time": "2020-09-09T21:48:26.146409Z",
     "start_time": "2020-09-09T21:48:26.143410Z"
    }
   },
   "outputs": [],
   "source": [
    "#full_df.to_pickle('./fulldf_base_VII.pkl',compression='zip')"
   ]
  },
  {
   "cell_type": "code",
   "execution_count": 47,
   "metadata": {
    "ExecuteTime": {
     "end_time": "2020-09-09T21:48:26.161399Z",
     "start_time": "2020-09-09T21:48:26.148407Z"
    }
   },
   "outputs": [],
   "source": [
    "#full_df=pd.read_pickle('./fulldf_base_V1.pkl',compression='zip')"
   ]
  },
  {
   "cell_type": "markdown",
   "metadata": {},
   "source": [
    "# Feature engeniering"
   ]
  },
  {
   "cell_type": "markdown",
   "metadata": {},
   "source": [
    "Sacamos las variables LAGS remontandonos 1,2,3 y 4 meses atras para todas las variables delta_productos_easymoney:"
   ]
  },
  {
   "cell_type": "code",
   "execution_count": 47,
   "metadata": {
    "ExecuteTime": {
     "end_time": "2020-09-12T15:03:40.513533Z",
     "start_time": "2020-09-12T15:02:12.132464Z"
    }
   },
   "outputs": [
    {
     "name": "stdout",
     "output_type": "stream",
     "text": [
      "dif_loans\n",
      "1\n",
      "2\n",
      "3\n",
      "4\n",
      "dif_mortgage\n",
      "1\n",
      "2\n",
      "3\n",
      "4\n",
      "dif_funds\n",
      "1\n",
      "2\n",
      "3\n",
      "4\n",
      "dif_securities\n",
      "1\n",
      "2\n",
      "3\n",
      "4\n",
      "dif_long_term_deposit\n",
      "1\n",
      "2\n",
      "3\n",
      "4\n",
      "dif_short_term_deposit\n",
      "1\n",
      "2\n",
      "3\n",
      "4\n",
      "dif_em_account_pp\n",
      "1\n",
      "2\n",
      "3\n",
      "4\n",
      "dif_credit_card\n",
      "1\n",
      "2\n",
      "3\n",
      "4\n",
      "dif_payroll\n",
      "1\n",
      "2\n",
      "3\n",
      "4\n",
      "dif_pension_plan\n",
      "1\n",
      "2\n",
      "3\n",
      "4\n",
      "dif_payroll_account\n",
      "1\n",
      "2\n",
      "3\n",
      "4\n",
      "dif_emc_account\n",
      "1\n",
      "2\n",
      "3\n",
      "4\n",
      "dif_debit_card\n",
      "1\n",
      "2\n",
      "3\n",
      "4\n",
      "dif_em_acount\n",
      "1\n",
      "2\n",
      "3\n",
      "4\n",
      "dif_em_account_p\n",
      "1\n",
      "2\n",
      "3\n",
      "4\n",
      "dif_cuentaSimple\n",
      "1\n",
      "2\n",
      "3\n",
      "4\n",
      "dif_ahorroInversion\n",
      "1\n",
      "2\n",
      "3\n",
      "4\n",
      "dif_financiacion\n",
      "1\n",
      "2\n",
      "3\n",
      "4\n"
     ]
    }
   ],
   "source": [
    "for y in delta_productos_easymoney:\n",
    "    print(y)\n",
    "    for x in [1,2,3,4]:\n",
    "        print(x)\n",
    "        full_df[y+'_shift_'+str(x)]=full_df.groupby(['pk_cid'])[y].shift(x)"
   ]
  },
  {
   "cell_type": "code",
   "execution_count": 48,
   "metadata": {
    "ExecuteTime": {
     "end_time": "2020-09-12T15:06:44.811657Z",
     "start_time": "2020-09-12T15:04:48.784545Z"
    }
   },
   "outputs": [
    {
     "name": "stdout",
     "output_type": "stream",
     "text": [
      "loans\n",
      "1\n",
      "2\n",
      "3\n",
      "4\n",
      "mortgage\n",
      "1\n",
      "2\n",
      "3\n",
      "4\n",
      "funds\n",
      "1\n",
      "2\n",
      "3\n",
      "4\n",
      "securities\n",
      "1\n",
      "2\n",
      "3\n",
      "4\n",
      "long_term_deposit\n",
      "1\n",
      "2\n",
      "3\n",
      "4\n",
      "short_term_deposit\n",
      "1\n",
      "2\n",
      "3\n",
      "4\n",
      "em_account_pp\n",
      "1\n",
      "2\n",
      "3\n",
      "4\n",
      "credit_card\n",
      "1\n",
      "2\n",
      "3\n",
      "4\n",
      "payroll\n",
      "1\n",
      "2\n",
      "3\n",
      "4\n",
      "pension_plan\n",
      "1\n",
      "2\n",
      "3\n",
      "4\n",
      "payroll_account\n",
      "1\n",
      "2\n",
      "3\n",
      "4\n",
      "emc_account\n",
      "1\n",
      "2\n",
      "3\n",
      "4\n",
      "debit_card\n",
      "1\n",
      "2\n",
      "3\n",
      "4\n",
      "em_acount\n",
      "1\n",
      "2\n",
      "3\n",
      "4\n",
      "em_account_p\n",
      "1\n",
      "2\n",
      "3\n",
      "4\n"
     ]
    }
   ],
   "source": [
    "for y in productos_easymoney:\n",
    "    print(y)\n",
    "    for x in [1,2,3,4]:\n",
    "        print(x)\n",
    "        full_df[y+'_shift_'+str(x)]=full_df.groupby(['pk_cid'])[y].shift(x)"
   ]
  },
  {
   "cell_type": "code",
   "execution_count": 50,
   "metadata": {
    "ExecuteTime": {
     "end_time": "2020-09-09T21:55:42.839730Z",
     "start_time": "2020-09-09T21:52:41.266337Z"
    }
   },
   "outputs": [
    {
     "name": "stdout",
     "output_type": "stream",
     "text": [
      "1\n",
      "2\n",
      "3\n",
      "4\n"
     ]
    }
   ],
   "source": [
    "for x in [1,2,3,4]:\n",
    "    print(x)\n",
    "    full_df['isActive_shift_'+str(x)]=full_df.groupby(['pk_cid'])['isActive'].shift(x)\n",
    "    full_df['isNewClient_shift_'+str(x)]=full_df.groupby(['pk_cid'])['isNewClient'].shift(x)\n",
    "    full_df['active_customer_shift_'+str(x)]=full_df.groupby(['pk_cid'])['active_customer'].shift(x)\n",
    "    full_df['totalAssets_shift_'+str(x)]=full_df.groupby(['pk_cid'])['totalAssets'].shift(x)\n",
    "    full_df['totalCuentas_shift_'+str(x)]=full_df.groupby(['pk_cid'])['totalCuentas'].shift(x)\n",
    "    full_df['totalAhorro_shift_'+str(x)]=full_df.groupby(['pk_cid'])['totalAhorro'].shift(x)\n",
    "    full_df['totalFinanciacion_shift_'+str(x)]=full_df.groupby(['pk_cid'])['totalFinanciacion'].shift(x)\n",
    "    full_df['totalIngresos_shift_'+str(x)]=full_df.groupby(['pk_cid'])['totalIngresos'].shift(x)\n",
    "    #full_df['totalBeneficio_shift'+str(x)]=full_df.groupby(['pk_cid'])['totalBeneficio'].shift(x) AUTOEXPLICATIVA\n",
    "    full_df['diasDesdeUltimaAltaInt_shift_'+str(x)]=full_df.groupby(['pk_cid'])['diasDesdeUltimaAltaInt'].shift(x)\n",
    "    full_df['hayAlta_shift_'+str(x)]=full_df.groupby(['pk_cid'])['hayAlta'].shift(x)\n",
    "    full_df['diasDesdeUltimaBajaInt_shift_'+str(x)]=full_df.groupby(['pk_cid'])['diasDesdeUltimaAltaInt'].shift(x)\n",
    "    full_df['hayBaja_shift_'+str(x)]=full_df.groupby(['pk_cid'])['hayAlta'].shift(x)"
   ]
  },
  {
   "cell_type": "code",
   "execution_count": 49,
   "metadata": {
    "ExecuteTime": {
     "end_time": "2020-09-12T15:07:34.664812Z",
     "start_time": "2020-09-12T15:07:06.359111Z"
    }
   },
   "outputs": [],
   "source": [
    "# Rellenamos los nulos producidos en las shift\n",
    "full_df.fillna(-999,inplace=True)"
   ]
  },
  {
   "cell_type": "markdown",
   "metadata": {},
   "source": [
    "Sacamos las variables de las fechas:"
   ]
  },
  {
   "cell_type": "code",
   "execution_count": 50,
   "metadata": {
    "ExecuteTime": {
     "end_time": "2020-09-12T15:07:39.867992Z",
     "start_time": "2020-09-12T15:07:38.759632Z"
    }
   },
   "outputs": [],
   "source": [
    "full_df[\"day\"] = full_df[\"pk_partition\"].dt.day\n",
    "full_df[\"year\"] = full_df[\"pk_partition\"].dt.year\n",
    "full_df[\"month\"] = full_df[\"pk_partition\"].dt.month"
   ]
  },
  {
   "cell_type": "code",
   "execution_count": 51,
   "metadata": {
    "ExecuteTime": {
     "end_time": "2020-09-12T15:07:41.744375Z",
     "start_time": "2020-09-12T15:07:40.572038Z"
    }
   },
   "outputs": [],
   "source": [
    "full_df[\"entry_date_day\"] = full_df[\"entry_date\"].dt.day\n",
    "full_df[\"entry_date_year\"] = full_df[\"entry_date\"].dt.year\n",
    "full_df[\"entry_date_month\"] = full_df[\"entry_date\"].dt.month"
   ]
  },
  {
   "cell_type": "markdown",
   "metadata": {},
   "source": [
    "Sacamos algunas variables mas:"
   ]
  },
  {
   "cell_type": "code",
   "execution_count": 52,
   "metadata": {
    "ExecuteTime": {
     "end_time": "2020-09-12T15:08:11.590154Z",
     "start_time": "2020-09-12T15:08:11.161421Z"
    }
   },
   "outputs": [
    {
     "data": {
      "text/plain": [
       "KHE     2655442\n",
       "KFC      625714\n",
       "KHQ      435667\n",
       "-999     331588\n",
       "KAT      327988\n",
       "KHK      157376\n",
       "KHM      122421\n",
       "KHN       82093\n",
       "XXX       81657\n",
       "KHD       63068\n",
       "Name: entry_channel, dtype: int64"
      ]
     },
     "execution_count": 52,
     "metadata": {},
     "output_type": "execute_result"
    }
   ],
   "source": [
    "full_df['entry_channel'].value_counts(dropna=False).head(10)"
   ]
  },
  {
   "cell_type": "code",
   "execution_count": 53,
   "metadata": {
    "ExecuteTime": {
     "end_time": "2020-09-12T15:08:14.387542Z",
     "start_time": "2020-09-12T15:08:12.474645Z"
    }
   },
   "outputs": [],
   "source": [
    "full_df.loc[full_df['entry_channel']==-999,'entry_channel']='XXX'"
   ]
  },
  {
   "cell_type": "code",
   "execution_count": 54,
   "metadata": {
    "ExecuteTime": {
     "end_time": "2020-09-12T15:08:16.249487Z",
     "start_time": "2020-09-12T15:08:15.020178Z"
    }
   },
   "outputs": [],
   "source": [
    "full_df['entry_channel']=pd.Categorical(full_df['entry_channel'], categories=full_df['entry_channel'].value_counts(dropna=False).head(10).index.to_list())"
   ]
  },
  {
   "cell_type": "code",
   "execution_count": 55,
   "metadata": {
    "ExecuteTime": {
     "end_time": "2020-09-12T15:08:16.951064Z",
     "start_time": "2020-09-12T15:08:16.897095Z"
    }
   },
   "outputs": [
    {
     "data": {
      "text/plain": [
       "KHE    2655442\n",
       "KFC     625714\n",
       "KHQ     435667\n",
       "XXX     413245\n",
       "KAT     327988\n",
       "KHK     157376\n",
       "KHM     122421\n",
       "NaN     121686\n",
       "KHN      82093\n",
       "KHD      63068\n",
       "KFA      59270\n",
       "Name: entry_channel, dtype: int64"
      ]
     },
     "execution_count": 55,
     "metadata": {},
     "output_type": "execute_result"
    }
   ],
   "source": [
    "full_df['entry_channel'].value_counts(dropna=False)"
   ]
  },
  {
   "cell_type": "code",
   "execution_count": 56,
   "metadata": {
    "ExecuteTime": {
     "end_time": "2020-09-12T15:08:17.666670Z",
     "start_time": "2020-09-12T15:08:17.570708Z"
    }
   },
   "outputs": [],
   "source": [
    "dummy_dataset = pd.get_dummies(full_df['entry_channel'],prefix='channel')"
   ]
  },
  {
   "cell_type": "code",
   "execution_count": 57,
   "metadata": {
    "ExecuteTime": {
     "end_time": "2020-09-12T15:08:18.308281Z",
     "start_time": "2020-09-12T15:08:18.290291Z"
    }
   },
   "outputs": [
    {
     "data": {
      "text/html": [
       "<div>\n",
       "<style scoped>\n",
       "    .dataframe tbody tr th:only-of-type {\n",
       "        vertical-align: middle;\n",
       "    }\n",
       "\n",
       "    .dataframe tbody tr th {\n",
       "        vertical-align: top;\n",
       "    }\n",
       "\n",
       "    .dataframe thead th {\n",
       "        text-align: right;\n",
       "    }\n",
       "</style>\n",
       "<table border=\"1\" class=\"dataframe\">\n",
       "  <thead>\n",
       "    <tr style=\"text-align: right;\">\n",
       "      <th></th>\n",
       "      <th>channel_KHE</th>\n",
       "      <th>channel_KFC</th>\n",
       "      <th>channel_KHQ</th>\n",
       "      <th>channel_XXX</th>\n",
       "      <th>channel_KAT</th>\n",
       "      <th>channel_KHK</th>\n",
       "      <th>channel_KHM</th>\n",
       "      <th>channel_KHN</th>\n",
       "      <th>channel_KHD</th>\n",
       "      <th>channel_KFA</th>\n",
       "    </tr>\n",
       "  </thead>\n",
       "  <tbody>\n",
       "    <tr>\n",
       "      <th>2</th>\n",
       "      <td>0</td>\n",
       "      <td>0</td>\n",
       "      <td>0</td>\n",
       "      <td>0</td>\n",
       "      <td>1</td>\n",
       "      <td>0</td>\n",
       "      <td>0</td>\n",
       "      <td>0</td>\n",
       "      <td>0</td>\n",
       "      <td>0</td>\n",
       "    </tr>\n",
       "    <tr>\n",
       "      <th>3</th>\n",
       "      <td>0</td>\n",
       "      <td>0</td>\n",
       "      <td>0</td>\n",
       "      <td>0</td>\n",
       "      <td>1</td>\n",
       "      <td>0</td>\n",
       "      <td>0</td>\n",
       "      <td>0</td>\n",
       "      <td>0</td>\n",
       "      <td>0</td>\n",
       "    </tr>\n",
       "    <tr>\n",
       "      <th>4</th>\n",
       "      <td>0</td>\n",
       "      <td>0</td>\n",
       "      <td>0</td>\n",
       "      <td>0</td>\n",
       "      <td>1</td>\n",
       "      <td>0</td>\n",
       "      <td>0</td>\n",
       "      <td>0</td>\n",
       "      <td>0</td>\n",
       "      <td>0</td>\n",
       "    </tr>\n",
       "    <tr>\n",
       "      <th>7</th>\n",
       "      <td>0</td>\n",
       "      <td>0</td>\n",
       "      <td>0</td>\n",
       "      <td>0</td>\n",
       "      <td>1</td>\n",
       "      <td>0</td>\n",
       "      <td>0</td>\n",
       "      <td>0</td>\n",
       "      <td>0</td>\n",
       "      <td>0</td>\n",
       "    </tr>\n",
       "    <tr>\n",
       "      <th>8</th>\n",
       "      <td>0</td>\n",
       "      <td>0</td>\n",
       "      <td>0</td>\n",
       "      <td>0</td>\n",
       "      <td>1</td>\n",
       "      <td>0</td>\n",
       "      <td>0</td>\n",
       "      <td>0</td>\n",
       "      <td>0</td>\n",
       "      <td>0</td>\n",
       "    </tr>\n",
       "    <tr>\n",
       "      <th>...</th>\n",
       "      <td>...</td>\n",
       "      <td>...</td>\n",
       "      <td>...</td>\n",
       "      <td>...</td>\n",
       "      <td>...</td>\n",
       "      <td>...</td>\n",
       "      <td>...</td>\n",
       "      <td>...</td>\n",
       "      <td>...</td>\n",
       "      <td>...</td>\n",
       "    </tr>\n",
       "    <tr>\n",
       "      <th>5968579</th>\n",
       "      <td>0</td>\n",
       "      <td>0</td>\n",
       "      <td>0</td>\n",
       "      <td>1</td>\n",
       "      <td>0</td>\n",
       "      <td>0</td>\n",
       "      <td>0</td>\n",
       "      <td>0</td>\n",
       "      <td>0</td>\n",
       "      <td>0</td>\n",
       "    </tr>\n",
       "    <tr>\n",
       "      <th>5968580</th>\n",
       "      <td>0</td>\n",
       "      <td>0</td>\n",
       "      <td>0</td>\n",
       "      <td>1</td>\n",
       "      <td>0</td>\n",
       "      <td>0</td>\n",
       "      <td>0</td>\n",
       "      <td>0</td>\n",
       "      <td>0</td>\n",
       "      <td>0</td>\n",
       "    </tr>\n",
       "    <tr>\n",
       "      <th>5968581</th>\n",
       "      <td>0</td>\n",
       "      <td>0</td>\n",
       "      <td>0</td>\n",
       "      <td>1</td>\n",
       "      <td>0</td>\n",
       "      <td>0</td>\n",
       "      <td>0</td>\n",
       "      <td>0</td>\n",
       "      <td>0</td>\n",
       "      <td>0</td>\n",
       "    </tr>\n",
       "    <tr>\n",
       "      <th>5968582</th>\n",
       "      <td>0</td>\n",
       "      <td>0</td>\n",
       "      <td>0</td>\n",
       "      <td>1</td>\n",
       "      <td>0</td>\n",
       "      <td>0</td>\n",
       "      <td>0</td>\n",
       "      <td>0</td>\n",
       "      <td>0</td>\n",
       "      <td>0</td>\n",
       "    </tr>\n",
       "    <tr>\n",
       "      <th>5968583</th>\n",
       "      <td>0</td>\n",
       "      <td>0</td>\n",
       "      <td>0</td>\n",
       "      <td>1</td>\n",
       "      <td>0</td>\n",
       "      <td>0</td>\n",
       "      <td>0</td>\n",
       "      <td>0</td>\n",
       "      <td>0</td>\n",
       "      <td>0</td>\n",
       "    </tr>\n",
       "  </tbody>\n",
       "</table>\n",
       "<p>5063970 rows × 10 columns</p>\n",
       "</div>"
      ],
      "text/plain": [
       "         channel_KHE  channel_KFC  channel_KHQ  channel_XXX  channel_KAT  \\\n",
       "2                  0            0            0            0            1   \n",
       "3                  0            0            0            0            1   \n",
       "4                  0            0            0            0            1   \n",
       "7                  0            0            0            0            1   \n",
       "8                  0            0            0            0            1   \n",
       "...              ...          ...          ...          ...          ...   \n",
       "5968579            0            0            0            1            0   \n",
       "5968580            0            0            0            1            0   \n",
       "5968581            0            0            0            1            0   \n",
       "5968582            0            0            0            1            0   \n",
       "5968583            0            0            0            1            0   \n",
       "\n",
       "         channel_KHK  channel_KHM  channel_KHN  channel_KHD  channel_KFA  \n",
       "2                  0            0            0            0            0  \n",
       "3                  0            0            0            0            0  \n",
       "4                  0            0            0            0            0  \n",
       "7                  0            0            0            0            0  \n",
       "8                  0            0            0            0            0  \n",
       "...              ...          ...          ...          ...          ...  \n",
       "5968579            0            0            0            0            0  \n",
       "5968580            0            0            0            0            0  \n",
       "5968581            0            0            0            0            0  \n",
       "5968582            0            0            0            0            0  \n",
       "5968583            0            0            0            0            0  \n",
       "\n",
       "[5063970 rows x 10 columns]"
      ]
     },
     "execution_count": 57,
     "metadata": {},
     "output_type": "execute_result"
    }
   ],
   "source": [
    "dummy_dataset"
   ]
  },
  {
   "cell_type": "code",
   "execution_count": 58,
   "metadata": {
    "ExecuteTime": {
     "end_time": "2020-09-12T15:08:22.471900Z",
     "start_time": "2020-09-12T15:08:18.942921Z"
    }
   },
   "outputs": [],
   "source": [
    "full_df = pd.concat([full_df,dummy_dataset],axis=1)"
   ]
  },
  {
   "cell_type": "code",
   "execution_count": 59,
   "metadata": {
    "ExecuteTime": {
     "end_time": "2020-09-12T15:08:27.054116Z",
     "start_time": "2020-09-12T15:08:26.621380Z"
    }
   },
   "outputs": [
    {
     "data": {
      "text/plain": [
       "ES       4730617\n",
       "-999      331588\n",
       "Other        679\n",
       "GB           357\n",
       "FR           201\n",
       "DE           188\n",
       "CH           156\n",
       "US            81\n",
       "BR            66\n",
       "BE            37\n",
       "Name: country_id, dtype: int64"
      ]
     },
     "execution_count": 59,
     "metadata": {},
     "output_type": "execute_result"
    }
   ],
   "source": [
    "full_df['country_id'].value_counts(dropna=False)"
   ]
  },
  {
   "cell_type": "code",
   "execution_count": 60,
   "metadata": {
    "ExecuteTime": {
     "end_time": "2020-09-12T15:08:31.101802Z",
     "start_time": "2020-09-12T15:08:27.451887Z"
    }
   },
   "outputs": [],
   "source": [
    "full_df.loc[full_df['country_id']==-999,'country_id']='Other'"
   ]
  },
  {
   "cell_type": "code",
   "execution_count": 61,
   "metadata": {
    "ExecuteTime": {
     "end_time": "2020-09-12T15:08:31.952312Z",
     "start_time": "2020-09-12T15:08:31.496555Z"
    }
   },
   "outputs": [
    {
     "data": {
      "text/plain": [
       "ES       4730617\n",
       "Other     332267\n",
       "GB           357\n",
       "FR           201\n",
       "DE           188\n",
       "CH           156\n",
       "US            81\n",
       "BR            66\n",
       "BE            37\n",
       "Name: country_id, dtype: int64"
      ]
     },
     "execution_count": 61,
     "metadata": {},
     "output_type": "execute_result"
    }
   ],
   "source": [
    "full_df['country_id'].value_counts(dropna=False)"
   ]
  },
  {
   "cell_type": "code",
   "execution_count": 62,
   "metadata": {
    "ExecuteTime": {
     "end_time": "2020-09-12T15:08:32.620910Z",
     "start_time": "2020-09-12T15:08:32.346066Z"
    }
   },
   "outputs": [],
   "source": [
    "dummy_dataset = pd.get_dummies(full_df['country_id'],prefix='country')"
   ]
  },
  {
   "cell_type": "code",
   "execution_count": 63,
   "metadata": {
    "ExecuteTime": {
     "end_time": "2020-09-12T15:08:36.731556Z",
     "start_time": "2020-09-12T15:08:32.998690Z"
    }
   },
   "outputs": [],
   "source": [
    "full_df = pd.concat([full_df,dummy_dataset],axis=1)"
   ]
  },
  {
   "cell_type": "code",
   "execution_count": 64,
   "metadata": {
    "ExecuteTime": {
     "end_time": "2020-09-12T15:08:37.942711Z",
     "start_time": "2020-09-12T15:08:37.182278Z"
    }
   },
   "outputs": [
    {
     "data": {
      "text/html": [
       "<div>\n",
       "<style scoped>\n",
       "    .dataframe tbody tr th:only-of-type {\n",
       "        vertical-align: middle;\n",
       "    }\n",
       "\n",
       "    .dataframe tbody tr th {\n",
       "        vertical-align: top;\n",
       "    }\n",
       "\n",
       "    .dataframe thead th {\n",
       "        text-align: right;\n",
       "    }\n",
       "</style>\n",
       "<table border=\"1\" class=\"dataframe\">\n",
       "  <thead>\n",
       "    <tr style=\"text-align: right;\">\n",
       "      <th></th>\n",
       "      <th>pk_partition</th>\n",
       "      <th>pk_cid</th>\n",
       "      <th>short_term_deposit</th>\n",
       "      <th>loans</th>\n",
       "      <th>mortgage</th>\n",
       "      <th>funds</th>\n",
       "      <th>securities</th>\n",
       "      <th>long_term_deposit</th>\n",
       "      <th>em_account_pp</th>\n",
       "      <th>credit_card</th>\n",
       "      <th>...</th>\n",
       "      <th>channel_KFA</th>\n",
       "      <th>country_BE</th>\n",
       "      <th>country_BR</th>\n",
       "      <th>country_CH</th>\n",
       "      <th>country_DE</th>\n",
       "      <th>country_ES</th>\n",
       "      <th>country_FR</th>\n",
       "      <th>country_GB</th>\n",
       "      <th>country_Other</th>\n",
       "      <th>country_US</th>\n",
       "    </tr>\n",
       "  </thead>\n",
       "  <tbody>\n",
       "    <tr>\n",
       "      <th>2</th>\n",
       "      <td>2018-01-28</td>\n",
       "      <td>17457</td>\n",
       "      <td>0.00</td>\n",
       "      <td>0.00</td>\n",
       "      <td>0.00</td>\n",
       "      <td>0.00</td>\n",
       "      <td>0.00</td>\n",
       "      <td>1.00</td>\n",
       "      <td>0.00</td>\n",
       "      <td>0.00</td>\n",
       "      <td>...</td>\n",
       "      <td>0</td>\n",
       "      <td>0</td>\n",
       "      <td>0</td>\n",
       "      <td>0</td>\n",
       "      <td>0</td>\n",
       "      <td>1</td>\n",
       "      <td>0</td>\n",
       "      <td>0</td>\n",
       "      <td>0</td>\n",
       "      <td>0</td>\n",
       "    </tr>\n",
       "    <tr>\n",
       "      <th>3</th>\n",
       "      <td>2018-01-28</td>\n",
       "      <td>17799</td>\n",
       "      <td>0.00</td>\n",
       "      <td>0.00</td>\n",
       "      <td>0.00</td>\n",
       "      <td>0.00</td>\n",
       "      <td>0.00</td>\n",
       "      <td>0.00</td>\n",
       "      <td>0.00</td>\n",
       "      <td>0.00</td>\n",
       "      <td>...</td>\n",
       "      <td>0</td>\n",
       "      <td>0</td>\n",
       "      <td>0</td>\n",
       "      <td>0</td>\n",
       "      <td>0</td>\n",
       "      <td>1</td>\n",
       "      <td>0</td>\n",
       "      <td>0</td>\n",
       "      <td>0</td>\n",
       "      <td>0</td>\n",
       "    </tr>\n",
       "    <tr>\n",
       "      <th>4</th>\n",
       "      <td>2018-01-28</td>\n",
       "      <td>17970</td>\n",
       "      <td>0.00</td>\n",
       "      <td>0.00</td>\n",
       "      <td>0.00</td>\n",
       "      <td>0.00</td>\n",
       "      <td>0.00</td>\n",
       "      <td>0.00</td>\n",
       "      <td>0.00</td>\n",
       "      <td>0.00</td>\n",
       "      <td>...</td>\n",
       "      <td>0</td>\n",
       "      <td>0</td>\n",
       "      <td>0</td>\n",
       "      <td>0</td>\n",
       "      <td>0</td>\n",
       "      <td>1</td>\n",
       "      <td>0</td>\n",
       "      <td>0</td>\n",
       "      <td>0</td>\n",
       "      <td>0</td>\n",
       "    </tr>\n",
       "    <tr>\n",
       "      <th>7</th>\n",
       "      <td>2018-01-28</td>\n",
       "      <td>18704</td>\n",
       "      <td>0.00</td>\n",
       "      <td>0.00</td>\n",
       "      <td>0.00</td>\n",
       "      <td>0.00</td>\n",
       "      <td>0.00</td>\n",
       "      <td>0.00</td>\n",
       "      <td>0.00</td>\n",
       "      <td>0.00</td>\n",
       "      <td>...</td>\n",
       "      <td>0</td>\n",
       "      <td>0</td>\n",
       "      <td>0</td>\n",
       "      <td>0</td>\n",
       "      <td>0</td>\n",
       "      <td>1</td>\n",
       "      <td>0</td>\n",
       "      <td>0</td>\n",
       "      <td>0</td>\n",
       "      <td>0</td>\n",
       "    </tr>\n",
       "    <tr>\n",
       "      <th>8</th>\n",
       "      <td>2018-01-28</td>\n",
       "      <td>19021</td>\n",
       "      <td>0.00</td>\n",
       "      <td>0.00</td>\n",
       "      <td>0.00</td>\n",
       "      <td>0.00</td>\n",
       "      <td>0.00</td>\n",
       "      <td>0.00</td>\n",
       "      <td>0.00</td>\n",
       "      <td>1.00</td>\n",
       "      <td>...</td>\n",
       "      <td>0</td>\n",
       "      <td>0</td>\n",
       "      <td>0</td>\n",
       "      <td>0</td>\n",
       "      <td>0</td>\n",
       "      <td>1</td>\n",
       "      <td>0</td>\n",
       "      <td>0</td>\n",
       "      <td>0</td>\n",
       "      <td>0</td>\n",
       "    </tr>\n",
       "    <tr>\n",
       "      <th>...</th>\n",
       "      <td>...</td>\n",
       "      <td>...</td>\n",
       "      <td>...</td>\n",
       "      <td>...</td>\n",
       "      <td>...</td>\n",
       "      <td>...</td>\n",
       "      <td>...</td>\n",
       "      <td>...</td>\n",
       "      <td>...</td>\n",
       "      <td>...</td>\n",
       "      <td>...</td>\n",
       "      <td>...</td>\n",
       "      <td>...</td>\n",
       "      <td>...</td>\n",
       "      <td>...</td>\n",
       "      <td>...</td>\n",
       "      <td>...</td>\n",
       "      <td>...</td>\n",
       "      <td>...</td>\n",
       "      <td>...</td>\n",
       "      <td>...</td>\n",
       "    </tr>\n",
       "    <tr>\n",
       "      <th>5968579</th>\n",
       "      <td>2019-06-28</td>\n",
       "      <td>1553456</td>\n",
       "      <td>-999.00</td>\n",
       "      <td>-999.00</td>\n",
       "      <td>-999.00</td>\n",
       "      <td>-999.00</td>\n",
       "      <td>-999.00</td>\n",
       "      <td>-999.00</td>\n",
       "      <td>-999.00</td>\n",
       "      <td>-999.00</td>\n",
       "      <td>...</td>\n",
       "      <td>0</td>\n",
       "      <td>0</td>\n",
       "      <td>0</td>\n",
       "      <td>0</td>\n",
       "      <td>0</td>\n",
       "      <td>0</td>\n",
       "      <td>0</td>\n",
       "      <td>0</td>\n",
       "      <td>1</td>\n",
       "      <td>0</td>\n",
       "    </tr>\n",
       "    <tr>\n",
       "      <th>5968580</th>\n",
       "      <td>2019-06-28</td>\n",
       "      <td>1553541</td>\n",
       "      <td>-999.00</td>\n",
       "      <td>-999.00</td>\n",
       "      <td>-999.00</td>\n",
       "      <td>-999.00</td>\n",
       "      <td>-999.00</td>\n",
       "      <td>-999.00</td>\n",
       "      <td>-999.00</td>\n",
       "      <td>-999.00</td>\n",
       "      <td>...</td>\n",
       "      <td>0</td>\n",
       "      <td>0</td>\n",
       "      <td>0</td>\n",
       "      <td>0</td>\n",
       "      <td>0</td>\n",
       "      <td>0</td>\n",
       "      <td>0</td>\n",
       "      <td>0</td>\n",
       "      <td>1</td>\n",
       "      <td>0</td>\n",
       "    </tr>\n",
       "    <tr>\n",
       "      <th>5968581</th>\n",
       "      <td>2019-06-28</td>\n",
       "      <td>1553559</td>\n",
       "      <td>-999.00</td>\n",
       "      <td>-999.00</td>\n",
       "      <td>-999.00</td>\n",
       "      <td>-999.00</td>\n",
       "      <td>-999.00</td>\n",
       "      <td>-999.00</td>\n",
       "      <td>-999.00</td>\n",
       "      <td>-999.00</td>\n",
       "      <td>...</td>\n",
       "      <td>0</td>\n",
       "      <td>0</td>\n",
       "      <td>0</td>\n",
       "      <td>0</td>\n",
       "      <td>0</td>\n",
       "      <td>0</td>\n",
       "      <td>0</td>\n",
       "      <td>0</td>\n",
       "      <td>1</td>\n",
       "      <td>0</td>\n",
       "    </tr>\n",
       "    <tr>\n",
       "      <th>5968582</th>\n",
       "      <td>2019-06-28</td>\n",
       "      <td>1553565</td>\n",
       "      <td>-999.00</td>\n",
       "      <td>-999.00</td>\n",
       "      <td>-999.00</td>\n",
       "      <td>-999.00</td>\n",
       "      <td>-999.00</td>\n",
       "      <td>-999.00</td>\n",
       "      <td>-999.00</td>\n",
       "      <td>-999.00</td>\n",
       "      <td>...</td>\n",
       "      <td>0</td>\n",
       "      <td>0</td>\n",
       "      <td>0</td>\n",
       "      <td>0</td>\n",
       "      <td>0</td>\n",
       "      <td>0</td>\n",
       "      <td>0</td>\n",
       "      <td>0</td>\n",
       "      <td>1</td>\n",
       "      <td>0</td>\n",
       "    </tr>\n",
       "    <tr>\n",
       "      <th>5968583</th>\n",
       "      <td>2019-06-28</td>\n",
       "      <td>1553571</td>\n",
       "      <td>-999.00</td>\n",
       "      <td>-999.00</td>\n",
       "      <td>-999.00</td>\n",
       "      <td>-999.00</td>\n",
       "      <td>-999.00</td>\n",
       "      <td>-999.00</td>\n",
       "      <td>-999.00</td>\n",
       "      <td>-999.00</td>\n",
       "      <td>...</td>\n",
       "      <td>0</td>\n",
       "      <td>0</td>\n",
       "      <td>0</td>\n",
       "      <td>0</td>\n",
       "      <td>0</td>\n",
       "      <td>0</td>\n",
       "      <td>0</td>\n",
       "      <td>0</td>\n",
       "      <td>1</td>\n",
       "      <td>0</td>\n",
       "    </tr>\n",
       "  </tbody>\n",
       "</table>\n",
       "<p>5063970 rows × 219 columns</p>\n",
       "</div>"
      ],
      "text/plain": [
       "        pk_partition   pk_cid  short_term_deposit   loans  mortgage   funds  \\\n",
       "2         2018-01-28    17457                0.00    0.00      0.00    0.00   \n",
       "3         2018-01-28    17799                0.00    0.00      0.00    0.00   \n",
       "4         2018-01-28    17970                0.00    0.00      0.00    0.00   \n",
       "7         2018-01-28    18704                0.00    0.00      0.00    0.00   \n",
       "8         2018-01-28    19021                0.00    0.00      0.00    0.00   \n",
       "...              ...      ...                 ...     ...       ...     ...   \n",
       "5968579   2019-06-28  1553456             -999.00 -999.00   -999.00 -999.00   \n",
       "5968580   2019-06-28  1553541             -999.00 -999.00   -999.00 -999.00   \n",
       "5968581   2019-06-28  1553559             -999.00 -999.00   -999.00 -999.00   \n",
       "5968582   2019-06-28  1553565             -999.00 -999.00   -999.00 -999.00   \n",
       "5968583   2019-06-28  1553571             -999.00 -999.00   -999.00 -999.00   \n",
       "\n",
       "         securities  long_term_deposit  em_account_pp  credit_card  ...  \\\n",
       "2              0.00               1.00           0.00         0.00  ...   \n",
       "3              0.00               0.00           0.00         0.00  ...   \n",
       "4              0.00               0.00           0.00         0.00  ...   \n",
       "7              0.00               0.00           0.00         0.00  ...   \n",
       "8              0.00               0.00           0.00         1.00  ...   \n",
       "...             ...                ...            ...          ...  ...   \n",
       "5968579     -999.00            -999.00        -999.00      -999.00  ...   \n",
       "5968580     -999.00            -999.00        -999.00      -999.00  ...   \n",
       "5968581     -999.00            -999.00        -999.00      -999.00  ...   \n",
       "5968582     -999.00            -999.00        -999.00      -999.00  ...   \n",
       "5968583     -999.00            -999.00        -999.00      -999.00  ...   \n",
       "\n",
       "         channel_KFA  country_BE  country_BR  country_CH  country_DE  \\\n",
       "2                  0           0           0           0           0   \n",
       "3                  0           0           0           0           0   \n",
       "4                  0           0           0           0           0   \n",
       "7                  0           0           0           0           0   \n",
       "8                  0           0           0           0           0   \n",
       "...              ...         ...         ...         ...         ...   \n",
       "5968579            0           0           0           0           0   \n",
       "5968580            0           0           0           0           0   \n",
       "5968581            0           0           0           0           0   \n",
       "5968582            0           0           0           0           0   \n",
       "5968583            0           0           0           0           0   \n",
       "\n",
       "         country_ES  country_FR country_GB country_Other  country_US  \n",
       "2                 1           0          0             0           0  \n",
       "3                 1           0          0             0           0  \n",
       "4                 1           0          0             0           0  \n",
       "7                 1           0          0             0           0  \n",
       "8                 1           0          0             0           0  \n",
       "...             ...         ...        ...           ...         ...  \n",
       "5968579           0           0          0             1           0  \n",
       "5968580           0           0          0             1           0  \n",
       "5968581           0           0          0             1           0  \n",
       "5968582           0           0          0             1           0  \n",
       "5968583           0           0          0             1           0  \n",
       "\n",
       "[5063970 rows x 219 columns]"
      ]
     },
     "execution_count": 64,
     "metadata": {},
     "output_type": "execute_result"
    }
   ],
   "source": [
    "full_df"
   ]
  },
  {
   "cell_type": "code",
   "execution_count": 65,
   "metadata": {
    "ExecuteTime": {
     "end_time": "2020-09-12T15:08:51.754269Z",
     "start_time": "2020-09-12T15:08:42.675503Z"
    }
   },
   "outputs": [
    {
     "name": "stdout",
     "output_type": "stream",
     "text": [
      "Mem. usage decreased to 2347.08 Mb (7.6% reduction)\n"
     ]
    }
   ],
   "source": [
    "reduce_mem_usage(full_df, verbose = True)"
   ]
  },
  {
   "cell_type": "code",
   "execution_count": 71,
   "metadata": {
    "ExecuteTime": {
     "end_time": "2020-09-09T21:56:59.809691Z",
     "start_time": "2020-09-09T21:56:58.879701Z"
    }
   },
   "outputs": [],
   "source": [
    "#full_df.to_pickle('../Datos-Easymoney/fulldf_base_FEOK_VII.pkl',compression='zip')"
   ]
  },
  {
   "cell_type": "code",
   "execution_count": 2,
   "metadata": {
    "ExecuteTime": {
     "end_time": "2020-09-10T07:23:57.728843Z",
     "start_time": "2020-09-10T07:17:15.664037Z"
    }
   },
   "outputs": [],
   "source": [
    "#full_df=pd.read_pickle('../Datos-Easymoney/fulldf_base_FEOK_VII.pkl',compression='zip')"
   ]
  },
  {
   "cell_type": "markdown",
   "metadata": {},
   "source": [
    "# Entrenar modelo para dif_cuentaSimple"
   ]
  },
  {
   "cell_type": "code",
   "execution_count": 66,
   "metadata": {
    "ExecuteTime": {
     "end_time": "2020-09-12T15:09:27.645988Z",
     "start_time": "2020-09-12T15:09:27.548049Z"
    }
   },
   "outputs": [],
   "source": [
    "# split the data into train, validation and test dataset\n",
    "train_index = sorted(list(full_df[\"pk_partition\"].unique()))[5:-3]\n",
    "\n",
    "valida_index = [sorted(list(full_df[\"pk_partition\"].unique()))[-3]]\n",
    "\n",
    "test_index = [sorted(list(full_df[\"pk_partition\"].unique()))[-2]]"
   ]
  },
  {
   "cell_type": "code",
   "execution_count": 67,
   "metadata": {
    "ExecuteTime": {
     "end_time": "2020-09-12T15:10:19.076458Z",
     "start_time": "2020-09-12T15:10:19.069482Z"
    }
   },
   "outputs": [],
   "source": [
    "variables_borrar=['pk_cid',\n",
    "'pk_partition',\n",
    "'short_term_deposit',\n",
    "'loans',\n",
    "'mortgage',\n",
    "'funds',\n",
    "'securities',\n",
    "'long_term_deposit',\n",
    "'em_account_pp',\n",
    "'credit_card',\n",
    "'payroll',\n",
    "'pension_plan',\n",
    "'payroll_account',\n",
    "'emc_account',\n",
    "'debit_card',\n",
    "'em_account_p',\n",
    "'em_acount',\n",
    "'entry_date',\n",
    "'entry_channel',\n",
    "'active_customer',\n",
    "'segment',\n",
    "'country_id',\n",
    "'region_code',\n",
    "'gender',\n",
    "'age',\n",
    "'deceased',\n",
    "'salary',\n",
    "'dif_debit_card',\n",
    "'dif_em_account_p',\n",
    "'dif_em_account_pp',\n",
    "'dif_em_acount',\n",
    "'dif_emc_account',\n",
    "'dif_payroll',\n",
    "'dif_payroll_account',\n",
    "'dif_funds',\n",
    "'dif_long_term_deposit',\n",
    "'dif_mortgage',\n",
    "'dif_pension_plan',\n",
    "'dif_securities',\n",
    "'dif_short_term_deposit',\n",
    "'dif_loans',\n",
    "'dif_credit_card',\n",
    "'mesesAlta',\n",
    "'isNewClient',\n",
    "'isActive',\n",
    "'Provincia',\n",
    "'SalaryQtil',\n",
    "'totalAssets',\n",
    "'totalCuentas',\n",
    "'totalAhorro',\n",
    "'totalFinanciacion',\n",
    "'totalIngresos',\n",
    "'totalBeneficio',\n",
    "'hayAlta',\n",
    "'diasDesdeUltimaAlta',\n",
    "'diasDesdeUltimaAltaInt',\n",
    "'hayBaja',\n",
    "'diasDesdeUltimaBaja',\n",
    "'diasDesdeUltimaBajaInt',\n",
    "'dif_cuentaSimple',\n",
    "'dif_ahorroInversion',                       \n",
    "'dif_financiacion']\n"
   ]
  },
  {
   "cell_type": "code",
   "execution_count": 175,
   "metadata": {
    "ExecuteTime": {
     "end_time": "2020-09-12T15:38:16.496242Z",
     "start_time": "2020-09-12T15:38:14.816211Z"
    }
   },
   "outputs": [
    {
     "data": {
      "text/plain": [
       "79395"
      ]
     },
     "execution_count": 175,
     "metadata": {},
     "output_type": "execute_result"
    }
   ],
   "source": [
    "del X_train,Y_train, X_valida, Y_valida,X_test,Y_test\n",
    "gc.collect()"
   ]
  },
  {
   "cell_type": "code",
   "execution_count": 176,
   "metadata": {
    "ExecuteTime": {
     "end_time": "2020-09-12T15:38:25.165729Z",
     "start_time": "2020-09-12T15:38:17.488156Z"
    }
   },
   "outputs": [],
   "source": [
    "X_train = full_df[full_df[\"pk_partition\"].isin(train_index)].drop(variables_borrar, axis=1)\n",
    "Y_train = full_df[full_df[\"pk_partition\"].isin(train_index)]['dif_cuentaSimple']\n",
    "\n",
    "X_valida = full_df[full_df[\"pk_partition\"].isin(valida_index)].drop(variables_borrar, axis=1)\n",
    "Y_valida = full_df[full_df[\"pk_partition\"].isin(valida_index)]['dif_cuentaSimple']\n",
    "\n",
    "X_test = full_df[full_df[\"pk_partition\"].isin(test_index)].drop(variables_borrar, axis = 1)\n",
    "Y_test = full_df[full_df[\"pk_partition\"].isin(test_index)]['dif_cuentaSimple']\n"
   ]
  },
  {
   "cell_type": "code",
   "execution_count": 69,
   "metadata": {
    "ExecuteTime": {
     "end_time": "2020-09-12T15:10:55.320813Z",
     "start_time": "2020-09-12T15:10:55.317821Z"
    }
   },
   "outputs": [],
   "source": [
    "dt = DecisionTreeClassifier(max_depth=6,random_state=42, min_samples_split=10000)\n",
    "    "
   ]
  },
  {
   "cell_type": "code",
   "execution_count": 177,
   "metadata": {
    "ExecuteTime": {
     "end_time": "2020-09-12T15:38:58.054467Z",
     "start_time": "2020-09-12T15:38:29.011228Z"
    }
   },
   "outputs": [
    {
     "data": {
      "text/plain": [
       "DecisionTreeClassifier(ccp_alpha=0.0, class_weight=None, criterion='gini',\n",
       "                       max_depth=6, max_features=None, max_leaf_nodes=None,\n",
       "                       min_impurity_decrease=0.0, min_impurity_split=None,\n",
       "                       min_samples_leaf=1, min_samples_split=10000,\n",
       "                       min_weight_fraction_leaf=0.0, presort='deprecated',\n",
       "                       random_state=42, splitter='best')"
      ]
     },
     "execution_count": 177,
     "metadata": {},
     "output_type": "execute_result"
    }
   ],
   "source": [
    "dt.fit(X_train,Y_train)\n",
    "    "
   ]
  },
  {
   "cell_type": "code",
   "execution_count": 178,
   "metadata": {
    "ExecuteTime": {
     "end_time": "2020-09-12T15:39:17.661439Z",
     "start_time": "2020-09-12T15:39:15.019962Z"
    }
   },
   "outputs": [
    {
     "name": "stdout",
     "output_type": "stream",
     "text": [
      "Resultados para: Train: 0.9654361661734246 - Test: 0.9683179828699786\n"
     ]
    }
   ],
   "source": [
    "score_train=dt.score(X_train, Y_train)\n",
    "score_test=dt.score(X_valida, Y_valida)\n",
    "print('Resultados para: Train: {} - Test: {}'.format(score_train,score_test))\n"
   ]
  },
  {
   "cell_type": "code",
   "execution_count": 179,
   "metadata": {
    "ExecuteTime": {
     "end_time": "2020-09-12T15:39:21.019825Z",
     "start_time": "2020-09-12T15:39:19.654313Z"
    },
    "scrolled": false
   },
   "outputs": [
    {
     "data": {
      "image/svg+xml": [
       "<?xml version=\"1.0\" encoding=\"UTF-8\" standalone=\"no\"?>\r\n",
       "<!DOCTYPE svg PUBLIC \"-//W3C//DTD SVG 1.1//EN\"\r\n",
       " \"http://www.w3.org/Graphics/SVG/1.1/DTD/svg11.dtd\">\r\n",
       "<!-- Generated by graphviz version 2.38.0 (20140413.2041)\r\n",
       " -->\r\n",
       "<!-- Title: Tree Pages: 1 -->\r\n",
       "<svg width=\"1714pt\" height=\"1645pt\"\r\n",
       " viewBox=\"0.00 0.00 1714.00 1645.00\" xmlns=\"http://www.w3.org/2000/svg\" xmlns:xlink=\"http://www.w3.org/1999/xlink\">\r\n",
       "<g id=\"graph0\" class=\"graph\" transform=\"scale(1 1) rotate(0) translate(4 1641)\">\r\n",
       "<title>Tree</title>\r\n",
       "<polygon fill=\"white\" stroke=\"none\" points=\"-4,4 -4,-1641 1710,-1641 1710,4 -4,4\"/>\r\n",
       "<!-- 0 -->\r\n",
       "<g id=\"node1\" class=\"node\"><title>0</title>\r\n",
       "<path fill=\"#e78946\" stroke=\"black\" d=\"M220,-1230.5C220,-1230.5 12,-1230.5 12,-1230.5 6,-1230.5 0,-1224.5 0,-1218.5 0,-1218.5 0,-1159.5 0,-1159.5 0,-1153.5 6,-1147.5 12,-1147.5 12,-1147.5 220,-1147.5 220,-1147.5 226,-1147.5 232,-1153.5 232,-1159.5 232,-1159.5 232,-1218.5 232,-1218.5 232,-1224.5 226,-1230.5 220,-1230.5\"/>\r\n",
       "<text text-anchor=\"middle\" x=\"116\" y=\"-1215.3\" font-family=\"Helvetica,sans-Serif\" font-size=\"14.00\">payroll_account_shift_1 &lt;= &#45;499.5</text>\r\n",
       "<text text-anchor=\"middle\" x=\"116\" y=\"-1200.3\" font-family=\"Helvetica,sans-Serif\" font-size=\"14.00\">gini = 0.1144</text>\r\n",
       "<text text-anchor=\"middle\" x=\"116\" y=\"-1185.3\" font-family=\"Helvetica,sans-Serif\" font-size=\"14.00\">samples = 100.0%</text>\r\n",
       "<text text-anchor=\"middle\" x=\"116\" y=\"-1170.3\" font-family=\"Helvetica,sans-Serif\" font-size=\"14.00\">value = [0.9391, 0.0609]</text>\r\n",
       "<text text-anchor=\"middle\" x=\"116\" y=\"-1155.3\" font-family=\"Helvetica,sans-Serif\" font-size=\"14.00\">class = No alta</text>\r\n",
       "</g>\r\n",
       "<!-- 1 -->\r\n",
       "<g id=\"node2\" class=\"node\"><title>1</title>\r\n",
       "<path fill=\"#59ade9\" stroke=\"black\" d=\"M434.5,-1410.5C434.5,-1410.5 283.5,-1410.5 283.5,-1410.5 277.5,-1410.5 271.5,-1404.5 271.5,-1398.5 271.5,-1398.5 271.5,-1339.5 271.5,-1339.5 271.5,-1333.5 277.5,-1327.5 283.5,-1327.5 283.5,-1327.5 434.5,-1327.5 434.5,-1327.5 440.5,-1327.5 446.5,-1333.5 446.5,-1339.5 446.5,-1339.5 446.5,-1398.5 446.5,-1398.5 446.5,-1404.5 440.5,-1410.5 434.5,-1410.5\"/>\r\n",
       "<text text-anchor=\"middle\" x=\"359\" y=\"-1395.3\" font-family=\"Helvetica,sans-Serif\" font-size=\"14.00\">entry_date_month &lt;= 6.5</text>\r\n",
       "<text text-anchor=\"middle\" x=\"359\" y=\"-1380.3\" font-family=\"Helvetica,sans-Serif\" font-size=\"14.00\">gini = 0.2407</text>\r\n",
       "<text text-anchor=\"middle\" x=\"359\" y=\"-1365.3\" font-family=\"Helvetica,sans-Serif\" font-size=\"14.00\">samples = 3.1%</text>\r\n",
       "<text text-anchor=\"middle\" x=\"359\" y=\"-1350.3\" font-family=\"Helvetica,sans-Serif\" font-size=\"14.00\">value = [0.1399, 0.8601]</text>\r\n",
       "<text text-anchor=\"middle\" x=\"359\" y=\"-1335.3\" font-family=\"Helvetica,sans-Serif\" font-size=\"14.00\">class = Alta</text>\r\n",
       "</g>\r\n",
       "<!-- 0&#45;&gt;1 -->\r\n",
       "<g id=\"edge1\" class=\"edge\"><title>0&#45;&gt;1</title>\r\n",
       "<path fill=\"none\" stroke=\"black\" d=\"M172.593,-1230.52C208.779,-1257.55 256.096,-1292.89 293.872,-1321.1\"/>\r\n",
       "<polygon fill=\"black\" stroke=\"black\" points=\"292.163,-1324.2 302.27,-1327.38 296.352,-1318.59 292.163,-1324.2\"/>\r\n",
       "<text text-anchor=\"middle\" x=\"277.528\" y=\"-1327.26\" font-family=\"Helvetica,sans-Serif\" font-size=\"14.00\">True</text>\r\n",
       "</g>\r\n",
       "<!-- 20 -->\r\n",
       "<g id=\"node21\" class=\"node\"><title>20</title>\r\n",
       "<path fill=\"#e68640\" stroke=\"black\" d=\"M438,-1051.5C438,-1051.5 280,-1051.5 280,-1051.5 274,-1051.5 268,-1045.5 268,-1039.5 268,-1039.5 268,-980.5 268,-980.5 268,-974.5 274,-968.5 280,-968.5 280,-968.5 438,-968.5 438,-968.5 444,-968.5 450,-974.5 450,-980.5 450,-980.5 450,-1039.5 450,-1039.5 450,-1045.5 444,-1051.5 438,-1051.5\"/>\r\n",
       "<text text-anchor=\"middle\" x=\"359\" y=\"-1036.3\" font-family=\"Helvetica,sans-Serif\" font-size=\"14.00\">em_acount_shift_1 &lt;= 0.5</text>\r\n",
       "<text text-anchor=\"middle\" x=\"359\" y=\"-1021.3\" font-family=\"Helvetica,sans-Serif\" font-size=\"14.00\">gini = 0.0686</text>\r\n",
       "<text text-anchor=\"middle\" x=\"359\" y=\"-1006.3\" font-family=\"Helvetica,sans-Serif\" font-size=\"14.00\">samples = 96.9%</text>\r\n",
       "<text text-anchor=\"middle\" x=\"359\" y=\"-991.3\" font-family=\"Helvetica,sans-Serif\" font-size=\"14.00\">value = [0.9645, 0.0355]</text>\r\n",
       "<text text-anchor=\"middle\" x=\"359\" y=\"-976.3\" font-family=\"Helvetica,sans-Serif\" font-size=\"14.00\">class = No alta</text>\r\n",
       "</g>\r\n",
       "<!-- 0&#45;&gt;20 -->\r\n",
       "<g id=\"edge20\" class=\"edge\"><title>0&#45;&gt;20</title>\r\n",
       "<path fill=\"none\" stroke=\"black\" d=\"M172.896,-1147.48C208.963,-1120.7 255.994,-1085.76 293.623,-1057.82\"/>\r\n",
       "<polygon fill=\"black\" stroke=\"black\" points=\"296.049,-1060.37 301.99,-1051.6 291.875,-1054.75 296.049,-1060.37\"/>\r\n",
       "<text text-anchor=\"middle\" x=\"277.258\" y=\"-1044.25\" font-family=\"Helvetica,sans-Serif\" font-size=\"14.00\">False</text>\r\n",
       "</g>\r\n",
       "<!-- 2 -->\r\n",
       "<g id=\"node3\" class=\"node\"><title>2</title>\r\n",
       "<path fill=\"#92c9f1\" stroke=\"black\" d=\"M672.5,-1558.5C672.5,-1558.5 526.5,-1558.5 526.5,-1558.5 520.5,-1558.5 514.5,-1552.5 514.5,-1546.5 514.5,-1546.5 514.5,-1487.5 514.5,-1487.5 514.5,-1481.5 520.5,-1475.5 526.5,-1475.5 526.5,-1475.5 672.5,-1475.5 672.5,-1475.5 678.5,-1475.5 684.5,-1481.5 684.5,-1487.5 684.5,-1487.5 684.5,-1546.5 684.5,-1546.5 684.5,-1552.5 678.5,-1558.5 672.5,-1558.5\"/>\r\n",
       "<text text-anchor=\"middle\" x=\"599.5\" y=\"-1543.3\" font-family=\"Helvetica,sans-Serif\" font-size=\"14.00\">entry_date_day &lt;= 19.5</text>\r\n",
       "<text text-anchor=\"middle\" x=\"599.5\" y=\"-1528.3\" font-family=\"Helvetica,sans-Serif\" font-size=\"14.00\">gini = 0.4273</text>\r\n",
       "<text text-anchor=\"middle\" x=\"599.5\" y=\"-1513.3\" font-family=\"Helvetica,sans-Serif\" font-size=\"14.00\">samples = 0.5%</text>\r\n",
       "<text text-anchor=\"middle\" x=\"599.5\" y=\"-1498.3\" font-family=\"Helvetica,sans-Serif\" font-size=\"14.00\">value = [0.3093, 0.6907]</text>\r\n",
       "<text text-anchor=\"middle\" x=\"599.5\" y=\"-1483.3\" font-family=\"Helvetica,sans-Serif\" font-size=\"14.00\">class = Alta</text>\r\n",
       "</g>\r\n",
       "<!-- 1&#45;&gt;2 -->\r\n",
       "<g id=\"edge2\" class=\"edge\"><title>1&#45;&gt;2</title>\r\n",
       "<path fill=\"none\" stroke=\"black\" d=\"M427.07,-1410.62C456.917,-1429.14 492.197,-1451.03 522.969,-1470.13\"/>\r\n",
       "<polygon fill=\"black\" stroke=\"black\" points=\"521.178,-1473.14 531.52,-1475.44 524.869,-1467.19 521.178,-1473.14\"/>\r\n",
       "</g>\r\n",
       "<!-- 5 -->\r\n",
       "<g id=\"node6\" class=\"node\"><title>5</title>\r\n",
       "<path fill=\"#51a9e8\" stroke=\"black\" d=\"M672.5,-1410.5C672.5,-1410.5 526.5,-1410.5 526.5,-1410.5 520.5,-1410.5 514.5,-1404.5 514.5,-1398.5 514.5,-1398.5 514.5,-1339.5 514.5,-1339.5 514.5,-1333.5 520.5,-1327.5 526.5,-1327.5 526.5,-1327.5 672.5,-1327.5 672.5,-1327.5 678.5,-1327.5 684.5,-1333.5 684.5,-1339.5 684.5,-1339.5 684.5,-1398.5 684.5,-1398.5 684.5,-1404.5 678.5,-1410.5 672.5,-1410.5\"/>\r\n",
       "<text text-anchor=\"middle\" x=\"599.5\" y=\"-1395.3\" font-family=\"Helvetica,sans-Serif\" font-size=\"14.00\">entry_date_day &lt;= 22.5</text>\r\n",
       "<text text-anchor=\"middle\" x=\"599.5\" y=\"-1380.3\" font-family=\"Helvetica,sans-Serif\" font-size=\"14.00\">gini = 0.1904</text>\r\n",
       "<text text-anchor=\"middle\" x=\"599.5\" y=\"-1365.3\" font-family=\"Helvetica,sans-Serif\" font-size=\"14.00\">samples = 2.6%</text>\r\n",
       "<text text-anchor=\"middle\" x=\"599.5\" y=\"-1350.3\" font-family=\"Helvetica,sans-Serif\" font-size=\"14.00\">value = [0.1066, 0.8934]</text>\r\n",
       "<text text-anchor=\"middle\" x=\"599.5\" y=\"-1335.3\" font-family=\"Helvetica,sans-Serif\" font-size=\"14.00\">class = Alta</text>\r\n",
       "</g>\r\n",
       "<!-- 1&#45;&gt;5 -->\r\n",
       "<g id=\"edge5\" class=\"edge\"><title>1&#45;&gt;5</title>\r\n",
       "<path fill=\"none\" stroke=\"black\" d=\"M446.779,-1369C465.407,-1369 485.18,-1369 504.081,-1369\"/>\r\n",
       "<polygon fill=\"black\" stroke=\"black\" points=\"504.177,-1372.5 514.177,-1369 504.177,-1365.5 504.177,-1372.5\"/>\r\n",
       "</g>\r\n",
       "<!-- 3 -->\r\n",
       "<g id=\"node4\" class=\"node\"><title>3</title>\r\n",
       "<path fill=\"#6ab5eb\" stroke=\"black\" d=\"M939,-1637C939,-1637 793,-1637 793,-1637 787,-1637 781,-1631 781,-1625 781,-1625 781,-1581 781,-1581 781,-1575 787,-1569 793,-1569 793,-1569 939,-1569 939,-1569 945,-1569 951,-1575 951,-1581 951,-1581 951,-1625 951,-1625 951,-1631 945,-1637 939,-1637\"/>\r\n",
       "<text text-anchor=\"middle\" x=\"866\" y=\"-1621.8\" font-family=\"Helvetica,sans-Serif\" font-size=\"14.00\">gini = 0.3199</text>\r\n",
       "<text text-anchor=\"middle\" x=\"866\" y=\"-1606.8\" font-family=\"Helvetica,sans-Serif\" font-size=\"14.00\">samples = 0.3%</text>\r\n",
       "<text text-anchor=\"middle\" x=\"866\" y=\"-1591.8\" font-family=\"Helvetica,sans-Serif\" font-size=\"14.00\">value = [0.1999, 0.8001]</text>\r\n",
       "<text text-anchor=\"middle\" x=\"866\" y=\"-1576.8\" font-family=\"Helvetica,sans-Serif\" font-size=\"14.00\">class = Alta</text>\r\n",
       "</g>\r\n",
       "<!-- 2&#45;&gt;3 -->\r\n",
       "<g id=\"edge3\" class=\"edge\"><title>2&#45;&gt;3</title>\r\n",
       "<path fill=\"none\" stroke=\"black\" d=\"M684.553,-1544.33C712.022,-1553.26 742.704,-1563.24 770.866,-1572.39\"/>\r\n",
       "<polygon fill=\"black\" stroke=\"black\" points=\"770.12,-1575.83 780.712,-1575.59 772.284,-1569.17 770.12,-1575.83\"/>\r\n",
       "</g>\r\n",
       "<!-- 4 -->\r\n",
       "<g id=\"node5\" class=\"node\"><title>4</title>\r\n",
       "<path fill=\"#ffffff\" stroke=\"black\" d=\"M939,-1551C939,-1551 793,-1551 793,-1551 787,-1551 781,-1545 781,-1539 781,-1539 781,-1495 781,-1495 781,-1489 787,-1483 793,-1483 793,-1483 939,-1483 939,-1483 945,-1483 951,-1489 951,-1495 951,-1495 951,-1539 951,-1539 951,-1545 945,-1551 939,-1551\"/>\r\n",
       "<text text-anchor=\"middle\" x=\"866\" y=\"-1535.8\" font-family=\"Helvetica,sans-Serif\" font-size=\"14.00\">gini = 0.5</text>\r\n",
       "<text text-anchor=\"middle\" x=\"866\" y=\"-1520.8\" font-family=\"Helvetica,sans-Serif\" font-size=\"14.00\">samples = 0.2%</text>\r\n",
       "<text text-anchor=\"middle\" x=\"866\" y=\"-1505.8\" font-family=\"Helvetica,sans-Serif\" font-size=\"14.00\">value = [0.5006, 0.4994]</text>\r\n",
       "<text text-anchor=\"middle\" x=\"866\" y=\"-1490.8\" font-family=\"Helvetica,sans-Serif\" font-size=\"14.00\">class = No alta</text>\r\n",
       "</g>\r\n",
       "<!-- 2&#45;&gt;4 -->\r\n",
       "<g id=\"edge4\" class=\"edge\"><title>2&#45;&gt;4</title>\r\n",
       "<path fill=\"none\" stroke=\"black\" d=\"M684.553,-1517C711.902,-1517 742.436,-1517 770.496,-1517\"/>\r\n",
       "<polygon fill=\"black\" stroke=\"black\" points=\"770.712,-1520.5 780.712,-1517 770.712,-1513.5 770.712,-1520.5\"/>\r\n",
       "</g>\r\n",
       "<!-- 6 -->\r\n",
       "<g id=\"node7\" class=\"node\"><title>6</title>\r\n",
       "<path fill=\"#4aa6e7\" stroke=\"black\" d=\"M939,-1464.5C939,-1464.5 793,-1464.5 793,-1464.5 787,-1464.5 781,-1458.5 781,-1452.5 781,-1452.5 781,-1393.5 781,-1393.5 781,-1387.5 787,-1381.5 793,-1381.5 793,-1381.5 939,-1381.5 939,-1381.5 945,-1381.5 951,-1387.5 951,-1393.5 951,-1393.5 951,-1452.5 951,-1452.5 951,-1458.5 945,-1464.5 939,-1464.5\"/>\r\n",
       "<text text-anchor=\"middle\" x=\"866\" y=\"-1449.3\" font-family=\"Helvetica,sans-Serif\" font-size=\"14.00\">channel_XXX &lt;= 0.5</text>\r\n",
       "<text text-anchor=\"middle\" x=\"866\" y=\"-1434.3\" font-family=\"Helvetica,sans-Serif\" font-size=\"14.00\">gini = 0.1491</text>\r\n",
       "<text text-anchor=\"middle\" x=\"866\" y=\"-1419.3\" font-family=\"Helvetica,sans-Serif\" font-size=\"14.00\">samples = 1.8%</text>\r\n",
       "<text text-anchor=\"middle\" x=\"866\" y=\"-1404.3\" font-family=\"Helvetica,sans-Serif\" font-size=\"14.00\">value = [0.0812, 0.9188]</text>\r\n",
       "<text text-anchor=\"middle\" x=\"866\" y=\"-1389.3\" font-family=\"Helvetica,sans-Serif\" font-size=\"14.00\">class = Alta</text>\r\n",
       "</g>\r\n",
       "<!-- 5&#45;&gt;6 -->\r\n",
       "<g id=\"edge6\" class=\"edge\"><title>5&#45;&gt;6</title>\r\n",
       "<path fill=\"none\" stroke=\"black\" d=\"M684.553,-1386.16C712.022,-1391.77 742.704,-1398.03 770.866,-1403.78\"/>\r\n",
       "<polygon fill=\"black\" stroke=\"black\" points=\"770.214,-1407.22 780.712,-1405.79 771.614,-1400.36 770.214,-1407.22\"/>\r\n",
       "</g>\r\n",
       "<!-- 13 -->\r\n",
       "<g id=\"node14\" class=\"node\"><title>13</title>\r\n",
       "<path fill=\"#5fb0ea\" stroke=\"black\" d=\"M939,-1363.5C939,-1363.5 793,-1363.5 793,-1363.5 787,-1363.5 781,-1357.5 781,-1351.5 781,-1351.5 781,-1292.5 781,-1292.5 781,-1286.5 787,-1280.5 793,-1280.5 793,-1280.5 939,-1280.5 939,-1280.5 945,-1280.5 951,-1286.5 951,-1292.5 951,-1292.5 951,-1351.5 951,-1351.5 951,-1357.5 945,-1363.5 939,-1363.5\"/>\r\n",
       "<text text-anchor=\"middle\" x=\"866\" y=\"-1348.3\" font-family=\"Helvetica,sans-Serif\" font-size=\"14.00\">channel_KHQ &lt;= 0.5</text>\r\n",
       "<text text-anchor=\"middle\" x=\"866\" y=\"-1333.3\" font-family=\"Helvetica,sans-Serif\" font-size=\"14.00\">gini = 0.2713</text>\r\n",
       "<text text-anchor=\"middle\" x=\"866\" y=\"-1318.3\" font-family=\"Helvetica,sans-Serif\" font-size=\"14.00\">samples = 0.8%</text>\r\n",
       "<text text-anchor=\"middle\" x=\"866\" y=\"-1303.3\" font-family=\"Helvetica,sans-Serif\" font-size=\"14.00\">value = [0.1619, 0.8381]</text>\r\n",
       "<text text-anchor=\"middle\" x=\"866\" y=\"-1288.3\" font-family=\"Helvetica,sans-Serif\" font-size=\"14.00\">class = Alta</text>\r\n",
       "</g>\r\n",
       "<!-- 5&#45;&gt;13 -->\r\n",
       "<g id=\"edge13\" class=\"edge\"><title>5&#45;&gt;13</title>\r\n",
       "<path fill=\"none\" stroke=\"black\" d=\"M684.553,-1354.06C712.022,-1349.18 742.704,-1343.73 770.866,-1338.73\"/>\r\n",
       "<polygon fill=\"black\" stroke=\"black\" points=\"771.479,-1342.17 780.712,-1336.98 770.254,-1335.28 771.479,-1342.17\"/>\r\n",
       "</g>\r\n",
       "<!-- 7 -->\r\n",
       "<g id=\"node8\" class=\"node\"><title>7</title>\r\n",
       "<path fill=\"#87c3ef\" stroke=\"black\" d=\"M1197.5,-1551C1197.5,-1551 1051.5,-1551 1051.5,-1551 1045.5,-1551 1039.5,-1545 1039.5,-1539 1039.5,-1539 1039.5,-1495 1039.5,-1495 1039.5,-1489 1045.5,-1483 1051.5,-1483 1051.5,-1483 1197.5,-1483 1197.5,-1483 1203.5,-1483 1209.5,-1489 1209.5,-1495 1209.5,-1495 1209.5,-1539 1209.5,-1539 1209.5,-1545 1203.5,-1551 1197.5,-1551\"/>\r\n",
       "<text text-anchor=\"middle\" x=\"1124.5\" y=\"-1535.8\" font-family=\"Helvetica,sans-Serif\" font-size=\"14.00\">gini = 0.4047</text>\r\n",
       "<text text-anchor=\"middle\" x=\"1124.5\" y=\"-1520.8\" font-family=\"Helvetica,sans-Serif\" font-size=\"14.00\">samples = 0.0%</text>\r\n",
       "<text text-anchor=\"middle\" x=\"1124.5\" y=\"-1505.8\" font-family=\"Helvetica,sans-Serif\" font-size=\"14.00\">value = [0.2817, 0.7183]</text>\r\n",
       "<text text-anchor=\"middle\" x=\"1124.5\" y=\"-1490.8\" font-family=\"Helvetica,sans-Serif\" font-size=\"14.00\">class = Alta</text>\r\n",
       "</g>\r\n",
       "<!-- 6&#45;&gt;7 -->\r\n",
       "<g id=\"edge7\" class=\"edge\"><title>6&#45;&gt;7</title>\r\n",
       "<path fill=\"none\" stroke=\"black\" d=\"M951.343,-1453.91C976.332,-1463.07 1003.85,-1473.15 1029.41,-1482.52\"/>\r\n",
       "<polygon fill=\"black\" stroke=\"black\" points=\"1028.51,-1485.92 1039.11,-1486.07 1030.92,-1479.34 1028.51,-1485.92\"/>\r\n",
       "</g>\r\n",
       "<!-- 8 -->\r\n",
       "<g id=\"node9\" class=\"node\"><title>8</title>\r\n",
       "<path fill=\"#49a5e7\" stroke=\"black\" d=\"M1206.5,-1464.5C1206.5,-1464.5 1042.5,-1464.5 1042.5,-1464.5 1036.5,-1464.5 1030.5,-1458.5 1030.5,-1452.5 1030.5,-1452.5 1030.5,-1393.5 1030.5,-1393.5 1030.5,-1387.5 1036.5,-1381.5 1042.5,-1381.5 1042.5,-1381.5 1206.5,-1381.5 1206.5,-1381.5 1212.5,-1381.5 1218.5,-1387.5 1218.5,-1393.5 1218.5,-1393.5 1218.5,-1452.5 1218.5,-1452.5 1218.5,-1458.5 1212.5,-1464.5 1206.5,-1464.5\"/>\r\n",
       "<text text-anchor=\"middle\" x=\"1124.5\" y=\"-1449.3\" font-family=\"Helvetica,sans-Serif\" font-size=\"14.00\">entry_date_year &lt;= 2017.5</text>\r\n",
       "<text text-anchor=\"middle\" x=\"1124.5\" y=\"-1434.3\" font-family=\"Helvetica,sans-Serif\" font-size=\"14.00\">gini = 0.1402</text>\r\n",
       "<text text-anchor=\"middle\" x=\"1124.5\" y=\"-1419.3\" font-family=\"Helvetica,sans-Serif\" font-size=\"14.00\">samples = 1.7%</text>\r\n",
       "<text text-anchor=\"middle\" x=\"1124.5\" y=\"-1404.3\" font-family=\"Helvetica,sans-Serif\" font-size=\"14.00\">value = [0.0758, 0.9242]</text>\r\n",
       "<text text-anchor=\"middle\" x=\"1124.5\" y=\"-1389.3\" font-family=\"Helvetica,sans-Serif\" font-size=\"14.00\">class = Alta</text>\r\n",
       "</g>\r\n",
       "<!-- 6&#45;&gt;8 -->\r\n",
       "<g id=\"edge8\" class=\"edge\"><title>6&#45;&gt;8</title>\r\n",
       "<path fill=\"none\" stroke=\"black\" d=\"M951.343,-1423C973.347,-1423 997.313,-1423 1020.18,-1423\"/>\r\n",
       "<polygon fill=\"black\" stroke=\"black\" points=\"1020.25,-1426.5 1030.25,-1423 1020.25,-1419.5 1020.25,-1426.5\"/>\r\n",
       "</g>\r\n",
       "<!-- 9 -->\r\n",
       "<g id=\"node10\" class=\"node\"><title>9</title>\r\n",
       "<path fill=\"#e9965b\" stroke=\"black\" d=\"M1456,-1551C1456,-1551 1310,-1551 1310,-1551 1304,-1551 1298,-1545 1298,-1539 1298,-1539 1298,-1495 1298,-1495 1298,-1489 1304,-1483 1310,-1483 1310,-1483 1456,-1483 1456,-1483 1462,-1483 1468,-1489 1468,-1495 1468,-1495 1468,-1539 1468,-1539 1468,-1545 1462,-1551 1456,-1551\"/>\r\n",
       "<text text-anchor=\"middle\" x=\"1383\" y=\"-1535.8\" font-family=\"Helvetica,sans-Serif\" font-size=\"14.00\">gini = 0.2484</text>\r\n",
       "<text text-anchor=\"middle\" x=\"1383\" y=\"-1520.8\" font-family=\"Helvetica,sans-Serif\" font-size=\"14.00\">samples = 0.0%</text>\r\n",
       "<text text-anchor=\"middle\" x=\"1383\" y=\"-1505.8\" font-family=\"Helvetica,sans-Serif\" font-size=\"14.00\">value = [0.8547, 0.1453]</text>\r\n",
       "<text text-anchor=\"middle\" x=\"1383\" y=\"-1490.8\" font-family=\"Helvetica,sans-Serif\" font-size=\"14.00\">class = No alta</text>\r\n",
       "</g>\r\n",
       "<!-- 8&#45;&gt;9 -->\r\n",
       "<g id=\"edge9\" class=\"edge\"><title>8&#45;&gt;9</title>\r\n",
       "<path fill=\"none\" stroke=\"black\" d=\"M1218.83,-1457.2C1241.39,-1465.47 1265.51,-1474.31 1288.1,-1482.59\"/>\r\n",
       "<polygon fill=\"black\" stroke=\"black\" points=\"1287.08,-1485.94 1297.67,-1486.1 1289.49,-1479.37 1287.08,-1485.94\"/>\r\n",
       "</g>\r\n",
       "<!-- 10 -->\r\n",
       "<g id=\"node11\" class=\"node\"><title>10</title>\r\n",
       "<path fill=\"#49a5e7\" stroke=\"black\" d=\"M1462.5,-1464.5C1462.5,-1464.5 1303.5,-1464.5 1303.5,-1464.5 1297.5,-1464.5 1291.5,-1458.5 1291.5,-1452.5 1291.5,-1452.5 1291.5,-1393.5 1291.5,-1393.5 1291.5,-1387.5 1297.5,-1381.5 1303.5,-1381.5 1303.5,-1381.5 1462.5,-1381.5 1462.5,-1381.5 1468.5,-1381.5 1474.5,-1387.5 1474.5,-1393.5 1474.5,-1393.5 1474.5,-1452.5 1474.5,-1452.5 1474.5,-1458.5 1468.5,-1464.5 1462.5,-1464.5\"/>\r\n",
       "<text text-anchor=\"middle\" x=\"1383\" y=\"-1449.3\" font-family=\"Helvetica,sans-Serif\" font-size=\"14.00\">entry_date_month &lt;= 11.5</text>\r\n",
       "<text text-anchor=\"middle\" x=\"1383\" y=\"-1434.3\" font-family=\"Helvetica,sans-Serif\" font-size=\"14.00\">gini = 0.1371</text>\r\n",
       "<text text-anchor=\"middle\" x=\"1383\" y=\"-1419.3\" font-family=\"Helvetica,sans-Serif\" font-size=\"14.00\">samples = 1.7%</text>\r\n",
       "<text text-anchor=\"middle\" x=\"1383\" y=\"-1404.3\" font-family=\"Helvetica,sans-Serif\" font-size=\"14.00\">value = [0.074, 0.926]</text>\r\n",
       "<text text-anchor=\"middle\" x=\"1383\" y=\"-1389.3\" font-family=\"Helvetica,sans-Serif\" font-size=\"14.00\">class = Alta</text>\r\n",
       "</g>\r\n",
       "<!-- 8&#45;&gt;10 -->\r\n",
       "<g id=\"edge10\" class=\"edge\"><title>8&#45;&gt;10</title>\r\n",
       "<path fill=\"none\" stroke=\"black\" d=\"M1218.83,-1423C1239.14,-1423 1260.72,-1423 1281.3,-1423\"/>\r\n",
       "<polygon fill=\"black\" stroke=\"black\" points=\"1281.31,-1426.5 1291.31,-1423 1281.31,-1419.5 1281.31,-1426.5\"/>\r\n",
       "</g>\r\n",
       "<!-- 11 -->\r\n",
       "<g id=\"node12\" class=\"node\"><title>11</title>\r\n",
       "<path fill=\"#47a4e7\" stroke=\"black\" d=\"M1694,-1536C1694,-1536 1548,-1536 1548,-1536 1542,-1536 1536,-1530 1536,-1524 1536,-1524 1536,-1480 1536,-1480 1536,-1474 1542,-1468 1548,-1468 1548,-1468 1694,-1468 1694,-1468 1700,-1468 1706,-1474 1706,-1480 1706,-1480 1706,-1524 1706,-1524 1706,-1530 1700,-1536 1694,-1536\"/>\r\n",
       "<text text-anchor=\"middle\" x=\"1621\" y=\"-1520.8\" font-family=\"Helvetica,sans-Serif\" font-size=\"14.00\">gini = 0.1264</text>\r\n",
       "<text text-anchor=\"middle\" x=\"1621\" y=\"-1505.8\" font-family=\"Helvetica,sans-Serif\" font-size=\"14.00\">samples = 1.6%</text>\r\n",
       "<text text-anchor=\"middle\" x=\"1621\" y=\"-1490.8\" font-family=\"Helvetica,sans-Serif\" font-size=\"14.00\">value = [0.0678, 0.9322]</text>\r\n",
       "<text text-anchor=\"middle\" x=\"1621\" y=\"-1475.8\" font-family=\"Helvetica,sans-Serif\" font-size=\"14.00\">class = Alta</text>\r\n",
       "</g>\r\n",
       "<!-- 10&#45;&gt;11 -->\r\n",
       "<g id=\"edge11\" class=\"edge\"><title>10&#45;&gt;11</title>\r\n",
       "<path fill=\"none\" stroke=\"black\" d=\"M1474.57,-1453.32C1491.41,-1458.96 1509.04,-1464.86 1525.99,-1470.53\"/>\r\n",
       "<polygon fill=\"black\" stroke=\"black\" points=\"1525.28,-1473.98 1535.87,-1473.84 1527.5,-1467.34 1525.28,-1473.98\"/>\r\n",
       "</g>\r\n",
       "<!-- 12 -->\r\n",
       "<g id=\"node13\" class=\"node\"><title>12</title>\r\n",
       "<path fill=\"#63b2eb\" stroke=\"black\" d=\"M1694,-1450C1694,-1450 1548,-1450 1548,-1450 1542,-1450 1536,-1444 1536,-1438 1536,-1438 1536,-1394 1536,-1394 1536,-1388 1542,-1382 1548,-1382 1548,-1382 1694,-1382 1694,-1382 1700,-1382 1706,-1388 1706,-1394 1706,-1394 1706,-1438 1706,-1438 1706,-1444 1700,-1450 1694,-1450\"/>\r\n",
       "<text text-anchor=\"middle\" x=\"1621\" y=\"-1434.8\" font-family=\"Helvetica,sans-Serif\" font-size=\"14.00\">gini = 0.2896</text>\r\n",
       "<text text-anchor=\"middle\" x=\"1621\" y=\"-1419.8\" font-family=\"Helvetica,sans-Serif\" font-size=\"14.00\">samples = 0.1%</text>\r\n",
       "<text text-anchor=\"middle\" x=\"1621\" y=\"-1404.8\" font-family=\"Helvetica,sans-Serif\" font-size=\"14.00\">value = [0.1757, 0.8243]</text>\r\n",
       "<text text-anchor=\"middle\" x=\"1621\" y=\"-1389.8\" font-family=\"Helvetica,sans-Serif\" font-size=\"14.00\">class = Alta</text>\r\n",
       "</g>\r\n",
       "<!-- 10&#45;&gt;12 -->\r\n",
       "<g id=\"edge12\" class=\"edge\"><title>10&#45;&gt;12</title>\r\n",
       "<path fill=\"none\" stroke=\"black\" d=\"M1474.57,-1420.31C1491.25,-1419.82 1508.71,-1419.3 1525.51,-1418.8\"/>\r\n",
       "<polygon fill=\"black\" stroke=\"black\" points=\"1525.98,-1422.29 1535.87,-1418.5 1525.77,-1415.29 1525.98,-1422.29\"/>\r\n",
       "</g>\r\n",
       "<!-- 14 -->\r\n",
       "<g id=\"node15\" class=\"node\"><title>14</title>\r\n",
       "<path fill=\"#6ab5eb\" stroke=\"black\" d=\"M1197.5,-1363.5C1197.5,-1363.5 1051.5,-1363.5 1051.5,-1363.5 1045.5,-1363.5 1039.5,-1357.5 1039.5,-1351.5 1039.5,-1351.5 1039.5,-1292.5 1039.5,-1292.5 1039.5,-1286.5 1045.5,-1280.5 1051.5,-1280.5 1051.5,-1280.5 1197.5,-1280.5 1197.5,-1280.5 1203.5,-1280.5 1209.5,-1286.5 1209.5,-1292.5 1209.5,-1292.5 1209.5,-1351.5 1209.5,-1351.5 1209.5,-1357.5 1203.5,-1363.5 1197.5,-1363.5\"/>\r\n",
       "<text text-anchor=\"middle\" x=\"1124.5\" y=\"-1348.3\" font-family=\"Helvetica,sans-Serif\" font-size=\"14.00\">entry_date_day &lt;= 28.5</text>\r\n",
       "<text text-anchor=\"middle\" x=\"1124.5\" y=\"-1333.3\" font-family=\"Helvetica,sans-Serif\" font-size=\"14.00\">gini = 0.3161</text>\r\n",
       "<text text-anchor=\"middle\" x=\"1124.5\" y=\"-1318.3\" font-family=\"Helvetica,sans-Serif\" font-size=\"14.00\">samples = 0.7%</text>\r\n",
       "<text text-anchor=\"middle\" x=\"1124.5\" y=\"-1303.3\" font-family=\"Helvetica,sans-Serif\" font-size=\"14.00\">value = [0.1968, 0.8032]</text>\r\n",
       "<text text-anchor=\"middle\" x=\"1124.5\" y=\"-1288.3\" font-family=\"Helvetica,sans-Serif\" font-size=\"14.00\">class = Alta</text>\r\n",
       "</g>\r\n",
       "<!-- 13&#45;&gt;14 -->\r\n",
       "<g id=\"edge14\" class=\"edge\"><title>13&#45;&gt;14</title>\r\n",
       "<path fill=\"none\" stroke=\"black\" d=\"M951.343,-1322C976.221,-1322 1003.61,-1322 1029.08,-1322\"/>\r\n",
       "<polygon fill=\"black\" stroke=\"black\" points=\"1029.11,-1325.5 1039.11,-1322 1029.11,-1318.5 1029.11,-1325.5\"/>\r\n",
       "</g>\r\n",
       "<!-- 19 -->\r\n",
       "<g id=\"node20\" class=\"node\"><title>19</title>\r\n",
       "<path fill=\"#3d9fe5\" stroke=\"black\" d=\"M1197.5,-1262C1197.5,-1262 1051.5,-1262 1051.5,-1262 1045.5,-1262 1039.5,-1256 1039.5,-1250 1039.5,-1250 1039.5,-1206 1039.5,-1206 1039.5,-1200 1045.5,-1194 1051.5,-1194 1051.5,-1194 1197.5,-1194 1197.5,-1194 1203.5,-1194 1209.5,-1200 1209.5,-1206 1209.5,-1206 1209.5,-1250 1209.5,-1250 1209.5,-1256 1203.5,-1262 1197.5,-1262\"/>\r\n",
       "<text text-anchor=\"middle\" x=\"1124.5\" y=\"-1246.8\" font-family=\"Helvetica,sans-Serif\" font-size=\"14.00\">gini = 0.0349</text>\r\n",
       "<text text-anchor=\"middle\" x=\"1124.5\" y=\"-1231.8\" font-family=\"Helvetica,sans-Serif\" font-size=\"14.00\">samples = 0.2%</text>\r\n",
       "<text text-anchor=\"middle\" x=\"1124.5\" y=\"-1216.8\" font-family=\"Helvetica,sans-Serif\" font-size=\"14.00\">value = [0.0178, 0.9822]</text>\r\n",
       "<text text-anchor=\"middle\" x=\"1124.5\" y=\"-1201.8\" font-family=\"Helvetica,sans-Serif\" font-size=\"14.00\">class = Alta</text>\r\n",
       "</g>\r\n",
       "<!-- 13&#45;&gt;19 -->\r\n",
       "<g id=\"edge19\" class=\"edge\"><title>13&#45;&gt;19</title>\r\n",
       "<path fill=\"none\" stroke=\"black\" d=\"M951.343,-1291.09C976.332,-1281.93 1003.85,-1271.85 1029.41,-1262.48\"/>\r\n",
       "<polygon fill=\"black\" stroke=\"black\" points=\"1030.92,-1265.66 1039.11,-1258.93 1028.51,-1259.08 1030.92,-1265.66\"/>\r\n",
       "</g>\r\n",
       "<!-- 15 -->\r\n",
       "<g id=\"node16\" class=\"node\"><title>15</title>\r\n",
       "<path fill=\"#61b1ea\" stroke=\"black\" d=\"M1462.5,-1363.5C1462.5,-1363.5 1303.5,-1363.5 1303.5,-1363.5 1297.5,-1363.5 1291.5,-1357.5 1291.5,-1351.5 1291.5,-1351.5 1291.5,-1292.5 1291.5,-1292.5 1291.5,-1286.5 1297.5,-1280.5 1303.5,-1280.5 1303.5,-1280.5 1462.5,-1280.5 1462.5,-1280.5 1468.5,-1280.5 1474.5,-1286.5 1474.5,-1292.5 1474.5,-1292.5 1474.5,-1351.5 1474.5,-1351.5 1474.5,-1357.5 1468.5,-1363.5 1462.5,-1363.5\"/>\r\n",
       "<text text-anchor=\"middle\" x=\"1383\" y=\"-1348.3\" font-family=\"Helvetica,sans-Serif\" font-size=\"14.00\">entry_date_month &lt;= 10.5</text>\r\n",
       "<text text-anchor=\"middle\" x=\"1383\" y=\"-1333.3\" font-family=\"Helvetica,sans-Serif\" font-size=\"14.00\">gini = 0.2801</text>\r\n",
       "<text text-anchor=\"middle\" x=\"1383\" y=\"-1318.3\" font-family=\"Helvetica,sans-Serif\" font-size=\"14.00\">samples = 0.6%</text>\r\n",
       "<text text-anchor=\"middle\" x=\"1383\" y=\"-1303.3\" font-family=\"Helvetica,sans-Serif\" font-size=\"14.00\">value = [0.1684, 0.8316]</text>\r\n",
       "<text text-anchor=\"middle\" x=\"1383\" y=\"-1288.3\" font-family=\"Helvetica,sans-Serif\" font-size=\"14.00\">class = Alta</text>\r\n",
       "</g>\r\n",
       "<!-- 14&#45;&gt;15 -->\r\n",
       "<g id=\"edge15\" class=\"edge\"><title>14&#45;&gt;15</title>\r\n",
       "<path fill=\"none\" stroke=\"black\" d=\"M1209.84,-1322C1232.71,-1322 1257.7,-1322 1281.37,-1322\"/>\r\n",
       "<polygon fill=\"black\" stroke=\"black\" points=\"1281.42,-1325.5 1291.42,-1322 1281.42,-1318.5 1281.42,-1325.5\"/>\r\n",
       "</g>\r\n",
       "<!-- 18 -->\r\n",
       "<g id=\"node19\" class=\"node\"><title>18</title>\r\n",
       "<path fill=\"#b4daf5\" stroke=\"black\" d=\"M1456,-1262C1456,-1262 1310,-1262 1310,-1262 1304,-1262 1298,-1256 1298,-1250 1298,-1250 1298,-1206 1298,-1206 1298,-1200 1304,-1194 1310,-1194 1310,-1194 1456,-1194 1456,-1194 1462,-1194 1468,-1200 1468,-1206 1468,-1206 1468,-1250 1468,-1250 1468,-1256 1462,-1262 1456,-1262\"/>\r\n",
       "<text text-anchor=\"middle\" x=\"1383\" y=\"-1246.8\" font-family=\"Helvetica,sans-Serif\" font-size=\"14.00\">gini = 0.473</text>\r\n",
       "<text text-anchor=\"middle\" x=\"1383\" y=\"-1231.8\" font-family=\"Helvetica,sans-Serif\" font-size=\"14.00\">samples = 0.1%</text>\r\n",
       "<text text-anchor=\"middle\" x=\"1383\" y=\"-1216.8\" font-family=\"Helvetica,sans-Serif\" font-size=\"14.00\">value = [0.3838, 0.6162]</text>\r\n",
       "<text text-anchor=\"middle\" x=\"1383\" y=\"-1201.8\" font-family=\"Helvetica,sans-Serif\" font-size=\"14.00\">class = Alta</text>\r\n",
       "</g>\r\n",
       "<!-- 14&#45;&gt;18 -->\r\n",
       "<g id=\"edge18\" class=\"edge\"><title>14&#45;&gt;18</title>\r\n",
       "<path fill=\"none\" stroke=\"black\" d=\"M1209.84,-1291.09C1234.83,-1281.93 1262.35,-1271.85 1287.91,-1262.48\"/>\r\n",
       "<polygon fill=\"black\" stroke=\"black\" points=\"1289.42,-1265.66 1297.61,-1258.93 1287.01,-1259.08 1289.42,-1265.66\"/>\r\n",
       "</g>\r\n",
       "<!-- 16 -->\r\n",
       "<g id=\"node17\" class=\"node\"><title>16</title>\r\n",
       "<path fill=\"#58ace9\" stroke=\"black\" d=\"M1694,-1362C1694,-1362 1548,-1362 1548,-1362 1542,-1362 1536,-1356 1536,-1350 1536,-1350 1536,-1306 1536,-1306 1536,-1300 1542,-1294 1548,-1294 1548,-1294 1694,-1294 1694,-1294 1700,-1294 1706,-1300 1706,-1306 1706,-1306 1706,-1350 1706,-1350 1706,-1356 1700,-1362 1694,-1362\"/>\r\n",
       "<text text-anchor=\"middle\" x=\"1621\" y=\"-1346.8\" font-family=\"Helvetica,sans-Serif\" font-size=\"14.00\">gini = 0.2334</text>\r\n",
       "<text text-anchor=\"middle\" x=\"1621\" y=\"-1331.8\" font-family=\"Helvetica,sans-Serif\" font-size=\"14.00\">samples = 0.5%</text>\r\n",
       "<text text-anchor=\"middle\" x=\"1621\" y=\"-1316.8\" font-family=\"Helvetica,sans-Serif\" font-size=\"14.00\">value = [0.1349, 0.8651]</text>\r\n",
       "<text text-anchor=\"middle\" x=\"1621\" y=\"-1301.8\" font-family=\"Helvetica,sans-Serif\" font-size=\"14.00\">class = Alta</text>\r\n",
       "</g>\r\n",
       "<!-- 15&#45;&gt;16 -->\r\n",
       "<g id=\"edge16\" class=\"edge\"><title>15&#45;&gt;16</title>\r\n",
       "<path fill=\"none\" stroke=\"black\" d=\"M1474.57,-1324.3C1491.25,-1324.73 1508.71,-1325.17 1525.51,-1325.6\"/>\r\n",
       "<polygon fill=\"black\" stroke=\"black\" points=\"1525.79,-1329.11 1535.87,-1325.86 1525.96,-1322.11 1525.79,-1329.11\"/>\r\n",
       "</g>\r\n",
       "<!-- 17 -->\r\n",
       "<g id=\"node18\" class=\"node\"><title>17</title>\r\n",
       "<path fill=\"#b4daf5\" stroke=\"black\" d=\"M1686,-1276C1686,-1276 1556,-1276 1556,-1276 1550,-1276 1544,-1270 1544,-1264 1544,-1264 1544,-1220 1544,-1220 1544,-1214 1550,-1208 1556,-1208 1556,-1208 1686,-1208 1686,-1208 1692,-1208 1698,-1214 1698,-1220 1698,-1220 1698,-1264 1698,-1264 1698,-1270 1692,-1276 1686,-1276\"/>\r\n",
       "<text text-anchor=\"middle\" x=\"1621\" y=\"-1260.8\" font-family=\"Helvetica,sans-Serif\" font-size=\"14.00\">gini = 0.4731</text>\r\n",
       "<text text-anchor=\"middle\" x=\"1621\" y=\"-1245.8\" font-family=\"Helvetica,sans-Serif\" font-size=\"14.00\">samples = 0.1%</text>\r\n",
       "<text text-anchor=\"middle\" x=\"1621\" y=\"-1230.8\" font-family=\"Helvetica,sans-Serif\" font-size=\"14.00\">value = [0.384, 0.616]</text>\r\n",
       "<text text-anchor=\"middle\" x=\"1621\" y=\"-1215.8\" font-family=\"Helvetica,sans-Serif\" font-size=\"14.00\">class = Alta</text>\r\n",
       "</g>\r\n",
       "<!-- 15&#45;&gt;17 -->\r\n",
       "<g id=\"edge17\" class=\"edge\"><title>15&#45;&gt;17</title>\r\n",
       "<path fill=\"none\" stroke=\"black\" d=\"M1474.57,-1291.3C1494.14,-1284.66 1514.78,-1277.67 1534.16,-1271.1\"/>\r\n",
       "<polygon fill=\"black\" stroke=\"black\" points=\"1535.52,-1274.33 1543.87,-1267.81 1533.27,-1267.7 1535.52,-1274.33\"/>\r\n",
       "</g>\r\n",
       "<!-- 21 -->\r\n",
       "<g id=\"node22\" class=\"node\"><title>21</title>\r\n",
       "<path fill=\"#ea9a60\" stroke=\"black\" d=\"M701,-1051.5C701,-1051.5 498,-1051.5 498,-1051.5 492,-1051.5 486,-1045.5 486,-1039.5 486,-1039.5 486,-980.5 486,-980.5 486,-974.5 492,-968.5 498,-968.5 498,-968.5 701,-968.5 701,-968.5 707,-968.5 713,-974.5 713,-980.5 713,-980.5 713,-1039.5 713,-1039.5 713,-1045.5 707,-1051.5 701,-1051.5\"/>\r\n",
       "<text text-anchor=\"middle\" x=\"599.5\" y=\"-1036.3\" font-family=\"Helvetica,sans-Serif\" font-size=\"14.00\">dif_em_acount_shift_2 &lt;= &#45;499.5</text>\r\n",
       "<text text-anchor=\"middle\" x=\"599.5\" y=\"-1021.3\" font-family=\"Helvetica,sans-Serif\" font-size=\"14.00\">gini = 0.2732</text>\r\n",
       "<text text-anchor=\"middle\" x=\"599.5\" y=\"-1006.3\" font-family=\"Helvetica,sans-Serif\" font-size=\"14.00\">samples = 9.1%</text>\r\n",
       "<text text-anchor=\"middle\" x=\"599.5\" y=\"-991.3\" font-family=\"Helvetica,sans-Serif\" font-size=\"14.00\">value = [0.8368, 0.1632]</text>\r\n",
       "<text text-anchor=\"middle\" x=\"599.5\" y=\"-976.3\" font-family=\"Helvetica,sans-Serif\" font-size=\"14.00\">class = No alta</text>\r\n",
       "</g>\r\n",
       "<!-- 20&#45;&gt;21 -->\r\n",
       "<g id=\"edge21\" class=\"edge\"><title>20&#45;&gt;21</title>\r\n",
       "<path fill=\"none\" stroke=\"black\" d=\"M450.167,-1010C458.51,-1010 467.056,-1010 475.627,-1010\"/>\r\n",
       "<polygon fill=\"black\" stroke=\"black\" points=\"475.689,-1013.5 485.689,-1010 475.689,-1006.5 475.689,-1013.5\"/>\r\n",
       "</g>\r\n",
       "<!-- 38 -->\r\n",
       "<g id=\"node39\" class=\"node\"><title>38</title>\r\n",
       "<path fill=\"#e6843e\" stroke=\"black\" d=\"M698,-549.5C698,-549.5 501,-549.5 501,-549.5 495,-549.5 489,-543.5 489,-537.5 489,-537.5 489,-478.5 489,-478.5 489,-472.5 495,-466.5 501,-466.5 501,-466.5 698,-466.5 698,-466.5 704,-466.5 710,-472.5 710,-478.5 710,-478.5 710,-537.5 710,-537.5 710,-543.5 704,-549.5 698,-549.5\"/>\r\n",
       "<text text-anchor=\"middle\" x=\"599.5\" y=\"-534.3\" font-family=\"Helvetica,sans-Serif\" font-size=\"14.00\">dif_pension_plan_shift_1 &lt;= 0.5</text>\r\n",
       "<text text-anchor=\"middle\" x=\"599.5\" y=\"-519.3\" font-family=\"Helvetica,sans-Serif\" font-size=\"14.00\">gini = 0.0436</text>\r\n",
       "<text text-anchor=\"middle\" x=\"599.5\" y=\"-504.3\" font-family=\"Helvetica,sans-Serif\" font-size=\"14.00\">samples = 87.8%</text>\r\n",
       "<text text-anchor=\"middle\" x=\"599.5\" y=\"-489.3\" font-family=\"Helvetica,sans-Serif\" font-size=\"14.00\">value = [0.9777, 0.0223]</text>\r\n",
       "<text text-anchor=\"middle\" x=\"599.5\" y=\"-474.3\" font-family=\"Helvetica,sans-Serif\" font-size=\"14.00\">class = No alta</text>\r\n",
       "</g>\r\n",
       "<!-- 20&#45;&gt;38 -->\r\n",
       "<g id=\"edge38\" class=\"edge\"><title>20&#45;&gt;38</title>\r\n",
       "<path fill=\"none\" stroke=\"black\" d=\"M379.72,-968.492C423.183,-877.01 527.102,-658.28 574.364,-558.803\"/>\r\n",
       "<polygon fill=\"black\" stroke=\"black\" points=\"577.627,-560.091 578.757,-549.556 571.304,-557.087 577.627,-560.091\"/>\r\n",
       "</g>\r\n",
       "<!-- 22 -->\r\n",
       "<g id=\"node23\" class=\"node\"><title>22</title>\r\n",
       "<path fill=\"#5caeea\" stroke=\"black\" d=\"M971,-1101.5C971,-1101.5 761,-1101.5 761,-1101.5 755,-1101.5 749,-1095.5 749,-1089.5 749,-1089.5 749,-1030.5 749,-1030.5 749,-1024.5 755,-1018.5 761,-1018.5 761,-1018.5 971,-1018.5 971,-1018.5 977,-1018.5 983,-1024.5 983,-1030.5 983,-1030.5 983,-1089.5 983,-1089.5 983,-1095.5 977,-1101.5 971,-1101.5\"/>\r\n",
       "<text text-anchor=\"middle\" x=\"866\" y=\"-1086.3\" font-family=\"Helvetica,sans-Serif\" font-size=\"14.00\">dif_ahorroInversion_shift_1 &lt;= 0.5</text>\r\n",
       "<text text-anchor=\"middle\" x=\"866\" y=\"-1071.3\" font-family=\"Helvetica,sans-Serif\" font-size=\"14.00\">gini = 0.2564</text>\r\n",
       "<text text-anchor=\"middle\" x=\"866\" y=\"-1056.3\" font-family=\"Helvetica,sans-Serif\" font-size=\"14.00\">samples = 0.3%</text>\r\n",
       "<text text-anchor=\"middle\" x=\"866\" y=\"-1041.3\" font-family=\"Helvetica,sans-Serif\" font-size=\"14.00\">value = [0.151, 0.849]</text>\r\n",
       "<text text-anchor=\"middle\" x=\"866\" y=\"-1026.3\" font-family=\"Helvetica,sans-Serif\" font-size=\"14.00\">class = Alta</text>\r\n",
       "</g>\r\n",
       "<!-- 21&#45;&gt;22 -->\r\n",
       "<g id=\"edge22\" class=\"edge\"><title>21&#45;&gt;22</title>\r\n",
       "<path fill=\"none\" stroke=\"black\" d=\"M713.055,-1031.28C721.544,-1032.88 730.144,-1034.51 738.711,-1036.13\"/>\r\n",
       "<polygon fill=\"black\" stroke=\"black\" points=\"738.267,-1039.6 748.743,-1038.02 739.567,-1032.73 738.267,-1039.6\"/>\r\n",
       "</g>\r\n",
       "<!-- 25 -->\r\n",
       "<g id=\"node26\" class=\"node\"><title>25</title>\r\n",
       "<path fill=\"#e99558\" stroke=\"black\" d=\"M952.5,-1000.5C952.5,-1000.5 779.5,-1000.5 779.5,-1000.5 773.5,-1000.5 767.5,-994.5 767.5,-988.5 767.5,-988.5 767.5,-929.5 767.5,-929.5 767.5,-923.5 773.5,-917.5 779.5,-917.5 779.5,-917.5 952.5,-917.5 952.5,-917.5 958.5,-917.5 964.5,-923.5 964.5,-929.5 964.5,-929.5 964.5,-988.5 964.5,-988.5 964.5,-994.5 958.5,-1000.5 952.5,-1000.5\"/>\r\n",
       "<text text-anchor=\"middle\" x=\"866\" y=\"-985.3\" font-family=\"Helvetica,sans-Serif\" font-size=\"14.00\">pension_plan_shift_1 &lt;= 0.5</text>\r\n",
       "<text text-anchor=\"middle\" x=\"866\" y=\"-970.3\" font-family=\"Helvetica,sans-Serif\" font-size=\"14.00\">gini = 0.2349</text>\r\n",
       "<text text-anchor=\"middle\" x=\"866\" y=\"-955.3\" font-family=\"Helvetica,sans-Serif\" font-size=\"14.00\">samples = 8.8%</text>\r\n",
       "<text text-anchor=\"middle\" x=\"866\" y=\"-940.3\" font-family=\"Helvetica,sans-Serif\" font-size=\"14.00\">value = [0.8641, 0.1359]</text>\r\n",
       "<text text-anchor=\"middle\" x=\"866\" y=\"-925.3\" font-family=\"Helvetica,sans-Serif\" font-size=\"14.00\">class = No alta</text>\r\n",
       "</g>\r\n",
       "<!-- 21&#45;&gt;25 -->\r\n",
       "<g id=\"edge25\" class=\"edge\"><title>21&#45;&gt;25</title>\r\n",
       "<path fill=\"none\" stroke=\"black\" d=\"M713.055,-988.297C727.678,-985.478 742.63,-982.595 757.173,-979.791\"/>\r\n",
       "<polygon fill=\"black\" stroke=\"black\" points=\"758.011,-983.194 767.168,-977.864 756.686,-976.32 758.011,-983.194\"/>\r\n",
       "</g>\r\n",
       "<!-- 23 -->\r\n",
       "<g id=\"node24\" class=\"node\"><title>23</title>\r\n",
       "<path fill=\"#4da7e8\" stroke=\"black\" d=\"M1197.5,-1176C1197.5,-1176 1051.5,-1176 1051.5,-1176 1045.5,-1176 1039.5,-1170 1039.5,-1164 1039.5,-1164 1039.5,-1120 1039.5,-1120 1039.5,-1114 1045.5,-1108 1051.5,-1108 1051.5,-1108 1197.5,-1108 1197.5,-1108 1203.5,-1108 1209.5,-1114 1209.5,-1120 1209.5,-1120 1209.5,-1164 1209.5,-1164 1209.5,-1170 1203.5,-1176 1197.5,-1176\"/>\r\n",
       "<text text-anchor=\"middle\" x=\"1124.5\" y=\"-1160.8\" font-family=\"Helvetica,sans-Serif\" font-size=\"14.00\">gini = 0.1637</text>\r\n",
       "<text text-anchor=\"middle\" x=\"1124.5\" y=\"-1145.8\" font-family=\"Helvetica,sans-Serif\" font-size=\"14.00\">samples = 0.3%</text>\r\n",
       "<text text-anchor=\"middle\" x=\"1124.5\" y=\"-1130.8\" font-family=\"Helvetica,sans-Serif\" font-size=\"14.00\">value = [0.0899, 0.9101]</text>\r\n",
       "<text text-anchor=\"middle\" x=\"1124.5\" y=\"-1115.8\" font-family=\"Helvetica,sans-Serif\" font-size=\"14.00\">class = Alta</text>\r\n",
       "</g>\r\n",
       "<!-- 22&#45;&gt;23 -->\r\n",
       "<g id=\"edge23\" class=\"edge\"><title>22&#45;&gt;23</title>\r\n",
       "<path fill=\"none\" stroke=\"black\" d=\"M983.242,-1097.16C998.791,-1102.13 1014.58,-1107.18 1029.68,-1112.01\"/>\r\n",
       "<polygon fill=\"black\" stroke=\"black\" points=\"1028.9,-1115.43 1039.49,-1115.14 1031.03,-1108.76 1028.9,-1115.43\"/>\r\n",
       "</g>\r\n",
       "<!-- 24 -->\r\n",
       "<g id=\"node25\" class=\"node\"><title>24</title>\r\n",
       "<path fill=\"#e99457\" stroke=\"black\" d=\"M1197.5,-1090C1197.5,-1090 1051.5,-1090 1051.5,-1090 1045.5,-1090 1039.5,-1084 1039.5,-1078 1039.5,-1078 1039.5,-1034 1039.5,-1034 1039.5,-1028 1045.5,-1022 1051.5,-1022 1051.5,-1022 1197.5,-1022 1197.5,-1022 1203.5,-1022 1209.5,-1028 1209.5,-1034 1209.5,-1034 1209.5,-1078 1209.5,-1078 1209.5,-1084 1203.5,-1090 1197.5,-1090\"/>\r\n",
       "<text text-anchor=\"middle\" x=\"1124.5\" y=\"-1074.8\" font-family=\"Helvetica,sans-Serif\" font-size=\"14.00\">gini = 0.2299</text>\r\n",
       "<text text-anchor=\"middle\" x=\"1124.5\" y=\"-1059.8\" font-family=\"Helvetica,sans-Serif\" font-size=\"14.00\">samples = 0.0%</text>\r\n",
       "<text text-anchor=\"middle\" x=\"1124.5\" y=\"-1044.8\" font-family=\"Helvetica,sans-Serif\" font-size=\"14.00\">value = [0.8675, 0.1325]</text>\r\n",
       "<text text-anchor=\"middle\" x=\"1124.5\" y=\"-1029.8\" font-family=\"Helvetica,sans-Serif\" font-size=\"14.00\">class = No alta</text>\r\n",
       "</g>\r\n",
       "<!-- 22&#45;&gt;24 -->\r\n",
       "<g id=\"edge24\" class=\"edge\"><title>22&#45;&gt;24</title>\r\n",
       "<path fill=\"none\" stroke=\"black\" d=\"M983.242,-1058.19C998.643,-1057.95 1014.28,-1057.7 1029.25,-1057.47\"/>\r\n",
       "<polygon fill=\"black\" stroke=\"black\" points=\"1029.55,-1060.97 1039.49,-1057.31 1029.44,-1053.97 1029.55,-1060.97\"/>\r\n",
       "</g>\r\n",
       "<!-- 26 -->\r\n",
       "<g id=\"node27\" class=\"node\"><title>26</title>\r\n",
       "<path fill=\"#eba069\" stroke=\"black\" d=\"M1189.5,-1003.5C1189.5,-1003.5 1059.5,-1003.5 1059.5,-1003.5 1053.5,-1003.5 1047.5,-997.5 1047.5,-991.5 1047.5,-991.5 1047.5,-932.5 1047.5,-932.5 1047.5,-926.5 1053.5,-920.5 1059.5,-920.5 1059.5,-920.5 1189.5,-920.5 1189.5,-920.5 1195.5,-920.5 1201.5,-926.5 1201.5,-932.5 1201.5,-932.5 1201.5,-991.5 1201.5,-991.5 1201.5,-997.5 1195.5,-1003.5 1189.5,-1003.5\"/>\r\n",
       "<text text-anchor=\"middle\" x=\"1124.5\" y=\"-988.3\" font-family=\"Helvetica,sans-Serif\" font-size=\"14.00\">payroll_shift_2 &lt;= 0.5</text>\r\n",
       "<text text-anchor=\"middle\" x=\"1124.5\" y=\"-973.3\" font-family=\"Helvetica,sans-Serif\" font-size=\"14.00\">gini = 0.3139</text>\r\n",
       "<text text-anchor=\"middle\" x=\"1124.5\" y=\"-958.3\" font-family=\"Helvetica,sans-Serif\" font-size=\"14.00\">samples = 4.8%</text>\r\n",
       "<text text-anchor=\"middle\" x=\"1124.5\" y=\"-943.3\" font-family=\"Helvetica,sans-Serif\" font-size=\"14.00\">value = [0.805, 0.195]</text>\r\n",
       "<text text-anchor=\"middle\" x=\"1124.5\" y=\"-928.3\" font-family=\"Helvetica,sans-Serif\" font-size=\"14.00\">class = No alta</text>\r\n",
       "</g>\r\n",
       "<!-- 25&#45;&gt;26 -->\r\n",
       "<g id=\"edge26\" class=\"edge\"><title>25&#45;&gt;26</title>\r\n",
       "<path fill=\"none\" stroke=\"black\" d=\"M964.703,-960.143C988.505,-960.421 1013.8,-960.717 1037.04,-960.989\"/>\r\n",
       "<polygon fill=\"black\" stroke=\"black\" points=\"1037.16,-964.49 1047.2,-961.108 1037.25,-957.491 1037.16,-964.49\"/>\r\n",
       "</g>\r\n",
       "<!-- 33 -->\r\n",
       "<g id=\"node34\" class=\"node\"><title>33</title>\r\n",
       "<path fill=\"#e78a47\" stroke=\"black\" d=\"M1218,-902.5C1218,-902.5 1031,-902.5 1031,-902.5 1025,-902.5 1019,-896.5 1019,-890.5 1019,-890.5 1019,-831.5 1019,-831.5 1019,-825.5 1025,-819.5 1031,-819.5 1031,-819.5 1218,-819.5 1218,-819.5 1224,-819.5 1230,-825.5 1230,-831.5 1230,-831.5 1230,-890.5 1230,-890.5 1230,-896.5 1224,-902.5 1218,-902.5\"/>\r\n",
       "<text text-anchor=\"middle\" x=\"1124.5\" y=\"-887.3\" font-family=\"Helvetica,sans-Serif\" font-size=\"14.00\">payroll_account_shift_1 &lt;= 0.5</text>\r\n",
       "<text text-anchor=\"middle\" x=\"1124.5\" y=\"-872.3\" font-family=\"Helvetica,sans-Serif\" font-size=\"14.00\">gini = 0.1228</text>\r\n",
       "<text text-anchor=\"middle\" x=\"1124.5\" y=\"-857.3\" font-family=\"Helvetica,sans-Serif\" font-size=\"14.00\">samples = 4.0%</text>\r\n",
       "<text text-anchor=\"middle\" x=\"1124.5\" y=\"-842.3\" font-family=\"Helvetica,sans-Serif\" font-size=\"14.00\">value = [0.9343, 0.0657]</text>\r\n",
       "<text text-anchor=\"middle\" x=\"1124.5\" y=\"-827.3\" font-family=\"Helvetica,sans-Serif\" font-size=\"14.00\">class = No alta</text>\r\n",
       "</g>\r\n",
       "<!-- 25&#45;&gt;33 -->\r\n",
       "<g id=\"edge33\" class=\"edge\"><title>25&#45;&gt;33</title>\r\n",
       "<path fill=\"none\" stroke=\"black\" d=\"M964.703,-921.671C979.22,-916.124 994.292,-910.366 1009.11,-904.703\"/>\r\n",
       "<polygon fill=\"black\" stroke=\"black\" points=\"1010.72,-907.838 1018.81,-900.999 1008.22,-901.299 1010.72,-907.838\"/>\r\n",
       "</g>\r\n",
       "<!-- 27 -->\r\n",
       "<g id=\"node28\" class=\"node\"><title>27</title>\r\n",
       "<path fill=\"#ea985d\" stroke=\"black\" d=\"M1462,-1107.5C1462,-1107.5 1304,-1107.5 1304,-1107.5 1298,-1107.5 1292,-1101.5 1292,-1095.5 1292,-1095.5 1292,-1036.5 1292,-1036.5 1292,-1030.5 1298,-1024.5 1304,-1024.5 1304,-1024.5 1462,-1024.5 1462,-1024.5 1468,-1024.5 1474,-1030.5 1474,-1036.5 1474,-1036.5 1474,-1095.5 1474,-1095.5 1474,-1101.5 1468,-1107.5 1462,-1107.5\"/>\r\n",
       "<text text-anchor=\"middle\" x=\"1383\" y=\"-1092.3\" font-family=\"Helvetica,sans-Serif\" font-size=\"14.00\">em_acount_shift_2 &lt;= 0.5</text>\r\n",
       "<text text-anchor=\"middle\" x=\"1383\" y=\"-1077.3\" font-family=\"Helvetica,sans-Serif\" font-size=\"14.00\">gini = 0.2599</text>\r\n",
       "<text text-anchor=\"middle\" x=\"1383\" y=\"-1062.3\" font-family=\"Helvetica,sans-Serif\" font-size=\"14.00\">samples = 4.2%</text>\r\n",
       "<text text-anchor=\"middle\" x=\"1383\" y=\"-1047.3\" font-family=\"Helvetica,sans-Serif\" font-size=\"14.00\">value = [0.8465, 0.1535]</text>\r\n",
       "<text text-anchor=\"middle\" x=\"1383\" y=\"-1032.3\" font-family=\"Helvetica,sans-Serif\" font-size=\"14.00\">class = No alta</text>\r\n",
       "</g>\r\n",
       "<!-- 26&#45;&gt;27 -->\r\n",
       "<g id=\"edge27\" class=\"edge\"><title>26&#45;&gt;27</title>\r\n",
       "<path fill=\"none\" stroke=\"black\" d=\"M1201.76,-992.922C1226.99,-1003.15 1255.46,-1014.69 1282.18,-1025.53\"/>\r\n",
       "<polygon fill=\"black\" stroke=\"black\" points=\"1280.98,-1028.82 1291.56,-1029.33 1283.61,-1022.33 1280.98,-1028.82\"/>\r\n",
       "</g>\r\n",
       "<!-- 30 -->\r\n",
       "<g id=\"node31\" class=\"node\"><title>30</title>\r\n",
       "<path fill=\"#fcfdff\" stroke=\"black\" d=\"M1456,-1003.5C1456,-1003.5 1310,-1003.5 1310,-1003.5 1304,-1003.5 1298,-997.5 1298,-991.5 1298,-991.5 1298,-932.5 1298,-932.5 1298,-926.5 1304,-920.5 1310,-920.5 1310,-920.5 1456,-920.5 1456,-920.5 1462,-920.5 1468,-926.5 1468,-932.5 1468,-932.5 1468,-991.5 1468,-991.5 1468,-997.5 1462,-1003.5 1456,-1003.5\"/>\r\n",
       "<text text-anchor=\"middle\" x=\"1383\" y=\"-988.3\" font-family=\"Helvetica,sans-Serif\" font-size=\"14.00\">month &lt;= 6.5</text>\r\n",
       "<text text-anchor=\"middle\" x=\"1383\" y=\"-973.3\" font-family=\"Helvetica,sans-Serif\" font-size=\"14.00\">gini = 0.5</text>\r\n",
       "<text text-anchor=\"middle\" x=\"1383\" y=\"-958.3\" font-family=\"Helvetica,sans-Serif\" font-size=\"14.00\">samples = 0.6%</text>\r\n",
       "<text text-anchor=\"middle\" x=\"1383\" y=\"-943.3\" font-family=\"Helvetica,sans-Serif\" font-size=\"14.00\">value = [0.4957, 0.5043]</text>\r\n",
       "<text text-anchor=\"middle\" x=\"1383\" y=\"-928.3\" font-family=\"Helvetica,sans-Serif\" font-size=\"14.00\">class = Alta</text>\r\n",
       "</g>\r\n",
       "<!-- 26&#45;&gt;30 -->\r\n",
       "<g id=\"edge30\" class=\"edge\"><title>26&#45;&gt;30</title>\r\n",
       "<path fill=\"none\" stroke=\"black\" d=\"M1201.76,-962C1228.73,-962 1259.38,-962 1287.66,-962\"/>\r\n",
       "<polygon fill=\"black\" stroke=\"black\" points=\"1287.96,-965.5 1297.96,-962 1287.96,-958.5 1287.96,-965.5\"/>\r\n",
       "</g>\r\n",
       "<!-- 28 -->\r\n",
       "<g id=\"node29\" class=\"node\"><title>28</title>\r\n",
       "<path fill=\"#e99356\" stroke=\"black\" d=\"M1694,-1186C1694,-1186 1548,-1186 1548,-1186 1542,-1186 1536,-1180 1536,-1174 1536,-1174 1536,-1130 1536,-1130 1536,-1124 1542,-1118 1548,-1118 1548,-1118 1694,-1118 1694,-1118 1700,-1118 1706,-1124 1706,-1130 1706,-1130 1706,-1174 1706,-1174 1706,-1180 1700,-1186 1694,-1186\"/>\r\n",
       "<text text-anchor=\"middle\" x=\"1621\" y=\"-1170.8\" font-family=\"Helvetica,sans-Serif\" font-size=\"14.00\">gini = 0.2214</text>\r\n",
       "<text text-anchor=\"middle\" x=\"1621\" y=\"-1155.8\" font-family=\"Helvetica,sans-Serif\" font-size=\"14.00\">samples = 3.9%</text>\r\n",
       "<text text-anchor=\"middle\" x=\"1621\" y=\"-1140.8\" font-family=\"Helvetica,sans-Serif\" font-size=\"14.00\">value = [0.8732, 0.1268]</text>\r\n",
       "<text text-anchor=\"middle\" x=\"1621\" y=\"-1125.8\" font-family=\"Helvetica,sans-Serif\" font-size=\"14.00\">class = No alta</text>\r\n",
       "</g>\r\n",
       "<!-- 27&#45;&gt;28 -->\r\n",
       "<g id=\"edge28\" class=\"edge\"><title>27&#45;&gt;28</title>\r\n",
       "<path fill=\"none\" stroke=\"black\" d=\"M1474.23,-1098.88C1491.25,-1105.08 1509.08,-1111.58 1526.21,-1117.82\"/>\r\n",
       "<polygon fill=\"black\" stroke=\"black\" points=\"1525.04,-1121.12 1535.64,-1121.26 1527.44,-1114.55 1525.04,-1121.12\"/>\r\n",
       "</g>\r\n",
       "<!-- 29 -->\r\n",
       "<g id=\"node30\" class=\"node\"><title>29</title>\r\n",
       "<path fill=\"#fffdfc\" stroke=\"black\" d=\"M1694,-1100C1694,-1100 1548,-1100 1548,-1100 1542,-1100 1536,-1094 1536,-1088 1536,-1088 1536,-1044 1536,-1044 1536,-1038 1542,-1032 1548,-1032 1548,-1032 1694,-1032 1694,-1032 1700,-1032 1706,-1038 1706,-1044 1706,-1044 1706,-1088 1706,-1088 1706,-1094 1700,-1100 1694,-1100\"/>\r\n",
       "<text text-anchor=\"middle\" x=\"1621\" y=\"-1084.8\" font-family=\"Helvetica,sans-Serif\" font-size=\"14.00\">gini = 0.5</text>\r\n",
       "<text text-anchor=\"middle\" x=\"1621\" y=\"-1069.8\" font-family=\"Helvetica,sans-Serif\" font-size=\"14.00\">samples = 0.3%</text>\r\n",
       "<text text-anchor=\"middle\" x=\"1621\" y=\"-1054.8\" font-family=\"Helvetica,sans-Serif\" font-size=\"14.00\">value = [0.5043, 0.4957]</text>\r\n",
       "<text text-anchor=\"middle\" x=\"1621\" y=\"-1039.8\" font-family=\"Helvetica,sans-Serif\" font-size=\"14.00\">class = No alta</text>\r\n",
       "</g>\r\n",
       "<!-- 27&#45;&gt;29 -->\r\n",
       "<g id=\"edge29\" class=\"edge\"><title>27&#45;&gt;29</title>\r\n",
       "<path fill=\"none\" stroke=\"black\" d=\"M1474.23,-1066C1490.93,-1066 1508.42,-1066 1525.26,-1066\"/>\r\n",
       "<polygon fill=\"black\" stroke=\"black\" points=\"1525.64,-1069.5 1535.64,-1066 1525.64,-1062.5 1525.64,-1069.5\"/>\r\n",
       "</g>\r\n",
       "<!-- 31 -->\r\n",
       "<g id=\"node32\" class=\"node\"><title>31</title>\r\n",
       "<path fill=\"#c6e3f8\" stroke=\"black\" d=\"M1694,-1014C1694,-1014 1548,-1014 1548,-1014 1542,-1014 1536,-1008 1536,-1002 1536,-1002 1536,-958 1536,-958 1536,-952 1542,-946 1548,-946 1548,-946 1694,-946 1694,-946 1700,-946 1706,-952 1706,-958 1706,-958 1706,-1002 1706,-1002 1706,-1008 1700,-1014 1694,-1014\"/>\r\n",
       "<text text-anchor=\"middle\" x=\"1621\" y=\"-998.8\" font-family=\"Helvetica,sans-Serif\" font-size=\"14.00\">gini = 0.4861</text>\r\n",
       "<text text-anchor=\"middle\" x=\"1621\" y=\"-983.8\" font-family=\"Helvetica,sans-Serif\" font-size=\"14.00\">samples = 0.3%</text>\r\n",
       "<text text-anchor=\"middle\" x=\"1621\" y=\"-968.8\" font-family=\"Helvetica,sans-Serif\" font-size=\"14.00\">value = [0.4167, 0.5833]</text>\r\n",
       "<text text-anchor=\"middle\" x=\"1621\" y=\"-953.8\" font-family=\"Helvetica,sans-Serif\" font-size=\"14.00\">class = Alta</text>\r\n",
       "</g>\r\n",
       "<!-- 30&#45;&gt;31 -->\r\n",
       "<g id=\"edge31\" class=\"edge\"><title>30&#45;&gt;31</title>\r\n",
       "<path fill=\"none\" stroke=\"black\" d=\"M1468.2,-968.422C1486.83,-969.843 1506.68,-971.357 1525.68,-972.806\"/>\r\n",
       "<polygon fill=\"black\" stroke=\"black\" points=\"1525.59,-976.31 1535.83,-973.58 1526.13,-969.33 1525.59,-976.31\"/>\r\n",
       "</g>\r\n",
       "<!-- 32 -->\r\n",
       "<g id=\"node33\" class=\"node\"><title>32</title>\r\n",
       "<path fill=\"#f9e3d4\" stroke=\"black\" d=\"M1694,-928C1694,-928 1548,-928 1548,-928 1542,-928 1536,-922 1536,-916 1536,-916 1536,-872 1536,-872 1536,-866 1542,-860 1548,-860 1548,-860 1694,-860 1694,-860 1700,-860 1706,-866 1706,-872 1706,-872 1706,-916 1706,-916 1706,-922 1700,-928 1694,-928\"/>\r\n",
       "<text text-anchor=\"middle\" x=\"1621\" y=\"-912.8\" font-family=\"Helvetica,sans-Serif\" font-size=\"14.00\">gini = 0.4924</text>\r\n",
       "<text text-anchor=\"middle\" x=\"1621\" y=\"-897.8\" font-family=\"Helvetica,sans-Serif\" font-size=\"14.00\">samples = 0.3%</text>\r\n",
       "<text text-anchor=\"middle\" x=\"1621\" y=\"-882.8\" font-family=\"Helvetica,sans-Serif\" font-size=\"14.00\">value = [0.5617, 0.4383]</text>\r\n",
       "<text text-anchor=\"middle\" x=\"1621\" y=\"-867.8\" font-family=\"Helvetica,sans-Serif\" font-size=\"14.00\">class = No alta</text>\r\n",
       "</g>\r\n",
       "<!-- 30&#45;&gt;32 -->\r\n",
       "<g id=\"edge32\" class=\"edge\"><title>30&#45;&gt;32</title>\r\n",
       "<path fill=\"none\" stroke=\"black\" d=\"M1468.2,-937.738C1487,-932.322 1507.05,-926.545 1526.21,-921.025\"/>\r\n",
       "<polygon fill=\"black\" stroke=\"black\" points=\"1527.19,-924.384 1535.83,-918.252 1525.25,-917.658 1527.19,-924.384\"/>\r\n",
       "</g>\r\n",
       "<!-- 34 -->\r\n",
       "<g id=\"node35\" class=\"node\"><title>34</title>\r\n",
       "<path fill=\"#fbebe0\" stroke=\"black\" d=\"M1456,-898C1456,-898 1310,-898 1310,-898 1304,-898 1298,-892 1298,-886 1298,-886 1298,-842 1298,-842 1298,-836 1304,-830 1310,-830 1310,-830 1456,-830 1456,-830 1462,-830 1468,-836 1468,-842 1468,-842 1468,-886 1468,-886 1468,-892 1462,-898 1456,-898\"/>\r\n",
       "<text text-anchor=\"middle\" x=\"1383\" y=\"-882.8\" font-family=\"Helvetica,sans-Serif\" font-size=\"14.00\">gini = 0.4964</text>\r\n",
       "<text text-anchor=\"middle\" x=\"1383\" y=\"-867.8\" font-family=\"Helvetica,sans-Serif\" font-size=\"14.00\">samples = 0.1%</text>\r\n",
       "<text text-anchor=\"middle\" x=\"1383\" y=\"-852.8\" font-family=\"Helvetica,sans-Serif\" font-size=\"14.00\">value = [0.5424, 0.4576]</text>\r\n",
       "<text text-anchor=\"middle\" x=\"1383\" y=\"-837.8\" font-family=\"Helvetica,sans-Serif\" font-size=\"14.00\">class = No alta</text>\r\n",
       "</g>\r\n",
       "<!-- 33&#45;&gt;34 -->\r\n",
       "<g id=\"edge34\" class=\"edge\"><title>33&#45;&gt;34</title>\r\n",
       "<path fill=\"none\" stroke=\"black\" d=\"M1230.2,-862.225C1249.13,-862.446 1268.78,-862.676 1287.4,-862.894\"/>\r\n",
       "<polygon fill=\"black\" stroke=\"black\" points=\"1287.59,-866.396 1297.63,-863.013 1287.68,-859.396 1287.59,-866.396\"/>\r\n",
       "</g>\r\n",
       "<!-- 35 -->\r\n",
       "<g id=\"node36\" class=\"node\"><title>35</title>\r\n",
       "<path fill=\"#e78945\" stroke=\"black\" d=\"M1460.5,-811.5C1460.5,-811.5 1305.5,-811.5 1305.5,-811.5 1299.5,-811.5 1293.5,-805.5 1293.5,-799.5 1293.5,-799.5 1293.5,-740.5 1293.5,-740.5 1293.5,-734.5 1299.5,-728.5 1305.5,-728.5 1305.5,-728.5 1460.5,-728.5 1460.5,-728.5 1466.5,-728.5 1472.5,-734.5 1472.5,-740.5 1472.5,-740.5 1472.5,-799.5 1472.5,-799.5 1472.5,-805.5 1466.5,-811.5 1460.5,-811.5\"/>\r\n",
       "<text text-anchor=\"middle\" x=\"1383\" y=\"-796.3\" font-family=\"Helvetica,sans-Serif\" font-size=\"14.00\">debit_card_shift_1 &lt;= 0.5</text>\r\n",
       "<text text-anchor=\"middle\" x=\"1383\" y=\"-781.3\" font-family=\"Helvetica,sans-Serif\" font-size=\"14.00\">gini = 0.1062</text>\r\n",
       "<text text-anchor=\"middle\" x=\"1383\" y=\"-766.3\" font-family=\"Helvetica,sans-Serif\" font-size=\"14.00\">samples = 3.9%</text>\r\n",
       "<text text-anchor=\"middle\" x=\"1383\" y=\"-751.3\" font-family=\"Helvetica,sans-Serif\" font-size=\"14.00\">value = [0.9437, 0.0563]</text>\r\n",
       "<text text-anchor=\"middle\" x=\"1383\" y=\"-736.3\" font-family=\"Helvetica,sans-Serif\" font-size=\"14.00\">class = No alta</text>\r\n",
       "</g>\r\n",
       "<!-- 33&#45;&gt;35 -->\r\n",
       "<g id=\"edge35\" class=\"edge\"><title>33&#45;&gt;35</title>\r\n",
       "<path fill=\"none\" stroke=\"black\" d=\"M1230.2,-823.856C1247.85,-817.594 1266.11,-811.114 1283.59,-804.912\"/>\r\n",
       "<polygon fill=\"black\" stroke=\"black\" points=\"1284.96,-808.14 1293.22,-801.498 1282.62,-801.543 1284.96,-808.14\"/>\r\n",
       "</g>\r\n",
       "<!-- 36 -->\r\n",
       "<g id=\"node37\" class=\"node\"><title>36</title>\r\n",
       "<path fill=\"#e99558\" stroke=\"black\" d=\"M1694,-842C1694,-842 1548,-842 1548,-842 1542,-842 1536,-836 1536,-830 1536,-830 1536,-786 1536,-786 1536,-780 1542,-774 1548,-774 1548,-774 1694,-774 1694,-774 1700,-774 1706,-780 1706,-786 1706,-786 1706,-830 1706,-830 1706,-836 1700,-842 1694,-842\"/>\r\n",
       "<text text-anchor=\"middle\" x=\"1621\" y=\"-826.8\" font-family=\"Helvetica,sans-Serif\" font-size=\"14.00\">gini = 0.2325</text>\r\n",
       "<text text-anchor=\"middle\" x=\"1621\" y=\"-811.8\" font-family=\"Helvetica,sans-Serif\" font-size=\"14.00\">samples = 1.4%</text>\r\n",
       "<text text-anchor=\"middle\" x=\"1621\" y=\"-796.8\" font-family=\"Helvetica,sans-Serif\" font-size=\"14.00\">value = [0.8657, 0.1343]</text>\r\n",
       "<text text-anchor=\"middle\" x=\"1621\" y=\"-781.8\" font-family=\"Helvetica,sans-Serif\" font-size=\"14.00\">class = No alta</text>\r\n",
       "</g>\r\n",
       "<!-- 35&#45;&gt;36 -->\r\n",
       "<g id=\"edge36\" class=\"edge\"><title>35&#45;&gt;36</title>\r\n",
       "<path fill=\"none\" stroke=\"black\" d=\"M1472.55,-784.258C1489.82,-787.039 1508,-789.966 1525.46,-792.777\"/>\r\n",
       "<polygon fill=\"black\" stroke=\"black\" points=\"1525.22,-796.283 1535.64,-794.417 1526.33,-789.372 1525.22,-796.283\"/>\r\n",
       "</g>\r\n",
       "<!-- 37 -->\r\n",
       "<g id=\"node38\" class=\"node\"><title>37</title>\r\n",
       "<path fill=\"#e5823b\" stroke=\"black\" d=\"M1694,-756C1694,-756 1548,-756 1548,-756 1542,-756 1536,-750 1536,-744 1536,-744 1536,-700 1536,-700 1536,-694 1542,-688 1548,-688 1548,-688 1694,-688 1694,-688 1700,-688 1706,-694 1706,-700 1706,-700 1706,-744 1706,-744 1706,-750 1700,-756 1694,-756\"/>\r\n",
       "<text text-anchor=\"middle\" x=\"1621\" y=\"-740.8\" font-family=\"Helvetica,sans-Serif\" font-size=\"14.00\">gini = 0.0232</text>\r\n",
       "<text text-anchor=\"middle\" x=\"1621\" y=\"-725.8\" font-family=\"Helvetica,sans-Serif\" font-size=\"14.00\">samples = 2.5%</text>\r\n",
       "<text text-anchor=\"middle\" x=\"1621\" y=\"-710.8\" font-family=\"Helvetica,sans-Serif\" font-size=\"14.00\">value = [0.9883, 0.0117]</text>\r\n",
       "<text text-anchor=\"middle\" x=\"1621\" y=\"-695.8\" font-family=\"Helvetica,sans-Serif\" font-size=\"14.00\">class = No alta</text>\r\n",
       "</g>\r\n",
       "<!-- 35&#45;&gt;37 -->\r\n",
       "<g id=\"edge37\" class=\"edge\"><title>35&#45;&gt;37</title>\r\n",
       "<path fill=\"none\" stroke=\"black\" d=\"M1472.55,-751.99C1489.82,-748.476 1508,-744.78 1525.46,-741.229\"/>\r\n",
       "<polygon fill=\"black\" stroke=\"black\" points=\"1526.54,-744.58 1535.64,-739.157 1525.15,-737.72 1526.54,-744.58\"/>\r\n",
       "</g>\r\n",
       "<!-- 39 -->\r\n",
       "<g id=\"node40\" class=\"node\"><title>39</title>\r\n",
       "<path fill=\"#e6843d\" stroke=\"black\" d=\"M955.5,-549.5C955.5,-549.5 776.5,-549.5 776.5,-549.5 770.5,-549.5 764.5,-543.5 764.5,-537.5 764.5,-537.5 764.5,-478.5 764.5,-478.5 764.5,-472.5 770.5,-466.5 776.5,-466.5 776.5,-466.5 955.5,-466.5 955.5,-466.5 961.5,-466.5 967.5,-472.5 967.5,-478.5 967.5,-478.5 967.5,-537.5 967.5,-537.5 967.5,-543.5 961.5,-549.5 955.5,-549.5\"/>\r\n",
       "<text text-anchor=\"middle\" x=\"866\" y=\"-534.3\" font-family=\"Helvetica,sans-Serif\" font-size=\"14.00\">dif_debit_card_shift_2 &lt;= 0.5</text>\r\n",
       "<text text-anchor=\"middle\" x=\"866\" y=\"-519.3\" font-family=\"Helvetica,sans-Serif\" font-size=\"14.00\">gini = 0.0412</text>\r\n",
       "<text text-anchor=\"middle\" x=\"866\" y=\"-504.3\" font-family=\"Helvetica,sans-Serif\" font-size=\"14.00\">samples = 87.7%</text>\r\n",
       "<text text-anchor=\"middle\" x=\"866\" y=\"-489.3\" font-family=\"Helvetica,sans-Serif\" font-size=\"14.00\">value = [0.979, 0.021]</text>\r\n",
       "<text text-anchor=\"middle\" x=\"866\" y=\"-474.3\" font-family=\"Helvetica,sans-Serif\" font-size=\"14.00\">class = No alta</text>\r\n",
       "</g>\r\n",
       "<!-- 38&#45;&gt;39 -->\r\n",
       "<g id=\"edge39\" class=\"edge\"><title>38&#45;&gt;39</title>\r\n",
       "<path fill=\"none\" stroke=\"black\" d=\"M710.374,-508C724.905,-508 739.806,-508 754.35,-508\"/>\r\n",
       "<polygon fill=\"black\" stroke=\"black\" points=\"754.353,-511.5 764.353,-508 754.353,-504.5 754.353,-511.5\"/>\r\n",
       "</g>\r\n",
       "<!-- 54 -->\r\n",
       "<g id=\"node55\" class=\"node\"><title>54</title>\r\n",
       "<path fill=\"#6eb7ec\" stroke=\"black\" d=\"M939,-448C939,-448 793,-448 793,-448 787,-448 781,-442 781,-436 781,-436 781,-392 781,-392 781,-386 787,-380 793,-380 793,-380 939,-380 939,-380 945,-380 951,-386 951,-392 951,-392 951,-436 951,-436 951,-442 945,-448 939,-448\"/>\r\n",
       "<text text-anchor=\"middle\" x=\"866\" y=\"-432.8\" font-family=\"Helvetica,sans-Serif\" font-size=\"14.00\">gini = 0.334</text>\r\n",
       "<text text-anchor=\"middle\" x=\"866\" y=\"-417.8\" font-family=\"Helvetica,sans-Serif\" font-size=\"14.00\">samples = 0.1%</text>\r\n",
       "<text text-anchor=\"middle\" x=\"866\" y=\"-402.8\" font-family=\"Helvetica,sans-Serif\" font-size=\"14.00\">value = [0.2119, 0.7881]</text>\r\n",
       "<text text-anchor=\"middle\" x=\"866\" y=\"-387.8\" font-family=\"Helvetica,sans-Serif\" font-size=\"14.00\">class = Alta</text>\r\n",
       "</g>\r\n",
       "<!-- 38&#45;&gt;54 -->\r\n",
       "<g id=\"edge54\" class=\"edge\"><title>38&#45;&gt;54</title>\r\n",
       "<path fill=\"none\" stroke=\"black\" d=\"M710.374,-468.952C730.622,-461.756 751.591,-454.304 771.307,-447.297\"/>\r\n",
       "<polygon fill=\"black\" stroke=\"black\" points=\"772.626,-450.543 780.876,-443.897 770.281,-443.947 772.626,-450.543\"/>\r\n",
       "</g>\r\n",
       "<!-- 40 -->\r\n",
       "<g id=\"node41\" class=\"node\"><title>40</title>\r\n",
       "<path fill=\"#e6833d\" stroke=\"black\" d=\"M1197.5,-549.5C1197.5,-549.5 1051.5,-549.5 1051.5,-549.5 1045.5,-549.5 1039.5,-543.5 1039.5,-537.5 1039.5,-537.5 1039.5,-478.5 1039.5,-478.5 1039.5,-472.5 1045.5,-466.5 1051.5,-466.5 1051.5,-466.5 1197.5,-466.5 1197.5,-466.5 1203.5,-466.5 1209.5,-472.5 1209.5,-478.5 1209.5,-478.5 1209.5,-537.5 1209.5,-537.5 1209.5,-543.5 1203.5,-549.5 1197.5,-549.5\"/>\r\n",
       "<text text-anchor=\"middle\" x=\"1124.5\" y=\"-534.3\" font-family=\"Helvetica,sans-Serif\" font-size=\"14.00\">channel_KHM &lt;= 0.5</text>\r\n",
       "<text text-anchor=\"middle\" x=\"1124.5\" y=\"-519.3\" font-family=\"Helvetica,sans-Serif\" font-size=\"14.00\">gini = 0.0376</text>\r\n",
       "<text text-anchor=\"middle\" x=\"1124.5\" y=\"-504.3\" font-family=\"Helvetica,sans-Serif\" font-size=\"14.00\">samples = 86.6%</text>\r\n",
       "<text text-anchor=\"middle\" x=\"1124.5\" y=\"-489.3\" font-family=\"Helvetica,sans-Serif\" font-size=\"14.00\">value = [0.9809, 0.0191]</text>\r\n",
       "<text text-anchor=\"middle\" x=\"1124.5\" y=\"-474.3\" font-family=\"Helvetica,sans-Serif\" font-size=\"14.00\">class = No alta</text>\r\n",
       "</g>\r\n",
       "<!-- 39&#45;&gt;40 -->\r\n",
       "<g id=\"edge40\" class=\"edge\"><title>39&#45;&gt;40</title>\r\n",
       "<path fill=\"none\" stroke=\"black\" d=\"M967.639,-508C987.931,-508 1009.19,-508 1029.25,-508\"/>\r\n",
       "<polygon fill=\"black\" stroke=\"black\" points=\"1029.31,-511.5 1039.31,-508 1029.31,-504.5 1029.31,-511.5\"/>\r\n",
       "</g>\r\n",
       "<!-- 47 -->\r\n",
       "<g id=\"node48\" class=\"node\"><title>47</title>\r\n",
       "<path fill=\"#ea9b62\" stroke=\"black\" d=\"M1202,-298.5C1202,-298.5 1047,-298.5 1047,-298.5 1041,-298.5 1035,-292.5 1035,-286.5 1035,-286.5 1035,-227.5 1035,-227.5 1035,-221.5 1041,-215.5 1047,-215.5 1047,-215.5 1202,-215.5 1202,-215.5 1208,-215.5 1214,-221.5 1214,-227.5 1214,-227.5 1214,-286.5 1214,-286.5 1214,-292.5 1208,-298.5 1202,-298.5\"/>\r\n",
       "<text text-anchor=\"middle\" x=\"1124.5\" y=\"-283.3\" font-family=\"Helvetica,sans-Serif\" font-size=\"14.00\">debit_card_shift_1 &lt;= 0.5</text>\r\n",
       "<text text-anchor=\"middle\" x=\"1124.5\" y=\"-268.3\" font-family=\"Helvetica,sans-Serif\" font-size=\"14.00\">gini = 0.282</text>\r\n",
       "<text text-anchor=\"middle\" x=\"1124.5\" y=\"-253.3\" font-family=\"Helvetica,sans-Serif\" font-size=\"14.00\">samples = 1.1%</text>\r\n",
       "<text text-anchor=\"middle\" x=\"1124.5\" y=\"-238.3\" font-family=\"Helvetica,sans-Serif\" font-size=\"14.00\">value = [0.8302, 0.1698]</text>\r\n",
       "<text text-anchor=\"middle\" x=\"1124.5\" y=\"-223.3\" font-family=\"Helvetica,sans-Serif\" font-size=\"14.00\">class = No alta</text>\r\n",
       "</g>\r\n",
       "<!-- 39&#45;&gt;47 -->\r\n",
       "<g id=\"edge47\" class=\"edge\"><title>39&#45;&gt;47</title>\r\n",
       "<path fill=\"none\" stroke=\"black\" d=\"M967.516,-468.169C972.942,-464.694 978.15,-460.973 983,-457 1033.37,-415.743 1073.83,-352.099 1098.17,-307.723\"/>\r\n",
       "<polygon fill=\"black\" stroke=\"black\" points=\"1101.29,-309.301 1102.96,-298.839 1095.13,-305.974 1101.29,-309.301\"/>\r\n",
       "</g>\r\n",
       "<!-- 41 -->\r\n",
       "<g id=\"node42\" class=\"node\"><title>41</title>\r\n",
       "<path fill=\"#e5833c\" stroke=\"black\" d=\"M1460.5,-599.5C1460.5,-599.5 1305.5,-599.5 1305.5,-599.5 1299.5,-599.5 1293.5,-593.5 1293.5,-587.5 1293.5,-587.5 1293.5,-528.5 1293.5,-528.5 1293.5,-522.5 1299.5,-516.5 1305.5,-516.5 1305.5,-516.5 1460.5,-516.5 1460.5,-516.5 1466.5,-516.5 1472.5,-522.5 1472.5,-528.5 1472.5,-528.5 1472.5,-587.5 1472.5,-587.5 1472.5,-593.5 1466.5,-599.5 1460.5,-599.5\"/>\r\n",
       "<text text-anchor=\"middle\" x=\"1383\" y=\"-584.3\" font-family=\"Helvetica,sans-Serif\" font-size=\"14.00\">debit_card_shift_3 &lt;= 0.5</text>\r\n",
       "<text text-anchor=\"middle\" x=\"1383\" y=\"-569.3\" font-family=\"Helvetica,sans-Serif\" font-size=\"14.00\">gini = 0.0329</text>\r\n",
       "<text text-anchor=\"middle\" x=\"1383\" y=\"-554.3\" font-family=\"Helvetica,sans-Serif\" font-size=\"14.00\">samples = 84.5%</text>\r\n",
       "<text text-anchor=\"middle\" x=\"1383\" y=\"-539.3\" font-family=\"Helvetica,sans-Serif\" font-size=\"14.00\">value = [0.9832, 0.0168]</text>\r\n",
       "<text text-anchor=\"middle\" x=\"1383\" y=\"-524.3\" font-family=\"Helvetica,sans-Serif\" font-size=\"14.00\">class = No alta</text>\r\n",
       "</g>\r\n",
       "<!-- 40&#45;&gt;41 -->\r\n",
       "<g id=\"edge41\" class=\"edge\"><title>40&#45;&gt;41</title>\r\n",
       "<path fill=\"none\" stroke=\"black\" d=\"M1209.84,-524.441C1233.33,-529.019 1259.05,-534.033 1283.28,-538.756\"/>\r\n",
       "<polygon fill=\"black\" stroke=\"black\" points=\"1282.72,-542.212 1293.2,-540.69 1284.05,-535.341 1282.72,-542.212\"/>\r\n",
       "</g>\r\n",
       "<!-- 44 -->\r\n",
       "<g id=\"node45\" class=\"node\"><title>44</title>\r\n",
       "<path fill=\"#e89253\" stroke=\"black\" d=\"M1462,-498.5C1462,-498.5 1304,-498.5 1304,-498.5 1298,-498.5 1292,-492.5 1292,-486.5 1292,-486.5 1292,-427.5 1292,-427.5 1292,-421.5 1298,-415.5 1304,-415.5 1304,-415.5 1462,-415.5 1462,-415.5 1468,-415.5 1474,-421.5 1474,-427.5 1474,-427.5 1474,-486.5 1474,-486.5 1474,-492.5 1468,-498.5 1462,-498.5\"/>\r\n",
       "<text text-anchor=\"middle\" x=\"1383\" y=\"-483.3\" font-family=\"Helvetica,sans-Serif\" font-size=\"14.00\">em_acount_shift_3 &lt;= 0.5</text>\r\n",
       "<text text-anchor=\"middle\" x=\"1383\" y=\"-468.3\" font-family=\"Helvetica,sans-Serif\" font-size=\"14.00\">gini = 0.205</text>\r\n",
       "<text text-anchor=\"middle\" x=\"1383\" y=\"-453.3\" font-family=\"Helvetica,sans-Serif\" font-size=\"14.00\">samples = 2.1%</text>\r\n",
       "<text text-anchor=\"middle\" x=\"1383\" y=\"-438.3\" font-family=\"Helvetica,sans-Serif\" font-size=\"14.00\">value = [0.8841, 0.1159]</text>\r\n",
       "<text text-anchor=\"middle\" x=\"1383\" y=\"-423.3\" font-family=\"Helvetica,sans-Serif\" font-size=\"14.00\">class = No alta</text>\r\n",
       "</g>\r\n",
       "<!-- 40&#45;&gt;44 -->\r\n",
       "<g id=\"edge44\" class=\"edge\"><title>40&#45;&gt;44</title>\r\n",
       "<path fill=\"none\" stroke=\"black\" d=\"M1209.84,-491.23C1232.84,-486.657 1257.98,-481.659 1281.77,-476.929\"/>\r\n",
       "<polygon fill=\"black\" stroke=\"black\" points=\"1282.74,-480.304 1291.87,-474.921 1281.38,-473.438 1282.74,-480.304\"/>\r\n",
       "</g>\r\n",
       "<!-- 42 -->\r\n",
       "<g id=\"node43\" class=\"node\"><title>42</title>\r\n",
       "<path fill=\"#e5833c\" stroke=\"black\" d=\"M1694,-670C1694,-670 1548,-670 1548,-670 1542,-670 1536,-664 1536,-658 1536,-658 1536,-614 1536,-614 1536,-608 1542,-602 1548,-602 1548,-602 1694,-602 1694,-602 1700,-602 1706,-608 1706,-614 1706,-614 1706,-658 1706,-658 1706,-664 1700,-670 1694,-670\"/>\r\n",
       "<text text-anchor=\"middle\" x=\"1621\" y=\"-654.8\" font-family=\"Helvetica,sans-Serif\" font-size=\"14.00\">gini = 0.0249</text>\r\n",
       "<text text-anchor=\"middle\" x=\"1621\" y=\"-639.8\" font-family=\"Helvetica,sans-Serif\" font-size=\"14.00\">samples = 78.2%</text>\r\n",
       "<text text-anchor=\"middle\" x=\"1621\" y=\"-624.8\" font-family=\"Helvetica,sans-Serif\" font-size=\"14.00\">value = [0.9874, 0.0126]</text>\r\n",
       "<text text-anchor=\"middle\" x=\"1621\" y=\"-609.8\" font-family=\"Helvetica,sans-Serif\" font-size=\"14.00\">class = No alta</text>\r\n",
       "</g>\r\n",
       "<!-- 41&#45;&gt;42 -->\r\n",
       "<g id=\"edge42\" class=\"edge\"><title>41&#45;&gt;42</title>\r\n",
       "<path fill=\"none\" stroke=\"black\" d=\"M1472.55,-587.266C1489.99,-593.029 1508.34,-599.095 1525.95,-604.915\"/>\r\n",
       "<polygon fill=\"black\" stroke=\"black\" points=\"1525.05,-608.305 1535.64,-608.12 1527.25,-601.658 1525.05,-608.305\"/>\r\n",
       "</g>\r\n",
       "<!-- 43 -->\r\n",
       "<g id=\"node44\" class=\"node\"><title>43</title>\r\n",
       "<path fill=\"#e78a47\" stroke=\"black\" d=\"M1694,-584C1694,-584 1548,-584 1548,-584 1542,-584 1536,-578 1536,-572 1536,-572 1536,-528 1536,-528 1536,-522 1542,-516 1548,-516 1548,-516 1694,-516 1694,-516 1700,-516 1706,-522 1706,-528 1706,-528 1706,-572 1706,-572 1706,-578 1700,-584 1694,-584\"/>\r\n",
       "<text text-anchor=\"middle\" x=\"1621\" y=\"-568.8\" font-family=\"Helvetica,sans-Serif\" font-size=\"14.00\">gini = 0.1265</text>\r\n",
       "<text text-anchor=\"middle\" x=\"1621\" y=\"-553.8\" font-family=\"Helvetica,sans-Serif\" font-size=\"14.00\">samples = 6.3%</text>\r\n",
       "<text text-anchor=\"middle\" x=\"1621\" y=\"-538.8\" font-family=\"Helvetica,sans-Serif\" font-size=\"14.00\">value = [0.9321, 0.0679]</text>\r\n",
       "<text text-anchor=\"middle\" x=\"1621\" y=\"-523.8\" font-family=\"Helvetica,sans-Serif\" font-size=\"14.00\">class = No alta</text>\r\n",
       "</g>\r\n",
       "<!-- 41&#45;&gt;43 -->\r\n",
       "<g id=\"edge43\" class=\"edge\"><title>41&#45;&gt;43</title>\r\n",
       "<path fill=\"none\" stroke=\"black\" d=\"M1472.55,-554.998C1489.82,-554.413 1508,-553.797 1525.46,-553.205\"/>\r\n",
       "<polygon fill=\"black\" stroke=\"black\" points=\"1525.77,-556.696 1535.64,-552.86 1525.53,-549.7 1525.77,-556.696\"/>\r\n",
       "</g>\r\n",
       "<!-- 45 -->\r\n",
       "<g id=\"node46\" class=\"node\"><title>45</title>\r\n",
       "<path fill=\"#ea9a60\" stroke=\"black\" d=\"M1694,-498C1694,-498 1548,-498 1548,-498 1542,-498 1536,-492 1536,-486 1536,-486 1536,-442 1536,-442 1536,-436 1542,-430 1548,-430 1548,-430 1694,-430 1694,-430 1700,-430 1706,-436 1706,-442 1706,-442 1706,-486 1706,-486 1706,-492 1700,-498 1694,-498\"/>\r\n",
       "<text text-anchor=\"middle\" x=\"1621\" y=\"-482.8\" font-family=\"Helvetica,sans-Serif\" font-size=\"14.00\">gini = 0.273</text>\r\n",
       "<text text-anchor=\"middle\" x=\"1621\" y=\"-467.8\" font-family=\"Helvetica,sans-Serif\" font-size=\"14.00\">samples = 1.0%</text>\r\n",
       "<text text-anchor=\"middle\" x=\"1621\" y=\"-452.8\" font-family=\"Helvetica,sans-Serif\" font-size=\"14.00\">value = [0.8369, 0.1631]</text>\r\n",
       "<text text-anchor=\"middle\" x=\"1621\" y=\"-437.8\" font-family=\"Helvetica,sans-Serif\" font-size=\"14.00\">class = No alta</text>\r\n",
       "</g>\r\n",
       "<!-- 44&#45;&gt;45 -->\r\n",
       "<g id=\"edge45\" class=\"edge\"><title>44&#45;&gt;45</title>\r\n",
       "<path fill=\"none\" stroke=\"black\" d=\"M1474.23,-459.676C1490.93,-460.172 1508.42,-460.691 1525.26,-461.19\"/>\r\n",
       "<polygon fill=\"black\" stroke=\"black\" points=\"1525.54,-464.7 1535.64,-461.498 1525.75,-457.703 1525.54,-464.7\"/>\r\n",
       "</g>\r\n",
       "<!-- 46 -->\r\n",
       "<g id=\"node47\" class=\"node\"><title>46</title>\r\n",
       "<path fill=\"#e78b49\" stroke=\"black\" d=\"M1694,-412C1694,-412 1548,-412 1548,-412 1542,-412 1536,-406 1536,-400 1536,-400 1536,-356 1536,-356 1536,-350 1542,-344 1548,-344 1548,-344 1694,-344 1694,-344 1700,-344 1706,-350 1706,-356 1706,-356 1706,-400 1706,-400 1706,-406 1700,-412 1694,-412\"/>\r\n",
       "<text text-anchor=\"middle\" x=\"1621\" y=\"-396.8\" font-family=\"Helvetica,sans-Serif\" font-size=\"14.00\">gini = 0.139</text>\r\n",
       "<text text-anchor=\"middle\" x=\"1621\" y=\"-381.8\" font-family=\"Helvetica,sans-Serif\" font-size=\"14.00\">samples = 1.1%</text>\r\n",
       "<text text-anchor=\"middle\" x=\"1621\" y=\"-366.8\" font-family=\"Helvetica,sans-Serif\" font-size=\"14.00\">value = [0.9248, 0.0752]</text>\r\n",
       "<text text-anchor=\"middle\" x=\"1621\" y=\"-351.8\" font-family=\"Helvetica,sans-Serif\" font-size=\"14.00\">class = No alta</text>\r\n",
       "</g>\r\n",
       "<!-- 44&#45;&gt;46 -->\r\n",
       "<g id=\"edge46\" class=\"edge\"><title>44&#45;&gt;46</title>\r\n",
       "<path fill=\"none\" stroke=\"black\" d=\"M1474.23,-426.795C1491.09,-421.151 1508.75,-415.239 1525.73,-409.556\"/>\r\n",
       "<polygon fill=\"black\" stroke=\"black\" points=\"1527.27,-412.733 1535.64,-406.24 1525.04,-406.095 1527.27,-412.733\"/>\r\n",
       "</g>\r\n",
       "<!-- 48 -->\r\n",
       "<g id=\"node49\" class=\"node\"><title>48</title>\r\n",
       "<path fill=\"#f3c7a7\" stroke=\"black\" d=\"M1460.5,-298.5C1460.5,-298.5 1305.5,-298.5 1305.5,-298.5 1299.5,-298.5 1293.5,-292.5 1293.5,-286.5 1293.5,-286.5 1293.5,-227.5 1293.5,-227.5 1293.5,-221.5 1299.5,-215.5 1305.5,-215.5 1305.5,-215.5 1460.5,-215.5 1460.5,-215.5 1466.5,-215.5 1472.5,-221.5 1472.5,-227.5 1472.5,-227.5 1472.5,-286.5 1472.5,-286.5 1472.5,-292.5 1466.5,-298.5 1460.5,-298.5\"/>\r\n",
       "<text text-anchor=\"middle\" x=\"1383\" y=\"-283.3\" font-family=\"Helvetica,sans-Serif\" font-size=\"14.00\">debit_card_shift_4 &lt;= 0.5</text>\r\n",
       "<text text-anchor=\"middle\" x=\"1383\" y=\"-268.3\" font-family=\"Helvetica,sans-Serif\" font-size=\"14.00\">gini = 0.4589</text>\r\n",
       "<text text-anchor=\"middle\" x=\"1383\" y=\"-253.3\" font-family=\"Helvetica,sans-Serif\" font-size=\"14.00\">samples = 0.5%</text>\r\n",
       "<text text-anchor=\"middle\" x=\"1383\" y=\"-238.3\" font-family=\"Helvetica,sans-Serif\" font-size=\"14.00\">value = [0.6434, 0.3566]</text>\r\n",
       "<text text-anchor=\"middle\" x=\"1383\" y=\"-223.3\" font-family=\"Helvetica,sans-Serif\" font-size=\"14.00\">class = No alta</text>\r\n",
       "</g>\r\n",
       "<!-- 47&#45;&gt;48 -->\r\n",
       "<g id=\"edge48\" class=\"edge\"><title>47&#45;&gt;48</title>\r\n",
       "<path fill=\"none\" stroke=\"black\" d=\"M1214.13,-257C1236.46,-257 1260.56,-257 1283.35,-257\"/>\r\n",
       "<polygon fill=\"black\" stroke=\"black\" points=\"1283.36,-260.5 1293.36,-257 1283.36,-253.5 1283.36,-260.5\"/>\r\n",
       "</g>\r\n",
       "<!-- 51 -->\r\n",
       "<g id=\"node52\" class=\"node\"><title>51</title>\r\n",
       "<path fill=\"#e6853f\" stroke=\"black\" d=\"M1488,-161.5C1488,-161.5 1278,-161.5 1278,-161.5 1272,-161.5 1266,-155.5 1266,-149.5 1266,-149.5 1266,-90.5 1266,-90.5 1266,-84.5 1272,-78.5 1278,-78.5 1278,-78.5 1488,-78.5 1488,-78.5 1494,-78.5 1500,-84.5 1500,-90.5 1500,-90.5 1500,-149.5 1500,-149.5 1500,-155.5 1494,-161.5 1488,-161.5\"/>\r\n",
       "<text text-anchor=\"middle\" x=\"1383\" y=\"-146.3\" font-family=\"Helvetica,sans-Serif\" font-size=\"14.00\">dif_ahorroInversion_shift_2 &lt;= 0.5</text>\r\n",
       "<text text-anchor=\"middle\" x=\"1383\" y=\"-131.3\" font-family=\"Helvetica,sans-Serif\" font-size=\"14.00\">gini = 0.0559</text>\r\n",
       "<text text-anchor=\"middle\" x=\"1383\" y=\"-116.3\" font-family=\"Helvetica,sans-Serif\" font-size=\"14.00\">samples = 0.6%</text>\r\n",
       "<text text-anchor=\"middle\" x=\"1383\" y=\"-101.3\" font-family=\"Helvetica,sans-Serif\" font-size=\"14.00\">value = [0.9712, 0.0288]</text>\r\n",
       "<text text-anchor=\"middle\" x=\"1383\" y=\"-86.3\" font-family=\"Helvetica,sans-Serif\" font-size=\"14.00\">class = No alta</text>\r\n",
       "</g>\r\n",
       "<!-- 47&#45;&gt;51 -->\r\n",
       "<g id=\"edge51\" class=\"edge\"><title>47&#45;&gt;51</title>\r\n",
       "<path fill=\"none\" stroke=\"black\" d=\"M1203.5,-215.337C1232.35,-199.927 1265.24,-182.365 1294.85,-166.549\"/>\r\n",
       "<polygon fill=\"black\" stroke=\"black\" points=\"1296.75,-169.499 1303.93,-161.7 1293.46,-163.324 1296.75,-169.499\"/>\r\n",
       "</g>\r\n",
       "<!-- 49 -->\r\n",
       "<g id=\"node50\" class=\"node\"><title>49</title>\r\n",
       "<path fill=\"#eead7f\" stroke=\"black\" d=\"M1694,-326C1694,-326 1548,-326 1548,-326 1542,-326 1536,-320 1536,-314 1536,-314 1536,-270 1536,-270 1536,-264 1542,-258 1548,-258 1548,-258 1694,-258 1694,-258 1700,-258 1706,-264 1706,-270 1706,-270 1706,-314 1706,-314 1706,-320 1700,-326 1694,-326\"/>\r\n",
       "<text text-anchor=\"middle\" x=\"1621\" y=\"-310.8\" font-family=\"Helvetica,sans-Serif\" font-size=\"14.00\">gini = 0.385</text>\r\n",
       "<text text-anchor=\"middle\" x=\"1621\" y=\"-295.8\" font-family=\"Helvetica,sans-Serif\" font-size=\"14.00\">samples = 0.3%</text>\r\n",
       "<text text-anchor=\"middle\" x=\"1621\" y=\"-280.8\" font-family=\"Helvetica,sans-Serif\" font-size=\"14.00\">value = [0.7398, 0.2602]</text>\r\n",
       "<text text-anchor=\"middle\" x=\"1621\" y=\"-265.8\" font-family=\"Helvetica,sans-Serif\" font-size=\"14.00\">class = No alta</text>\r\n",
       "</g>\r\n",
       "<!-- 48&#45;&gt;49 -->\r\n",
       "<g id=\"edge49\" class=\"edge\"><title>48&#45;&gt;49</title>\r\n",
       "<path fill=\"none\" stroke=\"black\" d=\"M1472.55,-270.132C1489.82,-272.694 1508,-275.39 1525.46,-277.979\"/>\r\n",
       "<polygon fill=\"black\" stroke=\"black\" points=\"1525.24,-281.485 1535.64,-279.49 1526.27,-274.56 1525.24,-281.485\"/>\r\n",
       "</g>\r\n",
       "<!-- 50 -->\r\n",
       "<g id=\"node51\" class=\"node\"><title>50</title>\r\n",
       "<path fill=\"#bcdef6\" stroke=\"black\" d=\"M1694,-240C1694,-240 1548,-240 1548,-240 1542,-240 1536,-234 1536,-228 1536,-228 1536,-184 1536,-184 1536,-178 1542,-172 1548,-172 1548,-172 1694,-172 1694,-172 1700,-172 1706,-178 1706,-184 1706,-184 1706,-228 1706,-228 1706,-234 1700,-240 1694,-240\"/>\r\n",
       "<text text-anchor=\"middle\" x=\"1621\" y=\"-224.8\" font-family=\"Helvetica,sans-Serif\" font-size=\"14.00\">gini = 0.4793</text>\r\n",
       "<text text-anchor=\"middle\" x=\"1621\" y=\"-209.8\" font-family=\"Helvetica,sans-Serif\" font-size=\"14.00\">samples = 0.1%</text>\r\n",
       "<text text-anchor=\"middle\" x=\"1621\" y=\"-194.8\" font-family=\"Helvetica,sans-Serif\" font-size=\"14.00\">value = [0.3982, 0.6018]</text>\r\n",
       "<text text-anchor=\"middle\" x=\"1621\" y=\"-179.8\" font-family=\"Helvetica,sans-Serif\" font-size=\"14.00\">class = Alta</text>\r\n",
       "</g>\r\n",
       "<!-- 48&#45;&gt;50 -->\r\n",
       "<g id=\"edge50\" class=\"edge\"><title>48&#45;&gt;50</title>\r\n",
       "<path fill=\"none\" stroke=\"black\" d=\"M1472.55,-237.864C1489.82,-234.131 1508,-230.204 1525.46,-226.43\"/>\r\n",
       "<polygon fill=\"black\" stroke=\"black\" points=\"1526.61,-229.763 1535.64,-224.229 1525.13,-222.921 1526.61,-229.763\"/>\r\n",
       "</g>\r\n",
       "<!-- 52 -->\r\n",
       "<g id=\"node53\" class=\"node\"><title>52</title>\r\n",
       "<path fill=\"#e6853f\" stroke=\"black\" d=\"M1694,-154C1694,-154 1548,-154 1548,-154 1542,-154 1536,-148 1536,-142 1536,-142 1536,-98 1536,-98 1536,-92 1542,-86 1548,-86 1548,-86 1694,-86 1694,-86 1700,-86 1706,-92 1706,-98 1706,-98 1706,-142 1706,-142 1706,-148 1700,-154 1694,-154\"/>\r\n",
       "<text text-anchor=\"middle\" x=\"1621\" y=\"-138.8\" font-family=\"Helvetica,sans-Serif\" font-size=\"14.00\">gini = 0.0538</text>\r\n",
       "<text text-anchor=\"middle\" x=\"1621\" y=\"-123.8\" font-family=\"Helvetica,sans-Serif\" font-size=\"14.00\">samples = 0.6%</text>\r\n",
       "<text text-anchor=\"middle\" x=\"1621\" y=\"-108.8\" font-family=\"Helvetica,sans-Serif\" font-size=\"14.00\">value = [0.9723, 0.0277]</text>\r\n",
       "<text text-anchor=\"middle\" x=\"1621\" y=\"-93.8\" font-family=\"Helvetica,sans-Serif\" font-size=\"14.00\">class = No alta</text>\r\n",
       "</g>\r\n",
       "<!-- 51&#45;&gt;52 -->\r\n",
       "<g id=\"edge52\" class=\"edge\"><title>51&#45;&gt;52</title>\r\n",
       "<path fill=\"none\" stroke=\"black\" d=\"M1500.27,-120C1508.79,-120 1517.32,-120 1525.69,-120\"/>\r\n",
       "<polygon fill=\"black\" stroke=\"black\" points=\"1525.8,-123.5 1535.8,-120 1525.8,-116.5 1525.8,-123.5\"/>\r\n",
       "</g>\r\n",
       "<!-- 53 -->\r\n",
       "<g id=\"node54\" class=\"node\"><title>53</title>\r\n",
       "<path fill=\"#e99558\" stroke=\"black\" d=\"M1694,-68C1694,-68 1548,-68 1548,-68 1542,-68 1536,-62 1536,-56 1536,-56 1536,-12 1536,-12 1536,-6 1542,-0 1548,-0 1548,-0 1694,-0 1694,-0 1700,-0 1706,-6 1706,-12 1706,-12 1706,-56 1706,-56 1706,-62 1700,-68 1694,-68\"/>\r\n",
       "<text text-anchor=\"middle\" x=\"1621\" y=\"-52.8\" font-family=\"Helvetica,sans-Serif\" font-size=\"14.00\">gini = 0.2337</text>\r\n",
       "<text text-anchor=\"middle\" x=\"1621\" y=\"-37.8\" font-family=\"Helvetica,sans-Serif\" font-size=\"14.00\">samples = 0.0%</text>\r\n",
       "<text text-anchor=\"middle\" x=\"1621\" y=\"-22.8\" font-family=\"Helvetica,sans-Serif\" font-size=\"14.00\">value = [0.8649, 0.1351]</text>\r\n",
       "<text text-anchor=\"middle\" x=\"1621\" y=\"-7.8\" font-family=\"Helvetica,sans-Serif\" font-size=\"14.00\">class = No alta</text>\r\n",
       "</g>\r\n",
       "<!-- 51&#45;&gt;53 -->\r\n",
       "<g id=\"edge53\" class=\"edge\"><title>51&#45;&gt;53</title>\r\n",
       "<path fill=\"none\" stroke=\"black\" d=\"M1498.2,-78.3855C1507.63,-74.9489 1517.09,-71.5004 1526.35,-68.128\"/>\r\n",
       "<polygon fill=\"black\" stroke=\"black\" points=\"1527.71,-71.3573 1535.9,-64.6449 1525.31,-64.7803 1527.71,-71.3573\"/>\r\n",
       "</g>\r\n",
       "</g>\r\n",
       "</svg>\r\n"
      ],
      "text/plain": [
       "<graphviz.files.Source at 0x1a53129ad48>"
      ]
     },
     "execution_count": 179,
     "metadata": {},
     "output_type": "execute_result"
    }
   ],
   "source": [
    "dot_data = export_graphviz(\n",
    "                        decision_tree = dt,\n",
    "                        # out_file=None,\n",
    "                        # max_depth=None,\n",
    "                        feature_names=X_test.columns,\n",
    "                        class_names=['No alta', 'Alta'],\n",
    "                        # label='all',\n",
    "                        filled=True,\n",
    "                        # leaves_parallel=False,\n",
    "                        impurity=True,\n",
    "                        # node_ids=False,\n",
    "                        proportion=True,\n",
    "                        rotate=True,\n",
    "                        rounded=True,\n",
    "                        # special_characters=False,\n",
    "                        precision=4,\n",
    "                        )\n",
    "\n",
    "graph = graphviz.Source(dot_data)\n",
    "graph"
   ]
  },
  {
   "cell_type": "code",
   "execution_count": 180,
   "metadata": {
    "ExecuteTime": {
     "end_time": "2020-09-12T15:39:37.761746Z",
     "start_time": "2020-09-12T15:39:37.543069Z"
    }
   },
   "outputs": [
    {
     "data": {
      "text/plain": [
       "'arbol_EasyMoney.pdf'"
      ]
     },
     "execution_count": 180,
     "metadata": {},
     "output_type": "execute_result"
    }
   ],
   "source": [
    "# Lo pasamos a pdf\n",
    "graph.render(filename='arbol_EasyMoney')"
   ]
  },
  {
   "cell_type": "markdown",
   "metadata": {},
   "source": [
    "# Vemos con Test"
   ]
  },
  {
   "cell_type": "code",
   "execution_count": 93,
   "metadata": {
    "ExecuteTime": {
     "end_time": "2020-09-12T15:18:51.791508Z",
     "start_time": "2020-09-12T15:18:51.581631Z"
    }
   },
   "outputs": [],
   "source": [
    "y_test_pred = pd.DataFrame(dt.predict(X_test), index=Y_test.index, columns=['altaPrediction'])"
   ]
  },
  {
   "cell_type": "code",
   "execution_count": 94,
   "metadata": {
    "ExecuteTime": {
     "end_time": "2020-09-12T15:18:52.498898Z",
     "start_time": "2020-09-12T15:18:52.494907Z"
    }
   },
   "outputs": [
    {
     "data": {
      "text/plain": [
       "331588"
      ]
     },
     "execution_count": 94,
     "metadata": {},
     "output_type": "execute_result"
    }
   ],
   "source": [
    "len(y_test_pred)"
   ]
  },
  {
   "cell_type": "code",
   "execution_count": 95,
   "metadata": {
    "ExecuteTime": {
     "end_time": "2020-09-12T15:18:53.522635Z",
     "start_time": "2020-09-12T15:18:53.258786Z"
    }
   },
   "outputs": [],
   "source": [
    "score_test=dt.score(X_test, Y_test)"
   ]
  },
  {
   "cell_type": "code",
   "execution_count": 96,
   "metadata": {
    "ExecuteTime": {
     "end_time": "2020-09-12T15:18:54.145276Z",
     "start_time": "2020-09-12T15:18:54.141278Z"
    }
   },
   "outputs": [
    {
     "data": {
      "text/plain": [
       "0.968430703161755"
      ]
     },
     "execution_count": 96,
     "metadata": {},
     "output_type": "execute_result"
    }
   ],
   "source": [
    "score_test"
   ]
  },
  {
   "cell_type": "code",
   "execution_count": 97,
   "metadata": {
    "ExecuteTime": {
     "end_time": "2020-09-12T15:18:55.029588Z",
     "start_time": "2020-09-12T15:18:55.023592Z"
    }
   },
   "outputs": [],
   "source": [
    "results_df = Y_test.to_frame().join(y_test_pred)"
   ]
  },
  {
   "cell_type": "code",
   "execution_count": 98,
   "metadata": {
    "ExecuteTime": {
     "end_time": "2020-09-12T15:18:55.792580Z",
     "start_time": "2020-09-12T15:18:55.784580Z"
    }
   },
   "outputs": [],
   "source": [
    "results_df['Success']=(results_df['dif_cuentaSimple']==results_df['altaPrediction']).astype(int)"
   ]
  },
  {
   "cell_type": "code",
   "execution_count": 99,
   "metadata": {
    "ExecuteTime": {
     "end_time": "2020-09-12T15:18:56.544338Z",
     "start_time": "2020-09-12T15:18:56.529346Z"
    }
   },
   "outputs": [
    {
     "data": {
      "text/html": [
       "<div>\n",
       "<style scoped>\n",
       "    .dataframe tbody tr th:only-of-type {\n",
       "        vertical-align: middle;\n",
       "    }\n",
       "\n",
       "    .dataframe tbody tr th {\n",
       "        vertical-align: top;\n",
       "    }\n",
       "\n",
       "    .dataframe thead th {\n",
       "        text-align: right;\n",
       "    }\n",
       "</style>\n",
       "<table border=\"1\" class=\"dataframe\">\n",
       "  <thead>\n",
       "    <tr style=\"text-align: right;\">\n",
       "      <th></th>\n",
       "      <th>dif_cuentaSimple</th>\n",
       "      <th>altaPrediction</th>\n",
       "      <th>Success</th>\n",
       "    </tr>\n",
       "  </thead>\n",
       "  <tbody>\n",
       "    <tr>\n",
       "      <th>5620753</th>\n",
       "      <td>1.00</td>\n",
       "      <td>0.00</td>\n",
       "      <td>0</td>\n",
       "    </tr>\n",
       "    <tr>\n",
       "      <th>5466778</th>\n",
       "      <td>1.00</td>\n",
       "      <td>0.00</td>\n",
       "      <td>0</td>\n",
       "    </tr>\n",
       "    <tr>\n",
       "      <th>5614327</th>\n",
       "      <td>1.00</td>\n",
       "      <td>0.00</td>\n",
       "      <td>0</td>\n",
       "    </tr>\n",
       "    <tr>\n",
       "      <th>5361254</th>\n",
       "      <td>1.00</td>\n",
       "      <td>0.00</td>\n",
       "      <td>0</td>\n",
       "    </tr>\n",
       "    <tr>\n",
       "      <th>5635811</th>\n",
       "      <td>1.00</td>\n",
       "      <td>1.00</td>\n",
       "      <td>1</td>\n",
       "    </tr>\n",
       "    <tr>\n",
       "      <th>5636503</th>\n",
       "      <td>1.00</td>\n",
       "      <td>1.00</td>\n",
       "      <td>1</td>\n",
       "    </tr>\n",
       "    <tr>\n",
       "      <th>5623950</th>\n",
       "      <td>1.00</td>\n",
       "      <td>0.00</td>\n",
       "      <td>0</td>\n",
       "    </tr>\n",
       "    <tr>\n",
       "      <th>5469694</th>\n",
       "      <td>1.00</td>\n",
       "      <td>1.00</td>\n",
       "      <td>1</td>\n",
       "    </tr>\n",
       "    <tr>\n",
       "      <th>5349794</th>\n",
       "      <td>1.00</td>\n",
       "      <td>1.00</td>\n",
       "      <td>1</td>\n",
       "    </tr>\n",
       "    <tr>\n",
       "      <th>5539395</th>\n",
       "      <td>1.00</td>\n",
       "      <td>0.00</td>\n",
       "      <td>0</td>\n",
       "    </tr>\n",
       "    <tr>\n",
       "      <th>5308963</th>\n",
       "      <td>1.00</td>\n",
       "      <td>0.00</td>\n",
       "      <td>0</td>\n",
       "    </tr>\n",
       "    <tr>\n",
       "      <th>5624802</th>\n",
       "      <td>1.00</td>\n",
       "      <td>0.00</td>\n",
       "      <td>0</td>\n",
       "    </tr>\n",
       "    <tr>\n",
       "      <th>5463831</th>\n",
       "      <td>1.00</td>\n",
       "      <td>0.00</td>\n",
       "      <td>0</td>\n",
       "    </tr>\n",
       "    <tr>\n",
       "      <th>5386433</th>\n",
       "      <td>1.00</td>\n",
       "      <td>0.00</td>\n",
       "      <td>0</td>\n",
       "    </tr>\n",
       "    <tr>\n",
       "      <th>5636141</th>\n",
       "      <td>1.00</td>\n",
       "      <td>1.00</td>\n",
       "      <td>1</td>\n",
       "    </tr>\n",
       "    <tr>\n",
       "      <th>5589709</th>\n",
       "      <td>1.00</td>\n",
       "      <td>0.00</td>\n",
       "      <td>0</td>\n",
       "    </tr>\n",
       "    <tr>\n",
       "      <th>5635934</th>\n",
       "      <td>1.00</td>\n",
       "      <td>1.00</td>\n",
       "      <td>1</td>\n",
       "    </tr>\n",
       "    <tr>\n",
       "      <th>5635522</th>\n",
       "      <td>1.00</td>\n",
       "      <td>0.00</td>\n",
       "      <td>0</td>\n",
       "    </tr>\n",
       "    <tr>\n",
       "      <th>5636269</th>\n",
       "      <td>1.00</td>\n",
       "      <td>1.00</td>\n",
       "      <td>1</td>\n",
       "    </tr>\n",
       "    <tr>\n",
       "      <th>5383354</th>\n",
       "      <td>1.00</td>\n",
       "      <td>0.00</td>\n",
       "      <td>0</td>\n",
       "    </tr>\n",
       "  </tbody>\n",
       "</table>\n",
       "</div>"
      ],
      "text/plain": [
       "         dif_cuentaSimple  altaPrediction  Success\n",
       "5620753              1.00            0.00        0\n",
       "5466778              1.00            0.00        0\n",
       "5614327              1.00            0.00        0\n",
       "5361254              1.00            0.00        0\n",
       "5635811              1.00            1.00        1\n",
       "5636503              1.00            1.00        1\n",
       "5623950              1.00            0.00        0\n",
       "5469694              1.00            1.00        1\n",
       "5349794              1.00            1.00        1\n",
       "5539395              1.00            0.00        0\n",
       "5308963              1.00            0.00        0\n",
       "5624802              1.00            0.00        0\n",
       "5463831              1.00            0.00        0\n",
       "5386433              1.00            0.00        0\n",
       "5636141              1.00            1.00        1\n",
       "5589709              1.00            0.00        0\n",
       "5635934              1.00            1.00        1\n",
       "5635522              1.00            0.00        0\n",
       "5636269              1.00            1.00        1\n",
       "5383354              1.00            0.00        0"
      ]
     },
     "execution_count": 99,
     "metadata": {},
     "output_type": "execute_result"
    }
   ],
   "source": [
    "results_df[results_df['dif_cuentaSimple']!=0].sample(20)"
   ]
  },
  {
   "cell_type": "markdown",
   "metadata": {},
   "source": [
    "Vemos los aciertos para las altas de algun producto de cuenta simple:"
   ]
  },
  {
   "cell_type": "code",
   "execution_count": 100,
   "metadata": {
    "ExecuteTime": {
     "end_time": "2020-09-12T15:18:58.119634Z",
     "start_time": "2020-09-12T15:18:57.898268Z"
    }
   },
   "outputs": [
    {
     "data": {
      "text/plain": [
       "<matplotlib.axes._subplots.AxesSubplot at 0x1a4daa91d88>"
      ]
     },
     "execution_count": 100,
     "metadata": {},
     "output_type": "execute_result"
    },
    {
     "data": {
      "image/png": "[encoded data removed]",
      "text/plain": [
       "<Figure size 432x288 with 1 Axes>"
      ]
     },
     "metadata": {},
     "output_type": "display_data"
    }
   ],
   "source": [
    "results_df[results_df['dif_cuentaSimple']==1]['Success'].hist()"
   ]
  },
  {
   "cell_type": "markdown",
   "metadata": {},
   "source": [
    "Acertamos 4300 y fallamos 9290. "
   ]
  },
  {
   "cell_type": "code",
   "execution_count": 101,
   "metadata": {
    "ExecuteTime": {
     "end_time": "2020-09-12T15:18:59.683106Z",
     "start_time": "2020-09-12T15:18:59.673111Z"
    }
   },
   "outputs": [
    {
     "data": {
      "text/plain": [
       "0    9290\n",
       "1    4305\n",
       "Name: Success, dtype: int64"
      ]
     },
     "execution_count": 101,
     "metadata": {},
     "output_type": "execute_result"
    }
   ],
   "source": [
    "results_df[results_df['dif_cuentaSimple']==1]['Success'].value_counts()"
   ]
  },
  {
   "cell_type": "markdown",
   "metadata": {
    "ExecuteTime": {
     "end_time": "2020-09-12T15:13:45.447102Z",
     "start_time": "2020-09-12T15:13:45.442104Z"
    }
   },
   "source": [
    "Vemos los aciertos para las no altas de alguno de los prodcutos de cuenta simple:"
   ]
  },
  {
   "cell_type": "code",
   "execution_count": 102,
   "metadata": {
    "ExecuteTime": {
     "end_time": "2020-09-12T15:19:01.273972Z",
     "start_time": "2020-09-12T15:19:01.040088Z"
    }
   },
   "outputs": [
    {
     "data": {
      "text/plain": [
       "<matplotlib.axes._subplots.AxesSubplot at 0x1a4daccc7c8>"
      ]
     },
     "execution_count": 102,
     "metadata": {},
     "output_type": "execute_result"
    },
    {
     "data": {
      "image/png": "[encoded data removed]",
      "text/plain": [
       "<Figure size 432x288 with 1 Axes>"
      ]
     },
     "metadata": {},
     "output_type": "display_data"
    }
   ],
   "source": [
    "results_df[results_df['dif_cuentaSimple']==0]['Success'].hist()"
   ]
  },
  {
   "cell_type": "markdown",
   "metadata": {
    "ExecuteTime": {
     "end_time": "2020-09-12T15:14:25.197704Z",
     "start_time": "2020-09-12T15:14:25.192708Z"
    }
   },
   "source": [
    "Se aciertan 316815 y solo se escapan 1178 altas que no se han predecido como tal:"
   ]
  },
  {
   "cell_type": "code",
   "execution_count": 103,
   "metadata": {
    "ExecuteTime": {
     "end_time": "2020-09-12T15:19:02.935739Z",
     "start_time": "2020-09-12T15:19:02.911755Z"
    }
   },
   "outputs": [
    {
     "data": {
      "text/plain": [
       "1    316815\n",
       "0      1178\n",
       "Name: Success, dtype: int64"
      ]
     },
     "execution_count": 103,
     "metadata": {},
     "output_type": "execute_result"
    }
   ],
   "source": [
    "results_df[results_df['dif_cuentaSimple']==0]['Success'].value_counts()"
   ]
  },
  {
   "cell_type": "code",
   "execution_count": 104,
   "metadata": {
    "ExecuteTime": {
     "end_time": "2020-09-12T15:19:03.792878Z",
     "start_time": "2020-09-12T15:19:03.787900Z"
    }
   },
   "outputs": [],
   "source": [
    "top_features = pd.Series(dt.feature_importances_, index=X_train.columns).sort_values(ascending=False).head(30)"
   ]
  },
  {
   "cell_type": "code",
   "execution_count": 105,
   "metadata": {
    "ExecuteTime": {
     "end_time": "2020-09-12T15:19:04.716436Z",
     "start_time": "2020-09-12T15:19:04.711421Z"
    }
   },
   "outputs": [
    {
     "data": {
      "text/plain": [
       "payroll_account_shift_1       0.73\n",
       "dif_em_acount_shift_2         0.06\n",
       "em_acount_shift_1             0.06\n",
       "dif_pension_plan_shift_1      0.03\n",
       "payroll_shift_2               0.02\n",
       "debit_card_shift_1            0.02\n",
       "em_acount_shift_2             0.01\n",
       "pension_plan_shift_1          0.01\n",
       "dif_debit_card_shift_2        0.01\n",
       "entry_date_month              0.01\n",
       "channel_KHM                   0.01\n",
       "debit_card_shift_3            0.01\n",
       "entry_date_day                0.01\n",
       "dif_ahorroInversion_shift_1   0.01\n",
       "debit_card_shift_4            0.00\n",
       "channel_KHQ                   0.00\n",
       "em_acount_shift_3             0.00\n",
       "month                         0.00\n",
       "entry_date_year               0.00\n",
       "channel_XXX                   0.00\n",
       "dif_ahorroInversion_shift_2   0.00\n",
       "dif_emc_account_shift_1       0.00\n",
       "dif_emc_account_shift_2       0.00\n",
       "dif_payroll_account_shift_4   0.00\n",
       "dif_payroll_account_shift_3   0.00\n",
       "dif_payroll_account_shift_2   0.00\n",
       "dif_payroll_account_shift_1   0.00\n",
       "dif_pension_plan_shift_4      0.00\n",
       "dif_emc_account_shift_3       0.00\n",
       "dif_pension_plan_shift_3      0.00\n",
       "dtype: float64"
      ]
     },
     "execution_count": 105,
     "metadata": {},
     "output_type": "execute_result"
    }
   ],
   "source": [
    "top_features"
   ]
  },
  {
   "cell_type": "markdown",
   "metadata": {},
   "source": [
    "Curva RoC y metrica AUC"
   ]
  },
  {
   "cell_type": "markdown",
   "metadata": {},
   "source": [
    "Sacamos la probabilidad de alta calculada para los productos de cuenta simple:"
   ]
  },
  {
   "cell_type": "code",
   "execution_count": 106,
   "metadata": {
    "ExecuteTime": {
     "end_time": "2020-09-12T15:19:07.028561Z",
     "start_time": "2020-09-12T15:19:06.804691Z"
    }
   },
   "outputs": [],
   "source": [
    "y_score = pd.DataFrame(dt.predict_proba(X_test)[:,1], index=Y_test.index, columns=['AltaScore'])\n",
    "results_df = results_df.join(y_score)"
   ]
  },
  {
   "cell_type": "code",
   "execution_count": 107,
   "metadata": {
    "ExecuteTime": {
     "end_time": "2020-09-12T15:19:07.729330Z",
     "start_time": "2020-09-12T15:19:07.717334Z"
    }
   },
   "outputs": [
    {
     "data": {
      "text/html": [
       "<div>\n",
       "<style scoped>\n",
       "    .dataframe tbody tr th:only-of-type {\n",
       "        vertical-align: middle;\n",
       "    }\n",
       "\n",
       "    .dataframe tbody tr th {\n",
       "        vertical-align: top;\n",
       "    }\n",
       "\n",
       "    .dataframe thead th {\n",
       "        text-align: right;\n",
       "    }\n",
       "</style>\n",
       "<table border=\"1\" class=\"dataframe\">\n",
       "  <thead>\n",
       "    <tr style=\"text-align: right;\">\n",
       "      <th></th>\n",
       "      <th>dif_cuentaSimple</th>\n",
       "      <th>altaPrediction</th>\n",
       "      <th>Success</th>\n",
       "      <th>AltaScore</th>\n",
       "    </tr>\n",
       "  </thead>\n",
       "  <tbody>\n",
       "    <tr>\n",
       "      <th>5440061</th>\n",
       "      <td>1.00</td>\n",
       "      <td>0.00</td>\n",
       "      <td>0</td>\n",
       "      <td>0.07</td>\n",
       "    </tr>\n",
       "    <tr>\n",
       "      <th>5631891</th>\n",
       "      <td>1.00</td>\n",
       "      <td>0.00</td>\n",
       "      <td>0</td>\n",
       "      <td>0.01</td>\n",
       "    </tr>\n",
       "    <tr>\n",
       "      <th>5629892</th>\n",
       "      <td>1.00</td>\n",
       "      <td>0.00</td>\n",
       "      <td>0</td>\n",
       "      <td>0.01</td>\n",
       "    </tr>\n",
       "    <tr>\n",
       "      <th>5636638</th>\n",
       "      <td>1.00</td>\n",
       "      <td>1.00</td>\n",
       "      <td>1</td>\n",
       "      <td>0.80</td>\n",
       "    </tr>\n",
       "    <tr>\n",
       "      <th>5548436</th>\n",
       "      <td>1.00</td>\n",
       "      <td>0.00</td>\n",
       "      <td>0</td>\n",
       "      <td>0.08</td>\n",
       "    </tr>\n",
       "    <tr>\n",
       "      <th>5381515</th>\n",
       "      <td>1.00</td>\n",
       "      <td>1.00</td>\n",
       "      <td>1</td>\n",
       "      <td>0.58</td>\n",
       "    </tr>\n",
       "    <tr>\n",
       "      <th>5588838</th>\n",
       "      <td>1.00</td>\n",
       "      <td>0.00</td>\n",
       "      <td>0</td>\n",
       "      <td>0.07</td>\n",
       "    </tr>\n",
       "    <tr>\n",
       "      <th>5636568</th>\n",
       "      <td>1.00</td>\n",
       "      <td>1.00</td>\n",
       "      <td>1</td>\n",
       "      <td>0.80</td>\n",
       "    </tr>\n",
       "    <tr>\n",
       "      <th>5503493</th>\n",
       "      <td>1.00</td>\n",
       "      <td>0.00</td>\n",
       "      <td>0</td>\n",
       "      <td>0.01</td>\n",
       "    </tr>\n",
       "    <tr>\n",
       "      <th>5635320</th>\n",
       "      <td>1.00</td>\n",
       "      <td>1.00</td>\n",
       "      <td>1</td>\n",
       "      <td>0.91</td>\n",
       "    </tr>\n",
       "    <tr>\n",
       "      <th>5629752</th>\n",
       "      <td>1.00</td>\n",
       "      <td>0.00</td>\n",
       "      <td>0</td>\n",
       "      <td>0.16</td>\n",
       "    </tr>\n",
       "    <tr>\n",
       "      <th>5310734</th>\n",
       "      <td>1.00</td>\n",
       "      <td>0.00</td>\n",
       "      <td>0</td>\n",
       "      <td>0.13</td>\n",
       "    </tr>\n",
       "    <tr>\n",
       "      <th>5317915</th>\n",
       "      <td>1.00</td>\n",
       "      <td>0.00</td>\n",
       "      <td>0</td>\n",
       "      <td>0.07</td>\n",
       "    </tr>\n",
       "    <tr>\n",
       "      <th>5627955</th>\n",
       "      <td>1.00</td>\n",
       "      <td>0.00</td>\n",
       "      <td>0</td>\n",
       "      <td>0.08</td>\n",
       "    </tr>\n",
       "    <tr>\n",
       "      <th>5629688</th>\n",
       "      <td>1.00</td>\n",
       "      <td>0.00</td>\n",
       "      <td>0</td>\n",
       "      <td>0.01</td>\n",
       "    </tr>\n",
       "    <tr>\n",
       "      <th>5385013</th>\n",
       "      <td>1.00</td>\n",
       "      <td>1.00</td>\n",
       "      <td>1</td>\n",
       "      <td>0.58</td>\n",
       "    </tr>\n",
       "    <tr>\n",
       "      <th>5636591</th>\n",
       "      <td>1.00</td>\n",
       "      <td>1.00</td>\n",
       "      <td>1</td>\n",
       "      <td>0.80</td>\n",
       "    </tr>\n",
       "    <tr>\n",
       "      <th>5634536</th>\n",
       "      <td>1.00</td>\n",
       "      <td>0.00</td>\n",
       "      <td>0</td>\n",
       "      <td>0.01</td>\n",
       "    </tr>\n",
       "    <tr>\n",
       "      <th>5624645</th>\n",
       "      <td>1.00</td>\n",
       "      <td>0.00</td>\n",
       "      <td>0</td>\n",
       "      <td>0.08</td>\n",
       "    </tr>\n",
       "    <tr>\n",
       "      <th>5464522</th>\n",
       "      <td>1.00</td>\n",
       "      <td>1.00</td>\n",
       "      <td>1</td>\n",
       "      <td>0.60</td>\n",
       "    </tr>\n",
       "  </tbody>\n",
       "</table>\n",
       "</div>"
      ],
      "text/plain": [
       "         dif_cuentaSimple  altaPrediction  Success  AltaScore\n",
       "5440061              1.00            0.00        0       0.07\n",
       "5631891              1.00            0.00        0       0.01\n",
       "5629892              1.00            0.00        0       0.01\n",
       "5636638              1.00            1.00        1       0.80\n",
       "5548436              1.00            0.00        0       0.08\n",
       "5381515              1.00            1.00        1       0.58\n",
       "5588838              1.00            0.00        0       0.07\n",
       "5636568              1.00            1.00        1       0.80\n",
       "5503493              1.00            0.00        0       0.01\n",
       "5635320              1.00            1.00        1       0.91\n",
       "5629752              1.00            0.00        0       0.16\n",
       "5310734              1.00            0.00        0       0.13\n",
       "5317915              1.00            0.00        0       0.07\n",
       "5627955              1.00            0.00        0       0.08\n",
       "5629688              1.00            0.00        0       0.01\n",
       "5385013              1.00            1.00        1       0.58\n",
       "5636591              1.00            1.00        1       0.80\n",
       "5634536              1.00            0.00        0       0.01\n",
       "5624645              1.00            0.00        0       0.08\n",
       "5464522              1.00            1.00        1       0.60"
      ]
     },
     "execution_count": 107,
     "metadata": {},
     "output_type": "execute_result"
    }
   ],
   "source": [
    "results_df[results_df['dif_cuentaSimple']!=0].sample(20)"
   ]
  },
  {
   "cell_type": "code",
   "execution_count": 108,
   "metadata": {
    "ExecuteTime": {
     "end_time": "2020-09-12T15:19:08.827028Z",
     "start_time": "2020-09-12T15:19:08.811045Z"
    }
   },
   "outputs": [
    {
     "data": {
      "text/html": [
       "<div>\n",
       "<style scoped>\n",
       "    .dataframe tbody tr th:only-of-type {\n",
       "        vertical-align: middle;\n",
       "    }\n",
       "\n",
       "    .dataframe tbody tr th {\n",
       "        vertical-align: top;\n",
       "    }\n",
       "\n",
       "    .dataframe thead th {\n",
       "        text-align: right;\n",
       "    }\n",
       "</style>\n",
       "<table border=\"1\" class=\"dataframe\">\n",
       "  <thead>\n",
       "    <tr style=\"text-align: right;\">\n",
       "      <th></th>\n",
       "      <th>index</th>\n",
       "      <th>Count</th>\n",
       "    </tr>\n",
       "  </thead>\n",
       "  <tbody>\n",
       "    <tr>\n",
       "      <th>0</th>\n",
       "      <td>0.01</td>\n",
       "      <td>252274</td>\n",
       "    </tr>\n",
       "    <tr>\n",
       "      <th>1</th>\n",
       "      <td>0.07</td>\n",
       "      <td>22205</td>\n",
       "    </tr>\n",
       "    <tr>\n",
       "      <th>2</th>\n",
       "      <td>0.13</td>\n",
       "      <td>15694</td>\n",
       "    </tr>\n",
       "    <tr>\n",
       "      <th>3</th>\n",
       "      <td>0.08</td>\n",
       "      <td>11968</td>\n",
       "    </tr>\n",
       "    <tr>\n",
       "      <th>4</th>\n",
       "      <td>0.01</td>\n",
       "      <td>9285</td>\n",
       "    </tr>\n",
       "    <tr>\n",
       "      <th>5</th>\n",
       "      <td>0.13</td>\n",
       "      <td>5228</td>\n",
       "    </tr>\n",
       "    <tr>\n",
       "      <th>6</th>\n",
       "      <td>0.16</td>\n",
       "      <td>4047</td>\n",
       "    </tr>\n",
       "    <tr>\n",
       "      <th>7</th>\n",
       "      <td>0.03</td>\n",
       "      <td>2539</td>\n",
       "    </tr>\n",
       "    <tr>\n",
       "      <th>8</th>\n",
       "      <td>0.58</td>\n",
       "      <td>1918</td>\n",
       "    </tr>\n",
       "    <tr>\n",
       "      <th>9</th>\n",
       "      <td>0.80</td>\n",
       "      <td>1279</td>\n",
       "    </tr>\n",
       "    <tr>\n",
       "      <th>10</th>\n",
       "      <td>0.91</td>\n",
       "      <td>1268</td>\n",
       "    </tr>\n",
       "    <tr>\n",
       "      <th>11</th>\n",
       "      <td>0.26</td>\n",
       "      <td>1093</td>\n",
       "    </tr>\n",
       "    <tr>\n",
       "      <th>12</th>\n",
       "      <td>0.50</td>\n",
       "      <td>955</td>\n",
       "    </tr>\n",
       "    <tr>\n",
       "      <th>13</th>\n",
       "      <td>0.79</td>\n",
       "      <td>481</td>\n",
       "    </tr>\n",
       "    <tr>\n",
       "      <th>14</th>\n",
       "      <td>0.60</td>\n",
       "      <td>458</td>\n",
       "    </tr>\n",
       "    <tr>\n",
       "      <th>15</th>\n",
       "      <td>0.50</td>\n",
       "      <td>397</td>\n",
       "    </tr>\n",
       "    <tr>\n",
       "      <th>16</th>\n",
       "      <td>0.46</td>\n",
       "      <td>364</td>\n",
       "    </tr>\n",
       "    <tr>\n",
       "      <th>17</th>\n",
       "      <td>0.72</td>\n",
       "      <td>51</td>\n",
       "    </tr>\n",
       "    <tr>\n",
       "      <th>18</th>\n",
       "      <td>0.13</td>\n",
       "      <td>32</td>\n",
       "    </tr>\n",
       "    <tr>\n",
       "      <th>19</th>\n",
       "      <td>0.87</td>\n",
       "      <td>15</td>\n",
       "    </tr>\n",
       "    <tr>\n",
       "      <th>20</th>\n",
       "      <td>0.15</td>\n",
       "      <td>13</td>\n",
       "    </tr>\n",
       "    <tr>\n",
       "      <th>21</th>\n",
       "      <td>0.14</td>\n",
       "      <td>11</td>\n",
       "    </tr>\n",
       "    <tr>\n",
       "      <th>22</th>\n",
       "      <td>0.62</td>\n",
       "      <td>7</td>\n",
       "    </tr>\n",
       "    <tr>\n",
       "      <th>23</th>\n",
       "      <td>0.62</td>\n",
       "      <td>6</td>\n",
       "    </tr>\n",
       "  </tbody>\n",
       "</table>\n",
       "</div>"
      ],
      "text/plain": [
       "    index   Count\n",
       "0    0.01  252274\n",
       "1    0.07   22205\n",
       "2    0.13   15694\n",
       "3    0.08   11968\n",
       "4    0.01    9285\n",
       "5    0.13    5228\n",
       "6    0.16    4047\n",
       "7    0.03    2539\n",
       "8    0.58    1918\n",
       "9    0.80    1279\n",
       "10   0.91    1268\n",
       "11   0.26    1093\n",
       "12   0.50     955\n",
       "13   0.79     481\n",
       "14   0.60     458\n",
       "15   0.50     397\n",
       "16   0.46     364\n",
       "17   0.72      51\n",
       "18   0.13      32\n",
       "19   0.87      15\n",
       "20   0.15      13\n",
       "21   0.14      11\n",
       "22   0.62       7\n",
       "23   0.62       6"
      ]
     },
     "execution_count": 108,
     "metadata": {},
     "output_type": "execute_result"
    }
   ],
   "source": [
    "results_df['AltaScore'].value_counts(ascending=False).reset_index(name='Count')"
   ]
  },
  {
   "cell_type": "markdown",
   "metadata": {},
   "source": [
    "Vemos que tenemos algunas hojas del arbol para solo 6 clientes. "
   ]
  },
  {
   "cell_type": "code",
   "execution_count": 109,
   "metadata": {
    "ExecuteTime": {
     "end_time": "2020-09-12T15:19:12.630608Z",
     "start_time": "2020-09-12T15:19:12.520691Z"
    }
   },
   "outputs": [
    {
     "name": "stdout",
     "output_type": "stream",
     "text": [
      "0.842037602616679\n"
     ]
    }
   ],
   "source": [
    "print(metrics.roc_auc_score(results_df['dif_cuentaSimple'], results_df['AltaScore']))"
   ]
  },
  {
   "cell_type": "code",
   "execution_count": 110,
   "metadata": {
    "ExecuteTime": {
     "end_time": "2020-09-12T15:19:14.548049Z",
     "start_time": "2020-09-12T15:19:14.493063Z"
    }
   },
   "outputs": [],
   "source": [
    "fpr, tpr, _ = metrics.roc_curve(results_df['dif_cuentaSimple'], results_df['AltaScore'])"
   ]
  },
  {
   "cell_type": "code",
   "execution_count": 111,
   "metadata": {
    "ExecuteTime": {
     "end_time": "2020-09-12T15:19:15.452528Z",
     "start_time": "2020-09-12T15:19:15.181666Z"
    }
   },
   "outputs": [
    {
     "data": {
      "image/png": "[encoded data removed]",
      "text/plain": [
       "<Figure size 1080x432 with 1 Axes>"
      ]
     },
     "metadata": {},
     "output_type": "display_data"
    }
   ],
   "source": [
    "fig, ax = plt.subplots(figsize = (15, 6))\n",
    "plt.clf()\n",
    "plt.plot(fpr, tpr)\n",
    "plt.plot([0, 1], [0, 1], color='gray', linestyle='--')\n",
    "plt.xlabel('FPR')\n",
    "plt.ylabel('TPR')\n",
    "plt.title('ROC curve')\n",
    "plt.show()"
   ]
  },
  {
   "cell_type": "markdown",
   "metadata": {},
   "source": [
    "Vamos a sacar los clientes que hemos acertado realmente y con una probabilidad añta de compra:"
   ]
  },
  {
   "cell_type": "code",
   "execution_count": 112,
   "metadata": {
    "ExecuteTime": {
     "end_time": "2020-09-12T15:20:00.684617Z",
     "start_time": "2020-09-12T15:20:00.460499Z"
    }
   },
   "outputs": [
    {
     "data": {
      "text/plain": [
       "<matplotlib.axes._subplots.AxesSubplot at 0x1a4dba70608>"
      ]
     },
     "execution_count": 112,
     "metadata": {},
     "output_type": "execute_result"
    },
    {
     "data": {
      "image/png": "[encoded data removed]",
      "text/plain": [
       "<Figure size 432x288 with 1 Axes>"
      ]
     },
     "metadata": {},
     "output_type": "display_data"
    }
   ],
   "source": [
    "results_df[(results_df['dif_cuentaSimple']!=0) &\n",
    "           (results_df['AltaScore']> 0.70) ]['Success'].hist()"
   ]
  },
  {
   "cell_type": "code",
   "execution_count": 113,
   "metadata": {
    "ExecuteTime": {
     "end_time": "2020-09-12T15:20:02.402195Z",
     "start_time": "2020-09-12T15:20:02.393201Z"
    }
   },
   "outputs": [
    {
     "data": {
      "text/plain": [
       "1    4305\n",
       "Name: Success, dtype: int64"
      ]
     },
     "execution_count": 113,
     "metadata": {},
     "output_type": "execute_result"
    }
   ],
   "source": [
    "results_df[(results_df['dif_cuentaSimple']!=0) &\n",
    "           (results_df['AltaScore']> 0.50) ]['Success'].value_counts()"
   ]
  },
  {
   "cell_type": "markdown",
   "metadata": {
    "ExecuteTime": {
     "end_time": "2020-09-12T15:20:45.432033Z",
     "start_time": "2020-09-12T15:20:45.426058Z"
    }
   },
   "source": [
    "Vemos que tenemos unos 4300 clientes que es muy,muyy probable que nos contraten un producto de cuenta simple. Sobre ellos podriamos centrar una campaña de marketing ofreciendoles algun producto de estos."
   ]
  },
  {
   "cell_type": "markdown",
   "metadata": {
    "ExecuteTime": {
     "end_time": "2020-09-09T08:47:56.101605Z",
     "start_time": "2020-09-09T08:47:56.098608Z"
    }
   },
   "source": [
    "# Enternamos para ahorroInversion:"
   ]
  },
  {
   "cell_type": "code",
   "execution_count": 115,
   "metadata": {
    "ExecuteTime": {
     "end_time": "2020-09-12T15:20:55.709703Z",
     "start_time": "2020-09-12T15:20:54.150621Z"
    }
   },
   "outputs": [
    {
     "data": {
      "text/plain": [
       "67702"
      ]
     },
     "execution_count": 115,
     "metadata": {},
     "output_type": "execute_result"
    }
   ],
   "source": [
    "del X_train,Y_train, X_valida, Y_valida,X_test,Y_test\n",
    "gc.collect()\n"
   ]
  },
  {
   "cell_type": "code",
   "execution_count": 116,
   "metadata": {
    "ExecuteTime": {
     "end_time": "2020-09-12T15:21:06.026082Z",
     "start_time": "2020-09-12T15:20:58.223583Z"
    }
   },
   "outputs": [],
   "source": [
    "X_train = full_df[full_df[\"pk_partition\"].isin(train_index)].drop(variables_borrar, axis=1)\n",
    "Y_train = full_df[full_df[\"pk_partition\"].isin(train_index)]['dif_ahorroInversion']\n",
    "\n",
    "X_valida = full_df[full_df[\"pk_partition\"].isin(valida_index)].drop(variables_borrar, axis=1)\n",
    "Y_valida = full_df[full_df[\"pk_partition\"].isin(valida_index)]['dif_ahorroInversion']\n",
    "\n",
    "X_test = full_df[full_df[\"pk_partition\"].isin(test_index)].drop(variables_borrar, axis = 1)\n",
    "Y_test = full_df[full_df[\"pk_partition\"].isin(test_index)]['dif_ahorroInversion']"
   ]
  },
  {
   "cell_type": "code",
   "execution_count": 117,
   "metadata": {
    "ExecuteTime": {
     "end_time": "2020-09-12T15:21:37.056450Z",
     "start_time": "2020-09-12T15:21:07.802313Z"
    }
   },
   "outputs": [
    {
     "data": {
      "text/plain": [
       "DecisionTreeClassifier(ccp_alpha=0.0, class_weight=None, criterion='gini',\n",
       "                       max_depth=6, max_features=None, max_leaf_nodes=None,\n",
       "                       min_impurity_decrease=0.0, min_impurity_split=None,\n",
       "                       min_samples_leaf=1, min_samples_split=10000,\n",
       "                       min_weight_fraction_leaf=0.0, presort='deprecated',\n",
       "                       random_state=42, splitter='best')"
      ]
     },
     "execution_count": 117,
     "metadata": {},
     "output_type": "execute_result"
    }
   ],
   "source": [
    "dt.fit(X_train,Y_train)"
   ]
  },
  {
   "cell_type": "code",
   "execution_count": 118,
   "metadata": {
    "ExecuteTime": {
     "end_time": "2020-09-12T15:21:43.219604Z",
     "start_time": "2020-09-12T15:21:40.613107Z"
    }
   },
   "outputs": [
    {
     "name": "stdout",
     "output_type": "stream",
     "text": [
      "Resultados para: Train: 0.9894363059900456 - Test: 0.9918550218234281\n"
     ]
    }
   ],
   "source": [
    "score_train=dt.score(X_train, Y_train)\n",
    "score_test=dt.score(X_valida, Y_valida)\n",
    "print('Resultados para: Train: {} - Test: {}'.format(score_train,score_test))\n"
   ]
  },
  {
   "cell_type": "markdown",
   "metadata": {},
   "source": [
    "Predecimos para Test:"
   ]
  },
  {
   "cell_type": "code",
   "execution_count": 119,
   "metadata": {
    "ExecuteTime": {
     "end_time": "2020-09-12T15:21:44.510387Z",
     "start_time": "2020-09-12T15:21:44.301509Z"
    }
   },
   "outputs": [],
   "source": [
    "y_test_pred = pd.DataFrame(dt.predict(X_test), index=Y_test.index, columns=['altaPrediction'])\n"
   ]
  },
  {
   "cell_type": "code",
   "execution_count": 120,
   "metadata": {
    "ExecuteTime": {
     "end_time": "2020-09-12T15:21:45.390861Z",
     "start_time": "2020-09-12T15:21:45.131012Z"
    }
   },
   "outputs": [],
   "source": [
    "score_test=dt.score(X_test, Y_test)"
   ]
  },
  {
   "cell_type": "code",
   "execution_count": 122,
   "metadata": {
    "ExecuteTime": {
     "end_time": "2020-09-12T15:22:02.547628Z",
     "start_time": "2020-09-12T15:22:02.543648Z"
    }
   },
   "outputs": [
    {
     "data": {
      "text/plain": [
       "0.9914743597476386"
      ]
     },
     "execution_count": 122,
     "metadata": {},
     "output_type": "execute_result"
    }
   ],
   "source": [
    "score_test"
   ]
  },
  {
   "cell_type": "code",
   "execution_count": 123,
   "metadata": {
    "ExecuteTime": {
     "end_time": "2020-09-12T15:22:06.283271Z",
     "start_time": "2020-09-12T15:22:06.269278Z"
    }
   },
   "outputs": [],
   "source": [
    "results_df = Y_test.to_frame().join(y_test_pred)"
   ]
  },
  {
   "cell_type": "code",
   "execution_count": 124,
   "metadata": {
    "ExecuteTime": {
     "end_time": "2020-09-12T15:22:07.712114Z",
     "start_time": "2020-09-12T15:22:07.704139Z"
    }
   },
   "outputs": [],
   "source": [
    "results_df['Success']=(results_df['dif_ahorroInversion']==results_df['altaPrediction']).astype(int)"
   ]
  },
  {
   "cell_type": "code",
   "execution_count": 125,
   "metadata": {
    "ExecuteTime": {
     "end_time": "2020-09-12T15:22:09.948875Z",
     "start_time": "2020-09-12T15:22:09.935883Z"
    }
   },
   "outputs": [
    {
     "data": {
      "text/html": [
       "<div>\n",
       "<style scoped>\n",
       "    .dataframe tbody tr th:only-of-type {\n",
       "        vertical-align: middle;\n",
       "    }\n",
       "\n",
       "    .dataframe tbody tr th {\n",
       "        vertical-align: top;\n",
       "    }\n",
       "\n",
       "    .dataframe thead th {\n",
       "        text-align: right;\n",
       "    }\n",
       "</style>\n",
       "<table border=\"1\" class=\"dataframe\">\n",
       "  <thead>\n",
       "    <tr style=\"text-align: right;\">\n",
       "      <th></th>\n",
       "      <th>dif_ahorroInversion</th>\n",
       "      <th>altaPrediction</th>\n",
       "      <th>Success</th>\n",
       "    </tr>\n",
       "  </thead>\n",
       "  <tbody>\n",
       "    <tr>\n",
       "      <th>5381146</th>\n",
       "      <td>1.00</td>\n",
       "      <td>0.00</td>\n",
       "      <td>0</td>\n",
       "    </tr>\n",
       "    <tr>\n",
       "      <th>5589442</th>\n",
       "      <td>1.00</td>\n",
       "      <td>0.00</td>\n",
       "      <td>0</td>\n",
       "    </tr>\n",
       "    <tr>\n",
       "      <th>5460750</th>\n",
       "      <td>1.00</td>\n",
       "      <td>1.00</td>\n",
       "      <td>1</td>\n",
       "    </tr>\n",
       "    <tr>\n",
       "      <th>5545689</th>\n",
       "      <td>1.00</td>\n",
       "      <td>1.00</td>\n",
       "      <td>1</td>\n",
       "    </tr>\n",
       "    <tr>\n",
       "      <th>5634745</th>\n",
       "      <td>1.00</td>\n",
       "      <td>0.00</td>\n",
       "      <td>0</td>\n",
       "    </tr>\n",
       "    <tr>\n",
       "      <th>5310363</th>\n",
       "      <td>1.00</td>\n",
       "      <td>0.00</td>\n",
       "      <td>0</td>\n",
       "    </tr>\n",
       "    <tr>\n",
       "      <th>5634308</th>\n",
       "      <td>1.00</td>\n",
       "      <td>0.00</td>\n",
       "      <td>0</td>\n",
       "    </tr>\n",
       "    <tr>\n",
       "      <th>5392802</th>\n",
       "      <td>1.00</td>\n",
       "      <td>1.00</td>\n",
       "      <td>1</td>\n",
       "    </tr>\n",
       "    <tr>\n",
       "      <th>5589260</th>\n",
       "      <td>1.00</td>\n",
       "      <td>0.00</td>\n",
       "      <td>0</td>\n",
       "    </tr>\n",
       "    <tr>\n",
       "      <th>5391053</th>\n",
       "      <td>1.00</td>\n",
       "      <td>1.00</td>\n",
       "      <td>1</td>\n",
       "    </tr>\n",
       "    <tr>\n",
       "      <th>5463287</th>\n",
       "      <td>1.00</td>\n",
       "      <td>0.00</td>\n",
       "      <td>0</td>\n",
       "    </tr>\n",
       "    <tr>\n",
       "      <th>5439252</th>\n",
       "      <td>1.00</td>\n",
       "      <td>1.00</td>\n",
       "      <td>1</td>\n",
       "    </tr>\n",
       "    <tr>\n",
       "      <th>5318893</th>\n",
       "      <td>1.00</td>\n",
       "      <td>0.00</td>\n",
       "      <td>0</td>\n",
       "    </tr>\n",
       "    <tr>\n",
       "      <th>5383499</th>\n",
       "      <td>1.00</td>\n",
       "      <td>1.00</td>\n",
       "      <td>1</td>\n",
       "    </tr>\n",
       "    <tr>\n",
       "      <th>5314141</th>\n",
       "      <td>1.00</td>\n",
       "      <td>1.00</td>\n",
       "      <td>1</td>\n",
       "    </tr>\n",
       "    <tr>\n",
       "      <th>5542638</th>\n",
       "      <td>1.00</td>\n",
       "      <td>0.00</td>\n",
       "      <td>0</td>\n",
       "    </tr>\n",
       "    <tr>\n",
       "      <th>5343974</th>\n",
       "      <td>1.00</td>\n",
       "      <td>0.00</td>\n",
       "      <td>0</td>\n",
       "    </tr>\n",
       "    <tr>\n",
       "      <th>5332222</th>\n",
       "      <td>1.00</td>\n",
       "      <td>0.00</td>\n",
       "      <td>0</td>\n",
       "    </tr>\n",
       "    <tr>\n",
       "      <th>5486035</th>\n",
       "      <td>1.00</td>\n",
       "      <td>1.00</td>\n",
       "      <td>1</td>\n",
       "    </tr>\n",
       "    <tr>\n",
       "      <th>5525074</th>\n",
       "      <td>1.00</td>\n",
       "      <td>0.00</td>\n",
       "      <td>0</td>\n",
       "    </tr>\n",
       "  </tbody>\n",
       "</table>\n",
       "</div>"
      ],
      "text/plain": [
       "         dif_ahorroInversion  altaPrediction  Success\n",
       "5381146                 1.00            0.00        0\n",
       "5589442                 1.00            0.00        0\n",
       "5460750                 1.00            1.00        1\n",
       "5545689                 1.00            1.00        1\n",
       "5634745                 1.00            0.00        0\n",
       "5310363                 1.00            0.00        0\n",
       "5634308                 1.00            0.00        0\n",
       "5392802                 1.00            1.00        1\n",
       "5589260                 1.00            0.00        0\n",
       "5391053                 1.00            1.00        1\n",
       "5463287                 1.00            0.00        0\n",
       "5439252                 1.00            1.00        1\n",
       "5318893                 1.00            0.00        0\n",
       "5383499                 1.00            1.00        1\n",
       "5314141                 1.00            1.00        1\n",
       "5542638                 1.00            0.00        0\n",
       "5343974                 1.00            0.00        0\n",
       "5332222                 1.00            0.00        0\n",
       "5486035                 1.00            1.00        1\n",
       "5525074                 1.00            0.00        0"
      ]
     },
     "execution_count": 125,
     "metadata": {},
     "output_type": "execute_result"
    }
   ],
   "source": [
    "results_df[results_df['dif_ahorroInversion']!=0].sample(20)"
   ]
  },
  {
   "cell_type": "markdown",
   "metadata": {},
   "source": [
    "Vemos los aciertos para las altas de algun producto de Ahorro/inversion:"
   ]
  },
  {
   "cell_type": "code",
   "execution_count": 127,
   "metadata": {
    "ExecuteTime": {
     "end_time": "2020-09-12T15:22:50.054134Z",
     "start_time": "2020-09-12T15:22:49.822285Z"
    }
   },
   "outputs": [
    {
     "data": {
      "text/plain": [
       "<matplotlib.axes._subplots.AxesSubplot at 0x1a53cbba848>"
      ]
     },
     "execution_count": 127,
     "metadata": {},
     "output_type": "execute_result"
    },
    {
     "data": {
      "image/png": "[encoded data removed]",
      "text/plain": [
       "<Figure size 432x288 with 1 Axes>"
      ]
     },
     "metadata": {},
     "output_type": "display_data"
    }
   ],
   "source": [
    "results_df[results_df['dif_ahorroInversion']==1]['Success'].hist()"
   ]
  },
  {
   "cell_type": "markdown",
   "metadata": {
    "ExecuteTime": {
     "end_time": "2020-09-12T15:23:11.252050Z",
     "start_time": "2020-09-12T15:23:11.248071Z"
    }
   },
   "source": [
    "Acertamos unos 1000 y fallamos unos 2000"
   ]
  },
  {
   "cell_type": "code",
   "execution_count": 128,
   "metadata": {
    "ExecuteTime": {
     "end_time": "2020-09-12T15:22:52.280153Z",
     "start_time": "2020-09-12T15:22:52.270140Z"
    }
   },
   "outputs": [
    {
     "data": {
      "text/plain": [
       "0    1911\n",
       "1     974\n",
       "Name: Success, dtype: int64"
      ]
     },
     "execution_count": 128,
     "metadata": {},
     "output_type": "execute_result"
    }
   ],
   "source": [
    "results_df[results_df['dif_ahorroInversion']==1]['Success'].value_counts()"
   ]
  },
  {
   "cell_type": "markdown",
   "metadata": {},
   "source": [
    "Vemos los aciertos para las no altas de alguno de los prodcutos de Ahorro/Inversion:"
   ]
  },
  {
   "cell_type": "code",
   "execution_count": 130,
   "metadata": {
    "ExecuteTime": {
     "end_time": "2020-09-12T15:23:51.660951Z",
     "start_time": "2020-09-12T15:23:51.413089Z"
    }
   },
   "outputs": [
    {
     "data": {
      "text/plain": [
       "<matplotlib.axes._subplots.AxesSubplot at 0x1a52e94c908>"
      ]
     },
     "execution_count": 130,
     "metadata": {},
     "output_type": "execute_result"
    },
    {
     "data": {
      "image/png": "[encoded data removed]",
      "text/plain": [
       "<Figure size 432x288 with 1 Axes>"
      ]
     },
     "metadata": {},
     "output_type": "display_data"
    }
   ],
   "source": [
    "results_df[results_df['dif_ahorroInversion']==0]['Success'].hist()"
   ]
  },
  {
   "cell_type": "markdown",
   "metadata": {},
   "source": [
    "Vemos que se aciertan 327787 No altas y solo hay unas 1000 altas de producto Ahorro/Inversion no predichas como tal"
   ]
  },
  {
   "cell_type": "code",
   "execution_count": 131,
   "metadata": {
    "ExecuteTime": {
     "end_time": "2020-09-12T15:23:56.809464Z",
     "start_time": "2020-09-12T15:23:56.786487Z"
    }
   },
   "outputs": [
    {
     "data": {
      "text/plain": [
       "1    327787\n",
       "0       916\n",
       "Name: Success, dtype: int64"
      ]
     },
     "execution_count": 131,
     "metadata": {},
     "output_type": "execute_result"
    }
   ],
   "source": [
    "results_df[results_df['dif_ahorroInversion']==0]['Success'].value_counts()"
   ]
  },
  {
   "cell_type": "code",
   "execution_count": 132,
   "metadata": {
    "ExecuteTime": {
     "end_time": "2020-09-12T15:24:39.764018Z",
     "start_time": "2020-09-12T15:24:39.759040Z"
    }
   },
   "outputs": [],
   "source": [
    "top_features = pd.Series(dt.feature_importances_, index=X_train.columns).sort_values(ascending=False).head(30)\n"
   ]
  },
  {
   "cell_type": "code",
   "execution_count": 133,
   "metadata": {
    "ExecuteTime": {
     "end_time": "2020-09-12T15:24:40.475609Z",
     "start_time": "2020-09-12T15:24:40.469611Z"
    }
   },
   "outputs": [
    {
     "data": {
      "text/plain": [
       "short_term_deposit_shift_1       0.38\n",
       "pension_plan_shift_2             0.27\n",
       "pension_plan_shift_1             0.16\n",
       "payroll_account_shift_2          0.09\n",
       "month                            0.02\n",
       "channel_XXX                      0.01\n",
       "channel_KHQ                      0.01\n",
       "payroll_account_shift_3          0.01\n",
       "payroll_shift_3                  0.01\n",
       "dif_pension_plan_shift_2         0.01\n",
       "debit_card_shift_1               0.00\n",
       "dif_financiacion_shift_2         0.00\n",
       "short_term_deposit_shift_2       0.00\n",
       "payroll_shift_4                  0.00\n",
       "payroll_account_shift_4          0.00\n",
       "entry_date_day                   0.00\n",
       "dif_short_term_deposit_shift_4   0.00\n",
       "dif_payroll_shift_2              0.00\n",
       "long_term_deposit_shift_4        0.00\n",
       "em_acount_shift_1                0.00\n",
       "payroll_account_shift_1          0.00\n",
       "dif_ahorroInversion_shift_2      0.00\n",
       "dif_emc_account_shift_2          0.00\n",
       "dif_payroll_account_shift_1      0.00\n",
       "dif_payroll_account_shift_2      0.00\n",
       "dif_payroll_account_shift_3      0.00\n",
       "dif_pension_plan_shift_4         0.00\n",
       "dif_pension_plan_shift_3         0.00\n",
       "dif_ahorroInversion_shift_3      0.00\n",
       "dif_ahorroInversion_shift_4      0.00\n",
       "dtype: float64"
      ]
     },
     "execution_count": 133,
     "metadata": {},
     "output_type": "execute_result"
    }
   ],
   "source": [
    "top_features"
   ]
  },
  {
   "cell_type": "markdown",
   "metadata": {
    "ExecuteTime": {
     "end_time": "2020-09-12T15:25:31.140446Z",
     "start_time": "2020-09-12T15:25:31.136457Z"
    }
   },
   "source": [
    "Curva RoC y metrica AUC"
   ]
  },
  {
   "cell_type": "markdown",
   "metadata": {},
   "source": [
    "Calcualmos la probabilidad de que los clientes contraten algun producto de Ahorro/inversion:"
   ]
  },
  {
   "cell_type": "code",
   "execution_count": 135,
   "metadata": {
    "ExecuteTime": {
     "end_time": "2020-09-12T15:26:07.674428Z",
     "start_time": "2020-09-12T15:26:07.449559Z"
    }
   },
   "outputs": [],
   "source": [
    "y_score = pd.DataFrame(dt.predict_proba(X_test)[:,1], index=Y_test.index, columns=['AltaScore'])\n",
    "results_df = results_df.join(y_score)\n"
   ]
  },
  {
   "cell_type": "code",
   "execution_count": 168,
   "metadata": {
    "ExecuteTime": {
     "end_time": "2020-09-12T15:32:50.103630Z",
     "start_time": "2020-09-12T15:32:50.099632Z"
    }
   },
   "outputs": [],
   "source": [
    "#results_df[results_df['dif_ahorroInversion']!=0].sample(20)"
   ]
  },
  {
   "cell_type": "code",
   "execution_count": 136,
   "metadata": {
    "ExecuteTime": {
     "end_time": "2020-09-12T15:26:08.409005Z",
     "start_time": "2020-09-12T15:26:08.299070Z"
    }
   },
   "outputs": [
    {
     "name": "stdout",
     "output_type": "stream",
     "text": [
      "0.8635320024217232\n"
     ]
    }
   ],
   "source": [
    "print(metrics.roc_auc_score(results_df['dif_ahorroInversion'], results_df['AltaScore']))"
   ]
  },
  {
   "cell_type": "code",
   "execution_count": 137,
   "metadata": {
    "ExecuteTime": {
     "end_time": "2020-09-12T15:26:10.407868Z",
     "start_time": "2020-09-12T15:26:10.344906Z"
    }
   },
   "outputs": [],
   "source": [
    "fpr, tpr, _ = metrics.roc_curve(results_df['dif_ahorroInversion'], results_df['AltaScore'])"
   ]
  },
  {
   "cell_type": "code",
   "execution_count": 138,
   "metadata": {
    "ExecuteTime": {
     "end_time": "2020-09-12T15:26:12.209137Z",
     "start_time": "2020-09-12T15:26:11.944272Z"
    }
   },
   "outputs": [
    {
     "data": {
      "image/png": "[encoded data removed]",
      "text/plain": [
       "<Figure size 1080x432 with 1 Axes>"
      ]
     },
     "metadata": {},
     "output_type": "display_data"
    }
   ],
   "source": [
    "fig, ax = plt.subplots(figsize = (15, 6))\n",
    "plt.clf()\n",
    "plt.plot(fpr, tpr)\n",
    "plt.plot([0, 1], [0, 1], color='gray', linestyle='--')\n",
    "plt.xlabel('FPR')\n",
    "plt.ylabel('TPR')\n",
    "plt.title('ROC curve')\n",
    "plt.show()"
   ]
  },
  {
   "cell_type": "markdown",
   "metadata": {},
   "source": [
    "Calculamos los clientes que tienen una posibilidad alta de hacer una compra de algujn producto de ahorro / inversion:"
   ]
  },
  {
   "cell_type": "code",
   "execution_count": 139,
   "metadata": {
    "ExecuteTime": {
     "end_time": "2020-09-12T15:26:50.074984Z",
     "start_time": "2020-09-12T15:26:50.061010Z"
    }
   },
   "outputs": [
    {
     "data": {
      "text/html": [
       "<div>\n",
       "<style scoped>\n",
       "    .dataframe tbody tr th:only-of-type {\n",
       "        vertical-align: middle;\n",
       "    }\n",
       "\n",
       "    .dataframe tbody tr th {\n",
       "        vertical-align: top;\n",
       "    }\n",
       "\n",
       "    .dataframe thead th {\n",
       "        text-align: right;\n",
       "    }\n",
       "</style>\n",
       "<table border=\"1\" class=\"dataframe\">\n",
       "  <thead>\n",
       "    <tr style=\"text-align: right;\">\n",
       "      <th></th>\n",
       "      <th>dif_ahorroInversion</th>\n",
       "      <th>altaPrediction</th>\n",
       "      <th>Success</th>\n",
       "      <th>AltaScore</th>\n",
       "    </tr>\n",
       "  </thead>\n",
       "  <tbody>\n",
       "    <tr>\n",
       "      <th>5305793</th>\n",
       "      <td>1.00</td>\n",
       "      <td>1.00</td>\n",
       "      <td>1</td>\n",
       "      <td>0.60</td>\n",
       "    </tr>\n",
       "    <tr>\n",
       "      <th>5306156</th>\n",
       "      <td>1.00</td>\n",
       "      <td>1.00</td>\n",
       "      <td>1</td>\n",
       "      <td>0.60</td>\n",
       "    </tr>\n",
       "    <tr>\n",
       "      <th>5306773</th>\n",
       "      <td>1.00</td>\n",
       "      <td>1.00</td>\n",
       "      <td>1</td>\n",
       "      <td>0.60</td>\n",
       "    </tr>\n",
       "    <tr>\n",
       "      <th>5306878</th>\n",
       "      <td>1.00</td>\n",
       "      <td>1.00</td>\n",
       "      <td>1</td>\n",
       "      <td>0.60</td>\n",
       "    </tr>\n",
       "    <tr>\n",
       "      <th>5307103</th>\n",
       "      <td>1.00</td>\n",
       "      <td>1.00</td>\n",
       "      <td>1</td>\n",
       "      <td>0.60</td>\n",
       "    </tr>\n",
       "    <tr>\n",
       "      <th>...</th>\n",
       "      <td>...</td>\n",
       "      <td>...</td>\n",
       "      <td>...</td>\n",
       "      <td>...</td>\n",
       "    </tr>\n",
       "    <tr>\n",
       "      <th>5628414</th>\n",
       "      <td>1.00</td>\n",
       "      <td>1.00</td>\n",
       "      <td>1</td>\n",
       "      <td>0.60</td>\n",
       "    </tr>\n",
       "    <tr>\n",
       "      <th>5628630</th>\n",
       "      <td>1.00</td>\n",
       "      <td>1.00</td>\n",
       "      <td>1</td>\n",
       "      <td>0.60</td>\n",
       "    </tr>\n",
       "    <tr>\n",
       "      <th>5629217</th>\n",
       "      <td>1.00</td>\n",
       "      <td>1.00</td>\n",
       "      <td>1</td>\n",
       "      <td>0.60</td>\n",
       "    </tr>\n",
       "    <tr>\n",
       "      <th>5629602</th>\n",
       "      <td>1.00</td>\n",
       "      <td>1.00</td>\n",
       "      <td>1</td>\n",
       "      <td>0.60</td>\n",
       "    </tr>\n",
       "    <tr>\n",
       "      <th>5629669</th>\n",
       "      <td>1.00</td>\n",
       "      <td>1.00</td>\n",
       "      <td>1</td>\n",
       "      <td>0.60</td>\n",
       "    </tr>\n",
       "  </tbody>\n",
       "</table>\n",
       "<p>974 rows × 4 columns</p>\n",
       "</div>"
      ],
      "text/plain": [
       "         dif_ahorroInversion  altaPrediction  Success  AltaScore\n",
       "5305793                 1.00            1.00        1       0.60\n",
       "5306156                 1.00            1.00        1       0.60\n",
       "5306773                 1.00            1.00        1       0.60\n",
       "5306878                 1.00            1.00        1       0.60\n",
       "5307103                 1.00            1.00        1       0.60\n",
       "...                      ...             ...      ...        ...\n",
       "5628414                 1.00            1.00        1       0.60\n",
       "5628630                 1.00            1.00        1       0.60\n",
       "5629217                 1.00            1.00        1       0.60\n",
       "5629602                 1.00            1.00        1       0.60\n",
       "5629669                 1.00            1.00        1       0.60\n",
       "\n",
       "[974 rows x 4 columns]"
      ]
     },
     "execution_count": 139,
     "metadata": {},
     "output_type": "execute_result"
    }
   ],
   "source": [
    "results_df[(results_df['dif_ahorroInversion']!=0) &\n",
    "           (results_df['AltaScore']> 0.60) ]"
   ]
  },
  {
   "cell_type": "code",
   "execution_count": 141,
   "metadata": {
    "ExecuteTime": {
     "end_time": "2020-09-12T15:27:57.837331Z",
     "start_time": "2020-09-12T15:27:57.828321Z"
    }
   },
   "outputs": [
    {
     "data": {
      "text/plain": [
       "1    974\n",
       "Name: Success, dtype: int64"
      ]
     },
     "execution_count": 141,
     "metadata": {},
     "output_type": "execute_result"
    }
   ],
   "source": [
    "results_df[(results_df['dif_ahorroInversion']!=0) &\n",
    "           (results_df['AltaScore']>= 0.60) ]['Success'].value_counts()\n"
   ]
  },
  {
   "cell_type": "markdown",
   "metadata": {},
   "source": [
    "Tenemos unos 100 clientes con una posibilidad alta de hacer una compra de algun producto de Ahorro/inversion. "
   ]
  },
  {
   "cell_type": "markdown",
   "metadata": {},
   "source": [
    "# Enternamos para financiacion:"
   ]
  },
  {
   "cell_type": "code",
   "execution_count": 142,
   "metadata": {
    "ExecuteTime": {
     "end_time": "2020-09-12T15:28:06.436851Z",
     "start_time": "2020-09-12T15:28:04.756829Z"
    }
   },
   "outputs": [
    {
     "data": {
      "text/plain": [
       "169077"
      ]
     },
     "execution_count": 142,
     "metadata": {},
     "output_type": "execute_result"
    }
   ],
   "source": [
    "del X_train,Y_train, X_valida, Y_valida,X_test,Y_test\n",
    "gc.collect()\n"
   ]
  },
  {
   "cell_type": "code",
   "execution_count": 143,
   "metadata": {
    "ExecuteTime": {
     "end_time": "2020-09-12T15:28:15.563816Z",
     "start_time": "2020-09-12T15:28:07.845266Z"
    }
   },
   "outputs": [],
   "source": [
    "X_train = full_df[full_df[\"pk_partition\"].isin(train_index)].drop(variables_borrar, axis=1)\n",
    "Y_train = full_df[full_df[\"pk_partition\"].isin(train_index)]['dif_financiacion']\n",
    "\n",
    "X_valida = full_df[full_df[\"pk_partition\"].isin(valida_index)].drop(variables_borrar, axis=1)\n",
    "Y_valida = full_df[full_df[\"pk_partition\"].isin(valida_index)]['dif_financiacion']\n",
    "\n",
    "X_test = full_df[full_df[\"pk_partition\"].isin(test_index)].drop(variables_borrar, axis = 1)\n",
    "Y_test = full_df[full_df[\"pk_partition\"].isin(test_index)]['dif_financiacion']\n"
   ]
  },
  {
   "cell_type": "code",
   "execution_count": 144,
   "metadata": {
    "ExecuteTime": {
     "end_time": "2020-09-12T15:28:48.311150Z",
     "start_time": "2020-09-12T15:28:17.954633Z"
    }
   },
   "outputs": [
    {
     "data": {
      "text/plain": [
       "DecisionTreeClassifier(ccp_alpha=0.0, class_weight=None, criterion='gini',\n",
       "                       max_depth=6, max_features=None, max_leaf_nodes=None,\n",
       "                       min_impurity_decrease=0.0, min_impurity_split=None,\n",
       "                       min_samples_leaf=1, min_samples_split=10000,\n",
       "                       min_weight_fraction_leaf=0.0, presort='deprecated',\n",
       "                       random_state=42, splitter='best')"
      ]
     },
     "execution_count": 144,
     "metadata": {},
     "output_type": "execute_result"
    }
   ],
   "source": [
    "dt.fit(X_train,Y_train)"
   ]
  },
  {
   "cell_type": "code",
   "execution_count": 145,
   "metadata": {
    "ExecuteTime": {
     "end_time": "2020-09-12T15:28:53.595797Z",
     "start_time": "2020-09-12T15:28:50.917343Z"
    }
   },
   "outputs": [
    {
     "name": "stdout",
     "output_type": "stream",
     "text": [
      "Resultados para: Train: 0.9976460775269456 - Test: 0.9978511380445965\n"
     ]
    }
   ],
   "source": [
    "score_train=dt.score(X_train, Y_train)\n",
    "score_test=dt.score(X_valida, Y_valida)\n",
    "print('Resultados para: Train: {} - Test: {}'.format(score_train,score_test))\n"
   ]
  },
  {
   "cell_type": "code",
   "execution_count": 146,
   "metadata": {
    "ExecuteTime": {
     "end_time": "2020-09-12T15:28:56.048825Z",
     "start_time": "2020-09-12T15:28:55.839928Z"
    }
   },
   "outputs": [],
   "source": [
    "y_test_pred = pd.DataFrame(dt.predict(X_test), index=Y_test.index, columns=['altaPrediction'])\n"
   ]
  },
  {
   "cell_type": "code",
   "execution_count": 147,
   "metadata": {
    "ExecuteTime": {
     "end_time": "2020-09-12T15:28:58.863388Z",
     "start_time": "2020-09-12T15:28:58.602494Z"
    }
   },
   "outputs": [],
   "source": [
    "score_test=dt.score(X_test, Y_test)"
   ]
  },
  {
   "cell_type": "code",
   "execution_count": 148,
   "metadata": {
    "ExecuteTime": {
     "end_time": "2020-09-12T15:28:59.932395Z",
     "start_time": "2020-09-12T15:28:59.928378Z"
    }
   },
   "outputs": [
    {
     "data": {
      "text/plain": [
       "0.9977140306645597"
      ]
     },
     "execution_count": 148,
     "metadata": {},
     "output_type": "execute_result"
    }
   ],
   "source": [
    "score_test"
   ]
  },
  {
   "cell_type": "code",
   "execution_count": 149,
   "metadata": {
    "ExecuteTime": {
     "end_time": "2020-09-12T15:29:01.374761Z",
     "start_time": "2020-09-12T15:29:01.359771Z"
    }
   },
   "outputs": [],
   "source": [
    "results_df = Y_test.to_frame().join(y_test_pred)\n"
   ]
  },
  {
   "cell_type": "code",
   "execution_count": 150,
   "metadata": {
    "ExecuteTime": {
     "end_time": "2020-09-12T15:29:02.370712Z",
     "start_time": "2020-09-12T15:29:02.363717Z"
    }
   },
   "outputs": [],
   "source": [
    "results_df['Success']=(results_df['dif_financiacion']==results_df['altaPrediction']).astype(int)\n"
   ]
  },
  {
   "cell_type": "code",
   "execution_count": 154,
   "metadata": {
    "ExecuteTime": {
     "end_time": "2020-09-12T15:29:18.245546Z",
     "start_time": "2020-09-12T15:29:18.234562Z"
    }
   },
   "outputs": [
    {
     "data": {
      "text/html": [
       "<div>\n",
       "<style scoped>\n",
       "    .dataframe tbody tr th:only-of-type {\n",
       "        vertical-align: middle;\n",
       "    }\n",
       "\n",
       "    .dataframe tbody tr th {\n",
       "        vertical-align: top;\n",
       "    }\n",
       "\n",
       "    .dataframe thead th {\n",
       "        text-align: right;\n",
       "    }\n",
       "</style>\n",
       "<table border=\"1\" class=\"dataframe\">\n",
       "  <thead>\n",
       "    <tr style=\"text-align: right;\">\n",
       "      <th></th>\n",
       "      <th>dif_financiacion</th>\n",
       "      <th>altaPrediction</th>\n",
       "      <th>Success</th>\n",
       "    </tr>\n",
       "  </thead>\n",
       "  <tbody>\n",
       "    <tr>\n",
       "      <th>5435400</th>\n",
       "      <td>1.00</td>\n",
       "      <td>0.00</td>\n",
       "      <td>0</td>\n",
       "    </tr>\n",
       "    <tr>\n",
       "      <th>5381042</th>\n",
       "      <td>1.00</td>\n",
       "      <td>0.00</td>\n",
       "      <td>0</td>\n",
       "    </tr>\n",
       "    <tr>\n",
       "      <th>5546451</th>\n",
       "      <td>1.00</td>\n",
       "      <td>0.00</td>\n",
       "      <td>0</td>\n",
       "    </tr>\n",
       "    <tr>\n",
       "      <th>5587894</th>\n",
       "      <td>1.00</td>\n",
       "      <td>0.00</td>\n",
       "      <td>0</td>\n",
       "    </tr>\n",
       "    <tr>\n",
       "      <th>5387185</th>\n",
       "      <td>1.00</td>\n",
       "      <td>1.00</td>\n",
       "      <td>1</td>\n",
       "    </tr>\n",
       "    <tr>\n",
       "      <th>5489306</th>\n",
       "      <td>1.00</td>\n",
       "      <td>0.00</td>\n",
       "      <td>0</td>\n",
       "    </tr>\n",
       "    <tr>\n",
       "      <th>5310850</th>\n",
       "      <td>1.00</td>\n",
       "      <td>0.00</td>\n",
       "      <td>0</td>\n",
       "    </tr>\n",
       "    <tr>\n",
       "      <th>5441971</th>\n",
       "      <td>1.00</td>\n",
       "      <td>0.00</td>\n",
       "      <td>0</td>\n",
       "    </tr>\n",
       "    <tr>\n",
       "      <th>5422379</th>\n",
       "      <td>1.00</td>\n",
       "      <td>0.00</td>\n",
       "      <td>0</td>\n",
       "    </tr>\n",
       "    <tr>\n",
       "      <th>5429046</th>\n",
       "      <td>1.00</td>\n",
       "      <td>0.00</td>\n",
       "      <td>0</td>\n",
       "    </tr>\n",
       "    <tr>\n",
       "      <th>5381705</th>\n",
       "      <td>1.00</td>\n",
       "      <td>0.00</td>\n",
       "      <td>0</td>\n",
       "    </tr>\n",
       "    <tr>\n",
       "      <th>5536822</th>\n",
       "      <td>1.00</td>\n",
       "      <td>0.00</td>\n",
       "      <td>0</td>\n",
       "    </tr>\n",
       "    <tr>\n",
       "      <th>5340877</th>\n",
       "      <td>1.00</td>\n",
       "      <td>0.00</td>\n",
       "      <td>0</td>\n",
       "    </tr>\n",
       "    <tr>\n",
       "      <th>5450158</th>\n",
       "      <td>1.00</td>\n",
       "      <td>0.00</td>\n",
       "      <td>0</td>\n",
       "    </tr>\n",
       "    <tr>\n",
       "      <th>5619581</th>\n",
       "      <td>1.00</td>\n",
       "      <td>0.00</td>\n",
       "      <td>0</td>\n",
       "    </tr>\n",
       "    <tr>\n",
       "      <th>5392285</th>\n",
       "      <td>1.00</td>\n",
       "      <td>0.00</td>\n",
       "      <td>0</td>\n",
       "    </tr>\n",
       "    <tr>\n",
       "      <th>5385976</th>\n",
       "      <td>1.00</td>\n",
       "      <td>0.00</td>\n",
       "      <td>0</td>\n",
       "    </tr>\n",
       "    <tr>\n",
       "      <th>5633625</th>\n",
       "      <td>1.00</td>\n",
       "      <td>0.00</td>\n",
       "      <td>0</td>\n",
       "    </tr>\n",
       "    <tr>\n",
       "      <th>5545414</th>\n",
       "      <td>1.00</td>\n",
       "      <td>0.00</td>\n",
       "      <td>0</td>\n",
       "    </tr>\n",
       "    <tr>\n",
       "      <th>5504974</th>\n",
       "      <td>1.00</td>\n",
       "      <td>0.00</td>\n",
       "      <td>0</td>\n",
       "    </tr>\n",
       "  </tbody>\n",
       "</table>\n",
       "</div>"
      ],
      "text/plain": [
       "         dif_financiacion  altaPrediction  Success\n",
       "5435400              1.00            0.00        0\n",
       "5381042              1.00            0.00        0\n",
       "5546451              1.00            0.00        0\n",
       "5587894              1.00            0.00        0\n",
       "5387185              1.00            1.00        1\n",
       "5489306              1.00            0.00        0\n",
       "5310850              1.00            0.00        0\n",
       "5441971              1.00            0.00        0\n",
       "5422379              1.00            0.00        0\n",
       "5429046              1.00            0.00        0\n",
       "5381705              1.00            0.00        0\n",
       "5536822              1.00            0.00        0\n",
       "5340877              1.00            0.00        0\n",
       "5450158              1.00            0.00        0\n",
       "5619581              1.00            0.00        0\n",
       "5392285              1.00            0.00        0\n",
       "5385976              1.00            0.00        0\n",
       "5633625              1.00            0.00        0\n",
       "5545414              1.00            0.00        0\n",
       "5504974              1.00            0.00        0"
      ]
     },
     "execution_count": 154,
     "metadata": {},
     "output_type": "execute_result"
    }
   ],
   "source": [
    "results_df[results_df['dif_financiacion']!=0].sample(20)"
   ]
  },
  {
   "cell_type": "markdown",
   "metadata": {},
   "source": [
    "Vemos los aciertos para las altas de algun producto de Financiacion:"
   ]
  },
  {
   "cell_type": "code",
   "execution_count": 157,
   "metadata": {
    "ExecuteTime": {
     "end_time": "2020-09-12T15:29:58.146322Z",
     "start_time": "2020-09-12T15:29:57.917436Z"
    }
   },
   "outputs": [
    {
     "data": {
      "text/plain": [
       "<matplotlib.axes._subplots.AxesSubplot at 0x1a531903208>"
      ]
     },
     "execution_count": 157,
     "metadata": {},
     "output_type": "execute_result"
    },
    {
     "data": {
      "image/png": "[encoded data removed]",
      "text/plain": [
       "<Figure size 432x288 with 1 Axes>"
      ]
     },
     "metadata": {},
     "output_type": "display_data"
    }
   ],
   "source": [
    "results_df[results_df['dif_financiacion']==1]['Success'].hist()"
   ]
  },
  {
   "cell_type": "markdown",
   "metadata": {},
   "source": [
    "Solo acertamos 30 de 760. ..... "
   ]
  },
  {
   "cell_type": "code",
   "execution_count": 158,
   "metadata": {
    "ExecuteTime": {
     "end_time": "2020-09-12T15:29:59.927922Z",
     "start_time": "2020-09-12T15:29:59.920908Z"
    }
   },
   "outputs": [
    {
     "data": {
      "text/plain": [
       "0    758\n",
       "1     30\n",
       "Name: Success, dtype: int64"
      ]
     },
     "execution_count": 158,
     "metadata": {},
     "output_type": "execute_result"
    }
   ],
   "source": [
    "results_df[results_df['dif_financiacion']==1]['Success'].value_counts()"
   ]
  },
  {
   "cell_type": "markdown",
   "metadata": {},
   "source": [
    "Vemos los aciertos para las NO altas de algun producto de Financiacion:"
   ]
  },
  {
   "cell_type": "code",
   "execution_count": 159,
   "metadata": {
    "ExecuteTime": {
     "end_time": "2020-09-12T15:30:35.789281Z",
     "start_time": "2020-09-12T15:30:35.546403Z"
    }
   },
   "outputs": [
    {
     "data": {
      "text/plain": [
       "<matplotlib.axes._subplots.AxesSubplot at 0x1a531f6a348>"
      ]
     },
     "execution_count": 159,
     "metadata": {},
     "output_type": "execute_result"
    },
    {
     "data": {
      "image/png": "[encoded data removed]",
      "text/plain": [
       "<Figure size 432x288 with 1 Axes>"
      ]
     },
     "metadata": {},
     "output_type": "display_data"
    }
   ],
   "source": [
    "results_df[results_df['dif_financiacion']==0]['Success'].hist()"
   ]
  },
  {
   "cell_type": "markdown",
   "metadata": {
    "ExecuteTime": {
     "end_time": "2020-09-12T15:30:58.565997Z",
     "start_time": "2020-09-12T15:30:58.561017Z"
    }
   },
   "source": [
    "Se aciertan 330752 No altas y solo hay 50 altas no predichas como tal."
   ]
  },
  {
   "cell_type": "code",
   "execution_count": 163,
   "metadata": {
    "ExecuteTime": {
     "end_time": "2020-09-09T09:04:08.200394Z",
     "start_time": "2020-09-09T09:04:08.176421Z"
    }
   },
   "outputs": [
    {
     "data": {
      "text/plain": [
       "1    330752\n",
       "0        48\n",
       "Name: Success, dtype: int64"
      ]
     },
     "execution_count": 163,
     "metadata": {},
     "output_type": "execute_result"
    }
   ],
   "source": [
    "results_df[results_df['dif_financiacion']==0]['Success'].value_counts()"
   ]
  },
  {
   "cell_type": "code",
   "execution_count": 161,
   "metadata": {
    "ExecuteTime": {
     "end_time": "2020-09-12T15:31:06.035993Z",
     "start_time": "2020-09-12T15:31:06.031010Z"
    }
   },
   "outputs": [],
   "source": [
    "top_features = pd.Series(dt.feature_importances_, index=X_train.columns).sort_values(ascending=False).head(30)\n"
   ]
  },
  {
   "cell_type": "code",
   "execution_count": 162,
   "metadata": {
    "ExecuteTime": {
     "end_time": "2020-09-12T15:31:06.739589Z",
     "start_time": "2020-09-12T15:31:06.733590Z"
    }
   },
   "outputs": [
    {
     "data": {
      "text/plain": [
       "credit_card_shift_1           0.51\n",
       "loans_shift_1                 0.25\n",
       "credit_card_shift_3           0.12\n",
       "credit_card_shift_4           0.07\n",
       "credit_card_shift_2           0.03\n",
       "payroll_account_shift_1       0.01\n",
       "emc_account_shift_1           0.00\n",
       "debit_card_shift_1            0.00\n",
       "securities_shift_4            0.00\n",
       "dif_credit_card_shift_2       0.00\n",
       "debit_card_shift_4            0.00\n",
       "dif_emc_account_shift_1       0.00\n",
       "dif_emc_account_shift_2       0.00\n",
       "dif_emc_account_shift_3       0.00\n",
       "dif_debit_card_shift_4        0.00\n",
       "dif_payroll_account_shift_4   0.00\n",
       "dif_payroll_account_shift_3   0.00\n",
       "dif_payroll_account_shift_2   0.00\n",
       "dif_debit_card_shift_1        0.00\n",
       "dif_debit_card_shift_2        0.00\n",
       "dif_debit_card_shift_3        0.00\n",
       "dif_emc_account_shift_4       0.00\n",
       "dif_em_acount_shift_2         0.00\n",
       "dif_em_acount_shift_1         0.00\n",
       "dif_em_acount_shift_3         0.00\n",
       "dif_financiacion_shift_4      0.00\n",
       "dif_financiacion_shift_3      0.00\n",
       "dif_financiacion_shift_2      0.00\n",
       "dif_financiacion_shift_1      0.00\n",
       "dif_ahorroInversion_shift_4   0.00\n",
       "dtype: float64"
      ]
     },
     "execution_count": 162,
     "metadata": {},
     "output_type": "execute_result"
    }
   ],
   "source": [
    "top_features"
   ]
  },
  {
   "cell_type": "markdown",
   "metadata": {},
   "source": [
    "Curva ROC y metrica AUC"
   ]
  },
  {
   "cell_type": "markdown",
   "metadata": {},
   "source": [
    "Sacamos la probabilidad de lata de alguno de los productos de financiacion:"
   ]
  },
  {
   "cell_type": "code",
   "execution_count": 163,
   "metadata": {
    "ExecuteTime": {
     "end_time": "2020-09-12T15:31:45.525929Z",
     "start_time": "2020-09-12T15:31:45.307037Z"
    }
   },
   "outputs": [],
   "source": [
    "y_score = pd.DataFrame(dt.predict_proba(X_test)[:,1], index=Y_test.index, columns=['AltaScore'])\n",
    "results_df = results_df.join(y_score)\n"
   ]
  },
  {
   "cell_type": "code",
   "execution_count": 169,
   "metadata": {
    "ExecuteTime": {
     "end_time": "2020-09-12T15:33:18.524623Z",
     "start_time": "2020-09-12T15:33:18.512637Z"
    }
   },
   "outputs": [
    {
     "data": {
      "text/html": [
       "<div>\n",
       "<style scoped>\n",
       "    .dataframe tbody tr th:only-of-type {\n",
       "        vertical-align: middle;\n",
       "    }\n",
       "\n",
       "    .dataframe tbody tr th {\n",
       "        vertical-align: top;\n",
       "    }\n",
       "\n",
       "    .dataframe thead th {\n",
       "        text-align: right;\n",
       "    }\n",
       "</style>\n",
       "<table border=\"1\" class=\"dataframe\">\n",
       "  <thead>\n",
       "    <tr style=\"text-align: right;\">\n",
       "      <th></th>\n",
       "      <th>dif_financiacion</th>\n",
       "      <th>altaPrediction</th>\n",
       "      <th>Success</th>\n",
       "      <th>AltaScore</th>\n",
       "    </tr>\n",
       "  </thead>\n",
       "  <tbody>\n",
       "    <tr>\n",
       "      <th>5385059</th>\n",
       "      <td>1.00</td>\n",
       "      <td>0.00</td>\n",
       "      <td>0</td>\n",
       "      <td>0.00</td>\n",
       "    </tr>\n",
       "    <tr>\n",
       "      <th>5623199</th>\n",
       "      <td>1.00</td>\n",
       "      <td>0.00</td>\n",
       "      <td>0</td>\n",
       "      <td>0.01</td>\n",
       "    </tr>\n",
       "    <tr>\n",
       "      <th>5341355</th>\n",
       "      <td>1.00</td>\n",
       "      <td>1.00</td>\n",
       "      <td>1</td>\n",
       "      <td>0.98</td>\n",
       "    </tr>\n",
       "    <tr>\n",
       "      <th>5536822</th>\n",
       "      <td>1.00</td>\n",
       "      <td>0.00</td>\n",
       "      <td>0</td>\n",
       "      <td>0.00</td>\n",
       "    </tr>\n",
       "    <tr>\n",
       "      <th>5467449</th>\n",
       "      <td>1.00</td>\n",
       "      <td>0.00</td>\n",
       "      <td>0</td>\n",
       "      <td>0.12</td>\n",
       "    </tr>\n",
       "    <tr>\n",
       "      <th>5420753</th>\n",
       "      <td>1.00</td>\n",
       "      <td>0.00</td>\n",
       "      <td>0</td>\n",
       "      <td>0.12</td>\n",
       "    </tr>\n",
       "    <tr>\n",
       "      <th>5411622</th>\n",
       "      <td>1.00</td>\n",
       "      <td>0.00</td>\n",
       "      <td>0</td>\n",
       "      <td>0.01</td>\n",
       "    </tr>\n",
       "    <tr>\n",
       "      <th>5314481</th>\n",
       "      <td>1.00</td>\n",
       "      <td>0.00</td>\n",
       "      <td>0</td>\n",
       "      <td>0.00</td>\n",
       "    </tr>\n",
       "    <tr>\n",
       "      <th>5541359</th>\n",
       "      <td>1.00</td>\n",
       "      <td>0.00</td>\n",
       "      <td>0</td>\n",
       "      <td>0.00</td>\n",
       "    </tr>\n",
       "    <tr>\n",
       "      <th>5355720</th>\n",
       "      <td>1.00</td>\n",
       "      <td>1.00</td>\n",
       "      <td>1</td>\n",
       "      <td>0.98</td>\n",
       "    </tr>\n",
       "    <tr>\n",
       "      <th>5572304</th>\n",
       "      <td>1.00</td>\n",
       "      <td>0.00</td>\n",
       "      <td>0</td>\n",
       "      <td>0.01</td>\n",
       "    </tr>\n",
       "    <tr>\n",
       "      <th>5307885</th>\n",
       "      <td>1.00</td>\n",
       "      <td>0.00</td>\n",
       "      <td>0</td>\n",
       "      <td>0.13</td>\n",
       "    </tr>\n",
       "    <tr>\n",
       "      <th>5468027</th>\n",
       "      <td>1.00</td>\n",
       "      <td>0.00</td>\n",
       "      <td>0</td>\n",
       "      <td>0.31</td>\n",
       "    </tr>\n",
       "    <tr>\n",
       "      <th>5414725</th>\n",
       "      <td>1.00</td>\n",
       "      <td>0.00</td>\n",
       "      <td>0</td>\n",
       "      <td>0.01</td>\n",
       "    </tr>\n",
       "    <tr>\n",
       "      <th>5314715</th>\n",
       "      <td>1.00</td>\n",
       "      <td>0.00</td>\n",
       "      <td>0</td>\n",
       "      <td>0.00</td>\n",
       "    </tr>\n",
       "    <tr>\n",
       "      <th>5549171</th>\n",
       "      <td>1.00</td>\n",
       "      <td>0.00</td>\n",
       "      <td>0</td>\n",
       "      <td>0.00</td>\n",
       "    </tr>\n",
       "    <tr>\n",
       "      <th>5524034</th>\n",
       "      <td>1.00</td>\n",
       "      <td>0.00</td>\n",
       "      <td>0</td>\n",
       "      <td>0.12</td>\n",
       "    </tr>\n",
       "    <tr>\n",
       "      <th>5629225</th>\n",
       "      <td>1.00</td>\n",
       "      <td>0.00</td>\n",
       "      <td>0</td>\n",
       "      <td>0.00</td>\n",
       "    </tr>\n",
       "    <tr>\n",
       "      <th>5397944</th>\n",
       "      <td>1.00</td>\n",
       "      <td>0.00</td>\n",
       "      <td>0</td>\n",
       "      <td>0.01</td>\n",
       "    </tr>\n",
       "    <tr>\n",
       "      <th>5544307</th>\n",
       "      <td>1.00</td>\n",
       "      <td>0.00</td>\n",
       "      <td>0</td>\n",
       "      <td>0.00</td>\n",
       "    </tr>\n",
       "  </tbody>\n",
       "</table>\n",
       "</div>"
      ],
      "text/plain": [
       "         dif_financiacion  altaPrediction  Success  AltaScore\n",
       "5385059              1.00            0.00        0       0.00\n",
       "5623199              1.00            0.00        0       0.01\n",
       "5341355              1.00            1.00        1       0.98\n",
       "5536822              1.00            0.00        0       0.00\n",
       "5467449              1.00            0.00        0       0.12\n",
       "5420753              1.00            0.00        0       0.12\n",
       "5411622              1.00            0.00        0       0.01\n",
       "5314481              1.00            0.00        0       0.00\n",
       "5541359              1.00            0.00        0       0.00\n",
       "5355720              1.00            1.00        1       0.98\n",
       "5572304              1.00            0.00        0       0.01\n",
       "5307885              1.00            0.00        0       0.13\n",
       "5468027              1.00            0.00        0       0.31\n",
       "5414725              1.00            0.00        0       0.01\n",
       "5314715              1.00            0.00        0       0.00\n",
       "5549171              1.00            0.00        0       0.00\n",
       "5524034              1.00            0.00        0       0.12\n",
       "5629225              1.00            0.00        0       0.00\n",
       "5397944              1.00            0.00        0       0.01\n",
       "5544307              1.00            0.00        0       0.00"
      ]
     },
     "execution_count": 169,
     "metadata": {},
     "output_type": "execute_result"
    }
   ],
   "source": [
    "results_df[results_df['dif_financiacion']!=0].sample(20)"
   ]
  },
  {
   "cell_type": "code",
   "execution_count": 170,
   "metadata": {
    "ExecuteTime": {
     "end_time": "2020-09-12T15:33:30.862741Z",
     "start_time": "2020-09-12T15:33:30.760819Z"
    }
   },
   "outputs": [
    {
     "name": "stdout",
     "output_type": "stream",
     "text": [
      "0.8734577804000762\n"
     ]
    }
   ],
   "source": [
    "print(metrics.roc_auc_score(results_df['dif_financiacion'], results_df['AltaScore']))"
   ]
  },
  {
   "cell_type": "code",
   "execution_count": 171,
   "metadata": {
    "ExecuteTime": {
     "end_time": "2020-09-12T15:33:33.796077Z",
     "start_time": "2020-09-12T15:33:33.743109Z"
    }
   },
   "outputs": [],
   "source": [
    "fpr, tpr, _ = metrics.roc_curve(results_df['dif_financiacion'], results_df['AltaScore'])"
   ]
  },
  {
   "cell_type": "code",
   "execution_count": 172,
   "metadata": {
    "ExecuteTime": {
     "end_time": "2020-09-12T15:33:35.314488Z",
     "start_time": "2020-09-12T15:33:35.040632Z"
    }
   },
   "outputs": [
    {
     "data": {
      "image/png": "[encoded data removed]",
      "text/plain": [
       "<Figure size 1080x432 with 1 Axes>"
      ]
     },
     "metadata": {},
     "output_type": "display_data"
    }
   ],
   "source": [
    "fig, ax = plt.subplots(figsize = (15, 6))\n",
    "plt.clf()\n",
    "plt.plot(fpr, tpr)\n",
    "plt.plot([0, 1], [0, 1], color='gray', linestyle='--')\n",
    "plt.xlabel('FPR')\n",
    "plt.ylabel('TPR')\n",
    "plt.title('ROC curve')\n",
    "plt.show()"
   ]
  },
  {
   "cell_type": "markdown",
   "metadata": {},
   "source": [
    "Vamos a ver los clientes que dan alta y que el modelo ha predicho como de lata posibilidad (Mayor del 60%) de hacer uan comopra de un producto de financiaicoin:"
   ]
  },
  {
   "cell_type": "code",
   "execution_count": 173,
   "metadata": {
    "ExecuteTime": {
     "end_time": "2020-09-12T15:34:31.872319Z",
     "start_time": "2020-09-12T15:34:31.856329Z"
    }
   },
   "outputs": [
    {
     "data": {
      "text/html": [
       "<div>\n",
       "<style scoped>\n",
       "    .dataframe tbody tr th:only-of-type {\n",
       "        vertical-align: middle;\n",
       "    }\n",
       "\n",
       "    .dataframe tbody tr th {\n",
       "        vertical-align: top;\n",
       "    }\n",
       "\n",
       "    .dataframe thead th {\n",
       "        text-align: right;\n",
       "    }\n",
       "</style>\n",
       "<table border=\"1\" class=\"dataframe\">\n",
       "  <thead>\n",
       "    <tr style=\"text-align: right;\">\n",
       "      <th></th>\n",
       "      <th>dif_financiacion</th>\n",
       "      <th>altaPrediction</th>\n",
       "      <th>Success</th>\n",
       "      <th>AltaScore</th>\n",
       "    </tr>\n",
       "  </thead>\n",
       "  <tbody>\n",
       "    <tr>\n",
       "      <th>5390989</th>\n",
       "      <td>1.00</td>\n",
       "      <td>1.00</td>\n",
       "      <td>1</td>\n",
       "      <td>0.98</td>\n",
       "    </tr>\n",
       "    <tr>\n",
       "      <th>5459390</th>\n",
       "      <td>1.00</td>\n",
       "      <td>1.00</td>\n",
       "      <td>1</td>\n",
       "      <td>0.98</td>\n",
       "    </tr>\n",
       "    <tr>\n",
       "      <th>5389234</th>\n",
       "      <td>1.00</td>\n",
       "      <td>1.00</td>\n",
       "      <td>1</td>\n",
       "      <td>0.98</td>\n",
       "    </tr>\n",
       "    <tr>\n",
       "      <th>5341355</th>\n",
       "      <td>1.00</td>\n",
       "      <td>1.00</td>\n",
       "      <td>1</td>\n",
       "      <td>0.98</td>\n",
       "    </tr>\n",
       "    <tr>\n",
       "      <th>5541175</th>\n",
       "      <td>1.00</td>\n",
       "      <td>1.00</td>\n",
       "      <td>1</td>\n",
       "      <td>0.98</td>\n",
       "    </tr>\n",
       "    <tr>\n",
       "      <th>5464665</th>\n",
       "      <td>1.00</td>\n",
       "      <td>1.00</td>\n",
       "      <td>1</td>\n",
       "      <td>0.98</td>\n",
       "    </tr>\n",
       "    <tr>\n",
       "      <th>5538796</th>\n",
       "      <td>1.00</td>\n",
       "      <td>1.00</td>\n",
       "      <td>1</td>\n",
       "      <td>0.98</td>\n",
       "    </tr>\n",
       "    <tr>\n",
       "      <th>5390472</th>\n",
       "      <td>1.00</td>\n",
       "      <td>1.00</td>\n",
       "      <td>1</td>\n",
       "      <td>0.98</td>\n",
       "    </tr>\n",
       "    <tr>\n",
       "      <th>5357560</th>\n",
       "      <td>1.00</td>\n",
       "      <td>1.00</td>\n",
       "      <td>1</td>\n",
       "      <td>0.98</td>\n",
       "    </tr>\n",
       "    <tr>\n",
       "      <th>5545656</th>\n",
       "      <td>1.00</td>\n",
       "      <td>1.00</td>\n",
       "      <td>1</td>\n",
       "      <td>0.98</td>\n",
       "    </tr>\n",
       "    <tr>\n",
       "      <th>5387185</th>\n",
       "      <td>1.00</td>\n",
       "      <td>1.00</td>\n",
       "      <td>1</td>\n",
       "      <td>0.98</td>\n",
       "    </tr>\n",
       "    <tr>\n",
       "      <th>5383597</th>\n",
       "      <td>1.00</td>\n",
       "      <td>1.00</td>\n",
       "      <td>1</td>\n",
       "      <td>0.98</td>\n",
       "    </tr>\n",
       "    <tr>\n",
       "      <th>5355500</th>\n",
       "      <td>1.00</td>\n",
       "      <td>1.00</td>\n",
       "      <td>1</td>\n",
       "      <td>0.98</td>\n",
       "    </tr>\n",
       "    <tr>\n",
       "      <th>5365442</th>\n",
       "      <td>1.00</td>\n",
       "      <td>1.00</td>\n",
       "      <td>1</td>\n",
       "      <td>0.98</td>\n",
       "    </tr>\n",
       "    <tr>\n",
       "      <th>5387186</th>\n",
       "      <td>1.00</td>\n",
       "      <td>1.00</td>\n",
       "      <td>1</td>\n",
       "      <td>0.98</td>\n",
       "    </tr>\n",
       "    <tr>\n",
       "      <th>5464426</th>\n",
       "      <td>1.00</td>\n",
       "      <td>1.00</td>\n",
       "      <td>1</td>\n",
       "      <td>0.98</td>\n",
       "    </tr>\n",
       "    <tr>\n",
       "      <th>5366752</th>\n",
       "      <td>1.00</td>\n",
       "      <td>1.00</td>\n",
       "      <td>1</td>\n",
       "      <td>0.98</td>\n",
       "    </tr>\n",
       "    <tr>\n",
       "      <th>5422342</th>\n",
       "      <td>1.00</td>\n",
       "      <td>1.00</td>\n",
       "      <td>1</td>\n",
       "      <td>0.98</td>\n",
       "    </tr>\n",
       "    <tr>\n",
       "      <th>5475781</th>\n",
       "      <td>1.00</td>\n",
       "      <td>1.00</td>\n",
       "      <td>1</td>\n",
       "      <td>0.98</td>\n",
       "    </tr>\n",
       "    <tr>\n",
       "      <th>5357790</th>\n",
       "      <td>1.00</td>\n",
       "      <td>1.00</td>\n",
       "      <td>1</td>\n",
       "      <td>0.98</td>\n",
       "    </tr>\n",
       "  </tbody>\n",
       "</table>\n",
       "</div>"
      ],
      "text/plain": [
       "         dif_financiacion  altaPrediction  Success  AltaScore\n",
       "5390989              1.00            1.00        1       0.98\n",
       "5459390              1.00            1.00        1       0.98\n",
       "5389234              1.00            1.00        1       0.98\n",
       "5341355              1.00            1.00        1       0.98\n",
       "5541175              1.00            1.00        1       0.98\n",
       "5464665              1.00            1.00        1       0.98\n",
       "5538796              1.00            1.00        1       0.98\n",
       "5390472              1.00            1.00        1       0.98\n",
       "5357560              1.00            1.00        1       0.98\n",
       "5545656              1.00            1.00        1       0.98\n",
       "5387185              1.00            1.00        1       0.98\n",
       "5383597              1.00            1.00        1       0.98\n",
       "5355500              1.00            1.00        1       0.98\n",
       "5365442              1.00            1.00        1       0.98\n",
       "5387186              1.00            1.00        1       0.98\n",
       "5464426              1.00            1.00        1       0.98\n",
       "5366752              1.00            1.00        1       0.98\n",
       "5422342              1.00            1.00        1       0.98\n",
       "5475781              1.00            1.00        1       0.98\n",
       "5357790              1.00            1.00        1       0.98"
      ]
     },
     "execution_count": 173,
     "metadata": {},
     "output_type": "execute_result"
    }
   ],
   "source": [
    "results_df[(results_df['dif_financiacion']!=0) &\n",
    "           (results_df['AltaScore']> 0.60) ].sample(20)\n"
   ]
  },
  {
   "cell_type": "code",
   "execution_count": 174,
   "metadata": {
    "ExecuteTime": {
     "end_time": "2020-09-12T15:34:38.361746Z",
     "start_time": "2020-09-12T15:34:38.352741Z"
    }
   },
   "outputs": [
    {
     "data": {
      "text/plain": [
       "1    30\n",
       "Name: Success, dtype: int64"
      ]
     },
     "execution_count": 174,
     "metadata": {},
     "output_type": "execute_result"
    }
   ],
   "source": [
    "results_df[(results_df['dif_financiacion']!=0) &\n",
    "           (results_df['AltaScore']> 0.70) ]['Success'].value_counts()"
   ]
  },
  {
   "cell_type": "markdown",
   "metadata": {},
   "source": [
    "Tenemos unos 30 clientes detectados como de alta probabilidad de contratacion de un  producto de financiacion."
   ]
  },
  {
   "cell_type": "code",
   "execution_count": null,
   "metadata": {},
   "outputs": [],
   "source": []
  }
 ],
 "metadata": {
  "kernelspec": {
   "display_name": "Python 3",
   "language": "python",
   "name": "python3"
  },
  "language_info": {
   "codemirror_mode": {
    "name": "ipython",
    "version": 3
   },
   "file_extension": ".py",
   "mimetype": "text/x-python",
   "name": "python",
   "nbconvert_exporter": "python",
   "pygments_lexer": "ipython3",
   "version": "3.7.6"
  },
  "toc": {
   "base_numbering": 1,
   "nav_menu": {},
   "number_sections": true,
   "sideBar": true,
   "skip_h1_title": false,
   "title_cell": "Table of Contents",
   "title_sidebar": "Contents",
   "toc_cell": false,
   "toc_position": {},
   "toc_section_display": true,
   "toc_window_display": false
  },
  "varInspector": {
   "cols": {
    "lenName": 16,
    "lenType": 16,
    "lenVar": 40
   },
   "kernels_config": {
    "python": {
     "delete_cmd_postfix": "",
     "delete_cmd_prefix": "del ",
     "library": "var_list.py",
     "varRefreshCmd": "print(var_dic_list())"
    },
    "r": {
     "delete_cmd_postfix": ") ",
     "delete_cmd_prefix": "rm(",
     "library": "var_list.r",
     "varRefreshCmd": "cat(var_dic_list()) "
    }
   },
   "types_to_exclude": [
    "module",
    "function",
    "builtin_function_or_method",
    "instance",
    "_Feature"
   ],
   "window_display": false
  }
 },
 "nbformat": 4,
 "nbformat_minor": 4
}
