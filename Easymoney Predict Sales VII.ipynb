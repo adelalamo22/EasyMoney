{
 "cells": [
  {
   "cell_type": "code",
   "execution_count": 1,
   "metadata": {
    "ExecuteTime": {
     "end_time": "2020-09-16T20:57:55.061929Z",
     "start_time": "2020-09-16T20:57:44.337037Z"
    }
   },
   "outputs": [],
   "source": [
    "import numpy as np \n",
    "import pandas as pd\n",
    "import calendar\n",
    "import matplotlib.pyplot as plt\n",
    "import seaborn as sns\n",
    "import squarify\n",
    "import gc\n",
    "import matplotlib\n",
    "import matplotlib.pyplot as plt\n",
    "import seaborn as sns\n",
    "import plotly.express as px\n",
    "\n",
    "import time\n",
    "import datetime\n",
    "from datetime import datetime\n",
    "import calendar\n",
    "\n",
    "from sklearn import model_selection # model assesment and model selection strategies\n",
    "from sklearn import metrics # model evaluation metrics\n",
    "from sklearn.tree import DecisionTreeClassifier, plot_tree\n",
    "from sklearn.tree import export_graphviz\n",
    "import graphviz\n",
    "from sklearn.preprocessing import LabelEncoder,MinMaxScaler, StandardScaler\n",
    "from sklearn.model_selection import train_test_split\n",
    "from sklearn import tree\n",
    "from sklearn.ensemble import RandomForestClassifier\n",
    "import xgboost as xgb\n",
    "from sklearn.metrics import confusion_matrix\n",
    "\n",
    "\n",
    "sns.set_style('white')\n",
    "\n",
    "pd.options.display.float_format = '{:,.2f}'.format"
   ]
  },
  {
   "cell_type": "code",
   "execution_count": 2,
   "metadata": {
    "ExecuteTime": {
     "end_time": "2020-09-14T14:44:34.228517Z",
     "start_time": "2020-09-14T14:44:34.216524Z"
    }
   },
   "outputs": [],
   "source": [
    "# reduces the memory of a dataframe\n",
    "def reduce_mem_usage(df, verbose = True):\n",
    "    \n",
    "    '''\n",
    "    Reduces the space that a DataFrame occupies in memory.\n",
    "\n",
    "    This function iterates over all columns in a df and downcasts them to lower type to save memory.\n",
    "    '''\n",
    "    \n",
    "    numerics = ['int16', 'int32', 'int64', 'float16', 'float32', 'float64']\n",
    "    start_mem = df.memory_usage().sum() / 1024**2    \n",
    "    for col in df.columns:\n",
    "        col_type = df[col].dtypes\n",
    "        if col_type in numerics:\n",
    "            c_min = df[col].min()\n",
    "            c_max = df[col].max()\n",
    "            if str(col_type)[:3] == 'int':\n",
    "                if c_min > np.iinfo(np.int8).min and c_max < np.iinfo(np.int8).max:\n",
    "                    df[col] = df[col].astype(np.int8)\n",
    "                elif c_min > np.iinfo(np.int16).min and c_max < np.iinfo(np.int16).max:\n",
    "                    df[col] = df[col].astype(np.int16)\n",
    "                elif c_min > np.iinfo(np.int32).min and c_max < np.iinfo(np.int32).max:\n",
    "                    df[col] = df[col].astype(np.int32)\n",
    "                elif c_min > np.iinfo(np.int64).min and c_max < np.iinfo(np.int64).max:\n",
    "                    df[col] = df[col].astype(np.int64)  \n",
    "            else:\n",
    "                if c_min > np.finfo(np.float16).min and c_max < np.finfo(np.float16).max:\n",
    "                    df[col] = df[col].astype(np.float16)\n",
    "                elif c_min > np.finfo(np.float32).min and c_max < np.finfo(np.float32).max:\n",
    "                    df[col] = df[col].astype(np.float32)\n",
    "                else:\n",
    "                    df[col] = df[col].astype(np.float64)    \n",
    "    end_mem = df.memory_usage().sum() / 1024**2\n",
    "    if verbose:\n",
    "        print('Mem. usage decreased to {:5.2f} Mb ({:.1f}% reduction)'\\\n",
    "              .format(end_mem, 100 * (start_mem - end_mem) / start_mem))"
   ]
  },
  {
   "cell_type": "markdown",
   "metadata": {},
   "source": [
    "# Cargamos el dataset Base:"
   ]
  },
  {
   "cell_type": "code",
   "execution_count": 3,
   "metadata": {
    "ExecuteTime": {
     "end_time": "2020-09-14T14:46:46.103021Z",
     "start_time": "2020-09-14T14:44:34.234514Z"
    }
   },
   "outputs": [],
   "source": [
    "df_sorted = pd.read_pickle('../Datos-Easymoney/EasyMoney_base.pkl',compression='zip')"
   ]
  },
  {
   "cell_type": "code",
   "execution_count": 4,
   "metadata": {
    "ExecuteTime": {
     "end_time": "2020-09-12T14:45:35.839795Z",
     "start_time": "2020-09-12T14:45:32.879503Z"
    }
   },
   "outputs": [
    {
     "data": {
      "text/plain": [
       "0"
      ]
     },
     "execution_count": 4,
     "metadata": {},
     "output_type": "execute_result"
    }
   ],
   "source": [
    "df_sorted.isnull().sum().sum()"
   ]
  },
  {
   "cell_type": "code",
   "execution_count": 5,
   "metadata": {
    "ExecuteTime": {
     "end_time": "2020-09-12T14:45:37.193030Z",
     "start_time": "2020-09-12T14:45:37.175027Z"
    }
   },
   "outputs": [
    {
     "name": "stdout",
     "output_type": "stream",
     "text": [
      "<class 'pandas.core.frame.DataFrame'>\n",
      "Int64Index: 5962924 entries, 0 to 5962923\n",
      "Data columns (total 59 columns):\n",
      " #   Column                  Dtype         \n",
      "---  ------                  -----         \n",
      " 0   pk_cid                  int32         \n",
      " 1   pk_partition            datetime64[ns]\n",
      " 2   short_term_deposit      int8          \n",
      " 3   loans                   int8          \n",
      " 4   mortgage                int8          \n",
      " 5   funds                   int8          \n",
      " 6   securities              int8          \n",
      " 7   long_term_deposit       int8          \n",
      " 8   em_account_pp           int8          \n",
      " 9   credit_card             int8          \n",
      " 10  payroll                 float16       \n",
      " 11  pension_plan            float16       \n",
      " 12  payroll_account         int8          \n",
      " 13  emc_account             int8          \n",
      " 14  debit_card              int8          \n",
      " 15  em_account_p            int8          \n",
      " 16  em_acount               int8          \n",
      " 17  entry_date              datetime64[ns]\n",
      " 18  entry_channel           object        \n",
      " 19  active_customer         float16       \n",
      " 20  segment                 object        \n",
      " 21  country_id              object        \n",
      " 22  region_code             float16       \n",
      " 23  gender                  object        \n",
      " 24  age                     int8          \n",
      " 25  deceased                object        \n",
      " 26  salary                  float32       \n",
      " 27  dif_debit_card          float16       \n",
      " 28  dif_em_account_p        float16       \n",
      " 29  dif_em_account_pp       float16       \n",
      " 30  dif_em_acount           float16       \n",
      " 31  dif_emc_account         float16       \n",
      " 32  dif_payroll             float16       \n",
      " 33  dif_payroll_account     float16       \n",
      " 34  dif_funds               float16       \n",
      " 35  dif_long_term_deposit   float16       \n",
      " 36  dif_mortgage            float16       \n",
      " 37  dif_pension_plan        float16       \n",
      " 38  dif_securities          float16       \n",
      " 39  dif_short_term_deposit  float16       \n",
      " 40  dif_loans               float16       \n",
      " 41  dif_credit_card         float16       \n",
      " 42  mesesAlta               float16       \n",
      " 43  isNewClient             int8          \n",
      " 44  isActive                int8          \n",
      " 45  Provincia               object        \n",
      " 46  SalaryQtil              object        \n",
      " 47  totalAssets             float16       \n",
      " 48  totalCuentas            float16       \n",
      " 49  totalAhorro             float16       \n",
      " 50  totalFinanciacion       int8          \n",
      " 51  totalIngresos           float64       \n",
      " 52  totalBeneficio          float64       \n",
      " 53  hayAlta                 int64         \n",
      " 54  diasDesdeUltimaAlta     object        \n",
      " 55  diasDesdeUltimaAltaInt  int64         \n",
      " 56  hayBaja                 int64         \n",
      " 57  diasDesdeUltimaBaja     object        \n",
      " 58  diasDesdeUltimaBajaInt  int64         \n",
      "dtypes: datetime64[ns](2), float16(23), float32(1), float64(2), int32(1), int64(4), int8(17), object(9)\n",
      "memory usage: 1.2+ GB\n"
     ]
    }
   ],
   "source": [
    "df_sorted.info()"
   ]
  },
  {
   "cell_type": "markdown",
   "metadata": {},
   "source": [
    "Vamos a generar 3 variables agurpando las latas por los tipos de productos que tenemos: "
   ]
  },
  {
   "cell_type": "markdown",
   "metadata": {},
   "source": [
    "# Variable dif_cuentaSimple:"
   ]
  },
  {
   "cell_type": "markdown",
   "metadata": {},
   "source": [
    "Si hay algun alta de alguno de los productos de cuenta simple, esta variable tendra un 1.Si no tendra un 0"
   ]
  },
  {
   "cell_type": "code",
   "execution_count": 6,
   "metadata": {
    "ExecuteTime": {
     "end_time": "2020-09-12T14:45:45.367420Z",
     "start_time": "2020-09-12T14:45:44.952660Z"
    }
   },
   "outputs": [],
   "source": [
    "df_sorted.loc[ (df_sorted['dif_debit_card']==1) | \n",
    "               (df_sorted['dif_em_account_p']==1) |\n",
    "               (df_sorted['dif_em_account_pp']==1) |\n",
    "               (df_sorted['dif_em_acount']==1) |\n",
    "               (df_sorted['dif_emc_account']==1) |\n",
    "               (df_sorted['dif_payroll']==1) |\n",
    "               (df_sorted['dif_payroll_account']==1), 'dif_cuentaSimple']=1"
   ]
  },
  {
   "cell_type": "markdown",
   "metadata": {},
   "source": [
    "# Variable dif_ahorroInversion:"
   ]
  },
  {
   "cell_type": "markdown",
   "metadata": {
    "ExecuteTime": {
     "end_time": "2020-09-12T14:46:05.048266Z",
     "start_time": "2020-09-12T14:46:05.043250Z"
    }
   },
   "source": [
    "Si hay algun alta de alguno de los productos de ahorro/inversion, esta variable tendra un 1.Si no tendra un 0"
   ]
  },
  {
   "cell_type": "code",
   "execution_count": 8,
   "metadata": {
    "ExecuteTime": {
     "end_time": "2020-09-12T14:46:13.802868Z",
     "start_time": "2020-09-12T14:46:13.380111Z"
    }
   },
   "outputs": [],
   "source": [
    "df_sorted.loc[ (df_sorted['dif_funds']==1) | \n",
    "               (df_sorted['dif_long_term_deposit']==1) |\n",
    "               (df_sorted['dif_mortgage']==1) |\n",
    "               (df_sorted['dif_pension_plan']==1) |\n",
    "               (df_sorted['dif_securities']==1) |\n",
    "               (df_sorted['short_term_deposit']==1) , 'dif_ahorroInversion']=1"
   ]
  },
  {
   "cell_type": "markdown",
   "metadata": {},
   "source": [
    "# Variable dif_financiacion:"
   ]
  },
  {
   "cell_type": "markdown",
   "metadata": {
    "ExecuteTime": {
     "end_time": "2020-09-12T14:46:32.929242Z",
     "start_time": "2020-09-12T14:46:32.925261Z"
    }
   },
   "source": [
    "Si hay algun alta de alguno de los productos de financiacion, esta variable tendra un 1.Si no tendra un 0"
   ]
  },
  {
   "cell_type": "code",
   "execution_count": 10,
   "metadata": {
    "ExecuteTime": {
     "end_time": "2020-09-12T14:46:41.258040Z",
     "start_time": "2020-09-12T14:46:40.884256Z"
    }
   },
   "outputs": [],
   "source": [
    "df_sorted.loc[ (df_sorted['loans']==1) | \n",
    "               (df_sorted['dif_credit_card']==1)  , 'dif_financiacion']=1"
   ]
  },
  {
   "cell_type": "markdown",
   "metadata": {},
   "source": [
    "# Fill nans"
   ]
  },
  {
   "cell_type": "markdown",
   "metadata": {},
   "source": [
    "Rellenamos los nulos que se nos han generado en las tres nueva variables y los reemplazamos por 0."
   ]
  },
  {
   "cell_type": "code",
   "execution_count": 11,
   "metadata": {
    "ExecuteTime": {
     "end_time": "2020-09-12T14:47:11.105402Z",
     "start_time": "2020-09-12T14:47:11.047432Z"
    }
   },
   "outputs": [],
   "source": [
    "df_sorted['dif_cuentaSimple'].fillna(0,inplace=True)\n",
    "df_sorted['dif_ahorroInversion'].fillna(0,inplace=True)\n",
    "df_sorted['dif_financiacion'].fillna(0,inplace=True)"
   ]
  },
  {
   "cell_type": "markdown",
   "metadata": {
    "ExecuteTime": {
     "end_time": "2020-09-12T14:48:05.620929Z",
     "start_time": "2020-09-12T14:48:05.615951Z"
    }
   },
   "source": [
    "Pintamos alguna de estas variables para ver si realmente estan funcionando bien:"
   ]
  },
  {
   "cell_type": "code",
   "execution_count": 13,
   "metadata": {
    "ExecuteTime": {
     "end_time": "2020-09-12T14:48:32.732902Z",
     "start_time": "2020-09-12T14:48:32.728905Z"
    }
   },
   "outputs": [],
   "source": [
    "#Para dif_cuentaSimple:\n",
    "cuentas_easymoney = ['dif_debit_card','dif_em_account_p','dif_em_account_pp',\n",
    "                     'dif_em_acount','dif_emc_account','dif_payroll','dif_payroll_account',\n",
    "                    'dif_cuentaSimple']"
   ]
  },
  {
   "cell_type": "code",
   "execution_count": 14,
   "metadata": {
    "ExecuteTime": {
     "end_time": "2020-09-12T14:48:34.256442Z",
     "start_time": "2020-09-12T14:48:34.229444Z"
    }
   },
   "outputs": [
    {
     "data": {
      "text/html": [
       "<div>\n",
       "<style scoped>\n",
       "    .dataframe tbody tr th:only-of-type {\n",
       "        vertical-align: middle;\n",
       "    }\n",
       "\n",
       "    .dataframe tbody tr th {\n",
       "        vertical-align: top;\n",
       "    }\n",
       "\n",
       "    .dataframe thead th {\n",
       "        text-align: right;\n",
       "    }\n",
       "</style>\n",
       "<table border=\"1\" class=\"dataframe\">\n",
       "  <thead>\n",
       "    <tr style=\"text-align: right;\">\n",
       "      <th></th>\n",
       "      <th>451204</th>\n",
       "      <th>451205</th>\n",
       "      <th>451206</th>\n",
       "      <th>451207</th>\n",
       "      <th>451208</th>\n",
       "      <th>451209</th>\n",
       "      <th>451210</th>\n",
       "      <th>451211</th>\n",
       "      <th>451212</th>\n",
       "      <th>451213</th>\n",
       "    </tr>\n",
       "  </thead>\n",
       "  <tbody>\n",
       "    <tr>\n",
       "      <th>dif_debit_card</th>\n",
       "      <td>0.00</td>\n",
       "      <td>0.00</td>\n",
       "      <td>0.00</td>\n",
       "      <td>0.00</td>\n",
       "      <td>-1.00</td>\n",
       "      <td>1.00</td>\n",
       "      <td>0.00</td>\n",
       "      <td>0.00</td>\n",
       "      <td>0.00</td>\n",
       "      <td>0.00</td>\n",
       "    </tr>\n",
       "    <tr>\n",
       "      <th>dif_em_account_p</th>\n",
       "      <td>0.00</td>\n",
       "      <td>0.00</td>\n",
       "      <td>0.00</td>\n",
       "      <td>0.00</td>\n",
       "      <td>0.00</td>\n",
       "      <td>0.00</td>\n",
       "      <td>0.00</td>\n",
       "      <td>0.00</td>\n",
       "      <td>0.00</td>\n",
       "      <td>0.00</td>\n",
       "    </tr>\n",
       "    <tr>\n",
       "      <th>dif_em_account_pp</th>\n",
       "      <td>0.00</td>\n",
       "      <td>0.00</td>\n",
       "      <td>0.00</td>\n",
       "      <td>0.00</td>\n",
       "      <td>0.00</td>\n",
       "      <td>0.00</td>\n",
       "      <td>0.00</td>\n",
       "      <td>0.00</td>\n",
       "      <td>0.00</td>\n",
       "      <td>0.00</td>\n",
       "    </tr>\n",
       "    <tr>\n",
       "      <th>dif_em_acount</th>\n",
       "      <td>0.00</td>\n",
       "      <td>-1.00</td>\n",
       "      <td>0.00</td>\n",
       "      <td>1.00</td>\n",
       "      <td>0.00</td>\n",
       "      <td>0.00</td>\n",
       "      <td>0.00</td>\n",
       "      <td>0.00</td>\n",
       "      <td>0.00</td>\n",
       "      <td>0.00</td>\n",
       "    </tr>\n",
       "    <tr>\n",
       "      <th>dif_emc_account</th>\n",
       "      <td>0.00</td>\n",
       "      <td>0.00</td>\n",
       "      <td>0.00</td>\n",
       "      <td>0.00</td>\n",
       "      <td>0.00</td>\n",
       "      <td>0.00</td>\n",
       "      <td>0.00</td>\n",
       "      <td>0.00</td>\n",
       "      <td>0.00</td>\n",
       "      <td>0.00</td>\n",
       "    </tr>\n",
       "    <tr>\n",
       "      <th>dif_payroll</th>\n",
       "      <td>0.00</td>\n",
       "      <td>0.00</td>\n",
       "      <td>0.00</td>\n",
       "      <td>0.00</td>\n",
       "      <td>0.00</td>\n",
       "      <td>0.00</td>\n",
       "      <td>0.00</td>\n",
       "      <td>0.00</td>\n",
       "      <td>0.00</td>\n",
       "      <td>0.00</td>\n",
       "    </tr>\n",
       "    <tr>\n",
       "      <th>dif_payroll_account</th>\n",
       "      <td>0.00</td>\n",
       "      <td>0.00</td>\n",
       "      <td>0.00</td>\n",
       "      <td>0.00</td>\n",
       "      <td>0.00</td>\n",
       "      <td>0.00</td>\n",
       "      <td>0.00</td>\n",
       "      <td>0.00</td>\n",
       "      <td>0.00</td>\n",
       "      <td>0.00</td>\n",
       "    </tr>\n",
       "    <tr>\n",
       "      <th>dif_cuentaSimple</th>\n",
       "      <td>0.00</td>\n",
       "      <td>0.00</td>\n",
       "      <td>0.00</td>\n",
       "      <td>1.00</td>\n",
       "      <td>0.00</td>\n",
       "      <td>1.00</td>\n",
       "      <td>0.00</td>\n",
       "      <td>0.00</td>\n",
       "      <td>0.00</td>\n",
       "      <td>0.00</td>\n",
       "    </tr>\n",
       "  </tbody>\n",
       "</table>\n",
       "</div>"
      ],
      "text/plain": [
       "                     451204  451205  451206  451207  451208  451209  451210  \\\n",
       "dif_debit_card         0.00    0.00    0.00    0.00   -1.00    1.00    0.00   \n",
       "dif_em_account_p       0.00    0.00    0.00    0.00    0.00    0.00    0.00   \n",
       "dif_em_account_pp      0.00    0.00    0.00    0.00    0.00    0.00    0.00   \n",
       "dif_em_acount          0.00   -1.00    0.00    1.00    0.00    0.00    0.00   \n",
       "dif_emc_account        0.00    0.00    0.00    0.00    0.00    0.00    0.00   \n",
       "dif_payroll            0.00    0.00    0.00    0.00    0.00    0.00    0.00   \n",
       "dif_payroll_account    0.00    0.00    0.00    0.00    0.00    0.00    0.00   \n",
       "dif_cuentaSimple       0.00    0.00    0.00    1.00    0.00    1.00    0.00   \n",
       "\n",
       "                     451211  451212  451213  \n",
       "dif_debit_card         0.00    0.00    0.00  \n",
       "dif_em_account_p       0.00    0.00    0.00  \n",
       "dif_em_account_pp      0.00    0.00    0.00  \n",
       "dif_em_acount          0.00    0.00    0.00  \n",
       "dif_emc_account        0.00    0.00    0.00  \n",
       "dif_payroll            0.00    0.00    0.00  \n",
       "dif_payroll_account    0.00    0.00    0.00  \n",
       "dif_cuentaSimple       0.00    0.00    0.00  "
      ]
     },
     "execution_count": 14,
     "metadata": {},
     "output_type": "execute_result"
    }
   ],
   "source": [
    "df_sorted[df_sorted['pk_cid']==1035440  ][cuentas_easymoney].head(10).T"
   ]
  },
  {
   "cell_type": "code",
   "execution_count": 15,
   "metadata": {
    "ExecuteTime": {
     "end_time": "2020-09-12T14:48:39.314607Z",
     "start_time": "2020-09-12T14:48:36.247368Z"
    }
   },
   "outputs": [
    {
     "data": {
      "text/plain": [
       "0"
      ]
     },
     "execution_count": 15,
     "metadata": {},
     "output_type": "execute_result"
    }
   ],
   "source": [
    "df_sorted.isnull().sum().sum()"
   ]
  },
  {
   "cell_type": "markdown",
   "metadata": {},
   "source": [
    "# Vamos a hacer el producto cartesiano para predecir\n",
    "Solo clientes activos(Con producto)"
   ]
  },
  {
   "cell_type": "code",
   "execution_count": 16,
   "metadata": {
    "ExecuteTime": {
     "end_time": "2020-09-12T14:48:40.716789Z",
     "start_time": "2020-09-12T14:48:40.711792Z"
    }
   },
   "outputs": [],
   "source": [
    "lista_fechas=['2018-01-28',\n",
    "'2018-02-28',\n",
    "'2018-03-28',\n",
    "'2018-04-28',\n",
    "'2018-05-28',\n",
    "'2018-06-28',\n",
    "'2018-07-28',\n",
    "'2018-08-28',\n",
    "'2018-09-28',\n",
    "'2018-10-28',\n",
    "'2018-11-28',\n",
    "'2018-12-28',\n",
    "'2019-01-28',\n",
    "'2019-02-28',\n",
    "'2019-03-28',\n",
    "'2019-04-28',\n",
    "'2019-05-28',             \n",
    "'2019-06-28']"
   ]
  },
  {
   "cell_type": "markdown",
   "metadata": {},
   "source": [
    "Solo vamos a predecir para los clientes activos el ultimo mes:"
   ]
  },
  {
   "cell_type": "code",
   "execution_count": 17,
   "metadata": {
    "ExecuteTime": {
     "end_time": "2020-09-12T14:49:14.404595Z",
     "start_time": "2020-09-12T14:49:14.094728Z"
    }
   },
   "outputs": [],
   "source": [
    "lista_clientes=df_sorted[(df_sorted['isActive']==1) & \n",
    "                        (df_sorted['pk_partition']=='2019-05-28')][\"pk_cid\"].unique().tolist()"
   ]
  },
  {
   "cell_type": "code",
   "execution_count": 19,
   "metadata": {
    "ExecuteTime": {
     "end_time": "2020-09-12T14:49:37.027957Z",
     "start_time": "2020-09-12T14:49:37.022960Z"
    }
   },
   "outputs": [
    {
     "data": {
      "text/plain": [
       "331588"
      ]
     },
     "execution_count": 19,
     "metadata": {},
     "output_type": "execute_result"
    }
   ],
   "source": [
    "# Tenemos 331588 clientes activos el ultimo mes:\n",
    "len(lista_clientes)"
   ]
  },
  {
   "cell_type": "code",
   "execution_count": 20,
   "metadata": {
    "ExecuteTime": {
     "end_time": "2020-09-12T14:49:40.991135Z",
     "start_time": "2020-09-12T14:49:40.748293Z"
    }
   },
   "outputs": [
    {
     "data": {
      "text/plain": [
       "5968584"
      ]
     },
     "execution_count": 20,
     "metadata": {},
     "output_type": "execute_result"
    }
   ],
   "source": [
    "cartesian_product = pd.MultiIndex.from_product([lista_fechas, lista_clientes ], names = [\"pk_partition\", \"pk_cid\"])\n",
    "len(cartesian_product)"
   ]
  },
  {
   "cell_type": "code",
   "execution_count": 21,
   "metadata": {
    "ExecuteTime": {
     "end_time": "2020-09-12T14:49:42.634190Z",
     "start_time": "2020-09-12T14:49:42.629189Z"
    }
   },
   "outputs": [
    {
     "data": {
      "text/plain": [
       "MultiIndex([('2018-01-28',   16203),\n",
       "            ('2018-01-28',   16502),\n",
       "            ('2018-01-28',   17457),\n",
       "            ('2018-01-28',   17799),\n",
       "            ('2018-01-28',   17970),\n",
       "            ('2018-01-28',   17980),\n",
       "            ('2018-01-28',   18146),\n",
       "            ('2018-01-28',   18704),\n",
       "            ('2018-01-28',   19021),\n",
       "            ('2018-01-28',   19268),\n",
       "            ...\n",
       "            ('2019-06-28', 1553390),\n",
       "            ('2019-06-28', 1553393),\n",
       "            ('2019-06-28', 1553415),\n",
       "            ('2019-06-28', 1553429),\n",
       "            ('2019-06-28', 1553436),\n",
       "            ('2019-06-28', 1553456),\n",
       "            ('2019-06-28', 1553541),\n",
       "            ('2019-06-28', 1553559),\n",
       "            ('2019-06-28', 1553565),\n",
       "            ('2019-06-28', 1553571)],\n",
       "           names=['pk_partition', 'pk_cid'], length=5968584)"
      ]
     },
     "execution_count": 21,
     "metadata": {},
     "output_type": "execute_result"
    }
   ],
   "source": [
    "cartesian_product"
   ]
  },
  {
   "cell_type": "code",
   "execution_count": 22,
   "metadata": {
    "ExecuteTime": {
     "end_time": "2020-09-12T14:49:45.731022Z",
     "start_time": "2020-09-12T14:49:45.510169Z"
    }
   },
   "outputs": [
    {
     "data": {
      "text/html": [
       "<div>\n",
       "<style scoped>\n",
       "    .dataframe tbody tr th:only-of-type {\n",
       "        vertical-align: middle;\n",
       "    }\n",
       "\n",
       "    .dataframe tbody tr th {\n",
       "        vertical-align: top;\n",
       "    }\n",
       "\n",
       "    .dataframe thead th {\n",
       "        text-align: right;\n",
       "    }\n",
       "</style>\n",
       "<table border=\"1\" class=\"dataframe\">\n",
       "  <thead>\n",
       "    <tr style=\"text-align: right;\">\n",
       "      <th></th>\n",
       "      <th>pk_partition</th>\n",
       "      <th>pk_cid</th>\n",
       "    </tr>\n",
       "  </thead>\n",
       "  <tbody>\n",
       "    <tr>\n",
       "      <th>5968579</th>\n",
       "      <td>2019-06-28</td>\n",
       "      <td>1553456</td>\n",
       "    </tr>\n",
       "    <tr>\n",
       "      <th>5968580</th>\n",
       "      <td>2019-06-28</td>\n",
       "      <td>1553541</td>\n",
       "    </tr>\n",
       "    <tr>\n",
       "      <th>5968581</th>\n",
       "      <td>2019-06-28</td>\n",
       "      <td>1553559</td>\n",
       "    </tr>\n",
       "    <tr>\n",
       "      <th>5968582</th>\n",
       "      <td>2019-06-28</td>\n",
       "      <td>1553565</td>\n",
       "    </tr>\n",
       "    <tr>\n",
       "      <th>5968583</th>\n",
       "      <td>2019-06-28</td>\n",
       "      <td>1553571</td>\n",
       "    </tr>\n",
       "  </tbody>\n",
       "</table>\n",
       "</div>"
      ],
      "text/plain": [
       "        pk_partition   pk_cid\n",
       "5968579   2019-06-28  1553456\n",
       "5968580   2019-06-28  1553541\n",
       "5968581   2019-06-28  1553559\n",
       "5968582   2019-06-28  1553565\n",
       "5968583   2019-06-28  1553571"
      ]
     },
     "execution_count": 22,
     "metadata": {},
     "output_type": "execute_result"
    }
   ],
   "source": [
    "full_df = pd.DataFrame(index = cartesian_product).reset_index()\n",
    "full_df.tail()"
   ]
  },
  {
   "cell_type": "markdown",
   "metadata": {},
   "source": [
    "Ponemos el campo pk_partition de este dataframe como de tipo fecha para poder hacer luego el Merge:"
   ]
  },
  {
   "cell_type": "code",
   "execution_count": 23,
   "metadata": {
    "ExecuteTime": {
     "end_time": "2020-09-12T14:50:24.936988Z",
     "start_time": "2020-09-12T14:50:24.352325Z"
    }
   },
   "outputs": [],
   "source": [
    "full_df['pk_partition']=pd.to_datetime(full_df['pk_partition'], format='%Y-%m-%d')"
   ]
  },
  {
   "cell_type": "code",
   "execution_count": 24,
   "metadata": {
    "ExecuteTime": {
     "end_time": "2020-09-12T14:50:26.577023Z",
     "start_time": "2020-09-12T14:50:26.403124Z"
    }
   },
   "outputs": [
    {
     "data": {
      "text/plain": [
       "pk_partition\n",
       "2018-01-28    331588\n",
       "2018-02-28    331588\n",
       "2018-03-28    331588\n",
       "2018-04-28    331588\n",
       "2018-05-28    331588\n",
       "2018-06-28    331588\n",
       "2018-07-28    331588\n",
       "2018-08-28    331588\n",
       "2018-09-28    331588\n",
       "2018-10-28    331588\n",
       "2018-11-28    331588\n",
       "2018-12-28    331588\n",
       "2019-01-28    331588\n",
       "2019-02-28    331588\n",
       "2019-03-28    331588\n",
       "2019-04-28    331588\n",
       "2019-05-28    331588\n",
       "2019-06-28    331588\n",
       "Name: pk_cid, dtype: int64"
      ]
     },
     "execution_count": 24,
     "metadata": {},
     "output_type": "execute_result"
    }
   ],
   "source": [
    "full_df.groupby('pk_partition')['pk_cid'].size()"
   ]
  },
  {
   "cell_type": "markdown",
   "metadata": {},
   "source": [
    "Hacemos el Merge de la estructura generada mediante el producto cartesiano y el dataset con los datasetos de EasyMoney"
   ]
  },
  {
   "cell_type": "code",
   "execution_count": 25,
   "metadata": {
    "ExecuteTime": {
     "end_time": "2020-09-12T14:51:32.237075Z",
     "start_time": "2020-09-12T14:51:05.984210Z"
    }
   },
   "outputs": [],
   "source": [
    "full_df = pd.merge(full_df,df_sorted , on = [\"pk_partition\", \"pk_cid\"], how = 'left')"
   ]
  },
  {
   "cell_type": "code",
   "execution_count": 26,
   "metadata": {
    "ExecuteTime": {
     "end_time": "2020-09-12T14:51:40.482332Z",
     "start_time": "2020-09-12T14:51:37.131256Z"
    }
   },
   "outputs": [
    {
     "data": {
      "text/plain": [
       "pk_partition\n",
       "2018-01-28    331588\n",
       "2018-02-28    331588\n",
       "2018-03-28    331588\n",
       "2018-04-28    331588\n",
       "2018-05-28    331588\n",
       "2018-06-28    331588\n",
       "2018-07-28    331588\n",
       "2018-08-28    331588\n",
       "2018-09-28    331588\n",
       "2018-10-28    331588\n",
       "2018-11-28    331588\n",
       "2018-12-28    331588\n",
       "2019-01-28    331588\n",
       "2019-02-28    331588\n",
       "2019-03-28    331588\n",
       "2019-04-28    331588\n",
       "2019-05-28    331588\n",
       "2019-06-28    331588\n",
       "Name: pk_cid, dtype: int64"
      ]
     },
     "execution_count": 26,
     "metadata": {},
     "output_type": "execute_result"
    }
   ],
   "source": [
    "# Vemos el dataset resultante:\n",
    "full_df.groupby('pk_partition')['pk_cid'].size()"
   ]
  },
  {
   "cell_type": "code",
   "execution_count": 27,
   "metadata": {
    "ExecuteTime": {
     "end_time": "2020-09-12T14:52:24.224264Z",
     "start_time": "2020-09-12T14:52:22.288399Z"
    }
   },
   "outputs": [
    {
     "data": {
      "text/plain": [
       "51047"
      ]
     },
     "execution_count": 27,
     "metadata": {},
     "output_type": "execute_result"
    }
   ],
   "source": [
    "# Liberamos espacio en memoria para minimizar la posibilidad de tener erroes por falta de memoria.\n",
    "del df_sorted\n",
    "gc.collect()"
   ]
  },
  {
   "cell_type": "code",
   "execution_count": 26,
   "metadata": {
    "ExecuteTime": {
     "end_time": "2020-09-09T21:47:08.594468Z",
     "start_time": "2020-09-09T21:47:08.584455Z"
    }
   },
   "outputs": [],
   "source": [
    "# Hacemos un pickel en este punto\n",
    "#full_df.to_pickle('fulldf_base.pkl',compression='zip')"
   ]
  },
  {
   "cell_type": "markdown",
   "metadata": {},
   "source": [
    "Debido al producto cartesiano se nos han generado nulos para los clientes modernos en las particiones mas antiguas.\n",
    "Podemos comprobar que en el ultimo mes con datos (2019-05-28) , no tenemos nulos ya que hay hemos cogido todos los clientes."
   ]
  },
  {
   "cell_type": "code",
   "execution_count": 29,
   "metadata": {
    "ExecuteTime": {
     "end_time": "2020-09-12T14:54:18.071340Z",
     "start_time": "2020-09-12T14:54:17.543644Z"
    }
   },
   "outputs": [
    {
     "data": {
      "text/plain": [
       "pk_partition\n",
       "2018-01-28    105082\n",
       "2018-02-28    102163\n",
       "2018-03-28     99439\n",
       "2018-04-28     97067\n",
       "2018-05-28     94559\n",
       "2018-06-28     92249\n",
       "2018-07-28     75495\n",
       "2018-08-28     64161\n",
       "2018-09-28     46426\n",
       "2018-10-28     29032\n",
       "2018-11-28     19458\n",
       "2018-12-28     15461\n",
       "2019-01-28     10911\n",
       "2019-02-28      7185\n",
       "2019-03-28      4038\n",
       "2019-04-28      1612\n",
       "2019-06-28    331588\n",
       "Name: pk_cid, dtype: int64"
      ]
     },
     "execution_count": 29,
     "metadata": {},
     "output_type": "execute_result"
    }
   ],
   "source": [
    "# Nulos debidos al producto cartesiano\n",
    "full_df[full_df['entry_date'].isnull()].groupby('pk_partition')['pk_cid'].size()"
   ]
  },
  {
   "cell_type": "code",
   "execution_count": 30,
   "metadata": {
    "ExecuteTime": {
     "end_time": "2020-09-12T14:54:45.576766Z",
     "start_time": "2020-09-12T14:54:41.350024Z"
    }
   },
   "outputs": [
    {
     "data": {
      "text/html": [
       "<div>\n",
       "<style scoped>\n",
       "    .dataframe tbody tr th:only-of-type {\n",
       "        vertical-align: middle;\n",
       "    }\n",
       "\n",
       "    .dataframe tbody tr th {\n",
       "        vertical-align: top;\n",
       "    }\n",
       "\n",
       "    .dataframe thead th {\n",
       "        text-align: right;\n",
       "    }\n",
       "</style>\n",
       "<table border=\"1\" class=\"dataframe\">\n",
       "  <thead>\n",
       "    <tr style=\"text-align: right;\">\n",
       "      <th></th>\n",
       "      <th>pk_partition</th>\n",
       "      <th>pk_cid</th>\n",
       "      <th>short_term_deposit</th>\n",
       "      <th>loans</th>\n",
       "      <th>mortgage</th>\n",
       "      <th>funds</th>\n",
       "      <th>securities</th>\n",
       "      <th>long_term_deposit</th>\n",
       "      <th>em_account_pp</th>\n",
       "      <th>credit_card</th>\n",
       "      <th>...</th>\n",
       "      <th>totalBeneficio</th>\n",
       "      <th>hayAlta</th>\n",
       "      <th>diasDesdeUltimaAlta</th>\n",
       "      <th>diasDesdeUltimaAltaInt</th>\n",
       "      <th>hayBaja</th>\n",
       "      <th>diasDesdeUltimaBaja</th>\n",
       "      <th>diasDesdeUltimaBajaInt</th>\n",
       "      <th>dif_cuentaSimple</th>\n",
       "      <th>dif_ahorroInversion</th>\n",
       "      <th>dif_financiacion</th>\n",
       "    </tr>\n",
       "  </thead>\n",
       "  <tbody>\n",
       "    <tr>\n",
       "      <th>0</th>\n",
       "      <td>2018-01-28</td>\n",
       "      <td>16203</td>\n",
       "      <td>nan</td>\n",
       "      <td>nan</td>\n",
       "      <td>nan</td>\n",
       "      <td>nan</td>\n",
       "      <td>nan</td>\n",
       "      <td>nan</td>\n",
       "      <td>nan</td>\n",
       "      <td>nan</td>\n",
       "      <td>...</td>\n",
       "      <td>nan</td>\n",
       "      <td>nan</td>\n",
       "      <td>NaN</td>\n",
       "      <td>nan</td>\n",
       "      <td>nan</td>\n",
       "      <td>NaN</td>\n",
       "      <td>nan</td>\n",
       "      <td>nan</td>\n",
       "      <td>nan</td>\n",
       "      <td>nan</td>\n",
       "    </tr>\n",
       "    <tr>\n",
       "      <th>1</th>\n",
       "      <td>2018-01-28</td>\n",
       "      <td>16502</td>\n",
       "      <td>nan</td>\n",
       "      <td>nan</td>\n",
       "      <td>nan</td>\n",
       "      <td>nan</td>\n",
       "      <td>nan</td>\n",
       "      <td>nan</td>\n",
       "      <td>nan</td>\n",
       "      <td>nan</td>\n",
       "      <td>...</td>\n",
       "      <td>nan</td>\n",
       "      <td>nan</td>\n",
       "      <td>NaN</td>\n",
       "      <td>nan</td>\n",
       "      <td>nan</td>\n",
       "      <td>NaN</td>\n",
       "      <td>nan</td>\n",
       "      <td>nan</td>\n",
       "      <td>nan</td>\n",
       "      <td>nan</td>\n",
       "    </tr>\n",
       "    <tr>\n",
       "      <th>2</th>\n",
       "      <td>2018-01-28</td>\n",
       "      <td>17457</td>\n",
       "      <td>0.00</td>\n",
       "      <td>0.00</td>\n",
       "      <td>0.00</td>\n",
       "      <td>0.00</td>\n",
       "      <td>0.00</td>\n",
       "      <td>1.00</td>\n",
       "      <td>0.00</td>\n",
       "      <td>0.00</td>\n",
       "      <td>...</td>\n",
       "      <td>90.00</td>\n",
       "      <td>0.00</td>\n",
       "      <td>1 days 00:00:00</td>\n",
       "      <td>1.00</td>\n",
       "      <td>0.00</td>\n",
       "      <td>1 days 00:00:00</td>\n",
       "      <td>1.00</td>\n",
       "      <td>0.00</td>\n",
       "      <td>0.00</td>\n",
       "      <td>0.00</td>\n",
       "    </tr>\n",
       "    <tr>\n",
       "      <th>3</th>\n",
       "      <td>2018-01-28</td>\n",
       "      <td>17799</td>\n",
       "      <td>0.00</td>\n",
       "      <td>0.00</td>\n",
       "      <td>0.00</td>\n",
       "      <td>0.00</td>\n",
       "      <td>0.00</td>\n",
       "      <td>0.00</td>\n",
       "      <td>0.00</td>\n",
       "      <td>0.00</td>\n",
       "      <td>...</td>\n",
       "      <td>10.00</td>\n",
       "      <td>1.00</td>\n",
       "      <td>0 days 00:00:00</td>\n",
       "      <td>0.00</td>\n",
       "      <td>0.00</td>\n",
       "      <td>1 days 00:00:00</td>\n",
       "      <td>1.00</td>\n",
       "      <td>1.00</td>\n",
       "      <td>0.00</td>\n",
       "      <td>0.00</td>\n",
       "    </tr>\n",
       "    <tr>\n",
       "      <th>4</th>\n",
       "      <td>2018-01-28</td>\n",
       "      <td>17970</td>\n",
       "      <td>0.00</td>\n",
       "      <td>0.00</td>\n",
       "      <td>0.00</td>\n",
       "      <td>0.00</td>\n",
       "      <td>0.00</td>\n",
       "      <td>0.00</td>\n",
       "      <td>0.00</td>\n",
       "      <td>0.00</td>\n",
       "      <td>...</td>\n",
       "      <td>50.00</td>\n",
       "      <td>0.00</td>\n",
       "      <td>1 days 00:00:00</td>\n",
       "      <td>1.00</td>\n",
       "      <td>0.00</td>\n",
       "      <td>1 days 00:00:00</td>\n",
       "      <td>1.00</td>\n",
       "      <td>0.00</td>\n",
       "      <td>0.00</td>\n",
       "      <td>0.00</td>\n",
       "    </tr>\n",
       "    <tr>\n",
       "      <th>...</th>\n",
       "      <td>...</td>\n",
       "      <td>...</td>\n",
       "      <td>...</td>\n",
       "      <td>...</td>\n",
       "      <td>...</td>\n",
       "      <td>...</td>\n",
       "      <td>...</td>\n",
       "      <td>...</td>\n",
       "      <td>...</td>\n",
       "      <td>...</td>\n",
       "      <td>...</td>\n",
       "      <td>...</td>\n",
       "      <td>...</td>\n",
       "      <td>...</td>\n",
       "      <td>...</td>\n",
       "      <td>...</td>\n",
       "      <td>...</td>\n",
       "      <td>...</td>\n",
       "      <td>...</td>\n",
       "      <td>...</td>\n",
       "      <td>...</td>\n",
       "    </tr>\n",
       "    <tr>\n",
       "      <th>5968579</th>\n",
       "      <td>2019-06-28</td>\n",
       "      <td>1553456</td>\n",
       "      <td>nan</td>\n",
       "      <td>nan</td>\n",
       "      <td>nan</td>\n",
       "      <td>nan</td>\n",
       "      <td>nan</td>\n",
       "      <td>nan</td>\n",
       "      <td>nan</td>\n",
       "      <td>nan</td>\n",
       "      <td>...</td>\n",
       "      <td>nan</td>\n",
       "      <td>nan</td>\n",
       "      <td>NaN</td>\n",
       "      <td>nan</td>\n",
       "      <td>nan</td>\n",
       "      <td>NaN</td>\n",
       "      <td>nan</td>\n",
       "      <td>nan</td>\n",
       "      <td>nan</td>\n",
       "      <td>nan</td>\n",
       "    </tr>\n",
       "    <tr>\n",
       "      <th>5968580</th>\n",
       "      <td>2019-06-28</td>\n",
       "      <td>1553541</td>\n",
       "      <td>nan</td>\n",
       "      <td>nan</td>\n",
       "      <td>nan</td>\n",
       "      <td>nan</td>\n",
       "      <td>nan</td>\n",
       "      <td>nan</td>\n",
       "      <td>nan</td>\n",
       "      <td>nan</td>\n",
       "      <td>...</td>\n",
       "      <td>nan</td>\n",
       "      <td>nan</td>\n",
       "      <td>NaN</td>\n",
       "      <td>nan</td>\n",
       "      <td>nan</td>\n",
       "      <td>NaN</td>\n",
       "      <td>nan</td>\n",
       "      <td>nan</td>\n",
       "      <td>nan</td>\n",
       "      <td>nan</td>\n",
       "    </tr>\n",
       "    <tr>\n",
       "      <th>5968581</th>\n",
       "      <td>2019-06-28</td>\n",
       "      <td>1553559</td>\n",
       "      <td>nan</td>\n",
       "      <td>nan</td>\n",
       "      <td>nan</td>\n",
       "      <td>nan</td>\n",
       "      <td>nan</td>\n",
       "      <td>nan</td>\n",
       "      <td>nan</td>\n",
       "      <td>nan</td>\n",
       "      <td>...</td>\n",
       "      <td>nan</td>\n",
       "      <td>nan</td>\n",
       "      <td>NaN</td>\n",
       "      <td>nan</td>\n",
       "      <td>nan</td>\n",
       "      <td>NaN</td>\n",
       "      <td>nan</td>\n",
       "      <td>nan</td>\n",
       "      <td>nan</td>\n",
       "      <td>nan</td>\n",
       "    </tr>\n",
       "    <tr>\n",
       "      <th>5968582</th>\n",
       "      <td>2019-06-28</td>\n",
       "      <td>1553565</td>\n",
       "      <td>nan</td>\n",
       "      <td>nan</td>\n",
       "      <td>nan</td>\n",
       "      <td>nan</td>\n",
       "      <td>nan</td>\n",
       "      <td>nan</td>\n",
       "      <td>nan</td>\n",
       "      <td>nan</td>\n",
       "      <td>...</td>\n",
       "      <td>nan</td>\n",
       "      <td>nan</td>\n",
       "      <td>NaN</td>\n",
       "      <td>nan</td>\n",
       "      <td>nan</td>\n",
       "      <td>NaN</td>\n",
       "      <td>nan</td>\n",
       "      <td>nan</td>\n",
       "      <td>nan</td>\n",
       "      <td>nan</td>\n",
       "    </tr>\n",
       "    <tr>\n",
       "      <th>5968583</th>\n",
       "      <td>2019-06-28</td>\n",
       "      <td>1553571</td>\n",
       "      <td>nan</td>\n",
       "      <td>nan</td>\n",
       "      <td>nan</td>\n",
       "      <td>nan</td>\n",
       "      <td>nan</td>\n",
       "      <td>nan</td>\n",
       "      <td>nan</td>\n",
       "      <td>nan</td>\n",
       "      <td>...</td>\n",
       "      <td>nan</td>\n",
       "      <td>nan</td>\n",
       "      <td>NaN</td>\n",
       "      <td>nan</td>\n",
       "      <td>nan</td>\n",
       "      <td>NaN</td>\n",
       "      <td>nan</td>\n",
       "      <td>nan</td>\n",
       "      <td>nan</td>\n",
       "      <td>nan</td>\n",
       "    </tr>\n",
       "  </tbody>\n",
       "</table>\n",
       "<p>5968584 rows × 62 columns</p>\n",
       "</div>"
      ],
      "text/plain": [
       "        pk_partition   pk_cid  short_term_deposit  loans  mortgage  funds  \\\n",
       "0         2018-01-28    16203                 nan    nan       nan    nan   \n",
       "1         2018-01-28    16502                 nan    nan       nan    nan   \n",
       "2         2018-01-28    17457                0.00   0.00      0.00   0.00   \n",
       "3         2018-01-28    17799                0.00   0.00      0.00   0.00   \n",
       "4         2018-01-28    17970                0.00   0.00      0.00   0.00   \n",
       "...              ...      ...                 ...    ...       ...    ...   \n",
       "5968579   2019-06-28  1553456                 nan    nan       nan    nan   \n",
       "5968580   2019-06-28  1553541                 nan    nan       nan    nan   \n",
       "5968581   2019-06-28  1553559                 nan    nan       nan    nan   \n",
       "5968582   2019-06-28  1553565                 nan    nan       nan    nan   \n",
       "5968583   2019-06-28  1553571                 nan    nan       nan    nan   \n",
       "\n",
       "         securities  long_term_deposit  em_account_pp  credit_card  ...  \\\n",
       "0               nan                nan            nan          nan  ...   \n",
       "1               nan                nan            nan          nan  ...   \n",
       "2              0.00               1.00           0.00         0.00  ...   \n",
       "3              0.00               0.00           0.00         0.00  ...   \n",
       "4              0.00               0.00           0.00         0.00  ...   \n",
       "...             ...                ...            ...          ...  ...   \n",
       "5968579         nan                nan            nan          nan  ...   \n",
       "5968580         nan                nan            nan          nan  ...   \n",
       "5968581         nan                nan            nan          nan  ...   \n",
       "5968582         nan                nan            nan          nan  ...   \n",
       "5968583         nan                nan            nan          nan  ...   \n",
       "\n",
       "         totalBeneficio  hayAlta  diasDesdeUltimaAlta  diasDesdeUltimaAltaInt  \\\n",
       "0                   nan      nan                  NaN                     nan   \n",
       "1                   nan      nan                  NaN                     nan   \n",
       "2                 90.00     0.00      1 days 00:00:00                    1.00   \n",
       "3                 10.00     1.00      0 days 00:00:00                    0.00   \n",
       "4                 50.00     0.00      1 days 00:00:00                    1.00   \n",
       "...                 ...      ...                  ...                     ...   \n",
       "5968579             nan      nan                  NaN                     nan   \n",
       "5968580             nan      nan                  NaN                     nan   \n",
       "5968581             nan      nan                  NaN                     nan   \n",
       "5968582             nan      nan                  NaN                     nan   \n",
       "5968583             nan      nan                  NaN                     nan   \n",
       "\n",
       "         hayBaja  diasDesdeUltimaBaja  diasDesdeUltimaBajaInt  \\\n",
       "0            nan                  NaN                     nan   \n",
       "1            nan                  NaN                     nan   \n",
       "2           0.00      1 days 00:00:00                    1.00   \n",
       "3           0.00      1 days 00:00:00                    1.00   \n",
       "4           0.00      1 days 00:00:00                    1.00   \n",
       "...          ...                  ...                     ...   \n",
       "5968579      nan                  NaN                     nan   \n",
       "5968580      nan                  NaN                     nan   \n",
       "5968581      nan                  NaN                     nan   \n",
       "5968582      nan                  NaN                     nan   \n",
       "5968583      nan                  NaN                     nan   \n",
       "\n",
       "        dif_cuentaSimple dif_ahorroInversion  dif_financiacion  \n",
       "0                    nan                 nan               nan  \n",
       "1                    nan                 nan               nan  \n",
       "2                   0.00                0.00              0.00  \n",
       "3                   1.00                0.00              0.00  \n",
       "4                   0.00                0.00              0.00  \n",
       "...                  ...                 ...               ...  \n",
       "5968579              nan                 nan               nan  \n",
       "5968580              nan                 nan               nan  \n",
       "5968581              nan                 nan               nan  \n",
       "5968582              nan                 nan               nan  \n",
       "5968583              nan                 nan               nan  \n",
       "\n",
       "[5968584 rows x 62 columns]"
      ]
     },
     "execution_count": 30,
     "metadata": {},
     "output_type": "execute_result"
    }
   ],
   "source": [
    "# Vemos los nulos en el dataset:\n",
    "full_df"
   ]
  },
  {
   "cell_type": "markdown",
   "metadata": {},
   "source": [
    "Borramos todos los nulos generados por el producto cartesiano, excepto en el mes futuro a predecir 2019-06-28"
   ]
  },
  {
   "cell_type": "code",
   "execution_count": 31,
   "metadata": {
    "ExecuteTime": {
     "end_time": "2020-09-12T14:55:16.744959Z",
     "start_time": "2020-09-12T14:55:13.506826Z"
    }
   },
   "outputs": [],
   "source": [
    "# Borramos todos los nulos que se generan por el producto cartesiano:\n",
    "full_df.drop (full_df[ (full_df['pk_partition']!='2019-06-28') &\n",
    "                       (full_df['entry_date'].isnull()) ].index, axis=0, inplace=True)"
   ]
  },
  {
   "cell_type": "markdown",
   "metadata": {},
   "source": [
    "Vemos que solo tenemos nulos en el mes futuro a predecir 2019-06-28:"
   ]
  },
  {
   "cell_type": "code",
   "execution_count": 32,
   "metadata": {
    "ExecuteTime": {
     "end_time": "2020-09-12T14:55:45.197766Z",
     "start_time": "2020-09-12T14:55:45.044874Z"
    }
   },
   "outputs": [
    {
     "data": {
      "text/plain": [
       "pk_partition\n",
       "2019-06-28    331588\n",
       "Name: pk_cid, dtype: int64"
      ]
     },
     "execution_count": 32,
     "metadata": {},
     "output_type": "execute_result"
    }
   ],
   "source": [
    "full_df[full_df['entry_date'].isnull()].groupby('pk_partition')['pk_cid'].size()"
   ]
  },
  {
   "cell_type": "markdown",
   "metadata": {},
   "source": [
    "Vemos como se nos distribuyen los clientes por los diversos meses:"
   ]
  },
  {
   "cell_type": "code",
   "execution_count": 33,
   "metadata": {
    "ExecuteTime": {
     "end_time": "2020-09-12T14:56:16.260760Z",
     "start_time": "2020-09-12T14:56:16.108848Z"
    }
   },
   "outputs": [
    {
     "data": {
      "text/plain": [
       "pk_partition\n",
       "2018-01-28    226506\n",
       "2018-02-28    229425\n",
       "2018-03-28    232149\n",
       "2018-04-28    234521\n",
       "2018-05-28    237029\n",
       "2018-06-28    239339\n",
       "2018-07-28    256093\n",
       "2018-08-28    267427\n",
       "2018-09-28    285162\n",
       "2018-10-28    302556\n",
       "2018-11-28    312130\n",
       "2018-12-28    316127\n",
       "2019-01-28    320677\n",
       "2019-02-28    324403\n",
       "2019-03-28    327550\n",
       "2019-04-28    329976\n",
       "2019-05-28    331588\n",
       "2019-06-28    331588\n",
       "Name: pk_cid, dtype: int64"
      ]
     },
     "execution_count": 33,
     "metadata": {},
     "output_type": "execute_result"
    }
   ],
   "source": [
    "full_df.groupby('pk_partition')['pk_cid'].size()"
   ]
  },
  {
   "cell_type": "markdown",
   "metadata": {},
   "source": [
    "Rellenamos los datos que si sabemos y podemos utilizar en el mes futuro a predecir:"
   ]
  },
  {
   "cell_type": "code",
   "execution_count": 34,
   "metadata": {
    "ExecuteTime": {
     "end_time": "2020-09-12T14:56:55.288885Z",
     "start_time": "2020-09-12T14:56:55.285906Z"
    }
   },
   "outputs": [],
   "source": [
    "# Actualizamos el mes a predecir:2019-06-28 con los valores de los clientes \n",
    "lista_actualizar=['entry_date',\n",
    " #'entry_channel',\n",
    " 'active_customer',\n",
    " #'segment',\n",
    " #'country_id',\n",
    " 'region_code',\n",
    " #'gender',\n",
    " 'age',\n",
    " #'deceased', \n",
    " #'mesesAlta',\n",
    "'salary']"
   ]
  },
  {
   "cell_type": "code",
   "execution_count": 35,
   "metadata": {
    "ExecuteTime": {
     "end_time": "2020-09-12T14:57:03.123451Z",
     "start_time": "2020-09-12T14:57:00.539940Z"
    }
   },
   "outputs": [
    {
     "name": "stdout",
     "output_type": "stream",
     "text": [
      "entry_date\n",
      "active_customer\n",
      "region_code\n",
      "age\n",
      "salary\n"
     ]
    }
   ],
   "source": [
    "# Rellenamos entry_date para el ultimo mes:\n",
    "for x in lista_actualizar:\n",
    "    print(x)\n",
    "    full_df.loc[(full_df['pk_partition']=='2019-06-28'),\n",
    "            x]=full_df[full_df['pk_partition']=='2019-06-28']['pk_cid'].map(full_df[['pk_cid',x]].groupby('pk_cid')[x].max())"
   ]
  },
  {
   "cell_type": "markdown",
   "metadata": {},
   "source": [
    "Comprobamos que solo tenemos nulos en el mes a predecir:"
   ]
  },
  {
   "cell_type": "code",
   "execution_count": 36,
   "metadata": {
    "ExecuteTime": {
     "end_time": "2020-09-12T14:57:32.864388Z",
     "start_time": "2020-09-12T14:57:29.607266Z"
    }
   },
   "outputs": [
    {
     "data": {
      "text/plain": [
       "pk_partition                   0\n",
       "pk_cid                         0\n",
       "short_term_deposit        331588\n",
       "loans                     331588\n",
       "mortgage                  331588\n",
       "                           ...  \n",
       "diasDesdeUltimaBaja       331588\n",
       "diasDesdeUltimaBajaInt    331588\n",
       "dif_cuentaSimple          331588\n",
       "dif_ahorroInversion       331588\n",
       "dif_financiacion          331588\n",
       "Length: 62, dtype: int64"
      ]
     },
     "execution_count": 36,
     "metadata": {},
     "output_type": "execute_result"
    }
   ],
   "source": [
    "# Solo tenemos nulos en el mes a predecir\n",
    "full_df.isnull().sum()"
   ]
  },
  {
   "cell_type": "markdown",
   "metadata": {},
   "source": [
    "Vemos que tenemos datos para clientes en los que no pasa nada, son todo ceros:"
   ]
  },
  {
   "cell_type": "code",
   "execution_count": 37,
   "metadata": {
    "ExecuteTime": {
     "end_time": "2020-09-12T14:58:18.653888Z",
     "start_time": "2020-09-12T14:58:16.673031Z"
    }
   },
   "outputs": [
    {
     "data": {
      "text/html": [
       "<div>\n",
       "<style scoped>\n",
       "    .dataframe tbody tr th:only-of-type {\n",
       "        vertical-align: middle;\n",
       "    }\n",
       "\n",
       "    .dataframe tbody tr th {\n",
       "        vertical-align: top;\n",
       "    }\n",
       "\n",
       "    .dataframe thead th {\n",
       "        text-align: right;\n",
       "    }\n",
       "</style>\n",
       "<table border=\"1\" class=\"dataframe\">\n",
       "  <thead>\n",
       "    <tr style=\"text-align: right;\">\n",
       "      <th></th>\n",
       "      <th>25</th>\n",
       "      <th>49</th>\n",
       "      <th>84</th>\n",
       "      <th>173</th>\n",
       "      <th>220</th>\n",
       "      <th>374</th>\n",
       "      <th>412</th>\n",
       "      <th>442</th>\n",
       "      <th>604</th>\n",
       "      <th>746</th>\n",
       "      <th>...</th>\n",
       "      <th>5303901</th>\n",
       "      <th>5303902</th>\n",
       "      <th>5303903</th>\n",
       "      <th>5303904</th>\n",
       "      <th>5303905</th>\n",
       "      <th>5303906</th>\n",
       "      <th>5303907</th>\n",
       "      <th>5303908</th>\n",
       "      <th>5303909</th>\n",
       "      <th>5303910</th>\n",
       "    </tr>\n",
       "  </thead>\n",
       "  <tbody>\n",
       "    <tr>\n",
       "      <th>pk_partition</th>\n",
       "      <td>2018-01-28 00:00:00</td>\n",
       "      <td>2018-01-28 00:00:00</td>\n",
       "      <td>2018-01-28 00:00:00</td>\n",
       "      <td>2018-01-28 00:00:00</td>\n",
       "      <td>2018-01-28 00:00:00</td>\n",
       "      <td>2018-01-28 00:00:00</td>\n",
       "      <td>2018-01-28 00:00:00</td>\n",
       "      <td>2018-01-28 00:00:00</td>\n",
       "      <td>2018-01-28 00:00:00</td>\n",
       "      <td>2018-01-28 00:00:00</td>\n",
       "      <td>...</td>\n",
       "      <td>2019-04-28 00:00:00</td>\n",
       "      <td>2019-04-28 00:00:00</td>\n",
       "      <td>2019-04-28 00:00:00</td>\n",
       "      <td>2019-04-28 00:00:00</td>\n",
       "      <td>2019-04-28 00:00:00</td>\n",
       "      <td>2019-04-28 00:00:00</td>\n",
       "      <td>2019-04-28 00:00:00</td>\n",
       "      <td>2019-04-28 00:00:00</td>\n",
       "      <td>2019-04-28 00:00:00</td>\n",
       "      <td>2019-04-28 00:00:00</td>\n",
       "    </tr>\n",
       "    <tr>\n",
       "      <th>pk_cid</th>\n",
       "      <td>25612</td>\n",
       "      <td>35849</td>\n",
       "      <td>46823</td>\n",
       "      <td>83660</td>\n",
       "      <td>102549</td>\n",
       "      <td>151516</td>\n",
       "      <td>162194</td>\n",
       "      <td>173207</td>\n",
       "      <td>220336</td>\n",
       "      <td>271773</td>\n",
       "      <td>...</td>\n",
       "      <td>1548181</td>\n",
       "      <td>1548182</td>\n",
       "      <td>1548186</td>\n",
       "      <td>1548188</td>\n",
       "      <td>1548189</td>\n",
       "      <td>1548196</td>\n",
       "      <td>1548197</td>\n",
       "      <td>1548201</td>\n",
       "      <td>1548202</td>\n",
       "      <td>1548203</td>\n",
       "    </tr>\n",
       "    <tr>\n",
       "      <th>short_term_deposit</th>\n",
       "      <td>0.00</td>\n",
       "      <td>0.00</td>\n",
       "      <td>0.00</td>\n",
       "      <td>0.00</td>\n",
       "      <td>0.00</td>\n",
       "      <td>0.00</td>\n",
       "      <td>0.00</td>\n",
       "      <td>0.00</td>\n",
       "      <td>0.00</td>\n",
       "      <td>0.00</td>\n",
       "      <td>...</td>\n",
       "      <td>0.00</td>\n",
       "      <td>0.00</td>\n",
       "      <td>0.00</td>\n",
       "      <td>0.00</td>\n",
       "      <td>0.00</td>\n",
       "      <td>0.00</td>\n",
       "      <td>0.00</td>\n",
       "      <td>0.00</td>\n",
       "      <td>0.00</td>\n",
       "      <td>0.00</td>\n",
       "    </tr>\n",
       "    <tr>\n",
       "      <th>loans</th>\n",
       "      <td>0.00</td>\n",
       "      <td>0.00</td>\n",
       "      <td>0.00</td>\n",
       "      <td>0.00</td>\n",
       "      <td>0.00</td>\n",
       "      <td>0.00</td>\n",
       "      <td>0.00</td>\n",
       "      <td>0.00</td>\n",
       "      <td>0.00</td>\n",
       "      <td>0.00</td>\n",
       "      <td>...</td>\n",
       "      <td>0.00</td>\n",
       "      <td>0.00</td>\n",
       "      <td>0.00</td>\n",
       "      <td>0.00</td>\n",
       "      <td>0.00</td>\n",
       "      <td>0.00</td>\n",
       "      <td>0.00</td>\n",
       "      <td>0.00</td>\n",
       "      <td>0.00</td>\n",
       "      <td>0.00</td>\n",
       "    </tr>\n",
       "    <tr>\n",
       "      <th>mortgage</th>\n",
       "      <td>0.00</td>\n",
       "      <td>0.00</td>\n",
       "      <td>0.00</td>\n",
       "      <td>0.00</td>\n",
       "      <td>0.00</td>\n",
       "      <td>0.00</td>\n",
       "      <td>0.00</td>\n",
       "      <td>0.00</td>\n",
       "      <td>0.00</td>\n",
       "      <td>0.00</td>\n",
       "      <td>...</td>\n",
       "      <td>0.00</td>\n",
       "      <td>0.00</td>\n",
       "      <td>0.00</td>\n",
       "      <td>0.00</td>\n",
       "      <td>0.00</td>\n",
       "      <td>0.00</td>\n",
       "      <td>0.00</td>\n",
       "      <td>0.00</td>\n",
       "      <td>0.00</td>\n",
       "      <td>0.00</td>\n",
       "    </tr>\n",
       "    <tr>\n",
       "      <th>...</th>\n",
       "      <td>...</td>\n",
       "      <td>...</td>\n",
       "      <td>...</td>\n",
       "      <td>...</td>\n",
       "      <td>...</td>\n",
       "      <td>...</td>\n",
       "      <td>...</td>\n",
       "      <td>...</td>\n",
       "      <td>...</td>\n",
       "      <td>...</td>\n",
       "      <td>...</td>\n",
       "      <td>...</td>\n",
       "      <td>...</td>\n",
       "      <td>...</td>\n",
       "      <td>...</td>\n",
       "      <td>...</td>\n",
       "      <td>...</td>\n",
       "      <td>...</td>\n",
       "      <td>...</td>\n",
       "      <td>...</td>\n",
       "      <td>...</td>\n",
       "    </tr>\n",
       "    <tr>\n",
       "      <th>diasDesdeUltimaBaja</th>\n",
       "      <td>1 days 00:00:00</td>\n",
       "      <td>1 days 00:00:00</td>\n",
       "      <td>1 days 00:00:00</td>\n",
       "      <td>1 days 00:00:00</td>\n",
       "      <td>1 days 00:00:00</td>\n",
       "      <td>1 days 00:00:00</td>\n",
       "      <td>1 days 00:00:00</td>\n",
       "      <td>1 days 00:00:00</td>\n",
       "      <td>1 days 00:00:00</td>\n",
       "      <td>1 days 00:00:00</td>\n",
       "      <td>...</td>\n",
       "      <td>1 days 00:00:00</td>\n",
       "      <td>1 days 00:00:00</td>\n",
       "      <td>1 days 00:00:00</td>\n",
       "      <td>1 days 00:00:00</td>\n",
       "      <td>1 days 00:00:00</td>\n",
       "      <td>1 days 00:00:00</td>\n",
       "      <td>1 days 00:00:00</td>\n",
       "      <td>1 days 00:00:00</td>\n",
       "      <td>1 days 00:00:00</td>\n",
       "      <td>1 days 00:00:00</td>\n",
       "    </tr>\n",
       "    <tr>\n",
       "      <th>diasDesdeUltimaBajaInt</th>\n",
       "      <td>1.00</td>\n",
       "      <td>1.00</td>\n",
       "      <td>1.00</td>\n",
       "      <td>1.00</td>\n",
       "      <td>1.00</td>\n",
       "      <td>1.00</td>\n",
       "      <td>1.00</td>\n",
       "      <td>1.00</td>\n",
       "      <td>1.00</td>\n",
       "      <td>1.00</td>\n",
       "      <td>...</td>\n",
       "      <td>1.00</td>\n",
       "      <td>1.00</td>\n",
       "      <td>1.00</td>\n",
       "      <td>1.00</td>\n",
       "      <td>1.00</td>\n",
       "      <td>1.00</td>\n",
       "      <td>1.00</td>\n",
       "      <td>1.00</td>\n",
       "      <td>1.00</td>\n",
       "      <td>1.00</td>\n",
       "    </tr>\n",
       "    <tr>\n",
       "      <th>dif_cuentaSimple</th>\n",
       "      <td>0.00</td>\n",
       "      <td>0.00</td>\n",
       "      <td>0.00</td>\n",
       "      <td>0.00</td>\n",
       "      <td>0.00</td>\n",
       "      <td>0.00</td>\n",
       "      <td>0.00</td>\n",
       "      <td>0.00</td>\n",
       "      <td>0.00</td>\n",
       "      <td>0.00</td>\n",
       "      <td>...</td>\n",
       "      <td>0.00</td>\n",
       "      <td>0.00</td>\n",
       "      <td>0.00</td>\n",
       "      <td>0.00</td>\n",
       "      <td>0.00</td>\n",
       "      <td>0.00</td>\n",
       "      <td>0.00</td>\n",
       "      <td>0.00</td>\n",
       "      <td>0.00</td>\n",
       "      <td>0.00</td>\n",
       "    </tr>\n",
       "    <tr>\n",
       "      <th>dif_ahorroInversion</th>\n",
       "      <td>0.00</td>\n",
       "      <td>0.00</td>\n",
       "      <td>0.00</td>\n",
       "      <td>0.00</td>\n",
       "      <td>0.00</td>\n",
       "      <td>0.00</td>\n",
       "      <td>0.00</td>\n",
       "      <td>0.00</td>\n",
       "      <td>0.00</td>\n",
       "      <td>0.00</td>\n",
       "      <td>...</td>\n",
       "      <td>0.00</td>\n",
       "      <td>0.00</td>\n",
       "      <td>0.00</td>\n",
       "      <td>0.00</td>\n",
       "      <td>0.00</td>\n",
       "      <td>0.00</td>\n",
       "      <td>0.00</td>\n",
       "      <td>0.00</td>\n",
       "      <td>0.00</td>\n",
       "      <td>0.00</td>\n",
       "    </tr>\n",
       "    <tr>\n",
       "      <th>dif_financiacion</th>\n",
       "      <td>0.00</td>\n",
       "      <td>0.00</td>\n",
       "      <td>0.00</td>\n",
       "      <td>0.00</td>\n",
       "      <td>0.00</td>\n",
       "      <td>0.00</td>\n",
       "      <td>0.00</td>\n",
       "      <td>0.00</td>\n",
       "      <td>0.00</td>\n",
       "      <td>0.00</td>\n",
       "      <td>...</td>\n",
       "      <td>0.00</td>\n",
       "      <td>0.00</td>\n",
       "      <td>0.00</td>\n",
       "      <td>0.00</td>\n",
       "      <td>0.00</td>\n",
       "      <td>0.00</td>\n",
       "      <td>0.00</td>\n",
       "      <td>0.00</td>\n",
       "      <td>0.00</td>\n",
       "      <td>0.00</td>\n",
       "    </tr>\n",
       "  </tbody>\n",
       "</table>\n",
       "<p>62 rows × 40276 columns</p>\n",
       "</div>"
      ],
      "text/plain": [
       "                                    25                   49       \\\n",
       "pk_partition            2018-01-28 00:00:00  2018-01-28 00:00:00   \n",
       "pk_cid                                25612                35849   \n",
       "short_term_deposit                     0.00                 0.00   \n",
       "loans                                  0.00                 0.00   \n",
       "mortgage                               0.00                 0.00   \n",
       "...                                     ...                  ...   \n",
       "diasDesdeUltimaBaja         1 days 00:00:00      1 days 00:00:00   \n",
       "diasDesdeUltimaBajaInt                 1.00                 1.00   \n",
       "dif_cuentaSimple                       0.00                 0.00   \n",
       "dif_ahorroInversion                    0.00                 0.00   \n",
       "dif_financiacion                       0.00                 0.00   \n",
       "\n",
       "                                    84                   173      \\\n",
       "pk_partition            2018-01-28 00:00:00  2018-01-28 00:00:00   \n",
       "pk_cid                                46823                83660   \n",
       "short_term_deposit                     0.00                 0.00   \n",
       "loans                                  0.00                 0.00   \n",
       "mortgage                               0.00                 0.00   \n",
       "...                                     ...                  ...   \n",
       "diasDesdeUltimaBaja         1 days 00:00:00      1 days 00:00:00   \n",
       "diasDesdeUltimaBajaInt                 1.00                 1.00   \n",
       "dif_cuentaSimple                       0.00                 0.00   \n",
       "dif_ahorroInversion                    0.00                 0.00   \n",
       "dif_financiacion                       0.00                 0.00   \n",
       "\n",
       "                                    220                  374      \\\n",
       "pk_partition            2018-01-28 00:00:00  2018-01-28 00:00:00   \n",
       "pk_cid                               102549               151516   \n",
       "short_term_deposit                     0.00                 0.00   \n",
       "loans                                  0.00                 0.00   \n",
       "mortgage                               0.00                 0.00   \n",
       "...                                     ...                  ...   \n",
       "diasDesdeUltimaBaja         1 days 00:00:00      1 days 00:00:00   \n",
       "diasDesdeUltimaBajaInt                 1.00                 1.00   \n",
       "dif_cuentaSimple                       0.00                 0.00   \n",
       "dif_ahorroInversion                    0.00                 0.00   \n",
       "dif_financiacion                       0.00                 0.00   \n",
       "\n",
       "                                    412                  442      \\\n",
       "pk_partition            2018-01-28 00:00:00  2018-01-28 00:00:00   \n",
       "pk_cid                               162194               173207   \n",
       "short_term_deposit                     0.00                 0.00   \n",
       "loans                                  0.00                 0.00   \n",
       "mortgage                               0.00                 0.00   \n",
       "...                                     ...                  ...   \n",
       "diasDesdeUltimaBaja         1 days 00:00:00      1 days 00:00:00   \n",
       "diasDesdeUltimaBajaInt                 1.00                 1.00   \n",
       "dif_cuentaSimple                       0.00                 0.00   \n",
       "dif_ahorroInversion                    0.00                 0.00   \n",
       "dif_financiacion                       0.00                 0.00   \n",
       "\n",
       "                                    604                  746      ...  \\\n",
       "pk_partition            2018-01-28 00:00:00  2018-01-28 00:00:00  ...   \n",
       "pk_cid                               220336               271773  ...   \n",
       "short_term_deposit                     0.00                 0.00  ...   \n",
       "loans                                  0.00                 0.00  ...   \n",
       "mortgage                               0.00                 0.00  ...   \n",
       "...                                     ...                  ...  ...   \n",
       "diasDesdeUltimaBaja         1 days 00:00:00      1 days 00:00:00  ...   \n",
       "diasDesdeUltimaBajaInt                 1.00                 1.00  ...   \n",
       "dif_cuentaSimple                       0.00                 0.00  ...   \n",
       "dif_ahorroInversion                    0.00                 0.00  ...   \n",
       "dif_financiacion                       0.00                 0.00  ...   \n",
       "\n",
       "                                    5303901              5303902  \\\n",
       "pk_partition            2019-04-28 00:00:00  2019-04-28 00:00:00   \n",
       "pk_cid                              1548181              1548182   \n",
       "short_term_deposit                     0.00                 0.00   \n",
       "loans                                  0.00                 0.00   \n",
       "mortgage                               0.00                 0.00   \n",
       "...                                     ...                  ...   \n",
       "diasDesdeUltimaBaja         1 days 00:00:00      1 days 00:00:00   \n",
       "diasDesdeUltimaBajaInt                 1.00                 1.00   \n",
       "dif_cuentaSimple                       0.00                 0.00   \n",
       "dif_ahorroInversion                    0.00                 0.00   \n",
       "dif_financiacion                       0.00                 0.00   \n",
       "\n",
       "                                    5303903              5303904  \\\n",
       "pk_partition            2019-04-28 00:00:00  2019-04-28 00:00:00   \n",
       "pk_cid                              1548186              1548188   \n",
       "short_term_deposit                     0.00                 0.00   \n",
       "loans                                  0.00                 0.00   \n",
       "mortgage                               0.00                 0.00   \n",
       "...                                     ...                  ...   \n",
       "diasDesdeUltimaBaja         1 days 00:00:00      1 days 00:00:00   \n",
       "diasDesdeUltimaBajaInt                 1.00                 1.00   \n",
       "dif_cuentaSimple                       0.00                 0.00   \n",
       "dif_ahorroInversion                    0.00                 0.00   \n",
       "dif_financiacion                       0.00                 0.00   \n",
       "\n",
       "                                    5303905              5303906  \\\n",
       "pk_partition            2019-04-28 00:00:00  2019-04-28 00:00:00   \n",
       "pk_cid                              1548189              1548196   \n",
       "short_term_deposit                     0.00                 0.00   \n",
       "loans                                  0.00                 0.00   \n",
       "mortgage                               0.00                 0.00   \n",
       "...                                     ...                  ...   \n",
       "diasDesdeUltimaBaja         1 days 00:00:00      1 days 00:00:00   \n",
       "diasDesdeUltimaBajaInt                 1.00                 1.00   \n",
       "dif_cuentaSimple                       0.00                 0.00   \n",
       "dif_ahorroInversion                    0.00                 0.00   \n",
       "dif_financiacion                       0.00                 0.00   \n",
       "\n",
       "                                    5303907              5303908  \\\n",
       "pk_partition            2019-04-28 00:00:00  2019-04-28 00:00:00   \n",
       "pk_cid                              1548197              1548201   \n",
       "short_term_deposit                     0.00                 0.00   \n",
       "loans                                  0.00                 0.00   \n",
       "mortgage                               0.00                 0.00   \n",
       "...                                     ...                  ...   \n",
       "diasDesdeUltimaBaja         1 days 00:00:00      1 days 00:00:00   \n",
       "diasDesdeUltimaBajaInt                 1.00                 1.00   \n",
       "dif_cuentaSimple                       0.00                 0.00   \n",
       "dif_ahorroInversion                    0.00                 0.00   \n",
       "dif_financiacion                       0.00                 0.00   \n",
       "\n",
       "                                    5303909              5303910  \n",
       "pk_partition            2019-04-28 00:00:00  2019-04-28 00:00:00  \n",
       "pk_cid                              1548202              1548203  \n",
       "short_term_deposit                     0.00                 0.00  \n",
       "loans                                  0.00                 0.00  \n",
       "mortgage                               0.00                 0.00  \n",
       "...                                     ...                  ...  \n",
       "diasDesdeUltimaBaja         1 days 00:00:00      1 days 00:00:00  \n",
       "diasDesdeUltimaBajaInt                 1.00                 1.00  \n",
       "dif_cuentaSimple                       0.00                 0.00  \n",
       "dif_ahorroInversion                    0.00                 0.00  \n",
       "dif_financiacion                       0.00                 0.00  \n",
       "\n",
       "[62 rows x 40276 columns]"
      ]
     },
     "execution_count": 37,
     "metadata": {},
     "output_type": "execute_result"
    }
   ],
   "source": [
    "full_df[(full_df['isNewClient']==0) &\n",
    "        (full_df['isActive']==0)].T"
   ]
  },
  {
   "cell_type": "markdown",
   "metadata": {},
   "source": [
    "Borramos los meses que no pasa nada para que el modelo aprenda a coger emjor los cambios.\n",
    "El rendimiento del modelo mejora con esto:"
   ]
  },
  {
   "cell_type": "code",
   "execution_count": 38,
   "metadata": {
    "ExecuteTime": {
     "end_time": "2020-09-12T14:58:52.150761Z",
     "start_time": "2020-09-12T14:58:49.374381Z"
    }
   },
   "outputs": [],
   "source": [
    "# Borramos los meses que no pasa nada para que el modelo aprenda a coger emjor los cambios.\n",
    "# El rendimiento del modelo mejora con esto:\n",
    "full_df.drop(full_df[(full_df['isNewClient']==0) &\n",
    "                     (full_df['isActive']==0)].index ,axis=0, inplace=True)"
   ]
  },
  {
   "cell_type": "markdown",
   "metadata": {},
   "source": [
    "Vemos la distribucion final de los clientes por los meses:"
   ]
  },
  {
   "cell_type": "code",
   "execution_count": 39,
   "metadata": {
    "ExecuteTime": {
     "end_time": "2020-09-12T14:59:12.032368Z",
     "start_time": "2020-09-12T14:59:11.882455Z"
    }
   },
   "outputs": [
    {
     "data": {
      "text/plain": [
       "pk_partition\n",
       "2018-01-28    225280\n",
       "2018-02-28    228190\n",
       "2018-03-28    231046\n",
       "2018-04-28    233515\n",
       "2018-05-28    236109\n",
       "2018-06-28    238471\n",
       "2018-07-28    250654\n",
       "2018-08-28    263897\n",
       "2018-09-28    280575\n",
       "2018-10-28    298855\n",
       "2018-11-28    308341\n",
       "2018-12-28    312624\n",
       "2019-01-28    317763\n",
       "2019-02-28    321798\n",
       "2019-03-28    325130\n",
       "2019-04-28    328546\n",
       "2019-05-28    331588\n",
       "2019-06-28    331588\n",
       "Name: pk_cid, dtype: int64"
      ]
     },
     "execution_count": 39,
     "metadata": {},
     "output_type": "execute_result"
    }
   ],
   "source": [
    "full_df.groupby('pk_partition')['pk_cid'].size()"
   ]
  },
  {
   "cell_type": "code",
   "execution_count": 40,
   "metadata": {
    "ExecuteTime": {
     "end_time": "2020-09-12T14:59:21.733272Z",
     "start_time": "2020-09-12T14:59:21.718285Z"
    }
   },
   "outputs": [
    {
     "name": "stdout",
     "output_type": "stream",
     "text": [
      "<class 'pandas.core.frame.DataFrame'>\n",
      "Int64Index: 5063970 entries, 2 to 5968583\n",
      "Data columns (total 62 columns):\n",
      " #   Column                  Dtype         \n",
      "---  ------                  -----         \n",
      " 0   pk_partition            datetime64[ns]\n",
      " 1   pk_cid                  int64         \n",
      " 2   short_term_deposit      float64       \n",
      " 3   loans                   float64       \n",
      " 4   mortgage                float64       \n",
      " 5   funds                   float64       \n",
      " 6   securities              float64       \n",
      " 7   long_term_deposit       float64       \n",
      " 8   em_account_pp           float64       \n",
      " 9   credit_card             float64       \n",
      " 10  payroll                 float16       \n",
      " 11  pension_plan            float16       \n",
      " 12  payroll_account         float64       \n",
      " 13  emc_account             float64       \n",
      " 14  debit_card              float64       \n",
      " 15  em_account_p            float64       \n",
      " 16  em_acount               float64       \n",
      " 17  entry_date              datetime64[ns]\n",
      " 18  entry_channel           object        \n",
      " 19  active_customer         float16       \n",
      " 20  segment                 object        \n",
      " 21  country_id              object        \n",
      " 22  region_code             float16       \n",
      " 23  gender                  object        \n",
      " 24  age                     float64       \n",
      " 25  deceased                object        \n",
      " 26  salary                  float32       \n",
      " 27  dif_debit_card          float16       \n",
      " 28  dif_em_account_p        float16       \n",
      " 29  dif_em_account_pp       float16       \n",
      " 30  dif_em_acount           float16       \n",
      " 31  dif_emc_account         float16       \n",
      " 32  dif_payroll             float16       \n",
      " 33  dif_payroll_account     float16       \n",
      " 34  dif_funds               float16       \n",
      " 35  dif_long_term_deposit   float16       \n",
      " 36  dif_mortgage            float16       \n",
      " 37  dif_pension_plan        float16       \n",
      " 38  dif_securities          float16       \n",
      " 39  dif_short_term_deposit  float16       \n",
      " 40  dif_loans               float16       \n",
      " 41  dif_credit_card         float16       \n",
      " 42  mesesAlta               float16       \n",
      " 43  isNewClient             float64       \n",
      " 44  isActive                float64       \n",
      " 45  Provincia               object        \n",
      " 46  SalaryQtil              object        \n",
      " 47  totalAssets             float16       \n",
      " 48  totalCuentas            float16       \n",
      " 49  totalAhorro             float16       \n",
      " 50  totalFinanciacion       float64       \n",
      " 51  totalIngresos           float64       \n",
      " 52  totalBeneficio          float64       \n",
      " 53  hayAlta                 float64       \n",
      " 54  diasDesdeUltimaAlta     object        \n",
      " 55  diasDesdeUltimaAltaInt  float64       \n",
      " 56  hayBaja                 float64       \n",
      " 57  diasDesdeUltimaBaja     object        \n",
      " 58  diasDesdeUltimaBajaInt  float64       \n",
      " 59  dif_cuentaSimple        float64       \n",
      " 60  dif_ahorroInversion     float64       \n",
      " 61  dif_financiacion        float64       \n",
      "dtypes: datetime64[ns](2), float16(23), float32(1), float64(26), int64(1), object(9)\n",
      "memory usage: 1.7+ GB\n"
     ]
    }
   ],
   "source": [
    "full_df.info(verbose=True)"
   ]
  },
  {
   "cell_type": "code",
   "execution_count": 41,
   "metadata": {
    "ExecuteTime": {
     "end_time": "2020-09-12T14:59:51.496626Z",
     "start_time": "2020-09-12T14:59:42.157011Z"
    }
   },
   "outputs": [
    {
     "name": "stdout",
     "output_type": "stream",
     "text": [
      "Mem. usage decreased to 975.53 Mb (44.2% reduction)\n"
     ]
    }
   ],
   "source": [
    "# Reducimos el tamaño del dataset para agilizar su manejo en memoria:\n",
    "reduce_mem_usage(full_df, verbose = True)"
   ]
  },
  {
   "cell_type": "code",
   "execution_count": 40,
   "metadata": {
    "ExecuteTime": {
     "end_time": "2020-09-09T21:48:25.231936Z",
     "start_time": "2020-09-09T21:48:25.217945Z"
    }
   },
   "outputs": [],
   "source": [
    "#full_df.to_pickle('fulldf_base_nandropped_VII.pkl',compression='zip')"
   ]
  },
  {
   "cell_type": "code",
   "execution_count": 42,
   "metadata": {
    "ExecuteTime": {
     "end_time": "2020-09-12T15:00:27.729133Z",
     "start_time": "2020-09-12T15:00:27.724136Z"
    }
   },
   "outputs": [],
   "source": [
    "# Lista de columnas que nos informan de las altas o bajas:\n",
    "delta_productos_easymoney=['dif_loans',\n",
    " 'dif_mortgage',\n",
    " 'dif_funds',\n",
    " 'dif_securities',\n",
    " 'dif_long_term_deposit',\n",
    " 'dif_short_term_deposit',                          \n",
    " 'dif_em_account_pp',\n",
    " 'dif_credit_card',\n",
    " 'dif_payroll',\n",
    " 'dif_pension_plan',\n",
    " 'dif_payroll_account',\n",
    " 'dif_emc_account',\n",
    " 'dif_debit_card',\n",
    " 'dif_em_acount',\n",
    " 'dif_em_account_p',\n",
    " 'dif_cuentaSimple',\n",
    " 'dif_ahorroInversion',                       \n",
    " 'dif_financiacion']"
   ]
  },
  {
   "cell_type": "code",
   "execution_count": 43,
   "metadata": {
    "ExecuteTime": {
     "end_time": "2020-09-12T15:00:44.662533Z",
     "start_time": "2020-09-12T15:00:44.657548Z"
    }
   },
   "outputs": [],
   "source": [
    "# Lista de columnas que nos informan del numero de productos Easymoney del cliente:\n",
    "productos_easymoney=['loans',\n",
    " 'mortgage',\n",
    " 'funds',\n",
    " 'securities',\n",
    " 'long_term_deposit',\n",
    " 'short_term_deposit',                    \n",
    " 'em_account_pp',\n",
    " 'credit_card',\n",
    " 'payroll',\n",
    " 'pension_plan',\n",
    " 'payroll_account',\n",
    " 'emc_account',\n",
    " 'debit_card',\n",
    " 'em_acount',\n",
    " 'em_account_p']"
   ]
  },
  {
   "cell_type": "markdown",
   "metadata": {
    "ExecuteTime": {
     "end_time": "2020-09-06T13:17:29.325475Z",
     "start_time": "2020-09-06T13:17:29.320497Z"
    }
   },
   "source": [
    "Ponemos a 0 las bajas para solo predecir altas:"
   ]
  },
  {
   "cell_type": "code",
   "execution_count": 44,
   "metadata": {
    "ExecuteTime": {
     "end_time": "2020-09-12T15:00:53.225058Z",
     "start_time": "2020-09-12T15:00:52.151659Z"
    }
   },
   "outputs": [],
   "source": [
    "for x in delta_productos_easymoney:\n",
    "      full_df.loc[full_df[x]==-1, x ]=0  "
   ]
  },
  {
   "cell_type": "code",
   "execution_count": 45,
   "metadata": {
    "ExecuteTime": {
     "end_time": "2020-09-12T15:00:56.683576Z",
     "start_time": "2020-09-12T15:00:56.586631Z"
    }
   },
   "outputs": [
    {
     "data": {
      "text/plain": [
       "0.00    4613569\n",
       "1.00     118813\n",
       "Name: dif_em_acount, dtype: int64"
      ]
     },
     "execution_count": 45,
     "metadata": {},
     "output_type": "execute_result"
    }
   ],
   "source": [
    "full_df['dif_em_acount'].value_counts()"
   ]
  },
  {
   "cell_type": "code",
   "execution_count": 46,
   "metadata": {
    "ExecuteTime": {
     "end_time": "2020-09-12T15:00:58.776133Z",
     "start_time": "2020-09-12T15:00:58.678208Z"
    }
   },
   "outputs": [
    {
     "data": {
      "text/plain": [
       "0.00    4721714\n",
       "1.00      10668\n",
       "Name: dif_credit_card, dtype: int64"
      ]
     },
     "execution_count": 46,
     "metadata": {},
     "output_type": "execute_result"
    }
   ],
   "source": [
    "full_df['dif_credit_card'].value_counts()"
   ]
  },
  {
   "cell_type": "code",
   "execution_count": 46,
   "metadata": {
    "ExecuteTime": {
     "end_time": "2020-09-09T21:48:26.146409Z",
     "start_time": "2020-09-09T21:48:26.143410Z"
    }
   },
   "outputs": [],
   "source": [
    "#full_df.to_pickle('./fulldf_base_VII.pkl',compression='zip')"
   ]
  },
  {
   "cell_type": "code",
   "execution_count": 47,
   "metadata": {
    "ExecuteTime": {
     "end_time": "2020-09-09T21:48:26.161399Z",
     "start_time": "2020-09-09T21:48:26.148407Z"
    }
   },
   "outputs": [],
   "source": [
    "#full_df=pd.read_pickle('./fulldf_base_V1.pkl',compression='zip')"
   ]
  },
  {
   "cell_type": "markdown",
   "metadata": {},
   "source": [
    "# Feature engeniering"
   ]
  },
  {
   "cell_type": "markdown",
   "metadata": {},
   "source": [
    "Sacamos las variables LAGS remontandonos 1,2,3 y 4 meses atras para todas las variables delta_productos_easymoney:"
   ]
  },
  {
   "cell_type": "code",
   "execution_count": 47,
   "metadata": {
    "ExecuteTime": {
     "end_time": "2020-09-12T15:03:40.513533Z",
     "start_time": "2020-09-12T15:02:12.132464Z"
    }
   },
   "outputs": [
    {
     "name": "stdout",
     "output_type": "stream",
     "text": [
      "dif_loans\n",
      "1\n",
      "2\n",
      "3\n",
      "4\n",
      "dif_mortgage\n",
      "1\n",
      "2\n",
      "3\n",
      "4\n",
      "dif_funds\n",
      "1\n",
      "2\n",
      "3\n",
      "4\n",
      "dif_securities\n",
      "1\n",
      "2\n",
      "3\n",
      "4\n",
      "dif_long_term_deposit\n",
      "1\n",
      "2\n",
      "3\n",
      "4\n",
      "dif_short_term_deposit\n",
      "1\n",
      "2\n",
      "3\n",
      "4\n",
      "dif_em_account_pp\n",
      "1\n",
      "2\n",
      "3\n",
      "4\n",
      "dif_credit_card\n",
      "1\n",
      "2\n",
      "3\n",
      "4\n",
      "dif_payroll\n",
      "1\n",
      "2\n",
      "3\n",
      "4\n",
      "dif_pension_plan\n",
      "1\n",
      "2\n",
      "3\n",
      "4\n",
      "dif_payroll_account\n",
      "1\n",
      "2\n",
      "3\n",
      "4\n",
      "dif_emc_account\n",
      "1\n",
      "2\n",
      "3\n",
      "4\n",
      "dif_debit_card\n",
      "1\n",
      "2\n",
      "3\n",
      "4\n",
      "dif_em_acount\n",
      "1\n",
      "2\n",
      "3\n",
      "4\n",
      "dif_em_account_p\n",
      "1\n",
      "2\n",
      "3\n",
      "4\n",
      "dif_cuentaSimple\n",
      "1\n",
      "2\n",
      "3\n",
      "4\n",
      "dif_ahorroInversion\n",
      "1\n",
      "2\n",
      "3\n",
      "4\n",
      "dif_financiacion\n",
      "1\n",
      "2\n",
      "3\n",
      "4\n"
     ]
    }
   ],
   "source": [
    "for y in delta_productos_easymoney:\n",
    "    print(y)\n",
    "    for x in [1,2,3,4]:\n",
    "        print(x)\n",
    "        full_df[y+'_shift_'+str(x)]=full_df.groupby(['pk_cid'])[y].shift(x)"
   ]
  },
  {
   "cell_type": "code",
   "execution_count": 48,
   "metadata": {
    "ExecuteTime": {
     "end_time": "2020-09-12T15:06:44.811657Z",
     "start_time": "2020-09-12T15:04:48.784545Z"
    }
   },
   "outputs": [
    {
     "name": "stdout",
     "output_type": "stream",
     "text": [
      "loans\n",
      "1\n",
      "2\n",
      "3\n",
      "4\n",
      "mortgage\n",
      "1\n",
      "2\n",
      "3\n",
      "4\n",
      "funds\n",
      "1\n",
      "2\n",
      "3\n",
      "4\n",
      "securities\n",
      "1\n",
      "2\n",
      "3\n",
      "4\n",
      "long_term_deposit\n",
      "1\n",
      "2\n",
      "3\n",
      "4\n",
      "short_term_deposit\n",
      "1\n",
      "2\n",
      "3\n",
      "4\n",
      "em_account_pp\n",
      "1\n",
      "2\n",
      "3\n",
      "4\n",
      "credit_card\n",
      "1\n",
      "2\n",
      "3\n",
      "4\n",
      "payroll\n",
      "1\n",
      "2\n",
      "3\n",
      "4\n",
      "pension_plan\n",
      "1\n",
      "2\n",
      "3\n",
      "4\n",
      "payroll_account\n",
      "1\n",
      "2\n",
      "3\n",
      "4\n",
      "emc_account\n",
      "1\n",
      "2\n",
      "3\n",
      "4\n",
      "debit_card\n",
      "1\n",
      "2\n",
      "3\n",
      "4\n",
      "em_acount\n",
      "1\n",
      "2\n",
      "3\n",
      "4\n",
      "em_account_p\n",
      "1\n",
      "2\n",
      "3\n",
      "4\n"
     ]
    }
   ],
   "source": [
    "for y in productos_easymoney:\n",
    "    print(y)\n",
    "    for x in [1,2,3,4]:\n",
    "        print(x)\n",
    "        full_df[y+'_shift_'+str(x)]=full_df.groupby(['pk_cid'])[y].shift(x)"
   ]
  },
  {
   "cell_type": "code",
   "execution_count": 50,
   "metadata": {
    "ExecuteTime": {
     "end_time": "2020-09-09T21:55:42.839730Z",
     "start_time": "2020-09-09T21:52:41.266337Z"
    }
   },
   "outputs": [
    {
     "name": "stdout",
     "output_type": "stream",
     "text": [
      "1\n",
      "2\n",
      "3\n",
      "4\n"
     ]
    }
   ],
   "source": [
    "for x in [1,2,3,4]:\n",
    "    print(x)\n",
    "    full_df['isActive_shift_'+str(x)]=full_df.groupby(['pk_cid'])['isActive'].shift(x)\n",
    "    full_df['isNewClient_shift_'+str(x)]=full_df.groupby(['pk_cid'])['isNewClient'].shift(x)\n",
    "    full_df['active_customer_shift_'+str(x)]=full_df.groupby(['pk_cid'])['active_customer'].shift(x)\n",
    "    full_df['totalAssets_shift_'+str(x)]=full_df.groupby(['pk_cid'])['totalAssets'].shift(x)\n",
    "    full_df['totalCuentas_shift_'+str(x)]=full_df.groupby(['pk_cid'])['totalCuentas'].shift(x)\n",
    "    full_df['totalAhorro_shift_'+str(x)]=full_df.groupby(['pk_cid'])['totalAhorro'].shift(x)\n",
    "    full_df['totalFinanciacion_shift_'+str(x)]=full_df.groupby(['pk_cid'])['totalFinanciacion'].shift(x)\n",
    "    full_df['totalIngresos_shift_'+str(x)]=full_df.groupby(['pk_cid'])['totalIngresos'].shift(x)\n",
    "    #full_df['totalBeneficio_shift'+str(x)]=full_df.groupby(['pk_cid'])['totalBeneficio'].shift(x) AUTOEXPLICATIVA\n",
    "    full_df['diasDesdeUltimaAltaInt_shift_'+str(x)]=full_df.groupby(['pk_cid'])['diasDesdeUltimaAltaInt'].shift(x)\n",
    "    full_df['hayAlta_shift_'+str(x)]=full_df.groupby(['pk_cid'])['hayAlta'].shift(x)\n",
    "    full_df['diasDesdeUltimaBajaInt_shift_'+str(x)]=full_df.groupby(['pk_cid'])['diasDesdeUltimaAltaInt'].shift(x)\n",
    "    full_df['hayBaja_shift_'+str(x)]=full_df.groupby(['pk_cid'])['hayAlta'].shift(x)"
   ]
  },
  {
   "cell_type": "code",
   "execution_count": 49,
   "metadata": {
    "ExecuteTime": {
     "end_time": "2020-09-12T15:07:34.664812Z",
     "start_time": "2020-09-12T15:07:06.359111Z"
    }
   },
   "outputs": [],
   "source": [
    "# Rellenamos los nulos producidos en las shift\n",
    "full_df.fillna(-999,inplace=True)"
   ]
  },
  {
   "cell_type": "markdown",
   "metadata": {},
   "source": [
    "Sacamos las variables de las fechas:"
   ]
  },
  {
   "cell_type": "code",
   "execution_count": 50,
   "metadata": {
    "ExecuteTime": {
     "end_time": "2020-09-12T15:07:39.867992Z",
     "start_time": "2020-09-12T15:07:38.759632Z"
    }
   },
   "outputs": [],
   "source": [
    "full_df[\"day\"] = full_df[\"pk_partition\"].dt.day\n",
    "full_df[\"year\"] = full_df[\"pk_partition\"].dt.year\n",
    "full_df[\"month\"] = full_df[\"pk_partition\"].dt.month"
   ]
  },
  {
   "cell_type": "code",
   "execution_count": 51,
   "metadata": {
    "ExecuteTime": {
     "end_time": "2020-09-12T15:07:41.744375Z",
     "start_time": "2020-09-12T15:07:40.572038Z"
    }
   },
   "outputs": [],
   "source": [
    "full_df[\"entry_date_day\"] = full_df[\"entry_date\"].dt.day\n",
    "full_df[\"entry_date_year\"] = full_df[\"entry_date\"].dt.year\n",
    "full_df[\"entry_date_month\"] = full_df[\"entry_date\"].dt.month"
   ]
  },
  {
   "cell_type": "markdown",
   "metadata": {},
   "source": [
    "Sacamos algunas variables mas:"
   ]
  },
  {
   "cell_type": "code",
   "execution_count": 52,
   "metadata": {
    "ExecuteTime": {
     "end_time": "2020-09-12T15:08:11.590154Z",
     "start_time": "2020-09-12T15:08:11.161421Z"
    }
   },
   "outputs": [
    {
     "data": {
      "text/plain": [
       "KHE     2655442\n",
       "KFC      625714\n",
       "KHQ      435667\n",
       "-999     331588\n",
       "KAT      327988\n",
       "KHK      157376\n",
       "KHM      122421\n",
       "KHN       82093\n",
       "XXX       81657\n",
       "KHD       63068\n",
       "Name: entry_channel, dtype: int64"
      ]
     },
     "execution_count": 52,
     "metadata": {},
     "output_type": "execute_result"
    }
   ],
   "source": [
    "full_df['entry_channel'].value_counts(dropna=False).head(10)"
   ]
  },
  {
   "cell_type": "code",
   "execution_count": 53,
   "metadata": {
    "ExecuteTime": {
     "end_time": "2020-09-12T15:08:14.387542Z",
     "start_time": "2020-09-12T15:08:12.474645Z"
    }
   },
   "outputs": [],
   "source": [
    "full_df.loc[full_df['entry_channel']==-999,'entry_channel']='XXX'"
   ]
  },
  {
   "cell_type": "code",
   "execution_count": 54,
   "metadata": {
    "ExecuteTime": {
     "end_time": "2020-09-12T15:08:16.249487Z",
     "start_time": "2020-09-12T15:08:15.020178Z"
    }
   },
   "outputs": [],
   "source": [
    "full_df['entry_channel']=pd.Categorical(full_df['entry_channel'], categories=full_df['entry_channel'].value_counts(dropna=False).head(10).index.to_list())"
   ]
  },
  {
   "cell_type": "code",
   "execution_count": 55,
   "metadata": {
    "ExecuteTime": {
     "end_time": "2020-09-12T15:08:16.951064Z",
     "start_time": "2020-09-12T15:08:16.897095Z"
    }
   },
   "outputs": [
    {
     "data": {
      "text/plain": [
       "KHE    2655442\n",
       "KFC     625714\n",
       "KHQ     435667\n",
       "XXX     413245\n",
       "KAT     327988\n",
       "KHK     157376\n",
       "KHM     122421\n",
       "NaN     121686\n",
       "KHN      82093\n",
       "KHD      63068\n",
       "KFA      59270\n",
       "Name: entry_channel, dtype: int64"
      ]
     },
     "execution_count": 55,
     "metadata": {},
     "output_type": "execute_result"
    }
   ],
   "source": [
    "full_df['entry_channel'].value_counts(dropna=False)"
   ]
  },
  {
   "cell_type": "code",
   "execution_count": 56,
   "metadata": {
    "ExecuteTime": {
     "end_time": "2020-09-12T15:08:17.666670Z",
     "start_time": "2020-09-12T15:08:17.570708Z"
    }
   },
   "outputs": [],
   "source": [
    "dummy_dataset = pd.get_dummies(full_df['entry_channel'],prefix='channel')"
   ]
  },
  {
   "cell_type": "code",
   "execution_count": 57,
   "metadata": {
    "ExecuteTime": {
     "end_time": "2020-09-12T15:08:18.308281Z",
     "start_time": "2020-09-12T15:08:18.290291Z"
    }
   },
   "outputs": [
    {
     "data": {
      "text/html": [
       "<div>\n",
       "<style scoped>\n",
       "    .dataframe tbody tr th:only-of-type {\n",
       "        vertical-align: middle;\n",
       "    }\n",
       "\n",
       "    .dataframe tbody tr th {\n",
       "        vertical-align: top;\n",
       "    }\n",
       "\n",
       "    .dataframe thead th {\n",
       "        text-align: right;\n",
       "    }\n",
       "</style>\n",
       "<table border=\"1\" class=\"dataframe\">\n",
       "  <thead>\n",
       "    <tr style=\"text-align: right;\">\n",
       "      <th></th>\n",
       "      <th>channel_KHE</th>\n",
       "      <th>channel_KFC</th>\n",
       "      <th>channel_KHQ</th>\n",
       "      <th>channel_XXX</th>\n",
       "      <th>channel_KAT</th>\n",
       "      <th>channel_KHK</th>\n",
       "      <th>channel_KHM</th>\n",
       "      <th>channel_KHN</th>\n",
       "      <th>channel_KHD</th>\n",
       "      <th>channel_KFA</th>\n",
       "    </tr>\n",
       "  </thead>\n",
       "  <tbody>\n",
       "    <tr>\n",
       "      <th>2</th>\n",
       "      <td>0</td>\n",
       "      <td>0</td>\n",
       "      <td>0</td>\n",
       "      <td>0</td>\n",
       "      <td>1</td>\n",
       "      <td>0</td>\n",
       "      <td>0</td>\n",
       "      <td>0</td>\n",
       "      <td>0</td>\n",
       "      <td>0</td>\n",
       "    </tr>\n",
       "    <tr>\n",
       "      <th>3</th>\n",
       "      <td>0</td>\n",
       "      <td>0</td>\n",
       "      <td>0</td>\n",
       "      <td>0</td>\n",
       "      <td>1</td>\n",
       "      <td>0</td>\n",
       "      <td>0</td>\n",
       "      <td>0</td>\n",
       "      <td>0</td>\n",
       "      <td>0</td>\n",
       "    </tr>\n",
       "    <tr>\n",
       "      <th>4</th>\n",
       "      <td>0</td>\n",
       "      <td>0</td>\n",
       "      <td>0</td>\n",
       "      <td>0</td>\n",
       "      <td>1</td>\n",
       "      <td>0</td>\n",
       "      <td>0</td>\n",
       "      <td>0</td>\n",
       "      <td>0</td>\n",
       "      <td>0</td>\n",
       "    </tr>\n",
       "    <tr>\n",
       "      <th>7</th>\n",
       "      <td>0</td>\n",
       "      <td>0</td>\n",
       "      <td>0</td>\n",
       "      <td>0</td>\n",
       "      <td>1</td>\n",
       "      <td>0</td>\n",
       "      <td>0</td>\n",
       "      <td>0</td>\n",
       "      <td>0</td>\n",
       "      <td>0</td>\n",
       "    </tr>\n",
       "    <tr>\n",
       "      <th>8</th>\n",
       "      <td>0</td>\n",
       "      <td>0</td>\n",
       "      <td>0</td>\n",
       "      <td>0</td>\n",
       "      <td>1</td>\n",
       "      <td>0</td>\n",
       "      <td>0</td>\n",
       "      <td>0</td>\n",
       "      <td>0</td>\n",
       "      <td>0</td>\n",
       "    </tr>\n",
       "    <tr>\n",
       "      <th>...</th>\n",
       "      <td>...</td>\n",
       "      <td>...</td>\n",
       "      <td>...</td>\n",
       "      <td>...</td>\n",
       "      <td>...</td>\n",
       "      <td>...</td>\n",
       "      <td>...</td>\n",
       "      <td>...</td>\n",
       "      <td>...</td>\n",
       "      <td>...</td>\n",
       "    </tr>\n",
       "    <tr>\n",
       "      <th>5968579</th>\n",
       "      <td>0</td>\n",
       "      <td>0</td>\n",
       "      <td>0</td>\n",
       "      <td>1</td>\n",
       "      <td>0</td>\n",
       "      <td>0</td>\n",
       "      <td>0</td>\n",
       "      <td>0</td>\n",
       "      <td>0</td>\n",
       "      <td>0</td>\n",
       "    </tr>\n",
       "    <tr>\n",
       "      <th>5968580</th>\n",
       "      <td>0</td>\n",
       "      <td>0</td>\n",
       "      <td>0</td>\n",
       "      <td>1</td>\n",
       "      <td>0</td>\n",
       "      <td>0</td>\n",
       "      <td>0</td>\n",
       "      <td>0</td>\n",
       "      <td>0</td>\n",
       "      <td>0</td>\n",
       "    </tr>\n",
       "    <tr>\n",
       "      <th>5968581</th>\n",
       "      <td>0</td>\n",
       "      <td>0</td>\n",
       "      <td>0</td>\n",
       "      <td>1</td>\n",
       "      <td>0</td>\n",
       "      <td>0</td>\n",
       "      <td>0</td>\n",
       "      <td>0</td>\n",
       "      <td>0</td>\n",
       "      <td>0</td>\n",
       "    </tr>\n",
       "    <tr>\n",
       "      <th>5968582</th>\n",
       "      <td>0</td>\n",
       "      <td>0</td>\n",
       "      <td>0</td>\n",
       "      <td>1</td>\n",
       "      <td>0</td>\n",
       "      <td>0</td>\n",
       "      <td>0</td>\n",
       "      <td>0</td>\n",
       "      <td>0</td>\n",
       "      <td>0</td>\n",
       "    </tr>\n",
       "    <tr>\n",
       "      <th>5968583</th>\n",
       "      <td>0</td>\n",
       "      <td>0</td>\n",
       "      <td>0</td>\n",
       "      <td>1</td>\n",
       "      <td>0</td>\n",
       "      <td>0</td>\n",
       "      <td>0</td>\n",
       "      <td>0</td>\n",
       "      <td>0</td>\n",
       "      <td>0</td>\n",
       "    </tr>\n",
       "  </tbody>\n",
       "</table>\n",
       "<p>5063970 rows × 10 columns</p>\n",
       "</div>"
      ],
      "text/plain": [
       "         channel_KHE  channel_KFC  channel_KHQ  channel_XXX  channel_KAT  \\\n",
       "2                  0            0            0            0            1   \n",
       "3                  0            0            0            0            1   \n",
       "4                  0            0            0            0            1   \n",
       "7                  0            0            0            0            1   \n",
       "8                  0            0            0            0            1   \n",
       "...              ...          ...          ...          ...          ...   \n",
       "5968579            0            0            0            1            0   \n",
       "5968580            0            0            0            1            0   \n",
       "5968581            0            0            0            1            0   \n",
       "5968582            0            0            0            1            0   \n",
       "5968583            0            0            0            1            0   \n",
       "\n",
       "         channel_KHK  channel_KHM  channel_KHN  channel_KHD  channel_KFA  \n",
       "2                  0            0            0            0            0  \n",
       "3                  0            0            0            0            0  \n",
       "4                  0            0            0            0            0  \n",
       "7                  0            0            0            0            0  \n",
       "8                  0            0            0            0            0  \n",
       "...              ...          ...          ...          ...          ...  \n",
       "5968579            0            0            0            0            0  \n",
       "5968580            0            0            0            0            0  \n",
       "5968581            0            0            0            0            0  \n",
       "5968582            0            0            0            0            0  \n",
       "5968583            0            0            0            0            0  \n",
       "\n",
       "[5063970 rows x 10 columns]"
      ]
     },
     "execution_count": 57,
     "metadata": {},
     "output_type": "execute_result"
    }
   ],
   "source": [
    "dummy_dataset"
   ]
  },
  {
   "cell_type": "code",
   "execution_count": 58,
   "metadata": {
    "ExecuteTime": {
     "end_time": "2020-09-12T15:08:22.471900Z",
     "start_time": "2020-09-12T15:08:18.942921Z"
    }
   },
   "outputs": [],
   "source": [
    "full_df = pd.concat([full_df,dummy_dataset],axis=1)"
   ]
  },
  {
   "cell_type": "code",
   "execution_count": 59,
   "metadata": {
    "ExecuteTime": {
     "end_time": "2020-09-12T15:08:27.054116Z",
     "start_time": "2020-09-12T15:08:26.621380Z"
    }
   },
   "outputs": [
    {
     "data": {
      "text/plain": [
       "ES       4730617\n",
       "-999      331588\n",
       "Other        679\n",
       "GB           357\n",
       "FR           201\n",
       "DE           188\n",
       "CH           156\n",
       "US            81\n",
       "BR            66\n",
       "BE            37\n",
       "Name: country_id, dtype: int64"
      ]
     },
     "execution_count": 59,
     "metadata": {},
     "output_type": "execute_result"
    }
   ],
   "source": [
    "full_df['country_id'].value_counts(dropna=False)"
   ]
  },
  {
   "cell_type": "code",
   "execution_count": 60,
   "metadata": {
    "ExecuteTime": {
     "end_time": "2020-09-12T15:08:31.101802Z",
     "start_time": "2020-09-12T15:08:27.451887Z"
    }
   },
   "outputs": [],
   "source": [
    "full_df.loc[full_df['country_id']==-999,'country_id']='Other'"
   ]
  },
  {
   "cell_type": "code",
   "execution_count": 61,
   "metadata": {
    "ExecuteTime": {
     "end_time": "2020-09-12T15:08:31.952312Z",
     "start_time": "2020-09-12T15:08:31.496555Z"
    }
   },
   "outputs": [
    {
     "data": {
      "text/plain": [
       "ES       4730617\n",
       "Other     332267\n",
       "GB           357\n",
       "FR           201\n",
       "DE           188\n",
       "CH           156\n",
       "US            81\n",
       "BR            66\n",
       "BE            37\n",
       "Name: country_id, dtype: int64"
      ]
     },
     "execution_count": 61,
     "metadata": {},
     "output_type": "execute_result"
    }
   ],
   "source": [
    "full_df['country_id'].value_counts(dropna=False)"
   ]
  },
  {
   "cell_type": "code",
   "execution_count": 62,
   "metadata": {
    "ExecuteTime": {
     "end_time": "2020-09-12T15:08:32.620910Z",
     "start_time": "2020-09-12T15:08:32.346066Z"
    }
   },
   "outputs": [],
   "source": [
    "dummy_dataset = pd.get_dummies(full_df['country_id'],prefix='country')"
   ]
  },
  {
   "cell_type": "code",
   "execution_count": 63,
   "metadata": {
    "ExecuteTime": {
     "end_time": "2020-09-12T15:08:36.731556Z",
     "start_time": "2020-09-12T15:08:32.998690Z"
    }
   },
   "outputs": [],
   "source": [
    "full_df = pd.concat([full_df,dummy_dataset],axis=1)"
   ]
  },
  {
   "cell_type": "code",
   "execution_count": 64,
   "metadata": {
    "ExecuteTime": {
     "end_time": "2020-09-12T15:08:37.942711Z",
     "start_time": "2020-09-12T15:08:37.182278Z"
    }
   },
   "outputs": [
    {
     "data": {
      "text/html": [
       "<div>\n",
       "<style scoped>\n",
       "    .dataframe tbody tr th:only-of-type {\n",
       "        vertical-align: middle;\n",
       "    }\n",
       "\n",
       "    .dataframe tbody tr th {\n",
       "        vertical-align: top;\n",
       "    }\n",
       "\n",
       "    .dataframe thead th {\n",
       "        text-align: right;\n",
       "    }\n",
       "</style>\n",
       "<table border=\"1\" class=\"dataframe\">\n",
       "  <thead>\n",
       "    <tr style=\"text-align: right;\">\n",
       "      <th></th>\n",
       "      <th>pk_partition</th>\n",
       "      <th>pk_cid</th>\n",
       "      <th>short_term_deposit</th>\n",
       "      <th>loans</th>\n",
       "      <th>mortgage</th>\n",
       "      <th>funds</th>\n",
       "      <th>securities</th>\n",
       "      <th>long_term_deposit</th>\n",
       "      <th>em_account_pp</th>\n",
       "      <th>credit_card</th>\n",
       "      <th>...</th>\n",
       "      <th>channel_KFA</th>\n",
       "      <th>country_BE</th>\n",
       "      <th>country_BR</th>\n",
       "      <th>country_CH</th>\n",
       "      <th>country_DE</th>\n",
       "      <th>country_ES</th>\n",
       "      <th>country_FR</th>\n",
       "      <th>country_GB</th>\n",
       "      <th>country_Other</th>\n",
       "      <th>country_US</th>\n",
       "    </tr>\n",
       "  </thead>\n",
       "  <tbody>\n",
       "    <tr>\n",
       "      <th>2</th>\n",
       "      <td>2018-01-28</td>\n",
       "      <td>17457</td>\n",
       "      <td>0.00</td>\n",
       "      <td>0.00</td>\n",
       "      <td>0.00</td>\n",
       "      <td>0.00</td>\n",
       "      <td>0.00</td>\n",
       "      <td>1.00</td>\n",
       "      <td>0.00</td>\n",
       "      <td>0.00</td>\n",
       "      <td>...</td>\n",
       "      <td>0</td>\n",
       "      <td>0</td>\n",
       "      <td>0</td>\n",
       "      <td>0</td>\n",
       "      <td>0</td>\n",
       "      <td>1</td>\n",
       "      <td>0</td>\n",
       "      <td>0</td>\n",
       "      <td>0</td>\n",
       "      <td>0</td>\n",
       "    </tr>\n",
       "    <tr>\n",
       "      <th>3</th>\n",
       "      <td>2018-01-28</td>\n",
       "      <td>17799</td>\n",
       "      <td>0.00</td>\n",
       "      <td>0.00</td>\n",
       "      <td>0.00</td>\n",
       "      <td>0.00</td>\n",
       "      <td>0.00</td>\n",
       "      <td>0.00</td>\n",
       "      <td>0.00</td>\n",
       "      <td>0.00</td>\n",
       "      <td>...</td>\n",
       "      <td>0</td>\n",
       "      <td>0</td>\n",
       "      <td>0</td>\n",
       "      <td>0</td>\n",
       "      <td>0</td>\n",
       "      <td>1</td>\n",
       "      <td>0</td>\n",
       "      <td>0</td>\n",
       "      <td>0</td>\n",
       "      <td>0</td>\n",
       "    </tr>\n",
       "    <tr>\n",
       "      <th>4</th>\n",
       "      <td>2018-01-28</td>\n",
       "      <td>17970</td>\n",
       "      <td>0.00</td>\n",
       "      <td>0.00</td>\n",
       "      <td>0.00</td>\n",
       "      <td>0.00</td>\n",
       "      <td>0.00</td>\n",
       "      <td>0.00</td>\n",
       "      <td>0.00</td>\n",
       "      <td>0.00</td>\n",
       "      <td>...</td>\n",
       "      <td>0</td>\n",
       "      <td>0</td>\n",
       "      <td>0</td>\n",
       "      <td>0</td>\n",
       "      <td>0</td>\n",
       "      <td>1</td>\n",
       "      <td>0</td>\n",
       "      <td>0</td>\n",
       "      <td>0</td>\n",
       "      <td>0</td>\n",
       "    </tr>\n",
       "    <tr>\n",
       "      <th>7</th>\n",
       "      <td>2018-01-28</td>\n",
       "      <td>18704</td>\n",
       "      <td>0.00</td>\n",
       "      <td>0.00</td>\n",
       "      <td>0.00</td>\n",
       "      <td>0.00</td>\n",
       "      <td>0.00</td>\n",
       "      <td>0.00</td>\n",
       "      <td>0.00</td>\n",
       "      <td>0.00</td>\n",
       "      <td>...</td>\n",
       "      <td>0</td>\n",
       "      <td>0</td>\n",
       "      <td>0</td>\n",
       "      <td>0</td>\n",
       "      <td>0</td>\n",
       "      <td>1</td>\n",
       "      <td>0</td>\n",
       "      <td>0</td>\n",
       "      <td>0</td>\n",
       "      <td>0</td>\n",
       "    </tr>\n",
       "    <tr>\n",
       "      <th>8</th>\n",
       "      <td>2018-01-28</td>\n",
       "      <td>19021</td>\n",
       "      <td>0.00</td>\n",
       "      <td>0.00</td>\n",
       "      <td>0.00</td>\n",
       "      <td>0.00</td>\n",
       "      <td>0.00</td>\n",
       "      <td>0.00</td>\n",
       "      <td>0.00</td>\n",
       "      <td>1.00</td>\n",
       "      <td>...</td>\n",
       "      <td>0</td>\n",
       "      <td>0</td>\n",
       "      <td>0</td>\n",
       "      <td>0</td>\n",
       "      <td>0</td>\n",
       "      <td>1</td>\n",
       "      <td>0</td>\n",
       "      <td>0</td>\n",
       "      <td>0</td>\n",
       "      <td>0</td>\n",
       "    </tr>\n",
       "    <tr>\n",
       "      <th>...</th>\n",
       "      <td>...</td>\n",
       "      <td>...</td>\n",
       "      <td>...</td>\n",
       "      <td>...</td>\n",
       "      <td>...</td>\n",
       "      <td>...</td>\n",
       "      <td>...</td>\n",
       "      <td>...</td>\n",
       "      <td>...</td>\n",
       "      <td>...</td>\n",
       "      <td>...</td>\n",
       "      <td>...</td>\n",
       "      <td>...</td>\n",
       "      <td>...</td>\n",
       "      <td>...</td>\n",
       "      <td>...</td>\n",
       "      <td>...</td>\n",
       "      <td>...</td>\n",
       "      <td>...</td>\n",
       "      <td>...</td>\n",
       "      <td>...</td>\n",
       "    </tr>\n",
       "    <tr>\n",
       "      <th>5968579</th>\n",
       "      <td>2019-06-28</td>\n",
       "      <td>1553456</td>\n",
       "      <td>-999.00</td>\n",
       "      <td>-999.00</td>\n",
       "      <td>-999.00</td>\n",
       "      <td>-999.00</td>\n",
       "      <td>-999.00</td>\n",
       "      <td>-999.00</td>\n",
       "      <td>-999.00</td>\n",
       "      <td>-999.00</td>\n",
       "      <td>...</td>\n",
       "      <td>0</td>\n",
       "      <td>0</td>\n",
       "      <td>0</td>\n",
       "      <td>0</td>\n",
       "      <td>0</td>\n",
       "      <td>0</td>\n",
       "      <td>0</td>\n",
       "      <td>0</td>\n",
       "      <td>1</td>\n",
       "      <td>0</td>\n",
       "    </tr>\n",
       "    <tr>\n",
       "      <th>5968580</th>\n",
       "      <td>2019-06-28</td>\n",
       "      <td>1553541</td>\n",
       "      <td>-999.00</td>\n",
       "      <td>-999.00</td>\n",
       "      <td>-999.00</td>\n",
       "      <td>-999.00</td>\n",
       "      <td>-999.00</td>\n",
       "      <td>-999.00</td>\n",
       "      <td>-999.00</td>\n",
       "      <td>-999.00</td>\n",
       "      <td>...</td>\n",
       "      <td>0</td>\n",
       "      <td>0</td>\n",
       "      <td>0</td>\n",
       "      <td>0</td>\n",
       "      <td>0</td>\n",
       "      <td>0</td>\n",
       "      <td>0</td>\n",
       "      <td>0</td>\n",
       "      <td>1</td>\n",
       "      <td>0</td>\n",
       "    </tr>\n",
       "    <tr>\n",
       "      <th>5968581</th>\n",
       "      <td>2019-06-28</td>\n",
       "      <td>1553559</td>\n",
       "      <td>-999.00</td>\n",
       "      <td>-999.00</td>\n",
       "      <td>-999.00</td>\n",
       "      <td>-999.00</td>\n",
       "      <td>-999.00</td>\n",
       "      <td>-999.00</td>\n",
       "      <td>-999.00</td>\n",
       "      <td>-999.00</td>\n",
       "      <td>...</td>\n",
       "      <td>0</td>\n",
       "      <td>0</td>\n",
       "      <td>0</td>\n",
       "      <td>0</td>\n",
       "      <td>0</td>\n",
       "      <td>0</td>\n",
       "      <td>0</td>\n",
       "      <td>0</td>\n",
       "      <td>1</td>\n",
       "      <td>0</td>\n",
       "    </tr>\n",
       "    <tr>\n",
       "      <th>5968582</th>\n",
       "      <td>2019-06-28</td>\n",
       "      <td>1553565</td>\n",
       "      <td>-999.00</td>\n",
       "      <td>-999.00</td>\n",
       "      <td>-999.00</td>\n",
       "      <td>-999.00</td>\n",
       "      <td>-999.00</td>\n",
       "      <td>-999.00</td>\n",
       "      <td>-999.00</td>\n",
       "      <td>-999.00</td>\n",
       "      <td>...</td>\n",
       "      <td>0</td>\n",
       "      <td>0</td>\n",
       "      <td>0</td>\n",
       "      <td>0</td>\n",
       "      <td>0</td>\n",
       "      <td>0</td>\n",
       "      <td>0</td>\n",
       "      <td>0</td>\n",
       "      <td>1</td>\n",
       "      <td>0</td>\n",
       "    </tr>\n",
       "    <tr>\n",
       "      <th>5968583</th>\n",
       "      <td>2019-06-28</td>\n",
       "      <td>1553571</td>\n",
       "      <td>-999.00</td>\n",
       "      <td>-999.00</td>\n",
       "      <td>-999.00</td>\n",
       "      <td>-999.00</td>\n",
       "      <td>-999.00</td>\n",
       "      <td>-999.00</td>\n",
       "      <td>-999.00</td>\n",
       "      <td>-999.00</td>\n",
       "      <td>...</td>\n",
       "      <td>0</td>\n",
       "      <td>0</td>\n",
       "      <td>0</td>\n",
       "      <td>0</td>\n",
       "      <td>0</td>\n",
       "      <td>0</td>\n",
       "      <td>0</td>\n",
       "      <td>0</td>\n",
       "      <td>1</td>\n",
       "      <td>0</td>\n",
       "    </tr>\n",
       "  </tbody>\n",
       "</table>\n",
       "<p>5063970 rows × 219 columns</p>\n",
       "</div>"
      ],
      "text/plain": [
       "        pk_partition   pk_cid  short_term_deposit   loans  mortgage   funds  \\\n",
       "2         2018-01-28    17457                0.00    0.00      0.00    0.00   \n",
       "3         2018-01-28    17799                0.00    0.00      0.00    0.00   \n",
       "4         2018-01-28    17970                0.00    0.00      0.00    0.00   \n",
       "7         2018-01-28    18704                0.00    0.00      0.00    0.00   \n",
       "8         2018-01-28    19021                0.00    0.00      0.00    0.00   \n",
       "...              ...      ...                 ...     ...       ...     ...   \n",
       "5968579   2019-06-28  1553456             -999.00 -999.00   -999.00 -999.00   \n",
       "5968580   2019-06-28  1553541             -999.00 -999.00   -999.00 -999.00   \n",
       "5968581   2019-06-28  1553559             -999.00 -999.00   -999.00 -999.00   \n",
       "5968582   2019-06-28  1553565             -999.00 -999.00   -999.00 -999.00   \n",
       "5968583   2019-06-28  1553571             -999.00 -999.00   -999.00 -999.00   \n",
       "\n",
       "         securities  long_term_deposit  em_account_pp  credit_card  ...  \\\n",
       "2              0.00               1.00           0.00         0.00  ...   \n",
       "3              0.00               0.00           0.00         0.00  ...   \n",
       "4              0.00               0.00           0.00         0.00  ...   \n",
       "7              0.00               0.00           0.00         0.00  ...   \n",
       "8              0.00               0.00           0.00         1.00  ...   \n",
       "...             ...                ...            ...          ...  ...   \n",
       "5968579     -999.00            -999.00        -999.00      -999.00  ...   \n",
       "5968580     -999.00            -999.00        -999.00      -999.00  ...   \n",
       "5968581     -999.00            -999.00        -999.00      -999.00  ...   \n",
       "5968582     -999.00            -999.00        -999.00      -999.00  ...   \n",
       "5968583     -999.00            -999.00        -999.00      -999.00  ...   \n",
       "\n",
       "         channel_KFA  country_BE  country_BR  country_CH  country_DE  \\\n",
       "2                  0           0           0           0           0   \n",
       "3                  0           0           0           0           0   \n",
       "4                  0           0           0           0           0   \n",
       "7                  0           0           0           0           0   \n",
       "8                  0           0           0           0           0   \n",
       "...              ...         ...         ...         ...         ...   \n",
       "5968579            0           0           0           0           0   \n",
       "5968580            0           0           0           0           0   \n",
       "5968581            0           0           0           0           0   \n",
       "5968582            0           0           0           0           0   \n",
       "5968583            0           0           0           0           0   \n",
       "\n",
       "         country_ES  country_FR country_GB country_Other  country_US  \n",
       "2                 1           0          0             0           0  \n",
       "3                 1           0          0             0           0  \n",
       "4                 1           0          0             0           0  \n",
       "7                 1           0          0             0           0  \n",
       "8                 1           0          0             0           0  \n",
       "...             ...         ...        ...           ...         ...  \n",
       "5968579           0           0          0             1           0  \n",
       "5968580           0           0          0             1           0  \n",
       "5968581           0           0          0             1           0  \n",
       "5968582           0           0          0             1           0  \n",
       "5968583           0           0          0             1           0  \n",
       "\n",
       "[5063970 rows x 219 columns]"
      ]
     },
     "execution_count": 64,
     "metadata": {},
     "output_type": "execute_result"
    }
   ],
   "source": [
    "full_df"
   ]
  },
  {
   "cell_type": "code",
   "execution_count": 65,
   "metadata": {
    "ExecuteTime": {
     "end_time": "2020-09-12T15:08:51.754269Z",
     "start_time": "2020-09-12T15:08:42.675503Z"
    }
   },
   "outputs": [
    {
     "name": "stdout",
     "output_type": "stream",
     "text": [
      "Mem. usage decreased to 2347.08 Mb (7.6% reduction)\n"
     ]
    }
   ],
   "source": [
    "reduce_mem_usage(full_df, verbose = True)"
   ]
  },
  {
   "cell_type": "code",
   "execution_count": 71,
   "metadata": {
    "ExecuteTime": {
     "end_time": "2020-09-09T21:56:59.809691Z",
     "start_time": "2020-09-09T21:56:58.879701Z"
    }
   },
   "outputs": [],
   "source": [
    "#full_df.to_pickle('../Datos-Easymoney/fulldf_base_FEOK_VII.pkl',compression='zip')"
   ]
  },
  {
   "cell_type": "code",
   "execution_count": 2,
   "metadata": {
    "ExecuteTime": {
     "end_time": "2020-09-16T21:04:35.411971Z",
     "start_time": "2020-09-16T20:58:04.562480Z"
    }
   },
   "outputs": [],
   "source": [
    "#full_df=pd.read_pickle('../Datos-Easymoney/fulldf_base_FEOK_VII.pkl',compression='zip')"
   ]
  },
  {
   "cell_type": "markdown",
   "metadata": {},
   "source": [
    "# Entrenar modelo para dif_cuentaSimple"
   ]
  },
  {
   "cell_type": "code",
   "execution_count": 3,
   "metadata": {
    "ExecuteTime": {
     "end_time": "2020-09-16T21:04:45.541456Z",
     "start_time": "2020-09-16T21:04:45.429480Z"
    }
   },
   "outputs": [],
   "source": [
    "# split the data into train, validation and test dataset\n",
    "train_index = sorted(list(full_df[\"pk_partition\"].unique()))[5:-3]\n",
    "\n",
    "valida_index = [sorted(list(full_df[\"pk_partition\"].unique()))[-3]]\n",
    "\n",
    "test_index = [sorted(list(full_df[\"pk_partition\"].unique()))[-2]]"
   ]
  },
  {
   "cell_type": "code",
   "execution_count": 4,
   "metadata": {
    "ExecuteTime": {
     "end_time": "2020-09-16T21:04:50.398354Z",
     "start_time": "2020-09-16T21:04:50.390371Z"
    }
   },
   "outputs": [],
   "source": [
    "variables_borrar=['pk_cid',\n",
    "'pk_partition',\n",
    "'short_term_deposit',\n",
    "'loans',\n",
    "'mortgage',\n",
    "'funds',\n",
    "'securities',\n",
    "'long_term_deposit',\n",
    "'em_account_pp',\n",
    "'credit_card',\n",
    "'payroll',\n",
    "'pension_plan',\n",
    "'payroll_account',\n",
    "'emc_account',\n",
    "'debit_card',\n",
    "'em_account_p',\n",
    "'em_acount',\n",
    "'entry_date',\n",
    "'entry_channel',\n",
    "'active_customer',\n",
    "'segment',\n",
    "'country_id',\n",
    "'region_code',\n",
    "'gender',\n",
    "'age',\n",
    "'deceased',\n",
    "'salary',\n",
    "'dif_debit_card',\n",
    "'dif_em_account_p',\n",
    "'dif_em_account_pp',\n",
    "'dif_em_acount',\n",
    "'dif_emc_account',\n",
    "'dif_payroll',\n",
    "'dif_payroll_account',\n",
    "'dif_funds',\n",
    "'dif_long_term_deposit',\n",
    "'dif_mortgage',\n",
    "'dif_pension_plan',\n",
    "'dif_securities',\n",
    "'dif_short_term_deposit',\n",
    "'dif_loans',\n",
    "'dif_credit_card',\n",
    "'mesesAlta',\n",
    "'isNewClient',\n",
    "'isActive',\n",
    "'Provincia',\n",
    "'SalaryQtil',\n",
    "'totalAssets',\n",
    "'totalCuentas',\n",
    "'totalAhorro',\n",
    "'totalFinanciacion',\n",
    "'totalIngresos',\n",
    "'totalBeneficio',\n",
    "'hayAlta',\n",
    "'diasDesdeUltimaAlta',\n",
    "'diasDesdeUltimaAltaInt',\n",
    "'hayBaja',\n",
    "'diasDesdeUltimaBaja',\n",
    "'diasDesdeUltimaBajaInt',\n",
    "'dif_cuentaSimple',\n",
    "'dif_ahorroInversion',                       \n",
    "'dif_financiacion']\n"
   ]
  },
  {
   "cell_type": "code",
   "execution_count": 175,
   "metadata": {
    "ExecuteTime": {
     "end_time": "2020-09-12T15:38:16.496242Z",
     "start_time": "2020-09-12T15:38:14.816211Z"
    }
   },
   "outputs": [
    {
     "data": {
      "text/plain": [
       "79395"
      ]
     },
     "execution_count": 175,
     "metadata": {},
     "output_type": "execute_result"
    }
   ],
   "source": [
    "del X_train,Y_train, X_valida, Y_valida,X_test,Y_test\n",
    "gc.collect()"
   ]
  },
  {
   "cell_type": "code",
   "execution_count": 5,
   "metadata": {
    "ExecuteTime": {
     "end_time": "2020-09-16T21:05:05.665268Z",
     "start_time": "2020-09-16T21:04:53.414307Z"
    }
   },
   "outputs": [],
   "source": [
    "X_train = full_df[full_df[\"pk_partition\"].isin(train_index)].drop(variables_borrar, axis=1)\n",
    "Y_train = full_df[full_df[\"pk_partition\"].isin(train_index)]['dif_cuentaSimple']\n",
    "\n",
    "X_valida = full_df[full_df[\"pk_partition\"].isin(valida_index)].drop(variables_borrar, axis=1)\n",
    "Y_valida = full_df[full_df[\"pk_partition\"].isin(valida_index)]['dif_cuentaSimple']\n",
    "\n",
    "X_test = full_df[full_df[\"pk_partition\"].isin(test_index)].drop(variables_borrar, axis = 1)\n",
    "Y_test = full_df[full_df[\"pk_partition\"].isin(test_index)]['dif_cuentaSimple']\n"
   ]
  },
  {
   "cell_type": "code",
   "execution_count": 6,
   "metadata": {
    "ExecuteTime": {
     "end_time": "2020-09-16T21:05:08.130558Z",
     "start_time": "2020-09-16T21:05:08.122544Z"
    }
   },
   "outputs": [],
   "source": [
    "dt = DecisionTreeClassifier(max_depth=7,random_state=42, min_samples_split=10000)\n",
    "    "
   ]
  },
  {
   "cell_type": "code",
   "execution_count": 7,
   "metadata": {
    "ExecuteTime": {
     "end_time": "2020-09-16T21:05:57.509709Z",
     "start_time": "2020-09-16T21:05:09.074312Z"
    }
   },
   "outputs": [
    {
     "data": {
      "text/plain": [
       "DecisionTreeClassifier(ccp_alpha=0.0, class_weight=None, criterion='gini',\n",
       "                       max_depth=7, max_features=None, max_leaf_nodes=None,\n",
       "                       min_impurity_decrease=0.0, min_impurity_split=None,\n",
       "                       min_samples_leaf=1, min_samples_split=10000,\n",
       "                       min_weight_fraction_leaf=0.0, presort='deprecated',\n",
       "                       random_state=42, splitter='best')"
      ]
     },
     "execution_count": 7,
     "metadata": {},
     "output_type": "execute_result"
    }
   ],
   "source": [
    "dt.fit(X_train,Y_train)\n",
    "    "
   ]
  },
  {
   "cell_type": "code",
   "execution_count": 8,
   "metadata": {
    "ExecuteTime": {
     "end_time": "2020-09-16T21:06:01.357363Z",
     "start_time": "2020-09-16T21:05:58.125650Z"
    }
   },
   "outputs": [
    {
     "name": "stdout",
     "output_type": "stream",
     "text": [
      "Resultados para: Train: 0.9664837627668339 - Test: 0.9701655171574148\n"
     ]
    }
   ],
   "source": [
    "score_train=dt.score(X_train, Y_train)\n",
    "score_test=dt.score(X_valida, Y_valida)\n",
    "print('Resultados para: Train: {} - Test: {}'.format(score_train,score_test))\n"
   ]
  },
  {
   "cell_type": "code",
   "execution_count": 9,
   "metadata": {
    "ExecuteTime": {
     "end_time": "2020-09-16T21:06:09.668294Z",
     "start_time": "2020-09-16T21:06:08.143951Z"
    },
    "scrolled": false
   },
   "outputs": [
    {
     "data": {
      "image/svg+xml": [
       "<?xml version=\"1.0\" encoding=\"UTF-8\" standalone=\"no\"?>\r\n",
       "<!DOCTYPE svg PUBLIC \"-//W3C//DTD SVG 1.1//EN\"\r\n",
       " \"http://www.w3.org/Graphics/SVG/1.1/DTD/svg11.dtd\">\r\n",
       "<!-- Generated by graphviz version 2.38.0 (20140413.2041)\r\n",
       " -->\r\n",
       "<!-- Title: Tree Pages: 1 -->\r\n",
       "<svg width=\"1953pt\" height=\"1950pt\"\r\n",
       " viewBox=\"0.00 0.00 1953.00 1950.00\" xmlns=\"http://www.w3.org/2000/svg\" xmlns:xlink=\"http://www.w3.org/1999/xlink\">\r\n",
       "<g id=\"graph0\" class=\"graph\" transform=\"scale(1 1) rotate(0) translate(4 1946)\">\r\n",
       "<title>Tree</title>\r\n",
       "<polygon fill=\"white\" stroke=\"none\" points=\"-4,4 -4,-1946 1949,-1946 1949,4 -4,4\"/>\r\n",
       "<!-- 0 -->\r\n",
       "<g id=\"node1\" class=\"node\"><title>0</title>\r\n",
       "<path fill=\"#e78946\" stroke=\"black\" d=\"M158,-1393.5C158,-1393.5 12,-1393.5 12,-1393.5 6,-1393.5 0,-1387.5 0,-1381.5 0,-1381.5 0,-1322.5 0,-1322.5 0,-1316.5 6,-1310.5 12,-1310.5 12,-1310.5 158,-1310.5 158,-1310.5 164,-1310.5 170,-1316.5 170,-1322.5 170,-1322.5 170,-1381.5 170,-1381.5 170,-1387.5 164,-1393.5 158,-1393.5\"/>\r\n",
       "<text text-anchor=\"middle\" x=\"85\" y=\"-1378.3\" font-family=\"Helvetica,sans-Serif\" font-size=\"14.00\">isActive_shift_1 &lt;= 0.5</text>\r\n",
       "<text text-anchor=\"middle\" x=\"85\" y=\"-1363.3\" font-family=\"Helvetica,sans-Serif\" font-size=\"14.00\">gini = 0.1144</text>\r\n",
       "<text text-anchor=\"middle\" x=\"85\" y=\"-1348.3\" font-family=\"Helvetica,sans-Serif\" font-size=\"14.00\">samples = 100.0%</text>\r\n",
       "<text text-anchor=\"middle\" x=\"85\" y=\"-1333.3\" font-family=\"Helvetica,sans-Serif\" font-size=\"14.00\">value = [0.9391, 0.0609]</text>\r\n",
       "<text text-anchor=\"middle\" x=\"85\" y=\"-1318.3\" font-family=\"Helvetica,sans-Serif\" font-size=\"14.00\">class = No alta</text>\r\n",
       "</g>\r\n",
       "<!-- 1 -->\r\n",
       "<g id=\"node2\" class=\"node\"><title>1</title>\r\n",
       "<path fill=\"#57ace9\" stroke=\"black\" d=\"M372.5,-1625.5C372.5,-1625.5 221.5,-1625.5 221.5,-1625.5 215.5,-1625.5 209.5,-1619.5 209.5,-1613.5 209.5,-1613.5 209.5,-1554.5 209.5,-1554.5 209.5,-1548.5 215.5,-1542.5 221.5,-1542.5 221.5,-1542.5 372.5,-1542.5 372.5,-1542.5 378.5,-1542.5 384.5,-1548.5 384.5,-1554.5 384.5,-1554.5 384.5,-1613.5 384.5,-1613.5 384.5,-1619.5 378.5,-1625.5 372.5,-1625.5\"/>\r\n",
       "<text text-anchor=\"middle\" x=\"297\" y=\"-1610.3\" font-family=\"Helvetica,sans-Serif\" font-size=\"14.00\">entry_date_month &lt;= 6.5</text>\r\n",
       "<text text-anchor=\"middle\" x=\"297\" y=\"-1595.3\" font-family=\"Helvetica,sans-Serif\" font-size=\"14.00\">gini = 0.2261</text>\r\n",
       "<text text-anchor=\"middle\" x=\"297\" y=\"-1580.3\" font-family=\"Helvetica,sans-Serif\" font-size=\"14.00\">samples = 3.4%</text>\r\n",
       "<text text-anchor=\"middle\" x=\"297\" y=\"-1565.3\" font-family=\"Helvetica,sans-Serif\" font-size=\"14.00\">value = [0.1299, 0.8701]</text>\r\n",
       "<text text-anchor=\"middle\" x=\"297\" y=\"-1550.3\" font-family=\"Helvetica,sans-Serif\" font-size=\"14.00\">class = Alta</text>\r\n",
       "</g>\r\n",
       "<!-- 0&#45;&gt;1 -->\r\n",
       "<g id=\"edge1\" class=\"edge\"><title>0&#45;&gt;1</title>\r\n",
       "<path fill=\"none\" stroke=\"black\" d=\"M123.786,-1393.74C159.582,-1433.29 213.358,-1492.7 251.276,-1534.59\"/>\r\n",
       "<polygon fill=\"black\" stroke=\"black\" points=\"248.858,-1537.13 258.163,-1542.2 254.047,-1532.44 248.858,-1537.13\"/>\r\n",
       "<text text-anchor=\"middle\" x=\"233.194\" y=\"-1537.26\" font-family=\"Helvetica,sans-Serif\" font-size=\"14.00\">True</text>\r\n",
       "</g>\r\n",
       "<!-- 26 -->\r\n",
       "<g id=\"node27\" class=\"node\"><title>26</title>\r\n",
       "<path fill=\"#e68540\" stroke=\"black\" d=\"M376,-1161.5C376,-1161.5 218,-1161.5 218,-1161.5 212,-1161.5 206,-1155.5 206,-1149.5 206,-1149.5 206,-1090.5 206,-1090.5 206,-1084.5 212,-1078.5 218,-1078.5 218,-1078.5 376,-1078.5 376,-1078.5 382,-1078.5 388,-1084.5 388,-1090.5 388,-1090.5 388,-1149.5 388,-1149.5 388,-1155.5 382,-1161.5 376,-1161.5\"/>\r\n",
       "<text text-anchor=\"middle\" x=\"297\" y=\"-1146.3\" font-family=\"Helvetica,sans-Serif\" font-size=\"14.00\">em_acount_shift_1 &lt;= 0.5</text>\r\n",
       "<text text-anchor=\"middle\" x=\"297\" y=\"-1131.3\" font-family=\"Helvetica,sans-Serif\" font-size=\"14.00\">gini = 0.0633</text>\r\n",
       "<text text-anchor=\"middle\" x=\"297\" y=\"-1116.3\" font-family=\"Helvetica,sans-Serif\" font-size=\"14.00\">samples = 96.6%</text>\r\n",
       "<text text-anchor=\"middle\" x=\"297\" y=\"-1101.3\" font-family=\"Helvetica,sans-Serif\" font-size=\"14.00\">value = [0.9673, 0.0327]</text>\r\n",
       "<text text-anchor=\"middle\" x=\"297\" y=\"-1086.3\" font-family=\"Helvetica,sans-Serif\" font-size=\"14.00\">class = No alta</text>\r\n",
       "</g>\r\n",
       "<!-- 0&#45;&gt;26 -->\r\n",
       "<g id=\"edge26\" class=\"edge\"><title>0&#45;&gt;26</title>\r\n",
       "<path fill=\"none\" stroke=\"black\" d=\"M123.786,-1310.26C159.582,-1270.71 213.358,-1211.3 251.276,-1169.41\"/>\r\n",
       "<polygon fill=\"black\" stroke=\"black\" points=\"254.047,-1171.56 258.163,-1161.8 248.858,-1166.87 254.047,-1171.56\"/>\r\n",
       "<text text-anchor=\"middle\" x=\"233.194\" y=\"-1159.34\" font-family=\"Helvetica,sans-Serif\" font-size=\"14.00\">False</text>\r\n",
       "</g>\r\n",
       "<!-- 2 -->\r\n",
       "<g id=\"node3\" class=\"node\"><title>2</title>\r\n",
       "<path fill=\"#83c2ef\" stroke=\"black\" d=\"M606,-1773.5C606,-1773.5 463,-1773.5 463,-1773.5 457,-1773.5 451,-1767.5 451,-1761.5 451,-1761.5 451,-1702.5 451,-1702.5 451,-1696.5 457,-1690.5 463,-1690.5 463,-1690.5 606,-1690.5 606,-1690.5 612,-1690.5 618,-1696.5 618,-1702.5 618,-1702.5 618,-1761.5 618,-1761.5 618,-1767.5 612,-1773.5 606,-1773.5\"/>\r\n",
       "<text text-anchor=\"middle\" x=\"534.5\" y=\"-1758.3\" font-family=\"Helvetica,sans-Serif\" font-size=\"14.00\">entry_date_day &lt;= 19.5</text>\r\n",
       "<text text-anchor=\"middle\" x=\"534.5\" y=\"-1743.3\" font-family=\"Helvetica,sans-Serif\" font-size=\"14.00\">gini = 0.396</text>\r\n",
       "<text text-anchor=\"middle\" x=\"534.5\" y=\"-1728.3\" font-family=\"Helvetica,sans-Serif\" font-size=\"14.00\">samples = 0.6%</text>\r\n",
       "<text text-anchor=\"middle\" x=\"534.5\" y=\"-1713.3\" font-family=\"Helvetica,sans-Serif\" font-size=\"14.00\">value = [0.272, 0.728]</text>\r\n",
       "<text text-anchor=\"middle\" x=\"534.5\" y=\"-1698.3\" font-family=\"Helvetica,sans-Serif\" font-size=\"14.00\">class = Alta</text>\r\n",
       "</g>\r\n",
       "<!-- 1&#45;&gt;2 -->\r\n",
       "<g id=\"edge2\" class=\"edge\"><title>1&#45;&gt;2</title>\r\n",
       "<path fill=\"none\" stroke=\"black\" d=\"M364.227,-1625.62C393.572,-1644.06 428.237,-1665.85 458.529,-1684.88\"/>\r\n",
       "<polygon fill=\"black\" stroke=\"black\" points=\"457.034,-1688.08 467.363,-1690.44 460.758,-1682.15 457.034,-1688.08\"/>\r\n",
       "</g>\r\n",
       "<!-- 7 -->\r\n",
       "<g id=\"node8\" class=\"node\"><title>7</title>\r\n",
       "<path fill=\"#4fa8e8\" stroke=\"black\" d=\"M607.5,-1625.5C607.5,-1625.5 461.5,-1625.5 461.5,-1625.5 455.5,-1625.5 449.5,-1619.5 449.5,-1613.5 449.5,-1613.5 449.5,-1554.5 449.5,-1554.5 449.5,-1548.5 455.5,-1542.5 461.5,-1542.5 461.5,-1542.5 607.5,-1542.5 607.5,-1542.5 613.5,-1542.5 619.5,-1548.5 619.5,-1554.5 619.5,-1554.5 619.5,-1613.5 619.5,-1613.5 619.5,-1619.5 613.5,-1625.5 607.5,-1625.5\"/>\r\n",
       "<text text-anchor=\"middle\" x=\"534.5\" y=\"-1610.3\" font-family=\"Helvetica,sans-Serif\" font-size=\"14.00\">entry_date_day &lt;= 22.5</text>\r\n",
       "<text text-anchor=\"middle\" x=\"534.5\" y=\"-1595.3\" font-family=\"Helvetica,sans-Serif\" font-size=\"14.00\">gini = 0.1802</text>\r\n",
       "<text text-anchor=\"middle\" x=\"534.5\" y=\"-1580.3\" font-family=\"Helvetica,sans-Serif\" font-size=\"14.00\">samples = 2.8%</text>\r\n",
       "<text text-anchor=\"middle\" x=\"534.5\" y=\"-1565.3\" font-family=\"Helvetica,sans-Serif\" font-size=\"14.00\">value = [0.1001, 0.8999]</text>\r\n",
       "<text text-anchor=\"middle\" x=\"534.5\" y=\"-1550.3\" font-family=\"Helvetica,sans-Serif\" font-size=\"14.00\">class = Alta</text>\r\n",
       "</g>\r\n",
       "<!-- 1&#45;&gt;7 -->\r\n",
       "<g id=\"edge7\" class=\"edge\"><title>1&#45;&gt;7</title>\r\n",
       "<path fill=\"none\" stroke=\"black\" d=\"M384.688,-1584C402.422,-1584 421.167,-1584 439.154,-1584\"/>\r\n",
       "<polygon fill=\"black\" stroke=\"black\" points=\"439.349,-1587.5 449.349,-1584 439.349,-1580.5 439.349,-1587.5\"/>\r\n",
       "</g>\r\n",
       "<!-- 3 -->\r\n",
       "<g id=\"node4\" class=\"node\"><title>3</title>\r\n",
       "<path fill=\"#67b4eb\" stroke=\"black\" d=\"M854,-1867.5C854,-1867.5 724,-1867.5 724,-1867.5 718,-1867.5 712,-1861.5 712,-1855.5 712,-1855.5 712,-1796.5 712,-1796.5 712,-1790.5 718,-1784.5 724,-1784.5 724,-1784.5 854,-1784.5 854,-1784.5 860,-1784.5 866,-1790.5 866,-1796.5 866,-1796.5 866,-1855.5 866,-1855.5 866,-1861.5 860,-1867.5 854,-1867.5\"/>\r\n",
       "<text text-anchor=\"middle\" x=\"789\" y=\"-1852.3\" font-family=\"Helvetica,sans-Serif\" font-size=\"14.00\">month &lt;= 6.5</text>\r\n",
       "<text text-anchor=\"middle\" x=\"789\" y=\"-1837.3\" font-family=\"Helvetica,sans-Serif\" font-size=\"14.00\">gini = 0.3041</text>\r\n",
       "<text text-anchor=\"middle\" x=\"789\" y=\"-1822.3\" font-family=\"Helvetica,sans-Serif\" font-size=\"14.00\">samples = 0.3%</text>\r\n",
       "<text text-anchor=\"middle\" x=\"789\" y=\"-1807.3\" font-family=\"Helvetica,sans-Serif\" font-size=\"14.00\">value = [0.187, 0.813]</text>\r\n",
       "<text text-anchor=\"middle\" x=\"789\" y=\"-1792.3\" font-family=\"Helvetica,sans-Serif\" font-size=\"14.00\">class = Alta</text>\r\n",
       "</g>\r\n",
       "<!-- 2&#45;&gt;3 -->\r\n",
       "<g id=\"edge3\" class=\"edge\"><title>2&#45;&gt;3</title>\r\n",
       "<path fill=\"none\" stroke=\"black\" d=\"M618.178,-1762.78C645.196,-1772.84 675.249,-1784.03 702.472,-1794.16\"/>\r\n",
       "<polygon fill=\"black\" stroke=\"black\" points=\"701.381,-1797.49 711.974,-1797.7 703.824,-1790.93 701.381,-1797.49\"/>\r\n",
       "</g>\r\n",
       "<!-- 6 -->\r\n",
       "<g id=\"node7\" class=\"node\"><title>6</title>\r\n",
       "<path fill=\"#bbddf6\" stroke=\"black\" d=\"M862,-1766C862,-1766 716,-1766 716,-1766 710,-1766 704,-1760 704,-1754 704,-1754 704,-1710 704,-1710 704,-1704 710,-1698 716,-1698 716,-1698 862,-1698 862,-1698 868,-1698 874,-1704 874,-1710 874,-1710 874,-1754 874,-1754 874,-1760 868,-1766 862,-1766\"/>\r\n",
       "<text text-anchor=\"middle\" x=\"789\" y=\"-1750.8\" font-family=\"Helvetica,sans-Serif\" font-size=\"14.00\">gini = 0.4786</text>\r\n",
       "<text text-anchor=\"middle\" x=\"789\" y=\"-1735.8\" font-family=\"Helvetica,sans-Serif\" font-size=\"14.00\">samples = 0.2%</text>\r\n",
       "<text text-anchor=\"middle\" x=\"789\" y=\"-1720.8\" font-family=\"Helvetica,sans-Serif\" font-size=\"14.00\">value = [0.3965, 0.6035]</text>\r\n",
       "<text text-anchor=\"middle\" x=\"789\" y=\"-1705.8\" font-family=\"Helvetica,sans-Serif\" font-size=\"14.00\">class = Alta</text>\r\n",
       "</g>\r\n",
       "<!-- 2&#45;&gt;6 -->\r\n",
       "<g id=\"edge6\" class=\"edge\"><title>2&#45;&gt;6</title>\r\n",
       "<path fill=\"none\" stroke=\"black\" d=\"M618.178,-1732C642.322,-1732 668.89,-1732 693.697,-1732\"/>\r\n",
       "<polygon fill=\"black\" stroke=\"black\" points=\"693.839,-1735.5 703.839,-1732 693.839,-1728.5 693.839,-1735.5\"/>\r\n",
       "</g>\r\n",
       "<!-- 4 -->\r\n",
       "<g id=\"node5\" class=\"node\"><title>4</title>\r\n",
       "<path fill=\"#61b1ea\" stroke=\"black\" d=\"M1128,-1942C1128,-1942 998,-1942 998,-1942 992,-1942 986,-1936 986,-1930 986,-1930 986,-1886 986,-1886 986,-1880 992,-1874 998,-1874 998,-1874 1128,-1874 1128,-1874 1134,-1874 1140,-1880 1140,-1886 1140,-1886 1140,-1930 1140,-1930 1140,-1936 1134,-1942 1128,-1942\"/>\r\n",
       "<text text-anchor=\"middle\" x=\"1063\" y=\"-1926.8\" font-family=\"Helvetica,sans-Serif\" font-size=\"14.00\">gini = 0.2809</text>\r\n",
       "<text text-anchor=\"middle\" x=\"1063\" y=\"-1911.8\" font-family=\"Helvetica,sans-Serif\" font-size=\"14.00\">samples = 0.3%</text>\r\n",
       "<text text-anchor=\"middle\" x=\"1063\" y=\"-1896.8\" font-family=\"Helvetica,sans-Serif\" font-size=\"14.00\">value = [0.169, 0.831]</text>\r\n",
       "<text text-anchor=\"middle\" x=\"1063\" y=\"-1881.8\" font-family=\"Helvetica,sans-Serif\" font-size=\"14.00\">class = Alta</text>\r\n",
       "</g>\r\n",
       "<!-- 3&#45;&gt;4 -->\r\n",
       "<g id=\"edge4\" class=\"edge\"><title>3&#45;&gt;4</title>\r\n",
       "<path fill=\"none\" stroke=\"black\" d=\"M866.129,-1848.95C900.319,-1859.26 940.817,-1871.47 976.089,-1882.1\"/>\r\n",
       "<polygon fill=\"black\" stroke=\"black\" points=\"975.305,-1885.52 985.89,-1885.05 977.325,-1878.82 975.305,-1885.52\"/>\r\n",
       "</g>\r\n",
       "<!-- 5 -->\r\n",
       "<g id=\"node6\" class=\"node\"><title>5</title>\r\n",
       "<path fill=\"#d8ecfa\" stroke=\"black\" d=\"M1136,-1856C1136,-1856 990,-1856 990,-1856 984,-1856 978,-1850 978,-1844 978,-1844 978,-1800 978,-1800 978,-1794 984,-1788 990,-1788 990,-1788 1136,-1788 1136,-1788 1142,-1788 1148,-1794 1148,-1800 1148,-1800 1148,-1844 1148,-1844 1148,-1850 1142,-1856 1136,-1856\"/>\r\n",
       "<text text-anchor=\"middle\" x=\"1063\" y=\"-1840.8\" font-family=\"Helvetica,sans-Serif\" font-size=\"14.00\">gini = 0.4939</text>\r\n",
       "<text text-anchor=\"middle\" x=\"1063\" y=\"-1825.8\" font-family=\"Helvetica,sans-Serif\" font-size=\"14.00\">samples = 0.0%</text>\r\n",
       "<text text-anchor=\"middle\" x=\"1063\" y=\"-1810.8\" font-family=\"Helvetica,sans-Serif\" font-size=\"14.00\">value = [0.4448, 0.5552]</text>\r\n",
       "<text text-anchor=\"middle\" x=\"1063\" y=\"-1795.8\" font-family=\"Helvetica,sans-Serif\" font-size=\"14.00\">class = Alta</text>\r\n",
       "</g>\r\n",
       "<!-- 3&#45;&gt;5 -->\r\n",
       "<g id=\"edge5\" class=\"edge\"><title>3&#45;&gt;5</title>\r\n",
       "<path fill=\"none\" stroke=\"black\" d=\"M866.129,-1824.88C897.606,-1824.42 934.428,-1823.88 967.598,-1823.39\"/>\r\n",
       "<polygon fill=\"black\" stroke=\"black\" points=\"967.817,-1826.89 977.765,-1823.24 967.714,-1819.89 967.817,-1826.89\"/>\r\n",
       "</g>\r\n",
       "<!-- 8 -->\r\n",
       "<g id=\"node9\" class=\"node\"><title>8</title>\r\n",
       "<path fill=\"#4aa5e7\" stroke=\"black\" d=\"M871,-1679.5C871,-1679.5 707,-1679.5 707,-1679.5 701,-1679.5 695,-1673.5 695,-1667.5 695,-1667.5 695,-1608.5 695,-1608.5 695,-1602.5 701,-1596.5 707,-1596.5 707,-1596.5 871,-1596.5 871,-1596.5 877,-1596.5 883,-1602.5 883,-1608.5 883,-1608.5 883,-1667.5 883,-1667.5 883,-1673.5 877,-1679.5 871,-1679.5\"/>\r\n",
       "<text text-anchor=\"middle\" x=\"789\" y=\"-1664.3\" font-family=\"Helvetica,sans-Serif\" font-size=\"14.00\">entry_date_year &lt;= 2017.5</text>\r\n",
       "<text text-anchor=\"middle\" x=\"789\" y=\"-1649.3\" font-family=\"Helvetica,sans-Serif\" font-size=\"14.00\">gini = 0.1426</text>\r\n",
       "<text text-anchor=\"middle\" x=\"789\" y=\"-1634.3\" font-family=\"Helvetica,sans-Serif\" font-size=\"14.00\">samples = 1.9%</text>\r\n",
       "<text text-anchor=\"middle\" x=\"789\" y=\"-1619.3\" font-family=\"Helvetica,sans-Serif\" font-size=\"14.00\">value = [0.0773, 0.9227]</text>\r\n",
       "<text text-anchor=\"middle\" x=\"789\" y=\"-1604.3\" font-family=\"Helvetica,sans-Serif\" font-size=\"14.00\">class = Alta</text>\r\n",
       "</g>\r\n",
       "<!-- 7&#45;&gt;8 -->\r\n",
       "<g id=\"edge8\" class=\"edge\"><title>7&#45;&gt;8</title>\r\n",
       "<path fill=\"none\" stroke=\"black\" d=\"M619.579,-1601.98C640.479,-1606.45 663.122,-1611.29 684.823,-1615.93\"/>\r\n",
       "<polygon fill=\"black\" stroke=\"black\" points=\"684.207,-1619.38 694.718,-1618.05 685.671,-1612.54 684.207,-1619.38\"/>\r\n",
       "</g>\r\n",
       "<!-- 17 -->\r\n",
       "<g id=\"node18\" class=\"node\"><title>17</title>\r\n",
       "<path fill=\"#5baee9\" stroke=\"black\" d=\"M862,-1578.5C862,-1578.5 716,-1578.5 716,-1578.5 710,-1578.5 704,-1572.5 704,-1566.5 704,-1566.5 704,-1507.5 704,-1507.5 704,-1501.5 710,-1495.5 716,-1495.5 716,-1495.5 862,-1495.5 862,-1495.5 868,-1495.5 874,-1501.5 874,-1507.5 874,-1507.5 874,-1566.5 874,-1566.5 874,-1572.5 868,-1578.5 862,-1578.5\"/>\r\n",
       "<text text-anchor=\"middle\" x=\"789\" y=\"-1563.3\" font-family=\"Helvetica,sans-Serif\" font-size=\"14.00\">channel_XXX &lt;= 0.5</text>\r\n",
       "<text text-anchor=\"middle\" x=\"789\" y=\"-1548.3\" font-family=\"Helvetica,sans-Serif\" font-size=\"14.00\">gini = 0.2512</text>\r\n",
       "<text text-anchor=\"middle\" x=\"789\" y=\"-1533.3\" font-family=\"Helvetica,sans-Serif\" font-size=\"14.00\">samples = 0.9%</text>\r\n",
       "<text text-anchor=\"middle\" x=\"789\" y=\"-1518.3\" font-family=\"Helvetica,sans-Serif\" font-size=\"14.00\">value = [0.1473, 0.8527]</text>\r\n",
       "<text text-anchor=\"middle\" x=\"789\" y=\"-1503.3\" font-family=\"Helvetica,sans-Serif\" font-size=\"14.00\">class = Alta</text>\r\n",
       "</g>\r\n",
       "<!-- 7&#45;&gt;17 -->\r\n",
       "<g id=\"edge17\" class=\"edge\"><title>7&#45;&gt;17</title>\r\n",
       "<path fill=\"none\" stroke=\"black\" d=\"M619.579,-1568.35C643.41,-1563.91 669.505,-1559.06 693.888,-1554.52\"/>\r\n",
       "<polygon fill=\"black\" stroke=\"black\" points=\"694.667,-1557.93 703.858,-1552.66 693.386,-1551.05 694.667,-1557.93\"/>\r\n",
       "</g>\r\n",
       "<!-- 9 -->\r\n",
       "<g id=\"node10\" class=\"node\"><title>9</title>\r\n",
       "<path fill=\"#89c5f0\" stroke=\"black\" d=\"M1136,-1766C1136,-1766 990,-1766 990,-1766 984,-1766 978,-1760 978,-1754 978,-1754 978,-1710 978,-1710 978,-1704 984,-1698 990,-1698 990,-1698 1136,-1698 1136,-1698 1142,-1698 1148,-1704 1148,-1710 1148,-1710 1148,-1754 1148,-1754 1148,-1760 1142,-1766 1136,-1766\"/>\r\n",
       "<text text-anchor=\"middle\" x=\"1063\" y=\"-1750.8\" font-family=\"Helvetica,sans-Serif\" font-size=\"14.00\">gini = 0.4108</text>\r\n",
       "<text text-anchor=\"middle\" x=\"1063\" y=\"-1735.8\" font-family=\"Helvetica,sans-Serif\" font-size=\"14.00\">samples = 0.0%</text>\r\n",
       "<text text-anchor=\"middle\" x=\"1063\" y=\"-1720.8\" font-family=\"Helvetica,sans-Serif\" font-size=\"14.00\">value = [0.2889, 0.7111]</text>\r\n",
       "<text text-anchor=\"middle\" x=\"1063\" y=\"-1705.8\" font-family=\"Helvetica,sans-Serif\" font-size=\"14.00\">class = Alta</text>\r\n",
       "</g>\r\n",
       "<!-- 8&#45;&gt;9 -->\r\n",
       "<g id=\"edge9\" class=\"edge\"><title>8&#45;&gt;9</title>\r\n",
       "<path fill=\"none\" stroke=\"black\" d=\"M883.361,-1671.61C899.878,-1677.47 916.928,-1683.46 933,-1689 944.446,-1692.95 956.484,-1697.04 968.417,-1701.06\"/>\r\n",
       "<polygon fill=\"black\" stroke=\"black\" points=\"967.357,-1704.4 977.951,-1704.26 969.587,-1697.76 967.357,-1704.4\"/>\r\n",
       "</g>\r\n",
       "<!-- 10 -->\r\n",
       "<g id=\"node11\" class=\"node\"><title>10</title>\r\n",
       "<path fill=\"#48a5e7\" stroke=\"black\" d=\"M1142.5,-1679.5C1142.5,-1679.5 983.5,-1679.5 983.5,-1679.5 977.5,-1679.5 971.5,-1673.5 971.5,-1667.5 971.5,-1667.5 971.5,-1608.5 971.5,-1608.5 971.5,-1602.5 977.5,-1596.5 983.5,-1596.5 983.5,-1596.5 1142.5,-1596.5 1142.5,-1596.5 1148.5,-1596.5 1154.5,-1602.5 1154.5,-1608.5 1154.5,-1608.5 1154.5,-1667.5 1154.5,-1667.5 1154.5,-1673.5 1148.5,-1679.5 1142.5,-1679.5\"/>\r\n",
       "<text text-anchor=\"middle\" x=\"1063\" y=\"-1664.3\" font-family=\"Helvetica,sans-Serif\" font-size=\"14.00\">entry_date_month &lt;= 11.5</text>\r\n",
       "<text text-anchor=\"middle\" x=\"1063\" y=\"-1649.3\" font-family=\"Helvetica,sans-Serif\" font-size=\"14.00\">gini = 0.1346</text>\r\n",
       "<text text-anchor=\"middle\" x=\"1063\" y=\"-1634.3\" font-family=\"Helvetica,sans-Serif\" font-size=\"14.00\">samples = 1.8%</text>\r\n",
       "<text text-anchor=\"middle\" x=\"1063\" y=\"-1619.3\" font-family=\"Helvetica,sans-Serif\" font-size=\"14.00\">value = [0.0726, 0.9274]</text>\r\n",
       "<text text-anchor=\"middle\" x=\"1063\" y=\"-1604.3\" font-family=\"Helvetica,sans-Serif\" font-size=\"14.00\">class = Alta</text>\r\n",
       "</g>\r\n",
       "<!-- 8&#45;&gt;10 -->\r\n",
       "<g id=\"edge10\" class=\"edge\"><title>8&#45;&gt;10</title>\r\n",
       "<path fill=\"none\" stroke=\"black\" d=\"M883.226,-1638C908.343,-1638 935.626,-1638 961.138,-1638\"/>\r\n",
       "<polygon fill=\"black\" stroke=\"black\" points=\"961.195,-1641.5 971.195,-1638 961.195,-1634.5 961.195,-1641.5\"/>\r\n",
       "</g>\r\n",
       "<!-- 11 -->\r\n",
       "<g id=\"node12\" class=\"node\"><title>11</title>\r\n",
       "<path fill=\"#47a4e7\" stroke=\"black\" d=\"M1407.5,-1773.5C1407.5,-1773.5 1261.5,-1773.5 1261.5,-1773.5 1255.5,-1773.5 1249.5,-1767.5 1249.5,-1761.5 1249.5,-1761.5 1249.5,-1702.5 1249.5,-1702.5 1249.5,-1696.5 1255.5,-1690.5 1261.5,-1690.5 1261.5,-1690.5 1407.5,-1690.5 1407.5,-1690.5 1413.5,-1690.5 1419.5,-1696.5 1419.5,-1702.5 1419.5,-1702.5 1419.5,-1761.5 1419.5,-1761.5 1419.5,-1767.5 1413.5,-1773.5 1407.5,-1773.5\"/>\r\n",
       "<text text-anchor=\"middle\" x=\"1334.5\" y=\"-1758.3\" font-family=\"Helvetica,sans-Serif\" font-size=\"14.00\">channel_KAT &lt;= 0.5</text>\r\n",
       "<text text-anchor=\"middle\" x=\"1334.5\" y=\"-1743.3\" font-family=\"Helvetica,sans-Serif\" font-size=\"14.00\">gini = 0.1247</text>\r\n",
       "<text text-anchor=\"middle\" x=\"1334.5\" y=\"-1728.3\" font-family=\"Helvetica,sans-Serif\" font-size=\"14.00\">samples = 1.7%</text>\r\n",
       "<text text-anchor=\"middle\" x=\"1334.5\" y=\"-1713.3\" font-family=\"Helvetica,sans-Serif\" font-size=\"14.00\">value = [0.0668, 0.9332]</text>\r\n",
       "<text text-anchor=\"middle\" x=\"1334.5\" y=\"-1698.3\" font-family=\"Helvetica,sans-Serif\" font-size=\"14.00\">class = Alta</text>\r\n",
       "</g>\r\n",
       "<!-- 10&#45;&gt;11 -->\r\n",
       "<g id=\"edge11\" class=\"edge\"><title>10&#45;&gt;11</title>\r\n",
       "<path fill=\"none\" stroke=\"black\" d=\"M1154.86,-1669.69C1182.2,-1679.23 1212.25,-1689.71 1239.77,-1699.31\"/>\r\n",
       "<polygon fill=\"black\" stroke=\"black\" points=\"1238.79,-1702.67 1249.39,-1702.66 1241.1,-1696.06 1238.79,-1702.67\"/>\r\n",
       "</g>\r\n",
       "<!-- 16 -->\r\n",
       "<g id=\"node17\" class=\"node\"><title>16</title>\r\n",
       "<path fill=\"#5eb0ea\" stroke=\"black\" d=\"M1407.5,-1672C1407.5,-1672 1261.5,-1672 1261.5,-1672 1255.5,-1672 1249.5,-1666 1249.5,-1660 1249.5,-1660 1249.5,-1616 1249.5,-1616 1249.5,-1610 1255.5,-1604 1261.5,-1604 1261.5,-1604 1407.5,-1604 1407.5,-1604 1413.5,-1604 1419.5,-1610 1419.5,-1616 1419.5,-1616 1419.5,-1660 1419.5,-1660 1419.5,-1666 1413.5,-1672 1407.5,-1672\"/>\r\n",
       "<text text-anchor=\"middle\" x=\"1334.5\" y=\"-1656.8\" font-family=\"Helvetica,sans-Serif\" font-size=\"14.00\">gini = 0.2677</text>\r\n",
       "<text text-anchor=\"middle\" x=\"1334.5\" y=\"-1641.8\" font-family=\"Helvetica,sans-Serif\" font-size=\"14.00\">samples = 0.1%</text>\r\n",
       "<text text-anchor=\"middle\" x=\"1334.5\" y=\"-1626.8\" font-family=\"Helvetica,sans-Serif\" font-size=\"14.00\">value = [0.1592, 0.8408]</text>\r\n",
       "<text text-anchor=\"middle\" x=\"1334.5\" y=\"-1611.8\" font-family=\"Helvetica,sans-Serif\" font-size=\"14.00\">class = Alta</text>\r\n",
       "</g>\r\n",
       "<!-- 10&#45;&gt;16 -->\r\n",
       "<g id=\"edge16\" class=\"edge\"><title>10&#45;&gt;16</title>\r\n",
       "<path fill=\"none\" stroke=\"black\" d=\"M1154.86,-1638C1181.96,-1638 1211.72,-1638 1239.05,-1638\"/>\r\n",
       "<polygon fill=\"black\" stroke=\"black\" points=\"1239.39,-1641.5 1249.39,-1638 1239.39,-1634.5 1239.39,-1641.5\"/>\r\n",
       "</g>\r\n",
       "<!-- 12 -->\r\n",
       "<g id=\"node13\" class=\"node\"><title>12</title>\r\n",
       "<path fill=\"#47a4e7\" stroke=\"black\" d=\"M1680.5,-1867.5C1680.5,-1867.5 1534.5,-1867.5 1534.5,-1867.5 1528.5,-1867.5 1522.5,-1861.5 1522.5,-1855.5 1522.5,-1855.5 1522.5,-1796.5 1522.5,-1796.5 1522.5,-1790.5 1528.5,-1784.5 1534.5,-1784.5 1534.5,-1784.5 1680.5,-1784.5 1680.5,-1784.5 1686.5,-1784.5 1692.5,-1790.5 1692.5,-1796.5 1692.5,-1796.5 1692.5,-1855.5 1692.5,-1855.5 1692.5,-1861.5 1686.5,-1867.5 1680.5,-1867.5\"/>\r\n",
       "<text text-anchor=\"middle\" x=\"1607.5\" y=\"-1852.3\" font-family=\"Helvetica,sans-Serif\" font-size=\"14.00\">channel_KFC &lt;= 0.5</text>\r\n",
       "<text text-anchor=\"middle\" x=\"1607.5\" y=\"-1837.3\" font-family=\"Helvetica,sans-Serif\" font-size=\"14.00\">gini = 0.1235</text>\r\n",
       "<text text-anchor=\"middle\" x=\"1607.5\" y=\"-1822.3\" font-family=\"Helvetica,sans-Serif\" font-size=\"14.00\">samples = 1.7%</text>\r\n",
       "<text text-anchor=\"middle\" x=\"1607.5\" y=\"-1807.3\" font-family=\"Helvetica,sans-Serif\" font-size=\"14.00\">value = [0.0661, 0.9339]</text>\r\n",
       "<text text-anchor=\"middle\" x=\"1607.5\" y=\"-1792.3\" font-family=\"Helvetica,sans-Serif\" font-size=\"14.00\">class = Alta</text>\r\n",
       "</g>\r\n",
       "<!-- 11&#45;&gt;12 -->\r\n",
       "<g id=\"edge12\" class=\"edge\"><title>11&#45;&gt;12</title>\r\n",
       "<path fill=\"none\" stroke=\"black\" d=\"M1419.76,-1761.23C1449.2,-1771.44 1482.43,-1782.96 1512.61,-1793.43\"/>\r\n",
       "<polygon fill=\"black\" stroke=\"black\" points=\"1511.7,-1796.82 1522.29,-1796.79 1513.99,-1790.21 1511.7,-1796.82\"/>\r\n",
       "</g>\r\n",
       "<!-- 15 -->\r\n",
       "<g id=\"node16\" class=\"node\"><title>15</title>\r\n",
       "<path fill=\"#a4d2f3\" stroke=\"black\" d=\"M1680.5,-1766C1680.5,-1766 1534.5,-1766 1534.5,-1766 1528.5,-1766 1522.5,-1760 1522.5,-1754 1522.5,-1754 1522.5,-1710 1522.5,-1710 1522.5,-1704 1528.5,-1698 1534.5,-1698 1534.5,-1698 1680.5,-1698 1680.5,-1698 1686.5,-1698 1692.5,-1704 1692.5,-1710 1692.5,-1710 1692.5,-1754 1692.5,-1754 1692.5,-1760 1686.5,-1766 1680.5,-1766\"/>\r\n",
       "<text text-anchor=\"middle\" x=\"1607.5\" y=\"-1750.8\" font-family=\"Helvetica,sans-Serif\" font-size=\"14.00\">gini = 0.4559</text>\r\n",
       "<text text-anchor=\"middle\" x=\"1607.5\" y=\"-1735.8\" font-family=\"Helvetica,sans-Serif\" font-size=\"14.00\">samples = 0.0%</text>\r\n",
       "<text text-anchor=\"middle\" x=\"1607.5\" y=\"-1720.8\" font-family=\"Helvetica,sans-Serif\" font-size=\"14.00\">value = [0.3516, 0.6484]</text>\r\n",
       "<text text-anchor=\"middle\" x=\"1607.5\" y=\"-1705.8\" font-family=\"Helvetica,sans-Serif\" font-size=\"14.00\">class = Alta</text>\r\n",
       "</g>\r\n",
       "<!-- 11&#45;&gt;15 -->\r\n",
       "<g id=\"edge15\" class=\"edge\"><title>11&#45;&gt;15</title>\r\n",
       "<path fill=\"none\" stroke=\"black\" d=\"M1419.76,-1732C1449.08,-1732 1482.14,-1732 1512.22,-1732\"/>\r\n",
       "<polygon fill=\"black\" stroke=\"black\" points=\"1512.29,-1735.5 1522.29,-1732 1512.29,-1728.5 1512.29,-1735.5\"/>\r\n",
       "</g>\r\n",
       "<!-- 13 -->\r\n",
       "<g id=\"node14\" class=\"node\"><title>13</title>\r\n",
       "<path fill=\"#47a4e7\" stroke=\"black\" d=\"M1933,-1938C1933,-1938 1787,-1938 1787,-1938 1781,-1938 1775,-1932 1775,-1926 1775,-1926 1775,-1882 1775,-1882 1775,-1876 1781,-1870 1787,-1870 1787,-1870 1933,-1870 1933,-1870 1939,-1870 1945,-1876 1945,-1882 1945,-1882 1945,-1926 1945,-1926 1945,-1932 1939,-1938 1933,-1938\"/>\r\n",
       "<text text-anchor=\"middle\" x=\"1860\" y=\"-1922.8\" font-family=\"Helvetica,sans-Serif\" font-size=\"14.00\">gini = 0.1223</text>\r\n",
       "<text text-anchor=\"middle\" x=\"1860\" y=\"-1907.8\" font-family=\"Helvetica,sans-Serif\" font-size=\"14.00\">samples = 1.7%</text>\r\n",
       "<text text-anchor=\"middle\" x=\"1860\" y=\"-1892.8\" font-family=\"Helvetica,sans-Serif\" font-size=\"14.00\">value = [0.0654, 0.9346]</text>\r\n",
       "<text text-anchor=\"middle\" x=\"1860\" y=\"-1877.8\" font-family=\"Helvetica,sans-Serif\" font-size=\"14.00\">class = Alta</text>\r\n",
       "</g>\r\n",
       "<!-- 12&#45;&gt;13 -->\r\n",
       "<g id=\"edge13\" class=\"edge\"><title>12&#45;&gt;13</title>\r\n",
       "<path fill=\"none\" stroke=\"black\" d=\"M1692.61,-1852.19C1715.85,-1859.42 1741.21,-1867.32 1764.97,-1874.72\"/>\r\n",
       "<polygon fill=\"black\" stroke=\"black\" points=\"1764.1,-1878.12 1774.69,-1877.75 1766.18,-1871.43 1764.1,-1878.12\"/>\r\n",
       "</g>\r\n",
       "<!-- 14 -->\r\n",
       "<g id=\"node15\" class=\"node\"><title>14</title>\r\n",
       "<path fill=\"#9dcff2\" stroke=\"black\" d=\"M1933,-1852C1933,-1852 1787,-1852 1787,-1852 1781,-1852 1775,-1846 1775,-1840 1775,-1840 1775,-1796 1775,-1796 1775,-1790 1781,-1784 1787,-1784 1787,-1784 1933,-1784 1933,-1784 1939,-1784 1945,-1790 1945,-1796 1945,-1796 1945,-1840 1945,-1840 1945,-1846 1939,-1852 1933,-1852\"/>\r\n",
       "<text text-anchor=\"middle\" x=\"1860\" y=\"-1836.8\" font-family=\"Helvetica,sans-Serif\" font-size=\"14.00\">gini = 0.4463</text>\r\n",
       "<text text-anchor=\"middle\" x=\"1860\" y=\"-1821.8\" font-family=\"Helvetica,sans-Serif\" font-size=\"14.00\">samples = 0.0%</text>\r\n",
       "<text text-anchor=\"middle\" x=\"1860\" y=\"-1806.8\" font-family=\"Helvetica,sans-Serif\" font-size=\"14.00\">value = [0.3361, 0.6639]</text>\r\n",
       "<text text-anchor=\"middle\" x=\"1860\" y=\"-1791.8\" font-family=\"Helvetica,sans-Serif\" font-size=\"14.00\">class = Alta</text>\r\n",
       "</g>\r\n",
       "<!-- 12&#45;&gt;14 -->\r\n",
       "<g id=\"edge14\" class=\"edge\"><title>12&#45;&gt;14</title>\r\n",
       "<path fill=\"none\" stroke=\"black\" d=\"M1692.61,-1823.31C1715.74,-1822.58 1740.98,-1821.77 1764.65,-1821.01\"/>\r\n",
       "<polygon fill=\"black\" stroke=\"black\" points=\"1764.8,-1824.51 1774.69,-1820.69 1764.58,-1817.51 1764.8,-1824.51\"/>\r\n",
       "</g>\r\n",
       "<!-- 18 -->\r\n",
       "<g id=\"node19\" class=\"node\"><title>18</title>\r\n",
       "<path fill=\"#45a3e7\" stroke=\"black\" d=\"M1136,-1578C1136,-1578 990,-1578 990,-1578 984,-1578 978,-1572 978,-1566 978,-1566 978,-1522 978,-1522 978,-1516 984,-1510 990,-1510 990,-1510 1136,-1510 1136,-1510 1142,-1510 1148,-1516 1148,-1522 1148,-1522 1148,-1566 1148,-1566 1148,-1572 1142,-1578 1136,-1578\"/>\r\n",
       "<text text-anchor=\"middle\" x=\"1063\" y=\"-1562.8\" font-family=\"Helvetica,sans-Serif\" font-size=\"14.00\">gini = 0.1115</text>\r\n",
       "<text text-anchor=\"middle\" x=\"1063\" y=\"-1547.8\" font-family=\"Helvetica,sans-Serif\" font-size=\"14.00\">samples = 0.3%</text>\r\n",
       "<text text-anchor=\"middle\" x=\"1063\" y=\"-1532.8\" font-family=\"Helvetica,sans-Serif\" font-size=\"14.00\">value = [0.0592, 0.9408]</text>\r\n",
       "<text text-anchor=\"middle\" x=\"1063\" y=\"-1517.8\" font-family=\"Helvetica,sans-Serif\" font-size=\"14.00\">class = Alta</text>\r\n",
       "</g>\r\n",
       "<!-- 17&#45;&gt;18 -->\r\n",
       "<g id=\"edge18\" class=\"edge\"><title>17&#45;&gt;18</title>\r\n",
       "<path fill=\"none\" stroke=\"black\" d=\"M874.2,-1539.17C903.777,-1539.93 937.197,-1540.79 967.56,-1541.57\"/>\r\n",
       "<polygon fill=\"black\" stroke=\"black\" points=\"967.643,-1545.07 977.73,-1541.83 967.823,-1538.08 967.643,-1545.07\"/>\r\n",
       "</g>\r\n",
       "<!-- 19 -->\r\n",
       "<g id=\"node20\" class=\"node\"><title>19</title>\r\n",
       "<path fill=\"#6ab5eb\" stroke=\"black\" d=\"M1136,-1491.5C1136,-1491.5 990,-1491.5 990,-1491.5 984,-1491.5 978,-1485.5 978,-1479.5 978,-1479.5 978,-1420.5 978,-1420.5 978,-1414.5 984,-1408.5 990,-1408.5 990,-1408.5 1136,-1408.5 1136,-1408.5 1142,-1408.5 1148,-1414.5 1148,-1420.5 1148,-1420.5 1148,-1479.5 1148,-1479.5 1148,-1485.5 1142,-1491.5 1136,-1491.5\"/>\r\n",
       "<text text-anchor=\"middle\" x=\"1063\" y=\"-1476.3\" font-family=\"Helvetica,sans-Serif\" font-size=\"14.00\">entry_date_day &lt;= 28.5</text>\r\n",
       "<text text-anchor=\"middle\" x=\"1063\" y=\"-1461.3\" font-family=\"Helvetica,sans-Serif\" font-size=\"14.00\">gini = 0.3167</text>\r\n",
       "<text text-anchor=\"middle\" x=\"1063\" y=\"-1446.3\" font-family=\"Helvetica,sans-Serif\" font-size=\"14.00\">samples = 0.6%</text>\r\n",
       "<text text-anchor=\"middle\" x=\"1063\" y=\"-1431.3\" font-family=\"Helvetica,sans-Serif\" font-size=\"14.00\">value = [0.1972, 0.8028]</text>\r\n",
       "<text text-anchor=\"middle\" x=\"1063\" y=\"-1416.3\" font-family=\"Helvetica,sans-Serif\" font-size=\"14.00\">class = Alta</text>\r\n",
       "</g>\r\n",
       "<!-- 17&#45;&gt;19 -->\r\n",
       "<g id=\"edge19\" class=\"edge\"><title>17&#45;&gt;19</title>\r\n",
       "<path fill=\"none\" stroke=\"black\" d=\"M874.2,-1510.07C903.906,-1500.57 937.488,-1489.83 967.956,-1480.08\"/>\r\n",
       "<polygon fill=\"black\" stroke=\"black\" points=\"969.271,-1483.33 977.73,-1476.95 967.139,-1476.67 969.271,-1483.33\"/>\r\n",
       "</g>\r\n",
       "<!-- 20 -->\r\n",
       "<g id=\"node21\" class=\"node\"><title>20</title>\r\n",
       "<path fill=\"#60b0ea\" stroke=\"black\" d=\"M1414,-1585.5C1414,-1585.5 1255,-1585.5 1255,-1585.5 1249,-1585.5 1243,-1579.5 1243,-1573.5 1243,-1573.5 1243,-1514.5 1243,-1514.5 1243,-1508.5 1249,-1502.5 1255,-1502.5 1255,-1502.5 1414,-1502.5 1414,-1502.5 1420,-1502.5 1426,-1508.5 1426,-1514.5 1426,-1514.5 1426,-1573.5 1426,-1573.5 1426,-1579.5 1420,-1585.5 1414,-1585.5\"/>\r\n",
       "<text text-anchor=\"middle\" x=\"1334.5\" y=\"-1570.3\" font-family=\"Helvetica,sans-Serif\" font-size=\"14.00\">entry_date_month &lt;= 10.5</text>\r\n",
       "<text text-anchor=\"middle\" x=\"1334.5\" y=\"-1555.3\" font-family=\"Helvetica,sans-Serif\" font-size=\"14.00\">gini = 0.2744</text>\r\n",
       "<text text-anchor=\"middle\" x=\"1334.5\" y=\"-1540.3\" font-family=\"Helvetica,sans-Serif\" font-size=\"14.00\">samples = 0.6%</text>\r\n",
       "<text text-anchor=\"middle\" x=\"1334.5\" y=\"-1525.3\" font-family=\"Helvetica,sans-Serif\" font-size=\"14.00\">value = [0.1641, 0.8359]</text>\r\n",
       "<text text-anchor=\"middle\" x=\"1334.5\" y=\"-1510.3\" font-family=\"Helvetica,sans-Serif\" font-size=\"14.00\">class = Alta</text>\r\n",
       "</g>\r\n",
       "<!-- 19&#45;&gt;20 -->\r\n",
       "<g id=\"edge20\" class=\"edge\"><title>19&#45;&gt;20</title>\r\n",
       "<path fill=\"none\" stroke=\"black\" d=\"M1148.16,-1479.36C1175.1,-1488.75 1205.2,-1499.25 1233.17,-1509.01\"/>\r\n",
       "<polygon fill=\"black\" stroke=\"black\" points=\"1232.38,-1512.44 1242.97,-1512.42 1234.68,-1505.83 1232.38,-1512.44\"/>\r\n",
       "</g>\r\n",
       "<!-- 25 -->\r\n",
       "<g id=\"node26\" class=\"node\"><title>25</title>\r\n",
       "<path fill=\"#e88e4d\" stroke=\"black\" d=\"M1407.5,-1484C1407.5,-1484 1261.5,-1484 1261.5,-1484 1255.5,-1484 1249.5,-1478 1249.5,-1472 1249.5,-1472 1249.5,-1428 1249.5,-1428 1249.5,-1422 1255.5,-1416 1261.5,-1416 1261.5,-1416 1407.5,-1416 1407.5,-1416 1413.5,-1416 1419.5,-1422 1419.5,-1428 1419.5,-1428 1419.5,-1472 1419.5,-1472 1419.5,-1478 1413.5,-1484 1407.5,-1484\"/>\r\n",
       "<text text-anchor=\"middle\" x=\"1334.5\" y=\"-1468.8\" font-family=\"Helvetica,sans-Serif\" font-size=\"14.00\">gini = 0.1665</text>\r\n",
       "<text text-anchor=\"middle\" x=\"1334.5\" y=\"-1453.8\" font-family=\"Helvetica,sans-Serif\" font-size=\"14.00\">samples = 0.0%</text>\r\n",
       "<text text-anchor=\"middle\" x=\"1334.5\" y=\"-1438.8\" font-family=\"Helvetica,sans-Serif\" font-size=\"14.00\">value = [0.9084, 0.0916]</text>\r\n",
       "<text text-anchor=\"middle\" x=\"1334.5\" y=\"-1423.8\" font-family=\"Helvetica,sans-Serif\" font-size=\"14.00\">class = No alta</text>\r\n",
       "</g>\r\n",
       "<!-- 19&#45;&gt;25 -->\r\n",
       "<g id=\"edge25\" class=\"edge\"><title>19&#45;&gt;25</title>\r\n",
       "<path fill=\"none\" stroke=\"black\" d=\"M1148.16,-1450C1176.9,-1450 1209.23,-1450 1238.74,-1450\"/>\r\n",
       "<polygon fill=\"black\" stroke=\"black\" points=\"1239.05,-1453.5 1249.05,-1450 1239.05,-1446.5 1239.05,-1453.5\"/>\r\n",
       "</g>\r\n",
       "<!-- 21 -->\r\n",
       "<g id=\"node22\" class=\"node\"><title>21</title>\r\n",
       "<path fill=\"#57ace9\" stroke=\"black\" d=\"M1683,-1678.5C1683,-1678.5 1532,-1678.5 1532,-1678.5 1526,-1678.5 1520,-1672.5 1520,-1666.5 1520,-1666.5 1520,-1607.5 1520,-1607.5 1520,-1601.5 1526,-1595.5 1532,-1595.5 1532,-1595.5 1683,-1595.5 1683,-1595.5 1689,-1595.5 1695,-1601.5 1695,-1607.5 1695,-1607.5 1695,-1666.5 1695,-1666.5 1695,-1672.5 1689,-1678.5 1683,-1678.5\"/>\r\n",
       "<text text-anchor=\"middle\" x=\"1607.5\" y=\"-1663.3\" font-family=\"Helvetica,sans-Serif\" font-size=\"14.00\">entry_date_month &lt;= 7.5</text>\r\n",
       "<text text-anchor=\"middle\" x=\"1607.5\" y=\"-1648.3\" font-family=\"Helvetica,sans-Serif\" font-size=\"14.00\">gini = 0.2282</text>\r\n",
       "<text text-anchor=\"middle\" x=\"1607.5\" y=\"-1633.3\" font-family=\"Helvetica,sans-Serif\" font-size=\"14.00\">samples = 0.5%</text>\r\n",
       "<text text-anchor=\"middle\" x=\"1607.5\" y=\"-1618.3\" font-family=\"Helvetica,sans-Serif\" font-size=\"14.00\">value = [0.1314, 0.8686]</text>\r\n",
       "<text text-anchor=\"middle\" x=\"1607.5\" y=\"-1603.3\" font-family=\"Helvetica,sans-Serif\" font-size=\"14.00\">class = Alta</text>\r\n",
       "</g>\r\n",
       "<!-- 20&#45;&gt;21 -->\r\n",
       "<g id=\"edge21\" class=\"edge\"><title>20&#45;&gt;21</title>\r\n",
       "<path fill=\"none\" stroke=\"black\" d=\"M1426.12,-1575.1C1453.09,-1584.36 1482.75,-1594.53 1510.08,-1603.91\"/>\r\n",
       "<polygon fill=\"black\" stroke=\"black\" points=\"1509.05,-1607.26 1519.64,-1607.19 1511.32,-1600.64 1509.05,-1607.26\"/>\r\n",
       "</g>\r\n",
       "<!-- 24 -->\r\n",
       "<g id=\"node25\" class=\"node\"><title>24</title>\r\n",
       "<path fill=\"#b5daf5\" stroke=\"black\" d=\"M1680.5,-1577C1680.5,-1577 1534.5,-1577 1534.5,-1577 1528.5,-1577 1522.5,-1571 1522.5,-1565 1522.5,-1565 1522.5,-1521 1522.5,-1521 1522.5,-1515 1528.5,-1509 1534.5,-1509 1534.5,-1509 1680.5,-1509 1680.5,-1509 1686.5,-1509 1692.5,-1515 1692.5,-1521 1692.5,-1521 1692.5,-1565 1692.5,-1565 1692.5,-1571 1686.5,-1577 1680.5,-1577\"/>\r\n",
       "<text text-anchor=\"middle\" x=\"1607.5\" y=\"-1561.8\" font-family=\"Helvetica,sans-Serif\" font-size=\"14.00\">gini = 0.4732</text>\r\n",
       "<text text-anchor=\"middle\" x=\"1607.5\" y=\"-1546.8\" font-family=\"Helvetica,sans-Serif\" font-size=\"14.00\">samples = 0.1%</text>\r\n",
       "<text text-anchor=\"middle\" x=\"1607.5\" y=\"-1531.8\" font-family=\"Helvetica,sans-Serif\" font-size=\"14.00\">value = [0.3842, 0.6158]</text>\r\n",
       "<text text-anchor=\"middle\" x=\"1607.5\" y=\"-1516.8\" font-family=\"Helvetica,sans-Serif\" font-size=\"14.00\">class = Alta</text>\r\n",
       "</g>\r\n",
       "<!-- 20&#45;&gt;24 -->\r\n",
       "<g id=\"edge24\" class=\"edge\"><title>20&#45;&gt;24</title>\r\n",
       "<path fill=\"none\" stroke=\"black\" d=\"M1426.12,-1543.67C1453.8,-1543.56 1484.3,-1543.45 1512.22,-1543.35\"/>\r\n",
       "<polygon fill=\"black\" stroke=\"black\" points=\"1512.39,-1546.85 1522.38,-1543.31 1512.36,-1539.85 1512.39,-1546.85\"/>\r\n",
       "</g>\r\n",
       "<!-- 22 -->\r\n",
       "<g id=\"node23\" class=\"node\"><title>22</title>\r\n",
       "<path fill=\"#48a4e7\" stroke=\"black\" d=\"M1933,-1745C1933,-1745 1787,-1745 1787,-1745 1781,-1745 1775,-1739 1775,-1733 1775,-1733 1775,-1689 1775,-1689 1775,-1683 1781,-1677 1787,-1677 1787,-1677 1933,-1677 1933,-1677 1939,-1677 1945,-1683 1945,-1689 1945,-1689 1945,-1733 1945,-1733 1945,-1739 1939,-1745 1933,-1745\"/>\r\n",
       "<text text-anchor=\"middle\" x=\"1860\" y=\"-1729.8\" font-family=\"Helvetica,sans-Serif\" font-size=\"14.00\">gini = 0.1303</text>\r\n",
       "<text text-anchor=\"middle\" x=\"1860\" y=\"-1714.8\" font-family=\"Helvetica,sans-Serif\" font-size=\"14.00\">samples = 0.2%</text>\r\n",
       "<text text-anchor=\"middle\" x=\"1860\" y=\"-1699.8\" font-family=\"Helvetica,sans-Serif\" font-size=\"14.00\">value = [0.0701, 0.9299]</text>\r\n",
       "<text text-anchor=\"middle\" x=\"1860\" y=\"-1684.8\" font-family=\"Helvetica,sans-Serif\" font-size=\"14.00\">class = Alta</text>\r\n",
       "</g>\r\n",
       "<!-- 21&#45;&gt;22 -->\r\n",
       "<g id=\"edge22\" class=\"edge\"><title>21&#45;&gt;22</title>\r\n",
       "<path fill=\"none\" stroke=\"black\" d=\"M1695.06,-1662.57C1717.7,-1669.26 1742.22,-1676.5 1765.22,-1683.3\"/>\r\n",
       "<polygon fill=\"black\" stroke=\"black\" points=\"1764.39,-1686.7 1774.98,-1686.18 1766.38,-1679.99 1764.39,-1686.7\"/>\r\n",
       "</g>\r\n",
       "<!-- 23 -->\r\n",
       "<g id=\"node24\" class=\"node\"><title>23</title>\r\n",
       "<path fill=\"#61b1ea\" stroke=\"black\" d=\"M1933,-1659C1933,-1659 1787,-1659 1787,-1659 1781,-1659 1775,-1653 1775,-1647 1775,-1647 1775,-1603 1775,-1603 1775,-1597 1781,-1591 1787,-1591 1787,-1591 1933,-1591 1933,-1591 1939,-1591 1945,-1597 1945,-1603 1945,-1603 1945,-1647 1945,-1647 1945,-1653 1939,-1659 1933,-1659\"/>\r\n",
       "<text text-anchor=\"middle\" x=\"1860\" y=\"-1643.8\" font-family=\"Helvetica,sans-Serif\" font-size=\"14.00\">gini = 0.2818</text>\r\n",
       "<text text-anchor=\"middle\" x=\"1860\" y=\"-1628.8\" font-family=\"Helvetica,sans-Serif\" font-size=\"14.00\">samples = 0.3%</text>\r\n",
       "<text text-anchor=\"middle\" x=\"1860\" y=\"-1613.8\" font-family=\"Helvetica,sans-Serif\" font-size=\"14.00\">value = [0.1697, 0.8303]</text>\r\n",
       "<text text-anchor=\"middle\" x=\"1860\" y=\"-1598.8\" font-family=\"Helvetica,sans-Serif\" font-size=\"14.00\">class = Alta</text>\r\n",
       "</g>\r\n",
       "<!-- 21&#45;&gt;23 -->\r\n",
       "<g id=\"edge23\" class=\"edge\"><title>21&#45;&gt;23</title>\r\n",
       "<path fill=\"none\" stroke=\"black\" d=\"M1695.06,-1632.85C1717.6,-1631.77 1742,-1630.6 1764.91,-1629.51\"/>\r\n",
       "<polygon fill=\"black\" stroke=\"black\" points=\"1765.15,-1633 1774.98,-1629.03 1764.82,-1626.01 1765.15,-1633\"/>\r\n",
       "</g>\r\n",
       "<!-- 27 -->\r\n",
       "<g id=\"node28\" class=\"node\"><title>27</title>\r\n",
       "<path fill=\"#e99558\" stroke=\"black\" d=\"M613.5,-1161.5C613.5,-1161.5 455.5,-1161.5 455.5,-1161.5 449.5,-1161.5 443.5,-1155.5 443.5,-1149.5 443.5,-1149.5 443.5,-1090.5 443.5,-1090.5 443.5,-1084.5 449.5,-1078.5 455.5,-1078.5 455.5,-1078.5 613.5,-1078.5 613.5,-1078.5 619.5,-1078.5 625.5,-1084.5 625.5,-1090.5 625.5,-1090.5 625.5,-1149.5 625.5,-1149.5 625.5,-1155.5 619.5,-1161.5 613.5,-1161.5\"/>\r\n",
       "<text text-anchor=\"middle\" x=\"534.5\" y=\"-1146.3\" font-family=\"Helvetica,sans-Serif\" font-size=\"14.00\">totalAssets_shift_1 &lt;= 3.5</text>\r\n",
       "<text text-anchor=\"middle\" x=\"534.5\" y=\"-1131.3\" font-family=\"Helvetica,sans-Serif\" font-size=\"14.00\">gini = 0.2356</text>\r\n",
       "<text text-anchor=\"middle\" x=\"534.5\" y=\"-1116.3\" font-family=\"Helvetica,sans-Serif\" font-size=\"14.00\">samples = 8.8%</text>\r\n",
       "<text text-anchor=\"middle\" x=\"534.5\" y=\"-1101.3\" font-family=\"Helvetica,sans-Serif\" font-size=\"14.00\">value = [0.8636, 0.1364]</text>\r\n",
       "<text text-anchor=\"middle\" x=\"534.5\" y=\"-1086.3\" font-family=\"Helvetica,sans-Serif\" font-size=\"14.00\">class = No alta</text>\r\n",
       "</g>\r\n",
       "<!-- 26&#45;&gt;27 -->\r\n",
       "<g id=\"edge27\" class=\"edge\"><title>26&#45;&gt;27</title>\r\n",
       "<path fill=\"none\" stroke=\"black\" d=\"M388.04,-1120C402.705,-1120 417.978,-1120 432.877,-1120\"/>\r\n",
       "<polygon fill=\"black\" stroke=\"black\" points=\"433.12,-1123.5 443.12,-1120 433.12,-1116.5 433.12,-1123.5\"/>\r\n",
       "</g>\r\n",
       "<!-- 54 -->\r\n",
       "<g id=\"node55\" class=\"node\"><title>54</title>\r\n",
       "<path fill=\"#e6843e\" stroke=\"black\" d=\"M633,-757.5C633,-757.5 436,-757.5 436,-757.5 430,-757.5 424,-751.5 424,-745.5 424,-745.5 424,-686.5 424,-686.5 424,-680.5 430,-674.5 436,-674.5 436,-674.5 633,-674.5 633,-674.5 639,-674.5 645,-680.5 645,-686.5 645,-686.5 645,-745.5 645,-745.5 645,-751.5 639,-757.5 633,-757.5\"/>\r\n",
       "<text text-anchor=\"middle\" x=\"534.5\" y=\"-742.3\" font-family=\"Helvetica,sans-Serif\" font-size=\"14.00\">dif_pension_plan_shift_1 &lt;= 0.5</text>\r\n",
       "<text text-anchor=\"middle\" x=\"534.5\" y=\"-727.3\" font-family=\"Helvetica,sans-Serif\" font-size=\"14.00\">gini = 0.0436</text>\r\n",
       "<text text-anchor=\"middle\" x=\"534.5\" y=\"-712.3\" font-family=\"Helvetica,sans-Serif\" font-size=\"14.00\">samples = 87.8%</text>\r\n",
       "<text text-anchor=\"middle\" x=\"534.5\" y=\"-697.3\" font-family=\"Helvetica,sans-Serif\" font-size=\"14.00\">value = [0.9777, 0.0223]</text>\r\n",
       "<text text-anchor=\"middle\" x=\"534.5\" y=\"-682.3\" font-family=\"Helvetica,sans-Serif\" font-size=\"14.00\">class = No alta</text>\r\n",
       "</g>\r\n",
       "<!-- 26&#45;&gt;54 -->\r\n",
       "<g id=\"edge54\" class=\"edge\"><title>26&#45;&gt;54</title>\r\n",
       "<path fill=\"none\" stroke=\"black\" d=\"M322.316,-1078.29C365.825,-1003.65 456.836,-847.518 503.9,-766.779\"/>\r\n",
       "<polygon fill=\"black\" stroke=\"black\" points=\"507.128,-768.191 509.14,-757.789 501.081,-764.665 507.128,-768.191\"/>\r\n",
       "</g>\r\n",
       "<!-- 28 -->\r\n",
       "<g id=\"node29\" class=\"node\"><title>28</title>\r\n",
       "<path fill=\"#eb9d65\" stroke=\"black\" d=\"M866.5,-1212.5C866.5,-1212.5 711.5,-1212.5 711.5,-1212.5 705.5,-1212.5 699.5,-1206.5 699.5,-1200.5 699.5,-1200.5 699.5,-1141.5 699.5,-1141.5 699.5,-1135.5 705.5,-1129.5 711.5,-1129.5 711.5,-1129.5 866.5,-1129.5 866.5,-1129.5 872.5,-1129.5 878.5,-1135.5 878.5,-1141.5 878.5,-1141.5 878.5,-1200.5 878.5,-1200.5 878.5,-1206.5 872.5,-1212.5 866.5,-1212.5\"/>\r\n",
       "<text text-anchor=\"middle\" x=\"789\" y=\"-1197.3\" font-family=\"Helvetica,sans-Serif\" font-size=\"14.00\">debit_card_shift_2 &lt;= 0.5</text>\r\n",
       "<text text-anchor=\"middle\" x=\"789\" y=\"-1182.3\" font-family=\"Helvetica,sans-Serif\" font-size=\"14.00\">gini = 0.2985</text>\r\n",
       "<text text-anchor=\"middle\" x=\"789\" y=\"-1167.3\" font-family=\"Helvetica,sans-Serif\" font-size=\"14.00\">samples = 6.0%</text>\r\n",
       "<text text-anchor=\"middle\" x=\"789\" y=\"-1152.3\" font-family=\"Helvetica,sans-Serif\" font-size=\"14.00\">value = [0.8174, 0.1826]</text>\r\n",
       "<text text-anchor=\"middle\" x=\"789\" y=\"-1137.3\" font-family=\"Helvetica,sans-Serif\" font-size=\"14.00\">class = No alta</text>\r\n",
       "</g>\r\n",
       "<!-- 27&#45;&gt;28 -->\r\n",
       "<g id=\"edge28\" class=\"edge\"><title>27&#45;&gt;28</title>\r\n",
       "<path fill=\"none\" stroke=\"black\" d=\"M625.589,-1138.2C646.252,-1142.37 668.326,-1146.83 689.33,-1151.07\"/>\r\n",
       "<polygon fill=\"black\" stroke=\"black\" points=\"688.724,-1154.52 699.219,-1153.07 690.11,-1147.66 688.724,-1154.52\"/>\r\n",
       "</g>\r\n",
       "<!-- 45 -->\r\n",
       "<g id=\"node46\" class=\"node\"><title>45</title>\r\n",
       "<path fill=\"#e68640\" stroke=\"black\" d=\"M882.5,-1111.5C882.5,-1111.5 695.5,-1111.5 695.5,-1111.5 689.5,-1111.5 683.5,-1105.5 683.5,-1099.5 683.5,-1099.5 683.5,-1040.5 683.5,-1040.5 683.5,-1034.5 689.5,-1028.5 695.5,-1028.5 695.5,-1028.5 882.5,-1028.5 882.5,-1028.5 888.5,-1028.5 894.5,-1034.5 894.5,-1040.5 894.5,-1040.5 894.5,-1099.5 894.5,-1099.5 894.5,-1105.5 888.5,-1111.5 882.5,-1111.5\"/>\r\n",
       "<text text-anchor=\"middle\" x=\"789\" y=\"-1096.3\" font-family=\"Helvetica,sans-Serif\" font-size=\"14.00\">payroll_account_shift_1 &lt;= 0.5</text>\r\n",
       "<text text-anchor=\"middle\" x=\"789\" y=\"-1081.3\" font-family=\"Helvetica,sans-Serif\" font-size=\"14.00\">gini = 0.0703</text>\r\n",
       "<text text-anchor=\"middle\" x=\"789\" y=\"-1066.3\" font-family=\"Helvetica,sans-Serif\" font-size=\"14.00\">samples = 2.8%</text>\r\n",
       "<text text-anchor=\"middle\" x=\"789\" y=\"-1051.3\" font-family=\"Helvetica,sans-Serif\" font-size=\"14.00\">value = [0.9635, 0.0365]</text>\r\n",
       "<text text-anchor=\"middle\" x=\"789\" y=\"-1036.3\" font-family=\"Helvetica,sans-Serif\" font-size=\"14.00\">class = No alta</text>\r\n",
       "</g>\r\n",
       "<!-- 27&#45;&gt;45 -->\r\n",
       "<g id=\"edge45\" class=\"edge\"><title>27&#45;&gt;45</title>\r\n",
       "<path fill=\"none\" stroke=\"black\" d=\"M625.589,-1102.16C641.071,-1099.09 657.345,-1095.87 673.368,-1092.7\"/>\r\n",
       "<polygon fill=\"black\" stroke=\"black\" points=\"674.172,-1096.11 683.302,-1090.73 672.813,-1089.24 674.172,-1096.11\"/>\r\n",
       "</g>\r\n",
       "<!-- 29 -->\r\n",
       "<g id=\"node30\" class=\"node\"><title>29</title>\r\n",
       "<path fill=\"#e99457\" stroke=\"black\" d=\"M1181,-1310.5C1181,-1310.5 945,-1310.5 945,-1310.5 939,-1310.5 933,-1304.5 933,-1298.5 933,-1298.5 933,-1239.5 933,-1239.5 933,-1233.5 939,-1227.5 945,-1227.5 945,-1227.5 1181,-1227.5 1181,-1227.5 1187,-1227.5 1193,-1233.5 1193,-1239.5 1193,-1239.5 1193,-1298.5 1193,-1298.5 1193,-1304.5 1187,-1310.5 1181,-1310.5\"/>\r\n",
       "<text text-anchor=\"middle\" x=\"1063\" y=\"-1295.3\" font-family=\"Helvetica,sans-Serif\" font-size=\"14.00\">dif_short_term_deposit_shift_3 &lt;= 0.5</text>\r\n",
       "<text text-anchor=\"middle\" x=\"1063\" y=\"-1280.3\" font-family=\"Helvetica,sans-Serif\" font-size=\"14.00\">gini = 0.2262</text>\r\n",
       "<text text-anchor=\"middle\" x=\"1063\" y=\"-1265.3\" font-family=\"Helvetica,sans-Serif\" font-size=\"14.00\">samples = 4.6%</text>\r\n",
       "<text text-anchor=\"middle\" x=\"1063\" y=\"-1250.3\" font-family=\"Helvetica,sans-Serif\" font-size=\"14.00\">value = [0.87, 0.13]</text>\r\n",
       "<text text-anchor=\"middle\" x=\"1063\" y=\"-1235.3\" font-family=\"Helvetica,sans-Serif\" font-size=\"14.00\">class = No alta</text>\r\n",
       "</g>\r\n",
       "<!-- 28&#45;&gt;29 -->\r\n",
       "<g id=\"edge29\" class=\"edge\"><title>28&#45;&gt;29</title>\r\n",
       "<path fill=\"none\" stroke=\"black\" d=\"M878.687,-1202.95C897.339,-1209.67 917.347,-1216.88 937.044,-1223.98\"/>\r\n",
       "<polygon fill=\"black\" stroke=\"black\" points=\"936.087,-1227.35 946.681,-1227.45 938.46,-1220.77 936.087,-1227.35\"/>\r\n",
       "</g>\r\n",
       "<!-- 38 -->\r\n",
       "<g id=\"node39\" class=\"node\"><title>38</title>\r\n",
       "<path fill=\"#f3c6a5\" stroke=\"black\" d=\"M1156.5,-1209.5C1156.5,-1209.5 969.5,-1209.5 969.5,-1209.5 963.5,-1209.5 957.5,-1203.5 957.5,-1197.5 957.5,-1197.5 957.5,-1138.5 957.5,-1138.5 957.5,-1132.5 963.5,-1126.5 969.5,-1126.5 969.5,-1126.5 1156.5,-1126.5 1156.5,-1126.5 1162.5,-1126.5 1168.5,-1132.5 1168.5,-1138.5 1168.5,-1138.5 1168.5,-1197.5 1168.5,-1197.5 1168.5,-1203.5 1162.5,-1209.5 1156.5,-1209.5\"/>\r\n",
       "<text text-anchor=\"middle\" x=\"1063\" y=\"-1194.3\" font-family=\"Helvetica,sans-Serif\" font-size=\"14.00\">payroll_account_shift_1 &lt;= 0.5</text>\r\n",
       "<text text-anchor=\"middle\" x=\"1063\" y=\"-1179.3\" font-family=\"Helvetica,sans-Serif\" font-size=\"14.00\">gini = 0.4564</text>\r\n",
       "<text text-anchor=\"middle\" x=\"1063\" y=\"-1164.3\" font-family=\"Helvetica,sans-Serif\" font-size=\"14.00\">samples = 1.4%</text>\r\n",
       "<text text-anchor=\"middle\" x=\"1063\" y=\"-1149.3\" font-family=\"Helvetica,sans-Serif\" font-size=\"14.00\">value = [0.6477, 0.3523]</text>\r\n",
       "<text text-anchor=\"middle\" x=\"1063\" y=\"-1134.3\" font-family=\"Helvetica,sans-Serif\" font-size=\"14.00\">class = No alta</text>\r\n",
       "</g>\r\n",
       "<!-- 28&#45;&gt;38 -->\r\n",
       "<g id=\"edge38\" class=\"edge\"><title>28&#45;&gt;38</title>\r\n",
       "<path fill=\"none\" stroke=\"black\" d=\"M878.687,-1170.02C900.564,-1169.78 924.307,-1169.52 947.226,-1169.27\"/>\r\n",
       "<polygon fill=\"black\" stroke=\"black\" points=\"947.377,-1172.76 957.338,-1169.15 947.3,-1165.76 947.377,-1172.76\"/>\r\n",
       "</g>\r\n",
       "<!-- 30 -->\r\n",
       "<g id=\"node31\" class=\"node\"><title>30</title>\r\n",
       "<path fill=\"#e99355\" stroke=\"black\" d=\"M1428,-1397.5C1428,-1397.5 1241,-1397.5 1241,-1397.5 1235,-1397.5 1229,-1391.5 1229,-1385.5 1229,-1385.5 1229,-1326.5 1229,-1326.5 1229,-1320.5 1235,-1314.5 1241,-1314.5 1241,-1314.5 1428,-1314.5 1428,-1314.5 1434,-1314.5 1440,-1320.5 1440,-1326.5 1440,-1326.5 1440,-1385.5 1440,-1385.5 1440,-1391.5 1434,-1397.5 1428,-1397.5\"/>\r\n",
       "<text text-anchor=\"middle\" x=\"1334.5\" y=\"-1382.3\" font-family=\"Helvetica,sans-Serif\" font-size=\"14.00\">payroll_account_shift_1 &lt;= 0.5</text>\r\n",
       "<text text-anchor=\"middle\" x=\"1334.5\" y=\"-1367.3\" font-family=\"Helvetica,sans-Serif\" font-size=\"14.00\">gini = 0.2188</text>\r\n",
       "<text text-anchor=\"middle\" x=\"1334.5\" y=\"-1352.3\" font-family=\"Helvetica,sans-Serif\" font-size=\"14.00\">samples = 4.6%</text>\r\n",
       "<text text-anchor=\"middle\" x=\"1334.5\" y=\"-1337.3\" font-family=\"Helvetica,sans-Serif\" font-size=\"14.00\">value = [0.875, 0.125]</text>\r\n",
       "<text text-anchor=\"middle\" x=\"1334.5\" y=\"-1322.3\" font-family=\"Helvetica,sans-Serif\" font-size=\"14.00\">class = No alta</text>\r\n",
       "</g>\r\n",
       "<!-- 29&#45;&gt;30 -->\r\n",
       "<g id=\"edge30\" class=\"edge\"><title>29&#45;&gt;30</title>\r\n",
       "<path fill=\"none\" stroke=\"black\" d=\"M1192.83,-1310.59C1201.58,-1313.41 1210.37,-1316.25 1219.04,-1319.05\"/>\r\n",
       "<polygon fill=\"black\" stroke=\"black\" points=\"1218.18,-1322.45 1228.77,-1322.19 1220.33,-1315.79 1218.18,-1322.45\"/>\r\n",
       "</g>\r\n",
       "<!-- 37 -->\r\n",
       "<g id=\"node38\" class=\"node\"><title>37</title>\r\n",
       "<path fill=\"#5dafea\" stroke=\"black\" d=\"M1407.5,-1296C1407.5,-1296 1261.5,-1296 1261.5,-1296 1255.5,-1296 1249.5,-1290 1249.5,-1284 1249.5,-1284 1249.5,-1240 1249.5,-1240 1249.5,-1234 1255.5,-1228 1261.5,-1228 1261.5,-1228 1407.5,-1228 1407.5,-1228 1413.5,-1228 1419.5,-1234 1419.5,-1240 1419.5,-1240 1419.5,-1284 1419.5,-1284 1419.5,-1290 1413.5,-1296 1407.5,-1296\"/>\r\n",
       "<text text-anchor=\"middle\" x=\"1334.5\" y=\"-1280.8\" font-family=\"Helvetica,sans-Serif\" font-size=\"14.00\">gini = 0.2589</text>\r\n",
       "<text text-anchor=\"middle\" x=\"1334.5\" y=\"-1265.8\" font-family=\"Helvetica,sans-Serif\" font-size=\"14.00\">samples = 0.0%</text>\r\n",
       "<text text-anchor=\"middle\" x=\"1334.5\" y=\"-1250.8\" font-family=\"Helvetica,sans-Serif\" font-size=\"14.00\">value = [0.1528, 0.8472]</text>\r\n",
       "<text text-anchor=\"middle\" x=\"1334.5\" y=\"-1235.8\" font-family=\"Helvetica,sans-Serif\" font-size=\"14.00\">class = Alta</text>\r\n",
       "</g>\r\n",
       "<!-- 29&#45;&gt;37 -->\r\n",
       "<g id=\"edge37\" class=\"edge\"><title>29&#45;&gt;37</title>\r\n",
       "<path fill=\"none\" stroke=\"black\" d=\"M1193.22,-1265.64C1208.7,-1265.24 1224.27,-1264.84 1239.13,-1264.45\"/>\r\n",
       "<polygon fill=\"black\" stroke=\"black\" points=\"1239.38,-1267.95 1249.28,-1264.19 1239.2,-1260.95 1239.38,-1267.95\"/>\r\n",
       "</g>\r\n",
       "<!-- 31 -->\r\n",
       "<g id=\"node32\" class=\"node\"><title>31</title>\r\n",
       "<path fill=\"#e78a47\" stroke=\"black\" d=\"M1685,-1482.5C1685,-1482.5 1530,-1482.5 1530,-1482.5 1524,-1482.5 1518,-1476.5 1518,-1470.5 1518,-1470.5 1518,-1411.5 1518,-1411.5 1518,-1405.5 1524,-1399.5 1530,-1399.5 1530,-1399.5 1685,-1399.5 1685,-1399.5 1691,-1399.5 1697,-1405.5 1697,-1411.5 1697,-1411.5 1697,-1470.5 1697,-1470.5 1697,-1476.5 1691,-1482.5 1685,-1482.5\"/>\r\n",
       "<text text-anchor=\"middle\" x=\"1607.5\" y=\"-1467.3\" font-family=\"Helvetica,sans-Serif\" font-size=\"14.00\">debit_card_shift_1 &lt;= 0.5</text>\r\n",
       "<text text-anchor=\"middle\" x=\"1607.5\" y=\"-1452.3\" font-family=\"Helvetica,sans-Serif\" font-size=\"14.00\">gini = 0.12</text>\r\n",
       "<text text-anchor=\"middle\" x=\"1607.5\" y=\"-1437.3\" font-family=\"Helvetica,sans-Serif\" font-size=\"14.00\">samples = 2.2%</text>\r\n",
       "<text text-anchor=\"middle\" x=\"1607.5\" y=\"-1422.3\" font-family=\"Helvetica,sans-Serif\" font-size=\"14.00\">value = [0.9359, 0.0641]</text>\r\n",
       "<text text-anchor=\"middle\" x=\"1607.5\" y=\"-1407.3\" font-family=\"Helvetica,sans-Serif\" font-size=\"14.00\">class = No alta</text>\r\n",
       "</g>\r\n",
       "<!-- 30&#45;&gt;31 -->\r\n",
       "<g id=\"edge31\" class=\"edge\"><title>30&#45;&gt;31</title>\r\n",
       "<path fill=\"none\" stroke=\"black\" d=\"M1440.28,-1388.86C1462.59,-1395.86 1486.08,-1403.23 1508.15,-1410.15\"/>\r\n",
       "<polygon fill=\"black\" stroke=\"black\" points=\"1507.25,-1413.54 1517.84,-1413.19 1509.35,-1406.86 1507.25,-1413.54\"/>\r\n",
       "</g>\r\n",
       "<!-- 34 -->\r\n",
       "<g id=\"node35\" class=\"node\"><title>34</title>\r\n",
       "<path fill=\"#eb9d65\" stroke=\"black\" d=\"M1694,-1381.5C1694,-1381.5 1521,-1381.5 1521,-1381.5 1515,-1381.5 1509,-1375.5 1509,-1369.5 1509,-1369.5 1509,-1310.5 1509,-1310.5 1509,-1304.5 1515,-1298.5 1521,-1298.5 1521,-1298.5 1694,-1298.5 1694,-1298.5 1700,-1298.5 1706,-1304.5 1706,-1310.5 1706,-1310.5 1706,-1369.5 1706,-1369.5 1706,-1375.5 1700,-1381.5 1694,-1381.5\"/>\r\n",
       "<text text-anchor=\"middle\" x=\"1607.5\" y=\"-1366.3\" font-family=\"Helvetica,sans-Serif\" font-size=\"14.00\">pension_plan_shift_1 &lt;= 0.5</text>\r\n",
       "<text text-anchor=\"middle\" x=\"1607.5\" y=\"-1351.3\" font-family=\"Helvetica,sans-Serif\" font-size=\"14.00\">gini = 0.2984</text>\r\n",
       "<text text-anchor=\"middle\" x=\"1607.5\" y=\"-1336.3\" font-family=\"Helvetica,sans-Serif\" font-size=\"14.00\">samples = 2.4%</text>\r\n",
       "<text text-anchor=\"middle\" x=\"1607.5\" y=\"-1321.3\" font-family=\"Helvetica,sans-Serif\" font-size=\"14.00\">value = [0.8175, 0.1825]</text>\r\n",
       "<text text-anchor=\"middle\" x=\"1607.5\" y=\"-1306.3\" font-family=\"Helvetica,sans-Serif\" font-size=\"14.00\">class = No alta</text>\r\n",
       "</g>\r\n",
       "<!-- 30&#45;&gt;34 -->\r\n",
       "<g id=\"edge34\" class=\"edge\"><title>30&#45;&gt;34</title>\r\n",
       "<path fill=\"none\" stroke=\"black\" d=\"M1440.28,-1349.81C1459.34,-1348.69 1479.26,-1347.51 1498.42,-1346.38\"/>\r\n",
       "<polygon fill=\"black\" stroke=\"black\" points=\"1498.89,-1349.86 1508.66,-1345.78 1498.48,-1342.87 1498.89,-1349.86\"/>\r\n",
       "</g>\r\n",
       "<!-- 32 -->\r\n",
       "<g id=\"node33\" class=\"node\"><title>32</title>\r\n",
       "<path fill=\"#e68844\" stroke=\"black\" d=\"M1933,-1557C1933,-1557 1787,-1557 1787,-1557 1781,-1557 1775,-1551 1775,-1545 1775,-1545 1775,-1501 1775,-1501 1775,-1495 1781,-1489 1787,-1489 1787,-1489 1933,-1489 1933,-1489 1939,-1489 1945,-1495 1945,-1501 1945,-1501 1945,-1545 1945,-1545 1945,-1551 1939,-1557 1933,-1557\"/>\r\n",
       "<text text-anchor=\"middle\" x=\"1860\" y=\"-1541.8\" font-family=\"Helvetica,sans-Serif\" font-size=\"14.00\">gini = 0.097</text>\r\n",
       "<text text-anchor=\"middle\" x=\"1860\" y=\"-1526.8\" font-family=\"Helvetica,sans-Serif\" font-size=\"14.00\">samples = 2.2%</text>\r\n",
       "<text text-anchor=\"middle\" x=\"1860\" y=\"-1511.8\" font-family=\"Helvetica,sans-Serif\" font-size=\"14.00\">value = [0.9489, 0.0511]</text>\r\n",
       "<text text-anchor=\"middle\" x=\"1860\" y=\"-1496.8\" font-family=\"Helvetica,sans-Serif\" font-size=\"14.00\">class = No alta</text>\r\n",
       "</g>\r\n",
       "<!-- 31&#45;&gt;32 -->\r\n",
       "<g id=\"edge32\" class=\"edge\"><title>31&#45;&gt;32</title>\r\n",
       "<path fill=\"none\" stroke=\"black\" d=\"M1697.17,-1470.03C1719.12,-1477.21 1742.7,-1484.93 1764.9,-1492.2\"/>\r\n",
       "<polygon fill=\"black\" stroke=\"black\" points=\"1764.06,-1495.6 1774.65,-1495.39 1766.23,-1488.95 1764.06,-1495.6\"/>\r\n",
       "</g>\r\n",
       "<!-- 33 -->\r\n",
       "<g id=\"node34\" class=\"node\"><title>33</title>\r\n",
       "<path fill=\"#7fc0ee\" stroke=\"black\" d=\"M1933,-1471C1933,-1471 1787,-1471 1787,-1471 1781,-1471 1775,-1465 1775,-1459 1775,-1459 1775,-1415 1775,-1415 1775,-1409 1781,-1403 1787,-1403 1787,-1403 1933,-1403 1933,-1403 1939,-1403 1945,-1409 1945,-1415 1945,-1415 1945,-1459 1945,-1459 1945,-1465 1939,-1471 1933,-1471\"/>\r\n",
       "<text text-anchor=\"middle\" x=\"1860\" y=\"-1455.8\" font-family=\"Helvetica,sans-Serif\" font-size=\"14.00\">gini = 0.3865</text>\r\n",
       "<text text-anchor=\"middle\" x=\"1860\" y=\"-1440.8\" font-family=\"Helvetica,sans-Serif\" font-size=\"14.00\">samples = 0.0%</text>\r\n",
       "<text text-anchor=\"middle\" x=\"1860\" y=\"-1425.8\" font-family=\"Helvetica,sans-Serif\" font-size=\"14.00\">value = [0.2618, 0.7382]</text>\r\n",
       "<text text-anchor=\"middle\" x=\"1860\" y=\"-1410.8\" font-family=\"Helvetica,sans-Serif\" font-size=\"14.00\">class = Alta</text>\r\n",
       "</g>\r\n",
       "<!-- 31&#45;&gt;33 -->\r\n",
       "<g id=\"edge33\" class=\"edge\"><title>31&#45;&gt;33</title>\r\n",
       "<path fill=\"none\" stroke=\"black\" d=\"M1697.17,-1439.58C1719.02,-1439.24 1742.49,-1438.86 1764.6,-1438.51\"/>\r\n",
       "<polygon fill=\"black\" stroke=\"black\" points=\"1764.71,-1442.01 1774.65,-1438.35 1764.6,-1435.01 1764.71,-1442.01\"/>\r\n",
       "</g>\r\n",
       "<!-- 35 -->\r\n",
       "<g id=\"node36\" class=\"node\"><title>35</title>\r\n",
       "<path fill=\"#eeab7b\" stroke=\"black\" d=\"M1933,-1383C1933,-1383 1787,-1383 1787,-1383 1781,-1383 1775,-1377 1775,-1371 1775,-1371 1775,-1327 1775,-1327 1775,-1321 1781,-1315 1787,-1315 1787,-1315 1933,-1315 1933,-1315 1939,-1315 1945,-1321 1945,-1327 1945,-1327 1945,-1371 1945,-1371 1945,-1377 1939,-1383 1933,-1383\"/>\r\n",
       "<text text-anchor=\"middle\" x=\"1860\" y=\"-1367.8\" font-family=\"Helvetica,sans-Serif\" font-size=\"14.00\">gini = 0.3764</text>\r\n",
       "<text text-anchor=\"middle\" x=\"1860\" y=\"-1352.8\" font-family=\"Helvetica,sans-Serif\" font-size=\"14.00\">samples = 1.3%</text>\r\n",
       "<text text-anchor=\"middle\" x=\"1860\" y=\"-1337.8\" font-family=\"Helvetica,sans-Serif\" font-size=\"14.00\">value = [0.7486, 0.2514]</text>\r\n",
       "<text text-anchor=\"middle\" x=\"1860\" y=\"-1322.8\" font-family=\"Helvetica,sans-Serif\" font-size=\"14.00\">class = No alta</text>\r\n",
       "</g>\r\n",
       "<!-- 34&#45;&gt;35 -->\r\n",
       "<g id=\"edge35\" class=\"edge\"><title>34&#45;&gt;35</title>\r\n",
       "<path fill=\"none\" stroke=\"black\" d=\"M1706.07,-1343.51C1725.28,-1344.2 1745.41,-1344.92 1764.52,-1345.61\"/>\r\n",
       "<polygon fill=\"black\" stroke=\"black\" points=\"1764.59,-1349.11 1774.71,-1345.97 1764.85,-1342.11 1764.59,-1349.11\"/>\r\n",
       "</g>\r\n",
       "<!-- 36 -->\r\n",
       "<g id=\"node37\" class=\"node\"><title>36</title>\r\n",
       "<path fill=\"#e88f4f\" stroke=\"black\" d=\"M1933,-1297C1933,-1297 1787,-1297 1787,-1297 1781,-1297 1775,-1291 1775,-1285 1775,-1285 1775,-1241 1775,-1241 1775,-1235 1781,-1229 1787,-1229 1787,-1229 1933,-1229 1933,-1229 1939,-1229 1945,-1235 1945,-1241 1945,-1241 1945,-1285 1945,-1285 1945,-1291 1939,-1297 1933,-1297\"/>\r\n",
       "<text text-anchor=\"middle\" x=\"1860\" y=\"-1281.8\" font-family=\"Helvetica,sans-Serif\" font-size=\"14.00\">gini = 0.1829</text>\r\n",
       "<text text-anchor=\"middle\" x=\"1860\" y=\"-1266.8\" font-family=\"Helvetica,sans-Serif\" font-size=\"14.00\">samples = 1.1%</text>\r\n",
       "<text text-anchor=\"middle\" x=\"1860\" y=\"-1251.8\" font-family=\"Helvetica,sans-Serif\" font-size=\"14.00\">value = [0.8982, 0.1018]</text>\r\n",
       "<text text-anchor=\"middle\" x=\"1860\" y=\"-1236.8\" font-family=\"Helvetica,sans-Serif\" font-size=\"14.00\">class = No alta</text>\r\n",
       "</g>\r\n",
       "<!-- 34&#45;&gt;36 -->\r\n",
       "<g id=\"edge36\" class=\"edge\"><title>34&#45;&gt;36</title>\r\n",
       "<path fill=\"none\" stroke=\"black\" d=\"M1706.07,-1310.01C1725.46,-1304.05 1745.78,-1297.8 1765.05,-1291.88\"/>\r\n",
       "<polygon fill=\"black\" stroke=\"black\" points=\"1766.18,-1295.19 1774.71,-1288.91 1764.13,-1288.5 1766.18,-1295.19\"/>\r\n",
       "</g>\r\n",
       "<!-- 39 -->\r\n",
       "<g id=\"node40\" class=\"node\"><title>39</title>\r\n",
       "<path fill=\"#9ecff2\" stroke=\"black\" d=\"M1407.5,-1210C1407.5,-1210 1261.5,-1210 1261.5,-1210 1255.5,-1210 1249.5,-1204 1249.5,-1198 1249.5,-1198 1249.5,-1154 1249.5,-1154 1249.5,-1148 1255.5,-1142 1261.5,-1142 1261.5,-1142 1407.5,-1142 1407.5,-1142 1413.5,-1142 1419.5,-1148 1419.5,-1154 1419.5,-1154 1419.5,-1198 1419.5,-1198 1419.5,-1204 1413.5,-1210 1407.5,-1210\"/>\r\n",
       "<text text-anchor=\"middle\" x=\"1334.5\" y=\"-1194.8\" font-family=\"Helvetica,sans-Serif\" font-size=\"14.00\">gini = 0.4477</text>\r\n",
       "<text text-anchor=\"middle\" x=\"1334.5\" y=\"-1179.8\" font-family=\"Helvetica,sans-Serif\" font-size=\"14.00\">samples = 0.3%</text>\r\n",
       "<text text-anchor=\"middle\" x=\"1334.5\" y=\"-1164.8\" font-family=\"Helvetica,sans-Serif\" font-size=\"14.00\">value = [0.3383, 0.6617]</text>\r\n",
       "<text text-anchor=\"middle\" x=\"1334.5\" y=\"-1149.8\" font-family=\"Helvetica,sans-Serif\" font-size=\"14.00\">class = Alta</text>\r\n",
       "</g>\r\n",
       "<!-- 38&#45;&gt;39 -->\r\n",
       "<g id=\"edge39\" class=\"edge\"><title>38&#45;&gt;39</title>\r\n",
       "<path fill=\"none\" stroke=\"black\" d=\"M1168.58,-1171.1C1191.91,-1171.8 1216.51,-1172.53 1239.39,-1173.21\"/>\r\n",
       "<polygon fill=\"black\" stroke=\"black\" points=\"1239.32,-1176.71 1249.42,-1173.5 1239.53,-1169.71 1239.32,-1176.71\"/>\r\n",
       "</g>\r\n",
       "<!-- 40 -->\r\n",
       "<g id=\"node41\" class=\"node\"><title>40</title>\r\n",
       "<path fill=\"#efb185\" stroke=\"black\" d=\"M1407.5,-1123.5C1407.5,-1123.5 1261.5,-1123.5 1261.5,-1123.5 1255.5,-1123.5 1249.5,-1117.5 1249.5,-1111.5 1249.5,-1111.5 1249.5,-1052.5 1249.5,-1052.5 1249.5,-1046.5 1255.5,-1040.5 1261.5,-1040.5 1261.5,-1040.5 1407.5,-1040.5 1407.5,-1040.5 1413.5,-1040.5 1419.5,-1046.5 1419.5,-1052.5 1419.5,-1052.5 1419.5,-1111.5 1419.5,-1111.5 1419.5,-1117.5 1413.5,-1123.5 1407.5,-1123.5\"/>\r\n",
       "<text text-anchor=\"middle\" x=\"1334.5\" y=\"-1108.3\" font-family=\"Helvetica,sans-Serif\" font-size=\"14.00\">payroll_shift_2 &lt;= 0.5</text>\r\n",
       "<text text-anchor=\"middle\" x=\"1334.5\" y=\"-1093.3\" font-family=\"Helvetica,sans-Serif\" font-size=\"14.00\">gini = 0.4009</text>\r\n",
       "<text text-anchor=\"middle\" x=\"1334.5\" y=\"-1078.3\" font-family=\"Helvetica,sans-Serif\" font-size=\"14.00\">samples = 1.2%</text>\r\n",
       "<text text-anchor=\"middle\" x=\"1334.5\" y=\"-1063.3\" font-family=\"Helvetica,sans-Serif\" font-size=\"14.00\">value = [0.7225, 0.2775]</text>\r\n",
       "<text text-anchor=\"middle\" x=\"1334.5\" y=\"-1048.3\" font-family=\"Helvetica,sans-Serif\" font-size=\"14.00\">class = No alta</text>\r\n",
       "</g>\r\n",
       "<!-- 38&#45;&gt;40 -->\r\n",
       "<g id=\"edge40\" class=\"edge\"><title>38&#45;&gt;40</title>\r\n",
       "<path fill=\"none\" stroke=\"black\" d=\"M1168.58,-1134.63C1192.01,-1127.15 1216.73,-1119.26 1239.69,-1111.93\"/>\r\n",
       "<polygon fill=\"black\" stroke=\"black\" points=\"1240.96,-1115.21 1249.42,-1108.83 1238.83,-1108.54 1240.96,-1115.21\"/>\r\n",
       "</g>\r\n",
       "<!-- 41 -->\r\n",
       "<g id=\"node42\" class=\"node\"><title>41</title>\r\n",
       "<path fill=\"#eb9c64\" stroke=\"black\" d=\"M1685,-1213.5C1685,-1213.5 1530,-1213.5 1530,-1213.5 1524,-1213.5 1518,-1207.5 1518,-1201.5 1518,-1201.5 1518,-1142.5 1518,-1142.5 1518,-1136.5 1524,-1130.5 1530,-1130.5 1530,-1130.5 1685,-1130.5 1685,-1130.5 1691,-1130.5 1697,-1136.5 1697,-1142.5 1697,-1142.5 1697,-1201.5 1697,-1201.5 1697,-1207.5 1691,-1213.5 1685,-1213.5\"/>\r\n",
       "<text text-anchor=\"middle\" x=\"1607.5\" y=\"-1198.3\" font-family=\"Helvetica,sans-Serif\" font-size=\"14.00\">debit_card_shift_1 &lt;= 0.5</text>\r\n",
       "<text text-anchor=\"middle\" x=\"1607.5\" y=\"-1183.3\" font-family=\"Helvetica,sans-Serif\" font-size=\"14.00\">gini = 0.292</text>\r\n",
       "<text text-anchor=\"middle\" x=\"1607.5\" y=\"-1168.3\" font-family=\"Helvetica,sans-Serif\" font-size=\"14.00\">samples = 0.8%</text>\r\n",
       "<text text-anchor=\"middle\" x=\"1607.5\" y=\"-1153.3\" font-family=\"Helvetica,sans-Serif\" font-size=\"14.00\">value = [0.8225, 0.1775]</text>\r\n",
       "<text text-anchor=\"middle\" x=\"1607.5\" y=\"-1138.3\" font-family=\"Helvetica,sans-Serif\" font-size=\"14.00\">class = No alta</text>\r\n",
       "</g>\r\n",
       "<!-- 40&#45;&gt;41 -->\r\n",
       "<g id=\"edge41\" class=\"edge\"><title>40&#45;&gt;41</title>\r\n",
       "<path fill=\"none\" stroke=\"black\" d=\"M1419.76,-1109.98C1447.68,-1119.26 1479,-1129.66 1507.9,-1139.26\"/>\r\n",
       "<polygon fill=\"black\" stroke=\"black\" points=\"1507.01,-1142.65 1517.6,-1142.48 1509.21,-1136 1507.01,-1142.65\"/>\r\n",
       "</g>\r\n",
       "<!-- 44 -->\r\n",
       "<g id=\"node45\" class=\"node\"><title>44</title>\r\n",
       "<path fill=\"#f2f9fd\" stroke=\"black\" d=\"M1680.5,-1112C1680.5,-1112 1534.5,-1112 1534.5,-1112 1528.5,-1112 1522.5,-1106 1522.5,-1100 1522.5,-1100 1522.5,-1056 1522.5,-1056 1522.5,-1050 1528.5,-1044 1534.5,-1044 1534.5,-1044 1680.5,-1044 1680.5,-1044 1686.5,-1044 1692.5,-1050 1692.5,-1056 1692.5,-1056 1692.5,-1100 1692.5,-1100 1692.5,-1106 1686.5,-1112 1680.5,-1112\"/>\r\n",
       "<text text-anchor=\"middle\" x=\"1607.5\" y=\"-1096.8\" font-family=\"Helvetica,sans-Serif\" font-size=\"14.00\">gini = 0.4995</text>\r\n",
       "<text text-anchor=\"middle\" x=\"1607.5\" y=\"-1081.8\" font-family=\"Helvetica,sans-Serif\" font-size=\"14.00\">samples = 0.3%</text>\r\n",
       "<text text-anchor=\"middle\" x=\"1607.5\" y=\"-1066.8\" font-family=\"Helvetica,sans-Serif\" font-size=\"14.00\">value = [0.4835, 0.5165]</text>\r\n",
       "<text text-anchor=\"middle\" x=\"1607.5\" y=\"-1051.8\" font-family=\"Helvetica,sans-Serif\" font-size=\"14.00\">class = Alta</text>\r\n",
       "</g>\r\n",
       "<!-- 40&#45;&gt;44 -->\r\n",
       "<g id=\"edge44\" class=\"edge\"><title>40&#45;&gt;44</title>\r\n",
       "<path fill=\"none\" stroke=\"black\" d=\"M1419.76,-1080.76C1449.08,-1080.32 1482.14,-1079.84 1512.22,-1079.39\"/>\r\n",
       "<polygon fill=\"black\" stroke=\"black\" points=\"1512.34,-1082.89 1522.29,-1079.24 1512.24,-1075.89 1512.34,-1082.89\"/>\r\n",
       "</g>\r\n",
       "<!-- 42 -->\r\n",
       "<g id=\"node43\" class=\"node\"><title>42</title>\r\n",
       "<path fill=\"#fbece1\" stroke=\"black\" d=\"M1933,-1208C1933,-1208 1787,-1208 1787,-1208 1781,-1208 1775,-1202 1775,-1196 1775,-1196 1775,-1152 1775,-1152 1775,-1146 1781,-1140 1787,-1140 1787,-1140 1933,-1140 1933,-1140 1939,-1140 1945,-1146 1945,-1152 1945,-1152 1945,-1196 1945,-1196 1945,-1202 1939,-1208 1933,-1208\"/>\r\n",
       "<text text-anchor=\"middle\" x=\"1860\" y=\"-1192.8\" font-family=\"Helvetica,sans-Serif\" font-size=\"14.00\">gini = 0.4967</text>\r\n",
       "<text text-anchor=\"middle\" x=\"1860\" y=\"-1177.8\" font-family=\"Helvetica,sans-Serif\" font-size=\"14.00\">samples = 0.1%</text>\r\n",
       "<text text-anchor=\"middle\" x=\"1860\" y=\"-1162.8\" font-family=\"Helvetica,sans-Serif\" font-size=\"14.00\">value = [0.5408, 0.4592]</text>\r\n",
       "<text text-anchor=\"middle\" x=\"1860\" y=\"-1147.8\" font-family=\"Helvetica,sans-Serif\" font-size=\"14.00\">class = No alta</text>\r\n",
       "</g>\r\n",
       "<!-- 41&#45;&gt;42 -->\r\n",
       "<g id=\"edge42\" class=\"edge\"><title>41&#45;&gt;42</title>\r\n",
       "<path fill=\"none\" stroke=\"black\" d=\"M1697.17,-1172.71C1719.02,-1172.88 1742.49,-1173.07 1764.6,-1173.25\"/>\r\n",
       "<polygon fill=\"black\" stroke=\"black\" points=\"1764.62,-1176.75 1774.65,-1173.33 1764.68,-1169.75 1764.62,-1176.75\"/>\r\n",
       "</g>\r\n",
       "<!-- 43 -->\r\n",
       "<g id=\"node44\" class=\"node\"><title>43</title>\r\n",
       "<path fill=\"#e99559\" stroke=\"black\" d=\"M1925,-1122C1925,-1122 1795,-1122 1795,-1122 1789,-1122 1783,-1116 1783,-1110 1783,-1110 1783,-1066 1783,-1066 1783,-1060 1789,-1054 1795,-1054 1795,-1054 1925,-1054 1925,-1054 1931,-1054 1937,-1060 1937,-1066 1937,-1066 1937,-1110 1937,-1110 1937,-1116 1931,-1122 1925,-1122\"/>\r\n",
       "<text text-anchor=\"middle\" x=\"1860\" y=\"-1106.8\" font-family=\"Helvetica,sans-Serif\" font-size=\"14.00\">gini = 0.2394</text>\r\n",
       "<text text-anchor=\"middle\" x=\"1860\" y=\"-1091.8\" font-family=\"Helvetica,sans-Serif\" font-size=\"14.00\">samples = 0.7%</text>\r\n",
       "<text text-anchor=\"middle\" x=\"1860\" y=\"-1076.8\" font-family=\"Helvetica,sans-Serif\" font-size=\"14.00\">value = [0.861, 0.139]</text>\r\n",
       "<text text-anchor=\"middle\" x=\"1860\" y=\"-1061.8\" font-family=\"Helvetica,sans-Serif\" font-size=\"14.00\">class = No alta</text>\r\n",
       "</g>\r\n",
       "<!-- 41&#45;&gt;43 -->\r\n",
       "<g id=\"edge43\" class=\"edge\"><title>41&#45;&gt;43</title>\r\n",
       "<path fill=\"none\" stroke=\"black\" d=\"M1697.17,-1142.27C1721.9,-1133.98 1748.71,-1124.98 1773.26,-1116.75\"/>\r\n",
       "<polygon fill=\"black\" stroke=\"black\" points=\"1774.54,-1120.01 1782.91,-1113.52 1772.31,-1113.38 1774.54,-1120.01\"/>\r\n",
       "</g>\r\n",
       "<!-- 46 -->\r\n",
       "<g id=\"node47\" class=\"node\"><title>46</title>\r\n",
       "<path fill=\"#fdf4ee\" stroke=\"black\" d=\"M1128,-1106C1128,-1106 998,-1106 998,-1106 992,-1106 986,-1100 986,-1094 986,-1094 986,-1050 986,-1050 986,-1044 992,-1038 998,-1038 998,-1038 1128,-1038 1128,-1038 1134,-1038 1140,-1044 1140,-1050 1140,-1050 1140,-1094 1140,-1094 1140,-1100 1134,-1106 1128,-1106\"/>\r\n",
       "<text text-anchor=\"middle\" x=\"1063\" y=\"-1090.8\" font-family=\"Helvetica,sans-Serif\" font-size=\"14.00\">gini = 0.499</text>\r\n",
       "<text text-anchor=\"middle\" x=\"1063\" y=\"-1075.8\" font-family=\"Helvetica,sans-Serif\" font-size=\"14.00\">samples = 0.0%</text>\r\n",
       "<text text-anchor=\"middle\" x=\"1063\" y=\"-1060.8\" font-family=\"Helvetica,sans-Serif\" font-size=\"14.00\">value = [0.522, 0.478]</text>\r\n",
       "<text text-anchor=\"middle\" x=\"1063\" y=\"-1045.8\" font-family=\"Helvetica,sans-Serif\" font-size=\"14.00\">class = No alta</text>\r\n",
       "</g>\r\n",
       "<!-- 45&#45;&gt;46 -->\r\n",
       "<g id=\"edge46\" class=\"edge\"><title>45&#45;&gt;46</title>\r\n",
       "<path fill=\"none\" stroke=\"black\" d=\"M894.773,-1070.77C921.593,-1070.97 950.126,-1071.18 975.886,-1071.37\"/>\r\n",
       "<polygon fill=\"black\" stroke=\"black\" points=\"975.962,-1074.87 985.988,-1071.44 976.014,-1067.87 975.962,-1074.87\"/>\r\n",
       "</g>\r\n",
       "<!-- 47 -->\r\n",
       "<g id=\"node48\" class=\"node\"><title>47</title>\r\n",
       "<path fill=\"#e68540\" stroke=\"black\" d=\"M1140.5,-1019.5C1140.5,-1019.5 985.5,-1019.5 985.5,-1019.5 979.5,-1019.5 973.5,-1013.5 973.5,-1007.5 973.5,-1007.5 973.5,-948.5 973.5,-948.5 973.5,-942.5 979.5,-936.5 985.5,-936.5 985.5,-936.5 1140.5,-936.5 1140.5,-936.5 1146.5,-936.5 1152.5,-942.5 1152.5,-948.5 1152.5,-948.5 1152.5,-1007.5 1152.5,-1007.5 1152.5,-1013.5 1146.5,-1019.5 1140.5,-1019.5\"/>\r\n",
       "<text text-anchor=\"middle\" x=\"1063\" y=\"-1004.3\" font-family=\"Helvetica,sans-Serif\" font-size=\"14.00\">debit_card_shift_1 &lt;= 0.5</text>\r\n",
       "<text text-anchor=\"middle\" x=\"1063\" y=\"-989.3\" font-family=\"Helvetica,sans-Serif\" font-size=\"14.00\">gini = 0.0617</text>\r\n",
       "<text text-anchor=\"middle\" x=\"1063\" y=\"-974.3\" font-family=\"Helvetica,sans-Serif\" font-size=\"14.00\">samples = 2.8%</text>\r\n",
       "<text text-anchor=\"middle\" x=\"1063\" y=\"-959.3\" font-family=\"Helvetica,sans-Serif\" font-size=\"14.00\">value = [0.9681, 0.0319]</text>\r\n",
       "<text text-anchor=\"middle\" x=\"1063\" y=\"-944.3\" font-family=\"Helvetica,sans-Serif\" font-size=\"14.00\">class = No alta</text>\r\n",
       "</g>\r\n",
       "<!-- 45&#45;&gt;47 -->\r\n",
       "<g id=\"edge47\" class=\"edge\"><title>45&#45;&gt;47</title>\r\n",
       "<path fill=\"none\" stroke=\"black\" d=\"M894.773,-1034.56C917.427,-1026.9 941.303,-1018.82 963.699,-1011.25\"/>\r\n",
       "<polygon fill=\"black\" stroke=\"black\" points=\"964.847,-1014.56 973.198,-1008.04 962.604,-1007.92 964.847,-1014.56\"/>\r\n",
       "</g>\r\n",
       "<!-- 48 -->\r\n",
       "<g id=\"node49\" class=\"node\"><title>48</title>\r\n",
       "<path fill=\"#ea995f\" stroke=\"black\" d=\"M1407.5,-1022C1407.5,-1022 1261.5,-1022 1261.5,-1022 1255.5,-1022 1249.5,-1016 1249.5,-1010 1249.5,-1010 1249.5,-966 1249.5,-966 1249.5,-960 1255.5,-954 1261.5,-954 1261.5,-954 1407.5,-954 1407.5,-954 1413.5,-954 1419.5,-960 1419.5,-966 1419.5,-966 1419.5,-1010 1419.5,-1010 1419.5,-1016 1413.5,-1022 1407.5,-1022\"/>\r\n",
       "<text text-anchor=\"middle\" x=\"1334.5\" y=\"-1006.8\" font-family=\"Helvetica,sans-Serif\" font-size=\"14.00\">gini = 0.269</text>\r\n",
       "<text text-anchor=\"middle\" x=\"1334.5\" y=\"-991.8\" font-family=\"Helvetica,sans-Serif\" font-size=\"14.00\">samples = 0.3%</text>\r\n",
       "<text text-anchor=\"middle\" x=\"1334.5\" y=\"-976.8\" font-family=\"Helvetica,sans-Serif\" font-size=\"14.00\">value = [0.8398, 0.1602]</text>\r\n",
       "<text text-anchor=\"middle\" x=\"1334.5\" y=\"-961.8\" font-family=\"Helvetica,sans-Serif\" font-size=\"14.00\">class = No alta</text>\r\n",
       "</g>\r\n",
       "<!-- 47&#45;&gt;48 -->\r\n",
       "<g id=\"edge48\" class=\"edge\"><title>47&#45;&gt;48</title>\r\n",
       "<path fill=\"none\" stroke=\"black\" d=\"M1152.62,-981.288C1180.35,-982.317 1211.06,-983.457 1239.17,-984.5\"/>\r\n",
       "<polygon fill=\"black\" stroke=\"black\" points=\"1239.28,-988.006 1249.4,-984.88 1239.54,-981.011 1239.28,-988.006\"/>\r\n",
       "</g>\r\n",
       "<!-- 49 -->\r\n",
       "<g id=\"node50\" class=\"node\"><title>49</title>\r\n",
       "<path fill=\"#e5833d\" stroke=\"black\" d=\"M1421,-935.5C1421,-935.5 1248,-935.5 1248,-935.5 1242,-935.5 1236,-929.5 1236,-923.5 1236,-923.5 1236,-864.5 1236,-864.5 1236,-858.5 1242,-852.5 1248,-852.5 1248,-852.5 1421,-852.5 1421,-852.5 1427,-852.5 1433,-858.5 1433,-864.5 1433,-864.5 1433,-923.5 1433,-923.5 1433,-929.5 1427,-935.5 1421,-935.5\"/>\r\n",
       "<text text-anchor=\"middle\" x=\"1334.5\" y=\"-920.3\" font-family=\"Helvetica,sans-Serif\" font-size=\"14.00\">pension_plan_shift_1 &lt;= 0.5</text>\r\n",
       "<text text-anchor=\"middle\" x=\"1334.5\" y=\"-905.3\" font-family=\"Helvetica,sans-Serif\" font-size=\"14.00\">gini = 0.0362</text>\r\n",
       "<text text-anchor=\"middle\" x=\"1334.5\" y=\"-890.3\" font-family=\"Helvetica,sans-Serif\" font-size=\"14.00\">samples = 2.5%</text>\r\n",
       "<text text-anchor=\"middle\" x=\"1334.5\" y=\"-875.3\" font-family=\"Helvetica,sans-Serif\" font-size=\"14.00\">value = [0.9816, 0.0184]</text>\r\n",
       "<text text-anchor=\"middle\" x=\"1334.5\" y=\"-860.3\" font-family=\"Helvetica,sans-Serif\" font-size=\"14.00\">class = No alta</text>\r\n",
       "</g>\r\n",
       "<!-- 47&#45;&gt;49 -->\r\n",
       "<g id=\"edge49\" class=\"edge\"><title>47&#45;&gt;49</title>\r\n",
       "<path fill=\"none\" stroke=\"black\" d=\"M1152.62,-950.379C1176.18,-943.034 1201.89,-935.021 1226.33,-927.403\"/>\r\n",
       "<polygon fill=\"black\" stroke=\"black\" points=\"1227.49,-930.709 1235.99,-924.392 1225.4,-924.027 1227.49,-930.709\"/>\r\n",
       "</g>\r\n",
       "<!-- 50 -->\r\n",
       "<g id=\"node51\" class=\"node\"><title>50</title>\r\n",
       "<path fill=\"#eda673\" stroke=\"black\" d=\"M1680.5,-1022C1680.5,-1022 1534.5,-1022 1534.5,-1022 1528.5,-1022 1522.5,-1016 1522.5,-1010 1522.5,-1010 1522.5,-966 1522.5,-966 1522.5,-960 1528.5,-954 1534.5,-954 1534.5,-954 1680.5,-954 1680.5,-954 1686.5,-954 1692.5,-960 1692.5,-966 1692.5,-966 1692.5,-1010 1692.5,-1010 1692.5,-1016 1686.5,-1022 1680.5,-1022\"/>\r\n",
       "<text text-anchor=\"middle\" x=\"1607.5\" y=\"-1006.8\" font-family=\"Helvetica,sans-Serif\" font-size=\"14.00\">gini = 0.3502</text>\r\n",
       "<text text-anchor=\"middle\" x=\"1607.5\" y=\"-991.8\" font-family=\"Helvetica,sans-Serif\" font-size=\"14.00\">samples = 0.1%</text>\r\n",
       "<text text-anchor=\"middle\" x=\"1607.5\" y=\"-976.8\" font-family=\"Helvetica,sans-Serif\" font-size=\"14.00\">value = [0.7737, 0.2263]</text>\r\n",
       "<text text-anchor=\"middle\" x=\"1607.5\" y=\"-961.8\" font-family=\"Helvetica,sans-Serif\" font-size=\"14.00\">class = No alta</text>\r\n",
       "</g>\r\n",
       "<!-- 49&#45;&gt;50 -->\r\n",
       "<g id=\"edge50\" class=\"edge\"><title>49&#45;&gt;50</title>\r\n",
       "<path fill=\"none\" stroke=\"black\" d=\"M1433.31,-929.043C1447.61,-934.1 1462.18,-939.211 1476,-944 1487.77,-948.077 1500.14,-952.315 1512.4,-956.482\"/>\r\n",
       "<polygon fill=\"black\" stroke=\"black\" points=\"1511.6,-959.904 1522.19,-959.803 1513.84,-953.276 1511.6,-959.904\"/>\r\n",
       "</g>\r\n",
       "<!-- 51 -->\r\n",
       "<g id=\"node52\" class=\"node\"><title>51</title>\r\n",
       "<path fill=\"#e5823b\" stroke=\"black\" d=\"M1691,-935.5C1691,-935.5 1524,-935.5 1524,-935.5 1518,-935.5 1512,-929.5 1512,-923.5 1512,-923.5 1512,-864.5 1512,-864.5 1512,-858.5 1518,-852.5 1524,-852.5 1524,-852.5 1691,-852.5 1691,-852.5 1697,-852.5 1703,-858.5 1703,-864.5 1703,-864.5 1703,-923.5 1703,-923.5 1703,-929.5 1697,-935.5 1691,-935.5\"/>\r\n",
       "<text text-anchor=\"middle\" x=\"1607.5\" y=\"-920.3\" font-family=\"Helvetica,sans-Serif\" font-size=\"14.00\">totalCuentas_shift_3 &lt;= 4.5</text>\r\n",
       "<text text-anchor=\"middle\" x=\"1607.5\" y=\"-905.3\" font-family=\"Helvetica,sans-Serif\" font-size=\"14.00\">gini = 0.0221</text>\r\n",
       "<text text-anchor=\"middle\" x=\"1607.5\" y=\"-890.3\" font-family=\"Helvetica,sans-Serif\" font-size=\"14.00\">samples = 2.4%</text>\r\n",
       "<text text-anchor=\"middle\" x=\"1607.5\" y=\"-875.3\" font-family=\"Helvetica,sans-Serif\" font-size=\"14.00\">value = [0.9888, 0.0112]</text>\r\n",
       "<text text-anchor=\"middle\" x=\"1607.5\" y=\"-860.3\" font-family=\"Helvetica,sans-Serif\" font-size=\"14.00\">class = No alta</text>\r\n",
       "</g>\r\n",
       "<!-- 49&#45;&gt;51 -->\r\n",
       "<g id=\"edge51\" class=\"edge\"><title>49&#45;&gt;51</title>\r\n",
       "<path fill=\"none\" stroke=\"black\" d=\"M1433.34,-894C1455.56,-894 1479.24,-894 1501.74,-894\"/>\r\n",
       "<polygon fill=\"black\" stroke=\"black\" points=\"1501.98,-897.5 1511.98,-894 1501.98,-890.5 1501.98,-897.5\"/>\r\n",
       "</g>\r\n",
       "<!-- 52 -->\r\n",
       "<g id=\"node53\" class=\"node\"><title>52</title>\r\n",
       "<path fill=\"#e5823b\" stroke=\"black\" d=\"M1925,-1014C1925,-1014 1795,-1014 1795,-1014 1789,-1014 1783,-1008 1783,-1002 1783,-1002 1783,-958 1783,-958 1783,-952 1789,-946 1795,-946 1795,-946 1925,-946 1925,-946 1931,-946 1937,-952 1937,-958 1937,-958 1937,-1002 1937,-1002 1937,-1008 1931,-1014 1925,-1014\"/>\r\n",
       "<text text-anchor=\"middle\" x=\"1860\" y=\"-998.8\" font-family=\"Helvetica,sans-Serif\" font-size=\"14.00\">gini = 0.0217</text>\r\n",
       "<text text-anchor=\"middle\" x=\"1860\" y=\"-983.8\" font-family=\"Helvetica,sans-Serif\" font-size=\"14.00\">samples = 2.4%</text>\r\n",
       "<text text-anchor=\"middle\" x=\"1860\" y=\"-968.8\" font-family=\"Helvetica,sans-Serif\" font-size=\"14.00\">value = [0.989, 0.011]</text>\r\n",
       "<text text-anchor=\"middle\" x=\"1860\" y=\"-953.8\" font-family=\"Helvetica,sans-Serif\" font-size=\"14.00\">class = No alta</text>\r\n",
       "</g>\r\n",
       "<!-- 51&#45;&gt;52 -->\r\n",
       "<g id=\"edge52\" class=\"edge\"><title>51&#45;&gt;52</title>\r\n",
       "<path fill=\"none\" stroke=\"black\" d=\"M1703.2,-926.513C1726.24,-934.421 1750.74,-942.832 1773.33,-950.587\"/>\r\n",
       "<polygon fill=\"black\" stroke=\"black\" points=\"1772.29,-953.93 1782.88,-953.867 1774.56,-947.309 1772.29,-953.93\"/>\r\n",
       "</g>\r\n",
       "<!-- 53 -->\r\n",
       "<g id=\"node54\" class=\"node\"><title>53</title>\r\n",
       "<path fill=\"#f3c4a3\" stroke=\"black\" d=\"M1933,-928C1933,-928 1787,-928 1787,-928 1781,-928 1775,-922 1775,-916 1775,-916 1775,-872 1775,-872 1775,-866 1781,-860 1787,-860 1787,-860 1933,-860 1933,-860 1939,-860 1945,-866 1945,-872 1945,-872 1945,-916 1945,-916 1945,-922 1939,-928 1933,-928\"/>\r\n",
       "<text text-anchor=\"middle\" x=\"1860\" y=\"-912.8\" font-family=\"Helvetica,sans-Serif\" font-size=\"14.00\">gini = 0.4537</text>\r\n",
       "<text text-anchor=\"middle\" x=\"1860\" y=\"-897.8\" font-family=\"Helvetica,sans-Serif\" font-size=\"14.00\">samples = 0.0%</text>\r\n",
       "<text text-anchor=\"middle\" x=\"1860\" y=\"-882.8\" font-family=\"Helvetica,sans-Serif\" font-size=\"14.00\">value = [0.6522, 0.3478]</text>\r\n",
       "<text text-anchor=\"middle\" x=\"1860\" y=\"-867.8\" font-family=\"Helvetica,sans-Serif\" font-size=\"14.00\">class = No alta</text>\r\n",
       "</g>\r\n",
       "<!-- 51&#45;&gt;53 -->\r\n",
       "<g id=\"edge53\" class=\"edge\"><title>51&#45;&gt;53</title>\r\n",
       "<path fill=\"none\" stroke=\"black\" d=\"M1703.2,-894C1723.35,-894 1744.62,-894 1764.76,-894\"/>\r\n",
       "<polygon fill=\"black\" stroke=\"black\" points=\"1764.85,-897.5 1774.85,-894 1764.85,-890.5 1764.85,-897.5\"/>\r\n",
       "</g>\r\n",
       "<!-- 55 -->\r\n",
       "<g id=\"node56\" class=\"node\"><title>55</title>\r\n",
       "<path fill=\"#e6843d\" stroke=\"black\" d=\"M885,-757.5C885,-757.5 693,-757.5 693,-757.5 687,-757.5 681,-751.5 681,-745.5 681,-745.5 681,-686.5 681,-686.5 681,-680.5 687,-674.5 693,-674.5 693,-674.5 885,-674.5 885,-674.5 891,-674.5 897,-680.5 897,-686.5 897,-686.5 897,-745.5 897,-745.5 897,-751.5 891,-757.5 885,-757.5\"/>\r\n",
       "<text text-anchor=\"middle\" x=\"789\" y=\"-742.3\" font-family=\"Helvetica,sans-Serif\" font-size=\"14.00\">active_customer_shift_1 &lt;= 0.5</text>\r\n",
       "<text text-anchor=\"middle\" x=\"789\" y=\"-727.3\" font-family=\"Helvetica,sans-Serif\" font-size=\"14.00\">gini = 0.0412</text>\r\n",
       "<text text-anchor=\"middle\" x=\"789\" y=\"-712.3\" font-family=\"Helvetica,sans-Serif\" font-size=\"14.00\">samples = 87.7%</text>\r\n",
       "<text text-anchor=\"middle\" x=\"789\" y=\"-697.3\" font-family=\"Helvetica,sans-Serif\" font-size=\"14.00\">value = [0.979, 0.021]</text>\r\n",
       "<text text-anchor=\"middle\" x=\"789\" y=\"-682.3\" font-family=\"Helvetica,sans-Serif\" font-size=\"14.00\">class = No alta</text>\r\n",
       "</g>\r\n",
       "<!-- 54&#45;&gt;55 -->\r\n",
       "<g id=\"edge55\" class=\"edge\"><title>54&#45;&gt;55</title>\r\n",
       "<path fill=\"none\" stroke=\"black\" d=\"M645.149,-716C653.662,-716 662.278,-716 670.839,-716\"/>\r\n",
       "<polygon fill=\"black\" stroke=\"black\" points=\"670.852,-719.5 680.852,-716 670.852,-712.5 670.852,-719.5\"/>\r\n",
       "</g>\r\n",
       "<!-- 78 -->\r\n",
       "<g id=\"node79\" class=\"node\"><title>78</title>\r\n",
       "<path fill=\"#6eb7ec\" stroke=\"black\" d=\"M862,-656C862,-656 716,-656 716,-656 710,-656 704,-650 704,-644 704,-644 704,-600 704,-600 704,-594 710,-588 716,-588 716,-588 862,-588 862,-588 868,-588 874,-594 874,-600 874,-600 874,-644 874,-644 874,-650 868,-656 862,-656\"/>\r\n",
       "<text text-anchor=\"middle\" x=\"789\" y=\"-640.8\" font-family=\"Helvetica,sans-Serif\" font-size=\"14.00\">gini = 0.334</text>\r\n",
       "<text text-anchor=\"middle\" x=\"789\" y=\"-625.8\" font-family=\"Helvetica,sans-Serif\" font-size=\"14.00\">samples = 0.1%</text>\r\n",
       "<text text-anchor=\"middle\" x=\"789\" y=\"-610.8\" font-family=\"Helvetica,sans-Serif\" font-size=\"14.00\">value = [0.2119, 0.7881]</text>\r\n",
       "<text text-anchor=\"middle\" x=\"789\" y=\"-595.8\" font-family=\"Helvetica,sans-Serif\" font-size=\"14.00\">class = Alta</text>\r\n",
       "</g>\r\n",
       "<!-- 54&#45;&gt;78 -->\r\n",
       "<g id=\"edge78\" class=\"edge\"><title>54&#45;&gt;78</title>\r\n",
       "<path fill=\"none\" stroke=\"black\" d=\"M645.149,-675.18C661.614,-669.05 678.464,-662.778 694.55,-656.789\"/>\r\n",
       "<polygon fill=\"black\" stroke=\"black\" points=\"695.773,-660.069 703.924,-653.3 693.331,-653.508 695.773,-660.069\"/>\r\n",
       "</g>\r\n",
       "<!-- 56 -->\r\n",
       "<g id=\"node57\" class=\"node\"><title>56</title>\r\n",
       "<path fill=\"#e5813a\" stroke=\"black\" d=\"M1128,-757.5C1128,-757.5 998,-757.5 998,-757.5 992,-757.5 986,-751.5 986,-745.5 986,-745.5 986,-686.5 986,-686.5 986,-680.5 992,-674.5 998,-674.5 998,-674.5 1128,-674.5 1128,-674.5 1134,-674.5 1140,-680.5 1140,-686.5 1140,-686.5 1140,-745.5 1140,-745.5 1140,-751.5 1134,-757.5 1128,-757.5\"/>\r\n",
       "<text text-anchor=\"middle\" x=\"1063\" y=\"-742.3\" font-family=\"Helvetica,sans-Serif\" font-size=\"14.00\">channel_KHM &lt;= 0.5</text>\r\n",
       "<text text-anchor=\"middle\" x=\"1063\" y=\"-727.3\" font-family=\"Helvetica,sans-Serif\" font-size=\"14.00\">gini = 0.0059</text>\r\n",
       "<text text-anchor=\"middle\" x=\"1063\" y=\"-712.3\" font-family=\"Helvetica,sans-Serif\" font-size=\"14.00\">samples = 49.4%</text>\r\n",
       "<text text-anchor=\"middle\" x=\"1063\" y=\"-697.3\" font-family=\"Helvetica,sans-Serif\" font-size=\"14.00\">value = [0.997, 0.003]</text>\r\n",
       "<text text-anchor=\"middle\" x=\"1063\" y=\"-682.3\" font-family=\"Helvetica,sans-Serif\" font-size=\"14.00\">class = No alta</text>\r\n",
       "</g>\r\n",
       "<!-- 55&#45;&gt;56 -->\r\n",
       "<g id=\"edge56\" class=\"edge\"><title>55&#45;&gt;56</title>\r\n",
       "<path fill=\"none\" stroke=\"black\" d=\"M897.111,-716C923.113,-716 950.591,-716 975.504,-716\"/>\r\n",
       "<polygon fill=\"black\" stroke=\"black\" points=\"975.644,-719.5 985.644,-716 975.644,-712.5 975.644,-719.5\"/>\r\n",
       "</g>\r\n",
       "<!-- 63 -->\r\n",
       "<g id=\"node64\" class=\"node\"><title>63</title>\r\n",
       "<path fill=\"#e68742\" stroke=\"black\" d=\"M1181,-549.5C1181,-549.5 945,-549.5 945,-549.5 939,-549.5 933,-543.5 933,-537.5 933,-537.5 933,-478.5 933,-478.5 933,-472.5 939,-466.5 945,-466.5 945,-466.5 1181,-466.5 1181,-466.5 1187,-466.5 1193,-472.5 1193,-478.5 1193,-478.5 1193,-537.5 1193,-537.5 1193,-543.5 1187,-549.5 1181,-549.5\"/>\r\n",
       "<text text-anchor=\"middle\" x=\"1063\" y=\"-534.3\" font-family=\"Helvetica,sans-Serif\" font-size=\"14.00\">diasDesdeUltimaAltaInt_shift_2 &lt;= 0.5</text>\r\n",
       "<text text-anchor=\"middle\" x=\"1063\" y=\"-519.3\" font-family=\"Helvetica,sans-Serif\" font-size=\"14.00\">gini = 0.0849</text>\r\n",
       "<text text-anchor=\"middle\" x=\"1063\" y=\"-504.3\" font-family=\"Helvetica,sans-Serif\" font-size=\"14.00\">samples = 38.2%</text>\r\n",
       "<text text-anchor=\"middle\" x=\"1063\" y=\"-489.3\" font-family=\"Helvetica,sans-Serif\" font-size=\"14.00\">value = [0.9556, 0.0444]</text>\r\n",
       "<text text-anchor=\"middle\" x=\"1063\" y=\"-474.3\" font-family=\"Helvetica,sans-Serif\" font-size=\"14.00\">class = No alta</text>\r\n",
       "</g>\r\n",
       "<!-- 55&#45;&gt;63 -->\r\n",
       "<g id=\"edge63\" class=\"edge\"><title>55&#45;&gt;63</title>\r\n",
       "<path fill=\"none\" stroke=\"black\" d=\"M882.144,-674.469C887.265,-671.428 892.253,-668.266 897,-665 942.276,-633.847 987.025,-590.244 1018.47,-556.891\"/>\r\n",
       "<polygon fill=\"black\" stroke=\"black\" points=\"1021.1,-559.205 1025.38,-549.51 1015.99,-554.424 1021.1,-559.205\"/>\r\n",
       "</g>\r\n",
       "<!-- 57 -->\r\n",
       "<g id=\"node58\" class=\"node\"><title>57</title>\r\n",
       "<path fill=\"#e5813a\" stroke=\"black\" d=\"M1412,-804.5C1412,-804.5 1257,-804.5 1257,-804.5 1251,-804.5 1245,-798.5 1245,-792.5 1245,-792.5 1245,-733.5 1245,-733.5 1245,-727.5 1251,-721.5 1257,-721.5 1257,-721.5 1412,-721.5 1412,-721.5 1418,-721.5 1424,-727.5 1424,-733.5 1424,-733.5 1424,-792.5 1424,-792.5 1424,-798.5 1418,-804.5 1412,-804.5\"/>\r\n",
       "<text text-anchor=\"middle\" x=\"1334.5\" y=\"-789.3\" font-family=\"Helvetica,sans-Serif\" font-size=\"14.00\">debit_card_shift_4 &lt;= 0.5</text>\r\n",
       "<text text-anchor=\"middle\" x=\"1334.5\" y=\"-774.3\" font-family=\"Helvetica,sans-Serif\" font-size=\"14.00\">gini = 0.0051</text>\r\n",
       "<text text-anchor=\"middle\" x=\"1334.5\" y=\"-759.3\" font-family=\"Helvetica,sans-Serif\" font-size=\"14.00\">samples = 49.2%</text>\r\n",
       "<text text-anchor=\"middle\" x=\"1334.5\" y=\"-744.3\" font-family=\"Helvetica,sans-Serif\" font-size=\"14.00\">value = [0.9974, 0.0026]</text>\r\n",
       "<text text-anchor=\"middle\" x=\"1334.5\" y=\"-729.3\" font-family=\"Helvetica,sans-Serif\" font-size=\"14.00\">class = No alta</text>\r\n",
       "</g>\r\n",
       "<!-- 56&#45;&gt;57 -->\r\n",
       "<g id=\"edge57\" class=\"edge\"><title>56&#45;&gt;57</title>\r\n",
       "<path fill=\"none\" stroke=\"black\" d=\"M1140.15,-729.28C1169.5,-734.399 1203.46,-740.322 1234.66,-745.762\"/>\r\n",
       "<polygon fill=\"black\" stroke=\"black\" points=\"1234.23,-749.24 1244.68,-747.51 1235.43,-742.344 1234.23,-749.24\"/>\r\n",
       "</g>\r\n",
       "<!-- 62 -->\r\n",
       "<g id=\"node63\" class=\"node\"><title>62</title>\r\n",
       "<path fill=\"#e78c4a\" stroke=\"black\" d=\"M1407.5,-703C1407.5,-703 1261.5,-703 1261.5,-703 1255.5,-703 1249.5,-697 1249.5,-691 1249.5,-691 1249.5,-647 1249.5,-647 1249.5,-641 1255.5,-635 1261.5,-635 1261.5,-635 1407.5,-635 1407.5,-635 1413.5,-635 1419.5,-641 1419.5,-647 1419.5,-647 1419.5,-691 1419.5,-691 1419.5,-697 1413.5,-703 1407.5,-703\"/>\r\n",
       "<text text-anchor=\"middle\" x=\"1334.5\" y=\"-687.8\" font-family=\"Helvetica,sans-Serif\" font-size=\"14.00\">gini = 0.1422</text>\r\n",
       "<text text-anchor=\"middle\" x=\"1334.5\" y=\"-672.8\" font-family=\"Helvetica,sans-Serif\" font-size=\"14.00\">samples = 0.3%</text>\r\n",
       "<text text-anchor=\"middle\" x=\"1334.5\" y=\"-657.8\" font-family=\"Helvetica,sans-Serif\" font-size=\"14.00\">value = [0.9229, 0.0771]</text>\r\n",
       "<text text-anchor=\"middle\" x=\"1334.5\" y=\"-642.8\" font-family=\"Helvetica,sans-Serif\" font-size=\"14.00\">class = No alta</text>\r\n",
       "</g>\r\n",
       "<!-- 56&#45;&gt;62 -->\r\n",
       "<g id=\"edge62\" class=\"edge\"><title>56&#45;&gt;62</title>\r\n",
       "<path fill=\"none\" stroke=\"black\" d=\"M1140.15,-702.72C1170.9,-697.357 1206.71,-691.112 1239.09,-685.465\"/>\r\n",
       "<polygon fill=\"black\" stroke=\"black\" points=\"1239.77,-688.899 1249.02,-683.733 1238.57,-682.003 1239.77,-688.899\"/>\r\n",
       "</g>\r\n",
       "<!-- 58 -->\r\n",
       "<g id=\"node59\" class=\"node\"><title>58</title>\r\n",
       "<path fill=\"#e58139\" stroke=\"black\" d=\"M1680.5,-814.5C1680.5,-814.5 1534.5,-814.5 1534.5,-814.5 1528.5,-814.5 1522.5,-808.5 1522.5,-802.5 1522.5,-802.5 1522.5,-743.5 1522.5,-743.5 1522.5,-737.5 1528.5,-731.5 1534.5,-731.5 1534.5,-731.5 1680.5,-731.5 1680.5,-731.5 1686.5,-731.5 1692.5,-737.5 1692.5,-743.5 1692.5,-743.5 1692.5,-802.5 1692.5,-802.5 1692.5,-808.5 1686.5,-814.5 1680.5,-814.5\"/>\r\n",
       "<text text-anchor=\"middle\" x=\"1607.5\" y=\"-799.3\" font-family=\"Helvetica,sans-Serif\" font-size=\"14.00\">channel_KHN &lt;= 0.5</text>\r\n",
       "<text text-anchor=\"middle\" x=\"1607.5\" y=\"-784.3\" font-family=\"Helvetica,sans-Serif\" font-size=\"14.00\">gini = 0.0046</text>\r\n",
       "<text text-anchor=\"middle\" x=\"1607.5\" y=\"-769.3\" font-family=\"Helvetica,sans-Serif\" font-size=\"14.00\">samples = 49.1%</text>\r\n",
       "<text text-anchor=\"middle\" x=\"1607.5\" y=\"-754.3\" font-family=\"Helvetica,sans-Serif\" font-size=\"14.00\">value = [0.9977, 0.0023]</text>\r\n",
       "<text text-anchor=\"middle\" x=\"1607.5\" y=\"-739.3\" font-family=\"Helvetica,sans-Serif\" font-size=\"14.00\">class = No alta</text>\r\n",
       "</g>\r\n",
       "<!-- 57&#45;&gt;58 -->\r\n",
       "<g id=\"edge58\" class=\"edge\"><title>57&#45;&gt;58</title>\r\n",
       "<path fill=\"none\" stroke=\"black\" d=\"M1424.24,-766.274C1452.28,-767.309 1483.37,-768.457 1511.82,-769.506\"/>\r\n",
       "<polygon fill=\"black\" stroke=\"black\" points=\"1512.05,-773.017 1522.17,-769.888 1512.31,-766.022 1512.05,-773.017\"/>\r\n",
       "</g>\r\n",
       "<!-- 61 -->\r\n",
       "<g id=\"node62\" class=\"node\"><title>61</title>\r\n",
       "<path fill=\"#e89050\" stroke=\"black\" d=\"M1680.5,-713C1680.5,-713 1534.5,-713 1534.5,-713 1528.5,-713 1522.5,-707 1522.5,-701 1522.5,-701 1522.5,-657 1522.5,-657 1522.5,-651 1528.5,-645 1534.5,-645 1534.5,-645 1680.5,-645 1680.5,-645 1686.5,-645 1692.5,-651 1692.5,-657 1692.5,-657 1692.5,-701 1692.5,-701 1692.5,-707 1686.5,-713 1680.5,-713\"/>\r\n",
       "<text text-anchor=\"middle\" x=\"1607.5\" y=\"-697.8\" font-family=\"Helvetica,sans-Serif\" font-size=\"14.00\">gini = 0.1874</text>\r\n",
       "<text text-anchor=\"middle\" x=\"1607.5\" y=\"-682.8\" font-family=\"Helvetica,sans-Serif\" font-size=\"14.00\">samples = 0.1%</text>\r\n",
       "<text text-anchor=\"middle\" x=\"1607.5\" y=\"-667.8\" font-family=\"Helvetica,sans-Serif\" font-size=\"14.00\">value = [0.8953, 0.1047]</text>\r\n",
       "<text text-anchor=\"middle\" x=\"1607.5\" y=\"-652.8\" font-family=\"Helvetica,sans-Serif\" font-size=\"14.00\">class = No alta</text>\r\n",
       "</g>\r\n",
       "<!-- 57&#45;&gt;61 -->\r\n",
       "<g id=\"edge61\" class=\"edge\"><title>57&#45;&gt;61</title>\r\n",
       "<path fill=\"none\" stroke=\"black\" d=\"M1424.24,-735.495C1452.53,-726.726 1483.92,-716.995 1512.57,-708.115\"/>\r\n",
       "<polygon fill=\"black\" stroke=\"black\" points=\"1513.65,-711.443 1522.17,-705.139 1511.58,-704.757 1513.65,-711.443\"/>\r\n",
       "</g>\r\n",
       "<!-- 59 -->\r\n",
       "<g id=\"node60\" class=\"node\"><title>59</title>\r\n",
       "<path fill=\"#e58139\" stroke=\"black\" d=\"M1933,-842C1933,-842 1787,-842 1787,-842 1781,-842 1775,-836 1775,-830 1775,-830 1775,-786 1775,-786 1775,-780 1781,-774 1787,-774 1787,-774 1933,-774 1933,-774 1939,-774 1945,-780 1945,-786 1945,-786 1945,-830 1945,-830 1945,-836 1939,-842 1933,-842\"/>\r\n",
       "<text text-anchor=\"middle\" x=\"1860\" y=\"-826.8\" font-family=\"Helvetica,sans-Serif\" font-size=\"14.00\">gini = 0.0041</text>\r\n",
       "<text text-anchor=\"middle\" x=\"1860\" y=\"-811.8\" font-family=\"Helvetica,sans-Serif\" font-size=\"14.00\">samples = 48.9%</text>\r\n",
       "<text text-anchor=\"middle\" x=\"1860\" y=\"-796.8\" font-family=\"Helvetica,sans-Serif\" font-size=\"14.00\">value = [0.9979, 0.0021]</text>\r\n",
       "<text text-anchor=\"middle\" x=\"1860\" y=\"-781.8\" font-family=\"Helvetica,sans-Serif\" font-size=\"14.00\">class = No alta</text>\r\n",
       "</g>\r\n",
       "<!-- 58&#45;&gt;59 -->\r\n",
       "<g id=\"edge59\" class=\"edge\"><title>58&#45;&gt;59</title>\r\n",
       "<path fill=\"none\" stroke=\"black\" d=\"M1692.61,-784.752C1715.74,-787.984 1740.98,-791.51 1764.65,-794.817\"/>\r\n",
       "<polygon fill=\"black\" stroke=\"black\" points=\"1764.3,-798.302 1774.69,-796.22 1765.27,-791.369 1764.3,-798.302\"/>\r\n",
       "</g>\r\n",
       "<!-- 60 -->\r\n",
       "<g id=\"node61\" class=\"node\"><title>60</title>\r\n",
       "<path fill=\"#e78c4b\" stroke=\"black\" d=\"M1933,-756C1933,-756 1787,-756 1787,-756 1781,-756 1775,-750 1775,-744 1775,-744 1775,-700 1775,-700 1775,-694 1781,-688 1787,-688 1787,-688 1933,-688 1933,-688 1939,-688 1945,-694 1945,-700 1945,-700 1945,-744 1945,-744 1945,-750 1939,-756 1933,-756\"/>\r\n",
       "<text text-anchor=\"middle\" x=\"1860\" y=\"-740.8\" font-family=\"Helvetica,sans-Serif\" font-size=\"14.00\">gini = 0.1495</text>\r\n",
       "<text text-anchor=\"middle\" x=\"1860\" y=\"-725.8\" font-family=\"Helvetica,sans-Serif\" font-size=\"14.00\">samples = 0.1%</text>\r\n",
       "<text text-anchor=\"middle\" x=\"1860\" y=\"-710.8\" font-family=\"Helvetica,sans-Serif\" font-size=\"14.00\">value = [0.9186, 0.0814]</text>\r\n",
       "<text text-anchor=\"middle\" x=\"1860\" y=\"-695.8\" font-family=\"Helvetica,sans-Serif\" font-size=\"14.00\">class = No alta</text>\r\n",
       "</g>\r\n",
       "<!-- 58&#45;&gt;60 -->\r\n",
       "<g id=\"edge60\" class=\"edge\"><title>58&#45;&gt;60</title>\r\n",
       "<path fill=\"none\" stroke=\"black\" d=\"M1692.61,-755.876C1715.74,-751.166 1740.98,-746.028 1764.65,-741.209\"/>\r\n",
       "<polygon fill=\"black\" stroke=\"black\" points=\"1765.59,-744.59 1774.69,-739.166 1764.19,-737.731 1765.59,-744.59\"/>\r\n",
       "</g>\r\n",
       "<!-- 64 -->\r\n",
       "<g id=\"node65\" class=\"node\"><title>64</title>\r\n",
       "<path fill=\"#e89152\" stroke=\"black\" d=\"M1399.5,-549.5C1399.5,-549.5 1269.5,-549.5 1269.5,-549.5 1263.5,-549.5 1257.5,-543.5 1257.5,-537.5 1257.5,-537.5 1257.5,-478.5 1257.5,-478.5 1257.5,-472.5 1263.5,-466.5 1269.5,-466.5 1269.5,-466.5 1399.5,-466.5 1399.5,-466.5 1405.5,-466.5 1411.5,-472.5 1411.5,-478.5 1411.5,-478.5 1411.5,-537.5 1411.5,-537.5 1411.5,-543.5 1405.5,-549.5 1399.5,-549.5\"/>\r\n",
       "<text text-anchor=\"middle\" x=\"1334.5\" y=\"-534.3\" font-family=\"Helvetica,sans-Serif\" font-size=\"14.00\">channel_KHQ &lt;= 0.5</text>\r\n",
       "<text text-anchor=\"middle\" x=\"1334.5\" y=\"-519.3\" font-family=\"Helvetica,sans-Serif\" font-size=\"14.00\">gini = 0.2021</text>\r\n",
       "<text text-anchor=\"middle\" x=\"1334.5\" y=\"-504.3\" font-family=\"Helvetica,sans-Serif\" font-size=\"14.00\">samples = 4.6%</text>\r\n",
       "<text text-anchor=\"middle\" x=\"1334.5\" y=\"-489.3\" font-family=\"Helvetica,sans-Serif\" font-size=\"14.00\">value = [0.886, 0.114]</text>\r\n",
       "<text text-anchor=\"middle\" x=\"1334.5\" y=\"-474.3\" font-family=\"Helvetica,sans-Serif\" font-size=\"14.00\">class = No alta</text>\r\n",
       "</g>\r\n",
       "<!-- 63&#45;&gt;64 -->\r\n",
       "<g id=\"edge64\" class=\"edge\"><title>63&#45;&gt;64</title>\r\n",
       "<path fill=\"none\" stroke=\"black\" d=\"M1193.22,-508C1211.35,-508 1229.6,-508 1246.68,-508\"/>\r\n",
       "<polygon fill=\"black\" stroke=\"black\" points=\"1247.15,-511.5 1257.15,-508 1247.15,-504.5 1247.15,-511.5\"/>\r\n",
       "</g>\r\n",
       "<!-- 71 -->\r\n",
       "<g id=\"node72\" class=\"node\"><title>71</title>\r\n",
       "<path fill=\"#e68640\" stroke=\"black\" d=\"M1424,-298.5C1424,-298.5 1245,-298.5 1245,-298.5 1239,-298.5 1233,-292.5 1233,-286.5 1233,-286.5 1233,-227.5 1233,-227.5 1233,-221.5 1239,-215.5 1245,-215.5 1245,-215.5 1424,-215.5 1424,-215.5 1430,-215.5 1436,-221.5 1436,-227.5 1436,-227.5 1436,-286.5 1436,-286.5 1436,-292.5 1430,-298.5 1424,-298.5\"/>\r\n",
       "<text text-anchor=\"middle\" x=\"1334.5\" y=\"-283.3\" font-family=\"Helvetica,sans-Serif\" font-size=\"14.00\">dif_debit_card_shift_3 &lt;= 0.5</text>\r\n",
       "<text text-anchor=\"middle\" x=\"1334.5\" y=\"-268.3\" font-family=\"Helvetica,sans-Serif\" font-size=\"14.00\">gini = 0.0676</text>\r\n",
       "<text text-anchor=\"middle\" x=\"1334.5\" y=\"-253.3\" font-family=\"Helvetica,sans-Serif\" font-size=\"14.00\">samples = 33.7%</text>\r\n",
       "<text text-anchor=\"middle\" x=\"1334.5\" y=\"-238.3\" font-family=\"Helvetica,sans-Serif\" font-size=\"14.00\">value = [0.965, 0.035]</text>\r\n",
       "<text text-anchor=\"middle\" x=\"1334.5\" y=\"-223.3\" font-family=\"Helvetica,sans-Serif\" font-size=\"14.00\">class = No alta</text>\r\n",
       "</g>\r\n",
       "<!-- 63&#45;&gt;71 -->\r\n",
       "<g id=\"edge71\" class=\"edge\"><title>63&#45;&gt;71</title>\r\n",
       "<path fill=\"none\" stroke=\"black\" d=\"M1108.8,-466.271C1156.21,-422.117 1230.96,-352.504 1281.07,-305.829\"/>\r\n",
       "<polygon fill=\"black\" stroke=\"black\" points=\"1283.66,-308.206 1288.59,-298.829 1278.88,-303.083 1283.66,-308.206\"/>\r\n",
       "</g>\r\n",
       "<!-- 65 -->\r\n",
       "<g id=\"node66\" class=\"node\"><title>65</title>\r\n",
       "<path fill=\"#ea985e\" stroke=\"black\" d=\"M1686.5,-599.5C1686.5,-599.5 1528.5,-599.5 1528.5,-599.5 1522.5,-599.5 1516.5,-593.5 1516.5,-587.5 1516.5,-587.5 1516.5,-528.5 1516.5,-528.5 1516.5,-522.5 1522.5,-516.5 1528.5,-516.5 1528.5,-516.5 1686.5,-516.5 1686.5,-516.5 1692.5,-516.5 1698.5,-522.5 1698.5,-528.5 1698.5,-528.5 1698.5,-587.5 1698.5,-587.5 1698.5,-593.5 1692.5,-599.5 1686.5,-599.5\"/>\r\n",
       "<text text-anchor=\"middle\" x=\"1607.5\" y=\"-584.3\" font-family=\"Helvetica,sans-Serif\" font-size=\"14.00\">totalAssets_shift_1 &lt;= 1.5</text>\r\n",
       "<text text-anchor=\"middle\" x=\"1607.5\" y=\"-569.3\" font-family=\"Helvetica,sans-Serif\" font-size=\"14.00\">gini = 0.2634</text>\r\n",
       "<text text-anchor=\"middle\" x=\"1607.5\" y=\"-554.3\" font-family=\"Helvetica,sans-Serif\" font-size=\"14.00\">samples = 3.1%</text>\r\n",
       "<text text-anchor=\"middle\" x=\"1607.5\" y=\"-539.3\" font-family=\"Helvetica,sans-Serif\" font-size=\"14.00\">value = [0.844, 0.156]</text>\r\n",
       "<text text-anchor=\"middle\" x=\"1607.5\" y=\"-524.3\" font-family=\"Helvetica,sans-Serif\" font-size=\"14.00\">class = No alta</text>\r\n",
       "</g>\r\n",
       "<!-- 64&#45;&gt;65 -->\r\n",
       "<g id=\"edge65\" class=\"edge\"><title>64&#45;&gt;65</title>\r\n",
       "<path fill=\"none\" stroke=\"black\" d=\"M1411.71,-522.061C1441.09,-527.482 1475.11,-533.758 1506.41,-539.534\"/>\r\n",
       "<polygon fill=\"black\" stroke=\"black\" points=\"1506,-543.017 1516.47,-541.39 1507.27,-536.133 1506,-543.017\"/>\r\n",
       "</g>\r\n",
       "<!-- 68 -->\r\n",
       "<g id=\"node69\" class=\"node\"><title>68</title>\r\n",
       "<path fill=\"#e6843d\" stroke=\"black\" d=\"M1685,-498.5C1685,-498.5 1530,-498.5 1530,-498.5 1524,-498.5 1518,-492.5 1518,-486.5 1518,-486.5 1518,-427.5 1518,-427.5 1518,-421.5 1524,-415.5 1530,-415.5 1530,-415.5 1685,-415.5 1685,-415.5 1691,-415.5 1697,-421.5 1697,-427.5 1697,-427.5 1697,-486.5 1697,-486.5 1697,-492.5 1691,-498.5 1685,-498.5\"/>\r\n",
       "<text text-anchor=\"middle\" x=\"1607.5\" y=\"-483.3\" font-family=\"Helvetica,sans-Serif\" font-size=\"14.00\">debit_card_shift_2 &lt;= 0.5</text>\r\n",
       "<text text-anchor=\"middle\" x=\"1607.5\" y=\"-468.3\" font-family=\"Helvetica,sans-Serif\" font-size=\"14.00\">gini = 0.0414</text>\r\n",
       "<text text-anchor=\"middle\" x=\"1607.5\" y=\"-453.3\" font-family=\"Helvetica,sans-Serif\" font-size=\"14.00\">samples = 1.4%</text>\r\n",
       "<text text-anchor=\"middle\" x=\"1607.5\" y=\"-438.3\" font-family=\"Helvetica,sans-Serif\" font-size=\"14.00\">value = [0.9788, 0.0212]</text>\r\n",
       "<text text-anchor=\"middle\" x=\"1607.5\" y=\"-423.3\" font-family=\"Helvetica,sans-Serif\" font-size=\"14.00\">class = No alta</text>\r\n",
       "</g>\r\n",
       "<!-- 64&#45;&gt;68 -->\r\n",
       "<g id=\"edge68\" class=\"edge\"><title>64&#45;&gt;68</title>\r\n",
       "<path fill=\"none\" stroke=\"black\" d=\"M1411.71,-493.658C1441.52,-488.049 1476.09,-481.542 1507.77,-475.581\"/>\r\n",
       "<polygon fill=\"black\" stroke=\"black\" points=\"1508.76,-478.956 1517.94,-473.666 1507.46,-472.076 1508.76,-478.956\"/>\r\n",
       "</g>\r\n",
       "<!-- 66 -->\r\n",
       "<g id=\"node67\" class=\"node\"><title>66</title>\r\n",
       "<path fill=\"#eda775\" stroke=\"black\" d=\"M1933,-670C1933,-670 1787,-670 1787,-670 1781,-670 1775,-664 1775,-658 1775,-658 1775,-614 1775,-614 1775,-608 1781,-602 1787,-602 1787,-602 1933,-602 1933,-602 1939,-602 1945,-608 1945,-614 1945,-614 1945,-658 1945,-658 1945,-664 1939,-670 1933,-670\"/>\r\n",
       "<text text-anchor=\"middle\" x=\"1860\" y=\"-654.8\" font-family=\"Helvetica,sans-Serif\" font-size=\"14.00\">gini = 0.3561</text>\r\n",
       "<text text-anchor=\"middle\" x=\"1860\" y=\"-639.8\" font-family=\"Helvetica,sans-Serif\" font-size=\"14.00\">samples = 1.7%</text>\r\n",
       "<text text-anchor=\"middle\" x=\"1860\" y=\"-624.8\" font-family=\"Helvetica,sans-Serif\" font-size=\"14.00\">value = [0.7683, 0.2317]</text>\r\n",
       "<text text-anchor=\"middle\" x=\"1860\" y=\"-609.8\" font-family=\"Helvetica,sans-Serif\" font-size=\"14.00\">class = No alta</text>\r\n",
       "</g>\r\n",
       "<!-- 65&#45;&gt;66 -->\r\n",
       "<g id=\"edge66\" class=\"edge\"><title>65&#45;&gt;66</title>\r\n",
       "<path fill=\"none\" stroke=\"black\" d=\"M1698.58,-586.05C1720.21,-592.784 1743.36,-599.992 1765.15,-606.778\"/>\r\n",
       "<polygon fill=\"black\" stroke=\"black\" points=\"1764.14,-610.128 1774.73,-609.759 1766.22,-603.445 1764.14,-610.128\"/>\r\n",
       "</g>\r\n",
       "<!-- 67 -->\r\n",
       "<g id=\"node68\" class=\"node\"><title>67</title>\r\n",
       "<path fill=\"#e78946\" stroke=\"black\" d=\"M1933,-584C1933,-584 1787,-584 1787,-584 1781,-584 1775,-578 1775,-572 1775,-572 1775,-528 1775,-528 1775,-522 1781,-516 1787,-516 1787,-516 1933,-516 1933,-516 1939,-516 1945,-522 1945,-528 1945,-528 1945,-572 1945,-572 1945,-578 1939,-584 1933,-584\"/>\r\n",
       "<text text-anchor=\"middle\" x=\"1860\" y=\"-568.8\" font-family=\"Helvetica,sans-Serif\" font-size=\"14.00\">gini = 0.1159</text>\r\n",
       "<text text-anchor=\"middle\" x=\"1860\" y=\"-553.8\" font-family=\"Helvetica,sans-Serif\" font-size=\"14.00\">samples = 1.4%</text>\r\n",
       "<text text-anchor=\"middle\" x=\"1860\" y=\"-538.8\" font-family=\"Helvetica,sans-Serif\" font-size=\"14.00\">value = [0.9382, 0.0618]</text>\r\n",
       "<text text-anchor=\"middle\" x=\"1860\" y=\"-523.8\" font-family=\"Helvetica,sans-Serif\" font-size=\"14.00\">class = No alta</text>\r\n",
       "</g>\r\n",
       "<!-- 65&#45;&gt;67 -->\r\n",
       "<g id=\"edge67\" class=\"edge\"><title>65&#45;&gt;67</title>\r\n",
       "<path fill=\"none\" stroke=\"black\" d=\"M1698.58,-555.123C1720.02,-554.439 1742.94,-553.706 1764.56,-553.016\"/>\r\n",
       "<polygon fill=\"black\" stroke=\"black\" points=\"1764.84,-556.509 1774.73,-552.691 1764.62,-549.512 1764.84,-556.509\"/>\r\n",
       "</g>\r\n",
       "<!-- 69 -->\r\n",
       "<g id=\"node70\" class=\"node\"><title>69</title>\r\n",
       "<path fill=\"#e6833d\" stroke=\"black\" d=\"M1933,-498C1933,-498 1787,-498 1787,-498 1781,-498 1775,-492 1775,-486 1775,-486 1775,-442 1775,-442 1775,-436 1781,-430 1787,-430 1787,-430 1933,-430 1933,-430 1939,-430 1945,-436 1945,-442 1945,-442 1945,-486 1945,-486 1945,-492 1939,-498 1933,-498\"/>\r\n",
       "<text text-anchor=\"middle\" x=\"1860\" y=\"-482.8\" font-family=\"Helvetica,sans-Serif\" font-size=\"14.00\">gini = 0.0376</text>\r\n",
       "<text text-anchor=\"middle\" x=\"1860\" y=\"-467.8\" font-family=\"Helvetica,sans-Serif\" font-size=\"14.00\">samples = 1.4%</text>\r\n",
       "<text text-anchor=\"middle\" x=\"1860\" y=\"-452.8\" font-family=\"Helvetica,sans-Serif\" font-size=\"14.00\">value = [0.9808, 0.0192]</text>\r\n",
       "<text text-anchor=\"middle\" x=\"1860\" y=\"-437.8\" font-family=\"Helvetica,sans-Serif\" font-size=\"14.00\">class = No alta</text>\r\n",
       "</g>\r\n",
       "<!-- 68&#45;&gt;69 -->\r\n",
       "<g id=\"edge69\" class=\"edge\"><title>68&#45;&gt;69</title>\r\n",
       "<path fill=\"none\" stroke=\"black\" d=\"M1697.17,-459.478C1719.02,-460.088 1742.49,-460.744 1764.6,-461.362\"/>\r\n",
       "<polygon fill=\"black\" stroke=\"black\" points=\"1764.56,-464.862 1774.65,-461.643 1764.75,-457.865 1764.56,-464.862\"/>\r\n",
       "</g>\r\n",
       "<!-- 70 -->\r\n",
       "<g id=\"node71\" class=\"node\"><title>70</title>\r\n",
       "<path fill=\"#e88e4e\" stroke=\"black\" d=\"M1933,-412C1933,-412 1787,-412 1787,-412 1781,-412 1775,-406 1775,-400 1775,-400 1775,-356 1775,-356 1775,-350 1781,-344 1787,-344 1787,-344 1933,-344 1933,-344 1939,-344 1945,-350 1945,-356 1945,-356 1945,-400 1945,-400 1945,-406 1939,-412 1933,-412\"/>\r\n",
       "<text text-anchor=\"middle\" x=\"1860\" y=\"-396.8\" font-family=\"Helvetica,sans-Serif\" font-size=\"14.00\">gini = 0.1743</text>\r\n",
       "<text text-anchor=\"middle\" x=\"1860\" y=\"-381.8\" font-family=\"Helvetica,sans-Serif\" font-size=\"14.00\">samples = 0.0%</text>\r\n",
       "<text text-anchor=\"middle\" x=\"1860\" y=\"-366.8\" font-family=\"Helvetica,sans-Serif\" font-size=\"14.00\">value = [0.9036, 0.0964]</text>\r\n",
       "<text text-anchor=\"middle\" x=\"1860\" y=\"-351.8\" font-family=\"Helvetica,sans-Serif\" font-size=\"14.00\">class = No alta</text>\r\n",
       "</g>\r\n",
       "<!-- 68&#45;&gt;70 -->\r\n",
       "<g id=\"edge70\" class=\"edge\"><title>68&#45;&gt;70</title>\r\n",
       "<path fill=\"none\" stroke=\"black\" d=\"M1697.17,-429.036C1719.12,-422.115 1742.7,-414.676 1764.9,-407.677\"/>\r\n",
       "<polygon fill=\"black\" stroke=\"black\" points=\"1766.17,-410.947 1774.65,-404.601 1764.06,-404.271 1766.17,-410.947\"/>\r\n",
       "</g>\r\n",
       "<!-- 72 -->\r\n",
       "<g id=\"node73\" class=\"node\"><title>72</title>\r\n",
       "<path fill=\"#e6853f\" stroke=\"black\" d=\"M1727,-298.5C1727,-298.5 1488,-298.5 1488,-298.5 1482,-298.5 1476,-292.5 1476,-286.5 1476,-286.5 1476,-227.5 1476,-227.5 1476,-221.5 1482,-215.5 1488,-215.5 1488,-215.5 1727,-215.5 1727,-215.5 1733,-215.5 1739,-221.5 1739,-227.5 1739,-227.5 1739,-286.5 1739,-286.5 1739,-292.5 1733,-298.5 1727,-298.5\"/>\r\n",
       "<text text-anchor=\"middle\" x=\"1607.5\" y=\"-283.3\" font-family=\"Helvetica,sans-Serif\" font-size=\"14.00\">diasDesdeUltimaBajaInt_shift_4 &lt;= 0.5</text>\r\n",
       "<text text-anchor=\"middle\" x=\"1607.5\" y=\"-268.3\" font-family=\"Helvetica,sans-Serif\" font-size=\"14.00\">gini = 0.0614</text>\r\n",
       "<text text-anchor=\"middle\" x=\"1607.5\" y=\"-253.3\" font-family=\"Helvetica,sans-Serif\" font-size=\"14.00\">samples = 32.7%</text>\r\n",
       "<text text-anchor=\"middle\" x=\"1607.5\" y=\"-238.3\" font-family=\"Helvetica,sans-Serif\" font-size=\"14.00\">value = [0.9683, 0.0317]</text>\r\n",
       "<text text-anchor=\"middle\" x=\"1607.5\" y=\"-223.3\" font-family=\"Helvetica,sans-Serif\" font-size=\"14.00\">class = No alta</text>\r\n",
       "</g>\r\n",
       "<!-- 71&#45;&gt;72 -->\r\n",
       "<g id=\"edge72\" class=\"edge\"><title>71&#45;&gt;72</title>\r\n",
       "<path fill=\"none\" stroke=\"black\" d=\"M1436.03,-257C1445.74,-257 1455.71,-257 1465.73,-257\"/>\r\n",
       "<polygon fill=\"black\" stroke=\"black\" points=\"1465.74,-260.5 1475.74,-257 1465.74,-253.5 1465.74,-260.5\"/>\r\n",
       "</g>\r\n",
       "<!-- 75 -->\r\n",
       "<g id=\"node76\" class=\"node\"><title>75</title>\r\n",
       "<path fill=\"#e9965a\" stroke=\"black\" d=\"M1685,-161.5C1685,-161.5 1530,-161.5 1530,-161.5 1524,-161.5 1518,-155.5 1518,-149.5 1518,-149.5 1518,-90.5 1518,-90.5 1518,-84.5 1524,-78.5 1530,-78.5 1530,-78.5 1685,-78.5 1685,-78.5 1691,-78.5 1697,-84.5 1697,-90.5 1697,-90.5 1697,-149.5 1697,-149.5 1697,-155.5 1691,-161.5 1685,-161.5\"/>\r\n",
       "<text text-anchor=\"middle\" x=\"1607.5\" y=\"-146.3\" font-family=\"Helvetica,sans-Serif\" font-size=\"14.00\">debit_card_shift_1 &lt;= 0.5</text>\r\n",
       "<text text-anchor=\"middle\" x=\"1607.5\" y=\"-131.3\" font-family=\"Helvetica,sans-Serif\" font-size=\"14.00\">gini = 0.2464</text>\r\n",
       "<text text-anchor=\"middle\" x=\"1607.5\" y=\"-116.3\" font-family=\"Helvetica,sans-Serif\" font-size=\"14.00\">samples = 1.0%</text>\r\n",
       "<text text-anchor=\"middle\" x=\"1607.5\" y=\"-101.3\" font-family=\"Helvetica,sans-Serif\" font-size=\"14.00\">value = [0.8561, 0.1439]</text>\r\n",
       "<text text-anchor=\"middle\" x=\"1607.5\" y=\"-86.3\" font-family=\"Helvetica,sans-Serif\" font-size=\"14.00\">class = No alta</text>\r\n",
       "</g>\r\n",
       "<!-- 71&#45;&gt;75 -->\r\n",
       "<g id=\"edge75\" class=\"edge\"><title>71&#45;&gt;75</title>\r\n",
       "<path fill=\"none\" stroke=\"black\" d=\"M1417.91,-215.337C1448.53,-199.861 1483.44,-182.214 1514.83,-166.344\"/>\r\n",
       "<polygon fill=\"black\" stroke=\"black\" points=\"1516.67,-169.336 1524.01,-161.7 1513.51,-163.088 1516.67,-169.336\"/>\r\n",
       "</g>\r\n",
       "<!-- 73 -->\r\n",
       "<g id=\"node74\" class=\"node\"><title>73</title>\r\n",
       "<path fill=\"#e78b49\" stroke=\"black\" d=\"M1933,-326C1933,-326 1787,-326 1787,-326 1781,-326 1775,-320 1775,-314 1775,-314 1775,-270 1775,-270 1775,-264 1781,-258 1787,-258 1787,-258 1933,-258 1933,-258 1939,-258 1945,-264 1945,-270 1945,-270 1945,-314 1945,-314 1945,-320 1939,-326 1933,-326\"/>\r\n",
       "<text text-anchor=\"middle\" x=\"1860\" y=\"-310.8\" font-family=\"Helvetica,sans-Serif\" font-size=\"14.00\">gini = 0.1357</text>\r\n",
       "<text text-anchor=\"middle\" x=\"1860\" y=\"-295.8\" font-family=\"Helvetica,sans-Serif\" font-size=\"14.00\">samples = 3.8%</text>\r\n",
       "<text text-anchor=\"middle\" x=\"1860\" y=\"-280.8\" font-family=\"Helvetica,sans-Serif\" font-size=\"14.00\">value = [0.9268, 0.0732]</text>\r\n",
       "<text text-anchor=\"middle\" x=\"1860\" y=\"-265.8\" font-family=\"Helvetica,sans-Serif\" font-size=\"14.00\">class = No alta</text>\r\n",
       "</g>\r\n",
       "<!-- 72&#45;&gt;73 -->\r\n",
       "<g id=\"edge73\" class=\"edge\"><title>72&#45;&gt;73</title>\r\n",
       "<path fill=\"none\" stroke=\"black\" d=\"M1739.25,-275.269C1747.86,-276.471 1756.42,-277.668 1764.79,-278.837\"/>\r\n",
       "<polygon fill=\"black\" stroke=\"black\" points=\"1764.51,-282.331 1774.89,-280.249 1765.47,-275.399 1764.51,-282.331\"/>\r\n",
       "</g>\r\n",
       "<!-- 74 -->\r\n",
       "<g id=\"node75\" class=\"node\"><title>74</title>\r\n",
       "<path fill=\"#e6843e\" stroke=\"black\" d=\"M1933,-240C1933,-240 1787,-240 1787,-240 1781,-240 1775,-234 1775,-228 1775,-228 1775,-184 1775,-184 1775,-178 1781,-172 1787,-172 1787,-172 1933,-172 1933,-172 1939,-172 1945,-178 1945,-184 1945,-184 1945,-228 1945,-228 1945,-234 1939,-240 1933,-240\"/>\r\n",
       "<text text-anchor=\"middle\" x=\"1860\" y=\"-224.8\" font-family=\"Helvetica,sans-Serif\" font-size=\"14.00\">gini = 0.051</text>\r\n",
       "<text text-anchor=\"middle\" x=\"1860\" y=\"-209.8\" font-family=\"Helvetica,sans-Serif\" font-size=\"14.00\">samples = 28.8%</text>\r\n",
       "<text text-anchor=\"middle\" x=\"1860\" y=\"-194.8\" font-family=\"Helvetica,sans-Serif\" font-size=\"14.00\">value = [0.9738, 0.0262]</text>\r\n",
       "<text text-anchor=\"middle\" x=\"1860\" y=\"-179.8\" font-family=\"Helvetica,sans-Serif\" font-size=\"14.00\">class = No alta</text>\r\n",
       "</g>\r\n",
       "<!-- 72&#45;&gt;74 -->\r\n",
       "<g id=\"edge74\" class=\"edge\"><title>72&#45;&gt;74</title>\r\n",
       "<path fill=\"none\" stroke=\"black\" d=\"M1739.25,-230.38C1747.95,-228.609 1756.61,-226.846 1765.07,-225.124\"/>\r\n",
       "<polygon fill=\"black\" stroke=\"black\" points=\"1765.79,-228.548 1774.89,-223.123 1764.4,-221.689 1765.79,-228.548\"/>\r\n",
       "</g>\r\n",
       "<!-- 76 -->\r\n",
       "<g id=\"node77\" class=\"node\"><title>76</title>\r\n",
       "<path fill=\"#f3c7a7\" stroke=\"black\" d=\"M1933,-154C1933,-154 1787,-154 1787,-154 1781,-154 1775,-148 1775,-142 1775,-142 1775,-98 1775,-98 1775,-92 1781,-86 1787,-86 1787,-86 1933,-86 1933,-86 1939,-86 1945,-92 1945,-98 1945,-98 1945,-142 1945,-142 1945,-148 1939,-154 1933,-154\"/>\r\n",
       "<text text-anchor=\"middle\" x=\"1860\" y=\"-138.8\" font-family=\"Helvetica,sans-Serif\" font-size=\"14.00\">gini = 0.4594</text>\r\n",
       "<text text-anchor=\"middle\" x=\"1860\" y=\"-123.8\" font-family=\"Helvetica,sans-Serif\" font-size=\"14.00\">samples = 0.4%</text>\r\n",
       "<text text-anchor=\"middle\" x=\"1860\" y=\"-108.8\" font-family=\"Helvetica,sans-Serif\" font-size=\"14.00\">value = [0.6424, 0.3576]</text>\r\n",
       "<text text-anchor=\"middle\" x=\"1860\" y=\"-93.8\" font-family=\"Helvetica,sans-Serif\" font-size=\"14.00\">class = No alta</text>\r\n",
       "</g>\r\n",
       "<!-- 75&#45;&gt;76 -->\r\n",
       "<g id=\"edge76\" class=\"edge\"><title>75&#45;&gt;76</title>\r\n",
       "<path fill=\"none\" stroke=\"black\" d=\"M1697.17,-120C1719.02,-120 1742.49,-120 1764.6,-120\"/>\r\n",
       "<polygon fill=\"black\" stroke=\"black\" points=\"1764.65,-123.5 1774.65,-120 1764.65,-116.5 1764.65,-123.5\"/>\r\n",
       "</g>\r\n",
       "<!-- 77 -->\r\n",
       "<g id=\"node78\" class=\"node\"><title>77</title>\r\n",
       "<path fill=\"#e6843d\" stroke=\"black\" d=\"M1933,-68C1933,-68 1787,-68 1787,-68 1781,-68 1775,-62 1775,-56 1775,-56 1775,-12 1775,-12 1775,-6 1781,-0 1787,-0 1787,-0 1933,-0 1933,-0 1939,-0 1945,-6 1945,-12 1945,-12 1945,-56 1945,-56 1945,-62 1939,-68 1933,-68\"/>\r\n",
       "<text text-anchor=\"middle\" x=\"1860\" y=\"-52.8\" font-family=\"Helvetica,sans-Serif\" font-size=\"14.00\">gini = 0.0413</text>\r\n",
       "<text text-anchor=\"middle\" x=\"1860\" y=\"-37.8\" font-family=\"Helvetica,sans-Serif\" font-size=\"14.00\">samples = 0.6%</text>\r\n",
       "<text text-anchor=\"middle\" x=\"1860\" y=\"-22.8\" font-family=\"Helvetica,sans-Serif\" font-size=\"14.00\">value = [0.9789, 0.0211]</text>\r\n",
       "<text text-anchor=\"middle\" x=\"1860\" y=\"-7.8\" font-family=\"Helvetica,sans-Serif\" font-size=\"14.00\">class = No alta</text>\r\n",
       "</g>\r\n",
       "<!-- 75&#45;&gt;77 -->\r\n",
       "<g id=\"edge77\" class=\"edge\"><title>75&#45;&gt;77</title>\r\n",
       "<path fill=\"none\" stroke=\"black\" d=\"M1697.17,-89.5586C1719.12,-82.0244 1742.7,-73.9263 1764.9,-66.3065\"/>\r\n",
       "<polygon fill=\"black\" stroke=\"black\" points=\"1766.33,-69.5161 1774.65,-62.9586 1764.06,-62.8954 1766.33,-69.5161\"/>\r\n",
       "</g>\r\n",
       "</g>\r\n",
       "</svg>\r\n"
      ],
      "text/plain": [
       "<graphviz.files.Source at 0x29f168e9448>"
      ]
     },
     "execution_count": 9,
     "metadata": {},
     "output_type": "execute_result"
    }
   ],
   "source": [
    "dot_data = export_graphviz(\n",
    "                        decision_tree = dt,\n",
    "                        # out_file=None,\n",
    "                        # max_depth=None,\n",
    "                        feature_names=X_test.columns,\n",
    "                        class_names=['No alta', 'Alta'],\n",
    "                        # label='all',\n",
    "                        filled=True,\n",
    "                        # leaves_parallel=False,\n",
    "                        impurity=True,\n",
    "                        # node_ids=False,\n",
    "                        proportion=True,\n",
    "                        rotate=True,\n",
    "                        rounded=True,\n",
    "                        # special_characters=False,\n",
    "                        precision=4,\n",
    "                        )\n",
    "\n",
    "graph = graphviz.Source(dot_data)\n",
    "graph"
   ]
  },
  {
   "cell_type": "code",
   "execution_count": 185,
   "metadata": {
    "ExecuteTime": {
     "end_time": "2020-09-12T16:20:54.955882Z",
     "start_time": "2020-09-12T16:20:54.714562Z"
    }
   },
   "outputs": [
    {
     "data": {
      "text/plain": [
       "'arbol_EasyMoney.pdf'"
      ]
     },
     "execution_count": 185,
     "metadata": {},
     "output_type": "execute_result"
    }
   ],
   "source": [
    "# Lo pasamos a pdf\n",
    "graph.render(filename='arbol_EasyMoney')"
   ]
  },
  {
   "cell_type": "markdown",
   "metadata": {},
   "source": [
    "# Vemos con Test"
   ]
  },
  {
   "cell_type": "code",
   "execution_count": 10,
   "metadata": {
    "ExecuteTime": {
     "end_time": "2020-09-16T21:06:28.087973Z",
     "start_time": "2020-09-16T21:06:27.799997Z"
    }
   },
   "outputs": [],
   "source": [
    "y_test_pred = pd.DataFrame(dt.predict(X_test), index=Y_test.index, columns=['altaPrediction'])"
   ]
  },
  {
   "cell_type": "code",
   "execution_count": 11,
   "metadata": {
    "ExecuteTime": {
     "end_time": "2020-09-16T21:06:28.932356Z",
     "start_time": "2020-09-16T21:06:28.924385Z"
    }
   },
   "outputs": [
    {
     "data": {
      "text/plain": [
       "331588"
      ]
     },
     "execution_count": 11,
     "metadata": {},
     "output_type": "execute_result"
    }
   ],
   "source": [
    "len(y_test_pred)"
   ]
  },
  {
   "cell_type": "code",
   "execution_count": 12,
   "metadata": {
    "ExecuteTime": {
     "end_time": "2020-09-16T21:06:30.196326Z",
     "start_time": "2020-09-16T21:06:29.860308Z"
    }
   },
   "outputs": [],
   "source": [
    "score_test=dt.score(X_test, Y_test)"
   ]
  },
  {
   "cell_type": "code",
   "execution_count": 13,
   "metadata": {
    "ExecuteTime": {
     "end_time": "2020-09-16T21:06:30.907003Z",
     "start_time": "2020-09-16T21:06:30.898989Z"
    }
   },
   "outputs": [
    {
     "data": {
      "text/plain": [
       "0.9700924038264352"
      ]
     },
     "execution_count": 13,
     "metadata": {},
     "output_type": "execute_result"
    }
   ],
   "source": [
    "score_test"
   ]
  },
  {
   "cell_type": "code",
   "execution_count": 14,
   "metadata": {
    "ExecuteTime": {
     "end_time": "2020-09-16T21:06:32.255526Z",
     "start_time": "2020-09-16T21:06:32.231525Z"
    }
   },
   "outputs": [],
   "source": [
    "results_df = Y_test.to_frame().join(y_test_pred)"
   ]
  },
  {
   "cell_type": "code",
   "execution_count": 15,
   "metadata": {
    "ExecuteTime": {
     "end_time": "2020-09-16T21:06:33.305946Z",
     "start_time": "2020-09-16T21:06:33.289929Z"
    }
   },
   "outputs": [],
   "source": [
    "results_df['Success']=(results_df['dif_cuentaSimple']==results_df['altaPrediction']).astype(int)"
   ]
  },
  {
   "cell_type": "code",
   "execution_count": 16,
   "metadata": {
    "ExecuteTime": {
     "end_time": "2020-09-16T21:06:34.269104Z",
     "start_time": "2020-09-16T21:06:34.237107Z"
    }
   },
   "outputs": [
    {
     "data": {
      "text/html": [
       "<div>\n",
       "<style scoped>\n",
       "    .dataframe tbody tr th:only-of-type {\n",
       "        vertical-align: middle;\n",
       "    }\n",
       "\n",
       "    .dataframe tbody tr th {\n",
       "        vertical-align: top;\n",
       "    }\n",
       "\n",
       "    .dataframe thead th {\n",
       "        text-align: right;\n",
       "    }\n",
       "</style>\n",
       "<table border=\"1\" class=\"dataframe\">\n",
       "  <thead>\n",
       "    <tr style=\"text-align: right;\">\n",
       "      <th></th>\n",
       "      <th>dif_cuentaSimple</th>\n",
       "      <th>altaPrediction</th>\n",
       "      <th>Success</th>\n",
       "    </tr>\n",
       "  </thead>\n",
       "  <tbody>\n",
       "    <tr>\n",
       "      <th>5514287</th>\n",
       "      <td>1.00</td>\n",
       "      <td>0.00</td>\n",
       "      <td>0</td>\n",
       "    </tr>\n",
       "    <tr>\n",
       "      <th>5458701</th>\n",
       "      <td>1.00</td>\n",
       "      <td>0.00</td>\n",
       "      <td>0</td>\n",
       "    </tr>\n",
       "    <tr>\n",
       "      <th>5345427</th>\n",
       "      <td>1.00</td>\n",
       "      <td>0.00</td>\n",
       "      <td>0</td>\n",
       "    </tr>\n",
       "    <tr>\n",
       "      <th>5415331</th>\n",
       "      <td>1.00</td>\n",
       "      <td>0.00</td>\n",
       "      <td>0</td>\n",
       "    </tr>\n",
       "    <tr>\n",
       "      <th>5632334</th>\n",
       "      <td>1.00</td>\n",
       "      <td>0.00</td>\n",
       "      <td>0</td>\n",
       "    </tr>\n",
       "    <tr>\n",
       "      <th>5431046</th>\n",
       "      <td>1.00</td>\n",
       "      <td>0.00</td>\n",
       "      <td>0</td>\n",
       "    </tr>\n",
       "    <tr>\n",
       "      <th>5387537</th>\n",
       "      <td>1.00</td>\n",
       "      <td>0.00</td>\n",
       "      <td>0</td>\n",
       "    </tr>\n",
       "    <tr>\n",
       "      <th>5543526</th>\n",
       "      <td>1.00</td>\n",
       "      <td>0.00</td>\n",
       "      <td>0</td>\n",
       "    </tr>\n",
       "    <tr>\n",
       "      <th>5329423</th>\n",
       "      <td>1.00</td>\n",
       "      <td>0.00</td>\n",
       "      <td>0</td>\n",
       "    </tr>\n",
       "    <tr>\n",
       "      <th>5636919</th>\n",
       "      <td>1.00</td>\n",
       "      <td>1.00</td>\n",
       "      <td>1</td>\n",
       "    </tr>\n",
       "    <tr>\n",
       "      <th>5549461</th>\n",
       "      <td>1.00</td>\n",
       "      <td>0.00</td>\n",
       "      <td>0</td>\n",
       "    </tr>\n",
       "    <tr>\n",
       "      <th>5612598</th>\n",
       "      <td>1.00</td>\n",
       "      <td>1.00</td>\n",
       "      <td>1</td>\n",
       "    </tr>\n",
       "    <tr>\n",
       "      <th>5614772</th>\n",
       "      <td>1.00</td>\n",
       "      <td>1.00</td>\n",
       "      <td>1</td>\n",
       "    </tr>\n",
       "    <tr>\n",
       "      <th>5547909</th>\n",
       "      <td>1.00</td>\n",
       "      <td>0.00</td>\n",
       "      <td>0</td>\n",
       "    </tr>\n",
       "    <tr>\n",
       "      <th>5636104</th>\n",
       "      <td>1.00</td>\n",
       "      <td>1.00</td>\n",
       "      <td>1</td>\n",
       "    </tr>\n",
       "    <tr>\n",
       "      <th>5595237</th>\n",
       "      <td>1.00</td>\n",
       "      <td>0.00</td>\n",
       "      <td>0</td>\n",
       "    </tr>\n",
       "    <tr>\n",
       "      <th>5581030</th>\n",
       "      <td>1.00</td>\n",
       "      <td>0.00</td>\n",
       "      <td>0</td>\n",
       "    </tr>\n",
       "    <tr>\n",
       "      <th>5635447</th>\n",
       "      <td>1.00</td>\n",
       "      <td>1.00</td>\n",
       "      <td>1</td>\n",
       "    </tr>\n",
       "    <tr>\n",
       "      <th>5620354</th>\n",
       "      <td>1.00</td>\n",
       "      <td>1.00</td>\n",
       "      <td>1</td>\n",
       "    </tr>\n",
       "    <tr>\n",
       "      <th>5363208</th>\n",
       "      <td>1.00</td>\n",
       "      <td>0.00</td>\n",
       "      <td>0</td>\n",
       "    </tr>\n",
       "  </tbody>\n",
       "</table>\n",
       "</div>"
      ],
      "text/plain": [
       "         dif_cuentaSimple  altaPrediction  Success\n",
       "5514287              1.00            0.00        0\n",
       "5458701              1.00            0.00        0\n",
       "5345427              1.00            0.00        0\n",
       "5415331              1.00            0.00        0\n",
       "5632334              1.00            0.00        0\n",
       "5431046              1.00            0.00        0\n",
       "5387537              1.00            0.00        0\n",
       "5543526              1.00            0.00        0\n",
       "5329423              1.00            0.00        0\n",
       "5636919              1.00            1.00        1\n",
       "5549461              1.00            0.00        0\n",
       "5612598              1.00            1.00        1\n",
       "5614772              1.00            1.00        1\n",
       "5547909              1.00            0.00        0\n",
       "5636104              1.00            1.00        1\n",
       "5595237              1.00            0.00        0\n",
       "5581030              1.00            0.00        0\n",
       "5635447              1.00            1.00        1\n",
       "5620354              1.00            1.00        1\n",
       "5363208              1.00            0.00        0"
      ]
     },
     "execution_count": 16,
     "metadata": {},
     "output_type": "execute_result"
    }
   ],
   "source": [
    "results_df[results_df['dif_cuentaSimple']!=0].sample(20)"
   ]
  },
  {
   "cell_type": "markdown",
   "metadata": {},
   "source": [
    "Vemos los aciertos para las altas de algun producto de cuenta simple:"
   ]
  },
  {
   "cell_type": "code",
   "execution_count": 17,
   "metadata": {
    "ExecuteTime": {
     "end_time": "2020-09-16T21:06:38.191466Z",
     "start_time": "2020-09-16T21:06:37.847479Z"
    }
   },
   "outputs": [
    {
     "data": {
      "text/plain": [
       "<matplotlib.axes._subplots.AxesSubplot at 0x29f82e70488>"
      ]
     },
     "execution_count": 17,
     "metadata": {},
     "output_type": "execute_result"
    },
    {
     "data": {
      "image/png": "[encoded data removed]",
      "text/plain": [
       "<Figure size 432x288 with 1 Axes>"
      ]
     },
     "metadata": {},
     "output_type": "display_data"
    }
   ],
   "source": [
    "results_df[results_df['dif_cuentaSimple']==1]['Success'].hist()"
   ]
  },
  {
   "cell_type": "markdown",
   "metadata": {},
   "source": [
    "Acertamos 4300 y fallamos 9290. "
   ]
  },
  {
   "cell_type": "code",
   "execution_count": 18,
   "metadata": {
    "ExecuteTime": {
     "end_time": "2020-09-16T21:06:40.813046Z",
     "start_time": "2020-09-16T21:06:40.797027Z"
    }
   },
   "outputs": [
    {
     "data": {
      "text/plain": [
       "0    8728\n",
       "1    4867\n",
       "Name: Success, dtype: int64"
      ]
     },
     "execution_count": 18,
     "metadata": {},
     "output_type": "execute_result"
    }
   ],
   "source": [
    "results_df[results_df['dif_cuentaSimple']==1]['Success'].value_counts()"
   ]
  },
  {
   "cell_type": "markdown",
   "metadata": {
    "ExecuteTime": {
     "end_time": "2020-09-12T15:13:45.447102Z",
     "start_time": "2020-09-12T15:13:45.442104Z"
    }
   },
   "source": [
    "Vemos los aciertos para las no altas de alguno de los prodcutos de cuenta simple:"
   ]
  },
  {
   "cell_type": "code",
   "execution_count": 19,
   "metadata": {
    "ExecuteTime": {
     "end_time": "2020-09-16T21:06:43.047307Z",
     "start_time": "2020-09-16T21:06:42.799311Z"
    }
   },
   "outputs": [
    {
     "data": {
      "text/plain": [
       "<matplotlib.axes._subplots.AxesSubplot at 0x29f5ddbb748>"
      ]
     },
     "execution_count": 19,
     "metadata": {},
     "output_type": "execute_result"
    },
    {
     "data": {
      "image/png": "[encoded data removed]",
      "text/plain": [
       "<Figure size 432x288 with 1 Axes>"
      ]
     },
     "metadata": {},
     "output_type": "display_data"
    }
   ],
   "source": [
    "results_df[results_df['dif_cuentaSimple']==0]['Success'].hist()"
   ]
  },
  {
   "cell_type": "markdown",
   "metadata": {
    "ExecuteTime": {
     "end_time": "2020-09-12T15:14:25.197704Z",
     "start_time": "2020-09-12T15:14:25.192708Z"
    }
   },
   "source": [
    "Se aciertan 316815 y solo se escapan 1178 altas que no se han predecido como tal:"
   ]
  },
  {
   "cell_type": "code",
   "execution_count": 20,
   "metadata": {
    "ExecuteTime": {
     "end_time": "2020-09-16T21:06:44.663153Z",
     "start_time": "2020-09-16T21:06:44.631139Z"
    }
   },
   "outputs": [
    {
     "data": {
      "text/plain": [
       "1    316804\n",
       "0      1189\n",
       "Name: Success, dtype: int64"
      ]
     },
     "execution_count": 20,
     "metadata": {},
     "output_type": "execute_result"
    }
   ],
   "source": [
    "results_df[results_df['dif_cuentaSimple']==0]['Success'].value_counts()"
   ]
  },
  {
   "cell_type": "code",
   "execution_count": 21,
   "metadata": {
    "ExecuteTime": {
     "end_time": "2020-09-16T21:06:45.772192Z",
     "start_time": "2020-09-16T21:06:45.764206Z"
    }
   },
   "outputs": [],
   "source": [
    "top_features = pd.Series(dt.feature_importances_, index=X_train.columns).sort_values(ascending=False).head(30)"
   ]
  },
  {
   "cell_type": "code",
   "execution_count": 22,
   "metadata": {
    "ExecuteTime": {
     "end_time": "2020-09-16T21:06:46.549167Z",
     "start_time": "2020-09-16T21:06:46.533146Z"
    }
   },
   "outputs": [
    {
     "data": {
      "text/plain": [
       "isActive_shift_1                 0.78\n",
       "em_acount_shift_1                0.04\n",
       "dif_pension_plan_shift_1         0.03\n",
       "totalAssets_shift_1              0.02\n",
       "debit_card_shift_1               0.02\n",
       "payroll_account_shift_1          0.02\n",
       "debit_card_shift_2               0.02\n",
       "active_customer_shift_1          0.01\n",
       "payroll_shift_2                  0.01\n",
       "diasDesdeUltimaAltaInt_shift_2   0.01\n",
       "entry_date_day                   0.01\n",
       "entry_date_month                 0.01\n",
       "channel_KHQ                      0.01\n",
       "pension_plan_shift_1             0.01\n",
       "dif_short_term_deposit_shift_3   0.01\n",
       "dif_debit_card_shift_3           0.00\n",
       "diasDesdeUltimaBajaInt_shift_4   0.00\n",
       "channel_XXX                      0.00\n",
       "entry_date_year                  0.00\n",
       "month                            0.00\n",
       "channel_KHM                      0.00\n",
       "debit_card_shift_4               0.00\n",
       "channel_KHN                      0.00\n",
       "channel_KAT                      0.00\n",
       "channel_KFC                      0.00\n",
       "totalCuentas_shift_3             0.00\n",
       "dif_em_account_p_shift_4         0.00\n",
       "dif_em_acount_shift_1            0.00\n",
       "dif_em_acount_shift_2            0.00\n",
       "dif_cuentaSimple_shift_4         0.00\n",
       "dtype: float64"
      ]
     },
     "execution_count": 22,
     "metadata": {},
     "output_type": "execute_result"
    }
   ],
   "source": [
    "top_features"
   ]
  },
  {
   "cell_type": "markdown",
   "metadata": {},
   "source": [
    "Curva RoC y metrica AUC"
   ]
  },
  {
   "cell_type": "markdown",
   "metadata": {},
   "source": [
    "Sacamos la probabilidad de alta calculada para los productos de cuenta simple:"
   ]
  },
  {
   "cell_type": "code",
   "execution_count": 23,
   "metadata": {
    "ExecuteTime": {
     "end_time": "2020-09-16T21:06:49.368510Z",
     "start_time": "2020-09-16T21:06:49.072551Z"
    }
   },
   "outputs": [],
   "source": [
    "y_score = pd.DataFrame(dt.predict_proba(X_test)[:,1], index=Y_test.index, columns=['AltaScore'])\n",
    "results_df = results_df.join(y_score)"
   ]
  },
  {
   "cell_type": "code",
   "execution_count": 24,
   "metadata": {
    "ExecuteTime": {
     "end_time": "2020-09-16T21:06:49.976469Z",
     "start_time": "2020-09-16T21:06:49.960472Z"
    }
   },
   "outputs": [
    {
     "data": {
      "text/html": [
       "<div>\n",
       "<style scoped>\n",
       "    .dataframe tbody tr th:only-of-type {\n",
       "        vertical-align: middle;\n",
       "    }\n",
       "\n",
       "    .dataframe tbody tr th {\n",
       "        vertical-align: top;\n",
       "    }\n",
       "\n",
       "    .dataframe thead th {\n",
       "        text-align: right;\n",
       "    }\n",
       "</style>\n",
       "<table border=\"1\" class=\"dataframe\">\n",
       "  <thead>\n",
       "    <tr style=\"text-align: right;\">\n",
       "      <th></th>\n",
       "      <th>dif_cuentaSimple</th>\n",
       "      <th>altaPrediction</th>\n",
       "      <th>Success</th>\n",
       "      <th>AltaScore</th>\n",
       "    </tr>\n",
       "  </thead>\n",
       "  <tbody>\n",
       "    <tr>\n",
       "      <th>5632809</th>\n",
       "      <td>1.00</td>\n",
       "      <td>0.00</td>\n",
       "      <td>0</td>\n",
       "      <td>0.07</td>\n",
       "    </tr>\n",
       "    <tr>\n",
       "      <th>5628388</th>\n",
       "      <td>1.00</td>\n",
       "      <td>0.00</td>\n",
       "      <td>0</td>\n",
       "      <td>0.01</td>\n",
       "    </tr>\n",
       "    <tr>\n",
       "      <th>5548414</th>\n",
       "      <td>1.00</td>\n",
       "      <td>0.00</td>\n",
       "      <td>0</td>\n",
       "      <td>0.25</td>\n",
       "    </tr>\n",
       "    <tr>\n",
       "      <th>5310685</th>\n",
       "      <td>1.00</td>\n",
       "      <td>0.00</td>\n",
       "      <td>0</td>\n",
       "      <td>0.14</td>\n",
       "    </tr>\n",
       "    <tr>\n",
       "      <th>5611997</th>\n",
       "      <td>1.00</td>\n",
       "      <td>0.00</td>\n",
       "      <td>0</td>\n",
       "      <td>0.06</td>\n",
       "    </tr>\n",
       "    <tr>\n",
       "      <th>5636669</th>\n",
       "      <td>1.00</td>\n",
       "      <td>1.00</td>\n",
       "      <td>1</td>\n",
       "      <td>0.83</td>\n",
       "    </tr>\n",
       "    <tr>\n",
       "      <th>5521841</th>\n",
       "      <td>1.00</td>\n",
       "      <td>0.00</td>\n",
       "      <td>0</td>\n",
       "      <td>0.03</td>\n",
       "    </tr>\n",
       "    <tr>\n",
       "      <th>5627258</th>\n",
       "      <td>1.00</td>\n",
       "      <td>1.00</td>\n",
       "      <td>1</td>\n",
       "      <td>0.83</td>\n",
       "    </tr>\n",
       "    <tr>\n",
       "      <th>5635893</th>\n",
       "      <td>1.00</td>\n",
       "      <td>1.00</td>\n",
       "      <td>1</td>\n",
       "      <td>0.83</td>\n",
       "    </tr>\n",
       "    <tr>\n",
       "      <th>5352737</th>\n",
       "      <td>1.00</td>\n",
       "      <td>0.00</td>\n",
       "      <td>0</td>\n",
       "      <td>0.03</td>\n",
       "    </tr>\n",
       "    <tr>\n",
       "      <th>5635102</th>\n",
       "      <td>1.00</td>\n",
       "      <td>1.00</td>\n",
       "      <td>1</td>\n",
       "      <td>0.60</td>\n",
       "    </tr>\n",
       "    <tr>\n",
       "      <th>5527823</th>\n",
       "      <td>1.00</td>\n",
       "      <td>0.00</td>\n",
       "      <td>0</td>\n",
       "      <td>0.25</td>\n",
       "    </tr>\n",
       "    <tr>\n",
       "      <th>5475136</th>\n",
       "      <td>1.00</td>\n",
       "      <td>1.00</td>\n",
       "      <td>1</td>\n",
       "      <td>0.94</td>\n",
       "    </tr>\n",
       "    <tr>\n",
       "      <th>5454413</th>\n",
       "      <td>1.00</td>\n",
       "      <td>1.00</td>\n",
       "      <td>1</td>\n",
       "      <td>0.52</td>\n",
       "    </tr>\n",
       "    <tr>\n",
       "      <th>5327291</th>\n",
       "      <td>1.00</td>\n",
       "      <td>0.00</td>\n",
       "      <td>0</td>\n",
       "      <td>0.46</td>\n",
       "    </tr>\n",
       "    <tr>\n",
       "      <th>5466524</th>\n",
       "      <td>1.00</td>\n",
       "      <td>0.00</td>\n",
       "      <td>0</td>\n",
       "      <td>0.03</td>\n",
       "    </tr>\n",
       "    <tr>\n",
       "      <th>5635728</th>\n",
       "      <td>1.00</td>\n",
       "      <td>1.00</td>\n",
       "      <td>1</td>\n",
       "      <td>0.83</td>\n",
       "    </tr>\n",
       "    <tr>\n",
       "      <th>5537823</th>\n",
       "      <td>1.00</td>\n",
       "      <td>0.00</td>\n",
       "      <td>0</td>\n",
       "      <td>0.10</td>\n",
       "    </tr>\n",
       "    <tr>\n",
       "      <th>5368324</th>\n",
       "      <td>1.00</td>\n",
       "      <td>1.00</td>\n",
       "      <td>1</td>\n",
       "      <td>0.66</td>\n",
       "    </tr>\n",
       "    <tr>\n",
       "      <th>5397946</th>\n",
       "      <td>1.00</td>\n",
       "      <td>0.00</td>\n",
       "      <td>0</td>\n",
       "      <td>0.03</td>\n",
       "    </tr>\n",
       "  </tbody>\n",
       "</table>\n",
       "</div>"
      ],
      "text/plain": [
       "         dif_cuentaSimple  altaPrediction  Success  AltaScore\n",
       "5632809              1.00            0.00        0       0.07\n",
       "5628388              1.00            0.00        0       0.01\n",
       "5548414              1.00            0.00        0       0.25\n",
       "5310685              1.00            0.00        0       0.14\n",
       "5611997              1.00            0.00        0       0.06\n",
       "5636669              1.00            1.00        1       0.83\n",
       "5521841              1.00            0.00        0       0.03\n",
       "5627258              1.00            1.00        1       0.83\n",
       "5635893              1.00            1.00        1       0.83\n",
       "5352737              1.00            0.00        0       0.03\n",
       "5635102              1.00            1.00        1       0.60\n",
       "5527823              1.00            0.00        0       0.25\n",
       "5475136              1.00            1.00        1       0.94\n",
       "5454413              1.00            1.00        1       0.52\n",
       "5327291              1.00            0.00        0       0.46\n",
       "5466524              1.00            0.00        0       0.03\n",
       "5635728              1.00            1.00        1       0.83\n",
       "5537823              1.00            0.00        0       0.10\n",
       "5368324              1.00            1.00        1       0.66\n",
       "5397946              1.00            0.00        0       0.03"
      ]
     },
     "execution_count": 24,
     "metadata": {},
     "output_type": "execute_result"
    }
   ],
   "source": [
    "results_df[results_df['dif_cuentaSimple']!=0].sample(20)"
   ]
  },
  {
   "cell_type": "code",
   "execution_count": 25,
   "metadata": {
    "ExecuteTime": {
     "end_time": "2020-09-16T21:06:51.096359Z",
     "start_time": "2020-09-16T21:06:51.072342Z"
    }
   },
   "outputs": [
    {
     "data": {
      "text/html": [
       "<div>\n",
       "<style scoped>\n",
       "    .dataframe tbody tr th:only-of-type {\n",
       "        vertical-align: middle;\n",
       "    }\n",
       "\n",
       "    .dataframe tbody tr th {\n",
       "        vertical-align: top;\n",
       "    }\n",
       "\n",
       "    .dataframe thead th {\n",
       "        text-align: right;\n",
       "    }\n",
       "</style>\n",
       "<table border=\"1\" class=\"dataframe\">\n",
       "  <thead>\n",
       "    <tr style=\"text-align: right;\">\n",
       "      <th></th>\n",
       "      <th>index</th>\n",
       "      <th>Count</th>\n",
       "    </tr>\n",
       "  </thead>\n",
       "  <tbody>\n",
       "    <tr>\n",
       "      <th>0</th>\n",
       "      <td>0.00</td>\n",
       "      <td>158165</td>\n",
       "    </tr>\n",
       "    <tr>\n",
       "      <th>1</th>\n",
       "      <td>0.03</td>\n",
       "      <td>109614</td>\n",
       "    </tr>\n",
       "    <tr>\n",
       "      <th>2</th>\n",
       "      <td>0.07</td>\n",
       "      <td>9059</td>\n",
       "    </tr>\n",
       "    <tr>\n",
       "      <th>3</th>\n",
       "      <td>0.01</td>\n",
       "      <td>8975</td>\n",
       "    </tr>\n",
       "    <tr>\n",
       "      <th>4</th>\n",
       "      <td>0.05</td>\n",
       "      <td>7769</td>\n",
       "    </tr>\n",
       "    <tr>\n",
       "      <th>5</th>\n",
       "      <td>0.23</td>\n",
       "      <td>5727</td>\n",
       "    </tr>\n",
       "    <tr>\n",
       "      <th>6</th>\n",
       "      <td>0.25</td>\n",
       "      <td>5405</td>\n",
       "    </tr>\n",
       "    <tr>\n",
       "      <th>7</th>\n",
       "      <td>0.06</td>\n",
       "      <td>4548</td>\n",
       "    </tr>\n",
       "    <tr>\n",
       "      <th>8</th>\n",
       "      <td>0.10</td>\n",
       "      <td>3959</td>\n",
       "    </tr>\n",
       "    <tr>\n",
       "      <th>9</th>\n",
       "      <td>0.14</td>\n",
       "      <td>3129</td>\n",
       "    </tr>\n",
       "    <tr>\n",
       "      <th>10</th>\n",
       "      <td>0.02</td>\n",
       "      <td>2580</td>\n",
       "    </tr>\n",
       "    <tr>\n",
       "      <th>11</th>\n",
       "      <td>0.08</td>\n",
       "      <td>1871</td>\n",
       "    </tr>\n",
       "    <tr>\n",
       "      <th>12</th>\n",
       "      <td>0.83</td>\n",
       "      <td>1794</td>\n",
       "    </tr>\n",
       "    <tr>\n",
       "      <th>13</th>\n",
       "      <td>0.36</td>\n",
       "      <td>1456</td>\n",
       "    </tr>\n",
       "    <tr>\n",
       "      <th>14</th>\n",
       "      <td>0.52</td>\n",
       "      <td>1344</td>\n",
       "    </tr>\n",
       "    <tr>\n",
       "      <th>15</th>\n",
       "      <td>0.66</td>\n",
       "      <td>1114</td>\n",
       "    </tr>\n",
       "    <tr>\n",
       "      <th>16</th>\n",
       "      <td>0.60</td>\n",
       "      <td>972</td>\n",
       "    </tr>\n",
       "    <tr>\n",
       "      <th>17</th>\n",
       "      <td>0.16</td>\n",
       "      <td>943</td>\n",
       "    </tr>\n",
       "    <tr>\n",
       "      <th>18</th>\n",
       "      <td>0.08</td>\n",
       "      <td>876</td>\n",
       "    </tr>\n",
       "    <tr>\n",
       "      <th>19</th>\n",
       "      <td>0.79</td>\n",
       "      <td>481</td>\n",
       "    </tr>\n",
       "    <tr>\n",
       "      <th>20</th>\n",
       "      <td>0.46</td>\n",
       "      <td>393</td>\n",
       "    </tr>\n",
       "    <tr>\n",
       "      <th>21</th>\n",
       "      <td>0.10</td>\n",
       "      <td>303</td>\n",
       "    </tr>\n",
       "    <tr>\n",
       "      <th>22</th>\n",
       "      <td>0.23</td>\n",
       "      <td>282</td>\n",
       "    </tr>\n",
       "    <tr>\n",
       "      <th>23</th>\n",
       "      <td>0.10</td>\n",
       "      <td>219</td>\n",
       "    </tr>\n",
       "    <tr>\n",
       "      <th>24</th>\n",
       "      <td>0.02</td>\n",
       "      <td>177</td>\n",
       "    </tr>\n",
       "    <tr>\n",
       "      <th>25</th>\n",
       "      <td>0.74</td>\n",
       "      <td>119</td>\n",
       "    </tr>\n",
       "    <tr>\n",
       "      <th>26</th>\n",
       "      <td>0.48</td>\n",
       "      <td>77</td>\n",
       "    </tr>\n",
       "    <tr>\n",
       "      <th>27</th>\n",
       "      <td>0.93</td>\n",
       "      <td>76</td>\n",
       "    </tr>\n",
       "    <tr>\n",
       "      <th>28</th>\n",
       "      <td>0.94</td>\n",
       "      <td>65</td>\n",
       "    </tr>\n",
       "    <tr>\n",
       "      <th>29</th>\n",
       "      <td>0.71</td>\n",
       "      <td>64</td>\n",
       "    </tr>\n",
       "    <tr>\n",
       "      <th>30</th>\n",
       "      <td>0.84</td>\n",
       "      <td>20</td>\n",
       "    </tr>\n",
       "    <tr>\n",
       "      <th>31</th>\n",
       "      <td>0.85</td>\n",
       "      <td>3</td>\n",
       "    </tr>\n",
       "    <tr>\n",
       "      <th>32</th>\n",
       "      <td>0.09</td>\n",
       "      <td>3</td>\n",
       "    </tr>\n",
       "    <tr>\n",
       "      <th>33</th>\n",
       "      <td>0.65</td>\n",
       "      <td>2</td>\n",
       "    </tr>\n",
       "    <tr>\n",
       "      <th>34</th>\n",
       "      <td>0.35</td>\n",
       "      <td>2</td>\n",
       "    </tr>\n",
       "    <tr>\n",
       "      <th>35</th>\n",
       "      <td>0.83</td>\n",
       "      <td>1</td>\n",
       "    </tr>\n",
       "    <tr>\n",
       "      <th>36</th>\n",
       "      <td>0.66</td>\n",
       "      <td>1</td>\n",
       "    </tr>\n",
       "  </tbody>\n",
       "</table>\n",
       "</div>"
      ],
      "text/plain": [
       "    index   Count\n",
       "0    0.00  158165\n",
       "1    0.03  109614\n",
       "2    0.07    9059\n",
       "3    0.01    8975\n",
       "4    0.05    7769\n",
       "5    0.23    5727\n",
       "6    0.25    5405\n",
       "7    0.06    4548\n",
       "8    0.10    3959\n",
       "9    0.14    3129\n",
       "10   0.02    2580\n",
       "11   0.08    1871\n",
       "12   0.83    1794\n",
       "13   0.36    1456\n",
       "14   0.52    1344\n",
       "15   0.66    1114\n",
       "16   0.60     972\n",
       "17   0.16     943\n",
       "18   0.08     876\n",
       "19   0.79     481\n",
       "20   0.46     393\n",
       "21   0.10     303\n",
       "22   0.23     282\n",
       "23   0.10     219\n",
       "24   0.02     177\n",
       "25   0.74     119\n",
       "26   0.48      77\n",
       "27   0.93      76\n",
       "28   0.94      65\n",
       "29   0.71      64\n",
       "30   0.84      20\n",
       "31   0.85       3\n",
       "32   0.09       3\n",
       "33   0.65       2\n",
       "34   0.35       2\n",
       "35   0.83       1\n",
       "36   0.66       1"
      ]
     },
     "execution_count": 25,
     "metadata": {},
     "output_type": "execute_result"
    }
   ],
   "source": [
    "results_df['AltaScore'].value_counts(ascending=False).reset_index(name='Count')"
   ]
  },
  {
   "cell_type": "markdown",
   "metadata": {},
   "source": [
    "Vemos que tenemos algunas hojas del arbol para solo 6 clientes. "
   ]
  },
  {
   "cell_type": "code",
   "execution_count": 26,
   "metadata": {
    "ExecuteTime": {
     "end_time": "2020-09-16T21:06:52.760841Z",
     "start_time": "2020-09-16T21:06:52.648829Z"
    }
   },
   "outputs": [
    {
     "name": "stdout",
     "output_type": "stream",
     "text": [
      "0.9037188889524375\n"
     ]
    }
   ],
   "source": [
    "print(metrics.roc_auc_score(results_df['dif_cuentaSimple'], results_df['AltaScore']))"
   ]
  },
  {
   "cell_type": "code",
   "execution_count": 27,
   "metadata": {
    "ExecuteTime": {
     "end_time": "2020-09-16T21:06:53.416780Z",
     "start_time": "2020-09-16T21:06:53.352767Z"
    }
   },
   "outputs": [],
   "source": [
    "fpr, tpr, _ = metrics.roc_curve(results_df['dif_cuentaSimple'], results_df['AltaScore'])"
   ]
  },
  {
   "cell_type": "code",
   "execution_count": 28,
   "metadata": {
    "ExecuteTime": {
     "end_time": "2020-09-16T21:06:54.311821Z",
     "start_time": "2020-09-16T21:06:54.032702Z"
    }
   },
   "outputs": [
    {
     "data": {
      "image/png": "[encoded data removed]",
      "text/plain": [
       "<Figure size 1080x432 with 1 Axes>"
      ]
     },
     "metadata": {},
     "output_type": "display_data"
    }
   ],
   "source": [
    "fig, ax = plt.subplots(figsize = (15, 6))\n",
    "plt.clf()\n",
    "plt.plot(fpr, tpr)\n",
    "plt.plot([0, 1], [0, 1], color='gray', linestyle='--')\n",
    "plt.xlabel('FPR')\n",
    "plt.ylabel('TPR')\n",
    "plt.title('ROC curve')\n",
    "plt.show()"
   ]
  },
  {
   "cell_type": "markdown",
   "metadata": {},
   "source": [
    "Vamos a sacar los clientes que hemos acertado realmente y con una probabilidad añta de compra:"
   ]
  },
  {
   "cell_type": "code",
   "execution_count": 29,
   "metadata": {
    "ExecuteTime": {
     "end_time": "2020-09-16T21:06:56.103869Z",
     "start_time": "2020-09-16T21:06:55.871872Z"
    }
   },
   "outputs": [
    {
     "data": {
      "text/plain": [
       "<matplotlib.axes._subplots.AxesSubplot at 0x29f82ed4948>"
      ]
     },
     "execution_count": 29,
     "metadata": {},
     "output_type": "execute_result"
    },
    {
     "data": {
      "image/png": "[encoded data removed]",
      "text/plain": [
       "<Figure size 432x288 with 1 Axes>"
      ]
     },
     "metadata": {},
     "output_type": "display_data"
    }
   ],
   "source": [
    "results_df[(results_df['dif_cuentaSimple']!=0) &\n",
    "           (results_df['AltaScore']> 0.70) ]['Success'].hist()"
   ]
  },
  {
   "cell_type": "code",
   "execution_count": 29,
   "metadata": {
    "ExecuteTime": {
     "end_time": "2020-09-16T08:16:44.678586Z",
     "start_time": "2020-09-16T08:16:44.669591Z"
    }
   },
   "outputs": [
    {
     "data": {
      "text/plain": [
       "1    4867\n",
       "Name: Success, dtype: int64"
      ]
     },
     "execution_count": 29,
     "metadata": {},
     "output_type": "execute_result"
    }
   ],
   "source": [
    "results_df[(results_df['dif_cuentaSimple']!=0) &\n",
    "           (results_df['AltaScore']> 0.50) ]['Success'].value_counts()"
   ]
  },
  {
   "cell_type": "markdown",
   "metadata": {
    "ExecuteTime": {
     "end_time": "2020-09-12T15:20:45.432033Z",
     "start_time": "2020-09-12T15:20:45.426058Z"
    }
   },
   "source": [
    "Vemos que tenemos unos 4300 clientes que es muy,muyy probable que nos contraten un producto de cuenta simple. Sobre ellos podriamos centrar una campaña de marketing ofreciendoles algun producto de estos."
   ]
  },
  {
   "cell_type": "markdown",
   "metadata": {},
   "source": [
    "Nos vamos a quedar con los clientes para los quedar el algoritmo ha dado una posibilidad mayor del 70% de que contraten un producto de cuenta simple:"
   ]
  },
  {
   "cell_type": "code",
   "execution_count": 31,
   "metadata": {
    "ExecuteTime": {
     "end_time": "2020-09-16T21:07:25.445858Z",
     "start_time": "2020-09-16T21:07:25.421855Z"
    },
    "scrolled": true
   },
   "outputs": [
    {
     "data": {
      "text/html": [
       "<div>\n",
       "<style scoped>\n",
       "    .dataframe tbody tr th:only-of-type {\n",
       "        vertical-align: middle;\n",
       "    }\n",
       "\n",
       "    .dataframe tbody tr th {\n",
       "        vertical-align: top;\n",
       "    }\n",
       "\n",
       "    .dataframe thead th {\n",
       "        text-align: right;\n",
       "    }\n",
       "</style>\n",
       "<table border=\"1\" class=\"dataframe\">\n",
       "  <thead>\n",
       "    <tr style=\"text-align: right;\">\n",
       "      <th></th>\n",
       "      <th>dif_cuentaSimple</th>\n",
       "      <th>altaPrediction</th>\n",
       "      <th>Success</th>\n",
       "      <th>AltaScore</th>\n",
       "    </tr>\n",
       "  </thead>\n",
       "  <tbody>\n",
       "    <tr>\n",
       "      <th>5305501</th>\n",
       "      <td>0.00</td>\n",
       "      <td>1.00</td>\n",
       "      <td>0</td>\n",
       "      <td>0.79</td>\n",
       "    </tr>\n",
       "    <tr>\n",
       "      <th>5305566</th>\n",
       "      <td>0.00</td>\n",
       "      <td>1.00</td>\n",
       "      <td>0</td>\n",
       "      <td>0.66</td>\n",
       "    </tr>\n",
       "    <tr>\n",
       "      <th>5305567</th>\n",
       "      <td>1.00</td>\n",
       "      <td>1.00</td>\n",
       "      <td>1</td>\n",
       "      <td>0.79</td>\n",
       "    </tr>\n",
       "    <tr>\n",
       "      <th>5305641</th>\n",
       "      <td>1.00</td>\n",
       "      <td>1.00</td>\n",
       "      <td>1</td>\n",
       "      <td>0.83</td>\n",
       "    </tr>\n",
       "    <tr>\n",
       "      <th>5305663</th>\n",
       "      <td>1.00</td>\n",
       "      <td>1.00</td>\n",
       "      <td>1</td>\n",
       "      <td>0.83</td>\n",
       "    </tr>\n",
       "    <tr>\n",
       "      <th>...</th>\n",
       "      <td>...</td>\n",
       "      <td>...</td>\n",
       "      <td>...</td>\n",
       "      <td>...</td>\n",
       "    </tr>\n",
       "    <tr>\n",
       "      <th>5636719</th>\n",
       "      <td>1.00</td>\n",
       "      <td>1.00</td>\n",
       "      <td>1</td>\n",
       "      <td>0.83</td>\n",
       "    </tr>\n",
       "    <tr>\n",
       "      <th>5636720</th>\n",
       "      <td>1.00</td>\n",
       "      <td>1.00</td>\n",
       "      <td>1</td>\n",
       "      <td>0.83</td>\n",
       "    </tr>\n",
       "    <tr>\n",
       "      <th>5636721</th>\n",
       "      <td>1.00</td>\n",
       "      <td>1.00</td>\n",
       "      <td>1</td>\n",
       "      <td>0.83</td>\n",
       "    </tr>\n",
       "    <tr>\n",
       "      <th>5636722</th>\n",
       "      <td>1.00</td>\n",
       "      <td>1.00</td>\n",
       "      <td>1</td>\n",
       "      <td>0.83</td>\n",
       "    </tr>\n",
       "    <tr>\n",
       "      <th>5636723</th>\n",
       "      <td>1.00</td>\n",
       "      <td>1.00</td>\n",
       "      <td>1</td>\n",
       "      <td>0.83</td>\n",
       "    </tr>\n",
       "  </tbody>\n",
       "</table>\n",
       "<p>3738 rows × 4 columns</p>\n",
       "</div>"
      ],
      "text/plain": [
       "         dif_cuentaSimple  altaPrediction  Success  AltaScore\n",
       "5305501              0.00            1.00        0       0.79\n",
       "5305566              0.00            1.00        0       0.66\n",
       "5305567              1.00            1.00        1       0.79\n",
       "5305641              1.00            1.00        1       0.83\n",
       "5305663              1.00            1.00        1       0.83\n",
       "...                   ...             ...      ...        ...\n",
       "5636719              1.00            1.00        1       0.83\n",
       "5636720              1.00            1.00        1       0.83\n",
       "5636721              1.00            1.00        1       0.83\n",
       "5636722              1.00            1.00        1       0.83\n",
       "5636723              1.00            1.00        1       0.83\n",
       "\n",
       "[3738 rows x 4 columns]"
      ]
     },
     "execution_count": 31,
     "metadata": {},
     "output_type": "execute_result"
    }
   ],
   "source": [
    "results_df[results_df['AltaScore']> 0.65 ]"
   ]
  },
  {
   "cell_type": "markdown",
   "metadata": {},
   "source": [
    "Nos quedamos solo con el campo de la probabilidad de dar un alta de cuenta simple:"
   ]
  },
  {
   "cell_type": "code",
   "execution_count": 32,
   "metadata": {
    "ExecuteTime": {
     "end_time": "2020-09-16T21:07:36.362283Z",
     "start_time": "2020-09-16T21:07:36.346301Z"
    }
   },
   "outputs": [
    {
     "data": {
      "text/html": [
       "<div>\n",
       "<style scoped>\n",
       "    .dataframe tbody tr th:only-of-type {\n",
       "        vertical-align: middle;\n",
       "    }\n",
       "\n",
       "    .dataframe tbody tr th {\n",
       "        vertical-align: top;\n",
       "    }\n",
       "\n",
       "    .dataframe thead th {\n",
       "        text-align: right;\n",
       "    }\n",
       "</style>\n",
       "<table border=\"1\" class=\"dataframe\">\n",
       "  <thead>\n",
       "    <tr style=\"text-align: right;\">\n",
       "      <th></th>\n",
       "      <th>AltaScore</th>\n",
       "    </tr>\n",
       "  </thead>\n",
       "  <tbody>\n",
       "    <tr>\n",
       "      <th>5305501</th>\n",
       "      <td>0.79</td>\n",
       "    </tr>\n",
       "    <tr>\n",
       "      <th>5305566</th>\n",
       "      <td>0.66</td>\n",
       "    </tr>\n",
       "    <tr>\n",
       "      <th>5305567</th>\n",
       "      <td>0.79</td>\n",
       "    </tr>\n",
       "    <tr>\n",
       "      <th>5305641</th>\n",
       "      <td>0.83</td>\n",
       "    </tr>\n",
       "    <tr>\n",
       "      <th>5305663</th>\n",
       "      <td>0.83</td>\n",
       "    </tr>\n",
       "    <tr>\n",
       "      <th>...</th>\n",
       "      <td>...</td>\n",
       "    </tr>\n",
       "    <tr>\n",
       "      <th>5636719</th>\n",
       "      <td>0.83</td>\n",
       "    </tr>\n",
       "    <tr>\n",
       "      <th>5636720</th>\n",
       "      <td>0.83</td>\n",
       "    </tr>\n",
       "    <tr>\n",
       "      <th>5636721</th>\n",
       "      <td>0.83</td>\n",
       "    </tr>\n",
       "    <tr>\n",
       "      <th>5636722</th>\n",
       "      <td>0.83</td>\n",
       "    </tr>\n",
       "    <tr>\n",
       "      <th>5636723</th>\n",
       "      <td>0.83</td>\n",
       "    </tr>\n",
       "  </tbody>\n",
       "</table>\n",
       "<p>3738 rows × 1 columns</p>\n",
       "</div>"
      ],
      "text/plain": [
       "         AltaScore\n",
       "5305501       0.79\n",
       "5305566       0.66\n",
       "5305567       0.79\n",
       "5305641       0.83\n",
       "5305663       0.83\n",
       "...            ...\n",
       "5636719       0.83\n",
       "5636720       0.83\n",
       "5636721       0.83\n",
       "5636722       0.83\n",
       "5636723       0.83\n",
       "\n",
       "[3738 rows x 1 columns]"
      ]
     },
     "execution_count": 32,
     "metadata": {},
     "output_type": "execute_result"
    }
   ],
   "source": [
    "results_df[results_df['AltaScore']> 0.65 ]['AltaScore'].to_frame()"
   ]
  },
  {
   "cell_type": "markdown",
   "metadata": {},
   "source": [
    "Se lo concatenamos al dataset original ya que en este es donde esta la informacion del pk_cid del cliente"
   ]
  },
  {
   "cell_type": "code",
   "execution_count": 33,
   "metadata": {
    "ExecuteTime": {
     "end_time": "2020-09-16T21:07:50.269530Z",
     "start_time": "2020-09-16T21:07:45.781952Z"
    }
   },
   "outputs": [],
   "source": [
    "full_df = pd.concat([full_df,results_df[results_df['AltaScore']> 0.65 ]['AltaScore'].to_frame()],axis=1)"
   ]
  },
  {
   "cell_type": "code",
   "execution_count": 34,
   "metadata": {
    "ExecuteTime": {
     "end_time": "2020-09-16T21:07:57.771429Z",
     "start_time": "2020-09-16T21:07:52.443934Z"
    }
   },
   "outputs": [],
   "source": [
    "full_df.rename(columns={'AltaScore':'AltaScoreCuentaSimple'},inplace=True)"
   ]
  },
  {
   "cell_type": "markdown",
   "metadata": {
    "ExecuteTime": {
     "end_time": "2020-09-16T08:34:06.270004Z",
     "start_time": "2020-09-16T08:34:06.265005Z"
    }
   },
   "source": [
    "Obviamente, se nos han generado muchisimos nulos en esta operacion. A estos les damos la probabilidad 0"
   ]
  },
  {
   "cell_type": "code",
   "execution_count": 35,
   "metadata": {
    "ExecuteTime": {
     "end_time": "2020-09-16T21:07:59.860501Z",
     "start_time": "2020-09-16T21:07:59.772506Z"
    }
   },
   "outputs": [
    {
     "data": {
      "text/plain": [
       "nan     5060232\n",
       "0.83       1794\n",
       "0.66       1114\n",
       "0.79        481\n",
       "0.74        119\n",
       "0.93         76\n",
       "0.94         65\n",
       "0.71         64\n",
       "0.84         20\n",
       "0.85          3\n",
       "0.66          1\n",
       "0.83          1\n",
       "Name: AltaScoreCuentaSimple, dtype: int64"
      ]
     },
     "execution_count": 35,
     "metadata": {},
     "output_type": "execute_result"
    }
   ],
   "source": [
    "full_df['AltaScoreCuentaSimple'].value_counts(dropna=False)"
   ]
  },
  {
   "cell_type": "code",
   "execution_count": 36,
   "metadata": {
    "ExecuteTime": {
     "end_time": "2020-09-16T21:08:07.513174Z",
     "start_time": "2020-09-16T21:08:07.489177Z"
    }
   },
   "outputs": [],
   "source": [
    "full_df['AltaScoreCuentaSimple'].fillna(0, inplace=True)"
   ]
  },
  {
   "cell_type": "code",
   "execution_count": 40,
   "metadata": {
    "ExecuteTime": {
     "end_time": "2020-09-16T21:12:23.096564Z",
     "start_time": "2020-09-16T21:12:23.016587Z"
    }
   },
   "outputs": [
    {
     "data": {
      "text/plain": [
       "0.00    5060232\n",
       "0.83       1794\n",
       "0.66       1114\n",
       "0.79        481\n",
       "0.74        119\n",
       "0.93         76\n",
       "0.94         65\n",
       "0.71         64\n",
       "0.84         20\n",
       "0.85          3\n",
       "0.66          1\n",
       "0.83          1\n",
       "Name: AltaScoreCuentaSimple, dtype: int64"
      ]
     },
     "execution_count": 40,
     "metadata": {},
     "output_type": "execute_result"
    }
   ],
   "source": [
    "full_df['AltaScoreCuentaSimple'].value_counts(dropna=False)"
   ]
  },
  {
   "cell_type": "code",
   "execution_count": 47,
   "metadata": {
    "ExecuteTime": {
     "end_time": "2020-09-16T21:17:34.732823Z",
     "start_time": "2020-09-16T21:17:34.692806Z"
    }
   },
   "outputs": [
    {
     "data": {
      "text/plain": [
       "3738"
      ]
     },
     "execution_count": 47,
     "metadata": {},
     "output_type": "execute_result"
    }
   ],
   "source": [
    "full_df[ (full_df['AltaScoreCuentaSimple'] > 0.65) ].groupby(['AltaScoreCuentaSimple']).size().sum()"
   ]
  },
  {
   "cell_type": "markdown",
   "metadata": {},
   "source": [
    "Generamos el fichero \".csv\" con los pk_cid y las probabiliadades de alta que pasaremos a sistemas."
   ]
  },
  {
   "cell_type": "code",
   "execution_count": 46,
   "metadata": {
    "ExecuteTime": {
     "end_time": "2020-09-16T21:13:49.820614Z",
     "start_time": "2020-09-16T21:13:49.780615Z"
    }
   },
   "outputs": [],
   "source": [
    "full_df[ (full_df['AltaScoreCuentaSimple']>= 0.65) ][['pk_cid','AltaScoreCuentaSimple']].to_csv(\n",
    "    '../Datos-Easymoney/recomendacion_cuentaSimple.csv',index=False)"
   ]
  },
  {
   "cell_type": "markdown",
   "metadata": {
    "ExecuteTime": {
     "end_time": "2020-09-09T08:47:56.101605Z",
     "start_time": "2020-09-09T08:47:56.098608Z"
    }
   },
   "source": [
    "# Enternamos para ahorroInversion:"
   ]
  },
  {
   "cell_type": "code",
   "execution_count": 111,
   "metadata": {
    "ExecuteTime": {
     "end_time": "2020-09-16T08:53:06.535191Z",
     "start_time": "2020-09-16T08:53:04.398567Z"
    }
   },
   "outputs": [
    {
     "data": {
      "text/plain": [
       "85444"
      ]
     },
     "execution_count": 111,
     "metadata": {},
     "output_type": "execute_result"
    }
   ],
   "source": [
    "del X_train,Y_train, X_valida, Y_valida,X_test,Y_test\n",
    "gc.collect()\n"
   ]
  },
  {
   "cell_type": "code",
   "execution_count": 112,
   "metadata": {
    "ExecuteTime": {
     "end_time": "2020-09-16T08:53:17.688250Z",
     "start_time": "2020-09-16T08:53:08.632789Z"
    }
   },
   "outputs": [],
   "source": [
    "X_train = full_df[full_df[\"pk_partition\"].isin(train_index)].drop(variables_borrar, axis=1)\n",
    "Y_train = full_df[full_df[\"pk_partition\"].isin(train_index)]['dif_ahorroInversion']\n",
    "\n",
    "X_valida = full_df[full_df[\"pk_partition\"].isin(valida_index)].drop(variables_borrar, axis=1)\n",
    "Y_valida = full_df[full_df[\"pk_partition\"].isin(valida_index)]['dif_ahorroInversion']\n",
    "\n",
    "X_test = full_df[full_df[\"pk_partition\"].isin(test_index)].drop(variables_borrar, axis = 1)\n",
    "Y_test = full_df[full_df[\"pk_partition\"].isin(test_index)]['dif_ahorroInversion']"
   ]
  },
  {
   "cell_type": "code",
   "execution_count": 113,
   "metadata": {
    "ExecuteTime": {
     "end_time": "2020-09-16T08:54:11.988473Z",
     "start_time": "2020-09-16T08:53:19.226940Z"
    }
   },
   "outputs": [
    {
     "data": {
      "text/plain": [
       "DecisionTreeClassifier(ccp_alpha=0.0, class_weight=None, criterion='gini',\n",
       "                       max_depth=7, max_features=None, max_leaf_nodes=None,\n",
       "                       min_impurity_decrease=0.0, min_impurity_split=None,\n",
       "                       min_samples_leaf=1, min_samples_split=10000,\n",
       "                       min_weight_fraction_leaf=0.0, presort='deprecated',\n",
       "                       random_state=42, splitter='best')"
      ]
     },
     "execution_count": 113,
     "metadata": {},
     "output_type": "execute_result"
    }
   ],
   "source": [
    "dt.fit(X_train,Y_train)"
   ]
  },
  {
   "cell_type": "code",
   "execution_count": 114,
   "metadata": {
    "ExecuteTime": {
     "end_time": "2020-09-16T08:54:20.743255Z",
     "start_time": "2020-09-16T08:54:14.780355Z"
    }
   },
   "outputs": [
    {
     "name": "stdout",
     "output_type": "stream",
     "text": [
      "Resultados para: Train: 0.9894363059900456 - Test: 0.9918550218234281\n"
     ]
    }
   ],
   "source": [
    "score_train=dt.score(X_train, Y_train)\n",
    "score_test=dt.score(X_valida, Y_valida)\n",
    "print('Resultados para: Train: {} - Test: {}'.format(score_train,score_test))\n"
   ]
  },
  {
   "cell_type": "markdown",
   "metadata": {},
   "source": [
    "Predecimos para Test:"
   ]
  },
  {
   "cell_type": "code",
   "execution_count": 115,
   "metadata": {
    "ExecuteTime": {
     "end_time": "2020-09-16T08:54:23.048074Z",
     "start_time": "2020-09-16T08:54:22.469079Z"
    }
   },
   "outputs": [],
   "source": [
    "y_test_pred = pd.DataFrame(dt.predict(X_test), index=Y_test.index, columns=['altaPrediction'])\n"
   ]
  },
  {
   "cell_type": "code",
   "execution_count": 116,
   "metadata": {
    "ExecuteTime": {
     "end_time": "2020-09-16T08:54:25.248082Z",
     "start_time": "2020-09-16T08:54:24.610899Z"
    }
   },
   "outputs": [],
   "source": [
    "score_test=dt.score(X_test, Y_test)"
   ]
  },
  {
   "cell_type": "code",
   "execution_count": 117,
   "metadata": {
    "ExecuteTime": {
     "end_time": "2020-09-16T08:54:26.770768Z",
     "start_time": "2020-09-16T08:54:26.766217Z"
    }
   },
   "outputs": [
    {
     "data": {
      "text/plain": [
       "0.9914743597476386"
      ]
     },
     "execution_count": 117,
     "metadata": {},
     "output_type": "execute_result"
    }
   ],
   "source": [
    "score_test"
   ]
  },
  {
   "cell_type": "code",
   "execution_count": 118,
   "metadata": {
    "ExecuteTime": {
     "end_time": "2020-09-16T08:54:28.294052Z",
     "start_time": "2020-09-16T08:54:28.279059Z"
    }
   },
   "outputs": [],
   "source": [
    "results_df = Y_test.to_frame().join(y_test_pred)"
   ]
  },
  {
   "cell_type": "code",
   "execution_count": 119,
   "metadata": {
    "ExecuteTime": {
     "end_time": "2020-09-16T08:54:29.840432Z",
     "start_time": "2020-09-16T08:54:29.832378Z"
    }
   },
   "outputs": [],
   "source": [
    "results_df['Success']=(results_df['dif_ahorroInversion']==results_df['altaPrediction']).astype(int)"
   ]
  },
  {
   "cell_type": "code",
   "execution_count": 120,
   "metadata": {
    "ExecuteTime": {
     "end_time": "2020-09-16T08:54:31.388714Z",
     "start_time": "2020-09-16T08:54:31.370237Z"
    }
   },
   "outputs": [
    {
     "data": {
      "text/html": [
       "<div>\n",
       "<style scoped>\n",
       "    .dataframe tbody tr th:only-of-type {\n",
       "        vertical-align: middle;\n",
       "    }\n",
       "\n",
       "    .dataframe tbody tr th {\n",
       "        vertical-align: top;\n",
       "    }\n",
       "\n",
       "    .dataframe thead th {\n",
       "        text-align: right;\n",
       "    }\n",
       "</style>\n",
       "<table border=\"1\" class=\"dataframe\">\n",
       "  <thead>\n",
       "    <tr style=\"text-align: right;\">\n",
       "      <th></th>\n",
       "      <th>dif_ahorroInversion</th>\n",
       "      <th>altaPrediction</th>\n",
       "      <th>Success</th>\n",
       "    </tr>\n",
       "  </thead>\n",
       "  <tbody>\n",
       "    <tr>\n",
       "      <th>5383768</th>\n",
       "      <td>1.00</td>\n",
       "      <td>1.00</td>\n",
       "      <td>1</td>\n",
       "    </tr>\n",
       "    <tr>\n",
       "      <th>5469464</th>\n",
       "      <td>1.00</td>\n",
       "      <td>1.00</td>\n",
       "      <td>1</td>\n",
       "    </tr>\n",
       "    <tr>\n",
       "      <th>5550318</th>\n",
       "      <td>1.00</td>\n",
       "      <td>0.00</td>\n",
       "      <td>0</td>\n",
       "    </tr>\n",
       "    <tr>\n",
       "      <th>5527824</th>\n",
       "      <td>1.00</td>\n",
       "      <td>0.00</td>\n",
       "      <td>0</td>\n",
       "    </tr>\n",
       "    <tr>\n",
       "      <th>5499909</th>\n",
       "      <td>1.00</td>\n",
       "      <td>0.00</td>\n",
       "      <td>0</td>\n",
       "    </tr>\n",
       "    <tr>\n",
       "      <th>5459387</th>\n",
       "      <td>1.00</td>\n",
       "      <td>1.00</td>\n",
       "      <td>1</td>\n",
       "    </tr>\n",
       "    <tr>\n",
       "      <th>5614360</th>\n",
       "      <td>1.00</td>\n",
       "      <td>0.00</td>\n",
       "      <td>0</td>\n",
       "    </tr>\n",
       "    <tr>\n",
       "      <th>5415863</th>\n",
       "      <td>1.00</td>\n",
       "      <td>0.00</td>\n",
       "      <td>0</td>\n",
       "    </tr>\n",
       "    <tr>\n",
       "      <th>5331344</th>\n",
       "      <td>1.00</td>\n",
       "      <td>0.00</td>\n",
       "      <td>0</td>\n",
       "    </tr>\n",
       "    <tr>\n",
       "      <th>5432207</th>\n",
       "      <td>1.00</td>\n",
       "      <td>1.00</td>\n",
       "      <td>1</td>\n",
       "    </tr>\n",
       "    <tr>\n",
       "      <th>5389014</th>\n",
       "      <td>1.00</td>\n",
       "      <td>1.00</td>\n",
       "      <td>1</td>\n",
       "    </tr>\n",
       "    <tr>\n",
       "      <th>5390586</th>\n",
       "      <td>1.00</td>\n",
       "      <td>0.00</td>\n",
       "      <td>0</td>\n",
       "    </tr>\n",
       "    <tr>\n",
       "      <th>5634408</th>\n",
       "      <td>1.00</td>\n",
       "      <td>0.00</td>\n",
       "      <td>0</td>\n",
       "    </tr>\n",
       "    <tr>\n",
       "      <th>5632640</th>\n",
       "      <td>1.00</td>\n",
       "      <td>0.00</td>\n",
       "      <td>0</td>\n",
       "    </tr>\n",
       "    <tr>\n",
       "      <th>5314141</th>\n",
       "      <td>1.00</td>\n",
       "      <td>1.00</td>\n",
       "      <td>1</td>\n",
       "    </tr>\n",
       "    <tr>\n",
       "      <th>5461924</th>\n",
       "      <td>1.00</td>\n",
       "      <td>0.00</td>\n",
       "      <td>0</td>\n",
       "    </tr>\n",
       "    <tr>\n",
       "      <th>5631411</th>\n",
       "      <td>1.00</td>\n",
       "      <td>0.00</td>\n",
       "      <td>0</td>\n",
       "    </tr>\n",
       "    <tr>\n",
       "      <th>5534613</th>\n",
       "      <td>1.00</td>\n",
       "      <td>0.00</td>\n",
       "      <td>0</td>\n",
       "    </tr>\n",
       "    <tr>\n",
       "      <th>5633222</th>\n",
       "      <td>1.00</td>\n",
       "      <td>0.00</td>\n",
       "      <td>0</td>\n",
       "    </tr>\n",
       "    <tr>\n",
       "      <th>5454210</th>\n",
       "      <td>1.00</td>\n",
       "      <td>1.00</td>\n",
       "      <td>1</td>\n",
       "    </tr>\n",
       "  </tbody>\n",
       "</table>\n",
       "</div>"
      ],
      "text/plain": [
       "         dif_ahorroInversion  altaPrediction  Success\n",
       "5383768                 1.00            1.00        1\n",
       "5469464                 1.00            1.00        1\n",
       "5550318                 1.00            0.00        0\n",
       "5527824                 1.00            0.00        0\n",
       "5499909                 1.00            0.00        0\n",
       "5459387                 1.00            1.00        1\n",
       "5614360                 1.00            0.00        0\n",
       "5415863                 1.00            0.00        0\n",
       "5331344                 1.00            0.00        0\n",
       "5432207                 1.00            1.00        1\n",
       "5389014                 1.00            1.00        1\n",
       "5390586                 1.00            0.00        0\n",
       "5634408                 1.00            0.00        0\n",
       "5632640                 1.00            0.00        0\n",
       "5314141                 1.00            1.00        1\n",
       "5461924                 1.00            0.00        0\n",
       "5631411                 1.00            0.00        0\n",
       "5534613                 1.00            0.00        0\n",
       "5633222                 1.00            0.00        0\n",
       "5454210                 1.00            1.00        1"
      ]
     },
     "execution_count": 120,
     "metadata": {},
     "output_type": "execute_result"
    }
   ],
   "source": [
    "results_df[results_df['dif_ahorroInversion']!=0].sample(20)"
   ]
  },
  {
   "cell_type": "markdown",
   "metadata": {},
   "source": [
    "Vemos los aciertos para las altas de algun producto de Ahorro/inversion:"
   ]
  },
  {
   "cell_type": "code",
   "execution_count": 121,
   "metadata": {
    "ExecuteTime": {
     "end_time": "2020-09-16T08:54:33.123029Z",
     "start_time": "2020-09-16T08:54:32.888392Z"
    }
   },
   "outputs": [
    {
     "data": {
      "text/plain": [
       "<matplotlib.axes._subplots.AxesSubplot at 0x257de168e88>"
      ]
     },
     "execution_count": 121,
     "metadata": {},
     "output_type": "execute_result"
    },
    {
     "data": {
      "image/png": "[encoded data removed]",
      "text/plain": [
       "<Figure size 432x288 with 1 Axes>"
      ]
     },
     "metadata": {},
     "output_type": "display_data"
    }
   ],
   "source": [
    "results_df[results_df['dif_ahorroInversion']==1]['Success'].hist()"
   ]
  },
  {
   "cell_type": "markdown",
   "metadata": {
    "ExecuteTime": {
     "end_time": "2020-09-12T15:23:11.252050Z",
     "start_time": "2020-09-12T15:23:11.248071Z"
    }
   },
   "source": [
    "Acertamos unos 1000 y fallamos unos 2000"
   ]
  },
  {
   "cell_type": "code",
   "execution_count": 122,
   "metadata": {
    "ExecuteTime": {
     "end_time": "2020-09-16T08:54:34.641801Z",
     "start_time": "2020-09-16T08:54:34.631019Z"
    }
   },
   "outputs": [
    {
     "data": {
      "text/plain": [
       "0    1911\n",
       "1     974\n",
       "Name: Success, dtype: int64"
      ]
     },
     "execution_count": 122,
     "metadata": {},
     "output_type": "execute_result"
    }
   ],
   "source": [
    "results_df[results_df['dif_ahorroInversion']==1]['Success'].value_counts()"
   ]
  },
  {
   "cell_type": "markdown",
   "metadata": {},
   "source": [
    "Vemos los aciertos para las no altas de alguno de los prodcutos de Ahorro/Inversion:"
   ]
  },
  {
   "cell_type": "code",
   "execution_count": 123,
   "metadata": {
    "ExecuteTime": {
     "end_time": "2020-09-16T08:54:37.179875Z",
     "start_time": "2020-09-16T08:54:36.929102Z"
    }
   },
   "outputs": [
    {
     "data": {
      "text/plain": [
       "<matplotlib.axes._subplots.AxesSubplot at 0x257de439d88>"
      ]
     },
     "execution_count": 123,
     "metadata": {},
     "output_type": "execute_result"
    },
    {
     "data": {
      "image/png": "[encoded data removed]",
      "text/plain": [
       "<Figure size 432x288 with 1 Axes>"
      ]
     },
     "metadata": {},
     "output_type": "display_data"
    }
   ],
   "source": [
    "results_df[results_df['dif_ahorroInversion']==0]['Success'].hist()"
   ]
  },
  {
   "cell_type": "markdown",
   "metadata": {},
   "source": [
    "Vemos que se aciertan 327787 No altas y solo hay unas 1000 altas de producto Ahorro/Inversion no predichas como tal"
   ]
  },
  {
   "cell_type": "code",
   "execution_count": 124,
   "metadata": {
    "ExecuteTime": {
     "end_time": "2020-09-16T08:54:38.794996Z",
     "start_time": "2020-09-16T08:54:38.773009Z"
    }
   },
   "outputs": [
    {
     "data": {
      "text/plain": [
       "1    327787\n",
       "0       916\n",
       "Name: Success, dtype: int64"
      ]
     },
     "execution_count": 124,
     "metadata": {},
     "output_type": "execute_result"
    }
   ],
   "source": [
    "results_df[results_df['dif_ahorroInversion']==0]['Success'].value_counts()"
   ]
  },
  {
   "cell_type": "code",
   "execution_count": 125,
   "metadata": {
    "ExecuteTime": {
     "end_time": "2020-09-16T08:54:40.419814Z",
     "start_time": "2020-09-16T08:54:40.415131Z"
    }
   },
   "outputs": [],
   "source": [
    "top_features = pd.Series(dt.feature_importances_, index=X_train.columns).sort_values(ascending=False).head(30)\n"
   ]
  },
  {
   "cell_type": "code",
   "execution_count": 126,
   "metadata": {
    "ExecuteTime": {
     "end_time": "2020-09-16T08:54:41.934211Z",
     "start_time": "2020-09-16T08:54:41.927752Z"
    }
   },
   "outputs": [
    {
     "data": {
      "text/plain": [
       "short_term_deposit_shift_1       0.38\n",
       "pension_plan_shift_2             0.28\n",
       "pension_plan_shift_1             0.16\n",
       "payroll_account_shift_2          0.09\n",
       "month                            0.03\n",
       "diasDesdeUltimaBajaInt_shift_2   0.01\n",
       "isNewClient_shift_1              0.01\n",
       "channel_KHQ                      0.01\n",
       "payroll_shift_3                  0.01\n",
       "active_customer_shift_1          0.00\n",
       "short_term_deposit_shift_2       0.00\n",
       "channel_XXX                      0.00\n",
       "debit_card_shift_1               0.00\n",
       "payroll_shift_4                  0.00\n",
       "dif_cuentaSimple_shift_1         0.00\n",
       "payroll_account_shift_1          0.00\n",
       "em_acount_shift_4                0.00\n",
       "totalCuentas_shift_3             0.00\n",
       "dif_pension_plan_shift_2         0.00\n",
       "dif_short_term_deposit_shift_4   0.00\n",
       "active_customer_shift_4          0.00\n",
       "channel_KHM                      0.00\n",
       "totalAhorro_shift_4              0.00\n",
       "totalAssets_shift_1              0.00\n",
       "dif_long_term_deposit_shift_1    0.00\n",
       "year                             0.00\n",
       "dif_ahorroInversion_shift_4      0.00\n",
       "dif_ahorroInversion_shift_3      0.00\n",
       "dif_ahorroInversion_shift_2      0.00\n",
       "dif_cuentaSimple_shift_2         0.00\n",
       "dtype: float64"
      ]
     },
     "execution_count": 126,
     "metadata": {},
     "output_type": "execute_result"
    }
   ],
   "source": [
    "top_features"
   ]
  },
  {
   "cell_type": "markdown",
   "metadata": {
    "ExecuteTime": {
     "end_time": "2020-09-12T15:25:31.140446Z",
     "start_time": "2020-09-12T15:25:31.136457Z"
    }
   },
   "source": [
    "Curva RoC y metrica AUC"
   ]
  },
  {
   "cell_type": "markdown",
   "metadata": {},
   "source": [
    "Calcualmos la probabilidad de que los clientes contraten algun producto de Ahorro/inversion:"
   ]
  },
  {
   "cell_type": "code",
   "execution_count": 127,
   "metadata": {
    "ExecuteTime": {
     "end_time": "2020-09-16T08:54:48.583968Z",
     "start_time": "2020-09-16T08:54:48.016196Z"
    }
   },
   "outputs": [],
   "source": [
    "y_score = pd.DataFrame(dt.predict_proba(X_test)[:,1], index=Y_test.index, columns=['AltaScore'])\n",
    "results_df = results_df.join(y_score)\n"
   ]
  },
  {
   "cell_type": "code",
   "execution_count": 168,
   "metadata": {
    "ExecuteTime": {
     "end_time": "2020-09-12T15:32:50.103630Z",
     "start_time": "2020-09-12T15:32:50.099632Z"
    }
   },
   "outputs": [],
   "source": [
    "#results_df[results_df['dif_ahorroInversion']!=0].sample(20)"
   ]
  },
  {
   "cell_type": "code",
   "execution_count": 128,
   "metadata": {
    "ExecuteTime": {
     "end_time": "2020-09-16T08:54:54.136931Z",
     "start_time": "2020-09-16T08:54:54.031811Z"
    }
   },
   "outputs": [
    {
     "name": "stdout",
     "output_type": "stream",
     "text": [
      "0.9083283756006506\n"
     ]
    }
   ],
   "source": [
    "print(metrics.roc_auc_score(results_df['dif_ahorroInversion'], results_df['AltaScore']))"
   ]
  },
  {
   "cell_type": "code",
   "execution_count": 129,
   "metadata": {
    "ExecuteTime": {
     "end_time": "2020-09-16T08:54:55.742756Z",
     "start_time": "2020-09-16T08:54:55.688023Z"
    }
   },
   "outputs": [],
   "source": [
    "fpr, tpr, _ = metrics.roc_curve(results_df['dif_ahorroInversion'], results_df['AltaScore'])"
   ]
  },
  {
   "cell_type": "code",
   "execution_count": 130,
   "metadata": {
    "ExecuteTime": {
     "end_time": "2020-09-16T08:54:57.545759Z",
     "start_time": "2020-09-16T08:54:57.275938Z"
    }
   },
   "outputs": [
    {
     "data": {
      "image/png": "[encoded data removed]",
      "text/plain": [
       "<Figure size 1080x432 with 1 Axes>"
      ]
     },
     "metadata": {},
     "output_type": "display_data"
    }
   ],
   "source": [
    "fig, ax = plt.subplots(figsize = (15, 6))\n",
    "plt.clf()\n",
    "plt.plot(fpr, tpr)\n",
    "plt.plot([0, 1], [0, 1], color='gray', linestyle='--')\n",
    "plt.xlabel('FPR')\n",
    "plt.ylabel('TPR')\n",
    "plt.title('ROC curve')\n",
    "plt.show()"
   ]
  },
  {
   "cell_type": "markdown",
   "metadata": {},
   "source": [
    "Calculamos los clientes que tienen una posibilidad alta de hacer una compra de algujn producto de ahorro / inversion:"
   ]
  },
  {
   "cell_type": "code",
   "execution_count": 131,
   "metadata": {
    "ExecuteTime": {
     "end_time": "2020-09-16T08:54:59.063886Z",
     "start_time": "2020-09-16T08:54:59.048355Z"
    }
   },
   "outputs": [
    {
     "data": {
      "text/html": [
       "<div>\n",
       "<style scoped>\n",
       "    .dataframe tbody tr th:only-of-type {\n",
       "        vertical-align: middle;\n",
       "    }\n",
       "\n",
       "    .dataframe tbody tr th {\n",
       "        vertical-align: top;\n",
       "    }\n",
       "\n",
       "    .dataframe thead th {\n",
       "        text-align: right;\n",
       "    }\n",
       "</style>\n",
       "<table border=\"1\" class=\"dataframe\">\n",
       "  <thead>\n",
       "    <tr style=\"text-align: right;\">\n",
       "      <th></th>\n",
       "      <th>dif_ahorroInversion</th>\n",
       "      <th>altaPrediction</th>\n",
       "      <th>Success</th>\n",
       "      <th>AltaScore</th>\n",
       "    </tr>\n",
       "  </thead>\n",
       "  <tbody>\n",
       "    <tr>\n",
       "      <th>5305793</th>\n",
       "      <td>1.00</td>\n",
       "      <td>1.00</td>\n",
       "      <td>1</td>\n",
       "      <td>0.60</td>\n",
       "    </tr>\n",
       "    <tr>\n",
       "      <th>5306156</th>\n",
       "      <td>1.00</td>\n",
       "      <td>1.00</td>\n",
       "      <td>1</td>\n",
       "      <td>0.60</td>\n",
       "    </tr>\n",
       "    <tr>\n",
       "      <th>5306773</th>\n",
       "      <td>1.00</td>\n",
       "      <td>1.00</td>\n",
       "      <td>1</td>\n",
       "      <td>0.60</td>\n",
       "    </tr>\n",
       "    <tr>\n",
       "      <th>5306878</th>\n",
       "      <td>1.00</td>\n",
       "      <td>1.00</td>\n",
       "      <td>1</td>\n",
       "      <td>0.60</td>\n",
       "    </tr>\n",
       "    <tr>\n",
       "      <th>5307103</th>\n",
       "      <td>1.00</td>\n",
       "      <td>1.00</td>\n",
       "      <td>1</td>\n",
       "      <td>0.60</td>\n",
       "    </tr>\n",
       "    <tr>\n",
       "      <th>...</th>\n",
       "      <td>...</td>\n",
       "      <td>...</td>\n",
       "      <td>...</td>\n",
       "      <td>...</td>\n",
       "    </tr>\n",
       "    <tr>\n",
       "      <th>5628414</th>\n",
       "      <td>1.00</td>\n",
       "      <td>1.00</td>\n",
       "      <td>1</td>\n",
       "      <td>0.60</td>\n",
       "    </tr>\n",
       "    <tr>\n",
       "      <th>5628630</th>\n",
       "      <td>1.00</td>\n",
       "      <td>1.00</td>\n",
       "      <td>1</td>\n",
       "      <td>0.60</td>\n",
       "    </tr>\n",
       "    <tr>\n",
       "      <th>5629217</th>\n",
       "      <td>1.00</td>\n",
       "      <td>1.00</td>\n",
       "      <td>1</td>\n",
       "      <td>0.60</td>\n",
       "    </tr>\n",
       "    <tr>\n",
       "      <th>5629602</th>\n",
       "      <td>1.00</td>\n",
       "      <td>1.00</td>\n",
       "      <td>1</td>\n",
       "      <td>0.60</td>\n",
       "    </tr>\n",
       "    <tr>\n",
       "      <th>5629669</th>\n",
       "      <td>1.00</td>\n",
       "      <td>1.00</td>\n",
       "      <td>1</td>\n",
       "      <td>0.60</td>\n",
       "    </tr>\n",
       "  </tbody>\n",
       "</table>\n",
       "<p>974 rows × 4 columns</p>\n",
       "</div>"
      ],
      "text/plain": [
       "         dif_ahorroInversion  altaPrediction  Success  AltaScore\n",
       "5305793                 1.00            1.00        1       0.60\n",
       "5306156                 1.00            1.00        1       0.60\n",
       "5306773                 1.00            1.00        1       0.60\n",
       "5306878                 1.00            1.00        1       0.60\n",
       "5307103                 1.00            1.00        1       0.60\n",
       "...                      ...             ...      ...        ...\n",
       "5628414                 1.00            1.00        1       0.60\n",
       "5628630                 1.00            1.00        1       0.60\n",
       "5629217                 1.00            1.00        1       0.60\n",
       "5629602                 1.00            1.00        1       0.60\n",
       "5629669                 1.00            1.00        1       0.60\n",
       "\n",
       "[974 rows x 4 columns]"
      ]
     },
     "execution_count": 131,
     "metadata": {},
     "output_type": "execute_result"
    }
   ],
   "source": [
    "results_df[(results_df['dif_ahorroInversion']!=0) &\n",
    "           (results_df['AltaScore']> 0.60) ]"
   ]
  },
  {
   "cell_type": "code",
   "execution_count": 132,
   "metadata": {
    "ExecuteTime": {
     "end_time": "2020-09-16T08:55:00.586335Z",
     "start_time": "2020-09-16T08:55:00.576144Z"
    }
   },
   "outputs": [
    {
     "data": {
      "text/plain": [
       "1    974\n",
       "Name: Success, dtype: int64"
      ]
     },
     "execution_count": 132,
     "metadata": {},
     "output_type": "execute_result"
    }
   ],
   "source": [
    "results_df[(results_df['dif_ahorroInversion']!=0) &\n",
    "           (results_df['AltaScore']>= 0.60) ]['Success'].value_counts()\n"
   ]
  },
  {
   "cell_type": "markdown",
   "metadata": {},
   "source": [
    "Tenemos unos 100 clientes con una posibilidad alta de hacer una compra de algun producto de Ahorro/inversion. "
   ]
  },
  {
   "cell_type": "markdown",
   "metadata": {},
   "source": [
    "Nos quedamos con los clientes a los que el algoritmo da una probabilidad de compra mayor del 60%"
   ]
  },
  {
   "cell_type": "code",
   "execution_count": 133,
   "metadata": {
    "ExecuteTime": {
     "end_time": "2020-09-16T08:55:02.126940Z",
     "start_time": "2020-09-16T08:55:02.113947Z"
    }
   },
   "outputs": [
    {
     "data": {
      "text/html": [
       "<div>\n",
       "<style scoped>\n",
       "    .dataframe tbody tr th:only-of-type {\n",
       "        vertical-align: middle;\n",
       "    }\n",
       "\n",
       "    .dataframe tbody tr th {\n",
       "        vertical-align: top;\n",
       "    }\n",
       "\n",
       "    .dataframe thead th {\n",
       "        text-align: right;\n",
       "    }\n",
       "</style>\n",
       "<table border=\"1\" class=\"dataframe\">\n",
       "  <thead>\n",
       "    <tr style=\"text-align: right;\">\n",
       "      <th></th>\n",
       "      <th>dif_ahorroInversion</th>\n",
       "      <th>altaPrediction</th>\n",
       "      <th>Success</th>\n",
       "      <th>AltaScore</th>\n",
       "    </tr>\n",
       "  </thead>\n",
       "  <tbody>\n",
       "    <tr>\n",
       "      <th>5305793</th>\n",
       "      <td>1.00</td>\n",
       "      <td>1.00</td>\n",
       "      <td>1</td>\n",
       "      <td>0.60</td>\n",
       "    </tr>\n",
       "    <tr>\n",
       "      <th>5305970</th>\n",
       "      <td>0.00</td>\n",
       "      <td>1.00</td>\n",
       "      <td>0</td>\n",
       "      <td>0.60</td>\n",
       "    </tr>\n",
       "    <tr>\n",
       "      <th>5306156</th>\n",
       "      <td>1.00</td>\n",
       "      <td>1.00</td>\n",
       "      <td>1</td>\n",
       "      <td>0.60</td>\n",
       "    </tr>\n",
       "    <tr>\n",
       "      <th>5306432</th>\n",
       "      <td>0.00</td>\n",
       "      <td>1.00</td>\n",
       "      <td>0</td>\n",
       "      <td>0.60</td>\n",
       "    </tr>\n",
       "    <tr>\n",
       "      <th>5306628</th>\n",
       "      <td>0.00</td>\n",
       "      <td>1.00</td>\n",
       "      <td>0</td>\n",
       "      <td>0.60</td>\n",
       "    </tr>\n",
       "    <tr>\n",
       "      <th>...</th>\n",
       "      <td>...</td>\n",
       "      <td>...</td>\n",
       "      <td>...</td>\n",
       "      <td>...</td>\n",
       "    </tr>\n",
       "    <tr>\n",
       "      <th>5629602</th>\n",
       "      <td>1.00</td>\n",
       "      <td>1.00</td>\n",
       "      <td>1</td>\n",
       "      <td>0.60</td>\n",
       "    </tr>\n",
       "    <tr>\n",
       "      <th>5629669</th>\n",
       "      <td>1.00</td>\n",
       "      <td>1.00</td>\n",
       "      <td>1</td>\n",
       "      <td>0.60</td>\n",
       "    </tr>\n",
       "    <tr>\n",
       "      <th>5630696</th>\n",
       "      <td>0.00</td>\n",
       "      <td>1.00</td>\n",
       "      <td>0</td>\n",
       "      <td>0.60</td>\n",
       "    </tr>\n",
       "    <tr>\n",
       "      <th>5630865</th>\n",
       "      <td>0.00</td>\n",
       "      <td>1.00</td>\n",
       "      <td>0</td>\n",
       "      <td>0.60</td>\n",
       "    </tr>\n",
       "    <tr>\n",
       "      <th>5631799</th>\n",
       "      <td>0.00</td>\n",
       "      <td>1.00</td>\n",
       "      <td>0</td>\n",
       "      <td>0.60</td>\n",
       "    </tr>\n",
       "  </tbody>\n",
       "</table>\n",
       "<p>1890 rows × 4 columns</p>\n",
       "</div>"
      ],
      "text/plain": [
       "         dif_ahorroInversion  altaPrediction  Success  AltaScore\n",
       "5305793                 1.00            1.00        1       0.60\n",
       "5305970                 0.00            1.00        0       0.60\n",
       "5306156                 1.00            1.00        1       0.60\n",
       "5306432                 0.00            1.00        0       0.60\n",
       "5306628                 0.00            1.00        0       0.60\n",
       "...                      ...             ...      ...        ...\n",
       "5629602                 1.00            1.00        1       0.60\n",
       "5629669                 1.00            1.00        1       0.60\n",
       "5630696                 0.00            1.00        0       0.60\n",
       "5630865                 0.00            1.00        0       0.60\n",
       "5631799                 0.00            1.00        0       0.60\n",
       "\n",
       "[1890 rows x 4 columns]"
      ]
     },
     "execution_count": 133,
     "metadata": {},
     "output_type": "execute_result"
    }
   ],
   "source": [
    "results_df[(results_df['AltaScore']>= 0.60) ]"
   ]
  },
  {
   "cell_type": "markdown",
   "metadata": {},
   "source": [
    "Se lo concatenamos al dataset original ya que en este es donde esta la informacion del pk_cid del cliente"
   ]
  },
  {
   "cell_type": "code",
   "execution_count": 141,
   "metadata": {
    "ExecuteTime": {
     "end_time": "2020-09-16T08:57:46.741472Z",
     "start_time": "2020-09-16T08:57:37.233998Z"
    }
   },
   "outputs": [],
   "source": [
    "full_df = pd.concat([full_df,results_df[results_df['AltaScore']> 0.60 ]['AltaScore'].to_frame()],axis=1)\n",
    "full_df.rename(columns={'AltaScore':'AltaScoreAhorroInversion'},inplace=True)\n"
   ]
  },
  {
   "cell_type": "markdown",
   "metadata": {},
   "source": [
    "Obviamente, se nos han generado muchisimos nulos en esta operacion. A estos les damos la probabilidad 0"
   ]
  },
  {
   "cell_type": "code",
   "execution_count": 142,
   "metadata": {
    "ExecuteTime": {
     "end_time": "2020-09-16T08:57:48.354818Z",
     "start_time": "2020-09-16T08:57:48.272647Z"
    }
   },
   "outputs": [
    {
     "data": {
      "text/plain": [
       "nan     5062080\n",
       "0.60       1881\n",
       "0.70          9\n",
       "Name: AltaScoreAhorroInversion, dtype: int64"
      ]
     },
     "execution_count": 142,
     "metadata": {},
     "output_type": "execute_result"
    }
   ],
   "source": [
    "full_df['AltaScoreAhorroInversion'].value_counts(dropna=False)"
   ]
  },
  {
   "cell_type": "code",
   "execution_count": 143,
   "metadata": {
    "ExecuteTime": {
     "end_time": "2020-09-16T08:57:53.170977Z",
     "start_time": "2020-09-16T08:57:53.150825Z"
    }
   },
   "outputs": [],
   "source": [
    "full_df['AltaScoreAhorroInversion'].fillna(0, inplace=True)"
   ]
  },
  {
   "cell_type": "markdown",
   "metadata": {},
   "source": [
    "Generamos el fichero \".csv\" con los pk_cid y las probabiliadades de alta que pasaremos a sistemas."
   ]
  },
  {
   "cell_type": "code",
   "execution_count": 147,
   "metadata": {
    "ExecuteTime": {
     "end_time": "2020-09-16T08:59:07.856821Z",
     "start_time": "2020-09-16T08:59:07.829855Z"
    }
   },
   "outputs": [],
   "source": [
    "full_df[ (full_df['AltaScoreAhorroInversion']>= 0.60) ][['pk_cid','AltaScoreAhorroInversion']].to_csv(\n",
    "    '../Datos-Easymoney/recomendacion_ahorroInversion.csv',index=False)"
   ]
  },
  {
   "cell_type": "markdown",
   "metadata": {},
   "source": [
    "# Enternamos para financiacion:"
   ]
  },
  {
   "cell_type": "code",
   "execution_count": 82,
   "metadata": {
    "ExecuteTime": {
     "end_time": "2020-09-16T08:45:02.040954Z",
     "start_time": "2020-09-16T08:45:00.349944Z"
    }
   },
   "outputs": [
    {
     "data": {
      "text/plain": [
       "42275"
      ]
     },
     "execution_count": 82,
     "metadata": {},
     "output_type": "execute_result"
    }
   ],
   "source": [
    "del X_train,Y_train, X_valida, Y_valida,X_test,Y_test\n",
    "gc.collect()\n"
   ]
  },
  {
   "cell_type": "code",
   "execution_count": 83,
   "metadata": {
    "ExecuteTime": {
     "end_time": "2020-09-16T08:45:17.548116Z",
     "start_time": "2020-09-16T08:45:08.443947Z"
    }
   },
   "outputs": [],
   "source": [
    "X_train = full_df[full_df[\"pk_partition\"].isin(train_index)].drop(variables_borrar, axis=1)\n",
    "Y_train = full_df[full_df[\"pk_partition\"].isin(train_index)]['dif_financiacion']\n",
    "\n",
    "X_valida = full_df[full_df[\"pk_partition\"].isin(valida_index)].drop(variables_borrar, axis=1)\n",
    "Y_valida = full_df[full_df[\"pk_partition\"].isin(valida_index)]['dif_financiacion']\n",
    "\n",
    "X_test = full_df[full_df[\"pk_partition\"].isin(test_index)].drop(variables_borrar, axis = 1)\n",
    "Y_test = full_df[full_df[\"pk_partition\"].isin(test_index)]['dif_financiacion']\n"
   ]
  },
  {
   "cell_type": "code",
   "execution_count": 84,
   "metadata": {
    "ExecuteTime": {
     "end_time": "2020-09-16T08:47:06.908201Z",
     "start_time": "2020-09-16T08:46:07.183813Z"
    }
   },
   "outputs": [
    {
     "data": {
      "text/plain": [
       "DecisionTreeClassifier(ccp_alpha=0.0, class_weight=None, criterion='gini',\n",
       "                       max_depth=7, max_features=None, max_leaf_nodes=None,\n",
       "                       min_impurity_decrease=0.0, min_impurity_split=None,\n",
       "                       min_samples_leaf=1, min_samples_split=10000,\n",
       "                       min_weight_fraction_leaf=0.0, presort='deprecated',\n",
       "                       random_state=42, splitter='best')"
      ]
     },
     "execution_count": 84,
     "metadata": {},
     "output_type": "execute_result"
    }
   ],
   "source": [
    "dt.fit(X_train,Y_train)"
   ]
  },
  {
   "cell_type": "code",
   "execution_count": 85,
   "metadata": {
    "ExecuteTime": {
     "end_time": "2020-09-16T08:47:50.645848Z",
     "start_time": "2020-09-16T08:47:44.511165Z"
    }
   },
   "outputs": [
    {
     "name": "stdout",
     "output_type": "stream",
     "text": [
      "Resultados para: Train: 0.9976464202147419 - Test: 0.9978511380445965\n"
     ]
    }
   ],
   "source": [
    "score_train=dt.score(X_train, Y_train)\n",
    "score_test=dt.score(X_valida, Y_valida)\n",
    "print('Resultados para: Train: {} - Test: {}'.format(score_train,score_test))\n"
   ]
  },
  {
   "cell_type": "code",
   "execution_count": 86,
   "metadata": {
    "ExecuteTime": {
     "end_time": "2020-09-16T08:47:54.807554Z",
     "start_time": "2020-09-16T08:47:54.241587Z"
    }
   },
   "outputs": [],
   "source": [
    "y_test_pred = pd.DataFrame(dt.predict(X_test), index=Y_test.index, columns=['altaPrediction'])\n"
   ]
  },
  {
   "cell_type": "code",
   "execution_count": 87,
   "metadata": {
    "ExecuteTime": {
     "end_time": "2020-09-16T08:47:56.831407Z",
     "start_time": "2020-09-16T08:47:56.216215Z"
    }
   },
   "outputs": [],
   "source": [
    "score_test=dt.score(X_test, Y_test)"
   ]
  },
  {
   "cell_type": "code",
   "execution_count": 88,
   "metadata": {
    "ExecuteTime": {
     "end_time": "2020-09-16T08:47:58.262626Z",
     "start_time": "2020-09-16T08:47:58.255981Z"
    }
   },
   "outputs": [
    {
     "data": {
      "text/plain": [
       "0.9977110148738796"
      ]
     },
     "execution_count": 88,
     "metadata": {},
     "output_type": "execute_result"
    }
   ],
   "source": [
    "score_test"
   ]
  },
  {
   "cell_type": "code",
   "execution_count": 89,
   "metadata": {
    "ExecuteTime": {
     "end_time": "2020-09-16T08:47:59.686870Z",
     "start_time": "2020-09-16T08:47:59.668326Z"
    }
   },
   "outputs": [],
   "source": [
    "results_df = Y_test.to_frame().join(y_test_pred)\n"
   ]
  },
  {
   "cell_type": "code",
   "execution_count": 90,
   "metadata": {
    "ExecuteTime": {
     "end_time": "2020-09-16T08:48:01.114470Z",
     "start_time": "2020-09-16T08:48:01.106319Z"
    }
   },
   "outputs": [],
   "source": [
    "results_df['Success']=(results_df['dif_financiacion']==results_df['altaPrediction']).astype(int)\n"
   ]
  },
  {
   "cell_type": "code",
   "execution_count": 91,
   "metadata": {
    "ExecuteTime": {
     "end_time": "2020-09-16T08:48:02.530949Z",
     "start_time": "2020-09-16T08:48:02.515935Z"
    }
   },
   "outputs": [
    {
     "data": {
      "text/html": [
       "<div>\n",
       "<style scoped>\n",
       "    .dataframe tbody tr th:only-of-type {\n",
       "        vertical-align: middle;\n",
       "    }\n",
       "\n",
       "    .dataframe tbody tr th {\n",
       "        vertical-align: top;\n",
       "    }\n",
       "\n",
       "    .dataframe thead th {\n",
       "        text-align: right;\n",
       "    }\n",
       "</style>\n",
       "<table border=\"1\" class=\"dataframe\">\n",
       "  <thead>\n",
       "    <tr style=\"text-align: right;\">\n",
       "      <th></th>\n",
       "      <th>dif_financiacion</th>\n",
       "      <th>altaPrediction</th>\n",
       "      <th>Success</th>\n",
       "    </tr>\n",
       "  </thead>\n",
       "  <tbody>\n",
       "    <tr>\n",
       "      <th>5457857</th>\n",
       "      <td>1.00</td>\n",
       "      <td>0.00</td>\n",
       "      <td>0</td>\n",
       "    </tr>\n",
       "    <tr>\n",
       "      <th>5367981</th>\n",
       "      <td>1.00</td>\n",
       "      <td>0.00</td>\n",
       "      <td>0</td>\n",
       "    </tr>\n",
       "    <tr>\n",
       "      <th>5310734</th>\n",
       "      <td>1.00</td>\n",
       "      <td>0.00</td>\n",
       "      <td>0</td>\n",
       "    </tr>\n",
       "    <tr>\n",
       "      <th>5469477</th>\n",
       "      <td>1.00</td>\n",
       "      <td>0.00</td>\n",
       "      <td>0</td>\n",
       "    </tr>\n",
       "    <tr>\n",
       "      <th>5589104</th>\n",
       "      <td>1.00</td>\n",
       "      <td>0.00</td>\n",
       "      <td>0</td>\n",
       "    </tr>\n",
       "    <tr>\n",
       "      <th>5463039</th>\n",
       "      <td>1.00</td>\n",
       "      <td>0.00</td>\n",
       "      <td>0</td>\n",
       "    </tr>\n",
       "    <tr>\n",
       "      <th>5340003</th>\n",
       "      <td>1.00</td>\n",
       "      <td>0.00</td>\n",
       "      <td>0</td>\n",
       "    </tr>\n",
       "    <tr>\n",
       "      <th>5427424</th>\n",
       "      <td>1.00</td>\n",
       "      <td>0.00</td>\n",
       "      <td>0</td>\n",
       "    </tr>\n",
       "    <tr>\n",
       "      <th>5490132</th>\n",
       "      <td>1.00</td>\n",
       "      <td>0.00</td>\n",
       "      <td>0</td>\n",
       "    </tr>\n",
       "    <tr>\n",
       "      <th>5305680</th>\n",
       "      <td>1.00</td>\n",
       "      <td>0.00</td>\n",
       "      <td>0</td>\n",
       "    </tr>\n",
       "    <tr>\n",
       "      <th>5414725</th>\n",
       "      <td>1.00</td>\n",
       "      <td>0.00</td>\n",
       "      <td>0</td>\n",
       "    </tr>\n",
       "    <tr>\n",
       "      <th>5389136</th>\n",
       "      <td>1.00</td>\n",
       "      <td>0.00</td>\n",
       "      <td>0</td>\n",
       "    </tr>\n",
       "    <tr>\n",
       "      <th>5317539</th>\n",
       "      <td>1.00</td>\n",
       "      <td>0.00</td>\n",
       "      <td>0</td>\n",
       "    </tr>\n",
       "    <tr>\n",
       "      <th>5455834</th>\n",
       "      <td>1.00</td>\n",
       "      <td>0.00</td>\n",
       "      <td>0</td>\n",
       "    </tr>\n",
       "    <tr>\n",
       "      <th>5632000</th>\n",
       "      <td>1.00</td>\n",
       "      <td>0.00</td>\n",
       "      <td>0</td>\n",
       "    </tr>\n",
       "    <tr>\n",
       "      <th>5390465</th>\n",
       "      <td>1.00</td>\n",
       "      <td>0.00</td>\n",
       "      <td>0</td>\n",
       "    </tr>\n",
       "    <tr>\n",
       "      <th>5314660</th>\n",
       "      <td>1.00</td>\n",
       "      <td>0.00</td>\n",
       "      <td>0</td>\n",
       "    </tr>\n",
       "    <tr>\n",
       "      <th>5371347</th>\n",
       "      <td>1.00</td>\n",
       "      <td>0.00</td>\n",
       "      <td>0</td>\n",
       "    </tr>\n",
       "    <tr>\n",
       "      <th>5544307</th>\n",
       "      <td>1.00</td>\n",
       "      <td>0.00</td>\n",
       "      <td>0</td>\n",
       "    </tr>\n",
       "    <tr>\n",
       "      <th>5615057</th>\n",
       "      <td>1.00</td>\n",
       "      <td>0.00</td>\n",
       "      <td>0</td>\n",
       "    </tr>\n",
       "  </tbody>\n",
       "</table>\n",
       "</div>"
      ],
      "text/plain": [
       "         dif_financiacion  altaPrediction  Success\n",
       "5457857              1.00            0.00        0\n",
       "5367981              1.00            0.00        0\n",
       "5310734              1.00            0.00        0\n",
       "5469477              1.00            0.00        0\n",
       "5589104              1.00            0.00        0\n",
       "5463039              1.00            0.00        0\n",
       "5340003              1.00            0.00        0\n",
       "5427424              1.00            0.00        0\n",
       "5490132              1.00            0.00        0\n",
       "5305680              1.00            0.00        0\n",
       "5414725              1.00            0.00        0\n",
       "5389136              1.00            0.00        0\n",
       "5317539              1.00            0.00        0\n",
       "5455834              1.00            0.00        0\n",
       "5632000              1.00            0.00        0\n",
       "5390465              1.00            0.00        0\n",
       "5314660              1.00            0.00        0\n",
       "5371347              1.00            0.00        0\n",
       "5544307              1.00            0.00        0\n",
       "5615057              1.00            0.00        0"
      ]
     },
     "execution_count": 91,
     "metadata": {},
     "output_type": "execute_result"
    }
   ],
   "source": [
    "results_df[results_df['dif_financiacion']!=0].sample(20)"
   ]
  },
  {
   "cell_type": "markdown",
   "metadata": {},
   "source": [
    "Vemos los aciertos para las altas de algun producto de Financiacion:"
   ]
  },
  {
   "cell_type": "code",
   "execution_count": 92,
   "metadata": {
    "ExecuteTime": {
     "end_time": "2020-09-16T08:48:04.791009Z",
     "start_time": "2020-09-16T08:48:04.553338Z"
    }
   },
   "outputs": [
    {
     "data": {
      "text/plain": [
       "<matplotlib.axes._subplots.AxesSubplot at 0x257e44c68c8>"
      ]
     },
     "execution_count": 92,
     "metadata": {},
     "output_type": "execute_result"
    },
    {
     "data": {
      "image/png": "[encoded data removed]",
      "text/plain": [
       "<Figure size 432x288 with 1 Axes>"
      ]
     },
     "metadata": {},
     "output_type": "display_data"
    }
   ],
   "source": [
    "results_df[results_df['dif_financiacion']==1]['Success'].hist()"
   ]
  },
  {
   "cell_type": "markdown",
   "metadata": {},
   "source": [
    "Solo acertamos 30 de 760. ..... "
   ]
  },
  {
   "cell_type": "code",
   "execution_count": 93,
   "metadata": {
    "ExecuteTime": {
     "end_time": "2020-09-16T08:48:07.825715Z",
     "start_time": "2020-09-16T08:48:07.817714Z"
    }
   },
   "outputs": [
    {
     "data": {
      "text/plain": [
       "0    758\n",
       "1     30\n",
       "Name: Success, dtype: int64"
      ]
     },
     "execution_count": 93,
     "metadata": {},
     "output_type": "execute_result"
    }
   ],
   "source": [
    "results_df[results_df['dif_financiacion']==1]['Success'].value_counts()"
   ]
  },
  {
   "cell_type": "markdown",
   "metadata": {},
   "source": [
    "Vemos los aciertos para las NO altas de algun producto de Financiacion:"
   ]
  },
  {
   "cell_type": "code",
   "execution_count": 94,
   "metadata": {
    "ExecuteTime": {
     "end_time": "2020-09-16T08:48:11.618027Z",
     "start_time": "2020-09-16T08:48:11.368190Z"
    }
   },
   "outputs": [
    {
     "data": {
      "text/plain": [
       "<matplotlib.axes._subplots.AxesSubplot at 0x257e69e40c8>"
      ]
     },
     "execution_count": 94,
     "metadata": {},
     "output_type": "execute_result"
    },
    {
     "data": {
      "image/png": "[encoded data removed]",
      "text/plain": [
       "<Figure size 432x288 with 1 Axes>"
      ]
     },
     "metadata": {},
     "output_type": "display_data"
    }
   ],
   "source": [
    "results_df[results_df['dif_financiacion']==0]['Success'].hist()"
   ]
  },
  {
   "cell_type": "markdown",
   "metadata": {
    "ExecuteTime": {
     "end_time": "2020-09-12T15:30:58.565997Z",
     "start_time": "2020-09-12T15:30:58.561017Z"
    }
   },
   "source": [
    "Se aciertan 330752 No altas y solo hay 50 altas no predichas como tal."
   ]
  },
  {
   "cell_type": "code",
   "execution_count": 95,
   "metadata": {
    "ExecuteTime": {
     "end_time": "2020-09-16T08:48:13.387169Z",
     "start_time": "2020-09-16T08:48:13.363162Z"
    }
   },
   "outputs": [
    {
     "data": {
      "text/plain": [
       "1    330799\n",
       "0         1\n",
       "Name: Success, dtype: int64"
      ]
     },
     "execution_count": 95,
     "metadata": {},
     "output_type": "execute_result"
    }
   ],
   "source": [
    "results_df[results_df['dif_financiacion']==0]['Success'].value_counts()"
   ]
  },
  {
   "cell_type": "code",
   "execution_count": 96,
   "metadata": {
    "ExecuteTime": {
     "end_time": "2020-09-16T08:48:14.866301Z",
     "start_time": "2020-09-16T08:48:14.861289Z"
    }
   },
   "outputs": [],
   "source": [
    "top_features = pd.Series(dt.feature_importances_, index=X_train.columns).sort_values(ascending=False).head(30)\n"
   ]
  },
  {
   "cell_type": "code",
   "execution_count": 97,
   "metadata": {
    "ExecuteTime": {
     "end_time": "2020-09-16T08:48:16.272524Z",
     "start_time": "2020-09-16T08:48:16.265528Z"
    }
   },
   "outputs": [
    {
     "data": {
      "text/plain": [
       "totalFinanciacion_shift_1     0.50\n",
       "loans_shift_1                 0.25\n",
       "credit_card_shift_3           0.12\n",
       "credit_card_shift_4           0.07\n",
       "credit_card_shift_2           0.03\n",
       "totalAssets_shift_1           0.02\n",
       "totalAssets_shift_4           0.00\n",
       "totalAssets_shift_3           0.00\n",
       "dif_mortgage_shift_1          0.00\n",
       "credit_card_shift_1           0.00\n",
       "payroll_account_shift_1       0.00\n",
       "em_account_p_shift_1          0.00\n",
       "totalCuentas_shift_2          0.00\n",
       "totalAssets_shift_2           0.00\n",
       "dif_em_acount_shift_1         0.00\n",
       "securities_shift_3            0.00\n",
       "dif_financiacion_shift_1      0.00\n",
       "dif_ahorroInversion_shift_3   0.00\n",
       "dif_ahorroInversion_shift_2   0.00\n",
       "long_term_deposit_shift_4     0.00\n",
       "dif_ahorroInversion_shift_1   0.00\n",
       "dif_cuentaSimple_shift_4      0.00\n",
       "short_term_deposit_shift_1    0.00\n",
       "dif_cuentaSimple_shift_3      0.00\n",
       "dif_cuentaSimple_shift_2      0.00\n",
       "dif_cuentaSimple_shift_1      0.00\n",
       "short_term_deposit_shift_2    0.00\n",
       "dif_em_account_p_shift_4      0.00\n",
       "dif_em_account_p_shift_3      0.00\n",
       "dif_em_account_p_shift_2      0.00\n",
       "dtype: float64"
      ]
     },
     "execution_count": 97,
     "metadata": {},
     "output_type": "execute_result"
    }
   ],
   "source": [
    "top_features"
   ]
  },
  {
   "cell_type": "markdown",
   "metadata": {},
   "source": [
    "Curva ROC y metrica AUC"
   ]
  },
  {
   "cell_type": "markdown",
   "metadata": {},
   "source": [
    "Sacamos la probabilidad de lata de alguno de los productos de financiacion:"
   ]
  },
  {
   "cell_type": "code",
   "execution_count": 98,
   "metadata": {
    "ExecuteTime": {
     "end_time": "2020-09-16T08:48:20.249166Z",
     "start_time": "2020-09-16T08:48:19.679462Z"
    }
   },
   "outputs": [],
   "source": [
    "y_score = pd.DataFrame(dt.predict_proba(X_test)[:,1], index=Y_test.index, columns=['AltaScore'])\n",
    "results_df = results_df.join(y_score)\n"
   ]
  },
  {
   "cell_type": "code",
   "execution_count": 99,
   "metadata": {
    "ExecuteTime": {
     "end_time": "2020-09-16T08:48:22.769232Z",
     "start_time": "2020-09-16T08:48:22.756242Z"
    }
   },
   "outputs": [
    {
     "data": {
      "text/html": [
       "<div>\n",
       "<style scoped>\n",
       "    .dataframe tbody tr th:only-of-type {\n",
       "        vertical-align: middle;\n",
       "    }\n",
       "\n",
       "    .dataframe tbody tr th {\n",
       "        vertical-align: top;\n",
       "    }\n",
       "\n",
       "    .dataframe thead th {\n",
       "        text-align: right;\n",
       "    }\n",
       "</style>\n",
       "<table border=\"1\" class=\"dataframe\">\n",
       "  <thead>\n",
       "    <tr style=\"text-align: right;\">\n",
       "      <th></th>\n",
       "      <th>dif_financiacion</th>\n",
       "      <th>altaPrediction</th>\n",
       "      <th>Success</th>\n",
       "      <th>AltaScore</th>\n",
       "    </tr>\n",
       "  </thead>\n",
       "  <tbody>\n",
       "    <tr>\n",
       "      <th>5383322</th>\n",
       "      <td>1.00</td>\n",
       "      <td>0.00</td>\n",
       "      <td>0</td>\n",
       "      <td>0.31</td>\n",
       "    </tr>\n",
       "    <tr>\n",
       "      <th>5305445</th>\n",
       "      <td>1.00</td>\n",
       "      <td>0.00</td>\n",
       "      <td>0</td>\n",
       "      <td>0.12</td>\n",
       "    </tr>\n",
       "    <tr>\n",
       "      <th>5310850</th>\n",
       "      <td>1.00</td>\n",
       "      <td>0.00</td>\n",
       "      <td>0</td>\n",
       "      <td>0.01</td>\n",
       "    </tr>\n",
       "    <tr>\n",
       "      <th>5458168</th>\n",
       "      <td>1.00</td>\n",
       "      <td>0.00</td>\n",
       "      <td>0</td>\n",
       "      <td>0.00</td>\n",
       "    </tr>\n",
       "    <tr>\n",
       "      <th>5572304</th>\n",
       "      <td>1.00</td>\n",
       "      <td>0.00</td>\n",
       "      <td>0</td>\n",
       "      <td>0.01</td>\n",
       "    </tr>\n",
       "    <tr>\n",
       "      <th>5305693</th>\n",
       "      <td>1.00</td>\n",
       "      <td>0.00</td>\n",
       "      <td>0</td>\n",
       "      <td>0.12</td>\n",
       "    </tr>\n",
       "    <tr>\n",
       "      <th>5500135</th>\n",
       "      <td>1.00</td>\n",
       "      <td>0.00</td>\n",
       "      <td>0</td>\n",
       "      <td>0.01</td>\n",
       "    </tr>\n",
       "    <tr>\n",
       "      <th>5457734</th>\n",
       "      <td>1.00</td>\n",
       "      <td>0.00</td>\n",
       "      <td>0</td>\n",
       "      <td>0.31</td>\n",
       "    </tr>\n",
       "    <tr>\n",
       "      <th>5316242</th>\n",
       "      <td>1.00</td>\n",
       "      <td>0.00</td>\n",
       "      <td>0</td>\n",
       "      <td>0.12</td>\n",
       "    </tr>\n",
       "    <tr>\n",
       "      <th>5622089</th>\n",
       "      <td>1.00</td>\n",
       "      <td>0.00</td>\n",
       "      <td>0</td>\n",
       "      <td>0.00</td>\n",
       "    </tr>\n",
       "    <tr>\n",
       "      <th>5549251</th>\n",
       "      <td>1.00</td>\n",
       "      <td>0.00</td>\n",
       "      <td>0</td>\n",
       "      <td>0.31</td>\n",
       "    </tr>\n",
       "    <tr>\n",
       "      <th>5375447</th>\n",
       "      <td>1.00</td>\n",
       "      <td>0.00</td>\n",
       "      <td>0</td>\n",
       "      <td>0.08</td>\n",
       "    </tr>\n",
       "    <tr>\n",
       "      <th>5460361</th>\n",
       "      <td>1.00</td>\n",
       "      <td>0.00</td>\n",
       "      <td>0</td>\n",
       "      <td>0.00</td>\n",
       "    </tr>\n",
       "    <tr>\n",
       "      <th>5466380</th>\n",
       "      <td>1.00</td>\n",
       "      <td>0.00</td>\n",
       "      <td>0</td>\n",
       "      <td>0.01</td>\n",
       "    </tr>\n",
       "    <tr>\n",
       "      <th>5360282</th>\n",
       "      <td>1.00</td>\n",
       "      <td>0.00</td>\n",
       "      <td>0</td>\n",
       "      <td>0.12</td>\n",
       "    </tr>\n",
       "    <tr>\n",
       "      <th>5317539</th>\n",
       "      <td>1.00</td>\n",
       "      <td>0.00</td>\n",
       "      <td>0</td>\n",
       "      <td>0.12</td>\n",
       "    </tr>\n",
       "    <tr>\n",
       "      <th>5533131</th>\n",
       "      <td>1.00</td>\n",
       "      <td>0.00</td>\n",
       "      <td>0</td>\n",
       "      <td>0.00</td>\n",
       "    </tr>\n",
       "    <tr>\n",
       "      <th>5385976</th>\n",
       "      <td>1.00</td>\n",
       "      <td>0.00</td>\n",
       "      <td>0</td>\n",
       "      <td>0.01</td>\n",
       "    </tr>\n",
       "    <tr>\n",
       "      <th>5311862</th>\n",
       "      <td>1.00</td>\n",
       "      <td>1.00</td>\n",
       "      <td>1</td>\n",
       "      <td>0.98</td>\n",
       "    </tr>\n",
       "    <tr>\n",
       "      <th>5535720</th>\n",
       "      <td>1.00</td>\n",
       "      <td>0.00</td>\n",
       "      <td>0</td>\n",
       "      <td>0.00</td>\n",
       "    </tr>\n",
       "  </tbody>\n",
       "</table>\n",
       "</div>"
      ],
      "text/plain": [
       "         dif_financiacion  altaPrediction  Success  AltaScore\n",
       "5383322              1.00            0.00        0       0.31\n",
       "5305445              1.00            0.00        0       0.12\n",
       "5310850              1.00            0.00        0       0.01\n",
       "5458168              1.00            0.00        0       0.00\n",
       "5572304              1.00            0.00        0       0.01\n",
       "5305693              1.00            0.00        0       0.12\n",
       "5500135              1.00            0.00        0       0.01\n",
       "5457734              1.00            0.00        0       0.31\n",
       "5316242              1.00            0.00        0       0.12\n",
       "5622089              1.00            0.00        0       0.00\n",
       "5549251              1.00            0.00        0       0.31\n",
       "5375447              1.00            0.00        0       0.08\n",
       "5460361              1.00            0.00        0       0.00\n",
       "5466380              1.00            0.00        0       0.01\n",
       "5360282              1.00            0.00        0       0.12\n",
       "5317539              1.00            0.00        0       0.12\n",
       "5533131              1.00            0.00        0       0.00\n",
       "5385976              1.00            0.00        0       0.01\n",
       "5311862              1.00            1.00        1       0.98\n",
       "5535720              1.00            0.00        0       0.00"
      ]
     },
     "execution_count": 99,
     "metadata": {},
     "output_type": "execute_result"
    }
   ],
   "source": [
    "results_df[results_df['dif_financiacion']!=0].sample(20)"
   ]
  },
  {
   "cell_type": "code",
   "execution_count": 100,
   "metadata": {
    "ExecuteTime": {
     "end_time": "2020-09-16T08:48:24.363221Z",
     "start_time": "2020-09-16T08:48:24.259227Z"
    }
   },
   "outputs": [
    {
     "name": "stdout",
     "output_type": "stream",
     "text": [
      "0.9038172170679909\n"
     ]
    }
   ],
   "source": [
    "print(metrics.roc_auc_score(results_df['dif_financiacion'], results_df['AltaScore']))"
   ]
  },
  {
   "cell_type": "code",
   "execution_count": 101,
   "metadata": {
    "ExecuteTime": {
     "end_time": "2020-09-16T08:48:25.817103Z",
     "start_time": "2020-09-16T08:48:25.763229Z"
    }
   },
   "outputs": [],
   "source": [
    "fpr, tpr, _ = metrics.roc_curve(results_df['dif_financiacion'], results_df['AltaScore'])"
   ]
  },
  {
   "cell_type": "code",
   "execution_count": 102,
   "metadata": {
    "ExecuteTime": {
     "end_time": "2020-09-16T08:48:27.495308Z",
     "start_time": "2020-09-16T08:48:27.215957Z"
    }
   },
   "outputs": [
    {
     "data": {
      "image/png": "[encoded data removed]",
      "text/plain": [
       "<Figure size 1080x432 with 1 Axes>"
      ]
     },
     "metadata": {},
     "output_type": "display_data"
    }
   ],
   "source": [
    "fig, ax = plt.subplots(figsize = (15, 6))\n",
    "plt.clf()\n",
    "plt.plot(fpr, tpr)\n",
    "plt.plot([0, 1], [0, 1], color='gray', linestyle='--')\n",
    "plt.xlabel('FPR')\n",
    "plt.ylabel('TPR')\n",
    "plt.title('ROC curve')\n",
    "plt.show()"
   ]
  },
  {
   "cell_type": "markdown",
   "metadata": {},
   "source": [
    "Vamos a ver los clientes que dan alta y que el modelo ha predicho como de lata posibilidad (Mayor del 60%) de hacer uan comopra de un producto de financiaicoin:"
   ]
  },
  {
   "cell_type": "code",
   "execution_count": 103,
   "metadata": {
    "ExecuteTime": {
     "end_time": "2020-09-16T08:48:28.903936Z",
     "start_time": "2020-09-16T08:48:28.891069Z"
    }
   },
   "outputs": [
    {
     "data": {
      "text/html": [
       "<div>\n",
       "<style scoped>\n",
       "    .dataframe tbody tr th:only-of-type {\n",
       "        vertical-align: middle;\n",
       "    }\n",
       "\n",
       "    .dataframe tbody tr th {\n",
       "        vertical-align: top;\n",
       "    }\n",
       "\n",
       "    .dataframe thead th {\n",
       "        text-align: right;\n",
       "    }\n",
       "</style>\n",
       "<table border=\"1\" class=\"dataframe\">\n",
       "  <thead>\n",
       "    <tr style=\"text-align: right;\">\n",
       "      <th></th>\n",
       "      <th>dif_financiacion</th>\n",
       "      <th>altaPrediction</th>\n",
       "      <th>Success</th>\n",
       "      <th>AltaScore</th>\n",
       "    </tr>\n",
       "  </thead>\n",
       "  <tbody>\n",
       "    <tr>\n",
       "      <th>5545656</th>\n",
       "      <td>1.00</td>\n",
       "      <td>1.00</td>\n",
       "      <td>1</td>\n",
       "      <td>0.98</td>\n",
       "    </tr>\n",
       "    <tr>\n",
       "      <th>5390989</th>\n",
       "      <td>1.00</td>\n",
       "      <td>1.00</td>\n",
       "      <td>1</td>\n",
       "      <td>0.98</td>\n",
       "    </tr>\n",
       "    <tr>\n",
       "      <th>5422342</th>\n",
       "      <td>1.00</td>\n",
       "      <td>1.00</td>\n",
       "      <td>1</td>\n",
       "      <td>0.98</td>\n",
       "    </tr>\n",
       "    <tr>\n",
       "      <th>5383528</th>\n",
       "      <td>1.00</td>\n",
       "      <td>1.00</td>\n",
       "      <td>1</td>\n",
       "      <td>0.98</td>\n",
       "    </tr>\n",
       "    <tr>\n",
       "      <th>5355720</th>\n",
       "      <td>1.00</td>\n",
       "      <td>1.00</td>\n",
       "      <td>1</td>\n",
       "      <td>0.98</td>\n",
       "    </tr>\n",
       "    <tr>\n",
       "      <th>5355500</th>\n",
       "      <td>1.00</td>\n",
       "      <td>1.00</td>\n",
       "      <td>1</td>\n",
       "      <td>0.98</td>\n",
       "    </tr>\n",
       "    <tr>\n",
       "      <th>5324548</th>\n",
       "      <td>1.00</td>\n",
       "      <td>1.00</td>\n",
       "      <td>1</td>\n",
       "      <td>0.98</td>\n",
       "    </tr>\n",
       "    <tr>\n",
       "      <th>5518536</th>\n",
       "      <td>1.00</td>\n",
       "      <td>1.00</td>\n",
       "      <td>1</td>\n",
       "      <td>0.98</td>\n",
       "    </tr>\n",
       "    <tr>\n",
       "      <th>5459390</th>\n",
       "      <td>1.00</td>\n",
       "      <td>1.00</td>\n",
       "      <td>1</td>\n",
       "      <td>0.98</td>\n",
       "    </tr>\n",
       "    <tr>\n",
       "      <th>5464426</th>\n",
       "      <td>1.00</td>\n",
       "      <td>1.00</td>\n",
       "      <td>1</td>\n",
       "      <td>0.98</td>\n",
       "    </tr>\n",
       "    <tr>\n",
       "      <th>5437920</th>\n",
       "      <td>1.00</td>\n",
       "      <td>1.00</td>\n",
       "      <td>1</td>\n",
       "      <td>0.98</td>\n",
       "    </tr>\n",
       "    <tr>\n",
       "      <th>5390472</th>\n",
       "      <td>1.00</td>\n",
       "      <td>1.00</td>\n",
       "      <td>1</td>\n",
       "      <td>0.98</td>\n",
       "    </tr>\n",
       "    <tr>\n",
       "      <th>5541175</th>\n",
       "      <td>1.00</td>\n",
       "      <td>1.00</td>\n",
       "      <td>1</td>\n",
       "      <td>0.98</td>\n",
       "    </tr>\n",
       "    <tr>\n",
       "      <th>5357560</th>\n",
       "      <td>1.00</td>\n",
       "      <td>1.00</td>\n",
       "      <td>1</td>\n",
       "      <td>0.98</td>\n",
       "    </tr>\n",
       "    <tr>\n",
       "      <th>5341355</th>\n",
       "      <td>1.00</td>\n",
       "      <td>1.00</td>\n",
       "      <td>1</td>\n",
       "      <td>0.98</td>\n",
       "    </tr>\n",
       "    <tr>\n",
       "      <th>5366752</th>\n",
       "      <td>1.00</td>\n",
       "      <td>1.00</td>\n",
       "      <td>1</td>\n",
       "      <td>0.98</td>\n",
       "    </tr>\n",
       "    <tr>\n",
       "      <th>5538897</th>\n",
       "      <td>1.00</td>\n",
       "      <td>1.00</td>\n",
       "      <td>1</td>\n",
       "      <td>0.98</td>\n",
       "    </tr>\n",
       "    <tr>\n",
       "      <th>5387186</th>\n",
       "      <td>1.00</td>\n",
       "      <td>1.00</td>\n",
       "      <td>1</td>\n",
       "      <td>0.98</td>\n",
       "    </tr>\n",
       "    <tr>\n",
       "      <th>5389234</th>\n",
       "      <td>1.00</td>\n",
       "      <td>1.00</td>\n",
       "      <td>1</td>\n",
       "      <td>0.98</td>\n",
       "    </tr>\n",
       "    <tr>\n",
       "      <th>5534578</th>\n",
       "      <td>1.00</td>\n",
       "      <td>1.00</td>\n",
       "      <td>1</td>\n",
       "      <td>0.98</td>\n",
       "    </tr>\n",
       "  </tbody>\n",
       "</table>\n",
       "</div>"
      ],
      "text/plain": [
       "         dif_financiacion  altaPrediction  Success  AltaScore\n",
       "5545656              1.00            1.00        1       0.98\n",
       "5390989              1.00            1.00        1       0.98\n",
       "5422342              1.00            1.00        1       0.98\n",
       "5383528              1.00            1.00        1       0.98\n",
       "5355720              1.00            1.00        1       0.98\n",
       "5355500              1.00            1.00        1       0.98\n",
       "5324548              1.00            1.00        1       0.98\n",
       "5518536              1.00            1.00        1       0.98\n",
       "5459390              1.00            1.00        1       0.98\n",
       "5464426              1.00            1.00        1       0.98\n",
       "5437920              1.00            1.00        1       0.98\n",
       "5390472              1.00            1.00        1       0.98\n",
       "5541175              1.00            1.00        1       0.98\n",
       "5357560              1.00            1.00        1       0.98\n",
       "5341355              1.00            1.00        1       0.98\n",
       "5366752              1.00            1.00        1       0.98\n",
       "5538897              1.00            1.00        1       0.98\n",
       "5387186              1.00            1.00        1       0.98\n",
       "5389234              1.00            1.00        1       0.98\n",
       "5534578              1.00            1.00        1       0.98"
      ]
     },
     "execution_count": 103,
     "metadata": {},
     "output_type": "execute_result"
    }
   ],
   "source": [
    "results_df[(results_df['dif_financiacion']!=0) &\n",
    "           (results_df['AltaScore']> 0.60) ].sample(20)\n"
   ]
  },
  {
   "cell_type": "code",
   "execution_count": 104,
   "metadata": {
    "ExecuteTime": {
     "end_time": "2020-09-16T08:48:30.297714Z",
     "start_time": "2020-09-16T08:48:30.287196Z"
    }
   },
   "outputs": [
    {
     "data": {
      "text/plain": [
       "1    30\n",
       "Name: Success, dtype: int64"
      ]
     },
     "execution_count": 104,
     "metadata": {},
     "output_type": "execute_result"
    }
   ],
   "source": [
    "results_df[(results_df['dif_financiacion']!=0) &\n",
    "           (results_df['AltaScore']> 0.70) ]['Success'].value_counts()"
   ]
  },
  {
   "cell_type": "markdown",
   "metadata": {},
   "source": [
    "Tenemos unos 30 clientes detectados como de alta probabilidad de contratacion de un  producto de financiacion."
   ]
  },
  {
   "cell_type": "markdown",
   "metadata": {},
   "source": [
    "Nos vamos a quedar con los clienets para los cuales el algoritmo ha predicho una posibilidad de alta mayor del 70%."
   ]
  },
  {
   "cell_type": "code",
   "execution_count": 105,
   "metadata": {
    "ExecuteTime": {
     "end_time": "2020-09-16T08:49:42.236080Z",
     "start_time": "2020-09-16T08:49:42.224087Z"
    }
   },
   "outputs": [
    {
     "data": {
      "text/html": [
       "<div>\n",
       "<style scoped>\n",
       "    .dataframe tbody tr th:only-of-type {\n",
       "        vertical-align: middle;\n",
       "    }\n",
       "\n",
       "    .dataframe tbody tr th {\n",
       "        vertical-align: top;\n",
       "    }\n",
       "\n",
       "    .dataframe thead th {\n",
       "        text-align: right;\n",
       "    }\n",
       "</style>\n",
       "<table border=\"1\" class=\"dataframe\">\n",
       "  <thead>\n",
       "    <tr style=\"text-align: right;\">\n",
       "      <th></th>\n",
       "      <th>dif_financiacion</th>\n",
       "      <th>altaPrediction</th>\n",
       "      <th>Success</th>\n",
       "      <th>AltaScore</th>\n",
       "    </tr>\n",
       "  </thead>\n",
       "  <tbody>\n",
       "    <tr>\n",
       "      <th>5311862</th>\n",
       "      <td>1.00</td>\n",
       "      <td>1.00</td>\n",
       "      <td>1</td>\n",
       "      <td>0.98</td>\n",
       "    </tr>\n",
       "    <tr>\n",
       "      <th>5323524</th>\n",
       "      <td>1.00</td>\n",
       "      <td>1.00</td>\n",
       "      <td>1</td>\n",
       "      <td>0.98</td>\n",
       "    </tr>\n",
       "    <tr>\n",
       "      <th>5324548</th>\n",
       "      <td>1.00</td>\n",
       "      <td>1.00</td>\n",
       "      <td>1</td>\n",
       "      <td>0.98</td>\n",
       "    </tr>\n",
       "    <tr>\n",
       "      <th>5341355</th>\n",
       "      <td>1.00</td>\n",
       "      <td>1.00</td>\n",
       "      <td>1</td>\n",
       "      <td>0.98</td>\n",
       "    </tr>\n",
       "    <tr>\n",
       "      <th>5355500</th>\n",
       "      <td>1.00</td>\n",
       "      <td>1.00</td>\n",
       "      <td>1</td>\n",
       "      <td>0.98</td>\n",
       "    </tr>\n",
       "    <tr>\n",
       "      <th>5355720</th>\n",
       "      <td>1.00</td>\n",
       "      <td>1.00</td>\n",
       "      <td>1</td>\n",
       "      <td>0.98</td>\n",
       "    </tr>\n",
       "    <tr>\n",
       "      <th>5357560</th>\n",
       "      <td>1.00</td>\n",
       "      <td>1.00</td>\n",
       "      <td>1</td>\n",
       "      <td>0.98</td>\n",
       "    </tr>\n",
       "    <tr>\n",
       "      <th>5357790</th>\n",
       "      <td>1.00</td>\n",
       "      <td>1.00</td>\n",
       "      <td>1</td>\n",
       "      <td>0.98</td>\n",
       "    </tr>\n",
       "    <tr>\n",
       "      <th>5365442</th>\n",
       "      <td>1.00</td>\n",
       "      <td>1.00</td>\n",
       "      <td>1</td>\n",
       "      <td>0.98</td>\n",
       "    </tr>\n",
       "    <tr>\n",
       "      <th>5366752</th>\n",
       "      <td>1.00</td>\n",
       "      <td>1.00</td>\n",
       "      <td>1</td>\n",
       "      <td>0.98</td>\n",
       "    </tr>\n",
       "    <tr>\n",
       "      <th>5383528</th>\n",
       "      <td>1.00</td>\n",
       "      <td>1.00</td>\n",
       "      <td>1</td>\n",
       "      <td>0.98</td>\n",
       "    </tr>\n",
       "    <tr>\n",
       "      <th>5383597</th>\n",
       "      <td>1.00</td>\n",
       "      <td>1.00</td>\n",
       "      <td>1</td>\n",
       "      <td>0.98</td>\n",
       "    </tr>\n",
       "    <tr>\n",
       "      <th>5387185</th>\n",
       "      <td>1.00</td>\n",
       "      <td>1.00</td>\n",
       "      <td>1</td>\n",
       "      <td>0.98</td>\n",
       "    </tr>\n",
       "    <tr>\n",
       "      <th>5387186</th>\n",
       "      <td>1.00</td>\n",
       "      <td>1.00</td>\n",
       "      <td>1</td>\n",
       "      <td>0.98</td>\n",
       "    </tr>\n",
       "    <tr>\n",
       "      <th>5389234</th>\n",
       "      <td>1.00</td>\n",
       "      <td>1.00</td>\n",
       "      <td>1</td>\n",
       "      <td>0.98</td>\n",
       "    </tr>\n",
       "    <tr>\n",
       "      <th>5390472</th>\n",
       "      <td>1.00</td>\n",
       "      <td>1.00</td>\n",
       "      <td>1</td>\n",
       "      <td>0.98</td>\n",
       "    </tr>\n",
       "    <tr>\n",
       "      <th>5390989</th>\n",
       "      <td>1.00</td>\n",
       "      <td>1.00</td>\n",
       "      <td>1</td>\n",
       "      <td>0.98</td>\n",
       "    </tr>\n",
       "    <tr>\n",
       "      <th>5422342</th>\n",
       "      <td>1.00</td>\n",
       "      <td>1.00</td>\n",
       "      <td>1</td>\n",
       "      <td>0.98</td>\n",
       "    </tr>\n",
       "    <tr>\n",
       "      <th>5437920</th>\n",
       "      <td>1.00</td>\n",
       "      <td>1.00</td>\n",
       "      <td>1</td>\n",
       "      <td>0.98</td>\n",
       "    </tr>\n",
       "    <tr>\n",
       "      <th>5459390</th>\n",
       "      <td>1.00</td>\n",
       "      <td>1.00</td>\n",
       "      <td>1</td>\n",
       "      <td>0.98</td>\n",
       "    </tr>\n",
       "    <tr>\n",
       "      <th>5464426</th>\n",
       "      <td>1.00</td>\n",
       "      <td>1.00</td>\n",
       "      <td>1</td>\n",
       "      <td>0.98</td>\n",
       "    </tr>\n",
       "    <tr>\n",
       "      <th>5464665</th>\n",
       "      <td>1.00</td>\n",
       "      <td>1.00</td>\n",
       "      <td>1</td>\n",
       "      <td>0.98</td>\n",
       "    </tr>\n",
       "    <tr>\n",
       "      <th>5475781</th>\n",
       "      <td>1.00</td>\n",
       "      <td>1.00</td>\n",
       "      <td>1</td>\n",
       "      <td>0.98</td>\n",
       "    </tr>\n",
       "    <tr>\n",
       "      <th>5518536</th>\n",
       "      <td>1.00</td>\n",
       "      <td>1.00</td>\n",
       "      <td>1</td>\n",
       "      <td>0.98</td>\n",
       "    </tr>\n",
       "    <tr>\n",
       "      <th>5534578</th>\n",
       "      <td>1.00</td>\n",
       "      <td>1.00</td>\n",
       "      <td>1</td>\n",
       "      <td>0.98</td>\n",
       "    </tr>\n",
       "    <tr>\n",
       "      <th>5538796</th>\n",
       "      <td>1.00</td>\n",
       "      <td>1.00</td>\n",
       "      <td>1</td>\n",
       "      <td>0.98</td>\n",
       "    </tr>\n",
       "    <tr>\n",
       "      <th>5538897</th>\n",
       "      <td>1.00</td>\n",
       "      <td>1.00</td>\n",
       "      <td>1</td>\n",
       "      <td>0.98</td>\n",
       "    </tr>\n",
       "    <tr>\n",
       "      <th>5541175</th>\n",
       "      <td>1.00</td>\n",
       "      <td>1.00</td>\n",
       "      <td>1</td>\n",
       "      <td>0.98</td>\n",
       "    </tr>\n",
       "    <tr>\n",
       "      <th>5545656</th>\n",
       "      <td>1.00</td>\n",
       "      <td>1.00</td>\n",
       "      <td>1</td>\n",
       "      <td>0.98</td>\n",
       "    </tr>\n",
       "    <tr>\n",
       "      <th>5547033</th>\n",
       "      <td>1.00</td>\n",
       "      <td>1.00</td>\n",
       "      <td>1</td>\n",
       "      <td>0.98</td>\n",
       "    </tr>\n",
       "  </tbody>\n",
       "</table>\n",
       "</div>"
      ],
      "text/plain": [
       "         dif_financiacion  altaPrediction  Success  AltaScore\n",
       "5311862              1.00            1.00        1       0.98\n",
       "5323524              1.00            1.00        1       0.98\n",
       "5324548              1.00            1.00        1       0.98\n",
       "5341355              1.00            1.00        1       0.98\n",
       "5355500              1.00            1.00        1       0.98\n",
       "5355720              1.00            1.00        1       0.98\n",
       "5357560              1.00            1.00        1       0.98\n",
       "5357790              1.00            1.00        1       0.98\n",
       "5365442              1.00            1.00        1       0.98\n",
       "5366752              1.00            1.00        1       0.98\n",
       "5383528              1.00            1.00        1       0.98\n",
       "5383597              1.00            1.00        1       0.98\n",
       "5387185              1.00            1.00        1       0.98\n",
       "5387186              1.00            1.00        1       0.98\n",
       "5389234              1.00            1.00        1       0.98\n",
       "5390472              1.00            1.00        1       0.98\n",
       "5390989              1.00            1.00        1       0.98\n",
       "5422342              1.00            1.00        1       0.98\n",
       "5437920              1.00            1.00        1       0.98\n",
       "5459390              1.00            1.00        1       0.98\n",
       "5464426              1.00            1.00        1       0.98\n",
       "5464665              1.00            1.00        1       0.98\n",
       "5475781              1.00            1.00        1       0.98\n",
       "5518536              1.00            1.00        1       0.98\n",
       "5534578              1.00            1.00        1       0.98\n",
       "5538796              1.00            1.00        1       0.98\n",
       "5538897              1.00            1.00        1       0.98\n",
       "5541175              1.00            1.00        1       0.98\n",
       "5545656              1.00            1.00        1       0.98\n",
       "5547033              1.00            1.00        1       0.98"
      ]
     },
     "execution_count": 105,
     "metadata": {},
     "output_type": "execute_result"
    }
   ],
   "source": [
    "results_df[(results_df['AltaScore']> 0.70) ]"
   ]
  },
  {
   "cell_type": "code",
   "execution_count": 106,
   "metadata": {
    "ExecuteTime": {
     "end_time": "2020-09-16T08:49:54.580017Z",
     "start_time": "2020-09-16T08:49:54.569504Z"
    }
   },
   "outputs": [
    {
     "data": {
      "text/html": [
       "<div>\n",
       "<style scoped>\n",
       "    .dataframe tbody tr th:only-of-type {\n",
       "        vertical-align: middle;\n",
       "    }\n",
       "\n",
       "    .dataframe tbody tr th {\n",
       "        vertical-align: top;\n",
       "    }\n",
       "\n",
       "    .dataframe thead th {\n",
       "        text-align: right;\n",
       "    }\n",
       "</style>\n",
       "<table border=\"1\" class=\"dataframe\">\n",
       "  <thead>\n",
       "    <tr style=\"text-align: right;\">\n",
       "      <th></th>\n",
       "      <th>AltaScore</th>\n",
       "    </tr>\n",
       "  </thead>\n",
       "  <tbody>\n",
       "    <tr>\n",
       "      <th>5311862</th>\n",
       "      <td>0.98</td>\n",
       "    </tr>\n",
       "    <tr>\n",
       "      <th>5323524</th>\n",
       "      <td>0.98</td>\n",
       "    </tr>\n",
       "    <tr>\n",
       "      <th>5324548</th>\n",
       "      <td>0.98</td>\n",
       "    </tr>\n",
       "    <tr>\n",
       "      <th>5341355</th>\n",
       "      <td>0.98</td>\n",
       "    </tr>\n",
       "    <tr>\n",
       "      <th>5355500</th>\n",
       "      <td>0.98</td>\n",
       "    </tr>\n",
       "    <tr>\n",
       "      <th>5355720</th>\n",
       "      <td>0.98</td>\n",
       "    </tr>\n",
       "    <tr>\n",
       "      <th>5357560</th>\n",
       "      <td>0.98</td>\n",
       "    </tr>\n",
       "    <tr>\n",
       "      <th>5357790</th>\n",
       "      <td>0.98</td>\n",
       "    </tr>\n",
       "    <tr>\n",
       "      <th>5365442</th>\n",
       "      <td>0.98</td>\n",
       "    </tr>\n",
       "    <tr>\n",
       "      <th>5366752</th>\n",
       "      <td>0.98</td>\n",
       "    </tr>\n",
       "    <tr>\n",
       "      <th>5383528</th>\n",
       "      <td>0.98</td>\n",
       "    </tr>\n",
       "    <tr>\n",
       "      <th>5383597</th>\n",
       "      <td>0.98</td>\n",
       "    </tr>\n",
       "    <tr>\n",
       "      <th>5387185</th>\n",
       "      <td>0.98</td>\n",
       "    </tr>\n",
       "    <tr>\n",
       "      <th>5387186</th>\n",
       "      <td>0.98</td>\n",
       "    </tr>\n",
       "    <tr>\n",
       "      <th>5389234</th>\n",
       "      <td>0.98</td>\n",
       "    </tr>\n",
       "    <tr>\n",
       "      <th>5390472</th>\n",
       "      <td>0.98</td>\n",
       "    </tr>\n",
       "    <tr>\n",
       "      <th>5390989</th>\n",
       "      <td>0.98</td>\n",
       "    </tr>\n",
       "    <tr>\n",
       "      <th>5422342</th>\n",
       "      <td>0.98</td>\n",
       "    </tr>\n",
       "    <tr>\n",
       "      <th>5437920</th>\n",
       "      <td>0.98</td>\n",
       "    </tr>\n",
       "    <tr>\n",
       "      <th>5459390</th>\n",
       "      <td>0.98</td>\n",
       "    </tr>\n",
       "    <tr>\n",
       "      <th>5464426</th>\n",
       "      <td>0.98</td>\n",
       "    </tr>\n",
       "    <tr>\n",
       "      <th>5464665</th>\n",
       "      <td>0.98</td>\n",
       "    </tr>\n",
       "    <tr>\n",
       "      <th>5475781</th>\n",
       "      <td>0.98</td>\n",
       "    </tr>\n",
       "    <tr>\n",
       "      <th>5518536</th>\n",
       "      <td>0.98</td>\n",
       "    </tr>\n",
       "    <tr>\n",
       "      <th>5534578</th>\n",
       "      <td>0.98</td>\n",
       "    </tr>\n",
       "    <tr>\n",
       "      <th>5538796</th>\n",
       "      <td>0.98</td>\n",
       "    </tr>\n",
       "    <tr>\n",
       "      <th>5538897</th>\n",
       "      <td>0.98</td>\n",
       "    </tr>\n",
       "    <tr>\n",
       "      <th>5541175</th>\n",
       "      <td>0.98</td>\n",
       "    </tr>\n",
       "    <tr>\n",
       "      <th>5545656</th>\n",
       "      <td>0.98</td>\n",
       "    </tr>\n",
       "    <tr>\n",
       "      <th>5547033</th>\n",
       "      <td>0.98</td>\n",
       "    </tr>\n",
       "  </tbody>\n",
       "</table>\n",
       "</div>"
      ],
      "text/plain": [
       "         AltaScore\n",
       "5311862       0.98\n",
       "5323524       0.98\n",
       "5324548       0.98\n",
       "5341355       0.98\n",
       "5355500       0.98\n",
       "5355720       0.98\n",
       "5357560       0.98\n",
       "5357790       0.98\n",
       "5365442       0.98\n",
       "5366752       0.98\n",
       "5383528       0.98\n",
       "5383597       0.98\n",
       "5387185       0.98\n",
       "5387186       0.98\n",
       "5389234       0.98\n",
       "5390472       0.98\n",
       "5390989       0.98\n",
       "5422342       0.98\n",
       "5437920       0.98\n",
       "5459390       0.98\n",
       "5464426       0.98\n",
       "5464665       0.98\n",
       "5475781       0.98\n",
       "5518536       0.98\n",
       "5534578       0.98\n",
       "5538796       0.98\n",
       "5538897       0.98\n",
       "5541175       0.98\n",
       "5545656       0.98\n",
       "5547033       0.98"
      ]
     },
     "execution_count": 106,
     "metadata": {},
     "output_type": "execute_result"
    }
   ],
   "source": [
    "results_df[results_df['AltaScore']> 0.70 ]['AltaScore'].to_frame()"
   ]
  },
  {
   "cell_type": "markdown",
   "metadata": {},
   "source": [
    "Se lo concatenamos al dataset original ya que en este es donde esta la informacion del pk_cid del cliente\n"
   ]
  },
  {
   "cell_type": "code",
   "execution_count": 107,
   "metadata": {
    "ExecuteTime": {
     "end_time": "2020-09-16T08:50:35.850553Z",
     "start_time": "2020-09-16T08:50:25.579873Z"
    }
   },
   "outputs": [],
   "source": [
    "full_df = pd.concat([full_df,results_df[results_df['AltaScore']> 0.70 ]['AltaScore'].to_frame()],axis=1)\n",
    "full_df.rename(columns={'AltaScore':'AltaScoreFinanciacion'},inplace=True)\n"
   ]
  },
  {
   "cell_type": "markdown",
   "metadata": {},
   "source": [
    "Obviamente, se nos han generado muchisimos nulos en esta operacion. A estos les damos la probabilidad 0"
   ]
  },
  {
   "cell_type": "code",
   "execution_count": 108,
   "metadata": {
    "ExecuteTime": {
     "end_time": "2020-09-16T08:50:53.216437Z",
     "start_time": "2020-09-16T08:50:53.138503Z"
    }
   },
   "outputs": [
    {
     "data": {
      "text/plain": [
       "nan     5063940\n",
       "0.98         30\n",
       "Name: AltaScoreFinanciacion, dtype: int64"
      ]
     },
     "execution_count": 108,
     "metadata": {},
     "output_type": "execute_result"
    }
   ],
   "source": [
    "full_df['AltaScoreFinanciacion'].value_counts(dropna=False)"
   ]
  },
  {
   "cell_type": "code",
   "execution_count": 109,
   "metadata": {
    "ExecuteTime": {
     "end_time": "2020-09-16T08:51:07.307975Z",
     "start_time": "2020-09-16T08:51:07.288973Z"
    }
   },
   "outputs": [],
   "source": [
    "full_df['AltaScoreFinanciacion'].fillna(0, inplace=True)"
   ]
  },
  {
   "cell_type": "markdown",
   "metadata": {},
   "source": [
    "Generamos el fichero \".csv\" con los pk_cid y las probabiliadades de alta que pasaremos a sistemas."
   ]
  },
  {
   "cell_type": "code",
   "execution_count": 110,
   "metadata": {
    "ExecuteTime": {
     "end_time": "2020-09-16T08:52:10.842991Z",
     "start_time": "2020-09-16T08:52:10.826072Z"
    }
   },
   "outputs": [],
   "source": [
    "full_df[ (full_df['AltaScoreFinanciacion']>= 0.70) ][['pk_cid','AltaScoreFinanciacion']].to_csv(\n",
    "    '../Datos-Easymoney/recomendacion_financiacion.csv',index=False)\n"
   ]
  },
  {
   "cell_type": "code",
   "execution_count": null,
   "metadata": {},
   "outputs": [],
   "source": []
  }
 ],
 "metadata": {
  "kernelspec": {
   "display_name": "Python 3",
   "language": "python",
   "name": "python3"
  },
  "language_info": {
   "codemirror_mode": {
    "name": "ipython",
    "version": 3
   },
   "file_extension": ".py",
   "mimetype": "text/x-python",
   "name": "python",
   "nbconvert_exporter": "python",
   "pygments_lexer": "ipython3",
   "version": "3.7.6"
  },
  "toc": {
   "base_numbering": 1,
   "nav_menu": {},
   "number_sections": true,
   "sideBar": true,
   "skip_h1_title": false,
   "title_cell": "Table of Contents",
   "title_sidebar": "Contents",
   "toc_cell": false,
   "toc_position": {},
   "toc_section_display": true,
   "toc_window_display": false
  },
  "varInspector": {
   "cols": {
    "lenName": 16,
    "lenType": 16,
    "lenVar": 40
   },
   "kernels_config": {
    "python": {
     "delete_cmd_postfix": "",
     "delete_cmd_prefix": "del ",
     "library": "var_list.py",
     "varRefreshCmd": "print(var_dic_list())"
    },
    "r": {
     "delete_cmd_postfix": ") ",
     "delete_cmd_prefix": "rm(",
     "library": "var_list.r",
     "varRefreshCmd": "cat(var_dic_list()) "
    }
   },
   "types_to_exclude": [
    "module",
    "function",
    "builtin_function_or_method",
    "instance",
    "_Feature"
   ],
   "window_display": false
  }
 },
 "nbformat": 4,
 "nbformat_minor": 4
}
