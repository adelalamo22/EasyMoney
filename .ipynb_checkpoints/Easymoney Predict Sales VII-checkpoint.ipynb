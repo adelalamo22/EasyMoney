{
 "cells": [
  {
   "cell_type": "code",
   "execution_count": 14,
   "metadata": {
    "ExecuteTime": {
     "end_time": "2020-09-09T08:16:15.708138Z",
     "start_time": "2020-09-09T08:16:15.700143Z"
    }
   },
   "outputs": [],
   "source": [
    "import numpy as np \n",
    "import pandas as pd\n",
    "import calendar\n",
    "import matplotlib.pyplot as plt\n",
    "import seaborn as sns\n",
    "import squarify\n",
    "import gc\n",
    "import matplotlib\n",
    "import matplotlib.pyplot as plt\n",
    "import seaborn as sns\n",
    "import plotly.express as px\n",
    "\n",
    "import time\n",
    "import datetime\n",
    "from datetime import datetime\n",
    "import calendar\n",
    "\n",
    "from sklearn import model_selection # model assesment and model selection strategies\n",
    "from sklearn import metrics # model evaluation metrics\n",
    "from sklearn.tree import DecisionTreeClassifier, plot_tree\n",
    "from sklearn.tree import export_graphviz\n",
    "import graphviz\n",
    "from sklearn.preprocessing import LabelEncoder,MinMaxScaler, StandardScaler\n",
    "from sklearn.model_selection import train_test_split\n",
    "from sklearn import tree\n",
    "from sklearn.ensemble import RandomForestClassifier\n",
    "import xgboost as xgb\n",
    "from sklearn.metrics import confusion_matrix\n",
    "\n",
    "\n",
    "sns.set_style('white')\n",
    "\n",
    "pd.options.display.float_format = '{:,.2f}'.format"
   ]
  },
  {
   "cell_type": "code",
   "execution_count": 15,
   "metadata": {
    "ExecuteTime": {
     "end_time": "2020-09-09T08:16:15.873118Z",
     "start_time": "2020-09-09T08:16:15.710123Z"
    }
   },
   "outputs": [],
   "source": [
    "# reduces the memory of a dataframe\n",
    "def reduce_mem_usage(df, verbose = True):\n",
    "    \n",
    "    '''\n",
    "    Reduces the space that a DataFrame occupies in memory.\n",
    "\n",
    "    This function iterates over all columns in a df and downcasts them to lower type to save memory.\n",
    "    '''\n",
    "    \n",
    "    numerics = ['int16', 'int32', 'int64', 'float16', 'float32', 'float64']\n",
    "    start_mem = df.memory_usage().sum() / 1024**2    \n",
    "    for col in df.columns:\n",
    "        col_type = df[col].dtypes\n",
    "        if col_type in numerics:\n",
    "            c_min = df[col].min()\n",
    "            c_max = df[col].max()\n",
    "            if str(col_type)[:3] == 'int':\n",
    "                if c_min > np.iinfo(np.int8).min and c_max < np.iinfo(np.int8).max:\n",
    "                    df[col] = df[col].astype(np.int8)\n",
    "                elif c_min > np.iinfo(np.int16).min and c_max < np.iinfo(np.int16).max:\n",
    "                    df[col] = df[col].astype(np.int16)\n",
    "                elif c_min > np.iinfo(np.int32).min and c_max < np.iinfo(np.int32).max:\n",
    "                    df[col] = df[col].astype(np.int32)\n",
    "                elif c_min > np.iinfo(np.int64).min and c_max < np.iinfo(np.int64).max:\n",
    "                    df[col] = df[col].astype(np.int64)  \n",
    "            else:\n",
    "                if c_min > np.finfo(np.float16).min and c_max < np.finfo(np.float16).max:\n",
    "                    df[col] = df[col].astype(np.float16)\n",
    "                elif c_min > np.finfo(np.float32).min and c_max < np.finfo(np.float32).max:\n",
    "                    df[col] = df[col].astype(np.float32)\n",
    "                else:\n",
    "                    df[col] = df[col].astype(np.float64)    \n",
    "    end_mem = df.memory_usage().sum() / 1024**2\n",
    "    if verbose:\n",
    "        print('Mem. usage decreased to {:5.2f} Mb ({:.1f}% reduction)'\\\n",
    "              .format(end_mem, 100 * (start_mem - end_mem) / start_mem))"
   ]
  },
  {
   "cell_type": "code",
   "execution_count": 16,
   "metadata": {
    "ExecuteTime": {
     "end_time": "2020-09-09T08:18:31.289391Z",
     "start_time": "2020-09-09T08:16:15.875103Z"
    }
   },
   "outputs": [],
   "source": [
    "df_sorted = pd.read_pickle('../Datos-Easymoney/EasyMoney_base.pkl',compression='zip')"
   ]
  },
  {
   "cell_type": "code",
   "execution_count": 17,
   "metadata": {
    "ExecuteTime": {
     "end_time": "2020-09-09T08:18:34.766588Z",
     "start_time": "2020-09-09T08:18:31.290276Z"
    }
   },
   "outputs": [
    {
     "data": {
      "text/plain": [
       "0"
      ]
     },
     "execution_count": 17,
     "metadata": {},
     "output_type": "execute_result"
    }
   ],
   "source": [
    "df_sorted.isnull().sum().sum()"
   ]
  },
  {
   "cell_type": "code",
   "execution_count": 18,
   "metadata": {
    "ExecuteTime": {
     "end_time": "2020-09-09T08:18:34.804566Z",
     "start_time": "2020-09-09T08:18:34.769586Z"
    }
   },
   "outputs": [
    {
     "name": "stdout",
     "output_type": "stream",
     "text": [
      "<class 'pandas.core.frame.DataFrame'>\n",
      "Int64Index: 5962924 entries, 0 to 5962923\n",
      "Data columns (total 59 columns):\n",
      " #   Column                  Dtype         \n",
      "---  ------                  -----         \n",
      " 0   pk_cid                  int32         \n",
      " 1   pk_partition            datetime64[ns]\n",
      " 2   short_term_deposit      int8          \n",
      " 3   loans                   int8          \n",
      " 4   mortgage                int8          \n",
      " 5   funds                   int8          \n",
      " 6   securities              int8          \n",
      " 7   long_term_deposit       int8          \n",
      " 8   em_account_pp           int8          \n",
      " 9   credit_card             int8          \n",
      " 10  payroll                 float16       \n",
      " 11  pension_plan            float16       \n",
      " 12  payroll_account         int8          \n",
      " 13  emc_account             int8          \n",
      " 14  debit_card              int8          \n",
      " 15  em_account_p            int8          \n",
      " 16  em_acount               int8          \n",
      " 17  entry_date              datetime64[ns]\n",
      " 18  entry_channel           object        \n",
      " 19  active_customer         float16       \n",
      " 20  segment                 object        \n",
      " 21  country_id              object        \n",
      " 22  region_code             float16       \n",
      " 23  gender                  object        \n",
      " 24  age                     int8          \n",
      " 25  deceased                object        \n",
      " 26  salary                  float32       \n",
      " 27  dif_debit_card          float16       \n",
      " 28  dif_em_account_p        float16       \n",
      " 29  dif_em_account_pp       float16       \n",
      " 30  dif_em_acount           float16       \n",
      " 31  dif_emc_account         float16       \n",
      " 32  dif_payroll             float16       \n",
      " 33  dif_payroll_account     float16       \n",
      " 34  dif_funds               float16       \n",
      " 35  dif_long_term_deposit   float16       \n",
      " 36  dif_mortgage            float16       \n",
      " 37  dif_pension_plan        float16       \n",
      " 38  dif_securities          float16       \n",
      " 39  dif_short_term_deposit  float16       \n",
      " 40  dif_loans               float16       \n",
      " 41  dif_credit_card         float16       \n",
      " 42  mesesAlta               float16       \n",
      " 43  isNewClient             int8          \n",
      " 44  isActive                int8          \n",
      " 45  Provincia               object        \n",
      " 46  SalaryQtil              object        \n",
      " 47  totalAssets             float16       \n",
      " 48  totalCuentas            float16       \n",
      " 49  totalAhorro             float16       \n",
      " 50  totalFinanciacion       int8          \n",
      " 51  totalIngresos           float64       \n",
      " 52  totalBeneficio          float64       \n",
      " 53  hayAlta                 int64         \n",
      " 54  diasDesdeUltimaAlta     object        \n",
      " 55  diasDesdeUltimaAltaInt  int64         \n",
      " 56  hayBaja                 int64         \n",
      " 57  diasDesdeUltimaBaja     object        \n",
      " 58  diasDesdeUltimaBajaInt  int64         \n",
      "dtypes: datetime64[ns](2), float16(23), float32(1), float64(2), int32(1), int64(4), int8(17), object(9)\n",
      "memory usage: 1.2+ GB\n"
     ]
    }
   ],
   "source": [
    "df_sorted.info()"
   ]
  },
  {
   "cell_type": "markdown",
   "metadata": {},
   "source": [
    "# Variable dif_cuentaSimple:"
   ]
  },
  {
   "cell_type": "code",
   "execution_count": 19,
   "metadata": {
    "ExecuteTime": {
     "end_time": "2020-09-09T08:18:35.397471Z",
     "start_time": "2020-09-09T08:18:34.806564Z"
    }
   },
   "outputs": [],
   "source": [
    "df_sorted.loc[ (df_sorted['dif_debit_card']==1) | \n",
    "               (df_sorted['dif_em_account_p']==1) |\n",
    "               (df_sorted['dif_em_account_pp']==1) |\n",
    "               (df_sorted['dif_em_acount']==1) |\n",
    "               (df_sorted['dif_emc_account']==1) |\n",
    "               (df_sorted['dif_payroll']==1) |\n",
    "               (df_sorted['dif_payroll_account']==1), 'dif_cuentaSimple']=1"
   ]
  },
  {
   "cell_type": "markdown",
   "metadata": {},
   "source": [
    "# Variable dif_ahorroInversion:"
   ]
  },
  {
   "cell_type": "code",
   "execution_count": 20,
   "metadata": {
    "ExecuteTime": {
     "end_time": "2020-09-09T08:18:35.883072Z",
     "start_time": "2020-09-09T08:18:35.399470Z"
    }
   },
   "outputs": [],
   "source": [
    "df_sorted.loc[ (df_sorted['dif_funds']==1) | \n",
    "               (df_sorted['dif_long_term_deposit']==1) |\n",
    "               (df_sorted['dif_mortgage']==1) |\n",
    "               (df_sorted['dif_pension_plan']==1) |\n",
    "               (df_sorted['dif_securities']==1) |\n",
    "               (df_sorted['short_term_deposit']==1) , 'dif_ahorroInversion']=1"
   ]
  },
  {
   "cell_type": "markdown",
   "metadata": {},
   "source": [
    "# Variable dif_financiacion:"
   ]
  },
  {
   "cell_type": "code",
   "execution_count": 21,
   "metadata": {
    "ExecuteTime": {
     "end_time": "2020-09-09T08:18:36.265462Z",
     "start_time": "2020-09-09T08:18:35.885071Z"
    }
   },
   "outputs": [],
   "source": [
    "df_sorted.loc[ (df_sorted['loans']==1) | \n",
    "               (df_sorted['dif_credit_card']==1)  , 'dif_financiacion']=1"
   ]
  },
  {
   "cell_type": "markdown",
   "metadata": {},
   "source": [
    "# Fill nans"
   ]
  },
  {
   "cell_type": "code",
   "execution_count": 22,
   "metadata": {
    "ExecuteTime": {
     "end_time": "2020-09-09T08:18:36.332710Z",
     "start_time": "2020-09-09T08:18:36.267461Z"
    }
   },
   "outputs": [],
   "source": [
    "df_sorted['dif_cuentaSimple'].fillna(0,inplace=True)\n",
    "df_sorted['dif_ahorroInversion'].fillna(0,inplace=True)\n",
    "df_sorted['dif_financiacion'].fillna(0,inplace=True)"
   ]
  },
  {
   "cell_type": "code",
   "execution_count": 23,
   "metadata": {
    "ExecuteTime": {
     "end_time": "2020-09-09T08:18:36.337704Z",
     "start_time": "2020-09-09T08:18:36.333705Z"
    }
   },
   "outputs": [],
   "source": [
    "cuentas_easymoney = ['dif_debit_card','dif_em_account_p','dif_em_account_pp',\n",
    "                                     'dif_em_acount','dif_emc_account','dif_payroll','dif_payroll_account',\n",
    "                    'dif_cuentaSimple']"
   ]
  },
  {
   "cell_type": "code",
   "execution_count": 24,
   "metadata": {
    "ExecuteTime": {
     "end_time": "2020-09-09T08:18:36.377877Z",
     "start_time": "2020-09-09T08:18:36.339516Z"
    }
   },
   "outputs": [
    {
     "data": {
      "text/html": [
       "<div>\n",
       "<style scoped>\n",
       "    .dataframe tbody tr th:only-of-type {\n",
       "        vertical-align: middle;\n",
       "    }\n",
       "\n",
       "    .dataframe tbody tr th {\n",
       "        vertical-align: top;\n",
       "    }\n",
       "\n",
       "    .dataframe thead th {\n",
       "        text-align: right;\n",
       "    }\n",
       "</style>\n",
       "<table border=\"1\" class=\"dataframe\">\n",
       "  <thead>\n",
       "    <tr style=\"text-align: right;\">\n",
       "      <th></th>\n",
       "      <th>451204</th>\n",
       "      <th>451205</th>\n",
       "      <th>451206</th>\n",
       "      <th>451207</th>\n",
       "      <th>451208</th>\n",
       "      <th>451209</th>\n",
       "      <th>451210</th>\n",
       "      <th>451211</th>\n",
       "      <th>451212</th>\n",
       "      <th>451213</th>\n",
       "    </tr>\n",
       "  </thead>\n",
       "  <tbody>\n",
       "    <tr>\n",
       "      <th>dif_debit_card</th>\n",
       "      <td>0.00</td>\n",
       "      <td>0.00</td>\n",
       "      <td>0.00</td>\n",
       "      <td>0.00</td>\n",
       "      <td>-1.00</td>\n",
       "      <td>1.00</td>\n",
       "      <td>0.00</td>\n",
       "      <td>0.00</td>\n",
       "      <td>0.00</td>\n",
       "      <td>0.00</td>\n",
       "    </tr>\n",
       "    <tr>\n",
       "      <th>dif_em_account_p</th>\n",
       "      <td>0.00</td>\n",
       "      <td>0.00</td>\n",
       "      <td>0.00</td>\n",
       "      <td>0.00</td>\n",
       "      <td>0.00</td>\n",
       "      <td>0.00</td>\n",
       "      <td>0.00</td>\n",
       "      <td>0.00</td>\n",
       "      <td>0.00</td>\n",
       "      <td>0.00</td>\n",
       "    </tr>\n",
       "    <tr>\n",
       "      <th>dif_em_account_pp</th>\n",
       "      <td>0.00</td>\n",
       "      <td>0.00</td>\n",
       "      <td>0.00</td>\n",
       "      <td>0.00</td>\n",
       "      <td>0.00</td>\n",
       "      <td>0.00</td>\n",
       "      <td>0.00</td>\n",
       "      <td>0.00</td>\n",
       "      <td>0.00</td>\n",
       "      <td>0.00</td>\n",
       "    </tr>\n",
       "    <tr>\n",
       "      <th>dif_em_acount</th>\n",
       "      <td>0.00</td>\n",
       "      <td>-1.00</td>\n",
       "      <td>0.00</td>\n",
       "      <td>1.00</td>\n",
       "      <td>0.00</td>\n",
       "      <td>0.00</td>\n",
       "      <td>0.00</td>\n",
       "      <td>0.00</td>\n",
       "      <td>0.00</td>\n",
       "      <td>0.00</td>\n",
       "    </tr>\n",
       "    <tr>\n",
       "      <th>dif_emc_account</th>\n",
       "      <td>0.00</td>\n",
       "      <td>0.00</td>\n",
       "      <td>0.00</td>\n",
       "      <td>0.00</td>\n",
       "      <td>0.00</td>\n",
       "      <td>0.00</td>\n",
       "      <td>0.00</td>\n",
       "      <td>0.00</td>\n",
       "      <td>0.00</td>\n",
       "      <td>0.00</td>\n",
       "    </tr>\n",
       "    <tr>\n",
       "      <th>dif_payroll</th>\n",
       "      <td>0.00</td>\n",
       "      <td>0.00</td>\n",
       "      <td>0.00</td>\n",
       "      <td>0.00</td>\n",
       "      <td>0.00</td>\n",
       "      <td>0.00</td>\n",
       "      <td>0.00</td>\n",
       "      <td>0.00</td>\n",
       "      <td>0.00</td>\n",
       "      <td>0.00</td>\n",
       "    </tr>\n",
       "    <tr>\n",
       "      <th>dif_payroll_account</th>\n",
       "      <td>0.00</td>\n",
       "      <td>0.00</td>\n",
       "      <td>0.00</td>\n",
       "      <td>0.00</td>\n",
       "      <td>0.00</td>\n",
       "      <td>0.00</td>\n",
       "      <td>0.00</td>\n",
       "      <td>0.00</td>\n",
       "      <td>0.00</td>\n",
       "      <td>0.00</td>\n",
       "    </tr>\n",
       "    <tr>\n",
       "      <th>dif_cuentaSimple</th>\n",
       "      <td>0.00</td>\n",
       "      <td>0.00</td>\n",
       "      <td>0.00</td>\n",
       "      <td>1.00</td>\n",
       "      <td>0.00</td>\n",
       "      <td>1.00</td>\n",
       "      <td>0.00</td>\n",
       "      <td>0.00</td>\n",
       "      <td>0.00</td>\n",
       "      <td>0.00</td>\n",
       "    </tr>\n",
       "  </tbody>\n",
       "</table>\n",
       "</div>"
      ],
      "text/plain": [
       "                     451204  451205  451206  451207  451208  451209  451210  \\\n",
       "dif_debit_card         0.00    0.00    0.00    0.00   -1.00    1.00    0.00   \n",
       "dif_em_account_p       0.00    0.00    0.00    0.00    0.00    0.00    0.00   \n",
       "dif_em_account_pp      0.00    0.00    0.00    0.00    0.00    0.00    0.00   \n",
       "dif_em_acount          0.00   -1.00    0.00    1.00    0.00    0.00    0.00   \n",
       "dif_emc_account        0.00    0.00    0.00    0.00    0.00    0.00    0.00   \n",
       "dif_payroll            0.00    0.00    0.00    0.00    0.00    0.00    0.00   \n",
       "dif_payroll_account    0.00    0.00    0.00    0.00    0.00    0.00    0.00   \n",
       "dif_cuentaSimple       0.00    0.00    0.00    1.00    0.00    1.00    0.00   \n",
       "\n",
       "                     451211  451212  451213  \n",
       "dif_debit_card         0.00    0.00    0.00  \n",
       "dif_em_account_p       0.00    0.00    0.00  \n",
       "dif_em_account_pp      0.00    0.00    0.00  \n",
       "dif_em_acount          0.00    0.00    0.00  \n",
       "dif_emc_account        0.00    0.00    0.00  \n",
       "dif_payroll            0.00    0.00    0.00  \n",
       "dif_payroll_account    0.00    0.00    0.00  \n",
       "dif_cuentaSimple       0.00    0.00    0.00  "
      ]
     },
     "execution_count": 24,
     "metadata": {},
     "output_type": "execute_result"
    }
   ],
   "source": [
    "df_sorted[df_sorted['pk_cid']==1035440  ][cuentas_easymoney].head(10).T"
   ]
  },
  {
   "cell_type": "code",
   "execution_count": 25,
   "metadata": {
    "ExecuteTime": {
     "end_time": "2020-09-09T08:18:39.536971Z",
     "start_time": "2020-09-09T08:18:36.380514Z"
    }
   },
   "outputs": [
    {
     "data": {
      "text/plain": [
       "0"
      ]
     },
     "execution_count": 25,
     "metadata": {},
     "output_type": "execute_result"
    }
   ],
   "source": [
    "df_sorted.isnull().sum().sum()"
   ]
  },
  {
   "cell_type": "markdown",
   "metadata": {},
   "source": [
    "# Vamos a hacer el producto cartesiano para predecir\n",
    "Solo clientes activos(Con producto)"
   ]
  },
  {
   "cell_type": "code",
   "execution_count": 26,
   "metadata": {
    "ExecuteTime": {
     "end_time": "2020-09-09T08:18:39.541975Z",
     "start_time": "2020-09-09T08:18:39.537971Z"
    }
   },
   "outputs": [],
   "source": [
    "lista_fechas=['2018-01-28',\n",
    "'2018-02-28',\n",
    "'2018-03-28',\n",
    "'2018-04-28',\n",
    "'2018-05-28',\n",
    "'2018-06-28',\n",
    "'2018-07-28',\n",
    "'2018-08-28',\n",
    "'2018-09-28',\n",
    "'2018-10-28',\n",
    "'2018-11-28',\n",
    "'2018-12-28',\n",
    "'2019-01-28',\n",
    "'2019-02-28',\n",
    "'2019-03-28',\n",
    "'2019-04-28',\n",
    "'2019-05-28',             \n",
    "'2019-06-28']"
   ]
  },
  {
   "cell_type": "code",
   "execution_count": 27,
   "metadata": {
    "ExecuteTime": {
     "end_time": "2020-09-09T08:18:39.908286Z",
     "start_time": "2020-09-09T08:18:39.543973Z"
    }
   },
   "outputs": [],
   "source": [
    "lista_clientes=df_sorted[(df_sorted['isActive']==1) & \n",
    "                        (df_sorted['pk_partition']=='2019-05-28')][\"pk_cid\"].unique().tolist()"
   ]
  },
  {
   "cell_type": "code",
   "execution_count": 28,
   "metadata": {
    "ExecuteTime": {
     "end_time": "2020-09-09T08:18:39.914286Z",
     "start_time": "2020-09-09T08:18:39.910213Z"
    }
   },
   "outputs": [
    {
     "data": {
      "text/plain": [
       "331588"
      ]
     },
     "execution_count": 28,
     "metadata": {},
     "output_type": "execute_result"
    }
   ],
   "source": [
    "len(lista_clientes)"
   ]
  },
  {
   "cell_type": "code",
   "execution_count": 29,
   "metadata": {
    "ExecuteTime": {
     "end_time": "2020-09-09T08:18:40.183799Z",
     "start_time": "2020-09-09T08:18:39.915286Z"
    }
   },
   "outputs": [
    {
     "data": {
      "text/plain": [
       "5968584"
      ]
     },
     "execution_count": 29,
     "metadata": {},
     "output_type": "execute_result"
    }
   ],
   "source": [
    "cartesian_product = pd.MultiIndex.from_product([lista_fechas, lista_clientes ], names = [\"pk_partition\", \"pk_cid\"])\n",
    "len(cartesian_product)"
   ]
  },
  {
   "cell_type": "code",
   "execution_count": 30,
   "metadata": {
    "ExecuteTime": {
     "end_time": "2020-09-09T08:18:40.192794Z",
     "start_time": "2020-09-09T08:18:40.184798Z"
    }
   },
   "outputs": [
    {
     "data": {
      "text/plain": [
       "MultiIndex([('2018-01-28',   16203),\n",
       "            ('2018-01-28',   16502),\n",
       "            ('2018-01-28',   17457),\n",
       "            ('2018-01-28',   17799),\n",
       "            ('2018-01-28',   17970),\n",
       "            ('2018-01-28',   17980),\n",
       "            ('2018-01-28',   18146),\n",
       "            ('2018-01-28',   18704),\n",
       "            ('2018-01-28',   19021),\n",
       "            ('2018-01-28',   19268),\n",
       "            ...\n",
       "            ('2019-06-28', 1553390),\n",
       "            ('2019-06-28', 1553393),\n",
       "            ('2019-06-28', 1553415),\n",
       "            ('2019-06-28', 1553429),\n",
       "            ('2019-06-28', 1553436),\n",
       "            ('2019-06-28', 1553456),\n",
       "            ('2019-06-28', 1553541),\n",
       "            ('2019-06-28', 1553559),\n",
       "            ('2019-06-28', 1553565),\n",
       "            ('2019-06-28', 1553571)],\n",
       "           names=['pk_partition', 'pk_cid'], length=5968584)"
      ]
     },
     "execution_count": 30,
     "metadata": {},
     "output_type": "execute_result"
    }
   ],
   "source": [
    "cartesian_product"
   ]
  },
  {
   "cell_type": "code",
   "execution_count": 31,
   "metadata": {
    "ExecuteTime": {
     "end_time": "2020-09-09T08:18:40.438731Z",
     "start_time": "2020-09-09T08:18:40.194795Z"
    }
   },
   "outputs": [
    {
     "data": {
      "text/html": [
       "<div>\n",
       "<style scoped>\n",
       "    .dataframe tbody tr th:only-of-type {\n",
       "        vertical-align: middle;\n",
       "    }\n",
       "\n",
       "    .dataframe tbody tr th {\n",
       "        vertical-align: top;\n",
       "    }\n",
       "\n",
       "    .dataframe thead th {\n",
       "        text-align: right;\n",
       "    }\n",
       "</style>\n",
       "<table border=\"1\" class=\"dataframe\">\n",
       "  <thead>\n",
       "    <tr style=\"text-align: right;\">\n",
       "      <th></th>\n",
       "      <th>pk_partition</th>\n",
       "      <th>pk_cid</th>\n",
       "    </tr>\n",
       "  </thead>\n",
       "  <tbody>\n",
       "    <tr>\n",
       "      <th>5968579</th>\n",
       "      <td>2019-06-28</td>\n",
       "      <td>1553456</td>\n",
       "    </tr>\n",
       "    <tr>\n",
       "      <th>5968580</th>\n",
       "      <td>2019-06-28</td>\n",
       "      <td>1553541</td>\n",
       "    </tr>\n",
       "    <tr>\n",
       "      <th>5968581</th>\n",
       "      <td>2019-06-28</td>\n",
       "      <td>1553559</td>\n",
       "    </tr>\n",
       "    <tr>\n",
       "      <th>5968582</th>\n",
       "      <td>2019-06-28</td>\n",
       "      <td>1553565</td>\n",
       "    </tr>\n",
       "    <tr>\n",
       "      <th>5968583</th>\n",
       "      <td>2019-06-28</td>\n",
       "      <td>1553571</td>\n",
       "    </tr>\n",
       "  </tbody>\n",
       "</table>\n",
       "</div>"
      ],
      "text/plain": [
       "        pk_partition   pk_cid\n",
       "5968579   2019-06-28  1553456\n",
       "5968580   2019-06-28  1553541\n",
       "5968581   2019-06-28  1553559\n",
       "5968582   2019-06-28  1553565\n",
       "5968583   2019-06-28  1553571"
      ]
     },
     "execution_count": 31,
     "metadata": {},
     "output_type": "execute_result"
    }
   ],
   "source": [
    "full_df = pd.DataFrame(index = cartesian_product).reset_index()\n",
    "full_df.tail()"
   ]
  },
  {
   "cell_type": "code",
   "execution_count": 32,
   "metadata": {
    "ExecuteTime": {
     "end_time": "2020-09-09T08:18:41.041361Z",
     "start_time": "2020-09-09T08:18:40.439712Z"
    }
   },
   "outputs": [],
   "source": [
    "full_df['pk_partition']=pd.to_datetime(full_df['pk_partition'], format='%Y-%m-%d')"
   ]
  },
  {
   "cell_type": "code",
   "execution_count": 33,
   "metadata": {
    "ExecuteTime": {
     "end_time": "2020-09-09T08:18:41.218454Z",
     "start_time": "2020-09-09T08:18:41.042343Z"
    }
   },
   "outputs": [
    {
     "data": {
      "text/plain": [
       "pk_partition\n",
       "2018-01-28    331588\n",
       "2018-02-28    331588\n",
       "2018-03-28    331588\n",
       "2018-04-28    331588\n",
       "2018-05-28    331588\n",
       "2018-06-28    331588\n",
       "2018-07-28    331588\n",
       "2018-08-28    331588\n",
       "2018-09-28    331588\n",
       "2018-10-28    331588\n",
       "2018-11-28    331588\n",
       "2018-12-28    331588\n",
       "2019-01-28    331588\n",
       "2019-02-28    331588\n",
       "2019-03-28    331588\n",
       "2019-04-28    331588\n",
       "2019-05-28    331588\n",
       "2019-06-28    331588\n",
       "Name: pk_cid, dtype: int64"
      ]
     },
     "execution_count": 33,
     "metadata": {},
     "output_type": "execute_result"
    }
   ],
   "source": [
    "full_df.groupby('pk_partition')['pk_cid'].size()"
   ]
  },
  {
   "cell_type": "code",
   "execution_count": 34,
   "metadata": {
    "ExecuteTime": {
     "end_time": "2020-09-09T08:19:08.741896Z",
     "start_time": "2020-09-09T08:18:41.219478Z"
    }
   },
   "outputs": [],
   "source": [
    "full_df = pd.merge(full_df,df_sorted , on = [\"pk_partition\", \"pk_cid\"], how = 'left')"
   ]
  },
  {
   "cell_type": "code",
   "execution_count": 35,
   "metadata": {
    "ExecuteTime": {
     "end_time": "2020-09-09T08:19:12.168342Z",
     "start_time": "2020-09-09T08:19:08.742877Z"
    }
   },
   "outputs": [
    {
     "data": {
      "text/plain": [
       "pk_partition\n",
       "2018-01-28    331588\n",
       "2018-02-28    331588\n",
       "2018-03-28    331588\n",
       "2018-04-28    331588\n",
       "2018-05-28    331588\n",
       "2018-06-28    331588\n",
       "2018-07-28    331588\n",
       "2018-08-28    331588\n",
       "2018-09-28    331588\n",
       "2018-10-28    331588\n",
       "2018-11-28    331588\n",
       "2018-12-28    331588\n",
       "2019-01-28    331588\n",
       "2019-02-28    331588\n",
       "2019-03-28    331588\n",
       "2019-04-28    331588\n",
       "2019-05-28    331588\n",
       "2019-06-28    331588\n",
       "Name: pk_cid, dtype: int64"
      ]
     },
     "execution_count": 35,
     "metadata": {},
     "output_type": "execute_result"
    }
   ],
   "source": [
    "full_df.groupby('pk_partition')['pk_cid'].size()"
   ]
  },
  {
   "cell_type": "code",
   "execution_count": 36,
   "metadata": {
    "ExecuteTime": {
     "end_time": "2020-09-09T08:19:12.789200Z",
     "start_time": "2020-09-09T08:19:12.174347Z"
    }
   },
   "outputs": [],
   "source": [
    "del df_sorted"
   ]
  },
  {
   "cell_type": "code",
   "execution_count": 37,
   "metadata": {
    "ExecuteTime": {
     "end_time": "2020-09-09T08:19:14.161357Z",
     "start_time": "2020-09-09T08:19:12.792197Z"
    }
   },
   "outputs": [
    {
     "data": {
      "text/plain": [
       "60"
      ]
     },
     "execution_count": 37,
     "metadata": {},
     "output_type": "execute_result"
    }
   ],
   "source": [
    "gc.collect()"
   ]
  },
  {
   "cell_type": "code",
   "execution_count": 38,
   "metadata": {
    "ExecuteTime": {
     "end_time": "2020-09-09T08:19:14.172351Z",
     "start_time": "2020-09-09T08:19:14.162356Z"
    }
   },
   "outputs": [],
   "source": [
    "#full_df.to_pickle('fulldf_base.pkl',compression='zip')"
   ]
  },
  {
   "cell_type": "code",
   "execution_count": 39,
   "metadata": {
    "ExecuteTime": {
     "end_time": "2020-09-09T08:19:14.866815Z",
     "start_time": "2020-09-09T08:19:14.173350Z"
    }
   },
   "outputs": [
    {
     "data": {
      "text/plain": [
       "pk_partition\n",
       "2018-01-28    105082\n",
       "2018-02-28    102163\n",
       "2018-03-28     99439\n",
       "2018-04-28     97067\n",
       "2018-05-28     94559\n",
       "2018-06-28     92249\n",
       "2018-07-28     75495\n",
       "2018-08-28     64161\n",
       "2018-09-28     46426\n",
       "2018-10-28     29032\n",
       "2018-11-28     19458\n",
       "2018-12-28     15461\n",
       "2019-01-28     10911\n",
       "2019-02-28      7185\n",
       "2019-03-28      4038\n",
       "2019-04-28      1612\n",
       "2019-06-28    331588\n",
       "Name: pk_cid, dtype: int64"
      ]
     },
     "execution_count": 39,
     "metadata": {},
     "output_type": "execute_result"
    }
   ],
   "source": [
    "# Nulos debidos al producto cartesiano\n",
    "full_df[full_df['entry_date'].isnull()].groupby('pk_partition')['pk_cid'].size()"
   ]
  },
  {
   "cell_type": "code",
   "execution_count": 40,
   "metadata": {
    "ExecuteTime": {
     "end_time": "2020-09-09T08:19:19.720707Z",
     "start_time": "2020-09-09T08:19:14.867814Z"
    }
   },
   "outputs": [
    {
     "data": {
      "text/html": [
       "<div>\n",
       "<style scoped>\n",
       "    .dataframe tbody tr th:only-of-type {\n",
       "        vertical-align: middle;\n",
       "    }\n",
       "\n",
       "    .dataframe tbody tr th {\n",
       "        vertical-align: top;\n",
       "    }\n",
       "\n",
       "    .dataframe thead th {\n",
       "        text-align: right;\n",
       "    }\n",
       "</style>\n",
       "<table border=\"1\" class=\"dataframe\">\n",
       "  <thead>\n",
       "    <tr style=\"text-align: right;\">\n",
       "      <th></th>\n",
       "      <th>pk_partition</th>\n",
       "      <th>pk_cid</th>\n",
       "      <th>short_term_deposit</th>\n",
       "      <th>loans</th>\n",
       "      <th>mortgage</th>\n",
       "      <th>funds</th>\n",
       "      <th>securities</th>\n",
       "      <th>long_term_deposit</th>\n",
       "      <th>em_account_pp</th>\n",
       "      <th>credit_card</th>\n",
       "      <th>...</th>\n",
       "      <th>totalBeneficio</th>\n",
       "      <th>hayAlta</th>\n",
       "      <th>diasDesdeUltimaAlta</th>\n",
       "      <th>diasDesdeUltimaAltaInt</th>\n",
       "      <th>hayBaja</th>\n",
       "      <th>diasDesdeUltimaBaja</th>\n",
       "      <th>diasDesdeUltimaBajaInt</th>\n",
       "      <th>dif_cuentaSimple</th>\n",
       "      <th>dif_ahorroInversion</th>\n",
       "      <th>dif_financiacion</th>\n",
       "    </tr>\n",
       "  </thead>\n",
       "  <tbody>\n",
       "    <tr>\n",
       "      <th>0</th>\n",
       "      <td>2018-01-28</td>\n",
       "      <td>16203</td>\n",
       "      <td>nan</td>\n",
       "      <td>nan</td>\n",
       "      <td>nan</td>\n",
       "      <td>nan</td>\n",
       "      <td>nan</td>\n",
       "      <td>nan</td>\n",
       "      <td>nan</td>\n",
       "      <td>nan</td>\n",
       "      <td>...</td>\n",
       "      <td>nan</td>\n",
       "      <td>nan</td>\n",
       "      <td>NaN</td>\n",
       "      <td>nan</td>\n",
       "      <td>nan</td>\n",
       "      <td>NaN</td>\n",
       "      <td>nan</td>\n",
       "      <td>nan</td>\n",
       "      <td>nan</td>\n",
       "      <td>nan</td>\n",
       "    </tr>\n",
       "    <tr>\n",
       "      <th>1</th>\n",
       "      <td>2018-01-28</td>\n",
       "      <td>16502</td>\n",
       "      <td>nan</td>\n",
       "      <td>nan</td>\n",
       "      <td>nan</td>\n",
       "      <td>nan</td>\n",
       "      <td>nan</td>\n",
       "      <td>nan</td>\n",
       "      <td>nan</td>\n",
       "      <td>nan</td>\n",
       "      <td>...</td>\n",
       "      <td>nan</td>\n",
       "      <td>nan</td>\n",
       "      <td>NaN</td>\n",
       "      <td>nan</td>\n",
       "      <td>nan</td>\n",
       "      <td>NaN</td>\n",
       "      <td>nan</td>\n",
       "      <td>nan</td>\n",
       "      <td>nan</td>\n",
       "      <td>nan</td>\n",
       "    </tr>\n",
       "    <tr>\n",
       "      <th>2</th>\n",
       "      <td>2018-01-28</td>\n",
       "      <td>17457</td>\n",
       "      <td>0.00</td>\n",
       "      <td>0.00</td>\n",
       "      <td>0.00</td>\n",
       "      <td>0.00</td>\n",
       "      <td>0.00</td>\n",
       "      <td>1.00</td>\n",
       "      <td>0.00</td>\n",
       "      <td>0.00</td>\n",
       "      <td>...</td>\n",
       "      <td>90.00</td>\n",
       "      <td>0.00</td>\n",
       "      <td>1 days 00:00:00</td>\n",
       "      <td>1.00</td>\n",
       "      <td>0.00</td>\n",
       "      <td>1 days 00:00:00</td>\n",
       "      <td>1.00</td>\n",
       "      <td>0.00</td>\n",
       "      <td>0.00</td>\n",
       "      <td>0.00</td>\n",
       "    </tr>\n",
       "    <tr>\n",
       "      <th>3</th>\n",
       "      <td>2018-01-28</td>\n",
       "      <td>17799</td>\n",
       "      <td>0.00</td>\n",
       "      <td>0.00</td>\n",
       "      <td>0.00</td>\n",
       "      <td>0.00</td>\n",
       "      <td>0.00</td>\n",
       "      <td>0.00</td>\n",
       "      <td>0.00</td>\n",
       "      <td>0.00</td>\n",
       "      <td>...</td>\n",
       "      <td>10.00</td>\n",
       "      <td>1.00</td>\n",
       "      <td>0 days 00:00:00</td>\n",
       "      <td>0.00</td>\n",
       "      <td>0.00</td>\n",
       "      <td>1 days 00:00:00</td>\n",
       "      <td>1.00</td>\n",
       "      <td>1.00</td>\n",
       "      <td>0.00</td>\n",
       "      <td>0.00</td>\n",
       "    </tr>\n",
       "    <tr>\n",
       "      <th>4</th>\n",
       "      <td>2018-01-28</td>\n",
       "      <td>17970</td>\n",
       "      <td>0.00</td>\n",
       "      <td>0.00</td>\n",
       "      <td>0.00</td>\n",
       "      <td>0.00</td>\n",
       "      <td>0.00</td>\n",
       "      <td>0.00</td>\n",
       "      <td>0.00</td>\n",
       "      <td>0.00</td>\n",
       "      <td>...</td>\n",
       "      <td>50.00</td>\n",
       "      <td>0.00</td>\n",
       "      <td>1 days 00:00:00</td>\n",
       "      <td>1.00</td>\n",
       "      <td>0.00</td>\n",
       "      <td>1 days 00:00:00</td>\n",
       "      <td>1.00</td>\n",
       "      <td>0.00</td>\n",
       "      <td>0.00</td>\n",
       "      <td>0.00</td>\n",
       "    </tr>\n",
       "    <tr>\n",
       "      <th>...</th>\n",
       "      <td>...</td>\n",
       "      <td>...</td>\n",
       "      <td>...</td>\n",
       "      <td>...</td>\n",
       "      <td>...</td>\n",
       "      <td>...</td>\n",
       "      <td>...</td>\n",
       "      <td>...</td>\n",
       "      <td>...</td>\n",
       "      <td>...</td>\n",
       "      <td>...</td>\n",
       "      <td>...</td>\n",
       "      <td>...</td>\n",
       "      <td>...</td>\n",
       "      <td>...</td>\n",
       "      <td>...</td>\n",
       "      <td>...</td>\n",
       "      <td>...</td>\n",
       "      <td>...</td>\n",
       "      <td>...</td>\n",
       "      <td>...</td>\n",
       "    </tr>\n",
       "    <tr>\n",
       "      <th>5968579</th>\n",
       "      <td>2019-06-28</td>\n",
       "      <td>1553456</td>\n",
       "      <td>nan</td>\n",
       "      <td>nan</td>\n",
       "      <td>nan</td>\n",
       "      <td>nan</td>\n",
       "      <td>nan</td>\n",
       "      <td>nan</td>\n",
       "      <td>nan</td>\n",
       "      <td>nan</td>\n",
       "      <td>...</td>\n",
       "      <td>nan</td>\n",
       "      <td>nan</td>\n",
       "      <td>NaN</td>\n",
       "      <td>nan</td>\n",
       "      <td>nan</td>\n",
       "      <td>NaN</td>\n",
       "      <td>nan</td>\n",
       "      <td>nan</td>\n",
       "      <td>nan</td>\n",
       "      <td>nan</td>\n",
       "    </tr>\n",
       "    <tr>\n",
       "      <th>5968580</th>\n",
       "      <td>2019-06-28</td>\n",
       "      <td>1553541</td>\n",
       "      <td>nan</td>\n",
       "      <td>nan</td>\n",
       "      <td>nan</td>\n",
       "      <td>nan</td>\n",
       "      <td>nan</td>\n",
       "      <td>nan</td>\n",
       "      <td>nan</td>\n",
       "      <td>nan</td>\n",
       "      <td>...</td>\n",
       "      <td>nan</td>\n",
       "      <td>nan</td>\n",
       "      <td>NaN</td>\n",
       "      <td>nan</td>\n",
       "      <td>nan</td>\n",
       "      <td>NaN</td>\n",
       "      <td>nan</td>\n",
       "      <td>nan</td>\n",
       "      <td>nan</td>\n",
       "      <td>nan</td>\n",
       "    </tr>\n",
       "    <tr>\n",
       "      <th>5968581</th>\n",
       "      <td>2019-06-28</td>\n",
       "      <td>1553559</td>\n",
       "      <td>nan</td>\n",
       "      <td>nan</td>\n",
       "      <td>nan</td>\n",
       "      <td>nan</td>\n",
       "      <td>nan</td>\n",
       "      <td>nan</td>\n",
       "      <td>nan</td>\n",
       "      <td>nan</td>\n",
       "      <td>...</td>\n",
       "      <td>nan</td>\n",
       "      <td>nan</td>\n",
       "      <td>NaN</td>\n",
       "      <td>nan</td>\n",
       "      <td>nan</td>\n",
       "      <td>NaN</td>\n",
       "      <td>nan</td>\n",
       "      <td>nan</td>\n",
       "      <td>nan</td>\n",
       "      <td>nan</td>\n",
       "    </tr>\n",
       "    <tr>\n",
       "      <th>5968582</th>\n",
       "      <td>2019-06-28</td>\n",
       "      <td>1553565</td>\n",
       "      <td>nan</td>\n",
       "      <td>nan</td>\n",
       "      <td>nan</td>\n",
       "      <td>nan</td>\n",
       "      <td>nan</td>\n",
       "      <td>nan</td>\n",
       "      <td>nan</td>\n",
       "      <td>nan</td>\n",
       "      <td>...</td>\n",
       "      <td>nan</td>\n",
       "      <td>nan</td>\n",
       "      <td>NaN</td>\n",
       "      <td>nan</td>\n",
       "      <td>nan</td>\n",
       "      <td>NaN</td>\n",
       "      <td>nan</td>\n",
       "      <td>nan</td>\n",
       "      <td>nan</td>\n",
       "      <td>nan</td>\n",
       "    </tr>\n",
       "    <tr>\n",
       "      <th>5968583</th>\n",
       "      <td>2019-06-28</td>\n",
       "      <td>1553571</td>\n",
       "      <td>nan</td>\n",
       "      <td>nan</td>\n",
       "      <td>nan</td>\n",
       "      <td>nan</td>\n",
       "      <td>nan</td>\n",
       "      <td>nan</td>\n",
       "      <td>nan</td>\n",
       "      <td>nan</td>\n",
       "      <td>...</td>\n",
       "      <td>nan</td>\n",
       "      <td>nan</td>\n",
       "      <td>NaN</td>\n",
       "      <td>nan</td>\n",
       "      <td>nan</td>\n",
       "      <td>NaN</td>\n",
       "      <td>nan</td>\n",
       "      <td>nan</td>\n",
       "      <td>nan</td>\n",
       "      <td>nan</td>\n",
       "    </tr>\n",
       "  </tbody>\n",
       "</table>\n",
       "<p>5968584 rows × 62 columns</p>\n",
       "</div>"
      ],
      "text/plain": [
       "        pk_partition   pk_cid  short_term_deposit  loans  mortgage  funds  \\\n",
       "0         2018-01-28    16203                 nan    nan       nan    nan   \n",
       "1         2018-01-28    16502                 nan    nan       nan    nan   \n",
       "2         2018-01-28    17457                0.00   0.00      0.00   0.00   \n",
       "3         2018-01-28    17799                0.00   0.00      0.00   0.00   \n",
       "4         2018-01-28    17970                0.00   0.00      0.00   0.00   \n",
       "...              ...      ...                 ...    ...       ...    ...   \n",
       "5968579   2019-06-28  1553456                 nan    nan       nan    nan   \n",
       "5968580   2019-06-28  1553541                 nan    nan       nan    nan   \n",
       "5968581   2019-06-28  1553559                 nan    nan       nan    nan   \n",
       "5968582   2019-06-28  1553565                 nan    nan       nan    nan   \n",
       "5968583   2019-06-28  1553571                 nan    nan       nan    nan   \n",
       "\n",
       "         securities  long_term_deposit  em_account_pp  credit_card  ...  \\\n",
       "0               nan                nan            nan          nan  ...   \n",
       "1               nan                nan            nan          nan  ...   \n",
       "2              0.00               1.00           0.00         0.00  ...   \n",
       "3              0.00               0.00           0.00         0.00  ...   \n",
       "4              0.00               0.00           0.00         0.00  ...   \n",
       "...             ...                ...            ...          ...  ...   \n",
       "5968579         nan                nan            nan          nan  ...   \n",
       "5968580         nan                nan            nan          nan  ...   \n",
       "5968581         nan                nan            nan          nan  ...   \n",
       "5968582         nan                nan            nan          nan  ...   \n",
       "5968583         nan                nan            nan          nan  ...   \n",
       "\n",
       "         totalBeneficio  hayAlta  diasDesdeUltimaAlta  diasDesdeUltimaAltaInt  \\\n",
       "0                   nan      nan                  NaN                     nan   \n",
       "1                   nan      nan                  NaN                     nan   \n",
       "2                 90.00     0.00      1 days 00:00:00                    1.00   \n",
       "3                 10.00     1.00      0 days 00:00:00                    0.00   \n",
       "4                 50.00     0.00      1 days 00:00:00                    1.00   \n",
       "...                 ...      ...                  ...                     ...   \n",
       "5968579             nan      nan                  NaN                     nan   \n",
       "5968580             nan      nan                  NaN                     nan   \n",
       "5968581             nan      nan                  NaN                     nan   \n",
       "5968582             nan      nan                  NaN                     nan   \n",
       "5968583             nan      nan                  NaN                     nan   \n",
       "\n",
       "         hayBaja  diasDesdeUltimaBaja  diasDesdeUltimaBajaInt  \\\n",
       "0            nan                  NaN                     nan   \n",
       "1            nan                  NaN                     nan   \n",
       "2           0.00      1 days 00:00:00                    1.00   \n",
       "3           0.00      1 days 00:00:00                    1.00   \n",
       "4           0.00      1 days 00:00:00                    1.00   \n",
       "...          ...                  ...                     ...   \n",
       "5968579      nan                  NaN                     nan   \n",
       "5968580      nan                  NaN                     nan   \n",
       "5968581      nan                  NaN                     nan   \n",
       "5968582      nan                  NaN                     nan   \n",
       "5968583      nan                  NaN                     nan   \n",
       "\n",
       "        dif_cuentaSimple dif_ahorroInversion  dif_financiacion  \n",
       "0                    nan                 nan               nan  \n",
       "1                    nan                 nan               nan  \n",
       "2                   0.00                0.00              0.00  \n",
       "3                   1.00                0.00              0.00  \n",
       "4                   0.00                0.00              0.00  \n",
       "...                  ...                 ...               ...  \n",
       "5968579              nan                 nan               nan  \n",
       "5968580              nan                 nan               nan  \n",
       "5968581              nan                 nan               nan  \n",
       "5968582              nan                 nan               nan  \n",
       "5968583              nan                 nan               nan  \n",
       "\n",
       "[5968584 rows x 62 columns]"
      ]
     },
     "execution_count": 40,
     "metadata": {},
     "output_type": "execute_result"
    }
   ],
   "source": [
    "full_df"
   ]
  },
  {
   "cell_type": "code",
   "execution_count": 41,
   "metadata": {
    "ExecuteTime": {
     "end_time": "2020-09-09T08:19:23.374903Z",
     "start_time": "2020-09-09T08:19:19.723212Z"
    }
   },
   "outputs": [],
   "source": [
    "# Borramos todos los nulos que se generan por el producto cartesiano:\n",
    "full_df.drop (full_df[ (full_df['pk_partition']!='2019-06-28') &\n",
    "                       (full_df['entry_date'].isnull()) ].index, axis=0, inplace=True)"
   ]
  },
  {
   "cell_type": "code",
   "execution_count": 42,
   "metadata": {
    "ExecuteTime": {
     "end_time": "2020-09-09T08:19:23.551169Z",
     "start_time": "2020-09-09T08:19:23.375902Z"
    }
   },
   "outputs": [
    {
     "data": {
      "text/plain": [
       "pk_partition\n",
       "2019-06-28    331588\n",
       "Name: pk_cid, dtype: int64"
      ]
     },
     "execution_count": 42,
     "metadata": {},
     "output_type": "execute_result"
    }
   ],
   "source": [
    "full_df[full_df['entry_date'].isnull()].groupby('pk_partition')['pk_cid'].size()"
   ]
  },
  {
   "cell_type": "code",
   "execution_count": 43,
   "metadata": {
    "ExecuteTime": {
     "end_time": "2020-09-09T08:19:23.737273Z",
     "start_time": "2020-09-09T08:19:23.552167Z"
    }
   },
   "outputs": [
    {
     "data": {
      "text/plain": [
       "pk_partition\n",
       "2018-01-28    226506\n",
       "2018-02-28    229425\n",
       "2018-03-28    232149\n",
       "2018-04-28    234521\n",
       "2018-05-28    237029\n",
       "2018-06-28    239339\n",
       "2018-07-28    256093\n",
       "2018-08-28    267427\n",
       "2018-09-28    285162\n",
       "2018-10-28    302556\n",
       "2018-11-28    312130\n",
       "2018-12-28    316127\n",
       "2019-01-28    320677\n",
       "2019-02-28    324403\n",
       "2019-03-28    327550\n",
       "2019-04-28    329976\n",
       "2019-05-28    331588\n",
       "2019-06-28    331588\n",
       "Name: pk_cid, dtype: int64"
      ]
     },
     "execution_count": 43,
     "metadata": {},
     "output_type": "execute_result"
    }
   ],
   "source": [
    "full_df.groupby('pk_partition')['pk_cid'].size()"
   ]
  },
  {
   "cell_type": "code",
   "execution_count": 44,
   "metadata": {
    "ExecuteTime": {
     "end_time": "2020-09-09T08:19:23.744274Z",
     "start_time": "2020-09-09T08:19:23.738272Z"
    }
   },
   "outputs": [],
   "source": [
    "# Actualizamos el mes a predecir:2019-06-28 con los valores de los clientes \n",
    "lista_actualizar=['entry_date',\n",
    " #'entry_channel',\n",
    " 'active_customer',\n",
    " #'segment',\n",
    " #'country_id',\n",
    " 'region_code',\n",
    " #'gender',\n",
    " 'age',\n",
    " #'deceased', \n",
    " #'mesesAlta',\n",
    "'salary']"
   ]
  },
  {
   "cell_type": "code",
   "execution_count": 45,
   "metadata": {
    "ExecuteTime": {
     "end_time": "2020-09-09T08:19:26.584878Z",
     "start_time": "2020-09-09T08:19:23.749267Z"
    }
   },
   "outputs": [
    {
     "name": "stdout",
     "output_type": "stream",
     "text": [
      "entry_date\n",
      "active_customer\n",
      "region_code\n",
      "age\n",
      "salary\n"
     ]
    }
   ],
   "source": [
    "# Rellenamos entry_date para el ultimo mes:\n",
    "for x in lista_actualizar:\n",
    "    print(x)\n",
    "    full_df.loc[(full_df['pk_partition']=='2019-06-28'),\n",
    "            x]=full_df[full_df['pk_partition']=='2019-06-28']['pk_cid'].map(full_df[['pk_cid',x]].groupby('pk_cid')[x].max())"
   ]
  },
  {
   "cell_type": "code",
   "execution_count": 46,
   "metadata": {
    "ExecuteTime": {
     "end_time": "2020-09-09T08:19:30.089507Z",
     "start_time": "2020-09-09T08:19:26.585878Z"
    }
   },
   "outputs": [
    {
     "data": {
      "text/plain": [
       "pk_partition                   0\n",
       "pk_cid                         0\n",
       "short_term_deposit        331588\n",
       "loans                     331588\n",
       "mortgage                  331588\n",
       "                           ...  \n",
       "diasDesdeUltimaBaja       331588\n",
       "diasDesdeUltimaBajaInt    331588\n",
       "dif_cuentaSimple          331588\n",
       "dif_ahorroInversion       331588\n",
       "dif_financiacion          331588\n",
       "Length: 62, dtype: int64"
      ]
     },
     "execution_count": 46,
     "metadata": {},
     "output_type": "execute_result"
    }
   ],
   "source": [
    "# Solo tenemos nulos en el mes a predecir\n",
    "full_df.isnull().sum()"
   ]
  },
  {
   "cell_type": "code",
   "execution_count": 47,
   "metadata": {
    "ExecuteTime": {
     "end_time": "2020-09-09T08:19:32.347489Z",
     "start_time": "2020-09-09T08:19:30.091506Z"
    }
   },
   "outputs": [
    {
     "data": {
      "text/html": [
       "<div>\n",
       "<style scoped>\n",
       "    .dataframe tbody tr th:only-of-type {\n",
       "        vertical-align: middle;\n",
       "    }\n",
       "\n",
       "    .dataframe tbody tr th {\n",
       "        vertical-align: top;\n",
       "    }\n",
       "\n",
       "    .dataframe thead th {\n",
       "        text-align: right;\n",
       "    }\n",
       "</style>\n",
       "<table border=\"1\" class=\"dataframe\">\n",
       "  <thead>\n",
       "    <tr style=\"text-align: right;\">\n",
       "      <th></th>\n",
       "      <th>25</th>\n",
       "      <th>49</th>\n",
       "      <th>84</th>\n",
       "      <th>173</th>\n",
       "      <th>220</th>\n",
       "      <th>374</th>\n",
       "      <th>412</th>\n",
       "      <th>442</th>\n",
       "      <th>604</th>\n",
       "      <th>746</th>\n",
       "      <th>...</th>\n",
       "      <th>5303901</th>\n",
       "      <th>5303902</th>\n",
       "      <th>5303903</th>\n",
       "      <th>5303904</th>\n",
       "      <th>5303905</th>\n",
       "      <th>5303906</th>\n",
       "      <th>5303907</th>\n",
       "      <th>5303908</th>\n",
       "      <th>5303909</th>\n",
       "      <th>5303910</th>\n",
       "    </tr>\n",
       "  </thead>\n",
       "  <tbody>\n",
       "    <tr>\n",
       "      <th>pk_partition</th>\n",
       "      <td>2018-01-28 00:00:00</td>\n",
       "      <td>2018-01-28 00:00:00</td>\n",
       "      <td>2018-01-28 00:00:00</td>\n",
       "      <td>2018-01-28 00:00:00</td>\n",
       "      <td>2018-01-28 00:00:00</td>\n",
       "      <td>2018-01-28 00:00:00</td>\n",
       "      <td>2018-01-28 00:00:00</td>\n",
       "      <td>2018-01-28 00:00:00</td>\n",
       "      <td>2018-01-28 00:00:00</td>\n",
       "      <td>2018-01-28 00:00:00</td>\n",
       "      <td>...</td>\n",
       "      <td>2019-04-28 00:00:00</td>\n",
       "      <td>2019-04-28 00:00:00</td>\n",
       "      <td>2019-04-28 00:00:00</td>\n",
       "      <td>2019-04-28 00:00:00</td>\n",
       "      <td>2019-04-28 00:00:00</td>\n",
       "      <td>2019-04-28 00:00:00</td>\n",
       "      <td>2019-04-28 00:00:00</td>\n",
       "      <td>2019-04-28 00:00:00</td>\n",
       "      <td>2019-04-28 00:00:00</td>\n",
       "      <td>2019-04-28 00:00:00</td>\n",
       "    </tr>\n",
       "    <tr>\n",
       "      <th>pk_cid</th>\n",
       "      <td>25612</td>\n",
       "      <td>35849</td>\n",
       "      <td>46823</td>\n",
       "      <td>83660</td>\n",
       "      <td>102549</td>\n",
       "      <td>151516</td>\n",
       "      <td>162194</td>\n",
       "      <td>173207</td>\n",
       "      <td>220336</td>\n",
       "      <td>271773</td>\n",
       "      <td>...</td>\n",
       "      <td>1548181</td>\n",
       "      <td>1548182</td>\n",
       "      <td>1548186</td>\n",
       "      <td>1548188</td>\n",
       "      <td>1548189</td>\n",
       "      <td>1548196</td>\n",
       "      <td>1548197</td>\n",
       "      <td>1548201</td>\n",
       "      <td>1548202</td>\n",
       "      <td>1548203</td>\n",
       "    </tr>\n",
       "    <tr>\n",
       "      <th>short_term_deposit</th>\n",
       "      <td>0.00</td>\n",
       "      <td>0.00</td>\n",
       "      <td>0.00</td>\n",
       "      <td>0.00</td>\n",
       "      <td>0.00</td>\n",
       "      <td>0.00</td>\n",
       "      <td>0.00</td>\n",
       "      <td>0.00</td>\n",
       "      <td>0.00</td>\n",
       "      <td>0.00</td>\n",
       "      <td>...</td>\n",
       "      <td>0.00</td>\n",
       "      <td>0.00</td>\n",
       "      <td>0.00</td>\n",
       "      <td>0.00</td>\n",
       "      <td>0.00</td>\n",
       "      <td>0.00</td>\n",
       "      <td>0.00</td>\n",
       "      <td>0.00</td>\n",
       "      <td>0.00</td>\n",
       "      <td>0.00</td>\n",
       "    </tr>\n",
       "    <tr>\n",
       "      <th>loans</th>\n",
       "      <td>0.00</td>\n",
       "      <td>0.00</td>\n",
       "      <td>0.00</td>\n",
       "      <td>0.00</td>\n",
       "      <td>0.00</td>\n",
       "      <td>0.00</td>\n",
       "      <td>0.00</td>\n",
       "      <td>0.00</td>\n",
       "      <td>0.00</td>\n",
       "      <td>0.00</td>\n",
       "      <td>...</td>\n",
       "      <td>0.00</td>\n",
       "      <td>0.00</td>\n",
       "      <td>0.00</td>\n",
       "      <td>0.00</td>\n",
       "      <td>0.00</td>\n",
       "      <td>0.00</td>\n",
       "      <td>0.00</td>\n",
       "      <td>0.00</td>\n",
       "      <td>0.00</td>\n",
       "      <td>0.00</td>\n",
       "    </tr>\n",
       "    <tr>\n",
       "      <th>mortgage</th>\n",
       "      <td>0.00</td>\n",
       "      <td>0.00</td>\n",
       "      <td>0.00</td>\n",
       "      <td>0.00</td>\n",
       "      <td>0.00</td>\n",
       "      <td>0.00</td>\n",
       "      <td>0.00</td>\n",
       "      <td>0.00</td>\n",
       "      <td>0.00</td>\n",
       "      <td>0.00</td>\n",
       "      <td>...</td>\n",
       "      <td>0.00</td>\n",
       "      <td>0.00</td>\n",
       "      <td>0.00</td>\n",
       "      <td>0.00</td>\n",
       "      <td>0.00</td>\n",
       "      <td>0.00</td>\n",
       "      <td>0.00</td>\n",
       "      <td>0.00</td>\n",
       "      <td>0.00</td>\n",
       "      <td>0.00</td>\n",
       "    </tr>\n",
       "    <tr>\n",
       "      <th>...</th>\n",
       "      <td>...</td>\n",
       "      <td>...</td>\n",
       "      <td>...</td>\n",
       "      <td>...</td>\n",
       "      <td>...</td>\n",
       "      <td>...</td>\n",
       "      <td>...</td>\n",
       "      <td>...</td>\n",
       "      <td>...</td>\n",
       "      <td>...</td>\n",
       "      <td>...</td>\n",
       "      <td>...</td>\n",
       "      <td>...</td>\n",
       "      <td>...</td>\n",
       "      <td>...</td>\n",
       "      <td>...</td>\n",
       "      <td>...</td>\n",
       "      <td>...</td>\n",
       "      <td>...</td>\n",
       "      <td>...</td>\n",
       "      <td>...</td>\n",
       "    </tr>\n",
       "    <tr>\n",
       "      <th>diasDesdeUltimaBaja</th>\n",
       "      <td>1 days 00:00:00</td>\n",
       "      <td>1 days 00:00:00</td>\n",
       "      <td>1 days 00:00:00</td>\n",
       "      <td>1 days 00:00:00</td>\n",
       "      <td>1 days 00:00:00</td>\n",
       "      <td>1 days 00:00:00</td>\n",
       "      <td>1 days 00:00:00</td>\n",
       "      <td>1 days 00:00:00</td>\n",
       "      <td>1 days 00:00:00</td>\n",
       "      <td>1 days 00:00:00</td>\n",
       "      <td>...</td>\n",
       "      <td>1 days 00:00:00</td>\n",
       "      <td>1 days 00:00:00</td>\n",
       "      <td>1 days 00:00:00</td>\n",
       "      <td>1 days 00:00:00</td>\n",
       "      <td>1 days 00:00:00</td>\n",
       "      <td>1 days 00:00:00</td>\n",
       "      <td>1 days 00:00:00</td>\n",
       "      <td>1 days 00:00:00</td>\n",
       "      <td>1 days 00:00:00</td>\n",
       "      <td>1 days 00:00:00</td>\n",
       "    </tr>\n",
       "    <tr>\n",
       "      <th>diasDesdeUltimaBajaInt</th>\n",
       "      <td>1.00</td>\n",
       "      <td>1.00</td>\n",
       "      <td>1.00</td>\n",
       "      <td>1.00</td>\n",
       "      <td>1.00</td>\n",
       "      <td>1.00</td>\n",
       "      <td>1.00</td>\n",
       "      <td>1.00</td>\n",
       "      <td>1.00</td>\n",
       "      <td>1.00</td>\n",
       "      <td>...</td>\n",
       "      <td>1.00</td>\n",
       "      <td>1.00</td>\n",
       "      <td>1.00</td>\n",
       "      <td>1.00</td>\n",
       "      <td>1.00</td>\n",
       "      <td>1.00</td>\n",
       "      <td>1.00</td>\n",
       "      <td>1.00</td>\n",
       "      <td>1.00</td>\n",
       "      <td>1.00</td>\n",
       "    </tr>\n",
       "    <tr>\n",
       "      <th>dif_cuentaSimple</th>\n",
       "      <td>0.00</td>\n",
       "      <td>0.00</td>\n",
       "      <td>0.00</td>\n",
       "      <td>0.00</td>\n",
       "      <td>0.00</td>\n",
       "      <td>0.00</td>\n",
       "      <td>0.00</td>\n",
       "      <td>0.00</td>\n",
       "      <td>0.00</td>\n",
       "      <td>0.00</td>\n",
       "      <td>...</td>\n",
       "      <td>0.00</td>\n",
       "      <td>0.00</td>\n",
       "      <td>0.00</td>\n",
       "      <td>0.00</td>\n",
       "      <td>0.00</td>\n",
       "      <td>0.00</td>\n",
       "      <td>0.00</td>\n",
       "      <td>0.00</td>\n",
       "      <td>0.00</td>\n",
       "      <td>0.00</td>\n",
       "    </tr>\n",
       "    <tr>\n",
       "      <th>dif_ahorroInversion</th>\n",
       "      <td>0.00</td>\n",
       "      <td>0.00</td>\n",
       "      <td>0.00</td>\n",
       "      <td>0.00</td>\n",
       "      <td>0.00</td>\n",
       "      <td>0.00</td>\n",
       "      <td>0.00</td>\n",
       "      <td>0.00</td>\n",
       "      <td>0.00</td>\n",
       "      <td>0.00</td>\n",
       "      <td>...</td>\n",
       "      <td>0.00</td>\n",
       "      <td>0.00</td>\n",
       "      <td>0.00</td>\n",
       "      <td>0.00</td>\n",
       "      <td>0.00</td>\n",
       "      <td>0.00</td>\n",
       "      <td>0.00</td>\n",
       "      <td>0.00</td>\n",
       "      <td>0.00</td>\n",
       "      <td>0.00</td>\n",
       "    </tr>\n",
       "    <tr>\n",
       "      <th>dif_financiacion</th>\n",
       "      <td>0.00</td>\n",
       "      <td>0.00</td>\n",
       "      <td>0.00</td>\n",
       "      <td>0.00</td>\n",
       "      <td>0.00</td>\n",
       "      <td>0.00</td>\n",
       "      <td>0.00</td>\n",
       "      <td>0.00</td>\n",
       "      <td>0.00</td>\n",
       "      <td>0.00</td>\n",
       "      <td>...</td>\n",
       "      <td>0.00</td>\n",
       "      <td>0.00</td>\n",
       "      <td>0.00</td>\n",
       "      <td>0.00</td>\n",
       "      <td>0.00</td>\n",
       "      <td>0.00</td>\n",
       "      <td>0.00</td>\n",
       "      <td>0.00</td>\n",
       "      <td>0.00</td>\n",
       "      <td>0.00</td>\n",
       "    </tr>\n",
       "  </tbody>\n",
       "</table>\n",
       "<p>62 rows × 40276 columns</p>\n",
       "</div>"
      ],
      "text/plain": [
       "                                    25                   49       \\\n",
       "pk_partition            2018-01-28 00:00:00  2018-01-28 00:00:00   \n",
       "pk_cid                                25612                35849   \n",
       "short_term_deposit                     0.00                 0.00   \n",
       "loans                                  0.00                 0.00   \n",
       "mortgage                               0.00                 0.00   \n",
       "...                                     ...                  ...   \n",
       "diasDesdeUltimaBaja         1 days 00:00:00      1 days 00:00:00   \n",
       "diasDesdeUltimaBajaInt                 1.00                 1.00   \n",
       "dif_cuentaSimple                       0.00                 0.00   \n",
       "dif_ahorroInversion                    0.00                 0.00   \n",
       "dif_financiacion                       0.00                 0.00   \n",
       "\n",
       "                                    84                   173      \\\n",
       "pk_partition            2018-01-28 00:00:00  2018-01-28 00:00:00   \n",
       "pk_cid                                46823                83660   \n",
       "short_term_deposit                     0.00                 0.00   \n",
       "loans                                  0.00                 0.00   \n",
       "mortgage                               0.00                 0.00   \n",
       "...                                     ...                  ...   \n",
       "diasDesdeUltimaBaja         1 days 00:00:00      1 days 00:00:00   \n",
       "diasDesdeUltimaBajaInt                 1.00                 1.00   \n",
       "dif_cuentaSimple                       0.00                 0.00   \n",
       "dif_ahorroInversion                    0.00                 0.00   \n",
       "dif_financiacion                       0.00                 0.00   \n",
       "\n",
       "                                    220                  374      \\\n",
       "pk_partition            2018-01-28 00:00:00  2018-01-28 00:00:00   \n",
       "pk_cid                               102549               151516   \n",
       "short_term_deposit                     0.00                 0.00   \n",
       "loans                                  0.00                 0.00   \n",
       "mortgage                               0.00                 0.00   \n",
       "...                                     ...                  ...   \n",
       "diasDesdeUltimaBaja         1 days 00:00:00      1 days 00:00:00   \n",
       "diasDesdeUltimaBajaInt                 1.00                 1.00   \n",
       "dif_cuentaSimple                       0.00                 0.00   \n",
       "dif_ahorroInversion                    0.00                 0.00   \n",
       "dif_financiacion                       0.00                 0.00   \n",
       "\n",
       "                                    412                  442      \\\n",
       "pk_partition            2018-01-28 00:00:00  2018-01-28 00:00:00   \n",
       "pk_cid                               162194               173207   \n",
       "short_term_deposit                     0.00                 0.00   \n",
       "loans                                  0.00                 0.00   \n",
       "mortgage                               0.00                 0.00   \n",
       "...                                     ...                  ...   \n",
       "diasDesdeUltimaBaja         1 days 00:00:00      1 days 00:00:00   \n",
       "diasDesdeUltimaBajaInt                 1.00                 1.00   \n",
       "dif_cuentaSimple                       0.00                 0.00   \n",
       "dif_ahorroInversion                    0.00                 0.00   \n",
       "dif_financiacion                       0.00                 0.00   \n",
       "\n",
       "                                    604                  746      ...  \\\n",
       "pk_partition            2018-01-28 00:00:00  2018-01-28 00:00:00  ...   \n",
       "pk_cid                               220336               271773  ...   \n",
       "short_term_deposit                     0.00                 0.00  ...   \n",
       "loans                                  0.00                 0.00  ...   \n",
       "mortgage                               0.00                 0.00  ...   \n",
       "...                                     ...                  ...  ...   \n",
       "diasDesdeUltimaBaja         1 days 00:00:00      1 days 00:00:00  ...   \n",
       "diasDesdeUltimaBajaInt                 1.00                 1.00  ...   \n",
       "dif_cuentaSimple                       0.00                 0.00  ...   \n",
       "dif_ahorroInversion                    0.00                 0.00  ...   \n",
       "dif_financiacion                       0.00                 0.00  ...   \n",
       "\n",
       "                                    5303901              5303902  \\\n",
       "pk_partition            2019-04-28 00:00:00  2019-04-28 00:00:00   \n",
       "pk_cid                              1548181              1548182   \n",
       "short_term_deposit                     0.00                 0.00   \n",
       "loans                                  0.00                 0.00   \n",
       "mortgage                               0.00                 0.00   \n",
       "...                                     ...                  ...   \n",
       "diasDesdeUltimaBaja         1 days 00:00:00      1 days 00:00:00   \n",
       "diasDesdeUltimaBajaInt                 1.00                 1.00   \n",
       "dif_cuentaSimple                       0.00                 0.00   \n",
       "dif_ahorroInversion                    0.00                 0.00   \n",
       "dif_financiacion                       0.00                 0.00   \n",
       "\n",
       "                                    5303903              5303904  \\\n",
       "pk_partition            2019-04-28 00:00:00  2019-04-28 00:00:00   \n",
       "pk_cid                              1548186              1548188   \n",
       "short_term_deposit                     0.00                 0.00   \n",
       "loans                                  0.00                 0.00   \n",
       "mortgage                               0.00                 0.00   \n",
       "...                                     ...                  ...   \n",
       "diasDesdeUltimaBaja         1 days 00:00:00      1 days 00:00:00   \n",
       "diasDesdeUltimaBajaInt                 1.00                 1.00   \n",
       "dif_cuentaSimple                       0.00                 0.00   \n",
       "dif_ahorroInversion                    0.00                 0.00   \n",
       "dif_financiacion                       0.00                 0.00   \n",
       "\n",
       "                                    5303905              5303906  \\\n",
       "pk_partition            2019-04-28 00:00:00  2019-04-28 00:00:00   \n",
       "pk_cid                              1548189              1548196   \n",
       "short_term_deposit                     0.00                 0.00   \n",
       "loans                                  0.00                 0.00   \n",
       "mortgage                               0.00                 0.00   \n",
       "...                                     ...                  ...   \n",
       "diasDesdeUltimaBaja         1 days 00:00:00      1 days 00:00:00   \n",
       "diasDesdeUltimaBajaInt                 1.00                 1.00   \n",
       "dif_cuentaSimple                       0.00                 0.00   \n",
       "dif_ahorroInversion                    0.00                 0.00   \n",
       "dif_financiacion                       0.00                 0.00   \n",
       "\n",
       "                                    5303907              5303908  \\\n",
       "pk_partition            2019-04-28 00:00:00  2019-04-28 00:00:00   \n",
       "pk_cid                              1548197              1548201   \n",
       "short_term_deposit                     0.00                 0.00   \n",
       "loans                                  0.00                 0.00   \n",
       "mortgage                               0.00                 0.00   \n",
       "...                                     ...                  ...   \n",
       "diasDesdeUltimaBaja         1 days 00:00:00      1 days 00:00:00   \n",
       "diasDesdeUltimaBajaInt                 1.00                 1.00   \n",
       "dif_cuentaSimple                       0.00                 0.00   \n",
       "dif_ahorroInversion                    0.00                 0.00   \n",
       "dif_financiacion                       0.00                 0.00   \n",
       "\n",
       "                                    5303909              5303910  \n",
       "pk_partition            2019-04-28 00:00:00  2019-04-28 00:00:00  \n",
       "pk_cid                              1548202              1548203  \n",
       "short_term_deposit                     0.00                 0.00  \n",
       "loans                                  0.00                 0.00  \n",
       "mortgage                               0.00                 0.00  \n",
       "...                                     ...                  ...  \n",
       "diasDesdeUltimaBaja         1 days 00:00:00      1 days 00:00:00  \n",
       "diasDesdeUltimaBajaInt                 1.00                 1.00  \n",
       "dif_cuentaSimple                       0.00                 0.00  \n",
       "dif_ahorroInversion                    0.00                 0.00  \n",
       "dif_financiacion                       0.00                 0.00  \n",
       "\n",
       "[62 rows x 40276 columns]"
      ]
     },
     "execution_count": 47,
     "metadata": {},
     "output_type": "execute_result"
    }
   ],
   "source": [
    "full_df[(full_df['isNewClient']==0) &\n",
    "                     (full_df['isActive']==0)].T"
   ]
  },
  {
   "cell_type": "code",
   "execution_count": 48,
   "metadata": {
    "ExecuteTime": {
     "end_time": "2020-09-09T08:19:35.300601Z",
     "start_time": "2020-09-09T08:19:32.348488Z"
    }
   },
   "outputs": [],
   "source": [
    "# Borramos los meses que no pasa nada para que el modelo aprenda a coger emjor los cambios.\n",
    "#El rendimiento del modelo mejora con esto:\n",
    "full_df.drop(full_df[(full_df['isNewClient']==0) &\n",
    "                     (full_df['isActive']==0)].index ,axis=0, inplace=True)"
   ]
  },
  {
   "cell_type": "code",
   "execution_count": 49,
   "metadata": {
    "ExecuteTime": {
     "end_time": "2020-09-09T08:19:35.471736Z",
     "start_time": "2020-09-09T08:19:35.301601Z"
    }
   },
   "outputs": [
    {
     "data": {
      "text/plain": [
       "pk_partition\n",
       "2018-01-28    225280\n",
       "2018-02-28    228190\n",
       "2018-03-28    231046\n",
       "2018-04-28    233515\n",
       "2018-05-28    236109\n",
       "2018-06-28    238471\n",
       "2018-07-28    250654\n",
       "2018-08-28    263897\n",
       "2018-09-28    280575\n",
       "2018-10-28    298855\n",
       "2018-11-28    308341\n",
       "2018-12-28    312624\n",
       "2019-01-28    317763\n",
       "2019-02-28    321798\n",
       "2019-03-28    325130\n",
       "2019-04-28    328546\n",
       "2019-05-28    331588\n",
       "2019-06-28    331588\n",
       "Name: pk_cid, dtype: int64"
      ]
     },
     "execution_count": 49,
     "metadata": {},
     "output_type": "execute_result"
    }
   ],
   "source": [
    "full_df.groupby('pk_partition')['pk_cid'].size()"
   ]
  },
  {
   "cell_type": "code",
   "execution_count": 50,
   "metadata": {
    "ExecuteTime": {
     "end_time": "2020-09-09T08:19:35.490494Z",
     "start_time": "2020-09-09T08:19:35.473735Z"
    }
   },
   "outputs": [
    {
     "name": "stdout",
     "output_type": "stream",
     "text": [
      "<class 'pandas.core.frame.DataFrame'>\n",
      "Int64Index: 5063970 entries, 2 to 5968583\n",
      "Data columns (total 62 columns):\n",
      " #   Column                  Dtype         \n",
      "---  ------                  -----         \n",
      " 0   pk_partition            datetime64[ns]\n",
      " 1   pk_cid                  int64         \n",
      " 2   short_term_deposit      float64       \n",
      " 3   loans                   float64       \n",
      " 4   mortgage                float64       \n",
      " 5   funds                   float64       \n",
      " 6   securities              float64       \n",
      " 7   long_term_deposit       float64       \n",
      " 8   em_account_pp           float64       \n",
      " 9   credit_card             float64       \n",
      " 10  payroll                 float16       \n",
      " 11  pension_plan            float16       \n",
      " 12  payroll_account         float64       \n",
      " 13  emc_account             float64       \n",
      " 14  debit_card              float64       \n",
      " 15  em_account_p            float64       \n",
      " 16  em_acount               float64       \n",
      " 17  entry_date              datetime64[ns]\n",
      " 18  entry_channel           object        \n",
      " 19  active_customer         float16       \n",
      " 20  segment                 object        \n",
      " 21  country_id              object        \n",
      " 22  region_code             float16       \n",
      " 23  gender                  object        \n",
      " 24  age                     float64       \n",
      " 25  deceased                object        \n",
      " 26  salary                  float32       \n",
      " 27  dif_debit_card          float16       \n",
      " 28  dif_em_account_p        float16       \n",
      " 29  dif_em_account_pp       float16       \n",
      " 30  dif_em_acount           float16       \n",
      " 31  dif_emc_account         float16       \n",
      " 32  dif_payroll             float16       \n",
      " 33  dif_payroll_account     float16       \n",
      " 34  dif_funds               float16       \n",
      " 35  dif_long_term_deposit   float16       \n",
      " 36  dif_mortgage            float16       \n",
      " 37  dif_pension_plan        float16       \n",
      " 38  dif_securities          float16       \n",
      " 39  dif_short_term_deposit  float16       \n",
      " 40  dif_loans               float16       \n",
      " 41  dif_credit_card         float16       \n",
      " 42  mesesAlta               float16       \n",
      " 43  isNewClient             float64       \n",
      " 44  isActive                float64       \n",
      " 45  Provincia               object        \n",
      " 46  SalaryQtil              object        \n",
      " 47  totalAssets             float16       \n",
      " 48  totalCuentas            float16       \n",
      " 49  totalAhorro             float16       \n",
      " 50  totalFinanciacion       float64       \n",
      " 51  totalIngresos           float64       \n",
      " 52  totalBeneficio          float64       \n",
      " 53  hayAlta                 float64       \n",
      " 54  diasDesdeUltimaAlta     object        \n",
      " 55  diasDesdeUltimaAltaInt  float64       \n",
      " 56  hayBaja                 float64       \n",
      " 57  diasDesdeUltimaBaja     object        \n",
      " 58  diasDesdeUltimaBajaInt  float64       \n",
      " 59  dif_cuentaSimple        float64       \n",
      " 60  dif_ahorroInversion     float64       \n",
      " 61  dif_financiacion        float64       \n",
      "dtypes: datetime64[ns](2), float16(23), float32(1), float64(26), int64(1), object(9)\n",
      "memory usage: 1.7+ GB\n"
     ]
    }
   ],
   "source": [
    "full_df.info(verbose=True)"
   ]
  },
  {
   "cell_type": "code",
   "execution_count": 51,
   "metadata": {
    "ExecuteTime": {
     "end_time": "2020-09-09T08:22:20.175792Z",
     "start_time": "2020-09-09T08:22:10.962136Z"
    }
   },
   "outputs": [
    {
     "name": "stdout",
     "output_type": "stream",
     "text": [
      "Mem. usage decreased to 975.53 Mb (44.2% reduction)\n"
     ]
    }
   ],
   "source": [
    "reduce_mem_usage(full_df, verbose = True)"
   ]
  },
  {
   "cell_type": "code",
   "execution_count": 43,
   "metadata": {
    "ExecuteTime": {
     "end_time": "2020-09-08T15:59:54.175955Z",
     "start_time": "2020-09-08T15:59:12.162721Z"
    }
   },
   "outputs": [],
   "source": [
    "#full_df.to_pickle('fulldf_base_nandropped_VII.pkl',compression='zip')"
   ]
  },
  {
   "cell_type": "code",
   "execution_count": 52,
   "metadata": {
    "ExecuteTime": {
     "end_time": "2020-09-09T08:22:24.205251Z",
     "start_time": "2020-09-09T08:22:24.200253Z"
    }
   },
   "outputs": [],
   "source": [
    "delta_productos_easymoney=['dif_loans',\n",
    " 'dif_mortgage',\n",
    " 'dif_funds',\n",
    " 'dif_securities',\n",
    " 'dif_long_term_deposit',\n",
    " 'dif_short_term_deposit',                          \n",
    " 'dif_em_account_pp',\n",
    " 'dif_credit_card',\n",
    " 'dif_payroll',\n",
    " 'dif_pension_plan',\n",
    " 'dif_payroll_account',\n",
    " 'dif_emc_account',\n",
    " 'dif_debit_card',\n",
    " 'dif_em_acount',\n",
    " 'dif_em_account_p',\n",
    " 'dif_cuentaSimple',\n",
    " 'dif_ahorroInversion',                       \n",
    " 'dif_financiacion']"
   ]
  },
  {
   "cell_type": "code",
   "execution_count": 53,
   "metadata": {
    "ExecuteTime": {
     "end_time": "2020-09-09T08:22:28.192499Z",
     "start_time": "2020-09-09T08:22:28.188503Z"
    }
   },
   "outputs": [],
   "source": [
    "productos_easymoney=['loans',\n",
    " 'mortgage',\n",
    " 'funds',\n",
    " 'securities',\n",
    " 'long_term_deposit',\n",
    " 'short_term_deposit',                    \n",
    " 'em_account_pp',\n",
    " 'credit_card',\n",
    " 'payroll',\n",
    " 'pension_plan',\n",
    " 'payroll_account',\n",
    " 'emc_account',\n",
    " 'debit_card',\n",
    " 'em_acount',\n",
    " 'em_account_p']"
   ]
  },
  {
   "cell_type": "markdown",
   "metadata": {
    "ExecuteTime": {
     "end_time": "2020-09-06T13:17:29.325475Z",
     "start_time": "2020-09-06T13:17:29.320497Z"
    }
   },
   "source": [
    "Ponemos a 0 las bajas para solo predecir altas:"
   ]
  },
  {
   "cell_type": "code",
   "execution_count": 54,
   "metadata": {
    "ExecuteTime": {
     "end_time": "2020-09-09T08:22:33.093631Z",
     "start_time": "2020-09-09T08:22:32.033234Z"
    }
   },
   "outputs": [],
   "source": [
    "for x in delta_productos_easymoney:\n",
    "      full_df.loc[full_df[x]==-1, x ]=0  "
   ]
  },
  {
   "cell_type": "code",
   "execution_count": 55,
   "metadata": {
    "ExecuteTime": {
     "end_time": "2020-09-09T08:28:52.038459Z",
     "start_time": "2020-09-09T08:28:51.940404Z"
    }
   },
   "outputs": [
    {
     "data": {
      "text/plain": [
       "0.00    4613569\n",
       "1.00     118813\n",
       "Name: dif_em_acount, dtype: int64"
      ]
     },
     "execution_count": 55,
     "metadata": {},
     "output_type": "execute_result"
    }
   ],
   "source": [
    "full_df['dif_em_acount'].value_counts()"
   ]
  },
  {
   "cell_type": "code",
   "execution_count": 56,
   "metadata": {
    "ExecuteTime": {
     "end_time": "2020-09-09T08:28:55.544115Z",
     "start_time": "2020-09-09T08:28:55.446170Z"
    }
   },
   "outputs": [
    {
     "data": {
      "text/plain": [
       "0.00    4721714\n",
       "1.00      10668\n",
       "Name: dif_credit_card, dtype: int64"
      ]
     },
     "execution_count": 56,
     "metadata": {},
     "output_type": "execute_result"
    }
   ],
   "source": [
    "full_df['dif_credit_card'].value_counts()"
   ]
  },
  {
   "cell_type": "code",
   "execution_count": 49,
   "metadata": {
    "ExecuteTime": {
     "end_time": "2020-09-08T16:02:02.586987Z",
     "start_time": "2020-09-08T16:01:20.162379Z"
    }
   },
   "outputs": [],
   "source": [
    "#full_df.to_pickle('./fulldf_base_VII.pkl',compression='zip')"
   ]
  },
  {
   "cell_type": "code",
   "execution_count": 119,
   "metadata": {
    "ExecuteTime": {
     "end_time": "2020-09-06T21:26:25.478114Z",
     "start_time": "2020-09-06T21:24:37.159578Z"
    }
   },
   "outputs": [],
   "source": [
    "#full_df=pd.read_pickle('./fulldf_base_V1.pkl',compression='zip')"
   ]
  },
  {
   "cell_type": "markdown",
   "metadata": {},
   "source": [
    "# Feature engeniering"
   ]
  },
  {
   "cell_type": "code",
   "execution_count": 57,
   "metadata": {
    "ExecuteTime": {
     "end_time": "2020-09-09T08:31:09.174614Z",
     "start_time": "2020-09-09T08:29:37.055082Z"
    }
   },
   "outputs": [
    {
     "name": "stdout",
     "output_type": "stream",
     "text": [
      "dif_loans\n",
      "1\n",
      "2\n",
      "3\n",
      "4\n",
      "dif_mortgage\n",
      "1\n",
      "2\n",
      "3\n",
      "4\n",
      "dif_funds\n",
      "1\n",
      "2\n",
      "3\n",
      "4\n",
      "dif_securities\n",
      "1\n",
      "2\n",
      "3\n",
      "4\n",
      "dif_long_term_deposit\n",
      "1\n",
      "2\n",
      "3\n",
      "4\n",
      "dif_short_term_deposit\n",
      "1\n",
      "2\n",
      "3\n",
      "4\n",
      "dif_em_account_pp\n",
      "1\n",
      "2\n",
      "3\n",
      "4\n",
      "dif_credit_card\n",
      "1\n",
      "2\n",
      "3\n",
      "4\n",
      "dif_payroll\n",
      "1\n",
      "2\n",
      "3\n",
      "4\n",
      "dif_pension_plan\n",
      "1\n",
      "2\n",
      "3\n",
      "4\n",
      "dif_payroll_account\n",
      "1\n",
      "2\n",
      "3\n",
      "4\n",
      "dif_emc_account\n",
      "1\n",
      "2\n",
      "3\n",
      "4\n",
      "dif_debit_card\n",
      "1\n",
      "2\n",
      "3\n",
      "4\n",
      "dif_em_acount\n",
      "1\n",
      "2\n",
      "3\n",
      "4\n",
      "dif_em_account_p\n",
      "1\n",
      "2\n",
      "3\n",
      "4\n",
      "dif_cuentaSimple\n",
      "1\n",
      "2\n",
      "3\n",
      "4\n",
      "dif_ahorroInversion\n",
      "1\n",
      "2\n",
      "3\n",
      "4\n",
      "dif_financiacion\n",
      "1\n",
      "2\n",
      "3\n",
      "4\n"
     ]
    }
   ],
   "source": [
    "for y in delta_productos_easymoney:\n",
    "    print(y)\n",
    "    for x in [1,2,3,4]:\n",
    "        print(x)\n",
    "        full_df[y+'_shift_'+str(x)]=full_df.groupby(['pk_cid'])[y].shift(x)"
   ]
  },
  {
   "cell_type": "code",
   "execution_count": 58,
   "metadata": {
    "ExecuteTime": {
     "end_time": "2020-09-09T08:33:08.200497Z",
     "start_time": "2020-09-09T08:31:10.329657Z"
    }
   },
   "outputs": [
    {
     "name": "stdout",
     "output_type": "stream",
     "text": [
      "loans\n",
      "1\n",
      "2\n",
      "3\n",
      "4\n",
      "mortgage\n",
      "1\n",
      "2\n",
      "3\n",
      "4\n",
      "funds\n",
      "1\n",
      "2\n",
      "3\n",
      "4\n",
      "securities\n",
      "1\n",
      "2\n",
      "3\n",
      "4\n",
      "long_term_deposit\n",
      "1\n",
      "2\n",
      "3\n",
      "4\n",
      "short_term_deposit\n",
      "1\n",
      "2\n",
      "3\n",
      "4\n",
      "em_account_pp\n",
      "1\n",
      "2\n",
      "3\n",
      "4\n",
      "credit_card\n",
      "1\n",
      "2\n",
      "3\n",
      "4\n",
      "payroll\n",
      "1\n",
      "2\n",
      "3\n",
      "4\n",
      "pension_plan\n",
      "1\n",
      "2\n",
      "3\n",
      "4\n",
      "payroll_account\n",
      "1\n",
      "2\n",
      "3\n",
      "4\n",
      "emc_account\n",
      "1\n",
      "2\n",
      "3\n",
      "4\n",
      "debit_card\n",
      "1\n",
      "2\n",
      "3\n",
      "4\n",
      "em_acount\n",
      "1\n",
      "2\n",
      "3\n",
      "4\n",
      "em_account_p\n",
      "1\n",
      "2\n",
      "3\n",
      "4\n"
     ]
    }
   ],
   "source": [
    "for y in productos_easymoney:\n",
    "    print(y)\n",
    "    for x in [1,2,3,4]:\n",
    "        print(x)\n",
    "        full_df[y+'_shift_'+str(x)]=full_df.groupby(['pk_cid'])[y].shift(x)"
   ]
  },
  {
   "cell_type": "code",
   "execution_count": 60,
   "metadata": {
    "ExecuteTime": {
     "end_time": "2020-09-09T08:36:35.472694Z",
     "start_time": "2020-09-09T08:34:30.002713Z"
    }
   },
   "outputs": [
    {
     "name": "stdout",
     "output_type": "stream",
     "text": [
      "1\n",
      "2\n",
      "3\n",
      "4\n"
     ]
    }
   ],
   "source": [
    "for x in [1,2,3,4]:\n",
    "    print(x)\n",
    "    full_df['isActive_shift_'+str(x)]=full_df.groupby(['pk_cid'])['isActive'].shift(x)\n",
    "    full_df['isNewClient_shift_'+str(x)]=full_df.groupby(['pk_cid'])['isNewClient'].shift(x)\n",
    "    full_df['active_customer_shift_'+str(x)]=full_df.groupby(['pk_cid'])['active_customer'].shift(x)\n",
    "    full_df['totalAssets_shift_'+str(x)]=full_df.groupby(['pk_cid'])['totalAssets'].shift(x)\n",
    "    full_df['totalCuentas_shift_'+str(x)]=full_df.groupby(['pk_cid'])['totalCuentas'].shift(x)\n",
    "    full_df['totalAhorro_shift_'+str(x)]=full_df.groupby(['pk_cid'])['totalAhorro'].shift(x)\n",
    "    full_df['totalFinanciacion_shift_'+str(x)]=full_df.groupby(['pk_cid'])['totalFinanciacion'].shift(x)\n",
    "    full_df['totalIngresos_shift_'+str(x)]=full_df.groupby(['pk_cid'])['totalIngresos'].shift(x)\n",
    "    #full_df['totalBeneficio_'+str(x)]=full_df.groupby(['pk_cid'])['totalBeneficio'].shift(x)\n",
    "    full_df['diasDesdeUltimaAltaInt_shift_'+str(x)]=full_df.groupby(['pk_cid'])['diasDesdeUltimaAltaInt'].shift(x)\n",
    "    full_df['hayAlta_shift_'+str(x)]=full_df.groupby(['pk_cid'])['hayAlta'].shift(x)\n",
    "    full_df['diasDesdeUltimaBajaInt_shift_'+str(x)]=full_df.groupby(['pk_cid'])['diasDesdeUltimaAltaInt'].shift(x)\n",
    "    full_df['hayBaja_shift_'+str(x)]=full_df.groupby(['pk_cid'])['hayAlta'].shift(x)"
   ]
  },
  {
   "cell_type": "code",
   "execution_count": 61,
   "metadata": {
    "ExecuteTime": {
     "end_time": "2020-09-09T08:37:28.570733Z",
     "start_time": "2020-09-09T08:36:59.345613Z"
    }
   },
   "outputs": [],
   "source": [
    "# Rellenamos los nulos producidos en las shift\n",
    "full_df.fillna(-999,inplace=True)"
   ]
  },
  {
   "cell_type": "code",
   "execution_count": 62,
   "metadata": {
    "ExecuteTime": {
     "end_time": "2020-09-09T08:37:36.197321Z",
     "start_time": "2020-09-09T08:37:35.055598Z"
    }
   },
   "outputs": [],
   "source": [
    "full_df[\"day\"] = full_df[\"pk_partition\"].dt.day\n",
    "full_df[\"year\"] = full_df[\"pk_partition\"].dt.year\n",
    "full_df[\"month\"] = full_df[\"pk_partition\"].dt.month"
   ]
  },
  {
   "cell_type": "code",
   "execution_count": 63,
   "metadata": {
    "ExecuteTime": {
     "end_time": "2020-09-09T08:37:38.742263Z",
     "start_time": "2020-09-09T08:37:37.556221Z"
    }
   },
   "outputs": [],
   "source": [
    "full_df[\"entry_date_day\"] = full_df[\"entry_date\"].dt.day\n",
    "full_df[\"entry_date_year\"] = full_df[\"entry_date\"].dt.year\n",
    "full_df[\"entry_date_month\"] = full_df[\"entry_date\"].dt.month"
   ]
  },
  {
   "cell_type": "code",
   "execution_count": 64,
   "metadata": {
    "ExecuteTime": {
     "end_time": "2020-09-09T08:37:41.880418Z",
     "start_time": "2020-09-09T08:37:40.545078Z"
    }
   },
   "outputs": [
    {
     "name": "stdout",
     "output_type": "stream",
     "text": [
      "<class 'pandas.core.frame.DataFrame'>\n",
      "Int64Index: 5063970 entries, 2 to 5968583\n",
      "Columns: 248 entries, pk_partition to entry_date_month\n",
      "dtypes: datetime64[ns](2), float16(229), float32(1), int32(1), int64(6), object(9)\n",
      "memory usage: 2.9+ GB\n"
     ]
    }
   ],
   "source": [
    "full_df.info()"
   ]
  },
  {
   "cell_type": "code",
   "execution_count": 65,
   "metadata": {
    "ExecuteTime": {
     "end_time": "2020-09-09T08:37:54.259262Z",
     "start_time": "2020-09-09T08:37:43.116284Z"
    }
   },
   "outputs": [
    {
     "name": "stdout",
     "output_type": "stream",
     "text": [
      "Mem. usage decreased to 2752.75 Mb (6.6% reduction)\n"
     ]
    }
   ],
   "source": [
    "reduce_mem_usage(full_df, verbose = True)"
   ]
  },
  {
   "cell_type": "code",
   "execution_count": 66,
   "metadata": {
    "ExecuteTime": {
     "end_time": "2020-09-09T08:37:55.826015Z",
     "start_time": "2020-09-09T08:37:55.368231Z"
    }
   },
   "outputs": [
    {
     "data": {
      "text/plain": [
       "KHE     2655442\n",
       "KFC      625714\n",
       "KHQ      435667\n",
       "-999     331588\n",
       "KAT      327988\n",
       "KHK      157376\n",
       "KHM      122421\n",
       "KHN       82093\n",
       "XXX       81657\n",
       "KHD       63068\n",
       "Name: entry_channel, dtype: int64"
      ]
     },
     "execution_count": 66,
     "metadata": {},
     "output_type": "execute_result"
    }
   ],
   "source": [
    "full_df['entry_channel'].value_counts(dropna=False).head(10)"
   ]
  },
  {
   "cell_type": "code",
   "execution_count": 67,
   "metadata": {
    "ExecuteTime": {
     "end_time": "2020-09-09T08:37:57.383021Z",
     "start_time": "2020-09-09T08:37:56.932968Z"
    }
   },
   "outputs": [],
   "source": [
    "full_df.loc[full_df['entry_channel']==-999,'entry_channel']='XXX'"
   ]
  },
  {
   "cell_type": "code",
   "execution_count": 68,
   "metadata": {
    "ExecuteTime": {
     "end_time": "2020-09-09T08:37:59.684241Z",
     "start_time": "2020-09-09T08:37:58.332030Z"
    }
   },
   "outputs": [],
   "source": [
    "full_df['entry_channel']=pd.Categorical(full_df['entry_channel'], categories=full_df['entry_channel'].value_counts(dropna=False).head(10).index.to_list())"
   ]
  },
  {
   "cell_type": "code",
   "execution_count": 69,
   "metadata": {
    "ExecuteTime": {
     "end_time": "2020-09-09T08:38:00.693367Z",
     "start_time": "2020-09-09T08:38:00.641366Z"
    }
   },
   "outputs": [
    {
     "data": {
      "text/plain": [
       "KHE    2655442\n",
       "KFC     625714\n",
       "KHQ     435667\n",
       "XXX     413245\n",
       "KAT     327988\n",
       "KHK     157376\n",
       "KHM     122421\n",
       "NaN     121686\n",
       "KHN      82093\n",
       "KHD      63068\n",
       "KFA      59270\n",
       "Name: entry_channel, dtype: int64"
      ]
     },
     "execution_count": 69,
     "metadata": {},
     "output_type": "execute_result"
    }
   ],
   "source": [
    "full_df['entry_channel'].value_counts(dropna=False)"
   ]
  },
  {
   "cell_type": "code",
   "execution_count": 70,
   "metadata": {
    "ExecuteTime": {
     "end_time": "2020-09-09T08:38:01.715398Z",
     "start_time": "2020-09-09T08:38:01.618734Z"
    }
   },
   "outputs": [],
   "source": [
    "dummy_dataset = pd.get_dummies(full_df['entry_channel'],prefix='channel')"
   ]
  },
  {
   "cell_type": "code",
   "execution_count": 71,
   "metadata": {
    "ExecuteTime": {
     "end_time": "2020-09-09T08:38:02.691361Z",
     "start_time": "2020-09-09T08:38:02.676261Z"
    }
   },
   "outputs": [
    {
     "data": {
      "text/html": [
       "<div>\n",
       "<style scoped>\n",
       "    .dataframe tbody tr th:only-of-type {\n",
       "        vertical-align: middle;\n",
       "    }\n",
       "\n",
       "    .dataframe tbody tr th {\n",
       "        vertical-align: top;\n",
       "    }\n",
       "\n",
       "    .dataframe thead th {\n",
       "        text-align: right;\n",
       "    }\n",
       "</style>\n",
       "<table border=\"1\" class=\"dataframe\">\n",
       "  <thead>\n",
       "    <tr style=\"text-align: right;\">\n",
       "      <th></th>\n",
       "      <th>channel_KHE</th>\n",
       "      <th>channel_KFC</th>\n",
       "      <th>channel_KHQ</th>\n",
       "      <th>channel_XXX</th>\n",
       "      <th>channel_KAT</th>\n",
       "      <th>channel_KHK</th>\n",
       "      <th>channel_KHM</th>\n",
       "      <th>channel_KHN</th>\n",
       "      <th>channel_KHD</th>\n",
       "      <th>channel_KFA</th>\n",
       "    </tr>\n",
       "  </thead>\n",
       "  <tbody>\n",
       "    <tr>\n",
       "      <th>2</th>\n",
       "      <td>0</td>\n",
       "      <td>0</td>\n",
       "      <td>0</td>\n",
       "      <td>0</td>\n",
       "      <td>1</td>\n",
       "      <td>0</td>\n",
       "      <td>0</td>\n",
       "      <td>0</td>\n",
       "      <td>0</td>\n",
       "      <td>0</td>\n",
       "    </tr>\n",
       "    <tr>\n",
       "      <th>3</th>\n",
       "      <td>0</td>\n",
       "      <td>0</td>\n",
       "      <td>0</td>\n",
       "      <td>0</td>\n",
       "      <td>1</td>\n",
       "      <td>0</td>\n",
       "      <td>0</td>\n",
       "      <td>0</td>\n",
       "      <td>0</td>\n",
       "      <td>0</td>\n",
       "    </tr>\n",
       "    <tr>\n",
       "      <th>4</th>\n",
       "      <td>0</td>\n",
       "      <td>0</td>\n",
       "      <td>0</td>\n",
       "      <td>0</td>\n",
       "      <td>1</td>\n",
       "      <td>0</td>\n",
       "      <td>0</td>\n",
       "      <td>0</td>\n",
       "      <td>0</td>\n",
       "      <td>0</td>\n",
       "    </tr>\n",
       "    <tr>\n",
       "      <th>7</th>\n",
       "      <td>0</td>\n",
       "      <td>0</td>\n",
       "      <td>0</td>\n",
       "      <td>0</td>\n",
       "      <td>1</td>\n",
       "      <td>0</td>\n",
       "      <td>0</td>\n",
       "      <td>0</td>\n",
       "      <td>0</td>\n",
       "      <td>0</td>\n",
       "    </tr>\n",
       "    <tr>\n",
       "      <th>8</th>\n",
       "      <td>0</td>\n",
       "      <td>0</td>\n",
       "      <td>0</td>\n",
       "      <td>0</td>\n",
       "      <td>1</td>\n",
       "      <td>0</td>\n",
       "      <td>0</td>\n",
       "      <td>0</td>\n",
       "      <td>0</td>\n",
       "      <td>0</td>\n",
       "    </tr>\n",
       "    <tr>\n",
       "      <th>...</th>\n",
       "      <td>...</td>\n",
       "      <td>...</td>\n",
       "      <td>...</td>\n",
       "      <td>...</td>\n",
       "      <td>...</td>\n",
       "      <td>...</td>\n",
       "      <td>...</td>\n",
       "      <td>...</td>\n",
       "      <td>...</td>\n",
       "      <td>...</td>\n",
       "    </tr>\n",
       "    <tr>\n",
       "      <th>5968579</th>\n",
       "      <td>0</td>\n",
       "      <td>0</td>\n",
       "      <td>0</td>\n",
       "      <td>1</td>\n",
       "      <td>0</td>\n",
       "      <td>0</td>\n",
       "      <td>0</td>\n",
       "      <td>0</td>\n",
       "      <td>0</td>\n",
       "      <td>0</td>\n",
       "    </tr>\n",
       "    <tr>\n",
       "      <th>5968580</th>\n",
       "      <td>0</td>\n",
       "      <td>0</td>\n",
       "      <td>0</td>\n",
       "      <td>1</td>\n",
       "      <td>0</td>\n",
       "      <td>0</td>\n",
       "      <td>0</td>\n",
       "      <td>0</td>\n",
       "      <td>0</td>\n",
       "      <td>0</td>\n",
       "    </tr>\n",
       "    <tr>\n",
       "      <th>5968581</th>\n",
       "      <td>0</td>\n",
       "      <td>0</td>\n",
       "      <td>0</td>\n",
       "      <td>1</td>\n",
       "      <td>0</td>\n",
       "      <td>0</td>\n",
       "      <td>0</td>\n",
       "      <td>0</td>\n",
       "      <td>0</td>\n",
       "      <td>0</td>\n",
       "    </tr>\n",
       "    <tr>\n",
       "      <th>5968582</th>\n",
       "      <td>0</td>\n",
       "      <td>0</td>\n",
       "      <td>0</td>\n",
       "      <td>1</td>\n",
       "      <td>0</td>\n",
       "      <td>0</td>\n",
       "      <td>0</td>\n",
       "      <td>0</td>\n",
       "      <td>0</td>\n",
       "      <td>0</td>\n",
       "    </tr>\n",
       "    <tr>\n",
       "      <th>5968583</th>\n",
       "      <td>0</td>\n",
       "      <td>0</td>\n",
       "      <td>0</td>\n",
       "      <td>1</td>\n",
       "      <td>0</td>\n",
       "      <td>0</td>\n",
       "      <td>0</td>\n",
       "      <td>0</td>\n",
       "      <td>0</td>\n",
       "      <td>0</td>\n",
       "    </tr>\n",
       "  </tbody>\n",
       "</table>\n",
       "<p>5063970 rows × 10 columns</p>\n",
       "</div>"
      ],
      "text/plain": [
       "         channel_KHE  channel_KFC  channel_KHQ  channel_XXX  channel_KAT  \\\n",
       "2                  0            0            0            0            1   \n",
       "3                  0            0            0            0            1   \n",
       "4                  0            0            0            0            1   \n",
       "7                  0            0            0            0            1   \n",
       "8                  0            0            0            0            1   \n",
       "...              ...          ...          ...          ...          ...   \n",
       "5968579            0            0            0            1            0   \n",
       "5968580            0            0            0            1            0   \n",
       "5968581            0            0            0            1            0   \n",
       "5968582            0            0            0            1            0   \n",
       "5968583            0            0            0            1            0   \n",
       "\n",
       "         channel_KHK  channel_KHM  channel_KHN  channel_KHD  channel_KFA  \n",
       "2                  0            0            0            0            0  \n",
       "3                  0            0            0            0            0  \n",
       "4                  0            0            0            0            0  \n",
       "7                  0            0            0            0            0  \n",
       "8                  0            0            0            0            0  \n",
       "...              ...          ...          ...          ...          ...  \n",
       "5968579            0            0            0            0            0  \n",
       "5968580            0            0            0            0            0  \n",
       "5968581            0            0            0            0            0  \n",
       "5968582            0            0            0            0            0  \n",
       "5968583            0            0            0            0            0  \n",
       "\n",
       "[5063970 rows x 10 columns]"
      ]
     },
     "execution_count": 71,
     "metadata": {},
     "output_type": "execute_result"
    }
   ],
   "source": [
    "dummy_dataset"
   ]
  },
  {
   "cell_type": "code",
   "execution_count": 72,
   "metadata": {
    "ExecuteTime": {
     "end_time": "2020-09-09T08:38:07.805636Z",
     "start_time": "2020-09-09T08:38:03.645701Z"
    }
   },
   "outputs": [],
   "source": [
    "full_df = pd.concat([full_df,dummy_dataset],axis=1)"
   ]
  },
  {
   "cell_type": "code",
   "execution_count": 73,
   "metadata": {
    "ExecuteTime": {
     "end_time": "2020-09-09T08:38:12.489417Z",
     "start_time": "2020-09-09T08:38:08.592093Z"
    }
   },
   "outputs": [
    {
     "name": "stdout",
     "output_type": "stream",
     "text": [
      "<class 'pandas.core.frame.DataFrame'>\n",
      "Int64Index: 5063970 entries, 2 to 5968583\n",
      "Data columns (total 258 columns):\n",
      " #   Column                          Dtype         \n",
      "---  ------                          -----         \n",
      " 0   pk_partition                    datetime64[ns]\n",
      " 1   pk_cid                          int32         \n",
      " 2   short_term_deposit              float16       \n",
      " 3   loans                           float16       \n",
      " 4   mortgage                        float16       \n",
      " 5   funds                           float16       \n",
      " 6   securities                      float16       \n",
      " 7   long_term_deposit               float16       \n",
      " 8   em_account_pp                   float16       \n",
      " 9   credit_card                     float16       \n",
      " 10  payroll                         float16       \n",
      " 11  pension_plan                    float16       \n",
      " 12  payroll_account                 float16       \n",
      " 13  emc_account                     float16       \n",
      " 14  debit_card                      float16       \n",
      " 15  em_account_p                    float16       \n",
      " 16  em_acount                       float16       \n",
      " 17  entry_date                      datetime64[ns]\n",
      " 18  entry_channel                   category      \n",
      " 19  active_customer                 float16       \n",
      " 20  segment                         object        \n",
      " 21  country_id                      object        \n",
      " 22  region_code                     float16       \n",
      " 23  gender                          object        \n",
      " 24  age                             float16       \n",
      " 25  deceased                        object        \n",
      " 26  salary                          float32       \n",
      " 27  dif_debit_card                  float16       \n",
      " 28  dif_em_account_p                float16       \n",
      " 29  dif_em_account_pp               float16       \n",
      " 30  dif_em_acount                   float16       \n",
      " 31  dif_emc_account                 float16       \n",
      " 32  dif_payroll                     float16       \n",
      " 33  dif_payroll_account             float16       \n",
      " 34  dif_funds                       float16       \n",
      " 35  dif_long_term_deposit           float16       \n",
      " 36  dif_mortgage                    float16       \n",
      " 37  dif_pension_plan                float16       \n",
      " 38  dif_securities                  float16       \n",
      " 39  dif_short_term_deposit          float16       \n",
      " 40  dif_loans                       float16       \n",
      " 41  dif_credit_card                 float16       \n",
      " 42  mesesAlta                       float16       \n",
      " 43  isNewClient                     float16       \n",
      " 44  isActive                        float16       \n",
      " 45  Provincia                       object        \n",
      " 46  SalaryQtil                      object        \n",
      " 47  totalAssets                     float16       \n",
      " 48  totalCuentas                    float16       \n",
      " 49  totalAhorro                     float16       \n",
      " 50  totalFinanciacion               float16       \n",
      " 51  totalIngresos                   float16       \n",
      " 52  totalBeneficio                  float16       \n",
      " 53  hayAlta                         float16       \n",
      " 54  diasDesdeUltimaAlta             object        \n",
      " 55  diasDesdeUltimaAltaInt          float16       \n",
      " 56  hayBaja                         float16       \n",
      " 57  diasDesdeUltimaBaja             object        \n",
      " 58  diasDesdeUltimaBajaInt          float16       \n",
      " 59  dif_cuentaSimple                float16       \n",
      " 60  dif_ahorroInversion             float16       \n",
      " 61  dif_financiacion                float16       \n",
      " 62  dif_loans_shift_1               float16       \n",
      " 63  dif_loans_shift_2               float16       \n",
      " 64  dif_loans_shift_3               float16       \n",
      " 65  dif_loans_shift_4               float16       \n",
      " 66  dif_mortgage_shift_1            float16       \n",
      " 67  dif_mortgage_shift_2            float16       \n",
      " 68  dif_mortgage_shift_3            float16       \n",
      " 69  dif_mortgage_shift_4            float16       \n",
      " 70  dif_funds_shift_1               float16       \n",
      " 71  dif_funds_shift_2               float16       \n",
      " 72  dif_funds_shift_3               float16       \n",
      " 73  dif_funds_shift_4               float16       \n",
      " 74  dif_securities_shift_1          float16       \n",
      " 75  dif_securities_shift_2          float16       \n",
      " 76  dif_securities_shift_3          float16       \n",
      " 77  dif_securities_shift_4          float16       \n",
      " 78  dif_long_term_deposit_shift_1   float16       \n",
      " 79  dif_long_term_deposit_shift_2   float16       \n",
      " 80  dif_long_term_deposit_shift_3   float16       \n",
      " 81  dif_long_term_deposit_shift_4   float16       \n",
      " 82  dif_short_term_deposit_shift_1  float16       \n",
      " 83  dif_short_term_deposit_shift_2  float16       \n",
      " 84  dif_short_term_deposit_shift_3  float16       \n",
      " 85  dif_short_term_deposit_shift_4  float16       \n",
      " 86  dif_em_account_pp_shift_1       float16       \n",
      " 87  dif_em_account_pp_shift_2       float16       \n",
      " 88  dif_em_account_pp_shift_3       float16       \n",
      " 89  dif_em_account_pp_shift_4       float16       \n",
      " 90  dif_credit_card_shift_1         float16       \n",
      " 91  dif_credit_card_shift_2         float16       \n",
      " 92  dif_credit_card_shift_3         float16       \n",
      " 93  dif_credit_card_shift_4         float16       \n",
      " 94  dif_payroll_shift_1             float16       \n",
      " 95  dif_payroll_shift_2             float16       \n",
      " 96  dif_payroll_shift_3             float16       \n",
      " 97  dif_payroll_shift_4             float16       \n",
      " 98  dif_pension_plan_shift_1        float16       \n",
      " 99  dif_pension_plan_shift_2        float16       \n",
      " 100 dif_pension_plan_shift_3        float16       \n",
      " 101 dif_pension_plan_shift_4        float16       \n",
      " 102 dif_payroll_account_shift_1     float16       \n",
      " 103 dif_payroll_account_shift_2     float16       \n",
      " 104 dif_payroll_account_shift_3     float16       \n",
      " 105 dif_payroll_account_shift_4     float16       \n",
      " 106 dif_emc_account_shift_1         float16       \n",
      " 107 dif_emc_account_shift_2         float16       \n",
      " 108 dif_emc_account_shift_3         float16       \n",
      " 109 dif_emc_account_shift_4         float16       \n",
      " 110 dif_debit_card_shift_1          float16       \n",
      " 111 dif_debit_card_shift_2          float16       \n",
      " 112 dif_debit_card_shift_3          float16       \n",
      " 113 dif_debit_card_shift_4          float16       \n",
      " 114 dif_em_acount_shift_1           float16       \n",
      " 115 dif_em_acount_shift_2           float16       \n",
      " 116 dif_em_acount_shift_3           float16       \n",
      " 117 dif_em_acount_shift_4           float16       \n",
      " 118 dif_em_account_p_shift_1        float16       \n",
      " 119 dif_em_account_p_shift_2        float16       \n",
      " 120 dif_em_account_p_shift_3        float16       \n",
      " 121 dif_em_account_p_shift_4        float16       \n",
      " 122 dif_cuentaSimple_shift_1        float16       \n",
      " 123 dif_cuentaSimple_shift_2        float16       \n",
      " 124 dif_cuentaSimple_shift_3        float16       \n",
      " 125 dif_cuentaSimple_shift_4        float16       \n",
      " 126 dif_ahorroInversion_shift_1     float16       \n",
      " 127 dif_ahorroInversion_shift_2     float16       \n",
      " 128 dif_ahorroInversion_shift_3     float16       \n",
      " 129 dif_ahorroInversion_shift_4     float16       \n",
      " 130 dif_financiacion_shift_1        float16       \n",
      " 131 dif_financiacion_shift_2        float16       \n",
      " 132 dif_financiacion_shift_3        float16       \n",
      " 133 dif_financiacion_shift_4        float16       \n",
      " 134 loans_shift_1                   float16       \n",
      " 135 loans_shift_2                   float16       \n",
      " 136 loans_shift_3                   float16       \n",
      " 137 loans_shift_4                   float16       \n",
      " 138 mortgage_shift_1                float16       \n",
      " 139 mortgage_shift_2                float16       \n",
      " 140 mortgage_shift_3                float16       \n",
      " 141 mortgage_shift_4                float16       \n",
      " 142 funds_shift_1                   float16       \n",
      " 143 funds_shift_2                   float16       \n",
      " 144 funds_shift_3                   float16       \n",
      " 145 funds_shift_4                   float16       \n",
      " 146 securities_shift_1              float16       \n",
      " 147 securities_shift_2              float16       \n",
      " 148 securities_shift_3              float16       \n",
      " 149 securities_shift_4              float16       \n",
      " 150 long_term_deposit_shift_1       float16       \n",
      " 151 long_term_deposit_shift_2       float16       \n",
      " 152 long_term_deposit_shift_3       float16       \n",
      " 153 long_term_deposit_shift_4       float16       \n",
      " 154 short_term_deposit_shift_1      float16       \n",
      " 155 short_term_deposit_shift_2      float16       \n",
      " 156 short_term_deposit_shift_3      float16       \n",
      " 157 short_term_deposit_shift_4      float16       \n",
      " 158 em_account_pp_shift_1           float16       \n",
      " 159 em_account_pp_shift_2           float16       \n",
      " 160 em_account_pp_shift_3           float16       \n",
      " 161 em_account_pp_shift_4           float16       \n",
      " 162 credit_card_shift_1             float16       \n",
      " 163 credit_card_shift_2             float16       \n",
      " 164 credit_card_shift_3             float16       \n",
      " 165 credit_card_shift_4             float16       \n",
      " 166 payroll_shift_1                 float16       \n",
      " 167 payroll_shift_2                 float16       \n",
      " 168 payroll_shift_3                 float16       \n",
      " 169 payroll_shift_4                 float16       \n",
      " 170 pension_plan_shift_1            float16       \n",
      " 171 pension_plan_shift_2            float16       \n",
      " 172 pension_plan_shift_3            float16       \n",
      " 173 pension_plan_shift_4            float16       \n",
      " 174 payroll_account_shift_1         float16       \n",
      " 175 payroll_account_shift_2         float16       \n",
      " 176 payroll_account_shift_3         float16       \n",
      " 177 payroll_account_shift_4         float16       \n",
      " 178 emc_account_shift_1             float16       \n",
      " 179 emc_account_shift_2             float16       \n",
      " 180 emc_account_shift_3             float16       \n",
      " 181 emc_account_shift_4             float16       \n",
      " 182 debit_card_shift_1              float16       \n",
      " 183 debit_card_shift_2              float16       \n",
      " 184 debit_card_shift_3              float16       \n",
      " 185 debit_card_shift_4              float16       \n",
      " 186 em_acount_shift_1               float16       \n",
      " 187 em_acount_shift_2               float16       \n",
      " 188 em_acount_shift_3               float16       \n",
      " 189 em_acount_shift_4               float16       \n",
      " 190 em_account_p_shift_1            float16       \n",
      " 191 em_account_p_shift_2            float16       \n",
      " 192 em_account_p_shift_3            float16       \n",
      " 193 em_account_p_shift_4            float16       \n",
      " 194 isActive_shift_1                float16       \n",
      " 195 isNewClient_shift_1             float16       \n",
      " 196 active_customer_shift_1         float16       \n",
      " 197 totalAssets_shift_1             float16       \n",
      " 198 totalCuentas_shift_1            float16       \n",
      " 199 totalAhorro_shift_1             float16       \n",
      " 200 totalFinanciacion_shift_1       float16       \n",
      " 201 totalIngresos_shift_1           float16       \n",
      " 202 diasDesdeUltimaAltaInt_shift_1  float16       \n",
      " 203 hayAlta_shift_1                 float16       \n",
      " 204 diasDesdeUltimaBajaInt_shift_1  float16       \n",
      " 205 hayBaja_shift_1                 float16       \n",
      " 206 isActive_shift_2                float16       \n",
      " 207 isNewClient_shift_2             float16       \n",
      " 208 active_customer_shift_2         float16       \n",
      " 209 totalAssets_shift_2             float16       \n",
      " 210 totalCuentas_shift_2            float16       \n",
      " 211 totalAhorro_shift_2             float16       \n",
      " 212 totalFinanciacion_shift_2       float16       \n",
      " 213 totalIngresos_shift_2           float16       \n",
      " 214 diasDesdeUltimaAltaInt_shift_2  float16       \n",
      " 215 hayAlta_shift_2                 float16       \n",
      " 216 diasDesdeUltimaBajaInt_shift_2  float16       \n",
      " 217 hayBaja_shift_2                 float16       \n",
      " 218 isActive_shift_3                float16       \n",
      " 219 isNewClient_shift_3             float16       \n",
      " 220 active_customer_shift_3         float16       \n",
      " 221 totalAssets_shift_3             float16       \n",
      " 222 totalCuentas_shift_3            float16       \n",
      " 223 totalAhorro_shift_3             float16       \n",
      " 224 totalFinanciacion_shift_3       float16       \n",
      " 225 totalIngresos_shift_3           float16       \n",
      " 226 diasDesdeUltimaAltaInt_shift_3  float16       \n",
      " 227 hayAlta_shift_3                 float16       \n",
      " 228 diasDesdeUltimaBajaInt_shift_3  float16       \n",
      " 229 hayBaja_shift_3                 float16       \n",
      " 230 isActive_shift_4                float16       \n",
      " 231 isNewClient_shift_4             float16       \n",
      " 232 active_customer_shift_4         float16       \n",
      " 233 totalAssets_shift_4             float16       \n",
      " 234 totalCuentas_shift_4            float16       \n",
      " 235 totalAhorro_shift_4             float16       \n",
      " 236 totalFinanciacion_shift_4       float16       \n",
      " 237 totalIngresos_shift_4           float16       \n",
      " 238 diasDesdeUltimaAltaInt_shift_4  float16       \n",
      " 239 hayAlta_shift_4                 float16       \n",
      " 240 diasDesdeUltimaBajaInt_shift_4  float16       \n",
      " 241 hayBaja_shift_4                 float16       \n",
      " 242 day                             int8          \n",
      " 243 year                            int16         \n",
      " 244 month                           int8          \n",
      " 245 entry_date_day                  int8          \n",
      " 246 entry_date_year                 int16         \n",
      " 247 entry_date_month                int8          \n",
      " 248 channel_KHE                     uint8         \n",
      " 249 channel_KFC                     uint8         \n",
      " 250 channel_KHQ                     uint8         \n",
      " 251 channel_XXX                     uint8         \n",
      " 252 channel_KAT                     uint8         \n",
      " 253 channel_KHK                     uint8         \n",
      " 254 channel_KHM                     uint8         \n",
      " 255 channel_KHN                     uint8         \n",
      " 256 channel_KHD                     uint8         \n",
      " 257 channel_KFA                     uint8         \n",
      "dtypes: category(1), datetime64[ns](2), float16(229), float32(1), int16(2), int32(1), int8(4), object(8), uint8(10)\n",
      "memory usage: 2.7+ GB\n"
     ]
    }
   ],
   "source": [
    "full_df.info(verbose=True)"
   ]
  },
  {
   "cell_type": "code",
   "execution_count": 74,
   "metadata": {
    "ExecuteTime": {
     "end_time": "2020-09-09T08:38:13.718433Z",
     "start_time": "2020-09-09T08:38:13.274437Z"
    }
   },
   "outputs": [
    {
     "data": {
      "text/plain": [
       "ES       4730617\n",
       "-999      331588\n",
       "Other        679\n",
       "GB           357\n",
       "FR           201\n",
       "DE           188\n",
       "CH           156\n",
       "US            81\n",
       "BR            66\n",
       "BE            37\n",
       "Name: country_id, dtype: int64"
      ]
     },
     "execution_count": 74,
     "metadata": {},
     "output_type": "execute_result"
    }
   ],
   "source": [
    "full_df['country_id'].value_counts(dropna=False)"
   ]
  },
  {
   "cell_type": "code",
   "execution_count": 75,
   "metadata": {
    "ExecuteTime": {
     "end_time": "2020-09-09T08:38:15.399070Z",
     "start_time": "2020-09-09T08:38:14.475667Z"
    }
   },
   "outputs": [],
   "source": [
    "full_df.loc[full_df['country_id']==-999,'country_id']='Other'"
   ]
  },
  {
   "cell_type": "code",
   "execution_count": 76,
   "metadata": {
    "ExecuteTime": {
     "end_time": "2020-09-09T08:38:16.611039Z",
     "start_time": "2020-09-09T08:38:16.168161Z"
    }
   },
   "outputs": [
    {
     "data": {
      "text/plain": [
       "ES       4730617\n",
       "Other     332267\n",
       "GB           357\n",
       "FR           201\n",
       "DE           188\n",
       "CH           156\n",
       "US            81\n",
       "BR            66\n",
       "BE            37\n",
       "Name: country_id, dtype: int64"
      ]
     },
     "execution_count": 76,
     "metadata": {},
     "output_type": "execute_result"
    }
   ],
   "source": [
    "full_df['country_id'].value_counts(dropna=False)"
   ]
  },
  {
   "cell_type": "code",
   "execution_count": 77,
   "metadata": {
    "ExecuteTime": {
     "end_time": "2020-09-09T08:38:17.664146Z",
     "start_time": "2020-09-09T08:38:17.367388Z"
    }
   },
   "outputs": [],
   "source": [
    "dummy_dataset = pd.get_dummies(full_df['country_id'],prefix='country')"
   ]
  },
  {
   "cell_type": "code",
   "execution_count": 78,
   "metadata": {
    "ExecuteTime": {
     "end_time": "2020-09-09T08:38:23.181736Z",
     "start_time": "2020-09-09T08:38:18.418554Z"
    }
   },
   "outputs": [],
   "source": [
    "full_df = pd.concat([full_df,dummy_dataset],axis=1)"
   ]
  },
  {
   "cell_type": "code",
   "execution_count": 79,
   "metadata": {
    "ExecuteTime": {
     "end_time": "2020-09-09T08:38:24.875401Z",
     "start_time": "2020-09-09T08:38:24.088285Z"
    }
   },
   "outputs": [
    {
     "data": {
      "text/html": [
       "<div>\n",
       "<style scoped>\n",
       "    .dataframe tbody tr th:only-of-type {\n",
       "        vertical-align: middle;\n",
       "    }\n",
       "\n",
       "    .dataframe tbody tr th {\n",
       "        vertical-align: top;\n",
       "    }\n",
       "\n",
       "    .dataframe thead th {\n",
       "        text-align: right;\n",
       "    }\n",
       "</style>\n",
       "<table border=\"1\" class=\"dataframe\">\n",
       "  <thead>\n",
       "    <tr style=\"text-align: right;\">\n",
       "      <th></th>\n",
       "      <th>pk_partition</th>\n",
       "      <th>pk_cid</th>\n",
       "      <th>short_term_deposit</th>\n",
       "      <th>loans</th>\n",
       "      <th>mortgage</th>\n",
       "      <th>funds</th>\n",
       "      <th>securities</th>\n",
       "      <th>long_term_deposit</th>\n",
       "      <th>em_account_pp</th>\n",
       "      <th>credit_card</th>\n",
       "      <th>...</th>\n",
       "      <th>channel_KFA</th>\n",
       "      <th>country_BE</th>\n",
       "      <th>country_BR</th>\n",
       "      <th>country_CH</th>\n",
       "      <th>country_DE</th>\n",
       "      <th>country_ES</th>\n",
       "      <th>country_FR</th>\n",
       "      <th>country_GB</th>\n",
       "      <th>country_Other</th>\n",
       "      <th>country_US</th>\n",
       "    </tr>\n",
       "  </thead>\n",
       "  <tbody>\n",
       "    <tr>\n",
       "      <th>2</th>\n",
       "      <td>2018-01-28</td>\n",
       "      <td>17457</td>\n",
       "      <td>0.00</td>\n",
       "      <td>0.00</td>\n",
       "      <td>0.00</td>\n",
       "      <td>0.00</td>\n",
       "      <td>0.00</td>\n",
       "      <td>1.00</td>\n",
       "      <td>0.00</td>\n",
       "      <td>0.00</td>\n",
       "      <td>...</td>\n",
       "      <td>0</td>\n",
       "      <td>0</td>\n",
       "      <td>0</td>\n",
       "      <td>0</td>\n",
       "      <td>0</td>\n",
       "      <td>1</td>\n",
       "      <td>0</td>\n",
       "      <td>0</td>\n",
       "      <td>0</td>\n",
       "      <td>0</td>\n",
       "    </tr>\n",
       "    <tr>\n",
       "      <th>3</th>\n",
       "      <td>2018-01-28</td>\n",
       "      <td>17799</td>\n",
       "      <td>0.00</td>\n",
       "      <td>0.00</td>\n",
       "      <td>0.00</td>\n",
       "      <td>0.00</td>\n",
       "      <td>0.00</td>\n",
       "      <td>0.00</td>\n",
       "      <td>0.00</td>\n",
       "      <td>0.00</td>\n",
       "      <td>...</td>\n",
       "      <td>0</td>\n",
       "      <td>0</td>\n",
       "      <td>0</td>\n",
       "      <td>0</td>\n",
       "      <td>0</td>\n",
       "      <td>1</td>\n",
       "      <td>0</td>\n",
       "      <td>0</td>\n",
       "      <td>0</td>\n",
       "      <td>0</td>\n",
       "    </tr>\n",
       "    <tr>\n",
       "      <th>4</th>\n",
       "      <td>2018-01-28</td>\n",
       "      <td>17970</td>\n",
       "      <td>0.00</td>\n",
       "      <td>0.00</td>\n",
       "      <td>0.00</td>\n",
       "      <td>0.00</td>\n",
       "      <td>0.00</td>\n",
       "      <td>0.00</td>\n",
       "      <td>0.00</td>\n",
       "      <td>0.00</td>\n",
       "      <td>...</td>\n",
       "      <td>0</td>\n",
       "      <td>0</td>\n",
       "      <td>0</td>\n",
       "      <td>0</td>\n",
       "      <td>0</td>\n",
       "      <td>1</td>\n",
       "      <td>0</td>\n",
       "      <td>0</td>\n",
       "      <td>0</td>\n",
       "      <td>0</td>\n",
       "    </tr>\n",
       "    <tr>\n",
       "      <th>7</th>\n",
       "      <td>2018-01-28</td>\n",
       "      <td>18704</td>\n",
       "      <td>0.00</td>\n",
       "      <td>0.00</td>\n",
       "      <td>0.00</td>\n",
       "      <td>0.00</td>\n",
       "      <td>0.00</td>\n",
       "      <td>0.00</td>\n",
       "      <td>0.00</td>\n",
       "      <td>0.00</td>\n",
       "      <td>...</td>\n",
       "      <td>0</td>\n",
       "      <td>0</td>\n",
       "      <td>0</td>\n",
       "      <td>0</td>\n",
       "      <td>0</td>\n",
       "      <td>1</td>\n",
       "      <td>0</td>\n",
       "      <td>0</td>\n",
       "      <td>0</td>\n",
       "      <td>0</td>\n",
       "    </tr>\n",
       "    <tr>\n",
       "      <th>8</th>\n",
       "      <td>2018-01-28</td>\n",
       "      <td>19021</td>\n",
       "      <td>0.00</td>\n",
       "      <td>0.00</td>\n",
       "      <td>0.00</td>\n",
       "      <td>0.00</td>\n",
       "      <td>0.00</td>\n",
       "      <td>0.00</td>\n",
       "      <td>0.00</td>\n",
       "      <td>1.00</td>\n",
       "      <td>...</td>\n",
       "      <td>0</td>\n",
       "      <td>0</td>\n",
       "      <td>0</td>\n",
       "      <td>0</td>\n",
       "      <td>0</td>\n",
       "      <td>1</td>\n",
       "      <td>0</td>\n",
       "      <td>0</td>\n",
       "      <td>0</td>\n",
       "      <td>0</td>\n",
       "    </tr>\n",
       "    <tr>\n",
       "      <th>...</th>\n",
       "      <td>...</td>\n",
       "      <td>...</td>\n",
       "      <td>...</td>\n",
       "      <td>...</td>\n",
       "      <td>...</td>\n",
       "      <td>...</td>\n",
       "      <td>...</td>\n",
       "      <td>...</td>\n",
       "      <td>...</td>\n",
       "      <td>...</td>\n",
       "      <td>...</td>\n",
       "      <td>...</td>\n",
       "      <td>...</td>\n",
       "      <td>...</td>\n",
       "      <td>...</td>\n",
       "      <td>...</td>\n",
       "      <td>...</td>\n",
       "      <td>...</td>\n",
       "      <td>...</td>\n",
       "      <td>...</td>\n",
       "      <td>...</td>\n",
       "    </tr>\n",
       "    <tr>\n",
       "      <th>5968579</th>\n",
       "      <td>2019-06-28</td>\n",
       "      <td>1553456</td>\n",
       "      <td>-999.00</td>\n",
       "      <td>-999.00</td>\n",
       "      <td>-999.00</td>\n",
       "      <td>-999.00</td>\n",
       "      <td>-999.00</td>\n",
       "      <td>-999.00</td>\n",
       "      <td>-999.00</td>\n",
       "      <td>-999.00</td>\n",
       "      <td>...</td>\n",
       "      <td>0</td>\n",
       "      <td>0</td>\n",
       "      <td>0</td>\n",
       "      <td>0</td>\n",
       "      <td>0</td>\n",
       "      <td>0</td>\n",
       "      <td>0</td>\n",
       "      <td>0</td>\n",
       "      <td>1</td>\n",
       "      <td>0</td>\n",
       "    </tr>\n",
       "    <tr>\n",
       "      <th>5968580</th>\n",
       "      <td>2019-06-28</td>\n",
       "      <td>1553541</td>\n",
       "      <td>-999.00</td>\n",
       "      <td>-999.00</td>\n",
       "      <td>-999.00</td>\n",
       "      <td>-999.00</td>\n",
       "      <td>-999.00</td>\n",
       "      <td>-999.00</td>\n",
       "      <td>-999.00</td>\n",
       "      <td>-999.00</td>\n",
       "      <td>...</td>\n",
       "      <td>0</td>\n",
       "      <td>0</td>\n",
       "      <td>0</td>\n",
       "      <td>0</td>\n",
       "      <td>0</td>\n",
       "      <td>0</td>\n",
       "      <td>0</td>\n",
       "      <td>0</td>\n",
       "      <td>1</td>\n",
       "      <td>0</td>\n",
       "    </tr>\n",
       "    <tr>\n",
       "      <th>5968581</th>\n",
       "      <td>2019-06-28</td>\n",
       "      <td>1553559</td>\n",
       "      <td>-999.00</td>\n",
       "      <td>-999.00</td>\n",
       "      <td>-999.00</td>\n",
       "      <td>-999.00</td>\n",
       "      <td>-999.00</td>\n",
       "      <td>-999.00</td>\n",
       "      <td>-999.00</td>\n",
       "      <td>-999.00</td>\n",
       "      <td>...</td>\n",
       "      <td>0</td>\n",
       "      <td>0</td>\n",
       "      <td>0</td>\n",
       "      <td>0</td>\n",
       "      <td>0</td>\n",
       "      <td>0</td>\n",
       "      <td>0</td>\n",
       "      <td>0</td>\n",
       "      <td>1</td>\n",
       "      <td>0</td>\n",
       "    </tr>\n",
       "    <tr>\n",
       "      <th>5968582</th>\n",
       "      <td>2019-06-28</td>\n",
       "      <td>1553565</td>\n",
       "      <td>-999.00</td>\n",
       "      <td>-999.00</td>\n",
       "      <td>-999.00</td>\n",
       "      <td>-999.00</td>\n",
       "      <td>-999.00</td>\n",
       "      <td>-999.00</td>\n",
       "      <td>-999.00</td>\n",
       "      <td>-999.00</td>\n",
       "      <td>...</td>\n",
       "      <td>0</td>\n",
       "      <td>0</td>\n",
       "      <td>0</td>\n",
       "      <td>0</td>\n",
       "      <td>0</td>\n",
       "      <td>0</td>\n",
       "      <td>0</td>\n",
       "      <td>0</td>\n",
       "      <td>1</td>\n",
       "      <td>0</td>\n",
       "    </tr>\n",
       "    <tr>\n",
       "      <th>5968583</th>\n",
       "      <td>2019-06-28</td>\n",
       "      <td>1553571</td>\n",
       "      <td>-999.00</td>\n",
       "      <td>-999.00</td>\n",
       "      <td>-999.00</td>\n",
       "      <td>-999.00</td>\n",
       "      <td>-999.00</td>\n",
       "      <td>-999.00</td>\n",
       "      <td>-999.00</td>\n",
       "      <td>-999.00</td>\n",
       "      <td>...</td>\n",
       "      <td>0</td>\n",
       "      <td>0</td>\n",
       "      <td>0</td>\n",
       "      <td>0</td>\n",
       "      <td>0</td>\n",
       "      <td>0</td>\n",
       "      <td>0</td>\n",
       "      <td>0</td>\n",
       "      <td>1</td>\n",
       "      <td>0</td>\n",
       "    </tr>\n",
       "  </tbody>\n",
       "</table>\n",
       "<p>5063970 rows × 267 columns</p>\n",
       "</div>"
      ],
      "text/plain": [
       "        pk_partition   pk_cid  short_term_deposit   loans  mortgage   funds  \\\n",
       "2         2018-01-28    17457                0.00    0.00      0.00    0.00   \n",
       "3         2018-01-28    17799                0.00    0.00      0.00    0.00   \n",
       "4         2018-01-28    17970                0.00    0.00      0.00    0.00   \n",
       "7         2018-01-28    18704                0.00    0.00      0.00    0.00   \n",
       "8         2018-01-28    19021                0.00    0.00      0.00    0.00   \n",
       "...              ...      ...                 ...     ...       ...     ...   \n",
       "5968579   2019-06-28  1553456             -999.00 -999.00   -999.00 -999.00   \n",
       "5968580   2019-06-28  1553541             -999.00 -999.00   -999.00 -999.00   \n",
       "5968581   2019-06-28  1553559             -999.00 -999.00   -999.00 -999.00   \n",
       "5968582   2019-06-28  1553565             -999.00 -999.00   -999.00 -999.00   \n",
       "5968583   2019-06-28  1553571             -999.00 -999.00   -999.00 -999.00   \n",
       "\n",
       "         securities  long_term_deposit  em_account_pp  credit_card  ...  \\\n",
       "2              0.00               1.00           0.00         0.00  ...   \n",
       "3              0.00               0.00           0.00         0.00  ...   \n",
       "4              0.00               0.00           0.00         0.00  ...   \n",
       "7              0.00               0.00           0.00         0.00  ...   \n",
       "8              0.00               0.00           0.00         1.00  ...   \n",
       "...             ...                ...            ...          ...  ...   \n",
       "5968579     -999.00            -999.00        -999.00      -999.00  ...   \n",
       "5968580     -999.00            -999.00        -999.00      -999.00  ...   \n",
       "5968581     -999.00            -999.00        -999.00      -999.00  ...   \n",
       "5968582     -999.00            -999.00        -999.00      -999.00  ...   \n",
       "5968583     -999.00            -999.00        -999.00      -999.00  ...   \n",
       "\n",
       "         channel_KFA  country_BE  country_BR  country_CH  country_DE  \\\n",
       "2                  0           0           0           0           0   \n",
       "3                  0           0           0           0           0   \n",
       "4                  0           0           0           0           0   \n",
       "7                  0           0           0           0           0   \n",
       "8                  0           0           0           0           0   \n",
       "...              ...         ...         ...         ...         ...   \n",
       "5968579            0           0           0           0           0   \n",
       "5968580            0           0           0           0           0   \n",
       "5968581            0           0           0           0           0   \n",
       "5968582            0           0           0           0           0   \n",
       "5968583            0           0           0           0           0   \n",
       "\n",
       "         country_ES  country_FR country_GB country_Other  country_US  \n",
       "2                 1           0          0             0           0  \n",
       "3                 1           0          0             0           0  \n",
       "4                 1           0          0             0           0  \n",
       "7                 1           0          0             0           0  \n",
       "8                 1           0          0             0           0  \n",
       "...             ...         ...        ...           ...         ...  \n",
       "5968579           0           0          0             1           0  \n",
       "5968580           0           0          0             1           0  \n",
       "5968581           0           0          0             1           0  \n",
       "5968582           0           0          0             1           0  \n",
       "5968583           0           0          0             1           0  \n",
       "\n",
       "[5063970 rows x 267 columns]"
      ]
     },
     "execution_count": 79,
     "metadata": {},
     "output_type": "execute_result"
    }
   ],
   "source": [
    "full_df"
   ]
  },
  {
   "cell_type": "code",
   "execution_count": 80,
   "metadata": {
    "ExecuteTime": {
     "end_time": "2020-09-09T08:38:36.537975Z",
     "start_time": "2020-09-09T08:38:25.783877Z"
    }
   },
   "outputs": [
    {
     "name": "stdout",
     "output_type": "stream",
     "text": [
      "Mem. usage decreased to 2810.70 Mb (0.0% reduction)\n"
     ]
    }
   ],
   "source": [
    "reduce_mem_usage(full_df, verbose = True)"
   ]
  },
  {
   "cell_type": "code",
   "execution_count": 81,
   "metadata": {
    "ExecuteTime": {
     "end_time": "2020-09-09T08:40:12.298451Z",
     "start_time": "2020-09-09T08:39:00.802686Z"
    }
   },
   "outputs": [],
   "source": [
    "full_df.to_pickle('../Datos-Easymoney/fulldf_base_FEOK_VII.pkl',compression='zip')"
   ]
  },
  {
   "cell_type": "markdown",
   "metadata": {},
   "source": [
    "# Entrenar modelo"
   ]
  },
  {
   "cell_type": "code",
   "execution_count": 82,
   "metadata": {
    "ExecuteTime": {
     "end_time": "2020-09-09T08:40:43.651043Z",
     "start_time": "2020-09-09T08:40:43.548970Z"
    }
   },
   "outputs": [],
   "source": [
    "# split the data into train, validation and test dataset\n",
    "train_index = sorted(list(full_df[\"pk_partition\"].unique()))[5:-3]\n",
    "\n",
    "valida_index = [sorted(list(full_df[\"pk_partition\"].unique()))[-3]]\n",
    "\n",
    "test_index = [sorted(list(full_df[\"pk_partition\"].unique()))[-2]]"
   ]
  },
  {
   "cell_type": "code",
   "execution_count": 83,
   "metadata": {
    "ExecuteTime": {
     "end_time": "2020-09-09T08:41:21.908113Z",
     "start_time": "2020-09-09T08:41:21.901165Z"
    }
   },
   "outputs": [],
   "source": [
    "variables_borrar=['pk_cid',\n",
    "'pk_partition',\n",
    "'short_term_deposit',\n",
    "'loans',\n",
    "'mortgage',\n",
    "'funds',\n",
    "'securities',\n",
    "'long_term_deposit',\n",
    "'em_account_pp',\n",
    "'credit_card',\n",
    "'payroll',\n",
    "'pension_plan',\n",
    "'payroll_account',\n",
    "'emc_account',\n",
    "'debit_card',\n",
    "'em_account_p',\n",
    "'em_acount',\n",
    "'entry_date',\n",
    "'entry_channel',\n",
    "'active_customer',\n",
    "'segment',\n",
    "'country_id',\n",
    "'region_code',\n",
    "'gender',\n",
    "#'age',\n",
    "'deceased',\n",
    "#'salary',\n",
    "'dif_debit_card',\n",
    "'dif_em_account_p',\n",
    "'dif_em_account_pp',\n",
    "'dif_em_acount',\n",
    "'dif_emc_account',\n",
    "'dif_payroll',\n",
    "'dif_payroll_account',\n",
    "'dif_funds',\n",
    "'dif_long_term_deposit',\n",
    "'dif_mortgage',\n",
    "'dif_pension_plan',\n",
    "'dif_securities',\n",
    "'dif_short_term_deposit',\n",
    "'dif_loans',\n",
    "'dif_credit_card',\n",
    "'mesesAlta',\n",
    "'isNewClient',\n",
    "'isActive',\n",
    "'Provincia',\n",
    "'SalaryQtil',\n",
    "'totalAssets',\n",
    "'totalCuentas',\n",
    "'totalAhorro',\n",
    "'totalFinanciacion',\n",
    "'totalIngresos',\n",
    "'totalBeneficio',\n",
    "'hayAlta',\n",
    "'diasDesdeUltimaAlta',\n",
    "'diasDesdeUltimaAltaInt',\n",
    "'hayBaja',\n",
    "'diasDesdeUltimaBaja',\n",
    "'diasDesdeUltimaBajaInt',\n",
    "'dif_cuentaSimple',\n",
    "'dif_ahorroInversion',                       \n",
    "'dif_financiacion']\n"
   ]
  },
  {
   "cell_type": "code",
   "execution_count": 107,
   "metadata": {
    "ExecuteTime": {
     "end_time": "2020-09-04T16:31:34.633814Z",
     "start_time": "2020-09-04T16:31:34.629817Z"
    }
   },
   "outputs": [],
   "source": [
    "del X_train,Y_train, X_valida, Y_valida,X_test,Y_test"
   ]
  },
  {
   "cell_type": "code",
   "execution_count": 108,
   "metadata": {
    "ExecuteTime": {
     "end_time": "2020-09-04T16:31:38.139199Z",
     "start_time": "2020-09-04T16:31:36.857958Z"
    }
   },
   "outputs": [
    {
     "data": {
      "text/plain": [
       "52476"
      ]
     },
     "execution_count": 108,
     "metadata": {},
     "output_type": "execute_result"
    }
   ],
   "source": [
    "gc.collect()"
   ]
  },
  {
   "cell_type": "code",
   "execution_count": 84,
   "metadata": {
    "ExecuteTime": {
     "end_time": "2020-09-09T08:41:41.111318Z",
     "start_time": "2020-09-09T08:41:27.411252Z"
    }
   },
   "outputs": [],
   "source": [
    "X_train = full_df[full_df[\"pk_partition\"].isin(train_index)].drop(variables_borrar, axis=1)\n",
    "Y_train = full_df[full_df[\"pk_partition\"].isin(train_index)]['dif_cuentaSimple']\n",
    "\n",
    "X_valida = full_df[full_df[\"pk_partition\"].isin(valida_index)].drop(variables_borrar, axis=1)\n",
    "Y_valida = full_df[full_df[\"pk_partition\"].isin(valida_index)]['dif_cuentaSimple']\n",
    "\n",
    "X_test = full_df[full_df[\"pk_partition\"].isin(test_index)].drop(variables_borrar, axis = 1)\n",
    "Y_test = full_df[full_df[\"pk_partition\"].isin(test_index)]['dif_cuentaSimple']\n",
    "\n",
    "\n"
   ]
  },
  {
   "cell_type": "code",
   "execution_count": 85,
   "metadata": {
    "ExecuteTime": {
     "end_time": "2020-09-09T08:41:42.869550Z",
     "start_time": "2020-09-09T08:41:42.865553Z"
    }
   },
   "outputs": [],
   "source": [
    "dt = DecisionTreeClassifier(max_depth=6,random_state=42)\n",
    "    "
   ]
  },
  {
   "cell_type": "code",
   "execution_count": 86,
   "metadata": {
    "ExecuteTime": {
     "end_time": "2020-09-09T08:42:37.933248Z",
     "start_time": "2020-09-09T08:41:45.548146Z"
    }
   },
   "outputs": [
    {
     "data": {
      "text/plain": [
       "DecisionTreeClassifier(ccp_alpha=0.0, class_weight=None, criterion='gini',\n",
       "                       max_depth=6, max_features=None, max_leaf_nodes=None,\n",
       "                       min_impurity_decrease=0.0, min_impurity_split=None,\n",
       "                       min_samples_leaf=1, min_samples_split=2,\n",
       "                       min_weight_fraction_leaf=0.0, presort='deprecated',\n",
       "                       random_state=42, splitter='best')"
      ]
     },
     "execution_count": 86,
     "metadata": {},
     "output_type": "execute_result"
    }
   ],
   "source": [
    "dt.fit(X_train,Y_train)\n",
    "    "
   ]
  },
  {
   "cell_type": "code",
   "execution_count": 87,
   "metadata": {
    "ExecuteTime": {
     "end_time": "2020-09-09T08:42:57.616315Z",
     "start_time": "2020-09-09T08:42:54.220242Z"
    }
   },
   "outputs": [
    {
     "name": "stdout",
     "output_type": "stream",
     "text": [
      "Resultados para: Train: 0.9667469469944224 - Test: 0.9707773036348031\n"
     ]
    }
   ],
   "source": [
    "score_train=dt.score(X_train, Y_train)\n",
    "score_test=dt.score(X_valida, Y_valida)\n",
    "print('Resultados para: Train: {} - Test: {}'.format(score_train,score_test))\n"
   ]
  },
  {
   "cell_type": "code",
   "execution_count": 12,
   "metadata": {
    "ExecuteTime": {
     "end_time": "2020-09-08T09:17:37.616066Z",
     "start_time": "2020-09-08T09:17:36.095856Z"
    },
    "scrolled": false
   },
   "outputs": [
    {
     "data": {
      "image/svg+xml": [
       "<?xml version=\"1.0\" encoding=\"UTF-8\" standalone=\"no\"?>\r\n",
       "<!DOCTYPE svg PUBLIC \"-//W3C//DTD SVG 1.1//EN\"\r\n",
       " \"http://www.w3.org/Graphics/SVG/1.1/DTD/svg11.dtd\">\r\n",
       "<!-- Generated by graphviz version 2.38.0 (20140413.2041)\r\n",
       " -->\r\n",
       "<!-- Title: Tree Pages: 1 -->\r\n",
       "<svg width=\"1731pt\" height=\"3290pt\"\r\n",
       " viewBox=\"0.00 0.00 1731.00 3290.00\" xmlns=\"http://www.w3.org/2000/svg\" xmlns:xlink=\"http://www.w3.org/1999/xlink\">\r\n",
       "<g id=\"graph0\" class=\"graph\" transform=\"scale(1 1) rotate(0) translate(4 3286)\">\r\n",
       "<title>Tree</title>\r\n",
       "<polygon fill=\"white\" stroke=\"none\" points=\"-4,4 -4,-3286 1727,-3286 1727,4 -4,4\"/>\r\n",
       "<!-- 0 -->\r\n",
       "<g id=\"node1\" class=\"node\"><title>0</title>\r\n",
       "<path fill=\"#e68640\" stroke=\"black\" d=\"M158,-2529.5C158,-2529.5 12,-2529.5 12,-2529.5 6,-2529.5 0,-2523.5 0,-2517.5 0,-2517.5 0,-2458.5 0,-2458.5 0,-2452.5 6,-2446.5 12,-2446.5 12,-2446.5 158,-2446.5 158,-2446.5 164,-2446.5 170,-2452.5 170,-2458.5 170,-2458.5 170,-2517.5 170,-2517.5 170,-2523.5 164,-2529.5 158,-2529.5\"/>\r\n",
       "<text text-anchor=\"middle\" x=\"85\" y=\"-2514.3\" font-family=\"Helvetica,sans-Serif\" font-size=\"14.00\">isActive_shift_1 &lt;= 0.5</text>\r\n",
       "<text text-anchor=\"middle\" x=\"85\" y=\"-2499.3\" font-family=\"Helvetica,sans-Serif\" font-size=\"14.00\">gini = 0.0669</text>\r\n",
       "<text text-anchor=\"middle\" x=\"85\" y=\"-2484.3\" font-family=\"Helvetica,sans-Serif\" font-size=\"14.00\">samples = 100.0%</text>\r\n",
       "<text text-anchor=\"middle\" x=\"85\" y=\"-2469.3\" font-family=\"Helvetica,sans-Serif\" font-size=\"14.00\">value = [0.9653, 0.0347]</text>\r\n",
       "<text text-anchor=\"middle\" x=\"85\" y=\"-2454.3\" font-family=\"Helvetica,sans-Serif\" font-size=\"14.00\">class = No alta</text>\r\n",
       "</g>\r\n",
       "<!-- 1 -->\r\n",
       "<g id=\"node2\" class=\"node\"><title>1</title>\r\n",
       "<path fill=\"#9acdf2\" stroke=\"black\" d=\"M412,-2963.5C412,-2963.5 218,-2963.5 218,-2963.5 212,-2963.5 206,-2957.5 206,-2951.5 206,-2951.5 206,-2892.5 206,-2892.5 206,-2886.5 212,-2880.5 218,-2880.5 218,-2880.5 412,-2880.5 412,-2880.5 418,-2880.5 424,-2886.5 424,-2892.5 424,-2892.5 424,-2951.5 424,-2951.5 424,-2957.5 418,-2963.5 412,-2963.5\"/>\r\n",
       "<text text-anchor=\"middle\" x=\"315\" y=\"-2948.3\" font-family=\"Helvetica,sans-Serif\" font-size=\"14.00\">dif_mortgage_shift_1 &lt;= &#45;499.5</text>\r\n",
       "<text text-anchor=\"middle\" x=\"315\" y=\"-2933.3\" font-family=\"Helvetica,sans-Serif\" font-size=\"14.00\">gini = 0.4414</text>\r\n",
       "<text text-anchor=\"middle\" x=\"315\" y=\"-2918.3\" font-family=\"Helvetica,sans-Serif\" font-size=\"14.00\">samples = 4.4%</text>\r\n",
       "<text text-anchor=\"middle\" x=\"315\" y=\"-2903.3\" font-family=\"Helvetica,sans-Serif\" font-size=\"14.00\">value = [0.3289, 0.6711]</text>\r\n",
       "<text text-anchor=\"middle\" x=\"315\" y=\"-2888.3\" font-family=\"Helvetica,sans-Serif\" font-size=\"14.00\">class = Alta</text>\r\n",
       "</g>\r\n",
       "<!-- 0&#45;&gt;1 -->\r\n",
       "<g id=\"edge1\" class=\"edge\"><title>0&#45;&gt;1</title>\r\n",
       "<path fill=\"none\" stroke=\"black\" d=\"M107.862,-2529.61C149.898,-2609.63 241.859,-2784.68 287.383,-2871.33\"/>\r\n",
       "<polygon fill=\"black\" stroke=\"black\" points=\"284.288,-2872.97 292.037,-2880.19 290.485,-2869.71 284.288,-2872.97\"/>\r\n",
       "<text text-anchor=\"middle\" x=\"268.166\" y=\"-2869.07\" font-family=\"Helvetica,sans-Serif\" font-size=\"14.00\">True</text>\r\n",
       "</g>\r\n",
       "<!-- 20 -->\r\n",
       "<g id=\"node21\" class=\"node\"><title>20</title>\r\n",
       "<path fill=\"#e5823a\" stroke=\"black\" d=\"M394,-2096.5C394,-2096.5 236,-2096.5 236,-2096.5 230,-2096.5 224,-2090.5 224,-2084.5 224,-2084.5 224,-2025.5 224,-2025.5 224,-2019.5 230,-2013.5 236,-2013.5 236,-2013.5 394,-2013.5 394,-2013.5 400,-2013.5 406,-2019.5 406,-2025.5 406,-2025.5 406,-2084.5 406,-2084.5 406,-2090.5 400,-2096.5 394,-2096.5\"/>\r\n",
       "<text text-anchor=\"middle\" x=\"315\" y=\"-2081.3\" font-family=\"Helvetica,sans-Serif\" font-size=\"14.00\">em_acount_shift_1 &lt;= 0.5</text>\r\n",
       "<text text-anchor=\"middle\" x=\"315\" y=\"-2066.3\" font-family=\"Helvetica,sans-Serif\" font-size=\"14.00\">gini = 0.0108</text>\r\n",
       "<text text-anchor=\"middle\" x=\"315\" y=\"-2051.3\" font-family=\"Helvetica,sans-Serif\" font-size=\"14.00\">samples = 95.6%</text>\r\n",
       "<text text-anchor=\"middle\" x=\"315\" y=\"-2036.3\" font-family=\"Helvetica,sans-Serif\" font-size=\"14.00\">value = [0.9946, 0.0054]</text>\r\n",
       "<text text-anchor=\"middle\" x=\"315\" y=\"-2021.3\" font-family=\"Helvetica,sans-Serif\" font-size=\"14.00\">class = No alta</text>\r\n",
       "</g>\r\n",
       "<!-- 0&#45;&gt;20 -->\r\n",
       "<g id=\"edge20\" class=\"edge\"><title>0&#45;&gt;20</title>\r\n",
       "<path fill=\"none\" stroke=\"black\" d=\"M107.862,-2446.48C149.856,-2366.73 241.673,-2192.36 287.245,-2105.81\"/>\r\n",
       "<polygon fill=\"black\" stroke=\"black\" points=\"290.475,-2107.19 292.037,-2096.71 284.281,-2103.93 290.475,-2107.19\"/>\r\n",
       "<text text-anchor=\"middle\" x=\"268.159\" y=\"-2100.42\" font-family=\"Helvetica,sans-Serif\" font-size=\"14.00\">False</text>\r\n",
       "</g>\r\n",
       "<!-- 2 -->\r\n",
       "<g id=\"node3\" class=\"node\"><title>2</title>\r\n",
       "<path fill=\"#a0d0f3\" stroke=\"black\" d=\"M641,-3050C641,-3050 495,-3050 495,-3050 489,-3050 483,-3044 483,-3038 483,-3038 483,-2994 483,-2994 483,-2988 489,-2982 495,-2982 495,-2982 641,-2982 641,-2982 647,-2982 653,-2988 653,-2994 653,-2994 653,-3038 653,-3038 653,-3044 647,-3050 641,-3050\"/>\r\n",
       "<text text-anchor=\"middle\" x=\"568\" y=\"-3034.8\" font-family=\"Helvetica,sans-Serif\" font-size=\"14.00\">gini = 0.4504</text>\r\n",
       "<text text-anchor=\"middle\" x=\"568\" y=\"-3019.8\" font-family=\"Helvetica,sans-Serif\" font-size=\"14.00\">samples = 4.1%</text>\r\n",
       "<text text-anchor=\"middle\" x=\"568\" y=\"-3004.8\" font-family=\"Helvetica,sans-Serif\" font-size=\"14.00\">value = [0.3426, 0.6574]</text>\r\n",
       "<text text-anchor=\"middle\" x=\"568\" y=\"-2989.8\" font-family=\"Helvetica,sans-Serif\" font-size=\"14.00\">class = Alta</text>\r\n",
       "</g>\r\n",
       "<!-- 1&#45;&gt;2 -->\r\n",
       "<g id=\"edge2\" class=\"edge\"><title>1&#45;&gt;2</title>\r\n",
       "<path fill=\"none\" stroke=\"black\" d=\"M424.268,-2962.55C440.53,-2968.64 457.185,-2974.87 473.113,-2980.84\"/>\r\n",
       "<polygon fill=\"black\" stroke=\"black\" points=\"472.335,-2984.29 482.927,-2984.51 474.79,-2977.73 472.335,-2984.29\"/>\r\n",
       "</g>\r\n",
       "<!-- 3 -->\r\n",
       "<g id=\"node4\" class=\"node\"><title>3</title>\r\n",
       "<path fill=\"#5dafea\" stroke=\"black\" d=\"M664,-2963.5C664,-2963.5 472,-2963.5 472,-2963.5 466,-2963.5 460,-2957.5 460,-2951.5 460,-2951.5 460,-2892.5 460,-2892.5 460,-2886.5 466,-2880.5 472,-2880.5 472,-2880.5 664,-2880.5 664,-2880.5 670,-2880.5 676,-2886.5 676,-2892.5 676,-2892.5 676,-2951.5 676,-2951.5 676,-2957.5 670,-2963.5 664,-2963.5\"/>\r\n",
       "<text text-anchor=\"middle\" x=\"568\" y=\"-2948.3\" font-family=\"Helvetica,sans-Serif\" font-size=\"14.00\">active_customer_shift_1 &lt;= 0.5</text>\r\n",
       "<text text-anchor=\"middle\" x=\"568\" y=\"-2933.3\" font-family=\"Helvetica,sans-Serif\" font-size=\"14.00\">gini = 0.2626</text>\r\n",
       "<text text-anchor=\"middle\" x=\"568\" y=\"-2918.3\" font-family=\"Helvetica,sans-Serif\" font-size=\"14.00\">samples = 0.3%</text>\r\n",
       "<text text-anchor=\"middle\" x=\"568\" y=\"-2903.3\" font-family=\"Helvetica,sans-Serif\" font-size=\"14.00\">value = [0.1555, 0.8445]</text>\r\n",
       "<text text-anchor=\"middle\" x=\"568\" y=\"-2888.3\" font-family=\"Helvetica,sans-Serif\" font-size=\"14.00\">class = Alta</text>\r\n",
       "</g>\r\n",
       "<!-- 1&#45;&gt;3 -->\r\n",
       "<g id=\"edge3\" class=\"edge\"><title>1&#45;&gt;3</title>\r\n",
       "<path fill=\"none\" stroke=\"black\" d=\"M424.268,-2922C432.663,-2922 441.163,-2922 449.614,-2922\"/>\r\n",
       "<polygon fill=\"black\" stroke=\"black\" points=\"449.887,-2925.5 459.887,-2922 449.887,-2918.5 449.887,-2925.5\"/>\r\n",
       "</g>\r\n",
       "<!-- 4 -->\r\n",
       "<g id=\"node5\" class=\"node\"><title>4</title>\r\n",
       "<path fill=\"#55abe9\" stroke=\"black\" d=\"M943.5,-3195.5C943.5,-3195.5 740.5,-3195.5 740.5,-3195.5 734.5,-3195.5 728.5,-3189.5 728.5,-3183.5 728.5,-3183.5 728.5,-3124.5 728.5,-3124.5 728.5,-3118.5 734.5,-3112.5 740.5,-3112.5 740.5,-3112.5 943.5,-3112.5 943.5,-3112.5 949.5,-3112.5 955.5,-3118.5 955.5,-3124.5 955.5,-3124.5 955.5,-3183.5 955.5,-3183.5 955.5,-3189.5 949.5,-3195.5 943.5,-3195.5\"/>\r\n",
       "<text text-anchor=\"middle\" x=\"842\" y=\"-3180.3\" font-family=\"Helvetica,sans-Serif\" font-size=\"14.00\">em_account_p_shift_2 &lt;= &#45;499.5</text>\r\n",
       "<text text-anchor=\"middle\" x=\"842\" y=\"-3165.3\" font-family=\"Helvetica,sans-Serif\" font-size=\"14.00\">gini = 0.2157</text>\r\n",
       "<text text-anchor=\"middle\" x=\"842\" y=\"-3150.3\" font-family=\"Helvetica,sans-Serif\" font-size=\"14.00\">samples = 0.3%</text>\r\n",
       "<text text-anchor=\"middle\" x=\"842\" y=\"-3135.3\" font-family=\"Helvetica,sans-Serif\" font-size=\"14.00\">value = [0.123, 0.877]</text>\r\n",
       "<text text-anchor=\"middle\" x=\"842\" y=\"-3120.3\" font-family=\"Helvetica,sans-Serif\" font-size=\"14.00\">class = Alta</text>\r\n",
       "</g>\r\n",
       "<!-- 3&#45;&gt;4 -->\r\n",
       "<g id=\"edge4\" class=\"edge\"><title>3&#45;&gt;4</title>\r\n",
       "<path fill=\"none\" stroke=\"black\" d=\"M662.237,-2963.64C667,-2966.63 671.62,-2969.75 676,-2973 726.376,-3010.37 773.48,-3064.77 804.357,-3104.16\"/>\r\n",
       "<polygon fill=\"black\" stroke=\"black\" points=\"801.8,-3106.58 810.695,-3112.33 807.33,-3102.28 801.8,-3106.58\"/>\r\n",
       "</g>\r\n",
       "<!-- 9 -->\r\n",
       "<g id=\"node10\" class=\"node\"><title>9</title>\r\n",
       "<path fill=\"#f1bd98\" stroke=\"black\" d=\"M921,-2963.5C921,-2963.5 763,-2963.5 763,-2963.5 757,-2963.5 751,-2957.5 751,-2951.5 751,-2951.5 751,-2892.5 751,-2892.5 751,-2886.5 757,-2880.5 763,-2880.5 763,-2880.5 921,-2880.5 921,-2880.5 927,-2880.5 933,-2886.5 933,-2892.5 933,-2892.5 933,-2951.5 933,-2951.5 933,-2957.5 927,-2963.5 921,-2963.5\"/>\r\n",
       "<text text-anchor=\"middle\" x=\"842\" y=\"-2948.3\" font-family=\"Helvetica,sans-Serif\" font-size=\"14.00\">em_acount_shift_2 &lt;= 0.5</text>\r\n",
       "<text text-anchor=\"middle\" x=\"842\" y=\"-2933.3\" font-family=\"Helvetica,sans-Serif\" font-size=\"14.00\">gini = 0.438</text>\r\n",
       "<text text-anchor=\"middle\" x=\"842\" y=\"-2918.3\" font-family=\"Helvetica,sans-Serif\" font-size=\"14.00\">samples = 0.0%</text>\r\n",
       "<text text-anchor=\"middle\" x=\"842\" y=\"-2903.3\" font-family=\"Helvetica,sans-Serif\" font-size=\"14.00\">value = [0.6761, 0.3239]</text>\r\n",
       "<text text-anchor=\"middle\" x=\"842\" y=\"-2888.3\" font-family=\"Helvetica,sans-Serif\" font-size=\"14.00\">class = No alta</text>\r\n",
       "</g>\r\n",
       "<!-- 3&#45;&gt;9 -->\r\n",
       "<g id=\"edge9\" class=\"edge\"><title>3&#45;&gt;9</title>\r\n",
       "<path fill=\"none\" stroke=\"black\" d=\"M676.111,-2922C697.319,-2922 719.509,-2922 740.488,-2922\"/>\r\n",
       "<polygon fill=\"black\" stroke=\"black\" points=\"740.68,-2925.5 750.68,-2922 740.68,-2918.5 740.68,-2925.5\"/>\r\n",
       "</g>\r\n",
       "<!-- 5 -->\r\n",
       "<g id=\"node6\" class=\"node\"><title>5</title>\r\n",
       "<path fill=\"#55abe9\" stroke=\"black\" d=\"M1198.5,-3282C1198.5,-3282 1052.5,-3282 1052.5,-3282 1046.5,-3282 1040.5,-3276 1040.5,-3270 1040.5,-3270 1040.5,-3226 1040.5,-3226 1040.5,-3220 1046.5,-3214 1052.5,-3214 1052.5,-3214 1198.5,-3214 1198.5,-3214 1204.5,-3214 1210.5,-3220 1210.5,-3226 1210.5,-3226 1210.5,-3270 1210.5,-3270 1210.5,-3276 1204.5,-3282 1198.5,-3282\"/>\r\n",
       "<text text-anchor=\"middle\" x=\"1125.5\" y=\"-3266.8\" font-family=\"Helvetica,sans-Serif\" font-size=\"14.00\">gini = 0.2161</text>\r\n",
       "<text text-anchor=\"middle\" x=\"1125.5\" y=\"-3251.8\" font-family=\"Helvetica,sans-Serif\" font-size=\"14.00\">samples = 0.3%</text>\r\n",
       "<text text-anchor=\"middle\" x=\"1125.5\" y=\"-3236.8\" font-family=\"Helvetica,sans-Serif\" font-size=\"14.00\">value = [0.1232, 0.8768]</text>\r\n",
       "<text text-anchor=\"middle\" x=\"1125.5\" y=\"-3221.8\" font-family=\"Helvetica,sans-Serif\" font-size=\"14.00\">class = Alta</text>\r\n",
       "</g>\r\n",
       "<!-- 4&#45;&gt;5 -->\r\n",
       "<g id=\"edge5\" class=\"edge\"><title>4&#45;&gt;5</title>\r\n",
       "<path fill=\"none\" stroke=\"black\" d=\"M955.875,-3191.69C980.611,-3199.95 1006.54,-3208.61 1030.45,-3216.59\"/>\r\n",
       "<polygon fill=\"black\" stroke=\"black\" points=\"1029.61,-3220.01 1040.21,-3219.85 1031.83,-3213.37 1029.61,-3220.01\"/>\r\n",
       "</g>\r\n",
       "<!-- 6 -->\r\n",
       "<g id=\"node7\" class=\"node\"><title>6</title>\r\n",
       "<path fill=\"#45a3e7\" stroke=\"black\" d=\"M1206.5,-3195.5C1206.5,-3195.5 1044.5,-3195.5 1044.5,-3195.5 1038.5,-3195.5 1032.5,-3189.5 1032.5,-3183.5 1032.5,-3183.5 1032.5,-3124.5 1032.5,-3124.5 1032.5,-3118.5 1038.5,-3112.5 1044.5,-3112.5 1044.5,-3112.5 1206.5,-3112.5 1206.5,-3112.5 1212.5,-3112.5 1218.5,-3118.5 1218.5,-3124.5 1218.5,-3124.5 1218.5,-3183.5 1218.5,-3183.5 1218.5,-3189.5 1212.5,-3195.5 1206.5,-3195.5\"/>\r\n",
       "<text text-anchor=\"middle\" x=\"1125.5\" y=\"-3180.3\" font-family=\"Helvetica,sans-Serif\" font-size=\"14.00\">isNewClient_shift_2 &lt;= 0.5</text>\r\n",
       "<text text-anchor=\"middle\" x=\"1125.5\" y=\"-3165.3\" font-family=\"Helvetica,sans-Serif\" font-size=\"14.00\">gini = 0.1107</text>\r\n",
       "<text text-anchor=\"middle\" x=\"1125.5\" y=\"-3150.3\" font-family=\"Helvetica,sans-Serif\" font-size=\"14.00\">samples = 0.0%</text>\r\n",
       "<text text-anchor=\"middle\" x=\"1125.5\" y=\"-3135.3\" font-family=\"Helvetica,sans-Serif\" font-size=\"14.00\">value = [0.0588, 0.9412]</text>\r\n",
       "<text text-anchor=\"middle\" x=\"1125.5\" y=\"-3120.3\" font-family=\"Helvetica,sans-Serif\" font-size=\"14.00\">class = Alta</text>\r\n",
       "</g>\r\n",
       "<!-- 4&#45;&gt;6 -->\r\n",
       "<g id=\"edge6\" class=\"edge\"><title>4&#45;&gt;6</title>\r\n",
       "<path fill=\"none\" stroke=\"black\" d=\"M955.875,-3154C977.795,-3154 1000.65,-3154 1022.21,-3154\"/>\r\n",
       "<polygon fill=\"black\" stroke=\"black\" points=\"1022.34,-3157.5 1032.34,-3154 1022.34,-3150.5 1022.34,-3157.5\"/>\r\n",
       "</g>\r\n",
       "<!-- 7 -->\r\n",
       "<g id=\"node8\" class=\"node\"><title>7</title>\r\n",
       "<path fill=\"#399de5\" stroke=\"black\" d=\"M1446.5,-3274C1446.5,-3274 1349.5,-3274 1349.5,-3274 1343.5,-3274 1337.5,-3268 1337.5,-3262 1337.5,-3262 1337.5,-3218 1337.5,-3218 1337.5,-3212 1343.5,-3206 1349.5,-3206 1349.5,-3206 1446.5,-3206 1446.5,-3206 1452.5,-3206 1458.5,-3212 1458.5,-3218 1458.5,-3218 1458.5,-3262 1458.5,-3262 1458.5,-3268 1452.5,-3274 1446.5,-3274\"/>\r\n",
       "<text text-anchor=\"middle\" x=\"1398\" y=\"-3258.8\" font-family=\"Helvetica,sans-Serif\" font-size=\"14.00\">gini = 0.0</text>\r\n",
       "<text text-anchor=\"middle\" x=\"1398\" y=\"-3243.8\" font-family=\"Helvetica,sans-Serif\" font-size=\"14.00\">samples = 0.0%</text>\r\n",
       "<text text-anchor=\"middle\" x=\"1398\" y=\"-3228.8\" font-family=\"Helvetica,sans-Serif\" font-size=\"14.00\">value = [0.0, 1.0]</text>\r\n",
       "<text text-anchor=\"middle\" x=\"1398\" y=\"-3213.8\" font-family=\"Helvetica,sans-Serif\" font-size=\"14.00\">class = Alta</text>\r\n",
       "</g>\r\n",
       "<!-- 6&#45;&gt;7 -->\r\n",
       "<g id=\"edge7\" class=\"edge\"><title>6&#45;&gt;7</title>\r\n",
       "<path fill=\"none\" stroke=\"black\" d=\"M1218.83,-3183.36C1254.49,-3194.69 1294.6,-3207.44 1327.71,-3217.97\"/>\r\n",
       "<polygon fill=\"black\" stroke=\"black\" points=\"1326.71,-3221.33 1337.3,-3221.02 1328.83,-3214.66 1326.71,-3221.33\"/>\r\n",
       "</g>\r\n",
       "<!-- 8 -->\r\n",
       "<g id=\"node9\" class=\"node\"><title>8</title>\r\n",
       "<path fill=\"#46a4e7\" stroke=\"black\" d=\"M1471,-3188C1471,-3188 1325,-3188 1325,-3188 1319,-3188 1313,-3182 1313,-3176 1313,-3176 1313,-3132 1313,-3132 1313,-3126 1319,-3120 1325,-3120 1325,-3120 1471,-3120 1471,-3120 1477,-3120 1483,-3126 1483,-3132 1483,-3132 1483,-3176 1483,-3176 1483,-3182 1477,-3188 1471,-3188\"/>\r\n",
       "<text text-anchor=\"middle\" x=\"1398\" y=\"-3172.8\" font-family=\"Helvetica,sans-Serif\" font-size=\"14.00\">gini = 0.1172</text>\r\n",
       "<text text-anchor=\"middle\" x=\"1398\" y=\"-3157.8\" font-family=\"Helvetica,sans-Serif\" font-size=\"14.00\">samples = 0.0%</text>\r\n",
       "<text text-anchor=\"middle\" x=\"1398\" y=\"-3142.8\" font-family=\"Helvetica,sans-Serif\" font-size=\"14.00\">value = [0.0625, 0.9375]</text>\r\n",
       "<text text-anchor=\"middle\" x=\"1398\" y=\"-3127.8\" font-family=\"Helvetica,sans-Serif\" font-size=\"14.00\">class = Alta</text>\r\n",
       "</g>\r\n",
       "<!-- 6&#45;&gt;8 -->\r\n",
       "<g id=\"edge8\" class=\"edge\"><title>6&#45;&gt;8</title>\r\n",
       "<path fill=\"none\" stroke=\"black\" d=\"M1218.83,-3154C1245.84,-3154 1275.39,-3154 1302.53,-3154\"/>\r\n",
       "<polygon fill=\"black\" stroke=\"black\" points=\"1302.8,-3157.5 1312.8,-3154 1302.8,-3150.5 1302.8,-3157.5\"/>\r\n",
       "</g>\r\n",
       "<!-- 10 -->\r\n",
       "<g id=\"node11\" class=\"node\"><title>10</title>\r\n",
       "<path fill=\"#f1bc96\" stroke=\"black\" d=\"M1221.5,-3014.5C1221.5,-3014.5 1029.5,-3014.5 1029.5,-3014.5 1023.5,-3014.5 1017.5,-3008.5 1017.5,-3002.5 1017.5,-3002.5 1017.5,-2943.5 1017.5,-2943.5 1017.5,-2937.5 1023.5,-2931.5 1029.5,-2931.5 1029.5,-2931.5 1221.5,-2931.5 1221.5,-2931.5 1227.5,-2931.5 1233.5,-2937.5 1233.5,-2943.5 1233.5,-2943.5 1233.5,-3002.5 1233.5,-3002.5 1233.5,-3008.5 1227.5,-3014.5 1221.5,-3014.5\"/>\r\n",
       "<text text-anchor=\"middle\" x=\"1125.5\" y=\"-2999.3\" font-family=\"Helvetica,sans-Serif\" font-size=\"14.00\">active_customer_shift_2 &lt;= 0.5</text>\r\n",
       "<text text-anchor=\"middle\" x=\"1125.5\" y=\"-2984.3\" font-family=\"Helvetica,sans-Serif\" font-size=\"14.00\">gini = 0.4355</text>\r\n",
       "<text text-anchor=\"middle\" x=\"1125.5\" y=\"-2969.3\" font-family=\"Helvetica,sans-Serif\" font-size=\"14.00\">samples = 0.0%</text>\r\n",
       "<text text-anchor=\"middle\" x=\"1125.5\" y=\"-2954.3\" font-family=\"Helvetica,sans-Serif\" font-size=\"14.00\">value = [0.6796, 0.3204]</text>\r\n",
       "<text text-anchor=\"middle\" x=\"1125.5\" y=\"-2939.3\" font-family=\"Helvetica,sans-Serif\" font-size=\"14.00\">class = No alta</text>\r\n",
       "</g>\r\n",
       "<!-- 9&#45;&gt;10 -->\r\n",
       "<g id=\"edge10\" class=\"edge\"><title>9&#45;&gt;10</title>\r\n",
       "<path fill=\"none\" stroke=\"black\" d=\"M933.23,-2938.35C956.693,-2942.6 982.315,-2947.24 1006.96,-2951.71\"/>\r\n",
       "<polygon fill=\"black\" stroke=\"black\" points=\"1006.62,-2955.2 1017.08,-2953.54 1007.87,-2948.31 1006.62,-2955.2\"/>\r\n",
       "</g>\r\n",
       "<!-- 15 -->\r\n",
       "<g id=\"node16\" class=\"node\"><title>15</title>\r\n",
       "<path fill=\"#f6d5bd\" stroke=\"black\" d=\"M1221.5,-2913.5C1221.5,-2913.5 1029.5,-2913.5 1029.5,-2913.5 1023.5,-2913.5 1017.5,-2907.5 1017.5,-2901.5 1017.5,-2901.5 1017.5,-2842.5 1017.5,-2842.5 1017.5,-2836.5 1023.5,-2830.5 1029.5,-2830.5 1029.5,-2830.5 1221.5,-2830.5 1221.5,-2830.5 1227.5,-2830.5 1233.5,-2836.5 1233.5,-2842.5 1233.5,-2842.5 1233.5,-2901.5 1233.5,-2901.5 1233.5,-2907.5 1227.5,-2913.5 1221.5,-2913.5\"/>\r\n",
       "<text text-anchor=\"middle\" x=\"1125.5\" y=\"-2898.3\" font-family=\"Helvetica,sans-Serif\" font-size=\"14.00\">active_customer_shift_2 &lt;= 0.5</text>\r\n",
       "<text text-anchor=\"middle\" x=\"1125.5\" y=\"-2883.3\" font-family=\"Helvetica,sans-Serif\" font-size=\"14.00\">gini = 0.48</text>\r\n",
       "<text text-anchor=\"middle\" x=\"1125.5\" y=\"-2868.3\" font-family=\"Helvetica,sans-Serif\" font-size=\"14.00\">samples = 0.0%</text>\r\n",
       "<text text-anchor=\"middle\" x=\"1125.5\" y=\"-2853.3\" font-family=\"Helvetica,sans-Serif\" font-size=\"14.00\">value = [0.6, 0.4]</text>\r\n",
       "<text text-anchor=\"middle\" x=\"1125.5\" y=\"-2838.3\" font-family=\"Helvetica,sans-Serif\" font-size=\"14.00\">class = No alta</text>\r\n",
       "</g>\r\n",
       "<!-- 9&#45;&gt;15 -->\r\n",
       "<g id=\"edge15\" class=\"edge\"><title>9&#45;&gt;15</title>\r\n",
       "<path fill=\"none\" stroke=\"black\" d=\"M933.23,-2905.97C956.693,-2901.81 982.315,-2897.25 1006.96,-2892.88\"/>\r\n",
       "<polygon fill=\"black\" stroke=\"black\" points=\"1007.85,-2896.27 1017.08,-2891.08 1006.63,-2889.38 1007.85,-2896.27\"/>\r\n",
       "</g>\r\n",
       "<!-- 11 -->\r\n",
       "<g id=\"node12\" class=\"node\"><title>11</title>\r\n",
       "<path fill=\"#f1bd98\" stroke=\"black\" d=\"M1495,-3101.5C1495,-3101.5 1301,-3101.5 1301,-3101.5 1295,-3101.5 1289,-3095.5 1289,-3089.5 1289,-3089.5 1289,-3030.5 1289,-3030.5 1289,-3024.5 1295,-3018.5 1301,-3018.5 1301,-3018.5 1495,-3018.5 1495,-3018.5 1501,-3018.5 1507,-3024.5 1507,-3030.5 1507,-3030.5 1507,-3089.5 1507,-3089.5 1507,-3095.5 1501,-3101.5 1495,-3101.5\"/>\r\n",
       "<text text-anchor=\"middle\" x=\"1398\" y=\"-3086.3\" font-family=\"Helvetica,sans-Serif\" font-size=\"14.00\">emc_account_shift_2 &lt;= &#45;499.5</text>\r\n",
       "<text text-anchor=\"middle\" x=\"1398\" y=\"-3071.3\" font-family=\"Helvetica,sans-Serif\" font-size=\"14.00\">gini = 0.4376</text>\r\n",
       "<text text-anchor=\"middle\" x=\"1398\" y=\"-3056.3\" font-family=\"Helvetica,sans-Serif\" font-size=\"14.00\">samples = 0.0%</text>\r\n",
       "<text text-anchor=\"middle\" x=\"1398\" y=\"-3041.3\" font-family=\"Helvetica,sans-Serif\" font-size=\"14.00\">value = [0.6766, 0.3234]</text>\r\n",
       "<text text-anchor=\"middle\" x=\"1398\" y=\"-3026.3\" font-family=\"Helvetica,sans-Serif\" font-size=\"14.00\">class = No alta</text>\r\n",
       "</g>\r\n",
       "<!-- 10&#45;&gt;11 -->\r\n",
       "<g id=\"edge11\" class=\"edge\"><title>10&#45;&gt;11</title>\r\n",
       "<path fill=\"none\" stroke=\"black\" d=\"M1233.8,-3007.51C1248.68,-3012.3 1264.04,-3017.24 1279.1,-3022.08\"/>\r\n",
       "<polygon fill=\"black\" stroke=\"black\" points=\"1278.36,-3025.52 1288.95,-3025.25 1280.5,-3018.85 1278.36,-3025.52\"/>\r\n",
       "</g>\r\n",
       "<!-- 14 -->\r\n",
       "<g id=\"node15\" class=\"node\"><title>14</title>\r\n",
       "<path fill=\"#e58139\" stroke=\"black\" d=\"M1446.5,-3000C1446.5,-3000 1349.5,-3000 1349.5,-3000 1343.5,-3000 1337.5,-2994 1337.5,-2988 1337.5,-2988 1337.5,-2944 1337.5,-2944 1337.5,-2938 1343.5,-2932 1349.5,-2932 1349.5,-2932 1446.5,-2932 1446.5,-2932 1452.5,-2932 1458.5,-2938 1458.5,-2944 1458.5,-2944 1458.5,-2988 1458.5,-2988 1458.5,-2994 1452.5,-3000 1446.5,-3000\"/>\r\n",
       "<text text-anchor=\"middle\" x=\"1398\" y=\"-2984.8\" font-family=\"Helvetica,sans-Serif\" font-size=\"14.00\">gini = 0.0</text>\r\n",
       "<text text-anchor=\"middle\" x=\"1398\" y=\"-2969.8\" font-family=\"Helvetica,sans-Serif\" font-size=\"14.00\">samples = 0.0%</text>\r\n",
       "<text text-anchor=\"middle\" x=\"1398\" y=\"-2954.8\" font-family=\"Helvetica,sans-Serif\" font-size=\"14.00\">value = [1.0, 0.0]</text>\r\n",
       "<text text-anchor=\"middle\" x=\"1398\" y=\"-2939.8\" font-family=\"Helvetica,sans-Serif\" font-size=\"14.00\">class = No alta</text>\r\n",
       "</g>\r\n",
       "<!-- 10&#45;&gt;14 -->\r\n",
       "<g id=\"edge14\" class=\"edge\"><title>10&#45;&gt;14</title>\r\n",
       "<path fill=\"none\" stroke=\"black\" d=\"M1233.8,-2970.22C1265.19,-2969.41 1298.69,-2968.54 1327.12,-2967.81\"/>\r\n",
       "<polygon fill=\"black\" stroke=\"black\" points=\"1327.44,-2971.3 1337.35,-2967.54 1327.26,-2964.3 1327.44,-2971.3\"/>\r\n",
       "</g>\r\n",
       "<!-- 12 -->\r\n",
       "<g id=\"node13\" class=\"node\"><title>12</title>\r\n",
       "<path fill=\"#f1bd97\" stroke=\"black\" d=\"M1711,-3137C1711,-3137 1565,-3137 1565,-3137 1559,-3137 1553,-3131 1553,-3125 1553,-3125 1553,-3081 1553,-3081 1553,-3075 1559,-3069 1565,-3069 1565,-3069 1711,-3069 1711,-3069 1717,-3069 1723,-3075 1723,-3081 1723,-3081 1723,-3125 1723,-3125 1723,-3131 1717,-3137 1711,-3137\"/>\r\n",
       "<text text-anchor=\"middle\" x=\"1638\" y=\"-3121.8\" font-family=\"Helvetica,sans-Serif\" font-size=\"14.00\">gini = 0.4362</text>\r\n",
       "<text text-anchor=\"middle\" x=\"1638\" y=\"-3106.8\" font-family=\"Helvetica,sans-Serif\" font-size=\"14.00\">samples = 0.0%</text>\r\n",
       "<text text-anchor=\"middle\" x=\"1638\" y=\"-3091.8\" font-family=\"Helvetica,sans-Serif\" font-size=\"14.00\">value = [0.6786, 0.3214]</text>\r\n",
       "<text text-anchor=\"middle\" x=\"1638\" y=\"-3076.8\" font-family=\"Helvetica,sans-Serif\" font-size=\"14.00\">class = No alta</text>\r\n",
       "</g>\r\n",
       "<!-- 11&#45;&gt;12 -->\r\n",
       "<g id=\"edge12\" class=\"edge\"><title>11&#45;&gt;12</title>\r\n",
       "<path fill=\"none\" stroke=\"black\" d=\"M1507.21,-3079.55C1519.08,-3081.69 1531.09,-3083.87 1542.78,-3085.98\"/>\r\n",
       "<polygon fill=\"black\" stroke=\"black\" points=\"1542.48,-3089.48 1552.95,-3087.81 1543.73,-3082.59 1542.48,-3089.48\"/>\r\n",
       "</g>\r\n",
       "<!-- 13 -->\r\n",
       "<g id=\"node14\" class=\"node\"><title>13</title>\r\n",
       "<path fill=\"#ffffff\" stroke=\"black\" d=\"M1686.5,-3051C1686.5,-3051 1589.5,-3051 1589.5,-3051 1583.5,-3051 1577.5,-3045 1577.5,-3039 1577.5,-3039 1577.5,-2995 1577.5,-2995 1577.5,-2989 1583.5,-2983 1589.5,-2983 1589.5,-2983 1686.5,-2983 1686.5,-2983 1692.5,-2983 1698.5,-2989 1698.5,-2995 1698.5,-2995 1698.5,-3039 1698.5,-3039 1698.5,-3045 1692.5,-3051 1686.5,-3051\"/>\r\n",
       "<text text-anchor=\"middle\" x=\"1638\" y=\"-3035.8\" font-family=\"Helvetica,sans-Serif\" font-size=\"14.00\">gini = 0.5</text>\r\n",
       "<text text-anchor=\"middle\" x=\"1638\" y=\"-3020.8\" font-family=\"Helvetica,sans-Serif\" font-size=\"14.00\">samples = 0.0%</text>\r\n",
       "<text text-anchor=\"middle\" x=\"1638\" y=\"-3005.8\" font-family=\"Helvetica,sans-Serif\" font-size=\"14.00\">value = [0.5, 0.5]</text>\r\n",
       "<text text-anchor=\"middle\" x=\"1638\" y=\"-2990.8\" font-family=\"Helvetica,sans-Serif\" font-size=\"14.00\">class = No alta</text>\r\n",
       "</g>\r\n",
       "<!-- 11&#45;&gt;13 -->\r\n",
       "<g id=\"edge13\" class=\"edge\"><title>11&#45;&gt;13</title>\r\n",
       "<path fill=\"none\" stroke=\"black\" d=\"M1507.21,-3040.45C1527.61,-3036.76 1548.43,-3033 1567.26,-3029.6\"/>\r\n",
       "<polygon fill=\"black\" stroke=\"black\" points=\"1567.99,-3033.02 1577.21,-3027.8 1566.75,-3026.14 1567.99,-3033.02\"/>\r\n",
       "</g>\r\n",
       "<!-- 16 -->\r\n",
       "<g id=\"node17\" class=\"node\"><title>16</title>\r\n",
       "<path fill=\"#e58139\" stroke=\"black\" d=\"M1446.5,-2914C1446.5,-2914 1349.5,-2914 1349.5,-2914 1343.5,-2914 1337.5,-2908 1337.5,-2902 1337.5,-2902 1337.5,-2858 1337.5,-2858 1337.5,-2852 1343.5,-2846 1349.5,-2846 1349.5,-2846 1446.5,-2846 1446.5,-2846 1452.5,-2846 1458.5,-2852 1458.5,-2858 1458.5,-2858 1458.5,-2902 1458.5,-2902 1458.5,-2908 1452.5,-2914 1446.5,-2914\"/>\r\n",
       "<text text-anchor=\"middle\" x=\"1398\" y=\"-2898.8\" font-family=\"Helvetica,sans-Serif\" font-size=\"14.00\">gini = 0.0</text>\r\n",
       "<text text-anchor=\"middle\" x=\"1398\" y=\"-2883.8\" font-family=\"Helvetica,sans-Serif\" font-size=\"14.00\">samples = 0.0%</text>\r\n",
       "<text text-anchor=\"middle\" x=\"1398\" y=\"-2868.8\" font-family=\"Helvetica,sans-Serif\" font-size=\"14.00\">value = [1.0, 0.0]</text>\r\n",
       "<text text-anchor=\"middle\" x=\"1398\" y=\"-2853.8\" font-family=\"Helvetica,sans-Serif\" font-size=\"14.00\">class = No alta</text>\r\n",
       "</g>\r\n",
       "<!-- 15&#45;&gt;16 -->\r\n",
       "<g id=\"edge16\" class=\"edge\"><title>15&#45;&gt;16</title>\r\n",
       "<path fill=\"none\" stroke=\"black\" d=\"M1233.8,-2875.17C1265.19,-2876.1 1298.69,-2877.09 1327.12,-2877.93\"/>\r\n",
       "<polygon fill=\"black\" stroke=\"black\" points=\"1327.25,-2881.44 1337.35,-2878.24 1327.46,-2874.44 1327.25,-2881.44\"/>\r\n",
       "</g>\r\n",
       "<!-- 17 -->\r\n",
       "<g id=\"node18\" class=\"node\"><title>17</title>\r\n",
       "<path fill=\"#f9e2d1\" stroke=\"black\" d=\"M1504.5,-2827.5C1504.5,-2827.5 1291.5,-2827.5 1291.5,-2827.5 1285.5,-2827.5 1279.5,-2821.5 1279.5,-2815.5 1279.5,-2815.5 1279.5,-2756.5 1279.5,-2756.5 1279.5,-2750.5 1285.5,-2744.5 1291.5,-2744.5 1291.5,-2744.5 1504.5,-2744.5 1504.5,-2744.5 1510.5,-2744.5 1516.5,-2750.5 1516.5,-2756.5 1516.5,-2756.5 1516.5,-2815.5 1516.5,-2815.5 1516.5,-2821.5 1510.5,-2827.5 1504.5,-2827.5\"/>\r\n",
       "<text text-anchor=\"middle\" x=\"1398\" y=\"-2812.3\" font-family=\"Helvetica,sans-Serif\" font-size=\"14.00\">diasDesdeUltimaBajaInt_1 &lt;= 29.0</text>\r\n",
       "<text text-anchor=\"middle\" x=\"1398\" y=\"-2797.3\" font-family=\"Helvetica,sans-Serif\" font-size=\"14.00\">gini = 0.4915</text>\r\n",
       "<text text-anchor=\"middle\" x=\"1398\" y=\"-2782.3\" font-family=\"Helvetica,sans-Serif\" font-size=\"14.00\">samples = 0.0%</text>\r\n",
       "<text text-anchor=\"middle\" x=\"1398\" y=\"-2767.3\" font-family=\"Helvetica,sans-Serif\" font-size=\"14.00\">value = [0.5652, 0.4348]</text>\r\n",
       "<text text-anchor=\"middle\" x=\"1398\" y=\"-2752.3\" font-family=\"Helvetica,sans-Serif\" font-size=\"14.00\">class = No alta</text>\r\n",
       "</g>\r\n",
       "<!-- 15&#45;&gt;17 -->\r\n",
       "<g id=\"edge17\" class=\"edge\"><title>15&#45;&gt;17</title>\r\n",
       "<path fill=\"none\" stroke=\"black\" d=\"M1233.8,-2837.89C1245.55,-2834.15 1257.6,-2830.32 1269.57,-2826.51\"/>\r\n",
       "<polygon fill=\"black\" stroke=\"black\" points=\"1270.67,-2829.84 1279.14,-2823.47 1268.55,-2823.16 1270.67,-2829.84\"/>\r\n",
       "</g>\r\n",
       "<!-- 18 -->\r\n",
       "<g id=\"node19\" class=\"node\"><title>18</title>\r\n",
       "<path fill=\"#f8ddc9\" stroke=\"black\" d=\"M1711,-2906C1711,-2906 1565,-2906 1565,-2906 1559,-2906 1553,-2900 1553,-2894 1553,-2894 1553,-2850 1553,-2850 1553,-2844 1559,-2838 1565,-2838 1565,-2838 1711,-2838 1711,-2838 1717,-2838 1723,-2844 1723,-2850 1723,-2850 1723,-2894 1723,-2894 1723,-2900 1717,-2906 1711,-2906\"/>\r\n",
       "<text text-anchor=\"middle\" x=\"1638\" y=\"-2890.8\" font-family=\"Helvetica,sans-Serif\" font-size=\"14.00\">gini = 0.4875</text>\r\n",
       "<text text-anchor=\"middle\" x=\"1638\" y=\"-2875.8\" font-family=\"Helvetica,sans-Serif\" font-size=\"14.00\">samples = 0.0%</text>\r\n",
       "<text text-anchor=\"middle\" x=\"1638\" y=\"-2860.8\" font-family=\"Helvetica,sans-Serif\" font-size=\"14.00\">value = [0.5789, 0.4211]</text>\r\n",
       "<text text-anchor=\"middle\" x=\"1638\" y=\"-2845.8\" font-family=\"Helvetica,sans-Serif\" font-size=\"14.00\">class = No alta</text>\r\n",
       "</g>\r\n",
       "<!-- 17&#45;&gt;18 -->\r\n",
       "<g id=\"edge18\" class=\"edge\"><title>17&#45;&gt;18</title>\r\n",
       "<path fill=\"none\" stroke=\"black\" d=\"M1514.17,-2827.61C1523.95,-2831.15 1533.78,-2834.7 1543.37,-2838.17\"/>\r\n",
       "<polygon fill=\"black\" stroke=\"black\" points=\"1542.28,-2841.5 1552.88,-2841.6 1544.66,-2834.91 1542.28,-2841.5\"/>\r\n",
       "</g>\r\n",
       "<!-- 19 -->\r\n",
       "<g id=\"node20\" class=\"node\"><title>19</title>\r\n",
       "<path fill=\"#ffffff\" stroke=\"black\" d=\"M1686.5,-2820C1686.5,-2820 1589.5,-2820 1589.5,-2820 1583.5,-2820 1577.5,-2814 1577.5,-2808 1577.5,-2808 1577.5,-2764 1577.5,-2764 1577.5,-2758 1583.5,-2752 1589.5,-2752 1589.5,-2752 1686.5,-2752 1686.5,-2752 1692.5,-2752 1698.5,-2758 1698.5,-2764 1698.5,-2764 1698.5,-2808 1698.5,-2808 1698.5,-2814 1692.5,-2820 1686.5,-2820\"/>\r\n",
       "<text text-anchor=\"middle\" x=\"1638\" y=\"-2804.8\" font-family=\"Helvetica,sans-Serif\" font-size=\"14.00\">gini = 0.5</text>\r\n",
       "<text text-anchor=\"middle\" x=\"1638\" y=\"-2789.8\" font-family=\"Helvetica,sans-Serif\" font-size=\"14.00\">samples = 0.0%</text>\r\n",
       "<text text-anchor=\"middle\" x=\"1638\" y=\"-2774.8\" font-family=\"Helvetica,sans-Serif\" font-size=\"14.00\">value = [0.5, 0.5]</text>\r\n",
       "<text text-anchor=\"middle\" x=\"1638\" y=\"-2759.8\" font-family=\"Helvetica,sans-Serif\" font-size=\"14.00\">class = No alta</text>\r\n",
       "</g>\r\n",
       "<!-- 17&#45;&gt;19 -->\r\n",
       "<g id=\"edge19\" class=\"edge\"><title>17&#45;&gt;19</title>\r\n",
       "<path fill=\"none\" stroke=\"black\" d=\"M1516.61,-2786C1533.9,-2786 1551.23,-2786 1567.14,-2786\"/>\r\n",
       "<polygon fill=\"black\" stroke=\"black\" points=\"1567.37,-2789.5 1577.37,-2786 1567.37,-2782.5 1567.37,-2789.5\"/>\r\n",
       "</g>\r\n",
       "<!-- 21 -->\r\n",
       "<g id=\"node22\" class=\"node\"><title>21</title>\r\n",
       "<path fill=\"#e68743\" stroke=\"black\" d=\"M647,-2096.5C647,-2096.5 489,-2096.5 489,-2096.5 483,-2096.5 477,-2090.5 477,-2084.5 477,-2084.5 477,-2025.5 477,-2025.5 477,-2019.5 483,-2013.5 489,-2013.5 489,-2013.5 647,-2013.5 647,-2013.5 653,-2013.5 659,-2019.5 659,-2025.5 659,-2025.5 659,-2084.5 659,-2084.5 659,-2090.5 653,-2096.5 647,-2096.5\"/>\r\n",
       "<text text-anchor=\"middle\" x=\"568\" y=\"-2081.3\" font-family=\"Helvetica,sans-Serif\" font-size=\"14.00\">em_acount_shift_2 &lt;= 0.5</text>\r\n",
       "<text text-anchor=\"middle\" x=\"568\" y=\"-2066.3\" font-family=\"Helvetica,sans-Serif\" font-size=\"14.00\">gini = 0.0885</text>\r\n",
       "<text text-anchor=\"middle\" x=\"568\" y=\"-2051.3\" font-family=\"Helvetica,sans-Serif\" font-size=\"14.00\">samples = 8.9%</text>\r\n",
       "<text text-anchor=\"middle\" x=\"568\" y=\"-2036.3\" font-family=\"Helvetica,sans-Serif\" font-size=\"14.00\">value = [0.9536, 0.0464]</text>\r\n",
       "<text text-anchor=\"middle\" x=\"568\" y=\"-2021.3\" font-family=\"Helvetica,sans-Serif\" font-size=\"14.00\">class = No alta</text>\r\n",
       "</g>\r\n",
       "<!-- 20&#45;&gt;21 -->\r\n",
       "<g id=\"edge21\" class=\"edge\"><title>20&#45;&gt;21</title>\r\n",
       "<path fill=\"none\" stroke=\"black\" d=\"M406.262,-2055C425.86,-2055 446.705,-2055 466.665,-2055\"/>\r\n",
       "<polygon fill=\"black\" stroke=\"black\" points=\"466.696,-2058.5 476.696,-2055 466.696,-2051.5 466.696,-2058.5\"/>\r\n",
       "</g>\r\n",
       "<!-- 52 -->\r\n",
       "<g id=\"node53\" class=\"node\"><title>52</title>\r\n",
       "<path fill=\"#e58139\" stroke=\"black\" d=\"M641,-1063.5C641,-1063.5 495,-1063.5 495,-1063.5 489,-1063.5 483,-1057.5 483,-1051.5 483,-1051.5 483,-992.5 483,-992.5 483,-986.5 489,-980.5 495,-980.5 495,-980.5 641,-980.5 641,-980.5 647,-980.5 653,-986.5 653,-992.5 653,-992.5 653,-1051.5 653,-1051.5 653,-1057.5 647,-1063.5 641,-1063.5\"/>\r\n",
       "<text text-anchor=\"middle\" x=\"568\" y=\"-1048.3\" font-family=\"Helvetica,sans-Serif\" font-size=\"14.00\">isActive_shift_5 &lt;= 0.5</text>\r\n",
       "<text text-anchor=\"middle\" x=\"568\" y=\"-1033.3\" font-family=\"Helvetica,sans-Serif\" font-size=\"14.00\">gini = 0.0025</text>\r\n",
       "<text text-anchor=\"middle\" x=\"568\" y=\"-1018.3\" font-family=\"Helvetica,sans-Serif\" font-size=\"14.00\">samples = 86.7%</text>\r\n",
       "<text text-anchor=\"middle\" x=\"568\" y=\"-1003.3\" font-family=\"Helvetica,sans-Serif\" font-size=\"14.00\">value = [0.9987, 0.0013]</text>\r\n",
       "<text text-anchor=\"middle\" x=\"568\" y=\"-988.3\" font-family=\"Helvetica,sans-Serif\" font-size=\"14.00\">class = No alta</text>\r\n",
       "</g>\r\n",
       "<!-- 20&#45;&gt;52 -->\r\n",
       "<g id=\"edge52\" class=\"edge\"><title>20&#45;&gt;52</title>\r\n",
       "<path fill=\"none\" stroke=\"black\" d=\"M326.15,-2013.23C365.891,-1849.67 510.871,-1253 554.497,-1073.46\"/>\r\n",
       "<polygon fill=\"black\" stroke=\"black\" points=\"557.901,-1074.27 556.861,-1063.73 551.099,-1072.62 557.901,-1074.27\"/>\r\n",
       "</g>\r\n",
       "<!-- 22 -->\r\n",
       "<g id=\"node23\" class=\"node\"><title>22</title>\r\n",
       "<path fill=\"#e68540\" stroke=\"black\" d=\"M960,-2269.5C960,-2269.5 724,-2269.5 724,-2269.5 718,-2269.5 712,-2263.5 712,-2257.5 712,-2257.5 712,-2198.5 712,-2198.5 712,-2192.5 718,-2186.5 724,-2186.5 724,-2186.5 960,-2186.5 960,-2186.5 966,-2186.5 972,-2192.5 972,-2198.5 972,-2198.5 972,-2257.5 972,-2257.5 972,-2263.5 966,-2269.5 960,-2269.5\"/>\r\n",
       "<text text-anchor=\"middle\" x=\"842\" y=\"-2254.3\" font-family=\"Helvetica,sans-Serif\" font-size=\"14.00\">dif_short_term_deposit_shift_3 &lt;= 0.5</text>\r\n",
       "<text text-anchor=\"middle\" x=\"842\" y=\"-2239.3\" font-family=\"Helvetica,sans-Serif\" font-size=\"14.00\">gini = 0.0633</text>\r\n",
       "<text text-anchor=\"middle\" x=\"842\" y=\"-2224.3\" font-family=\"Helvetica,sans-Serif\" font-size=\"14.00\">samples = 8.2%</text>\r\n",
       "<text text-anchor=\"middle\" x=\"842\" y=\"-2209.3\" font-family=\"Helvetica,sans-Serif\" font-size=\"14.00\">value = [0.9673, 0.0327]</text>\r\n",
       "<text text-anchor=\"middle\" x=\"842\" y=\"-2194.3\" font-family=\"Helvetica,sans-Serif\" font-size=\"14.00\">class = No alta</text>\r\n",
       "</g>\r\n",
       "<!-- 21&#45;&gt;22 -->\r\n",
       "<g id=\"edge22\" class=\"edge\"><title>21&#45;&gt;22</title>\r\n",
       "<path fill=\"none\" stroke=\"black\" d=\"M634.497,-2096.66C674.415,-2122.05 725.534,-2154.56 766.924,-2180.89\"/>\r\n",
       "<polygon fill=\"black\" stroke=\"black\" points=\"765.284,-2183.99 775.6,-2186.4 769.041,-2178.08 765.284,-2183.99\"/>\r\n",
       "</g>\r\n",
       "<!-- 37 -->\r\n",
       "<g id=\"node38\" class=\"node\"><title>37</title>\r\n",
       "<path fill=\"#eca470\" stroke=\"black\" d=\"M935.5,-1923.5C935.5,-1923.5 748.5,-1923.5 748.5,-1923.5 742.5,-1923.5 736.5,-1917.5 736.5,-1911.5 736.5,-1911.5 736.5,-1852.5 736.5,-1852.5 736.5,-1846.5 742.5,-1840.5 748.5,-1840.5 748.5,-1840.5 935.5,-1840.5 935.5,-1840.5 941.5,-1840.5 947.5,-1846.5 947.5,-1852.5 947.5,-1852.5 947.5,-1911.5 947.5,-1911.5 947.5,-1917.5 941.5,-1923.5 935.5,-1923.5\"/>\r\n",
       "<text text-anchor=\"middle\" x=\"842\" y=\"-1908.3\" font-family=\"Helvetica,sans-Serif\" font-size=\"14.00\">payroll_account_shift_1 &lt;= 0.5</text>\r\n",
       "<text text-anchor=\"middle\" x=\"842\" y=\"-1893.3\" font-family=\"Helvetica,sans-Serif\" font-size=\"14.00\">gini = 0.3417</text>\r\n",
       "<text text-anchor=\"middle\" x=\"842\" y=\"-1878.3\" font-family=\"Helvetica,sans-Serif\" font-size=\"14.00\">samples = 0.7%</text>\r\n",
       "<text text-anchor=\"middle\" x=\"842\" y=\"-1863.3\" font-family=\"Helvetica,sans-Serif\" font-size=\"14.00\">value = [0.7814, 0.2186]</text>\r\n",
       "<text text-anchor=\"middle\" x=\"842\" y=\"-1848.3\" font-family=\"Helvetica,sans-Serif\" font-size=\"14.00\">class = No alta</text>\r\n",
       "</g>\r\n",
       "<!-- 21&#45;&gt;37 -->\r\n",
       "<g id=\"edge37\" class=\"edge\"><title>21&#45;&gt;37</title>\r\n",
       "<path fill=\"none\" stroke=\"black\" d=\"M634.497,-2013.34C674.415,-1987.95 725.534,-1955.44 766.924,-1929.11\"/>\r\n",
       "<polygon fill=\"black\" stroke=\"black\" points=\"769.041,-1931.92 775.6,-1923.6 765.284,-1926.01 769.041,-1931.92\"/>\r\n",
       "</g>\r\n",
       "<!-- 23 -->\r\n",
       "<g id=\"node24\" class=\"node\"><title>23</title>\r\n",
       "<path fill=\"#e6853f\" stroke=\"black\" d=\"M1212,-2518.5C1212,-2518.5 1039,-2518.5 1039,-2518.5 1033,-2518.5 1027,-2512.5 1027,-2506.5 1027,-2506.5 1027,-2447.5 1027,-2447.5 1027,-2441.5 1033,-2435.5 1039,-2435.5 1039,-2435.5 1212,-2435.5 1212,-2435.5 1218,-2435.5 1224,-2441.5 1224,-2447.5 1224,-2447.5 1224,-2506.5 1224,-2506.5 1224,-2512.5 1218,-2518.5 1212,-2518.5\"/>\r\n",
       "<text text-anchor=\"middle\" x=\"1125.5\" y=\"-2503.3\" font-family=\"Helvetica,sans-Serif\" font-size=\"14.00\">pension_plan_shift_3 &lt;= 0.5</text>\r\n",
       "<text text-anchor=\"middle\" x=\"1125.5\" y=\"-2488.3\" font-family=\"Helvetica,sans-Serif\" font-size=\"14.00\">gini = 0.0588</text>\r\n",
       "<text text-anchor=\"middle\" x=\"1125.5\" y=\"-2473.3\" font-family=\"Helvetica,sans-Serif\" font-size=\"14.00\">samples = 8.2%</text>\r\n",
       "<text text-anchor=\"middle\" x=\"1125.5\" y=\"-2458.3\" font-family=\"Helvetica,sans-Serif\" font-size=\"14.00\">value = [0.9697, 0.0303]</text>\r\n",
       "<text text-anchor=\"middle\" x=\"1125.5\" y=\"-2443.3\" font-family=\"Helvetica,sans-Serif\" font-size=\"14.00\">class = No alta</text>\r\n",
       "</g>\r\n",
       "<!-- 22&#45;&gt;23 -->\r\n",
       "<g id=\"edge23\" class=\"edge\"><title>22&#45;&gt;23</title>\r\n",
       "<path fill=\"none\" stroke=\"black\" d=\"M890.117,-2269.68C939.644,-2313.49 1017.48,-2382.34 1069.71,-2428.54\"/>\r\n",
       "<polygon fill=\"black\" stroke=\"black\" points=\"1067.42,-2431.18 1077.23,-2435.19 1072.06,-2425.94 1067.42,-2431.18\"/>\r\n",
       "</g>\r\n",
       "<!-- 30 -->\r\n",
       "<g id=\"node31\" class=\"node\"><title>30</title>\r\n",
       "<path fill=\"#dfeffb\" stroke=\"black\" d=\"M1209,-2269.5C1209,-2269.5 1042,-2269.5 1042,-2269.5 1036,-2269.5 1030,-2263.5 1030,-2257.5 1030,-2257.5 1030,-2198.5 1030,-2198.5 1030,-2192.5 1036,-2186.5 1042,-2186.5 1042,-2186.5 1209,-2186.5 1209,-2186.5 1215,-2186.5 1221,-2192.5 1221,-2198.5 1221,-2198.5 1221,-2257.5 1221,-2257.5 1221,-2263.5 1215,-2269.5 1209,-2269.5\"/>\r\n",
       "<text text-anchor=\"middle\" x=\"1125.5\" y=\"-2254.3\" font-family=\"Helvetica,sans-Serif\" font-size=\"14.00\">totalCuentas_shift_1 &lt;= 0.5</text>\r\n",
       "<text text-anchor=\"middle\" x=\"1125.5\" y=\"-2239.3\" font-family=\"Helvetica,sans-Serif\" font-size=\"14.00\">gini = 0.496</text>\r\n",
       "<text text-anchor=\"middle\" x=\"1125.5\" y=\"-2224.3\" font-family=\"Helvetica,sans-Serif\" font-size=\"14.00\">samples = 0.0%</text>\r\n",
       "<text text-anchor=\"middle\" x=\"1125.5\" y=\"-2209.3\" font-family=\"Helvetica,sans-Serif\" font-size=\"14.00\">value = [0.4554, 0.5446]</text>\r\n",
       "<text text-anchor=\"middle\" x=\"1125.5\" y=\"-2194.3\" font-family=\"Helvetica,sans-Serif\" font-size=\"14.00\">class = Alta</text>\r\n",
       "</g>\r\n",
       "<!-- 22&#45;&gt;30 -->\r\n",
       "<g id=\"edge30\" class=\"edge\"><title>22&#45;&gt;30</title>\r\n",
       "<path fill=\"none\" stroke=\"black\" d=\"M972.216,-2228C988.103,-2228 1004.19,-2228 1019.65,-2228\"/>\r\n",
       "<polygon fill=\"black\" stroke=\"black\" points=\"1019.72,-2231.5 1029.72,-2228 1019.72,-2224.5 1019.72,-2231.5\"/>\r\n",
       "</g>\r\n",
       "<!-- 24 -->\r\n",
       "<g id=\"node25\" class=\"node\"><title>24</title>\r\n",
       "<path fill=\"#e68844\" stroke=\"black\" d=\"M1505,-2655.5C1505,-2655.5 1291,-2655.5 1291,-2655.5 1285,-2655.5 1279,-2649.5 1279,-2643.5 1279,-2643.5 1279,-2584.5 1279,-2584.5 1279,-2578.5 1285,-2572.5 1291,-2572.5 1291,-2572.5 1505,-2572.5 1505,-2572.5 1511,-2572.5 1517,-2578.5 1517,-2584.5 1517,-2584.5 1517,-2643.5 1517,-2643.5 1517,-2649.5 1511,-2655.5 1505,-2655.5\"/>\r\n",
       "<text text-anchor=\"middle\" x=\"1398\" y=\"-2640.3\" font-family=\"Helvetica,sans-Serif\" font-size=\"14.00\">totalFinanciacion_shift_6 &lt;= &#45;499.5</text>\r\n",
       "<text text-anchor=\"middle\" x=\"1398\" y=\"-2625.3\" font-family=\"Helvetica,sans-Serif\" font-size=\"14.00\">gini = 0.1028</text>\r\n",
       "<text text-anchor=\"middle\" x=\"1398\" y=\"-2610.3\" font-family=\"Helvetica,sans-Serif\" font-size=\"14.00\">samples = 4.4%</text>\r\n",
       "<text text-anchor=\"middle\" x=\"1398\" y=\"-2595.3\" font-family=\"Helvetica,sans-Serif\" font-size=\"14.00\">value = [0.9457, 0.0543]</text>\r\n",
       "<text text-anchor=\"middle\" x=\"1398\" y=\"-2580.3\" font-family=\"Helvetica,sans-Serif\" font-size=\"14.00\">class = No alta</text>\r\n",
       "</g>\r\n",
       "<!-- 23&#45;&gt;24 -->\r\n",
       "<g id=\"edge24\" class=\"edge\"><title>23&#45;&gt;24</title>\r\n",
       "<path fill=\"none\" stroke=\"black\" d=\"M1208.76,-2518.66C1239.32,-2534.14 1274.16,-2551.79 1305.5,-2567.66\"/>\r\n",
       "<polygon fill=\"black\" stroke=\"black\" points=\"1304.16,-2570.9 1314.66,-2572.3 1307.32,-2564.66 1304.16,-2570.9\"/>\r\n",
       "</g>\r\n",
       "<!-- 27 -->\r\n",
       "<g id=\"node28\" class=\"node\"><title>27</title>\r\n",
       "<path fill=\"#e5813a\" stroke=\"black\" d=\"M1481.5,-2518.5C1481.5,-2518.5 1314.5,-2518.5 1314.5,-2518.5 1308.5,-2518.5 1302.5,-2512.5 1302.5,-2506.5 1302.5,-2506.5 1302.5,-2447.5 1302.5,-2447.5 1302.5,-2441.5 1308.5,-2435.5 1314.5,-2435.5 1314.5,-2435.5 1481.5,-2435.5 1481.5,-2435.5 1487.5,-2435.5 1493.5,-2441.5 1493.5,-2447.5 1493.5,-2447.5 1493.5,-2506.5 1493.5,-2506.5 1493.5,-2512.5 1487.5,-2518.5 1481.5,-2518.5\"/>\r\n",
       "<text text-anchor=\"middle\" x=\"1398\" y=\"-2503.3\" font-family=\"Helvetica,sans-Serif\" font-size=\"14.00\">totalCuentas_shift_3 &lt;= 4.5</text>\r\n",
       "<text text-anchor=\"middle\" x=\"1398\" y=\"-2488.3\" font-family=\"Helvetica,sans-Serif\" font-size=\"14.00\">gini = 0.0053</text>\r\n",
       "<text text-anchor=\"middle\" x=\"1398\" y=\"-2473.3\" font-family=\"Helvetica,sans-Serif\" font-size=\"14.00\">samples = 3.8%</text>\r\n",
       "<text text-anchor=\"middle\" x=\"1398\" y=\"-2458.3\" font-family=\"Helvetica,sans-Serif\" font-size=\"14.00\">value = [0.9973, 0.0027]</text>\r\n",
       "<text text-anchor=\"middle\" x=\"1398\" y=\"-2443.3\" font-family=\"Helvetica,sans-Serif\" font-size=\"14.00\">class = No alta</text>\r\n",
       "</g>\r\n",
       "<!-- 23&#45;&gt;27 -->\r\n",
       "<g id=\"edge27\" class=\"edge\"><title>23&#45;&gt;27</title>\r\n",
       "<path fill=\"none\" stroke=\"black\" d=\"M1224.16,-2477C1246.2,-2477 1269.7,-2477 1292.03,-2477\"/>\r\n",
       "<polygon fill=\"black\" stroke=\"black\" points=\"1292.2,-2480.5 1302.2,-2477 1292.2,-2473.5 1292.2,-2480.5\"/>\r\n",
       "</g>\r\n",
       "<!-- 25 -->\r\n",
       "<g id=\"node26\" class=\"node\"><title>25</title>\r\n",
       "<path fill=\"#e88f4f\" stroke=\"black\" d=\"M1711,-2734C1711,-2734 1565,-2734 1565,-2734 1559,-2734 1553,-2728 1553,-2722 1553,-2722 1553,-2678 1553,-2678 1553,-2672 1559,-2666 1565,-2666 1565,-2666 1711,-2666 1711,-2666 1717,-2666 1723,-2672 1723,-2678 1723,-2678 1723,-2722 1723,-2722 1723,-2728 1717,-2734 1711,-2734\"/>\r\n",
       "<text text-anchor=\"middle\" x=\"1638\" y=\"-2718.8\" font-family=\"Helvetica,sans-Serif\" font-size=\"14.00\">gini = 0.1824</text>\r\n",
       "<text text-anchor=\"middle\" x=\"1638\" y=\"-2703.8\" font-family=\"Helvetica,sans-Serif\" font-size=\"14.00\">samples = 0.9%</text>\r\n",
       "<text text-anchor=\"middle\" x=\"1638\" y=\"-2688.8\" font-family=\"Helvetica,sans-Serif\" font-size=\"14.00\">value = [0.8985, 0.1015]</text>\r\n",
       "<text text-anchor=\"middle\" x=\"1638\" y=\"-2673.8\" font-family=\"Helvetica,sans-Serif\" font-size=\"14.00\">class = No alta</text>\r\n",
       "</g>\r\n",
       "<!-- 24&#45;&gt;25 -->\r\n",
       "<g id=\"edge25\" class=\"edge\"><title>24&#45;&gt;25</title>\r\n",
       "<path fill=\"none\" stroke=\"black\" d=\"M1514.17,-2655.61C1523.95,-2659.15 1533.78,-2662.7 1543.37,-2666.17\"/>\r\n",
       "<polygon fill=\"black\" stroke=\"black\" points=\"1542.28,-2669.5 1552.88,-2669.6 1544.66,-2662.91 1542.28,-2669.5\"/>\r\n",
       "</g>\r\n",
       "<!-- 26 -->\r\n",
       "<g id=\"node27\" class=\"node\"><title>26</title>\r\n",
       "<path fill=\"#e68742\" stroke=\"black\" d=\"M1703,-2648C1703,-2648 1573,-2648 1573,-2648 1567,-2648 1561,-2642 1561,-2636 1561,-2636 1561,-2592 1561,-2592 1561,-2586 1567,-2580 1573,-2580 1573,-2580 1703,-2580 1703,-2580 1709,-2580 1715,-2586 1715,-2592 1715,-2592 1715,-2636 1715,-2636 1715,-2642 1709,-2648 1703,-2648\"/>\r\n",
       "<text text-anchor=\"middle\" x=\"1638\" y=\"-2632.8\" font-family=\"Helvetica,sans-Serif\" font-size=\"14.00\">gini = 0.0805</text>\r\n",
       "<text text-anchor=\"middle\" x=\"1638\" y=\"-2617.8\" font-family=\"Helvetica,sans-Serif\" font-size=\"14.00\">samples = 3.5%</text>\r\n",
       "<text text-anchor=\"middle\" x=\"1638\" y=\"-2602.8\" font-family=\"Helvetica,sans-Serif\" font-size=\"14.00\">value = [0.958, 0.042]</text>\r\n",
       "<text text-anchor=\"middle\" x=\"1638\" y=\"-2587.8\" font-family=\"Helvetica,sans-Serif\" font-size=\"14.00\">class = No alta</text>\r\n",
       "</g>\r\n",
       "<!-- 24&#45;&gt;26 -->\r\n",
       "<g id=\"edge26\" class=\"edge\"><title>24&#45;&gt;26</title>\r\n",
       "<path fill=\"none\" stroke=\"black\" d=\"M1517.3,-2614C1528.53,-2614 1539.77,-2614 1550.61,-2614\"/>\r\n",
       "<polygon fill=\"black\" stroke=\"black\" points=\"1550.88,-2617.5 1560.88,-2614 1550.88,-2610.5 1550.88,-2617.5\"/>\r\n",
       "</g>\r\n",
       "<!-- 28 -->\r\n",
       "<g id=\"node29\" class=\"node\"><title>28</title>\r\n",
       "<path fill=\"#e5813a\" stroke=\"black\" d=\"M1711,-2562C1711,-2562 1565,-2562 1565,-2562 1559,-2562 1553,-2556 1553,-2550 1553,-2550 1553,-2506 1553,-2506 1553,-2500 1559,-2494 1565,-2494 1565,-2494 1711,-2494 1711,-2494 1717,-2494 1723,-2500 1723,-2506 1723,-2506 1723,-2550 1723,-2550 1723,-2556 1717,-2562 1711,-2562\"/>\r\n",
       "<text text-anchor=\"middle\" x=\"1638\" y=\"-2546.8\" font-family=\"Helvetica,sans-Serif\" font-size=\"14.00\">gini = 0.0053</text>\r\n",
       "<text text-anchor=\"middle\" x=\"1638\" y=\"-2531.8\" font-family=\"Helvetica,sans-Serif\" font-size=\"14.00\">samples = 3.8%</text>\r\n",
       "<text text-anchor=\"middle\" x=\"1638\" y=\"-2516.8\" font-family=\"Helvetica,sans-Serif\" font-size=\"14.00\">value = [0.9974, 0.0026]</text>\r\n",
       "<text text-anchor=\"middle\" x=\"1638\" y=\"-2501.8\" font-family=\"Helvetica,sans-Serif\" font-size=\"14.00\">class = No alta</text>\r\n",
       "</g>\r\n",
       "<!-- 27&#45;&gt;28 -->\r\n",
       "<g id=\"edge28\" class=\"edge\"><title>27&#45;&gt;28</title>\r\n",
       "<path fill=\"none\" stroke=\"black\" d=\"M1493.75,-2497.3C1509.96,-2500.78 1526.79,-2504.38 1542.99,-2507.85\"/>\r\n",
       "<polygon fill=\"black\" stroke=\"black\" points=\"1542.46,-2511.32 1552.97,-2509.99 1543.93,-2504.48 1542.46,-2511.32\"/>\r\n",
       "</g>\r\n",
       "<!-- 29 -->\r\n",
       "<g id=\"node30\" class=\"node\"><title>29</title>\r\n",
       "<path fill=\"#eb9d65\" stroke=\"black\" d=\"M1711,-2476C1711,-2476 1565,-2476 1565,-2476 1559,-2476 1553,-2470 1553,-2464 1553,-2464 1553,-2420 1553,-2420 1553,-2414 1559,-2408 1565,-2408 1565,-2408 1711,-2408 1711,-2408 1717,-2408 1723,-2414 1723,-2420 1723,-2420 1723,-2464 1723,-2464 1723,-2470 1717,-2476 1711,-2476\"/>\r\n",
       "<text text-anchor=\"middle\" x=\"1638\" y=\"-2460.8\" font-family=\"Helvetica,sans-Serif\" font-size=\"14.00\">gini = 0.2975</text>\r\n",
       "<text text-anchor=\"middle\" x=\"1638\" y=\"-2445.8\" font-family=\"Helvetica,sans-Serif\" font-size=\"14.00\">samples = 0.0%</text>\r\n",
       "<text text-anchor=\"middle\" x=\"1638\" y=\"-2430.8\" font-family=\"Helvetica,sans-Serif\" font-size=\"14.00\">value = [0.8182, 0.1818]</text>\r\n",
       "<text text-anchor=\"middle\" x=\"1638\" y=\"-2415.8\" font-family=\"Helvetica,sans-Serif\" font-size=\"14.00\">class = No alta</text>\r\n",
       "</g>\r\n",
       "<!-- 27&#45;&gt;29 -->\r\n",
       "<g id=\"edge29\" class=\"edge\"><title>27&#45;&gt;29</title>\r\n",
       "<path fill=\"none\" stroke=\"black\" d=\"M1493.75,-2463.07C1509.96,-2460.68 1526.79,-2458.21 1542.99,-2455.83\"/>\r\n",
       "<polygon fill=\"black\" stroke=\"black\" points=\"1543.59,-2459.27 1552.97,-2454.36 1542.57,-2452.35 1543.59,-2459.27\"/>\r\n",
       "</g>\r\n",
       "<!-- 31 -->\r\n",
       "<g id=\"node32\" class=\"node\"><title>31</title>\r\n",
       "<path fill=\"#c4e2f7\" stroke=\"black\" d=\"M1494,-2319.5C1494,-2319.5 1302,-2319.5 1302,-2319.5 1296,-2319.5 1290,-2313.5 1290,-2307.5 1290,-2307.5 1290,-2248.5 1290,-2248.5 1290,-2242.5 1296,-2236.5 1302,-2236.5 1302,-2236.5 1494,-2236.5 1494,-2236.5 1500,-2236.5 1506,-2242.5 1506,-2248.5 1506,-2248.5 1506,-2307.5 1506,-2307.5 1506,-2313.5 1500,-2319.5 1494,-2319.5\"/>\r\n",
       "<text text-anchor=\"middle\" x=\"1398\" y=\"-2304.3\" font-family=\"Helvetica,sans-Serif\" font-size=\"14.00\">active_customer_shift_2 &lt;= 0.5</text>\r\n",
       "<text text-anchor=\"middle\" x=\"1398\" y=\"-2289.3\" font-family=\"Helvetica,sans-Serif\" font-size=\"14.00\">gini = 0.4844</text>\r\n",
       "<text text-anchor=\"middle\" x=\"1398\" y=\"-2274.3\" font-family=\"Helvetica,sans-Serif\" font-size=\"14.00\">samples = 0.0%</text>\r\n",
       "<text text-anchor=\"middle\" x=\"1398\" y=\"-2259.3\" font-family=\"Helvetica,sans-Serif\" font-size=\"14.00\">value = [0.4116, 0.5884]</text>\r\n",
       "<text text-anchor=\"middle\" x=\"1398\" y=\"-2244.3\" font-family=\"Helvetica,sans-Serif\" font-size=\"14.00\">class = Alta</text>\r\n",
       "</g>\r\n",
       "<!-- 30&#45;&gt;31 -->\r\n",
       "<g id=\"edge31\" class=\"edge\"><title>30&#45;&gt;31</title>\r\n",
       "<path fill=\"none\" stroke=\"black\" d=\"M1221.11,-2245.49C1240.14,-2249 1260.35,-2252.74 1280.03,-2256.38\"/>\r\n",
       "<polygon fill=\"black\" stroke=\"black\" points=\"1279.49,-2259.84 1289.96,-2258.21 1280.76,-2252.95 1279.49,-2259.84\"/>\r\n",
       "</g>\r\n",
       "<!-- 34 -->\r\n",
       "<g id=\"node35\" class=\"node\"><title>34</title>\r\n",
       "<path fill=\"#e68742\" stroke=\"black\" d=\"M1496.5,-2218.5C1496.5,-2218.5 1299.5,-2218.5 1299.5,-2218.5 1293.5,-2218.5 1287.5,-2212.5 1287.5,-2206.5 1287.5,-2206.5 1287.5,-2147.5 1287.5,-2147.5 1287.5,-2141.5 1293.5,-2135.5 1299.5,-2135.5 1299.5,-2135.5 1496.5,-2135.5 1496.5,-2135.5 1502.5,-2135.5 1508.5,-2141.5 1508.5,-2147.5 1508.5,-2147.5 1508.5,-2206.5 1508.5,-2206.5 1508.5,-2212.5 1502.5,-2218.5 1496.5,-2218.5\"/>\r\n",
       "<text text-anchor=\"middle\" x=\"1398\" y=\"-2203.3\" font-family=\"Helvetica,sans-Serif\" font-size=\"14.00\">dif_emc_account_shift_2 &lt;= 0.5</text>\r\n",
       "<text text-anchor=\"middle\" x=\"1398\" y=\"-2188.3\" font-family=\"Helvetica,sans-Serif\" font-size=\"14.00\">gini = 0.0832</text>\r\n",
       "<text text-anchor=\"middle\" x=\"1398\" y=\"-2173.3\" font-family=\"Helvetica,sans-Serif\" font-size=\"14.00\">samples = 0.0%</text>\r\n",
       "<text text-anchor=\"middle\" x=\"1398\" y=\"-2158.3\" font-family=\"Helvetica,sans-Serif\" font-size=\"14.00\">value = [0.9565, 0.0435]</text>\r\n",
       "<text text-anchor=\"middle\" x=\"1398\" y=\"-2143.3\" font-family=\"Helvetica,sans-Serif\" font-size=\"14.00\">class = No alta</text>\r\n",
       "</g>\r\n",
       "<!-- 30&#45;&gt;34 -->\r\n",
       "<g id=\"edge34\" class=\"edge\"><title>30&#45;&gt;34</title>\r\n",
       "<path fill=\"none\" stroke=\"black\" d=\"M1221.11,-2210.16C1239.19,-2206.75 1258.34,-2203.14 1277.09,-2199.61\"/>\r\n",
       "<polygon fill=\"black\" stroke=\"black\" points=\"1277.97,-2203 1287.15,-2197.71 1276.67,-2196.12 1277.97,-2203\"/>\r\n",
       "</g>\r\n",
       "<!-- 32 -->\r\n",
       "<g id=\"node33\" class=\"node\"><title>32</title>\r\n",
       "<path fill=\"#78bced\" stroke=\"black\" d=\"M1711,-2390C1711,-2390 1565,-2390 1565,-2390 1559,-2390 1553,-2384 1553,-2378 1553,-2378 1553,-2334 1553,-2334 1553,-2328 1559,-2322 1565,-2322 1565,-2322 1711,-2322 1711,-2322 1717,-2322 1723,-2328 1723,-2334 1723,-2334 1723,-2378 1723,-2378 1723,-2384 1717,-2390 1711,-2390\"/>\r\n",
       "<text text-anchor=\"middle\" x=\"1638\" y=\"-2374.8\" font-family=\"Helvetica,sans-Serif\" font-size=\"14.00\">gini = 0.3662</text>\r\n",
       "<text text-anchor=\"middle\" x=\"1638\" y=\"-2359.8\" font-family=\"Helvetica,sans-Serif\" font-size=\"14.00\">samples = 0.0%</text>\r\n",
       "<text text-anchor=\"middle\" x=\"1638\" y=\"-2344.8\" font-family=\"Helvetica,sans-Serif\" font-size=\"14.00\">value = [0.2414, 0.7586]</text>\r\n",
       "<text text-anchor=\"middle\" x=\"1638\" y=\"-2329.8\" font-family=\"Helvetica,sans-Serif\" font-size=\"14.00\">class = Alta</text>\r\n",
       "</g>\r\n",
       "<!-- 31&#45;&gt;32 -->\r\n",
       "<g id=\"edge32\" class=\"edge\"><title>31&#45;&gt;32</title>\r\n",
       "<path fill=\"none\" stroke=\"black\" d=\"M1506.16,-2313.12C1518.53,-2317.17 1531.06,-2321.28 1543.23,-2325.27\"/>\r\n",
       "<polygon fill=\"black\" stroke=\"black\" points=\"1542.31,-2328.65 1552.9,-2328.44 1544.49,-2322 1542.31,-2328.65\"/>\r\n",
       "</g>\r\n",
       "<!-- 33 -->\r\n",
       "<g id=\"node34\" class=\"node\"><title>33</title>\r\n",
       "<path fill=\"#c9e4f8\" stroke=\"black\" d=\"M1711,-2304C1711,-2304 1565,-2304 1565,-2304 1559,-2304 1553,-2298 1553,-2292 1553,-2292 1553,-2248 1553,-2248 1553,-2242 1559,-2236 1565,-2236 1565,-2236 1711,-2236 1711,-2236 1717,-2236 1723,-2242 1723,-2248 1723,-2248 1723,-2292 1723,-2292 1723,-2298 1717,-2304 1711,-2304\"/>\r\n",
       "<text text-anchor=\"middle\" x=\"1638\" y=\"-2288.8\" font-family=\"Helvetica,sans-Serif\" font-size=\"14.00\">gini = 0.4877</text>\r\n",
       "<text text-anchor=\"middle\" x=\"1638\" y=\"-2273.8\" font-family=\"Helvetica,sans-Serif\" font-size=\"14.00\">samples = 0.0%</text>\r\n",
       "<text text-anchor=\"middle\" x=\"1638\" y=\"-2258.8\" font-family=\"Helvetica,sans-Serif\" font-size=\"14.00\">value = [0.4215, 0.5785]</text>\r\n",
       "<text text-anchor=\"middle\" x=\"1638\" y=\"-2243.8\" font-family=\"Helvetica,sans-Serif\" font-size=\"14.00\">class = Alta</text>\r\n",
       "</g>\r\n",
       "<!-- 31&#45;&gt;33 -->\r\n",
       "<g id=\"edge33\" class=\"edge\"><title>31&#45;&gt;33</title>\r\n",
       "<path fill=\"none\" stroke=\"black\" d=\"M1506.16,-2274.4C1518.41,-2273.99 1530.82,-2273.57 1542.87,-2273.16\"/>\r\n",
       "<polygon fill=\"black\" stroke=\"black\" points=\"1543.02,-2276.66 1552.9,-2272.83 1542.79,-2269.66 1543.02,-2276.66\"/>\r\n",
       "</g>\r\n",
       "<!-- 35 -->\r\n",
       "<g id=\"node36\" class=\"node\"><title>35</title>\r\n",
       "<path fill=\"#e5833c\" stroke=\"black\" d=\"M1711,-2218C1711,-2218 1565,-2218 1565,-2218 1559,-2218 1553,-2212 1553,-2206 1553,-2206 1553,-2162 1553,-2162 1553,-2156 1559,-2150 1565,-2150 1565,-2150 1711,-2150 1711,-2150 1717,-2150 1723,-2156 1723,-2162 1723,-2162 1723,-2206 1723,-2206 1723,-2212 1717,-2218 1711,-2218\"/>\r\n",
       "<text text-anchor=\"middle\" x=\"1638\" y=\"-2202.8\" font-family=\"Helvetica,sans-Serif\" font-size=\"14.00\">gini = 0.0267</text>\r\n",
       "<text text-anchor=\"middle\" x=\"1638\" y=\"-2187.8\" font-family=\"Helvetica,sans-Serif\" font-size=\"14.00\">samples = 0.0%</text>\r\n",
       "<text text-anchor=\"middle\" x=\"1638\" y=\"-2172.8\" font-family=\"Helvetica,sans-Serif\" font-size=\"14.00\">value = [0.9865, 0.0135]</text>\r\n",
       "<text text-anchor=\"middle\" x=\"1638\" y=\"-2157.8\" font-family=\"Helvetica,sans-Serif\" font-size=\"14.00\">class = No alta</text>\r\n",
       "</g>\r\n",
       "<!-- 34&#45;&gt;35 -->\r\n",
       "<g id=\"edge35\" class=\"edge\"><title>34&#45;&gt;35</title>\r\n",
       "<path fill=\"none\" stroke=\"black\" d=\"M1508.6,-2180.22C1519.99,-2180.56 1531.5,-2180.9 1542.71,-2181.23\"/>\r\n",
       "<polygon fill=\"black\" stroke=\"black\" points=\"1542.8,-2184.73 1552.9,-2181.53 1543.01,-2177.73 1542.8,-2184.73\"/>\r\n",
       "</g>\r\n",
       "<!-- 36 -->\r\n",
       "<g id=\"node37\" class=\"node\"><title>36</title>\r\n",
       "<path fill=\"#ea9a61\" stroke=\"black\" d=\"M1711,-2132C1711,-2132 1565,-2132 1565,-2132 1559,-2132 1553,-2126 1553,-2120 1553,-2120 1553,-2076 1553,-2076 1553,-2070 1559,-2064 1565,-2064 1565,-2064 1711,-2064 1711,-2064 1717,-2064 1723,-2070 1723,-2076 1723,-2076 1723,-2120 1723,-2120 1723,-2126 1717,-2132 1711,-2132\"/>\r\n",
       "<text text-anchor=\"middle\" x=\"1638\" y=\"-2116.8\" font-family=\"Helvetica,sans-Serif\" font-size=\"14.00\">gini = 0.2778</text>\r\n",
       "<text text-anchor=\"middle\" x=\"1638\" y=\"-2101.8\" font-family=\"Helvetica,sans-Serif\" font-size=\"14.00\">samples = 0.0%</text>\r\n",
       "<text text-anchor=\"middle\" x=\"1638\" y=\"-2086.8\" font-family=\"Helvetica,sans-Serif\" font-size=\"14.00\">value = [0.8333, 0.1667]</text>\r\n",
       "<text text-anchor=\"middle\" x=\"1638\" y=\"-2071.8\" font-family=\"Helvetica,sans-Serif\" font-size=\"14.00\">class = No alta</text>\r\n",
       "</g>\r\n",
       "<!-- 34&#45;&gt;36 -->\r\n",
       "<g id=\"edge36\" class=\"edge\"><title>34&#45;&gt;36</title>\r\n",
       "<path fill=\"none\" stroke=\"black\" d=\"M1508.6,-2140.62C1520.22,-2136.76 1531.97,-2132.86 1543.39,-2129.07\"/>\r\n",
       "<polygon fill=\"black\" stroke=\"black\" points=\"1544.51,-2132.39 1552.9,-2125.92 1542.31,-2125.74 1544.51,-2132.39\"/>\r\n",
       "</g>\r\n",
       "<!-- 38 -->\r\n",
       "<g id=\"node39\" class=\"node\"><title>38</title>\r\n",
       "<path fill=\"#fef8f4\" stroke=\"black\" d=\"M1203,-1923.5C1203,-1923.5 1048,-1923.5 1048,-1923.5 1042,-1923.5 1036,-1917.5 1036,-1911.5 1036,-1911.5 1036,-1852.5 1036,-1852.5 1036,-1846.5 1042,-1840.5 1048,-1840.5 1048,-1840.5 1203,-1840.5 1203,-1840.5 1209,-1840.5 1215,-1846.5 1215,-1852.5 1215,-1852.5 1215,-1911.5 1215,-1911.5 1215,-1917.5 1209,-1923.5 1203,-1923.5\"/>\r\n",
       "<text text-anchor=\"middle\" x=\"1125.5\" y=\"-1908.3\" font-family=\"Helvetica,sans-Serif\" font-size=\"14.00\">debit_card_shift_1 &lt;= 0.5</text>\r\n",
       "<text text-anchor=\"middle\" x=\"1125.5\" y=\"-1893.3\" font-family=\"Helvetica,sans-Serif\" font-size=\"14.00\">gini = 0.4996</text>\r\n",
       "<text text-anchor=\"middle\" x=\"1125.5\" y=\"-1878.3\" font-family=\"Helvetica,sans-Serif\" font-size=\"14.00\">samples = 0.3%</text>\r\n",
       "<text text-anchor=\"middle\" x=\"1125.5\" y=\"-1863.3\" font-family=\"Helvetica,sans-Serif\" font-size=\"14.00\">value = [0.5139, 0.4861]</text>\r\n",
       "<text text-anchor=\"middle\" x=\"1125.5\" y=\"-1848.3\" font-family=\"Helvetica,sans-Serif\" font-size=\"14.00\">class = No alta</text>\r\n",
       "</g>\r\n",
       "<!-- 37&#45;&gt;38 -->\r\n",
       "<g id=\"edge38\" class=\"edge\"><title>37&#45;&gt;38</title>\r\n",
       "<path fill=\"none\" stroke=\"black\" d=\"M947.82,-1882C973.237,-1882 1000.33,-1882 1025.47,-1882\"/>\r\n",
       "<polygon fill=\"black\" stroke=\"black\" points=\"1025.74,-1885.5 1035.74,-1882 1025.74,-1878.5 1025.74,-1885.5\"/>\r\n",
       "</g>\r\n",
       "<!-- 45 -->\r\n",
       "<g id=\"node46\" class=\"node\"><title>45</title>\r\n",
       "<path fill=\"#e5823a\" stroke=\"black\" d=\"M1231,-1674.5C1231,-1674.5 1020,-1674.5 1020,-1674.5 1014,-1674.5 1008,-1668.5 1008,-1662.5 1008,-1662.5 1008,-1603.5 1008,-1603.5 1008,-1597.5 1014,-1591.5 1020,-1591.5 1020,-1591.5 1231,-1591.5 1231,-1591.5 1237,-1591.5 1243,-1597.5 1243,-1603.5 1243,-1603.5 1243,-1662.5 1243,-1662.5 1243,-1668.5 1237,-1674.5 1231,-1674.5\"/>\r\n",
       "<text text-anchor=\"middle\" x=\"1125.5\" y=\"-1659.3\" font-family=\"Helvetica,sans-Serif\" font-size=\"14.00\">dif_payroll_account_shift_1 &lt;= 0.5</text>\r\n",
       "<text text-anchor=\"middle\" x=\"1125.5\" y=\"-1644.3\" font-family=\"Helvetica,sans-Serif\" font-size=\"14.00\">gini = 0.0142</text>\r\n",
       "<text text-anchor=\"middle\" x=\"1125.5\" y=\"-1629.3\" font-family=\"Helvetica,sans-Serif\" font-size=\"14.00\">samples = 0.4%</text>\r\n",
       "<text text-anchor=\"middle\" x=\"1125.5\" y=\"-1614.3\" font-family=\"Helvetica,sans-Serif\" font-size=\"14.00\">value = [0.9928, 0.0072]</text>\r\n",
       "<text text-anchor=\"middle\" x=\"1125.5\" y=\"-1599.3\" font-family=\"Helvetica,sans-Serif\" font-size=\"14.00\">class = No alta</text>\r\n",
       "</g>\r\n",
       "<!-- 37&#45;&gt;45 -->\r\n",
       "<g id=\"edge45\" class=\"edge\"><title>37&#45;&gt;45</title>\r\n",
       "<path fill=\"none\" stroke=\"black\" d=\"M890.117,-1840.32C939.644,-1796.51 1017.48,-1727.66 1069.71,-1681.46\"/>\r\n",
       "<polygon fill=\"black\" stroke=\"black\" points=\"1072.06,-1684.06 1077.23,-1674.81 1067.42,-1678.82 1072.06,-1684.06\"/>\r\n",
       "</g>\r\n",
       "<!-- 39 -->\r\n",
       "<g id=\"node40\" class=\"node\"><title>39</title>\r\n",
       "<path fill=\"#e99558\" stroke=\"black\" d=\"M1471,-1974.5C1471,-1974.5 1325,-1974.5 1325,-1974.5 1319,-1974.5 1313,-1968.5 1313,-1962.5 1313,-1962.5 1313,-1903.5 1313,-1903.5 1313,-1897.5 1319,-1891.5 1325,-1891.5 1325,-1891.5 1471,-1891.5 1471,-1891.5 1477,-1891.5 1483,-1897.5 1483,-1903.5 1483,-1903.5 1483,-1962.5 1483,-1962.5 1483,-1968.5 1477,-1974.5 1471,-1974.5\"/>\r\n",
       "<text text-anchor=\"middle\" x=\"1398\" y=\"-1959.3\" font-family=\"Helvetica,sans-Serif\" font-size=\"14.00\">hayAlta_1 &lt;= 0.5</text>\r\n",
       "<text text-anchor=\"middle\" x=\"1398\" y=\"-1944.3\" font-family=\"Helvetica,sans-Serif\" font-size=\"14.00\">gini = 0.2328</text>\r\n",
       "<text text-anchor=\"middle\" x=\"1398\" y=\"-1929.3\" font-family=\"Helvetica,sans-Serif\" font-size=\"14.00\">samples = 0.1%</text>\r\n",
       "<text text-anchor=\"middle\" x=\"1398\" y=\"-1914.3\" font-family=\"Helvetica,sans-Serif\" font-size=\"14.00\">value = [0.8655, 0.1345]</text>\r\n",
       "<text text-anchor=\"middle\" x=\"1398\" y=\"-1899.3\" font-family=\"Helvetica,sans-Serif\" font-size=\"14.00\">class = No alta</text>\r\n",
       "</g>\r\n",
       "<!-- 38&#45;&gt;39 -->\r\n",
       "<g id=\"edge39\" class=\"edge\"><title>38&#45;&gt;39</title>\r\n",
       "<path fill=\"none\" stroke=\"black\" d=\"M1215.07,-1898.7C1243.19,-1904 1274.37,-1909.88 1302.87,-1915.25\"/>\r\n",
       "<polygon fill=\"black\" stroke=\"black\" points=\"1302.35,-1918.72 1312.83,-1917.13 1303.65,-1911.84 1302.35,-1918.72\"/>\r\n",
       "</g>\r\n",
       "<!-- 42 -->\r\n",
       "<g id=\"node43\" class=\"node\"><title>42</title>\r\n",
       "<path fill=\"#86c3ef\" stroke=\"black\" d=\"M1489,-1873.5C1489,-1873.5 1307,-1873.5 1307,-1873.5 1301,-1873.5 1295,-1867.5 1295,-1861.5 1295,-1861.5 1295,-1802.5 1295,-1802.5 1295,-1796.5 1301,-1790.5 1307,-1790.5 1307,-1790.5 1489,-1790.5 1489,-1790.5 1495,-1790.5 1501,-1796.5 1501,-1802.5 1501,-1802.5 1501,-1861.5 1501,-1861.5 1501,-1867.5 1495,-1873.5 1489,-1873.5\"/>\r\n",
       "<text text-anchor=\"middle\" x=\"1398\" y=\"-1858.3\" font-family=\"Helvetica,sans-Serif\" font-size=\"14.00\">dif_em_acount_shift_2 &lt;= 0.5</text>\r\n",
       "<text text-anchor=\"middle\" x=\"1398\" y=\"-1843.3\" font-family=\"Helvetica,sans-Serif\" font-size=\"14.00\">gini = 0.4041</text>\r\n",
       "<text text-anchor=\"middle\" x=\"1398\" y=\"-1828.3\" font-family=\"Helvetica,sans-Serif\" font-size=\"14.00\">samples = 0.2%</text>\r\n",
       "<text text-anchor=\"middle\" x=\"1398\" y=\"-1813.3\" font-family=\"Helvetica,sans-Serif\" font-size=\"14.00\">value = [0.281, 0.719]</text>\r\n",
       "<text text-anchor=\"middle\" x=\"1398\" y=\"-1798.3\" font-family=\"Helvetica,sans-Serif\" font-size=\"14.00\">class = Alta</text>\r\n",
       "</g>\r\n",
       "<!-- 38&#45;&gt;42 -->\r\n",
       "<g id=\"edge42\" class=\"edge\"><title>38&#45;&gt;42</title>\r\n",
       "<path fill=\"none\" stroke=\"black\" d=\"M1215.07,-1865.63C1237.32,-1861.52 1261.48,-1857.05 1284.72,-1852.75\"/>\r\n",
       "<polygon fill=\"black\" stroke=\"black\" points=\"1285.41,-1856.19 1294.61,-1850.93 1284.14,-1849.3 1285.41,-1856.19\"/>\r\n",
       "</g>\r\n",
       "<!-- 40 -->\r\n",
       "<g id=\"node41\" class=\"node\"><title>40</title>\r\n",
       "<path fill=\"#eca572\" stroke=\"black\" d=\"M1711,-2046C1711,-2046 1565,-2046 1565,-2046 1559,-2046 1553,-2040 1553,-2034 1553,-2034 1553,-1990 1553,-1990 1553,-1984 1559,-1978 1565,-1978 1565,-1978 1711,-1978 1711,-1978 1717,-1978 1723,-1984 1723,-1990 1723,-1990 1723,-2034 1723,-2034 1723,-2040 1717,-2046 1711,-2046\"/>\r\n",
       "<text text-anchor=\"middle\" x=\"1638\" y=\"-2030.8\" font-family=\"Helvetica,sans-Serif\" font-size=\"14.00\">gini = 0.3458</text>\r\n",
       "<text text-anchor=\"middle\" x=\"1638\" y=\"-2015.8\" font-family=\"Helvetica,sans-Serif\" font-size=\"14.00\">samples = 0.0%</text>\r\n",
       "<text text-anchor=\"middle\" x=\"1638\" y=\"-2000.8\" font-family=\"Helvetica,sans-Serif\" font-size=\"14.00\">value = [0.7776, 0.2224]</text>\r\n",
       "<text text-anchor=\"middle\" x=\"1638\" y=\"-1985.8\" font-family=\"Helvetica,sans-Serif\" font-size=\"14.00\">class = No alta</text>\r\n",
       "</g>\r\n",
       "<!-- 39&#45;&gt;40 -->\r\n",
       "<g id=\"edge40\" class=\"edge\"><title>39&#45;&gt;40</title>\r\n",
       "<path fill=\"none\" stroke=\"black\" d=\"M1483.24,-1960.96C1502.67,-1967.41 1523.44,-1974.31 1543.24,-1980.88\"/>\r\n",
       "<polygon fill=\"black\" stroke=\"black\" points=\"1542.27,-1984.25 1552.87,-1984.07 1544.48,-1977.6 1542.27,-1984.25\"/>\r\n",
       "</g>\r\n",
       "<!-- 41 -->\r\n",
       "<g id=\"node42\" class=\"node\"><title>41</title>\r\n",
       "<path fill=\"#e78b48\" stroke=\"black\" d=\"M1711,-1960C1711,-1960 1565,-1960 1565,-1960 1559,-1960 1553,-1954 1553,-1948 1553,-1948 1553,-1904 1553,-1904 1553,-1898 1559,-1892 1565,-1892 1565,-1892 1711,-1892 1711,-1892 1717,-1892 1723,-1898 1723,-1904 1723,-1904 1723,-1948 1723,-1948 1723,-1954 1717,-1960 1711,-1960\"/>\r\n",
       "<text text-anchor=\"middle\" x=\"1638\" y=\"-1944.8\" font-family=\"Helvetica,sans-Serif\" font-size=\"14.00\">gini = 0.131</text>\r\n",
       "<text text-anchor=\"middle\" x=\"1638\" y=\"-1929.8\" font-family=\"Helvetica,sans-Serif\" font-size=\"14.00\">samples = 0.1%</text>\r\n",
       "<text text-anchor=\"middle\" x=\"1638\" y=\"-1914.8\" font-family=\"Helvetica,sans-Serif\" font-size=\"14.00\">value = [0.9295, 0.0705]</text>\r\n",
       "<text text-anchor=\"middle\" x=\"1638\" y=\"-1899.8\" font-family=\"Helvetica,sans-Serif\" font-size=\"14.00\">class = No alta</text>\r\n",
       "</g>\r\n",
       "<!-- 39&#45;&gt;41 -->\r\n",
       "<g id=\"edge41\" class=\"edge\"><title>39&#45;&gt;41</title>\r\n",
       "<path fill=\"none\" stroke=\"black\" d=\"M1483.24,-1930.52C1502.49,-1929.96 1523.06,-1929.35 1542.7,-1928.77\"/>\r\n",
       "<polygon fill=\"black\" stroke=\"black\" points=\"1542.98,-1932.27 1552.87,-1928.47 1542.77,-1925.27 1542.98,-1932.27\"/>\r\n",
       "</g>\r\n",
       "<!-- 43 -->\r\n",
       "<g id=\"node44\" class=\"node\"><title>43</title>\r\n",
       "<path fill=\"#78bced\" stroke=\"black\" d=\"M1711,-1874C1711,-1874 1565,-1874 1565,-1874 1559,-1874 1553,-1868 1553,-1862 1553,-1862 1553,-1818 1553,-1818 1553,-1812 1559,-1806 1565,-1806 1565,-1806 1711,-1806 1711,-1806 1717,-1806 1723,-1812 1723,-1818 1723,-1818 1723,-1862 1723,-1862 1723,-1868 1717,-1874 1711,-1874\"/>\r\n",
       "<text text-anchor=\"middle\" x=\"1638\" y=\"-1858.8\" font-family=\"Helvetica,sans-Serif\" font-size=\"14.00\">gini = 0.3656</text>\r\n",
       "<text text-anchor=\"middle\" x=\"1638\" y=\"-1843.8\" font-family=\"Helvetica,sans-Serif\" font-size=\"14.00\">samples = 0.1%</text>\r\n",
       "<text text-anchor=\"middle\" x=\"1638\" y=\"-1828.8\" font-family=\"Helvetica,sans-Serif\" font-size=\"14.00\">value = [0.2408, 0.7592]</text>\r\n",
       "<text text-anchor=\"middle\" x=\"1638\" y=\"-1813.8\" font-family=\"Helvetica,sans-Serif\" font-size=\"14.00\">class = Alta</text>\r\n",
       "</g>\r\n",
       "<!-- 42&#45;&gt;43 -->\r\n",
       "<g id=\"edge43\" class=\"edge\"><title>42&#45;&gt;43</title>\r\n",
       "<path fill=\"none\" stroke=\"black\" d=\"M1501.31,-1835.44C1514.97,-1835.9 1528.92,-1836.37 1542.44,-1836.82\"/>\r\n",
       "<polygon fill=\"black\" stroke=\"black\" points=\"1542.56,-1840.33 1552.67,-1837.17 1542.79,-1833.33 1542.56,-1840.33\"/>\r\n",
       "</g>\r\n",
       "<!-- 44 -->\r\n",
       "<g id=\"node45\" class=\"node\"><title>44</title>\r\n",
       "<path fill=\"#d5eaf9\" stroke=\"black\" d=\"M1711,-1788C1711,-1788 1565,-1788 1565,-1788 1559,-1788 1553,-1782 1553,-1776 1553,-1776 1553,-1732 1553,-1732 1553,-1726 1559,-1720 1565,-1720 1565,-1720 1711,-1720 1711,-1720 1717,-1720 1723,-1726 1723,-1732 1723,-1732 1723,-1776 1723,-1776 1723,-1782 1717,-1788 1711,-1788\"/>\r\n",
       "<text text-anchor=\"middle\" x=\"1638\" y=\"-1772.8\" font-family=\"Helvetica,sans-Serif\" font-size=\"14.00\">gini = 0.4929</text>\r\n",
       "<text text-anchor=\"middle\" x=\"1638\" y=\"-1757.8\" font-family=\"Helvetica,sans-Serif\" font-size=\"14.00\">samples = 0.0%</text>\r\n",
       "<text text-anchor=\"middle\" x=\"1638\" y=\"-1742.8\" font-family=\"Helvetica,sans-Serif\" font-size=\"14.00\">value = [0.4403, 0.5597]</text>\r\n",
       "<text text-anchor=\"middle\" x=\"1638\" y=\"-1727.8\" font-family=\"Helvetica,sans-Serif\" font-size=\"14.00\">class = Alta</text>\r\n",
       "</g>\r\n",
       "<!-- 42&#45;&gt;44 -->\r\n",
       "<g id=\"edge44\" class=\"edge\"><title>42&#45;&gt;44</title>\r\n",
       "<path fill=\"none\" stroke=\"black\" d=\"M1501.31,-1798.47C1515.1,-1793.95 1529.2,-1789.33 1542.83,-1784.86\"/>\r\n",
       "<polygon fill=\"black\" stroke=\"black\" points=\"1544.26,-1788.08 1552.67,-1781.64 1542.08,-1781.43 1544.26,-1788.08\"/>\r\n",
       "</g>\r\n",
       "<!-- 46 -->\r\n",
       "<g id=\"node47\" class=\"node\"><title>46</title>\r\n",
       "<path fill=\"#eda877\" stroke=\"black\" d=\"M1471,-1674.5C1471,-1674.5 1325,-1674.5 1325,-1674.5 1319,-1674.5 1313,-1668.5 1313,-1662.5 1313,-1662.5 1313,-1603.5 1313,-1603.5 1313,-1597.5 1319,-1591.5 1325,-1591.5 1325,-1591.5 1471,-1591.5 1471,-1591.5 1477,-1591.5 1483,-1597.5 1483,-1603.5 1483,-1603.5 1483,-1662.5 1483,-1662.5 1483,-1668.5 1477,-1674.5 1471,-1674.5\"/>\r\n",
       "<text text-anchor=\"middle\" x=\"1398\" y=\"-1659.3\" font-family=\"Helvetica,sans-Serif\" font-size=\"14.00\">hayAlta_2 &lt;= 0.5</text>\r\n",
       "<text text-anchor=\"middle\" x=\"1398\" y=\"-1644.3\" font-family=\"Helvetica,sans-Serif\" font-size=\"14.00\">gini = 0.3631</text>\r\n",
       "<text text-anchor=\"middle\" x=\"1398\" y=\"-1629.3\" font-family=\"Helvetica,sans-Serif\" font-size=\"14.00\">samples = 0.0%</text>\r\n",
       "<text text-anchor=\"middle\" x=\"1398\" y=\"-1614.3\" font-family=\"Helvetica,sans-Serif\" font-size=\"14.00\">value = [0.7616, 0.2384]</text>\r\n",
       "<text text-anchor=\"middle\" x=\"1398\" y=\"-1599.3\" font-family=\"Helvetica,sans-Serif\" font-size=\"14.00\">class = No alta</text>\r\n",
       "</g>\r\n",
       "<!-- 45&#45;&gt;46 -->\r\n",
       "<g id=\"edge46\" class=\"edge\"><title>45&#45;&gt;46</title>\r\n",
       "<path fill=\"none\" stroke=\"black\" d=\"M1243.18,-1633C1263.06,-1633 1283.48,-1633 1302.69,-1633\"/>\r\n",
       "<polygon fill=\"black\" stroke=\"black\" points=\"1302.92,-1636.5 1312.92,-1633 1302.92,-1629.5 1302.92,-1636.5\"/>\r\n",
       "</g>\r\n",
       "<!-- 49 -->\r\n",
       "<g id=\"node50\" class=\"node\"><title>49</title>\r\n",
       "<path fill=\"#e5813a\" stroke=\"black\" d=\"M1503.5,-1537.5C1503.5,-1537.5 1292.5,-1537.5 1292.5,-1537.5 1286.5,-1537.5 1280.5,-1531.5 1280.5,-1525.5 1280.5,-1525.5 1280.5,-1466.5 1280.5,-1466.5 1280.5,-1460.5 1286.5,-1454.5 1292.5,-1454.5 1292.5,-1454.5 1503.5,-1454.5 1503.5,-1454.5 1509.5,-1454.5 1515.5,-1460.5 1515.5,-1466.5 1515.5,-1466.5 1515.5,-1525.5 1515.5,-1525.5 1515.5,-1531.5 1509.5,-1537.5 1503.5,-1537.5\"/>\r\n",
       "<text text-anchor=\"middle\" x=\"1398\" y=\"-1522.3\" font-family=\"Helvetica,sans-Serif\" font-size=\"14.00\">dif_payroll_account_shift_3 &lt;= 0.5</text>\r\n",
       "<text text-anchor=\"middle\" x=\"1398\" y=\"-1507.3\" font-family=\"Helvetica,sans-Serif\" font-size=\"14.00\">gini = 0.0069</text>\r\n",
       "<text text-anchor=\"middle\" x=\"1398\" y=\"-1492.3\" font-family=\"Helvetica,sans-Serif\" font-size=\"14.00\">samples = 0.4%</text>\r\n",
       "<text text-anchor=\"middle\" x=\"1398\" y=\"-1477.3\" font-family=\"Helvetica,sans-Serif\" font-size=\"14.00\">value = [0.9966, 0.0034]</text>\r\n",
       "<text text-anchor=\"middle\" x=\"1398\" y=\"-1462.3\" font-family=\"Helvetica,sans-Serif\" font-size=\"14.00\">class = No alta</text>\r\n",
       "</g>\r\n",
       "<!-- 45&#45;&gt;49 -->\r\n",
       "<g id=\"edge49\" class=\"edge\"><title>45&#45;&gt;49</title>\r\n",
       "<path fill=\"none\" stroke=\"black\" d=\"M1208.76,-1591.34C1239.32,-1575.86 1274.16,-1558.21 1305.5,-1542.34\"/>\r\n",
       "<polygon fill=\"black\" stroke=\"black\" points=\"1307.32,-1545.34 1314.66,-1537.7 1304.16,-1539.1 1307.32,-1545.34\"/>\r\n",
       "</g>\r\n",
       "<!-- 47 -->\r\n",
       "<g id=\"node48\" class=\"node\"><title>47</title>\r\n",
       "<path fill=\"#f2bf9b\" stroke=\"black\" d=\"M1711,-1702C1711,-1702 1565,-1702 1565,-1702 1559,-1702 1553,-1696 1553,-1690 1553,-1690 1553,-1646 1553,-1646 1553,-1640 1559,-1634 1565,-1634 1565,-1634 1711,-1634 1711,-1634 1717,-1634 1723,-1640 1723,-1646 1723,-1646 1723,-1690 1723,-1690 1723,-1696 1717,-1702 1711,-1702\"/>\r\n",
       "<text text-anchor=\"middle\" x=\"1638\" y=\"-1686.8\" font-family=\"Helvetica,sans-Serif\" font-size=\"14.00\">gini = 0.4423</text>\r\n",
       "<text text-anchor=\"middle\" x=\"1638\" y=\"-1671.8\" font-family=\"Helvetica,sans-Serif\" font-size=\"14.00\">samples = 0.0%</text>\r\n",
       "<text text-anchor=\"middle\" x=\"1638\" y=\"-1656.8\" font-family=\"Helvetica,sans-Serif\" font-size=\"14.00\">value = [0.6699, 0.3301]</text>\r\n",
       "<text text-anchor=\"middle\" x=\"1638\" y=\"-1641.8\" font-family=\"Helvetica,sans-Serif\" font-size=\"14.00\">class = No alta</text>\r\n",
       "</g>\r\n",
       "<!-- 46&#45;&gt;47 -->\r\n",
       "<g id=\"edge47\" class=\"edge\"><title>46&#45;&gt;47</title>\r\n",
       "<path fill=\"none\" stroke=\"black\" d=\"M1483.24,-1645.39C1502.58,-1648.23 1523.25,-1651.27 1542.97,-1654.17\"/>\r\n",
       "<polygon fill=\"black\" stroke=\"black\" points=\"1542.47,-1657.64 1552.87,-1655.63 1543.48,-1650.71 1542.47,-1657.64\"/>\r\n",
       "</g>\r\n",
       "<!-- 48 -->\r\n",
       "<g id=\"node49\" class=\"node\"><title>48</title>\r\n",
       "<path fill=\"#e88f4f\" stroke=\"black\" d=\"M1711,-1616C1711,-1616 1565,-1616 1565,-1616 1559,-1616 1553,-1610 1553,-1604 1553,-1604 1553,-1560 1553,-1560 1553,-1554 1559,-1548 1565,-1548 1565,-1548 1711,-1548 1711,-1548 1717,-1548 1723,-1554 1723,-1560 1723,-1560 1723,-1604 1723,-1604 1723,-1610 1717,-1616 1711,-1616\"/>\r\n",
       "<text text-anchor=\"middle\" x=\"1638\" y=\"-1600.8\" font-family=\"Helvetica,sans-Serif\" font-size=\"14.00\">gini = 0.1823</text>\r\n",
       "<text text-anchor=\"middle\" x=\"1638\" y=\"-1585.8\" font-family=\"Helvetica,sans-Serif\" font-size=\"14.00\">samples = 0.0%</text>\r\n",
       "<text text-anchor=\"middle\" x=\"1638\" y=\"-1570.8\" font-family=\"Helvetica,sans-Serif\" font-size=\"14.00\">value = [0.8986, 0.1014]</text>\r\n",
       "<text text-anchor=\"middle\" x=\"1638\" y=\"-1555.8\" font-family=\"Helvetica,sans-Serif\" font-size=\"14.00\">class = No alta</text>\r\n",
       "</g>\r\n",
       "<!-- 46&#45;&gt;48 -->\r\n",
       "<g id=\"edge48\" class=\"edge\"><title>46&#45;&gt;48</title>\r\n",
       "<path fill=\"none\" stroke=\"black\" d=\"M1483.24,-1614.95C1502.58,-1610.8 1523.25,-1606.37 1542.97,-1602.15\"/>\r\n",
       "<polygon fill=\"black\" stroke=\"black\" points=\"1543.82,-1605.55 1552.87,-1600.03 1542.36,-1598.7 1543.82,-1605.55\"/>\r\n",
       "</g>\r\n",
       "<!-- 50 -->\r\n",
       "<g id=\"node51\" class=\"node\"><title>50</title>\r\n",
       "<path fill=\"#e5813a\" stroke=\"black\" d=\"M1711,-1530C1711,-1530 1565,-1530 1565,-1530 1559,-1530 1553,-1524 1553,-1518 1553,-1518 1553,-1474 1553,-1474 1553,-1468 1559,-1462 1565,-1462 1565,-1462 1711,-1462 1711,-1462 1717,-1462 1723,-1468 1723,-1474 1723,-1474 1723,-1518 1723,-1518 1723,-1524 1717,-1530 1711,-1530\"/>\r\n",
       "<text text-anchor=\"middle\" x=\"1638\" y=\"-1514.8\" font-family=\"Helvetica,sans-Serif\" font-size=\"14.00\">gini = 0.0067</text>\r\n",
       "<text text-anchor=\"middle\" x=\"1638\" y=\"-1499.8\" font-family=\"Helvetica,sans-Serif\" font-size=\"14.00\">samples = 0.4%</text>\r\n",
       "<text text-anchor=\"middle\" x=\"1638\" y=\"-1484.8\" font-family=\"Helvetica,sans-Serif\" font-size=\"14.00\">value = [0.9966, 0.0034]</text>\r\n",
       "<text text-anchor=\"middle\" x=\"1638\" y=\"-1469.8\" font-family=\"Helvetica,sans-Serif\" font-size=\"14.00\">class = No alta</text>\r\n",
       "</g>\r\n",
       "<!-- 49&#45;&gt;50 -->\r\n",
       "<g id=\"edge50\" class=\"edge\"><title>49&#45;&gt;50</title>\r\n",
       "<path fill=\"none\" stroke=\"black\" d=\"M1515.56,-1496C1524.72,-1496 1533.89,-1496 1542.87,-1496\"/>\r\n",
       "<polygon fill=\"black\" stroke=\"black\" points=\"1542.91,-1499.5 1552.91,-1496 1542.91,-1492.5 1542.91,-1499.5\"/>\r\n",
       "</g>\r\n",
       "<!-- 51 -->\r\n",
       "<g id=\"node52\" class=\"node\"><title>51</title>\r\n",
       "<path fill=\"#ea9a61\" stroke=\"black\" d=\"M1711,-1444C1711,-1444 1565,-1444 1565,-1444 1559,-1444 1553,-1438 1553,-1432 1553,-1432 1553,-1388 1553,-1388 1553,-1382 1559,-1376 1565,-1376 1565,-1376 1711,-1376 1711,-1376 1717,-1376 1723,-1382 1723,-1388 1723,-1388 1723,-1432 1723,-1432 1723,-1438 1717,-1444 1711,-1444\"/>\r\n",
       "<text text-anchor=\"middle\" x=\"1638\" y=\"-1428.8\" font-family=\"Helvetica,sans-Serif\" font-size=\"14.00\">gini = 0.2778</text>\r\n",
       "<text text-anchor=\"middle\" x=\"1638\" y=\"-1413.8\" font-family=\"Helvetica,sans-Serif\" font-size=\"14.00\">samples = 0.0%</text>\r\n",
       "<text text-anchor=\"middle\" x=\"1638\" y=\"-1398.8\" font-family=\"Helvetica,sans-Serif\" font-size=\"14.00\">value = [0.8333, 0.1667]</text>\r\n",
       "<text text-anchor=\"middle\" x=\"1638\" y=\"-1383.8\" font-family=\"Helvetica,sans-Serif\" font-size=\"14.00\">class = No alta</text>\r\n",
       "</g>\r\n",
       "<!-- 49&#45;&gt;51 -->\r\n",
       "<g id=\"edge51\" class=\"edge\"><title>49&#45;&gt;51</title>\r\n",
       "<path fill=\"none\" stroke=\"black\" d=\"M1514.17,-1454.39C1523.95,-1450.85 1533.78,-1447.3 1543.37,-1443.83\"/>\r\n",
       "<polygon fill=\"black\" stroke=\"black\" points=\"1544.66,-1447.09 1552.88,-1440.4 1542.28,-1440.5 1544.66,-1447.09\"/>\r\n",
       "</g>\r\n",
       "<!-- 53 -->\r\n",
       "<g id=\"node54\" class=\"node\"><title>53</title>\r\n",
       "<path fill=\"#e5823a\" stroke=\"black\" d=\"M948.5,-1063.5C948.5,-1063.5 735.5,-1063.5 735.5,-1063.5 729.5,-1063.5 723.5,-1057.5 723.5,-1051.5 723.5,-1051.5 723.5,-992.5 723.5,-992.5 723.5,-986.5 729.5,-980.5 735.5,-980.5 735.5,-980.5 948.5,-980.5 948.5,-980.5 954.5,-980.5 960.5,-986.5 960.5,-992.5 960.5,-992.5 960.5,-1051.5 960.5,-1051.5 960.5,-1057.5 954.5,-1063.5 948.5,-1063.5\"/>\r\n",
       "<text text-anchor=\"middle\" x=\"842\" y=\"-1048.3\" font-family=\"Helvetica,sans-Serif\" font-size=\"14.00\">diasDesdeUltimaBajaInt_1 &lt;= 29.0</text>\r\n",
       "<text text-anchor=\"middle\" x=\"842\" y=\"-1033.3\" font-family=\"Helvetica,sans-Serif\" font-size=\"14.00\">gini = 0.0106</text>\r\n",
       "<text text-anchor=\"middle\" x=\"842\" y=\"-1018.3\" font-family=\"Helvetica,sans-Serif\" font-size=\"14.00\">samples = 11.1%</text>\r\n",
       "<text text-anchor=\"middle\" x=\"842\" y=\"-1003.3\" font-family=\"Helvetica,sans-Serif\" font-size=\"14.00\">value = [0.9947, 0.0053]</text>\r\n",
       "<text text-anchor=\"middle\" x=\"842\" y=\"-988.3\" font-family=\"Helvetica,sans-Serif\" font-size=\"14.00\">class = No alta</text>\r\n",
       "</g>\r\n",
       "<!-- 52&#45;&gt;53 -->\r\n",
       "<g id=\"edge53\" class=\"edge\"><title>52&#45;&gt;53</title>\r\n",
       "<path fill=\"none\" stroke=\"black\" d=\"M653.2,-1022C672.153,-1022 692.684,-1022 712.977,-1022\"/>\r\n",
       "<polygon fill=\"black\" stroke=\"black\" points=\"713.234,-1025.5 723.234,-1022 713.234,-1018.5 713.234,-1025.5\"/>\r\n",
       "</g>\r\n",
       "<!-- 68 -->\r\n",
       "<g id=\"node69\" class=\"node\"><title>68</title>\r\n",
       "<path fill=\"#e58139\" stroke=\"black\" d=\"M933,-549.5C933,-549.5 751,-549.5 751,-549.5 745,-549.5 739,-543.5 739,-537.5 739,-537.5 739,-478.5 739,-478.5 739,-472.5 745,-466.5 751,-466.5 751,-466.5 933,-466.5 933,-466.5 939,-466.5 945,-472.5 945,-478.5 945,-478.5 945,-537.5 945,-537.5 945,-543.5 939,-549.5 933,-549.5\"/>\r\n",
       "<text text-anchor=\"middle\" x=\"842\" y=\"-534.3\" font-family=\"Helvetica,sans-Serif\" font-size=\"14.00\">dif_em_acount_shift_1 &lt;= 0.5</text>\r\n",
       "<text text-anchor=\"middle\" x=\"842\" y=\"-519.3\" font-family=\"Helvetica,sans-Serif\" font-size=\"14.00\">gini = 0.0013</text>\r\n",
       "<text text-anchor=\"middle\" x=\"842\" y=\"-504.3\" font-family=\"Helvetica,sans-Serif\" font-size=\"14.00\">samples = 75.6%</text>\r\n",
       "<text text-anchor=\"middle\" x=\"842\" y=\"-489.3\" font-family=\"Helvetica,sans-Serif\" font-size=\"14.00\">value = [0.9993, 0.0007]</text>\r\n",
       "<text text-anchor=\"middle\" x=\"842\" y=\"-474.3\" font-family=\"Helvetica,sans-Serif\" font-size=\"14.00\">class = No alta</text>\r\n",
       "</g>\r\n",
       "<!-- 52&#45;&gt;68 -->\r\n",
       "<g id=\"edge68\" class=\"edge\"><title>52&#45;&gt;68</title>\r\n",
       "<path fill=\"none\" stroke=\"black\" d=\"M591.029,-980.373C640.515,-886.857 760.358,-660.39 814.118,-558.798\"/>\r\n",
       "<polygon fill=\"black\" stroke=\"black\" points=\"817.372,-560.132 818.956,-549.657 811.185,-556.858 817.372,-560.132\"/>\r\n",
       "</g>\r\n",
       "<!-- 54 -->\r\n",
       "<g id=\"node55\" class=\"node\"><title>54</title>\r\n",
       "<path fill=\"#e5823b\" stroke=\"black\" d=\"M1198.5,-1142.5C1198.5,-1142.5 1052.5,-1142.5 1052.5,-1142.5 1046.5,-1142.5 1040.5,-1136.5 1040.5,-1130.5 1040.5,-1130.5 1040.5,-1071.5 1040.5,-1071.5 1040.5,-1065.5 1046.5,-1059.5 1052.5,-1059.5 1052.5,-1059.5 1198.5,-1059.5 1198.5,-1059.5 1204.5,-1059.5 1210.5,-1065.5 1210.5,-1071.5 1210.5,-1071.5 1210.5,-1130.5 1210.5,-1130.5 1210.5,-1136.5 1204.5,-1142.5 1198.5,-1142.5\"/>\r\n",
       "<text text-anchor=\"middle\" x=\"1125.5\" y=\"-1127.3\" font-family=\"Helvetica,sans-Serif\" font-size=\"14.00\">hayBaja_1 &lt;= 0.5</text>\r\n",
       "<text text-anchor=\"middle\" x=\"1125.5\" y=\"-1112.3\" font-family=\"Helvetica,sans-Serif\" font-size=\"14.00\">gini = 0.0215</text>\r\n",
       "<text text-anchor=\"middle\" x=\"1125.5\" y=\"-1097.3\" font-family=\"Helvetica,sans-Serif\" font-size=\"14.00\">samples = 3.7%</text>\r\n",
       "<text text-anchor=\"middle\" x=\"1125.5\" y=\"-1082.3\" font-family=\"Helvetica,sans-Serif\" font-size=\"14.00\">value = [0.9891, 0.0109]</text>\r\n",
       "<text text-anchor=\"middle\" x=\"1125.5\" y=\"-1067.3\" font-family=\"Helvetica,sans-Serif\" font-size=\"14.00\">class = No alta</text>\r\n",
       "</g>\r\n",
       "<!-- 53&#45;&gt;54 -->\r\n",
       "<g id=\"edge54\" class=\"edge\"><title>53&#45;&gt;54</title>\r\n",
       "<path fill=\"none\" stroke=\"black\" d=\"M960.75,-1055.05C983.98,-1061.56 1008.07,-1068.32 1030.39,-1074.59\"/>\r\n",
       "<polygon fill=\"black\" stroke=\"black\" points=\"1029.6,-1078 1040.18,-1077.34 1031.5,-1071.26 1029.6,-1078\"/>\r\n",
       "</g>\r\n",
       "<!-- 61 -->\r\n",
       "<g id=\"node62\" class=\"node\"><title>61</title>\r\n",
       "<path fill=\"#e5813a\" stroke=\"black\" d=\"M1221.5,-985.5C1221.5,-985.5 1029.5,-985.5 1029.5,-985.5 1023.5,-985.5 1017.5,-979.5 1017.5,-973.5 1017.5,-973.5 1017.5,-914.5 1017.5,-914.5 1017.5,-908.5 1023.5,-902.5 1029.5,-902.5 1029.5,-902.5 1221.5,-902.5 1221.5,-902.5 1227.5,-902.5 1233.5,-908.5 1233.5,-914.5 1233.5,-914.5 1233.5,-973.5 1233.5,-973.5 1233.5,-979.5 1227.5,-985.5 1221.5,-985.5\"/>\r\n",
       "<text text-anchor=\"middle\" x=\"1125.5\" y=\"-970.3\" font-family=\"Helvetica,sans-Serif\" font-size=\"14.00\">active_customer_shift_1 &lt;= 0.5</text>\r\n",
       "<text text-anchor=\"middle\" x=\"1125.5\" y=\"-955.3\" font-family=\"Helvetica,sans-Serif\" font-size=\"14.00\">gini = 0.0051</text>\r\n",
       "<text text-anchor=\"middle\" x=\"1125.5\" y=\"-940.3\" font-family=\"Helvetica,sans-Serif\" font-size=\"14.00\">samples = 7.4%</text>\r\n",
       "<text text-anchor=\"middle\" x=\"1125.5\" y=\"-925.3\" font-family=\"Helvetica,sans-Serif\" font-size=\"14.00\">value = [0.9974, 0.0026]</text>\r\n",
       "<text text-anchor=\"middle\" x=\"1125.5\" y=\"-910.3\" font-family=\"Helvetica,sans-Serif\" font-size=\"14.00\">class = No alta</text>\r\n",
       "</g>\r\n",
       "<!-- 53&#45;&gt;61 -->\r\n",
       "<g id=\"edge61\" class=\"edge\"><title>53&#45;&gt;61</title>\r\n",
       "<path fill=\"none\" stroke=\"black\" d=\"M960.75,-989.373C976.075,-985.127 991.774,-980.777 1007.09,-976.532\"/>\r\n",
       "<polygon fill=\"black\" stroke=\"black\" points=\"1008.4,-979.803 1017.1,-973.76 1006.53,-973.057 1008.4,-979.803\"/>\r\n",
       "</g>\r\n",
       "<!-- 55 -->\r\n",
       "<g id=\"node56\" class=\"node\"><title>55</title>\r\n",
       "<path fill=\"#e68743\" stroke=\"black\" d=\"M1494,-1279.5C1494,-1279.5 1302,-1279.5 1302,-1279.5 1296,-1279.5 1290,-1273.5 1290,-1267.5 1290,-1267.5 1290,-1208.5 1290,-1208.5 1290,-1202.5 1296,-1196.5 1302,-1196.5 1302,-1196.5 1494,-1196.5 1494,-1196.5 1500,-1196.5 1506,-1202.5 1506,-1208.5 1506,-1208.5 1506,-1267.5 1506,-1267.5 1506,-1273.5 1500,-1279.5 1494,-1279.5\"/>\r\n",
       "<text text-anchor=\"middle\" x=\"1398\" y=\"-1264.3\" font-family=\"Helvetica,sans-Serif\" font-size=\"14.00\">active_customer_shift_1 &lt;= 0.5</text>\r\n",
       "<text text-anchor=\"middle\" x=\"1398\" y=\"-1249.3\" font-family=\"Helvetica,sans-Serif\" font-size=\"14.00\">gini = 0.0885</text>\r\n",
       "<text text-anchor=\"middle\" x=\"1398\" y=\"-1234.3\" font-family=\"Helvetica,sans-Serif\" font-size=\"14.00\">samples = 0.4%</text>\r\n",
       "<text text-anchor=\"middle\" x=\"1398\" y=\"-1219.3\" font-family=\"Helvetica,sans-Serif\" font-size=\"14.00\">value = [0.9536, 0.0464]</text>\r\n",
       "<text text-anchor=\"middle\" x=\"1398\" y=\"-1204.3\" font-family=\"Helvetica,sans-Serif\" font-size=\"14.00\">class = No alta</text>\r\n",
       "</g>\r\n",
       "<!-- 54&#45;&gt;55 -->\r\n",
       "<g id=\"edge55\" class=\"edge\"><title>54&#45;&gt;55</title>\r\n",
       "<path fill=\"none\" stroke=\"black\" d=\"M1208.76,-1142.66C1239.32,-1158.14 1274.16,-1175.79 1305.5,-1191.66\"/>\r\n",
       "<polygon fill=\"black\" stroke=\"black\" points=\"1304.16,-1194.9 1314.66,-1196.3 1307.32,-1188.66 1304.16,-1194.9\"/>\r\n",
       "</g>\r\n",
       "<!-- 58 -->\r\n",
       "<g id=\"node59\" class=\"node\"><title>58</title>\r\n",
       "<path fill=\"#e5823a\" stroke=\"black\" d=\"M1479,-1142.5C1479,-1142.5 1317,-1142.5 1317,-1142.5 1311,-1142.5 1305,-1136.5 1305,-1130.5 1305,-1130.5 1305,-1071.5 1305,-1071.5 1305,-1065.5 1311,-1059.5 1317,-1059.5 1317,-1059.5 1479,-1059.5 1479,-1059.5 1485,-1059.5 1491,-1065.5 1491,-1071.5 1491,-1071.5 1491,-1130.5 1491,-1130.5 1491,-1136.5 1485,-1142.5 1479,-1142.5\"/>\r\n",
       "<text text-anchor=\"middle\" x=\"1398\" y=\"-1127.3\" font-family=\"Helvetica,sans-Serif\" font-size=\"14.00\">isNewClient_shift_1 &lt;= 0.5</text>\r\n",
       "<text text-anchor=\"middle\" x=\"1398\" y=\"-1112.3\" font-family=\"Helvetica,sans-Serif\" font-size=\"14.00\">gini = 0.0124</text>\r\n",
       "<text text-anchor=\"middle\" x=\"1398\" y=\"-1097.3\" font-family=\"Helvetica,sans-Serif\" font-size=\"14.00\">samples = 3.3%</text>\r\n",
       "<text text-anchor=\"middle\" x=\"1398\" y=\"-1082.3\" font-family=\"Helvetica,sans-Serif\" font-size=\"14.00\">value = [0.9937, 0.0063]</text>\r\n",
       "<text text-anchor=\"middle\" x=\"1398\" y=\"-1067.3\" font-family=\"Helvetica,sans-Serif\" font-size=\"14.00\">class = No alta</text>\r\n",
       "</g>\r\n",
       "<!-- 54&#45;&gt;58 -->\r\n",
       "<g id=\"edge58\" class=\"edge\"><title>54&#45;&gt;58</title>\r\n",
       "<path fill=\"none\" stroke=\"black\" d=\"M1210.61,-1101C1237.26,-1101 1267.03,-1101 1294.82,-1101\"/>\r\n",
       "<polygon fill=\"black\" stroke=\"black\" points=\"1294.95,-1104.5 1304.95,-1101 1294.95,-1097.5 1294.95,-1104.5\"/>\r\n",
       "</g>\r\n",
       "<!-- 56 -->\r\n",
       "<g id=\"node57\" class=\"node\"><title>56</title>\r\n",
       "<path fill=\"#e88d4d\" stroke=\"black\" d=\"M1694.5,-1358C1694.5,-1358 1581.5,-1358 1581.5,-1358 1575.5,-1358 1569.5,-1352 1569.5,-1346 1569.5,-1346 1569.5,-1302 1569.5,-1302 1569.5,-1296 1575.5,-1290 1581.5,-1290 1581.5,-1290 1694.5,-1290 1694.5,-1290 1700.5,-1290 1706.5,-1296 1706.5,-1302 1706.5,-1302 1706.5,-1346 1706.5,-1346 1706.5,-1352 1700.5,-1358 1694.5,-1358\"/>\r\n",
       "<text text-anchor=\"middle\" x=\"1638\" y=\"-1342.8\" font-family=\"Helvetica,sans-Serif\" font-size=\"14.00\">gini = 0.1638</text>\r\n",
       "<text text-anchor=\"middle\" x=\"1638\" y=\"-1327.8\" font-family=\"Helvetica,sans-Serif\" font-size=\"14.00\">samples = 0.1%</text>\r\n",
       "<text text-anchor=\"middle\" x=\"1638\" y=\"-1312.8\" font-family=\"Helvetica,sans-Serif\" font-size=\"14.00\">value = [0.91, 0.09]</text>\r\n",
       "<text text-anchor=\"middle\" x=\"1638\" y=\"-1297.8\" font-family=\"Helvetica,sans-Serif\" font-size=\"14.00\">class = No alta</text>\r\n",
       "</g>\r\n",
       "<!-- 55&#45;&gt;56 -->\r\n",
       "<g id=\"edge56\" class=\"edge\"><title>55&#45;&gt;56</title>\r\n",
       "<path fill=\"none\" stroke=\"black\" d=\"M1506.16,-1276.72C1524.11,-1283.21 1542.42,-1289.82 1559.44,-1295.97\"/>\r\n",
       "<polygon fill=\"black\" stroke=\"black\" points=\"1558.7,-1299.43 1569.29,-1299.53 1561.08,-1292.84 1558.7,-1299.43\"/>\r\n",
       "</g>\r\n",
       "<!-- 57 -->\r\n",
       "<g id=\"node58\" class=\"node\"><title>57</title>\r\n",
       "<path fill=\"#e6853f\" stroke=\"black\" d=\"M1711,-1272C1711,-1272 1565,-1272 1565,-1272 1559,-1272 1553,-1266 1553,-1260 1553,-1260 1553,-1216 1553,-1216 1553,-1210 1559,-1204 1565,-1204 1565,-1204 1711,-1204 1711,-1204 1717,-1204 1723,-1210 1723,-1216 1723,-1216 1723,-1260 1723,-1260 1723,-1266 1717,-1272 1711,-1272\"/>\r\n",
       "<text text-anchor=\"middle\" x=\"1638\" y=\"-1256.8\" font-family=\"Helvetica,sans-Serif\" font-size=\"14.00\">gini = 0.0605</text>\r\n",
       "<text text-anchor=\"middle\" x=\"1638\" y=\"-1241.8\" font-family=\"Helvetica,sans-Serif\" font-size=\"14.00\">samples = 0.3%</text>\r\n",
       "<text text-anchor=\"middle\" x=\"1638\" y=\"-1226.8\" font-family=\"Helvetica,sans-Serif\" font-size=\"14.00\">value = [0.9688, 0.0312]</text>\r\n",
       "<text text-anchor=\"middle\" x=\"1638\" y=\"-1211.8\" font-family=\"Helvetica,sans-Serif\" font-size=\"14.00\">class = No alta</text>\r\n",
       "</g>\r\n",
       "<!-- 55&#45;&gt;57 -->\r\n",
       "<g id=\"edge57\" class=\"edge\"><title>55&#45;&gt;57</title>\r\n",
       "<path fill=\"none\" stroke=\"black\" d=\"M1506.16,-1238C1518.41,-1238 1530.82,-1238 1542.87,-1238\"/>\r\n",
       "<polygon fill=\"black\" stroke=\"black\" points=\"1542.9,-1241.5 1552.9,-1238 1542.9,-1234.5 1542.9,-1241.5\"/>\r\n",
       "</g>\r\n",
       "<!-- 59 -->\r\n",
       "<g id=\"node60\" class=\"node\"><title>59</title>\r\n",
       "<path fill=\"#e5833c\" stroke=\"black\" d=\"M1711,-1186C1711,-1186 1565,-1186 1565,-1186 1559,-1186 1553,-1180 1553,-1174 1553,-1174 1553,-1130 1553,-1130 1553,-1124 1559,-1118 1565,-1118 1565,-1118 1711,-1118 1711,-1118 1717,-1118 1723,-1124 1723,-1130 1723,-1130 1723,-1174 1723,-1174 1723,-1180 1717,-1186 1711,-1186\"/>\r\n",
       "<text text-anchor=\"middle\" x=\"1638\" y=\"-1170.8\" font-family=\"Helvetica,sans-Serif\" font-size=\"14.00\">gini = 0.0271</text>\r\n",
       "<text text-anchor=\"middle\" x=\"1638\" y=\"-1155.8\" font-family=\"Helvetica,sans-Serif\" font-size=\"14.00\">samples = 0.7%</text>\r\n",
       "<text text-anchor=\"middle\" x=\"1638\" y=\"-1140.8\" font-family=\"Helvetica,sans-Serif\" font-size=\"14.00\">value = [0.9863, 0.0137]</text>\r\n",
       "<text text-anchor=\"middle\" x=\"1638\" y=\"-1125.8\" font-family=\"Helvetica,sans-Serif\" font-size=\"14.00\">class = No alta</text>\r\n",
       "</g>\r\n",
       "<!-- 58&#45;&gt;59 -->\r\n",
       "<g id=\"edge59\" class=\"edge\"><title>58&#45;&gt;59</title>\r\n",
       "<path fill=\"none\" stroke=\"black\" d=\"M1491.02,-1120.72C1507.97,-1124.35 1525.69,-1128.15 1542.7,-1131.79\"/>\r\n",
       "<polygon fill=\"black\" stroke=\"black\" points=\"1542.11,-1135.25 1552.63,-1133.92 1543.58,-1128.4 1542.11,-1135.25\"/>\r\n",
       "</g>\r\n",
       "<!-- 60 -->\r\n",
       "<g id=\"node61\" class=\"node\"><title>60</title>\r\n",
       "<path fill=\"#e5823a\" stroke=\"black\" d=\"M1711,-1100C1711,-1100 1565,-1100 1565,-1100 1559,-1100 1553,-1094 1553,-1088 1553,-1088 1553,-1044 1553,-1044 1553,-1038 1559,-1032 1565,-1032 1565,-1032 1711,-1032 1711,-1032 1717,-1032 1723,-1038 1723,-1044 1723,-1044 1723,-1088 1723,-1088 1723,-1094 1717,-1100 1711,-1100\"/>\r\n",
       "<text text-anchor=\"middle\" x=\"1638\" y=\"-1084.8\" font-family=\"Helvetica,sans-Serif\" font-size=\"14.00\">gini = 0.0084</text>\r\n",
       "<text text-anchor=\"middle\" x=\"1638\" y=\"-1069.8\" font-family=\"Helvetica,sans-Serif\" font-size=\"14.00\">samples = 2.6%</text>\r\n",
       "<text text-anchor=\"middle\" x=\"1638\" y=\"-1054.8\" font-family=\"Helvetica,sans-Serif\" font-size=\"14.00\">value = [0.9958, 0.0042]</text>\r\n",
       "<text text-anchor=\"middle\" x=\"1638\" y=\"-1039.8\" font-family=\"Helvetica,sans-Serif\" font-size=\"14.00\">class = No alta</text>\r\n",
       "</g>\r\n",
       "<!-- 58&#45;&gt;60 -->\r\n",
       "<g id=\"edge60\" class=\"edge\"><title>58&#45;&gt;60</title>\r\n",
       "<path fill=\"none\" stroke=\"black\" d=\"M1491.02,-1087.47C1507.97,-1084.98 1525.69,-1082.37 1542.7,-1079.87\"/>\r\n",
       "<polygon fill=\"black\" stroke=\"black\" points=\"1543.24,-1083.33 1552.63,-1078.41 1542.22,-1076.4 1543.24,-1083.33\"/>\r\n",
       "</g>\r\n",
       "<!-- 62 -->\r\n",
       "<g id=\"node63\" class=\"node\"><title>62</title>\r\n",
       "<path fill=\"#e58139\" stroke=\"black\" d=\"M1475.5,-985.5C1475.5,-985.5 1320.5,-985.5 1320.5,-985.5 1314.5,-985.5 1308.5,-979.5 1308.5,-973.5 1308.5,-973.5 1308.5,-914.5 1308.5,-914.5 1308.5,-908.5 1314.5,-902.5 1320.5,-902.5 1320.5,-902.5 1475.5,-902.5 1475.5,-902.5 1481.5,-902.5 1487.5,-908.5 1487.5,-914.5 1487.5,-914.5 1487.5,-973.5 1487.5,-973.5 1487.5,-979.5 1481.5,-985.5 1475.5,-985.5\"/>\r\n",
       "<text text-anchor=\"middle\" x=\"1398\" y=\"-970.3\" font-family=\"Helvetica,sans-Serif\" font-size=\"14.00\">debit_card_shift_1 &lt;= 0.5</text>\r\n",
       "<text text-anchor=\"middle\" x=\"1398\" y=\"-955.3\" font-family=\"Helvetica,sans-Serif\" font-size=\"14.00\">gini = 0.0023</text>\r\n",
       "<text text-anchor=\"middle\" x=\"1398\" y=\"-940.3\" font-family=\"Helvetica,sans-Serif\" font-size=\"14.00\">samples = 3.5%</text>\r\n",
       "<text text-anchor=\"middle\" x=\"1398\" y=\"-925.3\" font-family=\"Helvetica,sans-Serif\" font-size=\"14.00\">value = [0.9988, 0.0012]</text>\r\n",
       "<text text-anchor=\"middle\" x=\"1398\" y=\"-910.3\" font-family=\"Helvetica,sans-Serif\" font-size=\"14.00\">class = No alta</text>\r\n",
       "</g>\r\n",
       "<!-- 61&#45;&gt;62 -->\r\n",
       "<g id=\"edge62\" class=\"edge\"><title>61&#45;&gt;62</title>\r\n",
       "<path fill=\"none\" stroke=\"black\" d=\"M1233.8,-944C1254.97,-944 1277.09,-944 1297.97,-944\"/>\r\n",
       "<polygon fill=\"black\" stroke=\"black\" points=\"1298.11,-947.5 1308.11,-944 1298.11,-940.5 1298.11,-947.5\"/>\r\n",
       "</g>\r\n",
       "<!-- 65 -->\r\n",
       "<g id=\"node66\" class=\"node\"><title>65</title>\r\n",
       "<path fill=\"#e5813a\" stroke=\"black\" d=\"M1504.5,-849.5C1504.5,-849.5 1291.5,-849.5 1291.5,-849.5 1285.5,-849.5 1279.5,-843.5 1279.5,-837.5 1279.5,-837.5 1279.5,-778.5 1279.5,-778.5 1279.5,-772.5 1285.5,-766.5 1291.5,-766.5 1291.5,-766.5 1504.5,-766.5 1504.5,-766.5 1510.5,-766.5 1516.5,-772.5 1516.5,-778.5 1516.5,-778.5 1516.5,-837.5 1516.5,-837.5 1516.5,-843.5 1510.5,-849.5 1504.5,-849.5\"/>\r\n",
       "<text text-anchor=\"middle\" x=\"1398\" y=\"-834.3\" font-family=\"Helvetica,sans-Serif\" font-size=\"14.00\">diasDesdeUltimaBajaInt_1 &lt;= 60.0</text>\r\n",
       "<text text-anchor=\"middle\" x=\"1398\" y=\"-819.3\" font-family=\"Helvetica,sans-Serif\" font-size=\"14.00\">gini = 0.0076</text>\r\n",
       "<text text-anchor=\"middle\" x=\"1398\" y=\"-804.3\" font-family=\"Helvetica,sans-Serif\" font-size=\"14.00\">samples = 3.9%</text>\r\n",
       "<text text-anchor=\"middle\" x=\"1398\" y=\"-789.3\" font-family=\"Helvetica,sans-Serif\" font-size=\"14.00\">value = [0.9962, 0.0038]</text>\r\n",
       "<text text-anchor=\"middle\" x=\"1398\" y=\"-774.3\" font-family=\"Helvetica,sans-Serif\" font-size=\"14.00\">class = No alta</text>\r\n",
       "</g>\r\n",
       "<!-- 61&#45;&gt;65 -->\r\n",
       "<g id=\"edge65\" class=\"edge\"><title>61&#45;&gt;65</title>\r\n",
       "<path fill=\"none\" stroke=\"black\" d=\"M1209.13,-902.457C1239.53,-887.171 1274.14,-869.772 1305.29,-854.108\"/>\r\n",
       "<polygon fill=\"black\" stroke=\"black\" points=\"1307.05,-857.142 1314.41,-849.523 1303.9,-850.888 1307.05,-857.142\"/>\r\n",
       "</g>\r\n",
       "<!-- 63 -->\r\n",
       "<g id=\"node64\" class=\"node\"><title>63</title>\r\n",
       "<path fill=\"#e58139\" stroke=\"black\" d=\"M1711,-1014C1711,-1014 1565,-1014 1565,-1014 1559,-1014 1553,-1008 1553,-1002 1553,-1002 1553,-958 1553,-958 1553,-952 1559,-946 1565,-946 1565,-946 1711,-946 1711,-946 1717,-946 1723,-952 1723,-958 1723,-958 1723,-1002 1723,-1002 1723,-1008 1717,-1014 1711,-1014\"/>\r\n",
       "<text text-anchor=\"middle\" x=\"1638\" y=\"-998.8\" font-family=\"Helvetica,sans-Serif\" font-size=\"14.00\">gini = 0.0022</text>\r\n",
       "<text text-anchor=\"middle\" x=\"1638\" y=\"-983.8\" font-family=\"Helvetica,sans-Serif\" font-size=\"14.00\">samples = 3.5%</text>\r\n",
       "<text text-anchor=\"middle\" x=\"1638\" y=\"-968.8\" font-family=\"Helvetica,sans-Serif\" font-size=\"14.00\">value = [0.9989, 0.0011]</text>\r\n",
       "<text text-anchor=\"middle\" x=\"1638\" y=\"-953.8\" font-family=\"Helvetica,sans-Serif\" font-size=\"14.00\">class = No alta</text>\r\n",
       "</g>\r\n",
       "<!-- 62&#45;&gt;63 -->\r\n",
       "<g id=\"edge63\" class=\"edge\"><title>62&#45;&gt;63</title>\r\n",
       "<path fill=\"none\" stroke=\"black\" d=\"M1487.62,-957.405C1505.58,-960.121 1524.52,-962.986 1542.66,-965.73\"/>\r\n",
       "<polygon fill=\"black\" stroke=\"black\" points=\"1542.23,-969.205 1552.65,-967.24 1543.28,-962.284 1542.23,-969.205\"/>\r\n",
       "</g>\r\n",
       "<!-- 64 -->\r\n",
       "<g id=\"node65\" class=\"node\"><title>64</title>\r\n",
       "<path fill=\"#e99254\" stroke=\"black\" d=\"M1703,-928C1703,-928 1573,-928 1573,-928 1567,-928 1561,-922 1561,-916 1561,-916 1561,-872 1561,-872 1561,-866 1567,-860 1573,-860 1573,-860 1703,-860 1703,-860 1709,-860 1715,-866 1715,-872 1715,-872 1715,-916 1715,-916 1715,-922 1709,-928 1703,-928\"/>\r\n",
       "<text text-anchor=\"middle\" x=\"1638\" y=\"-912.8\" font-family=\"Helvetica,sans-Serif\" font-size=\"14.00\">gini = 0.2142</text>\r\n",
       "<text text-anchor=\"middle\" x=\"1638\" y=\"-897.8\" font-family=\"Helvetica,sans-Serif\" font-size=\"14.00\">samples = 0.0%</text>\r\n",
       "<text text-anchor=\"middle\" x=\"1638\" y=\"-882.8\" font-family=\"Helvetica,sans-Serif\" font-size=\"14.00\">value = [0.878, 0.122]</text>\r\n",
       "<text text-anchor=\"middle\" x=\"1638\" y=\"-867.8\" font-family=\"Helvetica,sans-Serif\" font-size=\"14.00\">class = No alta</text>\r\n",
       "</g>\r\n",
       "<!-- 62&#45;&gt;64 -->\r\n",
       "<g id=\"edge64\" class=\"edge\"><title>62&#45;&gt;64</title>\r\n",
       "<path fill=\"none\" stroke=\"black\" d=\"M1487.62,-925.382C1508.29,-921.039 1530.27,-916.421 1550.84,-912.101\"/>\r\n",
       "<polygon fill=\"black\" stroke=\"black\" points=\"1551.74,-915.489 1560.81,-910.007 1550.3,-908.638 1551.74,-915.489\"/>\r\n",
       "</g>\r\n",
       "<!-- 66 -->\r\n",
       "<g id=\"node67\" class=\"node\"><title>66</title>\r\n",
       "<path fill=\"#e5823a\" stroke=\"black\" d=\"M1711,-842C1711,-842 1565,-842 1565,-842 1559,-842 1553,-836 1553,-830 1553,-830 1553,-786 1553,-786 1553,-780 1559,-774 1565,-774 1565,-774 1711,-774 1711,-774 1717,-774 1723,-780 1723,-786 1723,-786 1723,-830 1723,-830 1723,-836 1717,-842 1711,-842\"/>\r\n",
       "<text text-anchor=\"middle\" x=\"1638\" y=\"-826.8\" font-family=\"Helvetica,sans-Serif\" font-size=\"14.00\">gini = 0.011</text>\r\n",
       "<text text-anchor=\"middle\" x=\"1638\" y=\"-811.8\" font-family=\"Helvetica,sans-Serif\" font-size=\"14.00\">samples = 1.6%</text>\r\n",
       "<text text-anchor=\"middle\" x=\"1638\" y=\"-796.8\" font-family=\"Helvetica,sans-Serif\" font-size=\"14.00\">value = [0.9945, 0.0055]</text>\r\n",
       "<text text-anchor=\"middle\" x=\"1638\" y=\"-781.8\" font-family=\"Helvetica,sans-Serif\" font-size=\"14.00\">class = No alta</text>\r\n",
       "</g>\r\n",
       "<!-- 65&#45;&gt;66 -->\r\n",
       "<g id=\"edge66\" class=\"edge\"><title>65&#45;&gt;66</title>\r\n",
       "<path fill=\"none\" stroke=\"black\" d=\"M1516.61,-808C1525.26,-808 1533.93,-808 1542.43,-808\"/>\r\n",
       "<polygon fill=\"black\" stroke=\"black\" points=\"1542.69,-811.5 1552.69,-808 1542.69,-804.5 1542.69,-811.5\"/>\r\n",
       "</g>\r\n",
       "<!-- 67 -->\r\n",
       "<g id=\"node68\" class=\"node\"><title>67</title>\r\n",
       "<path fill=\"#e5813a\" stroke=\"black\" d=\"M1711,-756C1711,-756 1565,-756 1565,-756 1559,-756 1553,-750 1553,-744 1553,-744 1553,-700 1553,-700 1553,-694 1559,-688 1565,-688 1565,-688 1711,-688 1711,-688 1717,-688 1723,-694 1723,-700 1723,-700 1723,-744 1723,-744 1723,-750 1717,-756 1711,-756\"/>\r\n",
       "<text text-anchor=\"middle\" x=\"1638\" y=\"-740.8\" font-family=\"Helvetica,sans-Serif\" font-size=\"14.00\">gini = 0.0052</text>\r\n",
       "<text text-anchor=\"middle\" x=\"1638\" y=\"-725.8\" font-family=\"Helvetica,sans-Serif\" font-size=\"14.00\">samples = 2.3%</text>\r\n",
       "<text text-anchor=\"middle\" x=\"1638\" y=\"-710.8\" font-family=\"Helvetica,sans-Serif\" font-size=\"14.00\">value = [0.9974, 0.0026]</text>\r\n",
       "<text text-anchor=\"middle\" x=\"1638\" y=\"-695.8\" font-family=\"Helvetica,sans-Serif\" font-size=\"14.00\">class = No alta</text>\r\n",
       "</g>\r\n",
       "<!-- 65&#45;&gt;67 -->\r\n",
       "<g id=\"edge67\" class=\"edge\"><title>65&#45;&gt;67</title>\r\n",
       "<path fill=\"none\" stroke=\"black\" d=\"M1514.17,-766.386C1523.95,-762.848 1533.78,-759.299 1543.37,-755.832\"/>\r\n",
       "<polygon fill=\"black\" stroke=\"black\" points=\"1544.66,-759.088 1552.88,-752.397 1542.28,-752.504 1544.66,-759.088\"/>\r\n",
       "</g>\r\n",
       "<!-- 69 -->\r\n",
       "<g id=\"node70\" class=\"node\"><title>69</title>\r\n",
       "<path fill=\"#e58139\" stroke=\"black\" d=\"M1216.5,-549.5C1216.5,-549.5 1034.5,-549.5 1034.5,-549.5 1028.5,-549.5 1022.5,-543.5 1022.5,-537.5 1022.5,-537.5 1022.5,-478.5 1022.5,-478.5 1022.5,-472.5 1028.5,-466.5 1034.5,-466.5 1034.5,-466.5 1216.5,-466.5 1216.5,-466.5 1222.5,-466.5 1228.5,-472.5 1228.5,-478.5 1228.5,-478.5 1228.5,-537.5 1228.5,-537.5 1228.5,-543.5 1222.5,-549.5 1216.5,-549.5\"/>\r\n",
       "<text text-anchor=\"middle\" x=\"1125.5\" y=\"-534.3\" font-family=\"Helvetica,sans-Serif\" font-size=\"14.00\">dif_em_acount_shift_2 &lt;= 0.5</text>\r\n",
       "<text text-anchor=\"middle\" x=\"1125.5\" y=\"-519.3\" font-family=\"Helvetica,sans-Serif\" font-size=\"14.00\">gini = 0.0012</text>\r\n",
       "<text text-anchor=\"middle\" x=\"1125.5\" y=\"-504.3\" font-family=\"Helvetica,sans-Serif\" font-size=\"14.00\">samples = 75.2%</text>\r\n",
       "<text text-anchor=\"middle\" x=\"1125.5\" y=\"-489.3\" font-family=\"Helvetica,sans-Serif\" font-size=\"14.00\">value = [0.9994, 0.0006]</text>\r\n",
       "<text text-anchor=\"middle\" x=\"1125.5\" y=\"-474.3\" font-family=\"Helvetica,sans-Serif\" font-size=\"14.00\">class = No alta</text>\r\n",
       "</g>\r\n",
       "<!-- 68&#45;&gt;69 -->\r\n",
       "<g id=\"edge69\" class=\"edge\"><title>68&#45;&gt;69</title>\r\n",
       "<path fill=\"none\" stroke=\"black\" d=\"M945.026,-508C966.858,-508 990.037,-508 1012.23,-508\"/>\r\n",
       "<polygon fill=\"black\" stroke=\"black\" points=\"1012.35,-511.5 1022.35,-508 1012.35,-504.5 1012.35,-511.5\"/>\r\n",
       "</g>\r\n",
       "<!-- 76 -->\r\n",
       "<g id=\"node77\" class=\"node\"><title>76</title>\r\n",
       "<path fill=\"#e5823b\" stroke=\"black\" d=\"M1204.5,-298.5C1204.5,-298.5 1046.5,-298.5 1046.5,-298.5 1040.5,-298.5 1034.5,-292.5 1034.5,-286.5 1034.5,-286.5 1034.5,-227.5 1034.5,-227.5 1034.5,-221.5 1040.5,-215.5 1046.5,-215.5 1046.5,-215.5 1204.5,-215.5 1204.5,-215.5 1210.5,-215.5 1216.5,-221.5 1216.5,-227.5 1216.5,-227.5 1216.5,-286.5 1216.5,-286.5 1216.5,-292.5 1210.5,-298.5 1204.5,-298.5\"/>\r\n",
       "<text text-anchor=\"middle\" x=\"1125.5\" y=\"-283.3\" font-family=\"Helvetica,sans-Serif\" font-size=\"14.00\">em_acount_shift_2 &lt;= 0.5</text>\r\n",
       "<text text-anchor=\"middle\" x=\"1125.5\" y=\"-268.3\" font-family=\"Helvetica,sans-Serif\" font-size=\"14.00\">gini = 0.0199</text>\r\n",
       "<text text-anchor=\"middle\" x=\"1125.5\" y=\"-253.3\" font-family=\"Helvetica,sans-Serif\" font-size=\"14.00\">samples = 0.4%</text>\r\n",
       "<text text-anchor=\"middle\" x=\"1125.5\" y=\"-238.3\" font-family=\"Helvetica,sans-Serif\" font-size=\"14.00\">value = [0.99, 0.01]</text>\r\n",
       "<text text-anchor=\"middle\" x=\"1125.5\" y=\"-223.3\" font-family=\"Helvetica,sans-Serif\" font-size=\"14.00\">class = No alta</text>\r\n",
       "</g>\r\n",
       "<!-- 68&#45;&gt;76 -->\r\n",
       "<g id=\"edge76\" class=\"edge\"><title>68&#45;&gt;76</title>\r\n",
       "<path fill=\"none\" stroke=\"black\" d=\"M889.8,-466.271C939.421,-422.026 1017.71,-352.218 1070.06,-305.542\"/>\r\n",
       "<polygon fill=\"black\" stroke=\"black\" points=\"1072.45,-308.097 1077.59,-298.829 1067.79,-302.872 1072.45,-308.097\"/>\r\n",
       "</g>\r\n",
       "<!-- 70 -->\r\n",
       "<g id=\"node71\" class=\"node\"><title>70</title>\r\n",
       "<path fill=\"#e58139\" stroke=\"black\" d=\"M1494,-599.5C1494,-599.5 1302,-599.5 1302,-599.5 1296,-599.5 1290,-593.5 1290,-587.5 1290,-587.5 1290,-528.5 1290,-528.5 1290,-522.5 1296,-516.5 1302,-516.5 1302,-516.5 1494,-516.5 1494,-516.5 1500,-516.5 1506,-522.5 1506,-528.5 1506,-528.5 1506,-587.5 1506,-587.5 1506,-593.5 1500,-599.5 1494,-599.5\"/>\r\n",
       "<text text-anchor=\"middle\" x=\"1398\" y=\"-584.3\" font-family=\"Helvetica,sans-Serif\" font-size=\"14.00\">active_customer_shift_1 &lt;= 0.5</text>\r\n",
       "<text text-anchor=\"middle\" x=\"1398\" y=\"-569.3\" font-family=\"Helvetica,sans-Serif\" font-size=\"14.00\">gini = 0.0011</text>\r\n",
       "<text text-anchor=\"middle\" x=\"1398\" y=\"-554.3\" font-family=\"Helvetica,sans-Serif\" font-size=\"14.00\">samples = 74.9%</text>\r\n",
       "<text text-anchor=\"middle\" x=\"1398\" y=\"-539.3\" font-family=\"Helvetica,sans-Serif\" font-size=\"14.00\">value = [0.9994, 0.0006]</text>\r\n",
       "<text text-anchor=\"middle\" x=\"1398\" y=\"-524.3\" font-family=\"Helvetica,sans-Serif\" font-size=\"14.00\">class = No alta</text>\r\n",
       "</g>\r\n",
       "<!-- 69&#45;&gt;70 -->\r\n",
       "<g id=\"edge70\" class=\"edge\"><title>69&#45;&gt;70</title>\r\n",
       "<path fill=\"none\" stroke=\"black\" d=\"M1228.76,-526.903C1245.4,-529.977 1262.74,-533.183 1279.7,-536.318\"/>\r\n",
       "<polygon fill=\"black\" stroke=\"black\" points=\"1279.16,-539.778 1289.63,-538.154 1280.44,-532.895 1279.16,-539.778\"/>\r\n",
       "</g>\r\n",
       "<!-- 73 -->\r\n",
       "<g id=\"node74\" class=\"node\"><title>73</title>\r\n",
       "<path fill=\"#e5823a\" stroke=\"black\" d=\"M1477,-498.5C1477,-498.5 1319,-498.5 1319,-498.5 1313,-498.5 1307,-492.5 1307,-486.5 1307,-486.5 1307,-427.5 1307,-427.5 1307,-421.5 1313,-415.5 1319,-415.5 1319,-415.5 1477,-415.5 1477,-415.5 1483,-415.5 1489,-421.5 1489,-427.5 1489,-427.5 1489,-486.5 1489,-486.5 1489,-492.5 1483,-498.5 1477,-498.5\"/>\r\n",
       "<text text-anchor=\"middle\" x=\"1398\" y=\"-483.3\" font-family=\"Helvetica,sans-Serif\" font-size=\"14.00\">em_acount_shift_3 &lt;= 0.5</text>\r\n",
       "<text text-anchor=\"middle\" x=\"1398\" y=\"-468.3\" font-family=\"Helvetica,sans-Serif\" font-size=\"14.00\">gini = 0.0147</text>\r\n",
       "<text text-anchor=\"middle\" x=\"1398\" y=\"-453.3\" font-family=\"Helvetica,sans-Serif\" font-size=\"14.00\">samples = 0.4%</text>\r\n",
       "<text text-anchor=\"middle\" x=\"1398\" y=\"-438.3\" font-family=\"Helvetica,sans-Serif\" font-size=\"14.00\">value = [0.9926, 0.0074]</text>\r\n",
       "<text text-anchor=\"middle\" x=\"1398\" y=\"-423.3\" font-family=\"Helvetica,sans-Serif\" font-size=\"14.00\">class = No alta</text>\r\n",
       "</g>\r\n",
       "<!-- 69&#45;&gt;73 -->\r\n",
       "<g id=\"edge73\" class=\"edge\"><title>69&#45;&gt;73</title>\r\n",
       "<path fill=\"none\" stroke=\"black\" d=\"M1228.76,-488.719C1250.95,-484.536 1274.4,-480.116 1296.51,-475.946\"/>\r\n",
       "<polygon fill=\"black\" stroke=\"black\" points=\"1297.39,-479.342 1306.57,-474.049 1296.1,-472.463 1297.39,-479.342\"/>\r\n",
       "</g>\r\n",
       "<!-- 71 -->\r\n",
       "<g id=\"node72\" class=\"node\"><title>71</title>\r\n",
       "<path fill=\"#e58139\" stroke=\"black\" d=\"M1711,-670C1711,-670 1565,-670 1565,-670 1559,-670 1553,-664 1553,-658 1553,-658 1553,-614 1553,-614 1553,-608 1559,-602 1565,-602 1565,-602 1711,-602 1711,-602 1717,-602 1723,-608 1723,-614 1723,-614 1723,-658 1723,-658 1723,-664 1717,-670 1711,-670\"/>\r\n",
       "<text text-anchor=\"middle\" x=\"1638\" y=\"-654.8\" font-family=\"Helvetica,sans-Serif\" font-size=\"14.00\">gini = 0.0005</text>\r\n",
       "<text text-anchor=\"middle\" x=\"1638\" y=\"-639.8\" font-family=\"Helvetica,sans-Serif\" font-size=\"14.00\">samples = 43.5%</text>\r\n",
       "<text text-anchor=\"middle\" x=\"1638\" y=\"-624.8\" font-family=\"Helvetica,sans-Serif\" font-size=\"14.00\">value = [0.9998, 0.0002]</text>\r\n",
       "<text text-anchor=\"middle\" x=\"1638\" y=\"-609.8\" font-family=\"Helvetica,sans-Serif\" font-size=\"14.00\">class = No alta</text>\r\n",
       "</g>\r\n",
       "<!-- 70&#45;&gt;71 -->\r\n",
       "<g id=\"edge71\" class=\"edge\"><title>70&#45;&gt;71</title>\r\n",
       "<path fill=\"none\" stroke=\"black\" d=\"M1506.16,-593.121C1518.53,-597.173 1531.06,-601.282 1543.23,-605.269\"/>\r\n",
       "<polygon fill=\"black\" stroke=\"black\" points=\"1542.31,-608.65 1552.9,-608.438 1544.49,-601.998 1542.31,-608.65\"/>\r\n",
       "</g>\r\n",
       "<!-- 72 -->\r\n",
       "<g id=\"node73\" class=\"node\"><title>72</title>\r\n",
       "<path fill=\"#e58139\" stroke=\"black\" d=\"M1711,-584C1711,-584 1565,-584 1565,-584 1559,-584 1553,-578 1553,-572 1553,-572 1553,-528 1553,-528 1553,-522 1559,-516 1565,-516 1565,-516 1711,-516 1711,-516 1717,-516 1723,-522 1723,-528 1723,-528 1723,-572 1723,-572 1723,-578 1717,-584 1711,-584\"/>\r\n",
       "<text text-anchor=\"middle\" x=\"1638\" y=\"-568.8\" font-family=\"Helvetica,sans-Serif\" font-size=\"14.00\">gini = 0.0021</text>\r\n",
       "<text text-anchor=\"middle\" x=\"1638\" y=\"-553.8\" font-family=\"Helvetica,sans-Serif\" font-size=\"14.00\">samples = 31.4%</text>\r\n",
       "<text text-anchor=\"middle\" x=\"1638\" y=\"-538.8\" font-family=\"Helvetica,sans-Serif\" font-size=\"14.00\">value = [0.9989, 0.0011]</text>\r\n",
       "<text text-anchor=\"middle\" x=\"1638\" y=\"-523.8\" font-family=\"Helvetica,sans-Serif\" font-size=\"14.00\">class = No alta</text>\r\n",
       "</g>\r\n",
       "<!-- 70&#45;&gt;72 -->\r\n",
       "<g id=\"edge72\" class=\"edge\"><title>70&#45;&gt;72</title>\r\n",
       "<path fill=\"none\" stroke=\"black\" d=\"M1506.16,-554.398C1518.41,-553.986 1530.82,-553.569 1542.87,-553.164\"/>\r\n",
       "<polygon fill=\"black\" stroke=\"black\" points=\"1543.02,-556.661 1552.9,-552.827 1542.79,-549.665 1543.02,-556.661\"/>\r\n",
       "</g>\r\n",
       "<!-- 74 -->\r\n",
       "<g id=\"node75\" class=\"node\"><title>74</title>\r\n",
       "<path fill=\"#e5813a\" stroke=\"black\" d=\"M1711,-498C1711,-498 1565,-498 1565,-498 1559,-498 1553,-492 1553,-486 1553,-486 1553,-442 1553,-442 1553,-436 1559,-430 1565,-430 1565,-430 1711,-430 1711,-430 1717,-430 1723,-436 1723,-442 1723,-442 1723,-486 1723,-486 1723,-492 1717,-498 1711,-498\"/>\r\n",
       "<text text-anchor=\"middle\" x=\"1638\" y=\"-482.8\" font-family=\"Helvetica,sans-Serif\" font-size=\"14.00\">gini = 0.0051</text>\r\n",
       "<text text-anchor=\"middle\" x=\"1638\" y=\"-467.8\" font-family=\"Helvetica,sans-Serif\" font-size=\"14.00\">samples = 0.3%</text>\r\n",
       "<text text-anchor=\"middle\" x=\"1638\" y=\"-452.8\" font-family=\"Helvetica,sans-Serif\" font-size=\"14.00\">value = [0.9975, 0.0025]</text>\r\n",
       "<text text-anchor=\"middle\" x=\"1638\" y=\"-437.8\" font-family=\"Helvetica,sans-Serif\" font-size=\"14.00\">class = No alta</text>\r\n",
       "</g>\r\n",
       "<!-- 73&#45;&gt;74 -->\r\n",
       "<g id=\"edge74\" class=\"edge\"><title>73&#45;&gt;74</title>\r\n",
       "<path fill=\"none\" stroke=\"black\" d=\"M1489.32,-459.656C1506.69,-460.167 1524.92,-460.704 1542.42,-461.218\"/>\r\n",
       "<polygon fill=\"black\" stroke=\"black\" points=\"1542.53,-464.723 1552.63,-461.518 1542.73,-457.726 1542.53,-464.723\"/>\r\n",
       "</g>\r\n",
       "<!-- 75 -->\r\n",
       "<g id=\"node76\" class=\"node\"><title>75</title>\r\n",
       "<path fill=\"#e68642\" stroke=\"black\" d=\"M1711,-412C1711,-412 1565,-412 1565,-412 1559,-412 1553,-406 1553,-400 1553,-400 1553,-356 1553,-356 1553,-350 1559,-344 1565,-344 1565,-344 1711,-344 1711,-344 1717,-344 1723,-350 1723,-356 1723,-356 1723,-400 1723,-400 1723,-406 1717,-412 1711,-412\"/>\r\n",
       "<text text-anchor=\"middle\" x=\"1638\" y=\"-396.8\" font-family=\"Helvetica,sans-Serif\" font-size=\"14.00\">gini = 0.0797</text>\r\n",
       "<text text-anchor=\"middle\" x=\"1638\" y=\"-381.8\" font-family=\"Helvetica,sans-Serif\" font-size=\"14.00\">samples = 0.0%</text>\r\n",
       "<text text-anchor=\"middle\" x=\"1638\" y=\"-366.8\" font-family=\"Helvetica,sans-Serif\" font-size=\"14.00\">value = [0.9584, 0.0416]</text>\r\n",
       "<text text-anchor=\"middle\" x=\"1638\" y=\"-351.8\" font-family=\"Helvetica,sans-Serif\" font-size=\"14.00\">class = No alta</text>\r\n",
       "</g>\r\n",
       "<!-- 73&#45;&gt;75 -->\r\n",
       "<g id=\"edge75\" class=\"edge\"><title>73&#45;&gt;75</title>\r\n",
       "<path fill=\"none\" stroke=\"black\" d=\"M1489.32,-427.021C1506.85,-421.202 1525.26,-415.09 1542.91,-409.232\"/>\r\n",
       "<polygon fill=\"black\" stroke=\"black\" points=\"1544.24,-412.479 1552.63,-406.007 1542.03,-405.835 1544.24,-412.479\"/>\r\n",
       "</g>\r\n",
       "<!-- 77 -->\r\n",
       "<g id=\"node78\" class=\"node\"><title>77</title>\r\n",
       "<path fill=\"#e5813a\" stroke=\"black\" d=\"M1489,-298.5C1489,-298.5 1307,-298.5 1307,-298.5 1301,-298.5 1295,-292.5 1295,-286.5 1295,-286.5 1295,-227.5 1295,-227.5 1295,-221.5 1301,-215.5 1307,-215.5 1307,-215.5 1489,-215.5 1489,-215.5 1495,-215.5 1501,-221.5 1501,-227.5 1501,-227.5 1501,-286.5 1501,-286.5 1501,-292.5 1495,-298.5 1489,-298.5\"/>\r\n",
       "<text text-anchor=\"middle\" x=\"1398\" y=\"-283.3\" font-family=\"Helvetica,sans-Serif\" font-size=\"14.00\">dif_em_acount_shift_5 &lt;= 0.5</text>\r\n",
       "<text text-anchor=\"middle\" x=\"1398\" y=\"-268.3\" font-family=\"Helvetica,sans-Serif\" font-size=\"14.00\">gini = 0.0071</text>\r\n",
       "<text text-anchor=\"middle\" x=\"1398\" y=\"-253.3\" font-family=\"Helvetica,sans-Serif\" font-size=\"14.00\">samples = 0.4%</text>\r\n",
       "<text text-anchor=\"middle\" x=\"1398\" y=\"-238.3\" font-family=\"Helvetica,sans-Serif\" font-size=\"14.00\">value = [0.9964, 0.0036]</text>\r\n",
       "<text text-anchor=\"middle\" x=\"1398\" y=\"-223.3\" font-family=\"Helvetica,sans-Serif\" font-size=\"14.00\">class = No alta</text>\r\n",
       "</g>\r\n",
       "<!-- 76&#45;&gt;77 -->\r\n",
       "<g id=\"edge77\" class=\"edge\"><title>76&#45;&gt;77</title>\r\n",
       "<path fill=\"none\" stroke=\"black\" d=\"M1216.57,-257C1238.39,-257 1261.99,-257 1284.7,-257\"/>\r\n",
       "<polygon fill=\"black\" stroke=\"black\" points=\"1284.71,-260.5 1294.71,-257 1284.71,-253.5 1284.71,-260.5\"/>\r\n",
       "</g>\r\n",
       "<!-- 80 -->\r\n",
       "<g id=\"node81\" class=\"node\"><title>80</title>\r\n",
       "<path fill=\"#e78945\" stroke=\"black\" d=\"M1481.5,-161.5C1481.5,-161.5 1314.5,-161.5 1314.5,-161.5 1308.5,-161.5 1302.5,-155.5 1302.5,-149.5 1302.5,-149.5 1302.5,-90.5 1302.5,-90.5 1302.5,-84.5 1308.5,-78.5 1314.5,-78.5 1314.5,-78.5 1481.5,-78.5 1481.5,-78.5 1487.5,-78.5 1493.5,-84.5 1493.5,-90.5 1493.5,-90.5 1493.5,-149.5 1493.5,-149.5 1493.5,-155.5 1487.5,-161.5 1481.5,-161.5\"/>\r\n",
       "<text text-anchor=\"middle\" x=\"1398\" y=\"-146.3\" font-family=\"Helvetica,sans-Serif\" font-size=\"14.00\">totalCuentas_shift_5 &lt;= 2.5</text>\r\n",
       "<text text-anchor=\"middle\" x=\"1398\" y=\"-131.3\" font-family=\"Helvetica,sans-Serif\" font-size=\"14.00\">gini = 0.1103</text>\r\n",
       "<text text-anchor=\"middle\" x=\"1398\" y=\"-116.3\" font-family=\"Helvetica,sans-Serif\" font-size=\"14.00\">samples = 0.0%</text>\r\n",
       "<text text-anchor=\"middle\" x=\"1398\" y=\"-101.3\" font-family=\"Helvetica,sans-Serif\" font-size=\"14.00\">value = [0.9414, 0.0586]</text>\r\n",
       "<text text-anchor=\"middle\" x=\"1398\" y=\"-86.3\" font-family=\"Helvetica,sans-Serif\" font-size=\"14.00\">class = No alta</text>\r\n",
       "</g>\r\n",
       "<!-- 76&#45;&gt;80 -->\r\n",
       "<g id=\"edge80\" class=\"edge\"><title>76&#45;&gt;80</title>\r\n",
       "<path fill=\"none\" stroke=\"black\" d=\"M1208.76,-215.337C1239.32,-199.861 1274.16,-182.214 1305.5,-166.344\"/>\r\n",
       "<polygon fill=\"black\" stroke=\"black\" points=\"1307.32,-169.341 1314.66,-161.7 1304.16,-163.096 1307.32,-169.341\"/>\r\n",
       "</g>\r\n",
       "<!-- 78 -->\r\n",
       "<g id=\"node79\" class=\"node\"><title>78</title>\r\n",
       "<path fill=\"#e5813a\" stroke=\"black\" d=\"M1711,-326C1711,-326 1565,-326 1565,-326 1559,-326 1553,-320 1553,-314 1553,-314 1553,-270 1553,-270 1553,-264 1559,-258 1565,-258 1565,-258 1711,-258 1711,-258 1717,-258 1723,-264 1723,-270 1723,-270 1723,-314 1723,-314 1723,-320 1717,-326 1711,-326\"/>\r\n",
       "<text text-anchor=\"middle\" x=\"1638\" y=\"-310.8\" font-family=\"Helvetica,sans-Serif\" font-size=\"14.00\">gini = 0.0057</text>\r\n",
       "<text text-anchor=\"middle\" x=\"1638\" y=\"-295.8\" font-family=\"Helvetica,sans-Serif\" font-size=\"14.00\">samples = 0.3%</text>\r\n",
       "<text text-anchor=\"middle\" x=\"1638\" y=\"-280.8\" font-family=\"Helvetica,sans-Serif\" font-size=\"14.00\">value = [0.9971, 0.0029]</text>\r\n",
       "<text text-anchor=\"middle\" x=\"1638\" y=\"-265.8\" font-family=\"Helvetica,sans-Serif\" font-size=\"14.00\">class = No alta</text>\r\n",
       "</g>\r\n",
       "<!-- 77&#45;&gt;78 -->\r\n",
       "<g id=\"edge78\" class=\"edge\"><title>77&#45;&gt;78</title>\r\n",
       "<path fill=\"none\" stroke=\"black\" d=\"M1501.31,-272.046C1514.97,-274.054 1528.92,-276.106 1542.44,-278.093\"/>\r\n",
       "<polygon fill=\"black\" stroke=\"black\" points=\"1542.27,-281.606 1552.67,-279.599 1543.29,-274.681 1542.27,-281.606\"/>\r\n",
       "</g>\r\n",
       "<!-- 79 -->\r\n",
       "<g id=\"node80\" class=\"node\"><title>79</title>\r\n",
       "<path fill=\"#e5833c\" stroke=\"black\" d=\"M1711,-240C1711,-240 1565,-240 1565,-240 1559,-240 1553,-234 1553,-228 1553,-228 1553,-184 1553,-184 1553,-178 1559,-172 1565,-172 1565,-172 1711,-172 1711,-172 1717,-172 1723,-178 1723,-184 1723,-184 1723,-228 1723,-228 1723,-234 1717,-240 1711,-240\"/>\r\n",
       "<text text-anchor=\"middle\" x=\"1638\" y=\"-224.8\" font-family=\"Helvetica,sans-Serif\" font-size=\"14.00\">gini = 0.0261</text>\r\n",
       "<text text-anchor=\"middle\" x=\"1638\" y=\"-209.8\" font-family=\"Helvetica,sans-Serif\" font-size=\"14.00\">samples = 0.0%</text>\r\n",
       "<text text-anchor=\"middle\" x=\"1638\" y=\"-194.8\" font-family=\"Helvetica,sans-Serif\" font-size=\"14.00\">value = [0.9868, 0.0132]</text>\r\n",
       "<text text-anchor=\"middle\" x=\"1638\" y=\"-179.8\" font-family=\"Helvetica,sans-Serif\" font-size=\"14.00\">class = No alta</text>\r\n",
       "</g>\r\n",
       "<!-- 77&#45;&gt;79 -->\r\n",
       "<g id=\"edge79\" class=\"edge\"><title>77&#45;&gt;79</title>\r\n",
       "<path fill=\"none\" stroke=\"black\" d=\"M1501.31,-235.075C1515.1,-232.121 1529.2,-229.101 1542.83,-226.179\"/>\r\n",
       "<polygon fill=\"black\" stroke=\"black\" points=\"1543.63,-229.588 1552.67,-224.07 1542.16,-222.743 1543.63,-229.588\"/>\r\n",
       "</g>\r\n",
       "<!-- 81 -->\r\n",
       "<g id=\"node82\" class=\"node\"><title>81</title>\r\n",
       "<path fill=\"#e78945\" stroke=\"black\" d=\"M1711,-154C1711,-154 1565,-154 1565,-154 1559,-154 1553,-148 1553,-142 1553,-142 1553,-98 1553,-98 1553,-92 1559,-86 1565,-86 1565,-86 1711,-86 1711,-86 1717,-86 1723,-92 1723,-98 1723,-98 1723,-142 1723,-142 1723,-148 1717,-154 1711,-154\"/>\r\n",
       "<text text-anchor=\"middle\" x=\"1638\" y=\"-138.8\" font-family=\"Helvetica,sans-Serif\" font-size=\"14.00\">gini = 0.1092</text>\r\n",
       "<text text-anchor=\"middle\" x=\"1638\" y=\"-123.8\" font-family=\"Helvetica,sans-Serif\" font-size=\"14.00\">samples = 0.0%</text>\r\n",
       "<text text-anchor=\"middle\" x=\"1638\" y=\"-108.8\" font-family=\"Helvetica,sans-Serif\" font-size=\"14.00\">value = [0.9421, 0.0579]</text>\r\n",
       "<text text-anchor=\"middle\" x=\"1638\" y=\"-93.8\" font-family=\"Helvetica,sans-Serif\" font-size=\"14.00\">class = No alta</text>\r\n",
       "</g>\r\n",
       "<!-- 80&#45;&gt;81 -->\r\n",
       "<g id=\"edge81\" class=\"edge\"><title>80&#45;&gt;81</title>\r\n",
       "<path fill=\"none\" stroke=\"black\" d=\"M1493.75,-120C1509.8,-120 1526.48,-120 1542.53,-120\"/>\r\n",
       "<polygon fill=\"black\" stroke=\"black\" points=\"1542.97,-123.5 1552.97,-120 1542.97,-116.5 1542.97,-123.5\"/>\r\n",
       "</g>\r\n",
       "<!-- 82 -->\r\n",
       "<g id=\"node83\" class=\"node\"><title>82</title>\r\n",
       "<path fill=\"#399de5\" stroke=\"black\" d=\"M1686.5,-68C1686.5,-68 1589.5,-68 1589.5,-68 1583.5,-68 1577.5,-62 1577.5,-56 1577.5,-56 1577.5,-12 1577.5,-12 1577.5,-6 1583.5,-0 1589.5,-0 1589.5,-0 1686.5,-0 1686.5,-0 1692.5,-0 1698.5,-6 1698.5,-12 1698.5,-12 1698.5,-56 1698.5,-56 1698.5,-62 1692.5,-68 1686.5,-68\"/>\r\n",
       "<text text-anchor=\"middle\" x=\"1638\" y=\"-52.8\" font-family=\"Helvetica,sans-Serif\" font-size=\"14.00\">gini = 0.0</text>\r\n",
       "<text text-anchor=\"middle\" x=\"1638\" y=\"-37.8\" font-family=\"Helvetica,sans-Serif\" font-size=\"14.00\">samples = 0.0%</text>\r\n",
       "<text text-anchor=\"middle\" x=\"1638\" y=\"-22.8\" font-family=\"Helvetica,sans-Serif\" font-size=\"14.00\">value = [0.0, 1.0]</text>\r\n",
       "<text text-anchor=\"middle\" x=\"1638\" y=\"-7.8\" font-family=\"Helvetica,sans-Serif\" font-size=\"14.00\">class = Alta</text>\r\n",
       "</g>\r\n",
       "<!-- 80&#45;&gt;82 -->\r\n",
       "<g id=\"edge82\" class=\"edge\"><title>80&#45;&gt;82</title>\r\n",
       "<path fill=\"none\" stroke=\"black\" d=\"M1493.75,-85.7634C1518.47,-76.8285 1544.66,-67.3664 1567.79,-59.01\"/>\r\n",
       "<polygon fill=\"black\" stroke=\"black\" points=\"1569.28,-62.1914 1577.5,-55.5012 1566.9,-55.608 1569.28,-62.1914\"/>\r\n",
       "</g>\r\n",
       "</g>\r\n",
       "</svg>\r\n"
      ],
      "text/plain": [
       "<graphviz.files.Source at 0x1eb4f0a8448>"
      ]
     },
     "execution_count": 12,
     "metadata": {},
     "output_type": "execute_result"
    }
   ],
   "source": [
    "dot_data = export_graphviz(\n",
    "                        decision_tree = dt,\n",
    "                        # out_file=None,\n",
    "                        # max_depth=None,\n",
    "                        feature_names=X_test.columns,\n",
    "                        class_names=['No alta', 'Alta'],\n",
    "                        # label='all',\n",
    "                        filled=True,\n",
    "                        # leaves_parallel=False,\n",
    "                        impurity=True,\n",
    "                        # node_ids=False,\n",
    "                        proportion=True,\n",
    "                        rotate=True,\n",
    "                        rounded=True,\n",
    "                        # special_characters=False,\n",
    "                        precision=4,\n",
    "                        )\n",
    "\n",
    "graph = graphviz.Source(dot_data)\n",
    "graph"
   ]
  },
  {
   "cell_type": "code",
   "execution_count": 14,
   "metadata": {
    "ExecuteTime": {
     "end_time": "2020-09-08T09:27:25.126922Z",
     "start_time": "2020-09-08T09:27:25.122906Z"
    }
   },
   "outputs": [
    {
     "data": {
      "text/plain": [
       "graphviz.files.Source"
      ]
     },
     "execution_count": 14,
     "metadata": {},
     "output_type": "execute_result"
    }
   ],
   "source": [
    "type(graph)"
   ]
  },
  {
   "cell_type": "code",
   "execution_count": 16,
   "metadata": {
    "ExecuteTime": {
     "end_time": "2020-09-08T09:29:41.283910Z",
     "start_time": "2020-09-08T09:29:41.139009Z"
    }
   },
   "outputs": [
    {
     "data": {
      "text/plain": [
       "'arbol_EasyMoney.pdf'"
      ]
     },
     "execution_count": 16,
     "metadata": {},
     "output_type": "execute_result"
    }
   ],
   "source": [
    "graph.render(filename='arbol_EasyMoney')"
   ]
  },
  {
   "cell_type": "markdown",
   "metadata": {},
   "source": [
    "# Vemos con Test"
   ]
  },
  {
   "cell_type": "code",
   "execution_count": 88,
   "metadata": {
    "ExecuteTime": {
     "end_time": "2020-09-09T08:43:16.209753Z",
     "start_time": "2020-09-09T08:43:15.920656Z"
    }
   },
   "outputs": [],
   "source": [
    "y_test_pred = pd.DataFrame(dt.predict(X_test), index=Y_test.index, columns=['altaPrediction'])"
   ]
  },
  {
   "cell_type": "code",
   "execution_count": 89,
   "metadata": {
    "ExecuteTime": {
     "end_time": "2020-09-09T08:43:17.566485Z",
     "start_time": "2020-09-09T08:43:17.561542Z"
    }
   },
   "outputs": [
    {
     "data": {
      "text/plain": [
       "331588"
      ]
     },
     "execution_count": 89,
     "metadata": {},
     "output_type": "execute_result"
    }
   ],
   "source": [
    "len(y_test_pred)"
   ]
  },
  {
   "cell_type": "code",
   "execution_count": 90,
   "metadata": {
    "ExecuteTime": {
     "end_time": "2020-09-09T08:43:19.255503Z",
     "start_time": "2020-09-09T08:43:18.904444Z"
    }
   },
   "outputs": [],
   "source": [
    "score_test=dt.score(X_test, Y_test)"
   ]
  },
  {
   "cell_type": "code",
   "execution_count": 91,
   "metadata": {
    "ExecuteTime": {
     "end_time": "2020-09-09T08:43:20.638477Z",
     "start_time": "2020-09-09T08:43:20.634463Z"
    }
   },
   "outputs": [
    {
     "data": {
      "text/plain": [
       "0.9694228982954751"
      ]
     },
     "execution_count": 91,
     "metadata": {},
     "output_type": "execute_result"
    }
   ],
   "source": [
    "score_test"
   ]
  },
  {
   "cell_type": "code",
   "execution_count": 92,
   "metadata": {
    "ExecuteTime": {
     "end_time": "2020-09-09T08:43:23.418766Z",
     "start_time": "2020-09-09T08:43:23.325353Z"
    }
   },
   "outputs": [],
   "source": [
    "results_df = Y_test.to_frame().join(y_test_pred)"
   ]
  },
  {
   "cell_type": "code",
   "execution_count": 93,
   "metadata": {
    "ExecuteTime": {
     "end_time": "2020-09-09T08:43:24.760810Z",
     "start_time": "2020-09-09T08:43:24.752487Z"
    }
   },
   "outputs": [],
   "source": [
    "results_df['Success']=(results_df['dif_cuentaSimple']==results_df['altaPrediction']).astype(int)"
   ]
  },
  {
   "cell_type": "code",
   "execution_count": 94,
   "metadata": {
    "ExecuteTime": {
     "end_time": "2020-09-09T08:43:26.123482Z",
     "start_time": "2020-09-09T08:43:26.106448Z"
    }
   },
   "outputs": [
    {
     "data": {
      "text/html": [
       "<div>\n",
       "<style scoped>\n",
       "    .dataframe tbody tr th:only-of-type {\n",
       "        vertical-align: middle;\n",
       "    }\n",
       "\n",
       "    .dataframe tbody tr th {\n",
       "        vertical-align: top;\n",
       "    }\n",
       "\n",
       "    .dataframe thead th {\n",
       "        text-align: right;\n",
       "    }\n",
       "</style>\n",
       "<table border=\"1\" class=\"dataframe\">\n",
       "  <thead>\n",
       "    <tr style=\"text-align: right;\">\n",
       "      <th></th>\n",
       "      <th>dif_cuentaSimple</th>\n",
       "      <th>altaPrediction</th>\n",
       "      <th>Success</th>\n",
       "    </tr>\n",
       "  </thead>\n",
       "  <tbody>\n",
       "    <tr>\n",
       "      <th>5634936</th>\n",
       "      <td>1.00</td>\n",
       "      <td>1.00</td>\n",
       "      <td>1</td>\n",
       "    </tr>\n",
       "    <tr>\n",
       "      <th>5618204</th>\n",
       "      <td>1.00</td>\n",
       "      <td>0.00</td>\n",
       "      <td>0</td>\n",
       "    </tr>\n",
       "    <tr>\n",
       "      <th>5636522</th>\n",
       "      <td>1.00</td>\n",
       "      <td>1.00</td>\n",
       "      <td>1</td>\n",
       "    </tr>\n",
       "    <tr>\n",
       "      <th>5427251</th>\n",
       "      <td>1.00</td>\n",
       "      <td>1.00</td>\n",
       "      <td>1</td>\n",
       "    </tr>\n",
       "    <tr>\n",
       "      <th>5307688</th>\n",
       "      <td>1.00</td>\n",
       "      <td>0.00</td>\n",
       "      <td>0</td>\n",
       "    </tr>\n",
       "    <tr>\n",
       "      <th>5392915</th>\n",
       "      <td>1.00</td>\n",
       "      <td>0.00</td>\n",
       "      <td>0</td>\n",
       "    </tr>\n",
       "    <tr>\n",
       "      <th>5633726</th>\n",
       "      <td>1.00</td>\n",
       "      <td>1.00</td>\n",
       "      <td>1</td>\n",
       "    </tr>\n",
       "    <tr>\n",
       "      <th>5624592</th>\n",
       "      <td>1.00</td>\n",
       "      <td>0.00</td>\n",
       "      <td>0</td>\n",
       "    </tr>\n",
       "    <tr>\n",
       "      <th>5635650</th>\n",
       "      <td>1.00</td>\n",
       "      <td>1.00</td>\n",
       "      <td>1</td>\n",
       "    </tr>\n",
       "    <tr>\n",
       "      <th>5636375</th>\n",
       "      <td>1.00</td>\n",
       "      <td>1.00</td>\n",
       "      <td>1</td>\n",
       "    </tr>\n",
       "    <tr>\n",
       "      <th>5388700</th>\n",
       "      <td>1.00</td>\n",
       "      <td>1.00</td>\n",
       "      <td>1</td>\n",
       "    </tr>\n",
       "    <tr>\n",
       "      <th>5622746</th>\n",
       "      <td>1.00</td>\n",
       "      <td>0.00</td>\n",
       "      <td>0</td>\n",
       "    </tr>\n",
       "    <tr>\n",
       "      <th>5335333</th>\n",
       "      <td>1.00</td>\n",
       "      <td>1.00</td>\n",
       "      <td>1</td>\n",
       "    </tr>\n",
       "    <tr>\n",
       "      <th>5624442</th>\n",
       "      <td>1.00</td>\n",
       "      <td>0.00</td>\n",
       "      <td>0</td>\n",
       "    </tr>\n",
       "    <tr>\n",
       "      <th>5577694</th>\n",
       "      <td>1.00</td>\n",
       "      <td>0.00</td>\n",
       "      <td>0</td>\n",
       "    </tr>\n",
       "    <tr>\n",
       "      <th>5587259</th>\n",
       "      <td>1.00</td>\n",
       "      <td>0.00</td>\n",
       "      <td>0</td>\n",
       "    </tr>\n",
       "    <tr>\n",
       "      <th>5433361</th>\n",
       "      <td>1.00</td>\n",
       "      <td>0.00</td>\n",
       "      <td>0</td>\n",
       "    </tr>\n",
       "    <tr>\n",
       "      <th>5383719</th>\n",
       "      <td>1.00</td>\n",
       "      <td>0.00</td>\n",
       "      <td>0</td>\n",
       "    </tr>\n",
       "    <tr>\n",
       "      <th>5498114</th>\n",
       "      <td>1.00</td>\n",
       "      <td>1.00</td>\n",
       "      <td>1</td>\n",
       "    </tr>\n",
       "    <tr>\n",
       "      <th>5620590</th>\n",
       "      <td>1.00</td>\n",
       "      <td>0.00</td>\n",
       "      <td>0</td>\n",
       "    </tr>\n",
       "  </tbody>\n",
       "</table>\n",
       "</div>"
      ],
      "text/plain": [
       "         dif_cuentaSimple  altaPrediction  Success\n",
       "5634936              1.00            1.00        1\n",
       "5618204              1.00            0.00        0\n",
       "5636522              1.00            1.00        1\n",
       "5427251              1.00            1.00        1\n",
       "5307688              1.00            0.00        0\n",
       "5392915              1.00            0.00        0\n",
       "5633726              1.00            1.00        1\n",
       "5624592              1.00            0.00        0\n",
       "5635650              1.00            1.00        1\n",
       "5636375              1.00            1.00        1\n",
       "5388700              1.00            1.00        1\n",
       "5622746              1.00            0.00        0\n",
       "5335333              1.00            1.00        1\n",
       "5624442              1.00            0.00        0\n",
       "5577694              1.00            0.00        0\n",
       "5587259              1.00            0.00        0\n",
       "5433361              1.00            0.00        0\n",
       "5383719              1.00            0.00        0\n",
       "5498114              1.00            1.00        1\n",
       "5620590              1.00            0.00        0"
      ]
     },
     "execution_count": 94,
     "metadata": {},
     "output_type": "execute_result"
    }
   ],
   "source": [
    "results_df[results_df['dif_cuentaSimple']!=0].sample(20)"
   ]
  },
  {
   "cell_type": "code",
   "execution_count": 95,
   "metadata": {
    "ExecuteTime": {
     "end_time": "2020-09-09T08:43:30.738558Z",
     "start_time": "2020-09-09T08:43:30.376808Z"
    }
   },
   "outputs": [
    {
     "data": {
      "text/plain": [
       "<matplotlib.axes._subplots.AxesSubplot at 0x1a66b736348>"
      ]
     },
     "execution_count": 95,
     "metadata": {},
     "output_type": "execute_result"
    },
    {
     "data": {
      "image/png": "[encoded data removed]",
      "text/plain": [
       "<Figure size 432x288 with 1 Axes>"
      ]
     },
     "metadata": {},
     "output_type": "display_data"
    }
   ],
   "source": [
    "results_df[results_df['dif_cuentaSimple']==1]['Success'].hist()"
   ]
  },
  {
   "cell_type": "code",
   "execution_count": 96,
   "metadata": {
    "ExecuteTime": {
     "end_time": "2020-09-09T08:43:36.675421Z",
     "start_time": "2020-09-09T08:43:36.662429Z"
    }
   },
   "outputs": [
    {
     "data": {
      "text/plain": [
       "0    9067\n",
       "1    4528\n",
       "Name: Success, dtype: int64"
      ]
     },
     "execution_count": 96,
     "metadata": {},
     "output_type": "execute_result"
    }
   ],
   "source": [
    "results_df[results_df['dif_cuentaSimple']==1]['Success'].value_counts()"
   ]
  },
  {
   "cell_type": "code",
   "execution_count": 97,
   "metadata": {
    "ExecuteTime": {
     "end_time": "2020-09-09T08:43:46.324290Z",
     "start_time": "2020-09-09T08:43:46.084165Z"
    }
   },
   "outputs": [
    {
     "data": {
      "text/plain": [
       "<matplotlib.axes._subplots.AxesSubplot at 0x1a48333b8c8>"
      ]
     },
     "execution_count": 97,
     "metadata": {},
     "output_type": "execute_result"
    },
    {
     "data": {
      "image/png": "[encoded data removed]",
      "text/plain": [
       "<Figure size 432x288 with 1 Axes>"
      ]
     },
     "metadata": {},
     "output_type": "display_data"
    }
   ],
   "source": [
    "results_df[results_df['dif_cuentaSimple']==0]['Success'].hist()"
   ]
  },
  {
   "cell_type": "code",
   "execution_count": 98,
   "metadata": {
    "ExecuteTime": {
     "end_time": "2020-09-09T08:43:52.058674Z",
     "start_time": "2020-09-09T08:43:52.036180Z"
    }
   },
   "outputs": [
    {
     "data": {
      "text/plain": [
       "1    316921\n",
       "0      1072\n",
       "Name: Success, dtype: int64"
      ]
     },
     "execution_count": 98,
     "metadata": {},
     "output_type": "execute_result"
    }
   ],
   "source": [
    "results_df[results_df['dif_cuentaSimple']==0]['Success'].value_counts()"
   ]
  },
  {
   "cell_type": "code",
   "execution_count": 99,
   "metadata": {
    "ExecuteTime": {
     "end_time": "2020-09-09T08:43:54.996465Z",
     "start_time": "2020-09-09T08:43:54.992454Z"
    }
   },
   "outputs": [],
   "source": [
    "top_features = pd.Series(dt.feature_importances_, index=X_train.columns).sort_values(ascending=False).head(30)"
   ]
  },
  {
   "cell_type": "code",
   "execution_count": 100,
   "metadata": {
    "ExecuteTime": {
     "end_time": "2020-09-09T08:43:56.403879Z",
     "start_time": "2020-09-09T08:43:56.398871Z"
    }
   },
   "outputs": [
    {
     "data": {
      "text/plain": [
       "isActive_shift_1                 0.80\n",
       "em_acount_shift_1                0.04\n",
       "dif_pension_plan_shift_1         0.03\n",
       "payroll_account_shift_1          0.02\n",
       "debit_card_shift_2               0.02\n",
       "totalAssets_shift_1              0.01\n",
       "active_customer_shift_1          0.01\n",
       "payroll_shift_2                  0.01\n",
       "diasDesdeUltimaBajaInt_shift_2   0.01\n",
       "age                              0.01\n",
       "channel_KHQ                      0.01\n",
       "entry_date_day                   0.01\n",
       "dif_short_term_deposit_shift_3   0.01\n",
       "channel_XXX                      0.01\n",
       "dif_debit_card_shift_3           0.00\n",
       "entry_date_month                 0.00\n",
       "debit_card_shift_1               0.00\n",
       "debit_card_shift_3               0.00\n",
       "pension_plan_shift_1             0.00\n",
       "entry_date_year                  0.00\n",
       "diasDesdeUltimaAltaInt_shift_1   0.00\n",
       "month                            0.00\n",
       "pension_plan_shift_3             0.00\n",
       "em_acount_shift_2                0.00\n",
       "year                             0.00\n",
       "isNewClient_shift_1              0.00\n",
       "channel_KHM                      0.00\n",
       "debit_card_shift_4               0.00\n",
       "emc_account_shift_4              0.00\n",
       "loans_shift_1                    0.00\n",
       "dtype: float64"
      ]
     },
     "execution_count": 100,
     "metadata": {},
     "output_type": "execute_result"
    }
   ],
   "source": [
    "top_features"
   ]
  },
  {
   "cell_type": "code",
   "execution_count": 101,
   "metadata": {
    "ExecuteTime": {
     "end_time": "2020-09-09T08:44:11.350778Z",
     "start_time": "2020-09-09T08:44:11.346779Z"
    }
   },
   "outputs": [],
   "source": [
    "ver=['pk_cid','pk_partition','payroll_account',\n",
    "    'payroll_account_shift_1',\n",
    "    'payroll_account_shift_2',\n",
    "    'payroll_account_shift_3',\n",
    "    'payroll_account_shift_4']"
   ]
  },
  {
   "cell_type": "code",
   "execution_count": 102,
   "metadata": {
    "ExecuteTime": {
     "end_time": "2020-09-09T08:44:13.422385Z",
     "start_time": "2020-09-09T08:44:12.759768Z"
    }
   },
   "outputs": [
    {
     "data": {
      "text/html": [
       "<div>\n",
       "<style scoped>\n",
       "    .dataframe tbody tr th:only-of-type {\n",
       "        vertical-align: middle;\n",
       "    }\n",
       "\n",
       "    .dataframe tbody tr th {\n",
       "        vertical-align: top;\n",
       "    }\n",
       "\n",
       "    .dataframe thead th {\n",
       "        text-align: right;\n",
       "    }\n",
       "</style>\n",
       "<table border=\"1\" class=\"dataframe\">\n",
       "  <thead>\n",
       "    <tr style=\"text-align: right;\">\n",
       "      <th></th>\n",
       "      <th>pk_partition</th>\n",
       "      <th>pk_cid</th>\n",
       "      <th>short_term_deposit</th>\n",
       "      <th>loans</th>\n",
       "      <th>mortgage</th>\n",
       "      <th>funds</th>\n",
       "      <th>securities</th>\n",
       "      <th>long_term_deposit</th>\n",
       "      <th>em_account_pp</th>\n",
       "      <th>credit_card</th>\n",
       "      <th>...</th>\n",
       "      <th>channel_KFA</th>\n",
       "      <th>country_BE</th>\n",
       "      <th>country_BR</th>\n",
       "      <th>country_CH</th>\n",
       "      <th>country_DE</th>\n",
       "      <th>country_ES</th>\n",
       "      <th>country_FR</th>\n",
       "      <th>country_GB</th>\n",
       "      <th>country_Other</th>\n",
       "      <th>country_US</th>\n",
       "    </tr>\n",
       "  </thead>\n",
       "  <tbody>\n",
       "    <tr>\n",
       "      <th>2</th>\n",
       "      <td>2018-01-28</td>\n",
       "      <td>17457</td>\n",
       "      <td>0.00</td>\n",
       "      <td>0.00</td>\n",
       "      <td>0.00</td>\n",
       "      <td>0.00</td>\n",
       "      <td>0.00</td>\n",
       "      <td>1.00</td>\n",
       "      <td>0.00</td>\n",
       "      <td>0.00</td>\n",
       "      <td>...</td>\n",
       "      <td>0</td>\n",
       "      <td>0</td>\n",
       "      <td>0</td>\n",
       "      <td>0</td>\n",
       "      <td>0</td>\n",
       "      <td>1</td>\n",
       "      <td>0</td>\n",
       "      <td>0</td>\n",
       "      <td>0</td>\n",
       "      <td>0</td>\n",
       "    </tr>\n",
       "    <tr>\n",
       "      <th>3</th>\n",
       "      <td>2018-01-28</td>\n",
       "      <td>17799</td>\n",
       "      <td>0.00</td>\n",
       "      <td>0.00</td>\n",
       "      <td>0.00</td>\n",
       "      <td>0.00</td>\n",
       "      <td>0.00</td>\n",
       "      <td>0.00</td>\n",
       "      <td>0.00</td>\n",
       "      <td>0.00</td>\n",
       "      <td>...</td>\n",
       "      <td>0</td>\n",
       "      <td>0</td>\n",
       "      <td>0</td>\n",
       "      <td>0</td>\n",
       "      <td>0</td>\n",
       "      <td>1</td>\n",
       "      <td>0</td>\n",
       "      <td>0</td>\n",
       "      <td>0</td>\n",
       "      <td>0</td>\n",
       "    </tr>\n",
       "    <tr>\n",
       "      <th>4</th>\n",
       "      <td>2018-01-28</td>\n",
       "      <td>17970</td>\n",
       "      <td>0.00</td>\n",
       "      <td>0.00</td>\n",
       "      <td>0.00</td>\n",
       "      <td>0.00</td>\n",
       "      <td>0.00</td>\n",
       "      <td>0.00</td>\n",
       "      <td>0.00</td>\n",
       "      <td>0.00</td>\n",
       "      <td>...</td>\n",
       "      <td>0</td>\n",
       "      <td>0</td>\n",
       "      <td>0</td>\n",
       "      <td>0</td>\n",
       "      <td>0</td>\n",
       "      <td>1</td>\n",
       "      <td>0</td>\n",
       "      <td>0</td>\n",
       "      <td>0</td>\n",
       "      <td>0</td>\n",
       "    </tr>\n",
       "    <tr>\n",
       "      <th>7</th>\n",
       "      <td>2018-01-28</td>\n",
       "      <td>18704</td>\n",
       "      <td>0.00</td>\n",
       "      <td>0.00</td>\n",
       "      <td>0.00</td>\n",
       "      <td>0.00</td>\n",
       "      <td>0.00</td>\n",
       "      <td>0.00</td>\n",
       "      <td>0.00</td>\n",
       "      <td>0.00</td>\n",
       "      <td>...</td>\n",
       "      <td>0</td>\n",
       "      <td>0</td>\n",
       "      <td>0</td>\n",
       "      <td>0</td>\n",
       "      <td>0</td>\n",
       "      <td>1</td>\n",
       "      <td>0</td>\n",
       "      <td>0</td>\n",
       "      <td>0</td>\n",
       "      <td>0</td>\n",
       "    </tr>\n",
       "    <tr>\n",
       "      <th>8</th>\n",
       "      <td>2018-01-28</td>\n",
       "      <td>19021</td>\n",
       "      <td>0.00</td>\n",
       "      <td>0.00</td>\n",
       "      <td>0.00</td>\n",
       "      <td>0.00</td>\n",
       "      <td>0.00</td>\n",
       "      <td>0.00</td>\n",
       "      <td>0.00</td>\n",
       "      <td>1.00</td>\n",
       "      <td>...</td>\n",
       "      <td>0</td>\n",
       "      <td>0</td>\n",
       "      <td>0</td>\n",
       "      <td>0</td>\n",
       "      <td>0</td>\n",
       "      <td>1</td>\n",
       "      <td>0</td>\n",
       "      <td>0</td>\n",
       "      <td>0</td>\n",
       "      <td>0</td>\n",
       "    </tr>\n",
       "    <tr>\n",
       "      <th>...</th>\n",
       "      <td>...</td>\n",
       "      <td>...</td>\n",
       "      <td>...</td>\n",
       "      <td>...</td>\n",
       "      <td>...</td>\n",
       "      <td>...</td>\n",
       "      <td>...</td>\n",
       "      <td>...</td>\n",
       "      <td>...</td>\n",
       "      <td>...</td>\n",
       "      <td>...</td>\n",
       "      <td>...</td>\n",
       "      <td>...</td>\n",
       "      <td>...</td>\n",
       "      <td>...</td>\n",
       "      <td>...</td>\n",
       "      <td>...</td>\n",
       "      <td>...</td>\n",
       "      <td>...</td>\n",
       "      <td>...</td>\n",
       "      <td>...</td>\n",
       "    </tr>\n",
       "    <tr>\n",
       "      <th>5968579</th>\n",
       "      <td>2019-06-28</td>\n",
       "      <td>1553456</td>\n",
       "      <td>-999.00</td>\n",
       "      <td>-999.00</td>\n",
       "      <td>-999.00</td>\n",
       "      <td>-999.00</td>\n",
       "      <td>-999.00</td>\n",
       "      <td>-999.00</td>\n",
       "      <td>-999.00</td>\n",
       "      <td>-999.00</td>\n",
       "      <td>...</td>\n",
       "      <td>0</td>\n",
       "      <td>0</td>\n",
       "      <td>0</td>\n",
       "      <td>0</td>\n",
       "      <td>0</td>\n",
       "      <td>0</td>\n",
       "      <td>0</td>\n",
       "      <td>0</td>\n",
       "      <td>1</td>\n",
       "      <td>0</td>\n",
       "    </tr>\n",
       "    <tr>\n",
       "      <th>5968580</th>\n",
       "      <td>2019-06-28</td>\n",
       "      <td>1553541</td>\n",
       "      <td>-999.00</td>\n",
       "      <td>-999.00</td>\n",
       "      <td>-999.00</td>\n",
       "      <td>-999.00</td>\n",
       "      <td>-999.00</td>\n",
       "      <td>-999.00</td>\n",
       "      <td>-999.00</td>\n",
       "      <td>-999.00</td>\n",
       "      <td>...</td>\n",
       "      <td>0</td>\n",
       "      <td>0</td>\n",
       "      <td>0</td>\n",
       "      <td>0</td>\n",
       "      <td>0</td>\n",
       "      <td>0</td>\n",
       "      <td>0</td>\n",
       "      <td>0</td>\n",
       "      <td>1</td>\n",
       "      <td>0</td>\n",
       "    </tr>\n",
       "    <tr>\n",
       "      <th>5968581</th>\n",
       "      <td>2019-06-28</td>\n",
       "      <td>1553559</td>\n",
       "      <td>-999.00</td>\n",
       "      <td>-999.00</td>\n",
       "      <td>-999.00</td>\n",
       "      <td>-999.00</td>\n",
       "      <td>-999.00</td>\n",
       "      <td>-999.00</td>\n",
       "      <td>-999.00</td>\n",
       "      <td>-999.00</td>\n",
       "      <td>...</td>\n",
       "      <td>0</td>\n",
       "      <td>0</td>\n",
       "      <td>0</td>\n",
       "      <td>0</td>\n",
       "      <td>0</td>\n",
       "      <td>0</td>\n",
       "      <td>0</td>\n",
       "      <td>0</td>\n",
       "      <td>1</td>\n",
       "      <td>0</td>\n",
       "    </tr>\n",
       "    <tr>\n",
       "      <th>5968582</th>\n",
       "      <td>2019-06-28</td>\n",
       "      <td>1553565</td>\n",
       "      <td>-999.00</td>\n",
       "      <td>-999.00</td>\n",
       "      <td>-999.00</td>\n",
       "      <td>-999.00</td>\n",
       "      <td>-999.00</td>\n",
       "      <td>-999.00</td>\n",
       "      <td>-999.00</td>\n",
       "      <td>-999.00</td>\n",
       "      <td>...</td>\n",
       "      <td>0</td>\n",
       "      <td>0</td>\n",
       "      <td>0</td>\n",
       "      <td>0</td>\n",
       "      <td>0</td>\n",
       "      <td>0</td>\n",
       "      <td>0</td>\n",
       "      <td>0</td>\n",
       "      <td>1</td>\n",
       "      <td>0</td>\n",
       "    </tr>\n",
       "    <tr>\n",
       "      <th>5968583</th>\n",
       "      <td>2019-06-28</td>\n",
       "      <td>1553571</td>\n",
       "      <td>-999.00</td>\n",
       "      <td>-999.00</td>\n",
       "      <td>-999.00</td>\n",
       "      <td>-999.00</td>\n",
       "      <td>-999.00</td>\n",
       "      <td>-999.00</td>\n",
       "      <td>-999.00</td>\n",
       "      <td>-999.00</td>\n",
       "      <td>...</td>\n",
       "      <td>0</td>\n",
       "      <td>0</td>\n",
       "      <td>0</td>\n",
       "      <td>0</td>\n",
       "      <td>0</td>\n",
       "      <td>0</td>\n",
       "      <td>0</td>\n",
       "      <td>0</td>\n",
       "      <td>1</td>\n",
       "      <td>0</td>\n",
       "    </tr>\n",
       "  </tbody>\n",
       "</table>\n",
       "<p>5063970 rows × 267 columns</p>\n",
       "</div>"
      ],
      "text/plain": [
       "        pk_partition   pk_cid  short_term_deposit   loans  mortgage   funds  \\\n",
       "2         2018-01-28    17457                0.00    0.00      0.00    0.00   \n",
       "3         2018-01-28    17799                0.00    0.00      0.00    0.00   \n",
       "4         2018-01-28    17970                0.00    0.00      0.00    0.00   \n",
       "7         2018-01-28    18704                0.00    0.00      0.00    0.00   \n",
       "8         2018-01-28    19021                0.00    0.00      0.00    0.00   \n",
       "...              ...      ...                 ...     ...       ...     ...   \n",
       "5968579   2019-06-28  1553456             -999.00 -999.00   -999.00 -999.00   \n",
       "5968580   2019-06-28  1553541             -999.00 -999.00   -999.00 -999.00   \n",
       "5968581   2019-06-28  1553559             -999.00 -999.00   -999.00 -999.00   \n",
       "5968582   2019-06-28  1553565             -999.00 -999.00   -999.00 -999.00   \n",
       "5968583   2019-06-28  1553571             -999.00 -999.00   -999.00 -999.00   \n",
       "\n",
       "         securities  long_term_deposit  em_account_pp  credit_card  ...  \\\n",
       "2              0.00               1.00           0.00         0.00  ...   \n",
       "3              0.00               0.00           0.00         0.00  ...   \n",
       "4              0.00               0.00           0.00         0.00  ...   \n",
       "7              0.00               0.00           0.00         0.00  ...   \n",
       "8              0.00               0.00           0.00         1.00  ...   \n",
       "...             ...                ...            ...          ...  ...   \n",
       "5968579     -999.00            -999.00        -999.00      -999.00  ...   \n",
       "5968580     -999.00            -999.00        -999.00      -999.00  ...   \n",
       "5968581     -999.00            -999.00        -999.00      -999.00  ...   \n",
       "5968582     -999.00            -999.00        -999.00      -999.00  ...   \n",
       "5968583     -999.00            -999.00        -999.00      -999.00  ...   \n",
       "\n",
       "         channel_KFA  country_BE  country_BR  country_CH  country_DE  \\\n",
       "2                  0           0           0           0           0   \n",
       "3                  0           0           0           0           0   \n",
       "4                  0           0           0           0           0   \n",
       "7                  0           0           0           0           0   \n",
       "8                  0           0           0           0           0   \n",
       "...              ...         ...         ...         ...         ...   \n",
       "5968579            0           0           0           0           0   \n",
       "5968580            0           0           0           0           0   \n",
       "5968581            0           0           0           0           0   \n",
       "5968582            0           0           0           0           0   \n",
       "5968583            0           0           0           0           0   \n",
       "\n",
       "         country_ES  country_FR country_GB country_Other  country_US  \n",
       "2                 1           0          0             0           0  \n",
       "3                 1           0          0             0           0  \n",
       "4                 1           0          0             0           0  \n",
       "7                 1           0          0             0           0  \n",
       "8                 1           0          0             0           0  \n",
       "...             ...         ...        ...           ...         ...  \n",
       "5968579           0           0          0             1           0  \n",
       "5968580           0           0          0             1           0  \n",
       "5968581           0           0          0             1           0  \n",
       "5968582           0           0          0             1           0  \n",
       "5968583           0           0          0             1           0  \n",
       "\n",
       "[5063970 rows x 267 columns]"
      ]
     },
     "execution_count": 102,
     "metadata": {},
     "output_type": "execute_result"
    }
   ],
   "source": [
    "full_df"
   ]
  },
  {
   "cell_type": "code",
   "execution_count": 103,
   "metadata": {
    "ExecuteTime": {
     "end_time": "2020-09-09T08:44:19.256999Z",
     "start_time": "2020-09-09T08:44:19.225112Z"
    }
   },
   "outputs": [
    {
     "data": {
      "text/html": [
       "<div>\n",
       "<style scoped>\n",
       "    .dataframe tbody tr th:only-of-type {\n",
       "        vertical-align: middle;\n",
       "    }\n",
       "\n",
       "    .dataframe tbody tr th {\n",
       "        vertical-align: top;\n",
       "    }\n",
       "\n",
       "    .dataframe thead th {\n",
       "        text-align: right;\n",
       "    }\n",
       "</style>\n",
       "<table border=\"1\" class=\"dataframe\">\n",
       "  <thead>\n",
       "    <tr style=\"text-align: right;\">\n",
       "      <th></th>\n",
       "      <th>7</th>\n",
       "      <th>331595</th>\n",
       "      <th>663183</th>\n",
       "      <th>994771</th>\n",
       "      <th>1326359</th>\n",
       "      <th>1657947</th>\n",
       "      <th>1989535</th>\n",
       "      <th>2321123</th>\n",
       "      <th>2652711</th>\n",
       "      <th>2984299</th>\n",
       "      <th>3315887</th>\n",
       "      <th>3647475</th>\n",
       "      <th>3979063</th>\n",
       "      <th>4310651</th>\n",
       "      <th>4642239</th>\n",
       "      <th>4973827</th>\n",
       "      <th>5305415</th>\n",
       "      <th>5637003</th>\n",
       "    </tr>\n",
       "  </thead>\n",
       "  <tbody>\n",
       "    <tr>\n",
       "      <th>pk_cid</th>\n",
       "      <td>18704</td>\n",
       "      <td>18704</td>\n",
       "      <td>18704</td>\n",
       "      <td>18704</td>\n",
       "      <td>18704</td>\n",
       "      <td>18704</td>\n",
       "      <td>18704</td>\n",
       "      <td>18704</td>\n",
       "      <td>18704</td>\n",
       "      <td>18704</td>\n",
       "      <td>18704</td>\n",
       "      <td>18704</td>\n",
       "      <td>18704</td>\n",
       "      <td>18704</td>\n",
       "      <td>18704</td>\n",
       "      <td>18704</td>\n",
       "      <td>18704</td>\n",
       "      <td>18704</td>\n",
       "    </tr>\n",
       "    <tr>\n",
       "      <th>pk_partition</th>\n",
       "      <td>2018-01-28 00:00:00</td>\n",
       "      <td>2018-02-28 00:00:00</td>\n",
       "      <td>2018-03-28 00:00:00</td>\n",
       "      <td>2018-04-28 00:00:00</td>\n",
       "      <td>2018-05-28 00:00:00</td>\n",
       "      <td>2018-06-28 00:00:00</td>\n",
       "      <td>2018-07-28 00:00:00</td>\n",
       "      <td>2018-08-28 00:00:00</td>\n",
       "      <td>2018-09-28 00:00:00</td>\n",
       "      <td>2018-10-28 00:00:00</td>\n",
       "      <td>2018-11-28 00:00:00</td>\n",
       "      <td>2018-12-28 00:00:00</td>\n",
       "      <td>2019-01-28 00:00:00</td>\n",
       "      <td>2019-02-28 00:00:00</td>\n",
       "      <td>2019-03-28 00:00:00</td>\n",
       "      <td>2019-04-28 00:00:00</td>\n",
       "      <td>2019-05-28 00:00:00</td>\n",
       "      <td>2019-06-28 00:00:00</td>\n",
       "    </tr>\n",
       "    <tr>\n",
       "      <th>payroll_account</th>\n",
       "      <td>0.00</td>\n",
       "      <td>0.00</td>\n",
       "      <td>0.00</td>\n",
       "      <td>0.00</td>\n",
       "      <td>0.00</td>\n",
       "      <td>0.00</td>\n",
       "      <td>0.00</td>\n",
       "      <td>0.00</td>\n",
       "      <td>0.00</td>\n",
       "      <td>0.00</td>\n",
       "      <td>0.00</td>\n",
       "      <td>0.00</td>\n",
       "      <td>0.00</td>\n",
       "      <td>0.00</td>\n",
       "      <td>0.00</td>\n",
       "      <td>0.00</td>\n",
       "      <td>0.00</td>\n",
       "      <td>-999.00</td>\n",
       "    </tr>\n",
       "    <tr>\n",
       "      <th>payroll_account_shift_1</th>\n",
       "      <td>-999.00</td>\n",
       "      <td>0.00</td>\n",
       "      <td>0.00</td>\n",
       "      <td>0.00</td>\n",
       "      <td>0.00</td>\n",
       "      <td>0.00</td>\n",
       "      <td>0.00</td>\n",
       "      <td>0.00</td>\n",
       "      <td>0.00</td>\n",
       "      <td>0.00</td>\n",
       "      <td>0.00</td>\n",
       "      <td>0.00</td>\n",
       "      <td>0.00</td>\n",
       "      <td>0.00</td>\n",
       "      <td>0.00</td>\n",
       "      <td>0.00</td>\n",
       "      <td>0.00</td>\n",
       "      <td>0.00</td>\n",
       "    </tr>\n",
       "    <tr>\n",
       "      <th>payroll_account_shift_2</th>\n",
       "      <td>-999.00</td>\n",
       "      <td>-999.00</td>\n",
       "      <td>0.00</td>\n",
       "      <td>0.00</td>\n",
       "      <td>0.00</td>\n",
       "      <td>0.00</td>\n",
       "      <td>0.00</td>\n",
       "      <td>0.00</td>\n",
       "      <td>0.00</td>\n",
       "      <td>0.00</td>\n",
       "      <td>0.00</td>\n",
       "      <td>0.00</td>\n",
       "      <td>0.00</td>\n",
       "      <td>0.00</td>\n",
       "      <td>0.00</td>\n",
       "      <td>0.00</td>\n",
       "      <td>0.00</td>\n",
       "      <td>0.00</td>\n",
       "    </tr>\n",
       "    <tr>\n",
       "      <th>payroll_account_shift_3</th>\n",
       "      <td>-999.00</td>\n",
       "      <td>-999.00</td>\n",
       "      <td>-999.00</td>\n",
       "      <td>0.00</td>\n",
       "      <td>0.00</td>\n",
       "      <td>0.00</td>\n",
       "      <td>0.00</td>\n",
       "      <td>0.00</td>\n",
       "      <td>0.00</td>\n",
       "      <td>0.00</td>\n",
       "      <td>0.00</td>\n",
       "      <td>0.00</td>\n",
       "      <td>0.00</td>\n",
       "      <td>0.00</td>\n",
       "      <td>0.00</td>\n",
       "      <td>0.00</td>\n",
       "      <td>0.00</td>\n",
       "      <td>0.00</td>\n",
       "    </tr>\n",
       "    <tr>\n",
       "      <th>payroll_account_shift_4</th>\n",
       "      <td>-999.00</td>\n",
       "      <td>-999.00</td>\n",
       "      <td>-999.00</td>\n",
       "      <td>-999.00</td>\n",
       "      <td>0.00</td>\n",
       "      <td>0.00</td>\n",
       "      <td>0.00</td>\n",
       "      <td>0.00</td>\n",
       "      <td>0.00</td>\n",
       "      <td>0.00</td>\n",
       "      <td>0.00</td>\n",
       "      <td>0.00</td>\n",
       "      <td>0.00</td>\n",
       "      <td>0.00</td>\n",
       "      <td>0.00</td>\n",
       "      <td>0.00</td>\n",
       "      <td>0.00</td>\n",
       "      <td>0.00</td>\n",
       "    </tr>\n",
       "  </tbody>\n",
       "</table>\n",
       "</div>"
      ],
      "text/plain": [
       "                                     7                    331595   \\\n",
       "pk_cid                                 18704                18704   \n",
       "pk_partition             2018-01-28 00:00:00  2018-02-28 00:00:00   \n",
       "payroll_account                         0.00                 0.00   \n",
       "payroll_account_shift_1              -999.00                 0.00   \n",
       "payroll_account_shift_2              -999.00              -999.00   \n",
       "payroll_account_shift_3              -999.00              -999.00   \n",
       "payroll_account_shift_4              -999.00              -999.00   \n",
       "\n",
       "                                     663183               994771   \\\n",
       "pk_cid                                 18704                18704   \n",
       "pk_partition             2018-03-28 00:00:00  2018-04-28 00:00:00   \n",
       "payroll_account                         0.00                 0.00   \n",
       "payroll_account_shift_1                 0.00                 0.00   \n",
       "payroll_account_shift_2                 0.00                 0.00   \n",
       "payroll_account_shift_3              -999.00                 0.00   \n",
       "payroll_account_shift_4              -999.00              -999.00   \n",
       "\n",
       "                                     1326359              1657947  \\\n",
       "pk_cid                                 18704                18704   \n",
       "pk_partition             2018-05-28 00:00:00  2018-06-28 00:00:00   \n",
       "payroll_account                         0.00                 0.00   \n",
       "payroll_account_shift_1                 0.00                 0.00   \n",
       "payroll_account_shift_2                 0.00                 0.00   \n",
       "payroll_account_shift_3                 0.00                 0.00   \n",
       "payroll_account_shift_4                 0.00                 0.00   \n",
       "\n",
       "                                     1989535              2321123  \\\n",
       "pk_cid                                 18704                18704   \n",
       "pk_partition             2018-07-28 00:00:00  2018-08-28 00:00:00   \n",
       "payroll_account                         0.00                 0.00   \n",
       "payroll_account_shift_1                 0.00                 0.00   \n",
       "payroll_account_shift_2                 0.00                 0.00   \n",
       "payroll_account_shift_3                 0.00                 0.00   \n",
       "payroll_account_shift_4                 0.00                 0.00   \n",
       "\n",
       "                                     2652711              2984299  \\\n",
       "pk_cid                                 18704                18704   \n",
       "pk_partition             2018-09-28 00:00:00  2018-10-28 00:00:00   \n",
       "payroll_account                         0.00                 0.00   \n",
       "payroll_account_shift_1                 0.00                 0.00   \n",
       "payroll_account_shift_2                 0.00                 0.00   \n",
       "payroll_account_shift_3                 0.00                 0.00   \n",
       "payroll_account_shift_4                 0.00                 0.00   \n",
       "\n",
       "                                     3315887              3647475  \\\n",
       "pk_cid                                 18704                18704   \n",
       "pk_partition             2018-11-28 00:00:00  2018-12-28 00:00:00   \n",
       "payroll_account                         0.00                 0.00   \n",
       "payroll_account_shift_1                 0.00                 0.00   \n",
       "payroll_account_shift_2                 0.00                 0.00   \n",
       "payroll_account_shift_3                 0.00                 0.00   \n",
       "payroll_account_shift_4                 0.00                 0.00   \n",
       "\n",
       "                                     3979063              4310651  \\\n",
       "pk_cid                                 18704                18704   \n",
       "pk_partition             2019-01-28 00:00:00  2019-02-28 00:00:00   \n",
       "payroll_account                         0.00                 0.00   \n",
       "payroll_account_shift_1                 0.00                 0.00   \n",
       "payroll_account_shift_2                 0.00                 0.00   \n",
       "payroll_account_shift_3                 0.00                 0.00   \n",
       "payroll_account_shift_4                 0.00                 0.00   \n",
       "\n",
       "                                     4642239              4973827  \\\n",
       "pk_cid                                 18704                18704   \n",
       "pk_partition             2019-03-28 00:00:00  2019-04-28 00:00:00   \n",
       "payroll_account                         0.00                 0.00   \n",
       "payroll_account_shift_1                 0.00                 0.00   \n",
       "payroll_account_shift_2                 0.00                 0.00   \n",
       "payroll_account_shift_3                 0.00                 0.00   \n",
       "payroll_account_shift_4                 0.00                 0.00   \n",
       "\n",
       "                                     5305415              5637003  \n",
       "pk_cid                                 18704                18704  \n",
       "pk_partition             2019-05-28 00:00:00  2019-06-28 00:00:00  \n",
       "payroll_account                         0.00              -999.00  \n",
       "payroll_account_shift_1                 0.00                 0.00  \n",
       "payroll_account_shift_2                 0.00                 0.00  \n",
       "payroll_account_shift_3                 0.00                 0.00  \n",
       "payroll_account_shift_4                 0.00                 0.00  "
      ]
     },
     "execution_count": 103,
     "metadata": {},
     "output_type": "execute_result"
    }
   ],
   "source": [
    "full_df[full_df['pk_cid']==18704][ver].T"
   ]
  },
  {
   "cell_type": "markdown",
   "metadata": {},
   "source": [
    "# Curva Roc:"
   ]
  },
  {
   "cell_type": "code",
   "execution_count": 104,
   "metadata": {
    "ExecuteTime": {
     "end_time": "2020-09-09T08:44:33.266194Z",
     "start_time": "2020-09-09T08:44:32.975195Z"
    }
   },
   "outputs": [],
   "source": [
    "y_score = pd.DataFrame(dt.predict_proba(X_test)[:,1], index=Y_test.index, columns=['AltaScore'])\n",
    "results_df = results_df.join(y_score)"
   ]
  },
  {
   "cell_type": "code",
   "execution_count": 105,
   "metadata": {
    "ExecuteTime": {
     "end_time": "2020-09-09T08:44:34.625807Z",
     "start_time": "2020-09-09T08:44:34.615820Z"
    }
   },
   "outputs": [
    {
     "data": {
      "text/html": [
       "<div>\n",
       "<style scoped>\n",
       "    .dataframe tbody tr th:only-of-type {\n",
       "        vertical-align: middle;\n",
       "    }\n",
       "\n",
       "    .dataframe tbody tr th {\n",
       "        vertical-align: top;\n",
       "    }\n",
       "\n",
       "    .dataframe thead th {\n",
       "        text-align: right;\n",
       "    }\n",
       "</style>\n",
       "<table border=\"1\" class=\"dataframe\">\n",
       "  <thead>\n",
       "    <tr style=\"text-align: right;\">\n",
       "      <th></th>\n",
       "      <th>dif_cuentaSimple</th>\n",
       "      <th>altaPrediction</th>\n",
       "      <th>Success</th>\n",
       "      <th>AltaScore</th>\n",
       "    </tr>\n",
       "  </thead>\n",
       "  <tbody>\n",
       "    <tr>\n",
       "      <th>5305408</th>\n",
       "      <td>0.00</td>\n",
       "      <td>0.00</td>\n",
       "      <td>1</td>\n",
       "      <td>0.03</td>\n",
       "    </tr>\n",
       "    <tr>\n",
       "      <th>5305409</th>\n",
       "      <td>0.00</td>\n",
       "      <td>0.00</td>\n",
       "      <td>1</td>\n",
       "      <td>0.03</td>\n",
       "    </tr>\n",
       "    <tr>\n",
       "      <th>5305410</th>\n",
       "      <td>1.00</td>\n",
       "      <td>0.00</td>\n",
       "      <td>0</td>\n",
       "      <td>0.16</td>\n",
       "    </tr>\n",
       "    <tr>\n",
       "      <th>5305411</th>\n",
       "      <td>0.00</td>\n",
       "      <td>0.00</td>\n",
       "      <td>1</td>\n",
       "      <td>0.03</td>\n",
       "    </tr>\n",
       "    <tr>\n",
       "      <th>5305412</th>\n",
       "      <td>0.00</td>\n",
       "      <td>0.00</td>\n",
       "      <td>1</td>\n",
       "      <td>0.01</td>\n",
       "    </tr>\n",
       "    <tr>\n",
       "      <th>...</th>\n",
       "      <td>...</td>\n",
       "      <td>...</td>\n",
       "      <td>...</td>\n",
       "      <td>...</td>\n",
       "    </tr>\n",
       "    <tr>\n",
       "      <th>5636991</th>\n",
       "      <td>0.00</td>\n",
       "      <td>0.00</td>\n",
       "      <td>1</td>\n",
       "      <td>0.43</td>\n",
       "    </tr>\n",
       "    <tr>\n",
       "      <th>5636992</th>\n",
       "      <td>0.00</td>\n",
       "      <td>0.00</td>\n",
       "      <td>1</td>\n",
       "      <td>0.43</td>\n",
       "    </tr>\n",
       "    <tr>\n",
       "      <th>5636993</th>\n",
       "      <td>0.00</td>\n",
       "      <td>0.00</td>\n",
       "      <td>1</td>\n",
       "      <td>0.43</td>\n",
       "    </tr>\n",
       "    <tr>\n",
       "      <th>5636994</th>\n",
       "      <td>0.00</td>\n",
       "      <td>0.00</td>\n",
       "      <td>1</td>\n",
       "      <td>0.43</td>\n",
       "    </tr>\n",
       "    <tr>\n",
       "      <th>5636995</th>\n",
       "      <td>0.00</td>\n",
       "      <td>0.00</td>\n",
       "      <td>1</td>\n",
       "      <td>0.43</td>\n",
       "    </tr>\n",
       "  </tbody>\n",
       "</table>\n",
       "<p>331588 rows × 4 columns</p>\n",
       "</div>"
      ],
      "text/plain": [
       "         dif_cuentaSimple  altaPrediction  Success  AltaScore\n",
       "5305408              0.00            0.00        1       0.03\n",
       "5305409              0.00            0.00        1       0.03\n",
       "5305410              1.00            0.00        0       0.16\n",
       "5305411              0.00            0.00        1       0.03\n",
       "5305412              0.00            0.00        1       0.01\n",
       "...                   ...             ...      ...        ...\n",
       "5636991              0.00            0.00        1       0.43\n",
       "5636992              0.00            0.00        1       0.43\n",
       "5636993              0.00            0.00        1       0.43\n",
       "5636994              0.00            0.00        1       0.43\n",
       "5636995              0.00            0.00        1       0.43\n",
       "\n",
       "[331588 rows x 4 columns]"
      ]
     },
     "execution_count": 105,
     "metadata": {},
     "output_type": "execute_result"
    }
   ],
   "source": [
    "results_df"
   ]
  },
  {
   "cell_type": "code",
   "execution_count": 107,
   "metadata": {
    "ExecuteTime": {
     "end_time": "2020-09-09T08:44:57.054358Z",
     "start_time": "2020-09-09T08:44:57.039373Z"
    }
   },
   "outputs": [
    {
     "data": {
      "text/html": [
       "<div>\n",
       "<style scoped>\n",
       "    .dataframe tbody tr th:only-of-type {\n",
       "        vertical-align: middle;\n",
       "    }\n",
       "\n",
       "    .dataframe tbody tr th {\n",
       "        vertical-align: top;\n",
       "    }\n",
       "\n",
       "    .dataframe thead th {\n",
       "        text-align: right;\n",
       "    }\n",
       "</style>\n",
       "<table border=\"1\" class=\"dataframe\">\n",
       "  <thead>\n",
       "    <tr style=\"text-align: right;\">\n",
       "      <th></th>\n",
       "      <th>dif_cuentaSimple</th>\n",
       "      <th>altaPrediction</th>\n",
       "      <th>Success</th>\n",
       "      <th>AltaScore</th>\n",
       "    </tr>\n",
       "  </thead>\n",
       "  <tbody>\n",
       "    <tr>\n",
       "      <th>5568523</th>\n",
       "      <td>1.00</td>\n",
       "      <td>0.00</td>\n",
       "      <td>0</td>\n",
       "      <td>0.14</td>\n",
       "    </tr>\n",
       "    <tr>\n",
       "      <th>5539196</th>\n",
       "      <td>1.00</td>\n",
       "      <td>0.00</td>\n",
       "      <td>0</td>\n",
       "      <td>0.00</td>\n",
       "    </tr>\n",
       "    <tr>\n",
       "      <th>5306885</th>\n",
       "      <td>1.00</td>\n",
       "      <td>0.00</td>\n",
       "      <td>0</td>\n",
       "      <td>0.18</td>\n",
       "    </tr>\n",
       "    <tr>\n",
       "      <th>5548371</th>\n",
       "      <td>1.00</td>\n",
       "      <td>0.00</td>\n",
       "      <td>0</td>\n",
       "      <td>0.18</td>\n",
       "    </tr>\n",
       "    <tr>\n",
       "      <th>5457671</th>\n",
       "      <td>1.00</td>\n",
       "      <td>1.00</td>\n",
       "      <td>1</td>\n",
       "      <td>0.76</td>\n",
       "    </tr>\n",
       "    <tr>\n",
       "      <th>5316043</th>\n",
       "      <td>1.00</td>\n",
       "      <td>0.00</td>\n",
       "      <td>0</td>\n",
       "      <td>0.06</td>\n",
       "    </tr>\n",
       "    <tr>\n",
       "      <th>5420474</th>\n",
       "      <td>1.00</td>\n",
       "      <td>0.00</td>\n",
       "      <td>0</td>\n",
       "      <td>0.03</td>\n",
       "    </tr>\n",
       "    <tr>\n",
       "      <th>5632782</th>\n",
       "      <td>1.00</td>\n",
       "      <td>0.00</td>\n",
       "      <td>0</td>\n",
       "      <td>0.03</td>\n",
       "    </tr>\n",
       "    <tr>\n",
       "      <th>5487694</th>\n",
       "      <td>1.00</td>\n",
       "      <td>0.00</td>\n",
       "      <td>0</td>\n",
       "      <td>0.03</td>\n",
       "    </tr>\n",
       "    <tr>\n",
       "      <th>5374413</th>\n",
       "      <td>1.00</td>\n",
       "      <td>0.00</td>\n",
       "      <td>0</td>\n",
       "      <td>0.11</td>\n",
       "    </tr>\n",
       "    <tr>\n",
       "      <th>5626445</th>\n",
       "      <td>1.00</td>\n",
       "      <td>0.00</td>\n",
       "      <td>0</td>\n",
       "      <td>0.18</td>\n",
       "    </tr>\n",
       "    <tr>\n",
       "      <th>5461684</th>\n",
       "      <td>1.00</td>\n",
       "      <td>1.00</td>\n",
       "      <td>1</td>\n",
       "      <td>0.52</td>\n",
       "    </tr>\n",
       "    <tr>\n",
       "      <th>5617357</th>\n",
       "      <td>1.00</td>\n",
       "      <td>0.00</td>\n",
       "      <td>0</td>\n",
       "      <td>0.16</td>\n",
       "    </tr>\n",
       "    <tr>\n",
       "      <th>5312991</th>\n",
       "      <td>1.00</td>\n",
       "      <td>1.00</td>\n",
       "      <td>1</td>\n",
       "      <td>0.52</td>\n",
       "    </tr>\n",
       "    <tr>\n",
       "      <th>5308247</th>\n",
       "      <td>1.00</td>\n",
       "      <td>1.00</td>\n",
       "      <td>1</td>\n",
       "      <td>0.85</td>\n",
       "    </tr>\n",
       "    <tr>\n",
       "      <th>5363330</th>\n",
       "      <td>1.00</td>\n",
       "      <td>0.00</td>\n",
       "      <td>0</td>\n",
       "      <td>0.16</td>\n",
       "    </tr>\n",
       "    <tr>\n",
       "      <th>5321369</th>\n",
       "      <td>1.00</td>\n",
       "      <td>0.00</td>\n",
       "      <td>0</td>\n",
       "      <td>0.14</td>\n",
       "    </tr>\n",
       "    <tr>\n",
       "      <th>5541361</th>\n",
       "      <td>1.00</td>\n",
       "      <td>0.00</td>\n",
       "      <td>0</td>\n",
       "      <td>0.18</td>\n",
       "    </tr>\n",
       "    <tr>\n",
       "      <th>5635985</th>\n",
       "      <td>1.00</td>\n",
       "      <td>1.00</td>\n",
       "      <td>1</td>\n",
       "      <td>0.85</td>\n",
       "    </tr>\n",
       "    <tr>\n",
       "      <th>5368593</th>\n",
       "      <td>1.00</td>\n",
       "      <td>0.00</td>\n",
       "      <td>0</td>\n",
       "      <td>0.06</td>\n",
       "    </tr>\n",
       "  </tbody>\n",
       "</table>\n",
       "</div>"
      ],
      "text/plain": [
       "         dif_cuentaSimple  altaPrediction  Success  AltaScore\n",
       "5568523              1.00            0.00        0       0.14\n",
       "5539196              1.00            0.00        0       0.00\n",
       "5306885              1.00            0.00        0       0.18\n",
       "5548371              1.00            0.00        0       0.18\n",
       "5457671              1.00            1.00        1       0.76\n",
       "5316043              1.00            0.00        0       0.06\n",
       "5420474              1.00            0.00        0       0.03\n",
       "5632782              1.00            0.00        0       0.03\n",
       "5487694              1.00            0.00        0       0.03\n",
       "5374413              1.00            0.00        0       0.11\n",
       "5626445              1.00            0.00        0       0.18\n",
       "5461684              1.00            1.00        1       0.52\n",
       "5617357              1.00            0.00        0       0.16\n",
       "5312991              1.00            1.00        1       0.52\n",
       "5308247              1.00            1.00        1       0.85\n",
       "5363330              1.00            0.00        0       0.16\n",
       "5321369              1.00            0.00        0       0.14\n",
       "5541361              1.00            0.00        0       0.18\n",
       "5635985              1.00            1.00        1       0.85\n",
       "5368593              1.00            0.00        0       0.06"
      ]
     },
     "execution_count": 107,
     "metadata": {},
     "output_type": "execute_result"
    }
   ],
   "source": [
    "results_df[results_df['dif_cuentaSimple']!=0].sample(20)"
   ]
  },
  {
   "cell_type": "code",
   "execution_count": 108,
   "metadata": {
    "ExecuteTime": {
     "end_time": "2020-09-09T08:45:05.157674Z",
     "start_time": "2020-09-09T08:45:05.141683Z"
    }
   },
   "outputs": [
    {
     "data": {
      "text/html": [
       "<div>\n",
       "<style scoped>\n",
       "    .dataframe tbody tr th:only-of-type {\n",
       "        vertical-align: middle;\n",
       "    }\n",
       "\n",
       "    .dataframe tbody tr th {\n",
       "        vertical-align: top;\n",
       "    }\n",
       "\n",
       "    .dataframe thead th {\n",
       "        text-align: right;\n",
       "    }\n",
       "</style>\n",
       "<table border=\"1\" class=\"dataframe\">\n",
       "  <thead>\n",
       "    <tr style=\"text-align: right;\">\n",
       "      <th></th>\n",
       "      <th>index</th>\n",
       "      <th>Count</th>\n",
       "    </tr>\n",
       "  </thead>\n",
       "  <tbody>\n",
       "    <tr>\n",
       "      <th>0</th>\n",
       "      <td>0.00</td>\n",
       "      <td>159041</td>\n",
       "    </tr>\n",
       "    <tr>\n",
       "      <th>1</th>\n",
       "      <td>0.03</td>\n",
       "      <td>118673</td>\n",
       "    </tr>\n",
       "    <tr>\n",
       "      <th>2</th>\n",
       "      <td>0.16</td>\n",
       "      <td>10275</td>\n",
       "    </tr>\n",
       "    <tr>\n",
       "      <th>3</th>\n",
       "      <td>0.18</td>\n",
       "      <td>9364</td>\n",
       "    </tr>\n",
       "    <tr>\n",
       "      <th>4</th>\n",
       "      <td>0.01</td>\n",
       "      <td>8977</td>\n",
       "    </tr>\n",
       "  </tbody>\n",
       "</table>\n",
       "</div>"
      ],
      "text/plain": [
       "   index   Count\n",
       "0   0.00  159041\n",
       "1   0.03  118673\n",
       "2   0.16   10275\n",
       "3   0.18    9364\n",
       "4   0.01    8977"
      ]
     },
     "execution_count": 108,
     "metadata": {},
     "output_type": "execute_result"
    }
   ],
   "source": [
    "results_df['AltaScore'].value_counts(ascending=False).reset_index(name='Count').head()"
   ]
  },
  {
   "cell_type": "code",
   "execution_count": 92,
   "metadata": {
    "ExecuteTime": {
     "end_time": "2020-09-08T16:13:05.388794Z",
     "start_time": "2020-09-08T16:13:05.312840Z"
    }
   },
   "outputs": [],
   "source": [
    "results_by_score = results_df.pivot_table(index='AltaScore', values='Success', aggfunc=[len, sum, np.mean])\n",
    "results_by_score.columns = ['Count', 'Sum', 'Mean']"
   ]
  },
  {
   "cell_type": "code",
   "execution_count": 93,
   "metadata": {
    "ExecuteTime": {
     "end_time": "2020-09-08T16:13:07.285586Z",
     "start_time": "2020-09-08T16:13:06.619968Z"
    }
   },
   "outputs": [
    {
     "data": {
      "text/plain": [
       "<matplotlib.axes._subplots.AxesSubplot at 0x206c74d6b88>"
      ]
     },
     "execution_count": 93,
     "metadata": {},
     "output_type": "execute_result"
    },
    {
     "data": {
      "image/png": "[encoded data removed]",
      "text/plain": [
       "<Figure size 1080x432 with 1 Axes>"
      ]
     },
     "metadata": {},
     "output_type": "display_data"
    }
   ],
   "source": [
    "fig, ax = plt.subplots(figsize = (15, 6))\n",
    "results_by_score['Mean'].plot(kind='bar')"
   ]
  },
  {
   "cell_type": "markdown",
   "metadata": {},
   "source": [
    "# Curva AUC"
   ]
  },
  {
   "cell_type": "code",
   "execution_count": 109,
   "metadata": {
    "ExecuteTime": {
     "end_time": "2020-09-09T08:45:13.119736Z",
     "start_time": "2020-09-09T08:45:13.000664Z"
    }
   },
   "outputs": [
    {
     "name": "stdout",
     "output_type": "stream",
     "text": [
      "0.8835832843427116\n"
     ]
    }
   ],
   "source": [
    "print(metrics.roc_auc_score(results_df['dif_cuentaSimple'], results_df['AltaScore']))"
   ]
  },
  {
   "cell_type": "code",
   "execution_count": 110,
   "metadata": {
    "ExecuteTime": {
     "end_time": "2020-09-09T08:45:14.540520Z",
     "start_time": "2020-09-09T08:45:14.482128Z"
    }
   },
   "outputs": [],
   "source": [
    "fpr, tpr, _ = metrics.roc_curve(results_df['dif_cuentaSimple'], results_df['AltaScore'])"
   ]
  },
  {
   "cell_type": "code",
   "execution_count": 111,
   "metadata": {
    "ExecuteTime": {
     "end_time": "2020-09-09T08:45:16.703263Z",
     "start_time": "2020-09-09T08:45:16.429618Z"
    }
   },
   "outputs": [
    {
     "data": {
      "image/png": "[encoded data removed]",
      "text/plain": [
       "<Figure size 1080x432 with 1 Axes>"
      ]
     },
     "metadata": {},
     "output_type": "display_data"
    }
   ],
   "source": [
    "fig, ax = plt.subplots(figsize = (15, 6))\n",
    "plt.clf()\n",
    "plt.plot(fpr, tpr)\n",
    "plt.plot([0, 1], [0, 1], color='gray', linestyle='--')\n",
    "plt.xlabel('FPR')\n",
    "plt.ylabel('TPR')\n",
    "plt.title('ROC curve')\n",
    "plt.show()"
   ]
  },
  {
   "cell_type": "code",
   "execution_count": 114,
   "metadata": {
    "ExecuteTime": {
     "end_time": "2020-09-09T08:46:33.874841Z",
     "start_time": "2020-09-09T08:46:33.861818Z"
    }
   },
   "outputs": [
    {
     "data": {
      "text/html": [
       "<div>\n",
       "<style scoped>\n",
       "    .dataframe tbody tr th:only-of-type {\n",
       "        vertical-align: middle;\n",
       "    }\n",
       "\n",
       "    .dataframe tbody tr th {\n",
       "        vertical-align: top;\n",
       "    }\n",
       "\n",
       "    .dataframe thead th {\n",
       "        text-align: right;\n",
       "    }\n",
       "</style>\n",
       "<table border=\"1\" class=\"dataframe\">\n",
       "  <thead>\n",
       "    <tr style=\"text-align: right;\">\n",
       "      <th></th>\n",
       "      <th>dif_cuentaSimple</th>\n",
       "      <th>altaPrediction</th>\n",
       "      <th>Success</th>\n",
       "      <th>AltaScore</th>\n",
       "    </tr>\n",
       "  </thead>\n",
       "  <tbody>\n",
       "    <tr>\n",
       "      <th>5632741</th>\n",
       "      <td>1.00</td>\n",
       "      <td>1.00</td>\n",
       "      <td>1</td>\n",
       "      <td>0.97</td>\n",
       "    </tr>\n",
       "    <tr>\n",
       "      <th>5631720</th>\n",
       "      <td>1.00</td>\n",
       "      <td>1.00</td>\n",
       "      <td>1</td>\n",
       "      <td>0.97</td>\n",
       "    </tr>\n",
       "    <tr>\n",
       "      <th>5635438</th>\n",
       "      <td>1.00</td>\n",
       "      <td>1.00</td>\n",
       "      <td>1</td>\n",
       "      <td>0.97</td>\n",
       "    </tr>\n",
       "    <tr>\n",
       "      <th>5635847</th>\n",
       "      <td>1.00</td>\n",
       "      <td>1.00</td>\n",
       "      <td>1</td>\n",
       "      <td>0.85</td>\n",
       "    </tr>\n",
       "    <tr>\n",
       "      <th>5634282</th>\n",
       "      <td>1.00</td>\n",
       "      <td>1.00</td>\n",
       "      <td>1</td>\n",
       "      <td>0.98</td>\n",
       "    </tr>\n",
       "    <tr>\n",
       "      <th>5493908</th>\n",
       "      <td>1.00</td>\n",
       "      <td>1.00</td>\n",
       "      <td>1</td>\n",
       "      <td>0.97</td>\n",
       "    </tr>\n",
       "    <tr>\n",
       "      <th>5636241</th>\n",
       "      <td>1.00</td>\n",
       "      <td>1.00</td>\n",
       "      <td>1</td>\n",
       "      <td>0.85</td>\n",
       "    </tr>\n",
       "    <tr>\n",
       "      <th>5636369</th>\n",
       "      <td>1.00</td>\n",
       "      <td>1.00</td>\n",
       "      <td>1</td>\n",
       "      <td>0.85</td>\n",
       "    </tr>\n",
       "    <tr>\n",
       "      <th>5635889</th>\n",
       "      <td>1.00</td>\n",
       "      <td>1.00</td>\n",
       "      <td>1</td>\n",
       "      <td>0.85</td>\n",
       "    </tr>\n",
       "    <tr>\n",
       "      <th>5636318</th>\n",
       "      <td>1.00</td>\n",
       "      <td>1.00</td>\n",
       "      <td>1</td>\n",
       "      <td>0.85</td>\n",
       "    </tr>\n",
       "    <tr>\n",
       "      <th>5440475</th>\n",
       "      <td>1.00</td>\n",
       "      <td>1.00</td>\n",
       "      <td>1</td>\n",
       "      <td>0.97</td>\n",
       "    </tr>\n",
       "    <tr>\n",
       "      <th>5381952</th>\n",
       "      <td>1.00</td>\n",
       "      <td>1.00</td>\n",
       "      <td>1</td>\n",
       "      <td>0.96</td>\n",
       "    </tr>\n",
       "    <tr>\n",
       "      <th>5424177</th>\n",
       "      <td>1.00</td>\n",
       "      <td>1.00</td>\n",
       "      <td>1</td>\n",
       "      <td>0.85</td>\n",
       "    </tr>\n",
       "    <tr>\n",
       "      <th>5636577</th>\n",
       "      <td>1.00</td>\n",
       "      <td>1.00</td>\n",
       "      <td>1</td>\n",
       "      <td>0.85</td>\n",
       "    </tr>\n",
       "    <tr>\n",
       "      <th>5635986</th>\n",
       "      <td>1.00</td>\n",
       "      <td>1.00</td>\n",
       "      <td>1</td>\n",
       "      <td>0.85</td>\n",
       "    </tr>\n",
       "    <tr>\n",
       "      <th>5635725</th>\n",
       "      <td>1.00</td>\n",
       "      <td>1.00</td>\n",
       "      <td>1</td>\n",
       "      <td>0.85</td>\n",
       "    </tr>\n",
       "    <tr>\n",
       "      <th>5634823</th>\n",
       "      <td>1.00</td>\n",
       "      <td>1.00</td>\n",
       "      <td>1</td>\n",
       "      <td>0.98</td>\n",
       "    </tr>\n",
       "    <tr>\n",
       "      <th>5550202</th>\n",
       "      <td>1.00</td>\n",
       "      <td>1.00</td>\n",
       "      <td>1</td>\n",
       "      <td>0.76</td>\n",
       "    </tr>\n",
       "    <tr>\n",
       "      <th>5636520</th>\n",
       "      <td>1.00</td>\n",
       "      <td>1.00</td>\n",
       "      <td>1</td>\n",
       "      <td>0.85</td>\n",
       "    </tr>\n",
       "    <tr>\n",
       "      <th>5633339</th>\n",
       "      <td>1.00</td>\n",
       "      <td>1.00</td>\n",
       "      <td>1</td>\n",
       "      <td>0.98</td>\n",
       "    </tr>\n",
       "  </tbody>\n",
       "</table>\n",
       "</div>"
      ],
      "text/plain": [
       "         dif_cuentaSimple  altaPrediction  Success  AltaScore\n",
       "5632741              1.00            1.00        1       0.97\n",
       "5631720              1.00            1.00        1       0.97\n",
       "5635438              1.00            1.00        1       0.97\n",
       "5635847              1.00            1.00        1       0.85\n",
       "5634282              1.00            1.00        1       0.98\n",
       "5493908              1.00            1.00        1       0.97\n",
       "5636241              1.00            1.00        1       0.85\n",
       "5636369              1.00            1.00        1       0.85\n",
       "5635889              1.00            1.00        1       0.85\n",
       "5636318              1.00            1.00        1       0.85\n",
       "5440475              1.00            1.00        1       0.97\n",
       "5381952              1.00            1.00        1       0.96\n",
       "5424177              1.00            1.00        1       0.85\n",
       "5636577              1.00            1.00        1       0.85\n",
       "5635986              1.00            1.00        1       0.85\n",
       "5635725              1.00            1.00        1       0.85\n",
       "5634823              1.00            1.00        1       0.98\n",
       "5550202              1.00            1.00        1       0.76\n",
       "5636520              1.00            1.00        1       0.85\n",
       "5633339              1.00            1.00        1       0.98"
      ]
     },
     "execution_count": 114,
     "metadata": {},
     "output_type": "execute_result"
    }
   ],
   "source": [
    "results_df[(results_df['dif_cuentaSimple']!=0) &\n",
    "           (results_df['AltaScore']> 0.70) ].sample(20)"
   ]
  },
  {
   "cell_type": "code",
   "execution_count": 117,
   "metadata": {
    "ExecuteTime": {
     "end_time": "2020-09-09T08:47:14.220874Z",
     "start_time": "2020-09-09T08:47:13.989482Z"
    }
   },
   "outputs": [
    {
     "data": {
      "text/plain": [
       "<matplotlib.axes._subplots.AxesSubplot at 0x1a620239f88>"
      ]
     },
     "execution_count": 117,
     "metadata": {},
     "output_type": "execute_result"
    },
    {
     "data": {
      "image/png": "[encoded data removed]",
      "text/plain": [
       "<Figure size 432x288 with 1 Axes>"
      ]
     },
     "metadata": {},
     "output_type": "display_data"
    }
   ],
   "source": [
    "results_df[(results_df['dif_cuentaSimple']!=0) &\n",
    "           (results_df['AltaScore']> 0.70) ]['Success'].hist()"
   ]
  },
  {
   "cell_type": "code",
   "execution_count": 118,
   "metadata": {
    "ExecuteTime": {
     "end_time": "2020-09-09T08:47:33.691272Z",
     "start_time": "2020-09-09T08:47:33.679284Z"
    }
   },
   "outputs": [
    {
     "data": {
      "text/plain": [
       "1    3384\n",
       "Name: Success, dtype: int64"
      ]
     },
     "execution_count": 118,
     "metadata": {},
     "output_type": "execute_result"
    }
   ],
   "source": [
    "results_df[(results_df['dif_cuentaSimple']!=0) &\n",
    "           (results_df['AltaScore']> 0.70) ]['Success'].value_counts()"
   ]
  },
  {
   "cell_type": "markdown",
   "metadata": {
    "ExecuteTime": {
     "end_time": "2020-09-09T08:47:56.101605Z",
     "start_time": "2020-09-09T08:47:56.098608Z"
    }
   },
   "source": [
    "# Enternamos para ahorroInversion:"
   ]
  },
  {
   "cell_type": "code",
   "execution_count": 120,
   "metadata": {
    "ExecuteTime": {
     "end_time": "2020-09-09T08:50:55.454519Z",
     "start_time": "2020-09-09T08:50:53.085337Z"
    }
   },
   "outputs": [
    {
     "data": {
      "text/plain": [
       "27938"
      ]
     },
     "execution_count": 120,
     "metadata": {},
     "output_type": "execute_result"
    }
   ],
   "source": [
    "del X_train,Y_train, X_valida, Y_valida,X_test,Y_test\n",
    "gc.collect()\n"
   ]
  },
  {
   "cell_type": "code",
   "execution_count": 121,
   "metadata": {
    "ExecuteTime": {
     "end_time": "2020-09-09T08:51:37.579236Z",
     "start_time": "2020-09-09T08:51:27.916226Z"
    }
   },
   "outputs": [],
   "source": [
    "X_train = full_df[full_df[\"pk_partition\"].isin(train_index)].drop(variables_borrar, axis=1)\n",
    "Y_train = full_df[full_df[\"pk_partition\"].isin(train_index)]['dif_ahorroInversion']\n",
    "\n",
    "X_valida = full_df[full_df[\"pk_partition\"].isin(valida_index)].drop(variables_borrar, axis=1)\n",
    "Y_valida = full_df[full_df[\"pk_partition\"].isin(valida_index)]['dif_ahorroInversion']\n",
    "\n",
    "X_test = full_df[full_df[\"pk_partition\"].isin(test_index)].drop(variables_borrar, axis = 1)\n",
    "Y_test = full_df[full_df[\"pk_partition\"].isin(test_index)]['dif_ahorroInversion']"
   ]
  },
  {
   "cell_type": "code",
   "execution_count": 122,
   "metadata": {
    "ExecuteTime": {
     "end_time": "2020-09-09T08:52:39.396064Z",
     "start_time": "2020-09-09T08:51:45.025551Z"
    }
   },
   "outputs": [
    {
     "data": {
      "text/plain": [
       "DecisionTreeClassifier(ccp_alpha=0.0, class_weight=None, criterion='gini',\n",
       "                       max_depth=6, max_features=None, max_leaf_nodes=None,\n",
       "                       min_impurity_decrease=0.0, min_impurity_split=None,\n",
       "                       min_samples_leaf=1, min_samples_split=2,\n",
       "                       min_weight_fraction_leaf=0.0, presort='deprecated',\n",
       "                       random_state=42, splitter='best')"
      ]
     },
     "execution_count": 122,
     "metadata": {},
     "output_type": "execute_result"
    }
   ],
   "source": [
    "dt.fit(X_train,Y_train)"
   ]
  },
  {
   "cell_type": "code",
   "execution_count": 124,
   "metadata": {
    "ExecuteTime": {
     "end_time": "2020-09-09T08:53:46.725901Z",
     "start_time": "2020-09-09T08:53:43.336591Z"
    }
   },
   "outputs": [
    {
     "name": "stdout",
     "output_type": "stream",
     "text": [
      "Resultados para: Train: 0.9901415574749118 - Test: 0.9918611092510637\n"
     ]
    }
   ],
   "source": [
    "score_train=dt.score(X_train, Y_train)\n",
    "score_test=dt.score(X_valida, Y_valida)\n",
    "print('Resultados para: Train: {} - Test: {}'.format(score_train,score_test))\n"
   ]
  },
  {
   "cell_type": "code",
   "execution_count": 125,
   "metadata": {
    "ExecuteTime": {
     "end_time": "2020-09-09T08:53:51.248023Z",
     "start_time": "2020-09-09T08:53:50.963421Z"
    }
   },
   "outputs": [],
   "source": [
    "y_test_pred = pd.DataFrame(dt.predict(X_test), index=Y_test.index, columns=['altaPrediction'])\n"
   ]
  },
  {
   "cell_type": "code",
   "execution_count": 126,
   "metadata": {
    "ExecuteTime": {
     "end_time": "2020-09-09T08:53:52.957036Z",
     "start_time": "2020-09-09T08:53:52.625899Z"
    }
   },
   "outputs": [],
   "source": [
    "score_test=dt.score(X_test, Y_test)"
   ]
  },
  {
   "cell_type": "code",
   "execution_count": 127,
   "metadata": {
    "ExecuteTime": {
     "end_time": "2020-09-09T08:53:54.345754Z",
     "start_time": "2020-09-09T08:53:54.339774Z"
    }
   },
   "outputs": [
    {
     "data": {
      "text/plain": [
       "0.9914894387010387"
      ]
     },
     "execution_count": 127,
     "metadata": {},
     "output_type": "execute_result"
    }
   ],
   "source": [
    "score_test"
   ]
  },
  {
   "cell_type": "code",
   "execution_count": 128,
   "metadata": {
    "ExecuteTime": {
     "end_time": "2020-09-09T08:53:56.455394Z",
     "start_time": "2020-09-09T08:53:56.440755Z"
    }
   },
   "outputs": [],
   "source": [
    "results_df = Y_test.to_frame().join(y_test_pred)"
   ]
  },
  {
   "cell_type": "code",
   "execution_count": 129,
   "metadata": {
    "ExecuteTime": {
     "end_time": "2020-09-09T08:54:44.760480Z",
     "start_time": "2020-09-09T08:54:44.752483Z"
    }
   },
   "outputs": [],
   "source": [
    "results_df['Success']=(results_df['dif_ahorroInversion']==results_df['altaPrediction']).astype(int)"
   ]
  },
  {
   "cell_type": "code",
   "execution_count": 130,
   "metadata": {
    "ExecuteTime": {
     "end_time": "2020-09-09T08:54:46.178663Z",
     "start_time": "2020-09-09T08:54:46.163658Z"
    }
   },
   "outputs": [
    {
     "data": {
      "text/html": [
       "<div>\n",
       "<style scoped>\n",
       "    .dataframe tbody tr th:only-of-type {\n",
       "        vertical-align: middle;\n",
       "    }\n",
       "\n",
       "    .dataframe tbody tr th {\n",
       "        vertical-align: top;\n",
       "    }\n",
       "\n",
       "    .dataframe thead th {\n",
       "        text-align: right;\n",
       "    }\n",
       "</style>\n",
       "<table border=\"1\" class=\"dataframe\">\n",
       "  <thead>\n",
       "    <tr style=\"text-align: right;\">\n",
       "      <th></th>\n",
       "      <th>dif_ahorroInversion</th>\n",
       "      <th>altaPrediction</th>\n",
       "      <th>Success</th>\n",
       "    </tr>\n",
       "  </thead>\n",
       "  <tbody>\n",
       "    <tr>\n",
       "      <th>5624184</th>\n",
       "      <td>1.00</td>\n",
       "      <td>0.00</td>\n",
       "      <td>0</td>\n",
       "    </tr>\n",
       "    <tr>\n",
       "      <th>5388172</th>\n",
       "      <td>1.00</td>\n",
       "      <td>1.00</td>\n",
       "      <td>1</td>\n",
       "    </tr>\n",
       "    <tr>\n",
       "      <th>5539772</th>\n",
       "      <td>1.00</td>\n",
       "      <td>0.00</td>\n",
       "      <td>0</td>\n",
       "    </tr>\n",
       "    <tr>\n",
       "      <th>5390531</th>\n",
       "      <td>1.00</td>\n",
       "      <td>1.00</td>\n",
       "      <td>1</td>\n",
       "    </tr>\n",
       "    <tr>\n",
       "      <th>5454598</th>\n",
       "      <td>1.00</td>\n",
       "      <td>0.00</td>\n",
       "      <td>0</td>\n",
       "    </tr>\n",
       "    <tr>\n",
       "      <th>5381344</th>\n",
       "      <td>1.00</td>\n",
       "      <td>0.00</td>\n",
       "      <td>0</td>\n",
       "    </tr>\n",
       "    <tr>\n",
       "      <th>5605313</th>\n",
       "      <td>1.00</td>\n",
       "      <td>0.00</td>\n",
       "      <td>0</td>\n",
       "    </tr>\n",
       "    <tr>\n",
       "      <th>5555995</th>\n",
       "      <td>1.00</td>\n",
       "      <td>0.00</td>\n",
       "      <td>0</td>\n",
       "    </tr>\n",
       "    <tr>\n",
       "      <th>5450882</th>\n",
       "      <td>1.00</td>\n",
       "      <td>0.00</td>\n",
       "      <td>0</td>\n",
       "    </tr>\n",
       "    <tr>\n",
       "      <th>5493081</th>\n",
       "      <td>1.00</td>\n",
       "      <td>0.00</td>\n",
       "      <td>0</td>\n",
       "    </tr>\n",
       "    <tr>\n",
       "      <th>5633966</th>\n",
       "      <td>1.00</td>\n",
       "      <td>0.00</td>\n",
       "      <td>0</td>\n",
       "    </tr>\n",
       "    <tr>\n",
       "      <th>5460961</th>\n",
       "      <td>1.00</td>\n",
       "      <td>0.00</td>\n",
       "      <td>0</td>\n",
       "    </tr>\n",
       "    <tr>\n",
       "      <th>5310363</th>\n",
       "      <td>1.00</td>\n",
       "      <td>0.00</td>\n",
       "      <td>0</td>\n",
       "    </tr>\n",
       "    <tr>\n",
       "      <th>5308715</th>\n",
       "      <td>1.00</td>\n",
       "      <td>1.00</td>\n",
       "      <td>1</td>\n",
       "    </tr>\n",
       "    <tr>\n",
       "      <th>5468504</th>\n",
       "      <td>1.00</td>\n",
       "      <td>1.00</td>\n",
       "      <td>1</td>\n",
       "    </tr>\n",
       "    <tr>\n",
       "      <th>5565533</th>\n",
       "      <td>1.00</td>\n",
       "      <td>0.00</td>\n",
       "      <td>0</td>\n",
       "    </tr>\n",
       "    <tr>\n",
       "      <th>5311007</th>\n",
       "      <td>1.00</td>\n",
       "      <td>0.00</td>\n",
       "      <td>0</td>\n",
       "    </tr>\n",
       "    <tr>\n",
       "      <th>5377900</th>\n",
       "      <td>1.00</td>\n",
       "      <td>0.00</td>\n",
       "      <td>0</td>\n",
       "    </tr>\n",
       "    <tr>\n",
       "      <th>5611356</th>\n",
       "      <td>1.00</td>\n",
       "      <td>0.00</td>\n",
       "      <td>0</td>\n",
       "    </tr>\n",
       "    <tr>\n",
       "      <th>5346252</th>\n",
       "      <td>1.00</td>\n",
       "      <td>0.00</td>\n",
       "      <td>0</td>\n",
       "    </tr>\n",
       "  </tbody>\n",
       "</table>\n",
       "</div>"
      ],
      "text/plain": [
       "         dif_ahorroInversion  altaPrediction  Success\n",
       "5624184                 1.00            0.00        0\n",
       "5388172                 1.00            1.00        1\n",
       "5539772                 1.00            0.00        0\n",
       "5390531                 1.00            1.00        1\n",
       "5454598                 1.00            0.00        0\n",
       "5381344                 1.00            0.00        0\n",
       "5605313                 1.00            0.00        0\n",
       "5555995                 1.00            0.00        0\n",
       "5450882                 1.00            0.00        0\n",
       "5493081                 1.00            0.00        0\n",
       "5633966                 1.00            0.00        0\n",
       "5460961                 1.00            0.00        0\n",
       "5310363                 1.00            0.00        0\n",
       "5308715                 1.00            1.00        1\n",
       "5468504                 1.00            1.00        1\n",
       "5565533                 1.00            0.00        0\n",
       "5311007                 1.00            0.00        0\n",
       "5377900                 1.00            0.00        0\n",
       "5611356                 1.00            0.00        0\n",
       "5346252                 1.00            0.00        0"
      ]
     },
     "execution_count": 130,
     "metadata": {},
     "output_type": "execute_result"
    }
   ],
   "source": [
    "results_df[results_df['dif_ahorroInversion']!=0].sample(20)"
   ]
  },
  {
   "cell_type": "code",
   "execution_count": 131,
   "metadata": {
    "ExecuteTime": {
     "end_time": "2020-09-09T08:54:52.958981Z",
     "start_time": "2020-09-09T08:54:52.723112Z"
    }
   },
   "outputs": [
    {
     "data": {
      "text/plain": [
       "<matplotlib.axes._subplots.AxesSubplot at 0x1a60cf46c88>"
      ]
     },
     "execution_count": 131,
     "metadata": {},
     "output_type": "execute_result"
    },
    {
     "data": {
      "image/png": "[encoded data removed]",
      "text/plain": [
       "<Figure size 432x288 with 1 Axes>"
      ]
     },
     "metadata": {},
     "output_type": "display_data"
    }
   ],
   "source": [
    "results_df[results_df['dif_ahorroInversion']==1]['Success'].hist()"
   ]
  },
  {
   "cell_type": "code",
   "execution_count": 132,
   "metadata": {
    "ExecuteTime": {
     "end_time": "2020-09-09T08:54:56.871914Z",
     "start_time": "2020-09-09T08:54:56.863918Z"
    }
   },
   "outputs": [
    {
     "data": {
      "text/plain": [
       "0    1912\n",
       "1     973\n",
       "Name: Success, dtype: int64"
      ]
     },
     "execution_count": 132,
     "metadata": {},
     "output_type": "execute_result"
    }
   ],
   "source": [
    "results_df[results_df['dif_ahorroInversion']==1]['Success'].value_counts()"
   ]
  },
  {
   "cell_type": "code",
   "execution_count": 133,
   "metadata": {
    "ExecuteTime": {
     "end_time": "2020-09-09T08:54:59.779790Z",
     "start_time": "2020-09-09T08:54:59.537931Z"
    }
   },
   "outputs": [
    {
     "data": {
      "text/plain": [
       "<matplotlib.axes._subplots.AxesSubplot at 0x1a61bc8f848>"
      ]
     },
     "execution_count": 133,
     "metadata": {},
     "output_type": "execute_result"
    },
    {
     "data": {
      "image/png": "[encoded data removed]",
      "text/plain": [
       "<Figure size 432x288 with 1 Axes>"
      ]
     },
     "metadata": {},
     "output_type": "display_data"
    }
   ],
   "source": [
    "results_df[results_df['dif_ahorroInversion']==0]['Success'].hist()"
   ]
  },
  {
   "cell_type": "code",
   "execution_count": 134,
   "metadata": {
    "ExecuteTime": {
     "end_time": "2020-09-09T08:55:02.989863Z",
     "start_time": "2020-09-09T08:55:02.967876Z"
    }
   },
   "outputs": [
    {
     "data": {
      "text/plain": [
       "1    327793\n",
       "0       910\n",
       "Name: Success, dtype: int64"
      ]
     },
     "execution_count": 134,
     "metadata": {},
     "output_type": "execute_result"
    }
   ],
   "source": [
    "results_df[results_df['dif_ahorroInversion']==0]['Success'].value_counts()"
   ]
  },
  {
   "cell_type": "code",
   "execution_count": 135,
   "metadata": {
    "ExecuteTime": {
     "end_time": "2020-09-09T08:55:09.340036Z",
     "start_time": "2020-09-09T08:55:09.336037Z"
    }
   },
   "outputs": [],
   "source": [
    "top_features = pd.Series(dt.feature_importances_, index=X_train.columns).sort_values(ascending=False).head(30)\n"
   ]
  },
  {
   "cell_type": "code",
   "execution_count": 136,
   "metadata": {
    "ExecuteTime": {
     "end_time": "2020-09-09T08:55:10.758661Z",
     "start_time": "2020-09-09T08:55:10.752664Z"
    }
   },
   "outputs": [
    {
     "data": {
      "text/plain": [
       "short_term_deposit_shift_1       0.33\n",
       "pension_plan_shift_2             0.24\n",
       "pension_plan_shift_1             0.15\n",
       "short_term_deposit_shift_3       0.09\n",
       "payroll_account_shift_2          0.08\n",
       "month                            0.04\n",
       "age                              0.02\n",
       "diasDesdeUltimaAltaInt_shift_2   0.01\n",
       "totalAssets_shift_3              0.01\n",
       "diasDesdeUltimaBajaInt_shift_1   0.01\n",
       "payroll_shift_3                  0.01\n",
       "short_term_deposit_shift_4       0.00\n",
       "active_customer_shift_1          0.00\n",
       "channel_XXX                      0.00\n",
       "dif_pension_plan_shift_2         0.00\n",
       "short_term_deposit_shift_2       0.00\n",
       "entry_date_month                 0.00\n",
       "payroll_shift_4                  0.00\n",
       "debit_card_shift_1               0.00\n",
       "isNewClient_shift_4              0.00\n",
       "totalAhorro_shift_1              0.00\n",
       "long_term_deposit_shift_1        0.00\n",
       "dif_short_term_deposit_shift_4   0.00\n",
       "year                             0.00\n",
       "totalCuentas_shift_3             0.00\n",
       "entry_date_day                   0.00\n",
       "securities_shift_1               0.00\n",
       "hayBaja_shift_2                  0.00\n",
       "diasDesdeUltimaBajaInt_shift_3   0.00\n",
       "salary                           0.00\n",
       "dtype: float64"
      ]
     },
     "execution_count": 136,
     "metadata": {},
     "output_type": "execute_result"
    }
   ],
   "source": [
    "top_features"
   ]
  },
  {
   "cell_type": "code",
   "execution_count": 137,
   "metadata": {
    "ExecuteTime": {
     "end_time": "2020-09-09T08:55:19.804615Z",
     "start_time": "2020-09-09T08:55:19.516784Z"
    }
   },
   "outputs": [],
   "source": [
    "y_score = pd.DataFrame(dt.predict_proba(X_test)[:,1], index=Y_test.index, columns=['AltaScore'])\n",
    "results_df = results_df.join(y_score)\n"
   ]
  },
  {
   "cell_type": "code",
   "execution_count": 138,
   "metadata": {
    "ExecuteTime": {
     "end_time": "2020-09-09T08:55:23.335780Z",
     "start_time": "2020-09-09T08:55:23.229842Z"
    }
   },
   "outputs": [
    {
     "name": "stdout",
     "output_type": "stream",
     "text": [
      "0.9031956041757334\n"
     ]
    }
   ],
   "source": [
    "print(metrics.roc_auc_score(results_df['dif_ahorroInversion'], results_df['AltaScore']))"
   ]
  },
  {
   "cell_type": "code",
   "execution_count": 139,
   "metadata": {
    "ExecuteTime": {
     "end_time": "2020-09-09T08:55:24.742593Z",
     "start_time": "2020-09-09T08:55:24.684586Z"
    }
   },
   "outputs": [],
   "source": [
    "fpr, tpr, _ = metrics.roc_curve(results_df['dif_ahorroInversion'], results_df['AltaScore'])"
   ]
  },
  {
   "cell_type": "code",
   "execution_count": 140,
   "metadata": {
    "ExecuteTime": {
     "end_time": "2020-09-09T08:55:26.334679Z",
     "start_time": "2020-09-09T08:55:26.069833Z"
    }
   },
   "outputs": [
    {
     "data": {
      "image/png": "[encoded data removed]",
      "text/plain": [
       "<Figure size 1080x432 with 1 Axes>"
      ]
     },
     "metadata": {},
     "output_type": "display_data"
    }
   ],
   "source": [
    "fig, ax = plt.subplots(figsize = (15, 6))\n",
    "plt.clf()\n",
    "plt.plot(fpr, tpr)\n",
    "plt.plot([0, 1], [0, 1], color='gray', linestyle='--')\n",
    "plt.xlabel('FPR')\n",
    "plt.ylabel('TPR')\n",
    "plt.title('ROC curve')\n",
    "plt.show()"
   ]
  },
  {
   "cell_type": "code",
   "execution_count": 147,
   "metadata": {
    "ExecuteTime": {
     "end_time": "2020-09-09T08:56:33.014359Z",
     "start_time": "2020-09-09T08:56:33.001367Z"
    }
   },
   "outputs": [
    {
     "data": {
      "text/html": [
       "<div>\n",
       "<style scoped>\n",
       "    .dataframe tbody tr th:only-of-type {\n",
       "        vertical-align: middle;\n",
       "    }\n",
       "\n",
       "    .dataframe tbody tr th {\n",
       "        vertical-align: top;\n",
       "    }\n",
       "\n",
       "    .dataframe thead th {\n",
       "        text-align: right;\n",
       "    }\n",
       "</style>\n",
       "<table border=\"1\" class=\"dataframe\">\n",
       "  <thead>\n",
       "    <tr style=\"text-align: right;\">\n",
       "      <th></th>\n",
       "      <th>dif_ahorroInversion</th>\n",
       "      <th>altaPrediction</th>\n",
       "      <th>Success</th>\n",
       "      <th>AltaScore</th>\n",
       "    </tr>\n",
       "  </thead>\n",
       "  <tbody>\n",
       "    <tr>\n",
       "      <th>5305793</th>\n",
       "      <td>1.00</td>\n",
       "      <td>1.00</td>\n",
       "      <td>1</td>\n",
       "      <td>0.65</td>\n",
       "    </tr>\n",
       "    <tr>\n",
       "      <th>5306156</th>\n",
       "      <td>1.00</td>\n",
       "      <td>1.00</td>\n",
       "      <td>1</td>\n",
       "      <td>0.65</td>\n",
       "    </tr>\n",
       "    <tr>\n",
       "      <th>5306773</th>\n",
       "      <td>1.00</td>\n",
       "      <td>1.00</td>\n",
       "      <td>1</td>\n",
       "      <td>0.65</td>\n",
       "    </tr>\n",
       "    <tr>\n",
       "      <th>5306878</th>\n",
       "      <td>1.00</td>\n",
       "      <td>1.00</td>\n",
       "      <td>1</td>\n",
       "      <td>0.65</td>\n",
       "    </tr>\n",
       "    <tr>\n",
       "      <th>5307103</th>\n",
       "      <td>1.00</td>\n",
       "      <td>1.00</td>\n",
       "      <td>1</td>\n",
       "      <td>0.65</td>\n",
       "    </tr>\n",
       "    <tr>\n",
       "      <th>...</th>\n",
       "      <td>...</td>\n",
       "      <td>...</td>\n",
       "      <td>...</td>\n",
       "      <td>...</td>\n",
       "    </tr>\n",
       "    <tr>\n",
       "      <th>5628414</th>\n",
       "      <td>1.00</td>\n",
       "      <td>1.00</td>\n",
       "      <td>1</td>\n",
       "      <td>0.65</td>\n",
       "    </tr>\n",
       "    <tr>\n",
       "      <th>5628630</th>\n",
       "      <td>1.00</td>\n",
       "      <td>1.00</td>\n",
       "      <td>1</td>\n",
       "      <td>0.65</td>\n",
       "    </tr>\n",
       "    <tr>\n",
       "      <th>5629217</th>\n",
       "      <td>1.00</td>\n",
       "      <td>1.00</td>\n",
       "      <td>1</td>\n",
       "      <td>0.65</td>\n",
       "    </tr>\n",
       "    <tr>\n",
       "      <th>5629602</th>\n",
       "      <td>1.00</td>\n",
       "      <td>1.00</td>\n",
       "      <td>1</td>\n",
       "      <td>0.65</td>\n",
       "    </tr>\n",
       "    <tr>\n",
       "      <th>5629669</th>\n",
       "      <td>1.00</td>\n",
       "      <td>1.00</td>\n",
       "      <td>1</td>\n",
       "      <td>0.65</td>\n",
       "    </tr>\n",
       "  </tbody>\n",
       "</table>\n",
       "<p>973 rows × 4 columns</p>\n",
       "</div>"
      ],
      "text/plain": [
       "         dif_ahorroInversion  altaPrediction  Success  AltaScore\n",
       "5305793                 1.00            1.00        1       0.65\n",
       "5306156                 1.00            1.00        1       0.65\n",
       "5306773                 1.00            1.00        1       0.65\n",
       "5306878                 1.00            1.00        1       0.65\n",
       "5307103                 1.00            1.00        1       0.65\n",
       "...                      ...             ...      ...        ...\n",
       "5628414                 1.00            1.00        1       0.65\n",
       "5628630                 1.00            1.00        1       0.65\n",
       "5629217                 1.00            1.00        1       0.65\n",
       "5629602                 1.00            1.00        1       0.65\n",
       "5629669                 1.00            1.00        1       0.65\n",
       "\n",
       "[973 rows x 4 columns]"
      ]
     },
     "execution_count": 147,
     "metadata": {},
     "output_type": "execute_result"
    }
   ],
   "source": [
    "results_df[(results_df['dif_ahorroInversion']!=0) &\n",
    "           (results_df['AltaScore']> 0.60) ]"
   ]
  },
  {
   "cell_type": "code",
   "execution_count": 148,
   "metadata": {
    "ExecuteTime": {
     "end_time": "2020-09-09T08:56:36.581866Z",
     "start_time": "2020-09-09T08:56:36.363976Z"
    }
   },
   "outputs": [
    {
     "data": {
      "text/plain": [
       "<matplotlib.axes._subplots.AxesSubplot at 0x1a6100077c8>"
      ]
     },
     "execution_count": 148,
     "metadata": {},
     "output_type": "execute_result"
    },
    {
     "data": {
      "image/png": "[encoded data removed]",
      "text/plain": [
       "<Figure size 432x288 with 1 Axes>"
      ]
     },
     "metadata": {},
     "output_type": "display_data"
    }
   ],
   "source": [
    "results_df[(results_df['dif_ahorroInversion']!=0) &\n",
    "           (results_df['AltaScore']> 0.60) ]['Success'].hist()\n"
   ]
  },
  {
   "cell_type": "code",
   "execution_count": 149,
   "metadata": {
    "ExecuteTime": {
     "end_time": "2020-09-09T08:56:37.941067Z",
     "start_time": "2020-09-09T08:56:37.931071Z"
    }
   },
   "outputs": [
    {
     "data": {
      "text/plain": [
       "1    973\n",
       "Name: Success, dtype: int64"
      ]
     },
     "execution_count": 149,
     "metadata": {},
     "output_type": "execute_result"
    }
   ],
   "source": [
    "results_df[(results_df['dif_ahorroInversion']!=0) &\n",
    "           (results_df['AltaScore']> 0.60) ]['Success'].value_counts()\n"
   ]
  },
  {
   "cell_type": "markdown",
   "metadata": {},
   "source": [
    "# Enternamos para financiacion:"
   ]
  },
  {
   "cell_type": "code",
   "execution_count": 150,
   "metadata": {
    "ExecuteTime": {
     "end_time": "2020-09-09T08:58:27.172347Z",
     "start_time": "2020-09-09T08:58:25.395600Z"
    }
   },
   "outputs": [
    {
     "data": {
      "text/plain": [
       "12264"
      ]
     },
     "execution_count": 150,
     "metadata": {},
     "output_type": "execute_result"
    }
   ],
   "source": [
    "del X_train,Y_train, X_valida, Y_valida,X_test,Y_test\n",
    "gc.collect()\n"
   ]
  },
  {
   "cell_type": "code",
   "execution_count": 151,
   "metadata": {
    "ExecuteTime": {
     "end_time": "2020-09-09T08:59:12.612016Z",
     "start_time": "2020-09-09T08:59:02.926834Z"
    }
   },
   "outputs": [],
   "source": [
    "X_train = full_df[full_df[\"pk_partition\"].isin(train_index)].drop(variables_borrar, axis=1)\n",
    "Y_train = full_df[full_df[\"pk_partition\"].isin(train_index)]['dif_financiacion']\n",
    "\n",
    "X_valida = full_df[full_df[\"pk_partition\"].isin(valida_index)].drop(variables_borrar, axis=1)\n",
    "Y_valida = full_df[full_df[\"pk_partition\"].isin(valida_index)]['dif_financiacion']\n",
    "\n",
    "X_test = full_df[full_df[\"pk_partition\"].isin(test_index)].drop(variables_borrar, axis = 1)\n",
    "Y_test = full_df[full_df[\"pk_partition\"].isin(test_index)]['dif_financiacion']\n"
   ]
  },
  {
   "cell_type": "code",
   "execution_count": 152,
   "metadata": {
    "ExecuteTime": {
     "end_time": "2020-09-09T09:01:55.550682Z",
     "start_time": "2020-09-09T09:01:00.001322Z"
    }
   },
   "outputs": [
    {
     "data": {
      "text/plain": [
       "DecisionTreeClassifier(ccp_alpha=0.0, class_weight=None, criterion='gini',\n",
       "                       max_depth=6, max_features=None, max_leaf_nodes=None,\n",
       "                       min_impurity_decrease=0.0, min_impurity_split=None,\n",
       "                       min_samples_leaf=1, min_samples_split=2,\n",
       "                       min_weight_fraction_leaf=0.0, presort='deprecated',\n",
       "                       random_state=42, splitter='best')"
      ]
     },
     "execution_count": 152,
     "metadata": {},
     "output_type": "execute_result"
    }
   ],
   "source": [
    "dt.fit(X_train,Y_train)"
   ]
  },
  {
   "cell_type": "code",
   "execution_count": 153,
   "metadata": {
    "ExecuteTime": {
     "end_time": "2020-09-09T09:03:03.183363Z",
     "start_time": "2020-09-09T09:02:59.828467Z"
    }
   },
   "outputs": [
    {
     "name": "stdout",
     "output_type": "stream",
     "text": [
      "Resultados para: Train: 0.9976529312828724 - Test: 0.9978450506169608\n"
     ]
    }
   ],
   "source": [
    "score_train=dt.score(X_train, Y_train)\n",
    "score_test=dt.score(X_valida, Y_valida)\n",
    "print('Resultados para: Train: {} - Test: {}'.format(score_train,score_test))\n"
   ]
  },
  {
   "cell_type": "code",
   "execution_count": 154,
   "metadata": {
    "ExecuteTime": {
     "end_time": "2020-09-09T09:03:07.106970Z",
     "start_time": "2020-09-09T09:03:06.821041Z"
    }
   },
   "outputs": [],
   "source": [
    "y_test_pred = pd.DataFrame(dt.predict(X_test), index=Y_test.index, columns=['altaPrediction'])\n"
   ]
  },
  {
   "cell_type": "code",
   "execution_count": 155,
   "metadata": {
    "ExecuteTime": {
     "end_time": "2020-09-09T09:03:09.652932Z",
     "start_time": "2020-09-09T09:03:09.321269Z"
    }
   },
   "outputs": [],
   "source": [
    "score_test=dt.score(X_test, Y_test)"
   ]
  },
  {
   "cell_type": "code",
   "execution_count": 156,
   "metadata": {
    "ExecuteTime": {
     "end_time": "2020-09-09T09:03:12.443380Z",
     "start_time": "2020-09-09T09:03:12.439383Z"
    }
   },
   "outputs": [
    {
     "data": {
      "text/plain": [
       "0.9976808569670796"
      ]
     },
     "execution_count": 156,
     "metadata": {},
     "output_type": "execute_result"
    }
   ],
   "source": [
    "score_test"
   ]
  },
  {
   "cell_type": "code",
   "execution_count": 157,
   "metadata": {
    "ExecuteTime": {
     "end_time": "2020-09-09T09:03:14.901265Z",
     "start_time": "2020-09-09T09:03:14.886260Z"
    }
   },
   "outputs": [],
   "source": [
    "results_df = Y_test.to_frame().join(y_test_pred)\n"
   ]
  },
  {
   "cell_type": "code",
   "execution_count": 158,
   "metadata": {
    "ExecuteTime": {
     "end_time": "2020-09-09T09:03:51.247909Z",
     "start_time": "2020-09-09T09:03:51.240907Z"
    }
   },
   "outputs": [],
   "source": [
    "results_df['Success']=(results_df['dif_financiacion']==results_df['altaPrediction']).astype(int)\n"
   ]
  },
  {
   "cell_type": "code",
   "execution_count": 159,
   "metadata": {
    "ExecuteTime": {
     "end_time": "2020-09-09T09:03:52.810974Z",
     "start_time": "2020-09-09T09:03:52.797849Z"
    }
   },
   "outputs": [
    {
     "data": {
      "text/html": [
       "<div>\n",
       "<style scoped>\n",
       "    .dataframe tbody tr th:only-of-type {\n",
       "        vertical-align: middle;\n",
       "    }\n",
       "\n",
       "    .dataframe tbody tr th {\n",
       "        vertical-align: top;\n",
       "    }\n",
       "\n",
       "    .dataframe thead th {\n",
       "        text-align: right;\n",
       "    }\n",
       "</style>\n",
       "<table border=\"1\" class=\"dataframe\">\n",
       "  <thead>\n",
       "    <tr style=\"text-align: right;\">\n",
       "      <th></th>\n",
       "      <th>dif_financiacion</th>\n",
       "      <th>altaPrediction</th>\n",
       "      <th>Success</th>\n",
       "    </tr>\n",
       "  </thead>\n",
       "  <tbody>\n",
       "    <tr>\n",
       "      <th>5549171</th>\n",
       "      <td>1.00</td>\n",
       "      <td>0.00</td>\n",
       "      <td>0</td>\n",
       "    </tr>\n",
       "    <tr>\n",
       "      <th>5384204</th>\n",
       "      <td>1.00</td>\n",
       "      <td>0.00</td>\n",
       "      <td>0</td>\n",
       "    </tr>\n",
       "    <tr>\n",
       "      <th>5616474</th>\n",
       "      <td>1.00</td>\n",
       "      <td>0.00</td>\n",
       "      <td>0</td>\n",
       "    </tr>\n",
       "    <tr>\n",
       "      <th>5461996</th>\n",
       "      <td>1.00</td>\n",
       "      <td>0.00</td>\n",
       "      <td>0</td>\n",
       "    </tr>\n",
       "    <tr>\n",
       "      <th>5316796</th>\n",
       "      <td>1.00</td>\n",
       "      <td>0.00</td>\n",
       "      <td>0</td>\n",
       "    </tr>\n",
       "    <tr>\n",
       "      <th>5306932</th>\n",
       "      <td>1.00</td>\n",
       "      <td>0.00</td>\n",
       "      <td>0</td>\n",
       "    </tr>\n",
       "    <tr>\n",
       "      <th>5472923</th>\n",
       "      <td>1.00</td>\n",
       "      <td>1.00</td>\n",
       "      <td>1</td>\n",
       "    </tr>\n",
       "    <tr>\n",
       "      <th>5363431</th>\n",
       "      <td>1.00</td>\n",
       "      <td>0.00</td>\n",
       "      <td>0</td>\n",
       "    </tr>\n",
       "    <tr>\n",
       "      <th>5467564</th>\n",
       "      <td>1.00</td>\n",
       "      <td>0.00</td>\n",
       "      <td>0</td>\n",
       "    </tr>\n",
       "    <tr>\n",
       "      <th>5310207</th>\n",
       "      <td>1.00</td>\n",
       "      <td>0.00</td>\n",
       "      <td>0</td>\n",
       "    </tr>\n",
       "    <tr>\n",
       "      <th>5385871</th>\n",
       "      <td>1.00</td>\n",
       "      <td>0.00</td>\n",
       "      <td>0</td>\n",
       "    </tr>\n",
       "    <tr>\n",
       "      <th>5459769</th>\n",
       "      <td>1.00</td>\n",
       "      <td>0.00</td>\n",
       "      <td>0</td>\n",
       "    </tr>\n",
       "    <tr>\n",
       "      <th>5388360</th>\n",
       "      <td>1.00</td>\n",
       "      <td>0.00</td>\n",
       "      <td>0</td>\n",
       "    </tr>\n",
       "    <tr>\n",
       "      <th>5543790</th>\n",
       "      <td>1.00</td>\n",
       "      <td>0.00</td>\n",
       "      <td>0</td>\n",
       "    </tr>\n",
       "    <tr>\n",
       "      <th>5459221</th>\n",
       "      <td>1.00</td>\n",
       "      <td>0.00</td>\n",
       "      <td>0</td>\n",
       "    </tr>\n",
       "    <tr>\n",
       "      <th>5549078</th>\n",
       "      <td>1.00</td>\n",
       "      <td>0.00</td>\n",
       "      <td>0</td>\n",
       "    </tr>\n",
       "    <tr>\n",
       "      <th>5622966</th>\n",
       "      <td>1.00</td>\n",
       "      <td>0.00</td>\n",
       "      <td>0</td>\n",
       "    </tr>\n",
       "    <tr>\n",
       "      <th>5376720</th>\n",
       "      <td>1.00</td>\n",
       "      <td>0.00</td>\n",
       "      <td>0</td>\n",
       "    </tr>\n",
       "    <tr>\n",
       "      <th>5307885</th>\n",
       "      <td>1.00</td>\n",
       "      <td>0.00</td>\n",
       "      <td>0</td>\n",
       "    </tr>\n",
       "    <tr>\n",
       "      <th>5312558</th>\n",
       "      <td>1.00</td>\n",
       "      <td>0.00</td>\n",
       "      <td>0</td>\n",
       "    </tr>\n",
       "  </tbody>\n",
       "</table>\n",
       "</div>"
      ],
      "text/plain": [
       "         dif_financiacion  altaPrediction  Success\n",
       "5549171              1.00            0.00        0\n",
       "5384204              1.00            0.00        0\n",
       "5616474              1.00            0.00        0\n",
       "5461996              1.00            0.00        0\n",
       "5316796              1.00            0.00        0\n",
       "5306932              1.00            0.00        0\n",
       "5472923              1.00            1.00        1\n",
       "5363431              1.00            0.00        0\n",
       "5467564              1.00            0.00        0\n",
       "5310207              1.00            0.00        0\n",
       "5385871              1.00            0.00        0\n",
       "5459769              1.00            0.00        0\n",
       "5388360              1.00            0.00        0\n",
       "5543790              1.00            0.00        0\n",
       "5459221              1.00            0.00        0\n",
       "5549078              1.00            0.00        0\n",
       "5622966              1.00            0.00        0\n",
       "5376720              1.00            0.00        0\n",
       "5307885              1.00            0.00        0\n",
       "5312558              1.00            0.00        0"
      ]
     },
     "execution_count": 159,
     "metadata": {},
     "output_type": "execute_result"
    }
   ],
   "source": [
    "results_df[results_df['dif_financiacion']!=0].sample(20)"
   ]
  },
  {
   "cell_type": "code",
   "execution_count": 160,
   "metadata": {
    "ExecuteTime": {
     "end_time": "2020-09-09T09:03:58.800434Z",
     "start_time": "2020-09-09T09:03:58.567895Z"
    }
   },
   "outputs": [
    {
     "data": {
      "text/plain": [
       "<matplotlib.axes._subplots.AxesSubplot at 0x1a61f846888>"
      ]
     },
     "execution_count": 160,
     "metadata": {},
     "output_type": "execute_result"
    },
    {
     "data": {
      "image/png": "[encoded data removed]",
      "text/plain": [
       "<Figure size 432x288 with 1 Axes>"
      ]
     },
     "metadata": {},
     "output_type": "display_data"
    }
   ],
   "source": [
    "results_df[results_df['dif_financiacion']==1]['Success'].hist()"
   ]
  },
  {
   "cell_type": "code",
   "execution_count": 161,
   "metadata": {
    "ExecuteTime": {
     "end_time": "2020-09-09T09:04:01.448655Z",
     "start_time": "2020-09-09T09:04:01.439818Z"
    }
   },
   "outputs": [
    {
     "data": {
      "text/plain": [
       "0    721\n",
       "1     67\n",
       "Name: Success, dtype: int64"
      ]
     },
     "execution_count": 161,
     "metadata": {},
     "output_type": "execute_result"
    }
   ],
   "source": [
    "results_df[results_df['dif_financiacion']==1]['Success'].value_counts()"
   ]
  },
  {
   "cell_type": "code",
   "execution_count": 162,
   "metadata": {
    "ExecuteTime": {
     "end_time": "2020-09-09T09:04:05.244420Z",
     "start_time": "2020-09-09T09:04:04.996552Z"
    }
   },
   "outputs": [
    {
     "data": {
      "text/plain": [
       "<matplotlib.axes._subplots.AxesSubplot at 0x1a6702656c8>"
      ]
     },
     "execution_count": 162,
     "metadata": {},
     "output_type": "execute_result"
    },
    {
     "data": {
      "image/png": "[encoded data removed]",
      "text/plain": [
       "<Figure size 432x288 with 1 Axes>"
      ]
     },
     "metadata": {},
     "output_type": "display_data"
    }
   ],
   "source": [
    "results_df[results_df['dif_financiacion']==0]['Success'].hist()"
   ]
  },
  {
   "cell_type": "code",
   "execution_count": 163,
   "metadata": {
    "ExecuteTime": {
     "end_time": "2020-09-09T09:04:08.200394Z",
     "start_time": "2020-09-09T09:04:08.176421Z"
    }
   },
   "outputs": [
    {
     "data": {
      "text/plain": [
       "1    330752\n",
       "0        48\n",
       "Name: Success, dtype: int64"
      ]
     },
     "execution_count": 163,
     "metadata": {},
     "output_type": "execute_result"
    }
   ],
   "source": [
    "results_df[results_df['dif_financiacion']==0]['Success'].value_counts()"
   ]
  },
  {
   "cell_type": "code",
   "execution_count": 164,
   "metadata": {
    "ExecuteTime": {
     "end_time": "2020-09-09T09:04:11.115112Z",
     "start_time": "2020-09-09T09:04:11.110129Z"
    }
   },
   "outputs": [],
   "source": [
    "top_features = pd.Series(dt.feature_importances_, index=X_train.columns).sort_values(ascending=False).head(30)\n"
   ]
  },
  {
   "cell_type": "code",
   "execution_count": 165,
   "metadata": {
    "ExecuteTime": {
     "end_time": "2020-09-09T09:04:12.573428Z",
     "start_time": "2020-09-09T09:04:12.568319Z"
    }
   },
   "outputs": [
    {
     "data": {
      "text/plain": [
       "credit_card_shift_1              0.42\n",
       "loans_shift_1                    0.21\n",
       "credit_card_shift_3              0.10\n",
       "totalFinanciacion_shift_1        0.08\n",
       "credit_card_shift_2              0.07\n",
       "credit_card_shift_4              0.06\n",
       "totalAssets_shift_1              0.01\n",
       "dif_financiacion_shift_3         0.01\n",
       "dif_credit_card_shift_2          0.01\n",
       "totalAssets_shift_4              0.01\n",
       "active_customer_shift_1          0.01\n",
       "totalCuentas_shift_1             0.00\n",
       "totalAssets_shift_3              0.00\n",
       "salary                           0.00\n",
       "active_customer_shift_3          0.00\n",
       "active_customer_shift_2          0.00\n",
       "totalIngresos_shift_4            0.00\n",
       "dif_financiacion_shift_1         0.00\n",
       "dif_payroll_account_shift_1      0.00\n",
       "diasDesdeUltimaAltaInt_shift_3   0.00\n",
       "payroll_shift_2                  0.00\n",
       "entry_date_day                   0.00\n",
       "diasDesdeUltimaAltaInt_shift_4   0.00\n",
       "diasDesdeUltimaAltaInt_shift_1   0.00\n",
       "payroll_account_shift_4          0.00\n",
       "dif_payroll_shift_4              0.00\n",
       "entry_date_month                 0.00\n",
       "emc_account_shift_3              0.00\n",
       "dif_payroll_account_shift_4      0.00\n",
       "dif_credit_card_shift_4          0.00\n",
       "dtype: float64"
      ]
     },
     "execution_count": 165,
     "metadata": {},
     "output_type": "execute_result"
    }
   ],
   "source": [
    "top_features"
   ]
  },
  {
   "cell_type": "code",
   "execution_count": 166,
   "metadata": {
    "ExecuteTime": {
     "end_time": "2020-09-09T09:04:19.943459Z",
     "start_time": "2020-09-09T09:04:19.652206Z"
    }
   },
   "outputs": [],
   "source": [
    "y_score = pd.DataFrame(dt.predict_proba(X_test)[:,1], index=Y_test.index, columns=['AltaScore'])\n",
    "results_df = results_df.join(y_score)\n"
   ]
  },
  {
   "cell_type": "code",
   "execution_count": 167,
   "metadata": {
    "ExecuteTime": {
     "end_time": "2020-09-09T09:04:36.491633Z",
     "start_time": "2020-09-09T09:04:36.390646Z"
    }
   },
   "outputs": [
    {
     "name": "stdout",
     "output_type": "stream",
     "text": [
      "0.8969465079272523\n"
     ]
    }
   ],
   "source": [
    "print(metrics.roc_auc_score(results_df['dif_financiacion'], results_df['AltaScore']))"
   ]
  },
  {
   "cell_type": "code",
   "execution_count": 168,
   "metadata": {
    "ExecuteTime": {
     "end_time": "2020-09-09T09:04:37.907073Z",
     "start_time": "2020-09-09T09:04:37.854232Z"
    }
   },
   "outputs": [],
   "source": [
    "fpr, tpr, _ = metrics.roc_curve(results_df['dif_financiacion'], results_df['AltaScore'])"
   ]
  },
  {
   "cell_type": "code",
   "execution_count": 169,
   "metadata": {
    "ExecuteTime": {
     "end_time": "2020-09-09T09:04:41.236235Z",
     "start_time": "2020-09-09T09:04:40.968380Z"
    }
   },
   "outputs": [
    {
     "data": {
      "image/png": "[encoded data removed]",
      "text/plain": [
       "<Figure size 1080x432 with 1 Axes>"
      ]
     },
     "metadata": {},
     "output_type": "display_data"
    }
   ],
   "source": [
    "fig, ax = plt.subplots(figsize = (15, 6))\n",
    "plt.clf()\n",
    "plt.plot(fpr, tpr)\n",
    "plt.plot([0, 1], [0, 1], color='gray', linestyle='--')\n",
    "plt.xlabel('FPR')\n",
    "plt.ylabel('TPR')\n",
    "plt.title('ROC curve')\n",
    "plt.show()"
   ]
  },
  {
   "cell_type": "code",
   "execution_count": 170,
   "metadata": {
    "ExecuteTime": {
     "end_time": "2020-09-09T09:04:55.565927Z",
     "start_time": "2020-09-09T09:04:55.552053Z"
    }
   },
   "outputs": [
    {
     "data": {
      "text/html": [
       "<div>\n",
       "<style scoped>\n",
       "    .dataframe tbody tr th:only-of-type {\n",
       "        vertical-align: middle;\n",
       "    }\n",
       "\n",
       "    .dataframe tbody tr th {\n",
       "        vertical-align: top;\n",
       "    }\n",
       "\n",
       "    .dataframe thead th {\n",
       "        text-align: right;\n",
       "    }\n",
       "</style>\n",
       "<table border=\"1\" class=\"dataframe\">\n",
       "  <thead>\n",
       "    <tr style=\"text-align: right;\">\n",
       "      <th></th>\n",
       "      <th>dif_financiacion</th>\n",
       "      <th>altaPrediction</th>\n",
       "      <th>Success</th>\n",
       "      <th>AltaScore</th>\n",
       "    </tr>\n",
       "  </thead>\n",
       "  <tbody>\n",
       "    <tr>\n",
       "      <th>5437920</th>\n",
       "      <td>1.00</td>\n",
       "      <td>1.00</td>\n",
       "      <td>1</td>\n",
       "      <td>1.00</td>\n",
       "    </tr>\n",
       "    <tr>\n",
       "      <th>5341355</th>\n",
       "      <td>1.00</td>\n",
       "      <td>1.00</td>\n",
       "      <td>1</td>\n",
       "      <td>1.00</td>\n",
       "    </tr>\n",
       "    <tr>\n",
       "      <th>5475781</th>\n",
       "      <td>1.00</td>\n",
       "      <td>1.00</td>\n",
       "      <td>1</td>\n",
       "      <td>1.00</td>\n",
       "    </tr>\n",
       "    <tr>\n",
       "      <th>5323524</th>\n",
       "      <td>1.00</td>\n",
       "      <td>1.00</td>\n",
       "      <td>1</td>\n",
       "      <td>1.00</td>\n",
       "    </tr>\n",
       "    <tr>\n",
       "      <th>5464665</th>\n",
       "      <td>1.00</td>\n",
       "      <td>1.00</td>\n",
       "      <td>1</td>\n",
       "      <td>1.00</td>\n",
       "    </tr>\n",
       "    <tr>\n",
       "      <th>5389234</th>\n",
       "      <td>1.00</td>\n",
       "      <td>1.00</td>\n",
       "      <td>1</td>\n",
       "      <td>1.00</td>\n",
       "    </tr>\n",
       "    <tr>\n",
       "      <th>5357790</th>\n",
       "      <td>1.00</td>\n",
       "      <td>1.00</td>\n",
       "      <td>1</td>\n",
       "      <td>1.00</td>\n",
       "    </tr>\n",
       "    <tr>\n",
       "      <th>5390989</th>\n",
       "      <td>1.00</td>\n",
       "      <td>1.00</td>\n",
       "      <td>1</td>\n",
       "      <td>1.00</td>\n",
       "    </tr>\n",
       "    <tr>\n",
       "      <th>5538897</th>\n",
       "      <td>1.00</td>\n",
       "      <td>1.00</td>\n",
       "      <td>1</td>\n",
       "      <td>1.00</td>\n",
       "    </tr>\n",
       "    <tr>\n",
       "      <th>5383528</th>\n",
       "      <td>1.00</td>\n",
       "      <td>1.00</td>\n",
       "      <td>1</td>\n",
       "      <td>1.00</td>\n",
       "    </tr>\n",
       "    <tr>\n",
       "      <th>5538796</th>\n",
       "      <td>1.00</td>\n",
       "      <td>1.00</td>\n",
       "      <td>1</td>\n",
       "      <td>1.00</td>\n",
       "    </tr>\n",
       "    <tr>\n",
       "      <th>5355720</th>\n",
       "      <td>1.00</td>\n",
       "      <td>1.00</td>\n",
       "      <td>1</td>\n",
       "      <td>1.00</td>\n",
       "    </tr>\n",
       "    <tr>\n",
       "      <th>5545656</th>\n",
       "      <td>1.00</td>\n",
       "      <td>1.00</td>\n",
       "      <td>1</td>\n",
       "      <td>1.00</td>\n",
       "    </tr>\n",
       "    <tr>\n",
       "      <th>5357560</th>\n",
       "      <td>1.00</td>\n",
       "      <td>1.00</td>\n",
       "      <td>1</td>\n",
       "      <td>1.00</td>\n",
       "    </tr>\n",
       "    <tr>\n",
       "      <th>5534578</th>\n",
       "      <td>1.00</td>\n",
       "      <td>1.00</td>\n",
       "      <td>1</td>\n",
       "      <td>1.00</td>\n",
       "    </tr>\n",
       "    <tr>\n",
       "      <th>5547033</th>\n",
       "      <td>1.00</td>\n",
       "      <td>1.00</td>\n",
       "      <td>1</td>\n",
       "      <td>0.98</td>\n",
       "    </tr>\n",
       "    <tr>\n",
       "      <th>5541175</th>\n",
       "      <td>1.00</td>\n",
       "      <td>1.00</td>\n",
       "      <td>1</td>\n",
       "      <td>0.98</td>\n",
       "    </tr>\n",
       "    <tr>\n",
       "      <th>5387185</th>\n",
       "      <td>1.00</td>\n",
       "      <td>1.00</td>\n",
       "      <td>1</td>\n",
       "      <td>1.00</td>\n",
       "    </tr>\n",
       "    <tr>\n",
       "      <th>5366752</th>\n",
       "      <td>1.00</td>\n",
       "      <td>1.00</td>\n",
       "      <td>1</td>\n",
       "      <td>0.98</td>\n",
       "    </tr>\n",
       "    <tr>\n",
       "      <th>5422342</th>\n",
       "      <td>1.00</td>\n",
       "      <td>1.00</td>\n",
       "      <td>1</td>\n",
       "      <td>1.00</td>\n",
       "    </tr>\n",
       "  </tbody>\n",
       "</table>\n",
       "</div>"
      ],
      "text/plain": [
       "         dif_financiacion  altaPrediction  Success  AltaScore\n",
       "5437920              1.00            1.00        1       1.00\n",
       "5341355              1.00            1.00        1       1.00\n",
       "5475781              1.00            1.00        1       1.00\n",
       "5323524              1.00            1.00        1       1.00\n",
       "5464665              1.00            1.00        1       1.00\n",
       "5389234              1.00            1.00        1       1.00\n",
       "5357790              1.00            1.00        1       1.00\n",
       "5390989              1.00            1.00        1       1.00\n",
       "5538897              1.00            1.00        1       1.00\n",
       "5383528              1.00            1.00        1       1.00\n",
       "5538796              1.00            1.00        1       1.00\n",
       "5355720              1.00            1.00        1       1.00\n",
       "5545656              1.00            1.00        1       1.00\n",
       "5357560              1.00            1.00        1       1.00\n",
       "5534578              1.00            1.00        1       1.00\n",
       "5547033              1.00            1.00        1       0.98\n",
       "5541175              1.00            1.00        1       0.98\n",
       "5387185              1.00            1.00        1       1.00\n",
       "5366752              1.00            1.00        1       0.98\n",
       "5422342              1.00            1.00        1       1.00"
      ]
     },
     "execution_count": 170,
     "metadata": {},
     "output_type": "execute_result"
    }
   ],
   "source": [
    "results_df[(results_df['dif_financiacion']!=0) &\n",
    "           (results_df['AltaScore']> 0.60) ].sample(20)\n"
   ]
  },
  {
   "cell_type": "code",
   "execution_count": 171,
   "metadata": {
    "ExecuteTime": {
     "end_time": "2020-09-09T09:05:09.527624Z",
     "start_time": "2020-09-09T09:05:09.285609Z"
    }
   },
   "outputs": [
    {
     "data": {
      "text/plain": [
       "<matplotlib.axes._subplots.AxesSubplot at 0x1a66c412f88>"
      ]
     },
     "execution_count": 171,
     "metadata": {},
     "output_type": "execute_result"
    },
    {
     "data": {
      "image/png": "[encoded data removed]",
      "text/plain": [
       "<Figure size 432x288 with 1 Axes>"
      ]
     },
     "metadata": {},
     "output_type": "display_data"
    }
   ],
   "source": [
    "results_df[(results_df['dif_financiacion']!=0) &\n",
    "           (results_df['AltaScore']> 0.70) ]['Success'].hist()\n"
   ]
  },
  {
   "cell_type": "code",
   "execution_count": 172,
   "metadata": {
    "ExecuteTime": {
     "end_time": "2020-09-09T09:05:18.879432Z",
     "start_time": "2020-09-09T09:05:18.870440Z"
    }
   },
   "outputs": [
    {
     "data": {
      "text/plain": [
       "1    29\n",
       "Name: Success, dtype: int64"
      ]
     },
     "execution_count": 172,
     "metadata": {},
     "output_type": "execute_result"
    }
   ],
   "source": [
    "results_df[(results_df['dif_financiacion']!=0) &\n",
    "           (results_df['AltaScore']> 0.70) ]['Success'].value_counts()"
   ]
  },
  {
   "cell_type": "code",
   "execution_count": null,
   "metadata": {},
   "outputs": [],
   "source": []
  },
  {
   "cell_type": "code",
   "execution_count": null,
   "metadata": {},
   "outputs": [],
   "source": []
  },
  {
   "cell_type": "code",
   "execution_count": null,
   "metadata": {},
   "outputs": [],
   "source": []
  }
 ],
 "metadata": {
  "kernelspec": {
   "display_name": "Python 3",
   "language": "python",
   "name": "python3"
  },
  "language_info": {
   "codemirror_mode": {
    "name": "ipython",
    "version": 3
   },
   "file_extension": ".py",
   "mimetype": "text/x-python",
   "name": "python",
   "nbconvert_exporter": "python",
   "pygments_lexer": "ipython3",
   "version": "3.7.6"
  },
  "toc": {
   "base_numbering": 1,
   "nav_menu": {},
   "number_sections": true,
   "sideBar": true,
   "skip_h1_title": false,
   "title_cell": "Table of Contents",
   "title_sidebar": "Contents",
   "toc_cell": false,
   "toc_position": {},
   "toc_section_display": true,
   "toc_window_display": false
  },
  "varInspector": {
   "cols": {
    "lenName": 16,
    "lenType": 16,
    "lenVar": 40
   },
   "kernels_config": {
    "python": {
     "delete_cmd_postfix": "",
     "delete_cmd_prefix": "del ",
     "library": "var_list.py",
     "varRefreshCmd": "print(var_dic_list())"
    },
    "r": {
     "delete_cmd_postfix": ") ",
     "delete_cmd_prefix": "rm(",
     "library": "var_list.r",
     "varRefreshCmd": "cat(var_dic_list()) "
    }
   },
   "types_to_exclude": [
    "module",
    "function",
    "builtin_function_or_method",
    "instance",
    "_Feature"
   ],
   "window_display": false
  }
 },
 "nbformat": 4,
 "nbformat_minor": 4
}
