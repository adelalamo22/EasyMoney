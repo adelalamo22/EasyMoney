{
 "cells": [
  {
   "cell_type": "code",
   "execution_count": 1,
   "metadata": {
    "ExecuteTime": {
     "end_time": "2020-09-16T14:24:53.724938Z",
     "start_time": "2020-09-16T14:24:48.062897Z"
    }
   },
   "outputs": [],
   "source": [
    "import numpy as np \n",
    "import pandas as pd\n",
    "import calendar\n",
    "import matplotlib.pyplot as plt\n",
    "import seaborn as sns\n",
    "import squarify\n",
    "import gc\n",
    "import matplotlib\n",
    "import matplotlib.pyplot as plt\n",
    "import seaborn as sns\n",
    "import plotly.express as px\n",
    "\n",
    "import time\n",
    "import datetime\n",
    "from datetime import datetime\n",
    "import calendar\n",
    "\n",
    "from sklearn.pipeline import Pipeline\n",
    "from sklearn.preprocessing import StandardScaler, MinMaxScaler\n",
    "from sklearn.cluster import KMeans\n",
    "\n",
    "sns.set_style('white')\n",
    "\n",
    "\n",
    "pd.options.display.float_format = '{:,.2f}'.format"
   ]
  },
  {
   "cell_type": "code",
   "execution_count": 2,
   "metadata": {
    "ExecuteTime": {
     "end_time": "2020-09-16T14:27:11.143719Z",
     "start_time": "2020-09-16T14:24:56.591166Z"
    }
   },
   "outputs": [],
   "source": [
    "df_sorted = pd.read_pickle('../Datos-Easymoney/EasyMoney_base.pkl',compression='zip')"
   ]
  },
  {
   "cell_type": "code",
   "execution_count": 4,
   "metadata": {
    "ExecuteTime": {
     "end_time": "2020-09-13T18:02:00.515169Z",
     "start_time": "2020-09-13T18:02:00.496179Z"
    }
   },
   "outputs": [
    {
     "name": "stdout",
     "output_type": "stream",
     "text": [
      "<class 'pandas.core.frame.DataFrame'>\n",
      "Int64Index: 5962924 entries, 0 to 5962923\n",
      "Data columns (total 59 columns):\n",
      " #   Column                  Dtype         \n",
      "---  ------                  -----         \n",
      " 0   pk_cid                  int32         \n",
      " 1   pk_partition            datetime64[ns]\n",
      " 2   short_term_deposit      int8          \n",
      " 3   loans                   int8          \n",
      " 4   mortgage                int8          \n",
      " 5   funds                   int8          \n",
      " 6   securities              int8          \n",
      " 7   long_term_deposit       int8          \n",
      " 8   em_account_pp           int8          \n",
      " 9   credit_card             int8          \n",
      " 10  payroll                 float16       \n",
      " 11  pension_plan            float16       \n",
      " 12  payroll_account         int8          \n",
      " 13  emc_account             int8          \n",
      " 14  debit_card              int8          \n",
      " 15  em_account_p            int8          \n",
      " 16  em_acount               int8          \n",
      " 17  entry_date              datetime64[ns]\n",
      " 18  entry_channel           object        \n",
      " 19  active_customer         float16       \n",
      " 20  segment                 object        \n",
      " 21  country_id              object        \n",
      " 22  region_code             float16       \n",
      " 23  gender                  object        \n",
      " 24  age                     int8          \n",
      " 25  deceased                object        \n",
      " 26  salary                  float32       \n",
      " 27  dif_debit_card          float16       \n",
      " 28  dif_em_account_p        float16       \n",
      " 29  dif_em_account_pp       float16       \n",
      " 30  dif_em_acount           float16       \n",
      " 31  dif_emc_account         float16       \n",
      " 32  dif_payroll             float16       \n",
      " 33  dif_payroll_account     float16       \n",
      " 34  dif_funds               float16       \n",
      " 35  dif_long_term_deposit   float16       \n",
      " 36  dif_mortgage            float16       \n",
      " 37  dif_pension_plan        float16       \n",
      " 38  dif_securities          float16       \n",
      " 39  dif_short_term_deposit  float16       \n",
      " 40  dif_loans               float16       \n",
      " 41  dif_credit_card         float16       \n",
      " 42  mesesAlta               float16       \n",
      " 43  isNewClient             int8          \n",
      " 44  isActive                int8          \n",
      " 45  Provincia               object        \n",
      " 46  SalaryQtil              object        \n",
      " 47  totalAssets             float16       \n",
      " 48  totalCuentas            float16       \n",
      " 49  totalAhorro             float16       \n",
      " 50  totalFinanciacion       int8          \n",
      " 51  totalIngresos           float64       \n",
      " 52  totalBeneficio          float64       \n",
      " 53  hayAlta                 int64         \n",
      " 54  diasDesdeUltimaAlta     object        \n",
      " 55  diasDesdeUltimaAltaInt  int64         \n",
      " 56  hayBaja                 int64         \n",
      " 57  diasDesdeUltimaBaja     object        \n",
      " 58  diasDesdeUltimaBajaInt  int64         \n",
      "dtypes: datetime64[ns](2), float16(23), float32(1), float64(2), int32(1), int64(4), int8(17), object(9)\n",
      "memory usage: 1.2+ GB\n"
     ]
    }
   ],
   "source": [
    "df_sorted.info()"
   ]
  },
  {
   "cell_type": "code",
   "execution_count": 5,
   "metadata": {
    "ExecuteTime": {
     "end_time": "2020-09-13T18:02:07.704139Z",
     "start_time": "2020-09-13T18:02:07.701133Z"
    }
   },
   "outputs": [],
   "source": [
    "lista_mostrar=['pk_cid','pk_partition','isNewClient','isActive','totalAssets','totalCuentas','totalAhorro','totalFinanciacion','totalIngresos','totalBeneficio',\n",
    "               'hayAlta','diasDesdeUltimaAlta','hayBaja','diasDesdeUltimaBaja']"
   ]
  },
  {
   "cell_type": "code",
   "execution_count": 6,
   "metadata": {
    "ExecuteTime": {
     "end_time": "2020-09-13T18:02:09.974086Z",
     "start_time": "2020-09-13T18:02:09.944108Z"
    }
   },
   "outputs": [
    {
     "data": {
      "text/html": [
       "<div>\n",
       "<style scoped>\n",
       "    .dataframe tbody tr th:only-of-type {\n",
       "        vertical-align: middle;\n",
       "    }\n",
       "\n",
       "    .dataframe tbody tr th {\n",
       "        vertical-align: top;\n",
       "    }\n",
       "\n",
       "    .dataframe thead th {\n",
       "        text-align: right;\n",
       "    }\n",
       "</style>\n",
       "<table border=\"1\" class=\"dataframe\">\n",
       "  <thead>\n",
       "    <tr style=\"text-align: right;\">\n",
       "      <th></th>\n",
       "      <th>pk_cid</th>\n",
       "      <th>pk_partition</th>\n",
       "      <th>isNewClient</th>\n",
       "      <th>isActive</th>\n",
       "      <th>totalAssets</th>\n",
       "      <th>totalCuentas</th>\n",
       "      <th>totalAhorro</th>\n",
       "      <th>totalFinanciacion</th>\n",
       "      <th>totalIngresos</th>\n",
       "      <th>totalBeneficio</th>\n",
       "      <th>hayAlta</th>\n",
       "      <th>diasDesdeUltimaAlta</th>\n",
       "      <th>hayBaja</th>\n",
       "      <th>diasDesdeUltimaBaja</th>\n",
       "    </tr>\n",
       "  </thead>\n",
       "  <tbody>\n",
       "    <tr>\n",
       "      <th>5858307</th>\n",
       "      <td>1515194</td>\n",
       "      <td>2018-12-28</td>\n",
       "      <td>1</td>\n",
       "      <td>1</td>\n",
       "      <td>1.00</td>\n",
       "      <td>1.00</td>\n",
       "      <td>0.00</td>\n",
       "      <td>0</td>\n",
       "      <td>10.00</td>\n",
       "      <td>70.00</td>\n",
       "      <td>1</td>\n",
       "      <td>0 days 00:00:00</td>\n",
       "      <td>0</td>\n",
       "      <td>1 days 00:00:00</td>\n",
       "    </tr>\n",
       "    <tr>\n",
       "      <th>5858308</th>\n",
       "      <td>1515194</td>\n",
       "      <td>2019-01-28</td>\n",
       "      <td>0</td>\n",
       "      <td>1</td>\n",
       "      <td>3.00</td>\n",
       "      <td>2.00</td>\n",
       "      <td>1.00</td>\n",
       "      <td>0</td>\n",
       "      <td>50.00</td>\n",
       "      <td>70.00</td>\n",
       "      <td>1</td>\n",
       "      <td>0 days 00:00:00</td>\n",
       "      <td>0</td>\n",
       "      <td>1 days 00:00:00</td>\n",
       "    </tr>\n",
       "    <tr>\n",
       "      <th>5858309</th>\n",
       "      <td>1515194</td>\n",
       "      <td>2019-02-28</td>\n",
       "      <td>0</td>\n",
       "      <td>1</td>\n",
       "      <td>3.00</td>\n",
       "      <td>2.00</td>\n",
       "      <td>1.00</td>\n",
       "      <td>0</td>\n",
       "      <td>0.00</td>\n",
       "      <td>70.00</td>\n",
       "      <td>0</td>\n",
       "      <td>31 days 00:00:00</td>\n",
       "      <td>0</td>\n",
       "      <td>1 days 00:00:00</td>\n",
       "    </tr>\n",
       "    <tr>\n",
       "      <th>5858310</th>\n",
       "      <td>1515194</td>\n",
       "      <td>2019-03-28</td>\n",
       "      <td>0</td>\n",
       "      <td>1</td>\n",
       "      <td>4.00</td>\n",
       "      <td>3.00</td>\n",
       "      <td>1.00</td>\n",
       "      <td>0</td>\n",
       "      <td>10.00</td>\n",
       "      <td>70.00</td>\n",
       "      <td>1</td>\n",
       "      <td>0 days 00:00:00</td>\n",
       "      <td>0</td>\n",
       "      <td>1 days 00:00:00</td>\n",
       "    </tr>\n",
       "    <tr>\n",
       "      <th>5858311</th>\n",
       "      <td>1515194</td>\n",
       "      <td>2019-04-28</td>\n",
       "      <td>0</td>\n",
       "      <td>1</td>\n",
       "      <td>4.00</td>\n",
       "      <td>3.00</td>\n",
       "      <td>1.00</td>\n",
       "      <td>0</td>\n",
       "      <td>0.00</td>\n",
       "      <td>70.00</td>\n",
       "      <td>0</td>\n",
       "      <td>31 days 00:00:00</td>\n",
       "      <td>0</td>\n",
       "      <td>1 days 00:00:00</td>\n",
       "    </tr>\n",
       "    <tr>\n",
       "      <th>5858312</th>\n",
       "      <td>1515194</td>\n",
       "      <td>2019-05-28</td>\n",
       "      <td>0</td>\n",
       "      <td>1</td>\n",
       "      <td>4.00</td>\n",
       "      <td>3.00</td>\n",
       "      <td>1.00</td>\n",
       "      <td>0</td>\n",
       "      <td>0.00</td>\n",
       "      <td>70.00</td>\n",
       "      <td>0</td>\n",
       "      <td>61 days 00:00:00</td>\n",
       "      <td>0</td>\n",
       "      <td>1 days 00:00:00</td>\n",
       "    </tr>\n",
       "  </tbody>\n",
       "</table>\n",
       "</div>"
      ],
      "text/plain": [
       "          pk_cid pk_partition  isNewClient  isActive  totalAssets  \\\n",
       "5858307  1515194   2018-12-28            1         1         1.00   \n",
       "5858308  1515194   2019-01-28            0         1         3.00   \n",
       "5858309  1515194   2019-02-28            0         1         3.00   \n",
       "5858310  1515194   2019-03-28            0         1         4.00   \n",
       "5858311  1515194   2019-04-28            0         1         4.00   \n",
       "5858312  1515194   2019-05-28            0         1         4.00   \n",
       "\n",
       "         totalCuentas  totalAhorro  totalFinanciacion  totalIngresos  \\\n",
       "5858307          1.00         0.00                  0          10.00   \n",
       "5858308          2.00         1.00                  0          50.00   \n",
       "5858309          2.00         1.00                  0           0.00   \n",
       "5858310          3.00         1.00                  0          10.00   \n",
       "5858311          3.00         1.00                  0           0.00   \n",
       "5858312          3.00         1.00                  0           0.00   \n",
       "\n",
       "         totalBeneficio  hayAlta diasDesdeUltimaAlta  hayBaja  \\\n",
       "5858307           70.00        1     0 days 00:00:00        0   \n",
       "5858308           70.00        1     0 days 00:00:00        0   \n",
       "5858309           70.00        0    31 days 00:00:00        0   \n",
       "5858310           70.00        1     0 days 00:00:00        0   \n",
       "5858311           70.00        0    31 days 00:00:00        0   \n",
       "5858312           70.00        0    61 days 00:00:00        0   \n",
       "\n",
       "        diasDesdeUltimaBaja  \n",
       "5858307     1 days 00:00:00  \n",
       "5858308     1 days 00:00:00  \n",
       "5858309     1 days 00:00:00  \n",
       "5858310     1 days 00:00:00  \n",
       "5858311     1 days 00:00:00  \n",
       "5858312     1 days 00:00:00  "
      ]
     },
     "execution_count": 6,
     "metadata": {},
     "output_type": "execute_result"
    }
   ],
   "source": [
    "df_sorted[df_sorted['pk_cid']==1515194][lista_mostrar]"
   ]
  },
  {
   "cell_type": "markdown",
   "metadata": {},
   "source": [
    "# Segmentamos con K-Means"
   ]
  },
  {
   "cell_type": "code",
   "execution_count": 7,
   "metadata": {
    "ExecuteTime": {
     "end_time": "2020-09-13T18:02:17.432702Z",
     "start_time": "2020-09-13T18:02:17.158843Z"
    }
   },
   "outputs": [],
   "source": [
    "#clientes_actuales=df_sorted[(df_sorted['pk_partition']=='2019-05-28') &\n",
    "#          (df_sorted['isActive']==1)]\n",
    "\n",
    "clientes_actuales=df_sorted[(df_sorted['pk_partition']=='2019-05-28')]"
   ]
  },
  {
   "cell_type": "code",
   "execution_count": 8,
   "metadata": {
    "ExecuteTime": {
     "end_time": "2020-09-13T18:02:20.775129Z",
     "start_time": "2020-09-13T18:02:20.772131Z"
    }
   },
   "outputs": [],
   "source": [
    "#variable_segmentacion=['totalAssets','totalCuentas','totalAhorro','totalFinanciacion','salary','age']\n",
    "variable_segmentacion=['totalAssets','totalCuentas','totalAhorro','totalFinanciacion','totalBeneficio',\n",
    "                       'salary','age','diasDesdeUltimaAltaInt','diasDesdeUltimaBajaInt']"
   ]
  },
  {
   "cell_type": "markdown",
   "metadata": {},
   "source": [
    "# Numero de agrupaciones para estas variables:"
   ]
  },
  {
   "cell_type": "code",
   "execution_count": 22,
   "metadata": {
    "ExecuteTime": {
     "end_time": "2020-09-07T14:56:39.419766Z",
     "start_time": "2020-09-07T14:49:14.476732Z"
    }
   },
   "outputs": [
    {
     "name": "stderr",
     "output_type": "stream",
     "text": [
      "C:\\ProgramData\\Anaconda3\\lib\\site-packages\\ipykernel_launcher.py:11: SettingWithCopyWarning:\n",
      "\n",
      "\n",
      "A value is trying to be set on a copy of a slice from a DataFrame.\n",
      "Try using .loc[row_indexer,col_indexer] = value instead\n",
      "\n",
      "See the caveats in the documentation: https://pandas.pydata.org/pandas-docs/stable/user_guide/indexing.html#returning-a-view-versus-a-copy\n",
      "\n",
      "C:\\ProgramData\\Anaconda3\\lib\\site-packages\\ipykernel_launcher.py:11: SettingWithCopyWarning:\n",
      "\n",
      "\n",
      "A value is trying to be set on a copy of a slice from a DataFrame.\n",
      "Try using .loc[row_indexer,col_indexer] = value instead\n",
      "\n",
      "See the caveats in the documentation: https://pandas.pydata.org/pandas-docs/stable/user_guide/indexing.html#returning-a-view-versus-a-copy\n",
      "\n",
      "C:\\ProgramData\\Anaconda3\\lib\\site-packages\\ipykernel_launcher.py:11: SettingWithCopyWarning:\n",
      "\n",
      "\n",
      "A value is trying to be set on a copy of a slice from a DataFrame.\n",
      "Try using .loc[row_indexer,col_indexer] = value instead\n",
      "\n",
      "See the caveats in the documentation: https://pandas.pydata.org/pandas-docs/stable/user_guide/indexing.html#returning-a-view-versus-a-copy\n",
      "\n",
      "C:\\ProgramData\\Anaconda3\\lib\\site-packages\\ipykernel_launcher.py:11: SettingWithCopyWarning:\n",
      "\n",
      "\n",
      "A value is trying to be set on a copy of a slice from a DataFrame.\n",
      "Try using .loc[row_indexer,col_indexer] = value instead\n",
      "\n",
      "See the caveats in the documentation: https://pandas.pydata.org/pandas-docs/stable/user_guide/indexing.html#returning-a-view-versus-a-copy\n",
      "\n",
      "C:\\ProgramData\\Anaconda3\\lib\\site-packages\\ipykernel_launcher.py:11: SettingWithCopyWarning:\n",
      "\n",
      "\n",
      "A value is trying to be set on a copy of a slice from a DataFrame.\n",
      "Try using .loc[row_indexer,col_indexer] = value instead\n",
      "\n",
      "See the caveats in the documentation: https://pandas.pydata.org/pandas-docs/stable/user_guide/indexing.html#returning-a-view-versus-a-copy\n",
      "\n",
      "C:\\ProgramData\\Anaconda3\\lib\\site-packages\\ipykernel_launcher.py:11: SettingWithCopyWarning:\n",
      "\n",
      "\n",
      "A value is trying to be set on a copy of a slice from a DataFrame.\n",
      "Try using .loc[row_indexer,col_indexer] = value instead\n",
      "\n",
      "See the caveats in the documentation: https://pandas.pydata.org/pandas-docs/stable/user_guide/indexing.html#returning-a-view-versus-a-copy\n",
      "\n",
      "C:\\ProgramData\\Anaconda3\\lib\\site-packages\\ipykernel_launcher.py:11: SettingWithCopyWarning:\n",
      "\n",
      "\n",
      "A value is trying to be set on a copy of a slice from a DataFrame.\n",
      "Try using .loc[row_indexer,col_indexer] = value instead\n",
      "\n",
      "See the caveats in the documentation: https://pandas.pydata.org/pandas-docs/stable/user_guide/indexing.html#returning-a-view-versus-a-copy\n",
      "\n",
      "C:\\ProgramData\\Anaconda3\\lib\\site-packages\\ipykernel_launcher.py:11: SettingWithCopyWarning:\n",
      "\n",
      "\n",
      "A value is trying to be set on a copy of a slice from a DataFrame.\n",
      "Try using .loc[row_indexer,col_indexer] = value instead\n",
      "\n",
      "See the caveats in the documentation: https://pandas.pydata.org/pandas-docs/stable/user_guide/indexing.html#returning-a-view-versus-a-copy\n",
      "\n",
      "C:\\ProgramData\\Anaconda3\\lib\\site-packages\\ipykernel_launcher.py:11: SettingWithCopyWarning:\n",
      "\n",
      "\n",
      "A value is trying to be set on a copy of a slice from a DataFrame.\n",
      "Try using .loc[row_indexer,col_indexer] = value instead\n",
      "\n",
      "See the caveats in the documentation: https://pandas.pydata.org/pandas-docs/stable/user_guide/indexing.html#returning-a-view-versus-a-copy\n",
      "\n",
      "C:\\ProgramData\\Anaconda3\\lib\\site-packages\\ipykernel_launcher.py:11: SettingWithCopyWarning:\n",
      "\n",
      "\n",
      "A value is trying to be set on a copy of a slice from a DataFrame.\n",
      "Try using .loc[row_indexer,col_indexer] = value instead\n",
      "\n",
      "See the caveats in the documentation: https://pandas.pydata.org/pandas-docs/stable/user_guide/indexing.html#returning-a-view-versus-a-copy\n",
      "\n",
      "C:\\ProgramData\\Anaconda3\\lib\\site-packages\\ipykernel_launcher.py:11: SettingWithCopyWarning:\n",
      "\n",
      "\n",
      "A value is trying to be set on a copy of a slice from a DataFrame.\n",
      "Try using .loc[row_indexer,col_indexer] = value instead\n",
      "\n",
      "See the caveats in the documentation: https://pandas.pydata.org/pandas-docs/stable/user_guide/indexing.html#returning-a-view-versus-a-copy\n",
      "\n",
      "C:\\ProgramData\\Anaconda3\\lib\\site-packages\\ipykernel_launcher.py:11: SettingWithCopyWarning:\n",
      "\n",
      "\n",
      "A value is trying to be set on a copy of a slice from a DataFrame.\n",
      "Try using .loc[row_indexer,col_indexer] = value instead\n",
      "\n",
      "See the caveats in the documentation: https://pandas.pydata.org/pandas-docs/stable/user_guide/indexing.html#returning-a-view-versus-a-copy\n",
      "\n",
      "C:\\ProgramData\\Anaconda3\\lib\\site-packages\\ipykernel_launcher.py:11: SettingWithCopyWarning:\n",
      "\n",
      "\n",
      "A value is trying to be set on a copy of a slice from a DataFrame.\n",
      "Try using .loc[row_indexer,col_indexer] = value instead\n",
      "\n",
      "See the caveats in the documentation: https://pandas.pydata.org/pandas-docs/stable/user_guide/indexing.html#returning-a-view-versus-a-copy\n",
      "\n",
      "C:\\ProgramData\\Anaconda3\\lib\\site-packages\\ipykernel_launcher.py:11: SettingWithCopyWarning:\n",
      "\n",
      "\n",
      "A value is trying to be set on a copy of a slice from a DataFrame.\n",
      "Try using .loc[row_indexer,col_indexer] = value instead\n",
      "\n",
      "See the caveats in the documentation: https://pandas.pydata.org/pandas-docs/stable/user_guide/indexing.html#returning-a-view-versus-a-copy\n",
      "\n",
      "C:\\ProgramData\\Anaconda3\\lib\\site-packages\\ipykernel_launcher.py:11: SettingWithCopyWarning:\n",
      "\n",
      "\n",
      "A value is trying to be set on a copy of a slice from a DataFrame.\n",
      "Try using .loc[row_indexer,col_indexer] = value instead\n",
      "\n",
      "See the caveats in the documentation: https://pandas.pydata.org/pandas-docs/stable/user_guide/indexing.html#returning-a-view-versus-a-copy\n",
      "\n",
      "C:\\ProgramData\\Anaconda3\\lib\\site-packages\\ipykernel_launcher.py:11: SettingWithCopyWarning:\n",
      "\n",
      "\n",
      "A value is trying to be set on a copy of a slice from a DataFrame.\n",
      "Try using .loc[row_indexer,col_indexer] = value instead\n",
      "\n",
      "See the caveats in the documentation: https://pandas.pydata.org/pandas-docs/stable/user_guide/indexing.html#returning-a-view-versus-a-copy\n",
      "\n",
      "C:\\ProgramData\\Anaconda3\\lib\\site-packages\\ipykernel_launcher.py:11: SettingWithCopyWarning:\n",
      "\n",
      "\n",
      "A value is trying to be set on a copy of a slice from a DataFrame.\n",
      "Try using .loc[row_indexer,col_indexer] = value instead\n",
      "\n",
      "See the caveats in the documentation: https://pandas.pydata.org/pandas-docs/stable/user_guide/indexing.html#returning-a-view-versus-a-copy\n",
      "\n",
      "C:\\ProgramData\\Anaconda3\\lib\\site-packages\\ipykernel_launcher.py:11: SettingWithCopyWarning:\n",
      "\n",
      "\n",
      "A value is trying to be set on a copy of a slice from a DataFrame.\n",
      "Try using .loc[row_indexer,col_indexer] = value instead\n",
      "\n",
      "See the caveats in the documentation: https://pandas.pydata.org/pandas-docs/stable/user_guide/indexing.html#returning-a-view-versus-a-copy\n",
      "\n",
      "C:\\ProgramData\\Anaconda3\\lib\\site-packages\\ipykernel_launcher.py:11: SettingWithCopyWarning:\n",
      "\n",
      "\n",
      "A value is trying to be set on a copy of a slice from a DataFrame.\n",
      "Try using .loc[row_indexer,col_indexer] = value instead\n",
      "\n",
      "See the caveats in the documentation: https://pandas.pydata.org/pandas-docs/stable/user_guide/indexing.html#returning-a-view-versus-a-copy\n",
      "\n"
     ]
    },
    {
     "data": {
      "image/png": "[encoded data removed]",
      "text/plain": [
       "<Figure size 720x360 with 1 Axes>"
      ]
     },
     "metadata": {},
     "output_type": "display_data"
    }
   ],
   "source": [
    "sns.distributions._has_statsmodels = True\n",
    "sse = {}\n",
    "\n",
    "for k in range(1, 20):\n",
    "    pipe = Pipeline(\n",
    "            steps=[\n",
    "                ('StandardScaler', StandardScaler()),\n",
    "                ('KMeans', KMeans(n_clusters=k))\n",
    "            ]\n",
    "        ).fit(clientes_actuales[variable_segmentacion])\n",
    "    clientes_actuales['Cluster'] = pipe['KMeans'].labels_\n",
    "    sse[k] = pipe['KMeans'].inertia_\n",
    "    \n",
    "plt.figure(figsize=(10, 5))\n",
    "plt.plot(list(sse.keys()), list(sse.values()))\n",
    "plt.xlabel('Number of cluster')\n",
    "plt.show()"
   ]
  },
  {
   "cell_type": "markdown",
   "metadata": {},
   "source": [
    "Mas o menos estara en 7 u 8 grupos."
   ]
  },
  {
   "cell_type": "code",
   "execution_count": 9,
   "metadata": {
    "ExecuteTime": {
     "end_time": "2020-09-13T18:02:29.705575Z",
     "start_time": "2020-09-13T18:02:29.702576Z"
    }
   },
   "outputs": [],
   "source": [
    "pipe = Pipeline(\n",
    "        steps=[\n",
    "            ('StandardScaler', StandardScaler()),\n",
    "            ('KMeans', KMeans(n_clusters=8))\n",
    "        ]\n",
    ")"
   ]
  },
  {
   "cell_type": "code",
   "execution_count": 10,
   "metadata": {
    "ExecuteTime": {
     "end_time": "2020-09-13T18:02:48.099512Z",
     "start_time": "2020-09-13T18:02:32.410469Z"
    }
   },
   "outputs": [
    {
     "data": {
      "text/plain": [
       "Pipeline(memory=None,\n",
       "         steps=[('StandardScaler',\n",
       "                 StandardScaler(copy=True, with_mean=True, with_std=True)),\n",
       "                ('KMeans',\n",
       "                 KMeans(algorithm='auto', copy_x=True, init='k-means++',\n",
       "                        max_iter=300, n_clusters=8, n_init=10, n_jobs=None,\n",
       "                        precompute_distances='auto', random_state=None,\n",
       "                        tol=0.0001, verbose=0))],\n",
       "         verbose=False)"
      ]
     },
     "execution_count": 10,
     "metadata": {},
     "output_type": "execute_result"
    }
   ],
   "source": [
    "pipe.fit(clientes_actuales[variable_segmentacion])"
   ]
  },
  {
   "cell_type": "code",
   "execution_count": 11,
   "metadata": {
    "ExecuteTime": {
     "end_time": "2020-09-13T18:02:51.349492Z",
     "start_time": "2020-09-13T18:02:51.169179Z"
    }
   },
   "outputs": [
    {
     "name": "stderr",
     "output_type": "stream",
     "text": [
      "C:\\ProgramData\\Anaconda3\\lib\\site-packages\\ipykernel_launcher.py:1: SettingWithCopyWarning:\n",
      "\n",
      "\n",
      "A value is trying to be set on a copy of a slice from a DataFrame.\n",
      "Try using .loc[row_indexer,col_indexer] = value instead\n",
      "\n",
      "See the caveats in the documentation: https://pandas.pydata.org/pandas-docs/stable/user_guide/indexing.html#returning-a-view-versus-a-copy\n",
      "\n"
     ]
    }
   ],
   "source": [
    "clientes_actuales['Cluster'] = pipe.predict(clientes_actuales[variable_segmentacion])"
   ]
  },
  {
   "cell_type": "code",
   "execution_count": 12,
   "metadata": {
    "ExecuteTime": {
     "end_time": "2020-09-13T18:02:57.341634Z",
     "start_time": "2020-09-13T18:02:57.248527Z"
    }
   },
   "outputs": [
    {
     "data": {
      "text/html": [
       "<div>\n",
       "<style scoped>\n",
       "    .dataframe tbody tr th:only-of-type {\n",
       "        vertical-align: middle;\n",
       "    }\n",
       "\n",
       "    .dataframe tbody tr th {\n",
       "        vertical-align: top;\n",
       "    }\n",
       "\n",
       "    .dataframe thead th {\n",
       "        text-align: right;\n",
       "    }\n",
       "</style>\n",
       "<table border=\"1\" class=\"dataframe\">\n",
       "  <thead>\n",
       "    <tr style=\"text-align: right;\">\n",
       "      <th></th>\n",
       "      <th>totalAssets</th>\n",
       "      <th>totalCuentas</th>\n",
       "      <th>totalAhorro</th>\n",
       "      <th>totalFinanciacion</th>\n",
       "      <th>totalBeneficio</th>\n",
       "      <th>diasDesdeUltimaAltaInt</th>\n",
       "      <th>diasDesdeUltimaBajaInt</th>\n",
       "      <th>salary</th>\n",
       "      <th>age</th>\n",
       "      <th>Cluster</th>\n",
       "    </tr>\n",
       "    <tr>\n",
       "      <th>Cluster</th>\n",
       "      <th></th>\n",
       "      <th></th>\n",
       "      <th></th>\n",
       "      <th></th>\n",
       "      <th></th>\n",
       "      <th></th>\n",
       "      <th></th>\n",
       "      <th></th>\n",
       "      <th></th>\n",
       "      <th></th>\n",
       "    </tr>\n",
       "  </thead>\n",
       "  <tbody>\n",
       "    <tr>\n",
       "      <th>0</th>\n",
       "      <td>3.45</td>\n",
       "      <td>2.45</td>\n",
       "      <td>1.00</td>\n",
       "      <td>0.00</td>\n",
       "      <td>91.32</td>\n",
       "      <td>106.35</td>\n",
       "      <td>94.63</td>\n",
       "      <td>86,346.30</td>\n",
       "      <td>40.16</td>\n",
       "      <td>21752</td>\n",
       "    </tr>\n",
       "    <tr>\n",
       "      <th>1</th>\n",
       "      <td>1.08</td>\n",
       "      <td>1.08</td>\n",
       "      <td>0.00</td>\n",
       "      <td>0.00</td>\n",
       "      <td>3.03</td>\n",
       "      <td>6.77</td>\n",
       "      <td>3.87</td>\n",
       "      <td>82,164.40</td>\n",
       "      <td>26.02</td>\n",
       "      <td>183816</td>\n",
       "    </tr>\n",
       "    <tr>\n",
       "      <th>2</th>\n",
       "      <td>0.98</td>\n",
       "      <td>0.95</td>\n",
       "      <td>0.03</td>\n",
       "      <td>0.00</td>\n",
       "      <td>10.30</td>\n",
       "      <td>41.39</td>\n",
       "      <td>13.30</td>\n",
       "      <td>69,962.76</td>\n",
       "      <td>55.84</td>\n",
       "      <td>41935</td>\n",
       "    </tr>\n",
       "    <tr>\n",
       "      <th>3</th>\n",
       "      <td>1.08</td>\n",
       "      <td>1.05</td>\n",
       "      <td>0.03</td>\n",
       "      <td>0.00</td>\n",
       "      <td>26.29</td>\n",
       "      <td>209.09</td>\n",
       "      <td>273.02</td>\n",
       "      <td>94,312.48</td>\n",
       "      <td>35.66</td>\n",
       "      <td>25533</td>\n",
       "    </tr>\n",
       "    <tr>\n",
       "      <th>4</th>\n",
       "      <td>3.89</td>\n",
       "      <td>2.35</td>\n",
       "      <td>0.54</td>\n",
       "      <td>1.00</td>\n",
       "      <td>124.49</td>\n",
       "      <td>89.09</td>\n",
       "      <td>97.51</td>\n",
       "      <td>101,764.44</td>\n",
       "      <td>42.07</td>\n",
       "      <td>4816</td>\n",
       "    </tr>\n",
       "    <tr>\n",
       "      <th>5</th>\n",
       "      <td>0.00</td>\n",
       "      <td>0.00</td>\n",
       "      <td>0.00</td>\n",
       "      <td>0.00</td>\n",
       "      <td>0.58</td>\n",
       "      <td>3.88</td>\n",
       "      <td>4.16</td>\n",
       "      <td>76,833.03</td>\n",
       "      <td>27.21</td>\n",
       "      <td>93535</td>\n",
       "    </tr>\n",
       "    <tr>\n",
       "      <th>6</th>\n",
       "      <td>1.08</td>\n",
       "      <td>1.07</td>\n",
       "      <td>0.00</td>\n",
       "      <td>0.00</td>\n",
       "      <td>13.72</td>\n",
       "      <td>248.46</td>\n",
       "      <td>6.50</td>\n",
       "      <td>50,418.47</td>\n",
       "      <td>25.28</td>\n",
       "      <td>71538</td>\n",
       "    </tr>\n",
       "    <tr>\n",
       "      <th>7</th>\n",
       "      <td>0.83</td>\n",
       "      <td>0.79</td>\n",
       "      <td>0.01</td>\n",
       "      <td>0.03</td>\n",
       "      <td>6.86</td>\n",
       "      <td>40.04</td>\n",
       "      <td>30.19</td>\n",
       "      <td>9,968,760.00</td>\n",
       "      <td>32.54</td>\n",
       "      <td>70</td>\n",
       "    </tr>\n",
       "  </tbody>\n",
       "</table>\n",
       "</div>"
      ],
      "text/plain": [
       "         totalAssets  totalCuentas  totalAhorro  totalFinanciacion  \\\n",
       "Cluster                                                              \n",
       "0               3.45          2.45         1.00               0.00   \n",
       "1               1.08          1.08         0.00               0.00   \n",
       "2               0.98          0.95         0.03               0.00   \n",
       "3               1.08          1.05         0.03               0.00   \n",
       "4               3.89          2.35         0.54               1.00   \n",
       "5               0.00          0.00         0.00               0.00   \n",
       "6               1.08          1.07         0.00               0.00   \n",
       "7               0.83          0.79         0.01               0.03   \n",
       "\n",
       "         totalBeneficio  diasDesdeUltimaAltaInt  diasDesdeUltimaBajaInt  \\\n",
       "Cluster                                                                   \n",
       "0                 91.32                  106.35                   94.63   \n",
       "1                  3.03                    6.77                    3.87   \n",
       "2                 10.30                   41.39                   13.30   \n",
       "3                 26.29                  209.09                  273.02   \n",
       "4                124.49                   89.09                   97.51   \n",
       "5                  0.58                    3.88                    4.16   \n",
       "6                 13.72                  248.46                    6.50   \n",
       "7                  6.86                   40.04                   30.19   \n",
       "\n",
       "              salary   age  Cluster  \n",
       "Cluster                              \n",
       "0          86,346.30 40.16    21752  \n",
       "1          82,164.40 26.02   183816  \n",
       "2          69,962.76 55.84    41935  \n",
       "3          94,312.48 35.66    25533  \n",
       "4         101,764.44 42.07     4816  \n",
       "5          76,833.03 27.21    93535  \n",
       "6          50,418.47 25.28    71538  \n",
       "7       9,968,760.00 32.54       70  "
      ]
     },
     "execution_count": 12,
     "metadata": {},
     "output_type": "execute_result"
    }
   ],
   "source": [
    "clientes_actuales.groupby('Cluster').agg({\n",
    "                                         'totalAssets':np.mean,\n",
    "                                         'totalCuentas':np.mean,\n",
    "                                         'totalAhorro':np.mean,\n",
    "                                         'totalFinanciacion':np.mean,\n",
    "                                         'totalBeneficio':np.mean,\n",
    "                                         'diasDesdeUltimaAltaInt':np.mean,\n",
    "                                         'diasDesdeUltimaBajaInt':np.mean,\n",
    "                                         'salary':np.mean,\n",
    "                                         'age':np.mean,\n",
    "                                         'Cluster':len\n",
    "                                        })"
   ]
  },
  {
   "cell_type": "code",
   "execution_count": 19,
   "metadata": {
    "ExecuteTime": {
     "end_time": "2020-09-13T20:08:25.038862Z",
     "start_time": "2020-09-13T20:08:02.976565Z"
    }
   },
   "outputs": [],
   "source": [
    "clientes_actuales.to_csv('../Datos-Easymoney/clientes_actuales.csv', index=False)"
   ]
  },
  {
   "cell_type": "code",
   "execution_count": 18,
   "metadata": {
    "ExecuteTime": {
     "end_time": "2020-09-13T20:02:21.681078Z",
     "start_time": "2020-09-13T20:02:21.653080Z"
    }
   },
   "outputs": [],
   "source": [
    "clientes_actuales.sample(100).to_csv('../Datos-Easymoney/clientes_actuales_test.csv', index=False)"
   ]
  },
  {
   "cell_type": "code",
   "execution_count": 15,
   "metadata": {
    "ExecuteTime": {
     "end_time": "2020-09-13T18:28:34.280492Z",
     "start_time": "2020-09-13T18:28:33.970674Z"
    }
   },
   "outputs": [
    {
     "name": "stdout",
     "output_type": "stream",
     "text": [
      "<class 'pandas.core.frame.DataFrame'>\n",
      "Int64Index: 442995 entries, 8 to 5962923\n",
      "Data columns (total 60 columns):\n",
      " #   Column                  Non-Null Count   Dtype         \n",
      "---  ------                  --------------   -----         \n",
      " 0   pk_cid                  442995 non-null  int32         \n",
      " 1   pk_partition            442995 non-null  datetime64[ns]\n",
      " 2   short_term_deposit      442995 non-null  int8          \n",
      " 3   loans                   442995 non-null  int8          \n",
      " 4   mortgage                442995 non-null  int8          \n",
      " 5   funds                   442995 non-null  int8          \n",
      " 6   securities              442995 non-null  int8          \n",
      " 7   long_term_deposit       442995 non-null  int8          \n",
      " 8   em_account_pp           442995 non-null  int8          \n",
      " 9   credit_card             442995 non-null  int8          \n",
      " 10  payroll                 442995 non-null  float16       \n",
      " 11  pension_plan            442995 non-null  float16       \n",
      " 12  payroll_account         442995 non-null  int8          \n",
      " 13  emc_account             442995 non-null  int8          \n",
      " 14  debit_card              442995 non-null  int8          \n",
      " 15  em_account_p            442995 non-null  int8          \n",
      " 16  em_acount               442995 non-null  int8          \n",
      " 17  entry_date              442995 non-null  datetime64[ns]\n",
      " 18  entry_channel           442995 non-null  object        \n",
      " 19  active_customer         442995 non-null  float16       \n",
      " 20  segment                 442995 non-null  object        \n",
      " 21  country_id              442995 non-null  object        \n",
      " 22  region_code             442995 non-null  float16       \n",
      " 23  gender                  442995 non-null  object        \n",
      " 24  age                     442995 non-null  int8          \n",
      " 25  deceased                442995 non-null  object        \n",
      " 26  salary                  442995 non-null  float32       \n",
      " 27  dif_debit_card          442995 non-null  float16       \n",
      " 28  dif_em_account_p        442995 non-null  float16       \n",
      " 29  dif_em_account_pp       442995 non-null  float16       \n",
      " 30  dif_em_acount           442995 non-null  float16       \n",
      " 31  dif_emc_account         442995 non-null  float16       \n",
      " 32  dif_payroll             442995 non-null  float16       \n",
      " 33  dif_payroll_account     442995 non-null  float16       \n",
      " 34  dif_funds               442995 non-null  float16       \n",
      " 35  dif_long_term_deposit   442995 non-null  float16       \n",
      " 36  dif_mortgage            442995 non-null  float16       \n",
      " 37  dif_pension_plan        442995 non-null  float16       \n",
      " 38  dif_securities          442995 non-null  float16       \n",
      " 39  dif_short_term_deposit  442995 non-null  float16       \n",
      " 40  dif_loans               442995 non-null  float16       \n",
      " 41  dif_credit_card         442995 non-null  float16       \n",
      " 42  mesesAlta               442995 non-null  float16       \n",
      " 43  isNewClient             442995 non-null  int8          \n",
      " 44  isActive                442995 non-null  int8          \n",
      " 45  Provincia               442995 non-null  object        \n",
      " 46  SalaryQtil              442995 non-null  object        \n",
      " 47  totalAssets             442995 non-null  float16       \n",
      " 48  totalCuentas            442995 non-null  float16       \n",
      " 49  totalAhorro             442995 non-null  float16       \n",
      " 50  totalFinanciacion       442995 non-null  int8          \n",
      " 51  totalIngresos           442995 non-null  float64       \n",
      " 52  totalBeneficio          442995 non-null  float64       \n",
      " 53  hayAlta                 442995 non-null  int64         \n",
      " 54  diasDesdeUltimaAlta     442995 non-null  object        \n",
      " 55  diasDesdeUltimaAltaInt  442995 non-null  int64         \n",
      " 56  hayBaja                 442995 non-null  int64         \n",
      " 57  diasDesdeUltimaBaja     442995 non-null  object        \n",
      " 58  diasDesdeUltimaBajaInt  442995 non-null  int64         \n",
      " 59  Cluster                 442995 non-null  int32         \n",
      "dtypes: datetime64[ns](2), float16(23), float32(1), float64(2), int32(2), int64(4), int8(17), object(9)\n",
      "memory usage: 92.5+ MB\n"
     ]
    }
   ],
   "source": [
    "clientes_actuales.info()"
   ]
  },
  {
   "cell_type": "markdown",
   "metadata": {},
   "source": [
    "# Trabajmos ya sobre el generado"
   ]
  },
  {
   "cell_type": "code",
   "execution_count": 3,
   "metadata": {
    "ExecuteTime": {
     "end_time": "2020-09-16T14:27:56.924349Z",
     "start_time": "2020-09-16T14:27:54.277453Z"
    }
   },
   "outputs": [],
   "source": [
    "clientes_actuales=pd.read_csv('../Datos-Easymoney/clientes_actuales.csv')"
   ]
  },
  {
   "cell_type": "code",
   "execution_count": 3,
   "metadata": {
    "ExecuteTime": {
     "end_time": "2020-09-14T08:07:48.344909Z",
     "start_time": "2020-09-14T08:07:48.266926Z"
    },
    "scrolled": true
   },
   "outputs": [
    {
     "data": {
      "text/html": [
       "<div>\n",
       "<style scoped>\n",
       "    .dataframe tbody tr th:only-of-type {\n",
       "        vertical-align: middle;\n",
       "    }\n",
       "\n",
       "    .dataframe tbody tr th {\n",
       "        vertical-align: top;\n",
       "    }\n",
       "\n",
       "    .dataframe thead th {\n",
       "        text-align: right;\n",
       "    }\n",
       "</style>\n",
       "<table border=\"1\" class=\"dataframe\">\n",
       "  <thead>\n",
       "    <tr style=\"text-align: right;\">\n",
       "      <th></th>\n",
       "      <th>totalAssets</th>\n",
       "      <th>totalCuentas</th>\n",
       "      <th>totalAhorro</th>\n",
       "      <th>totalFinanciacion</th>\n",
       "      <th>totalBeneficio</th>\n",
       "      <th>diasDesdeUltimaAltaInt</th>\n",
       "      <th>diasDesdeUltimaBajaInt</th>\n",
       "      <th>salary</th>\n",
       "      <th>age</th>\n",
       "      <th>Cluster</th>\n",
       "    </tr>\n",
       "    <tr>\n",
       "      <th>Cluster</th>\n",
       "      <th></th>\n",
       "      <th></th>\n",
       "      <th></th>\n",
       "      <th></th>\n",
       "      <th></th>\n",
       "      <th></th>\n",
       "      <th></th>\n",
       "      <th></th>\n",
       "      <th></th>\n",
       "      <th></th>\n",
       "    </tr>\n",
       "  </thead>\n",
       "  <tbody>\n",
       "    <tr>\n",
       "      <th>0</th>\n",
       "      <td>3.45</td>\n",
       "      <td>2.45</td>\n",
       "      <td>1.00</td>\n",
       "      <td>0.00</td>\n",
       "      <td>91.32</td>\n",
       "      <td>106.35</td>\n",
       "      <td>94.63</td>\n",
       "      <td>86,346.30</td>\n",
       "      <td>40.16</td>\n",
       "      <td>21752</td>\n",
       "    </tr>\n",
       "    <tr>\n",
       "      <th>1</th>\n",
       "      <td>1.08</td>\n",
       "      <td>1.08</td>\n",
       "      <td>0.00</td>\n",
       "      <td>0.00</td>\n",
       "      <td>3.03</td>\n",
       "      <td>6.77</td>\n",
       "      <td>3.87</td>\n",
       "      <td>82,164.40</td>\n",
       "      <td>26.02</td>\n",
       "      <td>183816</td>\n",
       "    </tr>\n",
       "    <tr>\n",
       "      <th>2</th>\n",
       "      <td>0.98</td>\n",
       "      <td>0.95</td>\n",
       "      <td>0.03</td>\n",
       "      <td>0.00</td>\n",
       "      <td>10.30</td>\n",
       "      <td>41.39</td>\n",
       "      <td>13.30</td>\n",
       "      <td>69,962.76</td>\n",
       "      <td>55.84</td>\n",
       "      <td>41935</td>\n",
       "    </tr>\n",
       "    <tr>\n",
       "      <th>3</th>\n",
       "      <td>1.09</td>\n",
       "      <td>1.05</td>\n",
       "      <td>0.03</td>\n",
       "      <td>0.00</td>\n",
       "      <td>26.29</td>\n",
       "      <td>209.09</td>\n",
       "      <td>273.02</td>\n",
       "      <td>94,312.48</td>\n",
       "      <td>35.66</td>\n",
       "      <td>25533</td>\n",
       "    </tr>\n",
       "    <tr>\n",
       "      <th>4</th>\n",
       "      <td>3.89</td>\n",
       "      <td>2.35</td>\n",
       "      <td>0.54</td>\n",
       "      <td>1.00</td>\n",
       "      <td>124.49</td>\n",
       "      <td>89.09</td>\n",
       "      <td>97.51</td>\n",
       "      <td>101,764.43</td>\n",
       "      <td>42.07</td>\n",
       "      <td>4816</td>\n",
       "    </tr>\n",
       "    <tr>\n",
       "      <th>5</th>\n",
       "      <td>0.00</td>\n",
       "      <td>0.00</td>\n",
       "      <td>0.00</td>\n",
       "      <td>0.00</td>\n",
       "      <td>0.58</td>\n",
       "      <td>3.88</td>\n",
       "      <td>4.16</td>\n",
       "      <td>76,833.03</td>\n",
       "      <td>27.21</td>\n",
       "      <td>93535</td>\n",
       "    </tr>\n",
       "    <tr>\n",
       "      <th>6</th>\n",
       "      <td>1.08</td>\n",
       "      <td>1.07</td>\n",
       "      <td>0.00</td>\n",
       "      <td>0.00</td>\n",
       "      <td>13.72</td>\n",
       "      <td>248.46</td>\n",
       "      <td>6.50</td>\n",
       "      <td>50,418.47</td>\n",
       "      <td>25.28</td>\n",
       "      <td>71538</td>\n",
       "    </tr>\n",
       "    <tr>\n",
       "      <th>7</th>\n",
       "      <td>0.83</td>\n",
       "      <td>0.79</td>\n",
       "      <td>0.01</td>\n",
       "      <td>0.03</td>\n",
       "      <td>6.86</td>\n",
       "      <td>40.04</td>\n",
       "      <td>30.19</td>\n",
       "      <td>9,968,759.67</td>\n",
       "      <td>32.54</td>\n",
       "      <td>70</td>\n",
       "    </tr>\n",
       "  </tbody>\n",
       "</table>\n",
       "</div>"
      ],
      "text/plain": [
       "         totalAssets  totalCuentas  totalAhorro  totalFinanciacion  \\\n",
       "Cluster                                                              \n",
       "0               3.45          2.45         1.00               0.00   \n",
       "1               1.08          1.08         0.00               0.00   \n",
       "2               0.98          0.95         0.03               0.00   \n",
       "3               1.09          1.05         0.03               0.00   \n",
       "4               3.89          2.35         0.54               1.00   \n",
       "5               0.00          0.00         0.00               0.00   \n",
       "6               1.08          1.07         0.00               0.00   \n",
       "7               0.83          0.79         0.01               0.03   \n",
       "\n",
       "         totalBeneficio  diasDesdeUltimaAltaInt  diasDesdeUltimaBajaInt  \\\n",
       "Cluster                                                                   \n",
       "0                 91.32                  106.35                   94.63   \n",
       "1                  3.03                    6.77                    3.87   \n",
       "2                 10.30                   41.39                   13.30   \n",
       "3                 26.29                  209.09                  273.02   \n",
       "4                124.49                   89.09                   97.51   \n",
       "5                  0.58                    3.88                    4.16   \n",
       "6                 13.72                  248.46                    6.50   \n",
       "7                  6.86                   40.04                   30.19   \n",
       "\n",
       "              salary   age  Cluster  \n",
       "Cluster                              \n",
       "0          86,346.30 40.16    21752  \n",
       "1          82,164.40 26.02   183816  \n",
       "2          69,962.76 55.84    41935  \n",
       "3          94,312.48 35.66    25533  \n",
       "4         101,764.43 42.07     4816  \n",
       "5          76,833.03 27.21    93535  \n",
       "6          50,418.47 25.28    71538  \n",
       "7       9,968,759.67 32.54       70  "
      ]
     },
     "execution_count": 3,
     "metadata": {},
     "output_type": "execute_result"
    }
   ],
   "source": [
    "clientes_actuales.groupby('Cluster').agg({\n",
    "                                         'totalAssets':np.mean,\n",
    "                                         'totalCuentas':np.mean,\n",
    "                                         'totalAhorro':np.mean,\n",
    "                                         'totalFinanciacion':np.mean,\n",
    "                                         'totalBeneficio':np.mean,\n",
    "                                         'diasDesdeUltimaAltaInt':np.mean,\n",
    "                                         'diasDesdeUltimaBajaInt':np.mean,\n",
    "                                         'salary':np.mean,\n",
    "                                         'age':np.mean,\n",
    "                                         'Cluster':len\n",
    "                                        })"
   ]
  },
  {
   "cell_type": "code",
   "execution_count": 4,
   "metadata": {
    "ExecuteTime": {
     "end_time": "2020-09-14T08:55:43.808886Z",
     "start_time": "2020-09-14T08:55:43.803891Z"
    }
   },
   "outputs": [],
   "source": [
    "# Easymoney product list\n",
    "productos_easymoney=['loans',\n",
    " 'mortgage',\n",
    " 'funds',\n",
    " 'securities',\n",
    " 'long_term_deposit',\n",
    " 'em_account_pp',\n",
    " 'credit_card',\n",
    " 'payroll',\n",
    " 'pension_plan',\n",
    " 'payroll_account',\n",
    " 'emc_account',\n",
    " 'debit_card',\n",
    " 'em_account_p',\n",
    " 'em_acount',\n",
    " 'short_term_deposit']"
   ]
  },
  {
   "cell_type": "code",
   "execution_count": 62,
   "metadata": {
    "ExecuteTime": {
     "end_time": "2020-09-14T09:08:45.674030Z",
     "start_time": "2020-09-14T09:08:45.382199Z"
    }
   },
   "outputs": [],
   "source": [
    "clientes_actuales_=clientes_actuales.pivot_table(index=['pk_partition','Cluster'], \n",
    "                                                 values=productos_easymoney,\n",
    "                                                aggfunc=[np.sum])"
   ]
  },
  {
   "cell_type": "code",
   "execution_count": 63,
   "metadata": {
    "ExecuteTime": {
     "end_time": "2020-09-14T09:08:46.099785Z",
     "start_time": "2020-09-14T09:08:46.092789Z"
    }
   },
   "outputs": [],
   "source": [
    "clientes_actuales_.columns=['credit_card',\n",
    "                            'debit_card','em_account_p','em_account_pp',\n",
    "                            'em_acount','emc_account','funds','loans',\n",
    "                            'long_term_deposit','mortgage','payroll','payroll_account',\n",
    "                            'pension_plan','securities','short_term_deposit']"
   ]
  },
  {
   "cell_type": "code",
   "execution_count": 64,
   "metadata": {
    "ExecuteTime": {
     "end_time": "2020-09-14T09:08:46.567515Z",
     "start_time": "2020-09-14T09:08:46.559520Z"
    }
   },
   "outputs": [],
   "source": [
    "clientes_actuales_.reset_index(drop=False,inplace=True)"
   ]
  },
  {
   "cell_type": "code",
   "execution_count": 65,
   "metadata": {
    "ExecuteTime": {
     "end_time": "2020-09-14T09:08:47.092213Z",
     "start_time": "2020-09-14T09:08:47.066228Z"
    }
   },
   "outputs": [
    {
     "data": {
      "text/html": [
       "<div>\n",
       "<style scoped>\n",
       "    .dataframe tbody tr th:only-of-type {\n",
       "        vertical-align: middle;\n",
       "    }\n",
       "\n",
       "    .dataframe tbody tr th {\n",
       "        vertical-align: top;\n",
       "    }\n",
       "\n",
       "    .dataframe thead th {\n",
       "        text-align: right;\n",
       "    }\n",
       "</style>\n",
       "<table border=\"1\" class=\"dataframe\">\n",
       "  <thead>\n",
       "    <tr style=\"text-align: right;\">\n",
       "      <th></th>\n",
       "      <th>pk_partition</th>\n",
       "      <th>Cluster</th>\n",
       "      <th>credit_card</th>\n",
       "      <th>debit_card</th>\n",
       "      <th>em_account_p</th>\n",
       "      <th>em_account_pp</th>\n",
       "      <th>em_acount</th>\n",
       "      <th>emc_account</th>\n",
       "      <th>funds</th>\n",
       "      <th>loans</th>\n",
       "      <th>long_term_deposit</th>\n",
       "      <th>mortgage</th>\n",
       "      <th>payroll</th>\n",
       "      <th>payroll_account</th>\n",
       "      <th>pension_plan</th>\n",
       "      <th>securities</th>\n",
       "      <th>short_term_deposit</th>\n",
       "    </tr>\n",
       "  </thead>\n",
       "  <tbody>\n",
       "    <tr>\n",
       "      <th>0</th>\n",
       "      <td>2019-05-28</td>\n",
       "      <td>0</td>\n",
       "      <td>0</td>\n",
       "      <td>11166</td>\n",
       "      <td>2</td>\n",
       "      <td>0</td>\n",
       "      <td>6048</td>\n",
       "      <td>6180</td>\n",
       "      <td>993</td>\n",
       "      <td>0</td>\n",
       "      <td>4202</td>\n",
       "      <td>11</td>\n",
       "      <td>14,393.00</td>\n",
       "      <td>15426</td>\n",
       "      <td>15,246.00</td>\n",
       "      <td>1337</td>\n",
       "      <td>2</td>\n",
       "    </tr>\n",
       "    <tr>\n",
       "      <th>1</th>\n",
       "      <td>2019-05-28</td>\n",
       "      <td>1</td>\n",
       "      <td>0</td>\n",
       "      <td>12130</td>\n",
       "      <td>0</td>\n",
       "      <td>0</td>\n",
       "      <td>179879</td>\n",
       "      <td>5141</td>\n",
       "      <td>21</td>\n",
       "      <td>0</td>\n",
       "      <td>35</td>\n",
       "      <td>0</td>\n",
       "      <td>2.00</td>\n",
       "      <td>1969</td>\n",
       "      <td>3.00</td>\n",
       "      <td>45</td>\n",
       "      <td>0</td>\n",
       "    </tr>\n",
       "    <tr>\n",
       "      <th>2</th>\n",
       "      <td>2019-05-28</td>\n",
       "      <td>2</td>\n",
       "      <td>0</td>\n",
       "      <td>5430</td>\n",
       "      <td>0</td>\n",
       "      <td>0</td>\n",
       "      <td>26891</td>\n",
       "      <td>6211</td>\n",
       "      <td>125</td>\n",
       "      <td>0</td>\n",
       "      <td>899</td>\n",
       "      <td>2</td>\n",
       "      <td>7.00</td>\n",
       "      <td>1239</td>\n",
       "      <td>16.00</td>\n",
       "      <td>147</td>\n",
       "      <td>0</td>\n",
       "    </tr>\n",
       "    <tr>\n",
       "      <th>3</th>\n",
       "      <td>2019-05-28</td>\n",
       "      <td>3</td>\n",
       "      <td>0</td>\n",
       "      <td>5457</td>\n",
       "      <td>0</td>\n",
       "      <td>0</td>\n",
       "      <td>14693</td>\n",
       "      <td>3611</td>\n",
       "      <td>62</td>\n",
       "      <td>0</td>\n",
       "      <td>643</td>\n",
       "      <td>0</td>\n",
       "      <td>25.00</td>\n",
       "      <td>3137</td>\n",
       "      <td>28.00</td>\n",
       "      <td>54</td>\n",
       "      <td>0</td>\n",
       "    </tr>\n",
       "    <tr>\n",
       "      <th>4</th>\n",
       "      <td>2019-05-28</td>\n",
       "      <td>4</td>\n",
       "      <td>4799</td>\n",
       "      <td>3210</td>\n",
       "      <td>0</td>\n",
       "      <td>0</td>\n",
       "      <td>1844</td>\n",
       "      <td>1770</td>\n",
       "      <td>102</td>\n",
       "      <td>30</td>\n",
       "      <td>245</td>\n",
       "      <td>10</td>\n",
       "      <td>1,905.00</td>\n",
       "      <td>2572</td>\n",
       "      <td>2,037.00</td>\n",
       "      <td>190</td>\n",
       "      <td>0</td>\n",
       "    </tr>\n",
       "    <tr>\n",
       "      <th>5</th>\n",
       "      <td>2019-05-28</td>\n",
       "      <td>5</td>\n",
       "      <td>0</td>\n",
       "      <td>0</td>\n",
       "      <td>0</td>\n",
       "      <td>0</td>\n",
       "      <td>0</td>\n",
       "      <td>0</td>\n",
       "      <td>3</td>\n",
       "      <td>0</td>\n",
       "      <td>32</td>\n",
       "      <td>0</td>\n",
       "      <td>0.00</td>\n",
       "      <td>0</td>\n",
       "      <td>22.00</td>\n",
       "      <td>9</td>\n",
       "      <td>0</td>\n",
       "    </tr>\n",
       "    <tr>\n",
       "      <th>6</th>\n",
       "      <td>2019-05-28</td>\n",
       "      <td>6</td>\n",
       "      <td>0</td>\n",
       "      <td>5860</td>\n",
       "      <td>0</td>\n",
       "      <td>0</td>\n",
       "      <td>66983</td>\n",
       "      <td>1835</td>\n",
       "      <td>9</td>\n",
       "      <td>0</td>\n",
       "      <td>73</td>\n",
       "      <td>0</td>\n",
       "      <td>0.00</td>\n",
       "      <td>2185</td>\n",
       "      <td>0.00</td>\n",
       "      <td>7</td>\n",
       "      <td>0</td>\n",
       "    </tr>\n",
       "    <tr>\n",
       "      <th>7</th>\n",
       "      <td>2019-05-28</td>\n",
       "      <td>7</td>\n",
       "      <td>2</td>\n",
       "      <td>8</td>\n",
       "      <td>0</td>\n",
       "      <td>0</td>\n",
       "      <td>42</td>\n",
       "      <td>3</td>\n",
       "      <td>0</td>\n",
       "      <td>0</td>\n",
       "      <td>0</td>\n",
       "      <td>0</td>\n",
       "      <td>1.00</td>\n",
       "      <td>1</td>\n",
       "      <td>1.00</td>\n",
       "      <td>0</td>\n",
       "      <td>0</td>\n",
       "    </tr>\n",
       "  </tbody>\n",
       "</table>\n",
       "</div>"
      ],
      "text/plain": [
       "  pk_partition  Cluster  credit_card  debit_card  em_account_p  em_account_pp  \\\n",
       "0   2019-05-28        0            0       11166             2              0   \n",
       "1   2019-05-28        1            0       12130             0              0   \n",
       "2   2019-05-28        2            0        5430             0              0   \n",
       "3   2019-05-28        3            0        5457             0              0   \n",
       "4   2019-05-28        4         4799        3210             0              0   \n",
       "5   2019-05-28        5            0           0             0              0   \n",
       "6   2019-05-28        6            0        5860             0              0   \n",
       "7   2019-05-28        7            2           8             0              0   \n",
       "\n",
       "   em_acount  emc_account  funds  loans  long_term_deposit  mortgage  \\\n",
       "0       6048         6180    993      0               4202        11   \n",
       "1     179879         5141     21      0                 35         0   \n",
       "2      26891         6211    125      0                899         2   \n",
       "3      14693         3611     62      0                643         0   \n",
       "4       1844         1770    102     30                245        10   \n",
       "5          0            0      3      0                 32         0   \n",
       "6      66983         1835      9      0                 73         0   \n",
       "7         42            3      0      0                  0         0   \n",
       "\n",
       "    payroll  payroll_account  pension_plan  securities  short_term_deposit  \n",
       "0 14,393.00            15426     15,246.00        1337                   2  \n",
       "1      2.00             1969          3.00          45                   0  \n",
       "2      7.00             1239         16.00         147                   0  \n",
       "3     25.00             3137         28.00          54                   0  \n",
       "4  1,905.00             2572      2,037.00         190                   0  \n",
       "5      0.00                0         22.00           9                   0  \n",
       "6      0.00             2185          0.00           7                   0  \n",
       "7      1.00                1          1.00           0                   0  "
      ]
     },
     "execution_count": 65,
     "metadata": {},
     "output_type": "execute_result"
    }
   ],
   "source": [
    "clientes_actuales_"
   ]
  },
  {
   "cell_type": "code",
   "execution_count": 66,
   "metadata": {
    "ExecuteTime": {
     "end_time": "2020-09-14T09:08:47.775053Z",
     "start_time": "2020-09-14T09:08:47.765061Z"
    }
   },
   "outputs": [],
   "source": [
    "clientes_actuales_=clientes_actuales_.melt(id_vars=['pk_partition','Cluster'],\n",
    "              value_vars=productos_easymoney,\n",
    "              var_name='Product',\n",
    "              value_name='Count')"
   ]
  },
  {
   "cell_type": "code",
   "execution_count": 67,
   "metadata": {
    "ExecuteTime": {
     "end_time": "2020-09-14T09:08:48.607649Z",
     "start_time": "2020-09-14T09:08:48.587660Z"
    }
   },
   "outputs": [
    {
     "data": {
      "text/html": [
       "<div>\n",
       "<style scoped>\n",
       "    .dataframe tbody tr th:only-of-type {\n",
       "        vertical-align: middle;\n",
       "    }\n",
       "\n",
       "    .dataframe tbody tr th {\n",
       "        vertical-align: top;\n",
       "    }\n",
       "\n",
       "    .dataframe thead th {\n",
       "        text-align: right;\n",
       "    }\n",
       "</style>\n",
       "<table border=\"1\" class=\"dataframe\">\n",
       "  <thead>\n",
       "    <tr style=\"text-align: right;\">\n",
       "      <th></th>\n",
       "      <th>pk_partition</th>\n",
       "      <th>Cluster</th>\n",
       "      <th>Product</th>\n",
       "      <th>Count</th>\n",
       "    </tr>\n",
       "  </thead>\n",
       "  <tbody>\n",
       "    <tr>\n",
       "      <th>0</th>\n",
       "      <td>2019-05-28</td>\n",
       "      <td>0</td>\n",
       "      <td>loans</td>\n",
       "      <td>0.00</td>\n",
       "    </tr>\n",
       "    <tr>\n",
       "      <th>1</th>\n",
       "      <td>2019-05-28</td>\n",
       "      <td>1</td>\n",
       "      <td>loans</td>\n",
       "      <td>0.00</td>\n",
       "    </tr>\n",
       "    <tr>\n",
       "      <th>2</th>\n",
       "      <td>2019-05-28</td>\n",
       "      <td>2</td>\n",
       "      <td>loans</td>\n",
       "      <td>0.00</td>\n",
       "    </tr>\n",
       "    <tr>\n",
       "      <th>3</th>\n",
       "      <td>2019-05-28</td>\n",
       "      <td>3</td>\n",
       "      <td>loans</td>\n",
       "      <td>0.00</td>\n",
       "    </tr>\n",
       "    <tr>\n",
       "      <th>4</th>\n",
       "      <td>2019-05-28</td>\n",
       "      <td>4</td>\n",
       "      <td>loans</td>\n",
       "      <td>30.00</td>\n",
       "    </tr>\n",
       "    <tr>\n",
       "      <th>...</th>\n",
       "      <td>...</td>\n",
       "      <td>...</td>\n",
       "      <td>...</td>\n",
       "      <td>...</td>\n",
       "    </tr>\n",
       "    <tr>\n",
       "      <th>115</th>\n",
       "      <td>2019-05-28</td>\n",
       "      <td>3</td>\n",
       "      <td>short_term_deposit</td>\n",
       "      <td>0.00</td>\n",
       "    </tr>\n",
       "    <tr>\n",
       "      <th>116</th>\n",
       "      <td>2019-05-28</td>\n",
       "      <td>4</td>\n",
       "      <td>short_term_deposit</td>\n",
       "      <td>0.00</td>\n",
       "    </tr>\n",
       "    <tr>\n",
       "      <th>117</th>\n",
       "      <td>2019-05-28</td>\n",
       "      <td>5</td>\n",
       "      <td>short_term_deposit</td>\n",
       "      <td>0.00</td>\n",
       "    </tr>\n",
       "    <tr>\n",
       "      <th>118</th>\n",
       "      <td>2019-05-28</td>\n",
       "      <td>6</td>\n",
       "      <td>short_term_deposit</td>\n",
       "      <td>0.00</td>\n",
       "    </tr>\n",
       "    <tr>\n",
       "      <th>119</th>\n",
       "      <td>2019-05-28</td>\n",
       "      <td>7</td>\n",
       "      <td>short_term_deposit</td>\n",
       "      <td>0.00</td>\n",
       "    </tr>\n",
       "  </tbody>\n",
       "</table>\n",
       "<p>120 rows × 4 columns</p>\n",
       "</div>"
      ],
      "text/plain": [
       "    pk_partition  Cluster             Product  Count\n",
       "0     2019-05-28        0               loans   0.00\n",
       "1     2019-05-28        1               loans   0.00\n",
       "2     2019-05-28        2               loans   0.00\n",
       "3     2019-05-28        3               loans   0.00\n",
       "4     2019-05-28        4               loans  30.00\n",
       "..           ...      ...                 ...    ...\n",
       "115   2019-05-28        3  short_term_deposit   0.00\n",
       "116   2019-05-28        4  short_term_deposit   0.00\n",
       "117   2019-05-28        5  short_term_deposit   0.00\n",
       "118   2019-05-28        6  short_term_deposit   0.00\n",
       "119   2019-05-28        7  short_term_deposit   0.00\n",
       "\n",
       "[120 rows x 4 columns]"
      ]
     },
     "execution_count": 67,
     "metadata": {},
     "output_type": "execute_result"
    }
   ],
   "source": [
    "clientes_actuales_"
   ]
  },
  {
   "cell_type": "code",
   "execution_count": 68,
   "metadata": {
    "ExecuteTime": {
     "end_time": "2020-09-14T09:08:50.437592Z",
     "start_time": "2020-09-14T09:08:49.789967Z"
    }
   },
   "outputs": [
    {
     "data": {
      "application/vnd.plotly.v1+json": {
       "config": {
        "plotlyServerURL": "https://plot.ly"
       },
       "data": [
        {
         "alignmentgroup": "True",
         "hovertemplate": "Product=loans<br>Cluster=%{x}<br>Count=%{y}<extra></extra>",
         "legendgroup": "loans",
         "marker": {
          "color": "#ef55f1"
         },
         "name": "loans",
         "offsetgroup": "loans",
         "orientation": "v",
         "showlegend": true,
         "textposition": "auto",
         "type": "bar",
         "x": [
          0,
          1,
          2,
          3,
          4,
          5,
          6,
          7
         ],
         "xaxis": "x",
         "y": [
          0,
          0,
          0,
          0,
          30,
          0,
          0,
          0
         ],
         "yaxis": "y"
        },
        {
         "alignmentgroup": "True",
         "hovertemplate": "Product=mortgage<br>Cluster=%{x}<br>Count=%{y}<extra></extra>",
         "legendgroup": "mortgage",
         "marker": {
          "color": "#fb84ce"
         },
         "name": "mortgage",
         "offsetgroup": "mortgage",
         "orientation": "v",
         "showlegend": true,
         "textposition": "auto",
         "type": "bar",
         "x": [
          0,
          1,
          2,
          3,
          4,
          5,
          6,
          7
         ],
         "xaxis": "x",
         "y": [
          11,
          0,
          2,
          0,
          10,
          0,
          0,
          0
         ],
         "yaxis": "y"
        },
        {
         "alignmentgroup": "True",
         "hovertemplate": "Product=funds<br>Cluster=%{x}<br>Count=%{y}<extra></extra>",
         "legendgroup": "funds",
         "marker": {
          "color": "#fbafa1"
         },
         "name": "funds",
         "offsetgroup": "funds",
         "orientation": "v",
         "showlegend": true,
         "textposition": "auto",
         "type": "bar",
         "x": [
          0,
          1,
          2,
          3,
          4,
          5,
          6,
          7
         ],
         "xaxis": "x",
         "y": [
          993,
          21,
          125,
          62,
          102,
          3,
          9,
          0
         ],
         "yaxis": "y"
        },
        {
         "alignmentgroup": "True",
         "hovertemplate": "Product=securities<br>Cluster=%{x}<br>Count=%{y}<extra></extra>",
         "legendgroup": "securities",
         "marker": {
          "color": "#fcd471"
         },
         "name": "securities",
         "offsetgroup": "securities",
         "orientation": "v",
         "showlegend": true,
         "textposition": "auto",
         "type": "bar",
         "x": [
          0,
          1,
          2,
          3,
          4,
          5,
          6,
          7
         ],
         "xaxis": "x",
         "y": [
          1337,
          45,
          147,
          54,
          190,
          9,
          7,
          0
         ],
         "yaxis": "y"
        },
        {
         "alignmentgroup": "True",
         "hovertemplate": "Product=long_term_deposit<br>Cluster=%{x}<br>Count=%{y}<extra></extra>",
         "legendgroup": "long_term_deposit",
         "marker": {
          "color": "#f0ed35"
         },
         "name": "long_term_deposit",
         "offsetgroup": "long_term_deposit",
         "orientation": "v",
         "showlegend": true,
         "textposition": "auto",
         "type": "bar",
         "x": [
          0,
          1,
          2,
          3,
          4,
          5,
          6,
          7
         ],
         "xaxis": "x",
         "y": [
          4202,
          35,
          899,
          643,
          245,
          32,
          73,
          0
         ],
         "yaxis": "y"
        },
        {
         "alignmentgroup": "True",
         "hovertemplate": "Product=em_account_pp<br>Cluster=%{x}<br>Count=%{y}<extra></extra>",
         "legendgroup": "em_account_pp",
         "marker": {
          "color": "#c6e516"
         },
         "name": "em_account_pp",
         "offsetgroup": "em_account_pp",
         "orientation": "v",
         "showlegend": true,
         "textposition": "auto",
         "type": "bar",
         "x": [
          0,
          1,
          2,
          3,
          4,
          5,
          6,
          7
         ],
         "xaxis": "x",
         "y": [
          0,
          0,
          0,
          0,
          0,
          0,
          0,
          0
         ],
         "yaxis": "y"
        },
        {
         "alignmentgroup": "True",
         "hovertemplate": "Product=credit_card<br>Cluster=%{x}<br>Count=%{y}<extra></extra>",
         "legendgroup": "credit_card",
         "marker": {
          "color": "#96d310"
         },
         "name": "credit_card",
         "offsetgroup": "credit_card",
         "orientation": "v",
         "showlegend": true,
         "textposition": "auto",
         "type": "bar",
         "x": [
          0,
          1,
          2,
          3,
          4,
          5,
          6,
          7
         ],
         "xaxis": "x",
         "y": [
          0,
          0,
          0,
          0,
          4799,
          0,
          0,
          2
         ],
         "yaxis": "y"
        },
        {
         "alignmentgroup": "True",
         "hovertemplate": "Product=payroll<br>Cluster=%{x}<br>Count=%{y}<extra></extra>",
         "legendgroup": "payroll",
         "marker": {
          "color": "#61c10b"
         },
         "name": "payroll",
         "offsetgroup": "payroll",
         "orientation": "v",
         "showlegend": true,
         "textposition": "auto",
         "type": "bar",
         "x": [
          0,
          1,
          2,
          3,
          4,
          5,
          6,
          7
         ],
         "xaxis": "x",
         "y": [
          14393,
          2,
          7,
          25,
          1905,
          0,
          0,
          1
         ],
         "yaxis": "y"
        },
        {
         "alignmentgroup": "True",
         "hovertemplate": "Product=pension_plan<br>Cluster=%{x}<br>Count=%{y}<extra></extra>",
         "legendgroup": "pension_plan",
         "marker": {
          "color": "#31ac28"
         },
         "name": "pension_plan",
         "offsetgroup": "pension_plan",
         "orientation": "v",
         "showlegend": true,
         "textposition": "auto",
         "type": "bar",
         "x": [
          0,
          1,
          2,
          3,
          4,
          5,
          6,
          7
         ],
         "xaxis": "x",
         "y": [
          15246,
          3,
          16,
          28,
          2037,
          22,
          0,
          1
         ],
         "yaxis": "y"
        },
        {
         "alignmentgroup": "True",
         "hovertemplate": "Product=payroll_account<br>Cluster=%{x}<br>Count=%{y}<extra></extra>",
         "legendgroup": "payroll_account",
         "marker": {
          "color": "#439064"
         },
         "name": "payroll_account",
         "offsetgroup": "payroll_account",
         "orientation": "v",
         "showlegend": true,
         "textposition": "auto",
         "type": "bar",
         "x": [
          0,
          1,
          2,
          3,
          4,
          5,
          6,
          7
         ],
         "xaxis": "x",
         "y": [
          15426,
          1969,
          1239,
          3137,
          2572,
          0,
          2185,
          1
         ],
         "yaxis": "y"
        },
        {
         "alignmentgroup": "True",
         "hovertemplate": "Product=emc_account<br>Cluster=%{x}<br>Count=%{y}<extra></extra>",
         "legendgroup": "emc_account",
         "marker": {
          "color": "#3d719a"
         },
         "name": "emc_account",
         "offsetgroup": "emc_account",
         "orientation": "v",
         "showlegend": true,
         "textposition": "auto",
         "type": "bar",
         "x": [
          0,
          1,
          2,
          3,
          4,
          5,
          6,
          7
         ],
         "xaxis": "x",
         "y": [
          6180,
          5141,
          6211,
          3611,
          1770,
          0,
          1835,
          3
         ],
         "yaxis": "y"
        },
        {
         "alignmentgroup": "True",
         "hovertemplate": "Product=debit_card<br>Cluster=%{x}<br>Count=%{y}<extra></extra>",
         "legendgroup": "debit_card",
         "marker": {
          "color": "#284ec8"
         },
         "name": "debit_card",
         "offsetgroup": "debit_card",
         "orientation": "v",
         "showlegend": true,
         "textposition": "auto",
         "type": "bar",
         "x": [
          0,
          1,
          2,
          3,
          4,
          5,
          6,
          7
         ],
         "xaxis": "x",
         "y": [
          11166,
          12130,
          5430,
          5457,
          3210,
          0,
          5860,
          8
         ],
         "yaxis": "y"
        },
        {
         "alignmentgroup": "True",
         "hovertemplate": "Product=em_account_p<br>Cluster=%{x}<br>Count=%{y}<extra></extra>",
         "legendgroup": "em_account_p",
         "marker": {
          "color": "#2e21ea"
         },
         "name": "em_account_p",
         "offsetgroup": "em_account_p",
         "orientation": "v",
         "showlegend": true,
         "textposition": "auto",
         "type": "bar",
         "x": [
          0,
          1,
          2,
          3,
          4,
          5,
          6,
          7
         ],
         "xaxis": "x",
         "y": [
          2,
          0,
          0,
          0,
          0,
          0,
          0,
          0
         ],
         "yaxis": "y"
        },
        {
         "alignmentgroup": "True",
         "hovertemplate": "Product=em_acount<br>Cluster=%{x}<br>Count=%{y}<extra></extra>",
         "legendgroup": "em_acount",
         "marker": {
          "color": "#6324f5"
         },
         "name": "em_acount",
         "offsetgroup": "em_acount",
         "orientation": "v",
         "showlegend": true,
         "textposition": "auto",
         "type": "bar",
         "x": [
          0,
          1,
          2,
          3,
          4,
          5,
          6,
          7
         ],
         "xaxis": "x",
         "y": [
          6048,
          179879,
          26891,
          14693,
          1844,
          0,
          66983,
          42
         ],
         "yaxis": "y"
        },
        {
         "alignmentgroup": "True",
         "hovertemplate": "Product=short_term_deposit<br>Cluster=%{x}<br>Count=%{y}<extra></extra>",
         "legendgroup": "short_term_deposit",
         "marker": {
          "color": "#9139fa"
         },
         "name": "short_term_deposit",
         "offsetgroup": "short_term_deposit",
         "orientation": "v",
         "showlegend": true,
         "textposition": "auto",
         "type": "bar",
         "x": [
          0,
          1,
          2,
          3,
          4,
          5,
          6,
          7
         ],
         "xaxis": "x",
         "y": [
          2,
          0,
          0,
          0,
          0,
          0,
          0,
          0
         ],
         "yaxis": "y"
        }
       ],
       "layout": {
        "barmode": "relative",
        "height": 600,
        "legend": {
         "title": {
          "text": "Product"
         },
         "tracegroupgap": 0
        },
        "template": {
         "data": {
          "bar": [
           {
            "error_x": {
             "color": "#2a3f5f"
            },
            "error_y": {
             "color": "#2a3f5f"
            },
            "marker": {
             "line": {
              "color": "#E5ECF6",
              "width": 0.5
             }
            },
            "type": "bar"
           }
          ],
          "barpolar": [
           {
            "marker": {
             "line": {
              "color": "#E5ECF6",
              "width": 0.5
             }
            },
            "type": "barpolar"
           }
          ],
          "carpet": [
           {
            "aaxis": {
             "endlinecolor": "#2a3f5f",
             "gridcolor": "white",
             "linecolor": "white",
             "minorgridcolor": "white",
             "startlinecolor": "#2a3f5f"
            },
            "baxis": {
             "endlinecolor": "#2a3f5f",
             "gridcolor": "white",
             "linecolor": "white",
             "minorgridcolor": "white",
             "startlinecolor": "#2a3f5f"
            },
            "type": "carpet"
           }
          ],
          "choropleth": [
           {
            "colorbar": {
             "outlinewidth": 0,
             "ticks": ""
            },
            "type": "choropleth"
           }
          ],
          "contour": [
           {
            "colorbar": {
             "outlinewidth": 0,
             "ticks": ""
            },
            "colorscale": [
             [
              0,
              "#0d0887"
             ],
             [
              0.1111111111111111,
              "#46039f"
             ],
             [
              0.2222222222222222,
              "#7201a8"
             ],
             [
              0.3333333333333333,
              "#9c179e"
             ],
             [
              0.4444444444444444,
              "#bd3786"
             ],
             [
              0.5555555555555556,
              "#d8576b"
             ],
             [
              0.6666666666666666,
              "#ed7953"
             ],
             [
              0.7777777777777778,
              "#fb9f3a"
             ],
             [
              0.8888888888888888,
              "#fdca26"
             ],
             [
              1,
              "#f0f921"
             ]
            ],
            "type": "contour"
           }
          ],
          "contourcarpet": [
           {
            "colorbar": {
             "outlinewidth": 0,
             "ticks": ""
            },
            "type": "contourcarpet"
           }
          ],
          "heatmap": [
           {
            "colorbar": {
             "outlinewidth": 0,
             "ticks": ""
            },
            "colorscale": [
             [
              0,
              "#0d0887"
             ],
             [
              0.1111111111111111,
              "#46039f"
             ],
             [
              0.2222222222222222,
              "#7201a8"
             ],
             [
              0.3333333333333333,
              "#9c179e"
             ],
             [
              0.4444444444444444,
              "#bd3786"
             ],
             [
              0.5555555555555556,
              "#d8576b"
             ],
             [
              0.6666666666666666,
              "#ed7953"
             ],
             [
              0.7777777777777778,
              "#fb9f3a"
             ],
             [
              0.8888888888888888,
              "#fdca26"
             ],
             [
              1,
              "#f0f921"
             ]
            ],
            "type": "heatmap"
           }
          ],
          "heatmapgl": [
           {
            "colorbar": {
             "outlinewidth": 0,
             "ticks": ""
            },
            "colorscale": [
             [
              0,
              "#0d0887"
             ],
             [
              0.1111111111111111,
              "#46039f"
             ],
             [
              0.2222222222222222,
              "#7201a8"
             ],
             [
              0.3333333333333333,
              "#9c179e"
             ],
             [
              0.4444444444444444,
              "#bd3786"
             ],
             [
              0.5555555555555556,
              "#d8576b"
             ],
             [
              0.6666666666666666,
              "#ed7953"
             ],
             [
              0.7777777777777778,
              "#fb9f3a"
             ],
             [
              0.8888888888888888,
              "#fdca26"
             ],
             [
              1,
              "#f0f921"
             ]
            ],
            "type": "heatmapgl"
           }
          ],
          "histogram": [
           {
            "marker": {
             "colorbar": {
              "outlinewidth": 0,
              "ticks": ""
             }
            },
            "type": "histogram"
           }
          ],
          "histogram2d": [
           {
            "colorbar": {
             "outlinewidth": 0,
             "ticks": ""
            },
            "colorscale": [
             [
              0,
              "#0d0887"
             ],
             [
              0.1111111111111111,
              "#46039f"
             ],
             [
              0.2222222222222222,
              "#7201a8"
             ],
             [
              0.3333333333333333,
              "#9c179e"
             ],
             [
              0.4444444444444444,
              "#bd3786"
             ],
             [
              0.5555555555555556,
              "#d8576b"
             ],
             [
              0.6666666666666666,
              "#ed7953"
             ],
             [
              0.7777777777777778,
              "#fb9f3a"
             ],
             [
              0.8888888888888888,
              "#fdca26"
             ],
             [
              1,
              "#f0f921"
             ]
            ],
            "type": "histogram2d"
           }
          ],
          "histogram2dcontour": [
           {
            "colorbar": {
             "outlinewidth": 0,
             "ticks": ""
            },
            "colorscale": [
             [
              0,
              "#0d0887"
             ],
             [
              0.1111111111111111,
              "#46039f"
             ],
             [
              0.2222222222222222,
              "#7201a8"
             ],
             [
              0.3333333333333333,
              "#9c179e"
             ],
             [
              0.4444444444444444,
              "#bd3786"
             ],
             [
              0.5555555555555556,
              "#d8576b"
             ],
             [
              0.6666666666666666,
              "#ed7953"
             ],
             [
              0.7777777777777778,
              "#fb9f3a"
             ],
             [
              0.8888888888888888,
              "#fdca26"
             ],
             [
              1,
              "#f0f921"
             ]
            ],
            "type": "histogram2dcontour"
           }
          ],
          "mesh3d": [
           {
            "colorbar": {
             "outlinewidth": 0,
             "ticks": ""
            },
            "type": "mesh3d"
           }
          ],
          "parcoords": [
           {
            "line": {
             "colorbar": {
              "outlinewidth": 0,
              "ticks": ""
             }
            },
            "type": "parcoords"
           }
          ],
          "pie": [
           {
            "automargin": true,
            "type": "pie"
           }
          ],
          "scatter": [
           {
            "marker": {
             "colorbar": {
              "outlinewidth": 0,
              "ticks": ""
             }
            },
            "type": "scatter"
           }
          ],
          "scatter3d": [
           {
            "line": {
             "colorbar": {
              "outlinewidth": 0,
              "ticks": ""
             }
            },
            "marker": {
             "colorbar": {
              "outlinewidth": 0,
              "ticks": ""
             }
            },
            "type": "scatter3d"
           }
          ],
          "scattercarpet": [
           {
            "marker": {
             "colorbar": {
              "outlinewidth": 0,
              "ticks": ""
             }
            },
            "type": "scattercarpet"
           }
          ],
          "scattergeo": [
           {
            "marker": {
             "colorbar": {
              "outlinewidth": 0,
              "ticks": ""
             }
            },
            "type": "scattergeo"
           }
          ],
          "scattergl": [
           {
            "marker": {
             "colorbar": {
              "outlinewidth": 0,
              "ticks": ""
             }
            },
            "type": "scattergl"
           }
          ],
          "scattermapbox": [
           {
            "marker": {
             "colorbar": {
              "outlinewidth": 0,
              "ticks": ""
             }
            },
            "type": "scattermapbox"
           }
          ],
          "scatterpolar": [
           {
            "marker": {
             "colorbar": {
              "outlinewidth": 0,
              "ticks": ""
             }
            },
            "type": "scatterpolar"
           }
          ],
          "scatterpolargl": [
           {
            "marker": {
             "colorbar": {
              "outlinewidth": 0,
              "ticks": ""
             }
            },
            "type": "scatterpolargl"
           }
          ],
          "scatterternary": [
           {
            "marker": {
             "colorbar": {
              "outlinewidth": 0,
              "ticks": ""
             }
            },
            "type": "scatterternary"
           }
          ],
          "surface": [
           {
            "colorbar": {
             "outlinewidth": 0,
             "ticks": ""
            },
            "colorscale": [
             [
              0,
              "#0d0887"
             ],
             [
              0.1111111111111111,
              "#46039f"
             ],
             [
              0.2222222222222222,
              "#7201a8"
             ],
             [
              0.3333333333333333,
              "#9c179e"
             ],
             [
              0.4444444444444444,
              "#bd3786"
             ],
             [
              0.5555555555555556,
              "#d8576b"
             ],
             [
              0.6666666666666666,
              "#ed7953"
             ],
             [
              0.7777777777777778,
              "#fb9f3a"
             ],
             [
              0.8888888888888888,
              "#fdca26"
             ],
             [
              1,
              "#f0f921"
             ]
            ],
            "type": "surface"
           }
          ],
          "table": [
           {
            "cells": {
             "fill": {
              "color": "#EBF0F8"
             },
             "line": {
              "color": "white"
             }
            },
            "header": {
             "fill": {
              "color": "#C8D4E3"
             },
             "line": {
              "color": "white"
             }
            },
            "type": "table"
           }
          ]
         },
         "layout": {
          "annotationdefaults": {
           "arrowcolor": "#2a3f5f",
           "arrowhead": 0,
           "arrowwidth": 1
          },
          "coloraxis": {
           "colorbar": {
            "outlinewidth": 0,
            "ticks": ""
           }
          },
          "colorscale": {
           "diverging": [
            [
             0,
             "#8e0152"
            ],
            [
             0.1,
             "#c51b7d"
            ],
            [
             0.2,
             "#de77ae"
            ],
            [
             0.3,
             "#f1b6da"
            ],
            [
             0.4,
             "#fde0ef"
            ],
            [
             0.5,
             "#f7f7f7"
            ],
            [
             0.6,
             "#e6f5d0"
            ],
            [
             0.7,
             "#b8e186"
            ],
            [
             0.8,
             "#7fbc41"
            ],
            [
             0.9,
             "#4d9221"
            ],
            [
             1,
             "#276419"
            ]
           ],
           "sequential": [
            [
             0,
             "#0d0887"
            ],
            [
             0.1111111111111111,
             "#46039f"
            ],
            [
             0.2222222222222222,
             "#7201a8"
            ],
            [
             0.3333333333333333,
             "#9c179e"
            ],
            [
             0.4444444444444444,
             "#bd3786"
            ],
            [
             0.5555555555555556,
             "#d8576b"
            ],
            [
             0.6666666666666666,
             "#ed7953"
            ],
            [
             0.7777777777777778,
             "#fb9f3a"
            ],
            [
             0.8888888888888888,
             "#fdca26"
            ],
            [
             1,
             "#f0f921"
            ]
           ],
           "sequentialminus": [
            [
             0,
             "#0d0887"
            ],
            [
             0.1111111111111111,
             "#46039f"
            ],
            [
             0.2222222222222222,
             "#7201a8"
            ],
            [
             0.3333333333333333,
             "#9c179e"
            ],
            [
             0.4444444444444444,
             "#bd3786"
            ],
            [
             0.5555555555555556,
             "#d8576b"
            ],
            [
             0.6666666666666666,
             "#ed7953"
            ],
            [
             0.7777777777777778,
             "#fb9f3a"
            ],
            [
             0.8888888888888888,
             "#fdca26"
            ],
            [
             1,
             "#f0f921"
            ]
           ]
          },
          "colorway": [
           "#636efa",
           "#EF553B",
           "#00cc96",
           "#ab63fa",
           "#FFA15A",
           "#19d3f3",
           "#FF6692",
           "#B6E880",
           "#FF97FF",
           "#FECB52"
          ],
          "font": {
           "color": "#2a3f5f"
          },
          "geo": {
           "bgcolor": "white",
           "lakecolor": "white",
           "landcolor": "#E5ECF6",
           "showlakes": true,
           "showland": true,
           "subunitcolor": "white"
          },
          "hoverlabel": {
           "align": "left"
          },
          "hovermode": "closest",
          "mapbox": {
           "style": "light"
          },
          "paper_bgcolor": "white",
          "plot_bgcolor": "#E5ECF6",
          "polar": {
           "angularaxis": {
            "gridcolor": "white",
            "linecolor": "white",
            "ticks": ""
           },
           "bgcolor": "#E5ECF6",
           "radialaxis": {
            "gridcolor": "white",
            "linecolor": "white",
            "ticks": ""
           }
          },
          "scene": {
           "xaxis": {
            "backgroundcolor": "#E5ECF6",
            "gridcolor": "white",
            "gridwidth": 2,
            "linecolor": "white",
            "showbackground": true,
            "ticks": "",
            "zerolinecolor": "white"
           },
           "yaxis": {
            "backgroundcolor": "#E5ECF6",
            "gridcolor": "white",
            "gridwidth": 2,
            "linecolor": "white",
            "showbackground": true,
            "ticks": "",
            "zerolinecolor": "white"
           },
           "zaxis": {
            "backgroundcolor": "#E5ECF6",
            "gridcolor": "white",
            "gridwidth": 2,
            "linecolor": "white",
            "showbackground": true,
            "ticks": "",
            "zerolinecolor": "white"
           }
          },
          "shapedefaults": {
           "line": {
            "color": "#2a3f5f"
           }
          },
          "ternary": {
           "aaxis": {
            "gridcolor": "white",
            "linecolor": "white",
            "ticks": ""
           },
           "baxis": {
            "gridcolor": "white",
            "linecolor": "white",
            "ticks": ""
           },
           "bgcolor": "#E5ECF6",
           "caxis": {
            "gridcolor": "white",
            "linecolor": "white",
            "ticks": ""
           }
          },
          "title": {
           "x": 0.05
          },
          "xaxis": {
           "automargin": true,
           "gridcolor": "white",
           "linecolor": "white",
           "ticks": "",
           "title": {
            "standoff": 15
           },
           "zerolinecolor": "white",
           "zerolinewidth": 2
          },
          "yaxis": {
           "automargin": true,
           "gridcolor": "white",
           "linecolor": "white",
           "ticks": "",
           "title": {
            "standoff": 15
           },
           "zerolinecolor": "white",
           "zerolinewidth": 2
          }
         }
        },
        "title": {
         "text": "Productos por Cluster"
        },
        "xaxis": {
         "anchor": "y",
         "domain": [
          0,
          1
         ],
         "title": {
          "text": "Cluster"
         }
        },
        "yaxis": {
         "anchor": "x",
         "domain": [
          0,
          1
         ],
         "title": {
          "text": "Count"
         }
        }
       }
      },
      "text/html": [
       "<div>\n",
       "        \n",
       "        \n",
       "            <div id=\"04d3a79f-27f1-48b5-996e-e635285c563c\" class=\"plotly-graph-div\" style=\"height:600px; width:100%;\"></div>\n",
       "            <script type=\"text/javascript\">\n",
       "                require([\"plotly\"], function(Plotly) {\n",
       "                    window.PLOTLYENV=window.PLOTLYENV || {};\n",
       "                    \n",
       "                if (document.getElementById(\"04d3a79f-27f1-48b5-996e-e635285c563c\")) {\n",
       "                    Plotly.newPlot(\n",
       "                        '04d3a79f-27f1-48b5-996e-e635285c563c',\n",
       "                        [{\"alignmentgroup\": \"True\", \"hovertemplate\": \"Product=loans<br>Cluster=%{x}<br>Count=%{y}<extra></extra>\", \"legendgroup\": \"loans\", \"marker\": {\"color\": \"#ef55f1\"}, \"name\": \"loans\", \"offsetgroup\": \"loans\", \"orientation\": \"v\", \"showlegend\": true, \"textposition\": \"auto\", \"type\": \"bar\", \"x\": [0, 1, 2, 3, 4, 5, 6, 7], \"xaxis\": \"x\", \"y\": [0.0, 0.0, 0.0, 0.0, 30.0, 0.0, 0.0, 0.0], \"yaxis\": \"y\"}, {\"alignmentgroup\": \"True\", \"hovertemplate\": \"Product=mortgage<br>Cluster=%{x}<br>Count=%{y}<extra></extra>\", \"legendgroup\": \"mortgage\", \"marker\": {\"color\": \"#fb84ce\"}, \"name\": \"mortgage\", \"offsetgroup\": \"mortgage\", \"orientation\": \"v\", \"showlegend\": true, \"textposition\": \"auto\", \"type\": \"bar\", \"x\": [0, 1, 2, 3, 4, 5, 6, 7], \"xaxis\": \"x\", \"y\": [11.0, 0.0, 2.0, 0.0, 10.0, 0.0, 0.0, 0.0], \"yaxis\": \"y\"}, {\"alignmentgroup\": \"True\", \"hovertemplate\": \"Product=funds<br>Cluster=%{x}<br>Count=%{y}<extra></extra>\", \"legendgroup\": \"funds\", \"marker\": {\"color\": \"#fbafa1\"}, \"name\": \"funds\", \"offsetgroup\": \"funds\", \"orientation\": \"v\", \"showlegend\": true, \"textposition\": \"auto\", \"type\": \"bar\", \"x\": [0, 1, 2, 3, 4, 5, 6, 7], \"xaxis\": \"x\", \"y\": [993.0, 21.0, 125.0, 62.0, 102.0, 3.0, 9.0, 0.0], \"yaxis\": \"y\"}, {\"alignmentgroup\": \"True\", \"hovertemplate\": \"Product=securities<br>Cluster=%{x}<br>Count=%{y}<extra></extra>\", \"legendgroup\": \"securities\", \"marker\": {\"color\": \"#fcd471\"}, \"name\": \"securities\", \"offsetgroup\": \"securities\", \"orientation\": \"v\", \"showlegend\": true, \"textposition\": \"auto\", \"type\": \"bar\", \"x\": [0, 1, 2, 3, 4, 5, 6, 7], \"xaxis\": \"x\", \"y\": [1337.0, 45.0, 147.0, 54.0, 190.0, 9.0, 7.0, 0.0], \"yaxis\": \"y\"}, {\"alignmentgroup\": \"True\", \"hovertemplate\": \"Product=long_term_deposit<br>Cluster=%{x}<br>Count=%{y}<extra></extra>\", \"legendgroup\": \"long_term_deposit\", \"marker\": {\"color\": \"#f0ed35\"}, \"name\": \"long_term_deposit\", \"offsetgroup\": \"long_term_deposit\", \"orientation\": \"v\", \"showlegend\": true, \"textposition\": \"auto\", \"type\": \"bar\", \"x\": [0, 1, 2, 3, 4, 5, 6, 7], \"xaxis\": \"x\", \"y\": [4202.0, 35.0, 899.0, 643.0, 245.0, 32.0, 73.0, 0.0], \"yaxis\": \"y\"}, {\"alignmentgroup\": \"True\", \"hovertemplate\": \"Product=em_account_pp<br>Cluster=%{x}<br>Count=%{y}<extra></extra>\", \"legendgroup\": \"em_account_pp\", \"marker\": {\"color\": \"#c6e516\"}, \"name\": \"em_account_pp\", \"offsetgroup\": \"em_account_pp\", \"orientation\": \"v\", \"showlegend\": true, \"textposition\": \"auto\", \"type\": \"bar\", \"x\": [0, 1, 2, 3, 4, 5, 6, 7], \"xaxis\": \"x\", \"y\": [0.0, 0.0, 0.0, 0.0, 0.0, 0.0, 0.0, 0.0], \"yaxis\": \"y\"}, {\"alignmentgroup\": \"True\", \"hovertemplate\": \"Product=credit_card<br>Cluster=%{x}<br>Count=%{y}<extra></extra>\", \"legendgroup\": \"credit_card\", \"marker\": {\"color\": \"#96d310\"}, \"name\": \"credit_card\", \"offsetgroup\": \"credit_card\", \"orientation\": \"v\", \"showlegend\": true, \"textposition\": \"auto\", \"type\": \"bar\", \"x\": [0, 1, 2, 3, 4, 5, 6, 7], \"xaxis\": \"x\", \"y\": [0.0, 0.0, 0.0, 0.0, 4799.0, 0.0, 0.0, 2.0], \"yaxis\": \"y\"}, {\"alignmentgroup\": \"True\", \"hovertemplate\": \"Product=payroll<br>Cluster=%{x}<br>Count=%{y}<extra></extra>\", \"legendgroup\": \"payroll\", \"marker\": {\"color\": \"#61c10b\"}, \"name\": \"payroll\", \"offsetgroup\": \"payroll\", \"orientation\": \"v\", \"showlegend\": true, \"textposition\": \"auto\", \"type\": \"bar\", \"x\": [0, 1, 2, 3, 4, 5, 6, 7], \"xaxis\": \"x\", \"y\": [14393.0, 2.0, 7.0, 25.0, 1905.0, 0.0, 0.0, 1.0], \"yaxis\": \"y\"}, {\"alignmentgroup\": \"True\", \"hovertemplate\": \"Product=pension_plan<br>Cluster=%{x}<br>Count=%{y}<extra></extra>\", \"legendgroup\": \"pension_plan\", \"marker\": {\"color\": \"#31ac28\"}, \"name\": \"pension_plan\", \"offsetgroup\": \"pension_plan\", \"orientation\": \"v\", \"showlegend\": true, \"textposition\": \"auto\", \"type\": \"bar\", \"x\": [0, 1, 2, 3, 4, 5, 6, 7], \"xaxis\": \"x\", \"y\": [15246.0, 3.0, 16.0, 28.0, 2037.0, 22.0, 0.0, 1.0], \"yaxis\": \"y\"}, {\"alignmentgroup\": \"True\", \"hovertemplate\": \"Product=payroll_account<br>Cluster=%{x}<br>Count=%{y}<extra></extra>\", \"legendgroup\": \"payroll_account\", \"marker\": {\"color\": \"#439064\"}, \"name\": \"payroll_account\", \"offsetgroup\": \"payroll_account\", \"orientation\": \"v\", \"showlegend\": true, \"textposition\": \"auto\", \"type\": \"bar\", \"x\": [0, 1, 2, 3, 4, 5, 6, 7], \"xaxis\": \"x\", \"y\": [15426.0, 1969.0, 1239.0, 3137.0, 2572.0, 0.0, 2185.0, 1.0], \"yaxis\": \"y\"}, {\"alignmentgroup\": \"True\", \"hovertemplate\": \"Product=emc_account<br>Cluster=%{x}<br>Count=%{y}<extra></extra>\", \"legendgroup\": \"emc_account\", \"marker\": {\"color\": \"#3d719a\"}, \"name\": \"emc_account\", \"offsetgroup\": \"emc_account\", \"orientation\": \"v\", \"showlegend\": true, \"textposition\": \"auto\", \"type\": \"bar\", \"x\": [0, 1, 2, 3, 4, 5, 6, 7], \"xaxis\": \"x\", \"y\": [6180.0, 5141.0, 6211.0, 3611.0, 1770.0, 0.0, 1835.0, 3.0], \"yaxis\": \"y\"}, {\"alignmentgroup\": \"True\", \"hovertemplate\": \"Product=debit_card<br>Cluster=%{x}<br>Count=%{y}<extra></extra>\", \"legendgroup\": \"debit_card\", \"marker\": {\"color\": \"#284ec8\"}, \"name\": \"debit_card\", \"offsetgroup\": \"debit_card\", \"orientation\": \"v\", \"showlegend\": true, \"textposition\": \"auto\", \"type\": \"bar\", \"x\": [0, 1, 2, 3, 4, 5, 6, 7], \"xaxis\": \"x\", \"y\": [11166.0, 12130.0, 5430.0, 5457.0, 3210.0, 0.0, 5860.0, 8.0], \"yaxis\": \"y\"}, {\"alignmentgroup\": \"True\", \"hovertemplate\": \"Product=em_account_p<br>Cluster=%{x}<br>Count=%{y}<extra></extra>\", \"legendgroup\": \"em_account_p\", \"marker\": {\"color\": \"#2e21ea\"}, \"name\": \"em_account_p\", \"offsetgroup\": \"em_account_p\", \"orientation\": \"v\", \"showlegend\": true, \"textposition\": \"auto\", \"type\": \"bar\", \"x\": [0, 1, 2, 3, 4, 5, 6, 7], \"xaxis\": \"x\", \"y\": [2.0, 0.0, 0.0, 0.0, 0.0, 0.0, 0.0, 0.0], \"yaxis\": \"y\"}, {\"alignmentgroup\": \"True\", \"hovertemplate\": \"Product=em_acount<br>Cluster=%{x}<br>Count=%{y}<extra></extra>\", \"legendgroup\": \"em_acount\", \"marker\": {\"color\": \"#6324f5\"}, \"name\": \"em_acount\", \"offsetgroup\": \"em_acount\", \"orientation\": \"v\", \"showlegend\": true, \"textposition\": \"auto\", \"type\": \"bar\", \"x\": [0, 1, 2, 3, 4, 5, 6, 7], \"xaxis\": \"x\", \"y\": [6048.0, 179879.0, 26891.0, 14693.0, 1844.0, 0.0, 66983.0, 42.0], \"yaxis\": \"y\"}, {\"alignmentgroup\": \"True\", \"hovertemplate\": \"Product=short_term_deposit<br>Cluster=%{x}<br>Count=%{y}<extra></extra>\", \"legendgroup\": \"short_term_deposit\", \"marker\": {\"color\": \"#9139fa\"}, \"name\": \"short_term_deposit\", \"offsetgroup\": \"short_term_deposit\", \"orientation\": \"v\", \"showlegend\": true, \"textposition\": \"auto\", \"type\": \"bar\", \"x\": [0, 1, 2, 3, 4, 5, 6, 7], \"xaxis\": \"x\", \"y\": [2.0, 0.0, 0.0, 0.0, 0.0, 0.0, 0.0, 0.0], \"yaxis\": \"y\"}],\n",
       "                        {\"barmode\": \"relative\", \"height\": 600, \"legend\": {\"title\": {\"text\": \"Product\"}, \"tracegroupgap\": 0}, \"template\": {\"data\": {\"bar\": [{\"error_x\": {\"color\": \"#2a3f5f\"}, \"error_y\": {\"color\": \"#2a3f5f\"}, \"marker\": {\"line\": {\"color\": \"#E5ECF6\", \"width\": 0.5}}, \"type\": \"bar\"}], \"barpolar\": [{\"marker\": {\"line\": {\"color\": \"#E5ECF6\", \"width\": 0.5}}, \"type\": \"barpolar\"}], \"carpet\": [{\"aaxis\": {\"endlinecolor\": \"#2a3f5f\", \"gridcolor\": \"white\", \"linecolor\": \"white\", \"minorgridcolor\": \"white\", \"startlinecolor\": \"#2a3f5f\"}, \"baxis\": {\"endlinecolor\": \"#2a3f5f\", \"gridcolor\": \"white\", \"linecolor\": \"white\", \"minorgridcolor\": \"white\", \"startlinecolor\": \"#2a3f5f\"}, \"type\": \"carpet\"}], \"choropleth\": [{\"colorbar\": {\"outlinewidth\": 0, \"ticks\": \"\"}, \"type\": \"choropleth\"}], \"contour\": [{\"colorbar\": {\"outlinewidth\": 0, \"ticks\": \"\"}, \"colorscale\": [[0.0, \"#0d0887\"], [0.1111111111111111, \"#46039f\"], [0.2222222222222222, \"#7201a8\"], [0.3333333333333333, \"#9c179e\"], [0.4444444444444444, \"#bd3786\"], [0.5555555555555556, \"#d8576b\"], [0.6666666666666666, \"#ed7953\"], [0.7777777777777778, \"#fb9f3a\"], [0.8888888888888888, \"#fdca26\"], [1.0, \"#f0f921\"]], \"type\": \"contour\"}], \"contourcarpet\": [{\"colorbar\": {\"outlinewidth\": 0, \"ticks\": \"\"}, \"type\": \"contourcarpet\"}], \"heatmap\": [{\"colorbar\": {\"outlinewidth\": 0, \"ticks\": \"\"}, \"colorscale\": [[0.0, \"#0d0887\"], [0.1111111111111111, \"#46039f\"], [0.2222222222222222, \"#7201a8\"], [0.3333333333333333, \"#9c179e\"], [0.4444444444444444, \"#bd3786\"], [0.5555555555555556, \"#d8576b\"], [0.6666666666666666, \"#ed7953\"], [0.7777777777777778, \"#fb9f3a\"], [0.8888888888888888, \"#fdca26\"], [1.0, \"#f0f921\"]], \"type\": \"heatmap\"}], \"heatmapgl\": [{\"colorbar\": {\"outlinewidth\": 0, \"ticks\": \"\"}, \"colorscale\": [[0.0, \"#0d0887\"], [0.1111111111111111, \"#46039f\"], [0.2222222222222222, \"#7201a8\"], [0.3333333333333333, \"#9c179e\"], [0.4444444444444444, \"#bd3786\"], [0.5555555555555556, \"#d8576b\"], [0.6666666666666666, \"#ed7953\"], [0.7777777777777778, \"#fb9f3a\"], [0.8888888888888888, \"#fdca26\"], [1.0, \"#f0f921\"]], \"type\": \"heatmapgl\"}], \"histogram\": [{\"marker\": {\"colorbar\": {\"outlinewidth\": 0, \"ticks\": \"\"}}, \"type\": \"histogram\"}], \"histogram2d\": [{\"colorbar\": {\"outlinewidth\": 0, \"ticks\": \"\"}, \"colorscale\": [[0.0, \"#0d0887\"], [0.1111111111111111, \"#46039f\"], [0.2222222222222222, \"#7201a8\"], [0.3333333333333333, \"#9c179e\"], [0.4444444444444444, \"#bd3786\"], [0.5555555555555556, \"#d8576b\"], [0.6666666666666666, \"#ed7953\"], [0.7777777777777778, \"#fb9f3a\"], [0.8888888888888888, \"#fdca26\"], [1.0, \"#f0f921\"]], \"type\": \"histogram2d\"}], \"histogram2dcontour\": [{\"colorbar\": {\"outlinewidth\": 0, \"ticks\": \"\"}, \"colorscale\": [[0.0, \"#0d0887\"], [0.1111111111111111, \"#46039f\"], [0.2222222222222222, \"#7201a8\"], [0.3333333333333333, \"#9c179e\"], [0.4444444444444444, \"#bd3786\"], [0.5555555555555556, \"#d8576b\"], [0.6666666666666666, \"#ed7953\"], [0.7777777777777778, \"#fb9f3a\"], [0.8888888888888888, \"#fdca26\"], [1.0, \"#f0f921\"]], \"type\": \"histogram2dcontour\"}], \"mesh3d\": [{\"colorbar\": {\"outlinewidth\": 0, \"ticks\": \"\"}, \"type\": \"mesh3d\"}], \"parcoords\": [{\"line\": {\"colorbar\": {\"outlinewidth\": 0, \"ticks\": \"\"}}, \"type\": \"parcoords\"}], \"pie\": [{\"automargin\": true, \"type\": \"pie\"}], \"scatter\": [{\"marker\": {\"colorbar\": {\"outlinewidth\": 0, \"ticks\": \"\"}}, \"type\": \"scatter\"}], \"scatter3d\": [{\"line\": {\"colorbar\": {\"outlinewidth\": 0, \"ticks\": \"\"}}, \"marker\": {\"colorbar\": {\"outlinewidth\": 0, \"ticks\": \"\"}}, \"type\": \"scatter3d\"}], \"scattercarpet\": [{\"marker\": {\"colorbar\": {\"outlinewidth\": 0, \"ticks\": \"\"}}, \"type\": \"scattercarpet\"}], \"scattergeo\": [{\"marker\": {\"colorbar\": {\"outlinewidth\": 0, \"ticks\": \"\"}}, \"type\": \"scattergeo\"}], \"scattergl\": [{\"marker\": {\"colorbar\": {\"outlinewidth\": 0, \"ticks\": \"\"}}, \"type\": \"scattergl\"}], \"scattermapbox\": [{\"marker\": {\"colorbar\": {\"outlinewidth\": 0, \"ticks\": \"\"}}, \"type\": \"scattermapbox\"}], \"scatterpolar\": [{\"marker\": {\"colorbar\": {\"outlinewidth\": 0, \"ticks\": \"\"}}, \"type\": \"scatterpolar\"}], \"scatterpolargl\": [{\"marker\": {\"colorbar\": {\"outlinewidth\": 0, \"ticks\": \"\"}}, \"type\": \"scatterpolargl\"}], \"scatterternary\": [{\"marker\": {\"colorbar\": {\"outlinewidth\": 0, \"ticks\": \"\"}}, \"type\": \"scatterternary\"}], \"surface\": [{\"colorbar\": {\"outlinewidth\": 0, \"ticks\": \"\"}, \"colorscale\": [[0.0, \"#0d0887\"], [0.1111111111111111, \"#46039f\"], [0.2222222222222222, \"#7201a8\"], [0.3333333333333333, \"#9c179e\"], [0.4444444444444444, \"#bd3786\"], [0.5555555555555556, \"#d8576b\"], [0.6666666666666666, \"#ed7953\"], [0.7777777777777778, \"#fb9f3a\"], [0.8888888888888888, \"#fdca26\"], [1.0, \"#f0f921\"]], \"type\": \"surface\"}], \"table\": [{\"cells\": {\"fill\": {\"color\": \"#EBF0F8\"}, \"line\": {\"color\": \"white\"}}, \"header\": {\"fill\": {\"color\": \"#C8D4E3\"}, \"line\": {\"color\": \"white\"}}, \"type\": \"table\"}]}, \"layout\": {\"annotationdefaults\": {\"arrowcolor\": \"#2a3f5f\", \"arrowhead\": 0, \"arrowwidth\": 1}, \"coloraxis\": {\"colorbar\": {\"outlinewidth\": 0, \"ticks\": \"\"}}, \"colorscale\": {\"diverging\": [[0, \"#8e0152\"], [0.1, \"#c51b7d\"], [0.2, \"#de77ae\"], [0.3, \"#f1b6da\"], [0.4, \"#fde0ef\"], [0.5, \"#f7f7f7\"], [0.6, \"#e6f5d0\"], [0.7, \"#b8e186\"], [0.8, \"#7fbc41\"], [0.9, \"#4d9221\"], [1, \"#276419\"]], \"sequential\": [[0.0, \"#0d0887\"], [0.1111111111111111, \"#46039f\"], [0.2222222222222222, \"#7201a8\"], [0.3333333333333333, \"#9c179e\"], [0.4444444444444444, \"#bd3786\"], [0.5555555555555556, \"#d8576b\"], [0.6666666666666666, \"#ed7953\"], [0.7777777777777778, \"#fb9f3a\"], [0.8888888888888888, \"#fdca26\"], [1.0, \"#f0f921\"]], \"sequentialminus\": [[0.0, \"#0d0887\"], [0.1111111111111111, \"#46039f\"], [0.2222222222222222, \"#7201a8\"], [0.3333333333333333, \"#9c179e\"], [0.4444444444444444, \"#bd3786\"], [0.5555555555555556, \"#d8576b\"], [0.6666666666666666, \"#ed7953\"], [0.7777777777777778, \"#fb9f3a\"], [0.8888888888888888, \"#fdca26\"], [1.0, \"#f0f921\"]]}, \"colorway\": [\"#636efa\", \"#EF553B\", \"#00cc96\", \"#ab63fa\", \"#FFA15A\", \"#19d3f3\", \"#FF6692\", \"#B6E880\", \"#FF97FF\", \"#FECB52\"], \"font\": {\"color\": \"#2a3f5f\"}, \"geo\": {\"bgcolor\": \"white\", \"lakecolor\": \"white\", \"landcolor\": \"#E5ECF6\", \"showlakes\": true, \"showland\": true, \"subunitcolor\": \"white\"}, \"hoverlabel\": {\"align\": \"left\"}, \"hovermode\": \"closest\", \"mapbox\": {\"style\": \"light\"}, \"paper_bgcolor\": \"white\", \"plot_bgcolor\": \"#E5ECF6\", \"polar\": {\"angularaxis\": {\"gridcolor\": \"white\", \"linecolor\": \"white\", \"ticks\": \"\"}, \"bgcolor\": \"#E5ECF6\", \"radialaxis\": {\"gridcolor\": \"white\", \"linecolor\": \"white\", \"ticks\": \"\"}}, \"scene\": {\"xaxis\": {\"backgroundcolor\": \"#E5ECF6\", \"gridcolor\": \"white\", \"gridwidth\": 2, \"linecolor\": \"white\", \"showbackground\": true, \"ticks\": \"\", \"zerolinecolor\": \"white\"}, \"yaxis\": {\"backgroundcolor\": \"#E5ECF6\", \"gridcolor\": \"white\", \"gridwidth\": 2, \"linecolor\": \"white\", \"showbackground\": true, \"ticks\": \"\", \"zerolinecolor\": \"white\"}, \"zaxis\": {\"backgroundcolor\": \"#E5ECF6\", \"gridcolor\": \"white\", \"gridwidth\": 2, \"linecolor\": \"white\", \"showbackground\": true, \"ticks\": \"\", \"zerolinecolor\": \"white\"}}, \"shapedefaults\": {\"line\": {\"color\": \"#2a3f5f\"}}, \"ternary\": {\"aaxis\": {\"gridcolor\": \"white\", \"linecolor\": \"white\", \"ticks\": \"\"}, \"baxis\": {\"gridcolor\": \"white\", \"linecolor\": \"white\", \"ticks\": \"\"}, \"bgcolor\": \"#E5ECF6\", \"caxis\": {\"gridcolor\": \"white\", \"linecolor\": \"white\", \"ticks\": \"\"}}, \"title\": {\"x\": 0.05}, \"xaxis\": {\"automargin\": true, \"gridcolor\": \"white\", \"linecolor\": \"white\", \"ticks\": \"\", \"title\": {\"standoff\": 15}, \"zerolinecolor\": \"white\", \"zerolinewidth\": 2}, \"yaxis\": {\"automargin\": true, \"gridcolor\": \"white\", \"linecolor\": \"white\", \"ticks\": \"\", \"title\": {\"standoff\": 15}, \"zerolinecolor\": \"white\", \"zerolinewidth\": 2}}}, \"title\": {\"text\": \"Productos por Cluster\"}, \"xaxis\": {\"anchor\": \"y\", \"domain\": [0.0, 1.0], \"title\": {\"text\": \"Cluster\"}}, \"yaxis\": {\"anchor\": \"x\", \"domain\": [0.0, 1.0], \"title\": {\"text\": \"Count\"}}},\n",
       "                        {\"responsive\": true}\n",
       "                    ).then(function(){\n",
       "                            \n",
       "var gd = document.getElementById('04d3a79f-27f1-48b5-996e-e635285c563c');\n",
       "var x = new MutationObserver(function (mutations, observer) {{\n",
       "        var display = window.getComputedStyle(gd).display;\n",
       "        if (!display || display === 'none') {{\n",
       "            console.log([gd, 'removed!']);\n",
       "            Plotly.purge(gd);\n",
       "            observer.disconnect();\n",
       "        }}\n",
       "}});\n",
       "\n",
       "// Listen for the removal of the full notebook cells\n",
       "var notebookContainer = gd.closest('#notebook-container');\n",
       "if (notebookContainer) {{\n",
       "    x.observe(notebookContainer, {childList: true});\n",
       "}}\n",
       "\n",
       "// Listen for the clearing of the current output cell\n",
       "var outputEl = gd.closest('.output');\n",
       "if (outputEl) {{\n",
       "    x.observe(outputEl, {childList: true});\n",
       "}}\n",
       "\n",
       "                        })\n",
       "                };\n",
       "                });\n",
       "            </script>\n",
       "        </div>"
      ]
     },
     "metadata": {},
     "output_type": "display_data"
    }
   ],
   "source": [
    "evolucion_horizontal = px.bar(clientes_actuales_, \n",
    "                              x=\"Cluster\", y=\"Count\", color='Product', orientation='v', \n",
    "                              height=600,title='Productos por Cluster', \n",
    "                              color_discrete_sequence = px.colors.cyclical.mygbm)\n",
    "evolucion_horizontal.show()"
   ]
  },
  {
   "cell_type": "code",
   "execution_count": 70,
   "metadata": {
    "ExecuteTime": {
     "end_time": "2020-09-14T09:10:00.728814Z",
     "start_time": "2020-09-14T09:10:00.717821Z"
    }
   },
   "outputs": [],
   "source": [
    "clientes_actuales_.to_csv('../Datos-Easymoney/productos_por_grupo.csv',index=False)"
   ]
  },
  {
   "cell_type": "markdown",
   "metadata": {},
   "source": [
    "# Grupo 0"
   ]
  },
  {
   "cell_type": "code",
   "execution_count": 56,
   "metadata": {
    "ExecuteTime": {
     "end_time": "2020-09-14T09:06:52.175047Z",
     "start_time": "2020-09-14T09:06:52.144067Z"
    }
   },
   "outputs": [],
   "source": [
    "clientes_actuales_=clientes_actuales[clientes_actuales['Cluster']==7].pivot_table(index=['pk_partition','Cluster'], \n",
    "                                                 values=productos_easymoney,\n",
    "                                                aggfunc=[np.sum])"
   ]
  },
  {
   "cell_type": "code",
   "execution_count": 57,
   "metadata": {
    "ExecuteTime": {
     "end_time": "2020-09-14T09:06:52.723848Z",
     "start_time": "2020-09-14T09:06:52.718853Z"
    }
   },
   "outputs": [],
   "source": [
    "clientes_actuales_.columns=['credit_card',\n",
    "                            'debit_card','em_account_p','em_account_pp',\n",
    "                            'em_acount','emc_account','funds','loans',\n",
    "                            'long_term_deposit','mortgage','payroll','payroll_account',\n",
    "                            'pension_plan','securities','short_term_deposit']"
   ]
  },
  {
   "cell_type": "code",
   "execution_count": 58,
   "metadata": {
    "ExecuteTime": {
     "end_time": "2020-09-14T09:06:53.262640Z",
     "start_time": "2020-09-14T09:06:53.258641Z"
    }
   },
   "outputs": [],
   "source": [
    "clientes_actuales_.reset_index(drop=False,inplace=True)"
   ]
  },
  {
   "cell_type": "code",
   "execution_count": 59,
   "metadata": {
    "ExecuteTime": {
     "end_time": "2020-09-14T09:06:53.814197Z",
     "start_time": "2020-09-14T09:06:53.803201Z"
    }
   },
   "outputs": [
    {
     "data": {
      "text/html": [
       "<div>\n",
       "<style scoped>\n",
       "    .dataframe tbody tr th:only-of-type {\n",
       "        vertical-align: middle;\n",
       "    }\n",
       "\n",
       "    .dataframe tbody tr th {\n",
       "        vertical-align: top;\n",
       "    }\n",
       "\n",
       "    .dataframe thead th {\n",
       "        text-align: right;\n",
       "    }\n",
       "</style>\n",
       "<table border=\"1\" class=\"dataframe\">\n",
       "  <thead>\n",
       "    <tr style=\"text-align: right;\">\n",
       "      <th></th>\n",
       "      <th>pk_partition</th>\n",
       "      <th>Cluster</th>\n",
       "      <th>credit_card</th>\n",
       "      <th>debit_card</th>\n",
       "      <th>em_account_p</th>\n",
       "      <th>em_account_pp</th>\n",
       "      <th>em_acount</th>\n",
       "      <th>emc_account</th>\n",
       "      <th>funds</th>\n",
       "      <th>loans</th>\n",
       "      <th>long_term_deposit</th>\n",
       "      <th>mortgage</th>\n",
       "      <th>payroll</th>\n",
       "      <th>payroll_account</th>\n",
       "      <th>pension_plan</th>\n",
       "      <th>securities</th>\n",
       "      <th>short_term_deposit</th>\n",
       "    </tr>\n",
       "  </thead>\n",
       "  <tbody>\n",
       "    <tr>\n",
       "      <th>0</th>\n",
       "      <td>2019-05-28</td>\n",
       "      <td>7</td>\n",
       "      <td>2</td>\n",
       "      <td>8</td>\n",
       "      <td>0</td>\n",
       "      <td>0</td>\n",
       "      <td>42</td>\n",
       "      <td>3</td>\n",
       "      <td>0</td>\n",
       "      <td>0</td>\n",
       "      <td>0</td>\n",
       "      <td>0</td>\n",
       "      <td>1.00</td>\n",
       "      <td>1</td>\n",
       "      <td>1.00</td>\n",
       "      <td>0</td>\n",
       "      <td>0</td>\n",
       "    </tr>\n",
       "  </tbody>\n",
       "</table>\n",
       "</div>"
      ],
      "text/plain": [
       "  pk_partition  Cluster  credit_card  debit_card  em_account_p  em_account_pp  \\\n",
       "0   2019-05-28        7            2           8             0              0   \n",
       "\n",
       "   em_acount  emc_account  funds  loans  long_term_deposit  mortgage  payroll  \\\n",
       "0         42            3      0      0                  0         0     1.00   \n",
       "\n",
       "   payroll_account  pension_plan  securities  short_term_deposit  \n",
       "0                1          1.00           0                   0  "
      ]
     },
     "execution_count": 59,
     "metadata": {},
     "output_type": "execute_result"
    }
   ],
   "source": [
    "clientes_actuales_"
   ]
  },
  {
   "cell_type": "code",
   "execution_count": 60,
   "metadata": {
    "ExecuteTime": {
     "end_time": "2020-09-14T09:06:54.772190Z",
     "start_time": "2020-09-14T09:06:54.763197Z"
    }
   },
   "outputs": [],
   "source": [
    "clientes_actuales_=clientes_actuales_.melt(id_vars=['pk_partition','Cluster'],\n",
    "              value_vars=productos_easymoney,\n",
    "              var_name='Product',\n",
    "              value_name='Count')"
   ]
  },
  {
   "cell_type": "code",
   "execution_count": 61,
   "metadata": {
    "ExecuteTime": {
     "end_time": "2020-09-14T09:06:59.350398Z",
     "start_time": "2020-09-14T09:06:58.687729Z"
    },
    "scrolled": true
   },
   "outputs": [
    {
     "data": {
      "application/vnd.plotly.v1+json": {
       "config": {
        "plotlyServerURL": "https://plot.ly"
       },
       "data": [
        {
         "alignmentgroup": "True",
         "hovertemplate": "Product=loans<br>Cluster=%{x}<br>Count=%{y}<extra></extra>",
         "legendgroup": "loans",
         "marker": {
          "color": "#ef55f1"
         },
         "name": "loans",
         "offsetgroup": "loans",
         "orientation": "v",
         "showlegend": true,
         "textposition": "auto",
         "type": "bar",
         "x": [
          7
         ],
         "xaxis": "x",
         "y": [
          0
         ],
         "yaxis": "y"
        },
        {
         "alignmentgroup": "True",
         "hovertemplate": "Product=mortgage<br>Cluster=%{x}<br>Count=%{y}<extra></extra>",
         "legendgroup": "mortgage",
         "marker": {
          "color": "#fb84ce"
         },
         "name": "mortgage",
         "offsetgroup": "mortgage",
         "orientation": "v",
         "showlegend": true,
         "textposition": "auto",
         "type": "bar",
         "x": [
          7
         ],
         "xaxis": "x",
         "y": [
          0
         ],
         "yaxis": "y"
        },
        {
         "alignmentgroup": "True",
         "hovertemplate": "Product=funds<br>Cluster=%{x}<br>Count=%{y}<extra></extra>",
         "legendgroup": "funds",
         "marker": {
          "color": "#fbafa1"
         },
         "name": "funds",
         "offsetgroup": "funds",
         "orientation": "v",
         "showlegend": true,
         "textposition": "auto",
         "type": "bar",
         "x": [
          7
         ],
         "xaxis": "x",
         "y": [
          0
         ],
         "yaxis": "y"
        },
        {
         "alignmentgroup": "True",
         "hovertemplate": "Product=securities<br>Cluster=%{x}<br>Count=%{y}<extra></extra>",
         "legendgroup": "securities",
         "marker": {
          "color": "#fcd471"
         },
         "name": "securities",
         "offsetgroup": "securities",
         "orientation": "v",
         "showlegend": true,
         "textposition": "auto",
         "type": "bar",
         "x": [
          7
         ],
         "xaxis": "x",
         "y": [
          0
         ],
         "yaxis": "y"
        },
        {
         "alignmentgroup": "True",
         "hovertemplate": "Product=long_term_deposit<br>Cluster=%{x}<br>Count=%{y}<extra></extra>",
         "legendgroup": "long_term_deposit",
         "marker": {
          "color": "#f0ed35"
         },
         "name": "long_term_deposit",
         "offsetgroup": "long_term_deposit",
         "orientation": "v",
         "showlegend": true,
         "textposition": "auto",
         "type": "bar",
         "x": [
          7
         ],
         "xaxis": "x",
         "y": [
          0
         ],
         "yaxis": "y"
        },
        {
         "alignmentgroup": "True",
         "hovertemplate": "Product=em_account_pp<br>Cluster=%{x}<br>Count=%{y}<extra></extra>",
         "legendgroup": "em_account_pp",
         "marker": {
          "color": "#c6e516"
         },
         "name": "em_account_pp",
         "offsetgroup": "em_account_pp",
         "orientation": "v",
         "showlegend": true,
         "textposition": "auto",
         "type": "bar",
         "x": [
          7
         ],
         "xaxis": "x",
         "y": [
          0
         ],
         "yaxis": "y"
        },
        {
         "alignmentgroup": "True",
         "hovertemplate": "Product=credit_card<br>Cluster=%{x}<br>Count=%{y}<extra></extra>",
         "legendgroup": "credit_card",
         "marker": {
          "color": "#96d310"
         },
         "name": "credit_card",
         "offsetgroup": "credit_card",
         "orientation": "v",
         "showlegend": true,
         "textposition": "auto",
         "type": "bar",
         "x": [
          7
         ],
         "xaxis": "x",
         "y": [
          2
         ],
         "yaxis": "y"
        },
        {
         "alignmentgroup": "True",
         "hovertemplate": "Product=payroll<br>Cluster=%{x}<br>Count=%{y}<extra></extra>",
         "legendgroup": "payroll",
         "marker": {
          "color": "#61c10b"
         },
         "name": "payroll",
         "offsetgroup": "payroll",
         "orientation": "v",
         "showlegend": true,
         "textposition": "auto",
         "type": "bar",
         "x": [
          7
         ],
         "xaxis": "x",
         "y": [
          1
         ],
         "yaxis": "y"
        },
        {
         "alignmentgroup": "True",
         "hovertemplate": "Product=pension_plan<br>Cluster=%{x}<br>Count=%{y}<extra></extra>",
         "legendgroup": "pension_plan",
         "marker": {
          "color": "#31ac28"
         },
         "name": "pension_plan",
         "offsetgroup": "pension_plan",
         "orientation": "v",
         "showlegend": true,
         "textposition": "auto",
         "type": "bar",
         "x": [
          7
         ],
         "xaxis": "x",
         "y": [
          1
         ],
         "yaxis": "y"
        },
        {
         "alignmentgroup": "True",
         "hovertemplate": "Product=payroll_account<br>Cluster=%{x}<br>Count=%{y}<extra></extra>",
         "legendgroup": "payroll_account",
         "marker": {
          "color": "#439064"
         },
         "name": "payroll_account",
         "offsetgroup": "payroll_account",
         "orientation": "v",
         "showlegend": true,
         "textposition": "auto",
         "type": "bar",
         "x": [
          7
         ],
         "xaxis": "x",
         "y": [
          1
         ],
         "yaxis": "y"
        },
        {
         "alignmentgroup": "True",
         "hovertemplate": "Product=emc_account<br>Cluster=%{x}<br>Count=%{y}<extra></extra>",
         "legendgroup": "emc_account",
         "marker": {
          "color": "#3d719a"
         },
         "name": "emc_account",
         "offsetgroup": "emc_account",
         "orientation": "v",
         "showlegend": true,
         "textposition": "auto",
         "type": "bar",
         "x": [
          7
         ],
         "xaxis": "x",
         "y": [
          3
         ],
         "yaxis": "y"
        },
        {
         "alignmentgroup": "True",
         "hovertemplate": "Product=debit_card<br>Cluster=%{x}<br>Count=%{y}<extra></extra>",
         "legendgroup": "debit_card",
         "marker": {
          "color": "#284ec8"
         },
         "name": "debit_card",
         "offsetgroup": "debit_card",
         "orientation": "v",
         "showlegend": true,
         "textposition": "auto",
         "type": "bar",
         "x": [
          7
         ],
         "xaxis": "x",
         "y": [
          8
         ],
         "yaxis": "y"
        },
        {
         "alignmentgroup": "True",
         "hovertemplate": "Product=em_account_p<br>Cluster=%{x}<br>Count=%{y}<extra></extra>",
         "legendgroup": "em_account_p",
         "marker": {
          "color": "#2e21ea"
         },
         "name": "em_account_p",
         "offsetgroup": "em_account_p",
         "orientation": "v",
         "showlegend": true,
         "textposition": "auto",
         "type": "bar",
         "x": [
          7
         ],
         "xaxis": "x",
         "y": [
          0
         ],
         "yaxis": "y"
        },
        {
         "alignmentgroup": "True",
         "hovertemplate": "Product=em_acount<br>Cluster=%{x}<br>Count=%{y}<extra></extra>",
         "legendgroup": "em_acount",
         "marker": {
          "color": "#6324f5"
         },
         "name": "em_acount",
         "offsetgroup": "em_acount",
         "orientation": "v",
         "showlegend": true,
         "textposition": "auto",
         "type": "bar",
         "x": [
          7
         ],
         "xaxis": "x",
         "y": [
          42
         ],
         "yaxis": "y"
        },
        {
         "alignmentgroup": "True",
         "hovertemplate": "Product=short_term_deposit<br>Cluster=%{x}<br>Count=%{y}<extra></extra>",
         "legendgroup": "short_term_deposit",
         "marker": {
          "color": "#9139fa"
         },
         "name": "short_term_deposit",
         "offsetgroup": "short_term_deposit",
         "orientation": "v",
         "showlegend": true,
         "textposition": "auto",
         "type": "bar",
         "x": [
          7
         ],
         "xaxis": "x",
         "y": [
          0
         ],
         "yaxis": "y"
        }
       ],
       "layout": {
        "barmode": "relative",
        "height": 600,
        "legend": {
         "title": {
          "text": "Product"
         },
         "tracegroupgap": 0
        },
        "template": {
         "data": {
          "bar": [
           {
            "error_x": {
             "color": "#2a3f5f"
            },
            "error_y": {
             "color": "#2a3f5f"
            },
            "marker": {
             "line": {
              "color": "#E5ECF6",
              "width": 0.5
             }
            },
            "type": "bar"
           }
          ],
          "barpolar": [
           {
            "marker": {
             "line": {
              "color": "#E5ECF6",
              "width": 0.5
             }
            },
            "type": "barpolar"
           }
          ],
          "carpet": [
           {
            "aaxis": {
             "endlinecolor": "#2a3f5f",
             "gridcolor": "white",
             "linecolor": "white",
             "minorgridcolor": "white",
             "startlinecolor": "#2a3f5f"
            },
            "baxis": {
             "endlinecolor": "#2a3f5f",
             "gridcolor": "white",
             "linecolor": "white",
             "minorgridcolor": "white",
             "startlinecolor": "#2a3f5f"
            },
            "type": "carpet"
           }
          ],
          "choropleth": [
           {
            "colorbar": {
             "outlinewidth": 0,
             "ticks": ""
            },
            "type": "choropleth"
           }
          ],
          "contour": [
           {
            "colorbar": {
             "outlinewidth": 0,
             "ticks": ""
            },
            "colorscale": [
             [
              0,
              "#0d0887"
             ],
             [
              0.1111111111111111,
              "#46039f"
             ],
             [
              0.2222222222222222,
              "#7201a8"
             ],
             [
              0.3333333333333333,
              "#9c179e"
             ],
             [
              0.4444444444444444,
              "#bd3786"
             ],
             [
              0.5555555555555556,
              "#d8576b"
             ],
             [
              0.6666666666666666,
              "#ed7953"
             ],
             [
              0.7777777777777778,
              "#fb9f3a"
             ],
             [
              0.8888888888888888,
              "#fdca26"
             ],
             [
              1,
              "#f0f921"
             ]
            ],
            "type": "contour"
           }
          ],
          "contourcarpet": [
           {
            "colorbar": {
             "outlinewidth": 0,
             "ticks": ""
            },
            "type": "contourcarpet"
           }
          ],
          "heatmap": [
           {
            "colorbar": {
             "outlinewidth": 0,
             "ticks": ""
            },
            "colorscale": [
             [
              0,
              "#0d0887"
             ],
             [
              0.1111111111111111,
              "#46039f"
             ],
             [
              0.2222222222222222,
              "#7201a8"
             ],
             [
              0.3333333333333333,
              "#9c179e"
             ],
             [
              0.4444444444444444,
              "#bd3786"
             ],
             [
              0.5555555555555556,
              "#d8576b"
             ],
             [
              0.6666666666666666,
              "#ed7953"
             ],
             [
              0.7777777777777778,
              "#fb9f3a"
             ],
             [
              0.8888888888888888,
              "#fdca26"
             ],
             [
              1,
              "#f0f921"
             ]
            ],
            "type": "heatmap"
           }
          ],
          "heatmapgl": [
           {
            "colorbar": {
             "outlinewidth": 0,
             "ticks": ""
            },
            "colorscale": [
             [
              0,
              "#0d0887"
             ],
             [
              0.1111111111111111,
              "#46039f"
             ],
             [
              0.2222222222222222,
              "#7201a8"
             ],
             [
              0.3333333333333333,
              "#9c179e"
             ],
             [
              0.4444444444444444,
              "#bd3786"
             ],
             [
              0.5555555555555556,
              "#d8576b"
             ],
             [
              0.6666666666666666,
              "#ed7953"
             ],
             [
              0.7777777777777778,
              "#fb9f3a"
             ],
             [
              0.8888888888888888,
              "#fdca26"
             ],
             [
              1,
              "#f0f921"
             ]
            ],
            "type": "heatmapgl"
           }
          ],
          "histogram": [
           {
            "marker": {
             "colorbar": {
              "outlinewidth": 0,
              "ticks": ""
             }
            },
            "type": "histogram"
           }
          ],
          "histogram2d": [
           {
            "colorbar": {
             "outlinewidth": 0,
             "ticks": ""
            },
            "colorscale": [
             [
              0,
              "#0d0887"
             ],
             [
              0.1111111111111111,
              "#46039f"
             ],
             [
              0.2222222222222222,
              "#7201a8"
             ],
             [
              0.3333333333333333,
              "#9c179e"
             ],
             [
              0.4444444444444444,
              "#bd3786"
             ],
             [
              0.5555555555555556,
              "#d8576b"
             ],
             [
              0.6666666666666666,
              "#ed7953"
             ],
             [
              0.7777777777777778,
              "#fb9f3a"
             ],
             [
              0.8888888888888888,
              "#fdca26"
             ],
             [
              1,
              "#f0f921"
             ]
            ],
            "type": "histogram2d"
           }
          ],
          "histogram2dcontour": [
           {
            "colorbar": {
             "outlinewidth": 0,
             "ticks": ""
            },
            "colorscale": [
             [
              0,
              "#0d0887"
             ],
             [
              0.1111111111111111,
              "#46039f"
             ],
             [
              0.2222222222222222,
              "#7201a8"
             ],
             [
              0.3333333333333333,
              "#9c179e"
             ],
             [
              0.4444444444444444,
              "#bd3786"
             ],
             [
              0.5555555555555556,
              "#d8576b"
             ],
             [
              0.6666666666666666,
              "#ed7953"
             ],
             [
              0.7777777777777778,
              "#fb9f3a"
             ],
             [
              0.8888888888888888,
              "#fdca26"
             ],
             [
              1,
              "#f0f921"
             ]
            ],
            "type": "histogram2dcontour"
           }
          ],
          "mesh3d": [
           {
            "colorbar": {
             "outlinewidth": 0,
             "ticks": ""
            },
            "type": "mesh3d"
           }
          ],
          "parcoords": [
           {
            "line": {
             "colorbar": {
              "outlinewidth": 0,
              "ticks": ""
             }
            },
            "type": "parcoords"
           }
          ],
          "pie": [
           {
            "automargin": true,
            "type": "pie"
           }
          ],
          "scatter": [
           {
            "marker": {
             "colorbar": {
              "outlinewidth": 0,
              "ticks": ""
             }
            },
            "type": "scatter"
           }
          ],
          "scatter3d": [
           {
            "line": {
             "colorbar": {
              "outlinewidth": 0,
              "ticks": ""
             }
            },
            "marker": {
             "colorbar": {
              "outlinewidth": 0,
              "ticks": ""
             }
            },
            "type": "scatter3d"
           }
          ],
          "scattercarpet": [
           {
            "marker": {
             "colorbar": {
              "outlinewidth": 0,
              "ticks": ""
             }
            },
            "type": "scattercarpet"
           }
          ],
          "scattergeo": [
           {
            "marker": {
             "colorbar": {
              "outlinewidth": 0,
              "ticks": ""
             }
            },
            "type": "scattergeo"
           }
          ],
          "scattergl": [
           {
            "marker": {
             "colorbar": {
              "outlinewidth": 0,
              "ticks": ""
             }
            },
            "type": "scattergl"
           }
          ],
          "scattermapbox": [
           {
            "marker": {
             "colorbar": {
              "outlinewidth": 0,
              "ticks": ""
             }
            },
            "type": "scattermapbox"
           }
          ],
          "scatterpolar": [
           {
            "marker": {
             "colorbar": {
              "outlinewidth": 0,
              "ticks": ""
             }
            },
            "type": "scatterpolar"
           }
          ],
          "scatterpolargl": [
           {
            "marker": {
             "colorbar": {
              "outlinewidth": 0,
              "ticks": ""
             }
            },
            "type": "scatterpolargl"
           }
          ],
          "scatterternary": [
           {
            "marker": {
             "colorbar": {
              "outlinewidth": 0,
              "ticks": ""
             }
            },
            "type": "scatterternary"
           }
          ],
          "surface": [
           {
            "colorbar": {
             "outlinewidth": 0,
             "ticks": ""
            },
            "colorscale": [
             [
              0,
              "#0d0887"
             ],
             [
              0.1111111111111111,
              "#46039f"
             ],
             [
              0.2222222222222222,
              "#7201a8"
             ],
             [
              0.3333333333333333,
              "#9c179e"
             ],
             [
              0.4444444444444444,
              "#bd3786"
             ],
             [
              0.5555555555555556,
              "#d8576b"
             ],
             [
              0.6666666666666666,
              "#ed7953"
             ],
             [
              0.7777777777777778,
              "#fb9f3a"
             ],
             [
              0.8888888888888888,
              "#fdca26"
             ],
             [
              1,
              "#f0f921"
             ]
            ],
            "type": "surface"
           }
          ],
          "table": [
           {
            "cells": {
             "fill": {
              "color": "#EBF0F8"
             },
             "line": {
              "color": "white"
             }
            },
            "header": {
             "fill": {
              "color": "#C8D4E3"
             },
             "line": {
              "color": "white"
             }
            },
            "type": "table"
           }
          ]
         },
         "layout": {
          "annotationdefaults": {
           "arrowcolor": "#2a3f5f",
           "arrowhead": 0,
           "arrowwidth": 1
          },
          "coloraxis": {
           "colorbar": {
            "outlinewidth": 0,
            "ticks": ""
           }
          },
          "colorscale": {
           "diverging": [
            [
             0,
             "#8e0152"
            ],
            [
             0.1,
             "#c51b7d"
            ],
            [
             0.2,
             "#de77ae"
            ],
            [
             0.3,
             "#f1b6da"
            ],
            [
             0.4,
             "#fde0ef"
            ],
            [
             0.5,
             "#f7f7f7"
            ],
            [
             0.6,
             "#e6f5d0"
            ],
            [
             0.7,
             "#b8e186"
            ],
            [
             0.8,
             "#7fbc41"
            ],
            [
             0.9,
             "#4d9221"
            ],
            [
             1,
             "#276419"
            ]
           ],
           "sequential": [
            [
             0,
             "#0d0887"
            ],
            [
             0.1111111111111111,
             "#46039f"
            ],
            [
             0.2222222222222222,
             "#7201a8"
            ],
            [
             0.3333333333333333,
             "#9c179e"
            ],
            [
             0.4444444444444444,
             "#bd3786"
            ],
            [
             0.5555555555555556,
             "#d8576b"
            ],
            [
             0.6666666666666666,
             "#ed7953"
            ],
            [
             0.7777777777777778,
             "#fb9f3a"
            ],
            [
             0.8888888888888888,
             "#fdca26"
            ],
            [
             1,
             "#f0f921"
            ]
           ],
           "sequentialminus": [
            [
             0,
             "#0d0887"
            ],
            [
             0.1111111111111111,
             "#46039f"
            ],
            [
             0.2222222222222222,
             "#7201a8"
            ],
            [
             0.3333333333333333,
             "#9c179e"
            ],
            [
             0.4444444444444444,
             "#bd3786"
            ],
            [
             0.5555555555555556,
             "#d8576b"
            ],
            [
             0.6666666666666666,
             "#ed7953"
            ],
            [
             0.7777777777777778,
             "#fb9f3a"
            ],
            [
             0.8888888888888888,
             "#fdca26"
            ],
            [
             1,
             "#f0f921"
            ]
           ]
          },
          "colorway": [
           "#636efa",
           "#EF553B",
           "#00cc96",
           "#ab63fa",
           "#FFA15A",
           "#19d3f3",
           "#FF6692",
           "#B6E880",
           "#FF97FF",
           "#FECB52"
          ],
          "font": {
           "color": "#2a3f5f"
          },
          "geo": {
           "bgcolor": "white",
           "lakecolor": "white",
           "landcolor": "#E5ECF6",
           "showlakes": true,
           "showland": true,
           "subunitcolor": "white"
          },
          "hoverlabel": {
           "align": "left"
          },
          "hovermode": "closest",
          "mapbox": {
           "style": "light"
          },
          "paper_bgcolor": "white",
          "plot_bgcolor": "#E5ECF6",
          "polar": {
           "angularaxis": {
            "gridcolor": "white",
            "linecolor": "white",
            "ticks": ""
           },
           "bgcolor": "#E5ECF6",
           "radialaxis": {
            "gridcolor": "white",
            "linecolor": "white",
            "ticks": ""
           }
          },
          "scene": {
           "xaxis": {
            "backgroundcolor": "#E5ECF6",
            "gridcolor": "white",
            "gridwidth": 2,
            "linecolor": "white",
            "showbackground": true,
            "ticks": "",
            "zerolinecolor": "white"
           },
           "yaxis": {
            "backgroundcolor": "#E5ECF6",
            "gridcolor": "white",
            "gridwidth": 2,
            "linecolor": "white",
            "showbackground": true,
            "ticks": "",
            "zerolinecolor": "white"
           },
           "zaxis": {
            "backgroundcolor": "#E5ECF6",
            "gridcolor": "white",
            "gridwidth": 2,
            "linecolor": "white",
            "showbackground": true,
            "ticks": "",
            "zerolinecolor": "white"
           }
          },
          "shapedefaults": {
           "line": {
            "color": "#2a3f5f"
           }
          },
          "ternary": {
           "aaxis": {
            "gridcolor": "white",
            "linecolor": "white",
            "ticks": ""
           },
           "baxis": {
            "gridcolor": "white",
            "linecolor": "white",
            "ticks": ""
           },
           "bgcolor": "#E5ECF6",
           "caxis": {
            "gridcolor": "white",
            "linecolor": "white",
            "ticks": ""
           }
          },
          "title": {
           "x": 0.05
          },
          "xaxis": {
           "automargin": true,
           "gridcolor": "white",
           "linecolor": "white",
           "ticks": "",
           "title": {
            "standoff": 15
           },
           "zerolinecolor": "white",
           "zerolinewidth": 2
          },
          "yaxis": {
           "automargin": true,
           "gridcolor": "white",
           "linecolor": "white",
           "ticks": "",
           "title": {
            "standoff": 15
           },
           "zerolinecolor": "white",
           "zerolinewidth": 2
          }
         }
        },
        "title": {
         "text": "Productos para grupo 7"
        },
        "xaxis": {
         "anchor": "y",
         "domain": [
          0,
          1
         ],
         "title": {
          "text": "Cluster"
         }
        },
        "yaxis": {
         "anchor": "x",
         "domain": [
          0,
          1
         ],
         "title": {
          "text": "Count"
         }
        }
       }
      },
      "text/html": [
       "<div>\n",
       "        \n",
       "        \n",
       "            <div id=\"fcb7f302-5fcf-4295-bff6-8ef433e4fa39\" class=\"plotly-graph-div\" style=\"height:600px; width:100%;\"></div>\n",
       "            <script type=\"text/javascript\">\n",
       "                require([\"plotly\"], function(Plotly) {\n",
       "                    window.PLOTLYENV=window.PLOTLYENV || {};\n",
       "                    \n",
       "                if (document.getElementById(\"fcb7f302-5fcf-4295-bff6-8ef433e4fa39\")) {\n",
       "                    Plotly.newPlot(\n",
       "                        'fcb7f302-5fcf-4295-bff6-8ef433e4fa39',\n",
       "                        [{\"alignmentgroup\": \"True\", \"hovertemplate\": \"Product=loans<br>Cluster=%{x}<br>Count=%{y}<extra></extra>\", \"legendgroup\": \"loans\", \"marker\": {\"color\": \"#ef55f1\"}, \"name\": \"loans\", \"offsetgroup\": \"loans\", \"orientation\": \"v\", \"showlegend\": true, \"textposition\": \"auto\", \"type\": \"bar\", \"x\": [7], \"xaxis\": \"x\", \"y\": [0.0], \"yaxis\": \"y\"}, {\"alignmentgroup\": \"True\", \"hovertemplate\": \"Product=mortgage<br>Cluster=%{x}<br>Count=%{y}<extra></extra>\", \"legendgroup\": \"mortgage\", \"marker\": {\"color\": \"#fb84ce\"}, \"name\": \"mortgage\", \"offsetgroup\": \"mortgage\", \"orientation\": \"v\", \"showlegend\": true, \"textposition\": \"auto\", \"type\": \"bar\", \"x\": [7], \"xaxis\": \"x\", \"y\": [0.0], \"yaxis\": \"y\"}, {\"alignmentgroup\": \"True\", \"hovertemplate\": \"Product=funds<br>Cluster=%{x}<br>Count=%{y}<extra></extra>\", \"legendgroup\": \"funds\", \"marker\": {\"color\": \"#fbafa1\"}, \"name\": \"funds\", \"offsetgroup\": \"funds\", \"orientation\": \"v\", \"showlegend\": true, \"textposition\": \"auto\", \"type\": \"bar\", \"x\": [7], \"xaxis\": \"x\", \"y\": [0.0], \"yaxis\": \"y\"}, {\"alignmentgroup\": \"True\", \"hovertemplate\": \"Product=securities<br>Cluster=%{x}<br>Count=%{y}<extra></extra>\", \"legendgroup\": \"securities\", \"marker\": {\"color\": \"#fcd471\"}, \"name\": \"securities\", \"offsetgroup\": \"securities\", \"orientation\": \"v\", \"showlegend\": true, \"textposition\": \"auto\", \"type\": \"bar\", \"x\": [7], \"xaxis\": \"x\", \"y\": [0.0], \"yaxis\": \"y\"}, {\"alignmentgroup\": \"True\", \"hovertemplate\": \"Product=long_term_deposit<br>Cluster=%{x}<br>Count=%{y}<extra></extra>\", \"legendgroup\": \"long_term_deposit\", \"marker\": {\"color\": \"#f0ed35\"}, \"name\": \"long_term_deposit\", \"offsetgroup\": \"long_term_deposit\", \"orientation\": \"v\", \"showlegend\": true, \"textposition\": \"auto\", \"type\": \"bar\", \"x\": [7], \"xaxis\": \"x\", \"y\": [0.0], \"yaxis\": \"y\"}, {\"alignmentgroup\": \"True\", \"hovertemplate\": \"Product=em_account_pp<br>Cluster=%{x}<br>Count=%{y}<extra></extra>\", \"legendgroup\": \"em_account_pp\", \"marker\": {\"color\": \"#c6e516\"}, \"name\": \"em_account_pp\", \"offsetgroup\": \"em_account_pp\", \"orientation\": \"v\", \"showlegend\": true, \"textposition\": \"auto\", \"type\": \"bar\", \"x\": [7], \"xaxis\": \"x\", \"y\": [0.0], \"yaxis\": \"y\"}, {\"alignmentgroup\": \"True\", \"hovertemplate\": \"Product=credit_card<br>Cluster=%{x}<br>Count=%{y}<extra></extra>\", \"legendgroup\": \"credit_card\", \"marker\": {\"color\": \"#96d310\"}, \"name\": \"credit_card\", \"offsetgroup\": \"credit_card\", \"orientation\": \"v\", \"showlegend\": true, \"textposition\": \"auto\", \"type\": \"bar\", \"x\": [7], \"xaxis\": \"x\", \"y\": [2.0], \"yaxis\": \"y\"}, {\"alignmentgroup\": \"True\", \"hovertemplate\": \"Product=payroll<br>Cluster=%{x}<br>Count=%{y}<extra></extra>\", \"legendgroup\": \"payroll\", \"marker\": {\"color\": \"#61c10b\"}, \"name\": \"payroll\", \"offsetgroup\": \"payroll\", \"orientation\": \"v\", \"showlegend\": true, \"textposition\": \"auto\", \"type\": \"bar\", \"x\": [7], \"xaxis\": \"x\", \"y\": [1.0], \"yaxis\": \"y\"}, {\"alignmentgroup\": \"True\", \"hovertemplate\": \"Product=pension_plan<br>Cluster=%{x}<br>Count=%{y}<extra></extra>\", \"legendgroup\": \"pension_plan\", \"marker\": {\"color\": \"#31ac28\"}, \"name\": \"pension_plan\", \"offsetgroup\": \"pension_plan\", \"orientation\": \"v\", \"showlegend\": true, \"textposition\": \"auto\", \"type\": \"bar\", \"x\": [7], \"xaxis\": \"x\", \"y\": [1.0], \"yaxis\": \"y\"}, {\"alignmentgroup\": \"True\", \"hovertemplate\": \"Product=payroll_account<br>Cluster=%{x}<br>Count=%{y}<extra></extra>\", \"legendgroup\": \"payroll_account\", \"marker\": {\"color\": \"#439064\"}, \"name\": \"payroll_account\", \"offsetgroup\": \"payroll_account\", \"orientation\": \"v\", \"showlegend\": true, \"textposition\": \"auto\", \"type\": \"bar\", \"x\": [7], \"xaxis\": \"x\", \"y\": [1.0], \"yaxis\": \"y\"}, {\"alignmentgroup\": \"True\", \"hovertemplate\": \"Product=emc_account<br>Cluster=%{x}<br>Count=%{y}<extra></extra>\", \"legendgroup\": \"emc_account\", \"marker\": {\"color\": \"#3d719a\"}, \"name\": \"emc_account\", \"offsetgroup\": \"emc_account\", \"orientation\": \"v\", \"showlegend\": true, \"textposition\": \"auto\", \"type\": \"bar\", \"x\": [7], \"xaxis\": \"x\", \"y\": [3.0], \"yaxis\": \"y\"}, {\"alignmentgroup\": \"True\", \"hovertemplate\": \"Product=debit_card<br>Cluster=%{x}<br>Count=%{y}<extra></extra>\", \"legendgroup\": \"debit_card\", \"marker\": {\"color\": \"#284ec8\"}, \"name\": \"debit_card\", \"offsetgroup\": \"debit_card\", \"orientation\": \"v\", \"showlegend\": true, \"textposition\": \"auto\", \"type\": \"bar\", \"x\": [7], \"xaxis\": \"x\", \"y\": [8.0], \"yaxis\": \"y\"}, {\"alignmentgroup\": \"True\", \"hovertemplate\": \"Product=em_account_p<br>Cluster=%{x}<br>Count=%{y}<extra></extra>\", \"legendgroup\": \"em_account_p\", \"marker\": {\"color\": \"#2e21ea\"}, \"name\": \"em_account_p\", \"offsetgroup\": \"em_account_p\", \"orientation\": \"v\", \"showlegend\": true, \"textposition\": \"auto\", \"type\": \"bar\", \"x\": [7], \"xaxis\": \"x\", \"y\": [0.0], \"yaxis\": \"y\"}, {\"alignmentgroup\": \"True\", \"hovertemplate\": \"Product=em_acount<br>Cluster=%{x}<br>Count=%{y}<extra></extra>\", \"legendgroup\": \"em_acount\", \"marker\": {\"color\": \"#6324f5\"}, \"name\": \"em_acount\", \"offsetgroup\": \"em_acount\", \"orientation\": \"v\", \"showlegend\": true, \"textposition\": \"auto\", \"type\": \"bar\", \"x\": [7], \"xaxis\": \"x\", \"y\": [42.0], \"yaxis\": \"y\"}, {\"alignmentgroup\": \"True\", \"hovertemplate\": \"Product=short_term_deposit<br>Cluster=%{x}<br>Count=%{y}<extra></extra>\", \"legendgroup\": \"short_term_deposit\", \"marker\": {\"color\": \"#9139fa\"}, \"name\": \"short_term_deposit\", \"offsetgroup\": \"short_term_deposit\", \"orientation\": \"v\", \"showlegend\": true, \"textposition\": \"auto\", \"type\": \"bar\", \"x\": [7], \"xaxis\": \"x\", \"y\": [0.0], \"yaxis\": \"y\"}],\n",
       "                        {\"barmode\": \"relative\", \"height\": 600, \"legend\": {\"title\": {\"text\": \"Product\"}, \"tracegroupgap\": 0}, \"template\": {\"data\": {\"bar\": [{\"error_x\": {\"color\": \"#2a3f5f\"}, \"error_y\": {\"color\": \"#2a3f5f\"}, \"marker\": {\"line\": {\"color\": \"#E5ECF6\", \"width\": 0.5}}, \"type\": \"bar\"}], \"barpolar\": [{\"marker\": {\"line\": {\"color\": \"#E5ECF6\", \"width\": 0.5}}, \"type\": \"barpolar\"}], \"carpet\": [{\"aaxis\": {\"endlinecolor\": \"#2a3f5f\", \"gridcolor\": \"white\", \"linecolor\": \"white\", \"minorgridcolor\": \"white\", \"startlinecolor\": \"#2a3f5f\"}, \"baxis\": {\"endlinecolor\": \"#2a3f5f\", \"gridcolor\": \"white\", \"linecolor\": \"white\", \"minorgridcolor\": \"white\", \"startlinecolor\": \"#2a3f5f\"}, \"type\": \"carpet\"}], \"choropleth\": [{\"colorbar\": {\"outlinewidth\": 0, \"ticks\": \"\"}, \"type\": \"choropleth\"}], \"contour\": [{\"colorbar\": {\"outlinewidth\": 0, \"ticks\": \"\"}, \"colorscale\": [[0.0, \"#0d0887\"], [0.1111111111111111, \"#46039f\"], [0.2222222222222222, \"#7201a8\"], [0.3333333333333333, \"#9c179e\"], [0.4444444444444444, \"#bd3786\"], [0.5555555555555556, \"#d8576b\"], [0.6666666666666666, \"#ed7953\"], [0.7777777777777778, \"#fb9f3a\"], [0.8888888888888888, \"#fdca26\"], [1.0, \"#f0f921\"]], \"type\": \"contour\"}], \"contourcarpet\": [{\"colorbar\": {\"outlinewidth\": 0, \"ticks\": \"\"}, \"type\": \"contourcarpet\"}], \"heatmap\": [{\"colorbar\": {\"outlinewidth\": 0, \"ticks\": \"\"}, \"colorscale\": [[0.0, \"#0d0887\"], [0.1111111111111111, \"#46039f\"], [0.2222222222222222, \"#7201a8\"], [0.3333333333333333, \"#9c179e\"], [0.4444444444444444, \"#bd3786\"], [0.5555555555555556, \"#d8576b\"], [0.6666666666666666, \"#ed7953\"], [0.7777777777777778, \"#fb9f3a\"], [0.8888888888888888, \"#fdca26\"], [1.0, \"#f0f921\"]], \"type\": \"heatmap\"}], \"heatmapgl\": [{\"colorbar\": {\"outlinewidth\": 0, \"ticks\": \"\"}, \"colorscale\": [[0.0, \"#0d0887\"], [0.1111111111111111, \"#46039f\"], [0.2222222222222222, \"#7201a8\"], [0.3333333333333333, \"#9c179e\"], [0.4444444444444444, \"#bd3786\"], [0.5555555555555556, \"#d8576b\"], [0.6666666666666666, \"#ed7953\"], [0.7777777777777778, \"#fb9f3a\"], [0.8888888888888888, \"#fdca26\"], [1.0, \"#f0f921\"]], \"type\": \"heatmapgl\"}], \"histogram\": [{\"marker\": {\"colorbar\": {\"outlinewidth\": 0, \"ticks\": \"\"}}, \"type\": \"histogram\"}], \"histogram2d\": [{\"colorbar\": {\"outlinewidth\": 0, \"ticks\": \"\"}, \"colorscale\": [[0.0, \"#0d0887\"], [0.1111111111111111, \"#46039f\"], [0.2222222222222222, \"#7201a8\"], [0.3333333333333333, \"#9c179e\"], [0.4444444444444444, \"#bd3786\"], [0.5555555555555556, \"#d8576b\"], [0.6666666666666666, \"#ed7953\"], [0.7777777777777778, \"#fb9f3a\"], [0.8888888888888888, \"#fdca26\"], [1.0, \"#f0f921\"]], \"type\": \"histogram2d\"}], \"histogram2dcontour\": [{\"colorbar\": {\"outlinewidth\": 0, \"ticks\": \"\"}, \"colorscale\": [[0.0, \"#0d0887\"], [0.1111111111111111, \"#46039f\"], [0.2222222222222222, \"#7201a8\"], [0.3333333333333333, \"#9c179e\"], [0.4444444444444444, \"#bd3786\"], [0.5555555555555556, \"#d8576b\"], [0.6666666666666666, \"#ed7953\"], [0.7777777777777778, \"#fb9f3a\"], [0.8888888888888888, \"#fdca26\"], [1.0, \"#f0f921\"]], \"type\": \"histogram2dcontour\"}], \"mesh3d\": [{\"colorbar\": {\"outlinewidth\": 0, \"ticks\": \"\"}, \"type\": \"mesh3d\"}], \"parcoords\": [{\"line\": {\"colorbar\": {\"outlinewidth\": 0, \"ticks\": \"\"}}, \"type\": \"parcoords\"}], \"pie\": [{\"automargin\": true, \"type\": \"pie\"}], \"scatter\": [{\"marker\": {\"colorbar\": {\"outlinewidth\": 0, \"ticks\": \"\"}}, \"type\": \"scatter\"}], \"scatter3d\": [{\"line\": {\"colorbar\": {\"outlinewidth\": 0, \"ticks\": \"\"}}, \"marker\": {\"colorbar\": {\"outlinewidth\": 0, \"ticks\": \"\"}}, \"type\": \"scatter3d\"}], \"scattercarpet\": [{\"marker\": {\"colorbar\": {\"outlinewidth\": 0, \"ticks\": \"\"}}, \"type\": \"scattercarpet\"}], \"scattergeo\": [{\"marker\": {\"colorbar\": {\"outlinewidth\": 0, \"ticks\": \"\"}}, \"type\": \"scattergeo\"}], \"scattergl\": [{\"marker\": {\"colorbar\": {\"outlinewidth\": 0, \"ticks\": \"\"}}, \"type\": \"scattergl\"}], \"scattermapbox\": [{\"marker\": {\"colorbar\": {\"outlinewidth\": 0, \"ticks\": \"\"}}, \"type\": \"scattermapbox\"}], \"scatterpolar\": [{\"marker\": {\"colorbar\": {\"outlinewidth\": 0, \"ticks\": \"\"}}, \"type\": \"scatterpolar\"}], \"scatterpolargl\": [{\"marker\": {\"colorbar\": {\"outlinewidth\": 0, \"ticks\": \"\"}}, \"type\": \"scatterpolargl\"}], \"scatterternary\": [{\"marker\": {\"colorbar\": {\"outlinewidth\": 0, \"ticks\": \"\"}}, \"type\": \"scatterternary\"}], \"surface\": [{\"colorbar\": {\"outlinewidth\": 0, \"ticks\": \"\"}, \"colorscale\": [[0.0, \"#0d0887\"], [0.1111111111111111, \"#46039f\"], [0.2222222222222222, \"#7201a8\"], [0.3333333333333333, \"#9c179e\"], [0.4444444444444444, \"#bd3786\"], [0.5555555555555556, \"#d8576b\"], [0.6666666666666666, \"#ed7953\"], [0.7777777777777778, \"#fb9f3a\"], [0.8888888888888888, \"#fdca26\"], [1.0, \"#f0f921\"]], \"type\": \"surface\"}], \"table\": [{\"cells\": {\"fill\": {\"color\": \"#EBF0F8\"}, \"line\": {\"color\": \"white\"}}, \"header\": {\"fill\": {\"color\": \"#C8D4E3\"}, \"line\": {\"color\": \"white\"}}, \"type\": \"table\"}]}, \"layout\": {\"annotationdefaults\": {\"arrowcolor\": \"#2a3f5f\", \"arrowhead\": 0, \"arrowwidth\": 1}, \"coloraxis\": {\"colorbar\": {\"outlinewidth\": 0, \"ticks\": \"\"}}, \"colorscale\": {\"diverging\": [[0, \"#8e0152\"], [0.1, \"#c51b7d\"], [0.2, \"#de77ae\"], [0.3, \"#f1b6da\"], [0.4, \"#fde0ef\"], [0.5, \"#f7f7f7\"], [0.6, \"#e6f5d0\"], [0.7, \"#b8e186\"], [0.8, \"#7fbc41\"], [0.9, \"#4d9221\"], [1, \"#276419\"]], \"sequential\": [[0.0, \"#0d0887\"], [0.1111111111111111, \"#46039f\"], [0.2222222222222222, \"#7201a8\"], [0.3333333333333333, \"#9c179e\"], [0.4444444444444444, \"#bd3786\"], [0.5555555555555556, \"#d8576b\"], [0.6666666666666666, \"#ed7953\"], [0.7777777777777778, \"#fb9f3a\"], [0.8888888888888888, \"#fdca26\"], [1.0, \"#f0f921\"]], \"sequentialminus\": [[0.0, \"#0d0887\"], [0.1111111111111111, \"#46039f\"], [0.2222222222222222, \"#7201a8\"], [0.3333333333333333, \"#9c179e\"], [0.4444444444444444, \"#bd3786\"], [0.5555555555555556, \"#d8576b\"], [0.6666666666666666, \"#ed7953\"], [0.7777777777777778, \"#fb9f3a\"], [0.8888888888888888, \"#fdca26\"], [1.0, \"#f0f921\"]]}, \"colorway\": [\"#636efa\", \"#EF553B\", \"#00cc96\", \"#ab63fa\", \"#FFA15A\", \"#19d3f3\", \"#FF6692\", \"#B6E880\", \"#FF97FF\", \"#FECB52\"], \"font\": {\"color\": \"#2a3f5f\"}, \"geo\": {\"bgcolor\": \"white\", \"lakecolor\": \"white\", \"landcolor\": \"#E5ECF6\", \"showlakes\": true, \"showland\": true, \"subunitcolor\": \"white\"}, \"hoverlabel\": {\"align\": \"left\"}, \"hovermode\": \"closest\", \"mapbox\": {\"style\": \"light\"}, \"paper_bgcolor\": \"white\", \"plot_bgcolor\": \"#E5ECF6\", \"polar\": {\"angularaxis\": {\"gridcolor\": \"white\", \"linecolor\": \"white\", \"ticks\": \"\"}, \"bgcolor\": \"#E5ECF6\", \"radialaxis\": {\"gridcolor\": \"white\", \"linecolor\": \"white\", \"ticks\": \"\"}}, \"scene\": {\"xaxis\": {\"backgroundcolor\": \"#E5ECF6\", \"gridcolor\": \"white\", \"gridwidth\": 2, \"linecolor\": \"white\", \"showbackground\": true, \"ticks\": \"\", \"zerolinecolor\": \"white\"}, \"yaxis\": {\"backgroundcolor\": \"#E5ECF6\", \"gridcolor\": \"white\", \"gridwidth\": 2, \"linecolor\": \"white\", \"showbackground\": true, \"ticks\": \"\", \"zerolinecolor\": \"white\"}, \"zaxis\": {\"backgroundcolor\": \"#E5ECF6\", \"gridcolor\": \"white\", \"gridwidth\": 2, \"linecolor\": \"white\", \"showbackground\": true, \"ticks\": \"\", \"zerolinecolor\": \"white\"}}, \"shapedefaults\": {\"line\": {\"color\": \"#2a3f5f\"}}, \"ternary\": {\"aaxis\": {\"gridcolor\": \"white\", \"linecolor\": \"white\", \"ticks\": \"\"}, \"baxis\": {\"gridcolor\": \"white\", \"linecolor\": \"white\", \"ticks\": \"\"}, \"bgcolor\": \"#E5ECF6\", \"caxis\": {\"gridcolor\": \"white\", \"linecolor\": \"white\", \"ticks\": \"\"}}, \"title\": {\"x\": 0.05}, \"xaxis\": {\"automargin\": true, \"gridcolor\": \"white\", \"linecolor\": \"white\", \"ticks\": \"\", \"title\": {\"standoff\": 15}, \"zerolinecolor\": \"white\", \"zerolinewidth\": 2}, \"yaxis\": {\"automargin\": true, \"gridcolor\": \"white\", \"linecolor\": \"white\", \"ticks\": \"\", \"title\": {\"standoff\": 15}, \"zerolinecolor\": \"white\", \"zerolinewidth\": 2}}}, \"title\": {\"text\": \"Productos para grupo 7\"}, \"xaxis\": {\"anchor\": \"y\", \"domain\": [0.0, 1.0], \"title\": {\"text\": \"Cluster\"}}, \"yaxis\": {\"anchor\": \"x\", \"domain\": [0.0, 1.0], \"title\": {\"text\": \"Count\"}}},\n",
       "                        {\"responsive\": true}\n",
       "                    ).then(function(){\n",
       "                            \n",
       "var gd = document.getElementById('fcb7f302-5fcf-4295-bff6-8ef433e4fa39');\n",
       "var x = new MutationObserver(function (mutations, observer) {{\n",
       "        var display = window.getComputedStyle(gd).display;\n",
       "        if (!display || display === 'none') {{\n",
       "            console.log([gd, 'removed!']);\n",
       "            Plotly.purge(gd);\n",
       "            observer.disconnect();\n",
       "        }}\n",
       "}});\n",
       "\n",
       "// Listen for the removal of the full notebook cells\n",
       "var notebookContainer = gd.closest('#notebook-container');\n",
       "if (notebookContainer) {{\n",
       "    x.observe(notebookContainer, {childList: true});\n",
       "}}\n",
       "\n",
       "// Listen for the clearing of the current output cell\n",
       "var outputEl = gd.closest('.output');\n",
       "if (outputEl) {{\n",
       "    x.observe(outputEl, {childList: true});\n",
       "}}\n",
       "\n",
       "                        })\n",
       "                };\n",
       "                });\n",
       "            </script>\n",
       "        </div>"
      ]
     },
     "metadata": {},
     "output_type": "display_data"
    }
   ],
   "source": [
    "evolucion_horizontal = px.bar(clientes_actuales_, \n",
    "                              x=\"Cluster\", y=\"Count\", color='Product', orientation='v', \n",
    "                              height=600,title='Productos para grupo 7', \n",
    "                              color_discrete_sequence = px.colors.cyclical.mygbm)\n",
    "evolucion_horizontal.show()"
   ]
  },
  {
   "cell_type": "markdown",
   "metadata": {},
   "source": [
    "# Graficos chulos:"
   ]
  },
  {
   "cell_type": "code",
   "execution_count": 5,
   "metadata": {
    "ExecuteTime": {
     "end_time": "2020-09-16T14:28:42.086105Z",
     "start_time": "2020-09-16T14:28:41.851223Z"
    }
   },
   "outputs": [
    {
     "data": {
      "text/html": [
       "<div>\n",
       "<style scoped>\n",
       "    .dataframe tbody tr th:only-of-type {\n",
       "        vertical-align: middle;\n",
       "    }\n",
       "\n",
       "    .dataframe tbody tr th {\n",
       "        vertical-align: top;\n",
       "    }\n",
       "\n",
       "    .dataframe thead th {\n",
       "        text-align: right;\n",
       "    }\n",
       "</style>\n",
       "<table border=\"1\" class=\"dataframe\">\n",
       "  <thead>\n",
       "    <tr style=\"text-align: right;\">\n",
       "      <th></th>\n",
       "      <th>pk_cid</th>\n",
       "      <th>pk_partition</th>\n",
       "      <th>short_term_deposit</th>\n",
       "      <th>loans</th>\n",
       "      <th>mortgage</th>\n",
       "      <th>funds</th>\n",
       "      <th>securities</th>\n",
       "      <th>long_term_deposit</th>\n",
       "      <th>em_account_pp</th>\n",
       "      <th>credit_card</th>\n",
       "      <th>...</th>\n",
       "      <th>totalFinanciacion</th>\n",
       "      <th>totalIngresos</th>\n",
       "      <th>totalBeneficio</th>\n",
       "      <th>hayAlta</th>\n",
       "      <th>diasDesdeUltimaAlta</th>\n",
       "      <th>diasDesdeUltimaAltaInt</th>\n",
       "      <th>hayBaja</th>\n",
       "      <th>diasDesdeUltimaBaja</th>\n",
       "      <th>diasDesdeUltimaBajaInt</th>\n",
       "      <th>Cluster</th>\n",
       "    </tr>\n",
       "  </thead>\n",
       "  <tbody>\n",
       "    <tr>\n",
       "      <th>0</th>\n",
       "      <td>16063</td>\n",
       "      <td>2019-05-28</td>\n",
       "      <td>0</td>\n",
       "      <td>0</td>\n",
       "      <td>0</td>\n",
       "      <td>0</td>\n",
       "      <td>0</td>\n",
       "      <td>0</td>\n",
       "      <td>0</td>\n",
       "      <td>0</td>\n",
       "      <td>...</td>\n",
       "      <td>0</td>\n",
       "      <td>0.00</td>\n",
       "      <td>0.00</td>\n",
       "      <td>0</td>\n",
       "      <td>1 days 00:00:00</td>\n",
       "      <td>1</td>\n",
       "      <td>0</td>\n",
       "      <td>1 days 00:00:00</td>\n",
       "      <td>1</td>\n",
       "      <td>2</td>\n",
       "    </tr>\n",
       "    <tr>\n",
       "      <th>1</th>\n",
       "      <td>16203</td>\n",
       "      <td>2019-05-28</td>\n",
       "      <td>0</td>\n",
       "      <td>0</td>\n",
       "      <td>0</td>\n",
       "      <td>0</td>\n",
       "      <td>0</td>\n",
       "      <td>0</td>\n",
       "      <td>0</td>\n",
       "      <td>0</td>\n",
       "      <td>...</td>\n",
       "      <td>0</td>\n",
       "      <td>0.00</td>\n",
       "      <td>10.00</td>\n",
       "      <td>0</td>\n",
       "      <td>120 days 00:00:00</td>\n",
       "      <td>120</td>\n",
       "      <td>0</td>\n",
       "      <td>1 days 00:00:00</td>\n",
       "      <td>1</td>\n",
       "      <td>2</td>\n",
       "    </tr>\n",
       "    <tr>\n",
       "      <th>2</th>\n",
       "      <td>16502</td>\n",
       "      <td>2019-05-28</td>\n",
       "      <td>0</td>\n",
       "      <td>0</td>\n",
       "      <td>0</td>\n",
       "      <td>0</td>\n",
       "      <td>0</td>\n",
       "      <td>0</td>\n",
       "      <td>0</td>\n",
       "      <td>0</td>\n",
       "      <td>...</td>\n",
       "      <td>0</td>\n",
       "      <td>0.00</td>\n",
       "      <td>20.00</td>\n",
       "      <td>0</td>\n",
       "      <td>120 days 00:00:00</td>\n",
       "      <td>120</td>\n",
       "      <td>0</td>\n",
       "      <td>1 days 00:00:00</td>\n",
       "      <td>1</td>\n",
       "      <td>2</td>\n",
       "    </tr>\n",
       "    <tr>\n",
       "      <th>3</th>\n",
       "      <td>17457</td>\n",
       "      <td>2019-05-28</td>\n",
       "      <td>0</td>\n",
       "      <td>0</td>\n",
       "      <td>0</td>\n",
       "      <td>0</td>\n",
       "      <td>0</td>\n",
       "      <td>1</td>\n",
       "      <td>0</td>\n",
       "      <td>0</td>\n",
       "      <td>...</td>\n",
       "      <td>0</td>\n",
       "      <td>10.00</td>\n",
       "      <td>90.00</td>\n",
       "      <td>1</td>\n",
       "      <td>0 days 00:00:00</td>\n",
       "      <td>0</td>\n",
       "      <td>0</td>\n",
       "      <td>30 days 00:00:00</td>\n",
       "      <td>30</td>\n",
       "      <td>0</td>\n",
       "    </tr>\n",
       "    <tr>\n",
       "      <th>4</th>\n",
       "      <td>17590</td>\n",
       "      <td>2019-05-28</td>\n",
       "      <td>0</td>\n",
       "      <td>0</td>\n",
       "      <td>0</td>\n",
       "      <td>0</td>\n",
       "      <td>0</td>\n",
       "      <td>0</td>\n",
       "      <td>0</td>\n",
       "      <td>0</td>\n",
       "      <td>...</td>\n",
       "      <td>0</td>\n",
       "      <td>0.00</td>\n",
       "      <td>0.00</td>\n",
       "      <td>0</td>\n",
       "      <td>1 days 00:00:00</td>\n",
       "      <td>1</td>\n",
       "      <td>0</td>\n",
       "      <td>1 days 00:00:00</td>\n",
       "      <td>1</td>\n",
       "      <td>2</td>\n",
       "    </tr>\n",
       "    <tr>\n",
       "      <th>...</th>\n",
       "      <td>...</td>\n",
       "      <td>...</td>\n",
       "      <td>...</td>\n",
       "      <td>...</td>\n",
       "      <td>...</td>\n",
       "      <td>...</td>\n",
       "      <td>...</td>\n",
       "      <td>...</td>\n",
       "      <td>...</td>\n",
       "      <td>...</td>\n",
       "      <td>...</td>\n",
       "      <td>...</td>\n",
       "      <td>...</td>\n",
       "      <td>...</td>\n",
       "      <td>...</td>\n",
       "      <td>...</td>\n",
       "      <td>...</td>\n",
       "      <td>...</td>\n",
       "      <td>...</td>\n",
       "      <td>...</td>\n",
       "      <td>...</td>\n",
       "    </tr>\n",
       "    <tr>\n",
       "      <th>442990</th>\n",
       "      <td>1553685</td>\n",
       "      <td>2019-05-28</td>\n",
       "      <td>0</td>\n",
       "      <td>0</td>\n",
       "      <td>0</td>\n",
       "      <td>0</td>\n",
       "      <td>0</td>\n",
       "      <td>0</td>\n",
       "      <td>0</td>\n",
       "      <td>0</td>\n",
       "      <td>...</td>\n",
       "      <td>0</td>\n",
       "      <td>0.00</td>\n",
       "      <td>0.00</td>\n",
       "      <td>0</td>\n",
       "      <td>1 days 00:00:00</td>\n",
       "      <td>1</td>\n",
       "      <td>0</td>\n",
       "      <td>1 days 00:00:00</td>\n",
       "      <td>1</td>\n",
       "      <td>2</td>\n",
       "    </tr>\n",
       "    <tr>\n",
       "      <th>442991</th>\n",
       "      <td>1553686</td>\n",
       "      <td>2019-05-28</td>\n",
       "      <td>0</td>\n",
       "      <td>0</td>\n",
       "      <td>0</td>\n",
       "      <td>0</td>\n",
       "      <td>0</td>\n",
       "      <td>0</td>\n",
       "      <td>0</td>\n",
       "      <td>0</td>\n",
       "      <td>...</td>\n",
       "      <td>0</td>\n",
       "      <td>0.00</td>\n",
       "      <td>0.00</td>\n",
       "      <td>0</td>\n",
       "      <td>1 days 00:00:00</td>\n",
       "      <td>1</td>\n",
       "      <td>0</td>\n",
       "      <td>1 days 00:00:00</td>\n",
       "      <td>1</td>\n",
       "      <td>5</td>\n",
       "    </tr>\n",
       "    <tr>\n",
       "      <th>442992</th>\n",
       "      <td>1553687</td>\n",
       "      <td>2019-05-28</td>\n",
       "      <td>0</td>\n",
       "      <td>0</td>\n",
       "      <td>0</td>\n",
       "      <td>0</td>\n",
       "      <td>0</td>\n",
       "      <td>0</td>\n",
       "      <td>0</td>\n",
       "      <td>0</td>\n",
       "      <td>...</td>\n",
       "      <td>0</td>\n",
       "      <td>0.00</td>\n",
       "      <td>0.00</td>\n",
       "      <td>0</td>\n",
       "      <td>1 days 00:00:00</td>\n",
       "      <td>1</td>\n",
       "      <td>0</td>\n",
       "      <td>1 days 00:00:00</td>\n",
       "      <td>1</td>\n",
       "      <td>5</td>\n",
       "    </tr>\n",
       "    <tr>\n",
       "      <th>442993</th>\n",
       "      <td>1553688</td>\n",
       "      <td>2019-05-28</td>\n",
       "      <td>0</td>\n",
       "      <td>0</td>\n",
       "      <td>0</td>\n",
       "      <td>0</td>\n",
       "      <td>0</td>\n",
       "      <td>0</td>\n",
       "      <td>0</td>\n",
       "      <td>0</td>\n",
       "      <td>...</td>\n",
       "      <td>0</td>\n",
       "      <td>0.00</td>\n",
       "      <td>0.00</td>\n",
       "      <td>0</td>\n",
       "      <td>1 days 00:00:00</td>\n",
       "      <td>1</td>\n",
       "      <td>0</td>\n",
       "      <td>1 days 00:00:00</td>\n",
       "      <td>1</td>\n",
       "      <td>5</td>\n",
       "    </tr>\n",
       "    <tr>\n",
       "      <th>442994</th>\n",
       "      <td>1553689</td>\n",
       "      <td>2019-05-28</td>\n",
       "      <td>0</td>\n",
       "      <td>0</td>\n",
       "      <td>0</td>\n",
       "      <td>0</td>\n",
       "      <td>0</td>\n",
       "      <td>0</td>\n",
       "      <td>0</td>\n",
       "      <td>0</td>\n",
       "      <td>...</td>\n",
       "      <td>0</td>\n",
       "      <td>0.00</td>\n",
       "      <td>0.00</td>\n",
       "      <td>0</td>\n",
       "      <td>1 days 00:00:00</td>\n",
       "      <td>1</td>\n",
       "      <td>0</td>\n",
       "      <td>1 days 00:00:00</td>\n",
       "      <td>1</td>\n",
       "      <td>5</td>\n",
       "    </tr>\n",
       "  </tbody>\n",
       "</table>\n",
       "<p>442995 rows × 60 columns</p>\n",
       "</div>"
      ],
      "text/plain": [
       "         pk_cid pk_partition  short_term_deposit  loans  mortgage  funds  \\\n",
       "0         16063   2019-05-28                   0      0         0      0   \n",
       "1         16203   2019-05-28                   0      0         0      0   \n",
       "2         16502   2019-05-28                   0      0         0      0   \n",
       "3         17457   2019-05-28                   0      0         0      0   \n",
       "4         17590   2019-05-28                   0      0         0      0   \n",
       "...         ...          ...                 ...    ...       ...    ...   \n",
       "442990  1553685   2019-05-28                   0      0         0      0   \n",
       "442991  1553686   2019-05-28                   0      0         0      0   \n",
       "442992  1553687   2019-05-28                   0      0         0      0   \n",
       "442993  1553688   2019-05-28                   0      0         0      0   \n",
       "442994  1553689   2019-05-28                   0      0         0      0   \n",
       "\n",
       "        securities  long_term_deposit  em_account_pp  credit_card  ...  \\\n",
       "0                0                  0              0            0  ...   \n",
       "1                0                  0              0            0  ...   \n",
       "2                0                  0              0            0  ...   \n",
       "3                0                  1              0            0  ...   \n",
       "4                0                  0              0            0  ...   \n",
       "...            ...                ...            ...          ...  ...   \n",
       "442990           0                  0              0            0  ...   \n",
       "442991           0                  0              0            0  ...   \n",
       "442992           0                  0              0            0  ...   \n",
       "442993           0                  0              0            0  ...   \n",
       "442994           0                  0              0            0  ...   \n",
       "\n",
       "        totalFinanciacion  totalIngresos  totalBeneficio  hayAlta  \\\n",
       "0                       0           0.00            0.00        0   \n",
       "1                       0           0.00           10.00        0   \n",
       "2                       0           0.00           20.00        0   \n",
       "3                       0          10.00           90.00        1   \n",
       "4                       0           0.00            0.00        0   \n",
       "...                   ...            ...             ...      ...   \n",
       "442990                  0           0.00            0.00        0   \n",
       "442991                  0           0.00            0.00        0   \n",
       "442992                  0           0.00            0.00        0   \n",
       "442993                  0           0.00            0.00        0   \n",
       "442994                  0           0.00            0.00        0   \n",
       "\n",
       "        diasDesdeUltimaAlta  diasDesdeUltimaAltaInt  hayBaja  \\\n",
       "0           1 days 00:00:00                       1        0   \n",
       "1         120 days 00:00:00                     120        0   \n",
       "2         120 days 00:00:00                     120        0   \n",
       "3           0 days 00:00:00                       0        0   \n",
       "4           1 days 00:00:00                       1        0   \n",
       "...                     ...                     ...      ...   \n",
       "442990      1 days 00:00:00                       1        0   \n",
       "442991      1 days 00:00:00                       1        0   \n",
       "442992      1 days 00:00:00                       1        0   \n",
       "442993      1 days 00:00:00                       1        0   \n",
       "442994      1 days 00:00:00                       1        0   \n",
       "\n",
       "       diasDesdeUltimaBaja diasDesdeUltimaBajaInt  Cluster  \n",
       "0          1 days 00:00:00                      1        2  \n",
       "1          1 days 00:00:00                      1        2  \n",
       "2          1 days 00:00:00                      1        2  \n",
       "3         30 days 00:00:00                     30        0  \n",
       "4          1 days 00:00:00                      1        2  \n",
       "...                    ...                    ...      ...  \n",
       "442990     1 days 00:00:00                      1        2  \n",
       "442991     1 days 00:00:00                      1        5  \n",
       "442992     1 days 00:00:00                      1        5  \n",
       "442993     1 days 00:00:00                      1        5  \n",
       "442994     1 days 00:00:00                      1        5  \n",
       "\n",
       "[442995 rows x 60 columns]"
      ]
     },
     "execution_count": 5,
     "metadata": {},
     "output_type": "execute_result"
    }
   ],
   "source": [
    "clientes_actuales"
   ]
  },
  {
   "cell_type": "code",
   "execution_count": 6,
   "metadata": {
    "ExecuteTime": {
     "end_time": "2020-09-16T14:30:37.050780Z",
     "start_time": "2020-09-16T14:30:36.927726Z"
    }
   },
   "outputs": [
    {
     "data": {
      "text/html": [
       "<div>\n",
       "<style scoped>\n",
       "    .dataframe tbody tr th:only-of-type {\n",
       "        vertical-align: middle;\n",
       "    }\n",
       "\n",
       "    .dataframe tbody tr th {\n",
       "        vertical-align: top;\n",
       "    }\n",
       "\n",
       "    .dataframe thead th {\n",
       "        text-align: right;\n",
       "    }\n",
       "</style>\n",
       "<table border=\"1\" class=\"dataframe\">\n",
       "  <thead>\n",
       "    <tr style=\"text-align: right;\">\n",
       "      <th></th>\n",
       "      <th>totalAssets</th>\n",
       "      <th>totalCuentas</th>\n",
       "      <th>totalAhorro</th>\n",
       "      <th>totalFinanciacion</th>\n",
       "      <th>Cluster</th>\n",
       "    </tr>\n",
       "    <tr>\n",
       "      <th>Cluster</th>\n",
       "      <th></th>\n",
       "      <th></th>\n",
       "      <th></th>\n",
       "      <th></th>\n",
       "      <th></th>\n",
       "    </tr>\n",
       "  </thead>\n",
       "  <tbody>\n",
       "    <tr>\n",
       "      <th>0</th>\n",
       "      <td>3.45</td>\n",
       "      <td>2.45</td>\n",
       "      <td>1.00</td>\n",
       "      <td>0</td>\n",
       "      <td>21752</td>\n",
       "    </tr>\n",
       "  </tbody>\n",
       "</table>\n",
       "</div>"
      ],
      "text/plain": [
       "         totalAssets  totalCuentas  totalAhorro  totalFinanciacion  Cluster\n",
       "Cluster                                                                    \n",
       "0               3.45          2.45         1.00                  0    21752"
      ]
     },
     "execution_count": 6,
     "metadata": {},
     "output_type": "execute_result"
    }
   ],
   "source": [
    "clientes_actuales[clientes_actuales['Cluster']==0].groupby('Cluster').agg({\n",
    "                                         'totalAssets':np.mean,\n",
    "                                         'totalCuentas':np.mean,\n",
    "                                         'totalAhorro':np.mean,\n",
    "                                         'totalFinanciacion':np.mean,\n",
    "                                         'Cluster':len\n",
    "                                        })        \n",
    "        \n",
    "\n"
   ]
  },
  {
   "cell_type": "code",
   "execution_count": 7,
   "metadata": {
    "ExecuteTime": {
     "end_time": "2020-09-16T14:31:22.217333Z",
     "start_time": "2020-09-16T14:31:22.170347Z"
    }
   },
   "outputs": [
    {
     "data": {
      "text/html": [
       "<div>\n",
       "<style scoped>\n",
       "    .dataframe tbody tr th:only-of-type {\n",
       "        vertical-align: middle;\n",
       "    }\n",
       "\n",
       "    .dataframe tbody tr th {\n",
       "        vertical-align: top;\n",
       "    }\n",
       "\n",
       "    .dataframe thead th {\n",
       "        text-align: right;\n",
       "    }\n",
       "</style>\n",
       "<table border=\"1\" class=\"dataframe\">\n",
       "  <thead>\n",
       "    <tr style=\"text-align: right;\">\n",
       "      <th></th>\n",
       "      <th>totalAssets</th>\n",
       "      <th>totalCuentas</th>\n",
       "      <th>totalAhorro</th>\n",
       "      <th>totalFinanciacion</th>\n",
       "      <th>Cluster</th>\n",
       "    </tr>\n",
       "    <tr>\n",
       "      <th>Cluster</th>\n",
       "      <th></th>\n",
       "      <th></th>\n",
       "      <th></th>\n",
       "      <th></th>\n",
       "      <th></th>\n",
       "    </tr>\n",
       "  </thead>\n",
       "  <tbody>\n",
       "    <tr>\n",
       "      <th>0</th>\n",
       "      <td>3.45</td>\n",
       "      <td>2.45</td>\n",
       "      <td>1.00</td>\n",
       "      <td>0.00</td>\n",
       "      <td>21752</td>\n",
       "    </tr>\n",
       "    <tr>\n",
       "      <th>1</th>\n",
       "      <td>1.08</td>\n",
       "      <td>1.08</td>\n",
       "      <td>0.00</td>\n",
       "      <td>0.00</td>\n",
       "      <td>183816</td>\n",
       "    </tr>\n",
       "    <tr>\n",
       "      <th>2</th>\n",
       "      <td>0.98</td>\n",
       "      <td>0.95</td>\n",
       "      <td>0.03</td>\n",
       "      <td>0.00</td>\n",
       "      <td>41935</td>\n",
       "    </tr>\n",
       "    <tr>\n",
       "      <th>3</th>\n",
       "      <td>1.09</td>\n",
       "      <td>1.05</td>\n",
       "      <td>0.03</td>\n",
       "      <td>0.00</td>\n",
       "      <td>25533</td>\n",
       "    </tr>\n",
       "    <tr>\n",
       "      <th>4</th>\n",
       "      <td>3.89</td>\n",
       "      <td>2.35</td>\n",
       "      <td>0.54</td>\n",
       "      <td>1.00</td>\n",
       "      <td>4816</td>\n",
       "    </tr>\n",
       "    <tr>\n",
       "      <th>5</th>\n",
       "      <td>0.00</td>\n",
       "      <td>0.00</td>\n",
       "      <td>0.00</td>\n",
       "      <td>0.00</td>\n",
       "      <td>93535</td>\n",
       "    </tr>\n",
       "    <tr>\n",
       "      <th>6</th>\n",
       "      <td>1.08</td>\n",
       "      <td>1.07</td>\n",
       "      <td>0.00</td>\n",
       "      <td>0.00</td>\n",
       "      <td>71538</td>\n",
       "    </tr>\n",
       "    <tr>\n",
       "      <th>7</th>\n",
       "      <td>0.83</td>\n",
       "      <td>0.79</td>\n",
       "      <td>0.01</td>\n",
       "      <td>0.03</td>\n",
       "      <td>70</td>\n",
       "    </tr>\n",
       "  </tbody>\n",
       "</table>\n",
       "</div>"
      ],
      "text/plain": [
       "         totalAssets  totalCuentas  totalAhorro  totalFinanciacion  Cluster\n",
       "Cluster                                                                    \n",
       "0               3.45          2.45         1.00               0.00    21752\n",
       "1               1.08          1.08         0.00               0.00   183816\n",
       "2               0.98          0.95         0.03               0.00    41935\n",
       "3               1.09          1.05         0.03               0.00    25533\n",
       "4               3.89          2.35         0.54               1.00     4816\n",
       "5               0.00          0.00         0.00               0.00    93535\n",
       "6               1.08          1.07         0.00               0.00    71538\n",
       "7               0.83          0.79         0.01               0.03       70"
      ]
     },
     "execution_count": 7,
     "metadata": {},
     "output_type": "execute_result"
    }
   ],
   "source": [
    "clientes_actuales_=clientes_actuales.groupby('Cluster').agg({\n",
    "                                         'totalAssets':np.mean,\n",
    "                                         'totalCuentas':np.mean,\n",
    "                                         'totalAhorro':np.mean,\n",
    "                                         'totalFinanciacion':np.mean,\n",
    "                                         'Cluster':len\n",
    "                                        })        \n",
    "        "
   ]
  },
  {
   "cell_type": "code",
   "execution_count": 8,
   "metadata": {
    "ExecuteTime": {
     "end_time": "2020-09-16T14:31:50.496984Z",
     "start_time": "2020-09-16T14:31:50.456014Z"
    }
   },
   "outputs": [],
   "source": [
    "clientes_actuales_=clientes_actuales.groupby('Cluster').agg({\n",
    "                                         'totalAssets':np.mean,\n",
    "                                         'totalCuentas':np.mean,\n",
    "                                         'totalAhorro':np.mean,\n",
    "                                         'totalFinanciacion':np.mean,\n",
    "                                         'Cluster':len\n",
    "                                        })        "
   ]
  },
  {
   "cell_type": "code",
   "execution_count": 14,
   "metadata": {
    "ExecuteTime": {
     "end_time": "2020-09-16T14:33:29.536103Z",
     "start_time": "2020-09-16T14:33:29.532091Z"
    }
   },
   "outputs": [],
   "source": [
    "clientes_actuales_.rename(columns={'Cluster':'Count'},inplace=True)"
   ]
  },
  {
   "cell_type": "code",
   "execution_count": 16,
   "metadata": {
    "ExecuteTime": {
     "end_time": "2020-09-16T14:33:46.778387Z",
     "start_time": "2020-09-16T14:33:46.774390Z"
    }
   },
   "outputs": [],
   "source": [
    "clientes_actuales_.reset_index(drop=False,inplace=True)"
   ]
  },
  {
   "cell_type": "code",
   "execution_count": 17,
   "metadata": {
    "ExecuteTime": {
     "end_time": "2020-09-16T14:33:56.436558Z",
     "start_time": "2020-09-16T14:33:56.427572Z"
    }
   },
   "outputs": [
    {
     "data": {
      "text/html": [
       "<div>\n",
       "<style scoped>\n",
       "    .dataframe tbody tr th:only-of-type {\n",
       "        vertical-align: middle;\n",
       "    }\n",
       "\n",
       "    .dataframe tbody tr th {\n",
       "        vertical-align: top;\n",
       "    }\n",
       "\n",
       "    .dataframe thead th {\n",
       "        text-align: right;\n",
       "    }\n",
       "</style>\n",
       "<table border=\"1\" class=\"dataframe\">\n",
       "  <thead>\n",
       "    <tr style=\"text-align: right;\">\n",
       "      <th></th>\n",
       "      <th>Cluster</th>\n",
       "      <th>totalAssets</th>\n",
       "      <th>totalCuentas</th>\n",
       "      <th>totalAhorro</th>\n",
       "      <th>totalFinanciacion</th>\n",
       "      <th>Count</th>\n",
       "    </tr>\n",
       "  </thead>\n",
       "  <tbody>\n",
       "    <tr>\n",
       "      <th>0</th>\n",
       "      <td>0</td>\n",
       "      <td>3.45</td>\n",
       "      <td>2.45</td>\n",
       "      <td>1.00</td>\n",
       "      <td>0.00</td>\n",
       "      <td>21752</td>\n",
       "    </tr>\n",
       "    <tr>\n",
       "      <th>1</th>\n",
       "      <td>1</td>\n",
       "      <td>1.08</td>\n",
       "      <td>1.08</td>\n",
       "      <td>0.00</td>\n",
       "      <td>0.00</td>\n",
       "      <td>183816</td>\n",
       "    </tr>\n",
       "    <tr>\n",
       "      <th>2</th>\n",
       "      <td>2</td>\n",
       "      <td>0.98</td>\n",
       "      <td>0.95</td>\n",
       "      <td>0.03</td>\n",
       "      <td>0.00</td>\n",
       "      <td>41935</td>\n",
       "    </tr>\n",
       "    <tr>\n",
       "      <th>3</th>\n",
       "      <td>3</td>\n",
       "      <td>1.09</td>\n",
       "      <td>1.05</td>\n",
       "      <td>0.03</td>\n",
       "      <td>0.00</td>\n",
       "      <td>25533</td>\n",
       "    </tr>\n",
       "    <tr>\n",
       "      <th>4</th>\n",
       "      <td>4</td>\n",
       "      <td>3.89</td>\n",
       "      <td>2.35</td>\n",
       "      <td>0.54</td>\n",
       "      <td>1.00</td>\n",
       "      <td>4816</td>\n",
       "    </tr>\n",
       "    <tr>\n",
       "      <th>5</th>\n",
       "      <td>5</td>\n",
       "      <td>0.00</td>\n",
       "      <td>0.00</td>\n",
       "      <td>0.00</td>\n",
       "      <td>0.00</td>\n",
       "      <td>93535</td>\n",
       "    </tr>\n",
       "    <tr>\n",
       "      <th>6</th>\n",
       "      <td>6</td>\n",
       "      <td>1.08</td>\n",
       "      <td>1.07</td>\n",
       "      <td>0.00</td>\n",
       "      <td>0.00</td>\n",
       "      <td>71538</td>\n",
       "    </tr>\n",
       "    <tr>\n",
       "      <th>7</th>\n",
       "      <td>7</td>\n",
       "      <td>0.83</td>\n",
       "      <td>0.79</td>\n",
       "      <td>0.01</td>\n",
       "      <td>0.03</td>\n",
       "      <td>70</td>\n",
       "    </tr>\n",
       "  </tbody>\n",
       "</table>\n",
       "</div>"
      ],
      "text/plain": [
       "   Cluster  totalAssets  totalCuentas  totalAhorro  totalFinanciacion   Count\n",
       "0        0         3.45          2.45         1.00               0.00   21752\n",
       "1        1         1.08          1.08         0.00               0.00  183816\n",
       "2        2         0.98          0.95         0.03               0.00   41935\n",
       "3        3         1.09          1.05         0.03               0.00   25533\n",
       "4        4         3.89          2.35         0.54               1.00    4816\n",
       "5        5         0.00          0.00         0.00               0.00   93535\n",
       "6        6         1.08          1.07         0.00               0.00   71538\n",
       "7        7         0.83          0.79         0.01               0.03      70"
      ]
     },
     "execution_count": 17,
     "metadata": {},
     "output_type": "execute_result"
    }
   ],
   "source": [
    "clientes_actuales_"
   ]
  },
  {
   "cell_type": "code",
   "execution_count": 18,
   "metadata": {
    "ExecuteTime": {
     "end_time": "2020-09-16T14:35:18.554915Z",
     "start_time": "2020-09-16T14:35:18.545920Z"
    }
   },
   "outputs": [],
   "source": [
    "clientes_actuales_=clientes_actuales_.melt(id_vars=['Cluster'],\n",
    "              value_vars=['totalAssets','totalCuentas','totalAhorro','totalFinanciacion','Count'],\n",
    "              var_name='Product',\n",
    "              value_name='Count-vals')"
   ]
  },
  {
   "cell_type": "code",
   "execution_count": 20,
   "metadata": {
    "ExecuteTime": {
     "end_time": "2020-09-16T14:36:11.545410Z",
     "start_time": "2020-09-16T14:36:11.538432Z"
    }
   },
   "outputs": [],
   "source": [
    "clientes_actuales_.to_csv('../Datos-Easymoney/medias_productos_por_grupo.csv', index=False)"
   ]
  },
  {
   "cell_type": "markdown",
   "metadata": {},
   "source": [
    "# Recomendaciones Para GRUPO 0:"
   ]
  },
  {
   "cell_type": "code",
   "execution_count": 4,
   "metadata": {
    "ExecuteTime": {
     "end_time": "2020-09-16T07:34:38.549717Z",
     "start_time": "2020-09-16T07:34:35.823143Z"
    }
   },
   "outputs": [
    {
     "data": {
      "text/html": [
       "<div>\n",
       "<style scoped>\n",
       "    .dataframe tbody tr th:only-of-type {\n",
       "        vertical-align: middle;\n",
       "    }\n",
       "\n",
       "    .dataframe tbody tr th {\n",
       "        vertical-align: top;\n",
       "    }\n",
       "\n",
       "    .dataframe thead th {\n",
       "        text-align: right;\n",
       "    }\n",
       "</style>\n",
       "<table border=\"1\" class=\"dataframe\">\n",
       "  <thead>\n",
       "    <tr style=\"text-align: right;\">\n",
       "      <th></th>\n",
       "      <th>pk_cid</th>\n",
       "      <th>pk_partition</th>\n",
       "      <th>short_term_deposit</th>\n",
       "      <th>loans</th>\n",
       "      <th>mortgage</th>\n",
       "      <th>funds</th>\n",
       "      <th>securities</th>\n",
       "      <th>long_term_deposit</th>\n",
       "      <th>em_account_pp</th>\n",
       "      <th>credit_card</th>\n",
       "      <th>...</th>\n",
       "      <th>totalAhorro</th>\n",
       "      <th>totalFinanciacion</th>\n",
       "      <th>totalIngresos</th>\n",
       "      <th>totalBeneficio</th>\n",
       "      <th>hayAlta</th>\n",
       "      <th>diasDesdeUltimaAlta</th>\n",
       "      <th>diasDesdeUltimaAltaInt</th>\n",
       "      <th>hayBaja</th>\n",
       "      <th>diasDesdeUltimaBaja</th>\n",
       "      <th>diasDesdeUltimaBajaInt</th>\n",
       "    </tr>\n",
       "  </thead>\n",
       "  <tbody>\n",
       "    <tr>\n",
       "      <th>0</th>\n",
       "      <td>15891</td>\n",
       "      <td>2018-07-28</td>\n",
       "      <td>0</td>\n",
       "      <td>0</td>\n",
       "      <td>0</td>\n",
       "      <td>0</td>\n",
       "      <td>0</td>\n",
       "      <td>0</td>\n",
       "      <td>0</td>\n",
       "      <td>0</td>\n",
       "      <td>...</td>\n",
       "      <td>0.00</td>\n",
       "      <td>0</td>\n",
       "      <td>10.00</td>\n",
       "      <td>10.00</td>\n",
       "      <td>1</td>\n",
       "      <td>0 days 00:00:00</td>\n",
       "      <td>0</td>\n",
       "      <td>0</td>\n",
       "      <td>1 days 00:00:00</td>\n",
       "      <td>1</td>\n",
       "    </tr>\n",
       "    <tr>\n",
       "      <th>1</th>\n",
       "      <td>15891</td>\n",
       "      <td>2018-08-28</td>\n",
       "      <td>0</td>\n",
       "      <td>0</td>\n",
       "      <td>0</td>\n",
       "      <td>0</td>\n",
       "      <td>0</td>\n",
       "      <td>0</td>\n",
       "      <td>0</td>\n",
       "      <td>0</td>\n",
       "      <td>...</td>\n",
       "      <td>0.00</td>\n",
       "      <td>0</td>\n",
       "      <td>0.00</td>\n",
       "      <td>10.00</td>\n",
       "      <td>0</td>\n",
       "      <td>31 days 00:00:00</td>\n",
       "      <td>31</td>\n",
       "      <td>1</td>\n",
       "      <td>0 days 00:00:00</td>\n",
       "      <td>0</td>\n",
       "    </tr>\n",
       "    <tr>\n",
       "      <th>2</th>\n",
       "      <td>16063</td>\n",
       "      <td>2018-11-28</td>\n",
       "      <td>0</td>\n",
       "      <td>0</td>\n",
       "      <td>0</td>\n",
       "      <td>0</td>\n",
       "      <td>0</td>\n",
       "      <td>0</td>\n",
       "      <td>0</td>\n",
       "      <td>0</td>\n",
       "      <td>...</td>\n",
       "      <td>0.00</td>\n",
       "      <td>0</td>\n",
       "      <td>0.00</td>\n",
       "      <td>0.00</td>\n",
       "      <td>0</td>\n",
       "      <td>1 days 00:00:00</td>\n",
       "      <td>1</td>\n",
       "      <td>0</td>\n",
       "      <td>1 days 00:00:00</td>\n",
       "      <td>1</td>\n",
       "    </tr>\n",
       "    <tr>\n",
       "      <th>3</th>\n",
       "      <td>16063</td>\n",
       "      <td>2018-12-28</td>\n",
       "      <td>0</td>\n",
       "      <td>0</td>\n",
       "      <td>0</td>\n",
       "      <td>0</td>\n",
       "      <td>0</td>\n",
       "      <td>0</td>\n",
       "      <td>0</td>\n",
       "      <td>0</td>\n",
       "      <td>...</td>\n",
       "      <td>0.00</td>\n",
       "      <td>0</td>\n",
       "      <td>0.00</td>\n",
       "      <td>0.00</td>\n",
       "      <td>0</td>\n",
       "      <td>1 days 00:00:00</td>\n",
       "      <td>1</td>\n",
       "      <td>0</td>\n",
       "      <td>1 days 00:00:00</td>\n",
       "      <td>1</td>\n",
       "    </tr>\n",
       "    <tr>\n",
       "      <th>4</th>\n",
       "      <td>16063</td>\n",
       "      <td>2019-01-28</td>\n",
       "      <td>0</td>\n",
       "      <td>0</td>\n",
       "      <td>0</td>\n",
       "      <td>0</td>\n",
       "      <td>0</td>\n",
       "      <td>0</td>\n",
       "      <td>0</td>\n",
       "      <td>0</td>\n",
       "      <td>...</td>\n",
       "      <td>0.00</td>\n",
       "      <td>0</td>\n",
       "      <td>0.00</td>\n",
       "      <td>0.00</td>\n",
       "      <td>0</td>\n",
       "      <td>1 days 00:00:00</td>\n",
       "      <td>1</td>\n",
       "      <td>0</td>\n",
       "      <td>1 days 00:00:00</td>\n",
       "      <td>1</td>\n",
       "    </tr>\n",
       "    <tr>\n",
       "      <th>...</th>\n",
       "      <td>...</td>\n",
       "      <td>...</td>\n",
       "      <td>...</td>\n",
       "      <td>...</td>\n",
       "      <td>...</td>\n",
       "      <td>...</td>\n",
       "      <td>...</td>\n",
       "      <td>...</td>\n",
       "      <td>...</td>\n",
       "      <td>...</td>\n",
       "      <td>...</td>\n",
       "      <td>...</td>\n",
       "      <td>...</td>\n",
       "      <td>...</td>\n",
       "      <td>...</td>\n",
       "      <td>...</td>\n",
       "      <td>...</td>\n",
       "      <td>...</td>\n",
       "      <td>...</td>\n",
       "      <td>...</td>\n",
       "      <td>...</td>\n",
       "    </tr>\n",
       "    <tr>\n",
       "      <th>5962919</th>\n",
       "      <td>1553685</td>\n",
       "      <td>2019-05-28</td>\n",
       "      <td>0</td>\n",
       "      <td>0</td>\n",
       "      <td>0</td>\n",
       "      <td>0</td>\n",
       "      <td>0</td>\n",
       "      <td>0</td>\n",
       "      <td>0</td>\n",
       "      <td>0</td>\n",
       "      <td>...</td>\n",
       "      <td>0.00</td>\n",
       "      <td>0</td>\n",
       "      <td>0.00</td>\n",
       "      <td>0.00</td>\n",
       "      <td>0</td>\n",
       "      <td>1 days 00:00:00</td>\n",
       "      <td>1</td>\n",
       "      <td>0</td>\n",
       "      <td>1 days 00:00:00</td>\n",
       "      <td>1</td>\n",
       "    </tr>\n",
       "    <tr>\n",
       "      <th>5962920</th>\n",
       "      <td>1553686</td>\n",
       "      <td>2019-05-28</td>\n",
       "      <td>0</td>\n",
       "      <td>0</td>\n",
       "      <td>0</td>\n",
       "      <td>0</td>\n",
       "      <td>0</td>\n",
       "      <td>0</td>\n",
       "      <td>0</td>\n",
       "      <td>0</td>\n",
       "      <td>...</td>\n",
       "      <td>0.00</td>\n",
       "      <td>0</td>\n",
       "      <td>0.00</td>\n",
       "      <td>0.00</td>\n",
       "      <td>0</td>\n",
       "      <td>1 days 00:00:00</td>\n",
       "      <td>1</td>\n",
       "      <td>0</td>\n",
       "      <td>1 days 00:00:00</td>\n",
       "      <td>1</td>\n",
       "    </tr>\n",
       "    <tr>\n",
       "      <th>5962921</th>\n",
       "      <td>1553687</td>\n",
       "      <td>2019-05-28</td>\n",
       "      <td>0</td>\n",
       "      <td>0</td>\n",
       "      <td>0</td>\n",
       "      <td>0</td>\n",
       "      <td>0</td>\n",
       "      <td>0</td>\n",
       "      <td>0</td>\n",
       "      <td>0</td>\n",
       "      <td>...</td>\n",
       "      <td>0.00</td>\n",
       "      <td>0</td>\n",
       "      <td>0.00</td>\n",
       "      <td>0.00</td>\n",
       "      <td>0</td>\n",
       "      <td>1 days 00:00:00</td>\n",
       "      <td>1</td>\n",
       "      <td>0</td>\n",
       "      <td>1 days 00:00:00</td>\n",
       "      <td>1</td>\n",
       "    </tr>\n",
       "    <tr>\n",
       "      <th>5962922</th>\n",
       "      <td>1553688</td>\n",
       "      <td>2019-05-28</td>\n",
       "      <td>0</td>\n",
       "      <td>0</td>\n",
       "      <td>0</td>\n",
       "      <td>0</td>\n",
       "      <td>0</td>\n",
       "      <td>0</td>\n",
       "      <td>0</td>\n",
       "      <td>0</td>\n",
       "      <td>...</td>\n",
       "      <td>0.00</td>\n",
       "      <td>0</td>\n",
       "      <td>0.00</td>\n",
       "      <td>0.00</td>\n",
       "      <td>0</td>\n",
       "      <td>1 days 00:00:00</td>\n",
       "      <td>1</td>\n",
       "      <td>0</td>\n",
       "      <td>1 days 00:00:00</td>\n",
       "      <td>1</td>\n",
       "    </tr>\n",
       "    <tr>\n",
       "      <th>5962923</th>\n",
       "      <td>1553689</td>\n",
       "      <td>2019-05-28</td>\n",
       "      <td>0</td>\n",
       "      <td>0</td>\n",
       "      <td>0</td>\n",
       "      <td>0</td>\n",
       "      <td>0</td>\n",
       "      <td>0</td>\n",
       "      <td>0</td>\n",
       "      <td>0</td>\n",
       "      <td>...</td>\n",
       "      <td>0.00</td>\n",
       "      <td>0</td>\n",
       "      <td>0.00</td>\n",
       "      <td>0.00</td>\n",
       "      <td>0</td>\n",
       "      <td>1 days 00:00:00</td>\n",
       "      <td>1</td>\n",
       "      <td>0</td>\n",
       "      <td>1 days 00:00:00</td>\n",
       "      <td>1</td>\n",
       "    </tr>\n",
       "  </tbody>\n",
       "</table>\n",
       "<p>5962924 rows × 59 columns</p>\n",
       "</div>"
      ],
      "text/plain": [
       "          pk_cid pk_partition  short_term_deposit  loans  mortgage  funds  \\\n",
       "0          15891   2018-07-28                   0      0         0      0   \n",
       "1          15891   2018-08-28                   0      0         0      0   \n",
       "2          16063   2018-11-28                   0      0         0      0   \n",
       "3          16063   2018-12-28                   0      0         0      0   \n",
       "4          16063   2019-01-28                   0      0         0      0   \n",
       "...          ...          ...                 ...    ...       ...    ...   \n",
       "5962919  1553685   2019-05-28                   0      0         0      0   \n",
       "5962920  1553686   2019-05-28                   0      0         0      0   \n",
       "5962921  1553687   2019-05-28                   0      0         0      0   \n",
       "5962922  1553688   2019-05-28                   0      0         0      0   \n",
       "5962923  1553689   2019-05-28                   0      0         0      0   \n",
       "\n",
       "         securities  long_term_deposit  em_account_pp  credit_card  ...  \\\n",
       "0                 0                  0              0            0  ...   \n",
       "1                 0                  0              0            0  ...   \n",
       "2                 0                  0              0            0  ...   \n",
       "3                 0                  0              0            0  ...   \n",
       "4                 0                  0              0            0  ...   \n",
       "...             ...                ...            ...          ...  ...   \n",
       "5962919           0                  0              0            0  ...   \n",
       "5962920           0                  0              0            0  ...   \n",
       "5962921           0                  0              0            0  ...   \n",
       "5962922           0                  0              0            0  ...   \n",
       "5962923           0                  0              0            0  ...   \n",
       "\n",
       "         totalAhorro  totalFinanciacion  totalIngresos  totalBeneficio  \\\n",
       "0               0.00                  0          10.00           10.00   \n",
       "1               0.00                  0           0.00           10.00   \n",
       "2               0.00                  0           0.00            0.00   \n",
       "3               0.00                  0           0.00            0.00   \n",
       "4               0.00                  0           0.00            0.00   \n",
       "...              ...                ...            ...             ...   \n",
       "5962919         0.00                  0           0.00            0.00   \n",
       "5962920         0.00                  0           0.00            0.00   \n",
       "5962921         0.00                  0           0.00            0.00   \n",
       "5962922         0.00                  0           0.00            0.00   \n",
       "5962923         0.00                  0           0.00            0.00   \n",
       "\n",
       "         hayAlta  diasDesdeUltimaAlta  diasDesdeUltimaAltaInt hayBaja  \\\n",
       "0              1      0 days 00:00:00                       0       0   \n",
       "1              0     31 days 00:00:00                      31       1   \n",
       "2              0      1 days 00:00:00                       1       0   \n",
       "3              0      1 days 00:00:00                       1       0   \n",
       "4              0      1 days 00:00:00                       1       0   \n",
       "...          ...                  ...                     ...     ...   \n",
       "5962919        0      1 days 00:00:00                       1       0   \n",
       "5962920        0      1 days 00:00:00                       1       0   \n",
       "5962921        0      1 days 00:00:00                       1       0   \n",
       "5962922        0      1 days 00:00:00                       1       0   \n",
       "5962923        0      1 days 00:00:00                       1       0   \n",
       "\n",
       "        diasDesdeUltimaBaja  diasDesdeUltimaBajaInt  \n",
       "0           1 days 00:00:00                       1  \n",
       "1           0 days 00:00:00                       0  \n",
       "2           1 days 00:00:00                       1  \n",
       "3           1 days 00:00:00                       1  \n",
       "4           1 days 00:00:00                       1  \n",
       "...                     ...                     ...  \n",
       "5962919     1 days 00:00:00                       1  \n",
       "5962920     1 days 00:00:00                       1  \n",
       "5962921     1 days 00:00:00                       1  \n",
       "5962922     1 days 00:00:00                       1  \n",
       "5962923     1 days 00:00:00                       1  \n",
       "\n",
       "[5962924 rows x 59 columns]"
      ]
     },
     "execution_count": 4,
     "metadata": {},
     "output_type": "execute_result"
    }
   ],
   "source": [
    "df_sorted\n"
   ]
  },
  {
   "cell_type": "code",
   "execution_count": 5,
   "metadata": {
    "ExecuteTime": {
     "end_time": "2020-09-16T07:35:07.608490Z",
     "start_time": "2020-09-16T07:35:05.143781Z"
    }
   },
   "outputs": [],
   "source": [
    "clientes_actuales=pd.read_csv('../Datos-Easymoney/clientes_actuales.csv')"
   ]
  },
  {
   "cell_type": "code",
   "execution_count": 26,
   "metadata": {
    "ExecuteTime": {
     "end_time": "2020-09-16T15:57:02.154344Z",
     "start_time": "2020-09-16T15:57:01.912479Z"
    }
   },
   "outputs": [
    {
     "data": {
      "text/html": [
       "<div>\n",
       "<style scoped>\n",
       "    .dataframe tbody tr th:only-of-type {\n",
       "        vertical-align: middle;\n",
       "    }\n",
       "\n",
       "    .dataframe tbody tr th {\n",
       "        vertical-align: top;\n",
       "    }\n",
       "\n",
       "    .dataframe thead th {\n",
       "        text-align: right;\n",
       "    }\n",
       "</style>\n",
       "<table border=\"1\" class=\"dataframe\">\n",
       "  <thead>\n",
       "    <tr style=\"text-align: right;\">\n",
       "      <th></th>\n",
       "      <th>pk_cid</th>\n",
       "      <th>pk_partition</th>\n",
       "      <th>short_term_deposit</th>\n",
       "      <th>loans</th>\n",
       "      <th>mortgage</th>\n",
       "      <th>funds</th>\n",
       "      <th>securities</th>\n",
       "      <th>long_term_deposit</th>\n",
       "      <th>em_account_pp</th>\n",
       "      <th>credit_card</th>\n",
       "      <th>...</th>\n",
       "      <th>totalFinanciacion</th>\n",
       "      <th>totalIngresos</th>\n",
       "      <th>totalBeneficio</th>\n",
       "      <th>hayAlta</th>\n",
       "      <th>diasDesdeUltimaAlta</th>\n",
       "      <th>diasDesdeUltimaAltaInt</th>\n",
       "      <th>hayBaja</th>\n",
       "      <th>diasDesdeUltimaBaja</th>\n",
       "      <th>diasDesdeUltimaBajaInt</th>\n",
       "      <th>Cluster</th>\n",
       "    </tr>\n",
       "  </thead>\n",
       "  <tbody>\n",
       "    <tr>\n",
       "      <th>0</th>\n",
       "      <td>16063</td>\n",
       "      <td>2019-05-28</td>\n",
       "      <td>0</td>\n",
       "      <td>0</td>\n",
       "      <td>0</td>\n",
       "      <td>0</td>\n",
       "      <td>0</td>\n",
       "      <td>0</td>\n",
       "      <td>0</td>\n",
       "      <td>0</td>\n",
       "      <td>...</td>\n",
       "      <td>0</td>\n",
       "      <td>0.00</td>\n",
       "      <td>0.00</td>\n",
       "      <td>0</td>\n",
       "      <td>1 days 00:00:00</td>\n",
       "      <td>1</td>\n",
       "      <td>0</td>\n",
       "      <td>1 days 00:00:00</td>\n",
       "      <td>1</td>\n",
       "      <td>2</td>\n",
       "    </tr>\n",
       "    <tr>\n",
       "      <th>1</th>\n",
       "      <td>16203</td>\n",
       "      <td>2019-05-28</td>\n",
       "      <td>0</td>\n",
       "      <td>0</td>\n",
       "      <td>0</td>\n",
       "      <td>0</td>\n",
       "      <td>0</td>\n",
       "      <td>0</td>\n",
       "      <td>0</td>\n",
       "      <td>0</td>\n",
       "      <td>...</td>\n",
       "      <td>0</td>\n",
       "      <td>0.00</td>\n",
       "      <td>10.00</td>\n",
       "      <td>0</td>\n",
       "      <td>120 days 00:00:00</td>\n",
       "      <td>120</td>\n",
       "      <td>0</td>\n",
       "      <td>1 days 00:00:00</td>\n",
       "      <td>1</td>\n",
       "      <td>2</td>\n",
       "    </tr>\n",
       "    <tr>\n",
       "      <th>2</th>\n",
       "      <td>16502</td>\n",
       "      <td>2019-05-28</td>\n",
       "      <td>0</td>\n",
       "      <td>0</td>\n",
       "      <td>0</td>\n",
       "      <td>0</td>\n",
       "      <td>0</td>\n",
       "      <td>0</td>\n",
       "      <td>0</td>\n",
       "      <td>0</td>\n",
       "      <td>...</td>\n",
       "      <td>0</td>\n",
       "      <td>0.00</td>\n",
       "      <td>20.00</td>\n",
       "      <td>0</td>\n",
       "      <td>120 days 00:00:00</td>\n",
       "      <td>120</td>\n",
       "      <td>0</td>\n",
       "      <td>1 days 00:00:00</td>\n",
       "      <td>1</td>\n",
       "      <td>2</td>\n",
       "    </tr>\n",
       "    <tr>\n",
       "      <th>3</th>\n",
       "      <td>17457</td>\n",
       "      <td>2019-05-28</td>\n",
       "      <td>0</td>\n",
       "      <td>0</td>\n",
       "      <td>0</td>\n",
       "      <td>0</td>\n",
       "      <td>0</td>\n",
       "      <td>1</td>\n",
       "      <td>0</td>\n",
       "      <td>0</td>\n",
       "      <td>...</td>\n",
       "      <td>0</td>\n",
       "      <td>10.00</td>\n",
       "      <td>90.00</td>\n",
       "      <td>1</td>\n",
       "      <td>0 days 00:00:00</td>\n",
       "      <td>0</td>\n",
       "      <td>0</td>\n",
       "      <td>30 days 00:00:00</td>\n",
       "      <td>30</td>\n",
       "      <td>0</td>\n",
       "    </tr>\n",
       "    <tr>\n",
       "      <th>4</th>\n",
       "      <td>17590</td>\n",
       "      <td>2019-05-28</td>\n",
       "      <td>0</td>\n",
       "      <td>0</td>\n",
       "      <td>0</td>\n",
       "      <td>0</td>\n",
       "      <td>0</td>\n",
       "      <td>0</td>\n",
       "      <td>0</td>\n",
       "      <td>0</td>\n",
       "      <td>...</td>\n",
       "      <td>0</td>\n",
       "      <td>0.00</td>\n",
       "      <td>0.00</td>\n",
       "      <td>0</td>\n",
       "      <td>1 days 00:00:00</td>\n",
       "      <td>1</td>\n",
       "      <td>0</td>\n",
       "      <td>1 days 00:00:00</td>\n",
       "      <td>1</td>\n",
       "      <td>2</td>\n",
       "    </tr>\n",
       "    <tr>\n",
       "      <th>...</th>\n",
       "      <td>...</td>\n",
       "      <td>...</td>\n",
       "      <td>...</td>\n",
       "      <td>...</td>\n",
       "      <td>...</td>\n",
       "      <td>...</td>\n",
       "      <td>...</td>\n",
       "      <td>...</td>\n",
       "      <td>...</td>\n",
       "      <td>...</td>\n",
       "      <td>...</td>\n",
       "      <td>...</td>\n",
       "      <td>...</td>\n",
       "      <td>...</td>\n",
       "      <td>...</td>\n",
       "      <td>...</td>\n",
       "      <td>...</td>\n",
       "      <td>...</td>\n",
       "      <td>...</td>\n",
       "      <td>...</td>\n",
       "      <td>...</td>\n",
       "    </tr>\n",
       "    <tr>\n",
       "      <th>442990</th>\n",
       "      <td>1553685</td>\n",
       "      <td>2019-05-28</td>\n",
       "      <td>0</td>\n",
       "      <td>0</td>\n",
       "      <td>0</td>\n",
       "      <td>0</td>\n",
       "      <td>0</td>\n",
       "      <td>0</td>\n",
       "      <td>0</td>\n",
       "      <td>0</td>\n",
       "      <td>...</td>\n",
       "      <td>0</td>\n",
       "      <td>0.00</td>\n",
       "      <td>0.00</td>\n",
       "      <td>0</td>\n",
       "      <td>1 days 00:00:00</td>\n",
       "      <td>1</td>\n",
       "      <td>0</td>\n",
       "      <td>1 days 00:00:00</td>\n",
       "      <td>1</td>\n",
       "      <td>2</td>\n",
       "    </tr>\n",
       "    <tr>\n",
       "      <th>442991</th>\n",
       "      <td>1553686</td>\n",
       "      <td>2019-05-28</td>\n",
       "      <td>0</td>\n",
       "      <td>0</td>\n",
       "      <td>0</td>\n",
       "      <td>0</td>\n",
       "      <td>0</td>\n",
       "      <td>0</td>\n",
       "      <td>0</td>\n",
       "      <td>0</td>\n",
       "      <td>...</td>\n",
       "      <td>0</td>\n",
       "      <td>0.00</td>\n",
       "      <td>0.00</td>\n",
       "      <td>0</td>\n",
       "      <td>1 days 00:00:00</td>\n",
       "      <td>1</td>\n",
       "      <td>0</td>\n",
       "      <td>1 days 00:00:00</td>\n",
       "      <td>1</td>\n",
       "      <td>5</td>\n",
       "    </tr>\n",
       "    <tr>\n",
       "      <th>442992</th>\n",
       "      <td>1553687</td>\n",
       "      <td>2019-05-28</td>\n",
       "      <td>0</td>\n",
       "      <td>0</td>\n",
       "      <td>0</td>\n",
       "      <td>0</td>\n",
       "      <td>0</td>\n",
       "      <td>0</td>\n",
       "      <td>0</td>\n",
       "      <td>0</td>\n",
       "      <td>...</td>\n",
       "      <td>0</td>\n",
       "      <td>0.00</td>\n",
       "      <td>0.00</td>\n",
       "      <td>0</td>\n",
       "      <td>1 days 00:00:00</td>\n",
       "      <td>1</td>\n",
       "      <td>0</td>\n",
       "      <td>1 days 00:00:00</td>\n",
       "      <td>1</td>\n",
       "      <td>5</td>\n",
       "    </tr>\n",
       "    <tr>\n",
       "      <th>442993</th>\n",
       "      <td>1553688</td>\n",
       "      <td>2019-05-28</td>\n",
       "      <td>0</td>\n",
       "      <td>0</td>\n",
       "      <td>0</td>\n",
       "      <td>0</td>\n",
       "      <td>0</td>\n",
       "      <td>0</td>\n",
       "      <td>0</td>\n",
       "      <td>0</td>\n",
       "      <td>...</td>\n",
       "      <td>0</td>\n",
       "      <td>0.00</td>\n",
       "      <td>0.00</td>\n",
       "      <td>0</td>\n",
       "      <td>1 days 00:00:00</td>\n",
       "      <td>1</td>\n",
       "      <td>0</td>\n",
       "      <td>1 days 00:00:00</td>\n",
       "      <td>1</td>\n",
       "      <td>5</td>\n",
       "    </tr>\n",
       "    <tr>\n",
       "      <th>442994</th>\n",
       "      <td>1553689</td>\n",
       "      <td>2019-05-28</td>\n",
       "      <td>0</td>\n",
       "      <td>0</td>\n",
       "      <td>0</td>\n",
       "      <td>0</td>\n",
       "      <td>0</td>\n",
       "      <td>0</td>\n",
       "      <td>0</td>\n",
       "      <td>0</td>\n",
       "      <td>...</td>\n",
       "      <td>0</td>\n",
       "      <td>0.00</td>\n",
       "      <td>0.00</td>\n",
       "      <td>0</td>\n",
       "      <td>1 days 00:00:00</td>\n",
       "      <td>1</td>\n",
       "      <td>0</td>\n",
       "      <td>1 days 00:00:00</td>\n",
       "      <td>1</td>\n",
       "      <td>5</td>\n",
       "    </tr>\n",
       "  </tbody>\n",
       "</table>\n",
       "<p>442995 rows × 60 columns</p>\n",
       "</div>"
      ],
      "text/plain": [
       "         pk_cid pk_partition  short_term_deposit  loans  mortgage  funds  \\\n",
       "0         16063   2019-05-28                   0      0         0      0   \n",
       "1         16203   2019-05-28                   0      0         0      0   \n",
       "2         16502   2019-05-28                   0      0         0      0   \n",
       "3         17457   2019-05-28                   0      0         0      0   \n",
       "4         17590   2019-05-28                   0      0         0      0   \n",
       "...         ...          ...                 ...    ...       ...    ...   \n",
       "442990  1553685   2019-05-28                   0      0         0      0   \n",
       "442991  1553686   2019-05-28                   0      0         0      0   \n",
       "442992  1553687   2019-05-28                   0      0         0      0   \n",
       "442993  1553688   2019-05-28                   0      0         0      0   \n",
       "442994  1553689   2019-05-28                   0      0         0      0   \n",
       "\n",
       "        securities  long_term_deposit  em_account_pp  credit_card  ...  \\\n",
       "0                0                  0              0            0  ...   \n",
       "1                0                  0              0            0  ...   \n",
       "2                0                  0              0            0  ...   \n",
       "3                0                  1              0            0  ...   \n",
       "4                0                  0              0            0  ...   \n",
       "...            ...                ...            ...          ...  ...   \n",
       "442990           0                  0              0            0  ...   \n",
       "442991           0                  0              0            0  ...   \n",
       "442992           0                  0              0            0  ...   \n",
       "442993           0                  0              0            0  ...   \n",
       "442994           0                  0              0            0  ...   \n",
       "\n",
       "        totalFinanciacion  totalIngresos  totalBeneficio  hayAlta  \\\n",
       "0                       0           0.00            0.00        0   \n",
       "1                       0           0.00           10.00        0   \n",
       "2                       0           0.00           20.00        0   \n",
       "3                       0          10.00           90.00        1   \n",
       "4                       0           0.00            0.00        0   \n",
       "...                   ...            ...             ...      ...   \n",
       "442990                  0           0.00            0.00        0   \n",
       "442991                  0           0.00            0.00        0   \n",
       "442992                  0           0.00            0.00        0   \n",
       "442993                  0           0.00            0.00        0   \n",
       "442994                  0           0.00            0.00        0   \n",
       "\n",
       "        diasDesdeUltimaAlta  diasDesdeUltimaAltaInt  hayBaja  \\\n",
       "0           1 days 00:00:00                       1        0   \n",
       "1         120 days 00:00:00                     120        0   \n",
       "2         120 days 00:00:00                     120        0   \n",
       "3           0 days 00:00:00                       0        0   \n",
       "4           1 days 00:00:00                       1        0   \n",
       "...                     ...                     ...      ...   \n",
       "442990      1 days 00:00:00                       1        0   \n",
       "442991      1 days 00:00:00                       1        0   \n",
       "442992      1 days 00:00:00                       1        0   \n",
       "442993      1 days 00:00:00                       1        0   \n",
       "442994      1 days 00:00:00                       1        0   \n",
       "\n",
       "       diasDesdeUltimaBaja diasDesdeUltimaBajaInt  Cluster  \n",
       "0          1 days 00:00:00                      1        2  \n",
       "1          1 days 00:00:00                      1        2  \n",
       "2          1 days 00:00:00                      1        2  \n",
       "3         30 days 00:00:00                     30        0  \n",
       "4          1 days 00:00:00                      1        2  \n",
       "...                    ...                    ...      ...  \n",
       "442990     1 days 00:00:00                      1        2  \n",
       "442991     1 days 00:00:00                      1        5  \n",
       "442992     1 days 00:00:00                      1        5  \n",
       "442993     1 days 00:00:00                      1        5  \n",
       "442994     1 days 00:00:00                      1        5  \n",
       "\n",
       "[442995 rows x 60 columns]"
      ]
     },
     "execution_count": 26,
     "metadata": {},
     "output_type": "execute_result"
    }
   ],
   "source": [
    "clientes_actuales"
   ]
  },
  {
   "cell_type": "code",
   "execution_count": 10,
   "metadata": {
    "ExecuteTime": {
     "end_time": "2020-09-16T07:37:00.054720Z",
     "start_time": "2020-09-16T07:36:59.880088Z"
    }
   },
   "outputs": [
    {
     "data": {
      "text/plain": [
       "pk_cid\n",
       "16063      2\n",
       "16203      2\n",
       "16502      2\n",
       "17457      0\n",
       "17590      2\n",
       "          ..\n",
       "1553685    2\n",
       "1553686    5\n",
       "1553687    5\n",
       "1553688    5\n",
       "1553689    5\n",
       "Name: Cluster, Length: 442995, dtype: int64"
      ]
     },
     "execution_count": 10,
     "metadata": {},
     "output_type": "execute_result"
    }
   ],
   "source": [
    "clientes_actuales.set_index('pk_cid',)['Cluster']"
   ]
  },
  {
   "cell_type": "code",
   "execution_count": 8,
   "metadata": {
    "ExecuteTime": {
     "end_time": "2020-09-16T07:36:13.144187Z",
     "start_time": "2020-09-16T07:36:13.138218Z"
    }
   },
   "outputs": [
    {
     "data": {
      "text/plain": [
       "0         2\n",
       "1         2\n",
       "2         2\n",
       "3         0\n",
       "4         2\n",
       "         ..\n",
       "442990    2\n",
       "442991    5\n",
       "442992    5\n",
       "442993    5\n",
       "442994    5\n",
       "Name: Cluster, Length: 442995, dtype: int64"
      ]
     },
     "execution_count": 8,
     "metadata": {},
     "output_type": "execute_result"
    }
   ],
   "source": [
    "clientes_actuales['Cluster']"
   ]
  },
  {
   "cell_type": "code",
   "execution_count": 12,
   "metadata": {
    "ExecuteTime": {
     "end_time": "2020-09-16T07:37:15.909797Z",
     "start_time": "2020-09-16T07:37:15.562898Z"
    }
   },
   "outputs": [],
   "source": [
    "df_sorted['Cluster']=df_sorted['pk_cid'].map(clientes_actuales.set_index('pk_cid',)['Cluster'])"
   ]
  },
  {
   "cell_type": "code",
   "execution_count": 13,
   "metadata": {
    "ExecuteTime": {
     "end_time": "2020-09-16T07:37:30.036668Z",
     "start_time": "2020-09-16T07:37:29.936858Z"
    }
   },
   "outputs": [
    {
     "data": {
      "text/plain": [
       "1.00    2952632\n",
       "5.00     923507\n",
       "6.00     727743\n",
       "2.00     506039\n",
       "3.00     397916\n",
       "0.00     311775\n",
       "4.00      76014\n",
       "nan       66297\n",
       "7.00       1001\n",
       "Name: Cluster, dtype: int64"
      ]
     },
     "execution_count": 13,
     "metadata": {},
     "output_type": "execute_result"
    }
   ],
   "source": [
    "df_sorted['Cluster'].value_counts(dropna=False)"
   ]
  },
  {
   "cell_type": "code",
   "execution_count": 15,
   "metadata": {
    "ExecuteTime": {
     "end_time": "2020-09-16T07:44:29.546931Z",
     "start_time": "2020-09-16T07:44:29.283082Z"
    }
   },
   "outputs": [
    {
     "name": "stdout",
     "output_type": "stream",
     "text": [
      "<class 'pandas.core.frame.DataFrame'>\n",
      "RangeIndex: 442995 entries, 0 to 442994\n",
      "Data columns (total 60 columns):\n",
      " #   Column                  Non-Null Count   Dtype  \n",
      "---  ------                  --------------   -----  \n",
      " 0   pk_cid                  442995 non-null  int64  \n",
      " 1   pk_partition            442995 non-null  object \n",
      " 2   short_term_deposit      442995 non-null  int64  \n",
      " 3   loans                   442995 non-null  int64  \n",
      " 4   mortgage                442995 non-null  int64  \n",
      " 5   funds                   442995 non-null  int64  \n",
      " 6   securities              442995 non-null  int64  \n",
      " 7   long_term_deposit       442995 non-null  int64  \n",
      " 8   em_account_pp           442995 non-null  int64  \n",
      " 9   credit_card             442995 non-null  int64  \n",
      " 10  payroll                 442995 non-null  float64\n",
      " 11  pension_plan            442995 non-null  float64\n",
      " 12  payroll_account         442995 non-null  int64  \n",
      " 13  emc_account             442995 non-null  int64  \n",
      " 14  debit_card              442995 non-null  int64  \n",
      " 15  em_account_p            442995 non-null  int64  \n",
      " 16  em_acount               442995 non-null  int64  \n",
      " 17  entry_date              442995 non-null  object \n",
      " 18  entry_channel           442995 non-null  object \n",
      " 19  active_customer         442995 non-null  float64\n",
      " 20  segment                 442995 non-null  object \n",
      " 21  country_id              442995 non-null  object \n",
      " 22  region_code             442995 non-null  float64\n",
      " 23  gender                  442995 non-null  object \n",
      " 24  age                     442995 non-null  int64  \n",
      " 25  deceased                442995 non-null  object \n",
      " 26  salary                  442995 non-null  float64\n",
      " 27  dif_debit_card          442995 non-null  float64\n",
      " 28  dif_em_account_p        442995 non-null  float64\n",
      " 29  dif_em_account_pp       442995 non-null  float64\n",
      " 30  dif_em_acount           442995 non-null  float64\n",
      " 31  dif_emc_account         442995 non-null  float64\n",
      " 32  dif_payroll             442995 non-null  float64\n",
      " 33  dif_payroll_account     442995 non-null  float64\n",
      " 34  dif_funds               442995 non-null  float64\n",
      " 35  dif_long_term_deposit   442995 non-null  float64\n",
      " 36  dif_mortgage            442995 non-null  float64\n",
      " 37  dif_pension_plan        442995 non-null  float64\n",
      " 38  dif_securities          442995 non-null  float64\n",
      " 39  dif_short_term_deposit  442995 non-null  float64\n",
      " 40  dif_loans               442995 non-null  float64\n",
      " 41  dif_credit_card         442995 non-null  float64\n",
      " 42  mesesAlta               442995 non-null  float64\n",
      " 43  isNewClient             442995 non-null  int64  \n",
      " 44  isActive                442995 non-null  int64  \n",
      " 45  Provincia               442995 non-null  object \n",
      " 46  SalaryQtil              442995 non-null  object \n",
      " 47  totalAssets             442995 non-null  float64\n",
      " 48  totalCuentas            442995 non-null  float64\n",
      " 49  totalAhorro             442995 non-null  float64\n",
      " 50  totalFinanciacion       442995 non-null  int64  \n",
      " 51  totalIngresos           442995 non-null  float64\n",
      " 52  totalBeneficio          442995 non-null  float64\n",
      " 53  hayAlta                 442995 non-null  int64  \n",
      " 54  diasDesdeUltimaAlta     442995 non-null  object \n",
      " 55  diasDesdeUltimaAltaInt  442995 non-null  int64  \n",
      " 56  hayBaja                 442995 non-null  int64  \n",
      " 57  diasDesdeUltimaBaja     442995 non-null  object \n",
      " 58  diasDesdeUltimaBajaInt  442995 non-null  int64  \n",
      " 59  Cluster                 442995 non-null  int64  \n",
      "dtypes: float64(26), int64(23), object(11)\n",
      "memory usage: 202.8+ MB\n"
     ]
    }
   ],
   "source": [
    "clientes_actuales.info()"
   ]
  },
  {
   "cell_type": "code",
   "execution_count": 30,
   "metadata": {
    "ExecuteTime": {
     "end_time": "2020-09-16T16:00:11.382410Z",
     "start_time": "2020-09-16T16:00:11.378398Z"
    }
   },
   "outputs": [],
   "source": [
    "lista_ver=['credit_card',\n",
    "                            'debit_card','em_account_p','em_account_pp',\n",
    "                            'em_acount','emc_account','funds','loans',\n",
    "                            'long_term_deposit','mortgage','payroll','payroll_account',\n",
    "                            'pension_plan','securities','short_term_deposit']"
   ]
  },
  {
   "cell_type": "code",
   "execution_count": 27,
   "metadata": {
    "ExecuteTime": {
     "end_time": "2020-09-16T15:57:19.656449Z",
     "start_time": "2020-09-16T15:57:19.616473Z"
    }
   },
   "outputs": [
    {
     "ename": "NameError",
     "evalue": "name 'lista_ver' is not defined",
     "output_type": "error",
     "traceback": [
      "\u001b[1;31m---------------------------------------------------------------------------\u001b[0m",
      "\u001b[1;31mNameError\u001b[0m                                 Traceback (most recent call last)",
      "\u001b[1;32m<ipython-input-27-8e2faf0f6100>\u001b[0m in \u001b[0;36m<module>\u001b[1;34m\u001b[0m\n\u001b[1;32m----> 1\u001b[1;33m \u001b[0mclientes_actuales\u001b[0m\u001b[1;33m[\u001b[0m\u001b[0mclientes_actuales\u001b[0m\u001b[1;33m[\u001b[0m\u001b[1;34m'Cluster'\u001b[0m\u001b[1;33m]\u001b[0m\u001b[1;33m==\u001b[0m\u001b[1;36m0\u001b[0m\u001b[1;33m]\u001b[0m\u001b[1;33m[\u001b[0m\u001b[0mlista_ver\u001b[0m\u001b[1;33m]\u001b[0m\u001b[1;33m\u001b[0m\u001b[1;33m\u001b[0m\u001b[0m\n\u001b[0m",
      "\u001b[1;31mNameError\u001b[0m: name 'lista_ver' is not defined"
     ]
    }
   ],
   "source": [
    "clientes_actuales[clientes_actuales['Cluster']==0][lista_ver]"
   ]
  },
  {
   "cell_type": "code",
   "execution_count": 28,
   "metadata": {
    "ExecuteTime": {
     "end_time": "2020-09-16T15:57:27.503901Z",
     "start_time": "2020-09-16T15:57:27.461946Z"
    }
   },
   "outputs": [
    {
     "data": {
      "text/html": [
       "<div>\n",
       "<style scoped>\n",
       "    .dataframe tbody tr th:only-of-type {\n",
       "        vertical-align: middle;\n",
       "    }\n",
       "\n",
       "    .dataframe tbody tr th {\n",
       "        vertical-align: top;\n",
       "    }\n",
       "\n",
       "    .dataframe thead th {\n",
       "        text-align: right;\n",
       "    }\n",
       "</style>\n",
       "<table border=\"1\" class=\"dataframe\">\n",
       "  <thead>\n",
       "    <tr style=\"text-align: right;\">\n",
       "      <th></th>\n",
       "      <th>pk_cid</th>\n",
       "      <th>pk_partition</th>\n",
       "      <th>short_term_deposit</th>\n",
       "      <th>loans</th>\n",
       "      <th>mortgage</th>\n",
       "      <th>funds</th>\n",
       "      <th>securities</th>\n",
       "      <th>long_term_deposit</th>\n",
       "      <th>em_account_pp</th>\n",
       "      <th>credit_card</th>\n",
       "      <th>...</th>\n",
       "      <th>totalFinanciacion</th>\n",
       "      <th>totalIngresos</th>\n",
       "      <th>totalBeneficio</th>\n",
       "      <th>hayAlta</th>\n",
       "      <th>diasDesdeUltimaAlta</th>\n",
       "      <th>diasDesdeUltimaAltaInt</th>\n",
       "      <th>hayBaja</th>\n",
       "      <th>diasDesdeUltimaBaja</th>\n",
       "      <th>diasDesdeUltimaBajaInt</th>\n",
       "      <th>Cluster</th>\n",
       "    </tr>\n",
       "  </thead>\n",
       "  <tbody>\n",
       "    <tr>\n",
       "      <th>3</th>\n",
       "      <td>17457</td>\n",
       "      <td>2019-05-28</td>\n",
       "      <td>0</td>\n",
       "      <td>0</td>\n",
       "      <td>0</td>\n",
       "      <td>0</td>\n",
       "      <td>0</td>\n",
       "      <td>1</td>\n",
       "      <td>0</td>\n",
       "      <td>0</td>\n",
       "      <td>...</td>\n",
       "      <td>0</td>\n",
       "      <td>10.00</td>\n",
       "      <td>90.00</td>\n",
       "      <td>1</td>\n",
       "      <td>0 days 00:00:00</td>\n",
       "      <td>0</td>\n",
       "      <td>0</td>\n",
       "      <td>30 days 00:00:00</td>\n",
       "      <td>30</td>\n",
       "      <td>0</td>\n",
       "    </tr>\n",
       "    <tr>\n",
       "      <th>7</th>\n",
       "      <td>17980</td>\n",
       "      <td>2019-05-28</td>\n",
       "      <td>0</td>\n",
       "      <td>0</td>\n",
       "      <td>0</td>\n",
       "      <td>1</td>\n",
       "      <td>0</td>\n",
       "      <td>1</td>\n",
       "      <td>0</td>\n",
       "      <td>0</td>\n",
       "      <td>...</td>\n",
       "      <td>0</td>\n",
       "      <td>0.00</td>\n",
       "      <td>80.00</td>\n",
       "      <td>0</td>\n",
       "      <td>365 days 00:00:00</td>\n",
       "      <td>365</td>\n",
       "      <td>0</td>\n",
       "      <td>1 days 00:00:00</td>\n",
       "      <td>1</td>\n",
       "      <td>0</td>\n",
       "    </tr>\n",
       "    <tr>\n",
       "      <th>36</th>\n",
       "      <td>26018</td>\n",
       "      <td>2019-05-28</td>\n",
       "      <td>0</td>\n",
       "      <td>0</td>\n",
       "      <td>0</td>\n",
       "      <td>1</td>\n",
       "      <td>1</td>\n",
       "      <td>1</td>\n",
       "      <td>0</td>\n",
       "      <td>0</td>\n",
       "      <td>...</td>\n",
       "      <td>0</td>\n",
       "      <td>0.00</td>\n",
       "      <td>40.00</td>\n",
       "      <td>0</td>\n",
       "      <td>61 days 00:00:00</td>\n",
       "      <td>61</td>\n",
       "      <td>0</td>\n",
       "      <td>1 days 00:00:00</td>\n",
       "      <td>1</td>\n",
       "      <td>0</td>\n",
       "    </tr>\n",
       "    <tr>\n",
       "      <th>37</th>\n",
       "      <td>26163</td>\n",
       "      <td>2019-05-28</td>\n",
       "      <td>0</td>\n",
       "      <td>0</td>\n",
       "      <td>0</td>\n",
       "      <td>0</td>\n",
       "      <td>0</td>\n",
       "      <td>1</td>\n",
       "      <td>0</td>\n",
       "      <td>0</td>\n",
       "      <td>...</td>\n",
       "      <td>0</td>\n",
       "      <td>0.00</td>\n",
       "      <td>0.00</td>\n",
       "      <td>0</td>\n",
       "      <td>1 days 00:00:00</td>\n",
       "      <td>1</td>\n",
       "      <td>0</td>\n",
       "      <td>1 days 00:00:00</td>\n",
       "      <td>1</td>\n",
       "      <td>0</td>\n",
       "    </tr>\n",
       "    <tr>\n",
       "      <th>44</th>\n",
       "      <td>29947</td>\n",
       "      <td>2019-05-28</td>\n",
       "      <td>0</td>\n",
       "      <td>0</td>\n",
       "      <td>0</td>\n",
       "      <td>1</td>\n",
       "      <td>0</td>\n",
       "      <td>0</td>\n",
       "      <td>0</td>\n",
       "      <td>0</td>\n",
       "      <td>...</td>\n",
       "      <td>0</td>\n",
       "      <td>0.00</td>\n",
       "      <td>0.00</td>\n",
       "      <td>0</td>\n",
       "      <td>1 days 00:00:00</td>\n",
       "      <td>1</td>\n",
       "      <td>0</td>\n",
       "      <td>1 days 00:00:00</td>\n",
       "      <td>1</td>\n",
       "      <td>0</td>\n",
       "    </tr>\n",
       "    <tr>\n",
       "      <th>...</th>\n",
       "      <td>...</td>\n",
       "      <td>...</td>\n",
       "      <td>...</td>\n",
       "      <td>...</td>\n",
       "      <td>...</td>\n",
       "      <td>...</td>\n",
       "      <td>...</td>\n",
       "      <td>...</td>\n",
       "      <td>...</td>\n",
       "      <td>...</td>\n",
       "      <td>...</td>\n",
       "      <td>...</td>\n",
       "      <td>...</td>\n",
       "      <td>...</td>\n",
       "      <td>...</td>\n",
       "      <td>...</td>\n",
       "      <td>...</td>\n",
       "      <td>...</td>\n",
       "      <td>...</td>\n",
       "      <td>...</td>\n",
       "      <td>...</td>\n",
       "    </tr>\n",
       "    <tr>\n",
       "      <th>435960</th>\n",
       "      <td>1544227</td>\n",
       "      <td>2019-05-28</td>\n",
       "      <td>0</td>\n",
       "      <td>0</td>\n",
       "      <td>0</td>\n",
       "      <td>1</td>\n",
       "      <td>0</td>\n",
       "      <td>0</td>\n",
       "      <td>0</td>\n",
       "      <td>0</td>\n",
       "      <td>...</td>\n",
       "      <td>0</td>\n",
       "      <td>50.00</td>\n",
       "      <td>60.00</td>\n",
       "      <td>1</td>\n",
       "      <td>0 days 00:00:00</td>\n",
       "      <td>0</td>\n",
       "      <td>0</td>\n",
       "      <td>1 days 00:00:00</td>\n",
       "      <td>1</td>\n",
       "      <td>0</td>\n",
       "    </tr>\n",
       "    <tr>\n",
       "      <th>436045</th>\n",
       "      <td>1544346</td>\n",
       "      <td>2019-05-28</td>\n",
       "      <td>0</td>\n",
       "      <td>0</td>\n",
       "      <td>0</td>\n",
       "      <td>1</td>\n",
       "      <td>0</td>\n",
       "      <td>0</td>\n",
       "      <td>0</td>\n",
       "      <td>0</td>\n",
       "      <td>...</td>\n",
       "      <td>0</td>\n",
       "      <td>40.00</td>\n",
       "      <td>50.00</td>\n",
       "      <td>1</td>\n",
       "      <td>0 days 00:00:00</td>\n",
       "      <td>0</td>\n",
       "      <td>0</td>\n",
       "      <td>1 days 00:00:00</td>\n",
       "      <td>1</td>\n",
       "      <td>0</td>\n",
       "    </tr>\n",
       "    <tr>\n",
       "      <th>436780</th>\n",
       "      <td>1545426</td>\n",
       "      <td>2019-05-28</td>\n",
       "      <td>0</td>\n",
       "      <td>0</td>\n",
       "      <td>0</td>\n",
       "      <td>0</td>\n",
       "      <td>1</td>\n",
       "      <td>0</td>\n",
       "      <td>0</td>\n",
       "      <td>0</td>\n",
       "      <td>...</td>\n",
       "      <td>0</td>\n",
       "      <td>40.00</td>\n",
       "      <td>50.00</td>\n",
       "      <td>1</td>\n",
       "      <td>0 days 00:00:00</td>\n",
       "      <td>0</td>\n",
       "      <td>0</td>\n",
       "      <td>1 days 00:00:00</td>\n",
       "      <td>1</td>\n",
       "      <td>0</td>\n",
       "    </tr>\n",
       "    <tr>\n",
       "      <th>437934</th>\n",
       "      <td>1547057</td>\n",
       "      <td>2019-05-28</td>\n",
       "      <td>0</td>\n",
       "      <td>0</td>\n",
       "      <td>0</td>\n",
       "      <td>1</td>\n",
       "      <td>0</td>\n",
       "      <td>1</td>\n",
       "      <td>0</td>\n",
       "      <td>0</td>\n",
       "      <td>...</td>\n",
       "      <td>0</td>\n",
       "      <td>80.00</td>\n",
       "      <td>90.00</td>\n",
       "      <td>1</td>\n",
       "      <td>0 days 00:00:00</td>\n",
       "      <td>0</td>\n",
       "      <td>0</td>\n",
       "      <td>1 days 00:00:00</td>\n",
       "      <td>1</td>\n",
       "      <td>0</td>\n",
       "    </tr>\n",
       "    <tr>\n",
       "      <th>438288</th>\n",
       "      <td>1547538</td>\n",
       "      <td>2019-05-28</td>\n",
       "      <td>0</td>\n",
       "      <td>0</td>\n",
       "      <td>0</td>\n",
       "      <td>1</td>\n",
       "      <td>0</td>\n",
       "      <td>0</td>\n",
       "      <td>0</td>\n",
       "      <td>0</td>\n",
       "      <td>...</td>\n",
       "      <td>0</td>\n",
       "      <td>40.00</td>\n",
       "      <td>50.00</td>\n",
       "      <td>1</td>\n",
       "      <td>0 days 00:00:00</td>\n",
       "      <td>0</td>\n",
       "      <td>0</td>\n",
       "      <td>1 days 00:00:00</td>\n",
       "      <td>1</td>\n",
       "      <td>0</td>\n",
       "    </tr>\n",
       "  </tbody>\n",
       "</table>\n",
       "<p>6506 rows × 60 columns</p>\n",
       "</div>"
      ],
      "text/plain": [
       "         pk_cid pk_partition  short_term_deposit  loans  mortgage  funds  \\\n",
       "3         17457   2019-05-28                   0      0         0      0   \n",
       "7         17980   2019-05-28                   0      0         0      1   \n",
       "36        26018   2019-05-28                   0      0         0      1   \n",
       "37        26163   2019-05-28                   0      0         0      0   \n",
       "44        29947   2019-05-28                   0      0         0      1   \n",
       "...         ...          ...                 ...    ...       ...    ...   \n",
       "435960  1544227   2019-05-28                   0      0         0      1   \n",
       "436045  1544346   2019-05-28                   0      0         0      1   \n",
       "436780  1545426   2019-05-28                   0      0         0      0   \n",
       "437934  1547057   2019-05-28                   0      0         0      1   \n",
       "438288  1547538   2019-05-28                   0      0         0      1   \n",
       "\n",
       "        securities  long_term_deposit  em_account_pp  credit_card  ...  \\\n",
       "3                0                  1              0            0  ...   \n",
       "7                0                  1              0            0  ...   \n",
       "36               1                  1              0            0  ...   \n",
       "37               0                  1              0            0  ...   \n",
       "44               0                  0              0            0  ...   \n",
       "...            ...                ...            ...          ...  ...   \n",
       "435960           0                  0              0            0  ...   \n",
       "436045           0                  0              0            0  ...   \n",
       "436780           1                  0              0            0  ...   \n",
       "437934           0                  1              0            0  ...   \n",
       "438288           0                  0              0            0  ...   \n",
       "\n",
       "        totalFinanciacion  totalIngresos  totalBeneficio  hayAlta  \\\n",
       "3                       0          10.00           90.00        1   \n",
       "7                       0           0.00           80.00        0   \n",
       "36                      0           0.00           40.00        0   \n",
       "37                      0           0.00            0.00        0   \n",
       "44                      0           0.00            0.00        0   \n",
       "...                   ...            ...             ...      ...   \n",
       "435960                  0          50.00           60.00        1   \n",
       "436045                  0          40.00           50.00        1   \n",
       "436780                  0          40.00           50.00        1   \n",
       "437934                  0          80.00           90.00        1   \n",
       "438288                  0          40.00           50.00        1   \n",
       "\n",
       "        diasDesdeUltimaAlta  diasDesdeUltimaAltaInt  hayBaja  \\\n",
       "3           0 days 00:00:00                       0        0   \n",
       "7         365 days 00:00:00                     365        0   \n",
       "36         61 days 00:00:00                      61        0   \n",
       "37          1 days 00:00:00                       1        0   \n",
       "44          1 days 00:00:00                       1        0   \n",
       "...                     ...                     ...      ...   \n",
       "435960      0 days 00:00:00                       0        0   \n",
       "436045      0 days 00:00:00                       0        0   \n",
       "436780      0 days 00:00:00                       0        0   \n",
       "437934      0 days 00:00:00                       0        0   \n",
       "438288      0 days 00:00:00                       0        0   \n",
       "\n",
       "       diasDesdeUltimaBaja diasDesdeUltimaBajaInt  Cluster  \n",
       "3         30 days 00:00:00                     30        0  \n",
       "7          1 days 00:00:00                      1        0  \n",
       "36         1 days 00:00:00                      1        0  \n",
       "37         1 days 00:00:00                      1        0  \n",
       "44         1 days 00:00:00                      1        0  \n",
       "...                    ...                    ...      ...  \n",
       "435960     1 days 00:00:00                      1        0  \n",
       "436045     1 days 00:00:00                      1        0  \n",
       "436780     1 days 00:00:00                      1        0  \n",
       "437934     1 days 00:00:00                      1        0  \n",
       "438288     1 days 00:00:00                      1        0  \n",
       "\n",
       "[6506 rows x 60 columns]"
      ]
     },
     "execution_count": 28,
     "metadata": {},
     "output_type": "execute_result"
    }
   ],
   "source": [
    "clientes_actuales[(clientes_actuales['Cluster']==0) &\n",
    "                 (clientes_actuales['pension_plan']==0) ]"
   ]
  },
  {
   "cell_type": "code",
   "execution_count": 33,
   "metadata": {
    "ExecuteTime": {
     "end_time": "2020-09-16T16:01:26.666285Z",
     "start_time": "2020-09-16T16:01:26.619299Z"
    }
   },
   "outputs": [
    {
     "data": {
      "text/html": [
       "<div>\n",
       "<style scoped>\n",
       "    .dataframe tbody tr th:only-of-type {\n",
       "        vertical-align: middle;\n",
       "    }\n",
       "\n",
       "    .dataframe tbody tr th {\n",
       "        vertical-align: top;\n",
       "    }\n",
       "\n",
       "    .dataframe thead th {\n",
       "        text-align: right;\n",
       "    }\n",
       "</style>\n",
       "<table border=\"1\" class=\"dataframe\">\n",
       "  <thead>\n",
       "    <tr style=\"text-align: right;\">\n",
       "      <th></th>\n",
       "      <th>credit_card</th>\n",
       "      <th>debit_card</th>\n",
       "      <th>em_account_p</th>\n",
       "      <th>em_account_pp</th>\n",
       "      <th>em_acount</th>\n",
       "      <th>emc_account</th>\n",
       "      <th>funds</th>\n",
       "      <th>loans</th>\n",
       "      <th>long_term_deposit</th>\n",
       "      <th>mortgage</th>\n",
       "      <th>payroll</th>\n",
       "      <th>payroll_account</th>\n",
       "      <th>pension_plan</th>\n",
       "      <th>securities</th>\n",
       "      <th>short_term_deposit</th>\n",
       "    </tr>\n",
       "  </thead>\n",
       "  <tbody>\n",
       "    <tr>\n",
       "      <th>3</th>\n",
       "      <td>0</td>\n",
       "      <td>1</td>\n",
       "      <td>0</td>\n",
       "      <td>0</td>\n",
       "      <td>1</td>\n",
       "      <td>0</td>\n",
       "      <td>0</td>\n",
       "      <td>0</td>\n",
       "      <td>1</td>\n",
       "      <td>0</td>\n",
       "      <td>0.00</td>\n",
       "      <td>0</td>\n",
       "      <td>0.00</td>\n",
       "      <td>0</td>\n",
       "      <td>0</td>\n",
       "    </tr>\n",
       "    <tr>\n",
       "      <th>6</th>\n",
       "      <td>0</td>\n",
       "      <td>1</td>\n",
       "      <td>0</td>\n",
       "      <td>0</td>\n",
       "      <td>0</td>\n",
       "      <td>1</td>\n",
       "      <td>0</td>\n",
       "      <td>0</td>\n",
       "      <td>0</td>\n",
       "      <td>0</td>\n",
       "      <td>0.00</td>\n",
       "      <td>1</td>\n",
       "      <td>1.00</td>\n",
       "      <td>1</td>\n",
       "      <td>0</td>\n",
       "    </tr>\n",
       "    <tr>\n",
       "      <th>7</th>\n",
       "      <td>0</td>\n",
       "      <td>0</td>\n",
       "      <td>0</td>\n",
       "      <td>0</td>\n",
       "      <td>0</td>\n",
       "      <td>0</td>\n",
       "      <td>1</td>\n",
       "      <td>0</td>\n",
       "      <td>1</td>\n",
       "      <td>0</td>\n",
       "      <td>0.00</td>\n",
       "      <td>0</td>\n",
       "      <td>0.00</td>\n",
       "      <td>0</td>\n",
       "      <td>0</td>\n",
       "    </tr>\n",
       "    <tr>\n",
       "      <th>36</th>\n",
       "      <td>0</td>\n",
       "      <td>0</td>\n",
       "      <td>0</td>\n",
       "      <td>0</td>\n",
       "      <td>1</td>\n",
       "      <td>0</td>\n",
       "      <td>1</td>\n",
       "      <td>0</td>\n",
       "      <td>1</td>\n",
       "      <td>0</td>\n",
       "      <td>0.00</td>\n",
       "      <td>0</td>\n",
       "      <td>0.00</td>\n",
       "      <td>1</td>\n",
       "      <td>0</td>\n",
       "    </tr>\n",
       "    <tr>\n",
       "      <th>37</th>\n",
       "      <td>0</td>\n",
       "      <td>1</td>\n",
       "      <td>0</td>\n",
       "      <td>0</td>\n",
       "      <td>1</td>\n",
       "      <td>1</td>\n",
       "      <td>0</td>\n",
       "      <td>0</td>\n",
       "      <td>1</td>\n",
       "      <td>0</td>\n",
       "      <td>0.00</td>\n",
       "      <td>0</td>\n",
       "      <td>0.00</td>\n",
       "      <td>0</td>\n",
       "      <td>0</td>\n",
       "    </tr>\n",
       "    <tr>\n",
       "      <th>...</th>\n",
       "      <td>...</td>\n",
       "      <td>...</td>\n",
       "      <td>...</td>\n",
       "      <td>...</td>\n",
       "      <td>...</td>\n",
       "      <td>...</td>\n",
       "      <td>...</td>\n",
       "      <td>...</td>\n",
       "      <td>...</td>\n",
       "      <td>...</td>\n",
       "      <td>...</td>\n",
       "      <td>...</td>\n",
       "      <td>...</td>\n",
       "      <td>...</td>\n",
       "      <td>...</td>\n",
       "    </tr>\n",
       "    <tr>\n",
       "      <th>441387</th>\n",
       "      <td>0</td>\n",
       "      <td>0</td>\n",
       "      <td>0</td>\n",
       "      <td>0</td>\n",
       "      <td>1</td>\n",
       "      <td>0</td>\n",
       "      <td>0</td>\n",
       "      <td>0</td>\n",
       "      <td>0</td>\n",
       "      <td>0</td>\n",
       "      <td>1.00</td>\n",
       "      <td>0</td>\n",
       "      <td>1.00</td>\n",
       "      <td>0</td>\n",
       "      <td>0</td>\n",
       "    </tr>\n",
       "    <tr>\n",
       "      <th>441473</th>\n",
       "      <td>0</td>\n",
       "      <td>0</td>\n",
       "      <td>0</td>\n",
       "      <td>0</td>\n",
       "      <td>1</td>\n",
       "      <td>0</td>\n",
       "      <td>0</td>\n",
       "      <td>0</td>\n",
       "      <td>0</td>\n",
       "      <td>0</td>\n",
       "      <td>1.00</td>\n",
       "      <td>0</td>\n",
       "      <td>1.00</td>\n",
       "      <td>0</td>\n",
       "      <td>0</td>\n",
       "    </tr>\n",
       "    <tr>\n",
       "      <th>441563</th>\n",
       "      <td>0</td>\n",
       "      <td>0</td>\n",
       "      <td>0</td>\n",
       "      <td>0</td>\n",
       "      <td>1</td>\n",
       "      <td>0</td>\n",
       "      <td>0</td>\n",
       "      <td>0</td>\n",
       "      <td>0</td>\n",
       "      <td>0</td>\n",
       "      <td>1.00</td>\n",
       "      <td>0</td>\n",
       "      <td>1.00</td>\n",
       "      <td>0</td>\n",
       "      <td>0</td>\n",
       "    </tr>\n",
       "    <tr>\n",
       "      <th>441740</th>\n",
       "      <td>0</td>\n",
       "      <td>1</td>\n",
       "      <td>0</td>\n",
       "      <td>0</td>\n",
       "      <td>1</td>\n",
       "      <td>0</td>\n",
       "      <td>0</td>\n",
       "      <td>0</td>\n",
       "      <td>0</td>\n",
       "      <td>0</td>\n",
       "      <td>1.00</td>\n",
       "      <td>0</td>\n",
       "      <td>1.00</td>\n",
       "      <td>0</td>\n",
       "      <td>0</td>\n",
       "    </tr>\n",
       "    <tr>\n",
       "      <th>441973</th>\n",
       "      <td>0</td>\n",
       "      <td>0</td>\n",
       "      <td>0</td>\n",
       "      <td>0</td>\n",
       "      <td>1</td>\n",
       "      <td>0</td>\n",
       "      <td>0</td>\n",
       "      <td>0</td>\n",
       "      <td>0</td>\n",
       "      <td>0</td>\n",
       "      <td>1.00</td>\n",
       "      <td>0</td>\n",
       "      <td>1.00</td>\n",
       "      <td>0</td>\n",
       "      <td>0</td>\n",
       "    </tr>\n",
       "  </tbody>\n",
       "</table>\n",
       "<p>20643 rows × 15 columns</p>\n",
       "</div>"
      ],
      "text/plain": [
       "        credit_card  debit_card  em_account_p  em_account_pp  em_acount  \\\n",
       "3                 0           1             0              0          1   \n",
       "6                 0           1             0              0          0   \n",
       "7                 0           0             0              0          0   \n",
       "36                0           0             0              0          1   \n",
       "37                0           1             0              0          1   \n",
       "...             ...         ...           ...            ...        ...   \n",
       "441387            0           0             0              0          1   \n",
       "441473            0           0             0              0          1   \n",
       "441563            0           0             0              0          1   \n",
       "441740            0           1             0              0          1   \n",
       "441973            0           0             0              0          1   \n",
       "\n",
       "        emc_account  funds  loans  long_term_deposit  mortgage  payroll  \\\n",
       "3                 0      0      0                  1         0     0.00   \n",
       "6                 1      0      0                  0         0     0.00   \n",
       "7                 0      1      0                  1         0     0.00   \n",
       "36                0      1      0                  1         0     0.00   \n",
       "37                1      0      0                  1         0     0.00   \n",
       "...             ...    ...    ...                ...       ...      ...   \n",
       "441387            0      0      0                  0         0     1.00   \n",
       "441473            0      0      0                  0         0     1.00   \n",
       "441563            0      0      0                  0         0     1.00   \n",
       "441740            0      0      0                  0         0     1.00   \n",
       "441973            0      0      0                  0         0     1.00   \n",
       "\n",
       "        payroll_account  pension_plan  securities  short_term_deposit  \n",
       "3                     0          0.00           0                   0  \n",
       "6                     1          1.00           1                   0  \n",
       "7                     0          0.00           0                   0  \n",
       "36                    0          0.00           1                   0  \n",
       "37                    0          0.00           0                   0  \n",
       "...                 ...           ...         ...                 ...  \n",
       "441387                0          1.00           0                   0  \n",
       "441473                0          1.00           0                   0  \n",
       "441563                0          1.00           0                   0  \n",
       "441740                0          1.00           0                   0  \n",
       "441973                0          1.00           0                   0  \n",
       "\n",
       "[20643 rows x 15 columns]"
      ]
     },
     "execution_count": 33,
     "metadata": {},
     "output_type": "execute_result"
    }
   ],
   "source": [
    "clientes_actuales[(clientes_actuales['Cluster']==0) &\n",
    "((clientes_actuales['funds']==1) |\n",
    "(clientes_actuales['long_term_deposit']==1) |\n",
    "(clientes_actuales['mortgage']==1) |\n",
    "(clientes_actuales['pension_plan']==1) |\n",
    "(clientes_actuales['securities']==1) |\n",
    "(clientes_actuales['short_term_deposit']==1))][lista_ver]"
   ]
  },
  {
   "cell_type": "code",
   "execution_count": 41,
   "metadata": {
    "ExecuteTime": {
     "end_time": "2020-09-16T16:36:00.907735Z",
     "start_time": "2020-09-16T16:36:00.882730Z"
    }
   },
   "outputs": [
    {
     "data": {
      "text/html": [
       "<div>\n",
       "<style scoped>\n",
       "    .dataframe tbody tr th:only-of-type {\n",
       "        vertical-align: middle;\n",
       "    }\n",
       "\n",
       "    .dataframe tbody tr th {\n",
       "        vertical-align: top;\n",
       "    }\n",
       "\n",
       "    .dataframe thead th {\n",
       "        text-align: right;\n",
       "    }\n",
       "</style>\n",
       "<table border=\"1\" class=\"dataframe\">\n",
       "  <thead>\n",
       "    <tr style=\"text-align: right;\">\n",
       "      <th></th>\n",
       "      <th>totalAssets</th>\n",
       "      <th>totalCuentas</th>\n",
       "      <th>totalAhorro</th>\n",
       "      <th>totalFinanciacion</th>\n",
       "      <th>totalIngresos</th>\n",
       "      <th>totalBeneficio</th>\n",
       "    </tr>\n",
       "  </thead>\n",
       "  <tbody>\n",
       "    <tr>\n",
       "      <th>165</th>\n",
       "      <td>3.00</td>\n",
       "      <td>3.00</td>\n",
       "      <td>0.00</td>\n",
       "      <td>0</td>\n",
       "      <td>0.00</td>\n",
       "      <td>140.00</td>\n",
       "    </tr>\n",
       "    <tr>\n",
       "      <th>202</th>\n",
       "      <td>3.00</td>\n",
       "      <td>3.00</td>\n",
       "      <td>0.00</td>\n",
       "      <td>0</td>\n",
       "      <td>0.00</td>\n",
       "      <td>130.00</td>\n",
       "    </tr>\n",
       "    <tr>\n",
       "      <th>282</th>\n",
       "      <td>3.00</td>\n",
       "      <td>3.00</td>\n",
       "      <td>0.00</td>\n",
       "      <td>0</td>\n",
       "      <td>10.00</td>\n",
       "      <td>90.00</td>\n",
       "    </tr>\n",
       "    <tr>\n",
       "      <th>562</th>\n",
       "      <td>3.00</td>\n",
       "      <td>3.00</td>\n",
       "      <td>0.00</td>\n",
       "      <td>0</td>\n",
       "      <td>0.00</td>\n",
       "      <td>80.00</td>\n",
       "    </tr>\n",
       "    <tr>\n",
       "      <th>569</th>\n",
       "      <td>3.00</td>\n",
       "      <td>3.00</td>\n",
       "      <td>0.00</td>\n",
       "      <td>0</td>\n",
       "      <td>0.00</td>\n",
       "      <td>180.00</td>\n",
       "    </tr>\n",
       "    <tr>\n",
       "      <th>...</th>\n",
       "      <td>...</td>\n",
       "      <td>...</td>\n",
       "      <td>...</td>\n",
       "      <td>...</td>\n",
       "      <td>...</td>\n",
       "      <td>...</td>\n",
       "    </tr>\n",
       "    <tr>\n",
       "      <th>417532</th>\n",
       "      <td>3.00</td>\n",
       "      <td>3.00</td>\n",
       "      <td>0.00</td>\n",
       "      <td>0</td>\n",
       "      <td>0.00</td>\n",
       "      <td>90.00</td>\n",
       "    </tr>\n",
       "    <tr>\n",
       "      <th>418477</th>\n",
       "      <td>3.00</td>\n",
       "      <td>3.00</td>\n",
       "      <td>0.00</td>\n",
       "      <td>0</td>\n",
       "      <td>10.00</td>\n",
       "      <td>90.00</td>\n",
       "    </tr>\n",
       "    <tr>\n",
       "      <th>420276</th>\n",
       "      <td>3.00</td>\n",
       "      <td>3.00</td>\n",
       "      <td>0.00</td>\n",
       "      <td>0</td>\n",
       "      <td>20.00</td>\n",
       "      <td>100.00</td>\n",
       "    </tr>\n",
       "    <tr>\n",
       "      <th>420552</th>\n",
       "      <td>3.00</td>\n",
       "      <td>3.00</td>\n",
       "      <td>0.00</td>\n",
       "      <td>0</td>\n",
       "      <td>10.00</td>\n",
       "      <td>90.00</td>\n",
       "    </tr>\n",
       "    <tr>\n",
       "      <th>425240</th>\n",
       "      <td>3.00</td>\n",
       "      <td>3.00</td>\n",
       "      <td>0.00</td>\n",
       "      <td>0</td>\n",
       "      <td>10.00</td>\n",
       "      <td>90.00</td>\n",
       "    </tr>\n",
       "  </tbody>\n",
       "</table>\n",
       "<p>1109 rows × 6 columns</p>\n",
       "</div>"
      ],
      "text/plain": [
       "        totalAssets  totalCuentas  totalAhorro  totalFinanciacion  \\\n",
       "165            3.00          3.00         0.00                  0   \n",
       "202            3.00          3.00         0.00                  0   \n",
       "282            3.00          3.00         0.00                  0   \n",
       "562            3.00          3.00         0.00                  0   \n",
       "569            3.00          3.00         0.00                  0   \n",
       "...             ...           ...          ...                ...   \n",
       "417532         3.00          3.00         0.00                  0   \n",
       "418477         3.00          3.00         0.00                  0   \n",
       "420276         3.00          3.00         0.00                  0   \n",
       "420552         3.00          3.00         0.00                  0   \n",
       "425240         3.00          3.00         0.00                  0   \n",
       "\n",
       "        totalIngresos  totalBeneficio  \n",
       "165              0.00          140.00  \n",
       "202              0.00          130.00  \n",
       "282             10.00           90.00  \n",
       "562              0.00           80.00  \n",
       "569              0.00          180.00  \n",
       "...               ...             ...  \n",
       "417532           0.00           90.00  \n",
       "418477          10.00           90.00  \n",
       "420276          20.00          100.00  \n",
       "420552          10.00           90.00  \n",
       "425240          10.00           90.00  \n",
       "\n",
       "[1109 rows x 6 columns]"
      ]
     },
     "execution_count": 41,
     "metadata": {},
     "output_type": "execute_result"
    }
   ],
   "source": [
    "clientes_actuales[ (clientes_actuales['totalAhorro']==0) &\n",
    "                   (clientes_actuales['Cluster']==0) ][['totalAssets','totalCuentas','totalAhorro','totalFinanciacion','totalIngresos','totalBeneficio']]"
   ]
  },
  {
   "cell_type": "code",
   "execution_count": 42,
   "metadata": {
    "ExecuteTime": {
     "end_time": "2020-09-16T16:36:26.690395Z",
     "start_time": "2020-09-16T16:36:26.647409Z"
    }
   },
   "outputs": [
    {
     "data": {
      "text/html": [
       "<div>\n",
       "<style scoped>\n",
       "    .dataframe tbody tr th:only-of-type {\n",
       "        vertical-align: middle;\n",
       "    }\n",
       "\n",
       "    .dataframe tbody tr th {\n",
       "        vertical-align: top;\n",
       "    }\n",
       "\n",
       "    .dataframe thead th {\n",
       "        text-align: right;\n",
       "    }\n",
       "</style>\n",
       "<table border=\"1\" class=\"dataframe\">\n",
       "  <thead>\n",
       "    <tr style=\"text-align: right;\">\n",
       "      <th></th>\n",
       "      <th>totalAssets</th>\n",
       "      <th>totalCuentas</th>\n",
       "      <th>totalAhorro</th>\n",
       "      <th>totalFinanciacion</th>\n",
       "      <th>totalIngresos</th>\n",
       "      <th>totalBeneficio</th>\n",
       "    </tr>\n",
       "  </thead>\n",
       "  <tbody>\n",
       "    <tr>\n",
       "      <th>3</th>\n",
       "      <td>3.00</td>\n",
       "      <td>2.00</td>\n",
       "      <td>1.00</td>\n",
       "      <td>0</td>\n",
       "      <td>10.00</td>\n",
       "      <td>90.00</td>\n",
       "    </tr>\n",
       "    <tr>\n",
       "      <th>6</th>\n",
       "      <td>5.00</td>\n",
       "      <td>3.00</td>\n",
       "      <td>2.00</td>\n",
       "      <td>0</td>\n",
       "      <td>0.00</td>\n",
       "      <td>50.00</td>\n",
       "    </tr>\n",
       "    <tr>\n",
       "      <th>7</th>\n",
       "      <td>2.00</td>\n",
       "      <td>0.00</td>\n",
       "      <td>2.00</td>\n",
       "      <td>0</td>\n",
       "      <td>0.00</td>\n",
       "      <td>80.00</td>\n",
       "    </tr>\n",
       "    <tr>\n",
       "      <th>36</th>\n",
       "      <td>4.00</td>\n",
       "      <td>1.00</td>\n",
       "      <td>3.00</td>\n",
       "      <td>0</td>\n",
       "      <td>0.00</td>\n",
       "      <td>40.00</td>\n",
       "    </tr>\n",
       "    <tr>\n",
       "      <th>37</th>\n",
       "      <td>4.00</td>\n",
       "      <td>3.00</td>\n",
       "      <td>1.00</td>\n",
       "      <td>0</td>\n",
       "      <td>0.00</td>\n",
       "      <td>0.00</td>\n",
       "    </tr>\n",
       "    <tr>\n",
       "      <th>...</th>\n",
       "      <td>...</td>\n",
       "      <td>...</td>\n",
       "      <td>...</td>\n",
       "      <td>...</td>\n",
       "      <td>...</td>\n",
       "      <td>...</td>\n",
       "    </tr>\n",
       "    <tr>\n",
       "      <th>441387</th>\n",
       "      <td>3.00</td>\n",
       "      <td>2.00</td>\n",
       "      <td>1.00</td>\n",
       "      <td>0</td>\n",
       "      <td>60.00</td>\n",
       "      <td>60.00</td>\n",
       "    </tr>\n",
       "    <tr>\n",
       "      <th>441473</th>\n",
       "      <td>3.00</td>\n",
       "      <td>2.00</td>\n",
       "      <td>1.00</td>\n",
       "      <td>0</td>\n",
       "      <td>60.00</td>\n",
       "      <td>60.00</td>\n",
       "    </tr>\n",
       "    <tr>\n",
       "      <th>441563</th>\n",
       "      <td>3.00</td>\n",
       "      <td>2.00</td>\n",
       "      <td>1.00</td>\n",
       "      <td>0</td>\n",
       "      <td>60.00</td>\n",
       "      <td>60.00</td>\n",
       "    </tr>\n",
       "    <tr>\n",
       "      <th>441740</th>\n",
       "      <td>4.00</td>\n",
       "      <td>3.00</td>\n",
       "      <td>1.00</td>\n",
       "      <td>0</td>\n",
       "      <td>70.00</td>\n",
       "      <td>70.00</td>\n",
       "    </tr>\n",
       "    <tr>\n",
       "      <th>441973</th>\n",
       "      <td>3.00</td>\n",
       "      <td>2.00</td>\n",
       "      <td>1.00</td>\n",
       "      <td>0</td>\n",
       "      <td>60.00</td>\n",
       "      <td>60.00</td>\n",
       "    </tr>\n",
       "  </tbody>\n",
       "</table>\n",
       "<p>20643 rows × 6 columns</p>\n",
       "</div>"
      ],
      "text/plain": [
       "        totalAssets  totalCuentas  totalAhorro  totalFinanciacion  \\\n",
       "3              3.00          2.00         1.00                  0   \n",
       "6              5.00          3.00         2.00                  0   \n",
       "7              2.00          0.00         2.00                  0   \n",
       "36             4.00          1.00         3.00                  0   \n",
       "37             4.00          3.00         1.00                  0   \n",
       "...             ...           ...          ...                ...   \n",
       "441387         3.00          2.00         1.00                  0   \n",
       "441473         3.00          2.00         1.00                  0   \n",
       "441563         3.00          2.00         1.00                  0   \n",
       "441740         4.00          3.00         1.00                  0   \n",
       "441973         3.00          2.00         1.00                  0   \n",
       "\n",
       "        totalIngresos  totalBeneficio  \n",
       "3               10.00           90.00  \n",
       "6                0.00           50.00  \n",
       "7                0.00           80.00  \n",
       "36               0.00           40.00  \n",
       "37               0.00            0.00  \n",
       "...               ...             ...  \n",
       "441387          60.00           60.00  \n",
       "441473          60.00           60.00  \n",
       "441563          60.00           60.00  \n",
       "441740          70.00           70.00  \n",
       "441973          60.00           60.00  \n",
       "\n",
       "[20643 rows x 6 columns]"
      ]
     },
     "execution_count": 42,
     "metadata": {},
     "output_type": "execute_result"
    }
   ],
   "source": [
    "clientes_actuales[ (clientes_actuales['totalAhorro']>0) &\n",
    "                   (clientes_actuales['Cluster']==0) ][['totalAssets','totalCuentas','totalAhorro','totalFinanciacion','totalIngresos','totalBeneficio']]"
   ]
  },
  {
   "cell_type": "code",
   "execution_count": 39,
   "metadata": {
    "ExecuteTime": {
     "end_time": "2020-09-16T16:34:21.414076Z",
     "start_time": "2020-09-16T16:34:21.402102Z"
    }
   },
   "outputs": [],
   "source": [
    "clientes_actuales[ (clientes_actuales['totalAhorro']==0) &\n",
    "                   (clientes_actuales['Cluster']==0) ][['pk_cid','Cluster']].to_csv('../Datos-Easymoney/recomendacion_grupo0_segmentacion.csv', index=False)"
   ]
  },
  {
   "cell_type": "code",
   "execution_count": 45,
   "metadata": {
    "ExecuteTime": {
     "end_time": "2020-09-16T16:43:53.282948Z",
     "start_time": "2020-09-16T16:43:53.269961Z"
    }
   },
   "outputs": [
    {
     "data": {
      "text/html": [
       "<div>\n",
       "<style scoped>\n",
       "    .dataframe tbody tr th:only-of-type {\n",
       "        vertical-align: middle;\n",
       "    }\n",
       "\n",
       "    .dataframe tbody tr th {\n",
       "        vertical-align: top;\n",
       "    }\n",
       "\n",
       "    .dataframe thead th {\n",
       "        text-align: right;\n",
       "    }\n",
       "</style>\n",
       "<table border=\"1\" class=\"dataframe\">\n",
       "  <thead>\n",
       "    <tr style=\"text-align: right;\">\n",
       "      <th></th>\n",
       "      <th>pk_cid</th>\n",
       "      <th>Cluster</th>\n",
       "    </tr>\n",
       "  </thead>\n",
       "  <tbody>\n",
       "    <tr>\n",
       "      <th>7</th>\n",
       "      <td>17980</td>\n",
       "      <td>0</td>\n",
       "    </tr>\n",
       "    <tr>\n",
       "      <th>329</th>\n",
       "      <td>101658</td>\n",
       "      <td>0</td>\n",
       "    </tr>\n",
       "    <tr>\n",
       "      <th>383</th>\n",
       "      <td>114734</td>\n",
       "      <td>0</td>\n",
       "    </tr>\n",
       "    <tr>\n",
       "      <th>550</th>\n",
       "      <td>148018</td>\n",
       "      <td>0</td>\n",
       "    </tr>\n",
       "    <tr>\n",
       "      <th>806</th>\n",
       "      <td>200174</td>\n",
       "      <td>0</td>\n",
       "    </tr>\n",
       "    <tr>\n",
       "      <th>...</th>\n",
       "      <td>...</td>\n",
       "      <td>...</td>\n",
       "    </tr>\n",
       "    <tr>\n",
       "      <th>413356</th>\n",
       "      <td>1513396</td>\n",
       "      <td>0</td>\n",
       "    </tr>\n",
       "    <tr>\n",
       "      <th>416944</th>\n",
       "      <td>1517981</td>\n",
       "      <td>0</td>\n",
       "    </tr>\n",
       "    <tr>\n",
       "      <th>417279</th>\n",
       "      <td>1518385</td>\n",
       "      <td>0</td>\n",
       "    </tr>\n",
       "    <tr>\n",
       "      <th>418171</th>\n",
       "      <td>1519588</td>\n",
       "      <td>0</td>\n",
       "    </tr>\n",
       "    <tr>\n",
       "      <th>422032</th>\n",
       "      <td>1524819</td>\n",
       "      <td>0</td>\n",
       "    </tr>\n",
       "  </tbody>\n",
       "</table>\n",
       "<p>145 rows × 2 columns</p>\n",
       "</div>"
      ],
      "text/plain": [
       "         pk_cid  Cluster\n",
       "7         17980        0\n",
       "329      101658        0\n",
       "383      114734        0\n",
       "550      148018        0\n",
       "806      200174        0\n",
       "...         ...      ...\n",
       "413356  1513396        0\n",
       "416944  1517981        0\n",
       "417279  1518385        0\n",
       "418171  1519588        0\n",
       "422032  1524819        0\n",
       "\n",
       "[145 rows x 2 columns]"
      ]
     },
     "execution_count": 45,
     "metadata": {},
     "output_type": "execute_result"
    }
   ],
   "source": [
    "clientes_actuales[ (clientes_actuales['totalCuentas']==0) &\n",
    "                   (clientes_actuales['Cluster']==0) ][['pk_cid','Cluster']]"
   ]
  },
  {
   "cell_type": "markdown",
   "metadata": {
    "ExecuteTime": {
     "end_time": "2020-09-16T15:28:20.518507Z",
     "start_time": "2020-09-16T15:28:20.515507Z"
    }
   },
   "source": [
    "# Recomendaciones Para GRUPO 4:"
   ]
  },
  {
   "cell_type": "code",
   "execution_count": 23,
   "metadata": {
    "ExecuteTime": {
     "end_time": "2020-09-16T15:29:28.544058Z",
     "start_time": "2020-09-16T15:29:28.508065Z"
    }
   },
   "outputs": [
    {
     "data": {
      "text/html": [
       "<div>\n",
       "<style scoped>\n",
       "    .dataframe tbody tr th:only-of-type {\n",
       "        vertical-align: middle;\n",
       "    }\n",
       "\n",
       "    .dataframe tbody tr th {\n",
       "        vertical-align: top;\n",
       "    }\n",
       "\n",
       "    .dataframe thead th {\n",
       "        text-align: right;\n",
       "    }\n",
       "</style>\n",
       "<table border=\"1\" class=\"dataframe\">\n",
       "  <thead>\n",
       "    <tr style=\"text-align: right;\">\n",
       "      <th></th>\n",
       "      <th>pk_cid</th>\n",
       "      <th>pk_partition</th>\n",
       "      <th>short_term_deposit</th>\n",
       "      <th>loans</th>\n",
       "      <th>mortgage</th>\n",
       "      <th>funds</th>\n",
       "      <th>securities</th>\n",
       "      <th>long_term_deposit</th>\n",
       "      <th>em_account_pp</th>\n",
       "      <th>credit_card</th>\n",
       "      <th>...</th>\n",
       "      <th>totalFinanciacion</th>\n",
       "      <th>totalIngresos</th>\n",
       "      <th>totalBeneficio</th>\n",
       "      <th>hayAlta</th>\n",
       "      <th>diasDesdeUltimaAlta</th>\n",
       "      <th>diasDesdeUltimaAltaInt</th>\n",
       "      <th>hayBaja</th>\n",
       "      <th>diasDesdeUltimaBaja</th>\n",
       "      <th>diasDesdeUltimaBajaInt</th>\n",
       "      <th>Cluster</th>\n",
       "    </tr>\n",
       "  </thead>\n",
       "  <tbody>\n",
       "    <tr>\n",
       "      <th>11</th>\n",
       "      <td>19021</td>\n",
       "      <td>2019-05-28</td>\n",
       "      <td>0</td>\n",
       "      <td>0</td>\n",
       "      <td>0</td>\n",
       "      <td>0</td>\n",
       "      <td>0</td>\n",
       "      <td>0</td>\n",
       "      <td>0</td>\n",
       "      <td>1</td>\n",
       "      <td>...</td>\n",
       "      <td>1</td>\n",
       "      <td>60.00</td>\n",
       "      <td>60.00</td>\n",
       "      <td>1</td>\n",
       "      <td>0 days 00:00:00</td>\n",
       "      <td>0</td>\n",
       "      <td>0</td>\n",
       "      <td>242 days 00:00:00</td>\n",
       "      <td>242</td>\n",
       "      <td>4</td>\n",
       "    </tr>\n",
       "    <tr>\n",
       "      <th>17</th>\n",
       "      <td>20333</td>\n",
       "      <td>2019-05-28</td>\n",
       "      <td>0</td>\n",
       "      <td>0</td>\n",
       "      <td>0</td>\n",
       "      <td>0</td>\n",
       "      <td>0</td>\n",
       "      <td>0</td>\n",
       "      <td>0</td>\n",
       "      <td>1</td>\n",
       "      <td>...</td>\n",
       "      <td>1</td>\n",
       "      <td>0.00</td>\n",
       "      <td>180.00</td>\n",
       "      <td>0</td>\n",
       "      <td>30 days 00:00:00</td>\n",
       "      <td>30</td>\n",
       "      <td>0</td>\n",
       "      <td>61 days 00:00:00</td>\n",
       "      <td>61</td>\n",
       "      <td>4</td>\n",
       "    </tr>\n",
       "    <tr>\n",
       "      <th>54</th>\n",
       "      <td>31825</td>\n",
       "      <td>2019-05-28</td>\n",
       "      <td>0</td>\n",
       "      <td>0</td>\n",
       "      <td>0</td>\n",
       "      <td>0</td>\n",
       "      <td>0</td>\n",
       "      <td>0</td>\n",
       "      <td>0</td>\n",
       "      <td>1</td>\n",
       "      <td>...</td>\n",
       "      <td>1</td>\n",
       "      <td>60.00</td>\n",
       "      <td>240.00</td>\n",
       "      <td>1</td>\n",
       "      <td>0 days 00:00:00</td>\n",
       "      <td>0</td>\n",
       "      <td>0</td>\n",
       "      <td>89 days 00:00:00</td>\n",
       "      <td>89</td>\n",
       "      <td>4</td>\n",
       "    </tr>\n",
       "    <tr>\n",
       "      <th>89</th>\n",
       "      <td>40486</td>\n",
       "      <td>2019-05-28</td>\n",
       "      <td>0</td>\n",
       "      <td>0</td>\n",
       "      <td>0</td>\n",
       "      <td>0</td>\n",
       "      <td>0</td>\n",
       "      <td>0</td>\n",
       "      <td>0</td>\n",
       "      <td>1</td>\n",
       "      <td>...</td>\n",
       "      <td>1</td>\n",
       "      <td>0.00</td>\n",
       "      <td>0.00</td>\n",
       "      <td>0</td>\n",
       "      <td>1 days 00:00:00</td>\n",
       "      <td>1</td>\n",
       "      <td>0</td>\n",
       "      <td>1 days 00:00:00</td>\n",
       "      <td>1</td>\n",
       "      <td>4</td>\n",
       "    </tr>\n",
       "    <tr>\n",
       "      <th>168</th>\n",
       "      <td>61578</td>\n",
       "      <td>2019-05-28</td>\n",
       "      <td>0</td>\n",
       "      <td>0</td>\n",
       "      <td>0</td>\n",
       "      <td>0</td>\n",
       "      <td>0</td>\n",
       "      <td>0</td>\n",
       "      <td>0</td>\n",
       "      <td>1</td>\n",
       "      <td>...</td>\n",
       "      <td>1</td>\n",
       "      <td>0.00</td>\n",
       "      <td>0.00</td>\n",
       "      <td>0</td>\n",
       "      <td>1 days 00:00:00</td>\n",
       "      <td>1</td>\n",
       "      <td>0</td>\n",
       "      <td>1 days 00:00:00</td>\n",
       "      <td>1</td>\n",
       "      <td>4</td>\n",
       "    </tr>\n",
       "    <tr>\n",
       "      <th>...</th>\n",
       "      <td>...</td>\n",
       "      <td>...</td>\n",
       "      <td>...</td>\n",
       "      <td>...</td>\n",
       "      <td>...</td>\n",
       "      <td>...</td>\n",
       "      <td>...</td>\n",
       "      <td>...</td>\n",
       "      <td>...</td>\n",
       "      <td>...</td>\n",
       "      <td>...</td>\n",
       "      <td>...</td>\n",
       "      <td>...</td>\n",
       "      <td>...</td>\n",
       "      <td>...</td>\n",
       "      <td>...</td>\n",
       "      <td>...</td>\n",
       "      <td>...</td>\n",
       "      <td>...</td>\n",
       "      <td>...</td>\n",
       "      <td>...</td>\n",
       "    </tr>\n",
       "    <tr>\n",
       "      <th>435671</th>\n",
       "      <td>1543830</td>\n",
       "      <td>2019-05-28</td>\n",
       "      <td>0</td>\n",
       "      <td>0</td>\n",
       "      <td>0</td>\n",
       "      <td>0</td>\n",
       "      <td>0</td>\n",
       "      <td>0</td>\n",
       "      <td>0</td>\n",
       "      <td>1</td>\n",
       "      <td>...</td>\n",
       "      <td>1</td>\n",
       "      <td>60.00</td>\n",
       "      <td>70.00</td>\n",
       "      <td>1</td>\n",
       "      <td>0 days 00:00:00</td>\n",
       "      <td>0</td>\n",
       "      <td>0</td>\n",
       "      <td>1 days 00:00:00</td>\n",
       "      <td>1</td>\n",
       "      <td>4</td>\n",
       "    </tr>\n",
       "    <tr>\n",
       "      <th>435697</th>\n",
       "      <td>1543859</td>\n",
       "      <td>2019-05-28</td>\n",
       "      <td>0</td>\n",
       "      <td>0</td>\n",
       "      <td>0</td>\n",
       "      <td>0</td>\n",
       "      <td>0</td>\n",
       "      <td>0</td>\n",
       "      <td>0</td>\n",
       "      <td>1</td>\n",
       "      <td>...</td>\n",
       "      <td>1</td>\n",
       "      <td>60.00</td>\n",
       "      <td>70.00</td>\n",
       "      <td>1</td>\n",
       "      <td>0 days 00:00:00</td>\n",
       "      <td>0</td>\n",
       "      <td>0</td>\n",
       "      <td>1 days 00:00:00</td>\n",
       "      <td>1</td>\n",
       "      <td>4</td>\n",
       "    </tr>\n",
       "    <tr>\n",
       "      <th>435876</th>\n",
       "      <td>1544111</td>\n",
       "      <td>2019-05-28</td>\n",
       "      <td>0</td>\n",
       "      <td>0</td>\n",
       "      <td>0</td>\n",
       "      <td>0</td>\n",
       "      <td>0</td>\n",
       "      <td>0</td>\n",
       "      <td>0</td>\n",
       "      <td>1</td>\n",
       "      <td>...</td>\n",
       "      <td>1</td>\n",
       "      <td>70.00</td>\n",
       "      <td>80.00</td>\n",
       "      <td>1</td>\n",
       "      <td>0 days 00:00:00</td>\n",
       "      <td>0</td>\n",
       "      <td>0</td>\n",
       "      <td>1 days 00:00:00</td>\n",
       "      <td>1</td>\n",
       "      <td>4</td>\n",
       "    </tr>\n",
       "    <tr>\n",
       "      <th>436075</th>\n",
       "      <td>1544400</td>\n",
       "      <td>2019-05-28</td>\n",
       "      <td>0</td>\n",
       "      <td>0</td>\n",
       "      <td>0</td>\n",
       "      <td>0</td>\n",
       "      <td>0</td>\n",
       "      <td>0</td>\n",
       "      <td>0</td>\n",
       "      <td>1</td>\n",
       "      <td>...</td>\n",
       "      <td>1</td>\n",
       "      <td>60.00</td>\n",
       "      <td>70.00</td>\n",
       "      <td>1</td>\n",
       "      <td>0 days 00:00:00</td>\n",
       "      <td>0</td>\n",
       "      <td>0</td>\n",
       "      <td>1 days 00:00:00</td>\n",
       "      <td>1</td>\n",
       "      <td>4</td>\n",
       "    </tr>\n",
       "    <tr>\n",
       "      <th>439745</th>\n",
       "      <td>1549466</td>\n",
       "      <td>2019-05-28</td>\n",
       "      <td>0</td>\n",
       "      <td>0</td>\n",
       "      <td>0</td>\n",
       "      <td>0</td>\n",
       "      <td>0</td>\n",
       "      <td>0</td>\n",
       "      <td>0</td>\n",
       "      <td>1</td>\n",
       "      <td>...</td>\n",
       "      <td>1</td>\n",
       "      <td>70.00</td>\n",
       "      <td>70.00</td>\n",
       "      <td>1</td>\n",
       "      <td>0 days 00:00:00</td>\n",
       "      <td>0</td>\n",
       "      <td>0</td>\n",
       "      <td>1 days 00:00:00</td>\n",
       "      <td>1</td>\n",
       "      <td>4</td>\n",
       "    </tr>\n",
       "  </tbody>\n",
       "</table>\n",
       "<p>2491 rows × 60 columns</p>\n",
       "</div>"
      ],
      "text/plain": [
       "         pk_cid pk_partition  short_term_deposit  loans  mortgage  funds  \\\n",
       "11        19021   2019-05-28                   0      0         0      0   \n",
       "17        20333   2019-05-28                   0      0         0      0   \n",
       "54        31825   2019-05-28                   0      0         0      0   \n",
       "89        40486   2019-05-28                   0      0         0      0   \n",
       "168       61578   2019-05-28                   0      0         0      0   \n",
       "...         ...          ...                 ...    ...       ...    ...   \n",
       "435671  1543830   2019-05-28                   0      0         0      0   \n",
       "435697  1543859   2019-05-28                   0      0         0      0   \n",
       "435876  1544111   2019-05-28                   0      0         0      0   \n",
       "436075  1544400   2019-05-28                   0      0         0      0   \n",
       "439745  1549466   2019-05-28                   0      0         0      0   \n",
       "\n",
       "        securities  long_term_deposit  em_account_pp  credit_card  ...  \\\n",
       "11               0                  0              0            1  ...   \n",
       "17               0                  0              0            1  ...   \n",
       "54               0                  0              0            1  ...   \n",
       "89               0                  0              0            1  ...   \n",
       "168              0                  0              0            1  ...   \n",
       "...            ...                ...            ...          ...  ...   \n",
       "435671           0                  0              0            1  ...   \n",
       "435697           0                  0              0            1  ...   \n",
       "435876           0                  0              0            1  ...   \n",
       "436075           0                  0              0            1  ...   \n",
       "439745           0                  0              0            1  ...   \n",
       "\n",
       "        totalFinanciacion  totalIngresos  totalBeneficio  hayAlta  \\\n",
       "11                      1          60.00           60.00        1   \n",
       "17                      1           0.00          180.00        0   \n",
       "54                      1          60.00          240.00        1   \n",
       "89                      1           0.00            0.00        0   \n",
       "168                     1           0.00            0.00        0   \n",
       "...                   ...            ...             ...      ...   \n",
       "435671                  1          60.00           70.00        1   \n",
       "435697                  1          60.00           70.00        1   \n",
       "435876                  1          70.00           80.00        1   \n",
       "436075                  1          60.00           70.00        1   \n",
       "439745                  1          70.00           70.00        1   \n",
       "\n",
       "        diasDesdeUltimaAlta  diasDesdeUltimaAltaInt  hayBaja  \\\n",
       "11          0 days 00:00:00                       0        0   \n",
       "17         30 days 00:00:00                      30        0   \n",
       "54          0 days 00:00:00                       0        0   \n",
       "89          1 days 00:00:00                       1        0   \n",
       "168         1 days 00:00:00                       1        0   \n",
       "...                     ...                     ...      ...   \n",
       "435671      0 days 00:00:00                       0        0   \n",
       "435697      0 days 00:00:00                       0        0   \n",
       "435876      0 days 00:00:00                       0        0   \n",
       "436075      0 days 00:00:00                       0        0   \n",
       "439745      0 days 00:00:00                       0        0   \n",
       "\n",
       "       diasDesdeUltimaBaja diasDesdeUltimaBajaInt  Cluster  \n",
       "11       242 days 00:00:00                    242        4  \n",
       "17        61 days 00:00:00                     61        4  \n",
       "54        89 days 00:00:00                     89        4  \n",
       "89         1 days 00:00:00                      1        4  \n",
       "168        1 days 00:00:00                      1        4  \n",
       "...                    ...                    ...      ...  \n",
       "435671     1 days 00:00:00                      1        4  \n",
       "435697     1 days 00:00:00                      1        4  \n",
       "435876     1 days 00:00:00                      1        4  \n",
       "436075     1 days 00:00:00                      1        4  \n",
       "439745     1 days 00:00:00                      1        4  \n",
       "\n",
       "[2491 rows x 60 columns]"
      ]
     },
     "execution_count": 23,
     "metadata": {},
     "output_type": "execute_result"
    }
   ],
   "source": [
    "clientes_actuales[ (clientes_actuales['totalAhorro']==0) &\n",
    "                   (clientes_actuales['Cluster']==4) ]"
   ]
  },
  {
   "cell_type": "code",
   "execution_count": 43,
   "metadata": {
    "ExecuteTime": {
     "end_time": "2020-09-16T16:40:38.303685Z",
     "start_time": "2020-09-16T16:40:38.290676Z"
    }
   },
   "outputs": [
    {
     "data": {
      "text/html": [
       "<div>\n",
       "<style scoped>\n",
       "    .dataframe tbody tr th:only-of-type {\n",
       "        vertical-align: middle;\n",
       "    }\n",
       "\n",
       "    .dataframe tbody tr th {\n",
       "        vertical-align: top;\n",
       "    }\n",
       "\n",
       "    .dataframe thead th {\n",
       "        text-align: right;\n",
       "    }\n",
       "</style>\n",
       "<table border=\"1\" class=\"dataframe\">\n",
       "  <thead>\n",
       "    <tr style=\"text-align: right;\">\n",
       "      <th></th>\n",
       "      <th>pk_cid</th>\n",
       "      <th>Cluster</th>\n",
       "    </tr>\n",
       "  </thead>\n",
       "  <tbody>\n",
       "  </tbody>\n",
       "</table>\n",
       "</div>"
      ],
      "text/plain": [
       "Empty DataFrame\n",
       "Columns: [pk_cid, Cluster]\n",
       "Index: []"
      ]
     },
     "execution_count": 43,
     "metadata": {},
     "output_type": "execute_result"
    }
   ],
   "source": [
    "clientes_actuales[ (clientes_actuales['totalFinanciacion']==0) &\n",
    "                   (clientes_actuales['Cluster']==4) ][['pk_cid','Cluster']]"
   ]
  },
  {
   "cell_type": "code",
   "execution_count": 44,
   "metadata": {
    "ExecuteTime": {
     "end_time": "2020-09-16T16:43:26.209263Z",
     "start_time": "2020-09-16T16:43:26.192261Z"
    }
   },
   "outputs": [
    {
     "data": {
      "text/html": [
       "<div>\n",
       "<style scoped>\n",
       "    .dataframe tbody tr th:only-of-type {\n",
       "        vertical-align: middle;\n",
       "    }\n",
       "\n",
       "    .dataframe tbody tr th {\n",
       "        vertical-align: top;\n",
       "    }\n",
       "\n",
       "    .dataframe thead th {\n",
       "        text-align: right;\n",
       "    }\n",
       "</style>\n",
       "<table border=\"1\" class=\"dataframe\">\n",
       "  <thead>\n",
       "    <tr style=\"text-align: right;\">\n",
       "      <th></th>\n",
       "      <th>pk_cid</th>\n",
       "      <th>Cluster</th>\n",
       "    </tr>\n",
       "  </thead>\n",
       "  <tbody>\n",
       "    <tr>\n",
       "      <th>11</th>\n",
       "      <td>19021</td>\n",
       "      <td>4</td>\n",
       "    </tr>\n",
       "    <tr>\n",
       "      <th>54</th>\n",
       "      <td>31825</td>\n",
       "      <td>4</td>\n",
       "    </tr>\n",
       "    <tr>\n",
       "      <th>89</th>\n",
       "      <td>40486</td>\n",
       "      <td>4</td>\n",
       "    </tr>\n",
       "    <tr>\n",
       "      <th>168</th>\n",
       "      <td>61578</td>\n",
       "      <td>4</td>\n",
       "    </tr>\n",
       "    <tr>\n",
       "      <th>179</th>\n",
       "      <td>64424</td>\n",
       "      <td>4</td>\n",
       "    </tr>\n",
       "    <tr>\n",
       "      <th>...</th>\n",
       "      <td>...</td>\n",
       "      <td>...</td>\n",
       "    </tr>\n",
       "    <tr>\n",
       "      <th>427040</th>\n",
       "      <td>1531845</td>\n",
       "      <td>4</td>\n",
       "    </tr>\n",
       "    <tr>\n",
       "      <th>427251</th>\n",
       "      <td>1532134</td>\n",
       "      <td>4</td>\n",
       "    </tr>\n",
       "    <tr>\n",
       "      <th>427498</th>\n",
       "      <td>1532471</td>\n",
       "      <td>4</td>\n",
       "    </tr>\n",
       "    <tr>\n",
       "      <th>427699</th>\n",
       "      <td>1532744</td>\n",
       "      <td>4</td>\n",
       "    </tr>\n",
       "    <tr>\n",
       "      <th>433553</th>\n",
       "      <td>1540844</td>\n",
       "      <td>4</td>\n",
       "    </tr>\n",
       "  </tbody>\n",
       "</table>\n",
       "<p>420 rows × 2 columns</p>\n",
       "</div>"
      ],
      "text/plain": [
       "         pk_cid  Cluster\n",
       "11        19021        4\n",
       "54        31825        4\n",
       "89        40486        4\n",
       "168       61578        4\n",
       "179       64424        4\n",
       "...         ...      ...\n",
       "427040  1531845        4\n",
       "427251  1532134        4\n",
       "427498  1532471        4\n",
       "427699  1532744        4\n",
       "433553  1540844        4\n",
       "\n",
       "[420 rows x 2 columns]"
      ]
     },
     "execution_count": 44,
     "metadata": {},
     "output_type": "execute_result"
    }
   ],
   "source": [
    "clientes_actuales[ (clientes_actuales['totalCuentas']==0) &\n",
    "                   (clientes_actuales['Cluster']==4) ][['pk_cid','Cluster']]"
   ]
  },
  {
   "cell_type": "code",
   "execution_count": 25,
   "metadata": {
    "ExecuteTime": {
     "end_time": "2020-09-16T15:31:53.570889Z",
     "start_time": "2020-09-16T15:31:53.547887Z"
    }
   },
   "outputs": [],
   "source": [
    "clientes_actuales[ (clientes_actuales['totalAhorro']==0) &\n",
    "                   (clientes_actuales['Cluster']==4) ][['pk_cid','Cluster']].to_csv('../Datos-Easymoney/recomendacion_grupo4_segmentacion.csv', index=False)"
   ]
  },
  {
   "cell_type": "code",
   "execution_count": null,
   "metadata": {},
   "outputs": [],
   "source": [
    "clientes_actuales[ (clientes_actuales['totalAhorro']==0) &\n",
    "                   (clientes_actuales['Cluster']==4) ][['pk_cid','Cluster']].to_csv('../Datos-Easymoney/recomendacion_grupo4_segmentacion.csv', index=False)"
   ]
  }
 ],
 "metadata": {
  "kernelspec": {
   "display_name": "Python 3",
   "language": "python",
   "name": "python3"
  },
  "language_info": {
   "codemirror_mode": {
    "name": "ipython",
    "version": 3
   },
   "file_extension": ".py",
   "mimetype": "text/x-python",
   "name": "python",
   "nbconvert_exporter": "python",
   "pygments_lexer": "ipython3",
   "version": "3.7.6"
  },
  "toc": {
   "base_numbering": 1,
   "nav_menu": {},
   "number_sections": true,
   "sideBar": true,
   "skip_h1_title": false,
   "title_cell": "Table of Contents",
   "title_sidebar": "Contents",
   "toc_cell": false,
   "toc_position": {},
   "toc_section_display": true,
   "toc_window_display": false
  },
  "varInspector": {
   "cols": {
    "lenName": 16,
    "lenType": 16,
    "lenVar": 40
   },
   "kernels_config": {
    "python": {
     "delete_cmd_postfix": "",
     "delete_cmd_prefix": "del ",
     "library": "var_list.py",
     "varRefreshCmd": "print(var_dic_list())"
    },
    "r": {
     "delete_cmd_postfix": ") ",
     "delete_cmd_prefix": "rm(",
     "library": "var_list.r",
     "varRefreshCmd": "cat(var_dic_list()) "
    }
   },
   "types_to_exclude": [
    "module",
    "function",
    "builtin_function_or_method",
    "instance",
    "_Feature"
   ],
   "window_display": false
  }
 },
 "nbformat": 4,
 "nbformat_minor": 4
}
