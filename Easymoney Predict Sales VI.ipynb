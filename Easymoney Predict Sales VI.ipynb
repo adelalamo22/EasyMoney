{
 "cells": [
  {
   "cell_type": "code",
   "execution_count": 1,
   "metadata": {
    "ExecuteTime": {
     "end_time": "2020-09-08T09:09:46.761273Z",
     "start_time": "2020-09-08T09:09:44.340370Z"
    }
   },
   "outputs": [],
   "source": [
    "import numpy as np \n",
    "import pandas as pd\n",
    "import calendar\n",
    "import matplotlib.pyplot as plt\n",
    "import seaborn as sns\n",
    "import squarify\n",
    "import gc\n",
    "import matplotlib\n",
    "import matplotlib.pyplot as plt\n",
    "import seaborn as sns\n",
    "import plotly.express as px\n",
    "\n",
    "import time\n",
    "import datetime\n",
    "from datetime import datetime\n",
    "import calendar\n",
    "\n",
    "from sklearn import model_selection # model assesment and model selection strategies\n",
    "from sklearn import metrics # model evaluation metrics\n",
    "from sklearn.tree import DecisionTreeClassifier, plot_tree\n",
    "from sklearn.tree import export_graphviz\n",
    "import graphviz\n",
    "from sklearn.preprocessing import LabelEncoder,MinMaxScaler, StandardScaler\n",
    "from sklearn.model_selection import train_test_split\n",
    "from sklearn import tree\n",
    "from sklearn.ensemble import RandomForestClassifier\n",
    "import xgboost as xgb\n",
    "from sklearn.metrics import confusion_matrix\n",
    "\n",
    "\n",
    "sns.set_style('white')\n",
    "\n",
    "pd.options.display.float_format = '{:,.2f}'.format"
   ]
  },
  {
   "cell_type": "code",
   "execution_count": 2,
   "metadata": {
    "ExecuteTime": {
     "end_time": "2020-09-08T09:09:47.248505Z",
     "start_time": "2020-09-08T09:09:47.235513Z"
    }
   },
   "outputs": [],
   "source": [
    "# reduces the memory of a dataframe\n",
    "def reduce_mem_usage(df, verbose = True):\n",
    "    \n",
    "    '''\n",
    "    Reduces the space that a DataFrame occupies in memory.\n",
    "\n",
    "    This function iterates over all columns in a df and downcasts them to lower type to save memory.\n",
    "    '''\n",
    "    \n",
    "    numerics = ['int16', 'int32', 'int64', 'float16', 'float32', 'float64']\n",
    "    start_mem = df.memory_usage().sum() / 1024**2    \n",
    "    for col in df.columns:\n",
    "        col_type = df[col].dtypes\n",
    "        if col_type in numerics:\n",
    "            c_min = df[col].min()\n",
    "            c_max = df[col].max()\n",
    "            if str(col_type)[:3] == 'int':\n",
    "                if c_min > np.iinfo(np.int8).min and c_max < np.iinfo(np.int8).max:\n",
    "                    df[col] = df[col].astype(np.int8)\n",
    "                elif c_min > np.iinfo(np.int16).min and c_max < np.iinfo(np.int16).max:\n",
    "                    df[col] = df[col].astype(np.int16)\n",
    "                elif c_min > np.iinfo(np.int32).min and c_max < np.iinfo(np.int32).max:\n",
    "                    df[col] = df[col].astype(np.int32)\n",
    "                elif c_min > np.iinfo(np.int64).min and c_max < np.iinfo(np.int64).max:\n",
    "                    df[col] = df[col].astype(np.int64)  \n",
    "            else:\n",
    "                if c_min > np.finfo(np.float16).min and c_max < np.finfo(np.float16).max:\n",
    "                    df[col] = df[col].astype(np.float16)\n",
    "                elif c_min > np.finfo(np.float32).min and c_max < np.finfo(np.float32).max:\n",
    "                    df[col] = df[col].astype(np.float32)\n",
    "                else:\n",
    "                    df[col] = df[col].astype(np.float64)    \n",
    "    end_mem = df.memory_usage().sum() / 1024**2\n",
    "    if verbose:\n",
    "        print('Mem. usage decreased to {:5.2f} Mb ({:.1f}% reduction)'\\\n",
    "              .format(end_mem, 100 * (start_mem - end_mem) / start_mem))"
   ]
  },
  {
   "cell_type": "code",
   "execution_count": 26,
   "metadata": {
    "ExecuteTime": {
     "end_time": "2020-09-06T19:38:43.162528Z",
     "start_time": "2020-09-06T19:36:37.379040Z"
    }
   },
   "outputs": [],
   "source": [
    "df_sorted = pd.read_pickle('../../Datos/EasyMoney_base.pkl',compression='zip')"
   ]
  },
  {
   "cell_type": "code",
   "execution_count": 27,
   "metadata": {
    "ExecuteTime": {
     "end_time": "2020-09-06T19:38:46.102833Z",
     "start_time": "2020-09-06T19:38:43.163528Z"
    }
   },
   "outputs": [
    {
     "data": {
      "text/plain": [
       "0"
      ]
     },
     "execution_count": 27,
     "metadata": {},
     "output_type": "execute_result"
    }
   ],
   "source": [
    "df_sorted.isnull().sum().sum()"
   ]
  },
  {
   "cell_type": "code",
   "execution_count": 28,
   "metadata": {
    "ExecuteTime": {
     "end_time": "2020-09-06T19:38:46.123837Z",
     "start_time": "2020-09-06T19:38:46.103847Z"
    }
   },
   "outputs": [
    {
     "name": "stdout",
     "output_type": "stream",
     "text": [
      "<class 'pandas.core.frame.DataFrame'>\n",
      "Int64Index: 5962924 entries, 0 to 5962923\n",
      "Data columns (total 59 columns):\n",
      " #   Column                  Dtype         \n",
      "---  ------                  -----         \n",
      " 0   pk_cid                  int32         \n",
      " 1   pk_partition            datetime64[ns]\n",
      " 2   short_term_deposit      int8          \n",
      " 3   loans                   int8          \n",
      " 4   mortgage                int8          \n",
      " 5   funds                   int8          \n",
      " 6   securities              int8          \n",
      " 7   long_term_deposit       int8          \n",
      " 8   em_account_pp           int8          \n",
      " 9   credit_card             int8          \n",
      " 10  payroll                 float16       \n",
      " 11  pension_plan            float16       \n",
      " 12  payroll_account         int8          \n",
      " 13  emc_account             int8          \n",
      " 14  debit_card              int8          \n",
      " 15  em_account_p            int8          \n",
      " 16  em_acount               int8          \n",
      " 17  entry_date              datetime64[ns]\n",
      " 18  entry_channel           object        \n",
      " 19  active_customer         float16       \n",
      " 20  segment                 object        \n",
      " 21  country_id              object        \n",
      " 22  region_code             float16       \n",
      " 23  gender                  object        \n",
      " 24  age                     int8          \n",
      " 25  deceased                object        \n",
      " 26  salary                  float32       \n",
      " 27  dif_debit_card          float16       \n",
      " 28  dif_em_account_p        float16       \n",
      " 29  dif_em_account_pp       float16       \n",
      " 30  dif_em_acount           float16       \n",
      " 31  dif_emc_account         float16       \n",
      " 32  dif_payroll             float16       \n",
      " 33  dif_payroll_account     float16       \n",
      " 34  dif_funds               float16       \n",
      " 35  dif_long_term_deposit   float16       \n",
      " 36  dif_mortgage            float16       \n",
      " 37  dif_pension_plan        float16       \n",
      " 38  dif_securities          float16       \n",
      " 39  dif_short_term_deposit  float16       \n",
      " 40  dif_loans               float16       \n",
      " 41  dif_credit_card         float16       \n",
      " 42  mesesAlta               float16       \n",
      " 43  isNewClient             int8          \n",
      " 44  isActive                int8          \n",
      " 45  Provincia               object        \n",
      " 46  SalaryQtil              object        \n",
      " 47  totalAssets             float16       \n",
      " 48  totalCuentas            float16       \n",
      " 49  totalAhorro             float16       \n",
      " 50  totalFinanciacion       int8          \n",
      " 51  totalIngresos           float64       \n",
      " 52  totalBeneficio          float64       \n",
      " 53  hayAlta                 int64         \n",
      " 54  diasDesdeUltimaAlta     object        \n",
      " 55  diasDesdeUltimaAltaInt  int64         \n",
      " 56  hayBaja                 int64         \n",
      " 57  diasDesdeUltimaBaja     object        \n",
      " 58  diasDesdeUltimaBajaInt  int64         \n",
      "dtypes: datetime64[ns](2), float16(23), float32(1), float64(2), int32(1), int64(4), int8(17), object(9)\n",
      "memory usage: 1.2+ GB\n"
     ]
    }
   ],
   "source": [
    "df_sorted.info()"
   ]
  },
  {
   "cell_type": "markdown",
   "metadata": {},
   "source": [
    "# Vamos a hacer el producto cartesiano para predecir\n",
    "Solo clientes activos(Con producto)"
   ]
  },
  {
   "cell_type": "code",
   "execution_count": 29,
   "metadata": {
    "ExecuteTime": {
     "end_time": "2020-09-06T19:38:46.402734Z",
     "start_time": "2020-09-06T19:38:46.124820Z"
    }
   },
   "outputs": [],
   "source": [
    "lista_fechas=['2018-01-28',\n",
    "'2018-02-28',\n",
    "'2018-03-28',\n",
    "'2018-04-28',\n",
    "'2018-05-28',\n",
    "'2018-06-28',\n",
    "'2018-07-28',\n",
    "'2018-08-28',\n",
    "'2018-09-28',\n",
    "'2018-10-28',\n",
    "'2018-11-28',\n",
    "'2018-12-28',\n",
    "'2019-01-28',\n",
    "'2019-02-28',\n",
    "'2019-03-28',\n",
    "'2019-04-28',\n",
    "'2019-05-28',             \n",
    "'2019-06-28']"
   ]
  },
  {
   "cell_type": "code",
   "execution_count": 30,
   "metadata": {
    "ExecuteTime": {
     "end_time": "2020-09-06T19:38:46.701593Z",
     "start_time": "2020-09-06T19:38:46.403720Z"
    }
   },
   "outputs": [],
   "source": [
    "lista_clientes=df_sorted[(df_sorted['isActive']==1) & \n",
    "                        (df_sorted['pk_partition']=='2019-05-28')][\"pk_cid\"].unique().tolist()"
   ]
  },
  {
   "cell_type": "code",
   "execution_count": 31,
   "metadata": {
    "ExecuteTime": {
     "end_time": "2020-09-06T19:38:47.005418Z",
     "start_time": "2020-09-06T19:38:46.702584Z"
    }
   },
   "outputs": [],
   "source": [
    "lista_clientes=df_sorted[(df_sorted['pk_partition']=='2019-05-28')][\"pk_cid\"].unique().tolist()"
   ]
  },
  {
   "cell_type": "code",
   "execution_count": 32,
   "metadata": {
    "ExecuteTime": {
     "end_time": "2020-09-06T19:38:47.010385Z",
     "start_time": "2020-09-06T19:38:47.006395Z"
    }
   },
   "outputs": [
    {
     "data": {
      "text/plain": [
       "442995"
      ]
     },
     "execution_count": 32,
     "metadata": {},
     "output_type": "execute_result"
    }
   ],
   "source": [
    "len(lista_clientes)"
   ]
  },
  {
   "cell_type": "code",
   "execution_count": 33,
   "metadata": {
    "ExecuteTime": {
     "end_time": "2020-09-06T19:38:47.361187Z",
     "start_time": "2020-09-06T19:38:47.012370Z"
    }
   },
   "outputs": [
    {
     "data": {
      "text/plain": [
       "7973910"
      ]
     },
     "execution_count": 33,
     "metadata": {},
     "output_type": "execute_result"
    }
   ],
   "source": [
    "cartesian_product = pd.MultiIndex.from_product([lista_fechas, lista_clientes ], names = [\"pk_partition\", \"pk_cid\"])\n",
    "len(cartesian_product)"
   ]
  },
  {
   "cell_type": "code",
   "execution_count": 34,
   "metadata": {
    "ExecuteTime": {
     "end_time": "2020-09-06T19:38:47.368179Z",
     "start_time": "2020-09-06T19:38:47.362168Z"
    }
   },
   "outputs": [
    {
     "data": {
      "text/plain": [
       "MultiIndex([('2018-01-28',   16063),\n",
       "            ('2018-01-28',   16203),\n",
       "            ('2018-01-28',   16502),\n",
       "            ('2018-01-28',   17457),\n",
       "            ('2018-01-28',   17590),\n",
       "            ('2018-01-28',   17799),\n",
       "            ('2018-01-28',   17970),\n",
       "            ('2018-01-28',   17980),\n",
       "            ('2018-01-28',   18146),\n",
       "            ('2018-01-28',   18704),\n",
       "            ...\n",
       "            ('2019-06-28', 1553679),\n",
       "            ('2019-06-28', 1553680),\n",
       "            ('2019-06-28', 1553681),\n",
       "            ('2019-06-28', 1553683),\n",
       "            ('2019-06-28', 1553684),\n",
       "            ('2019-06-28', 1553685),\n",
       "            ('2019-06-28', 1553686),\n",
       "            ('2019-06-28', 1553687),\n",
       "            ('2019-06-28', 1553688),\n",
       "            ('2019-06-28', 1553689)],\n",
       "           names=['pk_partition', 'pk_cid'], length=7973910)"
      ]
     },
     "execution_count": 34,
     "metadata": {},
     "output_type": "execute_result"
    }
   ],
   "source": [
    "cartesian_product"
   ]
  },
  {
   "cell_type": "code",
   "execution_count": 35,
   "metadata": {
    "ExecuteTime": {
     "end_time": "2020-09-06T19:38:50.034628Z",
     "start_time": "2020-09-06T19:38:47.369167Z"
    }
   },
   "outputs": [
    {
     "data": {
      "text/html": [
       "<div>\n",
       "<style scoped>\n",
       "    .dataframe tbody tr th:only-of-type {\n",
       "        vertical-align: middle;\n",
       "    }\n",
       "\n",
       "    .dataframe tbody tr th {\n",
       "        vertical-align: top;\n",
       "    }\n",
       "\n",
       "    .dataframe thead th {\n",
       "        text-align: right;\n",
       "    }\n",
       "</style>\n",
       "<table border=\"1\" class=\"dataframe\">\n",
       "  <thead>\n",
       "    <tr style=\"text-align: right;\">\n",
       "      <th></th>\n",
       "      <th>pk_partition</th>\n",
       "      <th>pk_cid</th>\n",
       "    </tr>\n",
       "  </thead>\n",
       "  <tbody>\n",
       "    <tr>\n",
       "      <th>7973905</th>\n",
       "      <td>2019-06-28</td>\n",
       "      <td>1553685</td>\n",
       "    </tr>\n",
       "    <tr>\n",
       "      <th>7973906</th>\n",
       "      <td>2019-06-28</td>\n",
       "      <td>1553686</td>\n",
       "    </tr>\n",
       "    <tr>\n",
       "      <th>7973907</th>\n",
       "      <td>2019-06-28</td>\n",
       "      <td>1553687</td>\n",
       "    </tr>\n",
       "    <tr>\n",
       "      <th>7973908</th>\n",
       "      <td>2019-06-28</td>\n",
       "      <td>1553688</td>\n",
       "    </tr>\n",
       "    <tr>\n",
       "      <th>7973909</th>\n",
       "      <td>2019-06-28</td>\n",
       "      <td>1553689</td>\n",
       "    </tr>\n",
       "  </tbody>\n",
       "</table>\n",
       "</div>"
      ],
      "text/plain": [
       "        pk_partition   pk_cid\n",
       "7973905   2019-06-28  1553685\n",
       "7973906   2019-06-28  1553686\n",
       "7973907   2019-06-28  1553687\n",
       "7973908   2019-06-28  1553688\n",
       "7973909   2019-06-28  1553689"
      ]
     },
     "execution_count": 35,
     "metadata": {},
     "output_type": "execute_result"
    }
   ],
   "source": [
    "full_df = pd.DataFrame(index = cartesian_product).reset_index()\n",
    "full_df.tail()"
   ]
  },
  {
   "cell_type": "code",
   "execution_count": 36,
   "metadata": {
    "ExecuteTime": {
     "end_time": "2020-09-06T19:38:50.827172Z",
     "start_time": "2020-09-06T19:38:50.035629Z"
    }
   },
   "outputs": [],
   "source": [
    "full_df['pk_partition']=pd.to_datetime(full_df['pk_partition'], format='%Y-%m-%d')"
   ]
  },
  {
   "cell_type": "code",
   "execution_count": 37,
   "metadata": {
    "ExecuteTime": {
     "end_time": "2020-09-06T19:38:51.054040Z",
     "start_time": "2020-09-06T19:38:50.828171Z"
    }
   },
   "outputs": [
    {
     "data": {
      "text/plain": [
       "pk_partition\n",
       "2018-01-28    442995\n",
       "2018-02-28    442995\n",
       "2018-03-28    442995\n",
       "2018-04-28    442995\n",
       "2018-05-28    442995\n",
       "2018-06-28    442995\n",
       "2018-07-28    442995\n",
       "2018-08-28    442995\n",
       "2018-09-28    442995\n",
       "2018-10-28    442995\n",
       "2018-11-28    442995\n",
       "2018-12-28    442995\n",
       "2019-01-28    442995\n",
       "2019-02-28    442995\n",
       "2019-03-28    442995\n",
       "2019-04-28    442995\n",
       "2019-05-28    442995\n",
       "2019-06-28    442995\n",
       "Name: pk_cid, dtype: int64"
      ]
     },
     "execution_count": 37,
     "metadata": {},
     "output_type": "execute_result"
    }
   ],
   "source": [
    "full_df.groupby('pk_partition')['pk_cid'].size()"
   ]
  },
  {
   "cell_type": "code",
   "execution_count": 38,
   "metadata": {
    "ExecuteTime": {
     "end_time": "2020-09-06T19:39:20.858859Z",
     "start_time": "2020-09-06T19:38:51.055039Z"
    }
   },
   "outputs": [],
   "source": [
    "full_df = pd.merge(full_df,df_sorted , on = [\"pk_partition\", \"pk_cid\"], how = 'left')"
   ]
  },
  {
   "cell_type": "code",
   "execution_count": 39,
   "metadata": {
    "ExecuteTime": {
     "end_time": "2020-09-06T19:39:25.126400Z",
     "start_time": "2020-09-06T19:39:20.859859Z"
    }
   },
   "outputs": [
    {
     "data": {
      "text/plain": [
       "pk_partition\n",
       "2018-01-28    442995\n",
       "2018-02-28    442995\n",
       "2018-03-28    442995\n",
       "2018-04-28    442995\n",
       "2018-05-28    442995\n",
       "2018-06-28    442995\n",
       "2018-07-28    442995\n",
       "2018-08-28    442995\n",
       "2018-09-28    442995\n",
       "2018-10-28    442995\n",
       "2018-11-28    442995\n",
       "2018-12-28    442995\n",
       "2019-01-28    442995\n",
       "2019-02-28    442995\n",
       "2019-03-28    442995\n",
       "2019-04-28    442995\n",
       "2019-05-28    442995\n",
       "2019-06-28    442995\n",
       "Name: pk_cid, dtype: int64"
      ]
     },
     "execution_count": 39,
     "metadata": {},
     "output_type": "execute_result"
    }
   ],
   "source": [
    "full_df.groupby('pk_partition')['pk_cid'].size()"
   ]
  },
  {
   "cell_type": "code",
   "execution_count": 40,
   "metadata": {
    "ExecuteTime": {
     "end_time": "2020-09-06T19:39:25.480195Z",
     "start_time": "2020-09-06T19:39:25.127400Z"
    }
   },
   "outputs": [],
   "source": [
    "del df_sorted"
   ]
  },
  {
   "cell_type": "code",
   "execution_count": 41,
   "metadata": {
    "ExecuteTime": {
     "end_time": "2020-09-06T19:39:26.887383Z",
     "start_time": "2020-09-06T19:39:25.481194Z"
    }
   },
   "outputs": [
    {
     "data": {
      "text/plain": [
       "60"
      ]
     },
     "execution_count": 41,
     "metadata": {},
     "output_type": "execute_result"
    }
   ],
   "source": [
    "gc.collect()"
   ]
  },
  {
   "cell_type": "code",
   "execution_count": 42,
   "metadata": {
    "ExecuteTime": {
     "end_time": "2020-09-06T19:39:26.898379Z",
     "start_time": "2020-09-06T19:39:26.888382Z"
    }
   },
   "outputs": [],
   "source": [
    "#full_df.to_pickle('fulldf_base.pkl',compression='zip')"
   ]
  },
  {
   "cell_type": "code",
   "execution_count": 43,
   "metadata": {
    "ExecuteTime": {
     "end_time": "2020-09-06T19:39:27.783868Z",
     "start_time": "2020-09-06T19:39:26.903373Z"
    }
   },
   "outputs": [
    {
     "data": {
      "text/plain": [
       "pk_partition\n",
       "2018-01-28    206825\n",
       "2018-02-28    203940\n",
       "2018-03-28    201278\n",
       "2018-04-28    199132\n",
       "2018-05-28    196740\n",
       "2018-06-28    194630\n",
       "2018-07-28    109709\n",
       "2018-08-28     96053\n",
       "2018-09-28     73906\n",
       "2018-10-28     47121\n",
       "2018-11-28     32470\n",
       "2018-12-28     25695\n",
       "2019-01-28     19481\n",
       "2019-02-28     13916\n",
       "2019-03-28      8804\n",
       "2019-04-28      4588\n",
       "2019-06-28    442995\n",
       "Name: pk_cid, dtype: int64"
      ]
     },
     "execution_count": 43,
     "metadata": {},
     "output_type": "execute_result"
    }
   ],
   "source": [
    "# Nulos debidos al producto cartesiano\n",
    "full_df[full_df['entry_date'].isnull()].groupby('pk_partition')['pk_cid'].size()"
   ]
  },
  {
   "cell_type": "code",
   "execution_count": 44,
   "metadata": {
    "ExecuteTime": {
     "end_time": "2020-09-06T19:39:33.189761Z",
     "start_time": "2020-09-06T19:39:27.787866Z"
    }
   },
   "outputs": [
    {
     "data": {
      "text/html": [
       "<div>\n",
       "<style scoped>\n",
       "    .dataframe tbody tr th:only-of-type {\n",
       "        vertical-align: middle;\n",
       "    }\n",
       "\n",
       "    .dataframe tbody tr th {\n",
       "        vertical-align: top;\n",
       "    }\n",
       "\n",
       "    .dataframe thead th {\n",
       "        text-align: right;\n",
       "    }\n",
       "</style>\n",
       "<table border=\"1\" class=\"dataframe\">\n",
       "  <thead>\n",
       "    <tr style=\"text-align: right;\">\n",
       "      <th></th>\n",
       "      <th>pk_partition</th>\n",
       "      <th>pk_cid</th>\n",
       "      <th>short_term_deposit</th>\n",
       "      <th>loans</th>\n",
       "      <th>mortgage</th>\n",
       "      <th>funds</th>\n",
       "      <th>securities</th>\n",
       "      <th>long_term_deposit</th>\n",
       "      <th>em_account_pp</th>\n",
       "      <th>credit_card</th>\n",
       "      <th>...</th>\n",
       "      <th>totalAhorro</th>\n",
       "      <th>totalFinanciacion</th>\n",
       "      <th>totalIngresos</th>\n",
       "      <th>totalBeneficio</th>\n",
       "      <th>hayAlta</th>\n",
       "      <th>diasDesdeUltimaAlta</th>\n",
       "      <th>diasDesdeUltimaAltaInt</th>\n",
       "      <th>hayBaja</th>\n",
       "      <th>diasDesdeUltimaBaja</th>\n",
       "      <th>diasDesdeUltimaBajaInt</th>\n",
       "    </tr>\n",
       "  </thead>\n",
       "  <tbody>\n",
       "    <tr>\n",
       "      <th>0</th>\n",
       "      <td>2018-01-28</td>\n",
       "      <td>16063</td>\n",
       "      <td>nan</td>\n",
       "      <td>nan</td>\n",
       "      <td>nan</td>\n",
       "      <td>nan</td>\n",
       "      <td>nan</td>\n",
       "      <td>nan</td>\n",
       "      <td>nan</td>\n",
       "      <td>nan</td>\n",
       "      <td>...</td>\n",
       "      <td>nan</td>\n",
       "      <td>nan</td>\n",
       "      <td>nan</td>\n",
       "      <td>nan</td>\n",
       "      <td>nan</td>\n",
       "      <td>NaN</td>\n",
       "      <td>nan</td>\n",
       "      <td>nan</td>\n",
       "      <td>NaN</td>\n",
       "      <td>nan</td>\n",
       "    </tr>\n",
       "    <tr>\n",
       "      <th>1</th>\n",
       "      <td>2018-01-28</td>\n",
       "      <td>16203</td>\n",
       "      <td>nan</td>\n",
       "      <td>nan</td>\n",
       "      <td>nan</td>\n",
       "      <td>nan</td>\n",
       "      <td>nan</td>\n",
       "      <td>nan</td>\n",
       "      <td>nan</td>\n",
       "      <td>nan</td>\n",
       "      <td>...</td>\n",
       "      <td>nan</td>\n",
       "      <td>nan</td>\n",
       "      <td>nan</td>\n",
       "      <td>nan</td>\n",
       "      <td>nan</td>\n",
       "      <td>NaN</td>\n",
       "      <td>nan</td>\n",
       "      <td>nan</td>\n",
       "      <td>NaN</td>\n",
       "      <td>nan</td>\n",
       "    </tr>\n",
       "    <tr>\n",
       "      <th>2</th>\n",
       "      <td>2018-01-28</td>\n",
       "      <td>16502</td>\n",
       "      <td>nan</td>\n",
       "      <td>nan</td>\n",
       "      <td>nan</td>\n",
       "      <td>nan</td>\n",
       "      <td>nan</td>\n",
       "      <td>nan</td>\n",
       "      <td>nan</td>\n",
       "      <td>nan</td>\n",
       "      <td>...</td>\n",
       "      <td>nan</td>\n",
       "      <td>nan</td>\n",
       "      <td>nan</td>\n",
       "      <td>nan</td>\n",
       "      <td>nan</td>\n",
       "      <td>NaN</td>\n",
       "      <td>nan</td>\n",
       "      <td>nan</td>\n",
       "      <td>NaN</td>\n",
       "      <td>nan</td>\n",
       "    </tr>\n",
       "    <tr>\n",
       "      <th>3</th>\n",
       "      <td>2018-01-28</td>\n",
       "      <td>17457</td>\n",
       "      <td>0.00</td>\n",
       "      <td>0.00</td>\n",
       "      <td>0.00</td>\n",
       "      <td>0.00</td>\n",
       "      <td>0.00</td>\n",
       "      <td>1.00</td>\n",
       "      <td>0.00</td>\n",
       "      <td>0.00</td>\n",
       "      <td>...</td>\n",
       "      <td>1.00</td>\n",
       "      <td>0.00</td>\n",
       "      <td>0.00</td>\n",
       "      <td>90.00</td>\n",
       "      <td>0.00</td>\n",
       "      <td>1 days 00:00:00</td>\n",
       "      <td>1.00</td>\n",
       "      <td>0.00</td>\n",
       "      <td>1 days 00:00:00</td>\n",
       "      <td>1.00</td>\n",
       "    </tr>\n",
       "    <tr>\n",
       "      <th>4</th>\n",
       "      <td>2018-01-28</td>\n",
       "      <td>17590</td>\n",
       "      <td>nan</td>\n",
       "      <td>nan</td>\n",
       "      <td>nan</td>\n",
       "      <td>nan</td>\n",
       "      <td>nan</td>\n",
       "      <td>nan</td>\n",
       "      <td>nan</td>\n",
       "      <td>nan</td>\n",
       "      <td>...</td>\n",
       "      <td>nan</td>\n",
       "      <td>nan</td>\n",
       "      <td>nan</td>\n",
       "      <td>nan</td>\n",
       "      <td>nan</td>\n",
       "      <td>NaN</td>\n",
       "      <td>nan</td>\n",
       "      <td>nan</td>\n",
       "      <td>NaN</td>\n",
       "      <td>nan</td>\n",
       "    </tr>\n",
       "    <tr>\n",
       "      <th>...</th>\n",
       "      <td>...</td>\n",
       "      <td>...</td>\n",
       "      <td>...</td>\n",
       "      <td>...</td>\n",
       "      <td>...</td>\n",
       "      <td>...</td>\n",
       "      <td>...</td>\n",
       "      <td>...</td>\n",
       "      <td>...</td>\n",
       "      <td>...</td>\n",
       "      <td>...</td>\n",
       "      <td>...</td>\n",
       "      <td>...</td>\n",
       "      <td>...</td>\n",
       "      <td>...</td>\n",
       "      <td>...</td>\n",
       "      <td>...</td>\n",
       "      <td>...</td>\n",
       "      <td>...</td>\n",
       "      <td>...</td>\n",
       "      <td>...</td>\n",
       "    </tr>\n",
       "    <tr>\n",
       "      <th>7973905</th>\n",
       "      <td>2019-06-28</td>\n",
       "      <td>1553685</td>\n",
       "      <td>nan</td>\n",
       "      <td>nan</td>\n",
       "      <td>nan</td>\n",
       "      <td>nan</td>\n",
       "      <td>nan</td>\n",
       "      <td>nan</td>\n",
       "      <td>nan</td>\n",
       "      <td>nan</td>\n",
       "      <td>...</td>\n",
       "      <td>nan</td>\n",
       "      <td>nan</td>\n",
       "      <td>nan</td>\n",
       "      <td>nan</td>\n",
       "      <td>nan</td>\n",
       "      <td>NaN</td>\n",
       "      <td>nan</td>\n",
       "      <td>nan</td>\n",
       "      <td>NaN</td>\n",
       "      <td>nan</td>\n",
       "    </tr>\n",
       "    <tr>\n",
       "      <th>7973906</th>\n",
       "      <td>2019-06-28</td>\n",
       "      <td>1553686</td>\n",
       "      <td>nan</td>\n",
       "      <td>nan</td>\n",
       "      <td>nan</td>\n",
       "      <td>nan</td>\n",
       "      <td>nan</td>\n",
       "      <td>nan</td>\n",
       "      <td>nan</td>\n",
       "      <td>nan</td>\n",
       "      <td>...</td>\n",
       "      <td>nan</td>\n",
       "      <td>nan</td>\n",
       "      <td>nan</td>\n",
       "      <td>nan</td>\n",
       "      <td>nan</td>\n",
       "      <td>NaN</td>\n",
       "      <td>nan</td>\n",
       "      <td>nan</td>\n",
       "      <td>NaN</td>\n",
       "      <td>nan</td>\n",
       "    </tr>\n",
       "    <tr>\n",
       "      <th>7973907</th>\n",
       "      <td>2019-06-28</td>\n",
       "      <td>1553687</td>\n",
       "      <td>nan</td>\n",
       "      <td>nan</td>\n",
       "      <td>nan</td>\n",
       "      <td>nan</td>\n",
       "      <td>nan</td>\n",
       "      <td>nan</td>\n",
       "      <td>nan</td>\n",
       "      <td>nan</td>\n",
       "      <td>...</td>\n",
       "      <td>nan</td>\n",
       "      <td>nan</td>\n",
       "      <td>nan</td>\n",
       "      <td>nan</td>\n",
       "      <td>nan</td>\n",
       "      <td>NaN</td>\n",
       "      <td>nan</td>\n",
       "      <td>nan</td>\n",
       "      <td>NaN</td>\n",
       "      <td>nan</td>\n",
       "    </tr>\n",
       "    <tr>\n",
       "      <th>7973908</th>\n",
       "      <td>2019-06-28</td>\n",
       "      <td>1553688</td>\n",
       "      <td>nan</td>\n",
       "      <td>nan</td>\n",
       "      <td>nan</td>\n",
       "      <td>nan</td>\n",
       "      <td>nan</td>\n",
       "      <td>nan</td>\n",
       "      <td>nan</td>\n",
       "      <td>nan</td>\n",
       "      <td>...</td>\n",
       "      <td>nan</td>\n",
       "      <td>nan</td>\n",
       "      <td>nan</td>\n",
       "      <td>nan</td>\n",
       "      <td>nan</td>\n",
       "      <td>NaN</td>\n",
       "      <td>nan</td>\n",
       "      <td>nan</td>\n",
       "      <td>NaN</td>\n",
       "      <td>nan</td>\n",
       "    </tr>\n",
       "    <tr>\n",
       "      <th>7973909</th>\n",
       "      <td>2019-06-28</td>\n",
       "      <td>1553689</td>\n",
       "      <td>nan</td>\n",
       "      <td>nan</td>\n",
       "      <td>nan</td>\n",
       "      <td>nan</td>\n",
       "      <td>nan</td>\n",
       "      <td>nan</td>\n",
       "      <td>nan</td>\n",
       "      <td>nan</td>\n",
       "      <td>...</td>\n",
       "      <td>nan</td>\n",
       "      <td>nan</td>\n",
       "      <td>nan</td>\n",
       "      <td>nan</td>\n",
       "      <td>nan</td>\n",
       "      <td>NaN</td>\n",
       "      <td>nan</td>\n",
       "      <td>nan</td>\n",
       "      <td>NaN</td>\n",
       "      <td>nan</td>\n",
       "    </tr>\n",
       "  </tbody>\n",
       "</table>\n",
       "<p>7973910 rows × 59 columns</p>\n",
       "</div>"
      ],
      "text/plain": [
       "        pk_partition   pk_cid  short_term_deposit  loans  mortgage  funds  \\\n",
       "0         2018-01-28    16063                 nan    nan       nan    nan   \n",
       "1         2018-01-28    16203                 nan    nan       nan    nan   \n",
       "2         2018-01-28    16502                 nan    nan       nan    nan   \n",
       "3         2018-01-28    17457                0.00   0.00      0.00   0.00   \n",
       "4         2018-01-28    17590                 nan    nan       nan    nan   \n",
       "...              ...      ...                 ...    ...       ...    ...   \n",
       "7973905   2019-06-28  1553685                 nan    nan       nan    nan   \n",
       "7973906   2019-06-28  1553686                 nan    nan       nan    nan   \n",
       "7973907   2019-06-28  1553687                 nan    nan       nan    nan   \n",
       "7973908   2019-06-28  1553688                 nan    nan       nan    nan   \n",
       "7973909   2019-06-28  1553689                 nan    nan       nan    nan   \n",
       "\n",
       "         securities  long_term_deposit  em_account_pp  credit_card  ...  \\\n",
       "0               nan                nan            nan          nan  ...   \n",
       "1               nan                nan            nan          nan  ...   \n",
       "2               nan                nan            nan          nan  ...   \n",
       "3              0.00               1.00           0.00         0.00  ...   \n",
       "4               nan                nan            nan          nan  ...   \n",
       "...             ...                ...            ...          ...  ...   \n",
       "7973905         nan                nan            nan          nan  ...   \n",
       "7973906         nan                nan            nan          nan  ...   \n",
       "7973907         nan                nan            nan          nan  ...   \n",
       "7973908         nan                nan            nan          nan  ...   \n",
       "7973909         nan                nan            nan          nan  ...   \n",
       "\n",
       "         totalAhorro  totalFinanciacion  totalIngresos  totalBeneficio  \\\n",
       "0                nan                nan            nan             nan   \n",
       "1                nan                nan            nan             nan   \n",
       "2                nan                nan            nan             nan   \n",
       "3               1.00               0.00           0.00           90.00   \n",
       "4                nan                nan            nan             nan   \n",
       "...              ...                ...            ...             ...   \n",
       "7973905          nan                nan            nan             nan   \n",
       "7973906          nan                nan            nan             nan   \n",
       "7973907          nan                nan            nan             nan   \n",
       "7973908          nan                nan            nan             nan   \n",
       "7973909          nan                nan            nan             nan   \n",
       "\n",
       "         hayAlta  diasDesdeUltimaAlta  diasDesdeUltimaAltaInt hayBaja  \\\n",
       "0            nan                  NaN                     nan     nan   \n",
       "1            nan                  NaN                     nan     nan   \n",
       "2            nan                  NaN                     nan     nan   \n",
       "3           0.00      1 days 00:00:00                    1.00    0.00   \n",
       "4            nan                  NaN                     nan     nan   \n",
       "...          ...                  ...                     ...     ...   \n",
       "7973905      nan                  NaN                     nan     nan   \n",
       "7973906      nan                  NaN                     nan     nan   \n",
       "7973907      nan                  NaN                     nan     nan   \n",
       "7973908      nan                  NaN                     nan     nan   \n",
       "7973909      nan                  NaN                     nan     nan   \n",
       "\n",
       "        diasDesdeUltimaBaja  diasDesdeUltimaBajaInt  \n",
       "0                       NaN                     nan  \n",
       "1                       NaN                     nan  \n",
       "2                       NaN                     nan  \n",
       "3           1 days 00:00:00                    1.00  \n",
       "4                       NaN                     nan  \n",
       "...                     ...                     ...  \n",
       "7973905                 NaN                     nan  \n",
       "7973906                 NaN                     nan  \n",
       "7973907                 NaN                     nan  \n",
       "7973908                 NaN                     nan  \n",
       "7973909                 NaN                     nan  \n",
       "\n",
       "[7973910 rows x 59 columns]"
      ]
     },
     "execution_count": 44,
     "metadata": {},
     "output_type": "execute_result"
    }
   ],
   "source": [
    "full_df"
   ]
  },
  {
   "cell_type": "code",
   "execution_count": 45,
   "metadata": {
    "ExecuteTime": {
     "end_time": "2020-09-06T19:39:37.640183Z",
     "start_time": "2020-09-06T19:39:33.190749Z"
    }
   },
   "outputs": [],
   "source": [
    "# Borramos todos los nulos que se generan por el producto cartesiano:\n",
    "full_df.drop (full_df[ (full_df['pk_partition']!='2019-06-28') &\n",
    "                       (full_df['entry_date'].isnull()) ].index, axis=0, inplace=True)"
   ]
  },
  {
   "cell_type": "code",
   "execution_count": 46,
   "metadata": {
    "ExecuteTime": {
     "end_time": "2020-09-06T19:39:37.834072Z",
     "start_time": "2020-09-06T19:39:37.641183Z"
    }
   },
   "outputs": [
    {
     "data": {
      "text/plain": [
       "pk_partition\n",
       "2019-06-28    442995\n",
       "Name: pk_cid, dtype: int64"
      ]
     },
     "execution_count": 46,
     "metadata": {},
     "output_type": "execute_result"
    }
   ],
   "source": [
    "full_df[full_df['entry_date'].isnull()].groupby('pk_partition')['pk_cid'].size()"
   ]
  },
  {
   "cell_type": "code",
   "execution_count": 47,
   "metadata": {
    "ExecuteTime": {
     "end_time": "2020-09-06T19:39:38.023964Z",
     "start_time": "2020-09-06T19:39:37.835077Z"
    }
   },
   "outputs": [
    {
     "data": {
      "text/plain": [
       "pk_partition\n",
       "2018-01-28    236170\n",
       "2018-02-28    239055\n",
       "2018-03-28    241717\n",
       "2018-04-28    243863\n",
       "2018-05-28    246255\n",
       "2018-06-28    248365\n",
       "2018-07-28    333286\n",
       "2018-08-28    346942\n",
       "2018-09-28    369089\n",
       "2018-10-28    395874\n",
       "2018-11-28    410525\n",
       "2018-12-28    417300\n",
       "2019-01-28    423514\n",
       "2019-02-28    429079\n",
       "2019-03-28    434191\n",
       "2019-04-28    438407\n",
       "2019-05-28    442995\n",
       "2019-06-28    442995\n",
       "Name: pk_cid, dtype: int64"
      ]
     },
     "execution_count": 47,
     "metadata": {},
     "output_type": "execute_result"
    }
   ],
   "source": [
    "full_df.groupby('pk_partition')['pk_cid'].size()"
   ]
  },
  {
   "cell_type": "code",
   "execution_count": 48,
   "metadata": {
    "ExecuteTime": {
     "end_time": "2020-09-06T19:39:38.028960Z",
     "start_time": "2020-09-06T19:39:38.024962Z"
    }
   },
   "outputs": [],
   "source": [
    "# Actualizamos el mes a predecir:2019-06-28 con los valores de los clientes \n",
    "lista_actualizar=['entry_date',\n",
    " #'entry_channel',\n",
    " 'active_customer',\n",
    " #'segment',\n",
    " #'country_id',\n",
    " 'region_code',\n",
    " #'gender',\n",
    " 'age',\n",
    " #'deceased', \n",
    " #'mesesAlta',\n",
    "'salary']"
   ]
  },
  {
   "cell_type": "code",
   "execution_count": 49,
   "metadata": {
    "ExecuteTime": {
     "end_time": "2020-09-06T19:39:41.310069Z",
     "start_time": "2020-09-06T19:39:38.030960Z"
    }
   },
   "outputs": [
    {
     "name": "stdout",
     "output_type": "stream",
     "text": [
      "entry_date\n",
      "active_customer\n",
      "region_code\n",
      "age\n",
      "salary\n"
     ]
    }
   ],
   "source": [
    "# Rellenamos entry_date para el ultimo mes:\n",
    "for x in lista_actualizar:\n",
    "    print(x)\n",
    "    full_df.loc[(full_df['pk_partition']=='2019-06-28'),\n",
    "            x]=full_df[full_df['pk_partition']=='2019-06-28']['pk_cid'].map(full_df[['pk_cid',x]].groupby('pk_cid')[x].max())"
   ]
  },
  {
   "cell_type": "code",
   "execution_count": 50,
   "metadata": {
    "ExecuteTime": {
     "end_time": "2020-09-06T19:39:45.247799Z",
     "start_time": "2020-09-06T19:39:41.312068Z"
    }
   },
   "outputs": [
    {
     "data": {
      "text/plain": [
       "pk_partition                   0\n",
       "pk_cid                         0\n",
       "short_term_deposit        442995\n",
       "loans                     442995\n",
       "mortgage                  442995\n",
       "funds                     442995\n",
       "securities                442995\n",
       "long_term_deposit         442995\n",
       "em_account_pp             442995\n",
       "credit_card               442995\n",
       "payroll                   442995\n",
       "pension_plan              442995\n",
       "payroll_account           442995\n",
       "emc_account               442995\n",
       "debit_card                442995\n",
       "em_account_p              442995\n",
       "em_acount                 442995\n",
       "entry_date                     0\n",
       "entry_channel             442995\n",
       "active_customer                0\n",
       "segment                   442995\n",
       "country_id                442995\n",
       "region_code                    0\n",
       "gender                    442995\n",
       "age                            0\n",
       "deceased                  442995\n",
       "salary                         0\n",
       "dif_debit_card            442995\n",
       "dif_em_account_p          442995\n",
       "dif_em_account_pp         442995\n",
       "dif_em_acount             442995\n",
       "dif_emc_account           442995\n",
       "dif_payroll               442995\n",
       "dif_payroll_account       442995\n",
       "dif_funds                 442995\n",
       "dif_long_term_deposit     442995\n",
       "dif_mortgage              442995\n",
       "dif_pension_plan          442995\n",
       "dif_securities            442995\n",
       "dif_short_term_deposit    442995\n",
       "dif_loans                 442995\n",
       "dif_credit_card           442995\n",
       "mesesAlta                 442995\n",
       "isNewClient               442995\n",
       "isActive                  442995\n",
       "Provincia                 442995\n",
       "SalaryQtil                442995\n",
       "totalAssets               442995\n",
       "totalCuentas              442995\n",
       "totalAhorro               442995\n",
       "totalFinanciacion         442995\n",
       "totalIngresos             442995\n",
       "totalBeneficio            442995\n",
       "hayAlta                   442995\n",
       "diasDesdeUltimaAlta       442995\n",
       "diasDesdeUltimaAltaInt    442995\n",
       "hayBaja                   442995\n",
       "diasDesdeUltimaBaja       442995\n",
       "diasDesdeUltimaBajaInt    442995\n",
       "dtype: int64"
      ]
     },
     "execution_count": 50,
     "metadata": {},
     "output_type": "execute_result"
    }
   ],
   "source": [
    "# Solo tenemos nulos en el mes a predecir\n",
    "full_df.isnull().sum()"
   ]
  },
  {
   "cell_type": "code",
   "execution_count": 51,
   "metadata": {
    "ExecuteTime": {
     "end_time": "2020-09-06T19:40:37.717551Z",
     "start_time": "2020-09-06T19:39:45.248798Z"
    }
   },
   "outputs": [
    {
     "data": {
      "text/html": [
       "<div>\n",
       "<style scoped>\n",
       "    .dataframe tbody tr th:only-of-type {\n",
       "        vertical-align: middle;\n",
       "    }\n",
       "\n",
       "    .dataframe tbody tr th {\n",
       "        vertical-align: top;\n",
       "    }\n",
       "\n",
       "    .dataframe thead th {\n",
       "        text-align: right;\n",
       "    }\n",
       "</style>\n",
       "<table border=\"1\" class=\"dataframe\">\n",
       "  <thead>\n",
       "    <tr style=\"text-align: right;\">\n",
       "      <th></th>\n",
       "      <th>10</th>\n",
       "      <th>35</th>\n",
       "      <th>43</th>\n",
       "      <th>50</th>\n",
       "      <th>72</th>\n",
       "      <th>107</th>\n",
       "      <th>121</th>\n",
       "      <th>145</th>\n",
       "      <th>177</th>\n",
       "      <th>186</th>\n",
       "      <th>...</th>\n",
       "      <th>7530905</th>\n",
       "      <th>7530906</th>\n",
       "      <th>7530907</th>\n",
       "      <th>7530908</th>\n",
       "      <th>7530909</th>\n",
       "      <th>7530910</th>\n",
       "      <th>7530911</th>\n",
       "      <th>7530912</th>\n",
       "      <th>7530913</th>\n",
       "      <th>7530914</th>\n",
       "    </tr>\n",
       "  </thead>\n",
       "  <tbody>\n",
       "    <tr>\n",
       "      <th>pk_partition</th>\n",
       "      <td>2018-01-28 00:00:00</td>\n",
       "      <td>2018-01-28 00:00:00</td>\n",
       "      <td>2018-01-28 00:00:00</td>\n",
       "      <td>2018-01-28 00:00:00</td>\n",
       "      <td>2018-01-28 00:00:00</td>\n",
       "      <td>2018-01-28 00:00:00</td>\n",
       "      <td>2018-01-28 00:00:00</td>\n",
       "      <td>2018-01-28 00:00:00</td>\n",
       "      <td>2018-01-28 00:00:00</td>\n",
       "      <td>2018-01-28 00:00:00</td>\n",
       "      <td>...</td>\n",
       "      <td>2019-05-28 00:00:00</td>\n",
       "      <td>2019-05-28 00:00:00</td>\n",
       "      <td>2019-05-28 00:00:00</td>\n",
       "      <td>2019-05-28 00:00:00</td>\n",
       "      <td>2019-05-28 00:00:00</td>\n",
       "      <td>2019-05-28 00:00:00</td>\n",
       "      <td>2019-05-28 00:00:00</td>\n",
       "      <td>2019-05-28 00:00:00</td>\n",
       "      <td>2019-05-28 00:00:00</td>\n",
       "      <td>2019-05-28 00:00:00</td>\n",
       "    </tr>\n",
       "    <tr>\n",
       "      <th>pk_cid</th>\n",
       "      <td>18956</td>\n",
       "      <td>25612</td>\n",
       "      <td>29896</td>\n",
       "      <td>31512</td>\n",
       "      <td>35849</td>\n",
       "      <td>44949</td>\n",
       "      <td>46823</td>\n",
       "      <td>53836</td>\n",
       "      <td>63478</td>\n",
       "      <td>65506</td>\n",
       "      <td>...</td>\n",
       "      <td>1553679</td>\n",
       "      <td>1553680</td>\n",
       "      <td>1553681</td>\n",
       "      <td>1553683</td>\n",
       "      <td>1553684</td>\n",
       "      <td>1553685</td>\n",
       "      <td>1553686</td>\n",
       "      <td>1553687</td>\n",
       "      <td>1553688</td>\n",
       "      <td>1553689</td>\n",
       "    </tr>\n",
       "    <tr>\n",
       "      <th>short_term_deposit</th>\n",
       "      <td>0.00</td>\n",
       "      <td>0.00</td>\n",
       "      <td>0.00</td>\n",
       "      <td>0.00</td>\n",
       "      <td>0.00</td>\n",
       "      <td>0.00</td>\n",
       "      <td>0.00</td>\n",
       "      <td>0.00</td>\n",
       "      <td>0.00</td>\n",
       "      <td>0.00</td>\n",
       "      <td>...</td>\n",
       "      <td>0.00</td>\n",
       "      <td>0.00</td>\n",
       "      <td>0.00</td>\n",
       "      <td>0.00</td>\n",
       "      <td>0.00</td>\n",
       "      <td>0.00</td>\n",
       "      <td>0.00</td>\n",
       "      <td>0.00</td>\n",
       "      <td>0.00</td>\n",
       "      <td>0.00</td>\n",
       "    </tr>\n",
       "    <tr>\n",
       "      <th>loans</th>\n",
       "      <td>0.00</td>\n",
       "      <td>0.00</td>\n",
       "      <td>0.00</td>\n",
       "      <td>0.00</td>\n",
       "      <td>0.00</td>\n",
       "      <td>0.00</td>\n",
       "      <td>0.00</td>\n",
       "      <td>0.00</td>\n",
       "      <td>0.00</td>\n",
       "      <td>0.00</td>\n",
       "      <td>...</td>\n",
       "      <td>0.00</td>\n",
       "      <td>0.00</td>\n",
       "      <td>0.00</td>\n",
       "      <td>0.00</td>\n",
       "      <td>0.00</td>\n",
       "      <td>0.00</td>\n",
       "      <td>0.00</td>\n",
       "      <td>0.00</td>\n",
       "      <td>0.00</td>\n",
       "      <td>0.00</td>\n",
       "    </tr>\n",
       "    <tr>\n",
       "      <th>mortgage</th>\n",
       "      <td>0.00</td>\n",
       "      <td>0.00</td>\n",
       "      <td>0.00</td>\n",
       "      <td>0.00</td>\n",
       "      <td>0.00</td>\n",
       "      <td>0.00</td>\n",
       "      <td>0.00</td>\n",
       "      <td>0.00</td>\n",
       "      <td>0.00</td>\n",
       "      <td>0.00</td>\n",
       "      <td>...</td>\n",
       "      <td>0.00</td>\n",
       "      <td>0.00</td>\n",
       "      <td>0.00</td>\n",
       "      <td>0.00</td>\n",
       "      <td>0.00</td>\n",
       "      <td>0.00</td>\n",
       "      <td>0.00</td>\n",
       "      <td>0.00</td>\n",
       "      <td>0.00</td>\n",
       "      <td>0.00</td>\n",
       "    </tr>\n",
       "    <tr>\n",
       "      <th>funds</th>\n",
       "      <td>0.00</td>\n",
       "      <td>0.00</td>\n",
       "      <td>0.00</td>\n",
       "      <td>0.00</td>\n",
       "      <td>0.00</td>\n",
       "      <td>0.00</td>\n",
       "      <td>0.00</td>\n",
       "      <td>0.00</td>\n",
       "      <td>0.00</td>\n",
       "      <td>0.00</td>\n",
       "      <td>...</td>\n",
       "      <td>0.00</td>\n",
       "      <td>0.00</td>\n",
       "      <td>0.00</td>\n",
       "      <td>0.00</td>\n",
       "      <td>0.00</td>\n",
       "      <td>0.00</td>\n",
       "      <td>0.00</td>\n",
       "      <td>0.00</td>\n",
       "      <td>0.00</td>\n",
       "      <td>0.00</td>\n",
       "    </tr>\n",
       "    <tr>\n",
       "      <th>securities</th>\n",
       "      <td>0.00</td>\n",
       "      <td>0.00</td>\n",
       "      <td>0.00</td>\n",
       "      <td>0.00</td>\n",
       "      <td>0.00</td>\n",
       "      <td>0.00</td>\n",
       "      <td>0.00</td>\n",
       "      <td>0.00</td>\n",
       "      <td>0.00</td>\n",
       "      <td>0.00</td>\n",
       "      <td>...</td>\n",
       "      <td>0.00</td>\n",
       "      <td>0.00</td>\n",
       "      <td>0.00</td>\n",
       "      <td>0.00</td>\n",
       "      <td>0.00</td>\n",
       "      <td>0.00</td>\n",
       "      <td>0.00</td>\n",
       "      <td>0.00</td>\n",
       "      <td>0.00</td>\n",
       "      <td>0.00</td>\n",
       "    </tr>\n",
       "    <tr>\n",
       "      <th>long_term_deposit</th>\n",
       "      <td>0.00</td>\n",
       "      <td>0.00</td>\n",
       "      <td>0.00</td>\n",
       "      <td>0.00</td>\n",
       "      <td>0.00</td>\n",
       "      <td>0.00</td>\n",
       "      <td>0.00</td>\n",
       "      <td>0.00</td>\n",
       "      <td>0.00</td>\n",
       "      <td>0.00</td>\n",
       "      <td>...</td>\n",
       "      <td>0.00</td>\n",
       "      <td>0.00</td>\n",
       "      <td>0.00</td>\n",
       "      <td>0.00</td>\n",
       "      <td>0.00</td>\n",
       "      <td>0.00</td>\n",
       "      <td>0.00</td>\n",
       "      <td>0.00</td>\n",
       "      <td>0.00</td>\n",
       "      <td>0.00</td>\n",
       "    </tr>\n",
       "    <tr>\n",
       "      <th>em_account_pp</th>\n",
       "      <td>0.00</td>\n",
       "      <td>0.00</td>\n",
       "      <td>0.00</td>\n",
       "      <td>0.00</td>\n",
       "      <td>0.00</td>\n",
       "      <td>0.00</td>\n",
       "      <td>0.00</td>\n",
       "      <td>0.00</td>\n",
       "      <td>0.00</td>\n",
       "      <td>0.00</td>\n",
       "      <td>...</td>\n",
       "      <td>0.00</td>\n",
       "      <td>0.00</td>\n",
       "      <td>0.00</td>\n",
       "      <td>0.00</td>\n",
       "      <td>0.00</td>\n",
       "      <td>0.00</td>\n",
       "      <td>0.00</td>\n",
       "      <td>0.00</td>\n",
       "      <td>0.00</td>\n",
       "      <td>0.00</td>\n",
       "    </tr>\n",
       "    <tr>\n",
       "      <th>credit_card</th>\n",
       "      <td>0.00</td>\n",
       "      <td>0.00</td>\n",
       "      <td>0.00</td>\n",
       "      <td>0.00</td>\n",
       "      <td>0.00</td>\n",
       "      <td>0.00</td>\n",
       "      <td>0.00</td>\n",
       "      <td>0.00</td>\n",
       "      <td>0.00</td>\n",
       "      <td>0.00</td>\n",
       "      <td>...</td>\n",
       "      <td>0.00</td>\n",
       "      <td>0.00</td>\n",
       "      <td>0.00</td>\n",
       "      <td>0.00</td>\n",
       "      <td>0.00</td>\n",
       "      <td>0.00</td>\n",
       "      <td>0.00</td>\n",
       "      <td>0.00</td>\n",
       "      <td>0.00</td>\n",
       "      <td>0.00</td>\n",
       "    </tr>\n",
       "    <tr>\n",
       "      <th>payroll</th>\n",
       "      <td>0.00</td>\n",
       "      <td>0.00</td>\n",
       "      <td>0.00</td>\n",
       "      <td>0.00</td>\n",
       "      <td>0.00</td>\n",
       "      <td>0.00</td>\n",
       "      <td>0.00</td>\n",
       "      <td>0.00</td>\n",
       "      <td>0.00</td>\n",
       "      <td>0.00</td>\n",
       "      <td>...</td>\n",
       "      <td>0.00</td>\n",
       "      <td>0.00</td>\n",
       "      <td>0.00</td>\n",
       "      <td>0.00</td>\n",
       "      <td>0.00</td>\n",
       "      <td>0.00</td>\n",
       "      <td>0.00</td>\n",
       "      <td>0.00</td>\n",
       "      <td>0.00</td>\n",
       "      <td>0.00</td>\n",
       "    </tr>\n",
       "    <tr>\n",
       "      <th>pension_plan</th>\n",
       "      <td>0.00</td>\n",
       "      <td>0.00</td>\n",
       "      <td>0.00</td>\n",
       "      <td>0.00</td>\n",
       "      <td>0.00</td>\n",
       "      <td>0.00</td>\n",
       "      <td>0.00</td>\n",
       "      <td>0.00</td>\n",
       "      <td>0.00</td>\n",
       "      <td>0.00</td>\n",
       "      <td>...</td>\n",
       "      <td>0.00</td>\n",
       "      <td>0.00</td>\n",
       "      <td>0.00</td>\n",
       "      <td>0.00</td>\n",
       "      <td>0.00</td>\n",
       "      <td>0.00</td>\n",
       "      <td>0.00</td>\n",
       "      <td>0.00</td>\n",
       "      <td>0.00</td>\n",
       "      <td>0.00</td>\n",
       "    </tr>\n",
       "    <tr>\n",
       "      <th>payroll_account</th>\n",
       "      <td>0.00</td>\n",
       "      <td>0.00</td>\n",
       "      <td>0.00</td>\n",
       "      <td>0.00</td>\n",
       "      <td>0.00</td>\n",
       "      <td>0.00</td>\n",
       "      <td>0.00</td>\n",
       "      <td>0.00</td>\n",
       "      <td>0.00</td>\n",
       "      <td>0.00</td>\n",
       "      <td>...</td>\n",
       "      <td>0.00</td>\n",
       "      <td>0.00</td>\n",
       "      <td>0.00</td>\n",
       "      <td>0.00</td>\n",
       "      <td>0.00</td>\n",
       "      <td>0.00</td>\n",
       "      <td>0.00</td>\n",
       "      <td>0.00</td>\n",
       "      <td>0.00</td>\n",
       "      <td>0.00</td>\n",
       "    </tr>\n",
       "    <tr>\n",
       "      <th>emc_account</th>\n",
       "      <td>0.00</td>\n",
       "      <td>0.00</td>\n",
       "      <td>0.00</td>\n",
       "      <td>0.00</td>\n",
       "      <td>0.00</td>\n",
       "      <td>0.00</td>\n",
       "      <td>0.00</td>\n",
       "      <td>0.00</td>\n",
       "      <td>0.00</td>\n",
       "      <td>0.00</td>\n",
       "      <td>...</td>\n",
       "      <td>0.00</td>\n",
       "      <td>0.00</td>\n",
       "      <td>0.00</td>\n",
       "      <td>0.00</td>\n",
       "      <td>0.00</td>\n",
       "      <td>0.00</td>\n",
       "      <td>0.00</td>\n",
       "      <td>0.00</td>\n",
       "      <td>0.00</td>\n",
       "      <td>0.00</td>\n",
       "    </tr>\n",
       "    <tr>\n",
       "      <th>debit_card</th>\n",
       "      <td>0.00</td>\n",
       "      <td>0.00</td>\n",
       "      <td>0.00</td>\n",
       "      <td>0.00</td>\n",
       "      <td>0.00</td>\n",
       "      <td>0.00</td>\n",
       "      <td>0.00</td>\n",
       "      <td>0.00</td>\n",
       "      <td>0.00</td>\n",
       "      <td>0.00</td>\n",
       "      <td>...</td>\n",
       "      <td>0.00</td>\n",
       "      <td>0.00</td>\n",
       "      <td>0.00</td>\n",
       "      <td>0.00</td>\n",
       "      <td>0.00</td>\n",
       "      <td>0.00</td>\n",
       "      <td>0.00</td>\n",
       "      <td>0.00</td>\n",
       "      <td>0.00</td>\n",
       "      <td>0.00</td>\n",
       "    </tr>\n",
       "    <tr>\n",
       "      <th>em_account_p</th>\n",
       "      <td>0.00</td>\n",
       "      <td>0.00</td>\n",
       "      <td>0.00</td>\n",
       "      <td>0.00</td>\n",
       "      <td>0.00</td>\n",
       "      <td>0.00</td>\n",
       "      <td>0.00</td>\n",
       "      <td>0.00</td>\n",
       "      <td>0.00</td>\n",
       "      <td>0.00</td>\n",
       "      <td>...</td>\n",
       "      <td>0.00</td>\n",
       "      <td>0.00</td>\n",
       "      <td>0.00</td>\n",
       "      <td>0.00</td>\n",
       "      <td>0.00</td>\n",
       "      <td>0.00</td>\n",
       "      <td>0.00</td>\n",
       "      <td>0.00</td>\n",
       "      <td>0.00</td>\n",
       "      <td>0.00</td>\n",
       "    </tr>\n",
       "    <tr>\n",
       "      <th>em_acount</th>\n",
       "      <td>0.00</td>\n",
       "      <td>0.00</td>\n",
       "      <td>0.00</td>\n",
       "      <td>0.00</td>\n",
       "      <td>0.00</td>\n",
       "      <td>0.00</td>\n",
       "      <td>0.00</td>\n",
       "      <td>0.00</td>\n",
       "      <td>0.00</td>\n",
       "      <td>0.00</td>\n",
       "      <td>...</td>\n",
       "      <td>0.00</td>\n",
       "      <td>0.00</td>\n",
       "      <td>0.00</td>\n",
       "      <td>0.00</td>\n",
       "      <td>0.00</td>\n",
       "      <td>0.00</td>\n",
       "      <td>0.00</td>\n",
       "      <td>0.00</td>\n",
       "      <td>0.00</td>\n",
       "      <td>0.00</td>\n",
       "    </tr>\n",
       "    <tr>\n",
       "      <th>entry_date</th>\n",
       "      <td>2015-06-18 00:00:00</td>\n",
       "      <td>2017-12-11 00:00:00</td>\n",
       "      <td>2016-09-11 00:00:00</td>\n",
       "      <td>2016-11-28 00:00:00</td>\n",
       "      <td>2015-12-30 00:00:00</td>\n",
       "      <td>2015-05-02 00:00:00</td>\n",
       "      <td>2017-10-07 00:00:00</td>\n",
       "      <td>2015-12-14 00:00:00</td>\n",
       "      <td>2017-10-06 00:00:00</td>\n",
       "      <td>2016-12-10 00:00:00</td>\n",
       "      <td>...</td>\n",
       "      <td>2019-05-31 00:00:00</td>\n",
       "      <td>2019-05-31 00:00:00</td>\n",
       "      <td>2019-05-31 00:00:00</td>\n",
       "      <td>2019-05-31 00:00:00</td>\n",
       "      <td>2019-05-31 00:00:00</td>\n",
       "      <td>2019-05-31 00:00:00</td>\n",
       "      <td>2019-05-31 00:00:00</td>\n",
       "      <td>2019-05-31 00:00:00</td>\n",
       "      <td>2019-05-31 00:00:00</td>\n",
       "      <td>2019-05-31 00:00:00</td>\n",
       "    </tr>\n",
       "    <tr>\n",
       "      <th>entry_channel</th>\n",
       "      <td>KAT</td>\n",
       "      <td>KFA</td>\n",
       "      <td>KAT</td>\n",
       "      <td>KAT</td>\n",
       "      <td>KAT</td>\n",
       "      <td>KAT</td>\n",
       "      <td>KAT</td>\n",
       "      <td>KAT</td>\n",
       "      <td>KFA</td>\n",
       "      <td>KAT</td>\n",
       "      <td>...</td>\n",
       "      <td>XXX</td>\n",
       "      <td>XXX</td>\n",
       "      <td>XXX</td>\n",
       "      <td>XXX</td>\n",
       "      <td>XXX</td>\n",
       "      <td>XXX</td>\n",
       "      <td>XXX</td>\n",
       "      <td>XXX</td>\n",
       "      <td>XXX</td>\n",
       "      <td>XXX</td>\n",
       "    </tr>\n",
       "    <tr>\n",
       "      <th>active_customer</th>\n",
       "      <td>1.00</td>\n",
       "      <td>1.00</td>\n",
       "      <td>0.00</td>\n",
       "      <td>1.00</td>\n",
       "      <td>1.00</td>\n",
       "      <td>1.00</td>\n",
       "      <td>1.00</td>\n",
       "      <td>1.00</td>\n",
       "      <td>0.00</td>\n",
       "      <td>1.00</td>\n",
       "      <td>...</td>\n",
       "      <td>0.00</td>\n",
       "      <td>0.00</td>\n",
       "      <td>0.00</td>\n",
       "      <td>0.00</td>\n",
       "      <td>0.00</td>\n",
       "      <td>0.00</td>\n",
       "      <td>0.00</td>\n",
       "      <td>0.00</td>\n",
       "      <td>0.00</td>\n",
       "      <td>0.00</td>\n",
       "    </tr>\n",
       "    <tr>\n",
       "      <th>segment</th>\n",
       "      <td>02 - PARTICULARES</td>\n",
       "      <td>01 - TOP</td>\n",
       "      <td>02 - PARTICULARES</td>\n",
       "      <td>02 - PARTICULARES</td>\n",
       "      <td>02 - PARTICULARES</td>\n",
       "      <td>02 - PARTICULARES</td>\n",
       "      <td>02 - PARTICULARES</td>\n",
       "      <td>02 - PARTICULARES</td>\n",
       "      <td>02 - PARTICULARES</td>\n",
       "      <td>02 - PARTICULARES</td>\n",
       "      <td>...</td>\n",
       "      <td>04 - NOINFORMADO</td>\n",
       "      <td>04 - NOINFORMADO</td>\n",
       "      <td>04 - NOINFORMADO</td>\n",
       "      <td>04 - NOINFORMADO</td>\n",
       "      <td>04 - NOINFORMADO</td>\n",
       "      <td>04 - NOINFORMADO</td>\n",
       "      <td>04 - NOINFORMADO</td>\n",
       "      <td>04 - NOINFORMADO</td>\n",
       "      <td>04 - NOINFORMADO</td>\n",
       "      <td>04 - NOINFORMADO</td>\n",
       "    </tr>\n",
       "    <tr>\n",
       "      <th>country_id</th>\n",
       "      <td>ES</td>\n",
       "      <td>ES</td>\n",
       "      <td>ES</td>\n",
       "      <td>ES</td>\n",
       "      <td>ES</td>\n",
       "      <td>ES</td>\n",
       "      <td>ES</td>\n",
       "      <td>ES</td>\n",
       "      <td>ES</td>\n",
       "      <td>ES</td>\n",
       "      <td>...</td>\n",
       "      <td>ES</td>\n",
       "      <td>ES</td>\n",
       "      <td>ES</td>\n",
       "      <td>ES</td>\n",
       "      <td>ES</td>\n",
       "      <td>ES</td>\n",
       "      <td>ES</td>\n",
       "      <td>ES</td>\n",
       "      <td>ES</td>\n",
       "      <td>ES</td>\n",
       "    </tr>\n",
       "    <tr>\n",
       "      <th>region_code</th>\n",
       "      <td>28.00</td>\n",
       "      <td>28.00</td>\n",
       "      <td>28.00</td>\n",
       "      <td>28.00</td>\n",
       "      <td>28.00</td>\n",
       "      <td>28.00</td>\n",
       "      <td>28.00</td>\n",
       "      <td>28.00</td>\n",
       "      <td>28.00</td>\n",
       "      <td>28.00</td>\n",
       "      <td>...</td>\n",
       "      <td>45.00</td>\n",
       "      <td>38.00</td>\n",
       "      <td>24.00</td>\n",
       "      <td>28.00</td>\n",
       "      <td>28.00</td>\n",
       "      <td>13.00</td>\n",
       "      <td>41.00</td>\n",
       "      <td>28.00</td>\n",
       "      <td>39.00</td>\n",
       "      <td>21.00</td>\n",
       "    </tr>\n",
       "    <tr>\n",
       "      <th>gender</th>\n",
       "      <td>H</td>\n",
       "      <td>H</td>\n",
       "      <td>H</td>\n",
       "      <td>H</td>\n",
       "      <td>H</td>\n",
       "      <td>H</td>\n",
       "      <td>H</td>\n",
       "      <td>H</td>\n",
       "      <td>V</td>\n",
       "      <td>H</td>\n",
       "      <td>...</td>\n",
       "      <td>V</td>\n",
       "      <td>V</td>\n",
       "      <td>V</td>\n",
       "      <td>H</td>\n",
       "      <td>H</td>\n",
       "      <td>V</td>\n",
       "      <td>H</td>\n",
       "      <td>V</td>\n",
       "      <td>H</td>\n",
       "      <td>V</td>\n",
       "    </tr>\n",
       "    <tr>\n",
       "      <th>age</th>\n",
       "      <td>73.00</td>\n",
       "      <td>74.00</td>\n",
       "      <td>56.00</td>\n",
       "      <td>57.00</td>\n",
       "      <td>45.00</td>\n",
       "      <td>54.00</td>\n",
       "      <td>73.00</td>\n",
       "      <td>53.00</td>\n",
       "      <td>61.00</td>\n",
       "      <td>52.00</td>\n",
       "      <td>...</td>\n",
       "      <td>28.00</td>\n",
       "      <td>39.00</td>\n",
       "      <td>37.00</td>\n",
       "      <td>43.00</td>\n",
       "      <td>86.00</td>\n",
       "      <td>52.00</td>\n",
       "      <td>30.00</td>\n",
       "      <td>21.00</td>\n",
       "      <td>43.00</td>\n",
       "      <td>40.00</td>\n",
       "    </tr>\n",
       "    <tr>\n",
       "      <th>deceased</th>\n",
       "      <td>N</td>\n",
       "      <td>N</td>\n",
       "      <td>N</td>\n",
       "      <td>N</td>\n",
       "      <td>N</td>\n",
       "      <td>N</td>\n",
       "      <td>N</td>\n",
       "      <td>N</td>\n",
       "      <td>N</td>\n",
       "      <td>N</td>\n",
       "      <td>...</td>\n",
       "      <td>N</td>\n",
       "      <td>N</td>\n",
       "      <td>N</td>\n",
       "      <td>N</td>\n",
       "      <td>N</td>\n",
       "      <td>N</td>\n",
       "      <td>N</td>\n",
       "      <td>N</td>\n",
       "      <td>N</td>\n",
       "      <td>N</td>\n",
       "    </tr>\n",
       "    <tr>\n",
       "      <th>salary</th>\n",
       "      <td>246,340.44</td>\n",
       "      <td>214,100.97</td>\n",
       "      <td>381,217.16</td>\n",
       "      <td>146,757.36</td>\n",
       "      <td>199,770.48</td>\n",
       "      <td>78,654.18</td>\n",
       "      <td>373,566.06</td>\n",
       "      <td>62,017.44</td>\n",
       "      <td>111,876.48</td>\n",
       "      <td>46,832.16</td>\n",
       "      <td>...</td>\n",
       "      <td>-999.00</td>\n",
       "      <td>-999.00</td>\n",
       "      <td>-999.00</td>\n",
       "      <td>-999.00</td>\n",
       "      <td>-999.00</td>\n",
       "      <td>-999.00</td>\n",
       "      <td>-999.00</td>\n",
       "      <td>-999.00</td>\n",
       "      <td>-999.00</td>\n",
       "      <td>-999.00</td>\n",
       "    </tr>\n",
       "    <tr>\n",
       "      <th>dif_debit_card</th>\n",
       "      <td>0.00</td>\n",
       "      <td>0.00</td>\n",
       "      <td>0.00</td>\n",
       "      <td>0.00</td>\n",
       "      <td>0.00</td>\n",
       "      <td>0.00</td>\n",
       "      <td>0.00</td>\n",
       "      <td>0.00</td>\n",
       "      <td>0.00</td>\n",
       "      <td>0.00</td>\n",
       "      <td>...</td>\n",
       "      <td>0.00</td>\n",
       "      <td>0.00</td>\n",
       "      <td>0.00</td>\n",
       "      <td>0.00</td>\n",
       "      <td>0.00</td>\n",
       "      <td>0.00</td>\n",
       "      <td>0.00</td>\n",
       "      <td>0.00</td>\n",
       "      <td>0.00</td>\n",
       "      <td>0.00</td>\n",
       "    </tr>\n",
       "    <tr>\n",
       "      <th>dif_em_account_p</th>\n",
       "      <td>0.00</td>\n",
       "      <td>0.00</td>\n",
       "      <td>0.00</td>\n",
       "      <td>0.00</td>\n",
       "      <td>0.00</td>\n",
       "      <td>0.00</td>\n",
       "      <td>0.00</td>\n",
       "      <td>0.00</td>\n",
       "      <td>0.00</td>\n",
       "      <td>0.00</td>\n",
       "      <td>...</td>\n",
       "      <td>0.00</td>\n",
       "      <td>0.00</td>\n",
       "      <td>0.00</td>\n",
       "      <td>0.00</td>\n",
       "      <td>0.00</td>\n",
       "      <td>0.00</td>\n",
       "      <td>0.00</td>\n",
       "      <td>0.00</td>\n",
       "      <td>0.00</td>\n",
       "      <td>0.00</td>\n",
       "    </tr>\n",
       "    <tr>\n",
       "      <th>dif_em_account_pp</th>\n",
       "      <td>0.00</td>\n",
       "      <td>0.00</td>\n",
       "      <td>0.00</td>\n",
       "      <td>0.00</td>\n",
       "      <td>0.00</td>\n",
       "      <td>0.00</td>\n",
       "      <td>0.00</td>\n",
       "      <td>0.00</td>\n",
       "      <td>0.00</td>\n",
       "      <td>0.00</td>\n",
       "      <td>...</td>\n",
       "      <td>0.00</td>\n",
       "      <td>0.00</td>\n",
       "      <td>0.00</td>\n",
       "      <td>0.00</td>\n",
       "      <td>0.00</td>\n",
       "      <td>0.00</td>\n",
       "      <td>0.00</td>\n",
       "      <td>0.00</td>\n",
       "      <td>0.00</td>\n",
       "      <td>0.00</td>\n",
       "    </tr>\n",
       "    <tr>\n",
       "      <th>dif_em_acount</th>\n",
       "      <td>0.00</td>\n",
       "      <td>0.00</td>\n",
       "      <td>0.00</td>\n",
       "      <td>0.00</td>\n",
       "      <td>0.00</td>\n",
       "      <td>0.00</td>\n",
       "      <td>0.00</td>\n",
       "      <td>0.00</td>\n",
       "      <td>0.00</td>\n",
       "      <td>0.00</td>\n",
       "      <td>...</td>\n",
       "      <td>0.00</td>\n",
       "      <td>0.00</td>\n",
       "      <td>0.00</td>\n",
       "      <td>0.00</td>\n",
       "      <td>0.00</td>\n",
       "      <td>0.00</td>\n",
       "      <td>0.00</td>\n",
       "      <td>0.00</td>\n",
       "      <td>0.00</td>\n",
       "      <td>0.00</td>\n",
       "    </tr>\n",
       "    <tr>\n",
       "      <th>dif_emc_account</th>\n",
       "      <td>0.00</td>\n",
       "      <td>0.00</td>\n",
       "      <td>0.00</td>\n",
       "      <td>0.00</td>\n",
       "      <td>0.00</td>\n",
       "      <td>0.00</td>\n",
       "      <td>0.00</td>\n",
       "      <td>0.00</td>\n",
       "      <td>0.00</td>\n",
       "      <td>0.00</td>\n",
       "      <td>...</td>\n",
       "      <td>0.00</td>\n",
       "      <td>0.00</td>\n",
       "      <td>0.00</td>\n",
       "      <td>0.00</td>\n",
       "      <td>0.00</td>\n",
       "      <td>0.00</td>\n",
       "      <td>0.00</td>\n",
       "      <td>0.00</td>\n",
       "      <td>0.00</td>\n",
       "      <td>0.00</td>\n",
       "    </tr>\n",
       "    <tr>\n",
       "      <th>dif_payroll</th>\n",
       "      <td>0.00</td>\n",
       "      <td>0.00</td>\n",
       "      <td>0.00</td>\n",
       "      <td>0.00</td>\n",
       "      <td>0.00</td>\n",
       "      <td>0.00</td>\n",
       "      <td>0.00</td>\n",
       "      <td>0.00</td>\n",
       "      <td>0.00</td>\n",
       "      <td>0.00</td>\n",
       "      <td>...</td>\n",
       "      <td>0.00</td>\n",
       "      <td>0.00</td>\n",
       "      <td>0.00</td>\n",
       "      <td>0.00</td>\n",
       "      <td>0.00</td>\n",
       "      <td>0.00</td>\n",
       "      <td>0.00</td>\n",
       "      <td>0.00</td>\n",
       "      <td>0.00</td>\n",
       "      <td>0.00</td>\n",
       "    </tr>\n",
       "    <tr>\n",
       "      <th>dif_payroll_account</th>\n",
       "      <td>0.00</td>\n",
       "      <td>0.00</td>\n",
       "      <td>0.00</td>\n",
       "      <td>0.00</td>\n",
       "      <td>0.00</td>\n",
       "      <td>0.00</td>\n",
       "      <td>0.00</td>\n",
       "      <td>0.00</td>\n",
       "      <td>0.00</td>\n",
       "      <td>0.00</td>\n",
       "      <td>...</td>\n",
       "      <td>0.00</td>\n",
       "      <td>0.00</td>\n",
       "      <td>0.00</td>\n",
       "      <td>0.00</td>\n",
       "      <td>0.00</td>\n",
       "      <td>0.00</td>\n",
       "      <td>0.00</td>\n",
       "      <td>0.00</td>\n",
       "      <td>0.00</td>\n",
       "      <td>0.00</td>\n",
       "    </tr>\n",
       "    <tr>\n",
       "      <th>dif_funds</th>\n",
       "      <td>0.00</td>\n",
       "      <td>0.00</td>\n",
       "      <td>0.00</td>\n",
       "      <td>0.00</td>\n",
       "      <td>0.00</td>\n",
       "      <td>0.00</td>\n",
       "      <td>0.00</td>\n",
       "      <td>0.00</td>\n",
       "      <td>0.00</td>\n",
       "      <td>0.00</td>\n",
       "      <td>...</td>\n",
       "      <td>0.00</td>\n",
       "      <td>0.00</td>\n",
       "      <td>0.00</td>\n",
       "      <td>0.00</td>\n",
       "      <td>0.00</td>\n",
       "      <td>0.00</td>\n",
       "      <td>0.00</td>\n",
       "      <td>0.00</td>\n",
       "      <td>0.00</td>\n",
       "      <td>0.00</td>\n",
       "    </tr>\n",
       "    <tr>\n",
       "      <th>dif_long_term_deposit</th>\n",
       "      <td>0.00</td>\n",
       "      <td>0.00</td>\n",
       "      <td>0.00</td>\n",
       "      <td>0.00</td>\n",
       "      <td>0.00</td>\n",
       "      <td>0.00</td>\n",
       "      <td>0.00</td>\n",
       "      <td>0.00</td>\n",
       "      <td>0.00</td>\n",
       "      <td>0.00</td>\n",
       "      <td>...</td>\n",
       "      <td>0.00</td>\n",
       "      <td>0.00</td>\n",
       "      <td>0.00</td>\n",
       "      <td>0.00</td>\n",
       "      <td>0.00</td>\n",
       "      <td>0.00</td>\n",
       "      <td>0.00</td>\n",
       "      <td>0.00</td>\n",
       "      <td>0.00</td>\n",
       "      <td>0.00</td>\n",
       "    </tr>\n",
       "    <tr>\n",
       "      <th>dif_mortgage</th>\n",
       "      <td>0.00</td>\n",
       "      <td>0.00</td>\n",
       "      <td>0.00</td>\n",
       "      <td>0.00</td>\n",
       "      <td>0.00</td>\n",
       "      <td>0.00</td>\n",
       "      <td>0.00</td>\n",
       "      <td>0.00</td>\n",
       "      <td>0.00</td>\n",
       "      <td>0.00</td>\n",
       "      <td>...</td>\n",
       "      <td>0.00</td>\n",
       "      <td>0.00</td>\n",
       "      <td>0.00</td>\n",
       "      <td>0.00</td>\n",
       "      <td>0.00</td>\n",
       "      <td>0.00</td>\n",
       "      <td>0.00</td>\n",
       "      <td>0.00</td>\n",
       "      <td>0.00</td>\n",
       "      <td>0.00</td>\n",
       "    </tr>\n",
       "    <tr>\n",
       "      <th>dif_pension_plan</th>\n",
       "      <td>0.00</td>\n",
       "      <td>0.00</td>\n",
       "      <td>0.00</td>\n",
       "      <td>0.00</td>\n",
       "      <td>0.00</td>\n",
       "      <td>0.00</td>\n",
       "      <td>0.00</td>\n",
       "      <td>0.00</td>\n",
       "      <td>0.00</td>\n",
       "      <td>0.00</td>\n",
       "      <td>...</td>\n",
       "      <td>0.00</td>\n",
       "      <td>0.00</td>\n",
       "      <td>0.00</td>\n",
       "      <td>0.00</td>\n",
       "      <td>0.00</td>\n",
       "      <td>0.00</td>\n",
       "      <td>0.00</td>\n",
       "      <td>0.00</td>\n",
       "      <td>0.00</td>\n",
       "      <td>0.00</td>\n",
       "    </tr>\n",
       "    <tr>\n",
       "      <th>dif_securities</th>\n",
       "      <td>0.00</td>\n",
       "      <td>0.00</td>\n",
       "      <td>0.00</td>\n",
       "      <td>0.00</td>\n",
       "      <td>0.00</td>\n",
       "      <td>0.00</td>\n",
       "      <td>0.00</td>\n",
       "      <td>0.00</td>\n",
       "      <td>0.00</td>\n",
       "      <td>0.00</td>\n",
       "      <td>...</td>\n",
       "      <td>0.00</td>\n",
       "      <td>0.00</td>\n",
       "      <td>0.00</td>\n",
       "      <td>0.00</td>\n",
       "      <td>0.00</td>\n",
       "      <td>0.00</td>\n",
       "      <td>0.00</td>\n",
       "      <td>0.00</td>\n",
       "      <td>0.00</td>\n",
       "      <td>0.00</td>\n",
       "    </tr>\n",
       "    <tr>\n",
       "      <th>dif_short_term_deposit</th>\n",
       "      <td>0.00</td>\n",
       "      <td>0.00</td>\n",
       "      <td>0.00</td>\n",
       "      <td>0.00</td>\n",
       "      <td>0.00</td>\n",
       "      <td>0.00</td>\n",
       "      <td>0.00</td>\n",
       "      <td>0.00</td>\n",
       "      <td>0.00</td>\n",
       "      <td>0.00</td>\n",
       "      <td>...</td>\n",
       "      <td>0.00</td>\n",
       "      <td>0.00</td>\n",
       "      <td>0.00</td>\n",
       "      <td>0.00</td>\n",
       "      <td>0.00</td>\n",
       "      <td>0.00</td>\n",
       "      <td>0.00</td>\n",
       "      <td>0.00</td>\n",
       "      <td>0.00</td>\n",
       "      <td>0.00</td>\n",
       "    </tr>\n",
       "    <tr>\n",
       "      <th>dif_loans</th>\n",
       "      <td>0.00</td>\n",
       "      <td>0.00</td>\n",
       "      <td>0.00</td>\n",
       "      <td>0.00</td>\n",
       "      <td>0.00</td>\n",
       "      <td>0.00</td>\n",
       "      <td>0.00</td>\n",
       "      <td>0.00</td>\n",
       "      <td>0.00</td>\n",
       "      <td>0.00</td>\n",
       "      <td>...</td>\n",
       "      <td>0.00</td>\n",
       "      <td>0.00</td>\n",
       "      <td>0.00</td>\n",
       "      <td>0.00</td>\n",
       "      <td>0.00</td>\n",
       "      <td>0.00</td>\n",
       "      <td>0.00</td>\n",
       "      <td>0.00</td>\n",
       "      <td>0.00</td>\n",
       "      <td>0.00</td>\n",
       "    </tr>\n",
       "    <tr>\n",
       "      <th>dif_credit_card</th>\n",
       "      <td>0.00</td>\n",
       "      <td>0.00</td>\n",
       "      <td>0.00</td>\n",
       "      <td>0.00</td>\n",
       "      <td>0.00</td>\n",
       "      <td>0.00</td>\n",
       "      <td>0.00</td>\n",
       "      <td>0.00</td>\n",
       "      <td>0.00</td>\n",
       "      <td>0.00</td>\n",
       "      <td>...</td>\n",
       "      <td>0.00</td>\n",
       "      <td>0.00</td>\n",
       "      <td>0.00</td>\n",
       "      <td>0.00</td>\n",
       "      <td>0.00</td>\n",
       "      <td>0.00</td>\n",
       "      <td>0.00</td>\n",
       "      <td>0.00</td>\n",
       "      <td>0.00</td>\n",
       "      <td>0.00</td>\n",
       "    </tr>\n",
       "    <tr>\n",
       "      <th>mesesAlta</th>\n",
       "      <td>31.38</td>\n",
       "      <td>1.58</td>\n",
       "      <td>16.56</td>\n",
       "      <td>14.00</td>\n",
       "      <td>24.97</td>\n",
       "      <td>32.91</td>\n",
       "      <td>3.71</td>\n",
       "      <td>25.50</td>\n",
       "      <td>3.75</td>\n",
       "      <td>13.60</td>\n",
       "      <td>...</td>\n",
       "      <td>-0.10</td>\n",
       "      <td>-0.10</td>\n",
       "      <td>-0.10</td>\n",
       "      <td>-0.10</td>\n",
       "      <td>-0.10</td>\n",
       "      <td>-0.10</td>\n",
       "      <td>-0.10</td>\n",
       "      <td>-0.10</td>\n",
       "      <td>-0.10</td>\n",
       "      <td>-0.10</td>\n",
       "    </tr>\n",
       "    <tr>\n",
       "      <th>isNewClient</th>\n",
       "      <td>0.00</td>\n",
       "      <td>0.00</td>\n",
       "      <td>0.00</td>\n",
       "      <td>0.00</td>\n",
       "      <td>0.00</td>\n",
       "      <td>0.00</td>\n",
       "      <td>0.00</td>\n",
       "      <td>0.00</td>\n",
       "      <td>0.00</td>\n",
       "      <td>0.00</td>\n",
       "      <td>...</td>\n",
       "      <td>0.00</td>\n",
       "      <td>0.00</td>\n",
       "      <td>0.00</td>\n",
       "      <td>0.00</td>\n",
       "      <td>0.00</td>\n",
       "      <td>0.00</td>\n",
       "      <td>0.00</td>\n",
       "      <td>0.00</td>\n",
       "      <td>0.00</td>\n",
       "      <td>0.00</td>\n",
       "    </tr>\n",
       "    <tr>\n",
       "      <th>isActive</th>\n",
       "      <td>0.00</td>\n",
       "      <td>0.00</td>\n",
       "      <td>0.00</td>\n",
       "      <td>0.00</td>\n",
       "      <td>0.00</td>\n",
       "      <td>0.00</td>\n",
       "      <td>0.00</td>\n",
       "      <td>0.00</td>\n",
       "      <td>0.00</td>\n",
       "      <td>0.00</td>\n",
       "      <td>...</td>\n",
       "      <td>0.00</td>\n",
       "      <td>0.00</td>\n",
       "      <td>0.00</td>\n",
       "      <td>0.00</td>\n",
       "      <td>0.00</td>\n",
       "      <td>0.00</td>\n",
       "      <td>0.00</td>\n",
       "      <td>0.00</td>\n",
       "      <td>0.00</td>\n",
       "      <td>0.00</td>\n",
       "    </tr>\n",
       "    <tr>\n",
       "      <th>Provincia</th>\n",
       "      <td>Madrid</td>\n",
       "      <td>Madrid</td>\n",
       "      <td>Madrid</td>\n",
       "      <td>Madrid</td>\n",
       "      <td>Madrid</td>\n",
       "      <td>Madrid</td>\n",
       "      <td>Madrid</td>\n",
       "      <td>Madrid</td>\n",
       "      <td>Madrid</td>\n",
       "      <td>Madrid</td>\n",
       "      <td>...</td>\n",
       "      <td>Toledo</td>\n",
       "      <td>Santa Cruz de Tenerife</td>\n",
       "      <td>Leon</td>\n",
       "      <td>Madrid</td>\n",
       "      <td>Madrid</td>\n",
       "      <td>Ciudad Real</td>\n",
       "      <td>Sevilla</td>\n",
       "      <td>Madrid</td>\n",
       "      <td>Cantabria</td>\n",
       "      <td>Huelva</td>\n",
       "    </tr>\n",
       "    <tr>\n",
       "      <th>SalaryQtil</th>\n",
       "      <td>4Qtil</td>\n",
       "      <td>4Qtil</td>\n",
       "      <td>4Qtil</td>\n",
       "      <td>4Qtil</td>\n",
       "      <td>4Qtil</td>\n",
       "      <td>2Qtil</td>\n",
       "      <td>4Qtil</td>\n",
       "      <td>2Qtil</td>\n",
       "      <td>3Qtil</td>\n",
       "      <td>1Qtil</td>\n",
       "      <td>...</td>\n",
       "      <td>NOInformado</td>\n",
       "      <td>NOInformado</td>\n",
       "      <td>NOInformado</td>\n",
       "      <td>NOInformado</td>\n",
       "      <td>NOInformado</td>\n",
       "      <td>NOInformado</td>\n",
       "      <td>NOInformado</td>\n",
       "      <td>NOInformado</td>\n",
       "      <td>NOInformado</td>\n",
       "      <td>NOInformado</td>\n",
       "    </tr>\n",
       "    <tr>\n",
       "      <th>totalAssets</th>\n",
       "      <td>0.00</td>\n",
       "      <td>0.00</td>\n",
       "      <td>0.00</td>\n",
       "      <td>0.00</td>\n",
       "      <td>0.00</td>\n",
       "      <td>0.00</td>\n",
       "      <td>0.00</td>\n",
       "      <td>0.00</td>\n",
       "      <td>0.00</td>\n",
       "      <td>0.00</td>\n",
       "      <td>...</td>\n",
       "      <td>0.00</td>\n",
       "      <td>0.00</td>\n",
       "      <td>0.00</td>\n",
       "      <td>0.00</td>\n",
       "      <td>0.00</td>\n",
       "      <td>0.00</td>\n",
       "      <td>0.00</td>\n",
       "      <td>0.00</td>\n",
       "      <td>0.00</td>\n",
       "      <td>0.00</td>\n",
       "    </tr>\n",
       "    <tr>\n",
       "      <th>totalCuentas</th>\n",
       "      <td>0.00</td>\n",
       "      <td>0.00</td>\n",
       "      <td>0.00</td>\n",
       "      <td>0.00</td>\n",
       "      <td>0.00</td>\n",
       "      <td>0.00</td>\n",
       "      <td>0.00</td>\n",
       "      <td>0.00</td>\n",
       "      <td>0.00</td>\n",
       "      <td>0.00</td>\n",
       "      <td>...</td>\n",
       "      <td>0.00</td>\n",
       "      <td>0.00</td>\n",
       "      <td>0.00</td>\n",
       "      <td>0.00</td>\n",
       "      <td>0.00</td>\n",
       "      <td>0.00</td>\n",
       "      <td>0.00</td>\n",
       "      <td>0.00</td>\n",
       "      <td>0.00</td>\n",
       "      <td>0.00</td>\n",
       "    </tr>\n",
       "    <tr>\n",
       "      <th>totalAhorro</th>\n",
       "      <td>0.00</td>\n",
       "      <td>0.00</td>\n",
       "      <td>0.00</td>\n",
       "      <td>0.00</td>\n",
       "      <td>0.00</td>\n",
       "      <td>0.00</td>\n",
       "      <td>0.00</td>\n",
       "      <td>0.00</td>\n",
       "      <td>0.00</td>\n",
       "      <td>0.00</td>\n",
       "      <td>...</td>\n",
       "      <td>0.00</td>\n",
       "      <td>0.00</td>\n",
       "      <td>0.00</td>\n",
       "      <td>0.00</td>\n",
       "      <td>0.00</td>\n",
       "      <td>0.00</td>\n",
       "      <td>0.00</td>\n",
       "      <td>0.00</td>\n",
       "      <td>0.00</td>\n",
       "      <td>0.00</td>\n",
       "    </tr>\n",
       "    <tr>\n",
       "      <th>totalFinanciacion</th>\n",
       "      <td>0.00</td>\n",
       "      <td>0.00</td>\n",
       "      <td>0.00</td>\n",
       "      <td>0.00</td>\n",
       "      <td>0.00</td>\n",
       "      <td>0.00</td>\n",
       "      <td>0.00</td>\n",
       "      <td>0.00</td>\n",
       "      <td>0.00</td>\n",
       "      <td>0.00</td>\n",
       "      <td>...</td>\n",
       "      <td>0.00</td>\n",
       "      <td>0.00</td>\n",
       "      <td>0.00</td>\n",
       "      <td>0.00</td>\n",
       "      <td>0.00</td>\n",
       "      <td>0.00</td>\n",
       "      <td>0.00</td>\n",
       "      <td>0.00</td>\n",
       "      <td>0.00</td>\n",
       "      <td>0.00</td>\n",
       "    </tr>\n",
       "    <tr>\n",
       "      <th>totalIngresos</th>\n",
       "      <td>0.00</td>\n",
       "      <td>0.00</td>\n",
       "      <td>0.00</td>\n",
       "      <td>0.00</td>\n",
       "      <td>0.00</td>\n",
       "      <td>0.00</td>\n",
       "      <td>0.00</td>\n",
       "      <td>0.00</td>\n",
       "      <td>0.00</td>\n",
       "      <td>0.00</td>\n",
       "      <td>...</td>\n",
       "      <td>0.00</td>\n",
       "      <td>0.00</td>\n",
       "      <td>0.00</td>\n",
       "      <td>0.00</td>\n",
       "      <td>0.00</td>\n",
       "      <td>0.00</td>\n",
       "      <td>0.00</td>\n",
       "      <td>0.00</td>\n",
       "      <td>0.00</td>\n",
       "      <td>0.00</td>\n",
       "    </tr>\n",
       "    <tr>\n",
       "      <th>totalBeneficio</th>\n",
       "      <td>0.00</td>\n",
       "      <td>10.00</td>\n",
       "      <td>60.00</td>\n",
       "      <td>0.00</td>\n",
       "      <td>140.00</td>\n",
       "      <td>60.00</td>\n",
       "      <td>30.00</td>\n",
       "      <td>0.00</td>\n",
       "      <td>0.00</td>\n",
       "      <td>0.00</td>\n",
       "      <td>...</td>\n",
       "      <td>0.00</td>\n",
       "      <td>0.00</td>\n",
       "      <td>0.00</td>\n",
       "      <td>0.00</td>\n",
       "      <td>0.00</td>\n",
       "      <td>0.00</td>\n",
       "      <td>0.00</td>\n",
       "      <td>0.00</td>\n",
       "      <td>0.00</td>\n",
       "      <td>0.00</td>\n",
       "    </tr>\n",
       "    <tr>\n",
       "      <th>hayAlta</th>\n",
       "      <td>0.00</td>\n",
       "      <td>0.00</td>\n",
       "      <td>0.00</td>\n",
       "      <td>0.00</td>\n",
       "      <td>0.00</td>\n",
       "      <td>0.00</td>\n",
       "      <td>0.00</td>\n",
       "      <td>0.00</td>\n",
       "      <td>0.00</td>\n",
       "      <td>0.00</td>\n",
       "      <td>...</td>\n",
       "      <td>0.00</td>\n",
       "      <td>0.00</td>\n",
       "      <td>0.00</td>\n",
       "      <td>0.00</td>\n",
       "      <td>0.00</td>\n",
       "      <td>0.00</td>\n",
       "      <td>0.00</td>\n",
       "      <td>0.00</td>\n",
       "      <td>0.00</td>\n",
       "      <td>0.00</td>\n",
       "    </tr>\n",
       "    <tr>\n",
       "      <th>diasDesdeUltimaAlta</th>\n",
       "      <td>1 days 00:00:00</td>\n",
       "      <td>1 days 00:00:00</td>\n",
       "      <td>1 days 00:00:00</td>\n",
       "      <td>1 days 00:00:00</td>\n",
       "      <td>1 days 00:00:00</td>\n",
       "      <td>1 days 00:00:00</td>\n",
       "      <td>1 days 00:00:00</td>\n",
       "      <td>1 days 00:00:00</td>\n",
       "      <td>1 days 00:00:00</td>\n",
       "      <td>1 days 00:00:00</td>\n",
       "      <td>...</td>\n",
       "      <td>1 days 00:00:00</td>\n",
       "      <td>1 days 00:00:00</td>\n",
       "      <td>1 days 00:00:00</td>\n",
       "      <td>1 days 00:00:00</td>\n",
       "      <td>1 days 00:00:00</td>\n",
       "      <td>1 days 00:00:00</td>\n",
       "      <td>1 days 00:00:00</td>\n",
       "      <td>1 days 00:00:00</td>\n",
       "      <td>1 days 00:00:00</td>\n",
       "      <td>1 days 00:00:00</td>\n",
       "    </tr>\n",
       "    <tr>\n",
       "      <th>diasDesdeUltimaAltaInt</th>\n",
       "      <td>1.00</td>\n",
       "      <td>1.00</td>\n",
       "      <td>1.00</td>\n",
       "      <td>1.00</td>\n",
       "      <td>1.00</td>\n",
       "      <td>1.00</td>\n",
       "      <td>1.00</td>\n",
       "      <td>1.00</td>\n",
       "      <td>1.00</td>\n",
       "      <td>1.00</td>\n",
       "      <td>...</td>\n",
       "      <td>1.00</td>\n",
       "      <td>1.00</td>\n",
       "      <td>1.00</td>\n",
       "      <td>1.00</td>\n",
       "      <td>1.00</td>\n",
       "      <td>1.00</td>\n",
       "      <td>1.00</td>\n",
       "      <td>1.00</td>\n",
       "      <td>1.00</td>\n",
       "      <td>1.00</td>\n",
       "    </tr>\n",
       "    <tr>\n",
       "      <th>hayBaja</th>\n",
       "      <td>0.00</td>\n",
       "      <td>0.00</td>\n",
       "      <td>0.00</td>\n",
       "      <td>0.00</td>\n",
       "      <td>0.00</td>\n",
       "      <td>0.00</td>\n",
       "      <td>0.00</td>\n",
       "      <td>0.00</td>\n",
       "      <td>0.00</td>\n",
       "      <td>0.00</td>\n",
       "      <td>...</td>\n",
       "      <td>0.00</td>\n",
       "      <td>0.00</td>\n",
       "      <td>0.00</td>\n",
       "      <td>0.00</td>\n",
       "      <td>0.00</td>\n",
       "      <td>0.00</td>\n",
       "      <td>0.00</td>\n",
       "      <td>0.00</td>\n",
       "      <td>0.00</td>\n",
       "      <td>0.00</td>\n",
       "    </tr>\n",
       "    <tr>\n",
       "      <th>diasDesdeUltimaBaja</th>\n",
       "      <td>1 days 00:00:00</td>\n",
       "      <td>1 days 00:00:00</td>\n",
       "      <td>1 days 00:00:00</td>\n",
       "      <td>1 days 00:00:00</td>\n",
       "      <td>1 days 00:00:00</td>\n",
       "      <td>1 days 00:00:00</td>\n",
       "      <td>1 days 00:00:00</td>\n",
       "      <td>1 days 00:00:00</td>\n",
       "      <td>1 days 00:00:00</td>\n",
       "      <td>1 days 00:00:00</td>\n",
       "      <td>...</td>\n",
       "      <td>1 days 00:00:00</td>\n",
       "      <td>1 days 00:00:00</td>\n",
       "      <td>1 days 00:00:00</td>\n",
       "      <td>1 days 00:00:00</td>\n",
       "      <td>1 days 00:00:00</td>\n",
       "      <td>1 days 00:00:00</td>\n",
       "      <td>1 days 00:00:00</td>\n",
       "      <td>1 days 00:00:00</td>\n",
       "      <td>1 days 00:00:00</td>\n",
       "      <td>1 days 00:00:00</td>\n",
       "    </tr>\n",
       "    <tr>\n",
       "      <th>diasDesdeUltimaBajaInt</th>\n",
       "      <td>1.00</td>\n",
       "      <td>1.00</td>\n",
       "      <td>1.00</td>\n",
       "      <td>1.00</td>\n",
       "      <td>1.00</td>\n",
       "      <td>1.00</td>\n",
       "      <td>1.00</td>\n",
       "      <td>1.00</td>\n",
       "      <td>1.00</td>\n",
       "      <td>1.00</td>\n",
       "      <td>...</td>\n",
       "      <td>1.00</td>\n",
       "      <td>1.00</td>\n",
       "      <td>1.00</td>\n",
       "      <td>1.00</td>\n",
       "      <td>1.00</td>\n",
       "      <td>1.00</td>\n",
       "      <td>1.00</td>\n",
       "      <td>1.00</td>\n",
       "      <td>1.00</td>\n",
       "      <td>1.00</td>\n",
       "    </tr>\n",
       "  </tbody>\n",
       "</table>\n",
       "<p>59 rows × 1048698 columns</p>\n",
       "</div>"
      ],
      "text/plain": [
       "                                    10                   35       \\\n",
       "pk_partition            2018-01-28 00:00:00  2018-01-28 00:00:00   \n",
       "pk_cid                                18956                25612   \n",
       "short_term_deposit                     0.00                 0.00   \n",
       "loans                                  0.00                 0.00   \n",
       "mortgage                               0.00                 0.00   \n",
       "funds                                  0.00                 0.00   \n",
       "securities                             0.00                 0.00   \n",
       "long_term_deposit                      0.00                 0.00   \n",
       "em_account_pp                          0.00                 0.00   \n",
       "credit_card                            0.00                 0.00   \n",
       "payroll                                0.00                 0.00   \n",
       "pension_plan                           0.00                 0.00   \n",
       "payroll_account                        0.00                 0.00   \n",
       "emc_account                            0.00                 0.00   \n",
       "debit_card                             0.00                 0.00   \n",
       "em_account_p                           0.00                 0.00   \n",
       "em_acount                              0.00                 0.00   \n",
       "entry_date              2015-06-18 00:00:00  2017-12-11 00:00:00   \n",
       "entry_channel                           KAT                  KFA   \n",
       "active_customer                        1.00                 1.00   \n",
       "segment                   02 - PARTICULARES             01 - TOP   \n",
       "country_id                               ES                   ES   \n",
       "region_code                           28.00                28.00   \n",
       "gender                                    H                    H   \n",
       "age                                   73.00                74.00   \n",
       "deceased                                  N                    N   \n",
       "salary                           246,340.44           214,100.97   \n",
       "dif_debit_card                         0.00                 0.00   \n",
       "dif_em_account_p                       0.00                 0.00   \n",
       "dif_em_account_pp                      0.00                 0.00   \n",
       "dif_em_acount                          0.00                 0.00   \n",
       "dif_emc_account                        0.00                 0.00   \n",
       "dif_payroll                            0.00                 0.00   \n",
       "dif_payroll_account                    0.00                 0.00   \n",
       "dif_funds                              0.00                 0.00   \n",
       "dif_long_term_deposit                  0.00                 0.00   \n",
       "dif_mortgage                           0.00                 0.00   \n",
       "dif_pension_plan                       0.00                 0.00   \n",
       "dif_securities                         0.00                 0.00   \n",
       "dif_short_term_deposit                 0.00                 0.00   \n",
       "dif_loans                              0.00                 0.00   \n",
       "dif_credit_card                        0.00                 0.00   \n",
       "mesesAlta                             31.38                 1.58   \n",
       "isNewClient                            0.00                 0.00   \n",
       "isActive                               0.00                 0.00   \n",
       "Provincia                            Madrid               Madrid   \n",
       "SalaryQtil                            4Qtil                4Qtil   \n",
       "totalAssets                            0.00                 0.00   \n",
       "totalCuentas                           0.00                 0.00   \n",
       "totalAhorro                            0.00                 0.00   \n",
       "totalFinanciacion                      0.00                 0.00   \n",
       "totalIngresos                          0.00                 0.00   \n",
       "totalBeneficio                         0.00                10.00   \n",
       "hayAlta                                0.00                 0.00   \n",
       "diasDesdeUltimaAlta         1 days 00:00:00      1 days 00:00:00   \n",
       "diasDesdeUltimaAltaInt                 1.00                 1.00   \n",
       "hayBaja                                0.00                 0.00   \n",
       "diasDesdeUltimaBaja         1 days 00:00:00      1 days 00:00:00   \n",
       "diasDesdeUltimaBajaInt                 1.00                 1.00   \n",
       "\n",
       "                                    43                   50       \\\n",
       "pk_partition            2018-01-28 00:00:00  2018-01-28 00:00:00   \n",
       "pk_cid                                29896                31512   \n",
       "short_term_deposit                     0.00                 0.00   \n",
       "loans                                  0.00                 0.00   \n",
       "mortgage                               0.00                 0.00   \n",
       "funds                                  0.00                 0.00   \n",
       "securities                             0.00                 0.00   \n",
       "long_term_deposit                      0.00                 0.00   \n",
       "em_account_pp                          0.00                 0.00   \n",
       "credit_card                            0.00                 0.00   \n",
       "payroll                                0.00                 0.00   \n",
       "pension_plan                           0.00                 0.00   \n",
       "payroll_account                        0.00                 0.00   \n",
       "emc_account                            0.00                 0.00   \n",
       "debit_card                             0.00                 0.00   \n",
       "em_account_p                           0.00                 0.00   \n",
       "em_acount                              0.00                 0.00   \n",
       "entry_date              2016-09-11 00:00:00  2016-11-28 00:00:00   \n",
       "entry_channel                           KAT                  KAT   \n",
       "active_customer                        0.00                 1.00   \n",
       "segment                   02 - PARTICULARES    02 - PARTICULARES   \n",
       "country_id                               ES                   ES   \n",
       "region_code                           28.00                28.00   \n",
       "gender                                    H                    H   \n",
       "age                                   56.00                57.00   \n",
       "deceased                                  N                    N   \n",
       "salary                           381,217.16           146,757.36   \n",
       "dif_debit_card                         0.00                 0.00   \n",
       "dif_em_account_p                       0.00                 0.00   \n",
       "dif_em_account_pp                      0.00                 0.00   \n",
       "dif_em_acount                          0.00                 0.00   \n",
       "dif_emc_account                        0.00                 0.00   \n",
       "dif_payroll                            0.00                 0.00   \n",
       "dif_payroll_account                    0.00                 0.00   \n",
       "dif_funds                              0.00                 0.00   \n",
       "dif_long_term_deposit                  0.00                 0.00   \n",
       "dif_mortgage                           0.00                 0.00   \n",
       "dif_pension_plan                       0.00                 0.00   \n",
       "dif_securities                         0.00                 0.00   \n",
       "dif_short_term_deposit                 0.00                 0.00   \n",
       "dif_loans                              0.00                 0.00   \n",
       "dif_credit_card                        0.00                 0.00   \n",
       "mesesAlta                             16.56                14.00   \n",
       "isNewClient                            0.00                 0.00   \n",
       "isActive                               0.00                 0.00   \n",
       "Provincia                            Madrid               Madrid   \n",
       "SalaryQtil                            4Qtil                4Qtil   \n",
       "totalAssets                            0.00                 0.00   \n",
       "totalCuentas                           0.00                 0.00   \n",
       "totalAhorro                            0.00                 0.00   \n",
       "totalFinanciacion                      0.00                 0.00   \n",
       "totalIngresos                          0.00                 0.00   \n",
       "totalBeneficio                        60.00                 0.00   \n",
       "hayAlta                                0.00                 0.00   \n",
       "diasDesdeUltimaAlta         1 days 00:00:00      1 days 00:00:00   \n",
       "diasDesdeUltimaAltaInt                 1.00                 1.00   \n",
       "hayBaja                                0.00                 0.00   \n",
       "diasDesdeUltimaBaja         1 days 00:00:00      1 days 00:00:00   \n",
       "diasDesdeUltimaBajaInt                 1.00                 1.00   \n",
       "\n",
       "                                    72                   107      \\\n",
       "pk_partition            2018-01-28 00:00:00  2018-01-28 00:00:00   \n",
       "pk_cid                                35849                44949   \n",
       "short_term_deposit                     0.00                 0.00   \n",
       "loans                                  0.00                 0.00   \n",
       "mortgage                               0.00                 0.00   \n",
       "funds                                  0.00                 0.00   \n",
       "securities                             0.00                 0.00   \n",
       "long_term_deposit                      0.00                 0.00   \n",
       "em_account_pp                          0.00                 0.00   \n",
       "credit_card                            0.00                 0.00   \n",
       "payroll                                0.00                 0.00   \n",
       "pension_plan                           0.00                 0.00   \n",
       "payroll_account                        0.00                 0.00   \n",
       "emc_account                            0.00                 0.00   \n",
       "debit_card                             0.00                 0.00   \n",
       "em_account_p                           0.00                 0.00   \n",
       "em_acount                              0.00                 0.00   \n",
       "entry_date              2015-12-30 00:00:00  2015-05-02 00:00:00   \n",
       "entry_channel                           KAT                  KAT   \n",
       "active_customer                        1.00                 1.00   \n",
       "segment                   02 - PARTICULARES    02 - PARTICULARES   \n",
       "country_id                               ES                   ES   \n",
       "region_code                           28.00                28.00   \n",
       "gender                                    H                    H   \n",
       "age                                   45.00                54.00   \n",
       "deceased                                  N                    N   \n",
       "salary                           199,770.48            78,654.18   \n",
       "dif_debit_card                         0.00                 0.00   \n",
       "dif_em_account_p                       0.00                 0.00   \n",
       "dif_em_account_pp                      0.00                 0.00   \n",
       "dif_em_acount                          0.00                 0.00   \n",
       "dif_emc_account                        0.00                 0.00   \n",
       "dif_payroll                            0.00                 0.00   \n",
       "dif_payroll_account                    0.00                 0.00   \n",
       "dif_funds                              0.00                 0.00   \n",
       "dif_long_term_deposit                  0.00                 0.00   \n",
       "dif_mortgage                           0.00                 0.00   \n",
       "dif_pension_plan                       0.00                 0.00   \n",
       "dif_securities                         0.00                 0.00   \n",
       "dif_short_term_deposit                 0.00                 0.00   \n",
       "dif_loans                              0.00                 0.00   \n",
       "dif_credit_card                        0.00                 0.00   \n",
       "mesesAlta                             24.97                32.91   \n",
       "isNewClient                            0.00                 0.00   \n",
       "isActive                               0.00                 0.00   \n",
       "Provincia                            Madrid               Madrid   \n",
       "SalaryQtil                            4Qtil                2Qtil   \n",
       "totalAssets                            0.00                 0.00   \n",
       "totalCuentas                           0.00                 0.00   \n",
       "totalAhorro                            0.00                 0.00   \n",
       "totalFinanciacion                      0.00                 0.00   \n",
       "totalIngresos                          0.00                 0.00   \n",
       "totalBeneficio                       140.00                60.00   \n",
       "hayAlta                                0.00                 0.00   \n",
       "diasDesdeUltimaAlta         1 days 00:00:00      1 days 00:00:00   \n",
       "diasDesdeUltimaAltaInt                 1.00                 1.00   \n",
       "hayBaja                                0.00                 0.00   \n",
       "diasDesdeUltimaBaja         1 days 00:00:00      1 days 00:00:00   \n",
       "diasDesdeUltimaBajaInt                 1.00                 1.00   \n",
       "\n",
       "                                    121                  145      \\\n",
       "pk_partition            2018-01-28 00:00:00  2018-01-28 00:00:00   \n",
       "pk_cid                                46823                53836   \n",
       "short_term_deposit                     0.00                 0.00   \n",
       "loans                                  0.00                 0.00   \n",
       "mortgage                               0.00                 0.00   \n",
       "funds                                  0.00                 0.00   \n",
       "securities                             0.00                 0.00   \n",
       "long_term_deposit                      0.00                 0.00   \n",
       "em_account_pp                          0.00                 0.00   \n",
       "credit_card                            0.00                 0.00   \n",
       "payroll                                0.00                 0.00   \n",
       "pension_plan                           0.00                 0.00   \n",
       "payroll_account                        0.00                 0.00   \n",
       "emc_account                            0.00                 0.00   \n",
       "debit_card                             0.00                 0.00   \n",
       "em_account_p                           0.00                 0.00   \n",
       "em_acount                              0.00                 0.00   \n",
       "entry_date              2017-10-07 00:00:00  2015-12-14 00:00:00   \n",
       "entry_channel                           KAT                  KAT   \n",
       "active_customer                        1.00                 1.00   \n",
       "segment                   02 - PARTICULARES    02 - PARTICULARES   \n",
       "country_id                               ES                   ES   \n",
       "region_code                           28.00                28.00   \n",
       "gender                                    H                    H   \n",
       "age                                   73.00                53.00   \n",
       "deceased                                  N                    N   \n",
       "salary                           373,566.06            62,017.44   \n",
       "dif_debit_card                         0.00                 0.00   \n",
       "dif_em_account_p                       0.00                 0.00   \n",
       "dif_em_account_pp                      0.00                 0.00   \n",
       "dif_em_acount                          0.00                 0.00   \n",
       "dif_emc_account                        0.00                 0.00   \n",
       "dif_payroll                            0.00                 0.00   \n",
       "dif_payroll_account                    0.00                 0.00   \n",
       "dif_funds                              0.00                 0.00   \n",
       "dif_long_term_deposit                  0.00                 0.00   \n",
       "dif_mortgage                           0.00                 0.00   \n",
       "dif_pension_plan                       0.00                 0.00   \n",
       "dif_securities                         0.00                 0.00   \n",
       "dif_short_term_deposit                 0.00                 0.00   \n",
       "dif_loans                              0.00                 0.00   \n",
       "dif_credit_card                        0.00                 0.00   \n",
       "mesesAlta                              3.71                25.50   \n",
       "isNewClient                            0.00                 0.00   \n",
       "isActive                               0.00                 0.00   \n",
       "Provincia                            Madrid               Madrid   \n",
       "SalaryQtil                            4Qtil                2Qtil   \n",
       "totalAssets                            0.00                 0.00   \n",
       "totalCuentas                           0.00                 0.00   \n",
       "totalAhorro                            0.00                 0.00   \n",
       "totalFinanciacion                      0.00                 0.00   \n",
       "totalIngresos                          0.00                 0.00   \n",
       "totalBeneficio                        30.00                 0.00   \n",
       "hayAlta                                0.00                 0.00   \n",
       "diasDesdeUltimaAlta         1 days 00:00:00      1 days 00:00:00   \n",
       "diasDesdeUltimaAltaInt                 1.00                 1.00   \n",
       "hayBaja                                0.00                 0.00   \n",
       "diasDesdeUltimaBaja         1 days 00:00:00      1 days 00:00:00   \n",
       "diasDesdeUltimaBajaInt                 1.00                 1.00   \n",
       "\n",
       "                                    177                  186      ...  \\\n",
       "pk_partition            2018-01-28 00:00:00  2018-01-28 00:00:00  ...   \n",
       "pk_cid                                63478                65506  ...   \n",
       "short_term_deposit                     0.00                 0.00  ...   \n",
       "loans                                  0.00                 0.00  ...   \n",
       "mortgage                               0.00                 0.00  ...   \n",
       "funds                                  0.00                 0.00  ...   \n",
       "securities                             0.00                 0.00  ...   \n",
       "long_term_deposit                      0.00                 0.00  ...   \n",
       "em_account_pp                          0.00                 0.00  ...   \n",
       "credit_card                            0.00                 0.00  ...   \n",
       "payroll                                0.00                 0.00  ...   \n",
       "pension_plan                           0.00                 0.00  ...   \n",
       "payroll_account                        0.00                 0.00  ...   \n",
       "emc_account                            0.00                 0.00  ...   \n",
       "debit_card                             0.00                 0.00  ...   \n",
       "em_account_p                           0.00                 0.00  ...   \n",
       "em_acount                              0.00                 0.00  ...   \n",
       "entry_date              2017-10-06 00:00:00  2016-12-10 00:00:00  ...   \n",
       "entry_channel                           KFA                  KAT  ...   \n",
       "active_customer                        0.00                 1.00  ...   \n",
       "segment                   02 - PARTICULARES    02 - PARTICULARES  ...   \n",
       "country_id                               ES                   ES  ...   \n",
       "region_code                           28.00                28.00  ...   \n",
       "gender                                    V                    H  ...   \n",
       "age                                   61.00                52.00  ...   \n",
       "deceased                                  N                    N  ...   \n",
       "salary                           111,876.48            46,832.16  ...   \n",
       "dif_debit_card                         0.00                 0.00  ...   \n",
       "dif_em_account_p                       0.00                 0.00  ...   \n",
       "dif_em_account_pp                      0.00                 0.00  ...   \n",
       "dif_em_acount                          0.00                 0.00  ...   \n",
       "dif_emc_account                        0.00                 0.00  ...   \n",
       "dif_payroll                            0.00                 0.00  ...   \n",
       "dif_payroll_account                    0.00                 0.00  ...   \n",
       "dif_funds                              0.00                 0.00  ...   \n",
       "dif_long_term_deposit                  0.00                 0.00  ...   \n",
       "dif_mortgage                           0.00                 0.00  ...   \n",
       "dif_pension_plan                       0.00                 0.00  ...   \n",
       "dif_securities                         0.00                 0.00  ...   \n",
       "dif_short_term_deposit                 0.00                 0.00  ...   \n",
       "dif_loans                              0.00                 0.00  ...   \n",
       "dif_credit_card                        0.00                 0.00  ...   \n",
       "mesesAlta                              3.75                13.60  ...   \n",
       "isNewClient                            0.00                 0.00  ...   \n",
       "isActive                               0.00                 0.00  ...   \n",
       "Provincia                            Madrid               Madrid  ...   \n",
       "SalaryQtil                            3Qtil                1Qtil  ...   \n",
       "totalAssets                            0.00                 0.00  ...   \n",
       "totalCuentas                           0.00                 0.00  ...   \n",
       "totalAhorro                            0.00                 0.00  ...   \n",
       "totalFinanciacion                      0.00                 0.00  ...   \n",
       "totalIngresos                          0.00                 0.00  ...   \n",
       "totalBeneficio                         0.00                 0.00  ...   \n",
       "hayAlta                                0.00                 0.00  ...   \n",
       "diasDesdeUltimaAlta         1 days 00:00:00      1 days 00:00:00  ...   \n",
       "diasDesdeUltimaAltaInt                 1.00                 1.00  ...   \n",
       "hayBaja                                0.00                 0.00  ...   \n",
       "diasDesdeUltimaBaja         1 days 00:00:00      1 days 00:00:00  ...   \n",
       "diasDesdeUltimaBajaInt                 1.00                 1.00  ...   \n",
       "\n",
       "                                    7530905                 7530906  \\\n",
       "pk_partition            2019-05-28 00:00:00     2019-05-28 00:00:00   \n",
       "pk_cid                              1553679                 1553680   \n",
       "short_term_deposit                     0.00                    0.00   \n",
       "loans                                  0.00                    0.00   \n",
       "mortgage                               0.00                    0.00   \n",
       "funds                                  0.00                    0.00   \n",
       "securities                             0.00                    0.00   \n",
       "long_term_deposit                      0.00                    0.00   \n",
       "em_account_pp                          0.00                    0.00   \n",
       "credit_card                            0.00                    0.00   \n",
       "payroll                                0.00                    0.00   \n",
       "pension_plan                           0.00                    0.00   \n",
       "payroll_account                        0.00                    0.00   \n",
       "emc_account                            0.00                    0.00   \n",
       "debit_card                             0.00                    0.00   \n",
       "em_account_p                           0.00                    0.00   \n",
       "em_acount                              0.00                    0.00   \n",
       "entry_date              2019-05-31 00:00:00     2019-05-31 00:00:00   \n",
       "entry_channel                           XXX                     XXX   \n",
       "active_customer                        0.00                    0.00   \n",
       "segment                    04 - NOINFORMADO        04 - NOINFORMADO   \n",
       "country_id                               ES                      ES   \n",
       "region_code                           45.00                   38.00   \n",
       "gender                                    V                       V   \n",
       "age                                   28.00                   39.00   \n",
       "deceased                                  N                       N   \n",
       "salary                              -999.00                 -999.00   \n",
       "dif_debit_card                         0.00                    0.00   \n",
       "dif_em_account_p                       0.00                    0.00   \n",
       "dif_em_account_pp                      0.00                    0.00   \n",
       "dif_em_acount                          0.00                    0.00   \n",
       "dif_emc_account                        0.00                    0.00   \n",
       "dif_payroll                            0.00                    0.00   \n",
       "dif_payroll_account                    0.00                    0.00   \n",
       "dif_funds                              0.00                    0.00   \n",
       "dif_long_term_deposit                  0.00                    0.00   \n",
       "dif_mortgage                           0.00                    0.00   \n",
       "dif_pension_plan                       0.00                    0.00   \n",
       "dif_securities                         0.00                    0.00   \n",
       "dif_short_term_deposit                 0.00                    0.00   \n",
       "dif_loans                              0.00                    0.00   \n",
       "dif_credit_card                        0.00                    0.00   \n",
       "mesesAlta                             -0.10                   -0.10   \n",
       "isNewClient                            0.00                    0.00   \n",
       "isActive                               0.00                    0.00   \n",
       "Provincia                            Toledo  Santa Cruz de Tenerife   \n",
       "SalaryQtil                      NOInformado             NOInformado   \n",
       "totalAssets                            0.00                    0.00   \n",
       "totalCuentas                           0.00                    0.00   \n",
       "totalAhorro                            0.00                    0.00   \n",
       "totalFinanciacion                      0.00                    0.00   \n",
       "totalIngresos                          0.00                    0.00   \n",
       "totalBeneficio                         0.00                    0.00   \n",
       "hayAlta                                0.00                    0.00   \n",
       "diasDesdeUltimaAlta         1 days 00:00:00         1 days 00:00:00   \n",
       "diasDesdeUltimaAltaInt                 1.00                    1.00   \n",
       "hayBaja                                0.00                    0.00   \n",
       "diasDesdeUltimaBaja         1 days 00:00:00         1 days 00:00:00   \n",
       "diasDesdeUltimaBajaInt                 1.00                    1.00   \n",
       "\n",
       "                                    7530907              7530908  \\\n",
       "pk_partition            2019-05-28 00:00:00  2019-05-28 00:00:00   \n",
       "pk_cid                              1553681              1553683   \n",
       "short_term_deposit                     0.00                 0.00   \n",
       "loans                                  0.00                 0.00   \n",
       "mortgage                               0.00                 0.00   \n",
       "funds                                  0.00                 0.00   \n",
       "securities                             0.00                 0.00   \n",
       "long_term_deposit                      0.00                 0.00   \n",
       "em_account_pp                          0.00                 0.00   \n",
       "credit_card                            0.00                 0.00   \n",
       "payroll                                0.00                 0.00   \n",
       "pension_plan                           0.00                 0.00   \n",
       "payroll_account                        0.00                 0.00   \n",
       "emc_account                            0.00                 0.00   \n",
       "debit_card                             0.00                 0.00   \n",
       "em_account_p                           0.00                 0.00   \n",
       "em_acount                              0.00                 0.00   \n",
       "entry_date              2019-05-31 00:00:00  2019-05-31 00:00:00   \n",
       "entry_channel                           XXX                  XXX   \n",
       "active_customer                        0.00                 0.00   \n",
       "segment                    04 - NOINFORMADO     04 - NOINFORMADO   \n",
       "country_id                               ES                   ES   \n",
       "region_code                           24.00                28.00   \n",
       "gender                                    V                    H   \n",
       "age                                   37.00                43.00   \n",
       "deceased                                  N                    N   \n",
       "salary                              -999.00              -999.00   \n",
       "dif_debit_card                         0.00                 0.00   \n",
       "dif_em_account_p                       0.00                 0.00   \n",
       "dif_em_account_pp                      0.00                 0.00   \n",
       "dif_em_acount                          0.00                 0.00   \n",
       "dif_emc_account                        0.00                 0.00   \n",
       "dif_payroll                            0.00                 0.00   \n",
       "dif_payroll_account                    0.00                 0.00   \n",
       "dif_funds                              0.00                 0.00   \n",
       "dif_long_term_deposit                  0.00                 0.00   \n",
       "dif_mortgage                           0.00                 0.00   \n",
       "dif_pension_plan                       0.00                 0.00   \n",
       "dif_securities                         0.00                 0.00   \n",
       "dif_short_term_deposit                 0.00                 0.00   \n",
       "dif_loans                              0.00                 0.00   \n",
       "dif_credit_card                        0.00                 0.00   \n",
       "mesesAlta                             -0.10                -0.10   \n",
       "isNewClient                            0.00                 0.00   \n",
       "isActive                               0.00                 0.00   \n",
       "Provincia                              Leon               Madrid   \n",
       "SalaryQtil                      NOInformado          NOInformado   \n",
       "totalAssets                            0.00                 0.00   \n",
       "totalCuentas                           0.00                 0.00   \n",
       "totalAhorro                            0.00                 0.00   \n",
       "totalFinanciacion                      0.00                 0.00   \n",
       "totalIngresos                          0.00                 0.00   \n",
       "totalBeneficio                         0.00                 0.00   \n",
       "hayAlta                                0.00                 0.00   \n",
       "diasDesdeUltimaAlta         1 days 00:00:00      1 days 00:00:00   \n",
       "diasDesdeUltimaAltaInt                 1.00                 1.00   \n",
       "hayBaja                                0.00                 0.00   \n",
       "diasDesdeUltimaBaja         1 days 00:00:00      1 days 00:00:00   \n",
       "diasDesdeUltimaBajaInt                 1.00                 1.00   \n",
       "\n",
       "                                    7530909              7530910  \\\n",
       "pk_partition            2019-05-28 00:00:00  2019-05-28 00:00:00   \n",
       "pk_cid                              1553684              1553685   \n",
       "short_term_deposit                     0.00                 0.00   \n",
       "loans                                  0.00                 0.00   \n",
       "mortgage                               0.00                 0.00   \n",
       "funds                                  0.00                 0.00   \n",
       "securities                             0.00                 0.00   \n",
       "long_term_deposit                      0.00                 0.00   \n",
       "em_account_pp                          0.00                 0.00   \n",
       "credit_card                            0.00                 0.00   \n",
       "payroll                                0.00                 0.00   \n",
       "pension_plan                           0.00                 0.00   \n",
       "payroll_account                        0.00                 0.00   \n",
       "emc_account                            0.00                 0.00   \n",
       "debit_card                             0.00                 0.00   \n",
       "em_account_p                           0.00                 0.00   \n",
       "em_acount                              0.00                 0.00   \n",
       "entry_date              2019-05-31 00:00:00  2019-05-31 00:00:00   \n",
       "entry_channel                           XXX                  XXX   \n",
       "active_customer                        0.00                 0.00   \n",
       "segment                    04 - NOINFORMADO     04 - NOINFORMADO   \n",
       "country_id                               ES                   ES   \n",
       "region_code                           28.00                13.00   \n",
       "gender                                    H                    V   \n",
       "age                                   86.00                52.00   \n",
       "deceased                                  N                    N   \n",
       "salary                              -999.00              -999.00   \n",
       "dif_debit_card                         0.00                 0.00   \n",
       "dif_em_account_p                       0.00                 0.00   \n",
       "dif_em_account_pp                      0.00                 0.00   \n",
       "dif_em_acount                          0.00                 0.00   \n",
       "dif_emc_account                        0.00                 0.00   \n",
       "dif_payroll                            0.00                 0.00   \n",
       "dif_payroll_account                    0.00                 0.00   \n",
       "dif_funds                              0.00                 0.00   \n",
       "dif_long_term_deposit                  0.00                 0.00   \n",
       "dif_mortgage                           0.00                 0.00   \n",
       "dif_pension_plan                       0.00                 0.00   \n",
       "dif_securities                         0.00                 0.00   \n",
       "dif_short_term_deposit                 0.00                 0.00   \n",
       "dif_loans                              0.00                 0.00   \n",
       "dif_credit_card                        0.00                 0.00   \n",
       "mesesAlta                             -0.10                -0.10   \n",
       "isNewClient                            0.00                 0.00   \n",
       "isActive                               0.00                 0.00   \n",
       "Provincia                            Madrid          Ciudad Real   \n",
       "SalaryQtil                      NOInformado          NOInformado   \n",
       "totalAssets                            0.00                 0.00   \n",
       "totalCuentas                           0.00                 0.00   \n",
       "totalAhorro                            0.00                 0.00   \n",
       "totalFinanciacion                      0.00                 0.00   \n",
       "totalIngresos                          0.00                 0.00   \n",
       "totalBeneficio                         0.00                 0.00   \n",
       "hayAlta                                0.00                 0.00   \n",
       "diasDesdeUltimaAlta         1 days 00:00:00      1 days 00:00:00   \n",
       "diasDesdeUltimaAltaInt                 1.00                 1.00   \n",
       "hayBaja                                0.00                 0.00   \n",
       "diasDesdeUltimaBaja         1 days 00:00:00      1 days 00:00:00   \n",
       "diasDesdeUltimaBajaInt                 1.00                 1.00   \n",
       "\n",
       "                                    7530911              7530912  \\\n",
       "pk_partition            2019-05-28 00:00:00  2019-05-28 00:00:00   \n",
       "pk_cid                              1553686              1553687   \n",
       "short_term_deposit                     0.00                 0.00   \n",
       "loans                                  0.00                 0.00   \n",
       "mortgage                               0.00                 0.00   \n",
       "funds                                  0.00                 0.00   \n",
       "securities                             0.00                 0.00   \n",
       "long_term_deposit                      0.00                 0.00   \n",
       "em_account_pp                          0.00                 0.00   \n",
       "credit_card                            0.00                 0.00   \n",
       "payroll                                0.00                 0.00   \n",
       "pension_plan                           0.00                 0.00   \n",
       "payroll_account                        0.00                 0.00   \n",
       "emc_account                            0.00                 0.00   \n",
       "debit_card                             0.00                 0.00   \n",
       "em_account_p                           0.00                 0.00   \n",
       "em_acount                              0.00                 0.00   \n",
       "entry_date              2019-05-31 00:00:00  2019-05-31 00:00:00   \n",
       "entry_channel                           XXX                  XXX   \n",
       "active_customer                        0.00                 0.00   \n",
       "segment                    04 - NOINFORMADO     04 - NOINFORMADO   \n",
       "country_id                               ES                   ES   \n",
       "region_code                           41.00                28.00   \n",
       "gender                                    H                    V   \n",
       "age                                   30.00                21.00   \n",
       "deceased                                  N                    N   \n",
       "salary                              -999.00              -999.00   \n",
       "dif_debit_card                         0.00                 0.00   \n",
       "dif_em_account_p                       0.00                 0.00   \n",
       "dif_em_account_pp                      0.00                 0.00   \n",
       "dif_em_acount                          0.00                 0.00   \n",
       "dif_emc_account                        0.00                 0.00   \n",
       "dif_payroll                            0.00                 0.00   \n",
       "dif_payroll_account                    0.00                 0.00   \n",
       "dif_funds                              0.00                 0.00   \n",
       "dif_long_term_deposit                  0.00                 0.00   \n",
       "dif_mortgage                           0.00                 0.00   \n",
       "dif_pension_plan                       0.00                 0.00   \n",
       "dif_securities                         0.00                 0.00   \n",
       "dif_short_term_deposit                 0.00                 0.00   \n",
       "dif_loans                              0.00                 0.00   \n",
       "dif_credit_card                        0.00                 0.00   \n",
       "mesesAlta                             -0.10                -0.10   \n",
       "isNewClient                            0.00                 0.00   \n",
       "isActive                               0.00                 0.00   \n",
       "Provincia                           Sevilla               Madrid   \n",
       "SalaryQtil                      NOInformado          NOInformado   \n",
       "totalAssets                            0.00                 0.00   \n",
       "totalCuentas                           0.00                 0.00   \n",
       "totalAhorro                            0.00                 0.00   \n",
       "totalFinanciacion                      0.00                 0.00   \n",
       "totalIngresos                          0.00                 0.00   \n",
       "totalBeneficio                         0.00                 0.00   \n",
       "hayAlta                                0.00                 0.00   \n",
       "diasDesdeUltimaAlta         1 days 00:00:00      1 days 00:00:00   \n",
       "diasDesdeUltimaAltaInt                 1.00                 1.00   \n",
       "hayBaja                                0.00                 0.00   \n",
       "diasDesdeUltimaBaja         1 days 00:00:00      1 days 00:00:00   \n",
       "diasDesdeUltimaBajaInt                 1.00                 1.00   \n",
       "\n",
       "                                    7530913              7530914  \n",
       "pk_partition            2019-05-28 00:00:00  2019-05-28 00:00:00  \n",
       "pk_cid                              1553688              1553689  \n",
       "short_term_deposit                     0.00                 0.00  \n",
       "loans                                  0.00                 0.00  \n",
       "mortgage                               0.00                 0.00  \n",
       "funds                                  0.00                 0.00  \n",
       "securities                             0.00                 0.00  \n",
       "long_term_deposit                      0.00                 0.00  \n",
       "em_account_pp                          0.00                 0.00  \n",
       "credit_card                            0.00                 0.00  \n",
       "payroll                                0.00                 0.00  \n",
       "pension_plan                           0.00                 0.00  \n",
       "payroll_account                        0.00                 0.00  \n",
       "emc_account                            0.00                 0.00  \n",
       "debit_card                             0.00                 0.00  \n",
       "em_account_p                           0.00                 0.00  \n",
       "em_acount                              0.00                 0.00  \n",
       "entry_date              2019-05-31 00:00:00  2019-05-31 00:00:00  \n",
       "entry_channel                           XXX                  XXX  \n",
       "active_customer                        0.00                 0.00  \n",
       "segment                    04 - NOINFORMADO     04 - NOINFORMADO  \n",
       "country_id                               ES                   ES  \n",
       "region_code                           39.00                21.00  \n",
       "gender                                    H                    V  \n",
       "age                                   43.00                40.00  \n",
       "deceased                                  N                    N  \n",
       "salary                              -999.00              -999.00  \n",
       "dif_debit_card                         0.00                 0.00  \n",
       "dif_em_account_p                       0.00                 0.00  \n",
       "dif_em_account_pp                      0.00                 0.00  \n",
       "dif_em_acount                          0.00                 0.00  \n",
       "dif_emc_account                        0.00                 0.00  \n",
       "dif_payroll                            0.00                 0.00  \n",
       "dif_payroll_account                    0.00                 0.00  \n",
       "dif_funds                              0.00                 0.00  \n",
       "dif_long_term_deposit                  0.00                 0.00  \n",
       "dif_mortgage                           0.00                 0.00  \n",
       "dif_pension_plan                       0.00                 0.00  \n",
       "dif_securities                         0.00                 0.00  \n",
       "dif_short_term_deposit                 0.00                 0.00  \n",
       "dif_loans                              0.00                 0.00  \n",
       "dif_credit_card                        0.00                 0.00  \n",
       "mesesAlta                             -0.10                -0.10  \n",
       "isNewClient                            0.00                 0.00  \n",
       "isActive                               0.00                 0.00  \n",
       "Provincia                         Cantabria               Huelva  \n",
       "SalaryQtil                      NOInformado          NOInformado  \n",
       "totalAssets                            0.00                 0.00  \n",
       "totalCuentas                           0.00                 0.00  \n",
       "totalAhorro                            0.00                 0.00  \n",
       "totalFinanciacion                      0.00                 0.00  \n",
       "totalIngresos                          0.00                 0.00  \n",
       "totalBeneficio                         0.00                 0.00  \n",
       "hayAlta                                0.00                 0.00  \n",
       "diasDesdeUltimaAlta         1 days 00:00:00      1 days 00:00:00  \n",
       "diasDesdeUltimaAltaInt                 1.00                 1.00  \n",
       "hayBaja                                0.00                 0.00  \n",
       "diasDesdeUltimaBaja         1 days 00:00:00      1 days 00:00:00  \n",
       "diasDesdeUltimaBajaInt                 1.00                 1.00  \n",
       "\n",
       "[59 rows x 1048698 columns]"
      ]
     },
     "execution_count": 51,
     "metadata": {},
     "output_type": "execute_result"
    }
   ],
   "source": [
    "full_df[(full_df['isNewClient']==0) &\n",
    "                     (full_df['isActive']==0)].T"
   ]
  },
  {
   "cell_type": "code",
   "execution_count": 52,
   "metadata": {
    "ExecuteTime": {
     "end_time": "2020-09-06T19:40:41.569331Z",
     "start_time": "2020-09-06T19:40:37.718551Z"
    }
   },
   "outputs": [],
   "source": [
    "# Borramos los meses que no pasa nada para que el modelo aprenda a coger emjor los cambios.\n",
    "#El rendimiento del modelo mejora con esto:\n",
    "full_df.drop(full_df[(full_df['isNewClient']==0) &\n",
    "                     (full_df['isActive']==0)].index ,axis=0, inplace=True)"
   ]
  },
  {
   "cell_type": "code",
   "execution_count": 53,
   "metadata": {
    "ExecuteTime": {
     "end_time": "2020-09-06T19:40:41.761221Z",
     "start_time": "2020-09-06T19:40:41.570331Z"
    }
   },
   "outputs": [
    {
     "data": {
      "text/plain": [
       "pk_partition\n",
       "2018-01-28    232033\n",
       "2018-02-28    234815\n",
       "2018-03-28    237501\n",
       "2018-04-28    239649\n",
       "2018-05-28    242132\n",
       "2018-06-28    244123\n",
       "2018-07-28    257780\n",
       "2018-08-28    271829\n",
       "2018-09-28    290119\n",
       "2018-10-28    312974\n",
       "2018-11-28    318715\n",
       "2018-12-28    319997\n",
       "2019-01-28    323405\n",
       "2019-02-28    326834\n",
       "2019-03-28    329686\n",
       "2019-04-28    332144\n",
       "2019-05-28    334193\n",
       "2019-06-28    442995\n",
       "Name: pk_cid, dtype: int64"
      ]
     },
     "execution_count": 53,
     "metadata": {},
     "output_type": "execute_result"
    }
   ],
   "source": [
    "full_df.groupby('pk_partition')['pk_cid'].size()"
   ]
  },
  {
   "cell_type": "code",
   "execution_count": 58,
   "metadata": {
    "ExecuteTime": {
     "end_time": "2020-09-06T20:54:04.474841Z",
     "start_time": "2020-09-06T20:54:03.928161Z"
    }
   },
   "outputs": [
    {
     "name": "stdout",
     "output_type": "stream",
     "text": [
      "<class 'pandas.core.frame.DataFrame'>\n",
      "Int64Index: 5290924 entries, 3 to 7973909\n",
      "Data columns (total 59 columns):\n",
      " #   Column                  Dtype         \n",
      "---  ------                  -----         \n",
      " 0   pk_partition            datetime64[ns]\n",
      " 1   pk_cid                  int32         \n",
      " 2   short_term_deposit      float16       \n",
      " 3   loans                   float16       \n",
      " 4   mortgage                float16       \n",
      " 5   funds                   float16       \n",
      " 6   securities              float16       \n",
      " 7   long_term_deposit       float16       \n",
      " 8   em_account_pp           float16       \n",
      " 9   credit_card             float16       \n",
      " 10  payroll                 float16       \n",
      " 11  pension_plan            float16       \n",
      " 12  payroll_account         float16       \n",
      " 13  emc_account             float16       \n",
      " 14  debit_card              float16       \n",
      " 15  em_account_p            float16       \n",
      " 16  em_acount               float16       \n",
      " 17  entry_date              datetime64[ns]\n",
      " 18  entry_channel           object        \n",
      " 19  active_customer         float16       \n",
      " 20  segment                 object        \n",
      " 21  country_id              object        \n",
      " 22  region_code             float16       \n",
      " 23  gender                  object        \n",
      " 24  age                     float16       \n",
      " 25  deceased                object        \n",
      " 26  salary                  float32       \n",
      " 27  dif_debit_card          float16       \n",
      " 28  dif_em_account_p        float16       \n",
      " 29  dif_em_account_pp       float16       \n",
      " 30  dif_em_acount           float16       \n",
      " 31  dif_emc_account         float16       \n",
      " 32  dif_payroll             float16       \n",
      " 33  dif_payroll_account     float16       \n",
      " 34  dif_funds               float16       \n",
      " 35  dif_long_term_deposit   float16       \n",
      " 36  dif_mortgage            float16       \n",
      " 37  dif_pension_plan        float16       \n",
      " 38  dif_securities          float16       \n",
      " 39  dif_short_term_deposit  float16       \n",
      " 40  dif_loans               float16       \n",
      " 41  dif_credit_card         float16       \n",
      " 42  mesesAlta               float16       \n",
      " 43  isNewClient             float16       \n",
      " 44  isActive                float16       \n",
      " 45  Provincia               object        \n",
      " 46  SalaryQtil              object        \n",
      " 47  totalAssets             float16       \n",
      " 48  totalCuentas            float16       \n",
      " 49  totalAhorro             float16       \n",
      " 50  totalFinanciacion       float16       \n",
      " 51  totalIngresos           float16       \n",
      " 52  totalBeneficio          float16       \n",
      " 53  hayAlta                 float16       \n",
      " 54  diasDesdeUltimaAlta     object        \n",
      " 55  diasDesdeUltimaAltaInt  float16       \n",
      " 56  hayBaja                 float16       \n",
      " 57  diasDesdeUltimaBaja     object        \n",
      " 58  diasDesdeUltimaBajaInt  float16       \n",
      "dtypes: datetime64[ns](2), float16(46), float32(1), int32(1), object(9)\n",
      "memory usage: 989.0+ MB\n"
     ]
    }
   ],
   "source": [
    "full_df.info(verbose=True)"
   ]
  },
  {
   "cell_type": "code",
   "execution_count": 55,
   "metadata": {
    "ExecuteTime": {
     "end_time": "2020-09-06T19:40:49.855554Z",
     "start_time": "2020-09-06T19:40:41.787205Z"
    }
   },
   "outputs": [
    {
     "name": "stdout",
     "output_type": "stream",
     "text": [
      "Mem. usage decreased to 988.98 Mb (42.0% reduction)\n"
     ]
    }
   ],
   "source": [
    "reduce_mem_usage(full_df, verbose = True)"
   ]
  },
  {
   "cell_type": "code",
   "execution_count": 56,
   "metadata": {
    "ExecuteTime": {
     "end_time": "2020-09-06T19:40:49.860552Z",
     "start_time": "2020-09-06T19:40:49.856553Z"
    }
   },
   "outputs": [],
   "source": [
    "#full_df.to_pickle('fulldf_base_nandropped.pkl',compression='zip')"
   ]
  },
  {
   "cell_type": "code",
   "execution_count": 59,
   "metadata": {
    "ExecuteTime": {
     "end_time": "2020-09-06T20:54:18.893792Z",
     "start_time": "2020-09-06T20:54:18.890793Z"
    }
   },
   "outputs": [],
   "source": [
    "delta_productos_easymoney=['dif_loans',\n",
    " 'dif_mortgage',\n",
    " 'dif_funds',\n",
    " 'dif_securities',\n",
    " 'dif_long_term_deposit',\n",
    " 'dif_short_term_deposit',                          \n",
    " 'dif_em_account_pp',\n",
    " 'dif_credit_card',\n",
    " 'dif_payroll',\n",
    " 'dif_pension_plan',\n",
    " 'dif_payroll_account',\n",
    " 'dif_emc_account',\n",
    " 'dif_debit_card',\n",
    " 'dif_em_acount',\n",
    " 'dif_em_account_p']"
   ]
  },
  {
   "cell_type": "code",
   "execution_count": 60,
   "metadata": {
    "ExecuteTime": {
     "end_time": "2020-09-06T20:54:32.977672Z",
     "start_time": "2020-09-06T20:54:32.973673Z"
    }
   },
   "outputs": [],
   "source": [
    "productos_easymoney=['loans',\n",
    " 'mortgage',\n",
    " 'funds',\n",
    " 'securities',\n",
    " 'long_term_deposit',\n",
    " 'short_term_deposit',                    \n",
    " 'em_account_pp',\n",
    " 'credit_card',\n",
    " 'payroll',\n",
    " 'pension_plan',\n",
    " 'payroll_account',\n",
    " 'emc_account',\n",
    " 'debit_card',\n",
    " 'em_acount',\n",
    " 'em_account_p']"
   ]
  },
  {
   "cell_type": "markdown",
   "metadata": {
    "ExecuteTime": {
     "end_time": "2020-09-06T13:17:29.325475Z",
     "start_time": "2020-09-06T13:17:29.320497Z"
    }
   },
   "source": [
    "Ponemos a 0 las bajas para solo predecir altas:"
   ]
  },
  {
   "cell_type": "code",
   "execution_count": 61,
   "metadata": {
    "ExecuteTime": {
     "end_time": "2020-09-06T20:54:47.725188Z",
     "start_time": "2020-09-06T20:54:47.212465Z"
    }
   },
   "outputs": [],
   "source": [
    "for x in delta_productos_easymoney:\n",
    "      full_df.loc[full_df[x]==-1, x ]=0  "
   ]
  },
  {
   "cell_type": "code",
   "execution_count": 64,
   "metadata": {
    "ExecuteTime": {
     "end_time": "2020-09-06T20:55:31.387528Z",
     "start_time": "2020-09-06T20:55:31.280591Z"
    }
   },
   "outputs": [
    {
     "data": {
      "text/plain": [
       "0.00    4721831\n",
       "1.00     126098\n",
       "Name: dif_em_acount, dtype: int64"
      ]
     },
     "execution_count": 64,
     "metadata": {},
     "output_type": "execute_result"
    }
   ],
   "source": [
    "full_df['dif_em_acount'].value_counts()"
   ]
  },
  {
   "cell_type": "code",
   "execution_count": 65,
   "metadata": {
    "ExecuteTime": {
     "end_time": "2020-09-06T20:55:45.541369Z",
     "start_time": "2020-09-06T20:55:45.440428Z"
    }
   },
   "outputs": [
    {
     "data": {
      "text/plain": [
       "0.00    4836944\n",
       "1.00      10985\n",
       "Name: dif_credit_card, dtype: int64"
      ]
     },
     "execution_count": 65,
     "metadata": {},
     "output_type": "execute_result"
    }
   ],
   "source": [
    "full_df['dif_credit_card'].value_counts()"
   ]
  },
  {
   "cell_type": "code",
   "execution_count": 66,
   "metadata": {
    "ExecuteTime": {
     "end_time": "2020-09-06T20:57:35.166933Z",
     "start_time": "2020-09-06T20:56:52.938430Z"
    }
   },
   "outputs": [],
   "source": [
    "full_df.to_pickle('./fulldf_base_V1.pkl',compression='zip')"
   ]
  },
  {
   "cell_type": "code",
   "execution_count": 119,
   "metadata": {
    "ExecuteTime": {
     "end_time": "2020-09-06T21:26:25.478114Z",
     "start_time": "2020-09-06T21:24:37.159578Z"
    }
   },
   "outputs": [],
   "source": [
    "full_df=pd.read_pickle('./fulldf_base_V1.pkl',compression='zip')"
   ]
  },
  {
   "cell_type": "code",
   "execution_count": 67,
   "metadata": {
    "ExecuteTime": {
     "end_time": "2020-09-06T20:58:14.112482Z",
     "start_time": "2020-09-06T20:58:09.145347Z"
    }
   },
   "outputs": [
    {
     "name": "stdout",
     "output_type": "stream",
     "text": [
      "1\n",
      "2\n",
      "3\n",
      "4\n",
      "5\n",
      "6\n"
     ]
    }
   ],
   "source": [
    "for x in [1,2,3,4,5,6]:\n",
    "    print(x)\n",
    "    full_df['em_acount_shift_'+str(x)]=full_df.groupby(['pk_cid'])['em_acount'].shift(x)"
   ]
  },
  {
   "cell_type": "code",
   "execution_count": 69,
   "metadata": {
    "ExecuteTime": {
     "end_time": "2020-09-06T21:00:35.677489Z",
     "start_time": "2020-09-06T21:00:35.673489Z"
    }
   },
   "outputs": [],
   "source": [
    "ver=['pk_cid','pk_partition','em_acount','em_acount_shift_1','em_acount_shift_2',\n",
    "     'em_acount_shift_3','em_acount_shift_4','em_acount_shift_5','em_acount_shift_6']"
   ]
  },
  {
   "cell_type": "code",
   "execution_count": 70,
   "metadata": {
    "ExecuteTime": {
     "end_time": "2020-09-06T21:00:45.029678Z",
     "start_time": "2020-09-06T21:00:45.005682Z"
    }
   },
   "outputs": [
    {
     "data": {
      "text/html": [
       "<div>\n",
       "<style scoped>\n",
       "    .dataframe tbody tr th:only-of-type {\n",
       "        vertical-align: middle;\n",
       "    }\n",
       "\n",
       "    .dataframe tbody tr th {\n",
       "        vertical-align: top;\n",
       "    }\n",
       "\n",
       "    .dataframe thead th {\n",
       "        text-align: right;\n",
       "    }\n",
       "</style>\n",
       "<table border=\"1\" class=\"dataframe\">\n",
       "  <thead>\n",
       "    <tr style=\"text-align: right;\">\n",
       "      <th></th>\n",
       "      <th>29295</th>\n",
       "      <th>472290</th>\n",
       "      <th>915285</th>\n",
       "      <th>1358280</th>\n",
       "      <th>1801275</th>\n",
       "      <th>2244270</th>\n",
       "      <th>2687265</th>\n",
       "      <th>3130260</th>\n",
       "      <th>3573255</th>\n",
       "      <th>4016250</th>\n",
       "    </tr>\n",
       "  </thead>\n",
       "  <tbody>\n",
       "    <tr>\n",
       "      <th>pk_cid</th>\n",
       "      <td>1035440</td>\n",
       "      <td>1035440</td>\n",
       "      <td>1035440</td>\n",
       "      <td>1035440</td>\n",
       "      <td>1035440</td>\n",
       "      <td>1035440</td>\n",
       "      <td>1035440</td>\n",
       "      <td>1035440</td>\n",
       "      <td>1035440</td>\n",
       "      <td>1035440</td>\n",
       "    </tr>\n",
       "    <tr>\n",
       "      <th>pk_partition</th>\n",
       "      <td>2018-01-28 00:00:00</td>\n",
       "      <td>2018-02-28 00:00:00</td>\n",
       "      <td>2018-03-28 00:00:00</td>\n",
       "      <td>2018-04-28 00:00:00</td>\n",
       "      <td>2018-05-28 00:00:00</td>\n",
       "      <td>2018-06-28 00:00:00</td>\n",
       "      <td>2018-07-28 00:00:00</td>\n",
       "      <td>2018-08-28 00:00:00</td>\n",
       "      <td>2018-09-28 00:00:00</td>\n",
       "      <td>2018-10-28 00:00:00</td>\n",
       "    </tr>\n",
       "    <tr>\n",
       "      <th>em_acount</th>\n",
       "      <td>1.00</td>\n",
       "      <td>0.00</td>\n",
       "      <td>0.00</td>\n",
       "      <td>1.00</td>\n",
       "      <td>1.00</td>\n",
       "      <td>1.00</td>\n",
       "      <td>1.00</td>\n",
       "      <td>1.00</td>\n",
       "      <td>1.00</td>\n",
       "      <td>1.00</td>\n",
       "    </tr>\n",
       "    <tr>\n",
       "      <th>em_acount_shift_1</th>\n",
       "      <td>NaN</td>\n",
       "      <td>1.00</td>\n",
       "      <td>0.00</td>\n",
       "      <td>0.00</td>\n",
       "      <td>1.00</td>\n",
       "      <td>1.00</td>\n",
       "      <td>1.00</td>\n",
       "      <td>1.00</td>\n",
       "      <td>1.00</td>\n",
       "      <td>1.00</td>\n",
       "    </tr>\n",
       "    <tr>\n",
       "      <th>em_acount_shift_2</th>\n",
       "      <td>NaN</td>\n",
       "      <td>NaN</td>\n",
       "      <td>1.00</td>\n",
       "      <td>0.00</td>\n",
       "      <td>0.00</td>\n",
       "      <td>1.00</td>\n",
       "      <td>1.00</td>\n",
       "      <td>1.00</td>\n",
       "      <td>1.00</td>\n",
       "      <td>1.00</td>\n",
       "    </tr>\n",
       "    <tr>\n",
       "      <th>em_acount_shift_3</th>\n",
       "      <td>NaN</td>\n",
       "      <td>NaN</td>\n",
       "      <td>NaN</td>\n",
       "      <td>1.00</td>\n",
       "      <td>0.00</td>\n",
       "      <td>0.00</td>\n",
       "      <td>1.00</td>\n",
       "      <td>1.00</td>\n",
       "      <td>1.00</td>\n",
       "      <td>1.00</td>\n",
       "    </tr>\n",
       "    <tr>\n",
       "      <th>em_acount_shift_4</th>\n",
       "      <td>NaN</td>\n",
       "      <td>NaN</td>\n",
       "      <td>NaN</td>\n",
       "      <td>NaN</td>\n",
       "      <td>1.00</td>\n",
       "      <td>0.00</td>\n",
       "      <td>0.00</td>\n",
       "      <td>1.00</td>\n",
       "      <td>1.00</td>\n",
       "      <td>1.00</td>\n",
       "    </tr>\n",
       "    <tr>\n",
       "      <th>em_acount_shift_5</th>\n",
       "      <td>NaN</td>\n",
       "      <td>NaN</td>\n",
       "      <td>NaN</td>\n",
       "      <td>NaN</td>\n",
       "      <td>NaN</td>\n",
       "      <td>1.00</td>\n",
       "      <td>0.00</td>\n",
       "      <td>0.00</td>\n",
       "      <td>1.00</td>\n",
       "      <td>1.00</td>\n",
       "    </tr>\n",
       "    <tr>\n",
       "      <th>em_acount_shift_6</th>\n",
       "      <td>NaN</td>\n",
       "      <td>NaN</td>\n",
       "      <td>NaN</td>\n",
       "      <td>NaN</td>\n",
       "      <td>NaN</td>\n",
       "      <td>NaN</td>\n",
       "      <td>1.00</td>\n",
       "      <td>0.00</td>\n",
       "      <td>0.00</td>\n",
       "      <td>1.00</td>\n",
       "    </tr>\n",
       "  </tbody>\n",
       "</table>\n",
       "</div>"
      ],
      "text/plain": [
       "                               29295                472290   \\\n",
       "pk_cid                         1035440              1035440   \n",
       "pk_partition       2018-01-28 00:00:00  2018-02-28 00:00:00   \n",
       "em_acount                         1.00                 0.00   \n",
       "em_acount_shift_1                  NaN                 1.00   \n",
       "em_acount_shift_2                  NaN                  NaN   \n",
       "em_acount_shift_3                  NaN                  NaN   \n",
       "em_acount_shift_4                  NaN                  NaN   \n",
       "em_acount_shift_5                  NaN                  NaN   \n",
       "em_acount_shift_6                  NaN                  NaN   \n",
       "\n",
       "                               915285               1358280  \\\n",
       "pk_cid                         1035440              1035440   \n",
       "pk_partition       2018-03-28 00:00:00  2018-04-28 00:00:00   \n",
       "em_acount                         0.00                 1.00   \n",
       "em_acount_shift_1                 0.00                 0.00   \n",
       "em_acount_shift_2                 1.00                 0.00   \n",
       "em_acount_shift_3                  NaN                 1.00   \n",
       "em_acount_shift_4                  NaN                  NaN   \n",
       "em_acount_shift_5                  NaN                  NaN   \n",
       "em_acount_shift_6                  NaN                  NaN   \n",
       "\n",
       "                               1801275              2244270  \\\n",
       "pk_cid                         1035440              1035440   \n",
       "pk_partition       2018-05-28 00:00:00  2018-06-28 00:00:00   \n",
       "em_acount                         1.00                 1.00   \n",
       "em_acount_shift_1                 1.00                 1.00   \n",
       "em_acount_shift_2                 0.00                 1.00   \n",
       "em_acount_shift_3                 0.00                 0.00   \n",
       "em_acount_shift_4                 1.00                 0.00   \n",
       "em_acount_shift_5                  NaN                 1.00   \n",
       "em_acount_shift_6                  NaN                  NaN   \n",
       "\n",
       "                               2687265              3130260  \\\n",
       "pk_cid                         1035440              1035440   \n",
       "pk_partition       2018-07-28 00:00:00  2018-08-28 00:00:00   \n",
       "em_acount                         1.00                 1.00   \n",
       "em_acount_shift_1                 1.00                 1.00   \n",
       "em_acount_shift_2                 1.00                 1.00   \n",
       "em_acount_shift_3                 1.00                 1.00   \n",
       "em_acount_shift_4                 0.00                 1.00   \n",
       "em_acount_shift_5                 0.00                 0.00   \n",
       "em_acount_shift_6                 1.00                 0.00   \n",
       "\n",
       "                               3573255              4016250  \n",
       "pk_cid                         1035440              1035440  \n",
       "pk_partition       2018-09-28 00:00:00  2018-10-28 00:00:00  \n",
       "em_acount                         1.00                 1.00  \n",
       "em_acount_shift_1                 1.00                 1.00  \n",
       "em_acount_shift_2                 1.00                 1.00  \n",
       "em_acount_shift_3                 1.00                 1.00  \n",
       "em_acount_shift_4                 1.00                 1.00  \n",
       "em_acount_shift_5                 1.00                 1.00  \n",
       "em_acount_shift_6                 0.00                 1.00  "
      ]
     },
     "execution_count": 70,
     "metadata": {},
     "output_type": "execute_result"
    }
   ],
   "source": [
    "full_df[full_df['pk_cid']==1035440  ][ver].head(10).T"
   ]
  },
  {
   "cell_type": "code",
   "execution_count": 71,
   "metadata": {
    "ExecuteTime": {
     "end_time": "2020-09-06T21:04:12.513900Z",
     "start_time": "2020-09-06T21:04:07.067043Z"
    }
   },
   "outputs": [
    {
     "name": "stdout",
     "output_type": "stream",
     "text": [
      "1\n",
      "2\n",
      "3\n",
      "4\n",
      "5\n",
      "6\n"
     ]
    }
   ],
   "source": [
    "for x in [1,2,3,4,5,6]:\n",
    "    print(x)\n",
    "    full_df['totalAssets_shift_'+str(x)]=full_df.groupby(['pk_cid'])['totalAssets'].shift(x)"
   ]
  },
  {
   "cell_type": "code",
   "execution_count": 72,
   "metadata": {
    "ExecuteTime": {
     "end_time": "2020-09-06T21:04:52.755955Z",
     "start_time": "2020-09-06T21:04:52.751957Z"
    }
   },
   "outputs": [],
   "source": [
    "ver=['pk_cid','pk_partition','totalAssets','totalAssets_shift_1','totalAssets_shift_2',\n",
    "     'totalAssets_shift_3','totalAssets_shift_4','totalAssets_shift_5','totalAssets_shift_6']"
   ]
  },
  {
   "cell_type": "code",
   "execution_count": 73,
   "metadata": {
    "ExecuteTime": {
     "end_time": "2020-09-06T21:05:02.971055Z",
     "start_time": "2020-09-06T21:05:02.314434Z"
    }
   },
   "outputs": [
    {
     "data": {
      "text/html": [
       "<div>\n",
       "<style scoped>\n",
       "    .dataframe tbody tr th:only-of-type {\n",
       "        vertical-align: middle;\n",
       "    }\n",
       "\n",
       "    .dataframe tbody tr th {\n",
       "        vertical-align: top;\n",
       "    }\n",
       "\n",
       "    .dataframe thead th {\n",
       "        text-align: right;\n",
       "    }\n",
       "</style>\n",
       "<table border=\"1\" class=\"dataframe\">\n",
       "  <thead>\n",
       "    <tr style=\"text-align: right;\">\n",
       "      <th></th>\n",
       "      <th>29295</th>\n",
       "      <th>472290</th>\n",
       "      <th>915285</th>\n",
       "      <th>1358280</th>\n",
       "      <th>1801275</th>\n",
       "      <th>2244270</th>\n",
       "      <th>2687265</th>\n",
       "      <th>3130260</th>\n",
       "      <th>3573255</th>\n",
       "      <th>4016250</th>\n",
       "    </tr>\n",
       "  </thead>\n",
       "  <tbody>\n",
       "    <tr>\n",
       "      <th>pk_cid</th>\n",
       "      <td>1035440</td>\n",
       "      <td>1035440</td>\n",
       "      <td>1035440</td>\n",
       "      <td>1035440</td>\n",
       "      <td>1035440</td>\n",
       "      <td>1035440</td>\n",
       "      <td>1035440</td>\n",
       "      <td>1035440</td>\n",
       "      <td>1035440</td>\n",
       "      <td>1035440</td>\n",
       "    </tr>\n",
       "    <tr>\n",
       "      <th>pk_partition</th>\n",
       "      <td>2018-01-28 00:00:00</td>\n",
       "      <td>2018-02-28 00:00:00</td>\n",
       "      <td>2018-03-28 00:00:00</td>\n",
       "      <td>2018-04-28 00:00:00</td>\n",
       "      <td>2018-05-28 00:00:00</td>\n",
       "      <td>2018-06-28 00:00:00</td>\n",
       "      <td>2018-07-28 00:00:00</td>\n",
       "      <td>2018-08-28 00:00:00</td>\n",
       "      <td>2018-09-28 00:00:00</td>\n",
       "      <td>2018-10-28 00:00:00</td>\n",
       "    </tr>\n",
       "    <tr>\n",
       "      <th>totalAssets</th>\n",
       "      <td>2.00</td>\n",
       "      <td>1.00</td>\n",
       "      <td>1.00</td>\n",
       "      <td>2.00</td>\n",
       "      <td>1.00</td>\n",
       "      <td>2.00</td>\n",
       "      <td>2.00</td>\n",
       "      <td>2.00</td>\n",
       "      <td>2.00</td>\n",
       "      <td>2.00</td>\n",
       "    </tr>\n",
       "    <tr>\n",
       "      <th>totalAssets_shift_1</th>\n",
       "      <td>NaN</td>\n",
       "      <td>2.00</td>\n",
       "      <td>1.00</td>\n",
       "      <td>1.00</td>\n",
       "      <td>2.00</td>\n",
       "      <td>1.00</td>\n",
       "      <td>2.00</td>\n",
       "      <td>2.00</td>\n",
       "      <td>2.00</td>\n",
       "      <td>2.00</td>\n",
       "    </tr>\n",
       "    <tr>\n",
       "      <th>totalAssets_shift_2</th>\n",
       "      <td>NaN</td>\n",
       "      <td>NaN</td>\n",
       "      <td>2.00</td>\n",
       "      <td>1.00</td>\n",
       "      <td>1.00</td>\n",
       "      <td>2.00</td>\n",
       "      <td>1.00</td>\n",
       "      <td>2.00</td>\n",
       "      <td>2.00</td>\n",
       "      <td>2.00</td>\n",
       "    </tr>\n",
       "    <tr>\n",
       "      <th>totalAssets_shift_3</th>\n",
       "      <td>NaN</td>\n",
       "      <td>NaN</td>\n",
       "      <td>NaN</td>\n",
       "      <td>2.00</td>\n",
       "      <td>1.00</td>\n",
       "      <td>1.00</td>\n",
       "      <td>2.00</td>\n",
       "      <td>1.00</td>\n",
       "      <td>2.00</td>\n",
       "      <td>2.00</td>\n",
       "    </tr>\n",
       "    <tr>\n",
       "      <th>totalAssets_shift_4</th>\n",
       "      <td>NaN</td>\n",
       "      <td>NaN</td>\n",
       "      <td>NaN</td>\n",
       "      <td>NaN</td>\n",
       "      <td>2.00</td>\n",
       "      <td>1.00</td>\n",
       "      <td>1.00</td>\n",
       "      <td>2.00</td>\n",
       "      <td>1.00</td>\n",
       "      <td>2.00</td>\n",
       "    </tr>\n",
       "    <tr>\n",
       "      <th>totalAssets_shift_5</th>\n",
       "      <td>NaN</td>\n",
       "      <td>NaN</td>\n",
       "      <td>NaN</td>\n",
       "      <td>NaN</td>\n",
       "      <td>NaN</td>\n",
       "      <td>2.00</td>\n",
       "      <td>1.00</td>\n",
       "      <td>1.00</td>\n",
       "      <td>2.00</td>\n",
       "      <td>1.00</td>\n",
       "    </tr>\n",
       "    <tr>\n",
       "      <th>totalAssets_shift_6</th>\n",
       "      <td>NaN</td>\n",
       "      <td>NaN</td>\n",
       "      <td>NaN</td>\n",
       "      <td>NaN</td>\n",
       "      <td>NaN</td>\n",
       "      <td>NaN</td>\n",
       "      <td>2.00</td>\n",
       "      <td>1.00</td>\n",
       "      <td>1.00</td>\n",
       "      <td>2.00</td>\n",
       "    </tr>\n",
       "  </tbody>\n",
       "</table>\n",
       "</div>"
      ],
      "text/plain": [
       "                                 29295                472290   \\\n",
       "pk_cid                           1035440              1035440   \n",
       "pk_partition         2018-01-28 00:00:00  2018-02-28 00:00:00   \n",
       "totalAssets                         2.00                 1.00   \n",
       "totalAssets_shift_1                  NaN                 2.00   \n",
       "totalAssets_shift_2                  NaN                  NaN   \n",
       "totalAssets_shift_3                  NaN                  NaN   \n",
       "totalAssets_shift_4                  NaN                  NaN   \n",
       "totalAssets_shift_5                  NaN                  NaN   \n",
       "totalAssets_shift_6                  NaN                  NaN   \n",
       "\n",
       "                                 915285               1358280  \\\n",
       "pk_cid                           1035440              1035440   \n",
       "pk_partition         2018-03-28 00:00:00  2018-04-28 00:00:00   \n",
       "totalAssets                         1.00                 2.00   \n",
       "totalAssets_shift_1                 1.00                 1.00   \n",
       "totalAssets_shift_2                 2.00                 1.00   \n",
       "totalAssets_shift_3                  NaN                 2.00   \n",
       "totalAssets_shift_4                  NaN                  NaN   \n",
       "totalAssets_shift_5                  NaN                  NaN   \n",
       "totalAssets_shift_6                  NaN                  NaN   \n",
       "\n",
       "                                 1801275              2244270  \\\n",
       "pk_cid                           1035440              1035440   \n",
       "pk_partition         2018-05-28 00:00:00  2018-06-28 00:00:00   \n",
       "totalAssets                         1.00                 2.00   \n",
       "totalAssets_shift_1                 2.00                 1.00   \n",
       "totalAssets_shift_2                 1.00                 2.00   \n",
       "totalAssets_shift_3                 1.00                 1.00   \n",
       "totalAssets_shift_4                 2.00                 1.00   \n",
       "totalAssets_shift_5                  NaN                 2.00   \n",
       "totalAssets_shift_6                  NaN                  NaN   \n",
       "\n",
       "                                 2687265              3130260  \\\n",
       "pk_cid                           1035440              1035440   \n",
       "pk_partition         2018-07-28 00:00:00  2018-08-28 00:00:00   \n",
       "totalAssets                         2.00                 2.00   \n",
       "totalAssets_shift_1                 2.00                 2.00   \n",
       "totalAssets_shift_2                 1.00                 2.00   \n",
       "totalAssets_shift_3                 2.00                 1.00   \n",
       "totalAssets_shift_4                 1.00                 2.00   \n",
       "totalAssets_shift_5                 1.00                 1.00   \n",
       "totalAssets_shift_6                 2.00                 1.00   \n",
       "\n",
       "                                 3573255              4016250  \n",
       "pk_cid                           1035440              1035440  \n",
       "pk_partition         2018-09-28 00:00:00  2018-10-28 00:00:00  \n",
       "totalAssets                         2.00                 2.00  \n",
       "totalAssets_shift_1                 2.00                 2.00  \n",
       "totalAssets_shift_2                 2.00                 2.00  \n",
       "totalAssets_shift_3                 2.00                 2.00  \n",
       "totalAssets_shift_4                 1.00                 2.00  \n",
       "totalAssets_shift_5                 2.00                 1.00  \n",
       "totalAssets_shift_6                 1.00                 2.00  "
      ]
     },
     "execution_count": 73,
     "metadata": {},
     "output_type": "execute_result"
    }
   ],
   "source": [
    "full_df[full_df['pk_cid']==1035440  ][ver].head(10).T"
   ]
  },
  {
   "cell_type": "markdown",
   "metadata": {},
   "source": [
    "# Feature engeniering"
   ]
  },
  {
   "cell_type": "code",
   "execution_count": 120,
   "metadata": {
    "ExecuteTime": {
     "end_time": "2020-09-06T21:28:38.963369Z",
     "start_time": "2020-09-06T21:26:36.377020Z"
    }
   },
   "outputs": [
    {
     "name": "stdout",
     "output_type": "stream",
     "text": [
      "dif_loans\n",
      "1\n",
      "2\n",
      "3\n",
      "4\n",
      "5\n",
      "6\n",
      "dif_mortgage\n",
      "1\n",
      "2\n",
      "3\n",
      "4\n",
      "5\n",
      "6\n",
      "dif_funds\n",
      "1\n",
      "2\n",
      "3\n",
      "4\n",
      "5\n",
      "6\n",
      "dif_securities\n",
      "1\n",
      "2\n",
      "3\n",
      "4\n",
      "5\n",
      "6\n",
      "dif_long_term_deposit\n",
      "1\n",
      "2\n",
      "3\n",
      "4\n",
      "5\n",
      "6\n",
      "dif_short_term_deposit\n",
      "1\n",
      "2\n",
      "3\n",
      "4\n",
      "5\n",
      "6\n",
      "dif_em_account_pp\n",
      "1\n",
      "2\n",
      "3\n",
      "4\n",
      "5\n",
      "6\n",
      "dif_credit_card\n",
      "1\n",
      "2\n",
      "3\n",
      "4\n",
      "5\n",
      "6\n",
      "dif_payroll\n",
      "1\n",
      "2\n",
      "3\n",
      "4\n",
      "5\n",
      "6\n",
      "dif_pension_plan\n",
      "1\n",
      "2\n",
      "3\n",
      "4\n",
      "5\n",
      "6\n",
      "dif_payroll_account\n",
      "1\n",
      "2\n",
      "3\n",
      "4\n",
      "5\n",
      "6\n",
      "dif_emc_account\n",
      "1\n",
      "2\n",
      "3\n",
      "4\n",
      "5\n",
      "6\n",
      "dif_debit_card\n",
      "1\n",
      "2\n",
      "3\n",
      "4\n",
      "5\n",
      "6\n",
      "dif_em_acount\n",
      "1\n",
      "2\n",
      "3\n",
      "4\n",
      "5\n",
      "6\n",
      "dif_em_account_p\n",
      "1\n",
      "2\n",
      "3\n",
      "4\n",
      "5\n",
      "6\n"
     ]
    }
   ],
   "source": [
    "for y in delta_productos_easymoney:\n",
    "    print(y)\n",
    "    for x in [1,2,3,4,5,6]:\n",
    "        print(x)\n",
    "        full_df[y+'_shift_'+str(x)]=full_df.groupby(['pk_cid'])[y].shift(x)"
   ]
  },
  {
   "cell_type": "code",
   "execution_count": 121,
   "metadata": {
    "ExecuteTime": {
     "end_time": "2020-09-06T21:32:18.101072Z",
     "start_time": "2020-09-06T21:28:45.602575Z"
    }
   },
   "outputs": [
    {
     "name": "stdout",
     "output_type": "stream",
     "text": [
      "loans\n",
      "1\n",
      "2\n",
      "3\n",
      "4\n",
      "5\n",
      "6\n",
      "mortgage\n",
      "1\n",
      "2\n",
      "3\n",
      "4\n",
      "5\n",
      "6\n",
      "funds\n",
      "1\n",
      "2\n",
      "3\n",
      "4\n",
      "5\n",
      "6\n",
      "securities\n",
      "1\n",
      "2\n",
      "3\n",
      "4\n",
      "5\n",
      "6\n",
      "long_term_deposit\n",
      "1\n",
      "2\n",
      "3\n",
      "4\n",
      "5\n",
      "6\n",
      "short_term_deposit\n",
      "1\n",
      "2\n",
      "3\n",
      "4\n",
      "5\n",
      "6\n",
      "em_account_pp\n",
      "1\n",
      "2\n",
      "3\n",
      "4\n",
      "5\n",
      "6\n",
      "credit_card\n",
      "1\n",
      "2\n",
      "3\n",
      "4\n",
      "5\n",
      "6\n",
      "payroll\n",
      "1\n",
      "2\n",
      "3\n",
      "4\n",
      "5\n",
      "6\n",
      "pension_plan\n",
      "1\n",
      "2\n",
      "3\n",
      "4\n",
      "5\n",
      "6\n",
      "payroll_account\n",
      "1\n",
      "2\n",
      "3\n",
      "4\n",
      "5\n",
      "6\n",
      "emc_account\n",
      "1\n",
      "2\n",
      "3\n",
      "4\n",
      "5\n",
      "6\n",
      "debit_card\n",
      "1\n",
      "2\n",
      "3\n",
      "4\n",
      "5\n",
      "6\n",
      "em_acount\n",
      "1\n",
      "2\n",
      "3\n",
      "4\n",
      "5\n",
      "6\n",
      "em_account_p\n",
      "1\n",
      "2\n",
      "3\n",
      "4\n",
      "5\n",
      "6\n"
     ]
    }
   ],
   "source": [
    "for y in productos_easymoney:\n",
    "    print(y)\n",
    "    for x in [1,2,3,4,5,6]:\n",
    "        print(x)\n",
    "        full_df[y+'_shift_'+str(x)]=full_df.groupby(['pk_cid'])[y].shift(x)"
   ]
  },
  {
   "cell_type": "code",
   "execution_count": 122,
   "metadata": {
    "ExecuteTime": {
     "end_time": "2020-09-06T21:36:41.025534Z",
     "start_time": "2020-09-06T21:32:24.765264Z"
    }
   },
   "outputs": [
    {
     "name": "stdout",
     "output_type": "stream",
     "text": [
      "1\n",
      "2\n",
      "3\n",
      "4\n",
      "5\n",
      "6\n"
     ]
    }
   ],
   "source": [
    "for x in [1,2,3,4,5,6]:\n",
    "    print(x)\n",
    "    full_df['isActive_shift_'+str(x)]=full_df.groupby(['pk_cid'])['isActive'].shift(x)\n",
    "    full_df['isNewClient_shift_'+str(x)]=full_df.groupby(['pk_cid'])['isNewClient'].shift(x)\n",
    "    full_df['active_customer_shift_'+str(x)]=full_df.groupby(['pk_cid'])['active_customer'].shift(x)\n",
    "    full_df['totalAssets_shift_'+str(x)]=full_df.groupby(['pk_cid'])['totalAssets'].shift(x)\n",
    "    full_df['totalCuentas_shift_'+str(x)]=full_df.groupby(['pk_cid'])['totalCuentas'].shift(x)\n",
    "    full_df['totalAhorro_shift_'+str(x)]=full_df.groupby(['pk_cid'])['totalAhorro'].shift(x)\n",
    "    full_df['totalFinanciacion_shift_'+str(x)]=full_df.groupby(['pk_cid'])['totalFinanciacion'].shift(x)\n",
    "    full_df['totalIngresos_'+str(x)]=full_df.groupby(['pk_cid'])['totalIngresos'].shift(x)\n",
    "    full_df['totalBeneficio_'+str(x)]=full_df.groupby(['pk_cid'])['totalBeneficio'].shift(x)\n",
    "    full_df['diasDesdeUltimaAltaInt_'+str(x)]=full_df.groupby(['pk_cid'])['diasDesdeUltimaAltaInt'].shift(x)\n",
    "    full_df['hayAlta_'+str(x)]=full_df.groupby(['pk_cid'])['hayAlta'].shift(x)\n",
    "    full_df['diasDesdeUltimaBajaInt_'+str(x)]=full_df.groupby(['pk_cid'])['diasDesdeUltimaAltaInt'].shift(x)\n",
    "    full_df['hayBaja_'+str(x)]=full_df.groupby(['pk_cid'])['hayAlta'].shift(x)"
   ]
  },
  {
   "cell_type": "code",
   "execution_count": 128,
   "metadata": {
    "ExecuteTime": {
     "end_time": "2020-09-06T21:40:03.189780Z",
     "start_time": "2020-09-06T21:39:37.040836Z"
    }
   },
   "outputs": [],
   "source": [
    "# Rellenamos los nulos producidos en las shift\n",
    "full_df.fillna(-999,inplace=True)"
   ]
  },
  {
   "cell_type": "code",
   "execution_count": 3,
   "metadata": {
    "ExecuteTime": {
     "end_time": "2020-09-07T06:17:29.841169Z",
     "start_time": "2020-09-07T06:17:29.681262Z"
    }
   },
   "outputs": [
    {
     "ename": "NameError",
     "evalue": "name 'full_df' is not defined",
     "output_type": "error",
     "traceback": [
      "\u001b[1;31m---------------------------------------------------------------------------\u001b[0m",
      "\u001b[1;31mNameError\u001b[0m                                 Traceback (most recent call last)",
      "\u001b[1;32m<ipython-input-3-a48a55ce251e>\u001b[0m in \u001b[0;36m<module>\u001b[1;34m\u001b[0m\n\u001b[1;32m----> 1\u001b[1;33m \u001b[0mfull_df\u001b[0m\u001b[1;33m.\u001b[0m\u001b[0mto_pickle\u001b[0m\u001b[1;33m(\u001b[0m\u001b[1;34m'./fulldf_base_V2.pkl'\u001b[0m\u001b[1;33m,\u001b[0m\u001b[0mcompression\u001b[0m\u001b[1;33m=\u001b[0m\u001b[1;34m'zip'\u001b[0m\u001b[1;33m)\u001b[0m\u001b[1;33m\u001b[0m\u001b[1;33m\u001b[0m\u001b[0m\n\u001b[0m",
      "\u001b[1;31mNameError\u001b[0m: name 'full_df' is not defined"
     ]
    }
   ],
   "source": [
    "full_df.to_pickle('./fulldf_base_V2.pkl',compression='zip')"
   ]
  },
  {
   "cell_type": "code",
   "execution_count": 3,
   "metadata": {
    "ExecuteTime": {
     "end_time": "2020-09-08T09:12:29.554598Z",
     "start_time": "2020-09-08T09:10:25.759419Z"
    }
   },
   "outputs": [],
   "source": [
    "full_df=pd.read_pickle('./fulldf_base_V2.pkl',compression='zip')"
   ]
  },
  {
   "cell_type": "code",
   "execution_count": 37,
   "metadata": {
    "ExecuteTime": {
     "end_time": "2020-09-06T15:01:50.343158Z",
     "start_time": "2020-09-06T15:01:49.164837Z"
    }
   },
   "outputs": [],
   "source": [
    "full_df[\"day\"] = full_df[\"pk_partition\"].dt.day\n",
    "full_df[\"year\"] = full_df[\"pk_partition\"].dt.year\n",
    "full_df[\"month\"] = full_df[\"pk_partition\"].dt.month"
   ]
  },
  {
   "cell_type": "code",
   "execution_count": 38,
   "metadata": {
    "ExecuteTime": {
     "end_time": "2020-09-06T15:01:54.770605Z",
     "start_time": "2020-09-06T15:01:53.535298Z"
    }
   },
   "outputs": [],
   "source": [
    "full_df[\"entry_date_day\"] = full_df[\"entry_date\"].dt.day\n",
    "full_df[\"entry_date_year\"] = full_df[\"entry_date\"].dt.year\n",
    "full_df[\"entry_date_month\"] = full_df[\"entry_date\"].dt.month"
   ]
  },
  {
   "cell_type": "code",
   "execution_count": 42,
   "metadata": {
    "ExecuteTime": {
     "end_time": "2020-09-06T13:31:32.290778Z",
     "start_time": "2020-09-06T13:31:31.265357Z"
    }
   },
   "outputs": [
    {
     "name": "stdout",
     "output_type": "stream",
     "text": [
      "<class 'pandas.core.frame.DataFrame'>\n",
      "Int64Index: 5063970 entries, 2 to 5968583\n",
      "Columns: 323 entries, pk_partition to entry_date_month\n",
      "dtypes: datetime64[ns](2), float16(149), float32(1), float64(155), int64(7), object(9)\n",
      "memory usage: 8.0+ GB\n"
     ]
    }
   ],
   "source": [
    "full_df.info()"
   ]
  },
  {
   "cell_type": "code",
   "execution_count": 43,
   "metadata": {
    "ExecuteTime": {
     "end_time": "2020-09-06T13:32:02.749935Z",
     "start_time": "2020-09-06T13:31:48.070417Z"
    }
   },
   "outputs": [
    {
     "data": {
      "text/plain": [
       "0"
      ]
     },
     "execution_count": 43,
     "metadata": {},
     "output_type": "execute_result"
    }
   ],
   "source": [
    "# Solo hay nulos en el mes a predecir:\n",
    "full_df[full_df['pk_partition']<\n",
    "        '2019-06-28'].isnull().sum().sum()"
   ]
  },
  {
   "cell_type": "code",
   "execution_count": 40,
   "metadata": {
    "ExecuteTime": {
     "end_time": "2020-09-06T15:02:48.306743Z",
     "start_time": "2020-09-06T15:02:33.314369Z"
    }
   },
   "outputs": [
    {
     "name": "stdout",
     "output_type": "stream",
     "text": [
      "Mem. usage decreased to 3632.99 Mb (5.3% reduction)\n"
     ]
    }
   ],
   "source": [
    "reduce_mem_usage(full_df, verbose = True)"
   ]
  },
  {
   "cell_type": "code",
   "execution_count": 41,
   "metadata": {
    "ExecuteTime": {
     "end_time": "2020-09-06T15:03:15.936198Z",
     "start_time": "2020-09-06T15:03:14.809847Z"
    }
   },
   "outputs": [
    {
     "name": "stdout",
     "output_type": "stream",
     "text": [
      "<class 'pandas.core.frame.DataFrame'>\n",
      "Int64Index: 5290924 entries, 3 to 7973909\n",
      "Columns: 323 entries, pk_partition to entry_date_month\n",
      "dtypes: datetime64[ns](2), float16(304), float32(1), int16(2), int32(1), int8(4), object(9)\n",
      "memory usage: 3.5+ GB\n"
     ]
    }
   ],
   "source": [
    "full_df.info()"
   ]
  },
  {
   "cell_type": "code",
   "execution_count": 46,
   "metadata": {
    "ExecuteTime": {
     "end_time": "2020-09-06T13:37:53.379996Z",
     "start_time": "2020-09-06T13:37:51.820526Z"
    }
   },
   "outputs": [
    {
     "data": {
      "text/plain": [
       "29089"
      ]
     },
     "execution_count": 46,
     "metadata": {},
     "output_type": "execute_result"
    }
   ],
   "source": [
    "gc.collect()"
   ]
  },
  {
   "cell_type": "code",
   "execution_count": 42,
   "metadata": {
    "ExecuteTime": {
     "end_time": "2020-09-06T15:03:28.957627Z",
     "start_time": "2020-09-06T15:03:28.514154Z"
    }
   },
   "outputs": [
    {
     "data": {
      "text/plain": [
       "KHE     2682591\n",
       "KFC      642547\n",
       "KHQ      443661\n",
       "-999     442995\n",
       "KAT      336817\n",
       "KHK      165437\n",
       "KHM      127410\n",
       "XXX      114477\n",
       "KHN       85196\n",
       "KHD       63473\n",
       "Name: entry_channel, dtype: int64"
      ]
     },
     "execution_count": 42,
     "metadata": {},
     "output_type": "execute_result"
    }
   ],
   "source": [
    "full_df['entry_channel'].value_counts(dropna=False).head(10)"
   ]
  },
  {
   "cell_type": "code",
   "execution_count": 43,
   "metadata": {
    "ExecuteTime": {
     "end_time": "2020-09-06T15:03:31.630105Z",
     "start_time": "2020-09-06T15:03:30.910501Z"
    }
   },
   "outputs": [],
   "source": [
    "full_df.loc[full_df['entry_channel']==-999,'entry_channel']='XXX'"
   ]
  },
  {
   "cell_type": "code",
   "execution_count": 44,
   "metadata": {
    "ExecuteTime": {
     "end_time": "2020-09-06T15:03:34.843252Z",
     "start_time": "2020-09-06T15:03:33.562972Z"
    }
   },
   "outputs": [],
   "source": [
    "full_df['entry_channel']=pd.Categorical(full_df['entry_channel'], categories=full_df['entry_channel'].value_counts(dropna=False).head(10).index.to_list())"
   ]
  },
  {
   "cell_type": "code",
   "execution_count": 45,
   "metadata": {
    "ExecuteTime": {
     "end_time": "2020-09-06T15:03:36.858091Z",
     "start_time": "2020-09-06T15:03:36.801105Z"
    }
   },
   "outputs": [
    {
     "data": {
      "text/plain": [
       "KHE    2682591\n",
       "KFC     642547\n",
       "XXX     557472\n",
       "KHQ     443661\n",
       "KAT     336817\n",
       "KHK     165437\n",
       "KHM     127410\n",
       "NaN     125365\n",
       "KHN      85196\n",
       "KHD      63473\n",
       "KFA      60955\n",
       "Name: entry_channel, dtype: int64"
      ]
     },
     "execution_count": 45,
     "metadata": {},
     "output_type": "execute_result"
    }
   ],
   "source": [
    "full_df['entry_channel'].value_counts(dropna=False)"
   ]
  },
  {
   "cell_type": "code",
   "execution_count": 46,
   "metadata": {
    "ExecuteTime": {
     "end_time": "2020-09-06T15:03:38.938873Z",
     "start_time": "2020-09-06T15:03:38.835945Z"
    }
   },
   "outputs": [],
   "source": [
    "dummy_dataset = pd.get_dummies(full_df['entry_channel'],prefix='channel')"
   ]
  },
  {
   "cell_type": "code",
   "execution_count": 47,
   "metadata": {
    "ExecuteTime": {
     "end_time": "2020-09-06T15:03:40.922498Z",
     "start_time": "2020-09-06T15:03:40.904508Z"
    }
   },
   "outputs": [
    {
     "data": {
      "text/html": [
       "<div>\n",
       "<style scoped>\n",
       "    .dataframe tbody tr th:only-of-type {\n",
       "        vertical-align: middle;\n",
       "    }\n",
       "\n",
       "    .dataframe tbody tr th {\n",
       "        vertical-align: top;\n",
       "    }\n",
       "\n",
       "    .dataframe thead th {\n",
       "        text-align: right;\n",
       "    }\n",
       "</style>\n",
       "<table border=\"1\" class=\"dataframe\">\n",
       "  <thead>\n",
       "    <tr style=\"text-align: right;\">\n",
       "      <th></th>\n",
       "      <th>channel_KHE</th>\n",
       "      <th>channel_KFC</th>\n",
       "      <th>channel_XXX</th>\n",
       "      <th>channel_KHQ</th>\n",
       "      <th>channel_KAT</th>\n",
       "      <th>channel_KHK</th>\n",
       "      <th>channel_KHM</th>\n",
       "      <th>channel_KHN</th>\n",
       "      <th>channel_KHD</th>\n",
       "      <th>channel_KFA</th>\n",
       "    </tr>\n",
       "  </thead>\n",
       "  <tbody>\n",
       "    <tr>\n",
       "      <th>3</th>\n",
       "      <td>0</td>\n",
       "      <td>0</td>\n",
       "      <td>0</td>\n",
       "      <td>0</td>\n",
       "      <td>1</td>\n",
       "      <td>0</td>\n",
       "      <td>0</td>\n",
       "      <td>0</td>\n",
       "      <td>0</td>\n",
       "      <td>0</td>\n",
       "    </tr>\n",
       "    <tr>\n",
       "      <th>5</th>\n",
       "      <td>0</td>\n",
       "      <td>0</td>\n",
       "      <td>0</td>\n",
       "      <td>0</td>\n",
       "      <td>1</td>\n",
       "      <td>0</td>\n",
       "      <td>0</td>\n",
       "      <td>0</td>\n",
       "      <td>0</td>\n",
       "      <td>0</td>\n",
       "    </tr>\n",
       "    <tr>\n",
       "      <th>6</th>\n",
       "      <td>0</td>\n",
       "      <td>0</td>\n",
       "      <td>0</td>\n",
       "      <td>0</td>\n",
       "      <td>1</td>\n",
       "      <td>0</td>\n",
       "      <td>0</td>\n",
       "      <td>0</td>\n",
       "      <td>0</td>\n",
       "      <td>0</td>\n",
       "    </tr>\n",
       "    <tr>\n",
       "      <th>9</th>\n",
       "      <td>0</td>\n",
       "      <td>0</td>\n",
       "      <td>0</td>\n",
       "      <td>0</td>\n",
       "      <td>1</td>\n",
       "      <td>0</td>\n",
       "      <td>0</td>\n",
       "      <td>0</td>\n",
       "      <td>0</td>\n",
       "      <td>0</td>\n",
       "    </tr>\n",
       "    <tr>\n",
       "      <th>11</th>\n",
       "      <td>0</td>\n",
       "      <td>0</td>\n",
       "      <td>0</td>\n",
       "      <td>0</td>\n",
       "      <td>1</td>\n",
       "      <td>0</td>\n",
       "      <td>0</td>\n",
       "      <td>0</td>\n",
       "      <td>0</td>\n",
       "      <td>0</td>\n",
       "    </tr>\n",
       "    <tr>\n",
       "      <th>...</th>\n",
       "      <td>...</td>\n",
       "      <td>...</td>\n",
       "      <td>...</td>\n",
       "      <td>...</td>\n",
       "      <td>...</td>\n",
       "      <td>...</td>\n",
       "      <td>...</td>\n",
       "      <td>...</td>\n",
       "      <td>...</td>\n",
       "      <td>...</td>\n",
       "    </tr>\n",
       "    <tr>\n",
       "      <th>7973905</th>\n",
       "      <td>0</td>\n",
       "      <td>0</td>\n",
       "      <td>1</td>\n",
       "      <td>0</td>\n",
       "      <td>0</td>\n",
       "      <td>0</td>\n",
       "      <td>0</td>\n",
       "      <td>0</td>\n",
       "      <td>0</td>\n",
       "      <td>0</td>\n",
       "    </tr>\n",
       "    <tr>\n",
       "      <th>7973906</th>\n",
       "      <td>0</td>\n",
       "      <td>0</td>\n",
       "      <td>1</td>\n",
       "      <td>0</td>\n",
       "      <td>0</td>\n",
       "      <td>0</td>\n",
       "      <td>0</td>\n",
       "      <td>0</td>\n",
       "      <td>0</td>\n",
       "      <td>0</td>\n",
       "    </tr>\n",
       "    <tr>\n",
       "      <th>7973907</th>\n",
       "      <td>0</td>\n",
       "      <td>0</td>\n",
       "      <td>1</td>\n",
       "      <td>0</td>\n",
       "      <td>0</td>\n",
       "      <td>0</td>\n",
       "      <td>0</td>\n",
       "      <td>0</td>\n",
       "      <td>0</td>\n",
       "      <td>0</td>\n",
       "    </tr>\n",
       "    <tr>\n",
       "      <th>7973908</th>\n",
       "      <td>0</td>\n",
       "      <td>0</td>\n",
       "      <td>1</td>\n",
       "      <td>0</td>\n",
       "      <td>0</td>\n",
       "      <td>0</td>\n",
       "      <td>0</td>\n",
       "      <td>0</td>\n",
       "      <td>0</td>\n",
       "      <td>0</td>\n",
       "    </tr>\n",
       "    <tr>\n",
       "      <th>7973909</th>\n",
       "      <td>0</td>\n",
       "      <td>0</td>\n",
       "      <td>1</td>\n",
       "      <td>0</td>\n",
       "      <td>0</td>\n",
       "      <td>0</td>\n",
       "      <td>0</td>\n",
       "      <td>0</td>\n",
       "      <td>0</td>\n",
       "      <td>0</td>\n",
       "    </tr>\n",
       "  </tbody>\n",
       "</table>\n",
       "<p>5290924 rows × 10 columns</p>\n",
       "</div>"
      ],
      "text/plain": [
       "         channel_KHE  channel_KFC  channel_XXX  channel_KHQ  channel_KAT  \\\n",
       "3                  0            0            0            0            1   \n",
       "5                  0            0            0            0            1   \n",
       "6                  0            0            0            0            1   \n",
       "9                  0            0            0            0            1   \n",
       "11                 0            0            0            0            1   \n",
       "...              ...          ...          ...          ...          ...   \n",
       "7973905            0            0            1            0            0   \n",
       "7973906            0            0            1            0            0   \n",
       "7973907            0            0            1            0            0   \n",
       "7973908            0            0            1            0            0   \n",
       "7973909            0            0            1            0            0   \n",
       "\n",
       "         channel_KHK  channel_KHM  channel_KHN  channel_KHD  channel_KFA  \n",
       "3                  0            0            0            0            0  \n",
       "5                  0            0            0            0            0  \n",
       "6                  0            0            0            0            0  \n",
       "9                  0            0            0            0            0  \n",
       "11                 0            0            0            0            0  \n",
       "...              ...          ...          ...          ...          ...  \n",
       "7973905            0            0            0            0            0  \n",
       "7973906            0            0            0            0            0  \n",
       "7973907            0            0            0            0            0  \n",
       "7973908            0            0            0            0            0  \n",
       "7973909            0            0            0            0            0  \n",
       "\n",
       "[5290924 rows x 10 columns]"
      ]
     },
     "execution_count": 47,
     "metadata": {},
     "output_type": "execute_result"
    }
   ],
   "source": [
    "dummy_dataset"
   ]
  },
  {
   "cell_type": "code",
   "execution_count": 48,
   "metadata": {
    "ExecuteTime": {
     "end_time": "2020-09-06T15:03:48.447184Z",
     "start_time": "2020-09-06T15:03:42.894361Z"
    }
   },
   "outputs": [],
   "source": [
    "full_df = pd.concat([full_df,dummy_dataset],axis=1)"
   ]
  },
  {
   "cell_type": "code",
   "execution_count": 6,
   "metadata": {
    "ExecuteTime": {
     "end_time": "2020-09-07T06:24:28.094600Z",
     "start_time": "2020-09-07T06:24:27.153143Z"
    }
   },
   "outputs": [
    {
     "name": "stdout",
     "output_type": "stream",
     "text": [
      "<class 'pandas.core.frame.DataFrame'>\n",
      "Int64Index: 5290924 entries, 3 to 7973909\n",
      "Data columns (total 317 columns):\n",
      " #   Column                          Dtype         \n",
      "---  ------                          -----         \n",
      " 0   pk_partition                    datetime64[ns]\n",
      " 1   pk_cid                          int32         \n",
      " 2   short_term_deposit              float16       \n",
      " 3   loans                           float16       \n",
      " 4   mortgage                        float16       \n",
      " 5   funds                           float16       \n",
      " 6   securities                      float16       \n",
      " 7   long_term_deposit               float16       \n",
      " 8   em_account_pp                   float16       \n",
      " 9   credit_card                     float16       \n",
      " 10  payroll                         float16       \n",
      " 11  pension_plan                    float16       \n",
      " 12  payroll_account                 float16       \n",
      " 13  emc_account                     float16       \n",
      " 14  debit_card                      float16       \n",
      " 15  em_account_p                    float16       \n",
      " 16  em_acount                       float16       \n",
      " 17  entry_date                      datetime64[ns]\n",
      " 18  entry_channel                   object        \n",
      " 19  active_customer                 float16       \n",
      " 20  segment                         object        \n",
      " 21  country_id                      object        \n",
      " 22  region_code                     float16       \n",
      " 23  gender                          object        \n",
      " 24  age                             float16       \n",
      " 25  deceased                        object        \n",
      " 26  salary                          float32       \n",
      " 27  dif_debit_card                  float16       \n",
      " 28  dif_em_account_p                float16       \n",
      " 29  dif_em_account_pp               float16       \n",
      " 30  dif_em_acount                   float16       \n",
      " 31  dif_emc_account                 float16       \n",
      " 32  dif_payroll                     float16       \n",
      " 33  dif_payroll_account             float16       \n",
      " 34  dif_funds                       float16       \n",
      " 35  dif_long_term_deposit           float16       \n",
      " 36  dif_mortgage                    float16       \n",
      " 37  dif_pension_plan                float16       \n",
      " 38  dif_securities                  float16       \n",
      " 39  dif_short_term_deposit          float16       \n",
      " 40  dif_loans                       float16       \n",
      " 41  dif_credit_card                 float16       \n",
      " 42  mesesAlta                       float16       \n",
      " 43  isNewClient                     float16       \n",
      " 44  isActive                        float16       \n",
      " 45  Provincia                       object        \n",
      " 46  SalaryQtil                      object        \n",
      " 47  totalAssets                     float16       \n",
      " 48  totalCuentas                    float16       \n",
      " 49  totalAhorro                     float16       \n",
      " 50  totalFinanciacion               float16       \n",
      " 51  totalIngresos                   float16       \n",
      " 52  totalBeneficio                  float16       \n",
      " 53  hayAlta                         float16       \n",
      " 54  diasDesdeUltimaAlta             object        \n",
      " 55  diasDesdeUltimaAltaInt          float16       \n",
      " 56  hayBaja                         float16       \n",
      " 57  diasDesdeUltimaBaja             object        \n",
      " 58  diasDesdeUltimaBajaInt          float16       \n",
      " 59  dif_loans_shift_1               float16       \n",
      " 60  dif_loans_shift_2               float16       \n",
      " 61  dif_loans_shift_3               float16       \n",
      " 62  dif_loans_shift_4               float16       \n",
      " 63  dif_loans_shift_5               float16       \n",
      " 64  dif_loans_shift_6               float16       \n",
      " 65  dif_mortgage_shift_1            float16       \n",
      " 66  dif_mortgage_shift_2            float16       \n",
      " 67  dif_mortgage_shift_3            float16       \n",
      " 68  dif_mortgage_shift_4            float16       \n",
      " 69  dif_mortgage_shift_5            float16       \n",
      " 70  dif_mortgage_shift_6            float16       \n",
      " 71  dif_funds_shift_1               float16       \n",
      " 72  dif_funds_shift_2               float16       \n",
      " 73  dif_funds_shift_3               float16       \n",
      " 74  dif_funds_shift_4               float16       \n",
      " 75  dif_funds_shift_5               float16       \n",
      " 76  dif_funds_shift_6               float16       \n",
      " 77  dif_securities_shift_1          float16       \n",
      " 78  dif_securities_shift_2          float16       \n",
      " 79  dif_securities_shift_3          float16       \n",
      " 80  dif_securities_shift_4          float16       \n",
      " 81  dif_securities_shift_5          float16       \n",
      " 82  dif_securities_shift_6          float16       \n",
      " 83  dif_long_term_deposit_shift_1   float16       \n",
      " 84  dif_long_term_deposit_shift_2   float16       \n",
      " 85  dif_long_term_deposit_shift_3   float16       \n",
      " 86  dif_long_term_deposit_shift_4   float16       \n",
      " 87  dif_long_term_deposit_shift_5   float16       \n",
      " 88  dif_long_term_deposit_shift_6   float16       \n",
      " 89  dif_short_term_deposit_shift_1  float16       \n",
      " 90  dif_short_term_deposit_shift_2  float16       \n",
      " 91  dif_short_term_deposit_shift_3  float16       \n",
      " 92  dif_short_term_deposit_shift_4  float16       \n",
      " 93  dif_short_term_deposit_shift_5  float16       \n",
      " 94  dif_short_term_deposit_shift_6  float16       \n",
      " 95  dif_em_account_pp_shift_1       float16       \n",
      " 96  dif_em_account_pp_shift_2       float16       \n",
      " 97  dif_em_account_pp_shift_3       float16       \n",
      " 98  dif_em_account_pp_shift_4       float16       \n",
      " 99  dif_em_account_pp_shift_5       float16       \n",
      " 100 dif_em_account_pp_shift_6       float16       \n",
      " 101 dif_credit_card_shift_1         float16       \n",
      " 102 dif_credit_card_shift_2         float16       \n",
      " 103 dif_credit_card_shift_3         float16       \n",
      " 104 dif_credit_card_shift_4         float16       \n",
      " 105 dif_credit_card_shift_5         float16       \n",
      " 106 dif_credit_card_shift_6         float16       \n",
      " 107 dif_payroll_shift_1             float16       \n",
      " 108 dif_payroll_shift_2             float16       \n",
      " 109 dif_payroll_shift_3             float16       \n",
      " 110 dif_payroll_shift_4             float16       \n",
      " 111 dif_payroll_shift_5             float16       \n",
      " 112 dif_payroll_shift_6             float16       \n",
      " 113 dif_pension_plan_shift_1        float16       \n",
      " 114 dif_pension_plan_shift_2        float16       \n",
      " 115 dif_pension_plan_shift_3        float16       \n",
      " 116 dif_pension_plan_shift_4        float16       \n",
      " 117 dif_pension_plan_shift_5        float16       \n",
      " 118 dif_pension_plan_shift_6        float16       \n",
      " 119 dif_payroll_account_shift_1     float16       \n",
      " 120 dif_payroll_account_shift_2     float16       \n",
      " 121 dif_payroll_account_shift_3     float16       \n",
      " 122 dif_payroll_account_shift_4     float16       \n",
      " 123 dif_payroll_account_shift_5     float16       \n",
      " 124 dif_payroll_account_shift_6     float16       \n",
      " 125 dif_emc_account_shift_1         float16       \n",
      " 126 dif_emc_account_shift_2         float16       \n",
      " 127 dif_emc_account_shift_3         float16       \n",
      " 128 dif_emc_account_shift_4         float16       \n",
      " 129 dif_emc_account_shift_5         float16       \n",
      " 130 dif_emc_account_shift_6         float16       \n",
      " 131 dif_debit_card_shift_1          float16       \n",
      " 132 dif_debit_card_shift_2          float16       \n",
      " 133 dif_debit_card_shift_3          float16       \n",
      " 134 dif_debit_card_shift_4          float16       \n",
      " 135 dif_debit_card_shift_5          float16       \n",
      " 136 dif_debit_card_shift_6          float16       \n",
      " 137 dif_em_acount_shift_1           float16       \n",
      " 138 dif_em_acount_shift_2           float16       \n",
      " 139 dif_em_acount_shift_3           float16       \n",
      " 140 dif_em_acount_shift_4           float16       \n",
      " 141 dif_em_acount_shift_5           float16       \n",
      " 142 dif_em_acount_shift_6           float16       \n",
      " 143 dif_em_account_p_shift_1        float16       \n",
      " 144 dif_em_account_p_shift_2        float16       \n",
      " 145 dif_em_account_p_shift_3        float16       \n",
      " 146 dif_em_account_p_shift_4        float16       \n",
      " 147 dif_em_account_p_shift_5        float16       \n",
      " 148 dif_em_account_p_shift_6        float16       \n",
      " 149 loans_shift_1                   float16       \n",
      " 150 loans_shift_2                   float16       \n",
      " 151 loans_shift_3                   float16       \n",
      " 152 loans_shift_4                   float16       \n",
      " 153 loans_shift_5                   float16       \n",
      " 154 loans_shift_6                   float16       \n",
      " 155 mortgage_shift_1                float16       \n",
      " 156 mortgage_shift_2                float16       \n",
      " 157 mortgage_shift_3                float16       \n",
      " 158 mortgage_shift_4                float16       \n",
      " 159 mortgage_shift_5                float16       \n",
      " 160 mortgage_shift_6                float16       \n",
      " 161 funds_shift_1                   float16       \n",
      " 162 funds_shift_2                   float16       \n",
      " 163 funds_shift_3                   float16       \n",
      " 164 funds_shift_4                   float16       \n",
      " 165 funds_shift_5                   float16       \n",
      " 166 funds_shift_6                   float16       \n",
      " 167 securities_shift_1              float16       \n",
      " 168 securities_shift_2              float16       \n",
      " 169 securities_shift_3              float16       \n",
      " 170 securities_shift_4              float16       \n",
      " 171 securities_shift_5              float16       \n",
      " 172 securities_shift_6              float16       \n",
      " 173 long_term_deposit_shift_1       float16       \n",
      " 174 long_term_deposit_shift_2       float16       \n",
      " 175 long_term_deposit_shift_3       float16       \n",
      " 176 long_term_deposit_shift_4       float16       \n",
      " 177 long_term_deposit_shift_5       float16       \n",
      " 178 long_term_deposit_shift_6       float16       \n",
      " 179 short_term_deposit_shift_1      float16       \n",
      " 180 short_term_deposit_shift_2      float16       \n",
      " 181 short_term_deposit_shift_3      float16       \n",
      " 182 short_term_deposit_shift_4      float16       \n",
      " 183 short_term_deposit_shift_5      float16       \n",
      " 184 short_term_deposit_shift_6      float16       \n",
      " 185 em_account_pp_shift_1           float16       \n",
      " 186 em_account_pp_shift_2           float16       \n",
      " 187 em_account_pp_shift_3           float16       \n",
      " 188 em_account_pp_shift_4           float16       \n",
      " 189 em_account_pp_shift_5           float16       \n",
      " 190 em_account_pp_shift_6           float16       \n",
      " 191 credit_card_shift_1             float16       \n",
      " 192 credit_card_shift_2             float16       \n",
      " 193 credit_card_shift_3             float16       \n",
      " 194 credit_card_shift_4             float16       \n",
      " 195 credit_card_shift_5             float16       \n",
      " 196 credit_card_shift_6             float16       \n",
      " 197 payroll_shift_1                 float16       \n",
      " 198 payroll_shift_2                 float16       \n",
      " 199 payroll_shift_3                 float16       \n",
      " 200 payroll_shift_4                 float16       \n",
      " 201 payroll_shift_5                 float16       \n",
      " 202 payroll_shift_6                 float16       \n",
      " 203 pension_plan_shift_1            float16       \n",
      " 204 pension_plan_shift_2            float16       \n",
      " 205 pension_plan_shift_3            float16       \n",
      " 206 pension_plan_shift_4            float16       \n",
      " 207 pension_plan_shift_5            float16       \n",
      " 208 pension_plan_shift_6            float16       \n",
      " 209 payroll_account_shift_1         float16       \n",
      " 210 payroll_account_shift_2         float16       \n",
      " 211 payroll_account_shift_3         float16       \n",
      " 212 payroll_account_shift_4         float16       \n",
      " 213 payroll_account_shift_5         float16       \n",
      " 214 payroll_account_shift_6         float16       \n",
      " 215 emc_account_shift_1             float16       \n",
      " 216 emc_account_shift_2             float16       \n",
      " 217 emc_account_shift_3             float16       \n",
      " 218 emc_account_shift_4             float16       \n",
      " 219 emc_account_shift_5             float16       \n",
      " 220 emc_account_shift_6             float16       \n",
      " 221 debit_card_shift_1              float16       \n",
      " 222 debit_card_shift_2              float16       \n",
      " 223 debit_card_shift_3              float16       \n",
      " 224 debit_card_shift_4              float16       \n",
      " 225 debit_card_shift_5              float16       \n",
      " 226 debit_card_shift_6              float16       \n",
      " 227 em_acount_shift_1               float16       \n",
      " 228 em_acount_shift_2               float16       \n",
      " 229 em_acount_shift_3               float16       \n",
      " 230 em_acount_shift_4               float16       \n",
      " 231 em_acount_shift_5               float16       \n",
      " 232 em_acount_shift_6               float16       \n",
      " 233 em_account_p_shift_1            float16       \n",
      " 234 em_account_p_shift_2            float16       \n",
      " 235 em_account_p_shift_3            float16       \n",
      " 236 em_account_p_shift_4            float16       \n",
      " 237 em_account_p_shift_5            float16       \n",
      " 238 em_account_p_shift_6            float16       \n",
      " 239 isActive_shift_1                float16       \n",
      " 240 isNewClient_shift_1             float16       \n",
      " 241 active_customer_shift_1         float16       \n",
      " 242 totalAssets_shift_1             float16       \n",
      " 243 totalCuentas_shift_1            float16       \n",
      " 244 totalAhorro_shift_1             float16       \n",
      " 245 totalFinanciacion_shift_1       float16       \n",
      " 246 totalIngresos_1                 float16       \n",
      " 247 totalBeneficio_1                float16       \n",
      " 248 diasDesdeUltimaAltaInt_1        float16       \n",
      " 249 hayAlta_1                       float16       \n",
      " 250 diasDesdeUltimaBajaInt_1        float16       \n",
      " 251 hayBaja_1                       float16       \n",
      " 252 isActive_shift_2                float16       \n",
      " 253 isNewClient_shift_2             float16       \n",
      " 254 active_customer_shift_2         float16       \n",
      " 255 totalAssets_shift_2             float16       \n",
      " 256 totalCuentas_shift_2            float16       \n",
      " 257 totalAhorro_shift_2             float16       \n",
      " 258 totalFinanciacion_shift_2       float16       \n",
      " 259 totalIngresos_2                 float16       \n",
      " 260 totalBeneficio_2                float16       \n",
      " 261 diasDesdeUltimaAltaInt_2        float16       \n",
      " 262 hayAlta_2                       float16       \n",
      " 263 diasDesdeUltimaBajaInt_2        float16       \n",
      " 264 hayBaja_2                       float16       \n",
      " 265 isActive_shift_3                float16       \n",
      " 266 isNewClient_shift_3             float16       \n",
      " 267 active_customer_shift_3         float16       \n",
      " 268 totalAssets_shift_3             float16       \n",
      " 269 totalCuentas_shift_3            float16       \n",
      " 270 totalAhorro_shift_3             float16       \n",
      " 271 totalFinanciacion_shift_3       float16       \n",
      " 272 totalIngresos_3                 float16       \n",
      " 273 totalBeneficio_3                float16       \n",
      " 274 diasDesdeUltimaAltaInt_3        float16       \n",
      " 275 hayAlta_3                       float16       \n",
      " 276 diasDesdeUltimaBajaInt_3        float16       \n",
      " 277 hayBaja_3                       float16       \n",
      " 278 isActive_shift_4                float16       \n",
      " 279 isNewClient_shift_4             float16       \n",
      " 280 active_customer_shift_4         float16       \n",
      " 281 totalAssets_shift_4             float16       \n",
      " 282 totalCuentas_shift_4            float16       \n",
      " 283 totalAhorro_shift_4             float16       \n",
      " 284 totalFinanciacion_shift_4       float16       \n",
      " 285 totalIngresos_4                 float16       \n",
      " 286 totalBeneficio_4                float16       \n",
      " 287 diasDesdeUltimaAltaInt_4        float16       \n",
      " 288 hayAlta_4                       float16       \n",
      " 289 diasDesdeUltimaBajaInt_4        float16       \n",
      " 290 hayBaja_4                       float16       \n",
      " 291 isActive_shift_5                float16       \n",
      " 292 isNewClient_shift_5             float16       \n",
      " 293 active_customer_shift_5         float16       \n",
      " 294 totalAssets_shift_5             float16       \n",
      " 295 totalCuentas_shift_5            float16       \n",
      " 296 totalAhorro_shift_5             float16       \n",
      " 297 totalFinanciacion_shift_5       float16       \n",
      " 298 totalIngresos_5                 float16       \n",
      " 299 totalBeneficio_5                float16       \n",
      " 300 diasDesdeUltimaAltaInt_5        float16       \n",
      " 301 hayAlta_5                       float16       \n",
      " 302 diasDesdeUltimaBajaInt_5        float16       \n",
      " 303 hayBaja_5                       float16       \n",
      " 304 isActive_shift_6                float16       \n",
      " 305 isNewClient_shift_6             float16       \n",
      " 306 active_customer_shift_6         float16       \n",
      " 307 totalAssets_shift_6             float16       \n",
      " 308 totalCuentas_shift_6            float16       \n",
      " 309 totalAhorro_shift_6             float16       \n",
      " 310 totalFinanciacion_shift_6       float16       \n",
      " 311 totalIngresos_6                 float16       \n",
      " 312 totalBeneficio_6                float16       \n",
      " 313 diasDesdeUltimaAltaInt_6        float16       \n",
      " 314 hayAlta_6                       float16       \n",
      " 315 diasDesdeUltimaBajaInt_6        float16       \n",
      " 316 hayBaja_6                       float16       \n",
      "dtypes: datetime64[ns](2), float16(304), float32(1), int32(1), object(9)\n",
      "memory usage: 3.5+ GB\n"
     ]
    }
   ],
   "source": [
    "full_df.info(verbose=True)"
   ]
  },
  {
   "cell_type": "code",
   "execution_count": 49,
   "metadata": {
    "ExecuteTime": {
     "end_time": "2020-09-06T15:03:50.589926Z",
     "start_time": "2020-09-06T15:03:50.139185Z"
    }
   },
   "outputs": [
    {
     "data": {
      "text/plain": [
       "ES       4846124\n",
       "-999      442995\n",
       "Other        696\n",
       "GB           374\n",
       "FR           202\n",
       "DE           188\n",
       "CH           156\n",
       "US            86\n",
       "BR            66\n",
       "BE            37\n",
       "Name: country_id, dtype: int64"
      ]
     },
     "execution_count": 49,
     "metadata": {},
     "output_type": "execute_result"
    }
   ],
   "source": [
    "full_df['country_id'].value_counts(dropna=False)"
   ]
  },
  {
   "cell_type": "code",
   "execution_count": 50,
   "metadata": {
    "ExecuteTime": {
     "end_time": "2020-09-06T15:03:57.768807Z",
     "start_time": "2020-09-06T15:03:52.186004Z"
    }
   },
   "outputs": [],
   "source": [
    "full_df.loc[full_df['country_id']==-999,'country_id']='Other'"
   ]
  },
  {
   "cell_type": "code",
   "execution_count": 51,
   "metadata": {
    "ExecuteTime": {
     "end_time": "2020-09-06T15:03:59.819604Z",
     "start_time": "2020-09-06T15:03:59.362867Z"
    }
   },
   "outputs": [
    {
     "data": {
      "text/plain": [
       "ES       4846124\n",
       "Other     443691\n",
       "GB           374\n",
       "FR           202\n",
       "DE           188\n",
       "CH           156\n",
       "US            86\n",
       "BR            66\n",
       "BE            37\n",
       "Name: country_id, dtype: int64"
      ]
     },
     "execution_count": 51,
     "metadata": {},
     "output_type": "execute_result"
    }
   ],
   "source": [
    "full_df['country_id'].value_counts(dropna=False)"
   ]
  },
  {
   "cell_type": "code",
   "execution_count": 52,
   "metadata": {
    "ExecuteTime": {
     "end_time": "2020-09-06T15:04:01.672581Z",
     "start_time": "2020-09-06T15:04:01.385702Z"
    }
   },
   "outputs": [],
   "source": [
    "dummy_dataset = pd.get_dummies(full_df['country_id'],prefix='country')"
   ]
  },
  {
   "cell_type": "code",
   "execution_count": 53,
   "metadata": {
    "ExecuteTime": {
     "end_time": "2020-09-06T15:04:09.504040Z",
     "start_time": "2020-09-06T15:04:03.247628Z"
    }
   },
   "outputs": [],
   "source": [
    "full_df = pd.concat([full_df,dummy_dataset],axis=1)"
   ]
  },
  {
   "cell_type": "code",
   "execution_count": 54,
   "metadata": {
    "ExecuteTime": {
     "end_time": "2020-09-06T15:04:12.166500Z",
     "start_time": "2020-09-06T15:04:11.366948Z"
    }
   },
   "outputs": [
    {
     "data": {
      "text/html": [
       "<div>\n",
       "<style scoped>\n",
       "    .dataframe tbody tr th:only-of-type {\n",
       "        vertical-align: middle;\n",
       "    }\n",
       "\n",
       "    .dataframe tbody tr th {\n",
       "        vertical-align: top;\n",
       "    }\n",
       "\n",
       "    .dataframe thead th {\n",
       "        text-align: right;\n",
       "    }\n",
       "</style>\n",
       "<table border=\"1\" class=\"dataframe\">\n",
       "  <thead>\n",
       "    <tr style=\"text-align: right;\">\n",
       "      <th></th>\n",
       "      <th>pk_partition</th>\n",
       "      <th>pk_cid</th>\n",
       "      <th>short_term_deposit</th>\n",
       "      <th>loans</th>\n",
       "      <th>mortgage</th>\n",
       "      <th>funds</th>\n",
       "      <th>securities</th>\n",
       "      <th>long_term_deposit</th>\n",
       "      <th>em_account_pp</th>\n",
       "      <th>credit_card</th>\n",
       "      <th>...</th>\n",
       "      <th>channel_KFA</th>\n",
       "      <th>country_BE</th>\n",
       "      <th>country_BR</th>\n",
       "      <th>country_CH</th>\n",
       "      <th>country_DE</th>\n",
       "      <th>country_ES</th>\n",
       "      <th>country_FR</th>\n",
       "      <th>country_GB</th>\n",
       "      <th>country_Other</th>\n",
       "      <th>country_US</th>\n",
       "    </tr>\n",
       "  </thead>\n",
       "  <tbody>\n",
       "    <tr>\n",
       "      <th>3</th>\n",
       "      <td>2018-01-28</td>\n",
       "      <td>17457</td>\n",
       "      <td>0.00</td>\n",
       "      <td>0.00</td>\n",
       "      <td>0.00</td>\n",
       "      <td>0.00</td>\n",
       "      <td>0.00</td>\n",
       "      <td>1.00</td>\n",
       "      <td>0.00</td>\n",
       "      <td>0.00</td>\n",
       "      <td>...</td>\n",
       "      <td>0</td>\n",
       "      <td>0</td>\n",
       "      <td>0</td>\n",
       "      <td>0</td>\n",
       "      <td>0</td>\n",
       "      <td>1</td>\n",
       "      <td>0</td>\n",
       "      <td>0</td>\n",
       "      <td>0</td>\n",
       "      <td>0</td>\n",
       "    </tr>\n",
       "    <tr>\n",
       "      <th>5</th>\n",
       "      <td>2018-01-28</td>\n",
       "      <td>17799</td>\n",
       "      <td>0.00</td>\n",
       "      <td>0.00</td>\n",
       "      <td>0.00</td>\n",
       "      <td>0.00</td>\n",
       "      <td>0.00</td>\n",
       "      <td>0.00</td>\n",
       "      <td>0.00</td>\n",
       "      <td>0.00</td>\n",
       "      <td>...</td>\n",
       "      <td>0</td>\n",
       "      <td>0</td>\n",
       "      <td>0</td>\n",
       "      <td>0</td>\n",
       "      <td>0</td>\n",
       "      <td>1</td>\n",
       "      <td>0</td>\n",
       "      <td>0</td>\n",
       "      <td>0</td>\n",
       "      <td>0</td>\n",
       "    </tr>\n",
       "    <tr>\n",
       "      <th>6</th>\n",
       "      <td>2018-01-28</td>\n",
       "      <td>17970</td>\n",
       "      <td>0.00</td>\n",
       "      <td>0.00</td>\n",
       "      <td>0.00</td>\n",
       "      <td>0.00</td>\n",
       "      <td>0.00</td>\n",
       "      <td>0.00</td>\n",
       "      <td>0.00</td>\n",
       "      <td>0.00</td>\n",
       "      <td>...</td>\n",
       "      <td>0</td>\n",
       "      <td>0</td>\n",
       "      <td>0</td>\n",
       "      <td>0</td>\n",
       "      <td>0</td>\n",
       "      <td>1</td>\n",
       "      <td>0</td>\n",
       "      <td>0</td>\n",
       "      <td>0</td>\n",
       "      <td>0</td>\n",
       "    </tr>\n",
       "    <tr>\n",
       "      <th>9</th>\n",
       "      <td>2018-01-28</td>\n",
       "      <td>18704</td>\n",
       "      <td>0.00</td>\n",
       "      <td>0.00</td>\n",
       "      <td>0.00</td>\n",
       "      <td>0.00</td>\n",
       "      <td>0.00</td>\n",
       "      <td>0.00</td>\n",
       "      <td>0.00</td>\n",
       "      <td>0.00</td>\n",
       "      <td>...</td>\n",
       "      <td>0</td>\n",
       "      <td>0</td>\n",
       "      <td>0</td>\n",
       "      <td>0</td>\n",
       "      <td>0</td>\n",
       "      <td>1</td>\n",
       "      <td>0</td>\n",
       "      <td>0</td>\n",
       "      <td>0</td>\n",
       "      <td>0</td>\n",
       "    </tr>\n",
       "    <tr>\n",
       "      <th>11</th>\n",
       "      <td>2018-01-28</td>\n",
       "      <td>19021</td>\n",
       "      <td>0.00</td>\n",
       "      <td>0.00</td>\n",
       "      <td>0.00</td>\n",
       "      <td>0.00</td>\n",
       "      <td>0.00</td>\n",
       "      <td>0.00</td>\n",
       "      <td>0.00</td>\n",
       "      <td>1.00</td>\n",
       "      <td>...</td>\n",
       "      <td>0</td>\n",
       "      <td>0</td>\n",
       "      <td>0</td>\n",
       "      <td>0</td>\n",
       "      <td>0</td>\n",
       "      <td>1</td>\n",
       "      <td>0</td>\n",
       "      <td>0</td>\n",
       "      <td>0</td>\n",
       "      <td>0</td>\n",
       "    </tr>\n",
       "    <tr>\n",
       "      <th>...</th>\n",
       "      <td>...</td>\n",
       "      <td>...</td>\n",
       "      <td>...</td>\n",
       "      <td>...</td>\n",
       "      <td>...</td>\n",
       "      <td>...</td>\n",
       "      <td>...</td>\n",
       "      <td>...</td>\n",
       "      <td>...</td>\n",
       "      <td>...</td>\n",
       "      <td>...</td>\n",
       "      <td>...</td>\n",
       "      <td>...</td>\n",
       "      <td>...</td>\n",
       "      <td>...</td>\n",
       "      <td>...</td>\n",
       "      <td>...</td>\n",
       "      <td>...</td>\n",
       "      <td>...</td>\n",
       "      <td>...</td>\n",
       "      <td>...</td>\n",
       "    </tr>\n",
       "    <tr>\n",
       "      <th>7973905</th>\n",
       "      <td>2019-06-28</td>\n",
       "      <td>1553685</td>\n",
       "      <td>-999.00</td>\n",
       "      <td>-999.00</td>\n",
       "      <td>-999.00</td>\n",
       "      <td>-999.00</td>\n",
       "      <td>-999.00</td>\n",
       "      <td>-999.00</td>\n",
       "      <td>-999.00</td>\n",
       "      <td>-999.00</td>\n",
       "      <td>...</td>\n",
       "      <td>0</td>\n",
       "      <td>0</td>\n",
       "      <td>0</td>\n",
       "      <td>0</td>\n",
       "      <td>0</td>\n",
       "      <td>0</td>\n",
       "      <td>0</td>\n",
       "      <td>0</td>\n",
       "      <td>1</td>\n",
       "      <td>0</td>\n",
       "    </tr>\n",
       "    <tr>\n",
       "      <th>7973906</th>\n",
       "      <td>2019-06-28</td>\n",
       "      <td>1553686</td>\n",
       "      <td>-999.00</td>\n",
       "      <td>-999.00</td>\n",
       "      <td>-999.00</td>\n",
       "      <td>-999.00</td>\n",
       "      <td>-999.00</td>\n",
       "      <td>-999.00</td>\n",
       "      <td>-999.00</td>\n",
       "      <td>-999.00</td>\n",
       "      <td>...</td>\n",
       "      <td>0</td>\n",
       "      <td>0</td>\n",
       "      <td>0</td>\n",
       "      <td>0</td>\n",
       "      <td>0</td>\n",
       "      <td>0</td>\n",
       "      <td>0</td>\n",
       "      <td>0</td>\n",
       "      <td>1</td>\n",
       "      <td>0</td>\n",
       "    </tr>\n",
       "    <tr>\n",
       "      <th>7973907</th>\n",
       "      <td>2019-06-28</td>\n",
       "      <td>1553687</td>\n",
       "      <td>-999.00</td>\n",
       "      <td>-999.00</td>\n",
       "      <td>-999.00</td>\n",
       "      <td>-999.00</td>\n",
       "      <td>-999.00</td>\n",
       "      <td>-999.00</td>\n",
       "      <td>-999.00</td>\n",
       "      <td>-999.00</td>\n",
       "      <td>...</td>\n",
       "      <td>0</td>\n",
       "      <td>0</td>\n",
       "      <td>0</td>\n",
       "      <td>0</td>\n",
       "      <td>0</td>\n",
       "      <td>0</td>\n",
       "      <td>0</td>\n",
       "      <td>0</td>\n",
       "      <td>1</td>\n",
       "      <td>0</td>\n",
       "    </tr>\n",
       "    <tr>\n",
       "      <th>7973908</th>\n",
       "      <td>2019-06-28</td>\n",
       "      <td>1553688</td>\n",
       "      <td>-999.00</td>\n",
       "      <td>-999.00</td>\n",
       "      <td>-999.00</td>\n",
       "      <td>-999.00</td>\n",
       "      <td>-999.00</td>\n",
       "      <td>-999.00</td>\n",
       "      <td>-999.00</td>\n",
       "      <td>-999.00</td>\n",
       "      <td>...</td>\n",
       "      <td>0</td>\n",
       "      <td>0</td>\n",
       "      <td>0</td>\n",
       "      <td>0</td>\n",
       "      <td>0</td>\n",
       "      <td>0</td>\n",
       "      <td>0</td>\n",
       "      <td>0</td>\n",
       "      <td>1</td>\n",
       "      <td>0</td>\n",
       "    </tr>\n",
       "    <tr>\n",
       "      <th>7973909</th>\n",
       "      <td>2019-06-28</td>\n",
       "      <td>1553689</td>\n",
       "      <td>-999.00</td>\n",
       "      <td>-999.00</td>\n",
       "      <td>-999.00</td>\n",
       "      <td>-999.00</td>\n",
       "      <td>-999.00</td>\n",
       "      <td>-999.00</td>\n",
       "      <td>-999.00</td>\n",
       "      <td>-999.00</td>\n",
       "      <td>...</td>\n",
       "      <td>0</td>\n",
       "      <td>0</td>\n",
       "      <td>0</td>\n",
       "      <td>0</td>\n",
       "      <td>0</td>\n",
       "      <td>0</td>\n",
       "      <td>0</td>\n",
       "      <td>0</td>\n",
       "      <td>1</td>\n",
       "      <td>0</td>\n",
       "    </tr>\n",
       "  </tbody>\n",
       "</table>\n",
       "<p>5290924 rows × 342 columns</p>\n",
       "</div>"
      ],
      "text/plain": [
       "        pk_partition   pk_cid  short_term_deposit   loans  mortgage   funds  \\\n",
       "3         2018-01-28    17457                0.00    0.00      0.00    0.00   \n",
       "5         2018-01-28    17799                0.00    0.00      0.00    0.00   \n",
       "6         2018-01-28    17970                0.00    0.00      0.00    0.00   \n",
       "9         2018-01-28    18704                0.00    0.00      0.00    0.00   \n",
       "11        2018-01-28    19021                0.00    0.00      0.00    0.00   \n",
       "...              ...      ...                 ...     ...       ...     ...   \n",
       "7973905   2019-06-28  1553685             -999.00 -999.00   -999.00 -999.00   \n",
       "7973906   2019-06-28  1553686             -999.00 -999.00   -999.00 -999.00   \n",
       "7973907   2019-06-28  1553687             -999.00 -999.00   -999.00 -999.00   \n",
       "7973908   2019-06-28  1553688             -999.00 -999.00   -999.00 -999.00   \n",
       "7973909   2019-06-28  1553689             -999.00 -999.00   -999.00 -999.00   \n",
       "\n",
       "         securities  long_term_deposit  em_account_pp  credit_card  ...  \\\n",
       "3              0.00               1.00           0.00         0.00  ...   \n",
       "5              0.00               0.00           0.00         0.00  ...   \n",
       "6              0.00               0.00           0.00         0.00  ...   \n",
       "9              0.00               0.00           0.00         0.00  ...   \n",
       "11             0.00               0.00           0.00         1.00  ...   \n",
       "...             ...                ...            ...          ...  ...   \n",
       "7973905     -999.00            -999.00        -999.00      -999.00  ...   \n",
       "7973906     -999.00            -999.00        -999.00      -999.00  ...   \n",
       "7973907     -999.00            -999.00        -999.00      -999.00  ...   \n",
       "7973908     -999.00            -999.00        -999.00      -999.00  ...   \n",
       "7973909     -999.00            -999.00        -999.00      -999.00  ...   \n",
       "\n",
       "         channel_KFA  country_BE  country_BR  country_CH  country_DE  \\\n",
       "3                  0           0           0           0           0   \n",
       "5                  0           0           0           0           0   \n",
       "6                  0           0           0           0           0   \n",
       "9                  0           0           0           0           0   \n",
       "11                 0           0           0           0           0   \n",
       "...              ...         ...         ...         ...         ...   \n",
       "7973905            0           0           0           0           0   \n",
       "7973906            0           0           0           0           0   \n",
       "7973907            0           0           0           0           0   \n",
       "7973908            0           0           0           0           0   \n",
       "7973909            0           0           0           0           0   \n",
       "\n",
       "         country_ES  country_FR country_GB country_Other  country_US  \n",
       "3                 1           0          0             0           0  \n",
       "5                 1           0          0             0           0  \n",
       "6                 1           0          0             0           0  \n",
       "9                 1           0          0             0           0  \n",
       "11                1           0          0             0           0  \n",
       "...             ...         ...        ...           ...         ...  \n",
       "7973905           0           0          0             1           0  \n",
       "7973906           0           0          0             1           0  \n",
       "7973907           0           0          0             1           0  \n",
       "7973908           0           0          0             1           0  \n",
       "7973909           0           0          0             1           0  \n",
       "\n",
       "[5290924 rows x 342 columns]"
      ]
     },
     "execution_count": 54,
     "metadata": {},
     "output_type": "execute_result"
    }
   ],
   "source": [
    "full_df"
   ]
  },
  {
   "cell_type": "code",
   "execution_count": 55,
   "metadata": {
    "ExecuteTime": {
     "end_time": "2020-09-06T15:04:28.208239Z",
     "start_time": "2020-09-06T15:04:13.965451Z"
    }
   },
   "outputs": [
    {
     "name": "stdout",
     "output_type": "stream",
     "text": [
      "Mem. usage decreased to 3693.54 Mb (0.0% reduction)\n"
     ]
    }
   ],
   "source": [
    "reduce_mem_usage(full_df, verbose = True)"
   ]
  },
  {
   "cell_type": "code",
   "execution_count": 62,
   "metadata": {
    "ExecuteTime": {
     "end_time": "2020-09-06T13:40:29.950521Z",
     "start_time": "2020-09-06T13:39:08.228301Z"
    }
   },
   "outputs": [],
   "source": [
    "full_df.to_pickle('./fulldf_base_nandropped_FEOk.pkl',compression='zip')"
   ]
  },
  {
   "cell_type": "code",
   "execution_count": 182,
   "metadata": {
    "ExecuteTime": {
     "end_time": "2020-08-21T10:11:01.424611Z",
     "start_time": "2020-08-21T10:11:01.421632Z"
    }
   },
   "outputs": [],
   "source": [
    "#del full_df"
   ]
  },
  {
   "cell_type": "code",
   "execution_count": 56,
   "metadata": {
    "ExecuteTime": {
     "end_time": "2020-09-06T15:05:21.664975Z",
     "start_time": "2020-09-06T15:05:19.950965Z"
    }
   },
   "outputs": [
    {
     "data": {
      "text/plain": [
       "40"
      ]
     },
     "execution_count": 56,
     "metadata": {},
     "output_type": "execute_result"
    }
   ],
   "source": [
    "gc.collect()"
   ]
  },
  {
   "cell_type": "code",
   "execution_count": 3,
   "metadata": {
    "ExecuteTime": {
     "end_time": "2020-09-06T16:28:07.392072Z",
     "start_time": "2020-09-06T16:19:31.444525Z"
    }
   },
   "outputs": [],
   "source": [
    "full_df=pd.read_pickle('./fulldf_base_nandropped_FEOk.pkl',compression='zip')"
   ]
  },
  {
   "cell_type": "markdown",
   "metadata": {},
   "source": [
    "# medias moviles"
   ]
  },
  {
   "cell_type": "code",
   "execution_count": 131,
   "metadata": {
    "ExecuteTime": {
     "end_time": "2020-08-21T09:13:35.654551Z",
     "start_time": "2020-08-21T09:13:35.218802Z"
    }
   },
   "outputs": [],
   "source": [
    "full_df[\"em_acount_MA2M\"]=full_df[\"em_acount\"].rolling(window = 2).sum().shift()"
   ]
  },
  {
   "cell_type": "code",
   "execution_count": 132,
   "metadata": {
    "ExecuteTime": {
     "end_time": "2020-08-21T09:13:49.274396Z",
     "start_time": "2020-08-21T09:13:49.271402Z"
    }
   },
   "outputs": [],
   "source": [
    "variable_ver=['pk_cid','isNewClient','isActive','em_acount','em_acount_MA2M','dif_em_acount','dif_em_acount_MA2M']"
   ]
  },
  {
   "cell_type": "code",
   "execution_count": 133,
   "metadata": {
    "ExecuteTime": {
     "end_time": "2020-08-21T09:13:51.404214Z",
     "start_time": "2020-08-21T09:13:51.294295Z"
    }
   },
   "outputs": [
    {
     "data": {
      "text/html": [
       "<div>\n",
       "<style scoped>\n",
       "    .dataframe tbody tr th:only-of-type {\n",
       "        vertical-align: middle;\n",
       "    }\n",
       "\n",
       "    .dataframe tbody tr th {\n",
       "        vertical-align: top;\n",
       "    }\n",
       "\n",
       "    .dataframe thead th {\n",
       "        text-align: right;\n",
       "    }\n",
       "</style>\n",
       "<table border=\"1\" class=\"dataframe\">\n",
       "  <thead>\n",
       "    <tr style=\"text-align: right;\">\n",
       "      <th>pk_partition</th>\n",
       "      <th>2018-07-28</th>\n",
       "      <th>2018-08-28</th>\n",
       "      <th>2018-09-28</th>\n",
       "      <th>2018-10-28</th>\n",
       "      <th>2018-11-28</th>\n",
       "    </tr>\n",
       "  </thead>\n",
       "  <tbody>\n",
       "    <tr>\n",
       "      <th>pk_cid</th>\n",
       "      <td>81,958.00</td>\n",
       "      <td>81,958.00</td>\n",
       "      <td>81,958.00</td>\n",
       "      <td>81,958.00</td>\n",
       "      <td>81,958.00</td>\n",
       "    </tr>\n",
       "    <tr>\n",
       "      <th>isNewClient</th>\n",
       "      <td>1.00</td>\n",
       "      <td>0.00</td>\n",
       "      <td>0.00</td>\n",
       "      <td>0.00</td>\n",
       "      <td>0.00</td>\n",
       "    </tr>\n",
       "    <tr>\n",
       "      <th>isActive</th>\n",
       "      <td>1.00</td>\n",
       "      <td>1.00</td>\n",
       "      <td>1.00</td>\n",
       "      <td>1.00</td>\n",
       "      <td>1.00</td>\n",
       "    </tr>\n",
       "    <tr>\n",
       "      <th>em_acount</th>\n",
       "      <td>1.00</td>\n",
       "      <td>1.00</td>\n",
       "      <td>1.00</td>\n",
       "      <td>1.00</td>\n",
       "      <td>1.00</td>\n",
       "    </tr>\n",
       "    <tr>\n",
       "      <th>em_acount_MA2M</th>\n",
       "      <td>2.00</td>\n",
       "      <td>2.00</td>\n",
       "      <td>2.00</td>\n",
       "      <td>2.00</td>\n",
       "      <td>2.00</td>\n",
       "    </tr>\n",
       "    <tr>\n",
       "      <th>dif_em_acount</th>\n",
       "      <td>1.00</td>\n",
       "      <td>0.00</td>\n",
       "      <td>0.00</td>\n",
       "      <td>0.00</td>\n",
       "      <td>0.00</td>\n",
       "    </tr>\n",
       "    <tr>\n",
       "      <th>dif_em_acount_MA2M</th>\n",
       "      <td>0.00</td>\n",
       "      <td>0.00</td>\n",
       "      <td>0.00</td>\n",
       "      <td>0.00</td>\n",
       "      <td>0.00</td>\n",
       "    </tr>\n",
       "  </tbody>\n",
       "</table>\n",
       "</div>"
      ],
      "text/plain": [
       "pk_partition        2018-07-28  2018-08-28  2018-09-28  2018-10-28  2018-11-28\n",
       "pk_cid               81,958.00   81,958.00   81,958.00   81,958.00   81,958.00\n",
       "isNewClient               1.00        0.00        0.00        0.00        0.00\n",
       "isActive                  1.00        1.00        1.00        1.00        1.00\n",
       "em_acount                 1.00        1.00        1.00        1.00        1.00\n",
       "em_acount_MA2M            2.00        2.00        2.00        2.00        2.00\n",
       "dif_em_acount             1.00        0.00        0.00        0.00        0.00\n",
       "dif_em_acount_MA2M        0.00        0.00        0.00        0.00        0.00"
      ]
     },
     "execution_count": 133,
     "metadata": {},
     "output_type": "execute_result"
    }
   ],
   "source": [
    "full_df[full_df['pk_cid']==81958  ][variable_ver].head().T"
   ]
  },
  {
   "cell_type": "code",
   "execution_count": 4,
   "metadata": {
    "ExecuteTime": {
     "end_time": "2020-09-06T16:29:00.131507Z",
     "start_time": "2020-09-06T16:28:59.613761Z"
    }
   },
   "outputs": [
    {
     "data": {
      "text/plain": [
       "2               nan\n",
       "3               nan\n",
       "4               nan\n",
       "7               nan\n",
       "8              3.00\n",
       "             ...   \n",
       "5968579   -3,996.00\n",
       "5968580   -3,996.00\n",
       "5968581   -3,996.00\n",
       "5968582   -3,996.00\n",
       "5968583   -3,996.00\n",
       "Name: em_acount, Length: 5063970, dtype: float64"
      ]
     },
     "execution_count": 4,
     "metadata": {},
     "output_type": "execute_result"
    }
   ],
   "source": [
    "full_df[\"em_acount\"].rolling(window = 4).sum().shift()"
   ]
  },
  {
   "cell_type": "code",
   "execution_count": 5,
   "metadata": {
    "ExecuteTime": {
     "end_time": "2020-09-06T16:30:06.957425Z",
     "start_time": "2020-09-06T16:30:06.819198Z"
    }
   },
   "outputs": [
    {
     "ename": "NameError",
     "evalue": "name 'productos_easymoney' is not defined",
     "output_type": "error",
     "traceback": [
      "\u001b[1;31m---------------------------------------------------------------------------\u001b[0m",
      "\u001b[1;31mNameError\u001b[0m                                 Traceback (most recent call last)",
      "\u001b[1;32m<ipython-input-5-8e1b0cf01141>\u001b[0m in \u001b[0;36m<module>\u001b[1;34m\u001b[0m\n\u001b[1;32m----> 1\u001b[1;33m \u001b[1;32mfor\u001b[0m \u001b[0my\u001b[0m \u001b[1;32min\u001b[0m \u001b[0mproductos_easymoney\u001b[0m\u001b[1;33m:\u001b[0m\u001b[1;33m\u001b[0m\u001b[1;33m\u001b[0m\u001b[0m\n\u001b[0m\u001b[0;32m      2\u001b[0m     \u001b[0mprint\u001b[0m\u001b[1;33m(\u001b[0m\u001b[0my\u001b[0m\u001b[1;33m)\u001b[0m\u001b[1;33m\u001b[0m\u001b[1;33m\u001b[0m\u001b[0m\n\u001b[0;32m      3\u001b[0m     \u001b[1;32mfor\u001b[0m \u001b[0mx\u001b[0m \u001b[1;32min\u001b[0m \u001b[1;33m[\u001b[0m\u001b[1;36m2\u001b[0m\u001b[1;33m,\u001b[0m\u001b[1;36m4\u001b[0m\u001b[1;33m,\u001b[0m\u001b[1;36m6\u001b[0m\u001b[1;33m]\u001b[0m\u001b[1;33m:\u001b[0m\u001b[1;33m\u001b[0m\u001b[1;33m\u001b[0m\u001b[0m\n\u001b[0;32m      4\u001b[0m         \u001b[0mprint\u001b[0m\u001b[1;33m(\u001b[0m\u001b[0mx\u001b[0m\u001b[1;33m)\u001b[0m\u001b[1;33m\u001b[0m\u001b[1;33m\u001b[0m\u001b[0m\n\u001b[0;32m      5\u001b[0m         \u001b[0mfull_df\u001b[0m\u001b[1;33m[\u001b[0m\u001b[0my\u001b[0m\u001b[1;33m+\u001b[0m\u001b[1;34m'_MA'\u001b[0m\u001b[1;33m+\u001b[0m\u001b[0mstr\u001b[0m\u001b[1;33m(\u001b[0m\u001b[0mx\u001b[0m\u001b[1;33m)\u001b[0m\u001b[1;33m+\u001b[0m\u001b[1;34m'M'\u001b[0m\u001b[1;33m]\u001b[0m\u001b[1;33m=\u001b[0m\u001b[0mfull_df\u001b[0m\u001b[1;33m[\u001b[0m\u001b[0my\u001b[0m\u001b[1;33m]\u001b[0m\u001b[1;33m.\u001b[0m\u001b[0mrolling\u001b[0m\u001b[1;33m(\u001b[0m\u001b[0mwindow\u001b[0m \u001b[1;33m=\u001b[0m \u001b[0mx\u001b[0m\u001b[1;33m)\u001b[0m\u001b[1;33m.\u001b[0m\u001b[0msum\u001b[0m\u001b[1;33m(\u001b[0m\u001b[1;33m)\u001b[0m\u001b[1;33m.\u001b[0m\u001b[0mshift\u001b[0m\u001b[1;33m(\u001b[0m\u001b[1;33m)\u001b[0m\u001b[1;33m\u001b[0m\u001b[1;33m\u001b[0m\u001b[0m\n",
      "\u001b[1;31mNameError\u001b[0m: name 'productos_easymoney' is not defined"
     ]
    }
   ],
   "source": [
    "for y in productos_easymoney:\n",
    "    print(y)\n",
    "    for x in [2,4,6]:\n",
    "        print(x)\n",
    "        full_df[y+'_MA'+str(x)+'M']=full_df[y].rolling(window = x).sum().shift()"
   ]
  },
  {
   "cell_type": "code",
   "execution_count": 137,
   "metadata": {
    "ExecuteTime": {
     "end_time": "2020-08-21T09:19:36.932335Z",
     "start_time": "2020-08-21T09:19:36.928355Z"
    }
   },
   "outputs": [],
   "source": [
    "variable_ver=['pk_cid','isNewClient','isActive','em_acount',\n",
    "              'em_acount_MA2M','em_acount_MA4M','em_acount_MA6M']"
   ]
  },
  {
   "cell_type": "code",
   "execution_count": 140,
   "metadata": {
    "ExecuteTime": {
     "end_time": "2020-08-21T09:21:27.995204Z",
     "start_time": "2020-08-21T09:21:27.971219Z"
    }
   },
   "outputs": [
    {
     "data": {
      "text/html": [
       "<div>\n",
       "<style scoped>\n",
       "    .dataframe tbody tr th:only-of-type {\n",
       "        vertical-align: middle;\n",
       "    }\n",
       "\n",
       "    .dataframe tbody tr th {\n",
       "        vertical-align: top;\n",
       "    }\n",
       "\n",
       "    .dataframe thead th {\n",
       "        text-align: right;\n",
       "    }\n",
       "</style>\n",
       "<table border=\"1\" class=\"dataframe\">\n",
       "  <thead>\n",
       "    <tr style=\"text-align: right;\">\n",
       "      <th>pk_partition</th>\n",
       "      <th>2018-01-28</th>\n",
       "      <th>2018-02-28</th>\n",
       "      <th>2018-03-28</th>\n",
       "      <th>2018-04-28</th>\n",
       "      <th>2018-05-28</th>\n",
       "      <th>2018-06-28</th>\n",
       "      <th>2018-07-28</th>\n",
       "      <th>2018-08-28</th>\n",
       "      <th>2018-09-28</th>\n",
       "      <th>2018-10-28</th>\n",
       "    </tr>\n",
       "  </thead>\n",
       "  <tbody>\n",
       "    <tr>\n",
       "      <th>pk_cid</th>\n",
       "      <td>1,035,440.00</td>\n",
       "      <td>1,035,440.00</td>\n",
       "      <td>1,035,440.00</td>\n",
       "      <td>1,035,440.00</td>\n",
       "      <td>1,035,440.00</td>\n",
       "      <td>1,035,440.00</td>\n",
       "      <td>1,035,440.00</td>\n",
       "      <td>1,035,440.00</td>\n",
       "      <td>1,035,440.00</td>\n",
       "      <td>1,035,440.00</td>\n",
       "    </tr>\n",
       "    <tr>\n",
       "      <th>isNewClient</th>\n",
       "      <td>0.00</td>\n",
       "      <td>0.00</td>\n",
       "      <td>0.00</td>\n",
       "      <td>0.00</td>\n",
       "      <td>0.00</td>\n",
       "      <td>0.00</td>\n",
       "      <td>0.00</td>\n",
       "      <td>0.00</td>\n",
       "      <td>0.00</td>\n",
       "      <td>0.00</td>\n",
       "    </tr>\n",
       "    <tr>\n",
       "      <th>isActive</th>\n",
       "      <td>1.00</td>\n",
       "      <td>1.00</td>\n",
       "      <td>1.00</td>\n",
       "      <td>1.00</td>\n",
       "      <td>1.00</td>\n",
       "      <td>1.00</td>\n",
       "      <td>1.00</td>\n",
       "      <td>1.00</td>\n",
       "      <td>1.00</td>\n",
       "      <td>1.00</td>\n",
       "    </tr>\n",
       "    <tr>\n",
       "      <th>em_acount</th>\n",
       "      <td>1.00</td>\n",
       "      <td>0.00</td>\n",
       "      <td>0.00</td>\n",
       "      <td>1.00</td>\n",
       "      <td>1.00</td>\n",
       "      <td>1.00</td>\n",
       "      <td>1.00</td>\n",
       "      <td>1.00</td>\n",
       "      <td>1.00</td>\n",
       "      <td>1.00</td>\n",
       "    </tr>\n",
       "    <tr>\n",
       "      <th>em_acount_MA2M</th>\n",
       "      <td>2.00</td>\n",
       "      <td>2.00</td>\n",
       "      <td>2.00</td>\n",
       "      <td>2.00</td>\n",
       "      <td>2.00</td>\n",
       "      <td>2.00</td>\n",
       "      <td>2.00</td>\n",
       "      <td>2.00</td>\n",
       "      <td>2.00</td>\n",
       "      <td>2.00</td>\n",
       "    </tr>\n",
       "    <tr>\n",
       "      <th>em_acount_MA4M</th>\n",
       "      <td>4.00</td>\n",
       "      <td>4.00</td>\n",
       "      <td>4.00</td>\n",
       "      <td>4.00</td>\n",
       "      <td>4.00</td>\n",
       "      <td>4.00</td>\n",
       "      <td>4.00</td>\n",
       "      <td>4.00</td>\n",
       "      <td>4.00</td>\n",
       "      <td>4.00</td>\n",
       "    </tr>\n",
       "    <tr>\n",
       "      <th>em_acount_MA6M</th>\n",
       "      <td>6.00</td>\n",
       "      <td>6.00</td>\n",
       "      <td>6.00</td>\n",
       "      <td>6.00</td>\n",
       "      <td>6.00</td>\n",
       "      <td>6.00</td>\n",
       "      <td>6.00</td>\n",
       "      <td>6.00</td>\n",
       "      <td>6.00</td>\n",
       "      <td>6.00</td>\n",
       "    </tr>\n",
       "  </tbody>\n",
       "</table>\n",
       "</div>"
      ],
      "text/plain": [
       "pk_partition     2018-01-28   2018-02-28   2018-03-28   2018-04-28  \\\n",
       "pk_cid         1,035,440.00 1,035,440.00 1,035,440.00 1,035,440.00   \n",
       "isNewClient            0.00         0.00         0.00         0.00   \n",
       "isActive               1.00         1.00         1.00         1.00   \n",
       "em_acount              1.00         0.00         0.00         1.00   \n",
       "em_acount_MA2M         2.00         2.00         2.00         2.00   \n",
       "em_acount_MA4M         4.00         4.00         4.00         4.00   \n",
       "em_acount_MA6M         6.00         6.00         6.00         6.00   \n",
       "\n",
       "pk_partition     2018-05-28   2018-06-28   2018-07-28   2018-08-28  \\\n",
       "pk_cid         1,035,440.00 1,035,440.00 1,035,440.00 1,035,440.00   \n",
       "isNewClient            0.00         0.00         0.00         0.00   \n",
       "isActive               1.00         1.00         1.00         1.00   \n",
       "em_acount              1.00         1.00         1.00         1.00   \n",
       "em_acount_MA2M         2.00         2.00         2.00         2.00   \n",
       "em_acount_MA4M         4.00         4.00         4.00         4.00   \n",
       "em_acount_MA6M         6.00         6.00         6.00         6.00   \n",
       "\n",
       "pk_partition     2018-09-28   2018-10-28  \n",
       "pk_cid         1,035,440.00 1,035,440.00  \n",
       "isNewClient            0.00         0.00  \n",
       "isActive               1.00         1.00  \n",
       "em_acount              1.00         1.00  \n",
       "em_acount_MA2M         2.00         2.00  \n",
       "em_acount_MA4M         4.00         4.00  \n",
       "em_acount_MA6M         6.00         6.00  "
      ]
     },
     "execution_count": 140,
     "metadata": {},
     "output_type": "execute_result"
    }
   ],
   "source": [
    "full_df[full_df['pk_cid']==1035440  ][variable_ver].head(10).T"
   ]
  },
  {
   "cell_type": "markdown",
   "metadata": {},
   "source": [
    "# Cambiamos -1 por 0"
   ]
  },
  {
   "cell_type": "code",
   "execution_count": 8,
   "metadata": {
    "ExecuteTime": {
     "end_time": "2020-09-04T16:49:30.873766Z",
     "start_time": "2020-09-04T16:49:30.867761Z"
    }
   },
   "outputs": [
    {
     "data": {
      "text/plain": [
       "['dif_loans',\n",
       " 'dif_mortgage',\n",
       " 'dif_funds',\n",
       " 'dif_securities',\n",
       " 'dif_long_term_deposit',\n",
       " 'dif_short_term_deposit',\n",
       " 'dif_em_account_pp',\n",
       " 'dif_credit_card',\n",
       " 'dif_payroll',\n",
       " 'dif_pension_plan',\n",
       " 'dif_payroll_account',\n",
       " 'dif_emc_account',\n",
       " 'dif_debit_card',\n",
       " 'dif_em_acount',\n",
       " 'dif_em_account_p']"
      ]
     },
     "execution_count": 8,
     "metadata": {},
     "output_type": "execute_result"
    }
   ],
   "source": [
    "delta_productos_easymoney"
   ]
  },
  {
   "cell_type": "code",
   "execution_count": 65,
   "metadata": {
    "ExecuteTime": {
     "end_time": "2020-09-04T15:55:34.465758Z",
     "start_time": "2020-09-04T15:55:30.118263Z"
    }
   },
   "outputs": [],
   "source": [
    "full_df.loc[full_df['dif_em_acount']==-1, 'dif_em_acount' ]=0"
   ]
  },
  {
   "cell_type": "code",
   "execution_count": 9,
   "metadata": {
    "ExecuteTime": {
     "end_time": "2020-09-04T16:50:27.981826Z",
     "start_time": "2020-09-04T16:50:23.553361Z"
    }
   },
   "outputs": [],
   "source": [
    "for x in delta_productos_easymoney:\n",
    "      full_df.loc[full_df[x]==-1, x ]=0  "
   ]
  },
  {
   "cell_type": "code",
   "execution_count": 10,
   "metadata": {
    "ExecuteTime": {
     "end_time": "2020-09-04T16:50:35.794440Z",
     "start_time": "2020-09-04T16:50:35.688501Z"
    }
   },
   "outputs": [
    {
     "data": {
      "text/plain": [
       "0.00       4613569\n",
       "-999.00     331588\n",
       "1.00        118813\n",
       "Name: dif_em_acount, dtype: int64"
      ]
     },
     "execution_count": 10,
     "metadata": {},
     "output_type": "execute_result"
    }
   ],
   "source": [
    "full_df['dif_em_acount'].value_counts()"
   ]
  },
  {
   "cell_type": "code",
   "execution_count": 3,
   "metadata": {
    "ExecuteTime": {
     "end_time": "2020-09-04T17:58:27.292448Z",
     "start_time": "2020-09-04T17:58:27.188529Z"
    }
   },
   "outputs": [
    {
     "data": {
      "text/plain": [
       "0.00       4661398\n",
       "-999.00     331588\n",
       "1.00         70984\n",
       "Name: dif_debit_card, dtype: int64"
      ]
     },
     "execution_count": 3,
     "metadata": {},
     "output_type": "execute_result"
    }
   ],
   "source": [
    "full_df['dif_debit_card'].value_counts()"
   ]
  },
  {
   "cell_type": "code",
   "execution_count": 4,
   "metadata": {
    "ExecuteTime": {
     "end_time": "2020-09-04T17:58:34.570152Z",
     "start_time": "2020-09-04T17:58:30.073762Z"
    }
   },
   "outputs": [
    {
     "data": {
      "text/plain": [
       "0.00    327603\n",
       "1.00      3985\n",
       "Name: dif_em_acount, dtype: int64"
      ]
     },
     "execution_count": 4,
     "metadata": {},
     "output_type": "execute_result"
    }
   ],
   "source": [
    "full_df[full_df['pk_partition']=='2019-05-28']['dif_em_acount'].value_counts()"
   ]
  },
  {
   "cell_type": "code",
   "execution_count": 104,
   "metadata": {
    "ExecuteTime": {
     "end_time": "2020-09-04T16:31:13.335213Z",
     "start_time": "2020-09-04T16:31:08.335116Z"
    }
   },
   "outputs": [],
   "source": [
    "#full_df=full_df[full_df['dif_em_acount']==0]"
   ]
  },
  {
   "cell_type": "markdown",
   "metadata": {},
   "source": [
    "# Entrenar modelo"
   ]
  },
  {
   "cell_type": "code",
   "execution_count": 4,
   "metadata": {
    "ExecuteTime": {
     "end_time": "2020-09-08T09:13:17.993291Z",
     "start_time": "2020-09-08T09:13:17.888682Z"
    }
   },
   "outputs": [],
   "source": [
    "# split the data into train, validation and test dataset\n",
    "train_index = sorted(list(full_df[\"pk_partition\"].unique()))[5:-3]\n",
    "\n",
    "valida_index = [sorted(list(full_df[\"pk_partition\"].unique()))[-3]]\n",
    "\n",
    "test_index = [sorted(list(full_df[\"pk_partition\"].unique()))[-2]]"
   ]
  },
  {
   "cell_type": "code",
   "execution_count": 68,
   "metadata": {
    "ExecuteTime": {
     "end_time": "2020-09-04T15:56:47.235328Z",
     "start_time": "2020-09-04T15:56:47.230350Z"
    }
   },
   "outputs": [
    {
     "data": {
      "text/plain": [
       "18"
      ]
     },
     "execution_count": 68,
     "metadata": {},
     "output_type": "execute_result"
    }
   ],
   "source": [
    "len(lista_fechas)"
   ]
  },
  {
   "cell_type": "code",
   "execution_count": 63,
   "metadata": {
    "ExecuteTime": {
     "end_time": "2020-09-04T15:53:56.205177Z",
     "start_time": "2020-09-04T15:53:55.451611Z"
    }
   },
   "outputs": [
    {
     "data": {
      "text/plain": [
       "20"
      ]
     },
     "execution_count": 63,
     "metadata": {},
     "output_type": "execute_result"
    }
   ],
   "source": [
    "gc.collect()"
   ]
  },
  {
   "cell_type": "code",
   "execution_count": 58,
   "metadata": {
    "ExecuteTime": {
     "end_time": "2020-09-06T15:05:52.173430Z",
     "start_time": "2020-09-06T15:05:47.683038Z"
    }
   },
   "outputs": [
    {
     "name": "stdout",
     "output_type": "stream",
     "text": [
      "<class 'pandas.core.frame.DataFrame'>\n",
      "Int64Index: 5290924 entries, 3 to 7973909\n",
      "Columns: 342 entries, pk_partition to country_US\n",
      "dtypes: category(1), datetime64[ns](2), float16(304), float32(1), int16(2), int32(1), int8(4), object(8), uint8(19)\n",
      "memory usage: 3.6+ GB\n"
     ]
    }
   ],
   "source": [
    "full_df.info()"
   ]
  },
  {
   "cell_type": "code",
   "execution_count": 250,
   "metadata": {
    "ExecuteTime": {
     "end_time": "2020-08-21T10:27:58.068273Z",
     "start_time": "2020-08-21T10:27:55.025048Z"
    }
   },
   "outputs": [],
   "source": [
    "#full_df=full_df[full_df['isNewClient']==0]"
   ]
  },
  {
   "cell_type": "code",
   "execution_count": 5,
   "metadata": {
    "ExecuteTime": {
     "end_time": "2020-09-08T09:13:21.253922Z",
     "start_time": "2020-09-08T09:13:21.249924Z"
    }
   },
   "outputs": [],
   "source": [
    "lista_borrar=['totalBeneficio','totalBeneficio_1','totalBeneficio_2','totalBeneficio_3',\n",
    "              'totalBeneficio_4','totalBeneficio_5','totalBeneficio_6']"
   ]
  },
  {
   "cell_type": "code",
   "execution_count": 6,
   "metadata": {
    "ExecuteTime": {
     "end_time": "2020-09-08T09:13:28.512086Z",
     "start_time": "2020-09-08T09:13:22.225795Z"
    }
   },
   "outputs": [],
   "source": [
    "full_df.drop(lista_borrar,axis=1, inplace=True)"
   ]
  },
  {
   "cell_type": "code",
   "execution_count": 37,
   "metadata": {
    "ExecuteTime": {
     "end_time": "2020-09-08T09:50:35.001493Z",
     "start_time": "2020-09-08T09:50:34.997514Z"
    }
   },
   "outputs": [],
   "source": [
    "lista_borrar=['totalCuentas','totalCuentas_shift_1','totalCuentas_shift_2','totalCuentas_shift_3',\n",
    "              'totalCuentas_shift_4','totalCuentas_shift_5','totalCuentas_shift_6']"
   ]
  },
  {
   "cell_type": "code",
   "execution_count": 38,
   "metadata": {
    "ExecuteTime": {
     "end_time": "2020-09-08T09:50:43.137757Z",
     "start_time": "2020-09-08T09:50:36.176818Z"
    }
   },
   "outputs": [],
   "source": [
    "full_df.drop(lista_borrar,axis=1, inplace=True)"
   ]
  },
  {
   "cell_type": "code",
   "execution_count": 131,
   "metadata": {
    "ExecuteTime": {
     "end_time": "2020-09-06T21:42:01.022735Z",
     "start_time": "2020-09-06T21:42:01.012740Z"
    }
   },
   "outputs": [],
   "source": [
    "variables_borrar=['pk_cid', \n",
    "\"pk_partition\",\n",
    "'segment',\n",
    "'gender', \n",
    "'deceased',\n",
    "'entry_date',\n",
    "'mesesAlta',\n",
    "'entry_channel',\n",
    "'isNewClient',\n",
    "'isActive',\n",
    "'active_customer',\n",
    "'totalAssets',\n",
    "'Provincia',\n",
    "'SalaryQtil',\n",
    "'totalCuentas',\n",
    "'totalAhorro',\n",
    "'totalFinanciacion',  \n",
    "'totalIngresos',\n",
    "'totalBeneficio',\n",
    "'diasDesdeUltimaAltaInt',\n",
    "'diasDesdeUltimaAlta',\n",
    "'hayAlta', \n",
    "'diasDesdeUltimaBajaInt',\n",
    "'diasDesdeUltimaBaja',\n",
    "'hayBaja',           \n",
    "'country_id',                 \n",
    " 'dif_loans',\n",
    " 'dif_mortgage',\n",
    " 'dif_funds',\n",
    " 'dif_securities',\n",
    " 'dif_long_term_deposit',\n",
    " 'dif_short_term_deposit',\n",
    " 'dif_em_account_pp',\n",
    " 'dif_credit_card',\n",
    " 'dif_payroll',\n",
    " 'dif_pension_plan',\n",
    " 'dif_payroll_account',\n",
    " 'dif_emc_account',\n",
    " 'dif_debit_card',\n",
    " 'dif_em_acount',\n",
    " 'dif_em_account_p',\n",
    " 'loans',\n",
    " 'mortgage',\n",
    " 'funds',\n",
    " 'securities',\n",
    " 'long_term_deposit',\n",
    " 'short_term_deposit',\n",
    " 'em_account_pp',\n",
    " 'credit_card',\n",
    " 'payroll',\n",
    " 'pension_plan',\n",
    " 'payroll_account',\n",
    " 'emc_account',\n",
    " 'debit_card',\n",
    " 'em_acount',\n",
    " 'em_account_p']"
   ]
  },
  {
   "cell_type": "code",
   "execution_count": 39,
   "metadata": {
    "ExecuteTime": {
     "end_time": "2020-09-08T09:50:48.235555Z",
     "start_time": "2020-09-08T09:50:48.226575Z"
    }
   },
   "outputs": [],
   "source": [
    "variables_borrar=['pk_cid',\n",
    "'pk_partition',\n",
    "'short_term_deposit',\n",
    "'loans',\n",
    "'mortgage',\n",
    "'funds',\n",
    "'securities',\n",
    "'long_term_deposit',\n",
    "'em_account_pp',\n",
    "'credit_card',\n",
    "'payroll',\n",
    "'pension_plan',\n",
    "'payroll_account',\n",
    "'emc_account',\n",
    "'debit_card',\n",
    "'em_account_p',\n",
    "'em_acount',\n",
    "'entry_date',\n",
    "'entry_channel',\n",
    "'active_customer',\n",
    "'segment',\n",
    "'country_id',\n",
    "'region_code',\n",
    "'gender',\n",
    "'age',\n",
    "'deceased',\n",
    "'salary',\n",
    "'dif_debit_card',\n",
    "'dif_em_account_p',\n",
    "'dif_em_account_pp',\n",
    "'dif_em_acount',\n",
    "'dif_emc_account',\n",
    "'dif_payroll',\n",
    "'dif_payroll_account',\n",
    "'dif_funds',\n",
    "'dif_long_term_deposit',\n",
    "'dif_mortgage',\n",
    "'dif_pension_plan',\n",
    "'dif_securities',\n",
    "'dif_short_term_deposit',\n",
    "'dif_loans',\n",
    "'dif_credit_card',\n",
    "'mesesAlta',\n",
    "'isNewClient',\n",
    "'isActive',\n",
    "'Provincia',\n",
    "'SalaryQtil',\n",
    "'totalAssets',\n",
    "#'totalCuentas',\n",
    "'totalAhorro',\n",
    "'totalFinanciacion',\n",
    "'totalIngresos',\n",
    "#'totalBeneficio',\n",
    "'hayAlta',\n",
    "'diasDesdeUltimaAlta',\n",
    "'diasDesdeUltimaAltaInt',\n",
    "'hayBaja',\n",
    "'diasDesdeUltimaBaja',\n",
    "'diasDesdeUltimaBajaInt']\n"
   ]
  },
  {
   "cell_type": "code",
   "execution_count": 107,
   "metadata": {
    "ExecuteTime": {
     "end_time": "2020-09-04T16:31:34.633814Z",
     "start_time": "2020-09-04T16:31:34.629817Z"
    }
   },
   "outputs": [],
   "source": [
    "del X_train,Y_train, X_valida, Y_valida,X_test,Y_test"
   ]
  },
  {
   "cell_type": "code",
   "execution_count": 108,
   "metadata": {
    "ExecuteTime": {
     "end_time": "2020-09-04T16:31:38.139199Z",
     "start_time": "2020-09-04T16:31:36.857958Z"
    }
   },
   "outputs": [
    {
     "data": {
      "text/plain": [
       "52476"
      ]
     },
     "execution_count": 108,
     "metadata": {},
     "output_type": "execute_result"
    }
   ],
   "source": [
    "gc.collect()"
   ]
  },
  {
   "cell_type": "code",
   "execution_count": 40,
   "metadata": {
    "ExecuteTime": {
     "end_time": "2020-09-08T09:51:02.275482Z",
     "start_time": "2020-09-08T09:50:51.776514Z"
    }
   },
   "outputs": [],
   "source": [
    "X_train = full_df[full_df[\"pk_partition\"].isin(train_index)].drop(variables_borrar, axis=1)\n",
    "Y_train = full_df[full_df[\"pk_partition\"].isin(train_index)]['dif_em_acount']\n",
    "\n",
    "X_valida = full_df[full_df[\"pk_partition\"].isin(valida_index)].drop(variables_borrar, axis=1)\n",
    "Y_valida = full_df[full_df[\"pk_partition\"].isin(valida_index)]['dif_em_acount']\n",
    "\n",
    "X_test = full_df[full_df[\"pk_partition\"].isin(test_index)].drop(variables_borrar, axis = 1)\n",
    "Y_test = full_df[full_df[\"pk_partition\"].isin(test_index)]['dif_em_acount']\n",
    "\n",
    "\n"
   ]
  },
  {
   "cell_type": "code",
   "execution_count": 244,
   "metadata": {
    "ExecuteTime": {
     "end_time": "2020-08-21T10:25:22.686412Z",
     "start_time": "2020-08-21T10:25:15.835365Z"
    }
   },
   "outputs": [],
   "source": [
    "X_train = full_df[full_df[\"pk_partition\"].isin(train_index)].drop(variables_borrar, axis=1)\n",
    "Y_train = full_df[full_df[\"pk_partition\"].isin(train_index)]['dif_debit_card']\n",
    "\n",
    "X_valida = full_df[full_df[\"pk_partition\"].isin(valida_index)].drop(variables_borrar, axis=1)\n",
    "Y_valida = full_df[full_df[\"pk_partition\"].isin(valida_index)]['dif_debit_card']\n",
    "\n",
    "X_test = full_df[full_df[\"pk_partition\"].isin(test_index)].drop(variables_borrar, axis = 1)\n",
    "Y_test = full_df[full_df[\"pk_partition\"].isin(test_index)]['dif_debit_card']"
   ]
  },
  {
   "cell_type": "code",
   "execution_count": 11,
   "metadata": {
    "ExecuteTime": {
     "end_time": "2020-09-06T16:32:00.886343Z",
     "start_time": "2020-09-06T16:32:00.882346Z"
    }
   },
   "outputs": [],
   "source": [
    "#del full_df"
   ]
  },
  {
   "cell_type": "code",
   "execution_count": 64,
   "metadata": {
    "ExecuteTime": {
     "end_time": "2020-09-06T15:06:40.268367Z",
     "start_time": "2020-09-06T15:06:38.833198Z"
    }
   },
   "outputs": [
    {
     "data": {
      "text/plain": [
       "108"
      ]
     },
     "execution_count": 64,
     "metadata": {},
     "output_type": "execute_result"
    }
   ],
   "source": [
    "gc.collect()"
   ]
  },
  {
   "cell_type": "code",
   "execution_count": 9,
   "metadata": {
    "ExecuteTime": {
     "end_time": "2020-09-08T09:13:50.681261Z",
     "start_time": "2020-09-08T09:13:50.677264Z"
    }
   },
   "outputs": [],
   "source": [
    "dt = DecisionTreeClassifier(max_depth=6,random_state=42)\n",
    "    "
   ]
  },
  {
   "cell_type": "code",
   "execution_count": 41,
   "metadata": {
    "ExecuteTime": {
     "end_time": "2020-09-08T09:51:57.517887Z",
     "start_time": "2020-09-08T09:51:05.330981Z"
    }
   },
   "outputs": [
    {
     "data": {
      "text/plain": [
       "DecisionTreeClassifier(ccp_alpha=0.0, class_weight=None, criterion='gini',\n",
       "                       max_depth=6, max_features=None, max_leaf_nodes=None,\n",
       "                       min_impurity_decrease=0.0, min_impurity_split=None,\n",
       "                       min_samples_leaf=1, min_samples_split=2,\n",
       "                       min_weight_fraction_leaf=0.0, presort='deprecated',\n",
       "                       random_state=42, splitter='best')"
      ]
     },
     "execution_count": 41,
     "metadata": {},
     "output_type": "execute_result"
    }
   ],
   "source": [
    "dt.fit(X_train,Y_train)\n",
    "    "
   ]
  },
  {
   "cell_type": "code",
   "execution_count": 42,
   "metadata": {
    "ExecuteTime": {
     "end_time": "2020-09-08T09:52:02.663921Z",
     "start_time": "2020-09-08T09:51:58.663228Z"
    }
   },
   "outputs": [
    {
     "name": "stdout",
     "output_type": "stream",
     "text": [
      "Resultados para: Train: 0.9812493031125082 - Test: 0.98862842622477\n"
     ]
    }
   ],
   "source": [
    "score_train=dt.score(X_train, Y_train)\n",
    "score_test=dt.score(X_valida, Y_valida)\n",
    "print('Resultados para: Train: {} - Test: {}'.format(score_train,score_test))\n"
   ]
  },
  {
   "cell_type": "code",
   "execution_count": 12,
   "metadata": {
    "ExecuteTime": {
     "end_time": "2020-09-08T09:17:37.616066Z",
     "start_time": "2020-09-08T09:17:36.095856Z"
    },
    "scrolled": false
   },
   "outputs": [
    {
     "data": {
      "image/svg+xml": [
       "<?xml version=\"1.0\" encoding=\"UTF-8\" standalone=\"no\"?>\r\n",
       "<!DOCTYPE svg PUBLIC \"-//W3C//DTD SVG 1.1//EN\"\r\n",
       " \"http://www.w3.org/Graphics/SVG/1.1/DTD/svg11.dtd\">\r\n",
       "<!-- Generated by graphviz version 2.38.0 (20140413.2041)\r\n",
       " -->\r\n",
       "<!-- Title: Tree Pages: 1 -->\r\n",
       "<svg width=\"1731pt\" height=\"3290pt\"\r\n",
       " viewBox=\"0.00 0.00 1731.00 3290.00\" xmlns=\"http://www.w3.org/2000/svg\" xmlns:xlink=\"http://www.w3.org/1999/xlink\">\r\n",
       "<g id=\"graph0\" class=\"graph\" transform=\"scale(1 1) rotate(0) translate(4 3286)\">\r\n",
       "<title>Tree</title>\r\n",
       "<polygon fill=\"white\" stroke=\"none\" points=\"-4,4 -4,-3286 1727,-3286 1727,4 -4,4\"/>\r\n",
       "<!-- 0 -->\r\n",
       "<g id=\"node1\" class=\"node\"><title>0</title>\r\n",
       "<path fill=\"#e68640\" stroke=\"black\" d=\"M158,-2529.5C158,-2529.5 12,-2529.5 12,-2529.5 6,-2529.5 0,-2523.5 0,-2517.5 0,-2517.5 0,-2458.5 0,-2458.5 0,-2452.5 6,-2446.5 12,-2446.5 12,-2446.5 158,-2446.5 158,-2446.5 164,-2446.5 170,-2452.5 170,-2458.5 170,-2458.5 170,-2517.5 170,-2517.5 170,-2523.5 164,-2529.5 158,-2529.5\"/>\r\n",
       "<text text-anchor=\"middle\" x=\"85\" y=\"-2514.3\" font-family=\"Helvetica,sans-Serif\" font-size=\"14.00\">isActive_shift_1 &lt;= 0.5</text>\r\n",
       "<text text-anchor=\"middle\" x=\"85\" y=\"-2499.3\" font-family=\"Helvetica,sans-Serif\" font-size=\"14.00\">gini = 0.0669</text>\r\n",
       "<text text-anchor=\"middle\" x=\"85\" y=\"-2484.3\" font-family=\"Helvetica,sans-Serif\" font-size=\"14.00\">samples = 100.0%</text>\r\n",
       "<text text-anchor=\"middle\" x=\"85\" y=\"-2469.3\" font-family=\"Helvetica,sans-Serif\" font-size=\"14.00\">value = [0.9653, 0.0347]</text>\r\n",
       "<text text-anchor=\"middle\" x=\"85\" y=\"-2454.3\" font-family=\"Helvetica,sans-Serif\" font-size=\"14.00\">class = No alta</text>\r\n",
       "</g>\r\n",
       "<!-- 1 -->\r\n",
       "<g id=\"node2\" class=\"node\"><title>1</title>\r\n",
       "<path fill=\"#9acdf2\" stroke=\"black\" d=\"M412,-2963.5C412,-2963.5 218,-2963.5 218,-2963.5 212,-2963.5 206,-2957.5 206,-2951.5 206,-2951.5 206,-2892.5 206,-2892.5 206,-2886.5 212,-2880.5 218,-2880.5 218,-2880.5 412,-2880.5 412,-2880.5 418,-2880.5 424,-2886.5 424,-2892.5 424,-2892.5 424,-2951.5 424,-2951.5 424,-2957.5 418,-2963.5 412,-2963.5\"/>\r\n",
       "<text text-anchor=\"middle\" x=\"315\" y=\"-2948.3\" font-family=\"Helvetica,sans-Serif\" font-size=\"14.00\">dif_mortgage_shift_1 &lt;= &#45;499.5</text>\r\n",
       "<text text-anchor=\"middle\" x=\"315\" y=\"-2933.3\" font-family=\"Helvetica,sans-Serif\" font-size=\"14.00\">gini = 0.4414</text>\r\n",
       "<text text-anchor=\"middle\" x=\"315\" y=\"-2918.3\" font-family=\"Helvetica,sans-Serif\" font-size=\"14.00\">samples = 4.4%</text>\r\n",
       "<text text-anchor=\"middle\" x=\"315\" y=\"-2903.3\" font-family=\"Helvetica,sans-Serif\" font-size=\"14.00\">value = [0.3289, 0.6711]</text>\r\n",
       "<text text-anchor=\"middle\" x=\"315\" y=\"-2888.3\" font-family=\"Helvetica,sans-Serif\" font-size=\"14.00\">class = Alta</text>\r\n",
       "</g>\r\n",
       "<!-- 0&#45;&gt;1 -->\r\n",
       "<g id=\"edge1\" class=\"edge\"><title>0&#45;&gt;1</title>\r\n",
       "<path fill=\"none\" stroke=\"black\" d=\"M107.862,-2529.61C149.898,-2609.63 241.859,-2784.68 287.383,-2871.33\"/>\r\n",
       "<polygon fill=\"black\" stroke=\"black\" points=\"284.288,-2872.97 292.037,-2880.19 290.485,-2869.71 284.288,-2872.97\"/>\r\n",
       "<text text-anchor=\"middle\" x=\"268.166\" y=\"-2869.07\" font-family=\"Helvetica,sans-Serif\" font-size=\"14.00\">True</text>\r\n",
       "</g>\r\n",
       "<!-- 20 -->\r\n",
       "<g id=\"node21\" class=\"node\"><title>20</title>\r\n",
       "<path fill=\"#e5823a\" stroke=\"black\" d=\"M394,-2096.5C394,-2096.5 236,-2096.5 236,-2096.5 230,-2096.5 224,-2090.5 224,-2084.5 224,-2084.5 224,-2025.5 224,-2025.5 224,-2019.5 230,-2013.5 236,-2013.5 236,-2013.5 394,-2013.5 394,-2013.5 400,-2013.5 406,-2019.5 406,-2025.5 406,-2025.5 406,-2084.5 406,-2084.5 406,-2090.5 400,-2096.5 394,-2096.5\"/>\r\n",
       "<text text-anchor=\"middle\" x=\"315\" y=\"-2081.3\" font-family=\"Helvetica,sans-Serif\" font-size=\"14.00\">em_acount_shift_1 &lt;= 0.5</text>\r\n",
       "<text text-anchor=\"middle\" x=\"315\" y=\"-2066.3\" font-family=\"Helvetica,sans-Serif\" font-size=\"14.00\">gini = 0.0108</text>\r\n",
       "<text text-anchor=\"middle\" x=\"315\" y=\"-2051.3\" font-family=\"Helvetica,sans-Serif\" font-size=\"14.00\">samples = 95.6%</text>\r\n",
       "<text text-anchor=\"middle\" x=\"315\" y=\"-2036.3\" font-family=\"Helvetica,sans-Serif\" font-size=\"14.00\">value = [0.9946, 0.0054]</text>\r\n",
       "<text text-anchor=\"middle\" x=\"315\" y=\"-2021.3\" font-family=\"Helvetica,sans-Serif\" font-size=\"14.00\">class = No alta</text>\r\n",
       "</g>\r\n",
       "<!-- 0&#45;&gt;20 -->\r\n",
       "<g id=\"edge20\" class=\"edge\"><title>0&#45;&gt;20</title>\r\n",
       "<path fill=\"none\" stroke=\"black\" d=\"M107.862,-2446.48C149.856,-2366.73 241.673,-2192.36 287.245,-2105.81\"/>\r\n",
       "<polygon fill=\"black\" stroke=\"black\" points=\"290.475,-2107.19 292.037,-2096.71 284.281,-2103.93 290.475,-2107.19\"/>\r\n",
       "<text text-anchor=\"middle\" x=\"268.159\" y=\"-2100.42\" font-family=\"Helvetica,sans-Serif\" font-size=\"14.00\">False</text>\r\n",
       "</g>\r\n",
       "<!-- 2 -->\r\n",
       "<g id=\"node3\" class=\"node\"><title>2</title>\r\n",
       "<path fill=\"#a0d0f3\" stroke=\"black\" d=\"M641,-3050C641,-3050 495,-3050 495,-3050 489,-3050 483,-3044 483,-3038 483,-3038 483,-2994 483,-2994 483,-2988 489,-2982 495,-2982 495,-2982 641,-2982 641,-2982 647,-2982 653,-2988 653,-2994 653,-2994 653,-3038 653,-3038 653,-3044 647,-3050 641,-3050\"/>\r\n",
       "<text text-anchor=\"middle\" x=\"568\" y=\"-3034.8\" font-family=\"Helvetica,sans-Serif\" font-size=\"14.00\">gini = 0.4504</text>\r\n",
       "<text text-anchor=\"middle\" x=\"568\" y=\"-3019.8\" font-family=\"Helvetica,sans-Serif\" font-size=\"14.00\">samples = 4.1%</text>\r\n",
       "<text text-anchor=\"middle\" x=\"568\" y=\"-3004.8\" font-family=\"Helvetica,sans-Serif\" font-size=\"14.00\">value = [0.3426, 0.6574]</text>\r\n",
       "<text text-anchor=\"middle\" x=\"568\" y=\"-2989.8\" font-family=\"Helvetica,sans-Serif\" font-size=\"14.00\">class = Alta</text>\r\n",
       "</g>\r\n",
       "<!-- 1&#45;&gt;2 -->\r\n",
       "<g id=\"edge2\" class=\"edge\"><title>1&#45;&gt;2</title>\r\n",
       "<path fill=\"none\" stroke=\"black\" d=\"M424.268,-2962.55C440.53,-2968.64 457.185,-2974.87 473.113,-2980.84\"/>\r\n",
       "<polygon fill=\"black\" stroke=\"black\" points=\"472.335,-2984.29 482.927,-2984.51 474.79,-2977.73 472.335,-2984.29\"/>\r\n",
       "</g>\r\n",
       "<!-- 3 -->\r\n",
       "<g id=\"node4\" class=\"node\"><title>3</title>\r\n",
       "<path fill=\"#5dafea\" stroke=\"black\" d=\"M664,-2963.5C664,-2963.5 472,-2963.5 472,-2963.5 466,-2963.5 460,-2957.5 460,-2951.5 460,-2951.5 460,-2892.5 460,-2892.5 460,-2886.5 466,-2880.5 472,-2880.5 472,-2880.5 664,-2880.5 664,-2880.5 670,-2880.5 676,-2886.5 676,-2892.5 676,-2892.5 676,-2951.5 676,-2951.5 676,-2957.5 670,-2963.5 664,-2963.5\"/>\r\n",
       "<text text-anchor=\"middle\" x=\"568\" y=\"-2948.3\" font-family=\"Helvetica,sans-Serif\" font-size=\"14.00\">active_customer_shift_1 &lt;= 0.5</text>\r\n",
       "<text text-anchor=\"middle\" x=\"568\" y=\"-2933.3\" font-family=\"Helvetica,sans-Serif\" font-size=\"14.00\">gini = 0.2626</text>\r\n",
       "<text text-anchor=\"middle\" x=\"568\" y=\"-2918.3\" font-family=\"Helvetica,sans-Serif\" font-size=\"14.00\">samples = 0.3%</text>\r\n",
       "<text text-anchor=\"middle\" x=\"568\" y=\"-2903.3\" font-family=\"Helvetica,sans-Serif\" font-size=\"14.00\">value = [0.1555, 0.8445]</text>\r\n",
       "<text text-anchor=\"middle\" x=\"568\" y=\"-2888.3\" font-family=\"Helvetica,sans-Serif\" font-size=\"14.00\">class = Alta</text>\r\n",
       "</g>\r\n",
       "<!-- 1&#45;&gt;3 -->\r\n",
       "<g id=\"edge3\" class=\"edge\"><title>1&#45;&gt;3</title>\r\n",
       "<path fill=\"none\" stroke=\"black\" d=\"M424.268,-2922C432.663,-2922 441.163,-2922 449.614,-2922\"/>\r\n",
       "<polygon fill=\"black\" stroke=\"black\" points=\"449.887,-2925.5 459.887,-2922 449.887,-2918.5 449.887,-2925.5\"/>\r\n",
       "</g>\r\n",
       "<!-- 4 -->\r\n",
       "<g id=\"node5\" class=\"node\"><title>4</title>\r\n",
       "<path fill=\"#55abe9\" stroke=\"black\" d=\"M943.5,-3195.5C943.5,-3195.5 740.5,-3195.5 740.5,-3195.5 734.5,-3195.5 728.5,-3189.5 728.5,-3183.5 728.5,-3183.5 728.5,-3124.5 728.5,-3124.5 728.5,-3118.5 734.5,-3112.5 740.5,-3112.5 740.5,-3112.5 943.5,-3112.5 943.5,-3112.5 949.5,-3112.5 955.5,-3118.5 955.5,-3124.5 955.5,-3124.5 955.5,-3183.5 955.5,-3183.5 955.5,-3189.5 949.5,-3195.5 943.5,-3195.5\"/>\r\n",
       "<text text-anchor=\"middle\" x=\"842\" y=\"-3180.3\" font-family=\"Helvetica,sans-Serif\" font-size=\"14.00\">em_account_p_shift_2 &lt;= &#45;499.5</text>\r\n",
       "<text text-anchor=\"middle\" x=\"842\" y=\"-3165.3\" font-family=\"Helvetica,sans-Serif\" font-size=\"14.00\">gini = 0.2157</text>\r\n",
       "<text text-anchor=\"middle\" x=\"842\" y=\"-3150.3\" font-family=\"Helvetica,sans-Serif\" font-size=\"14.00\">samples = 0.3%</text>\r\n",
       "<text text-anchor=\"middle\" x=\"842\" y=\"-3135.3\" font-family=\"Helvetica,sans-Serif\" font-size=\"14.00\">value = [0.123, 0.877]</text>\r\n",
       "<text text-anchor=\"middle\" x=\"842\" y=\"-3120.3\" font-family=\"Helvetica,sans-Serif\" font-size=\"14.00\">class = Alta</text>\r\n",
       "</g>\r\n",
       "<!-- 3&#45;&gt;4 -->\r\n",
       "<g id=\"edge4\" class=\"edge\"><title>3&#45;&gt;4</title>\r\n",
       "<path fill=\"none\" stroke=\"black\" d=\"M662.237,-2963.64C667,-2966.63 671.62,-2969.75 676,-2973 726.376,-3010.37 773.48,-3064.77 804.357,-3104.16\"/>\r\n",
       "<polygon fill=\"black\" stroke=\"black\" points=\"801.8,-3106.58 810.695,-3112.33 807.33,-3102.28 801.8,-3106.58\"/>\r\n",
       "</g>\r\n",
       "<!-- 9 -->\r\n",
       "<g id=\"node10\" class=\"node\"><title>9</title>\r\n",
       "<path fill=\"#f1bd98\" stroke=\"black\" d=\"M921,-2963.5C921,-2963.5 763,-2963.5 763,-2963.5 757,-2963.5 751,-2957.5 751,-2951.5 751,-2951.5 751,-2892.5 751,-2892.5 751,-2886.5 757,-2880.5 763,-2880.5 763,-2880.5 921,-2880.5 921,-2880.5 927,-2880.5 933,-2886.5 933,-2892.5 933,-2892.5 933,-2951.5 933,-2951.5 933,-2957.5 927,-2963.5 921,-2963.5\"/>\r\n",
       "<text text-anchor=\"middle\" x=\"842\" y=\"-2948.3\" font-family=\"Helvetica,sans-Serif\" font-size=\"14.00\">em_acount_shift_2 &lt;= 0.5</text>\r\n",
       "<text text-anchor=\"middle\" x=\"842\" y=\"-2933.3\" font-family=\"Helvetica,sans-Serif\" font-size=\"14.00\">gini = 0.438</text>\r\n",
       "<text text-anchor=\"middle\" x=\"842\" y=\"-2918.3\" font-family=\"Helvetica,sans-Serif\" font-size=\"14.00\">samples = 0.0%</text>\r\n",
       "<text text-anchor=\"middle\" x=\"842\" y=\"-2903.3\" font-family=\"Helvetica,sans-Serif\" font-size=\"14.00\">value = [0.6761, 0.3239]</text>\r\n",
       "<text text-anchor=\"middle\" x=\"842\" y=\"-2888.3\" font-family=\"Helvetica,sans-Serif\" font-size=\"14.00\">class = No alta</text>\r\n",
       "</g>\r\n",
       "<!-- 3&#45;&gt;9 -->\r\n",
       "<g id=\"edge9\" class=\"edge\"><title>3&#45;&gt;9</title>\r\n",
       "<path fill=\"none\" stroke=\"black\" d=\"M676.111,-2922C697.319,-2922 719.509,-2922 740.488,-2922\"/>\r\n",
       "<polygon fill=\"black\" stroke=\"black\" points=\"740.68,-2925.5 750.68,-2922 740.68,-2918.5 740.68,-2925.5\"/>\r\n",
       "</g>\r\n",
       "<!-- 5 -->\r\n",
       "<g id=\"node6\" class=\"node\"><title>5</title>\r\n",
       "<path fill=\"#55abe9\" stroke=\"black\" d=\"M1198.5,-3282C1198.5,-3282 1052.5,-3282 1052.5,-3282 1046.5,-3282 1040.5,-3276 1040.5,-3270 1040.5,-3270 1040.5,-3226 1040.5,-3226 1040.5,-3220 1046.5,-3214 1052.5,-3214 1052.5,-3214 1198.5,-3214 1198.5,-3214 1204.5,-3214 1210.5,-3220 1210.5,-3226 1210.5,-3226 1210.5,-3270 1210.5,-3270 1210.5,-3276 1204.5,-3282 1198.5,-3282\"/>\r\n",
       "<text text-anchor=\"middle\" x=\"1125.5\" y=\"-3266.8\" font-family=\"Helvetica,sans-Serif\" font-size=\"14.00\">gini = 0.2161</text>\r\n",
       "<text text-anchor=\"middle\" x=\"1125.5\" y=\"-3251.8\" font-family=\"Helvetica,sans-Serif\" font-size=\"14.00\">samples = 0.3%</text>\r\n",
       "<text text-anchor=\"middle\" x=\"1125.5\" y=\"-3236.8\" font-family=\"Helvetica,sans-Serif\" font-size=\"14.00\">value = [0.1232, 0.8768]</text>\r\n",
       "<text text-anchor=\"middle\" x=\"1125.5\" y=\"-3221.8\" font-family=\"Helvetica,sans-Serif\" font-size=\"14.00\">class = Alta</text>\r\n",
       "</g>\r\n",
       "<!-- 4&#45;&gt;5 -->\r\n",
       "<g id=\"edge5\" class=\"edge\"><title>4&#45;&gt;5</title>\r\n",
       "<path fill=\"none\" stroke=\"black\" d=\"M955.875,-3191.69C980.611,-3199.95 1006.54,-3208.61 1030.45,-3216.59\"/>\r\n",
       "<polygon fill=\"black\" stroke=\"black\" points=\"1029.61,-3220.01 1040.21,-3219.85 1031.83,-3213.37 1029.61,-3220.01\"/>\r\n",
       "</g>\r\n",
       "<!-- 6 -->\r\n",
       "<g id=\"node7\" class=\"node\"><title>6</title>\r\n",
       "<path fill=\"#45a3e7\" stroke=\"black\" d=\"M1206.5,-3195.5C1206.5,-3195.5 1044.5,-3195.5 1044.5,-3195.5 1038.5,-3195.5 1032.5,-3189.5 1032.5,-3183.5 1032.5,-3183.5 1032.5,-3124.5 1032.5,-3124.5 1032.5,-3118.5 1038.5,-3112.5 1044.5,-3112.5 1044.5,-3112.5 1206.5,-3112.5 1206.5,-3112.5 1212.5,-3112.5 1218.5,-3118.5 1218.5,-3124.5 1218.5,-3124.5 1218.5,-3183.5 1218.5,-3183.5 1218.5,-3189.5 1212.5,-3195.5 1206.5,-3195.5\"/>\r\n",
       "<text text-anchor=\"middle\" x=\"1125.5\" y=\"-3180.3\" font-family=\"Helvetica,sans-Serif\" font-size=\"14.00\">isNewClient_shift_2 &lt;= 0.5</text>\r\n",
       "<text text-anchor=\"middle\" x=\"1125.5\" y=\"-3165.3\" font-family=\"Helvetica,sans-Serif\" font-size=\"14.00\">gini = 0.1107</text>\r\n",
       "<text text-anchor=\"middle\" x=\"1125.5\" y=\"-3150.3\" font-family=\"Helvetica,sans-Serif\" font-size=\"14.00\">samples = 0.0%</text>\r\n",
       "<text text-anchor=\"middle\" x=\"1125.5\" y=\"-3135.3\" font-family=\"Helvetica,sans-Serif\" font-size=\"14.00\">value = [0.0588, 0.9412]</text>\r\n",
       "<text text-anchor=\"middle\" x=\"1125.5\" y=\"-3120.3\" font-family=\"Helvetica,sans-Serif\" font-size=\"14.00\">class = Alta</text>\r\n",
       "</g>\r\n",
       "<!-- 4&#45;&gt;6 -->\r\n",
       "<g id=\"edge6\" class=\"edge\"><title>4&#45;&gt;6</title>\r\n",
       "<path fill=\"none\" stroke=\"black\" d=\"M955.875,-3154C977.795,-3154 1000.65,-3154 1022.21,-3154\"/>\r\n",
       "<polygon fill=\"black\" stroke=\"black\" points=\"1022.34,-3157.5 1032.34,-3154 1022.34,-3150.5 1022.34,-3157.5\"/>\r\n",
       "</g>\r\n",
       "<!-- 7 -->\r\n",
       "<g id=\"node8\" class=\"node\"><title>7</title>\r\n",
       "<path fill=\"#399de5\" stroke=\"black\" d=\"M1446.5,-3274C1446.5,-3274 1349.5,-3274 1349.5,-3274 1343.5,-3274 1337.5,-3268 1337.5,-3262 1337.5,-3262 1337.5,-3218 1337.5,-3218 1337.5,-3212 1343.5,-3206 1349.5,-3206 1349.5,-3206 1446.5,-3206 1446.5,-3206 1452.5,-3206 1458.5,-3212 1458.5,-3218 1458.5,-3218 1458.5,-3262 1458.5,-3262 1458.5,-3268 1452.5,-3274 1446.5,-3274\"/>\r\n",
       "<text text-anchor=\"middle\" x=\"1398\" y=\"-3258.8\" font-family=\"Helvetica,sans-Serif\" font-size=\"14.00\">gini = 0.0</text>\r\n",
       "<text text-anchor=\"middle\" x=\"1398\" y=\"-3243.8\" font-family=\"Helvetica,sans-Serif\" font-size=\"14.00\">samples = 0.0%</text>\r\n",
       "<text text-anchor=\"middle\" x=\"1398\" y=\"-3228.8\" font-family=\"Helvetica,sans-Serif\" font-size=\"14.00\">value = [0.0, 1.0]</text>\r\n",
       "<text text-anchor=\"middle\" x=\"1398\" y=\"-3213.8\" font-family=\"Helvetica,sans-Serif\" font-size=\"14.00\">class = Alta</text>\r\n",
       "</g>\r\n",
       "<!-- 6&#45;&gt;7 -->\r\n",
       "<g id=\"edge7\" class=\"edge\"><title>6&#45;&gt;7</title>\r\n",
       "<path fill=\"none\" stroke=\"black\" d=\"M1218.83,-3183.36C1254.49,-3194.69 1294.6,-3207.44 1327.71,-3217.97\"/>\r\n",
       "<polygon fill=\"black\" stroke=\"black\" points=\"1326.71,-3221.33 1337.3,-3221.02 1328.83,-3214.66 1326.71,-3221.33\"/>\r\n",
       "</g>\r\n",
       "<!-- 8 -->\r\n",
       "<g id=\"node9\" class=\"node\"><title>8</title>\r\n",
       "<path fill=\"#46a4e7\" stroke=\"black\" d=\"M1471,-3188C1471,-3188 1325,-3188 1325,-3188 1319,-3188 1313,-3182 1313,-3176 1313,-3176 1313,-3132 1313,-3132 1313,-3126 1319,-3120 1325,-3120 1325,-3120 1471,-3120 1471,-3120 1477,-3120 1483,-3126 1483,-3132 1483,-3132 1483,-3176 1483,-3176 1483,-3182 1477,-3188 1471,-3188\"/>\r\n",
       "<text text-anchor=\"middle\" x=\"1398\" y=\"-3172.8\" font-family=\"Helvetica,sans-Serif\" font-size=\"14.00\">gini = 0.1172</text>\r\n",
       "<text text-anchor=\"middle\" x=\"1398\" y=\"-3157.8\" font-family=\"Helvetica,sans-Serif\" font-size=\"14.00\">samples = 0.0%</text>\r\n",
       "<text text-anchor=\"middle\" x=\"1398\" y=\"-3142.8\" font-family=\"Helvetica,sans-Serif\" font-size=\"14.00\">value = [0.0625, 0.9375]</text>\r\n",
       "<text text-anchor=\"middle\" x=\"1398\" y=\"-3127.8\" font-family=\"Helvetica,sans-Serif\" font-size=\"14.00\">class = Alta</text>\r\n",
       "</g>\r\n",
       "<!-- 6&#45;&gt;8 -->\r\n",
       "<g id=\"edge8\" class=\"edge\"><title>6&#45;&gt;8</title>\r\n",
       "<path fill=\"none\" stroke=\"black\" d=\"M1218.83,-3154C1245.84,-3154 1275.39,-3154 1302.53,-3154\"/>\r\n",
       "<polygon fill=\"black\" stroke=\"black\" points=\"1302.8,-3157.5 1312.8,-3154 1302.8,-3150.5 1302.8,-3157.5\"/>\r\n",
       "</g>\r\n",
       "<!-- 10 -->\r\n",
       "<g id=\"node11\" class=\"node\"><title>10</title>\r\n",
       "<path fill=\"#f1bc96\" stroke=\"black\" d=\"M1221.5,-3014.5C1221.5,-3014.5 1029.5,-3014.5 1029.5,-3014.5 1023.5,-3014.5 1017.5,-3008.5 1017.5,-3002.5 1017.5,-3002.5 1017.5,-2943.5 1017.5,-2943.5 1017.5,-2937.5 1023.5,-2931.5 1029.5,-2931.5 1029.5,-2931.5 1221.5,-2931.5 1221.5,-2931.5 1227.5,-2931.5 1233.5,-2937.5 1233.5,-2943.5 1233.5,-2943.5 1233.5,-3002.5 1233.5,-3002.5 1233.5,-3008.5 1227.5,-3014.5 1221.5,-3014.5\"/>\r\n",
       "<text text-anchor=\"middle\" x=\"1125.5\" y=\"-2999.3\" font-family=\"Helvetica,sans-Serif\" font-size=\"14.00\">active_customer_shift_2 &lt;= 0.5</text>\r\n",
       "<text text-anchor=\"middle\" x=\"1125.5\" y=\"-2984.3\" font-family=\"Helvetica,sans-Serif\" font-size=\"14.00\">gini = 0.4355</text>\r\n",
       "<text text-anchor=\"middle\" x=\"1125.5\" y=\"-2969.3\" font-family=\"Helvetica,sans-Serif\" font-size=\"14.00\">samples = 0.0%</text>\r\n",
       "<text text-anchor=\"middle\" x=\"1125.5\" y=\"-2954.3\" font-family=\"Helvetica,sans-Serif\" font-size=\"14.00\">value = [0.6796, 0.3204]</text>\r\n",
       "<text text-anchor=\"middle\" x=\"1125.5\" y=\"-2939.3\" font-family=\"Helvetica,sans-Serif\" font-size=\"14.00\">class = No alta</text>\r\n",
       "</g>\r\n",
       "<!-- 9&#45;&gt;10 -->\r\n",
       "<g id=\"edge10\" class=\"edge\"><title>9&#45;&gt;10</title>\r\n",
       "<path fill=\"none\" stroke=\"black\" d=\"M933.23,-2938.35C956.693,-2942.6 982.315,-2947.24 1006.96,-2951.71\"/>\r\n",
       "<polygon fill=\"black\" stroke=\"black\" points=\"1006.62,-2955.2 1017.08,-2953.54 1007.87,-2948.31 1006.62,-2955.2\"/>\r\n",
       "</g>\r\n",
       "<!-- 15 -->\r\n",
       "<g id=\"node16\" class=\"node\"><title>15</title>\r\n",
       "<path fill=\"#f6d5bd\" stroke=\"black\" d=\"M1221.5,-2913.5C1221.5,-2913.5 1029.5,-2913.5 1029.5,-2913.5 1023.5,-2913.5 1017.5,-2907.5 1017.5,-2901.5 1017.5,-2901.5 1017.5,-2842.5 1017.5,-2842.5 1017.5,-2836.5 1023.5,-2830.5 1029.5,-2830.5 1029.5,-2830.5 1221.5,-2830.5 1221.5,-2830.5 1227.5,-2830.5 1233.5,-2836.5 1233.5,-2842.5 1233.5,-2842.5 1233.5,-2901.5 1233.5,-2901.5 1233.5,-2907.5 1227.5,-2913.5 1221.5,-2913.5\"/>\r\n",
       "<text text-anchor=\"middle\" x=\"1125.5\" y=\"-2898.3\" font-family=\"Helvetica,sans-Serif\" font-size=\"14.00\">active_customer_shift_2 &lt;= 0.5</text>\r\n",
       "<text text-anchor=\"middle\" x=\"1125.5\" y=\"-2883.3\" font-family=\"Helvetica,sans-Serif\" font-size=\"14.00\">gini = 0.48</text>\r\n",
       "<text text-anchor=\"middle\" x=\"1125.5\" y=\"-2868.3\" font-family=\"Helvetica,sans-Serif\" font-size=\"14.00\">samples = 0.0%</text>\r\n",
       "<text text-anchor=\"middle\" x=\"1125.5\" y=\"-2853.3\" font-family=\"Helvetica,sans-Serif\" font-size=\"14.00\">value = [0.6, 0.4]</text>\r\n",
       "<text text-anchor=\"middle\" x=\"1125.5\" y=\"-2838.3\" font-family=\"Helvetica,sans-Serif\" font-size=\"14.00\">class = No alta</text>\r\n",
       "</g>\r\n",
       "<!-- 9&#45;&gt;15 -->\r\n",
       "<g id=\"edge15\" class=\"edge\"><title>9&#45;&gt;15</title>\r\n",
       "<path fill=\"none\" stroke=\"black\" d=\"M933.23,-2905.97C956.693,-2901.81 982.315,-2897.25 1006.96,-2892.88\"/>\r\n",
       "<polygon fill=\"black\" stroke=\"black\" points=\"1007.85,-2896.27 1017.08,-2891.08 1006.63,-2889.38 1007.85,-2896.27\"/>\r\n",
       "</g>\r\n",
       "<!-- 11 -->\r\n",
       "<g id=\"node12\" class=\"node\"><title>11</title>\r\n",
       "<path fill=\"#f1bd98\" stroke=\"black\" d=\"M1495,-3101.5C1495,-3101.5 1301,-3101.5 1301,-3101.5 1295,-3101.5 1289,-3095.5 1289,-3089.5 1289,-3089.5 1289,-3030.5 1289,-3030.5 1289,-3024.5 1295,-3018.5 1301,-3018.5 1301,-3018.5 1495,-3018.5 1495,-3018.5 1501,-3018.5 1507,-3024.5 1507,-3030.5 1507,-3030.5 1507,-3089.5 1507,-3089.5 1507,-3095.5 1501,-3101.5 1495,-3101.5\"/>\r\n",
       "<text text-anchor=\"middle\" x=\"1398\" y=\"-3086.3\" font-family=\"Helvetica,sans-Serif\" font-size=\"14.00\">emc_account_shift_2 &lt;= &#45;499.5</text>\r\n",
       "<text text-anchor=\"middle\" x=\"1398\" y=\"-3071.3\" font-family=\"Helvetica,sans-Serif\" font-size=\"14.00\">gini = 0.4376</text>\r\n",
       "<text text-anchor=\"middle\" x=\"1398\" y=\"-3056.3\" font-family=\"Helvetica,sans-Serif\" font-size=\"14.00\">samples = 0.0%</text>\r\n",
       "<text text-anchor=\"middle\" x=\"1398\" y=\"-3041.3\" font-family=\"Helvetica,sans-Serif\" font-size=\"14.00\">value = [0.6766, 0.3234]</text>\r\n",
       "<text text-anchor=\"middle\" x=\"1398\" y=\"-3026.3\" font-family=\"Helvetica,sans-Serif\" font-size=\"14.00\">class = No alta</text>\r\n",
       "</g>\r\n",
       "<!-- 10&#45;&gt;11 -->\r\n",
       "<g id=\"edge11\" class=\"edge\"><title>10&#45;&gt;11</title>\r\n",
       "<path fill=\"none\" stroke=\"black\" d=\"M1233.8,-3007.51C1248.68,-3012.3 1264.04,-3017.24 1279.1,-3022.08\"/>\r\n",
       "<polygon fill=\"black\" stroke=\"black\" points=\"1278.36,-3025.52 1288.95,-3025.25 1280.5,-3018.85 1278.36,-3025.52\"/>\r\n",
       "</g>\r\n",
       "<!-- 14 -->\r\n",
       "<g id=\"node15\" class=\"node\"><title>14</title>\r\n",
       "<path fill=\"#e58139\" stroke=\"black\" d=\"M1446.5,-3000C1446.5,-3000 1349.5,-3000 1349.5,-3000 1343.5,-3000 1337.5,-2994 1337.5,-2988 1337.5,-2988 1337.5,-2944 1337.5,-2944 1337.5,-2938 1343.5,-2932 1349.5,-2932 1349.5,-2932 1446.5,-2932 1446.5,-2932 1452.5,-2932 1458.5,-2938 1458.5,-2944 1458.5,-2944 1458.5,-2988 1458.5,-2988 1458.5,-2994 1452.5,-3000 1446.5,-3000\"/>\r\n",
       "<text text-anchor=\"middle\" x=\"1398\" y=\"-2984.8\" font-family=\"Helvetica,sans-Serif\" font-size=\"14.00\">gini = 0.0</text>\r\n",
       "<text text-anchor=\"middle\" x=\"1398\" y=\"-2969.8\" font-family=\"Helvetica,sans-Serif\" font-size=\"14.00\">samples = 0.0%</text>\r\n",
       "<text text-anchor=\"middle\" x=\"1398\" y=\"-2954.8\" font-family=\"Helvetica,sans-Serif\" font-size=\"14.00\">value = [1.0, 0.0]</text>\r\n",
       "<text text-anchor=\"middle\" x=\"1398\" y=\"-2939.8\" font-family=\"Helvetica,sans-Serif\" font-size=\"14.00\">class = No alta</text>\r\n",
       "</g>\r\n",
       "<!-- 10&#45;&gt;14 -->\r\n",
       "<g id=\"edge14\" class=\"edge\"><title>10&#45;&gt;14</title>\r\n",
       "<path fill=\"none\" stroke=\"black\" d=\"M1233.8,-2970.22C1265.19,-2969.41 1298.69,-2968.54 1327.12,-2967.81\"/>\r\n",
       "<polygon fill=\"black\" stroke=\"black\" points=\"1327.44,-2971.3 1337.35,-2967.54 1327.26,-2964.3 1327.44,-2971.3\"/>\r\n",
       "</g>\r\n",
       "<!-- 12 -->\r\n",
       "<g id=\"node13\" class=\"node\"><title>12</title>\r\n",
       "<path fill=\"#f1bd97\" stroke=\"black\" d=\"M1711,-3137C1711,-3137 1565,-3137 1565,-3137 1559,-3137 1553,-3131 1553,-3125 1553,-3125 1553,-3081 1553,-3081 1553,-3075 1559,-3069 1565,-3069 1565,-3069 1711,-3069 1711,-3069 1717,-3069 1723,-3075 1723,-3081 1723,-3081 1723,-3125 1723,-3125 1723,-3131 1717,-3137 1711,-3137\"/>\r\n",
       "<text text-anchor=\"middle\" x=\"1638\" y=\"-3121.8\" font-family=\"Helvetica,sans-Serif\" font-size=\"14.00\">gini = 0.4362</text>\r\n",
       "<text text-anchor=\"middle\" x=\"1638\" y=\"-3106.8\" font-family=\"Helvetica,sans-Serif\" font-size=\"14.00\">samples = 0.0%</text>\r\n",
       "<text text-anchor=\"middle\" x=\"1638\" y=\"-3091.8\" font-family=\"Helvetica,sans-Serif\" font-size=\"14.00\">value = [0.6786, 0.3214]</text>\r\n",
       "<text text-anchor=\"middle\" x=\"1638\" y=\"-3076.8\" font-family=\"Helvetica,sans-Serif\" font-size=\"14.00\">class = No alta</text>\r\n",
       "</g>\r\n",
       "<!-- 11&#45;&gt;12 -->\r\n",
       "<g id=\"edge12\" class=\"edge\"><title>11&#45;&gt;12</title>\r\n",
       "<path fill=\"none\" stroke=\"black\" d=\"M1507.21,-3079.55C1519.08,-3081.69 1531.09,-3083.87 1542.78,-3085.98\"/>\r\n",
       "<polygon fill=\"black\" stroke=\"black\" points=\"1542.48,-3089.48 1552.95,-3087.81 1543.73,-3082.59 1542.48,-3089.48\"/>\r\n",
       "</g>\r\n",
       "<!-- 13 -->\r\n",
       "<g id=\"node14\" class=\"node\"><title>13</title>\r\n",
       "<path fill=\"#ffffff\" stroke=\"black\" d=\"M1686.5,-3051C1686.5,-3051 1589.5,-3051 1589.5,-3051 1583.5,-3051 1577.5,-3045 1577.5,-3039 1577.5,-3039 1577.5,-2995 1577.5,-2995 1577.5,-2989 1583.5,-2983 1589.5,-2983 1589.5,-2983 1686.5,-2983 1686.5,-2983 1692.5,-2983 1698.5,-2989 1698.5,-2995 1698.5,-2995 1698.5,-3039 1698.5,-3039 1698.5,-3045 1692.5,-3051 1686.5,-3051\"/>\r\n",
       "<text text-anchor=\"middle\" x=\"1638\" y=\"-3035.8\" font-family=\"Helvetica,sans-Serif\" font-size=\"14.00\">gini = 0.5</text>\r\n",
       "<text text-anchor=\"middle\" x=\"1638\" y=\"-3020.8\" font-family=\"Helvetica,sans-Serif\" font-size=\"14.00\">samples = 0.0%</text>\r\n",
       "<text text-anchor=\"middle\" x=\"1638\" y=\"-3005.8\" font-family=\"Helvetica,sans-Serif\" font-size=\"14.00\">value = [0.5, 0.5]</text>\r\n",
       "<text text-anchor=\"middle\" x=\"1638\" y=\"-2990.8\" font-family=\"Helvetica,sans-Serif\" font-size=\"14.00\">class = No alta</text>\r\n",
       "</g>\r\n",
       "<!-- 11&#45;&gt;13 -->\r\n",
       "<g id=\"edge13\" class=\"edge\"><title>11&#45;&gt;13</title>\r\n",
       "<path fill=\"none\" stroke=\"black\" d=\"M1507.21,-3040.45C1527.61,-3036.76 1548.43,-3033 1567.26,-3029.6\"/>\r\n",
       "<polygon fill=\"black\" stroke=\"black\" points=\"1567.99,-3033.02 1577.21,-3027.8 1566.75,-3026.14 1567.99,-3033.02\"/>\r\n",
       "</g>\r\n",
       "<!-- 16 -->\r\n",
       "<g id=\"node17\" class=\"node\"><title>16</title>\r\n",
       "<path fill=\"#e58139\" stroke=\"black\" d=\"M1446.5,-2914C1446.5,-2914 1349.5,-2914 1349.5,-2914 1343.5,-2914 1337.5,-2908 1337.5,-2902 1337.5,-2902 1337.5,-2858 1337.5,-2858 1337.5,-2852 1343.5,-2846 1349.5,-2846 1349.5,-2846 1446.5,-2846 1446.5,-2846 1452.5,-2846 1458.5,-2852 1458.5,-2858 1458.5,-2858 1458.5,-2902 1458.5,-2902 1458.5,-2908 1452.5,-2914 1446.5,-2914\"/>\r\n",
       "<text text-anchor=\"middle\" x=\"1398\" y=\"-2898.8\" font-family=\"Helvetica,sans-Serif\" font-size=\"14.00\">gini = 0.0</text>\r\n",
       "<text text-anchor=\"middle\" x=\"1398\" y=\"-2883.8\" font-family=\"Helvetica,sans-Serif\" font-size=\"14.00\">samples = 0.0%</text>\r\n",
       "<text text-anchor=\"middle\" x=\"1398\" y=\"-2868.8\" font-family=\"Helvetica,sans-Serif\" font-size=\"14.00\">value = [1.0, 0.0]</text>\r\n",
       "<text text-anchor=\"middle\" x=\"1398\" y=\"-2853.8\" font-family=\"Helvetica,sans-Serif\" font-size=\"14.00\">class = No alta</text>\r\n",
       "</g>\r\n",
       "<!-- 15&#45;&gt;16 -->\r\n",
       "<g id=\"edge16\" class=\"edge\"><title>15&#45;&gt;16</title>\r\n",
       "<path fill=\"none\" stroke=\"black\" d=\"M1233.8,-2875.17C1265.19,-2876.1 1298.69,-2877.09 1327.12,-2877.93\"/>\r\n",
       "<polygon fill=\"black\" stroke=\"black\" points=\"1327.25,-2881.44 1337.35,-2878.24 1327.46,-2874.44 1327.25,-2881.44\"/>\r\n",
       "</g>\r\n",
       "<!-- 17 -->\r\n",
       "<g id=\"node18\" class=\"node\"><title>17</title>\r\n",
       "<path fill=\"#f9e2d1\" stroke=\"black\" d=\"M1504.5,-2827.5C1504.5,-2827.5 1291.5,-2827.5 1291.5,-2827.5 1285.5,-2827.5 1279.5,-2821.5 1279.5,-2815.5 1279.5,-2815.5 1279.5,-2756.5 1279.5,-2756.5 1279.5,-2750.5 1285.5,-2744.5 1291.5,-2744.5 1291.5,-2744.5 1504.5,-2744.5 1504.5,-2744.5 1510.5,-2744.5 1516.5,-2750.5 1516.5,-2756.5 1516.5,-2756.5 1516.5,-2815.5 1516.5,-2815.5 1516.5,-2821.5 1510.5,-2827.5 1504.5,-2827.5\"/>\r\n",
       "<text text-anchor=\"middle\" x=\"1398\" y=\"-2812.3\" font-family=\"Helvetica,sans-Serif\" font-size=\"14.00\">diasDesdeUltimaBajaInt_1 &lt;= 29.0</text>\r\n",
       "<text text-anchor=\"middle\" x=\"1398\" y=\"-2797.3\" font-family=\"Helvetica,sans-Serif\" font-size=\"14.00\">gini = 0.4915</text>\r\n",
       "<text text-anchor=\"middle\" x=\"1398\" y=\"-2782.3\" font-family=\"Helvetica,sans-Serif\" font-size=\"14.00\">samples = 0.0%</text>\r\n",
       "<text text-anchor=\"middle\" x=\"1398\" y=\"-2767.3\" font-family=\"Helvetica,sans-Serif\" font-size=\"14.00\">value = [0.5652, 0.4348]</text>\r\n",
       "<text text-anchor=\"middle\" x=\"1398\" y=\"-2752.3\" font-family=\"Helvetica,sans-Serif\" font-size=\"14.00\">class = No alta</text>\r\n",
       "</g>\r\n",
       "<!-- 15&#45;&gt;17 -->\r\n",
       "<g id=\"edge17\" class=\"edge\"><title>15&#45;&gt;17</title>\r\n",
       "<path fill=\"none\" stroke=\"black\" d=\"M1233.8,-2837.89C1245.55,-2834.15 1257.6,-2830.32 1269.57,-2826.51\"/>\r\n",
       "<polygon fill=\"black\" stroke=\"black\" points=\"1270.67,-2829.84 1279.14,-2823.47 1268.55,-2823.16 1270.67,-2829.84\"/>\r\n",
       "</g>\r\n",
       "<!-- 18 -->\r\n",
       "<g id=\"node19\" class=\"node\"><title>18</title>\r\n",
       "<path fill=\"#f8ddc9\" stroke=\"black\" d=\"M1711,-2906C1711,-2906 1565,-2906 1565,-2906 1559,-2906 1553,-2900 1553,-2894 1553,-2894 1553,-2850 1553,-2850 1553,-2844 1559,-2838 1565,-2838 1565,-2838 1711,-2838 1711,-2838 1717,-2838 1723,-2844 1723,-2850 1723,-2850 1723,-2894 1723,-2894 1723,-2900 1717,-2906 1711,-2906\"/>\r\n",
       "<text text-anchor=\"middle\" x=\"1638\" y=\"-2890.8\" font-family=\"Helvetica,sans-Serif\" font-size=\"14.00\">gini = 0.4875</text>\r\n",
       "<text text-anchor=\"middle\" x=\"1638\" y=\"-2875.8\" font-family=\"Helvetica,sans-Serif\" font-size=\"14.00\">samples = 0.0%</text>\r\n",
       "<text text-anchor=\"middle\" x=\"1638\" y=\"-2860.8\" font-family=\"Helvetica,sans-Serif\" font-size=\"14.00\">value = [0.5789, 0.4211]</text>\r\n",
       "<text text-anchor=\"middle\" x=\"1638\" y=\"-2845.8\" font-family=\"Helvetica,sans-Serif\" font-size=\"14.00\">class = No alta</text>\r\n",
       "</g>\r\n",
       "<!-- 17&#45;&gt;18 -->\r\n",
       "<g id=\"edge18\" class=\"edge\"><title>17&#45;&gt;18</title>\r\n",
       "<path fill=\"none\" stroke=\"black\" d=\"M1514.17,-2827.61C1523.95,-2831.15 1533.78,-2834.7 1543.37,-2838.17\"/>\r\n",
       "<polygon fill=\"black\" stroke=\"black\" points=\"1542.28,-2841.5 1552.88,-2841.6 1544.66,-2834.91 1542.28,-2841.5\"/>\r\n",
       "</g>\r\n",
       "<!-- 19 -->\r\n",
       "<g id=\"node20\" class=\"node\"><title>19</title>\r\n",
       "<path fill=\"#ffffff\" stroke=\"black\" d=\"M1686.5,-2820C1686.5,-2820 1589.5,-2820 1589.5,-2820 1583.5,-2820 1577.5,-2814 1577.5,-2808 1577.5,-2808 1577.5,-2764 1577.5,-2764 1577.5,-2758 1583.5,-2752 1589.5,-2752 1589.5,-2752 1686.5,-2752 1686.5,-2752 1692.5,-2752 1698.5,-2758 1698.5,-2764 1698.5,-2764 1698.5,-2808 1698.5,-2808 1698.5,-2814 1692.5,-2820 1686.5,-2820\"/>\r\n",
       "<text text-anchor=\"middle\" x=\"1638\" y=\"-2804.8\" font-family=\"Helvetica,sans-Serif\" font-size=\"14.00\">gini = 0.5</text>\r\n",
       "<text text-anchor=\"middle\" x=\"1638\" y=\"-2789.8\" font-family=\"Helvetica,sans-Serif\" font-size=\"14.00\">samples = 0.0%</text>\r\n",
       "<text text-anchor=\"middle\" x=\"1638\" y=\"-2774.8\" font-family=\"Helvetica,sans-Serif\" font-size=\"14.00\">value = [0.5, 0.5]</text>\r\n",
       "<text text-anchor=\"middle\" x=\"1638\" y=\"-2759.8\" font-family=\"Helvetica,sans-Serif\" font-size=\"14.00\">class = No alta</text>\r\n",
       "</g>\r\n",
       "<!-- 17&#45;&gt;19 -->\r\n",
       "<g id=\"edge19\" class=\"edge\"><title>17&#45;&gt;19</title>\r\n",
       "<path fill=\"none\" stroke=\"black\" d=\"M1516.61,-2786C1533.9,-2786 1551.23,-2786 1567.14,-2786\"/>\r\n",
       "<polygon fill=\"black\" stroke=\"black\" points=\"1567.37,-2789.5 1577.37,-2786 1567.37,-2782.5 1567.37,-2789.5\"/>\r\n",
       "</g>\r\n",
       "<!-- 21 -->\r\n",
       "<g id=\"node22\" class=\"node\"><title>21</title>\r\n",
       "<path fill=\"#e68743\" stroke=\"black\" d=\"M647,-2096.5C647,-2096.5 489,-2096.5 489,-2096.5 483,-2096.5 477,-2090.5 477,-2084.5 477,-2084.5 477,-2025.5 477,-2025.5 477,-2019.5 483,-2013.5 489,-2013.5 489,-2013.5 647,-2013.5 647,-2013.5 653,-2013.5 659,-2019.5 659,-2025.5 659,-2025.5 659,-2084.5 659,-2084.5 659,-2090.5 653,-2096.5 647,-2096.5\"/>\r\n",
       "<text text-anchor=\"middle\" x=\"568\" y=\"-2081.3\" font-family=\"Helvetica,sans-Serif\" font-size=\"14.00\">em_acount_shift_2 &lt;= 0.5</text>\r\n",
       "<text text-anchor=\"middle\" x=\"568\" y=\"-2066.3\" font-family=\"Helvetica,sans-Serif\" font-size=\"14.00\">gini = 0.0885</text>\r\n",
       "<text text-anchor=\"middle\" x=\"568\" y=\"-2051.3\" font-family=\"Helvetica,sans-Serif\" font-size=\"14.00\">samples = 8.9%</text>\r\n",
       "<text text-anchor=\"middle\" x=\"568\" y=\"-2036.3\" font-family=\"Helvetica,sans-Serif\" font-size=\"14.00\">value = [0.9536, 0.0464]</text>\r\n",
       "<text text-anchor=\"middle\" x=\"568\" y=\"-2021.3\" font-family=\"Helvetica,sans-Serif\" font-size=\"14.00\">class = No alta</text>\r\n",
       "</g>\r\n",
       "<!-- 20&#45;&gt;21 -->\r\n",
       "<g id=\"edge21\" class=\"edge\"><title>20&#45;&gt;21</title>\r\n",
       "<path fill=\"none\" stroke=\"black\" d=\"M406.262,-2055C425.86,-2055 446.705,-2055 466.665,-2055\"/>\r\n",
       "<polygon fill=\"black\" stroke=\"black\" points=\"466.696,-2058.5 476.696,-2055 466.696,-2051.5 466.696,-2058.5\"/>\r\n",
       "</g>\r\n",
       "<!-- 52 -->\r\n",
       "<g id=\"node53\" class=\"node\"><title>52</title>\r\n",
       "<path fill=\"#e58139\" stroke=\"black\" d=\"M641,-1063.5C641,-1063.5 495,-1063.5 495,-1063.5 489,-1063.5 483,-1057.5 483,-1051.5 483,-1051.5 483,-992.5 483,-992.5 483,-986.5 489,-980.5 495,-980.5 495,-980.5 641,-980.5 641,-980.5 647,-980.5 653,-986.5 653,-992.5 653,-992.5 653,-1051.5 653,-1051.5 653,-1057.5 647,-1063.5 641,-1063.5\"/>\r\n",
       "<text text-anchor=\"middle\" x=\"568\" y=\"-1048.3\" font-family=\"Helvetica,sans-Serif\" font-size=\"14.00\">isActive_shift_5 &lt;= 0.5</text>\r\n",
       "<text text-anchor=\"middle\" x=\"568\" y=\"-1033.3\" font-family=\"Helvetica,sans-Serif\" font-size=\"14.00\">gini = 0.0025</text>\r\n",
       "<text text-anchor=\"middle\" x=\"568\" y=\"-1018.3\" font-family=\"Helvetica,sans-Serif\" font-size=\"14.00\">samples = 86.7%</text>\r\n",
       "<text text-anchor=\"middle\" x=\"568\" y=\"-1003.3\" font-family=\"Helvetica,sans-Serif\" font-size=\"14.00\">value = [0.9987, 0.0013]</text>\r\n",
       "<text text-anchor=\"middle\" x=\"568\" y=\"-988.3\" font-family=\"Helvetica,sans-Serif\" font-size=\"14.00\">class = No alta</text>\r\n",
       "</g>\r\n",
       "<!-- 20&#45;&gt;52 -->\r\n",
       "<g id=\"edge52\" class=\"edge\"><title>20&#45;&gt;52</title>\r\n",
       "<path fill=\"none\" stroke=\"black\" d=\"M326.15,-2013.23C365.891,-1849.67 510.871,-1253 554.497,-1073.46\"/>\r\n",
       "<polygon fill=\"black\" stroke=\"black\" points=\"557.901,-1074.27 556.861,-1063.73 551.099,-1072.62 557.901,-1074.27\"/>\r\n",
       "</g>\r\n",
       "<!-- 22 -->\r\n",
       "<g id=\"node23\" class=\"node\"><title>22</title>\r\n",
       "<path fill=\"#e68540\" stroke=\"black\" d=\"M960,-2269.5C960,-2269.5 724,-2269.5 724,-2269.5 718,-2269.5 712,-2263.5 712,-2257.5 712,-2257.5 712,-2198.5 712,-2198.5 712,-2192.5 718,-2186.5 724,-2186.5 724,-2186.5 960,-2186.5 960,-2186.5 966,-2186.5 972,-2192.5 972,-2198.5 972,-2198.5 972,-2257.5 972,-2257.5 972,-2263.5 966,-2269.5 960,-2269.5\"/>\r\n",
       "<text text-anchor=\"middle\" x=\"842\" y=\"-2254.3\" font-family=\"Helvetica,sans-Serif\" font-size=\"14.00\">dif_short_term_deposit_shift_3 &lt;= 0.5</text>\r\n",
       "<text text-anchor=\"middle\" x=\"842\" y=\"-2239.3\" font-family=\"Helvetica,sans-Serif\" font-size=\"14.00\">gini = 0.0633</text>\r\n",
       "<text text-anchor=\"middle\" x=\"842\" y=\"-2224.3\" font-family=\"Helvetica,sans-Serif\" font-size=\"14.00\">samples = 8.2%</text>\r\n",
       "<text text-anchor=\"middle\" x=\"842\" y=\"-2209.3\" font-family=\"Helvetica,sans-Serif\" font-size=\"14.00\">value = [0.9673, 0.0327]</text>\r\n",
       "<text text-anchor=\"middle\" x=\"842\" y=\"-2194.3\" font-family=\"Helvetica,sans-Serif\" font-size=\"14.00\">class = No alta</text>\r\n",
       "</g>\r\n",
       "<!-- 21&#45;&gt;22 -->\r\n",
       "<g id=\"edge22\" class=\"edge\"><title>21&#45;&gt;22</title>\r\n",
       "<path fill=\"none\" stroke=\"black\" d=\"M634.497,-2096.66C674.415,-2122.05 725.534,-2154.56 766.924,-2180.89\"/>\r\n",
       "<polygon fill=\"black\" stroke=\"black\" points=\"765.284,-2183.99 775.6,-2186.4 769.041,-2178.08 765.284,-2183.99\"/>\r\n",
       "</g>\r\n",
       "<!-- 37 -->\r\n",
       "<g id=\"node38\" class=\"node\"><title>37</title>\r\n",
       "<path fill=\"#eca470\" stroke=\"black\" d=\"M935.5,-1923.5C935.5,-1923.5 748.5,-1923.5 748.5,-1923.5 742.5,-1923.5 736.5,-1917.5 736.5,-1911.5 736.5,-1911.5 736.5,-1852.5 736.5,-1852.5 736.5,-1846.5 742.5,-1840.5 748.5,-1840.5 748.5,-1840.5 935.5,-1840.5 935.5,-1840.5 941.5,-1840.5 947.5,-1846.5 947.5,-1852.5 947.5,-1852.5 947.5,-1911.5 947.5,-1911.5 947.5,-1917.5 941.5,-1923.5 935.5,-1923.5\"/>\r\n",
       "<text text-anchor=\"middle\" x=\"842\" y=\"-1908.3\" font-family=\"Helvetica,sans-Serif\" font-size=\"14.00\">payroll_account_shift_1 &lt;= 0.5</text>\r\n",
       "<text text-anchor=\"middle\" x=\"842\" y=\"-1893.3\" font-family=\"Helvetica,sans-Serif\" font-size=\"14.00\">gini = 0.3417</text>\r\n",
       "<text text-anchor=\"middle\" x=\"842\" y=\"-1878.3\" font-family=\"Helvetica,sans-Serif\" font-size=\"14.00\">samples = 0.7%</text>\r\n",
       "<text text-anchor=\"middle\" x=\"842\" y=\"-1863.3\" font-family=\"Helvetica,sans-Serif\" font-size=\"14.00\">value = [0.7814, 0.2186]</text>\r\n",
       "<text text-anchor=\"middle\" x=\"842\" y=\"-1848.3\" font-family=\"Helvetica,sans-Serif\" font-size=\"14.00\">class = No alta</text>\r\n",
       "</g>\r\n",
       "<!-- 21&#45;&gt;37 -->\r\n",
       "<g id=\"edge37\" class=\"edge\"><title>21&#45;&gt;37</title>\r\n",
       "<path fill=\"none\" stroke=\"black\" d=\"M634.497,-2013.34C674.415,-1987.95 725.534,-1955.44 766.924,-1929.11\"/>\r\n",
       "<polygon fill=\"black\" stroke=\"black\" points=\"769.041,-1931.92 775.6,-1923.6 765.284,-1926.01 769.041,-1931.92\"/>\r\n",
       "</g>\r\n",
       "<!-- 23 -->\r\n",
       "<g id=\"node24\" class=\"node\"><title>23</title>\r\n",
       "<path fill=\"#e6853f\" stroke=\"black\" d=\"M1212,-2518.5C1212,-2518.5 1039,-2518.5 1039,-2518.5 1033,-2518.5 1027,-2512.5 1027,-2506.5 1027,-2506.5 1027,-2447.5 1027,-2447.5 1027,-2441.5 1033,-2435.5 1039,-2435.5 1039,-2435.5 1212,-2435.5 1212,-2435.5 1218,-2435.5 1224,-2441.5 1224,-2447.5 1224,-2447.5 1224,-2506.5 1224,-2506.5 1224,-2512.5 1218,-2518.5 1212,-2518.5\"/>\r\n",
       "<text text-anchor=\"middle\" x=\"1125.5\" y=\"-2503.3\" font-family=\"Helvetica,sans-Serif\" font-size=\"14.00\">pension_plan_shift_3 &lt;= 0.5</text>\r\n",
       "<text text-anchor=\"middle\" x=\"1125.5\" y=\"-2488.3\" font-family=\"Helvetica,sans-Serif\" font-size=\"14.00\">gini = 0.0588</text>\r\n",
       "<text text-anchor=\"middle\" x=\"1125.5\" y=\"-2473.3\" font-family=\"Helvetica,sans-Serif\" font-size=\"14.00\">samples = 8.2%</text>\r\n",
       "<text text-anchor=\"middle\" x=\"1125.5\" y=\"-2458.3\" font-family=\"Helvetica,sans-Serif\" font-size=\"14.00\">value = [0.9697, 0.0303]</text>\r\n",
       "<text text-anchor=\"middle\" x=\"1125.5\" y=\"-2443.3\" font-family=\"Helvetica,sans-Serif\" font-size=\"14.00\">class = No alta</text>\r\n",
       "</g>\r\n",
       "<!-- 22&#45;&gt;23 -->\r\n",
       "<g id=\"edge23\" class=\"edge\"><title>22&#45;&gt;23</title>\r\n",
       "<path fill=\"none\" stroke=\"black\" d=\"M890.117,-2269.68C939.644,-2313.49 1017.48,-2382.34 1069.71,-2428.54\"/>\r\n",
       "<polygon fill=\"black\" stroke=\"black\" points=\"1067.42,-2431.18 1077.23,-2435.19 1072.06,-2425.94 1067.42,-2431.18\"/>\r\n",
       "</g>\r\n",
       "<!-- 30 -->\r\n",
       "<g id=\"node31\" class=\"node\"><title>30</title>\r\n",
       "<path fill=\"#dfeffb\" stroke=\"black\" d=\"M1209,-2269.5C1209,-2269.5 1042,-2269.5 1042,-2269.5 1036,-2269.5 1030,-2263.5 1030,-2257.5 1030,-2257.5 1030,-2198.5 1030,-2198.5 1030,-2192.5 1036,-2186.5 1042,-2186.5 1042,-2186.5 1209,-2186.5 1209,-2186.5 1215,-2186.5 1221,-2192.5 1221,-2198.5 1221,-2198.5 1221,-2257.5 1221,-2257.5 1221,-2263.5 1215,-2269.5 1209,-2269.5\"/>\r\n",
       "<text text-anchor=\"middle\" x=\"1125.5\" y=\"-2254.3\" font-family=\"Helvetica,sans-Serif\" font-size=\"14.00\">totalCuentas_shift_1 &lt;= 0.5</text>\r\n",
       "<text text-anchor=\"middle\" x=\"1125.5\" y=\"-2239.3\" font-family=\"Helvetica,sans-Serif\" font-size=\"14.00\">gini = 0.496</text>\r\n",
       "<text text-anchor=\"middle\" x=\"1125.5\" y=\"-2224.3\" font-family=\"Helvetica,sans-Serif\" font-size=\"14.00\">samples = 0.0%</text>\r\n",
       "<text text-anchor=\"middle\" x=\"1125.5\" y=\"-2209.3\" font-family=\"Helvetica,sans-Serif\" font-size=\"14.00\">value = [0.4554, 0.5446]</text>\r\n",
       "<text text-anchor=\"middle\" x=\"1125.5\" y=\"-2194.3\" font-family=\"Helvetica,sans-Serif\" font-size=\"14.00\">class = Alta</text>\r\n",
       "</g>\r\n",
       "<!-- 22&#45;&gt;30 -->\r\n",
       "<g id=\"edge30\" class=\"edge\"><title>22&#45;&gt;30</title>\r\n",
       "<path fill=\"none\" stroke=\"black\" d=\"M972.216,-2228C988.103,-2228 1004.19,-2228 1019.65,-2228\"/>\r\n",
       "<polygon fill=\"black\" stroke=\"black\" points=\"1019.72,-2231.5 1029.72,-2228 1019.72,-2224.5 1019.72,-2231.5\"/>\r\n",
       "</g>\r\n",
       "<!-- 24 -->\r\n",
       "<g id=\"node25\" class=\"node\"><title>24</title>\r\n",
       "<path fill=\"#e68844\" stroke=\"black\" d=\"M1505,-2655.5C1505,-2655.5 1291,-2655.5 1291,-2655.5 1285,-2655.5 1279,-2649.5 1279,-2643.5 1279,-2643.5 1279,-2584.5 1279,-2584.5 1279,-2578.5 1285,-2572.5 1291,-2572.5 1291,-2572.5 1505,-2572.5 1505,-2572.5 1511,-2572.5 1517,-2578.5 1517,-2584.5 1517,-2584.5 1517,-2643.5 1517,-2643.5 1517,-2649.5 1511,-2655.5 1505,-2655.5\"/>\r\n",
       "<text text-anchor=\"middle\" x=\"1398\" y=\"-2640.3\" font-family=\"Helvetica,sans-Serif\" font-size=\"14.00\">totalFinanciacion_shift_6 &lt;= &#45;499.5</text>\r\n",
       "<text text-anchor=\"middle\" x=\"1398\" y=\"-2625.3\" font-family=\"Helvetica,sans-Serif\" font-size=\"14.00\">gini = 0.1028</text>\r\n",
       "<text text-anchor=\"middle\" x=\"1398\" y=\"-2610.3\" font-family=\"Helvetica,sans-Serif\" font-size=\"14.00\">samples = 4.4%</text>\r\n",
       "<text text-anchor=\"middle\" x=\"1398\" y=\"-2595.3\" font-family=\"Helvetica,sans-Serif\" font-size=\"14.00\">value = [0.9457, 0.0543]</text>\r\n",
       "<text text-anchor=\"middle\" x=\"1398\" y=\"-2580.3\" font-family=\"Helvetica,sans-Serif\" font-size=\"14.00\">class = No alta</text>\r\n",
       "</g>\r\n",
       "<!-- 23&#45;&gt;24 -->\r\n",
       "<g id=\"edge24\" class=\"edge\"><title>23&#45;&gt;24</title>\r\n",
       "<path fill=\"none\" stroke=\"black\" d=\"M1208.76,-2518.66C1239.32,-2534.14 1274.16,-2551.79 1305.5,-2567.66\"/>\r\n",
       "<polygon fill=\"black\" stroke=\"black\" points=\"1304.16,-2570.9 1314.66,-2572.3 1307.32,-2564.66 1304.16,-2570.9\"/>\r\n",
       "</g>\r\n",
       "<!-- 27 -->\r\n",
       "<g id=\"node28\" class=\"node\"><title>27</title>\r\n",
       "<path fill=\"#e5813a\" stroke=\"black\" d=\"M1481.5,-2518.5C1481.5,-2518.5 1314.5,-2518.5 1314.5,-2518.5 1308.5,-2518.5 1302.5,-2512.5 1302.5,-2506.5 1302.5,-2506.5 1302.5,-2447.5 1302.5,-2447.5 1302.5,-2441.5 1308.5,-2435.5 1314.5,-2435.5 1314.5,-2435.5 1481.5,-2435.5 1481.5,-2435.5 1487.5,-2435.5 1493.5,-2441.5 1493.5,-2447.5 1493.5,-2447.5 1493.5,-2506.5 1493.5,-2506.5 1493.5,-2512.5 1487.5,-2518.5 1481.5,-2518.5\"/>\r\n",
       "<text text-anchor=\"middle\" x=\"1398\" y=\"-2503.3\" font-family=\"Helvetica,sans-Serif\" font-size=\"14.00\">totalCuentas_shift_3 &lt;= 4.5</text>\r\n",
       "<text text-anchor=\"middle\" x=\"1398\" y=\"-2488.3\" font-family=\"Helvetica,sans-Serif\" font-size=\"14.00\">gini = 0.0053</text>\r\n",
       "<text text-anchor=\"middle\" x=\"1398\" y=\"-2473.3\" font-family=\"Helvetica,sans-Serif\" font-size=\"14.00\">samples = 3.8%</text>\r\n",
       "<text text-anchor=\"middle\" x=\"1398\" y=\"-2458.3\" font-family=\"Helvetica,sans-Serif\" font-size=\"14.00\">value = [0.9973, 0.0027]</text>\r\n",
       "<text text-anchor=\"middle\" x=\"1398\" y=\"-2443.3\" font-family=\"Helvetica,sans-Serif\" font-size=\"14.00\">class = No alta</text>\r\n",
       "</g>\r\n",
       "<!-- 23&#45;&gt;27 -->\r\n",
       "<g id=\"edge27\" class=\"edge\"><title>23&#45;&gt;27</title>\r\n",
       "<path fill=\"none\" stroke=\"black\" d=\"M1224.16,-2477C1246.2,-2477 1269.7,-2477 1292.03,-2477\"/>\r\n",
       "<polygon fill=\"black\" stroke=\"black\" points=\"1292.2,-2480.5 1302.2,-2477 1292.2,-2473.5 1292.2,-2480.5\"/>\r\n",
       "</g>\r\n",
       "<!-- 25 -->\r\n",
       "<g id=\"node26\" class=\"node\"><title>25</title>\r\n",
       "<path fill=\"#e88f4f\" stroke=\"black\" d=\"M1711,-2734C1711,-2734 1565,-2734 1565,-2734 1559,-2734 1553,-2728 1553,-2722 1553,-2722 1553,-2678 1553,-2678 1553,-2672 1559,-2666 1565,-2666 1565,-2666 1711,-2666 1711,-2666 1717,-2666 1723,-2672 1723,-2678 1723,-2678 1723,-2722 1723,-2722 1723,-2728 1717,-2734 1711,-2734\"/>\r\n",
       "<text text-anchor=\"middle\" x=\"1638\" y=\"-2718.8\" font-family=\"Helvetica,sans-Serif\" font-size=\"14.00\">gini = 0.1824</text>\r\n",
       "<text text-anchor=\"middle\" x=\"1638\" y=\"-2703.8\" font-family=\"Helvetica,sans-Serif\" font-size=\"14.00\">samples = 0.9%</text>\r\n",
       "<text text-anchor=\"middle\" x=\"1638\" y=\"-2688.8\" font-family=\"Helvetica,sans-Serif\" font-size=\"14.00\">value = [0.8985, 0.1015]</text>\r\n",
       "<text text-anchor=\"middle\" x=\"1638\" y=\"-2673.8\" font-family=\"Helvetica,sans-Serif\" font-size=\"14.00\">class = No alta</text>\r\n",
       "</g>\r\n",
       "<!-- 24&#45;&gt;25 -->\r\n",
       "<g id=\"edge25\" class=\"edge\"><title>24&#45;&gt;25</title>\r\n",
       "<path fill=\"none\" stroke=\"black\" d=\"M1514.17,-2655.61C1523.95,-2659.15 1533.78,-2662.7 1543.37,-2666.17\"/>\r\n",
       "<polygon fill=\"black\" stroke=\"black\" points=\"1542.28,-2669.5 1552.88,-2669.6 1544.66,-2662.91 1542.28,-2669.5\"/>\r\n",
       "</g>\r\n",
       "<!-- 26 -->\r\n",
       "<g id=\"node27\" class=\"node\"><title>26</title>\r\n",
       "<path fill=\"#e68742\" stroke=\"black\" d=\"M1703,-2648C1703,-2648 1573,-2648 1573,-2648 1567,-2648 1561,-2642 1561,-2636 1561,-2636 1561,-2592 1561,-2592 1561,-2586 1567,-2580 1573,-2580 1573,-2580 1703,-2580 1703,-2580 1709,-2580 1715,-2586 1715,-2592 1715,-2592 1715,-2636 1715,-2636 1715,-2642 1709,-2648 1703,-2648\"/>\r\n",
       "<text text-anchor=\"middle\" x=\"1638\" y=\"-2632.8\" font-family=\"Helvetica,sans-Serif\" font-size=\"14.00\">gini = 0.0805</text>\r\n",
       "<text text-anchor=\"middle\" x=\"1638\" y=\"-2617.8\" font-family=\"Helvetica,sans-Serif\" font-size=\"14.00\">samples = 3.5%</text>\r\n",
       "<text text-anchor=\"middle\" x=\"1638\" y=\"-2602.8\" font-family=\"Helvetica,sans-Serif\" font-size=\"14.00\">value = [0.958, 0.042]</text>\r\n",
       "<text text-anchor=\"middle\" x=\"1638\" y=\"-2587.8\" font-family=\"Helvetica,sans-Serif\" font-size=\"14.00\">class = No alta</text>\r\n",
       "</g>\r\n",
       "<!-- 24&#45;&gt;26 -->\r\n",
       "<g id=\"edge26\" class=\"edge\"><title>24&#45;&gt;26</title>\r\n",
       "<path fill=\"none\" stroke=\"black\" d=\"M1517.3,-2614C1528.53,-2614 1539.77,-2614 1550.61,-2614\"/>\r\n",
       "<polygon fill=\"black\" stroke=\"black\" points=\"1550.88,-2617.5 1560.88,-2614 1550.88,-2610.5 1550.88,-2617.5\"/>\r\n",
       "</g>\r\n",
       "<!-- 28 -->\r\n",
       "<g id=\"node29\" class=\"node\"><title>28</title>\r\n",
       "<path fill=\"#e5813a\" stroke=\"black\" d=\"M1711,-2562C1711,-2562 1565,-2562 1565,-2562 1559,-2562 1553,-2556 1553,-2550 1553,-2550 1553,-2506 1553,-2506 1553,-2500 1559,-2494 1565,-2494 1565,-2494 1711,-2494 1711,-2494 1717,-2494 1723,-2500 1723,-2506 1723,-2506 1723,-2550 1723,-2550 1723,-2556 1717,-2562 1711,-2562\"/>\r\n",
       "<text text-anchor=\"middle\" x=\"1638\" y=\"-2546.8\" font-family=\"Helvetica,sans-Serif\" font-size=\"14.00\">gini = 0.0053</text>\r\n",
       "<text text-anchor=\"middle\" x=\"1638\" y=\"-2531.8\" font-family=\"Helvetica,sans-Serif\" font-size=\"14.00\">samples = 3.8%</text>\r\n",
       "<text text-anchor=\"middle\" x=\"1638\" y=\"-2516.8\" font-family=\"Helvetica,sans-Serif\" font-size=\"14.00\">value = [0.9974, 0.0026]</text>\r\n",
       "<text text-anchor=\"middle\" x=\"1638\" y=\"-2501.8\" font-family=\"Helvetica,sans-Serif\" font-size=\"14.00\">class = No alta</text>\r\n",
       "</g>\r\n",
       "<!-- 27&#45;&gt;28 -->\r\n",
       "<g id=\"edge28\" class=\"edge\"><title>27&#45;&gt;28</title>\r\n",
       "<path fill=\"none\" stroke=\"black\" d=\"M1493.75,-2497.3C1509.96,-2500.78 1526.79,-2504.38 1542.99,-2507.85\"/>\r\n",
       "<polygon fill=\"black\" stroke=\"black\" points=\"1542.46,-2511.32 1552.97,-2509.99 1543.93,-2504.48 1542.46,-2511.32\"/>\r\n",
       "</g>\r\n",
       "<!-- 29 -->\r\n",
       "<g id=\"node30\" class=\"node\"><title>29</title>\r\n",
       "<path fill=\"#eb9d65\" stroke=\"black\" d=\"M1711,-2476C1711,-2476 1565,-2476 1565,-2476 1559,-2476 1553,-2470 1553,-2464 1553,-2464 1553,-2420 1553,-2420 1553,-2414 1559,-2408 1565,-2408 1565,-2408 1711,-2408 1711,-2408 1717,-2408 1723,-2414 1723,-2420 1723,-2420 1723,-2464 1723,-2464 1723,-2470 1717,-2476 1711,-2476\"/>\r\n",
       "<text text-anchor=\"middle\" x=\"1638\" y=\"-2460.8\" font-family=\"Helvetica,sans-Serif\" font-size=\"14.00\">gini = 0.2975</text>\r\n",
       "<text text-anchor=\"middle\" x=\"1638\" y=\"-2445.8\" font-family=\"Helvetica,sans-Serif\" font-size=\"14.00\">samples = 0.0%</text>\r\n",
       "<text text-anchor=\"middle\" x=\"1638\" y=\"-2430.8\" font-family=\"Helvetica,sans-Serif\" font-size=\"14.00\">value = [0.8182, 0.1818]</text>\r\n",
       "<text text-anchor=\"middle\" x=\"1638\" y=\"-2415.8\" font-family=\"Helvetica,sans-Serif\" font-size=\"14.00\">class = No alta</text>\r\n",
       "</g>\r\n",
       "<!-- 27&#45;&gt;29 -->\r\n",
       "<g id=\"edge29\" class=\"edge\"><title>27&#45;&gt;29</title>\r\n",
       "<path fill=\"none\" stroke=\"black\" d=\"M1493.75,-2463.07C1509.96,-2460.68 1526.79,-2458.21 1542.99,-2455.83\"/>\r\n",
       "<polygon fill=\"black\" stroke=\"black\" points=\"1543.59,-2459.27 1552.97,-2454.36 1542.57,-2452.35 1543.59,-2459.27\"/>\r\n",
       "</g>\r\n",
       "<!-- 31 -->\r\n",
       "<g id=\"node32\" class=\"node\"><title>31</title>\r\n",
       "<path fill=\"#c4e2f7\" stroke=\"black\" d=\"M1494,-2319.5C1494,-2319.5 1302,-2319.5 1302,-2319.5 1296,-2319.5 1290,-2313.5 1290,-2307.5 1290,-2307.5 1290,-2248.5 1290,-2248.5 1290,-2242.5 1296,-2236.5 1302,-2236.5 1302,-2236.5 1494,-2236.5 1494,-2236.5 1500,-2236.5 1506,-2242.5 1506,-2248.5 1506,-2248.5 1506,-2307.5 1506,-2307.5 1506,-2313.5 1500,-2319.5 1494,-2319.5\"/>\r\n",
       "<text text-anchor=\"middle\" x=\"1398\" y=\"-2304.3\" font-family=\"Helvetica,sans-Serif\" font-size=\"14.00\">active_customer_shift_2 &lt;= 0.5</text>\r\n",
       "<text text-anchor=\"middle\" x=\"1398\" y=\"-2289.3\" font-family=\"Helvetica,sans-Serif\" font-size=\"14.00\">gini = 0.4844</text>\r\n",
       "<text text-anchor=\"middle\" x=\"1398\" y=\"-2274.3\" font-family=\"Helvetica,sans-Serif\" font-size=\"14.00\">samples = 0.0%</text>\r\n",
       "<text text-anchor=\"middle\" x=\"1398\" y=\"-2259.3\" font-family=\"Helvetica,sans-Serif\" font-size=\"14.00\">value = [0.4116, 0.5884]</text>\r\n",
       "<text text-anchor=\"middle\" x=\"1398\" y=\"-2244.3\" font-family=\"Helvetica,sans-Serif\" font-size=\"14.00\">class = Alta</text>\r\n",
       "</g>\r\n",
       "<!-- 30&#45;&gt;31 -->\r\n",
       "<g id=\"edge31\" class=\"edge\"><title>30&#45;&gt;31</title>\r\n",
       "<path fill=\"none\" stroke=\"black\" d=\"M1221.11,-2245.49C1240.14,-2249 1260.35,-2252.74 1280.03,-2256.38\"/>\r\n",
       "<polygon fill=\"black\" stroke=\"black\" points=\"1279.49,-2259.84 1289.96,-2258.21 1280.76,-2252.95 1279.49,-2259.84\"/>\r\n",
       "</g>\r\n",
       "<!-- 34 -->\r\n",
       "<g id=\"node35\" class=\"node\"><title>34</title>\r\n",
       "<path fill=\"#e68742\" stroke=\"black\" d=\"M1496.5,-2218.5C1496.5,-2218.5 1299.5,-2218.5 1299.5,-2218.5 1293.5,-2218.5 1287.5,-2212.5 1287.5,-2206.5 1287.5,-2206.5 1287.5,-2147.5 1287.5,-2147.5 1287.5,-2141.5 1293.5,-2135.5 1299.5,-2135.5 1299.5,-2135.5 1496.5,-2135.5 1496.5,-2135.5 1502.5,-2135.5 1508.5,-2141.5 1508.5,-2147.5 1508.5,-2147.5 1508.5,-2206.5 1508.5,-2206.5 1508.5,-2212.5 1502.5,-2218.5 1496.5,-2218.5\"/>\r\n",
       "<text text-anchor=\"middle\" x=\"1398\" y=\"-2203.3\" font-family=\"Helvetica,sans-Serif\" font-size=\"14.00\">dif_emc_account_shift_2 &lt;= 0.5</text>\r\n",
       "<text text-anchor=\"middle\" x=\"1398\" y=\"-2188.3\" font-family=\"Helvetica,sans-Serif\" font-size=\"14.00\">gini = 0.0832</text>\r\n",
       "<text text-anchor=\"middle\" x=\"1398\" y=\"-2173.3\" font-family=\"Helvetica,sans-Serif\" font-size=\"14.00\">samples = 0.0%</text>\r\n",
       "<text text-anchor=\"middle\" x=\"1398\" y=\"-2158.3\" font-family=\"Helvetica,sans-Serif\" font-size=\"14.00\">value = [0.9565, 0.0435]</text>\r\n",
       "<text text-anchor=\"middle\" x=\"1398\" y=\"-2143.3\" font-family=\"Helvetica,sans-Serif\" font-size=\"14.00\">class = No alta</text>\r\n",
       "</g>\r\n",
       "<!-- 30&#45;&gt;34 -->\r\n",
       "<g id=\"edge34\" class=\"edge\"><title>30&#45;&gt;34</title>\r\n",
       "<path fill=\"none\" stroke=\"black\" d=\"M1221.11,-2210.16C1239.19,-2206.75 1258.34,-2203.14 1277.09,-2199.61\"/>\r\n",
       "<polygon fill=\"black\" stroke=\"black\" points=\"1277.97,-2203 1287.15,-2197.71 1276.67,-2196.12 1277.97,-2203\"/>\r\n",
       "</g>\r\n",
       "<!-- 32 -->\r\n",
       "<g id=\"node33\" class=\"node\"><title>32</title>\r\n",
       "<path fill=\"#78bced\" stroke=\"black\" d=\"M1711,-2390C1711,-2390 1565,-2390 1565,-2390 1559,-2390 1553,-2384 1553,-2378 1553,-2378 1553,-2334 1553,-2334 1553,-2328 1559,-2322 1565,-2322 1565,-2322 1711,-2322 1711,-2322 1717,-2322 1723,-2328 1723,-2334 1723,-2334 1723,-2378 1723,-2378 1723,-2384 1717,-2390 1711,-2390\"/>\r\n",
       "<text text-anchor=\"middle\" x=\"1638\" y=\"-2374.8\" font-family=\"Helvetica,sans-Serif\" font-size=\"14.00\">gini = 0.3662</text>\r\n",
       "<text text-anchor=\"middle\" x=\"1638\" y=\"-2359.8\" font-family=\"Helvetica,sans-Serif\" font-size=\"14.00\">samples = 0.0%</text>\r\n",
       "<text text-anchor=\"middle\" x=\"1638\" y=\"-2344.8\" font-family=\"Helvetica,sans-Serif\" font-size=\"14.00\">value = [0.2414, 0.7586]</text>\r\n",
       "<text text-anchor=\"middle\" x=\"1638\" y=\"-2329.8\" font-family=\"Helvetica,sans-Serif\" font-size=\"14.00\">class = Alta</text>\r\n",
       "</g>\r\n",
       "<!-- 31&#45;&gt;32 -->\r\n",
       "<g id=\"edge32\" class=\"edge\"><title>31&#45;&gt;32</title>\r\n",
       "<path fill=\"none\" stroke=\"black\" d=\"M1506.16,-2313.12C1518.53,-2317.17 1531.06,-2321.28 1543.23,-2325.27\"/>\r\n",
       "<polygon fill=\"black\" stroke=\"black\" points=\"1542.31,-2328.65 1552.9,-2328.44 1544.49,-2322 1542.31,-2328.65\"/>\r\n",
       "</g>\r\n",
       "<!-- 33 -->\r\n",
       "<g id=\"node34\" class=\"node\"><title>33</title>\r\n",
       "<path fill=\"#c9e4f8\" stroke=\"black\" d=\"M1711,-2304C1711,-2304 1565,-2304 1565,-2304 1559,-2304 1553,-2298 1553,-2292 1553,-2292 1553,-2248 1553,-2248 1553,-2242 1559,-2236 1565,-2236 1565,-2236 1711,-2236 1711,-2236 1717,-2236 1723,-2242 1723,-2248 1723,-2248 1723,-2292 1723,-2292 1723,-2298 1717,-2304 1711,-2304\"/>\r\n",
       "<text text-anchor=\"middle\" x=\"1638\" y=\"-2288.8\" font-family=\"Helvetica,sans-Serif\" font-size=\"14.00\">gini = 0.4877</text>\r\n",
       "<text text-anchor=\"middle\" x=\"1638\" y=\"-2273.8\" font-family=\"Helvetica,sans-Serif\" font-size=\"14.00\">samples = 0.0%</text>\r\n",
       "<text text-anchor=\"middle\" x=\"1638\" y=\"-2258.8\" font-family=\"Helvetica,sans-Serif\" font-size=\"14.00\">value = [0.4215, 0.5785]</text>\r\n",
       "<text text-anchor=\"middle\" x=\"1638\" y=\"-2243.8\" font-family=\"Helvetica,sans-Serif\" font-size=\"14.00\">class = Alta</text>\r\n",
       "</g>\r\n",
       "<!-- 31&#45;&gt;33 -->\r\n",
       "<g id=\"edge33\" class=\"edge\"><title>31&#45;&gt;33</title>\r\n",
       "<path fill=\"none\" stroke=\"black\" d=\"M1506.16,-2274.4C1518.41,-2273.99 1530.82,-2273.57 1542.87,-2273.16\"/>\r\n",
       "<polygon fill=\"black\" stroke=\"black\" points=\"1543.02,-2276.66 1552.9,-2272.83 1542.79,-2269.66 1543.02,-2276.66\"/>\r\n",
       "</g>\r\n",
       "<!-- 35 -->\r\n",
       "<g id=\"node36\" class=\"node\"><title>35</title>\r\n",
       "<path fill=\"#e5833c\" stroke=\"black\" d=\"M1711,-2218C1711,-2218 1565,-2218 1565,-2218 1559,-2218 1553,-2212 1553,-2206 1553,-2206 1553,-2162 1553,-2162 1553,-2156 1559,-2150 1565,-2150 1565,-2150 1711,-2150 1711,-2150 1717,-2150 1723,-2156 1723,-2162 1723,-2162 1723,-2206 1723,-2206 1723,-2212 1717,-2218 1711,-2218\"/>\r\n",
       "<text text-anchor=\"middle\" x=\"1638\" y=\"-2202.8\" font-family=\"Helvetica,sans-Serif\" font-size=\"14.00\">gini = 0.0267</text>\r\n",
       "<text text-anchor=\"middle\" x=\"1638\" y=\"-2187.8\" font-family=\"Helvetica,sans-Serif\" font-size=\"14.00\">samples = 0.0%</text>\r\n",
       "<text text-anchor=\"middle\" x=\"1638\" y=\"-2172.8\" font-family=\"Helvetica,sans-Serif\" font-size=\"14.00\">value = [0.9865, 0.0135]</text>\r\n",
       "<text text-anchor=\"middle\" x=\"1638\" y=\"-2157.8\" font-family=\"Helvetica,sans-Serif\" font-size=\"14.00\">class = No alta</text>\r\n",
       "</g>\r\n",
       "<!-- 34&#45;&gt;35 -->\r\n",
       "<g id=\"edge35\" class=\"edge\"><title>34&#45;&gt;35</title>\r\n",
       "<path fill=\"none\" stroke=\"black\" d=\"M1508.6,-2180.22C1519.99,-2180.56 1531.5,-2180.9 1542.71,-2181.23\"/>\r\n",
       "<polygon fill=\"black\" stroke=\"black\" points=\"1542.8,-2184.73 1552.9,-2181.53 1543.01,-2177.73 1542.8,-2184.73\"/>\r\n",
       "</g>\r\n",
       "<!-- 36 -->\r\n",
       "<g id=\"node37\" class=\"node\"><title>36</title>\r\n",
       "<path fill=\"#ea9a61\" stroke=\"black\" d=\"M1711,-2132C1711,-2132 1565,-2132 1565,-2132 1559,-2132 1553,-2126 1553,-2120 1553,-2120 1553,-2076 1553,-2076 1553,-2070 1559,-2064 1565,-2064 1565,-2064 1711,-2064 1711,-2064 1717,-2064 1723,-2070 1723,-2076 1723,-2076 1723,-2120 1723,-2120 1723,-2126 1717,-2132 1711,-2132\"/>\r\n",
       "<text text-anchor=\"middle\" x=\"1638\" y=\"-2116.8\" font-family=\"Helvetica,sans-Serif\" font-size=\"14.00\">gini = 0.2778</text>\r\n",
       "<text text-anchor=\"middle\" x=\"1638\" y=\"-2101.8\" font-family=\"Helvetica,sans-Serif\" font-size=\"14.00\">samples = 0.0%</text>\r\n",
       "<text text-anchor=\"middle\" x=\"1638\" y=\"-2086.8\" font-family=\"Helvetica,sans-Serif\" font-size=\"14.00\">value = [0.8333, 0.1667]</text>\r\n",
       "<text text-anchor=\"middle\" x=\"1638\" y=\"-2071.8\" font-family=\"Helvetica,sans-Serif\" font-size=\"14.00\">class = No alta</text>\r\n",
       "</g>\r\n",
       "<!-- 34&#45;&gt;36 -->\r\n",
       "<g id=\"edge36\" class=\"edge\"><title>34&#45;&gt;36</title>\r\n",
       "<path fill=\"none\" stroke=\"black\" d=\"M1508.6,-2140.62C1520.22,-2136.76 1531.97,-2132.86 1543.39,-2129.07\"/>\r\n",
       "<polygon fill=\"black\" stroke=\"black\" points=\"1544.51,-2132.39 1552.9,-2125.92 1542.31,-2125.74 1544.51,-2132.39\"/>\r\n",
       "</g>\r\n",
       "<!-- 38 -->\r\n",
       "<g id=\"node39\" class=\"node\"><title>38</title>\r\n",
       "<path fill=\"#fef8f4\" stroke=\"black\" d=\"M1203,-1923.5C1203,-1923.5 1048,-1923.5 1048,-1923.5 1042,-1923.5 1036,-1917.5 1036,-1911.5 1036,-1911.5 1036,-1852.5 1036,-1852.5 1036,-1846.5 1042,-1840.5 1048,-1840.5 1048,-1840.5 1203,-1840.5 1203,-1840.5 1209,-1840.5 1215,-1846.5 1215,-1852.5 1215,-1852.5 1215,-1911.5 1215,-1911.5 1215,-1917.5 1209,-1923.5 1203,-1923.5\"/>\r\n",
       "<text text-anchor=\"middle\" x=\"1125.5\" y=\"-1908.3\" font-family=\"Helvetica,sans-Serif\" font-size=\"14.00\">debit_card_shift_1 &lt;= 0.5</text>\r\n",
       "<text text-anchor=\"middle\" x=\"1125.5\" y=\"-1893.3\" font-family=\"Helvetica,sans-Serif\" font-size=\"14.00\">gini = 0.4996</text>\r\n",
       "<text text-anchor=\"middle\" x=\"1125.5\" y=\"-1878.3\" font-family=\"Helvetica,sans-Serif\" font-size=\"14.00\">samples = 0.3%</text>\r\n",
       "<text text-anchor=\"middle\" x=\"1125.5\" y=\"-1863.3\" font-family=\"Helvetica,sans-Serif\" font-size=\"14.00\">value = [0.5139, 0.4861]</text>\r\n",
       "<text text-anchor=\"middle\" x=\"1125.5\" y=\"-1848.3\" font-family=\"Helvetica,sans-Serif\" font-size=\"14.00\">class = No alta</text>\r\n",
       "</g>\r\n",
       "<!-- 37&#45;&gt;38 -->\r\n",
       "<g id=\"edge38\" class=\"edge\"><title>37&#45;&gt;38</title>\r\n",
       "<path fill=\"none\" stroke=\"black\" d=\"M947.82,-1882C973.237,-1882 1000.33,-1882 1025.47,-1882\"/>\r\n",
       "<polygon fill=\"black\" stroke=\"black\" points=\"1025.74,-1885.5 1035.74,-1882 1025.74,-1878.5 1025.74,-1885.5\"/>\r\n",
       "</g>\r\n",
       "<!-- 45 -->\r\n",
       "<g id=\"node46\" class=\"node\"><title>45</title>\r\n",
       "<path fill=\"#e5823a\" stroke=\"black\" d=\"M1231,-1674.5C1231,-1674.5 1020,-1674.5 1020,-1674.5 1014,-1674.5 1008,-1668.5 1008,-1662.5 1008,-1662.5 1008,-1603.5 1008,-1603.5 1008,-1597.5 1014,-1591.5 1020,-1591.5 1020,-1591.5 1231,-1591.5 1231,-1591.5 1237,-1591.5 1243,-1597.5 1243,-1603.5 1243,-1603.5 1243,-1662.5 1243,-1662.5 1243,-1668.5 1237,-1674.5 1231,-1674.5\"/>\r\n",
       "<text text-anchor=\"middle\" x=\"1125.5\" y=\"-1659.3\" font-family=\"Helvetica,sans-Serif\" font-size=\"14.00\">dif_payroll_account_shift_1 &lt;= 0.5</text>\r\n",
       "<text text-anchor=\"middle\" x=\"1125.5\" y=\"-1644.3\" font-family=\"Helvetica,sans-Serif\" font-size=\"14.00\">gini = 0.0142</text>\r\n",
       "<text text-anchor=\"middle\" x=\"1125.5\" y=\"-1629.3\" font-family=\"Helvetica,sans-Serif\" font-size=\"14.00\">samples = 0.4%</text>\r\n",
       "<text text-anchor=\"middle\" x=\"1125.5\" y=\"-1614.3\" font-family=\"Helvetica,sans-Serif\" font-size=\"14.00\">value = [0.9928, 0.0072]</text>\r\n",
       "<text text-anchor=\"middle\" x=\"1125.5\" y=\"-1599.3\" font-family=\"Helvetica,sans-Serif\" font-size=\"14.00\">class = No alta</text>\r\n",
       "</g>\r\n",
       "<!-- 37&#45;&gt;45 -->\r\n",
       "<g id=\"edge45\" class=\"edge\"><title>37&#45;&gt;45</title>\r\n",
       "<path fill=\"none\" stroke=\"black\" d=\"M890.117,-1840.32C939.644,-1796.51 1017.48,-1727.66 1069.71,-1681.46\"/>\r\n",
       "<polygon fill=\"black\" stroke=\"black\" points=\"1072.06,-1684.06 1077.23,-1674.81 1067.42,-1678.82 1072.06,-1684.06\"/>\r\n",
       "</g>\r\n",
       "<!-- 39 -->\r\n",
       "<g id=\"node40\" class=\"node\"><title>39</title>\r\n",
       "<path fill=\"#e99558\" stroke=\"black\" d=\"M1471,-1974.5C1471,-1974.5 1325,-1974.5 1325,-1974.5 1319,-1974.5 1313,-1968.5 1313,-1962.5 1313,-1962.5 1313,-1903.5 1313,-1903.5 1313,-1897.5 1319,-1891.5 1325,-1891.5 1325,-1891.5 1471,-1891.5 1471,-1891.5 1477,-1891.5 1483,-1897.5 1483,-1903.5 1483,-1903.5 1483,-1962.5 1483,-1962.5 1483,-1968.5 1477,-1974.5 1471,-1974.5\"/>\r\n",
       "<text text-anchor=\"middle\" x=\"1398\" y=\"-1959.3\" font-family=\"Helvetica,sans-Serif\" font-size=\"14.00\">hayAlta_1 &lt;= 0.5</text>\r\n",
       "<text text-anchor=\"middle\" x=\"1398\" y=\"-1944.3\" font-family=\"Helvetica,sans-Serif\" font-size=\"14.00\">gini = 0.2328</text>\r\n",
       "<text text-anchor=\"middle\" x=\"1398\" y=\"-1929.3\" font-family=\"Helvetica,sans-Serif\" font-size=\"14.00\">samples = 0.1%</text>\r\n",
       "<text text-anchor=\"middle\" x=\"1398\" y=\"-1914.3\" font-family=\"Helvetica,sans-Serif\" font-size=\"14.00\">value = [0.8655, 0.1345]</text>\r\n",
       "<text text-anchor=\"middle\" x=\"1398\" y=\"-1899.3\" font-family=\"Helvetica,sans-Serif\" font-size=\"14.00\">class = No alta</text>\r\n",
       "</g>\r\n",
       "<!-- 38&#45;&gt;39 -->\r\n",
       "<g id=\"edge39\" class=\"edge\"><title>38&#45;&gt;39</title>\r\n",
       "<path fill=\"none\" stroke=\"black\" d=\"M1215.07,-1898.7C1243.19,-1904 1274.37,-1909.88 1302.87,-1915.25\"/>\r\n",
       "<polygon fill=\"black\" stroke=\"black\" points=\"1302.35,-1918.72 1312.83,-1917.13 1303.65,-1911.84 1302.35,-1918.72\"/>\r\n",
       "</g>\r\n",
       "<!-- 42 -->\r\n",
       "<g id=\"node43\" class=\"node\"><title>42</title>\r\n",
       "<path fill=\"#86c3ef\" stroke=\"black\" d=\"M1489,-1873.5C1489,-1873.5 1307,-1873.5 1307,-1873.5 1301,-1873.5 1295,-1867.5 1295,-1861.5 1295,-1861.5 1295,-1802.5 1295,-1802.5 1295,-1796.5 1301,-1790.5 1307,-1790.5 1307,-1790.5 1489,-1790.5 1489,-1790.5 1495,-1790.5 1501,-1796.5 1501,-1802.5 1501,-1802.5 1501,-1861.5 1501,-1861.5 1501,-1867.5 1495,-1873.5 1489,-1873.5\"/>\r\n",
       "<text text-anchor=\"middle\" x=\"1398\" y=\"-1858.3\" font-family=\"Helvetica,sans-Serif\" font-size=\"14.00\">dif_em_acount_shift_2 &lt;= 0.5</text>\r\n",
       "<text text-anchor=\"middle\" x=\"1398\" y=\"-1843.3\" font-family=\"Helvetica,sans-Serif\" font-size=\"14.00\">gini = 0.4041</text>\r\n",
       "<text text-anchor=\"middle\" x=\"1398\" y=\"-1828.3\" font-family=\"Helvetica,sans-Serif\" font-size=\"14.00\">samples = 0.2%</text>\r\n",
       "<text text-anchor=\"middle\" x=\"1398\" y=\"-1813.3\" font-family=\"Helvetica,sans-Serif\" font-size=\"14.00\">value = [0.281, 0.719]</text>\r\n",
       "<text text-anchor=\"middle\" x=\"1398\" y=\"-1798.3\" font-family=\"Helvetica,sans-Serif\" font-size=\"14.00\">class = Alta</text>\r\n",
       "</g>\r\n",
       "<!-- 38&#45;&gt;42 -->\r\n",
       "<g id=\"edge42\" class=\"edge\"><title>38&#45;&gt;42</title>\r\n",
       "<path fill=\"none\" stroke=\"black\" d=\"M1215.07,-1865.63C1237.32,-1861.52 1261.48,-1857.05 1284.72,-1852.75\"/>\r\n",
       "<polygon fill=\"black\" stroke=\"black\" points=\"1285.41,-1856.19 1294.61,-1850.93 1284.14,-1849.3 1285.41,-1856.19\"/>\r\n",
       "</g>\r\n",
       "<!-- 40 -->\r\n",
       "<g id=\"node41\" class=\"node\"><title>40</title>\r\n",
       "<path fill=\"#eca572\" stroke=\"black\" d=\"M1711,-2046C1711,-2046 1565,-2046 1565,-2046 1559,-2046 1553,-2040 1553,-2034 1553,-2034 1553,-1990 1553,-1990 1553,-1984 1559,-1978 1565,-1978 1565,-1978 1711,-1978 1711,-1978 1717,-1978 1723,-1984 1723,-1990 1723,-1990 1723,-2034 1723,-2034 1723,-2040 1717,-2046 1711,-2046\"/>\r\n",
       "<text text-anchor=\"middle\" x=\"1638\" y=\"-2030.8\" font-family=\"Helvetica,sans-Serif\" font-size=\"14.00\">gini = 0.3458</text>\r\n",
       "<text text-anchor=\"middle\" x=\"1638\" y=\"-2015.8\" font-family=\"Helvetica,sans-Serif\" font-size=\"14.00\">samples = 0.0%</text>\r\n",
       "<text text-anchor=\"middle\" x=\"1638\" y=\"-2000.8\" font-family=\"Helvetica,sans-Serif\" font-size=\"14.00\">value = [0.7776, 0.2224]</text>\r\n",
       "<text text-anchor=\"middle\" x=\"1638\" y=\"-1985.8\" font-family=\"Helvetica,sans-Serif\" font-size=\"14.00\">class = No alta</text>\r\n",
       "</g>\r\n",
       "<!-- 39&#45;&gt;40 -->\r\n",
       "<g id=\"edge40\" class=\"edge\"><title>39&#45;&gt;40</title>\r\n",
       "<path fill=\"none\" stroke=\"black\" d=\"M1483.24,-1960.96C1502.67,-1967.41 1523.44,-1974.31 1543.24,-1980.88\"/>\r\n",
       "<polygon fill=\"black\" stroke=\"black\" points=\"1542.27,-1984.25 1552.87,-1984.07 1544.48,-1977.6 1542.27,-1984.25\"/>\r\n",
       "</g>\r\n",
       "<!-- 41 -->\r\n",
       "<g id=\"node42\" class=\"node\"><title>41</title>\r\n",
       "<path fill=\"#e78b48\" stroke=\"black\" d=\"M1711,-1960C1711,-1960 1565,-1960 1565,-1960 1559,-1960 1553,-1954 1553,-1948 1553,-1948 1553,-1904 1553,-1904 1553,-1898 1559,-1892 1565,-1892 1565,-1892 1711,-1892 1711,-1892 1717,-1892 1723,-1898 1723,-1904 1723,-1904 1723,-1948 1723,-1948 1723,-1954 1717,-1960 1711,-1960\"/>\r\n",
       "<text text-anchor=\"middle\" x=\"1638\" y=\"-1944.8\" font-family=\"Helvetica,sans-Serif\" font-size=\"14.00\">gini = 0.131</text>\r\n",
       "<text text-anchor=\"middle\" x=\"1638\" y=\"-1929.8\" font-family=\"Helvetica,sans-Serif\" font-size=\"14.00\">samples = 0.1%</text>\r\n",
       "<text text-anchor=\"middle\" x=\"1638\" y=\"-1914.8\" font-family=\"Helvetica,sans-Serif\" font-size=\"14.00\">value = [0.9295, 0.0705]</text>\r\n",
       "<text text-anchor=\"middle\" x=\"1638\" y=\"-1899.8\" font-family=\"Helvetica,sans-Serif\" font-size=\"14.00\">class = No alta</text>\r\n",
       "</g>\r\n",
       "<!-- 39&#45;&gt;41 -->\r\n",
       "<g id=\"edge41\" class=\"edge\"><title>39&#45;&gt;41</title>\r\n",
       "<path fill=\"none\" stroke=\"black\" d=\"M1483.24,-1930.52C1502.49,-1929.96 1523.06,-1929.35 1542.7,-1928.77\"/>\r\n",
       "<polygon fill=\"black\" stroke=\"black\" points=\"1542.98,-1932.27 1552.87,-1928.47 1542.77,-1925.27 1542.98,-1932.27\"/>\r\n",
       "</g>\r\n",
       "<!-- 43 -->\r\n",
       "<g id=\"node44\" class=\"node\"><title>43</title>\r\n",
       "<path fill=\"#78bced\" stroke=\"black\" d=\"M1711,-1874C1711,-1874 1565,-1874 1565,-1874 1559,-1874 1553,-1868 1553,-1862 1553,-1862 1553,-1818 1553,-1818 1553,-1812 1559,-1806 1565,-1806 1565,-1806 1711,-1806 1711,-1806 1717,-1806 1723,-1812 1723,-1818 1723,-1818 1723,-1862 1723,-1862 1723,-1868 1717,-1874 1711,-1874\"/>\r\n",
       "<text text-anchor=\"middle\" x=\"1638\" y=\"-1858.8\" font-family=\"Helvetica,sans-Serif\" font-size=\"14.00\">gini = 0.3656</text>\r\n",
       "<text text-anchor=\"middle\" x=\"1638\" y=\"-1843.8\" font-family=\"Helvetica,sans-Serif\" font-size=\"14.00\">samples = 0.1%</text>\r\n",
       "<text text-anchor=\"middle\" x=\"1638\" y=\"-1828.8\" font-family=\"Helvetica,sans-Serif\" font-size=\"14.00\">value = [0.2408, 0.7592]</text>\r\n",
       "<text text-anchor=\"middle\" x=\"1638\" y=\"-1813.8\" font-family=\"Helvetica,sans-Serif\" font-size=\"14.00\">class = Alta</text>\r\n",
       "</g>\r\n",
       "<!-- 42&#45;&gt;43 -->\r\n",
       "<g id=\"edge43\" class=\"edge\"><title>42&#45;&gt;43</title>\r\n",
       "<path fill=\"none\" stroke=\"black\" d=\"M1501.31,-1835.44C1514.97,-1835.9 1528.92,-1836.37 1542.44,-1836.82\"/>\r\n",
       "<polygon fill=\"black\" stroke=\"black\" points=\"1542.56,-1840.33 1552.67,-1837.17 1542.79,-1833.33 1542.56,-1840.33\"/>\r\n",
       "</g>\r\n",
       "<!-- 44 -->\r\n",
       "<g id=\"node45\" class=\"node\"><title>44</title>\r\n",
       "<path fill=\"#d5eaf9\" stroke=\"black\" d=\"M1711,-1788C1711,-1788 1565,-1788 1565,-1788 1559,-1788 1553,-1782 1553,-1776 1553,-1776 1553,-1732 1553,-1732 1553,-1726 1559,-1720 1565,-1720 1565,-1720 1711,-1720 1711,-1720 1717,-1720 1723,-1726 1723,-1732 1723,-1732 1723,-1776 1723,-1776 1723,-1782 1717,-1788 1711,-1788\"/>\r\n",
       "<text text-anchor=\"middle\" x=\"1638\" y=\"-1772.8\" font-family=\"Helvetica,sans-Serif\" font-size=\"14.00\">gini = 0.4929</text>\r\n",
       "<text text-anchor=\"middle\" x=\"1638\" y=\"-1757.8\" font-family=\"Helvetica,sans-Serif\" font-size=\"14.00\">samples = 0.0%</text>\r\n",
       "<text text-anchor=\"middle\" x=\"1638\" y=\"-1742.8\" font-family=\"Helvetica,sans-Serif\" font-size=\"14.00\">value = [0.4403, 0.5597]</text>\r\n",
       "<text text-anchor=\"middle\" x=\"1638\" y=\"-1727.8\" font-family=\"Helvetica,sans-Serif\" font-size=\"14.00\">class = Alta</text>\r\n",
       "</g>\r\n",
       "<!-- 42&#45;&gt;44 -->\r\n",
       "<g id=\"edge44\" class=\"edge\"><title>42&#45;&gt;44</title>\r\n",
       "<path fill=\"none\" stroke=\"black\" d=\"M1501.31,-1798.47C1515.1,-1793.95 1529.2,-1789.33 1542.83,-1784.86\"/>\r\n",
       "<polygon fill=\"black\" stroke=\"black\" points=\"1544.26,-1788.08 1552.67,-1781.64 1542.08,-1781.43 1544.26,-1788.08\"/>\r\n",
       "</g>\r\n",
       "<!-- 46 -->\r\n",
       "<g id=\"node47\" class=\"node\"><title>46</title>\r\n",
       "<path fill=\"#eda877\" stroke=\"black\" d=\"M1471,-1674.5C1471,-1674.5 1325,-1674.5 1325,-1674.5 1319,-1674.5 1313,-1668.5 1313,-1662.5 1313,-1662.5 1313,-1603.5 1313,-1603.5 1313,-1597.5 1319,-1591.5 1325,-1591.5 1325,-1591.5 1471,-1591.5 1471,-1591.5 1477,-1591.5 1483,-1597.5 1483,-1603.5 1483,-1603.5 1483,-1662.5 1483,-1662.5 1483,-1668.5 1477,-1674.5 1471,-1674.5\"/>\r\n",
       "<text text-anchor=\"middle\" x=\"1398\" y=\"-1659.3\" font-family=\"Helvetica,sans-Serif\" font-size=\"14.00\">hayAlta_2 &lt;= 0.5</text>\r\n",
       "<text text-anchor=\"middle\" x=\"1398\" y=\"-1644.3\" font-family=\"Helvetica,sans-Serif\" font-size=\"14.00\">gini = 0.3631</text>\r\n",
       "<text text-anchor=\"middle\" x=\"1398\" y=\"-1629.3\" font-family=\"Helvetica,sans-Serif\" font-size=\"14.00\">samples = 0.0%</text>\r\n",
       "<text text-anchor=\"middle\" x=\"1398\" y=\"-1614.3\" font-family=\"Helvetica,sans-Serif\" font-size=\"14.00\">value = [0.7616, 0.2384]</text>\r\n",
       "<text text-anchor=\"middle\" x=\"1398\" y=\"-1599.3\" font-family=\"Helvetica,sans-Serif\" font-size=\"14.00\">class = No alta</text>\r\n",
       "</g>\r\n",
       "<!-- 45&#45;&gt;46 -->\r\n",
       "<g id=\"edge46\" class=\"edge\"><title>45&#45;&gt;46</title>\r\n",
       "<path fill=\"none\" stroke=\"black\" d=\"M1243.18,-1633C1263.06,-1633 1283.48,-1633 1302.69,-1633\"/>\r\n",
       "<polygon fill=\"black\" stroke=\"black\" points=\"1302.92,-1636.5 1312.92,-1633 1302.92,-1629.5 1302.92,-1636.5\"/>\r\n",
       "</g>\r\n",
       "<!-- 49 -->\r\n",
       "<g id=\"node50\" class=\"node\"><title>49</title>\r\n",
       "<path fill=\"#e5813a\" stroke=\"black\" d=\"M1503.5,-1537.5C1503.5,-1537.5 1292.5,-1537.5 1292.5,-1537.5 1286.5,-1537.5 1280.5,-1531.5 1280.5,-1525.5 1280.5,-1525.5 1280.5,-1466.5 1280.5,-1466.5 1280.5,-1460.5 1286.5,-1454.5 1292.5,-1454.5 1292.5,-1454.5 1503.5,-1454.5 1503.5,-1454.5 1509.5,-1454.5 1515.5,-1460.5 1515.5,-1466.5 1515.5,-1466.5 1515.5,-1525.5 1515.5,-1525.5 1515.5,-1531.5 1509.5,-1537.5 1503.5,-1537.5\"/>\r\n",
       "<text text-anchor=\"middle\" x=\"1398\" y=\"-1522.3\" font-family=\"Helvetica,sans-Serif\" font-size=\"14.00\">dif_payroll_account_shift_3 &lt;= 0.5</text>\r\n",
       "<text text-anchor=\"middle\" x=\"1398\" y=\"-1507.3\" font-family=\"Helvetica,sans-Serif\" font-size=\"14.00\">gini = 0.0069</text>\r\n",
       "<text text-anchor=\"middle\" x=\"1398\" y=\"-1492.3\" font-family=\"Helvetica,sans-Serif\" font-size=\"14.00\">samples = 0.4%</text>\r\n",
       "<text text-anchor=\"middle\" x=\"1398\" y=\"-1477.3\" font-family=\"Helvetica,sans-Serif\" font-size=\"14.00\">value = [0.9966, 0.0034]</text>\r\n",
       "<text text-anchor=\"middle\" x=\"1398\" y=\"-1462.3\" font-family=\"Helvetica,sans-Serif\" font-size=\"14.00\">class = No alta</text>\r\n",
       "</g>\r\n",
       "<!-- 45&#45;&gt;49 -->\r\n",
       "<g id=\"edge49\" class=\"edge\"><title>45&#45;&gt;49</title>\r\n",
       "<path fill=\"none\" stroke=\"black\" d=\"M1208.76,-1591.34C1239.32,-1575.86 1274.16,-1558.21 1305.5,-1542.34\"/>\r\n",
       "<polygon fill=\"black\" stroke=\"black\" points=\"1307.32,-1545.34 1314.66,-1537.7 1304.16,-1539.1 1307.32,-1545.34\"/>\r\n",
       "</g>\r\n",
       "<!-- 47 -->\r\n",
       "<g id=\"node48\" class=\"node\"><title>47</title>\r\n",
       "<path fill=\"#f2bf9b\" stroke=\"black\" d=\"M1711,-1702C1711,-1702 1565,-1702 1565,-1702 1559,-1702 1553,-1696 1553,-1690 1553,-1690 1553,-1646 1553,-1646 1553,-1640 1559,-1634 1565,-1634 1565,-1634 1711,-1634 1711,-1634 1717,-1634 1723,-1640 1723,-1646 1723,-1646 1723,-1690 1723,-1690 1723,-1696 1717,-1702 1711,-1702\"/>\r\n",
       "<text text-anchor=\"middle\" x=\"1638\" y=\"-1686.8\" font-family=\"Helvetica,sans-Serif\" font-size=\"14.00\">gini = 0.4423</text>\r\n",
       "<text text-anchor=\"middle\" x=\"1638\" y=\"-1671.8\" font-family=\"Helvetica,sans-Serif\" font-size=\"14.00\">samples = 0.0%</text>\r\n",
       "<text text-anchor=\"middle\" x=\"1638\" y=\"-1656.8\" font-family=\"Helvetica,sans-Serif\" font-size=\"14.00\">value = [0.6699, 0.3301]</text>\r\n",
       "<text text-anchor=\"middle\" x=\"1638\" y=\"-1641.8\" font-family=\"Helvetica,sans-Serif\" font-size=\"14.00\">class = No alta</text>\r\n",
       "</g>\r\n",
       "<!-- 46&#45;&gt;47 -->\r\n",
       "<g id=\"edge47\" class=\"edge\"><title>46&#45;&gt;47</title>\r\n",
       "<path fill=\"none\" stroke=\"black\" d=\"M1483.24,-1645.39C1502.58,-1648.23 1523.25,-1651.27 1542.97,-1654.17\"/>\r\n",
       "<polygon fill=\"black\" stroke=\"black\" points=\"1542.47,-1657.64 1552.87,-1655.63 1543.48,-1650.71 1542.47,-1657.64\"/>\r\n",
       "</g>\r\n",
       "<!-- 48 -->\r\n",
       "<g id=\"node49\" class=\"node\"><title>48</title>\r\n",
       "<path fill=\"#e88f4f\" stroke=\"black\" d=\"M1711,-1616C1711,-1616 1565,-1616 1565,-1616 1559,-1616 1553,-1610 1553,-1604 1553,-1604 1553,-1560 1553,-1560 1553,-1554 1559,-1548 1565,-1548 1565,-1548 1711,-1548 1711,-1548 1717,-1548 1723,-1554 1723,-1560 1723,-1560 1723,-1604 1723,-1604 1723,-1610 1717,-1616 1711,-1616\"/>\r\n",
       "<text text-anchor=\"middle\" x=\"1638\" y=\"-1600.8\" font-family=\"Helvetica,sans-Serif\" font-size=\"14.00\">gini = 0.1823</text>\r\n",
       "<text text-anchor=\"middle\" x=\"1638\" y=\"-1585.8\" font-family=\"Helvetica,sans-Serif\" font-size=\"14.00\">samples = 0.0%</text>\r\n",
       "<text text-anchor=\"middle\" x=\"1638\" y=\"-1570.8\" font-family=\"Helvetica,sans-Serif\" font-size=\"14.00\">value = [0.8986, 0.1014]</text>\r\n",
       "<text text-anchor=\"middle\" x=\"1638\" y=\"-1555.8\" font-family=\"Helvetica,sans-Serif\" font-size=\"14.00\">class = No alta</text>\r\n",
       "</g>\r\n",
       "<!-- 46&#45;&gt;48 -->\r\n",
       "<g id=\"edge48\" class=\"edge\"><title>46&#45;&gt;48</title>\r\n",
       "<path fill=\"none\" stroke=\"black\" d=\"M1483.24,-1614.95C1502.58,-1610.8 1523.25,-1606.37 1542.97,-1602.15\"/>\r\n",
       "<polygon fill=\"black\" stroke=\"black\" points=\"1543.82,-1605.55 1552.87,-1600.03 1542.36,-1598.7 1543.82,-1605.55\"/>\r\n",
       "</g>\r\n",
       "<!-- 50 -->\r\n",
       "<g id=\"node51\" class=\"node\"><title>50</title>\r\n",
       "<path fill=\"#e5813a\" stroke=\"black\" d=\"M1711,-1530C1711,-1530 1565,-1530 1565,-1530 1559,-1530 1553,-1524 1553,-1518 1553,-1518 1553,-1474 1553,-1474 1553,-1468 1559,-1462 1565,-1462 1565,-1462 1711,-1462 1711,-1462 1717,-1462 1723,-1468 1723,-1474 1723,-1474 1723,-1518 1723,-1518 1723,-1524 1717,-1530 1711,-1530\"/>\r\n",
       "<text text-anchor=\"middle\" x=\"1638\" y=\"-1514.8\" font-family=\"Helvetica,sans-Serif\" font-size=\"14.00\">gini = 0.0067</text>\r\n",
       "<text text-anchor=\"middle\" x=\"1638\" y=\"-1499.8\" font-family=\"Helvetica,sans-Serif\" font-size=\"14.00\">samples = 0.4%</text>\r\n",
       "<text text-anchor=\"middle\" x=\"1638\" y=\"-1484.8\" font-family=\"Helvetica,sans-Serif\" font-size=\"14.00\">value = [0.9966, 0.0034]</text>\r\n",
       "<text text-anchor=\"middle\" x=\"1638\" y=\"-1469.8\" font-family=\"Helvetica,sans-Serif\" font-size=\"14.00\">class = No alta</text>\r\n",
       "</g>\r\n",
       "<!-- 49&#45;&gt;50 -->\r\n",
       "<g id=\"edge50\" class=\"edge\"><title>49&#45;&gt;50</title>\r\n",
       "<path fill=\"none\" stroke=\"black\" d=\"M1515.56,-1496C1524.72,-1496 1533.89,-1496 1542.87,-1496\"/>\r\n",
       "<polygon fill=\"black\" stroke=\"black\" points=\"1542.91,-1499.5 1552.91,-1496 1542.91,-1492.5 1542.91,-1499.5\"/>\r\n",
       "</g>\r\n",
       "<!-- 51 -->\r\n",
       "<g id=\"node52\" class=\"node\"><title>51</title>\r\n",
       "<path fill=\"#ea9a61\" stroke=\"black\" d=\"M1711,-1444C1711,-1444 1565,-1444 1565,-1444 1559,-1444 1553,-1438 1553,-1432 1553,-1432 1553,-1388 1553,-1388 1553,-1382 1559,-1376 1565,-1376 1565,-1376 1711,-1376 1711,-1376 1717,-1376 1723,-1382 1723,-1388 1723,-1388 1723,-1432 1723,-1432 1723,-1438 1717,-1444 1711,-1444\"/>\r\n",
       "<text text-anchor=\"middle\" x=\"1638\" y=\"-1428.8\" font-family=\"Helvetica,sans-Serif\" font-size=\"14.00\">gini = 0.2778</text>\r\n",
       "<text text-anchor=\"middle\" x=\"1638\" y=\"-1413.8\" font-family=\"Helvetica,sans-Serif\" font-size=\"14.00\">samples = 0.0%</text>\r\n",
       "<text text-anchor=\"middle\" x=\"1638\" y=\"-1398.8\" font-family=\"Helvetica,sans-Serif\" font-size=\"14.00\">value = [0.8333, 0.1667]</text>\r\n",
       "<text text-anchor=\"middle\" x=\"1638\" y=\"-1383.8\" font-family=\"Helvetica,sans-Serif\" font-size=\"14.00\">class = No alta</text>\r\n",
       "</g>\r\n",
       "<!-- 49&#45;&gt;51 -->\r\n",
       "<g id=\"edge51\" class=\"edge\"><title>49&#45;&gt;51</title>\r\n",
       "<path fill=\"none\" stroke=\"black\" d=\"M1514.17,-1454.39C1523.95,-1450.85 1533.78,-1447.3 1543.37,-1443.83\"/>\r\n",
       "<polygon fill=\"black\" stroke=\"black\" points=\"1544.66,-1447.09 1552.88,-1440.4 1542.28,-1440.5 1544.66,-1447.09\"/>\r\n",
       "</g>\r\n",
       "<!-- 53 -->\r\n",
       "<g id=\"node54\" class=\"node\"><title>53</title>\r\n",
       "<path fill=\"#e5823a\" stroke=\"black\" d=\"M948.5,-1063.5C948.5,-1063.5 735.5,-1063.5 735.5,-1063.5 729.5,-1063.5 723.5,-1057.5 723.5,-1051.5 723.5,-1051.5 723.5,-992.5 723.5,-992.5 723.5,-986.5 729.5,-980.5 735.5,-980.5 735.5,-980.5 948.5,-980.5 948.5,-980.5 954.5,-980.5 960.5,-986.5 960.5,-992.5 960.5,-992.5 960.5,-1051.5 960.5,-1051.5 960.5,-1057.5 954.5,-1063.5 948.5,-1063.5\"/>\r\n",
       "<text text-anchor=\"middle\" x=\"842\" y=\"-1048.3\" font-family=\"Helvetica,sans-Serif\" font-size=\"14.00\">diasDesdeUltimaBajaInt_1 &lt;= 29.0</text>\r\n",
       "<text text-anchor=\"middle\" x=\"842\" y=\"-1033.3\" font-family=\"Helvetica,sans-Serif\" font-size=\"14.00\">gini = 0.0106</text>\r\n",
       "<text text-anchor=\"middle\" x=\"842\" y=\"-1018.3\" font-family=\"Helvetica,sans-Serif\" font-size=\"14.00\">samples = 11.1%</text>\r\n",
       "<text text-anchor=\"middle\" x=\"842\" y=\"-1003.3\" font-family=\"Helvetica,sans-Serif\" font-size=\"14.00\">value = [0.9947, 0.0053]</text>\r\n",
       "<text text-anchor=\"middle\" x=\"842\" y=\"-988.3\" font-family=\"Helvetica,sans-Serif\" font-size=\"14.00\">class = No alta</text>\r\n",
       "</g>\r\n",
       "<!-- 52&#45;&gt;53 -->\r\n",
       "<g id=\"edge53\" class=\"edge\"><title>52&#45;&gt;53</title>\r\n",
       "<path fill=\"none\" stroke=\"black\" d=\"M653.2,-1022C672.153,-1022 692.684,-1022 712.977,-1022\"/>\r\n",
       "<polygon fill=\"black\" stroke=\"black\" points=\"713.234,-1025.5 723.234,-1022 713.234,-1018.5 713.234,-1025.5\"/>\r\n",
       "</g>\r\n",
       "<!-- 68 -->\r\n",
       "<g id=\"node69\" class=\"node\"><title>68</title>\r\n",
       "<path fill=\"#e58139\" stroke=\"black\" d=\"M933,-549.5C933,-549.5 751,-549.5 751,-549.5 745,-549.5 739,-543.5 739,-537.5 739,-537.5 739,-478.5 739,-478.5 739,-472.5 745,-466.5 751,-466.5 751,-466.5 933,-466.5 933,-466.5 939,-466.5 945,-472.5 945,-478.5 945,-478.5 945,-537.5 945,-537.5 945,-543.5 939,-549.5 933,-549.5\"/>\r\n",
       "<text text-anchor=\"middle\" x=\"842\" y=\"-534.3\" font-family=\"Helvetica,sans-Serif\" font-size=\"14.00\">dif_em_acount_shift_1 &lt;= 0.5</text>\r\n",
       "<text text-anchor=\"middle\" x=\"842\" y=\"-519.3\" font-family=\"Helvetica,sans-Serif\" font-size=\"14.00\">gini = 0.0013</text>\r\n",
       "<text text-anchor=\"middle\" x=\"842\" y=\"-504.3\" font-family=\"Helvetica,sans-Serif\" font-size=\"14.00\">samples = 75.6%</text>\r\n",
       "<text text-anchor=\"middle\" x=\"842\" y=\"-489.3\" font-family=\"Helvetica,sans-Serif\" font-size=\"14.00\">value = [0.9993, 0.0007]</text>\r\n",
       "<text text-anchor=\"middle\" x=\"842\" y=\"-474.3\" font-family=\"Helvetica,sans-Serif\" font-size=\"14.00\">class = No alta</text>\r\n",
       "</g>\r\n",
       "<!-- 52&#45;&gt;68 -->\r\n",
       "<g id=\"edge68\" class=\"edge\"><title>52&#45;&gt;68</title>\r\n",
       "<path fill=\"none\" stroke=\"black\" d=\"M591.029,-980.373C640.515,-886.857 760.358,-660.39 814.118,-558.798\"/>\r\n",
       "<polygon fill=\"black\" stroke=\"black\" points=\"817.372,-560.132 818.956,-549.657 811.185,-556.858 817.372,-560.132\"/>\r\n",
       "</g>\r\n",
       "<!-- 54 -->\r\n",
       "<g id=\"node55\" class=\"node\"><title>54</title>\r\n",
       "<path fill=\"#e5823b\" stroke=\"black\" d=\"M1198.5,-1142.5C1198.5,-1142.5 1052.5,-1142.5 1052.5,-1142.5 1046.5,-1142.5 1040.5,-1136.5 1040.5,-1130.5 1040.5,-1130.5 1040.5,-1071.5 1040.5,-1071.5 1040.5,-1065.5 1046.5,-1059.5 1052.5,-1059.5 1052.5,-1059.5 1198.5,-1059.5 1198.5,-1059.5 1204.5,-1059.5 1210.5,-1065.5 1210.5,-1071.5 1210.5,-1071.5 1210.5,-1130.5 1210.5,-1130.5 1210.5,-1136.5 1204.5,-1142.5 1198.5,-1142.5\"/>\r\n",
       "<text text-anchor=\"middle\" x=\"1125.5\" y=\"-1127.3\" font-family=\"Helvetica,sans-Serif\" font-size=\"14.00\">hayBaja_1 &lt;= 0.5</text>\r\n",
       "<text text-anchor=\"middle\" x=\"1125.5\" y=\"-1112.3\" font-family=\"Helvetica,sans-Serif\" font-size=\"14.00\">gini = 0.0215</text>\r\n",
       "<text text-anchor=\"middle\" x=\"1125.5\" y=\"-1097.3\" font-family=\"Helvetica,sans-Serif\" font-size=\"14.00\">samples = 3.7%</text>\r\n",
       "<text text-anchor=\"middle\" x=\"1125.5\" y=\"-1082.3\" font-family=\"Helvetica,sans-Serif\" font-size=\"14.00\">value = [0.9891, 0.0109]</text>\r\n",
       "<text text-anchor=\"middle\" x=\"1125.5\" y=\"-1067.3\" font-family=\"Helvetica,sans-Serif\" font-size=\"14.00\">class = No alta</text>\r\n",
       "</g>\r\n",
       "<!-- 53&#45;&gt;54 -->\r\n",
       "<g id=\"edge54\" class=\"edge\"><title>53&#45;&gt;54</title>\r\n",
       "<path fill=\"none\" stroke=\"black\" d=\"M960.75,-1055.05C983.98,-1061.56 1008.07,-1068.32 1030.39,-1074.59\"/>\r\n",
       "<polygon fill=\"black\" stroke=\"black\" points=\"1029.6,-1078 1040.18,-1077.34 1031.5,-1071.26 1029.6,-1078\"/>\r\n",
       "</g>\r\n",
       "<!-- 61 -->\r\n",
       "<g id=\"node62\" class=\"node\"><title>61</title>\r\n",
       "<path fill=\"#e5813a\" stroke=\"black\" d=\"M1221.5,-985.5C1221.5,-985.5 1029.5,-985.5 1029.5,-985.5 1023.5,-985.5 1017.5,-979.5 1017.5,-973.5 1017.5,-973.5 1017.5,-914.5 1017.5,-914.5 1017.5,-908.5 1023.5,-902.5 1029.5,-902.5 1029.5,-902.5 1221.5,-902.5 1221.5,-902.5 1227.5,-902.5 1233.5,-908.5 1233.5,-914.5 1233.5,-914.5 1233.5,-973.5 1233.5,-973.5 1233.5,-979.5 1227.5,-985.5 1221.5,-985.5\"/>\r\n",
       "<text text-anchor=\"middle\" x=\"1125.5\" y=\"-970.3\" font-family=\"Helvetica,sans-Serif\" font-size=\"14.00\">active_customer_shift_1 &lt;= 0.5</text>\r\n",
       "<text text-anchor=\"middle\" x=\"1125.5\" y=\"-955.3\" font-family=\"Helvetica,sans-Serif\" font-size=\"14.00\">gini = 0.0051</text>\r\n",
       "<text text-anchor=\"middle\" x=\"1125.5\" y=\"-940.3\" font-family=\"Helvetica,sans-Serif\" font-size=\"14.00\">samples = 7.4%</text>\r\n",
       "<text text-anchor=\"middle\" x=\"1125.5\" y=\"-925.3\" font-family=\"Helvetica,sans-Serif\" font-size=\"14.00\">value = [0.9974, 0.0026]</text>\r\n",
       "<text text-anchor=\"middle\" x=\"1125.5\" y=\"-910.3\" font-family=\"Helvetica,sans-Serif\" font-size=\"14.00\">class = No alta</text>\r\n",
       "</g>\r\n",
       "<!-- 53&#45;&gt;61 -->\r\n",
       "<g id=\"edge61\" class=\"edge\"><title>53&#45;&gt;61</title>\r\n",
       "<path fill=\"none\" stroke=\"black\" d=\"M960.75,-989.373C976.075,-985.127 991.774,-980.777 1007.09,-976.532\"/>\r\n",
       "<polygon fill=\"black\" stroke=\"black\" points=\"1008.4,-979.803 1017.1,-973.76 1006.53,-973.057 1008.4,-979.803\"/>\r\n",
       "</g>\r\n",
       "<!-- 55 -->\r\n",
       "<g id=\"node56\" class=\"node\"><title>55</title>\r\n",
       "<path fill=\"#e68743\" stroke=\"black\" d=\"M1494,-1279.5C1494,-1279.5 1302,-1279.5 1302,-1279.5 1296,-1279.5 1290,-1273.5 1290,-1267.5 1290,-1267.5 1290,-1208.5 1290,-1208.5 1290,-1202.5 1296,-1196.5 1302,-1196.5 1302,-1196.5 1494,-1196.5 1494,-1196.5 1500,-1196.5 1506,-1202.5 1506,-1208.5 1506,-1208.5 1506,-1267.5 1506,-1267.5 1506,-1273.5 1500,-1279.5 1494,-1279.5\"/>\r\n",
       "<text text-anchor=\"middle\" x=\"1398\" y=\"-1264.3\" font-family=\"Helvetica,sans-Serif\" font-size=\"14.00\">active_customer_shift_1 &lt;= 0.5</text>\r\n",
       "<text text-anchor=\"middle\" x=\"1398\" y=\"-1249.3\" font-family=\"Helvetica,sans-Serif\" font-size=\"14.00\">gini = 0.0885</text>\r\n",
       "<text text-anchor=\"middle\" x=\"1398\" y=\"-1234.3\" font-family=\"Helvetica,sans-Serif\" font-size=\"14.00\">samples = 0.4%</text>\r\n",
       "<text text-anchor=\"middle\" x=\"1398\" y=\"-1219.3\" font-family=\"Helvetica,sans-Serif\" font-size=\"14.00\">value = [0.9536, 0.0464]</text>\r\n",
       "<text text-anchor=\"middle\" x=\"1398\" y=\"-1204.3\" font-family=\"Helvetica,sans-Serif\" font-size=\"14.00\">class = No alta</text>\r\n",
       "</g>\r\n",
       "<!-- 54&#45;&gt;55 -->\r\n",
       "<g id=\"edge55\" class=\"edge\"><title>54&#45;&gt;55</title>\r\n",
       "<path fill=\"none\" stroke=\"black\" d=\"M1208.76,-1142.66C1239.32,-1158.14 1274.16,-1175.79 1305.5,-1191.66\"/>\r\n",
       "<polygon fill=\"black\" stroke=\"black\" points=\"1304.16,-1194.9 1314.66,-1196.3 1307.32,-1188.66 1304.16,-1194.9\"/>\r\n",
       "</g>\r\n",
       "<!-- 58 -->\r\n",
       "<g id=\"node59\" class=\"node\"><title>58</title>\r\n",
       "<path fill=\"#e5823a\" stroke=\"black\" d=\"M1479,-1142.5C1479,-1142.5 1317,-1142.5 1317,-1142.5 1311,-1142.5 1305,-1136.5 1305,-1130.5 1305,-1130.5 1305,-1071.5 1305,-1071.5 1305,-1065.5 1311,-1059.5 1317,-1059.5 1317,-1059.5 1479,-1059.5 1479,-1059.5 1485,-1059.5 1491,-1065.5 1491,-1071.5 1491,-1071.5 1491,-1130.5 1491,-1130.5 1491,-1136.5 1485,-1142.5 1479,-1142.5\"/>\r\n",
       "<text text-anchor=\"middle\" x=\"1398\" y=\"-1127.3\" font-family=\"Helvetica,sans-Serif\" font-size=\"14.00\">isNewClient_shift_1 &lt;= 0.5</text>\r\n",
       "<text text-anchor=\"middle\" x=\"1398\" y=\"-1112.3\" font-family=\"Helvetica,sans-Serif\" font-size=\"14.00\">gini = 0.0124</text>\r\n",
       "<text text-anchor=\"middle\" x=\"1398\" y=\"-1097.3\" font-family=\"Helvetica,sans-Serif\" font-size=\"14.00\">samples = 3.3%</text>\r\n",
       "<text text-anchor=\"middle\" x=\"1398\" y=\"-1082.3\" font-family=\"Helvetica,sans-Serif\" font-size=\"14.00\">value = [0.9937, 0.0063]</text>\r\n",
       "<text text-anchor=\"middle\" x=\"1398\" y=\"-1067.3\" font-family=\"Helvetica,sans-Serif\" font-size=\"14.00\">class = No alta</text>\r\n",
       "</g>\r\n",
       "<!-- 54&#45;&gt;58 -->\r\n",
       "<g id=\"edge58\" class=\"edge\"><title>54&#45;&gt;58</title>\r\n",
       "<path fill=\"none\" stroke=\"black\" d=\"M1210.61,-1101C1237.26,-1101 1267.03,-1101 1294.82,-1101\"/>\r\n",
       "<polygon fill=\"black\" stroke=\"black\" points=\"1294.95,-1104.5 1304.95,-1101 1294.95,-1097.5 1294.95,-1104.5\"/>\r\n",
       "</g>\r\n",
       "<!-- 56 -->\r\n",
       "<g id=\"node57\" class=\"node\"><title>56</title>\r\n",
       "<path fill=\"#e88d4d\" stroke=\"black\" d=\"M1694.5,-1358C1694.5,-1358 1581.5,-1358 1581.5,-1358 1575.5,-1358 1569.5,-1352 1569.5,-1346 1569.5,-1346 1569.5,-1302 1569.5,-1302 1569.5,-1296 1575.5,-1290 1581.5,-1290 1581.5,-1290 1694.5,-1290 1694.5,-1290 1700.5,-1290 1706.5,-1296 1706.5,-1302 1706.5,-1302 1706.5,-1346 1706.5,-1346 1706.5,-1352 1700.5,-1358 1694.5,-1358\"/>\r\n",
       "<text text-anchor=\"middle\" x=\"1638\" y=\"-1342.8\" font-family=\"Helvetica,sans-Serif\" font-size=\"14.00\">gini = 0.1638</text>\r\n",
       "<text text-anchor=\"middle\" x=\"1638\" y=\"-1327.8\" font-family=\"Helvetica,sans-Serif\" font-size=\"14.00\">samples = 0.1%</text>\r\n",
       "<text text-anchor=\"middle\" x=\"1638\" y=\"-1312.8\" font-family=\"Helvetica,sans-Serif\" font-size=\"14.00\">value = [0.91, 0.09]</text>\r\n",
       "<text text-anchor=\"middle\" x=\"1638\" y=\"-1297.8\" font-family=\"Helvetica,sans-Serif\" font-size=\"14.00\">class = No alta</text>\r\n",
       "</g>\r\n",
       "<!-- 55&#45;&gt;56 -->\r\n",
       "<g id=\"edge56\" class=\"edge\"><title>55&#45;&gt;56</title>\r\n",
       "<path fill=\"none\" stroke=\"black\" d=\"M1506.16,-1276.72C1524.11,-1283.21 1542.42,-1289.82 1559.44,-1295.97\"/>\r\n",
       "<polygon fill=\"black\" stroke=\"black\" points=\"1558.7,-1299.43 1569.29,-1299.53 1561.08,-1292.84 1558.7,-1299.43\"/>\r\n",
       "</g>\r\n",
       "<!-- 57 -->\r\n",
       "<g id=\"node58\" class=\"node\"><title>57</title>\r\n",
       "<path fill=\"#e6853f\" stroke=\"black\" d=\"M1711,-1272C1711,-1272 1565,-1272 1565,-1272 1559,-1272 1553,-1266 1553,-1260 1553,-1260 1553,-1216 1553,-1216 1553,-1210 1559,-1204 1565,-1204 1565,-1204 1711,-1204 1711,-1204 1717,-1204 1723,-1210 1723,-1216 1723,-1216 1723,-1260 1723,-1260 1723,-1266 1717,-1272 1711,-1272\"/>\r\n",
       "<text text-anchor=\"middle\" x=\"1638\" y=\"-1256.8\" font-family=\"Helvetica,sans-Serif\" font-size=\"14.00\">gini = 0.0605</text>\r\n",
       "<text text-anchor=\"middle\" x=\"1638\" y=\"-1241.8\" font-family=\"Helvetica,sans-Serif\" font-size=\"14.00\">samples = 0.3%</text>\r\n",
       "<text text-anchor=\"middle\" x=\"1638\" y=\"-1226.8\" font-family=\"Helvetica,sans-Serif\" font-size=\"14.00\">value = [0.9688, 0.0312]</text>\r\n",
       "<text text-anchor=\"middle\" x=\"1638\" y=\"-1211.8\" font-family=\"Helvetica,sans-Serif\" font-size=\"14.00\">class = No alta</text>\r\n",
       "</g>\r\n",
       "<!-- 55&#45;&gt;57 -->\r\n",
       "<g id=\"edge57\" class=\"edge\"><title>55&#45;&gt;57</title>\r\n",
       "<path fill=\"none\" stroke=\"black\" d=\"M1506.16,-1238C1518.41,-1238 1530.82,-1238 1542.87,-1238\"/>\r\n",
       "<polygon fill=\"black\" stroke=\"black\" points=\"1542.9,-1241.5 1552.9,-1238 1542.9,-1234.5 1542.9,-1241.5\"/>\r\n",
       "</g>\r\n",
       "<!-- 59 -->\r\n",
       "<g id=\"node60\" class=\"node\"><title>59</title>\r\n",
       "<path fill=\"#e5833c\" stroke=\"black\" d=\"M1711,-1186C1711,-1186 1565,-1186 1565,-1186 1559,-1186 1553,-1180 1553,-1174 1553,-1174 1553,-1130 1553,-1130 1553,-1124 1559,-1118 1565,-1118 1565,-1118 1711,-1118 1711,-1118 1717,-1118 1723,-1124 1723,-1130 1723,-1130 1723,-1174 1723,-1174 1723,-1180 1717,-1186 1711,-1186\"/>\r\n",
       "<text text-anchor=\"middle\" x=\"1638\" y=\"-1170.8\" font-family=\"Helvetica,sans-Serif\" font-size=\"14.00\">gini = 0.0271</text>\r\n",
       "<text text-anchor=\"middle\" x=\"1638\" y=\"-1155.8\" font-family=\"Helvetica,sans-Serif\" font-size=\"14.00\">samples = 0.7%</text>\r\n",
       "<text text-anchor=\"middle\" x=\"1638\" y=\"-1140.8\" font-family=\"Helvetica,sans-Serif\" font-size=\"14.00\">value = [0.9863, 0.0137]</text>\r\n",
       "<text text-anchor=\"middle\" x=\"1638\" y=\"-1125.8\" font-family=\"Helvetica,sans-Serif\" font-size=\"14.00\">class = No alta</text>\r\n",
       "</g>\r\n",
       "<!-- 58&#45;&gt;59 -->\r\n",
       "<g id=\"edge59\" class=\"edge\"><title>58&#45;&gt;59</title>\r\n",
       "<path fill=\"none\" stroke=\"black\" d=\"M1491.02,-1120.72C1507.97,-1124.35 1525.69,-1128.15 1542.7,-1131.79\"/>\r\n",
       "<polygon fill=\"black\" stroke=\"black\" points=\"1542.11,-1135.25 1552.63,-1133.92 1543.58,-1128.4 1542.11,-1135.25\"/>\r\n",
       "</g>\r\n",
       "<!-- 60 -->\r\n",
       "<g id=\"node61\" class=\"node\"><title>60</title>\r\n",
       "<path fill=\"#e5823a\" stroke=\"black\" d=\"M1711,-1100C1711,-1100 1565,-1100 1565,-1100 1559,-1100 1553,-1094 1553,-1088 1553,-1088 1553,-1044 1553,-1044 1553,-1038 1559,-1032 1565,-1032 1565,-1032 1711,-1032 1711,-1032 1717,-1032 1723,-1038 1723,-1044 1723,-1044 1723,-1088 1723,-1088 1723,-1094 1717,-1100 1711,-1100\"/>\r\n",
       "<text text-anchor=\"middle\" x=\"1638\" y=\"-1084.8\" font-family=\"Helvetica,sans-Serif\" font-size=\"14.00\">gini = 0.0084</text>\r\n",
       "<text text-anchor=\"middle\" x=\"1638\" y=\"-1069.8\" font-family=\"Helvetica,sans-Serif\" font-size=\"14.00\">samples = 2.6%</text>\r\n",
       "<text text-anchor=\"middle\" x=\"1638\" y=\"-1054.8\" font-family=\"Helvetica,sans-Serif\" font-size=\"14.00\">value = [0.9958, 0.0042]</text>\r\n",
       "<text text-anchor=\"middle\" x=\"1638\" y=\"-1039.8\" font-family=\"Helvetica,sans-Serif\" font-size=\"14.00\">class = No alta</text>\r\n",
       "</g>\r\n",
       "<!-- 58&#45;&gt;60 -->\r\n",
       "<g id=\"edge60\" class=\"edge\"><title>58&#45;&gt;60</title>\r\n",
       "<path fill=\"none\" stroke=\"black\" d=\"M1491.02,-1087.47C1507.97,-1084.98 1525.69,-1082.37 1542.7,-1079.87\"/>\r\n",
       "<polygon fill=\"black\" stroke=\"black\" points=\"1543.24,-1083.33 1552.63,-1078.41 1542.22,-1076.4 1543.24,-1083.33\"/>\r\n",
       "</g>\r\n",
       "<!-- 62 -->\r\n",
       "<g id=\"node63\" class=\"node\"><title>62</title>\r\n",
       "<path fill=\"#e58139\" stroke=\"black\" d=\"M1475.5,-985.5C1475.5,-985.5 1320.5,-985.5 1320.5,-985.5 1314.5,-985.5 1308.5,-979.5 1308.5,-973.5 1308.5,-973.5 1308.5,-914.5 1308.5,-914.5 1308.5,-908.5 1314.5,-902.5 1320.5,-902.5 1320.5,-902.5 1475.5,-902.5 1475.5,-902.5 1481.5,-902.5 1487.5,-908.5 1487.5,-914.5 1487.5,-914.5 1487.5,-973.5 1487.5,-973.5 1487.5,-979.5 1481.5,-985.5 1475.5,-985.5\"/>\r\n",
       "<text text-anchor=\"middle\" x=\"1398\" y=\"-970.3\" font-family=\"Helvetica,sans-Serif\" font-size=\"14.00\">debit_card_shift_1 &lt;= 0.5</text>\r\n",
       "<text text-anchor=\"middle\" x=\"1398\" y=\"-955.3\" font-family=\"Helvetica,sans-Serif\" font-size=\"14.00\">gini = 0.0023</text>\r\n",
       "<text text-anchor=\"middle\" x=\"1398\" y=\"-940.3\" font-family=\"Helvetica,sans-Serif\" font-size=\"14.00\">samples = 3.5%</text>\r\n",
       "<text text-anchor=\"middle\" x=\"1398\" y=\"-925.3\" font-family=\"Helvetica,sans-Serif\" font-size=\"14.00\">value = [0.9988, 0.0012]</text>\r\n",
       "<text text-anchor=\"middle\" x=\"1398\" y=\"-910.3\" font-family=\"Helvetica,sans-Serif\" font-size=\"14.00\">class = No alta</text>\r\n",
       "</g>\r\n",
       "<!-- 61&#45;&gt;62 -->\r\n",
       "<g id=\"edge62\" class=\"edge\"><title>61&#45;&gt;62</title>\r\n",
       "<path fill=\"none\" stroke=\"black\" d=\"M1233.8,-944C1254.97,-944 1277.09,-944 1297.97,-944\"/>\r\n",
       "<polygon fill=\"black\" stroke=\"black\" points=\"1298.11,-947.5 1308.11,-944 1298.11,-940.5 1298.11,-947.5\"/>\r\n",
       "</g>\r\n",
       "<!-- 65 -->\r\n",
       "<g id=\"node66\" class=\"node\"><title>65</title>\r\n",
       "<path fill=\"#e5813a\" stroke=\"black\" d=\"M1504.5,-849.5C1504.5,-849.5 1291.5,-849.5 1291.5,-849.5 1285.5,-849.5 1279.5,-843.5 1279.5,-837.5 1279.5,-837.5 1279.5,-778.5 1279.5,-778.5 1279.5,-772.5 1285.5,-766.5 1291.5,-766.5 1291.5,-766.5 1504.5,-766.5 1504.5,-766.5 1510.5,-766.5 1516.5,-772.5 1516.5,-778.5 1516.5,-778.5 1516.5,-837.5 1516.5,-837.5 1516.5,-843.5 1510.5,-849.5 1504.5,-849.5\"/>\r\n",
       "<text text-anchor=\"middle\" x=\"1398\" y=\"-834.3\" font-family=\"Helvetica,sans-Serif\" font-size=\"14.00\">diasDesdeUltimaBajaInt_1 &lt;= 60.0</text>\r\n",
       "<text text-anchor=\"middle\" x=\"1398\" y=\"-819.3\" font-family=\"Helvetica,sans-Serif\" font-size=\"14.00\">gini = 0.0076</text>\r\n",
       "<text text-anchor=\"middle\" x=\"1398\" y=\"-804.3\" font-family=\"Helvetica,sans-Serif\" font-size=\"14.00\">samples = 3.9%</text>\r\n",
       "<text text-anchor=\"middle\" x=\"1398\" y=\"-789.3\" font-family=\"Helvetica,sans-Serif\" font-size=\"14.00\">value = [0.9962, 0.0038]</text>\r\n",
       "<text text-anchor=\"middle\" x=\"1398\" y=\"-774.3\" font-family=\"Helvetica,sans-Serif\" font-size=\"14.00\">class = No alta</text>\r\n",
       "</g>\r\n",
       "<!-- 61&#45;&gt;65 -->\r\n",
       "<g id=\"edge65\" class=\"edge\"><title>61&#45;&gt;65</title>\r\n",
       "<path fill=\"none\" stroke=\"black\" d=\"M1209.13,-902.457C1239.53,-887.171 1274.14,-869.772 1305.29,-854.108\"/>\r\n",
       "<polygon fill=\"black\" stroke=\"black\" points=\"1307.05,-857.142 1314.41,-849.523 1303.9,-850.888 1307.05,-857.142\"/>\r\n",
       "</g>\r\n",
       "<!-- 63 -->\r\n",
       "<g id=\"node64\" class=\"node\"><title>63</title>\r\n",
       "<path fill=\"#e58139\" stroke=\"black\" d=\"M1711,-1014C1711,-1014 1565,-1014 1565,-1014 1559,-1014 1553,-1008 1553,-1002 1553,-1002 1553,-958 1553,-958 1553,-952 1559,-946 1565,-946 1565,-946 1711,-946 1711,-946 1717,-946 1723,-952 1723,-958 1723,-958 1723,-1002 1723,-1002 1723,-1008 1717,-1014 1711,-1014\"/>\r\n",
       "<text text-anchor=\"middle\" x=\"1638\" y=\"-998.8\" font-family=\"Helvetica,sans-Serif\" font-size=\"14.00\">gini = 0.0022</text>\r\n",
       "<text text-anchor=\"middle\" x=\"1638\" y=\"-983.8\" font-family=\"Helvetica,sans-Serif\" font-size=\"14.00\">samples = 3.5%</text>\r\n",
       "<text text-anchor=\"middle\" x=\"1638\" y=\"-968.8\" font-family=\"Helvetica,sans-Serif\" font-size=\"14.00\">value = [0.9989, 0.0011]</text>\r\n",
       "<text text-anchor=\"middle\" x=\"1638\" y=\"-953.8\" font-family=\"Helvetica,sans-Serif\" font-size=\"14.00\">class = No alta</text>\r\n",
       "</g>\r\n",
       "<!-- 62&#45;&gt;63 -->\r\n",
       "<g id=\"edge63\" class=\"edge\"><title>62&#45;&gt;63</title>\r\n",
       "<path fill=\"none\" stroke=\"black\" d=\"M1487.62,-957.405C1505.58,-960.121 1524.52,-962.986 1542.66,-965.73\"/>\r\n",
       "<polygon fill=\"black\" stroke=\"black\" points=\"1542.23,-969.205 1552.65,-967.24 1543.28,-962.284 1542.23,-969.205\"/>\r\n",
       "</g>\r\n",
       "<!-- 64 -->\r\n",
       "<g id=\"node65\" class=\"node\"><title>64</title>\r\n",
       "<path fill=\"#e99254\" stroke=\"black\" d=\"M1703,-928C1703,-928 1573,-928 1573,-928 1567,-928 1561,-922 1561,-916 1561,-916 1561,-872 1561,-872 1561,-866 1567,-860 1573,-860 1573,-860 1703,-860 1703,-860 1709,-860 1715,-866 1715,-872 1715,-872 1715,-916 1715,-916 1715,-922 1709,-928 1703,-928\"/>\r\n",
       "<text text-anchor=\"middle\" x=\"1638\" y=\"-912.8\" font-family=\"Helvetica,sans-Serif\" font-size=\"14.00\">gini = 0.2142</text>\r\n",
       "<text text-anchor=\"middle\" x=\"1638\" y=\"-897.8\" font-family=\"Helvetica,sans-Serif\" font-size=\"14.00\">samples = 0.0%</text>\r\n",
       "<text text-anchor=\"middle\" x=\"1638\" y=\"-882.8\" font-family=\"Helvetica,sans-Serif\" font-size=\"14.00\">value = [0.878, 0.122]</text>\r\n",
       "<text text-anchor=\"middle\" x=\"1638\" y=\"-867.8\" font-family=\"Helvetica,sans-Serif\" font-size=\"14.00\">class = No alta</text>\r\n",
       "</g>\r\n",
       "<!-- 62&#45;&gt;64 -->\r\n",
       "<g id=\"edge64\" class=\"edge\"><title>62&#45;&gt;64</title>\r\n",
       "<path fill=\"none\" stroke=\"black\" d=\"M1487.62,-925.382C1508.29,-921.039 1530.27,-916.421 1550.84,-912.101\"/>\r\n",
       "<polygon fill=\"black\" stroke=\"black\" points=\"1551.74,-915.489 1560.81,-910.007 1550.3,-908.638 1551.74,-915.489\"/>\r\n",
       "</g>\r\n",
       "<!-- 66 -->\r\n",
       "<g id=\"node67\" class=\"node\"><title>66</title>\r\n",
       "<path fill=\"#e5823a\" stroke=\"black\" d=\"M1711,-842C1711,-842 1565,-842 1565,-842 1559,-842 1553,-836 1553,-830 1553,-830 1553,-786 1553,-786 1553,-780 1559,-774 1565,-774 1565,-774 1711,-774 1711,-774 1717,-774 1723,-780 1723,-786 1723,-786 1723,-830 1723,-830 1723,-836 1717,-842 1711,-842\"/>\r\n",
       "<text text-anchor=\"middle\" x=\"1638\" y=\"-826.8\" font-family=\"Helvetica,sans-Serif\" font-size=\"14.00\">gini = 0.011</text>\r\n",
       "<text text-anchor=\"middle\" x=\"1638\" y=\"-811.8\" font-family=\"Helvetica,sans-Serif\" font-size=\"14.00\">samples = 1.6%</text>\r\n",
       "<text text-anchor=\"middle\" x=\"1638\" y=\"-796.8\" font-family=\"Helvetica,sans-Serif\" font-size=\"14.00\">value = [0.9945, 0.0055]</text>\r\n",
       "<text text-anchor=\"middle\" x=\"1638\" y=\"-781.8\" font-family=\"Helvetica,sans-Serif\" font-size=\"14.00\">class = No alta</text>\r\n",
       "</g>\r\n",
       "<!-- 65&#45;&gt;66 -->\r\n",
       "<g id=\"edge66\" class=\"edge\"><title>65&#45;&gt;66</title>\r\n",
       "<path fill=\"none\" stroke=\"black\" d=\"M1516.61,-808C1525.26,-808 1533.93,-808 1542.43,-808\"/>\r\n",
       "<polygon fill=\"black\" stroke=\"black\" points=\"1542.69,-811.5 1552.69,-808 1542.69,-804.5 1542.69,-811.5\"/>\r\n",
       "</g>\r\n",
       "<!-- 67 -->\r\n",
       "<g id=\"node68\" class=\"node\"><title>67</title>\r\n",
       "<path fill=\"#e5813a\" stroke=\"black\" d=\"M1711,-756C1711,-756 1565,-756 1565,-756 1559,-756 1553,-750 1553,-744 1553,-744 1553,-700 1553,-700 1553,-694 1559,-688 1565,-688 1565,-688 1711,-688 1711,-688 1717,-688 1723,-694 1723,-700 1723,-700 1723,-744 1723,-744 1723,-750 1717,-756 1711,-756\"/>\r\n",
       "<text text-anchor=\"middle\" x=\"1638\" y=\"-740.8\" font-family=\"Helvetica,sans-Serif\" font-size=\"14.00\">gini = 0.0052</text>\r\n",
       "<text text-anchor=\"middle\" x=\"1638\" y=\"-725.8\" font-family=\"Helvetica,sans-Serif\" font-size=\"14.00\">samples = 2.3%</text>\r\n",
       "<text text-anchor=\"middle\" x=\"1638\" y=\"-710.8\" font-family=\"Helvetica,sans-Serif\" font-size=\"14.00\">value = [0.9974, 0.0026]</text>\r\n",
       "<text text-anchor=\"middle\" x=\"1638\" y=\"-695.8\" font-family=\"Helvetica,sans-Serif\" font-size=\"14.00\">class = No alta</text>\r\n",
       "</g>\r\n",
       "<!-- 65&#45;&gt;67 -->\r\n",
       "<g id=\"edge67\" class=\"edge\"><title>65&#45;&gt;67</title>\r\n",
       "<path fill=\"none\" stroke=\"black\" d=\"M1514.17,-766.386C1523.95,-762.848 1533.78,-759.299 1543.37,-755.832\"/>\r\n",
       "<polygon fill=\"black\" stroke=\"black\" points=\"1544.66,-759.088 1552.88,-752.397 1542.28,-752.504 1544.66,-759.088\"/>\r\n",
       "</g>\r\n",
       "<!-- 69 -->\r\n",
       "<g id=\"node70\" class=\"node\"><title>69</title>\r\n",
       "<path fill=\"#e58139\" stroke=\"black\" d=\"M1216.5,-549.5C1216.5,-549.5 1034.5,-549.5 1034.5,-549.5 1028.5,-549.5 1022.5,-543.5 1022.5,-537.5 1022.5,-537.5 1022.5,-478.5 1022.5,-478.5 1022.5,-472.5 1028.5,-466.5 1034.5,-466.5 1034.5,-466.5 1216.5,-466.5 1216.5,-466.5 1222.5,-466.5 1228.5,-472.5 1228.5,-478.5 1228.5,-478.5 1228.5,-537.5 1228.5,-537.5 1228.5,-543.5 1222.5,-549.5 1216.5,-549.5\"/>\r\n",
       "<text text-anchor=\"middle\" x=\"1125.5\" y=\"-534.3\" font-family=\"Helvetica,sans-Serif\" font-size=\"14.00\">dif_em_acount_shift_2 &lt;= 0.5</text>\r\n",
       "<text text-anchor=\"middle\" x=\"1125.5\" y=\"-519.3\" font-family=\"Helvetica,sans-Serif\" font-size=\"14.00\">gini = 0.0012</text>\r\n",
       "<text text-anchor=\"middle\" x=\"1125.5\" y=\"-504.3\" font-family=\"Helvetica,sans-Serif\" font-size=\"14.00\">samples = 75.2%</text>\r\n",
       "<text text-anchor=\"middle\" x=\"1125.5\" y=\"-489.3\" font-family=\"Helvetica,sans-Serif\" font-size=\"14.00\">value = [0.9994, 0.0006]</text>\r\n",
       "<text text-anchor=\"middle\" x=\"1125.5\" y=\"-474.3\" font-family=\"Helvetica,sans-Serif\" font-size=\"14.00\">class = No alta</text>\r\n",
       "</g>\r\n",
       "<!-- 68&#45;&gt;69 -->\r\n",
       "<g id=\"edge69\" class=\"edge\"><title>68&#45;&gt;69</title>\r\n",
       "<path fill=\"none\" stroke=\"black\" d=\"M945.026,-508C966.858,-508 990.037,-508 1012.23,-508\"/>\r\n",
       "<polygon fill=\"black\" stroke=\"black\" points=\"1012.35,-511.5 1022.35,-508 1012.35,-504.5 1012.35,-511.5\"/>\r\n",
       "</g>\r\n",
       "<!-- 76 -->\r\n",
       "<g id=\"node77\" class=\"node\"><title>76</title>\r\n",
       "<path fill=\"#e5823b\" stroke=\"black\" d=\"M1204.5,-298.5C1204.5,-298.5 1046.5,-298.5 1046.5,-298.5 1040.5,-298.5 1034.5,-292.5 1034.5,-286.5 1034.5,-286.5 1034.5,-227.5 1034.5,-227.5 1034.5,-221.5 1040.5,-215.5 1046.5,-215.5 1046.5,-215.5 1204.5,-215.5 1204.5,-215.5 1210.5,-215.5 1216.5,-221.5 1216.5,-227.5 1216.5,-227.5 1216.5,-286.5 1216.5,-286.5 1216.5,-292.5 1210.5,-298.5 1204.5,-298.5\"/>\r\n",
       "<text text-anchor=\"middle\" x=\"1125.5\" y=\"-283.3\" font-family=\"Helvetica,sans-Serif\" font-size=\"14.00\">em_acount_shift_2 &lt;= 0.5</text>\r\n",
       "<text text-anchor=\"middle\" x=\"1125.5\" y=\"-268.3\" font-family=\"Helvetica,sans-Serif\" font-size=\"14.00\">gini = 0.0199</text>\r\n",
       "<text text-anchor=\"middle\" x=\"1125.5\" y=\"-253.3\" font-family=\"Helvetica,sans-Serif\" font-size=\"14.00\">samples = 0.4%</text>\r\n",
       "<text text-anchor=\"middle\" x=\"1125.5\" y=\"-238.3\" font-family=\"Helvetica,sans-Serif\" font-size=\"14.00\">value = [0.99, 0.01]</text>\r\n",
       "<text text-anchor=\"middle\" x=\"1125.5\" y=\"-223.3\" font-family=\"Helvetica,sans-Serif\" font-size=\"14.00\">class = No alta</text>\r\n",
       "</g>\r\n",
       "<!-- 68&#45;&gt;76 -->\r\n",
       "<g id=\"edge76\" class=\"edge\"><title>68&#45;&gt;76</title>\r\n",
       "<path fill=\"none\" stroke=\"black\" d=\"M889.8,-466.271C939.421,-422.026 1017.71,-352.218 1070.06,-305.542\"/>\r\n",
       "<polygon fill=\"black\" stroke=\"black\" points=\"1072.45,-308.097 1077.59,-298.829 1067.79,-302.872 1072.45,-308.097\"/>\r\n",
       "</g>\r\n",
       "<!-- 70 -->\r\n",
       "<g id=\"node71\" class=\"node\"><title>70</title>\r\n",
       "<path fill=\"#e58139\" stroke=\"black\" d=\"M1494,-599.5C1494,-599.5 1302,-599.5 1302,-599.5 1296,-599.5 1290,-593.5 1290,-587.5 1290,-587.5 1290,-528.5 1290,-528.5 1290,-522.5 1296,-516.5 1302,-516.5 1302,-516.5 1494,-516.5 1494,-516.5 1500,-516.5 1506,-522.5 1506,-528.5 1506,-528.5 1506,-587.5 1506,-587.5 1506,-593.5 1500,-599.5 1494,-599.5\"/>\r\n",
       "<text text-anchor=\"middle\" x=\"1398\" y=\"-584.3\" font-family=\"Helvetica,sans-Serif\" font-size=\"14.00\">active_customer_shift_1 &lt;= 0.5</text>\r\n",
       "<text text-anchor=\"middle\" x=\"1398\" y=\"-569.3\" font-family=\"Helvetica,sans-Serif\" font-size=\"14.00\">gini = 0.0011</text>\r\n",
       "<text text-anchor=\"middle\" x=\"1398\" y=\"-554.3\" font-family=\"Helvetica,sans-Serif\" font-size=\"14.00\">samples = 74.9%</text>\r\n",
       "<text text-anchor=\"middle\" x=\"1398\" y=\"-539.3\" font-family=\"Helvetica,sans-Serif\" font-size=\"14.00\">value = [0.9994, 0.0006]</text>\r\n",
       "<text text-anchor=\"middle\" x=\"1398\" y=\"-524.3\" font-family=\"Helvetica,sans-Serif\" font-size=\"14.00\">class = No alta</text>\r\n",
       "</g>\r\n",
       "<!-- 69&#45;&gt;70 -->\r\n",
       "<g id=\"edge70\" class=\"edge\"><title>69&#45;&gt;70</title>\r\n",
       "<path fill=\"none\" stroke=\"black\" d=\"M1228.76,-526.903C1245.4,-529.977 1262.74,-533.183 1279.7,-536.318\"/>\r\n",
       "<polygon fill=\"black\" stroke=\"black\" points=\"1279.16,-539.778 1289.63,-538.154 1280.44,-532.895 1279.16,-539.778\"/>\r\n",
       "</g>\r\n",
       "<!-- 73 -->\r\n",
       "<g id=\"node74\" class=\"node\"><title>73</title>\r\n",
       "<path fill=\"#e5823a\" stroke=\"black\" d=\"M1477,-498.5C1477,-498.5 1319,-498.5 1319,-498.5 1313,-498.5 1307,-492.5 1307,-486.5 1307,-486.5 1307,-427.5 1307,-427.5 1307,-421.5 1313,-415.5 1319,-415.5 1319,-415.5 1477,-415.5 1477,-415.5 1483,-415.5 1489,-421.5 1489,-427.5 1489,-427.5 1489,-486.5 1489,-486.5 1489,-492.5 1483,-498.5 1477,-498.5\"/>\r\n",
       "<text text-anchor=\"middle\" x=\"1398\" y=\"-483.3\" font-family=\"Helvetica,sans-Serif\" font-size=\"14.00\">em_acount_shift_3 &lt;= 0.5</text>\r\n",
       "<text text-anchor=\"middle\" x=\"1398\" y=\"-468.3\" font-family=\"Helvetica,sans-Serif\" font-size=\"14.00\">gini = 0.0147</text>\r\n",
       "<text text-anchor=\"middle\" x=\"1398\" y=\"-453.3\" font-family=\"Helvetica,sans-Serif\" font-size=\"14.00\">samples = 0.4%</text>\r\n",
       "<text text-anchor=\"middle\" x=\"1398\" y=\"-438.3\" font-family=\"Helvetica,sans-Serif\" font-size=\"14.00\">value = [0.9926, 0.0074]</text>\r\n",
       "<text text-anchor=\"middle\" x=\"1398\" y=\"-423.3\" font-family=\"Helvetica,sans-Serif\" font-size=\"14.00\">class = No alta</text>\r\n",
       "</g>\r\n",
       "<!-- 69&#45;&gt;73 -->\r\n",
       "<g id=\"edge73\" class=\"edge\"><title>69&#45;&gt;73</title>\r\n",
       "<path fill=\"none\" stroke=\"black\" d=\"M1228.76,-488.719C1250.95,-484.536 1274.4,-480.116 1296.51,-475.946\"/>\r\n",
       "<polygon fill=\"black\" stroke=\"black\" points=\"1297.39,-479.342 1306.57,-474.049 1296.1,-472.463 1297.39,-479.342\"/>\r\n",
       "</g>\r\n",
       "<!-- 71 -->\r\n",
       "<g id=\"node72\" class=\"node\"><title>71</title>\r\n",
       "<path fill=\"#e58139\" stroke=\"black\" d=\"M1711,-670C1711,-670 1565,-670 1565,-670 1559,-670 1553,-664 1553,-658 1553,-658 1553,-614 1553,-614 1553,-608 1559,-602 1565,-602 1565,-602 1711,-602 1711,-602 1717,-602 1723,-608 1723,-614 1723,-614 1723,-658 1723,-658 1723,-664 1717,-670 1711,-670\"/>\r\n",
       "<text text-anchor=\"middle\" x=\"1638\" y=\"-654.8\" font-family=\"Helvetica,sans-Serif\" font-size=\"14.00\">gini = 0.0005</text>\r\n",
       "<text text-anchor=\"middle\" x=\"1638\" y=\"-639.8\" font-family=\"Helvetica,sans-Serif\" font-size=\"14.00\">samples = 43.5%</text>\r\n",
       "<text text-anchor=\"middle\" x=\"1638\" y=\"-624.8\" font-family=\"Helvetica,sans-Serif\" font-size=\"14.00\">value = [0.9998, 0.0002]</text>\r\n",
       "<text text-anchor=\"middle\" x=\"1638\" y=\"-609.8\" font-family=\"Helvetica,sans-Serif\" font-size=\"14.00\">class = No alta</text>\r\n",
       "</g>\r\n",
       "<!-- 70&#45;&gt;71 -->\r\n",
       "<g id=\"edge71\" class=\"edge\"><title>70&#45;&gt;71</title>\r\n",
       "<path fill=\"none\" stroke=\"black\" d=\"M1506.16,-593.121C1518.53,-597.173 1531.06,-601.282 1543.23,-605.269\"/>\r\n",
       "<polygon fill=\"black\" stroke=\"black\" points=\"1542.31,-608.65 1552.9,-608.438 1544.49,-601.998 1542.31,-608.65\"/>\r\n",
       "</g>\r\n",
       "<!-- 72 -->\r\n",
       "<g id=\"node73\" class=\"node\"><title>72</title>\r\n",
       "<path fill=\"#e58139\" stroke=\"black\" d=\"M1711,-584C1711,-584 1565,-584 1565,-584 1559,-584 1553,-578 1553,-572 1553,-572 1553,-528 1553,-528 1553,-522 1559,-516 1565,-516 1565,-516 1711,-516 1711,-516 1717,-516 1723,-522 1723,-528 1723,-528 1723,-572 1723,-572 1723,-578 1717,-584 1711,-584\"/>\r\n",
       "<text text-anchor=\"middle\" x=\"1638\" y=\"-568.8\" font-family=\"Helvetica,sans-Serif\" font-size=\"14.00\">gini = 0.0021</text>\r\n",
       "<text text-anchor=\"middle\" x=\"1638\" y=\"-553.8\" font-family=\"Helvetica,sans-Serif\" font-size=\"14.00\">samples = 31.4%</text>\r\n",
       "<text text-anchor=\"middle\" x=\"1638\" y=\"-538.8\" font-family=\"Helvetica,sans-Serif\" font-size=\"14.00\">value = [0.9989, 0.0011]</text>\r\n",
       "<text text-anchor=\"middle\" x=\"1638\" y=\"-523.8\" font-family=\"Helvetica,sans-Serif\" font-size=\"14.00\">class = No alta</text>\r\n",
       "</g>\r\n",
       "<!-- 70&#45;&gt;72 -->\r\n",
       "<g id=\"edge72\" class=\"edge\"><title>70&#45;&gt;72</title>\r\n",
       "<path fill=\"none\" stroke=\"black\" d=\"M1506.16,-554.398C1518.41,-553.986 1530.82,-553.569 1542.87,-553.164\"/>\r\n",
       "<polygon fill=\"black\" stroke=\"black\" points=\"1543.02,-556.661 1552.9,-552.827 1542.79,-549.665 1543.02,-556.661\"/>\r\n",
       "</g>\r\n",
       "<!-- 74 -->\r\n",
       "<g id=\"node75\" class=\"node\"><title>74</title>\r\n",
       "<path fill=\"#e5813a\" stroke=\"black\" d=\"M1711,-498C1711,-498 1565,-498 1565,-498 1559,-498 1553,-492 1553,-486 1553,-486 1553,-442 1553,-442 1553,-436 1559,-430 1565,-430 1565,-430 1711,-430 1711,-430 1717,-430 1723,-436 1723,-442 1723,-442 1723,-486 1723,-486 1723,-492 1717,-498 1711,-498\"/>\r\n",
       "<text text-anchor=\"middle\" x=\"1638\" y=\"-482.8\" font-family=\"Helvetica,sans-Serif\" font-size=\"14.00\">gini = 0.0051</text>\r\n",
       "<text text-anchor=\"middle\" x=\"1638\" y=\"-467.8\" font-family=\"Helvetica,sans-Serif\" font-size=\"14.00\">samples = 0.3%</text>\r\n",
       "<text text-anchor=\"middle\" x=\"1638\" y=\"-452.8\" font-family=\"Helvetica,sans-Serif\" font-size=\"14.00\">value = [0.9975, 0.0025]</text>\r\n",
       "<text text-anchor=\"middle\" x=\"1638\" y=\"-437.8\" font-family=\"Helvetica,sans-Serif\" font-size=\"14.00\">class = No alta</text>\r\n",
       "</g>\r\n",
       "<!-- 73&#45;&gt;74 -->\r\n",
       "<g id=\"edge74\" class=\"edge\"><title>73&#45;&gt;74</title>\r\n",
       "<path fill=\"none\" stroke=\"black\" d=\"M1489.32,-459.656C1506.69,-460.167 1524.92,-460.704 1542.42,-461.218\"/>\r\n",
       "<polygon fill=\"black\" stroke=\"black\" points=\"1542.53,-464.723 1552.63,-461.518 1542.73,-457.726 1542.53,-464.723\"/>\r\n",
       "</g>\r\n",
       "<!-- 75 -->\r\n",
       "<g id=\"node76\" class=\"node\"><title>75</title>\r\n",
       "<path fill=\"#e68642\" stroke=\"black\" d=\"M1711,-412C1711,-412 1565,-412 1565,-412 1559,-412 1553,-406 1553,-400 1553,-400 1553,-356 1553,-356 1553,-350 1559,-344 1565,-344 1565,-344 1711,-344 1711,-344 1717,-344 1723,-350 1723,-356 1723,-356 1723,-400 1723,-400 1723,-406 1717,-412 1711,-412\"/>\r\n",
       "<text text-anchor=\"middle\" x=\"1638\" y=\"-396.8\" font-family=\"Helvetica,sans-Serif\" font-size=\"14.00\">gini = 0.0797</text>\r\n",
       "<text text-anchor=\"middle\" x=\"1638\" y=\"-381.8\" font-family=\"Helvetica,sans-Serif\" font-size=\"14.00\">samples = 0.0%</text>\r\n",
       "<text text-anchor=\"middle\" x=\"1638\" y=\"-366.8\" font-family=\"Helvetica,sans-Serif\" font-size=\"14.00\">value = [0.9584, 0.0416]</text>\r\n",
       "<text text-anchor=\"middle\" x=\"1638\" y=\"-351.8\" font-family=\"Helvetica,sans-Serif\" font-size=\"14.00\">class = No alta</text>\r\n",
       "</g>\r\n",
       "<!-- 73&#45;&gt;75 -->\r\n",
       "<g id=\"edge75\" class=\"edge\"><title>73&#45;&gt;75</title>\r\n",
       "<path fill=\"none\" stroke=\"black\" d=\"M1489.32,-427.021C1506.85,-421.202 1525.26,-415.09 1542.91,-409.232\"/>\r\n",
       "<polygon fill=\"black\" stroke=\"black\" points=\"1544.24,-412.479 1552.63,-406.007 1542.03,-405.835 1544.24,-412.479\"/>\r\n",
       "</g>\r\n",
       "<!-- 77 -->\r\n",
       "<g id=\"node78\" class=\"node\"><title>77</title>\r\n",
       "<path fill=\"#e5813a\" stroke=\"black\" d=\"M1489,-298.5C1489,-298.5 1307,-298.5 1307,-298.5 1301,-298.5 1295,-292.5 1295,-286.5 1295,-286.5 1295,-227.5 1295,-227.5 1295,-221.5 1301,-215.5 1307,-215.5 1307,-215.5 1489,-215.5 1489,-215.5 1495,-215.5 1501,-221.5 1501,-227.5 1501,-227.5 1501,-286.5 1501,-286.5 1501,-292.5 1495,-298.5 1489,-298.5\"/>\r\n",
       "<text text-anchor=\"middle\" x=\"1398\" y=\"-283.3\" font-family=\"Helvetica,sans-Serif\" font-size=\"14.00\">dif_em_acount_shift_5 &lt;= 0.5</text>\r\n",
       "<text text-anchor=\"middle\" x=\"1398\" y=\"-268.3\" font-family=\"Helvetica,sans-Serif\" font-size=\"14.00\">gini = 0.0071</text>\r\n",
       "<text text-anchor=\"middle\" x=\"1398\" y=\"-253.3\" font-family=\"Helvetica,sans-Serif\" font-size=\"14.00\">samples = 0.4%</text>\r\n",
       "<text text-anchor=\"middle\" x=\"1398\" y=\"-238.3\" font-family=\"Helvetica,sans-Serif\" font-size=\"14.00\">value = [0.9964, 0.0036]</text>\r\n",
       "<text text-anchor=\"middle\" x=\"1398\" y=\"-223.3\" font-family=\"Helvetica,sans-Serif\" font-size=\"14.00\">class = No alta</text>\r\n",
       "</g>\r\n",
       "<!-- 76&#45;&gt;77 -->\r\n",
       "<g id=\"edge77\" class=\"edge\"><title>76&#45;&gt;77</title>\r\n",
       "<path fill=\"none\" stroke=\"black\" d=\"M1216.57,-257C1238.39,-257 1261.99,-257 1284.7,-257\"/>\r\n",
       "<polygon fill=\"black\" stroke=\"black\" points=\"1284.71,-260.5 1294.71,-257 1284.71,-253.5 1284.71,-260.5\"/>\r\n",
       "</g>\r\n",
       "<!-- 80 -->\r\n",
       "<g id=\"node81\" class=\"node\"><title>80</title>\r\n",
       "<path fill=\"#e78945\" stroke=\"black\" d=\"M1481.5,-161.5C1481.5,-161.5 1314.5,-161.5 1314.5,-161.5 1308.5,-161.5 1302.5,-155.5 1302.5,-149.5 1302.5,-149.5 1302.5,-90.5 1302.5,-90.5 1302.5,-84.5 1308.5,-78.5 1314.5,-78.5 1314.5,-78.5 1481.5,-78.5 1481.5,-78.5 1487.5,-78.5 1493.5,-84.5 1493.5,-90.5 1493.5,-90.5 1493.5,-149.5 1493.5,-149.5 1493.5,-155.5 1487.5,-161.5 1481.5,-161.5\"/>\r\n",
       "<text text-anchor=\"middle\" x=\"1398\" y=\"-146.3\" font-family=\"Helvetica,sans-Serif\" font-size=\"14.00\">totalCuentas_shift_5 &lt;= 2.5</text>\r\n",
       "<text text-anchor=\"middle\" x=\"1398\" y=\"-131.3\" font-family=\"Helvetica,sans-Serif\" font-size=\"14.00\">gini = 0.1103</text>\r\n",
       "<text text-anchor=\"middle\" x=\"1398\" y=\"-116.3\" font-family=\"Helvetica,sans-Serif\" font-size=\"14.00\">samples = 0.0%</text>\r\n",
       "<text text-anchor=\"middle\" x=\"1398\" y=\"-101.3\" font-family=\"Helvetica,sans-Serif\" font-size=\"14.00\">value = [0.9414, 0.0586]</text>\r\n",
       "<text text-anchor=\"middle\" x=\"1398\" y=\"-86.3\" font-family=\"Helvetica,sans-Serif\" font-size=\"14.00\">class = No alta</text>\r\n",
       "</g>\r\n",
       "<!-- 76&#45;&gt;80 -->\r\n",
       "<g id=\"edge80\" class=\"edge\"><title>76&#45;&gt;80</title>\r\n",
       "<path fill=\"none\" stroke=\"black\" d=\"M1208.76,-215.337C1239.32,-199.861 1274.16,-182.214 1305.5,-166.344\"/>\r\n",
       "<polygon fill=\"black\" stroke=\"black\" points=\"1307.32,-169.341 1314.66,-161.7 1304.16,-163.096 1307.32,-169.341\"/>\r\n",
       "</g>\r\n",
       "<!-- 78 -->\r\n",
       "<g id=\"node79\" class=\"node\"><title>78</title>\r\n",
       "<path fill=\"#e5813a\" stroke=\"black\" d=\"M1711,-326C1711,-326 1565,-326 1565,-326 1559,-326 1553,-320 1553,-314 1553,-314 1553,-270 1553,-270 1553,-264 1559,-258 1565,-258 1565,-258 1711,-258 1711,-258 1717,-258 1723,-264 1723,-270 1723,-270 1723,-314 1723,-314 1723,-320 1717,-326 1711,-326\"/>\r\n",
       "<text text-anchor=\"middle\" x=\"1638\" y=\"-310.8\" font-family=\"Helvetica,sans-Serif\" font-size=\"14.00\">gini = 0.0057</text>\r\n",
       "<text text-anchor=\"middle\" x=\"1638\" y=\"-295.8\" font-family=\"Helvetica,sans-Serif\" font-size=\"14.00\">samples = 0.3%</text>\r\n",
       "<text text-anchor=\"middle\" x=\"1638\" y=\"-280.8\" font-family=\"Helvetica,sans-Serif\" font-size=\"14.00\">value = [0.9971, 0.0029]</text>\r\n",
       "<text text-anchor=\"middle\" x=\"1638\" y=\"-265.8\" font-family=\"Helvetica,sans-Serif\" font-size=\"14.00\">class = No alta</text>\r\n",
       "</g>\r\n",
       "<!-- 77&#45;&gt;78 -->\r\n",
       "<g id=\"edge78\" class=\"edge\"><title>77&#45;&gt;78</title>\r\n",
       "<path fill=\"none\" stroke=\"black\" d=\"M1501.31,-272.046C1514.97,-274.054 1528.92,-276.106 1542.44,-278.093\"/>\r\n",
       "<polygon fill=\"black\" stroke=\"black\" points=\"1542.27,-281.606 1552.67,-279.599 1543.29,-274.681 1542.27,-281.606\"/>\r\n",
       "</g>\r\n",
       "<!-- 79 -->\r\n",
       "<g id=\"node80\" class=\"node\"><title>79</title>\r\n",
       "<path fill=\"#e5833c\" stroke=\"black\" d=\"M1711,-240C1711,-240 1565,-240 1565,-240 1559,-240 1553,-234 1553,-228 1553,-228 1553,-184 1553,-184 1553,-178 1559,-172 1565,-172 1565,-172 1711,-172 1711,-172 1717,-172 1723,-178 1723,-184 1723,-184 1723,-228 1723,-228 1723,-234 1717,-240 1711,-240\"/>\r\n",
       "<text text-anchor=\"middle\" x=\"1638\" y=\"-224.8\" font-family=\"Helvetica,sans-Serif\" font-size=\"14.00\">gini = 0.0261</text>\r\n",
       "<text text-anchor=\"middle\" x=\"1638\" y=\"-209.8\" font-family=\"Helvetica,sans-Serif\" font-size=\"14.00\">samples = 0.0%</text>\r\n",
       "<text text-anchor=\"middle\" x=\"1638\" y=\"-194.8\" font-family=\"Helvetica,sans-Serif\" font-size=\"14.00\">value = [0.9868, 0.0132]</text>\r\n",
       "<text text-anchor=\"middle\" x=\"1638\" y=\"-179.8\" font-family=\"Helvetica,sans-Serif\" font-size=\"14.00\">class = No alta</text>\r\n",
       "</g>\r\n",
       "<!-- 77&#45;&gt;79 -->\r\n",
       "<g id=\"edge79\" class=\"edge\"><title>77&#45;&gt;79</title>\r\n",
       "<path fill=\"none\" stroke=\"black\" d=\"M1501.31,-235.075C1515.1,-232.121 1529.2,-229.101 1542.83,-226.179\"/>\r\n",
       "<polygon fill=\"black\" stroke=\"black\" points=\"1543.63,-229.588 1552.67,-224.07 1542.16,-222.743 1543.63,-229.588\"/>\r\n",
       "</g>\r\n",
       "<!-- 81 -->\r\n",
       "<g id=\"node82\" class=\"node\"><title>81</title>\r\n",
       "<path fill=\"#e78945\" stroke=\"black\" d=\"M1711,-154C1711,-154 1565,-154 1565,-154 1559,-154 1553,-148 1553,-142 1553,-142 1553,-98 1553,-98 1553,-92 1559,-86 1565,-86 1565,-86 1711,-86 1711,-86 1717,-86 1723,-92 1723,-98 1723,-98 1723,-142 1723,-142 1723,-148 1717,-154 1711,-154\"/>\r\n",
       "<text text-anchor=\"middle\" x=\"1638\" y=\"-138.8\" font-family=\"Helvetica,sans-Serif\" font-size=\"14.00\">gini = 0.1092</text>\r\n",
       "<text text-anchor=\"middle\" x=\"1638\" y=\"-123.8\" font-family=\"Helvetica,sans-Serif\" font-size=\"14.00\">samples = 0.0%</text>\r\n",
       "<text text-anchor=\"middle\" x=\"1638\" y=\"-108.8\" font-family=\"Helvetica,sans-Serif\" font-size=\"14.00\">value = [0.9421, 0.0579]</text>\r\n",
       "<text text-anchor=\"middle\" x=\"1638\" y=\"-93.8\" font-family=\"Helvetica,sans-Serif\" font-size=\"14.00\">class = No alta</text>\r\n",
       "</g>\r\n",
       "<!-- 80&#45;&gt;81 -->\r\n",
       "<g id=\"edge81\" class=\"edge\"><title>80&#45;&gt;81</title>\r\n",
       "<path fill=\"none\" stroke=\"black\" d=\"M1493.75,-120C1509.8,-120 1526.48,-120 1542.53,-120\"/>\r\n",
       "<polygon fill=\"black\" stroke=\"black\" points=\"1542.97,-123.5 1552.97,-120 1542.97,-116.5 1542.97,-123.5\"/>\r\n",
       "</g>\r\n",
       "<!-- 82 -->\r\n",
       "<g id=\"node83\" class=\"node\"><title>82</title>\r\n",
       "<path fill=\"#399de5\" stroke=\"black\" d=\"M1686.5,-68C1686.5,-68 1589.5,-68 1589.5,-68 1583.5,-68 1577.5,-62 1577.5,-56 1577.5,-56 1577.5,-12 1577.5,-12 1577.5,-6 1583.5,-0 1589.5,-0 1589.5,-0 1686.5,-0 1686.5,-0 1692.5,-0 1698.5,-6 1698.5,-12 1698.5,-12 1698.5,-56 1698.5,-56 1698.5,-62 1692.5,-68 1686.5,-68\"/>\r\n",
       "<text text-anchor=\"middle\" x=\"1638\" y=\"-52.8\" font-family=\"Helvetica,sans-Serif\" font-size=\"14.00\">gini = 0.0</text>\r\n",
       "<text text-anchor=\"middle\" x=\"1638\" y=\"-37.8\" font-family=\"Helvetica,sans-Serif\" font-size=\"14.00\">samples = 0.0%</text>\r\n",
       "<text text-anchor=\"middle\" x=\"1638\" y=\"-22.8\" font-family=\"Helvetica,sans-Serif\" font-size=\"14.00\">value = [0.0, 1.0]</text>\r\n",
       "<text text-anchor=\"middle\" x=\"1638\" y=\"-7.8\" font-family=\"Helvetica,sans-Serif\" font-size=\"14.00\">class = Alta</text>\r\n",
       "</g>\r\n",
       "<!-- 80&#45;&gt;82 -->\r\n",
       "<g id=\"edge82\" class=\"edge\"><title>80&#45;&gt;82</title>\r\n",
       "<path fill=\"none\" stroke=\"black\" d=\"M1493.75,-85.7634C1518.47,-76.8285 1544.66,-67.3664 1567.79,-59.01\"/>\r\n",
       "<polygon fill=\"black\" stroke=\"black\" points=\"1569.28,-62.1914 1577.5,-55.5012 1566.9,-55.608 1569.28,-62.1914\"/>\r\n",
       "</g>\r\n",
       "</g>\r\n",
       "</svg>\r\n"
      ],
      "text/plain": [
       "<graphviz.files.Source at 0x1eb4f0a8448>"
      ]
     },
     "execution_count": 12,
     "metadata": {},
     "output_type": "execute_result"
    }
   ],
   "source": [
    "dot_data = export_graphviz(\n",
    "                        decision_tree = dt,\n",
    "                        # out_file=None,\n",
    "                        # max_depth=None,\n",
    "                        feature_names=X_test.columns,\n",
    "                        class_names=['No alta', 'Alta'],\n",
    "                        # label='all',\n",
    "                        filled=True,\n",
    "                        # leaves_parallel=False,\n",
    "                        impurity=True,\n",
    "                        # node_ids=False,\n",
    "                        proportion=True,\n",
    "                        rotate=True,\n",
    "                        rounded=True,\n",
    "                        # special_characters=False,\n",
    "                        precision=4,\n",
    "                        )\n",
    "\n",
    "graph = graphviz.Source(dot_data)\n",
    "graph"
   ]
  },
  {
   "cell_type": "code",
   "execution_count": 14,
   "metadata": {
    "ExecuteTime": {
     "end_time": "2020-09-08T09:27:25.126922Z",
     "start_time": "2020-09-08T09:27:25.122906Z"
    }
   },
   "outputs": [
    {
     "data": {
      "text/plain": [
       "graphviz.files.Source"
      ]
     },
     "execution_count": 14,
     "metadata": {},
     "output_type": "execute_result"
    }
   ],
   "source": [
    "type(graph)"
   ]
  },
  {
   "cell_type": "code",
   "execution_count": 16,
   "metadata": {
    "ExecuteTime": {
     "end_time": "2020-09-08T09:29:41.283910Z",
     "start_time": "2020-09-08T09:29:41.139009Z"
    }
   },
   "outputs": [
    {
     "data": {
      "text/plain": [
       "'arbol_EasyMoney.pdf'"
      ]
     },
     "execution_count": 16,
     "metadata": {},
     "output_type": "execute_result"
    }
   ],
   "source": [
    "graph.render(filename='arbol_EasyMoney')"
   ]
  },
  {
   "cell_type": "code",
   "execution_count": 16,
   "metadata": {
    "ExecuteTime": {
     "end_time": "2020-09-06T16:36:36.134541Z",
     "start_time": "2020-09-06T16:36:36.131543Z"
    }
   },
   "outputs": [],
   "source": [
    "RANDOM_STATE=42"
   ]
  },
  {
   "cell_type": "code",
   "execution_count": 19,
   "metadata": {
    "ExecuteTime": {
     "end_time": "2020-09-06T16:58:37.438109Z",
     "start_time": "2020-09-06T16:52:28.053051Z"
    }
   },
   "outputs": [
    {
     "name": "stdout",
     "output_type": "stream",
     "text": [
      "Resultados para min_samples_split: 10 Train: 0.9916418446472851 - Valida: 0.9947191565260268\n",
      "Resultados para min_samples_split: 60 Train: 0.9916373897059327 - Valida: 0.994737418808934\n",
      "Resultados para min_samples_split: 110 Train: 0.9916373897059327 - Valida: 0.994737418808934\n",
      "Resultados para min_samples_split: 160 Train: 0.9916373897059327 - Valida: 0.994737418808934\n"
     ]
    },
    {
     "ename": "KeyboardInterrupt",
     "evalue": "",
     "output_type": "error",
     "traceback": [
      "\u001b[1;31m---------------------------------------------------------------------------\u001b[0m",
      "\u001b[1;31mKeyboardInterrupt\u001b[0m                         Traceback (most recent call last)",
      "\u001b[1;32m<ipython-input-19-2451ee767698>\u001b[0m in \u001b[0;36m<module>\u001b[1;34m\u001b[0m\n\u001b[0;32m      4\u001b[0m \u001b[1;32mfor\u001b[0m \u001b[0mx\u001b[0m \u001b[1;32min\u001b[0m \u001b[0mrange\u001b[0m\u001b[1;33m(\u001b[0m\u001b[1;36m10\u001b[0m\u001b[1;33m,\u001b[0m\u001b[1;36m500\u001b[0m\u001b[1;33m,\u001b[0m\u001b[1;36m50\u001b[0m\u001b[1;33m)\u001b[0m\u001b[1;33m:\u001b[0m\u001b[1;33m\u001b[0m\u001b[1;33m\u001b[0m\u001b[0m\n\u001b[0;32m      5\u001b[0m     \u001b[0mdt\u001b[0m \u001b[1;33m=\u001b[0m \u001b[0mDecisionTreeClassifier\u001b[0m\u001b[1;33m(\u001b[0m\u001b[0mmax_depth\u001b[0m\u001b[1;33m=\u001b[0m\u001b[1;36m6\u001b[0m\u001b[1;33m,\u001b[0m\u001b[0mrandom_state\u001b[0m\u001b[1;33m=\u001b[0m\u001b[0mRANDOM_STATE\u001b[0m\u001b[1;33m,\u001b[0m\u001b[0mmin_samples_split\u001b[0m\u001b[1;33m=\u001b[0m\u001b[0mx\u001b[0m\u001b[1;33m)\u001b[0m\u001b[1;33m\u001b[0m\u001b[1;33m\u001b[0m\u001b[0m\n\u001b[1;32m----> 6\u001b[1;33m     \u001b[0mdt\u001b[0m\u001b[1;33m.\u001b[0m\u001b[0mfit\u001b[0m\u001b[1;33m(\u001b[0m\u001b[0mX_train\u001b[0m\u001b[1;33m,\u001b[0m\u001b[0mY_train\u001b[0m\u001b[1;33m)\u001b[0m\u001b[1;33m\u001b[0m\u001b[1;33m\u001b[0m\u001b[0m\n\u001b[0m\u001b[0;32m      7\u001b[0m     \u001b[0mscore_train\u001b[0m\u001b[1;33m=\u001b[0m\u001b[0mdt\u001b[0m\u001b[1;33m.\u001b[0m\u001b[0mscore\u001b[0m\u001b[1;33m(\u001b[0m\u001b[0mX_train\u001b[0m\u001b[1;33m,\u001b[0m \u001b[0mY_train\u001b[0m\u001b[1;33m)\u001b[0m\u001b[1;33m\u001b[0m\u001b[1;33m\u001b[0m\u001b[0m\n\u001b[0;32m      8\u001b[0m     \u001b[0mscore_valida\u001b[0m\u001b[1;33m=\u001b[0m\u001b[0mdt\u001b[0m\u001b[1;33m.\u001b[0m\u001b[0mscore\u001b[0m\u001b[1;33m(\u001b[0m\u001b[0mX_valida\u001b[0m\u001b[1;33m,\u001b[0m \u001b[0mY_valida\u001b[0m\u001b[1;33m)\u001b[0m\u001b[1;33m\u001b[0m\u001b[1;33m\u001b[0m\u001b[0m\n",
      "\u001b[1;32mC:\\ProgramData\\Anaconda3\\lib\\site-packages\\sklearn\\tree\\_classes.py\u001b[0m in \u001b[0;36mfit\u001b[1;34m(self, X, y, sample_weight, check_input, X_idx_sorted)\u001b[0m\n\u001b[0;32m    875\u001b[0m             \u001b[0msample_weight\u001b[0m\u001b[1;33m=\u001b[0m\u001b[0msample_weight\u001b[0m\u001b[1;33m,\u001b[0m\u001b[1;33m\u001b[0m\u001b[1;33m\u001b[0m\u001b[0m\n\u001b[0;32m    876\u001b[0m             \u001b[0mcheck_input\u001b[0m\u001b[1;33m=\u001b[0m\u001b[0mcheck_input\u001b[0m\u001b[1;33m,\u001b[0m\u001b[1;33m\u001b[0m\u001b[1;33m\u001b[0m\u001b[0m\n\u001b[1;32m--> 877\u001b[1;33m             X_idx_sorted=X_idx_sorted)\n\u001b[0m\u001b[0;32m    878\u001b[0m         \u001b[1;32mreturn\u001b[0m \u001b[0mself\u001b[0m\u001b[1;33m\u001b[0m\u001b[1;33m\u001b[0m\u001b[0m\n\u001b[0;32m    879\u001b[0m \u001b[1;33m\u001b[0m\u001b[0m\n",
      "\u001b[1;32mC:\\ProgramData\\Anaconda3\\lib\\site-packages\\sklearn\\tree\\_classes.py\u001b[0m in \u001b[0;36mfit\u001b[1;34m(self, X, y, sample_weight, check_input, X_idx_sorted)\u001b[0m\n\u001b[0;32m    365\u001b[0m                                            min_impurity_split)\n\u001b[0;32m    366\u001b[0m \u001b[1;33m\u001b[0m\u001b[0m\n\u001b[1;32m--> 367\u001b[1;33m         \u001b[0mbuilder\u001b[0m\u001b[1;33m.\u001b[0m\u001b[0mbuild\u001b[0m\u001b[1;33m(\u001b[0m\u001b[0mself\u001b[0m\u001b[1;33m.\u001b[0m\u001b[0mtree_\u001b[0m\u001b[1;33m,\u001b[0m \u001b[0mX\u001b[0m\u001b[1;33m,\u001b[0m \u001b[0my\u001b[0m\u001b[1;33m,\u001b[0m \u001b[0msample_weight\u001b[0m\u001b[1;33m,\u001b[0m \u001b[0mX_idx_sorted\u001b[0m\u001b[1;33m)\u001b[0m\u001b[1;33m\u001b[0m\u001b[1;33m\u001b[0m\u001b[0m\n\u001b[0m\u001b[0;32m    368\u001b[0m \u001b[1;33m\u001b[0m\u001b[0m\n\u001b[0;32m    369\u001b[0m         \u001b[1;32mif\u001b[0m \u001b[0mself\u001b[0m\u001b[1;33m.\u001b[0m\u001b[0mn_outputs_\u001b[0m \u001b[1;33m==\u001b[0m \u001b[1;36m1\u001b[0m \u001b[1;32mand\u001b[0m \u001b[0mis_classifier\u001b[0m\u001b[1;33m(\u001b[0m\u001b[0mself\u001b[0m\u001b[1;33m)\u001b[0m\u001b[1;33m:\u001b[0m\u001b[1;33m\u001b[0m\u001b[1;33m\u001b[0m\u001b[0m\n",
      "\u001b[1;31mKeyboardInterrupt\u001b[0m: "
     ]
    }
   ],
   "source": [
    "lista_x=[]\n",
    "lista_strain=[]\n",
    "lista_svalida=[]\n",
    "for x in range(10,500,50):\n",
    "    dt = DecisionTreeClassifier(max_depth=6,random_state=RANDOM_STATE,min_samples_split=x)\n",
    "    dt.fit(X_train,Y_train)\n",
    "    score_train=dt.score(X_train, Y_train)\n",
    "    score_valida=dt.score(X_valida, Y_valida)\n",
    "    print('Resultados para min_samples_split: {} Train: {} - Valida: {}'.format(x,score_train,score_valida))\n",
    "    lista_x.append(x)\n",
    "    lista_strain.append(score_train)\n",
    "    lista_svalida.append(score_valida)\n",
    "score_df=pd.DataFrame(index=lista_x, data={'Score_train':lista_strain, 'Score_valida':lista_svalida})"
   ]
  },
  {
   "cell_type": "code",
   "execution_count": 20,
   "metadata": {
    "ExecuteTime": {
     "end_time": "2020-09-06T17:03:35.142098Z",
     "start_time": "2020-09-06T16:59:51.019861Z"
    }
   },
   "outputs": [
    {
     "name": "stdout",
     "output_type": "stream",
     "text": [
      "Resultados para min_samples_split: 2 Train: 0.9916373897059327 - Valida: 0.994737418808934\n",
      "Resultados para min_samples_split: 3 Train: 0.9916367043303401 - Valida: 0.994737418808934\n"
     ]
    },
    {
     "ename": "KeyboardInterrupt",
     "evalue": "",
     "output_type": "error",
     "traceback": [
      "\u001b[1;31m---------------------------------------------------------------------------\u001b[0m",
      "\u001b[1;31mKeyboardInterrupt\u001b[0m                         Traceback (most recent call last)",
      "\u001b[1;32m<ipython-input-20-092d21e2cd5c>\u001b[0m in \u001b[0;36m<module>\u001b[1;34m\u001b[0m\n\u001b[0;32m      4\u001b[0m \u001b[1;32mfor\u001b[0m \u001b[0mx\u001b[0m \u001b[1;32min\u001b[0m \u001b[0mrange\u001b[0m\u001b[1;33m(\u001b[0m\u001b[1;36m2\u001b[0m\u001b[1;33m,\u001b[0m\u001b[1;36m20\u001b[0m\u001b[1;33m)\u001b[0m\u001b[1;33m:\u001b[0m\u001b[1;33m\u001b[0m\u001b[1;33m\u001b[0m\u001b[0m\n\u001b[0;32m      5\u001b[0m     \u001b[0mdt\u001b[0m \u001b[1;33m=\u001b[0m \u001b[0mDecisionTreeClassifier\u001b[0m\u001b[1;33m(\u001b[0m\u001b[0mmax_depth\u001b[0m\u001b[1;33m=\u001b[0m\u001b[1;36m6\u001b[0m\u001b[1;33m,\u001b[0m\u001b[0mrandom_state\u001b[0m\u001b[1;33m=\u001b[0m\u001b[0mRANDOM_STATE\u001b[0m\u001b[1;33m,\u001b[0m\u001b[0mmin_samples_split\u001b[0m\u001b[1;33m=\u001b[0m\u001b[1;36m100\u001b[0m\u001b[1;33m,\u001b[0m  \u001b[0mmin_samples_leaf\u001b[0m\u001b[1;33m=\u001b[0m\u001b[0mx\u001b[0m\u001b[1;33m)\u001b[0m\u001b[1;33m\u001b[0m\u001b[1;33m\u001b[0m\u001b[0m\n\u001b[1;32m----> 6\u001b[1;33m     \u001b[0mdt\u001b[0m\u001b[1;33m.\u001b[0m\u001b[0mfit\u001b[0m\u001b[1;33m(\u001b[0m\u001b[0mX_train\u001b[0m\u001b[1;33m,\u001b[0m\u001b[0mY_train\u001b[0m\u001b[1;33m)\u001b[0m\u001b[1;33m\u001b[0m\u001b[1;33m\u001b[0m\u001b[0m\n\u001b[0m\u001b[0;32m      7\u001b[0m     \u001b[0mscore_train\u001b[0m\u001b[1;33m=\u001b[0m\u001b[0mdt\u001b[0m\u001b[1;33m.\u001b[0m\u001b[0mscore\u001b[0m\u001b[1;33m(\u001b[0m\u001b[0mX_train\u001b[0m\u001b[1;33m,\u001b[0m \u001b[0mY_train\u001b[0m\u001b[1;33m)\u001b[0m\u001b[1;33m\u001b[0m\u001b[1;33m\u001b[0m\u001b[0m\n\u001b[0;32m      8\u001b[0m     \u001b[0mscore_valida\u001b[0m\u001b[1;33m=\u001b[0m\u001b[0mdt\u001b[0m\u001b[1;33m.\u001b[0m\u001b[0mscore\u001b[0m\u001b[1;33m(\u001b[0m\u001b[0mX_valida\u001b[0m\u001b[1;33m,\u001b[0m \u001b[0mY_valida\u001b[0m\u001b[1;33m)\u001b[0m\u001b[1;33m\u001b[0m\u001b[1;33m\u001b[0m\u001b[0m\n",
      "\u001b[1;32mC:\\ProgramData\\Anaconda3\\lib\\site-packages\\sklearn\\tree\\_classes.py\u001b[0m in \u001b[0;36mfit\u001b[1;34m(self, X, y, sample_weight, check_input, X_idx_sorted)\u001b[0m\n\u001b[0;32m    875\u001b[0m             \u001b[0msample_weight\u001b[0m\u001b[1;33m=\u001b[0m\u001b[0msample_weight\u001b[0m\u001b[1;33m,\u001b[0m\u001b[1;33m\u001b[0m\u001b[1;33m\u001b[0m\u001b[0m\n\u001b[0;32m    876\u001b[0m             \u001b[0mcheck_input\u001b[0m\u001b[1;33m=\u001b[0m\u001b[0mcheck_input\u001b[0m\u001b[1;33m,\u001b[0m\u001b[1;33m\u001b[0m\u001b[1;33m\u001b[0m\u001b[0m\n\u001b[1;32m--> 877\u001b[1;33m             X_idx_sorted=X_idx_sorted)\n\u001b[0m\u001b[0;32m    878\u001b[0m         \u001b[1;32mreturn\u001b[0m \u001b[0mself\u001b[0m\u001b[1;33m\u001b[0m\u001b[1;33m\u001b[0m\u001b[0m\n\u001b[0;32m    879\u001b[0m \u001b[1;33m\u001b[0m\u001b[0m\n",
      "\u001b[1;32mC:\\ProgramData\\Anaconda3\\lib\\site-packages\\sklearn\\tree\\_classes.py\u001b[0m in \u001b[0;36mfit\u001b[1;34m(self, X, y, sample_weight, check_input, X_idx_sorted)\u001b[0m\n\u001b[0;32m    365\u001b[0m                                            min_impurity_split)\n\u001b[0;32m    366\u001b[0m \u001b[1;33m\u001b[0m\u001b[0m\n\u001b[1;32m--> 367\u001b[1;33m         \u001b[0mbuilder\u001b[0m\u001b[1;33m.\u001b[0m\u001b[0mbuild\u001b[0m\u001b[1;33m(\u001b[0m\u001b[0mself\u001b[0m\u001b[1;33m.\u001b[0m\u001b[0mtree_\u001b[0m\u001b[1;33m,\u001b[0m \u001b[0mX\u001b[0m\u001b[1;33m,\u001b[0m \u001b[0my\u001b[0m\u001b[1;33m,\u001b[0m \u001b[0msample_weight\u001b[0m\u001b[1;33m,\u001b[0m \u001b[0mX_idx_sorted\u001b[0m\u001b[1;33m)\u001b[0m\u001b[1;33m\u001b[0m\u001b[1;33m\u001b[0m\u001b[0m\n\u001b[0m\u001b[0;32m    368\u001b[0m \u001b[1;33m\u001b[0m\u001b[0m\n\u001b[0;32m    369\u001b[0m         \u001b[1;32mif\u001b[0m \u001b[0mself\u001b[0m\u001b[1;33m.\u001b[0m\u001b[0mn_outputs_\u001b[0m \u001b[1;33m==\u001b[0m \u001b[1;36m1\u001b[0m \u001b[1;32mand\u001b[0m \u001b[0mis_classifier\u001b[0m\u001b[1;33m(\u001b[0m\u001b[0mself\u001b[0m\u001b[1;33m)\u001b[0m\u001b[1;33m:\u001b[0m\u001b[1;33m\u001b[0m\u001b[1;33m\u001b[0m\u001b[0m\n",
      "\u001b[1;31mKeyboardInterrupt\u001b[0m: "
     ]
    }
   ],
   "source": [
    "lista_x=[]\n",
    "lista_strain=[]\n",
    "lista_svalida=[]\n",
    "for x in range(2,20):\n",
    "    dt = DecisionTreeClassifier(max_depth=6,random_state=RANDOM_STATE,min_samples_split=100,  min_samples_leaf=x)\n",
    "    dt.fit(X_train,Y_train)\n",
    "    score_train=dt.score(X_train, Y_train)\n",
    "    score_valida=dt.score(X_valida, Y_valida)\n",
    "    print('Resultados para min_samples_split: {} Train: {} - Valida: {}'.format(x,score_train,score_valida))\n",
    "    lista_x.append(x)\n",
    "    lista_strain.append(score_train)\n",
    "    lista_svalida.append(score_valida)\n",
    "score_df=pd.DataFrame(index=lista_x, data={'Score_train':lista_strain, 'Score_valida':lista_svalida})"
   ]
  },
  {
   "cell_type": "markdown",
   "metadata": {},
   "source": [
    "# Vemos con Test"
   ]
  },
  {
   "cell_type": "code",
   "execution_count": 43,
   "metadata": {
    "ExecuteTime": {
     "end_time": "2020-09-08T09:52:13.000373Z",
     "start_time": "2020-09-08T09:52:12.653554Z"
    }
   },
   "outputs": [],
   "source": [
    "y_test_pred = pd.DataFrame(dt.predict(X_test), index=Y_test.index, columns=['altaPrediction'])"
   ]
  },
  {
   "cell_type": "code",
   "execution_count": 44,
   "metadata": {
    "ExecuteTime": {
     "end_time": "2020-09-08T09:52:14.099724Z",
     "start_time": "2020-09-08T09:52:14.093725Z"
    }
   },
   "outputs": [
    {
     "data": {
      "text/plain": [
       "334193"
      ]
     },
     "execution_count": 44,
     "metadata": {},
     "output_type": "execute_result"
    }
   ],
   "source": [
    "len(y_test_pred)"
   ]
  },
  {
   "cell_type": "code",
   "execution_count": 45,
   "metadata": {
    "ExecuteTime": {
     "end_time": "2020-09-08T09:52:15.603856Z",
     "start_time": "2020-09-08T09:52:15.205085Z"
    }
   },
   "outputs": [],
   "source": [
    "score_test=dt.score(X_test, Y_test)"
   ]
  },
  {
   "cell_type": "code",
   "execution_count": 46,
   "metadata": {
    "ExecuteTime": {
     "end_time": "2020-09-08T09:52:16.698225Z",
     "start_time": "2020-09-08T09:52:16.694244Z"
    }
   },
   "outputs": [
    {
     "data": {
      "text/plain": [
       "0.9883121429832462"
      ]
     },
     "execution_count": 46,
     "metadata": {},
     "output_type": "execute_result"
    }
   ],
   "source": [
    "score_test"
   ]
  },
  {
   "cell_type": "code",
   "execution_count": 47,
   "metadata": {
    "ExecuteTime": {
     "end_time": "2020-09-08T09:52:17.828351Z",
     "start_time": "2020-09-08T09:52:17.779361Z"
    }
   },
   "outputs": [],
   "source": [
    "results_df = Y_test.to_frame().join(y_test_pred)"
   ]
  },
  {
   "cell_type": "code",
   "execution_count": 48,
   "metadata": {
    "ExecuteTime": {
     "end_time": "2020-09-08T09:52:18.946688Z",
     "start_time": "2020-09-08T09:52:18.927699Z"
    }
   },
   "outputs": [],
   "source": [
    "results_df['Success']=(results_df['dif_em_acount']==results_df['altaPrediction']).astype(int)"
   ]
  },
  {
   "cell_type": "code",
   "execution_count": 49,
   "metadata": {
    "ExecuteTime": {
     "end_time": "2020-09-08T09:52:20.054101Z",
     "start_time": "2020-09-08T09:52:20.039122Z"
    }
   },
   "outputs": [
    {
     "data": {
      "text/html": [
       "<div>\n",
       "<style scoped>\n",
       "    .dataframe tbody tr th:only-of-type {\n",
       "        vertical-align: middle;\n",
       "    }\n",
       "\n",
       "    .dataframe tbody tr th {\n",
       "        vertical-align: top;\n",
       "    }\n",
       "\n",
       "    .dataframe thead th {\n",
       "        text-align: right;\n",
       "    }\n",
       "</style>\n",
       "<table border=\"1\" class=\"dataframe\">\n",
       "  <thead>\n",
       "    <tr style=\"text-align: right;\">\n",
       "      <th></th>\n",
       "      <th>dif_em_acount</th>\n",
       "      <th>altaPrediction</th>\n",
       "      <th>Success</th>\n",
       "    </tr>\n",
       "  </thead>\n",
       "  <tbody>\n",
       "    <tr>\n",
       "      <th>7526579</th>\n",
       "      <td>1.00</td>\n",
       "      <td>1.00</td>\n",
       "      <td>1</td>\n",
       "    </tr>\n",
       "    <tr>\n",
       "      <th>7528468</th>\n",
       "      <td>1.00</td>\n",
       "      <td>1.00</td>\n",
       "      <td>1</td>\n",
       "    </tr>\n",
       "    <tr>\n",
       "      <th>7398936</th>\n",
       "      <td>1.00</td>\n",
       "      <td>0.00</td>\n",
       "      <td>0</td>\n",
       "    </tr>\n",
       "    <tr>\n",
       "      <th>7388879</th>\n",
       "      <td>1.00</td>\n",
       "      <td>0.00</td>\n",
       "      <td>0</td>\n",
       "    </tr>\n",
       "    <tr>\n",
       "      <th>7501522</th>\n",
       "      <td>1.00</td>\n",
       "      <td>0.00</td>\n",
       "      <td>0</td>\n",
       "    </tr>\n",
       "    <tr>\n",
       "      <th>7117674</th>\n",
       "      <td>1.00</td>\n",
       "      <td>1.00</td>\n",
       "      <td>1</td>\n",
       "    </tr>\n",
       "    <tr>\n",
       "      <th>7525097</th>\n",
       "      <td>1.00</td>\n",
       "      <td>1.00</td>\n",
       "      <td>1</td>\n",
       "    </tr>\n",
       "    <tr>\n",
       "      <th>7512093</th>\n",
       "      <td>1.00</td>\n",
       "      <td>1.00</td>\n",
       "      <td>1</td>\n",
       "    </tr>\n",
       "    <tr>\n",
       "      <th>7527298</th>\n",
       "      <td>1.00</td>\n",
       "      <td>1.00</td>\n",
       "      <td>1</td>\n",
       "    </tr>\n",
       "    <tr>\n",
       "      <th>7526354</th>\n",
       "      <td>1.00</td>\n",
       "      <td>1.00</td>\n",
       "      <td>1</td>\n",
       "    </tr>\n",
       "    <tr>\n",
       "      <th>7480163</th>\n",
       "      <td>1.00</td>\n",
       "      <td>0.00</td>\n",
       "      <td>0</td>\n",
       "    </tr>\n",
       "    <tr>\n",
       "      <th>7529516</th>\n",
       "      <td>1.00</td>\n",
       "      <td>1.00</td>\n",
       "      <td>1</td>\n",
       "    </tr>\n",
       "    <tr>\n",
       "      <th>7349089</th>\n",
       "      <td>1.00</td>\n",
       "      <td>0.00</td>\n",
       "      <td>0</td>\n",
       "    </tr>\n",
       "    <tr>\n",
       "      <th>7482583</th>\n",
       "      <td>1.00</td>\n",
       "      <td>0.00</td>\n",
       "      <td>0</td>\n",
       "    </tr>\n",
       "    <tr>\n",
       "      <th>7311992</th>\n",
       "      <td>1.00</td>\n",
       "      <td>0.00</td>\n",
       "      <td>0</td>\n",
       "    </tr>\n",
       "    <tr>\n",
       "      <th>7525985</th>\n",
       "      <td>1.00</td>\n",
       "      <td>1.00</td>\n",
       "      <td>1</td>\n",
       "    </tr>\n",
       "    <tr>\n",
       "      <th>7530289</th>\n",
       "      <td>1.00</td>\n",
       "      <td>1.00</td>\n",
       "      <td>1</td>\n",
       "    </tr>\n",
       "    <tr>\n",
       "      <th>7516206</th>\n",
       "      <td>1.00</td>\n",
       "      <td>1.00</td>\n",
       "      <td>1</td>\n",
       "    </tr>\n",
       "    <tr>\n",
       "      <th>7529692</th>\n",
       "      <td>1.00</td>\n",
       "      <td>1.00</td>\n",
       "      <td>1</td>\n",
       "    </tr>\n",
       "    <tr>\n",
       "      <th>7088406</th>\n",
       "      <td>1.00</td>\n",
       "      <td>1.00</td>\n",
       "      <td>1</td>\n",
       "    </tr>\n",
       "  </tbody>\n",
       "</table>\n",
       "</div>"
      ],
      "text/plain": [
       "         dif_em_acount  altaPrediction  Success\n",
       "7526579           1.00            1.00        1\n",
       "7528468           1.00            1.00        1\n",
       "7398936           1.00            0.00        0\n",
       "7388879           1.00            0.00        0\n",
       "7501522           1.00            0.00        0\n",
       "7117674           1.00            1.00        1\n",
       "7525097           1.00            1.00        1\n",
       "7512093           1.00            1.00        1\n",
       "7527298           1.00            1.00        1\n",
       "7526354           1.00            1.00        1\n",
       "7480163           1.00            0.00        0\n",
       "7529516           1.00            1.00        1\n",
       "7349089           1.00            0.00        0\n",
       "7482583           1.00            0.00        0\n",
       "7311992           1.00            0.00        0\n",
       "7525985           1.00            1.00        1\n",
       "7530289           1.00            1.00        1\n",
       "7516206           1.00            1.00        1\n",
       "7529692           1.00            1.00        1\n",
       "7088406           1.00            1.00        1"
      ]
     },
     "execution_count": 49,
     "metadata": {},
     "output_type": "execute_result"
    }
   ],
   "source": [
    "results_df[results_df['dif_em_acount']!=0].sample(20)"
   ]
  },
  {
   "cell_type": "code",
   "execution_count": 50,
   "metadata": {
    "ExecuteTime": {
     "end_time": "2020-09-08T09:52:21.411335Z",
     "start_time": "2020-09-08T09:52:21.142473Z"
    }
   },
   "outputs": [
    {
     "data": {
      "text/plain": [
       "<matplotlib.axes._subplots.AxesSubplot at 0x1eb780e4fc8>"
      ]
     },
     "execution_count": 50,
     "metadata": {},
     "output_type": "execute_result"
    },
    {
     "data": {
      "image/png": "[encoded data removed]",
      "text/plain": [
       "<Figure size 432x288 with 1 Axes>"
      ]
     },
     "metadata": {},
     "output_type": "display_data"
    }
   ],
   "source": [
    "results_df[results_df['dif_em_acount']==1]['Success'].hist()"
   ]
  },
  {
   "cell_type": "code",
   "execution_count": 51,
   "metadata": {
    "ExecuteTime": {
     "end_time": "2020-09-08T09:52:26.936662Z",
     "start_time": "2020-09-08T09:52:26.924656Z"
    }
   },
   "outputs": [
    {
     "data": {
      "text/plain": [
       "1    3062\n",
       "0     923\n",
       "Name: Success, dtype: int64"
      ]
     },
     "execution_count": 51,
     "metadata": {},
     "output_type": "execute_result"
    }
   ],
   "source": [
    "results_df[results_df['dif_em_acount']==1]['Success'].value_counts()"
   ]
  },
  {
   "cell_type": "code",
   "execution_count": 52,
   "metadata": {
    "ExecuteTime": {
     "end_time": "2020-09-08T09:52:28.369822Z",
     "start_time": "2020-09-08T09:52:28.122965Z"
    }
   },
   "outputs": [
    {
     "data": {
      "text/plain": [
       "<matplotlib.axes._subplots.AxesSubplot at 0x1eb76eb2a88>"
      ]
     },
     "execution_count": 52,
     "metadata": {},
     "output_type": "execute_result"
    },
    {
     "data": {
      "image/png": "[encoded data removed]",
      "text/plain": [
       "<Figure size 432x288 with 1 Axes>"
      ]
     },
     "metadata": {},
     "output_type": "display_data"
    }
   ],
   "source": [
    "results_df[results_df['dif_em_acount']==0]['Success'].hist()"
   ]
  },
  {
   "cell_type": "code",
   "execution_count": 53,
   "metadata": {
    "ExecuteTime": {
     "end_time": "2020-09-08T09:52:29.522545Z",
     "start_time": "2020-09-08T09:52:29.497559Z"
    }
   },
   "outputs": [
    {
     "data": {
      "text/plain": [
       "1    327225\n",
       "0      2983\n",
       "Name: Success, dtype: int64"
      ]
     },
     "execution_count": 53,
     "metadata": {},
     "output_type": "execute_result"
    }
   ],
   "source": [
    "results_df[results_df['dif_em_acount']==0]['Success'].value_counts()"
   ]
  },
  {
   "cell_type": "code",
   "execution_count": 54,
   "metadata": {
    "ExecuteTime": {
     "end_time": "2020-09-08T09:52:30.636148Z",
     "start_time": "2020-09-08T09:52:30.632149Z"
    }
   },
   "outputs": [],
   "source": [
    "top_features = pd.Series(dt.feature_importances_, index=X_train.columns).sort_values(ascending=False).head(30)"
   ]
  },
  {
   "cell_type": "code",
   "execution_count": 55,
   "metadata": {
    "ExecuteTime": {
     "end_time": "2020-09-08T09:52:32.728183Z",
     "start_time": "2020-09-08T09:52:32.723204Z"
    }
   },
   "outputs": [
    {
     "data": {
      "text/plain": [
       "isActive_shift_1                 0.93\n",
       "payroll_account_shift_1          0.02\n",
       "debit_card_shift_1               0.01\n",
       "em_acount_shift_2                0.01\n",
       "em_acount_shift_1                0.01\n",
       "hayBaja_1                        0.01\n",
       "dif_short_term_deposit_shift_3   0.01\n",
       "active_customer_shift_1          0.00\n",
       "pension_plan_shift_3             0.00\n",
       "dif_em_account_p_shift_6         0.00\n",
       "dif_em_acount_shift_2            0.00\n",
       "diasDesdeUltimaAltaInt_1         0.00\n",
       "totalAssets_shift_1              0.00\n",
       "totalIngresos_1                  0.00\n",
       "payroll_account_shift_2          0.00\n",
       "totalAssets_shift_5              0.00\n",
       "hayAlta_2                        0.00\n",
       "em_acount_shift_3                0.00\n",
       "active_customer_shift_3          0.00\n",
       "isNewClient_shift_1              0.00\n",
       "dif_em_acount_shift_1            0.00\n",
       "active_customer_shift_2          0.00\n",
       "dif_em_acount_shift_3            0.00\n",
       "diasDesdeUltimaBajaInt_1         0.00\n",
       "payroll_shift_2                  0.00\n",
       "dif_payroll_account_shift_3      0.00\n",
       "isActive_shift_2                 0.00\n",
       "emc_account_shift_1              0.00\n",
       "dif_payroll_account_shift_2      0.00\n",
       "dif_em_acount_shift_5            0.00\n",
       "dtype: float64"
      ]
     },
     "execution_count": 55,
     "metadata": {},
     "output_type": "execute_result"
    }
   ],
   "source": [
    "top_features"
   ]
  },
  {
   "cell_type": "markdown",
   "metadata": {},
   "source": [
    "# Matriz de confusion:"
   ]
  },
  {
   "cell_type": "code",
   "execution_count": 30,
   "metadata": {
    "ExecuteTime": {
     "end_time": "2020-09-07T06:46:36.238396Z",
     "start_time": "2020-09-07T06:46:35.504795Z"
    }
   },
   "outputs": [],
   "source": [
    "# La podemos calcular directamente con la funcion confusion_matrix de skitlearn\n",
    "conf_matrix=confusion_matrix(Y_test, dt.predict(X_test))"
   ]
  },
  {
   "cell_type": "code",
   "execution_count": 31,
   "metadata": {
    "ExecuteTime": {
     "end_time": "2020-09-07T06:46:37.362705Z",
     "start_time": "2020-09-07T06:46:37.357707Z"
    }
   },
   "outputs": [
    {
     "data": {
      "text/plain": [
       "array([[327225,   2983],\n",
       "       [   923,   3062]], dtype=int64)"
      ]
     },
     "execution_count": 31,
     "metadata": {},
     "output_type": "execute_result"
    }
   ],
   "source": [
    "conf_matrix"
   ]
  },
  {
   "cell_type": "code",
   "execution_count": 32,
   "metadata": {
    "ExecuteTime": {
     "end_time": "2020-09-07T06:46:38.540592Z",
     "start_time": "2020-09-07T06:46:38.488604Z"
    }
   },
   "outputs": [],
   "source": [
    "# Tambien la podemos definir asi:\n",
    "conf_matrix = pd.crosstab(results_df['dif_em_acount'], results_df['altaPrediction'])"
   ]
  },
  {
   "cell_type": "code",
   "execution_count": 33,
   "metadata": {
    "ExecuteTime": {
     "end_time": "2020-09-07T06:46:39.648223Z",
     "start_time": "2020-09-07T06:46:39.641226Z"
    }
   },
   "outputs": [
    {
     "data": {
      "text/html": [
       "<div>\n",
       "<style scoped>\n",
       "    .dataframe tbody tr th:only-of-type {\n",
       "        vertical-align: middle;\n",
       "    }\n",
       "\n",
       "    .dataframe tbody tr th {\n",
       "        vertical-align: top;\n",
       "    }\n",
       "\n",
       "    .dataframe thead th {\n",
       "        text-align: right;\n",
       "    }\n",
       "</style>\n",
       "<table border=\"1\" class=\"dataframe\">\n",
       "  <thead>\n",
       "    <tr style=\"text-align: right;\">\n",
       "      <th>altaPrediction</th>\n",
       "      <th>0.00</th>\n",
       "      <th>1.00</th>\n",
       "    </tr>\n",
       "    <tr>\n",
       "      <th>dif_em_acount</th>\n",
       "      <th></th>\n",
       "      <th></th>\n",
       "    </tr>\n",
       "  </thead>\n",
       "  <tbody>\n",
       "    <tr>\n",
       "      <th>0.00</th>\n",
       "      <td>327225</td>\n",
       "      <td>2983</td>\n",
       "    </tr>\n",
       "    <tr>\n",
       "      <th>1.00</th>\n",
       "      <td>923</td>\n",
       "      <td>3062</td>\n",
       "    </tr>\n",
       "  </tbody>\n",
       "</table>\n",
       "</div>"
      ],
      "text/plain": [
       "altaPrediction    0.00  1.00\n",
       "dif_em_acount               \n",
       "0.00            327225  2983\n",
       "1.00               923  3062"
      ]
     },
     "execution_count": 33,
     "metadata": {},
     "output_type": "execute_result"
    }
   ],
   "source": [
    "conf_matrix"
   ]
  },
  {
   "cell_type": "code",
   "execution_count": 34,
   "metadata": {
    "ExecuteTime": {
     "end_time": "2020-09-07T06:46:40.754584Z",
     "start_time": "2020-09-07T06:46:40.750586Z"
    }
   },
   "outputs": [],
   "source": [
    "TP = conf_matrix.iloc[1,1]\n",
    "TN = conf_matrix.iloc[0,0]\n",
    "FP = conf_matrix.iloc[0,1]\n",
    "FN = conf_matrix.iloc[1,0]"
   ]
  },
  {
   "cell_type": "code",
   "execution_count": 35,
   "metadata": {
    "ExecuteTime": {
     "end_time": "2020-09-07T06:46:41.872578Z",
     "start_time": "2020-09-07T06:46:41.866582Z"
    }
   },
   "outputs": [
    {
     "data": {
      "text/plain": [
       "0.9883121429832462"
      ]
     },
     "execution_count": 35,
     "metadata": {},
     "output_type": "execute_result"
    }
   ],
   "source": [
    "accuracy = (TP + TN) / (TP + TN + FP + FN)\n",
    "accuracy"
   ]
  },
  {
   "cell_type": "markdown",
   "metadata": {},
   "source": [
    "# F1 Score "
   ]
  },
  {
   "cell_type": "code",
   "execution_count": 36,
   "metadata": {
    "ExecuteTime": {
     "end_time": "2020-09-07T06:46:42.976552Z",
     "start_time": "2020-09-07T06:46:42.972542Z"
    }
   },
   "outputs": [],
   "source": [
    "Precision = TP / (TP + FP)\n",
    "Recall = TP / (TP + FN)\n",
    "f1_score = 2 / ( 1/Precision + 1/Recall )"
   ]
  },
  {
   "cell_type": "code",
   "execution_count": 37,
   "metadata": {
    "ExecuteTime": {
     "end_time": "2020-09-07T06:46:44.140883Z",
     "start_time": "2020-09-07T06:46:44.135872Z"
    }
   },
   "outputs": [
    {
     "data": {
      "text/plain": [
       "(0.5065343258891646, 0.7683814303638645)"
      ]
     },
     "execution_count": 37,
     "metadata": {},
     "output_type": "execute_result"
    }
   ],
   "source": [
    "Precision, Recall"
   ]
  },
  {
   "cell_type": "code",
   "execution_count": 38,
   "metadata": {
    "ExecuteTime": {
     "end_time": "2020-09-07T06:46:45.270458Z",
     "start_time": "2020-09-07T06:46:45.265462Z"
    }
   },
   "outputs": [
    {
     "data": {
      "text/plain": [
       "0.610568295114656"
      ]
     },
     "execution_count": 38,
     "metadata": {},
     "output_type": "execute_result"
    }
   ],
   "source": [
    "f1_score"
   ]
  },
  {
   "cell_type": "code",
   "execution_count": 39,
   "metadata": {
    "ExecuteTime": {
     "end_time": "2020-09-07T06:46:46.618695Z",
     "start_time": "2020-09-07T06:46:46.359830Z"
    }
   },
   "outputs": [
    {
     "data": {
      "text/plain": [
       "0.610568295114656"
      ]
     },
     "execution_count": 39,
     "metadata": {},
     "output_type": "execute_result"
    }
   ],
   "source": [
    "metrics.f1_score(Y_test, y_test_pred)"
   ]
  },
  {
   "cell_type": "markdown",
   "metadata": {},
   "source": [
    "# Curva Roc:"
   ]
  },
  {
   "cell_type": "code",
   "execution_count": 40,
   "metadata": {
    "ExecuteTime": {
     "end_time": "2020-09-07T06:46:48.254881Z",
     "start_time": "2020-09-07T06:46:47.897074Z"
    }
   },
   "outputs": [
    {
     "data": {
      "text/plain": [
       "array([[0.99738645, 0.00261355],\n",
       "       [0.99894741, 0.00105259],\n",
       "       [0.99894741, 0.00105259],\n",
       "       ...,\n",
       "       [0.34255019, 0.65744981],\n",
       "       [0.34255019, 0.65744981],\n",
       "       [0.34255019, 0.65744981]])"
      ]
     },
     "execution_count": 40,
     "metadata": {},
     "output_type": "execute_result"
    }
   ],
   "source": [
    "dt.predict_proba(X_test)"
   ]
  },
  {
   "cell_type": "code",
   "execution_count": 41,
   "metadata": {
    "ExecuteTime": {
     "end_time": "2020-09-07T06:46:49.717024Z",
     "start_time": "2020-09-07T06:46:49.365227Z"
    }
   },
   "outputs": [
    {
     "data": {
      "text/plain": [
       "array([0.00261355, 0.00105259, 0.00105259, ..., 0.65744981, 0.65744981,\n",
       "       0.65744981])"
      ]
     },
     "execution_count": 41,
     "metadata": {},
     "output_type": "execute_result"
    }
   ],
   "source": [
    "dt.predict_proba(X_test)[:,1]"
   ]
  },
  {
   "cell_type": "code",
   "execution_count": 56,
   "metadata": {
    "ExecuteTime": {
     "end_time": "2020-09-08T09:52:39.961042Z",
     "start_time": "2020-09-08T09:52:39.610231Z"
    }
   },
   "outputs": [],
   "source": [
    "y_score = pd.DataFrame(dt.predict_proba(X_test)[:,1], index=Y_test.index, columns=['AltaScore'])\n",
    "results_df = results_df.join(y_score)"
   ]
  },
  {
   "cell_type": "code",
   "execution_count": 57,
   "metadata": {
    "ExecuteTime": {
     "end_time": "2020-09-08T09:52:41.077385Z",
     "start_time": "2020-09-08T09:52:41.064391Z"
    }
   },
   "outputs": [
    {
     "data": {
      "text/html": [
       "<div>\n",
       "<style scoped>\n",
       "    .dataframe tbody tr th:only-of-type {\n",
       "        vertical-align: middle;\n",
       "    }\n",
       "\n",
       "    .dataframe tbody tr th {\n",
       "        vertical-align: top;\n",
       "    }\n",
       "\n",
       "    .dataframe thead th {\n",
       "        text-align: right;\n",
       "    }\n",
       "</style>\n",
       "<table border=\"1\" class=\"dataframe\">\n",
       "  <thead>\n",
       "    <tr style=\"text-align: right;\">\n",
       "      <th></th>\n",
       "      <th>dif_em_acount</th>\n",
       "      <th>altaPrediction</th>\n",
       "      <th>Success</th>\n",
       "      <th>AltaScore</th>\n",
       "    </tr>\n",
       "  </thead>\n",
       "  <tbody>\n",
       "    <tr>\n",
       "      <th>7087921</th>\n",
       "      <td>0.00</td>\n",
       "      <td>0.00</td>\n",
       "      <td>1</td>\n",
       "      <td>0.00</td>\n",
       "    </tr>\n",
       "    <tr>\n",
       "      <th>7087922</th>\n",
       "      <td>0.00</td>\n",
       "      <td>0.00</td>\n",
       "      <td>1</td>\n",
       "      <td>0.00</td>\n",
       "    </tr>\n",
       "    <tr>\n",
       "      <th>7087923</th>\n",
       "      <td>0.00</td>\n",
       "      <td>0.00</td>\n",
       "      <td>1</td>\n",
       "      <td>0.00</td>\n",
       "    </tr>\n",
       "    <tr>\n",
       "      <th>7087925</th>\n",
       "      <td>0.00</td>\n",
       "      <td>0.00</td>\n",
       "      <td>1</td>\n",
       "      <td>0.00</td>\n",
       "    </tr>\n",
       "    <tr>\n",
       "      <th>7087926</th>\n",
       "      <td>0.00</td>\n",
       "      <td>0.00</td>\n",
       "      <td>1</td>\n",
       "      <td>0.00</td>\n",
       "    </tr>\n",
       "    <tr>\n",
       "      <th>...</th>\n",
       "      <td>...</td>\n",
       "      <td>...</td>\n",
       "      <td>...</td>\n",
       "      <td>...</td>\n",
       "    </tr>\n",
       "    <tr>\n",
       "      <th>7530739</th>\n",
       "      <td>0.00</td>\n",
       "      <td>1.00</td>\n",
       "      <td>0</td>\n",
       "      <td>0.66</td>\n",
       "    </tr>\n",
       "    <tr>\n",
       "      <th>7530800</th>\n",
       "      <td>0.00</td>\n",
       "      <td>1.00</td>\n",
       "      <td>0</td>\n",
       "      <td>0.66</td>\n",
       "    </tr>\n",
       "    <tr>\n",
       "      <th>7530815</th>\n",
       "      <td>0.00</td>\n",
       "      <td>1.00</td>\n",
       "      <td>0</td>\n",
       "      <td>0.66</td>\n",
       "    </tr>\n",
       "    <tr>\n",
       "      <th>7530820</th>\n",
       "      <td>0.00</td>\n",
       "      <td>1.00</td>\n",
       "      <td>0</td>\n",
       "      <td>0.66</td>\n",
       "    </tr>\n",
       "    <tr>\n",
       "      <th>7530824</th>\n",
       "      <td>0.00</td>\n",
       "      <td>1.00</td>\n",
       "      <td>0</td>\n",
       "      <td>0.66</td>\n",
       "    </tr>\n",
       "  </tbody>\n",
       "</table>\n",
       "<p>334193 rows × 4 columns</p>\n",
       "</div>"
      ],
      "text/plain": [
       "         dif_em_acount  altaPrediction  Success  AltaScore\n",
       "7087921           0.00            0.00        1       0.00\n",
       "7087922           0.00            0.00        1       0.00\n",
       "7087923           0.00            0.00        1       0.00\n",
       "7087925           0.00            0.00        1       0.00\n",
       "7087926           0.00            0.00        1       0.00\n",
       "...                ...             ...      ...        ...\n",
       "7530739           0.00            1.00        0       0.66\n",
       "7530800           0.00            1.00        0       0.66\n",
       "7530815           0.00            1.00        0       0.66\n",
       "7530820           0.00            1.00        0       0.66\n",
       "7530824           0.00            1.00        0       0.66\n",
       "\n",
       "[334193 rows x 4 columns]"
      ]
     },
     "execution_count": 57,
     "metadata": {},
     "output_type": "execute_result"
    }
   ],
   "source": [
    "results_df"
   ]
  },
  {
   "cell_type": "code",
   "execution_count": 58,
   "metadata": {
    "ExecuteTime": {
     "end_time": "2020-09-08T09:52:42.317629Z",
     "start_time": "2020-09-08T09:52:42.303653Z"
    }
   },
   "outputs": [
    {
     "data": {
      "text/html": [
       "<div>\n",
       "<style scoped>\n",
       "    .dataframe tbody tr th:only-of-type {\n",
       "        vertical-align: middle;\n",
       "    }\n",
       "\n",
       "    .dataframe tbody tr th {\n",
       "        vertical-align: top;\n",
       "    }\n",
       "\n",
       "    .dataframe thead th {\n",
       "        text-align: right;\n",
       "    }\n",
       "</style>\n",
       "<table border=\"1\" class=\"dataframe\">\n",
       "  <thead>\n",
       "    <tr style=\"text-align: right;\">\n",
       "      <th></th>\n",
       "      <th>dif_em_acount</th>\n",
       "      <th>altaPrediction</th>\n",
       "      <th>Success</th>\n",
       "      <th>AltaScore</th>\n",
       "    </tr>\n",
       "  </thead>\n",
       "  <tbody>\n",
       "    <tr>\n",
       "      <th>7528291</th>\n",
       "      <td>1.00</td>\n",
       "      <td>1.00</td>\n",
       "      <td>1</td>\n",
       "      <td>0.66</td>\n",
       "    </tr>\n",
       "    <tr>\n",
       "      <th>7526847</th>\n",
       "      <td>1.00</td>\n",
       "      <td>1.00</td>\n",
       "      <td>1</td>\n",
       "      <td>0.66</td>\n",
       "    </tr>\n",
       "    <tr>\n",
       "      <th>7524162</th>\n",
       "      <td>1.00</td>\n",
       "      <td>1.00</td>\n",
       "      <td>1</td>\n",
       "      <td>0.88</td>\n",
       "    </tr>\n",
       "    <tr>\n",
       "      <th>7291937</th>\n",
       "      <td>1.00</td>\n",
       "      <td>1.00</td>\n",
       "      <td>1</td>\n",
       "      <td>0.88</td>\n",
       "    </tr>\n",
       "    <tr>\n",
       "      <th>7529458</th>\n",
       "      <td>1.00</td>\n",
       "      <td>1.00</td>\n",
       "      <td>1</td>\n",
       "      <td>0.66</td>\n",
       "    </tr>\n",
       "    <tr>\n",
       "      <th>7377531</th>\n",
       "      <td>1.00</td>\n",
       "      <td>0.00</td>\n",
       "      <td>0</td>\n",
       "      <td>0.00</td>\n",
       "    </tr>\n",
       "    <tr>\n",
       "      <th>7526345</th>\n",
       "      <td>1.00</td>\n",
       "      <td>1.00</td>\n",
       "      <td>1</td>\n",
       "      <td>0.88</td>\n",
       "    </tr>\n",
       "    <tr>\n",
       "      <th>7525618</th>\n",
       "      <td>1.00</td>\n",
       "      <td>1.00</td>\n",
       "      <td>1</td>\n",
       "      <td>0.88</td>\n",
       "    </tr>\n",
       "    <tr>\n",
       "      <th>7528171</th>\n",
       "      <td>1.00</td>\n",
       "      <td>1.00</td>\n",
       "      <td>1</td>\n",
       "      <td>0.66</td>\n",
       "    </tr>\n",
       "    <tr>\n",
       "      <th>7529152</th>\n",
       "      <td>1.00</td>\n",
       "      <td>1.00</td>\n",
       "      <td>1</td>\n",
       "      <td>0.66</td>\n",
       "    </tr>\n",
       "    <tr>\n",
       "      <th>7525980</th>\n",
       "      <td>1.00</td>\n",
       "      <td>1.00</td>\n",
       "      <td>1</td>\n",
       "      <td>0.88</td>\n",
       "    </tr>\n",
       "    <tr>\n",
       "      <th>7287039</th>\n",
       "      <td>1.00</td>\n",
       "      <td>1.00</td>\n",
       "      <td>1</td>\n",
       "      <td>0.66</td>\n",
       "    </tr>\n",
       "    <tr>\n",
       "      <th>7529453</th>\n",
       "      <td>1.00</td>\n",
       "      <td>1.00</td>\n",
       "      <td>1</td>\n",
       "      <td>0.66</td>\n",
       "    </tr>\n",
       "    <tr>\n",
       "      <th>7098424</th>\n",
       "      <td>1.00</td>\n",
       "      <td>0.00</td>\n",
       "      <td>0</td>\n",
       "      <td>0.04</td>\n",
       "    </tr>\n",
       "    <tr>\n",
       "      <th>7379842</th>\n",
       "      <td>1.00</td>\n",
       "      <td>0.00</td>\n",
       "      <td>0</td>\n",
       "      <td>0.04</td>\n",
       "    </tr>\n",
       "    <tr>\n",
       "      <th>7524716</th>\n",
       "      <td>1.00</td>\n",
       "      <td>1.00</td>\n",
       "      <td>1</td>\n",
       "      <td>0.88</td>\n",
       "    </tr>\n",
       "    <tr>\n",
       "      <th>7530252</th>\n",
       "      <td>1.00</td>\n",
       "      <td>1.00</td>\n",
       "      <td>1</td>\n",
       "      <td>0.66</td>\n",
       "    </tr>\n",
       "    <tr>\n",
       "      <th>7526678</th>\n",
       "      <td>1.00</td>\n",
       "      <td>1.00</td>\n",
       "      <td>1</td>\n",
       "      <td>0.66</td>\n",
       "    </tr>\n",
       "    <tr>\n",
       "      <th>7330012</th>\n",
       "      <td>1.00</td>\n",
       "      <td>0.00</td>\n",
       "      <td>0</td>\n",
       "      <td>0.00</td>\n",
       "    </tr>\n",
       "    <tr>\n",
       "      <th>7526238</th>\n",
       "      <td>1.00</td>\n",
       "      <td>1.00</td>\n",
       "      <td>1</td>\n",
       "      <td>0.88</td>\n",
       "    </tr>\n",
       "  </tbody>\n",
       "</table>\n",
       "</div>"
      ],
      "text/plain": [
       "         dif_em_acount  altaPrediction  Success  AltaScore\n",
       "7528291           1.00            1.00        1       0.66\n",
       "7526847           1.00            1.00        1       0.66\n",
       "7524162           1.00            1.00        1       0.88\n",
       "7291937           1.00            1.00        1       0.88\n",
       "7529458           1.00            1.00        1       0.66\n",
       "7377531           1.00            0.00        0       0.00\n",
       "7526345           1.00            1.00        1       0.88\n",
       "7525618           1.00            1.00        1       0.88\n",
       "7528171           1.00            1.00        1       0.66\n",
       "7529152           1.00            1.00        1       0.66\n",
       "7525980           1.00            1.00        1       0.88\n",
       "7287039           1.00            1.00        1       0.66\n",
       "7529453           1.00            1.00        1       0.66\n",
       "7098424           1.00            0.00        0       0.04\n",
       "7379842           1.00            0.00        0       0.04\n",
       "7524716           1.00            1.00        1       0.88\n",
       "7530252           1.00            1.00        1       0.66\n",
       "7526678           1.00            1.00        1       0.66\n",
       "7330012           1.00            0.00        0       0.00\n",
       "7526238           1.00            1.00        1       0.88"
      ]
     },
     "execution_count": 58,
     "metadata": {},
     "output_type": "execute_result"
    }
   ],
   "source": [
    "results_df[results_df['dif_em_acount']!=0].sample(20)"
   ]
  },
  {
   "cell_type": "code",
   "execution_count": 45,
   "metadata": {
    "ExecuteTime": {
     "end_time": "2020-09-07T06:46:54.549713Z",
     "start_time": "2020-09-07T06:46:54.536706Z"
    }
   },
   "outputs": [
    {
     "data": {
      "text/html": [
       "<div>\n",
       "<style scoped>\n",
       "    .dataframe tbody tr th:only-of-type {\n",
       "        vertical-align: middle;\n",
       "    }\n",
       "\n",
       "    .dataframe tbody tr th {\n",
       "        vertical-align: top;\n",
       "    }\n",
       "\n",
       "    .dataframe thead th {\n",
       "        text-align: right;\n",
       "    }\n",
       "</style>\n",
       "<table border=\"1\" class=\"dataframe\">\n",
       "  <thead>\n",
       "    <tr style=\"text-align: right;\">\n",
       "      <th></th>\n",
       "      <th>index</th>\n",
       "      <th>Count</th>\n",
       "    </tr>\n",
       "  </thead>\n",
       "  <tbody>\n",
       "    <tr>\n",
       "      <th>0</th>\n",
       "      <td>0.00</td>\n",
       "      <td>159648</td>\n",
       "    </tr>\n",
       "    <tr>\n",
       "      <th>1</th>\n",
       "      <td>0.00</td>\n",
       "      <td>119418</td>\n",
       "    </tr>\n",
       "    <tr>\n",
       "      <th>2</th>\n",
       "      <td>0.04</td>\n",
       "      <td>15813</td>\n",
       "    </tr>\n",
       "    <tr>\n",
       "      <th>3</th>\n",
       "      <td>0.00</td>\n",
       "      <td>14301</td>\n",
       "    </tr>\n",
       "    <tr>\n",
       "      <th>4</th>\n",
       "      <td>0.01</td>\n",
       "      <td>6291</td>\n",
       "    </tr>\n",
       "  </tbody>\n",
       "</table>\n",
       "</div>"
      ],
      "text/plain": [
       "   index   Count\n",
       "0   0.00  159648\n",
       "1   0.00  119418\n",
       "2   0.04   15813\n",
       "3   0.00   14301\n",
       "4   0.01    6291"
      ]
     },
     "execution_count": 45,
     "metadata": {},
     "output_type": "execute_result"
    }
   ],
   "source": [
    "results_df['AltaScore'].value_counts(ascending=False).reset_index(name='Count').head()"
   ]
  },
  {
   "cell_type": "code",
   "execution_count": 46,
   "metadata": {
    "ExecuteTime": {
     "end_time": "2020-09-07T06:46:55.740682Z",
     "start_time": "2020-09-07T06:46:55.659684Z"
    }
   },
   "outputs": [],
   "source": [
    "results_by_score = results_df.pivot_table(index='AltaScore', values='Success', aggfunc=[len, sum, np.mean])\n",
    "results_by_score.columns = ['Count', 'Sum', 'Mean']"
   ]
  },
  {
   "cell_type": "code",
   "execution_count": 47,
   "metadata": {
    "ExecuteTime": {
     "end_time": "2020-09-07T06:46:57.314713Z",
     "start_time": "2020-09-07T06:46:56.844000Z"
    }
   },
   "outputs": [
    {
     "data": {
      "text/plain": [
       "<matplotlib.axes._subplots.AxesSubplot at 0x1caea93a208>"
      ]
     },
     "execution_count": 47,
     "metadata": {},
     "output_type": "execute_result"
    },
    {
     "data": {
      "image/png": "[encoded data removed]",
      "text/plain": [
       "<Figure size 1080x432 with 1 Axes>"
      ]
     },
     "metadata": {},
     "output_type": "display_data"
    }
   ],
   "source": [
    "fig, ax = plt.subplots(figsize = (15, 6))\n",
    "results_by_score['Mean'].plot(kind='bar')"
   ]
  },
  {
   "cell_type": "markdown",
   "metadata": {},
   "source": [
    "# Curva AUC"
   ]
  },
  {
   "cell_type": "code",
   "execution_count": 59,
   "metadata": {
    "ExecuteTime": {
     "end_time": "2020-09-08T09:52:50.469981Z",
     "start_time": "2020-09-08T09:52:50.213317Z"
    }
   },
   "outputs": [
    {
     "name": "stdout",
     "output_type": "stream",
     "text": [
      "0.9650549399348973\n"
     ]
    }
   ],
   "source": [
    "print(metrics.roc_auc_score(results_df['dif_em_acount'], results_df['AltaScore']))"
   ]
  },
  {
   "cell_type": "code",
   "execution_count": 60,
   "metadata": {
    "ExecuteTime": {
     "end_time": "2020-09-08T09:52:51.655280Z",
     "start_time": "2020-09-08T09:52:51.587319Z"
    }
   },
   "outputs": [],
   "source": [
    "fpr, tpr, _ = metrics.roc_curve(results_df['dif_em_acount'], results_df['AltaScore'])"
   ]
  },
  {
   "cell_type": "code",
   "execution_count": 61,
   "metadata": {
    "ExecuteTime": {
     "end_time": "2020-09-08T09:52:53.032505Z",
     "start_time": "2020-09-08T09:52:52.760642Z"
    }
   },
   "outputs": [
    {
     "data": {
      "image/png": "[encoded data removed]",
      "text/plain": [
       "<Figure size 1080x432 with 1 Axes>"
      ]
     },
     "metadata": {},
     "output_type": "display_data"
    }
   ],
   "source": [
    "fig, ax = plt.subplots(figsize = (15, 6))\n",
    "plt.clf()\n",
    "plt.plot(fpr, tpr)\n",
    "plt.plot([0, 1], [0, 1], color='gray', linestyle='--')\n",
    "plt.xlabel('FPR')\n",
    "plt.ylabel('TPR')\n",
    "plt.title('ROC curve')\n",
    "plt.show()"
   ]
  },
  {
   "cell_type": "code",
   "execution_count": 120,
   "metadata": {
    "ExecuteTime": {
     "end_time": "2020-09-06T16:14:17.274229Z",
     "start_time": "2020-09-06T16:14:17.262226Z"
    }
   },
   "outputs": [
    {
     "data": {
      "text/html": [
       "<div>\n",
       "<style scoped>\n",
       "    .dataframe tbody tr th:only-of-type {\n",
       "        vertical-align: middle;\n",
       "    }\n",
       "\n",
       "    .dataframe tbody tr th {\n",
       "        vertical-align: top;\n",
       "    }\n",
       "\n",
       "    .dataframe thead th {\n",
       "        text-align: right;\n",
       "    }\n",
       "</style>\n",
       "<table border=\"1\" class=\"dataframe\">\n",
       "  <thead>\n",
       "    <tr style=\"text-align: right;\">\n",
       "      <th></th>\n",
       "      <th>dif_em_acount</th>\n",
       "      <th>altaPrediction</th>\n",
       "      <th>Success</th>\n",
       "      <th>AltaScore</th>\n",
       "    </tr>\n",
       "  </thead>\n",
       "  <tbody>\n",
       "    <tr>\n",
       "      <th>5305408</th>\n",
       "      <td>0.00</td>\n",
       "      <td>0.00</td>\n",
       "      <td>1</td>\n",
       "      <td>0.00</td>\n",
       "    </tr>\n",
       "    <tr>\n",
       "      <th>5305409</th>\n",
       "      <td>0.00</td>\n",
       "      <td>0.00</td>\n",
       "      <td>1</td>\n",
       "      <td>0.00</td>\n",
       "    </tr>\n",
       "    <tr>\n",
       "      <th>5305410</th>\n",
       "      <td>0.00</td>\n",
       "      <td>0.00</td>\n",
       "      <td>1</td>\n",
       "      <td>0.00</td>\n",
       "    </tr>\n",
       "    <tr>\n",
       "      <th>5305411</th>\n",
       "      <td>0.00</td>\n",
       "      <td>0.00</td>\n",
       "      <td>1</td>\n",
       "      <td>0.00</td>\n",
       "    </tr>\n",
       "    <tr>\n",
       "      <th>5305412</th>\n",
       "      <td>0.00</td>\n",
       "      <td>0.00</td>\n",
       "      <td>1</td>\n",
       "      <td>0.00</td>\n",
       "    </tr>\n",
       "    <tr>\n",
       "      <th>...</th>\n",
       "      <td>...</td>\n",
       "      <td>...</td>\n",
       "      <td>...</td>\n",
       "      <td>...</td>\n",
       "    </tr>\n",
       "    <tr>\n",
       "      <th>5636991</th>\n",
       "      <td>0.00</td>\n",
       "      <td>0.00</td>\n",
       "      <td>1</td>\n",
       "      <td>0.42</td>\n",
       "    </tr>\n",
       "    <tr>\n",
       "      <th>5636992</th>\n",
       "      <td>0.00</td>\n",
       "      <td>0.00</td>\n",
       "      <td>1</td>\n",
       "      <td>0.42</td>\n",
       "    </tr>\n",
       "    <tr>\n",
       "      <th>5636993</th>\n",
       "      <td>0.00</td>\n",
       "      <td>0.00</td>\n",
       "      <td>1</td>\n",
       "      <td>0.42</td>\n",
       "    </tr>\n",
       "    <tr>\n",
       "      <th>5636994</th>\n",
       "      <td>0.00</td>\n",
       "      <td>0.00</td>\n",
       "      <td>1</td>\n",
       "      <td>0.42</td>\n",
       "    </tr>\n",
       "    <tr>\n",
       "      <th>5636995</th>\n",
       "      <td>0.00</td>\n",
       "      <td>0.00</td>\n",
       "      <td>1</td>\n",
       "      <td>0.42</td>\n",
       "    </tr>\n",
       "  </tbody>\n",
       "</table>\n",
       "<p>331588 rows × 4 columns</p>\n",
       "</div>"
      ],
      "text/plain": [
       "         dif_em_acount  altaPrediction  Success  AltaScore\n",
       "5305408           0.00            0.00        1       0.00\n",
       "5305409           0.00            0.00        1       0.00\n",
       "5305410           0.00            0.00        1       0.00\n",
       "5305411           0.00            0.00        1       0.00\n",
       "5305412           0.00            0.00        1       0.00\n",
       "...                ...             ...      ...        ...\n",
       "5636991           0.00            0.00        1       0.42\n",
       "5636992           0.00            0.00        1       0.42\n",
       "5636993           0.00            0.00        1       0.42\n",
       "5636994           0.00            0.00        1       0.42\n",
       "5636995           0.00            0.00        1       0.42\n",
       "\n",
       "[331588 rows x 4 columns]"
      ]
     },
     "execution_count": 120,
     "metadata": {},
     "output_type": "execute_result"
    }
   ],
   "source": [
    "results_df"
   ]
  },
  {
   "cell_type": "code",
   "execution_count": 124,
   "metadata": {
    "ExecuteTime": {
     "end_time": "2020-09-06T16:16:54.569194Z",
     "start_time": "2020-09-06T16:16:54.555185Z"
    }
   },
   "outputs": [
    {
     "data": {
      "text/html": [
       "<div>\n",
       "<style scoped>\n",
       "    .dataframe tbody tr th:only-of-type {\n",
       "        vertical-align: middle;\n",
       "    }\n",
       "\n",
       "    .dataframe tbody tr th {\n",
       "        vertical-align: top;\n",
       "    }\n",
       "\n",
       "    .dataframe thead th {\n",
       "        text-align: right;\n",
       "    }\n",
       "</style>\n",
       "<table border=\"1\" class=\"dataframe\">\n",
       "  <thead>\n",
       "    <tr style=\"text-align: right;\">\n",
       "      <th></th>\n",
       "      <th>dif_em_acount</th>\n",
       "      <th>altaPrediction</th>\n",
       "      <th>Success</th>\n",
       "      <th>AltaScore</th>\n",
       "    </tr>\n",
       "  </thead>\n",
       "  <tbody>\n",
       "    <tr>\n",
       "      <th>5305456</th>\n",
       "      <td>1.00</td>\n",
       "      <td>0.00</td>\n",
       "      <td>0</td>\n",
       "      <td>0.42</td>\n",
       "    </tr>\n",
       "    <tr>\n",
       "      <th>5305738</th>\n",
       "      <td>1.00</td>\n",
       "      <td>0.00</td>\n",
       "      <td>0</td>\n",
       "      <td>0.45</td>\n",
       "    </tr>\n",
       "    <tr>\n",
       "      <th>5305929</th>\n",
       "      <td>1.00</td>\n",
       "      <td>0.00</td>\n",
       "      <td>0</td>\n",
       "      <td>0.42</td>\n",
       "    </tr>\n",
       "    <tr>\n",
       "      <th>5305969</th>\n",
       "      <td>1.00</td>\n",
       "      <td>0.00</td>\n",
       "      <td>0</td>\n",
       "      <td>0.45</td>\n",
       "    </tr>\n",
       "    <tr>\n",
       "      <th>5306919</th>\n",
       "      <td>1.00</td>\n",
       "      <td>0.00</td>\n",
       "      <td>0</td>\n",
       "      <td>0.47</td>\n",
       "    </tr>\n",
       "    <tr>\n",
       "      <th>...</th>\n",
       "      <td>...</td>\n",
       "      <td>...</td>\n",
       "      <td>...</td>\n",
       "      <td>...</td>\n",
       "    </tr>\n",
       "    <tr>\n",
       "      <th>5636966</th>\n",
       "      <td>1.00</td>\n",
       "      <td>0.00</td>\n",
       "      <td>0</td>\n",
       "      <td>0.47</td>\n",
       "    </tr>\n",
       "    <tr>\n",
       "      <th>5636967</th>\n",
       "      <td>1.00</td>\n",
       "      <td>0.00</td>\n",
       "      <td>0</td>\n",
       "      <td>0.42</td>\n",
       "    </tr>\n",
       "    <tr>\n",
       "      <th>5636968</th>\n",
       "      <td>1.00</td>\n",
       "      <td>0.00</td>\n",
       "      <td>0</td>\n",
       "      <td>0.42</td>\n",
       "    </tr>\n",
       "    <tr>\n",
       "      <th>5636969</th>\n",
       "      <td>1.00</td>\n",
       "      <td>0.00</td>\n",
       "      <td>0</td>\n",
       "      <td>0.42</td>\n",
       "    </tr>\n",
       "    <tr>\n",
       "      <th>5636970</th>\n",
       "      <td>1.00</td>\n",
       "      <td>0.00</td>\n",
       "      <td>0</td>\n",
       "      <td>0.42</td>\n",
       "    </tr>\n",
       "  </tbody>\n",
       "</table>\n",
       "<p>212 rows × 4 columns</p>\n",
       "</div>"
      ],
      "text/plain": [
       "         dif_em_acount  altaPrediction  Success  AltaScore\n",
       "5305456           1.00            0.00        0       0.42\n",
       "5305738           1.00            0.00        0       0.45\n",
       "5305929           1.00            0.00        0       0.42\n",
       "5305969           1.00            0.00        0       0.45\n",
       "5306919           1.00            0.00        0       0.47\n",
       "...                ...             ...      ...        ...\n",
       "5636966           1.00            0.00        0       0.47\n",
       "5636967           1.00            0.00        0       0.42\n",
       "5636968           1.00            0.00        0       0.42\n",
       "5636969           1.00            0.00        0       0.42\n",
       "5636970           1.00            0.00        0       0.42\n",
       "\n",
       "[212 rows x 4 columns]"
      ]
     },
     "execution_count": 124,
     "metadata": {},
     "output_type": "execute_result"
    }
   ],
   "source": [
    "results_df[ (results_df['Success']==0) &\n",
    "            (results_df['AltaScore']> 0.40) &\n",
    "            (results_df['AltaScore']< 0.50)]"
   ]
  },
  {
   "cell_type": "code",
   "execution_count": null,
   "metadata": {},
   "outputs": [],
   "source": []
  },
  {
   "cell_type": "code",
   "execution_count": null,
   "metadata": {},
   "outputs": [],
   "source": []
  },
  {
   "cell_type": "code",
   "execution_count": null,
   "metadata": {},
   "outputs": [],
   "source": []
  },
  {
   "cell_type": "markdown",
   "metadata": {},
   "source": [
    "# Lo hacemos con valida:"
   ]
  },
  {
   "cell_type": "code",
   "execution_count": 88,
   "metadata": {
    "ExecuteTime": {
     "end_time": "2020-09-02T20:21:19.807626Z",
     "start_time": "2020-09-02T20:21:19.608740Z"
    }
   },
   "outputs": [],
   "source": [
    "y_valida_pred = pd.DataFrame(dt.predict(X_valida), index=Y_valida.index, columns=['CountPrediction'])"
   ]
  },
  {
   "cell_type": "code",
   "execution_count": 89,
   "metadata": {
    "ExecuteTime": {
     "end_time": "2020-09-02T20:21:21.224797Z",
     "start_time": "2020-09-02T20:21:21.208806Z"
    }
   },
   "outputs": [],
   "source": [
    "results_df = Y_valida.to_frame().join(y_valida_pred)"
   ]
  },
  {
   "cell_type": "code",
   "execution_count": 90,
   "metadata": {
    "ExecuteTime": {
     "end_time": "2020-09-02T20:21:22.960807Z",
     "start_time": "2020-09-02T20:21:22.944814Z"
    }
   },
   "outputs": [
    {
     "data": {
      "text/html": [
       "<div>\n",
       "<style scoped>\n",
       "    .dataframe tbody tr th:only-of-type {\n",
       "        vertical-align: middle;\n",
       "    }\n",
       "\n",
       "    .dataframe tbody tr th {\n",
       "        vertical-align: top;\n",
       "    }\n",
       "\n",
       "    .dataframe thead th {\n",
       "        text-align: right;\n",
       "    }\n",
       "</style>\n",
       "<table border=\"1\" class=\"dataframe\">\n",
       "  <thead>\n",
       "    <tr style=\"text-align: right;\">\n",
       "      <th></th>\n",
       "      <th>dif_em_acount</th>\n",
       "      <th>CountPrediction</th>\n",
       "    </tr>\n",
       "  </thead>\n",
       "  <tbody>\n",
       "    <tr>\n",
       "      <th>4973820</th>\n",
       "      <td>0.00</td>\n",
       "      <td>0.00</td>\n",
       "    </tr>\n",
       "    <tr>\n",
       "      <th>4973821</th>\n",
       "      <td>0.00</td>\n",
       "      <td>0.00</td>\n",
       "    </tr>\n",
       "    <tr>\n",
       "      <th>4973822</th>\n",
       "      <td>0.00</td>\n",
       "      <td>0.00</td>\n",
       "    </tr>\n",
       "    <tr>\n",
       "      <th>4973823</th>\n",
       "      <td>0.00</td>\n",
       "      <td>0.00</td>\n",
       "    </tr>\n",
       "    <tr>\n",
       "      <th>4973824</th>\n",
       "      <td>0.00</td>\n",
       "      <td>0.00</td>\n",
       "    </tr>\n",
       "    <tr>\n",
       "      <th>...</th>\n",
       "      <td>...</td>\n",
       "      <td>...</td>\n",
       "    </tr>\n",
       "    <tr>\n",
       "      <th>5303864</th>\n",
       "      <td>0.00</td>\n",
       "      <td>1.00</td>\n",
       "    </tr>\n",
       "    <tr>\n",
       "      <th>5303865</th>\n",
       "      <td>0.00</td>\n",
       "      <td>1.00</td>\n",
       "    </tr>\n",
       "    <tr>\n",
       "      <th>5303878</th>\n",
       "      <td>0.00</td>\n",
       "      <td>1.00</td>\n",
       "    </tr>\n",
       "    <tr>\n",
       "      <th>5303882</th>\n",
       "      <td>0.00</td>\n",
       "      <td>1.00</td>\n",
       "    </tr>\n",
       "    <tr>\n",
       "      <th>5303887</th>\n",
       "      <td>0.00</td>\n",
       "      <td>1.00</td>\n",
       "    </tr>\n",
       "  </tbody>\n",
       "</table>\n",
       "<p>328546 rows × 2 columns</p>\n",
       "</div>"
      ],
      "text/plain": [
       "         dif_em_acount  CountPrediction\n",
       "4973820           0.00             0.00\n",
       "4973821           0.00             0.00\n",
       "4973822           0.00             0.00\n",
       "4973823           0.00             0.00\n",
       "4973824           0.00             0.00\n",
       "...                ...              ...\n",
       "5303864           0.00             1.00\n",
       "5303865           0.00             1.00\n",
       "5303878           0.00             1.00\n",
       "5303882           0.00             1.00\n",
       "5303887           0.00             1.00\n",
       "\n",
       "[328546 rows x 2 columns]"
      ]
     },
     "execution_count": 90,
     "metadata": {},
     "output_type": "execute_result"
    }
   ],
   "source": [
    "results_df"
   ]
  },
  {
   "cell_type": "code",
   "execution_count": 91,
   "metadata": {
    "ExecuteTime": {
     "end_time": "2020-09-02T20:21:24.388515Z",
     "start_time": "2020-09-02T20:21:24.374525Z"
    }
   },
   "outputs": [
    {
     "data": {
      "text/html": [
       "<div>\n",
       "<style scoped>\n",
       "    .dataframe tbody tr th:only-of-type {\n",
       "        vertical-align: middle;\n",
       "    }\n",
       "\n",
       "    .dataframe tbody tr th {\n",
       "        vertical-align: top;\n",
       "    }\n",
       "\n",
       "    .dataframe thead th {\n",
       "        text-align: right;\n",
       "    }\n",
       "</style>\n",
       "<table border=\"1\" class=\"dataframe\">\n",
       "  <thead>\n",
       "    <tr style=\"text-align: right;\">\n",
       "      <th></th>\n",
       "      <th>dif_em_acount</th>\n",
       "      <th>CountPrediction</th>\n",
       "    </tr>\n",
       "  </thead>\n",
       "  <tbody>\n",
       "    <tr>\n",
       "      <th>5181980</th>\n",
       "      <td>-1.00</td>\n",
       "      <td>-1.00</td>\n",
       "    </tr>\n",
       "    <tr>\n",
       "      <th>4992964</th>\n",
       "      <td>-1.00</td>\n",
       "      <td>0.00</td>\n",
       "    </tr>\n",
       "    <tr>\n",
       "      <th>5006839</th>\n",
       "      <td>1.00</td>\n",
       "      <td>0.00</td>\n",
       "    </tr>\n",
       "    <tr>\n",
       "      <th>5073869</th>\n",
       "      <td>1.00</td>\n",
       "      <td>1.00</td>\n",
       "    </tr>\n",
       "    <tr>\n",
       "      <th>5037208</th>\n",
       "      <td>-1.00</td>\n",
       "      <td>0.00</td>\n",
       "    </tr>\n",
       "    <tr>\n",
       "      <th>5301606</th>\n",
       "      <td>1.00</td>\n",
       "      <td>1.00</td>\n",
       "    </tr>\n",
       "    <tr>\n",
       "      <th>5129021</th>\n",
       "      <td>1.00</td>\n",
       "      <td>0.00</td>\n",
       "    </tr>\n",
       "    <tr>\n",
       "      <th>5303549</th>\n",
       "      <td>1.00</td>\n",
       "      <td>1.00</td>\n",
       "    </tr>\n",
       "    <tr>\n",
       "      <th>5301028</th>\n",
       "      <td>1.00</td>\n",
       "      <td>1.00</td>\n",
       "    </tr>\n",
       "    <tr>\n",
       "      <th>5254758</th>\n",
       "      <td>-1.00</td>\n",
       "      <td>0.00</td>\n",
       "    </tr>\n",
       "    <tr>\n",
       "      <th>5252026</th>\n",
       "      <td>-1.00</td>\n",
       "      <td>0.00</td>\n",
       "    </tr>\n",
       "    <tr>\n",
       "      <th>5303510</th>\n",
       "      <td>1.00</td>\n",
       "      <td>1.00</td>\n",
       "    </tr>\n",
       "    <tr>\n",
       "      <th>5205905</th>\n",
       "      <td>1.00</td>\n",
       "      <td>0.00</td>\n",
       "    </tr>\n",
       "    <tr>\n",
       "      <th>5301076</th>\n",
       "      <td>1.00</td>\n",
       "      <td>1.00</td>\n",
       "    </tr>\n",
       "    <tr>\n",
       "      <th>5022522</th>\n",
       "      <td>-1.00</td>\n",
       "      <td>-1.00</td>\n",
       "    </tr>\n",
       "    <tr>\n",
       "      <th>5241245</th>\n",
       "      <td>-1.00</td>\n",
       "      <td>0.00</td>\n",
       "    </tr>\n",
       "    <tr>\n",
       "      <th>5137250</th>\n",
       "      <td>1.00</td>\n",
       "      <td>1.00</td>\n",
       "    </tr>\n",
       "    <tr>\n",
       "      <th>5138855</th>\n",
       "      <td>-1.00</td>\n",
       "      <td>0.00</td>\n",
       "    </tr>\n",
       "    <tr>\n",
       "      <th>5301754</th>\n",
       "      <td>1.00</td>\n",
       "      <td>1.00</td>\n",
       "    </tr>\n",
       "    <tr>\n",
       "      <th>5301900</th>\n",
       "      <td>1.00</td>\n",
       "      <td>1.00</td>\n",
       "    </tr>\n",
       "    <tr>\n",
       "      <th>5289451</th>\n",
       "      <td>-1.00</td>\n",
       "      <td>-1.00</td>\n",
       "    </tr>\n",
       "    <tr>\n",
       "      <th>5124202</th>\n",
       "      <td>1.00</td>\n",
       "      <td>0.00</td>\n",
       "    </tr>\n",
       "    <tr>\n",
       "      <th>5302423</th>\n",
       "      <td>1.00</td>\n",
       "      <td>1.00</td>\n",
       "    </tr>\n",
       "    <tr>\n",
       "      <th>4975860</th>\n",
       "      <td>1.00</td>\n",
       "      <td>1.00</td>\n",
       "    </tr>\n",
       "    <tr>\n",
       "      <th>5275595</th>\n",
       "      <td>-1.00</td>\n",
       "      <td>0.00</td>\n",
       "    </tr>\n",
       "    <tr>\n",
       "      <th>5001854</th>\n",
       "      <td>1.00</td>\n",
       "      <td>0.00</td>\n",
       "    </tr>\n",
       "    <tr>\n",
       "      <th>5290179</th>\n",
       "      <td>1.00</td>\n",
       "      <td>1.00</td>\n",
       "    </tr>\n",
       "    <tr>\n",
       "      <th>5223189</th>\n",
       "      <td>1.00</td>\n",
       "      <td>0.00</td>\n",
       "    </tr>\n",
       "    <tr>\n",
       "      <th>5296101</th>\n",
       "      <td>-1.00</td>\n",
       "      <td>0.00</td>\n",
       "    </tr>\n",
       "    <tr>\n",
       "      <th>5303272</th>\n",
       "      <td>1.00</td>\n",
       "      <td>1.00</td>\n",
       "    </tr>\n",
       "    <tr>\n",
       "      <th>5261851</th>\n",
       "      <td>1.00</td>\n",
       "      <td>1.00</td>\n",
       "    </tr>\n",
       "    <tr>\n",
       "      <th>5012232</th>\n",
       "      <td>1.00</td>\n",
       "      <td>0.00</td>\n",
       "    </tr>\n",
       "    <tr>\n",
       "      <th>5301715</th>\n",
       "      <td>1.00</td>\n",
       "      <td>1.00</td>\n",
       "    </tr>\n",
       "    <tr>\n",
       "      <th>5296891</th>\n",
       "      <td>1.00</td>\n",
       "      <td>1.00</td>\n",
       "    </tr>\n",
       "    <tr>\n",
       "      <th>5069249</th>\n",
       "      <td>-1.00</td>\n",
       "      <td>0.00</td>\n",
       "    </tr>\n",
       "    <tr>\n",
       "      <th>5302514</th>\n",
       "      <td>1.00</td>\n",
       "      <td>1.00</td>\n",
       "    </tr>\n",
       "    <tr>\n",
       "      <th>5300796</th>\n",
       "      <td>1.00</td>\n",
       "      <td>1.00</td>\n",
       "    </tr>\n",
       "    <tr>\n",
       "      <th>5246041</th>\n",
       "      <td>1.00</td>\n",
       "      <td>1.00</td>\n",
       "    </tr>\n",
       "    <tr>\n",
       "      <th>5037609</th>\n",
       "      <td>1.00</td>\n",
       "      <td>1.00</td>\n",
       "    </tr>\n",
       "    <tr>\n",
       "      <th>5301400</th>\n",
       "      <td>1.00</td>\n",
       "      <td>1.00</td>\n",
       "    </tr>\n",
       "  </tbody>\n",
       "</table>\n",
       "</div>"
      ],
      "text/plain": [
       "         dif_em_acount  CountPrediction\n",
       "5181980          -1.00            -1.00\n",
       "4992964          -1.00             0.00\n",
       "5006839           1.00             0.00\n",
       "5073869           1.00             1.00\n",
       "5037208          -1.00             0.00\n",
       "5301606           1.00             1.00\n",
       "5129021           1.00             0.00\n",
       "5303549           1.00             1.00\n",
       "5301028           1.00             1.00\n",
       "5254758          -1.00             0.00\n",
       "5252026          -1.00             0.00\n",
       "5303510           1.00             1.00\n",
       "5205905           1.00             0.00\n",
       "5301076           1.00             1.00\n",
       "5022522          -1.00            -1.00\n",
       "5241245          -1.00             0.00\n",
       "5137250           1.00             1.00\n",
       "5138855          -1.00             0.00\n",
       "5301754           1.00             1.00\n",
       "5301900           1.00             1.00\n",
       "5289451          -1.00            -1.00\n",
       "5124202           1.00             0.00\n",
       "5302423           1.00             1.00\n",
       "4975860           1.00             1.00\n",
       "5275595          -1.00             0.00\n",
       "5001854           1.00             0.00\n",
       "5290179           1.00             1.00\n",
       "5223189           1.00             0.00\n",
       "5296101          -1.00             0.00\n",
       "5303272           1.00             1.00\n",
       "5261851           1.00             1.00\n",
       "5012232           1.00             0.00\n",
       "5301715           1.00             1.00\n",
       "5296891           1.00             1.00\n",
       "5069249          -1.00             0.00\n",
       "5302514           1.00             1.00\n",
       "5300796           1.00             1.00\n",
       "5246041           1.00             1.00\n",
       "5037609           1.00             1.00\n",
       "5301400           1.00             1.00"
      ]
     },
     "execution_count": 91,
     "metadata": {},
     "output_type": "execute_result"
    }
   ],
   "source": [
    "results_df[results_df['dif_em_acount']!=0].sample(40)"
   ]
  },
  {
   "cell_type": "code",
   "execution_count": 92,
   "metadata": {
    "ExecuteTime": {
     "end_time": "2020-09-02T20:21:31.804913Z",
     "start_time": "2020-09-02T20:21:31.796936Z"
    }
   },
   "outputs": [],
   "source": [
    "results_df['error']=results_df['dif_em_acount']-results_df['CountPrediction']"
   ]
  },
  {
   "cell_type": "code",
   "execution_count": 93,
   "metadata": {
    "ExecuteTime": {
     "end_time": "2020-09-02T20:21:34.079551Z",
     "start_time": "2020-09-02T20:21:33.852695Z"
    }
   },
   "outputs": [
    {
     "data": {
      "text/plain": [
       "<matplotlib.axes._subplots.AxesSubplot at 0x239bc53f988>"
      ]
     },
     "execution_count": 93,
     "metadata": {},
     "output_type": "execute_result"
    },
    {
     "data": {
      "image/png": "[encoded data removed]",
      "text/plain": [
       "<Figure size 432x288 with 1 Axes>"
      ]
     },
     "metadata": {},
     "output_type": "display_data"
    }
   ],
   "source": [
    "results_df[results_df['dif_em_acount']==-1]['error'].hist()"
   ]
  },
  {
   "cell_type": "code",
   "execution_count": 94,
   "metadata": {
    "ExecuteTime": {
     "end_time": "2020-09-02T20:21:39.527652Z",
     "start_time": "2020-09-02T20:21:39.519671Z"
    }
   },
   "outputs": [
    {
     "data": {
      "text/plain": [
       "-1.00    1418\n",
       "0.00      332\n",
       "Name: error, dtype: int64"
      ]
     },
     "execution_count": 94,
     "metadata": {},
     "output_type": "execute_result"
    }
   ],
   "source": [
    "results_df[results_df['dif_em_acount']==-1]['error'].value_counts()"
   ]
  },
  {
   "cell_type": "code",
   "execution_count": 95,
   "metadata": {
    "ExecuteTime": {
     "end_time": "2020-09-02T20:21:41.723121Z",
     "start_time": "2020-09-02T20:21:41.502947Z"
    }
   },
   "outputs": [
    {
     "data": {
      "text/plain": [
       "<matplotlib.axes._subplots.AxesSubplot at 0x239bc5f9e48>"
      ]
     },
     "execution_count": 95,
     "metadata": {},
     "output_type": "execute_result"
    },
    {
     "data": {
      "image/png": "[encoded data removed]",
      "text/plain": [
       "<Figure size 432x288 with 1 Axes>"
      ]
     },
     "metadata": {},
     "output_type": "display_data"
    }
   ],
   "source": [
    "results_df[results_df['dif_em_acount']==1]['error'].hist()"
   ]
  },
  {
   "cell_type": "code",
   "execution_count": 96,
   "metadata": {
    "ExecuteTime": {
     "end_time": "2020-09-02T20:21:47.141469Z",
     "start_time": "2020-09-02T20:21:47.133492Z"
    }
   },
   "outputs": [
    {
     "data": {
      "text/plain": [
       "0.00    3089\n",
       "1.00     852\n",
       "Name: error, dtype: int64"
      ]
     },
     "execution_count": 96,
     "metadata": {},
     "output_type": "execute_result"
    }
   ],
   "source": [
    "results_df[results_df['dif_em_acount']==1]['error'].value_counts()"
   ]
  },
  {
   "cell_type": "code",
   "execution_count": 97,
   "metadata": {
    "ExecuteTime": {
     "end_time": "2020-09-02T20:21:49.592089Z",
     "start_time": "2020-09-02T20:21:49.324242Z"
    }
   },
   "outputs": [
    {
     "data": {
      "text/plain": [
       "<matplotlib.axes._subplots.AxesSubplot at 0x239bb5d83c8>"
      ]
     },
     "execution_count": 97,
     "metadata": {},
     "output_type": "execute_result"
    },
    {
     "data": {
      "image/png": "[encoded data removed]",
      "text/plain": [
       "<Figure size 432x288 with 1 Axes>"
      ]
     },
     "metadata": {},
     "output_type": "display_data"
    }
   ],
   "source": [
    "results_df[results_df['dif_em_acount']==0]['error'].hist()"
   ]
  },
  {
   "cell_type": "code",
   "execution_count": 98,
   "metadata": {
    "ExecuteTime": {
     "end_time": "2020-09-02T20:21:52.277330Z",
     "start_time": "2020-09-02T20:21:52.255330Z"
    }
   },
   "outputs": [
    {
     "data": {
      "text/plain": [
       "0.00     321722\n",
       "-1.00      1100\n",
       "1.00         33\n",
       "Name: error, dtype: int64"
      ]
     },
     "execution_count": 98,
     "metadata": {},
     "output_type": "execute_result"
    }
   ],
   "source": [
    "results_df[results_df['dif_em_acount']==0]['error'].value_counts()"
   ]
  },
  {
   "cell_type": "code",
   "execution_count": 99,
   "metadata": {
    "ExecuteTime": {
     "end_time": "2020-09-02T20:21:58.022411Z",
     "start_time": "2020-09-02T20:21:58.017411Z"
    }
   },
   "outputs": [],
   "source": [
    "top_features = pd.Series(dt.feature_importances_, index=X_train.columns).sort_values(ascending=False).head(20)"
   ]
  },
  {
   "cell_type": "code",
   "execution_count": 100,
   "metadata": {
    "ExecuteTime": {
     "end_time": "2020-09-02T20:21:59.490509Z",
     "start_time": "2020-09-02T20:21:59.484511Z"
    }
   },
   "outputs": [
    {
     "data": {
      "text/plain": [
       "totalAssets_shift_1              0.88\n",
       "payroll_account_shift_1          0.04\n",
       "dif_em_acount_shift_1            0.01\n",
       "age                              0.01\n",
       "dif_payroll_shift_1              0.01\n",
       "debit_card_shift_1               0.01\n",
       "month                            0.01\n",
       "entry_date_year                  0.00\n",
       "dif_short_term_deposit_shift_3   0.00\n",
       "em_acount_shift_1                0.00\n",
       "em_acount_shift_2                0.00\n",
       "entry_date_month                 0.00\n",
       "year                             0.00\n",
       "mortgage_shift_1                 0.00\n",
       "pension_plan_shift_2             0.00\n",
       "active_customer_shift_1          0.00\n",
       "payroll_shift_3                  0.00\n",
       "channel_XXX                      0.00\n",
       "em_acount_shift_3                0.00\n",
       "totalCuentas_shift_1             0.00\n",
       "dtype: float64"
      ]
     },
     "execution_count": 100,
     "metadata": {},
     "output_type": "execute_result"
    }
   ],
   "source": [
    "top_features"
   ]
  },
  {
   "cell_type": "code",
   "execution_count": null,
   "metadata": {},
   "outputs": [],
   "source": []
  },
  {
   "cell_type": "markdown",
   "metadata": {},
   "source": [
    "# Tunera modelo:"
   ]
  },
  {
   "cell_type": "code",
   "execution_count": 12,
   "metadata": {
    "ExecuteTime": {
     "end_time": "2020-09-06T15:24:32.490060Z",
     "start_time": "2020-09-06T15:24:32.486085Z"
    }
   },
   "outputs": [],
   "source": [
    "RANDOM_STATE=42"
   ]
  },
  {
   "cell_type": "code",
   "execution_count": 13,
   "metadata": {
    "ExecuteTime": {
     "end_time": "2020-09-06T15:33:47.387650Z",
     "start_time": "2020-09-06T15:25:49.191244Z"
    }
   },
   "outputs": [
    {
     "name": "stdout",
     "output_type": "stream",
     "text": [
      "Resultados para x: 6 Train: 0.9916425300228778 - Test: 0.9947222002398447\n",
      "Resultados para x: 7 Train: 0.9918306656230681 - Test: 0.9944787031344164\n",
      "Resultados para x: 8 Train: 0.99207294589508 - Test: 0.9945243588416842\n",
      "Resultados para x: 9 Train: 0.9923933589846572 - Test: 0.9944452222824202\n",
      "Resultados para x: 10 Train: 0.9927816242579096 - Test: 0.994262599453349\n"
     ]
    },
    {
     "ename": "KeyboardInterrupt",
     "evalue": "",
     "output_type": "error",
     "traceback": [
      "\u001b[1;31m---------------------------------------------------------------------------\u001b[0m",
      "\u001b[1;31mKeyboardInterrupt\u001b[0m                         Traceback (most recent call last)",
      "\u001b[1;32m<ipython-input-13-7c54b8f9caeb>\u001b[0m in \u001b[0;36m<module>\u001b[1;34m\u001b[0m\n\u001b[0;32m      4\u001b[0m \u001b[1;32mfor\u001b[0m \u001b[0mx\u001b[0m \u001b[1;32min\u001b[0m \u001b[0mrange\u001b[0m\u001b[1;33m(\u001b[0m\u001b[1;36m6\u001b[0m\u001b[1;33m,\u001b[0m\u001b[1;36m20\u001b[0m\u001b[1;33m)\u001b[0m\u001b[1;33m:\u001b[0m\u001b[1;33m\u001b[0m\u001b[1;33m\u001b[0m\u001b[0m\n\u001b[0;32m      5\u001b[0m     \u001b[0mdt\u001b[0m \u001b[1;33m=\u001b[0m \u001b[0mDecisionTreeClassifier\u001b[0m\u001b[1;33m(\u001b[0m\u001b[0mmax_depth\u001b[0m\u001b[1;33m=\u001b[0m\u001b[0mx\u001b[0m\u001b[1;33m,\u001b[0m\u001b[0mrandom_state\u001b[0m\u001b[1;33m=\u001b[0m\u001b[0mRANDOM_STATE\u001b[0m\u001b[1;33m)\u001b[0m\u001b[1;33m\u001b[0m\u001b[1;33m\u001b[0m\u001b[0m\n\u001b[1;32m----> 6\u001b[1;33m     \u001b[0mdt\u001b[0m\u001b[1;33m.\u001b[0m\u001b[0mfit\u001b[0m\u001b[1;33m(\u001b[0m\u001b[0mX_train\u001b[0m\u001b[1;33m,\u001b[0m\u001b[0mY_train\u001b[0m\u001b[1;33m)\u001b[0m\u001b[1;33m\u001b[0m\u001b[1;33m\u001b[0m\u001b[0m\n\u001b[0m\u001b[0;32m      7\u001b[0m     \u001b[0mscore_train\u001b[0m\u001b[1;33m=\u001b[0m\u001b[0mdt\u001b[0m\u001b[1;33m.\u001b[0m\u001b[0mscore\u001b[0m\u001b[1;33m(\u001b[0m\u001b[0mX_train\u001b[0m\u001b[1;33m,\u001b[0m \u001b[0mY_train\u001b[0m\u001b[1;33m)\u001b[0m\u001b[1;33m\u001b[0m\u001b[1;33m\u001b[0m\u001b[0m\n\u001b[0;32m      8\u001b[0m     \u001b[0mscore_valida\u001b[0m\u001b[1;33m=\u001b[0m\u001b[0mdt\u001b[0m\u001b[1;33m.\u001b[0m\u001b[0mscore\u001b[0m\u001b[1;33m(\u001b[0m\u001b[0mX_valida\u001b[0m\u001b[1;33m,\u001b[0m \u001b[0mY_valida\u001b[0m\u001b[1;33m)\u001b[0m\u001b[1;33m\u001b[0m\u001b[1;33m\u001b[0m\u001b[0m\n",
      "\u001b[1;32mC:\\ProgramData\\Anaconda3\\lib\\site-packages\\sklearn\\tree\\_classes.py\u001b[0m in \u001b[0;36mfit\u001b[1;34m(self, X, y, sample_weight, check_input, X_idx_sorted)\u001b[0m\n\u001b[0;32m    875\u001b[0m             \u001b[0msample_weight\u001b[0m\u001b[1;33m=\u001b[0m\u001b[0msample_weight\u001b[0m\u001b[1;33m,\u001b[0m\u001b[1;33m\u001b[0m\u001b[1;33m\u001b[0m\u001b[0m\n\u001b[0;32m    876\u001b[0m             \u001b[0mcheck_input\u001b[0m\u001b[1;33m=\u001b[0m\u001b[0mcheck_input\u001b[0m\u001b[1;33m,\u001b[0m\u001b[1;33m\u001b[0m\u001b[1;33m\u001b[0m\u001b[0m\n\u001b[1;32m--> 877\u001b[1;33m             X_idx_sorted=X_idx_sorted)\n\u001b[0m\u001b[0;32m    878\u001b[0m         \u001b[1;32mreturn\u001b[0m \u001b[0mself\u001b[0m\u001b[1;33m\u001b[0m\u001b[1;33m\u001b[0m\u001b[0m\n\u001b[0;32m    879\u001b[0m \u001b[1;33m\u001b[0m\u001b[0m\n",
      "\u001b[1;32mC:\\ProgramData\\Anaconda3\\lib\\site-packages\\sklearn\\tree\\_classes.py\u001b[0m in \u001b[0;36mfit\u001b[1;34m(self, X, y, sample_weight, check_input, X_idx_sorted)\u001b[0m\n\u001b[0;32m    365\u001b[0m                                            min_impurity_split)\n\u001b[0;32m    366\u001b[0m \u001b[1;33m\u001b[0m\u001b[0m\n\u001b[1;32m--> 367\u001b[1;33m         \u001b[0mbuilder\u001b[0m\u001b[1;33m.\u001b[0m\u001b[0mbuild\u001b[0m\u001b[1;33m(\u001b[0m\u001b[0mself\u001b[0m\u001b[1;33m.\u001b[0m\u001b[0mtree_\u001b[0m\u001b[1;33m,\u001b[0m \u001b[0mX\u001b[0m\u001b[1;33m,\u001b[0m \u001b[0my\u001b[0m\u001b[1;33m,\u001b[0m \u001b[0msample_weight\u001b[0m\u001b[1;33m,\u001b[0m \u001b[0mX_idx_sorted\u001b[0m\u001b[1;33m)\u001b[0m\u001b[1;33m\u001b[0m\u001b[1;33m\u001b[0m\u001b[0m\n\u001b[0m\u001b[0;32m    368\u001b[0m \u001b[1;33m\u001b[0m\u001b[0m\n\u001b[0;32m    369\u001b[0m         \u001b[1;32mif\u001b[0m \u001b[0mself\u001b[0m\u001b[1;33m.\u001b[0m\u001b[0mn_outputs_\u001b[0m \u001b[1;33m==\u001b[0m \u001b[1;36m1\u001b[0m \u001b[1;32mand\u001b[0m \u001b[0mis_classifier\u001b[0m\u001b[1;33m(\u001b[0m\u001b[0mself\u001b[0m\u001b[1;33m)\u001b[0m\u001b[1;33m:\u001b[0m\u001b[1;33m\u001b[0m\u001b[1;33m\u001b[0m\u001b[0m\n",
      "\u001b[1;31mKeyboardInterrupt\u001b[0m: "
     ]
    }
   ],
   "source": [
    "lista_x=[]\n",
    "lista_strain=[]\n",
    "lista_svalida=[]\n",
    "for x in range(6,20):\n",
    "    dt = DecisionTreeClassifier(max_depth=x,random_state=RANDOM_STATE)\n",
    "    dt.fit(X_train,Y_train)\n",
    "    score_train=dt.score(X_train, Y_train)\n",
    "    score_valida=dt.score(X_valida, Y_valida)\n",
    "    print('Resultados para x: {} Train: {} - Test: {}'.format(x,score_train,score_valida))\n",
    "    lista_x.append(x)\n",
    "    lista_strain.append(score_train)\n",
    "    lista_svalida.append(score_valida)\n",
    "score_df=pd.DataFrame(index=lista_x, data={'Score_train':lista_strain, 'Score_test':lista_svalida})"
   ]
  },
  {
   "cell_type": "code",
   "execution_count": null,
   "metadata": {
    "ExecuteTime": {
     "end_time": "2020-08-09T09:00:43.966494Z",
     "start_time": "2020-08-09T09:00:43.948504Z"
    }
   },
   "outputs": [],
   "source": [
    "# Vamos a pintar los resultados obtenidos para ver con que valor nos quedamos:\n",
    "fig = go.Figure()\n",
    "fig.update_layout(title_text='Relación de Score con max_depth:')\n",
    "fig.add_trace(go.Scatter(x=score_df.index,y=score_df['Score_train'], mode='lines+markers', name='Score_train'))\n",
    "fig.add_trace(go.Scatter(x=score_df.index,y=score_df['Score_test'], mode='lines+markers', name='Score_test'))\n",
    "fig.show()"
   ]
  },
  {
   "cell_type": "code",
   "execution_count": 93,
   "metadata": {
    "ExecuteTime": {
     "end_time": "2020-09-04T17:36:52.389913Z",
     "start_time": "2020-09-04T17:27:52.801604Z"
    }
   },
   "outputs": [
    {
     "name": "stdout",
     "output_type": "stream",
     "text": [
      "n_stimators: 10. Train: 0.9906127531948783 - Test: 0.9951687033306392\n",
      "n_stimators: 40. Train: 0.9906257753311393 - Test: 0.9950390243313992\n"
     ]
    },
    {
     "ename": "KeyboardInterrupt",
     "evalue": "",
     "output_type": "error",
     "traceback": [
      "\u001b[1;31m---------------------------------------------------------------------------\u001b[0m",
      "\u001b[1;31mKeyboardInterrupt\u001b[0m                         Traceback (most recent call last)",
      "\u001b[1;32m<ipython-input-93-bc18012ce85b>\u001b[0m in \u001b[0;36m<module>\u001b[1;34m\u001b[0m\n\u001b[0;32m      6\u001b[0m     xg_reg = xgb.XGBClassifier(colsample_bytree = 0.3, learning_rate = 0.05, alpha = 10, n_estimators = i, \n\u001b[0;32m      7\u001b[0m                                 max_depth=7,random_state=RANDOM_STATE)\n\u001b[1;32m----> 8\u001b[1;33m     \u001b[0mxg_reg\u001b[0m\u001b[1;33m.\u001b[0m\u001b[0mfit\u001b[0m\u001b[1;33m(\u001b[0m\u001b[0mX_train\u001b[0m\u001b[1;33m,\u001b[0m\u001b[0mY_train\u001b[0m\u001b[1;33m)\u001b[0m\u001b[1;33m\u001b[0m\u001b[1;33m\u001b[0m\u001b[0m\n\u001b[0m\u001b[0;32m      9\u001b[0m     \u001b[0mscore_train\u001b[0m\u001b[1;33m=\u001b[0m\u001b[0mxg_reg\u001b[0m\u001b[1;33m.\u001b[0m\u001b[0mscore\u001b[0m\u001b[1;33m(\u001b[0m\u001b[0mX_train\u001b[0m\u001b[1;33m,\u001b[0m \u001b[0mY_train\u001b[0m\u001b[1;33m)\u001b[0m\u001b[1;33m\u001b[0m\u001b[1;33m\u001b[0m\u001b[0m\n\u001b[0;32m     10\u001b[0m     \u001b[0mscore_test\u001b[0m\u001b[1;33m=\u001b[0m\u001b[0mxg_reg\u001b[0m\u001b[1;33m.\u001b[0m\u001b[0mscore\u001b[0m\u001b[1;33m(\u001b[0m\u001b[0mX_test\u001b[0m\u001b[1;33m,\u001b[0m \u001b[0mY_test\u001b[0m\u001b[1;33m)\u001b[0m\u001b[1;33m\u001b[0m\u001b[1;33m\u001b[0m\u001b[0m\n",
      "\u001b[1;32mC:\\ProgramData\\Anaconda3\\lib\\site-packages\\xgboost\\sklearn.py\u001b[0m in \u001b[0;36mfit\u001b[1;34m(self, X, y, sample_weight, base_margin, eval_set, eval_metric, early_stopping_rounds, verbose, xgb_model, sample_weight_eval_set, callbacks)\u001b[0m\n\u001b[0;32m    813\u001b[0m         train_dmatrix = DMatrix(X, label=training_labels, weight=sample_weight,\n\u001b[0;32m    814\u001b[0m                                 \u001b[0mbase_margin\u001b[0m\u001b[1;33m=\u001b[0m\u001b[0mbase_margin\u001b[0m\u001b[1;33m,\u001b[0m\u001b[1;33m\u001b[0m\u001b[1;33m\u001b[0m\u001b[0m\n\u001b[1;32m--> 815\u001b[1;33m                                 missing=self.missing, nthread=self.n_jobs)\n\u001b[0m\u001b[0;32m    816\u001b[0m \u001b[1;33m\u001b[0m\u001b[0m\n\u001b[0;32m    817\u001b[0m         self._Booster = train(xgb_options, train_dmatrix,\n",
      "\u001b[1;32mC:\\ProgramData\\Anaconda3\\lib\\site-packages\\xgboost\\core.py\u001b[0m in \u001b[0;36m__init__\u001b[1;34m(self, data, label, weight, base_margin, missing, silent, feature_names, feature_types, nthread)\u001b[0m\n\u001b[0;32m    471\u001b[0m             \u001b[0mself\u001b[0m\u001b[1;33m.\u001b[0m\u001b[0m_init_from_csc\u001b[0m\u001b[1;33m(\u001b[0m\u001b[0mdata\u001b[0m\u001b[1;33m)\u001b[0m\u001b[1;33m\u001b[0m\u001b[1;33m\u001b[0m\u001b[0m\n\u001b[0;32m    472\u001b[0m         \u001b[1;32melif\u001b[0m \u001b[0misinstance\u001b[0m\u001b[1;33m(\u001b[0m\u001b[0mdata\u001b[0m\u001b[1;33m,\u001b[0m \u001b[0mnp\u001b[0m\u001b[1;33m.\u001b[0m\u001b[0mndarray\u001b[0m\u001b[1;33m)\u001b[0m\u001b[1;33m:\u001b[0m\u001b[1;33m\u001b[0m\u001b[1;33m\u001b[0m\u001b[0m\n\u001b[1;32m--> 473\u001b[1;33m             \u001b[0mself\u001b[0m\u001b[1;33m.\u001b[0m\u001b[0m_init_from_npy2d\u001b[0m\u001b[1;33m(\u001b[0m\u001b[0mdata\u001b[0m\u001b[1;33m,\u001b[0m \u001b[0mmissing\u001b[0m\u001b[1;33m,\u001b[0m \u001b[0mnthread\u001b[0m\u001b[1;33m)\u001b[0m\u001b[1;33m\u001b[0m\u001b[1;33m\u001b[0m\u001b[0m\n\u001b[0m\u001b[0;32m    474\u001b[0m         \u001b[1;32melif\u001b[0m \u001b[0mlazy_isinstance\u001b[0m\u001b[1;33m(\u001b[0m\u001b[0mdata\u001b[0m\u001b[1;33m,\u001b[0m \u001b[1;34m'datatable'\u001b[0m\u001b[1;33m,\u001b[0m \u001b[1;34m'Frame'\u001b[0m\u001b[1;33m)\u001b[0m\u001b[1;33m:\u001b[0m\u001b[1;33m\u001b[0m\u001b[1;33m\u001b[0m\u001b[0m\n\u001b[0;32m    475\u001b[0m             \u001b[0mself\u001b[0m\u001b[1;33m.\u001b[0m\u001b[0m_init_from_dt\u001b[0m\u001b[1;33m(\u001b[0m\u001b[0mdata\u001b[0m\u001b[1;33m,\u001b[0m \u001b[0mnthread\u001b[0m\u001b[1;33m)\u001b[0m\u001b[1;33m\u001b[0m\u001b[1;33m\u001b[0m\u001b[0m\n",
      "\u001b[1;32mC:\\ProgramData\\Anaconda3\\lib\\site-packages\\xgboost\\core.py\u001b[0m in \u001b[0;36m_init_from_npy2d\u001b[1;34m(self, mat, missing, nthread)\u001b[0m\n\u001b[0;32m    547\u001b[0m         \u001b[1;31m# data copies if possible (reshape returns a view when possible and we\u001b[0m\u001b[1;33m\u001b[0m\u001b[1;33m\u001b[0m\u001b[1;33m\u001b[0m\u001b[0m\n\u001b[0;32m    548\u001b[0m         \u001b[1;31m# explicitly tell np.array to try and avoid copying)\u001b[0m\u001b[1;33m\u001b[0m\u001b[1;33m\u001b[0m\u001b[1;33m\u001b[0m\u001b[0m\n\u001b[1;32m--> 549\u001b[1;33m         \u001b[0mdata\u001b[0m \u001b[1;33m=\u001b[0m \u001b[0mnp\u001b[0m\u001b[1;33m.\u001b[0m\u001b[0marray\u001b[0m\u001b[1;33m(\u001b[0m\u001b[0mmat\u001b[0m\u001b[1;33m.\u001b[0m\u001b[0mreshape\u001b[0m\u001b[1;33m(\u001b[0m\u001b[0mmat\u001b[0m\u001b[1;33m.\u001b[0m\u001b[0msize\u001b[0m\u001b[1;33m)\u001b[0m\u001b[1;33m,\u001b[0m \u001b[0mcopy\u001b[0m\u001b[1;33m=\u001b[0m\u001b[1;32mFalse\u001b[0m\u001b[1;33m,\u001b[0m \u001b[0mdtype\u001b[0m\u001b[1;33m=\u001b[0m\u001b[0mnp\u001b[0m\u001b[1;33m.\u001b[0m\u001b[0mfloat32\u001b[0m\u001b[1;33m)\u001b[0m\u001b[1;33m\u001b[0m\u001b[1;33m\u001b[0m\u001b[0m\n\u001b[0m\u001b[0;32m    550\u001b[0m         \u001b[0mhandle\u001b[0m \u001b[1;33m=\u001b[0m \u001b[0mctypes\u001b[0m\u001b[1;33m.\u001b[0m\u001b[0mc_void_p\u001b[0m\u001b[1;33m(\u001b[0m\u001b[1;33m)\u001b[0m\u001b[1;33m\u001b[0m\u001b[1;33m\u001b[0m\u001b[0m\n\u001b[0;32m    551\u001b[0m         \u001b[0mmissing\u001b[0m \u001b[1;33m=\u001b[0m \u001b[0mmissing\u001b[0m \u001b[1;32mif\u001b[0m \u001b[0mmissing\u001b[0m \u001b[1;32mis\u001b[0m \u001b[1;32mnot\u001b[0m \u001b[1;32mNone\u001b[0m \u001b[1;32melse\u001b[0m \u001b[0mnp\u001b[0m\u001b[1;33m.\u001b[0m\u001b[0mnan\u001b[0m\u001b[1;33m\u001b[0m\u001b[1;33m\u001b[0m\u001b[0m\n",
      "\u001b[1;31mKeyboardInterrupt\u001b[0m: "
     ]
    }
   ],
   "source": [
    "RANDOM_STATE=42\n",
    "lista_x=[]\n",
    "lista_strain=[]\n",
    "lista_stest=[]\n",
    "for i in range(10,100,30):\n",
    "    xg_reg = xgb.XGBClassifier(colsample_bytree = 0.3, learning_rate = 0.05, alpha = 10, n_estimators = i, \n",
    "                                max_depth=7,random_state=RANDOM_STATE)\n",
    "    xg_reg.fit(X_train,Y_train)\n",
    "    score_train=xg_reg.score(X_train, Y_train)\n",
    "    score_test=xg_reg.score(X_test, Y_test)\n",
    "    print('n_stimators: {}. Train: {} - Test: {}'.format(i,score_train,score_test))\n",
    "    lista_x.append(i)\n",
    "    lista_strain.append(score_train)\n",
    "    lista_stest.append(score_test)\n",
    "score_df=pd.DataFrame(index=lista_x, data={'Score_train':lista_strain, 'Score_test':lista_stest})\n"
   ]
  },
  {
   "cell_type": "code",
   "execution_count": null,
   "metadata": {},
   "outputs": [],
   "source": [
    "# Vamos a pintar los resultados obtenidos para ver con que valor nos quedamos:\n",
    "fig = go.Figure()\n",
    "fig.update_layout(title_text='Relación de Score con max_depth:')\n",
    "fig.add_trace(go.Scatter(x=score_df.index,y=score_df['Score_train'], mode='lines+markers', name='Score_train'))\n",
    "fig.add_trace(go.Scatter(x=score_df.index,y=score_df['Score_test'], mode='lines+markers', name='Score_test'))\n",
    "fig.show()"
   ]
  }
 ],
 "metadata": {
  "kernelspec": {
   "display_name": "Python 3",
   "language": "python",
   "name": "python3"
  },
  "language_info": {
   "codemirror_mode": {
    "name": "ipython",
    "version": 3
   },
   "file_extension": ".py",
   "mimetype": "text/x-python",
   "name": "python",
   "nbconvert_exporter": "python",
   "pygments_lexer": "ipython3",
   "version": "3.7.6"
  },
  "toc": {
   "base_numbering": 1,
   "nav_menu": {},
   "number_sections": true,
   "sideBar": true,
   "skip_h1_title": false,
   "title_cell": "Table of Contents",
   "title_sidebar": "Contents",
   "toc_cell": false,
   "toc_position": {},
   "toc_section_display": true,
   "toc_window_display": false
  },
  "varInspector": {
   "cols": {
    "lenName": 16,
    "lenType": 16,
    "lenVar": 40
   },
   "kernels_config": {
    "python": {
     "delete_cmd_postfix": "",
     "delete_cmd_prefix": "del ",
     "library": "var_list.py",
     "varRefreshCmd": "print(var_dic_list())"
    },
    "r": {
     "delete_cmd_postfix": ") ",
     "delete_cmd_prefix": "rm(",
     "library": "var_list.r",
     "varRefreshCmd": "cat(var_dic_list()) "
    }
   },
   "types_to_exclude": [
    "module",
    "function",
    "builtin_function_or_method",
    "instance",
    "_Feature"
   ],
   "window_display": false
  }
 },
 "nbformat": 4,
 "nbformat_minor": 4
}
